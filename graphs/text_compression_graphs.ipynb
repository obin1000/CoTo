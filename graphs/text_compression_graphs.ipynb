{
 "cells": [
  {
   "cell_type": "code",
   "execution_count": 16,
   "id": "initial_id",
   "metadata": {
    "ExecuteTime": {
     "end_time": "2024-02-07T14:29:06.191660240Z",
     "start_time": "2024-02-07T14:29:06.141706460Z"
    },
    "collapsed": true
   },
   "outputs": [
    {
     "data": {
      "text/html": [
       "<div>\n",
       "<style scoped>\n",
       "    .dataframe tbody tr th:only-of-type {\n",
       "        vertical-align: middle;\n",
       "    }\n",
       "\n",
       "    .dataframe tbody tr th {\n",
       "        vertical-align: top;\n",
       "    }\n",
       "\n",
       "    .dataframe thead th {\n",
       "        text-align: right;\n",
       "    }\n",
       "</style>\n",
       "<table border=\"1\" class=\"dataframe\">\n",
       "  <thead>\n",
       "    <tr style=\"text-align: right;\">\n",
       "      <th></th>\n",
       "      <th>program</th>\n",
       "      <th>version</th>\n",
       "      <th>args</th>\n",
       "      <th>enwik8</th>\n",
       "      <th>enwik9</th>\n",
       "      <th>decompresser</th>\n",
       "      <th>Unnamed: 6</th>\n",
       "      <th>total size enwik9+prog</th>\n",
       "      <th>comp time</th>\n",
       "      <th>decomp time</th>\n",
       "      <th>mem</th>\n",
       "      <th>alg</th>\n",
       "      <th>Note</th>\n",
       "      <th>ratio_enwik8</th>\n",
       "      <th>ratio_enwik9</th>\n",
       "      <th>decomp_throughput</th>\n",
       "      <th>comp_throughput</th>\n",
       "    </tr>\n",
       "  </thead>\n",
       "  <tbody>\n",
       "    <tr>\n",
       "      <th>0</th>\n",
       "      <td>ulz</td>\n",
       "      <td>0.06</td>\n",
       "      <td>c9</td>\n",
       "      <td>32945292.0</td>\n",
       "      <td>291028084</td>\n",
       "      <td>49450</td>\n",
       "      <td>x</td>\n",
       "      <td>291077534.0</td>\n",
       "      <td>325.0</td>\n",
       "      <td>1.1</td>\n",
       "      <td>490</td>\n",
       "      <td>LZ77</td>\n",
       "      <td>82.0</td>\n",
       "      <td>3.035335</td>\n",
       "      <td>3.436095</td>\n",
       "      <td>909.090909</td>\n",
       "      <td>3.076923</td>\n",
       "    </tr>\n",
       "    <tr>\n",
       "      <th>1</th>\n",
       "      <td>nakamichi</td>\n",
       "      <td>2019-Jul-01</td>\n",
       "      <td>NaN</td>\n",
       "      <td>32917888.0</td>\n",
       "      <td>277293058</td>\n",
       "      <td>112899</td>\n",
       "      <td>s</td>\n",
       "      <td>277405957.0</td>\n",
       "      <td>8200000.0</td>\n",
       "      <td>1.3</td>\n",
       "      <td>302000</td>\n",
       "      <td>LZSS</td>\n",
       "      <td>85.0</td>\n",
       "      <td>3.037862</td>\n",
       "      <td>3.606293</td>\n",
       "      <td>769.230769</td>\n",
       "      <td>0.000122</td>\n",
       "    </tr>\n",
       "    <tr>\n",
       "      <th>2</th>\n",
       "      <td>lz4x</td>\n",
       "      <td>1.02</td>\n",
       "      <td>c4</td>\n",
       "      <td>41950112.0</td>\n",
       "      <td>372068437</td>\n",
       "      <td>48609</td>\n",
       "      <td>x</td>\n",
       "      <td>372117046.0</td>\n",
       "      <td>79.0</td>\n",
       "      <td>1.4</td>\n",
       "      <td>114</td>\n",
       "      <td>LZ77</td>\n",
       "      <td>68.0</td>\n",
       "      <td>2.383784</td>\n",
       "      <td>2.687678</td>\n",
       "      <td>714.285714</td>\n",
       "      <td>12.658228</td>\n",
       "    </tr>\n",
       "    <tr>\n",
       "      <th>3</th>\n",
       "      <td>lzf</td>\n",
       "      <td>1.02</td>\n",
       "      <td>cx</td>\n",
       "      <td>45198298.0</td>\n",
       "      <td>406805983</td>\n",
       "      <td>48359</td>\n",
       "      <td>x</td>\n",
       "      <td>406854342.0</td>\n",
       "      <td>68.0</td>\n",
       "      <td>2.2</td>\n",
       "      <td>151</td>\n",
       "      <td>LZ77</td>\n",
       "      <td>68.0</td>\n",
       "      <td>2.212473</td>\n",
       "      <td>2.458174</td>\n",
       "      <td>454.545455</td>\n",
       "      <td>14.705882</td>\n",
       "    </tr>\n",
       "    <tr>\n",
       "      <th>4</th>\n",
       "      <td>zstd</td>\n",
       "      <td>0.6.0</td>\n",
       "      <td>-22 --ultra</td>\n",
       "      <td>25405601.0</td>\n",
       "      <td>215674670</td>\n",
       "      <td>69687</td>\n",
       "      <td>s</td>\n",
       "      <td>215744357.0</td>\n",
       "      <td>701.0</td>\n",
       "      <td>2.2</td>\n",
       "      <td>792</td>\n",
       "      <td>LZ77</td>\n",
       "      <td>76.0</td>\n",
       "      <td>3.936140</td>\n",
       "      <td>4.636613</td>\n",
       "      <td>454.545455</td>\n",
       "      <td>1.426534</td>\n",
       "    </tr>\n",
       "    <tr>\n",
       "      <th>...</th>\n",
       "      <td>...</td>\n",
       "      <td>...</td>\n",
       "      <td>...</td>\n",
       "      <td>...</td>\n",
       "      <td>...</td>\n",
       "      <td>...</td>\n",
       "      <td>...</td>\n",
       "      <td>...</td>\n",
       "      <td>...</td>\n",
       "      <td>...</td>\n",
       "      <td>...</td>\n",
       "      <td>...</td>\n",
       "      <td>...</td>\n",
       "      <td>...</td>\n",
       "      <td>...</td>\n",
       "      <td>...</td>\n",
       "      <td>...</td>\n",
       "    </tr>\n",
       "    <tr>\n",
       "      <th>202</th>\n",
       "      <td>cmix</td>\n",
       "      <td>v20</td>\n",
       "      <td>NaN</td>\n",
       "      <td>14760552.0</td>\n",
       "      <td>109877715</td>\n",
       "      <td>241725</td>\n",
       "      <td>sd</td>\n",
       "      <td>110119440.0</td>\n",
       "      <td>621780.0</td>\n",
       "      <td>619024.0</td>\n",
       "      <td>31650</td>\n",
       "      <td>CM</td>\n",
       "      <td>83.0</td>\n",
       "      <td>6.774814</td>\n",
       "      <td>9.101027</td>\n",
       "      <td>0.001615</td>\n",
       "      <td>0.001608</td>\n",
       "    </tr>\n",
       "    <tr>\n",
       "      <th>203</th>\n",
       "      <td>cmve</td>\n",
       "      <td>0.2.0</td>\n",
       "      <td>-m230x7fed7dfd</td>\n",
       "      <td>16424248.0</td>\n",
       "      <td>129876858</td>\n",
       "      <td>307787</td>\n",
       "      <td>x</td>\n",
       "      <td>130184645.0</td>\n",
       "      <td>1140801.0</td>\n",
       "      <td>NaN</td>\n",
       "      <td>19963</td>\n",
       "      <td>CM</td>\n",
       "      <td>81.0</td>\n",
       "      <td>6.088559</td>\n",
       "      <td>7.699601</td>\n",
       "      <td>NaN</td>\n",
       "      <td>0.000877</td>\n",
       "    </tr>\n",
       "    <tr>\n",
       "      <th>204</th>\n",
       "      <td>WinRK</td>\n",
       "      <td>3.03</td>\n",
       "      <td>pwcm +td 800MB SFX</td>\n",
       "      <td>18612453.0</td>\n",
       "      <td>156291924</td>\n",
       "      <td>99665</td>\n",
       "      <td>xd</td>\n",
       "      <td>156391589.0</td>\n",
       "      <td>68555.0</td>\n",
       "      <td>NaN</td>\n",
       "      <td>800</td>\n",
       "      <td>CM</td>\n",
       "      <td>10.0</td>\n",
       "      <td>5.372747</td>\n",
       "      <td>6.398283</td>\n",
       "      <td>NaN</td>\n",
       "      <td>0.014587</td>\n",
       "    </tr>\n",
       "    <tr>\n",
       "      <th>205</th>\n",
       "      <td>bwtdisk</td>\n",
       "      <td>0.9.0</td>\n",
       "      <td>-b 2 -m 3500</td>\n",
       "      <td>24725277.0</td>\n",
       "      <td>190004306</td>\n",
       "      <td>169579</td>\n",
       "      <td>s</td>\n",
       "      <td>190173885.0</td>\n",
       "      <td>1124.0</td>\n",
       "      <td>NaN</td>\n",
       "      <td>3500</td>\n",
       "      <td>BWT</td>\n",
       "      <td>48.0</td>\n",
       "      <td>4.044444</td>\n",
       "      <td>5.263039</td>\n",
       "      <td>NaN</td>\n",
       "      <td>0.889680</td>\n",
       "    </tr>\n",
       "    <tr>\n",
       "      <th>206</th>\n",
       "      <td>TarsaLZP</td>\n",
       "      <td>Jan 29 2012</td>\n",
       "      <td>NaN</td>\n",
       "      <td>24751389.0</td>\n",
       "      <td>208867187</td>\n",
       "      <td>13081</td>\n",
       "      <td>s</td>\n",
       "      <td>208880268.0</td>\n",
       "      <td>203.0</td>\n",
       "      <td>NaN</td>\n",
       "      <td>~2000</td>\n",
       "      <td>LZP</td>\n",
       "      <td>54.0</td>\n",
       "      <td>4.040177</td>\n",
       "      <td>4.787731</td>\n",
       "      <td>NaN</td>\n",
       "      <td>4.926108</td>\n",
       "    </tr>\n",
       "  </tbody>\n",
       "</table>\n",
       "<p>207 rows × 17 columns</p>\n",
       "</div>"
      ],
      "text/plain": [
       "       program      version                args      enwik8     enwik9  \\\n",
       "0          ulz         0.06                  c9  32945292.0  291028084   \n",
       "1    nakamichi  2019-Jul-01                 NaN  32917888.0  277293058   \n",
       "2         lz4x         1.02                  c4  41950112.0  372068437   \n",
       "3          lzf         1.02                  cx  45198298.0  406805983   \n",
       "4         zstd        0.6.0         -22 --ultra  25405601.0  215674670   \n",
       "..         ...          ...                 ...         ...        ...   \n",
       "202       cmix          v20                 NaN  14760552.0  109877715   \n",
       "203       cmve        0.2.0      -m230x7fed7dfd  16424248.0  129876858   \n",
       "204      WinRK         3.03  pwcm +td 800MB SFX  18612453.0  156291924   \n",
       "205    bwtdisk        0.9.0        -b 2 -m 3500  24725277.0  190004306   \n",
       "206   TarsaLZP  Jan 29 2012                 NaN  24751389.0  208867187   \n",
       "\n",
       "     decompresser Unnamed: 6  total size enwik9+prog  comp time  decomp time  \\\n",
       "0           49450          x             291077534.0      325.0          1.1   \n",
       "1          112899          s             277405957.0  8200000.0          1.3   \n",
       "2           48609          x             372117046.0       79.0          1.4   \n",
       "3           48359          x             406854342.0       68.0          2.2   \n",
       "4           69687          s             215744357.0      701.0          2.2   \n",
       "..            ...        ...                     ...        ...          ...   \n",
       "202        241725         sd             110119440.0   621780.0     619024.0   \n",
       "203        307787          x             130184645.0  1140801.0          NaN   \n",
       "204         99665         xd             156391589.0    68555.0          NaN   \n",
       "205        169579          s             190173885.0     1124.0          NaN   \n",
       "206         13081          s             208880268.0      203.0          NaN   \n",
       "\n",
       "        mem   alg  Note  ratio_enwik8  ratio_enwik9  decomp_throughput  \\\n",
       "0       490  LZ77  82.0      3.035335      3.436095         909.090909   \n",
       "1    302000  LZSS  85.0      3.037862      3.606293         769.230769   \n",
       "2       114  LZ77  68.0      2.383784      2.687678         714.285714   \n",
       "3       151  LZ77  68.0      2.212473      2.458174         454.545455   \n",
       "4       792  LZ77  76.0      3.936140      4.636613         454.545455   \n",
       "..      ...   ...   ...           ...           ...                ...   \n",
       "202   31650    CM  83.0      6.774814      9.101027           0.001615   \n",
       "203   19963    CM  81.0      6.088559      7.699601                NaN   \n",
       "204     800    CM  10.0      5.372747      6.398283                NaN   \n",
       "205    3500   BWT  48.0      4.044444      5.263039                NaN   \n",
       "206   ~2000   LZP  54.0      4.040177      4.787731                NaN   \n",
       "\n",
       "     comp_throughput  \n",
       "0           3.076923  \n",
       "1           0.000122  \n",
       "2          12.658228  \n",
       "3          14.705882  \n",
       "4           1.426534  \n",
       "..               ...  \n",
       "202         0.001608  \n",
       "203         0.000877  \n",
       "204         0.014587  \n",
       "205         0.889680  \n",
       "206         4.926108  \n",
       "\n",
       "[207 rows x 17 columns]"
      ]
     },
     "execution_count": 16,
     "metadata": {},
     "output_type": "execute_result"
    }
   ],
   "source": [
    "import matplotlib.pyplot as plt\n",
    "import numpy as np\n",
    "import pandas as pd\n",
    "from paretoset import paretoset\n",
    "import plotly.express as px\n",
    "\n",
    "ENWIK8_SIZE=1e8\n",
    "ENWIK9_SIZE=1e9\n",
    "\n",
    "\n",
    "\n",
    "hutter_csv = \"../data/hutter/large_text_compression_benchmark.csv\"\n",
    "\n",
    "hutter_df = pd.read_csv(hutter_csv)\n",
    "\n",
    "\n",
    "\n",
    "def ns_byte_to_mb_s(data):\n",
    "    return 1/(data*(pow(10,-3)))\n",
    "\n",
    "\n",
    "hutter_df['ratio_enwik8'] = ENWIK8_SIZE/hutter_df['enwik8']\n",
    "hutter_df['ratio_enwik9'] = ENWIK9_SIZE/hutter_df['enwik9']\n",
    "\n",
    "hutter_df['decomp_throughput'] = ns_byte_to_mb_s(hutter_df['decomp time'])\n",
    "hutter_df['comp_throughput'] = ns_byte_to_mb_s(hutter_df['comp time'])\n",
    "\n",
    "hutter_df.sort_values([\"decomp time\"],  \n",
    "                    axis=0, \n",
    "                    ascending=[True],  \n",
    "                    inplace=True, ignore_index=True)\n",
    "\n",
    "\n",
    "hutter_df"
   ]
  },
  {
   "cell_type": "code",
   "execution_count": 17,
   "id": "37873315",
   "metadata": {},
   "outputs": [],
   "source": [
    "custom_csv = \"../data/hutter/customs.csv\"\n",
    "custom_df = pd.read_csv(custom_csv)\n",
    "\n",
    "\n",
    "custom_df['ratio_enwik8'] = ENWIK8_SIZE/custom_df['enwik8']\n",
    "custom_df['ratio_enwik9'] = ENWIK9_SIZE/custom_df['enwik9']\n",
    "\n",
    "custom_df['decomp_throughput'] = ns_byte_to_mb_s(custom_df['decomp time'])\n",
    "custom_df['comp_throughput'] = ns_byte_to_mb_s(custom_df['comp time'])\n",
    "\n",
    "custom_df.sort_values([\"decomp time\"],  \n",
    "                    axis=0, \n",
    "                    ascending=[True],  \n",
    "                    inplace=True, ignore_index=True)"
   ]
  },
  {
   "cell_type": "code",
   "execution_count": 18,
   "id": "4cedfef8423c68ac",
   "metadata": {
    "ExecuteTime": {
     "end_time": "2024-02-07T14:29:06.462815596Z",
     "start_time": "2024-02-07T14:29:06.191181232Z"
    },
    "collapsed": false
   },
   "outputs": [
    {
     "data": {
      "application/vnd.plotly.v1+json": {
       "config": {
        "plotlyServerURL": "https://plot.ly"
       },
       "data": [
        {
         "hovertemplate": "program=ulz<br>ratio_enwik8=%{x}<br>decomp_throughput=%{y}<extra></extra>",
         "legendgroup": "ulz",
         "marker": {
          "color": "#636efa",
          "symbol": "circle"
         },
         "mode": "markers",
         "name": "ulz",
         "orientation": "v",
         "showlegend": true,
         "type": "scatter",
         "x": [
          3.035335063959973
         ],
         "xaxis": "x",
         "y": [
          909.090909090909
         ],
         "yaxis": "y"
        },
        {
         "hovertemplate": "program=nakamichi<br>ratio_enwik8=%{x}<br>decomp_throughput=%{y}<extra></extra>",
         "legendgroup": "nakamichi",
         "marker": {
          "color": "#EF553B",
          "symbol": "circle"
         },
         "mode": "markers",
         "name": "nakamichi",
         "orientation": "v",
         "showlegend": true,
         "type": "scatter",
         "x": [
          3.0378619673291314
         ],
         "xaxis": "x",
         "y": [
          769.2307692307692
         ],
         "yaxis": "y"
        },
        {
         "hovertemplate": "program=lz4x<br>ratio_enwik8=%{x}<br>decomp_throughput=%{y}<extra></extra>",
         "legendgroup": "lz4x",
         "marker": {
          "color": "#00cc96",
          "symbol": "circle"
         },
         "mode": "markers",
         "name": "lz4x",
         "orientation": "v",
         "showlegend": true,
         "type": "scatter",
         "x": [
          2.3837838621265184
         ],
         "xaxis": "x",
         "y": [
          714.2857142857143
         ],
         "yaxis": "y"
        },
        {
         "hovertemplate": "program=lzf<br>ratio_enwik8=%{x}<br>decomp_throughput=%{y}<extra></extra>",
         "legendgroup": "lzf",
         "marker": {
          "color": "#ab63fa",
          "symbol": "circle"
         },
         "mode": "markers",
         "name": "lzf",
         "orientation": "v",
         "showlegend": true,
         "type": "scatter",
         "x": [
          2.2124726908964583
         ],
         "xaxis": "x",
         "y": [
          454.5454545454545
         ],
         "yaxis": "y"
        },
        {
         "hovertemplate": "program=zstd<br>ratio_enwik8=%{x}<br>decomp_throughput=%{y}<extra></extra>",
         "legendgroup": "zstd",
         "marker": {
          "color": "#FFA15A",
          "symbol": "circle"
         },
         "mode": "markers",
         "name": "zstd",
         "orientation": "v",
         "showlegend": true,
         "type": "scatter",
         "x": [
          3.9361399086760436
         ],
         "xaxis": "x",
         "y": [
          454.5454545454545
         ],
         "yaxis": "y"
        },
        {
         "hovertemplate": "program=lzss<br>ratio_enwik8=%{x}<br>decomp_throughput=%{y}<extra></extra>",
         "legendgroup": "lzss",
         "marker": {
          "color": "#19d3f3",
          "symbol": "circle"
         },
         "mode": "markers",
         "name": "lzss",
         "orientation": "v",
         "showlegend": true,
         "type": "scatter",
         "x": [
          2.332394863161542
         ],
         "xaxis": "x",
         "y": [
          434.7826086956522
         ],
         "yaxis": "y"
        },
        {
         "hovertemplate": "program=lzv<br>ratio_enwik8=%{x}<br>decomp_throughput=%{y}<extra></extra>",
         "legendgroup": "lzv",
         "marker": {
          "color": "#FF6692",
          "symbol": "circle"
         },
         "mode": "markers",
         "name": "lzv",
         "orientation": "v",
         "showlegend": true,
         "type": "scatter",
         "x": [
          1.8198081641944481
         ],
         "xaxis": "x",
         "y": [
          384.6153846153846
         ],
         "yaxis": "y"
        },
        {
         "hovertemplate": "program=crush<br>ratio_enwik8=%{x}<br>decomp_throughput=%{y}<extra></extra>",
         "legendgroup": "crush",
         "marker": {
          "color": "#B6E880",
          "symbol": "circle"
         },
         "mode": "markers",
         "name": "crush",
         "orientation": "v",
         "showlegend": true,
         "type": "scatter",
         "x": [
          3.1514216173215495
         ],
         "xaxis": "x",
         "y": [
          344.82758620689657
         ],
         "yaxis": "y"
        },
        {
         "hovertemplate": "program=doboz<br>ratio_enwik8=%{x}<br>decomp_throughput=%{y}<extra></extra>",
         "legendgroup": "doboz",
         "marker": {
          "color": "#FF97FF",
          "symbol": "circle"
         },
         "mode": "markers",
         "name": "doboz",
         "orientation": "v",
         "showlegend": true,
         "type": "scatter",
         "x": [
          2.749713136177068
         ],
         "xaxis": "x",
         "y": [
          294.11764705882354
         ],
         "yaxis": "y"
        },
        {
         "hovertemplate": "program=zhuff<br>ratio_enwik8=%{x}<br>decomp_throughput=%{y}<extra></extra>",
         "legendgroup": "zhuff",
         "marker": {
          "color": "#FECB52",
          "symbol": "circle"
         },
         "mode": "markers",
         "name": "zhuff",
         "orientation": "v",
         "showlegend": true,
         "type": "scatter",
         "x": [
          2.8647156921505474
         ],
         "xaxis": "x",
         "y": [
          285.7142857142857
         ],
         "yaxis": "y"
        }
       ],
       "layout": {
        "legend": {
         "title": {
          "text": "program"
         },
         "tracegroupgap": 0
        },
        "template": {
         "data": {
          "bar": [
           {
            "error_x": {
             "color": "#2a3f5f"
            },
            "error_y": {
             "color": "#2a3f5f"
            },
            "marker": {
             "line": {
              "color": "#E5ECF6",
              "width": 0.5
             },
             "pattern": {
              "fillmode": "overlay",
              "size": 10,
              "solidity": 0.2
             }
            },
            "type": "bar"
           }
          ],
          "barpolar": [
           {
            "marker": {
             "line": {
              "color": "#E5ECF6",
              "width": 0.5
             },
             "pattern": {
              "fillmode": "overlay",
              "size": 10,
              "solidity": 0.2
             }
            },
            "type": "barpolar"
           }
          ],
          "carpet": [
           {
            "aaxis": {
             "endlinecolor": "#2a3f5f",
             "gridcolor": "white",
             "linecolor": "white",
             "minorgridcolor": "white",
             "startlinecolor": "#2a3f5f"
            },
            "baxis": {
             "endlinecolor": "#2a3f5f",
             "gridcolor": "white",
             "linecolor": "white",
             "minorgridcolor": "white",
             "startlinecolor": "#2a3f5f"
            },
            "type": "carpet"
           }
          ],
          "choropleth": [
           {
            "colorbar": {
             "outlinewidth": 0,
             "ticks": ""
            },
            "type": "choropleth"
           }
          ],
          "contour": [
           {
            "colorbar": {
             "outlinewidth": 0,
             "ticks": ""
            },
            "colorscale": [
             [
              0,
              "#0d0887"
             ],
             [
              0.1111111111111111,
              "#46039f"
             ],
             [
              0.2222222222222222,
              "#7201a8"
             ],
             [
              0.3333333333333333,
              "#9c179e"
             ],
             [
              0.4444444444444444,
              "#bd3786"
             ],
             [
              0.5555555555555556,
              "#d8576b"
             ],
             [
              0.6666666666666666,
              "#ed7953"
             ],
             [
              0.7777777777777778,
              "#fb9f3a"
             ],
             [
              0.8888888888888888,
              "#fdca26"
             ],
             [
              1,
              "#f0f921"
             ]
            ],
            "type": "contour"
           }
          ],
          "contourcarpet": [
           {
            "colorbar": {
             "outlinewidth": 0,
             "ticks": ""
            },
            "type": "contourcarpet"
           }
          ],
          "heatmap": [
           {
            "colorbar": {
             "outlinewidth": 0,
             "ticks": ""
            },
            "colorscale": [
             [
              0,
              "#0d0887"
             ],
             [
              0.1111111111111111,
              "#46039f"
             ],
             [
              0.2222222222222222,
              "#7201a8"
             ],
             [
              0.3333333333333333,
              "#9c179e"
             ],
             [
              0.4444444444444444,
              "#bd3786"
             ],
             [
              0.5555555555555556,
              "#d8576b"
             ],
             [
              0.6666666666666666,
              "#ed7953"
             ],
             [
              0.7777777777777778,
              "#fb9f3a"
             ],
             [
              0.8888888888888888,
              "#fdca26"
             ],
             [
              1,
              "#f0f921"
             ]
            ],
            "type": "heatmap"
           }
          ],
          "heatmapgl": [
           {
            "colorbar": {
             "outlinewidth": 0,
             "ticks": ""
            },
            "colorscale": [
             [
              0,
              "#0d0887"
             ],
             [
              0.1111111111111111,
              "#46039f"
             ],
             [
              0.2222222222222222,
              "#7201a8"
             ],
             [
              0.3333333333333333,
              "#9c179e"
             ],
             [
              0.4444444444444444,
              "#bd3786"
             ],
             [
              0.5555555555555556,
              "#d8576b"
             ],
             [
              0.6666666666666666,
              "#ed7953"
             ],
             [
              0.7777777777777778,
              "#fb9f3a"
             ],
             [
              0.8888888888888888,
              "#fdca26"
             ],
             [
              1,
              "#f0f921"
             ]
            ],
            "type": "heatmapgl"
           }
          ],
          "histogram": [
           {
            "marker": {
             "pattern": {
              "fillmode": "overlay",
              "size": 10,
              "solidity": 0.2
             }
            },
            "type": "histogram"
           }
          ],
          "histogram2d": [
           {
            "colorbar": {
             "outlinewidth": 0,
             "ticks": ""
            },
            "colorscale": [
             [
              0,
              "#0d0887"
             ],
             [
              0.1111111111111111,
              "#46039f"
             ],
             [
              0.2222222222222222,
              "#7201a8"
             ],
             [
              0.3333333333333333,
              "#9c179e"
             ],
             [
              0.4444444444444444,
              "#bd3786"
             ],
             [
              0.5555555555555556,
              "#d8576b"
             ],
             [
              0.6666666666666666,
              "#ed7953"
             ],
             [
              0.7777777777777778,
              "#fb9f3a"
             ],
             [
              0.8888888888888888,
              "#fdca26"
             ],
             [
              1,
              "#f0f921"
             ]
            ],
            "type": "histogram2d"
           }
          ],
          "histogram2dcontour": [
           {
            "colorbar": {
             "outlinewidth": 0,
             "ticks": ""
            },
            "colorscale": [
             [
              0,
              "#0d0887"
             ],
             [
              0.1111111111111111,
              "#46039f"
             ],
             [
              0.2222222222222222,
              "#7201a8"
             ],
             [
              0.3333333333333333,
              "#9c179e"
             ],
             [
              0.4444444444444444,
              "#bd3786"
             ],
             [
              0.5555555555555556,
              "#d8576b"
             ],
             [
              0.6666666666666666,
              "#ed7953"
             ],
             [
              0.7777777777777778,
              "#fb9f3a"
             ],
             [
              0.8888888888888888,
              "#fdca26"
             ],
             [
              1,
              "#f0f921"
             ]
            ],
            "type": "histogram2dcontour"
           }
          ],
          "mesh3d": [
           {
            "colorbar": {
             "outlinewidth": 0,
             "ticks": ""
            },
            "type": "mesh3d"
           }
          ],
          "parcoords": [
           {
            "line": {
             "colorbar": {
              "outlinewidth": 0,
              "ticks": ""
             }
            },
            "type": "parcoords"
           }
          ],
          "pie": [
           {
            "automargin": true,
            "type": "pie"
           }
          ],
          "scatter": [
           {
            "fillpattern": {
             "fillmode": "overlay",
             "size": 10,
             "solidity": 0.2
            },
            "type": "scatter"
           }
          ],
          "scatter3d": [
           {
            "line": {
             "colorbar": {
              "outlinewidth": 0,
              "ticks": ""
             }
            },
            "marker": {
             "colorbar": {
              "outlinewidth": 0,
              "ticks": ""
             }
            },
            "type": "scatter3d"
           }
          ],
          "scattercarpet": [
           {
            "marker": {
             "colorbar": {
              "outlinewidth": 0,
              "ticks": ""
             }
            },
            "type": "scattercarpet"
           }
          ],
          "scattergeo": [
           {
            "marker": {
             "colorbar": {
              "outlinewidth": 0,
              "ticks": ""
             }
            },
            "type": "scattergeo"
           }
          ],
          "scattergl": [
           {
            "marker": {
             "colorbar": {
              "outlinewidth": 0,
              "ticks": ""
             }
            },
            "type": "scattergl"
           }
          ],
          "scattermapbox": [
           {
            "marker": {
             "colorbar": {
              "outlinewidth": 0,
              "ticks": ""
             }
            },
            "type": "scattermapbox"
           }
          ],
          "scatterpolar": [
           {
            "marker": {
             "colorbar": {
              "outlinewidth": 0,
              "ticks": ""
             }
            },
            "type": "scatterpolar"
           }
          ],
          "scatterpolargl": [
           {
            "marker": {
             "colorbar": {
              "outlinewidth": 0,
              "ticks": ""
             }
            },
            "type": "scatterpolargl"
           }
          ],
          "scatterternary": [
           {
            "marker": {
             "colorbar": {
              "outlinewidth": 0,
              "ticks": ""
             }
            },
            "type": "scatterternary"
           }
          ],
          "surface": [
           {
            "colorbar": {
             "outlinewidth": 0,
             "ticks": ""
            },
            "colorscale": [
             [
              0,
              "#0d0887"
             ],
             [
              0.1111111111111111,
              "#46039f"
             ],
             [
              0.2222222222222222,
              "#7201a8"
             ],
             [
              0.3333333333333333,
              "#9c179e"
             ],
             [
              0.4444444444444444,
              "#bd3786"
             ],
             [
              0.5555555555555556,
              "#d8576b"
             ],
             [
              0.6666666666666666,
              "#ed7953"
             ],
             [
              0.7777777777777778,
              "#fb9f3a"
             ],
             [
              0.8888888888888888,
              "#fdca26"
             ],
             [
              1,
              "#f0f921"
             ]
            ],
            "type": "surface"
           }
          ],
          "table": [
           {
            "cells": {
             "fill": {
              "color": "#EBF0F8"
             },
             "line": {
              "color": "white"
             }
            },
            "header": {
             "fill": {
              "color": "#C8D4E3"
             },
             "line": {
              "color": "white"
             }
            },
            "type": "table"
           }
          ]
         },
         "layout": {
          "annotationdefaults": {
           "arrowcolor": "#2a3f5f",
           "arrowhead": 0,
           "arrowwidth": 1
          },
          "autotypenumbers": "strict",
          "coloraxis": {
           "colorbar": {
            "outlinewidth": 0,
            "ticks": ""
           }
          },
          "colorscale": {
           "diverging": [
            [
             0,
             "#8e0152"
            ],
            [
             0.1,
             "#c51b7d"
            ],
            [
             0.2,
             "#de77ae"
            ],
            [
             0.3,
             "#f1b6da"
            ],
            [
             0.4,
             "#fde0ef"
            ],
            [
             0.5,
             "#f7f7f7"
            ],
            [
             0.6,
             "#e6f5d0"
            ],
            [
             0.7,
             "#b8e186"
            ],
            [
             0.8,
             "#7fbc41"
            ],
            [
             0.9,
             "#4d9221"
            ],
            [
             1,
             "#276419"
            ]
           ],
           "sequential": [
            [
             0,
             "#0d0887"
            ],
            [
             0.1111111111111111,
             "#46039f"
            ],
            [
             0.2222222222222222,
             "#7201a8"
            ],
            [
             0.3333333333333333,
             "#9c179e"
            ],
            [
             0.4444444444444444,
             "#bd3786"
            ],
            [
             0.5555555555555556,
             "#d8576b"
            ],
            [
             0.6666666666666666,
             "#ed7953"
            ],
            [
             0.7777777777777778,
             "#fb9f3a"
            ],
            [
             0.8888888888888888,
             "#fdca26"
            ],
            [
             1,
             "#f0f921"
            ]
           ],
           "sequentialminus": [
            [
             0,
             "#0d0887"
            ],
            [
             0.1111111111111111,
             "#46039f"
            ],
            [
             0.2222222222222222,
             "#7201a8"
            ],
            [
             0.3333333333333333,
             "#9c179e"
            ],
            [
             0.4444444444444444,
             "#bd3786"
            ],
            [
             0.5555555555555556,
             "#d8576b"
            ],
            [
             0.6666666666666666,
             "#ed7953"
            ],
            [
             0.7777777777777778,
             "#fb9f3a"
            ],
            [
             0.8888888888888888,
             "#fdca26"
            ],
            [
             1,
             "#f0f921"
            ]
           ]
          },
          "colorway": [
           "#636efa",
           "#EF553B",
           "#00cc96",
           "#ab63fa",
           "#FFA15A",
           "#19d3f3",
           "#FF6692",
           "#B6E880",
           "#FF97FF",
           "#FECB52"
          ],
          "font": {
           "color": "#2a3f5f"
          },
          "geo": {
           "bgcolor": "white",
           "lakecolor": "white",
           "landcolor": "#E5ECF6",
           "showlakes": true,
           "showland": true,
           "subunitcolor": "white"
          },
          "hoverlabel": {
           "align": "left"
          },
          "hovermode": "closest",
          "mapbox": {
           "style": "light"
          },
          "paper_bgcolor": "white",
          "plot_bgcolor": "#E5ECF6",
          "polar": {
           "angularaxis": {
            "gridcolor": "white",
            "linecolor": "white",
            "ticks": ""
           },
           "bgcolor": "#E5ECF6",
           "radialaxis": {
            "gridcolor": "white",
            "linecolor": "white",
            "ticks": ""
           }
          },
          "scene": {
           "xaxis": {
            "backgroundcolor": "#E5ECF6",
            "gridcolor": "white",
            "gridwidth": 2,
            "linecolor": "white",
            "showbackground": true,
            "ticks": "",
            "zerolinecolor": "white"
           },
           "yaxis": {
            "backgroundcolor": "#E5ECF6",
            "gridcolor": "white",
            "gridwidth": 2,
            "linecolor": "white",
            "showbackground": true,
            "ticks": "",
            "zerolinecolor": "white"
           },
           "zaxis": {
            "backgroundcolor": "#E5ECF6",
            "gridcolor": "white",
            "gridwidth": 2,
            "linecolor": "white",
            "showbackground": true,
            "ticks": "",
            "zerolinecolor": "white"
           }
          },
          "shapedefaults": {
           "line": {
            "color": "#2a3f5f"
           }
          },
          "ternary": {
           "aaxis": {
            "gridcolor": "white",
            "linecolor": "white",
            "ticks": ""
           },
           "baxis": {
            "gridcolor": "white",
            "linecolor": "white",
            "ticks": ""
           },
           "bgcolor": "#E5ECF6",
           "caxis": {
            "gridcolor": "white",
            "linecolor": "white",
            "ticks": ""
           }
          },
          "title": {
           "x": 0.05
          },
          "xaxis": {
           "automargin": true,
           "gridcolor": "white",
           "linecolor": "white",
           "ticks": "",
           "title": {
            "standoff": 15
           },
           "zerolinecolor": "white",
           "zerolinewidth": 2
          },
          "yaxis": {
           "automargin": true,
           "gridcolor": "white",
           "linecolor": "white",
           "ticks": "",
           "title": {
            "standoff": 15
           },
           "zerolinecolor": "white",
           "zerolinewidth": 2
          }
         }
        },
        "title": {
         "text": "Hutter top decompression throughput"
        },
        "width": 800,
        "xaxis": {
         "anchor": "y",
         "domain": [
          0,
          1
         ],
         "title": {
          "text": "Compression ratio (enwik8)"
         }
        },
        "yaxis": {
         "anchor": "x",
         "domain": [
          0,
          1
         ],
         "title": {
          "text": "Decompression throughput (MB/s)"
         }
        }
       }
      }
     },
     "metadata": {},
     "output_type": "display_data"
    },
    {
     "data": {
      "application/vnd.plotly.v1+json": {
       "config": {
        "plotlyServerURL": "https://plot.ly"
       },
       "data": [
        {
         "hovertemplate": "program=ulz<br>ratio_enwik9=%{x}<br>decomp_throughput=%{y}<extra></extra>",
         "legendgroup": "ulz",
         "marker": {
          "color": "#636efa",
          "symbol": "circle"
         },
         "mode": "markers",
         "name": "ulz",
         "orientation": "v",
         "showlegend": true,
         "type": "scatter",
         "x": [
          3.4360945041991204
         ],
         "xaxis": "x",
         "y": [
          909.090909090909
         ],
         "yaxis": "y"
        },
        {
         "hovertemplate": "program=nakamichi<br>ratio_enwik9=%{x}<br>decomp_throughput=%{y}<extra></extra>",
         "legendgroup": "nakamichi",
         "marker": {
          "color": "#EF553B",
          "symbol": "circle"
         },
         "mode": "markers",
         "name": "nakamichi",
         "orientation": "v",
         "showlegend": true,
         "type": "scatter",
         "x": [
          3.6062929494614324
         ],
         "xaxis": "x",
         "y": [
          769.2307692307692
         ],
         "yaxis": "y"
        },
        {
         "hovertemplate": "program=lz4x<br>ratio_enwik9=%{x}<br>decomp_throughput=%{y}<extra></extra>",
         "legendgroup": "lz4x",
         "marker": {
          "color": "#00cc96",
          "symbol": "circle"
         },
         "mode": "markers",
         "name": "lz4x",
         "orientation": "v",
         "showlegend": true,
         "type": "scatter",
         "x": [
          2.6876775898085654
         ],
         "xaxis": "x",
         "y": [
          714.2857142857143
         ],
         "yaxis": "y"
        },
        {
         "hovertemplate": "program=lzf<br>ratio_enwik9=%{x}<br>decomp_throughput=%{y}<extra></extra>",
         "legendgroup": "lzf",
         "marker": {
          "color": "#ab63fa",
          "symbol": "circle"
         },
         "mode": "markers",
         "name": "lzf",
         "orientation": "v",
         "showlegend": true,
         "type": "scatter",
         "x": [
          2.458174269280597
         ],
         "xaxis": "x",
         "y": [
          454.5454545454545
         ],
         "yaxis": "y"
        },
        {
         "hovertemplate": "program=zstd<br>ratio_enwik9=%{x}<br>decomp_throughput=%{y}<extra></extra>",
         "legendgroup": "zstd",
         "marker": {
          "color": "#FFA15A",
          "symbol": "circle"
         },
         "mode": "markers",
         "name": "zstd",
         "orientation": "v",
         "showlegend": true,
         "type": "scatter",
         "x": [
          4.63661309879366
         ],
         "xaxis": "x",
         "y": [
          454.5454545454545
         ],
         "yaxis": "y"
        },
        {
         "hovertemplate": "program=lzss<br>ratio_enwik9=%{x}<br>decomp_throughput=%{y}<extra></extra>",
         "legendgroup": "lzss",
         "marker": {
          "color": "#19d3f3",
          "symbol": "circle"
         },
         "mode": "markers",
         "name": "lzss",
         "orientation": "v",
         "showlegend": true,
         "type": "scatter",
         "x": [
          2.6302473638753483
         ],
         "xaxis": "x",
         "y": [
          434.7826086956522
         ],
         "yaxis": "y"
        },
        {
         "hovertemplate": "program=lzv<br>ratio_enwik9=%{x}<br>decomp_throughput=%{y}<extra></extra>",
         "legendgroup": "lzv",
         "marker": {
          "color": "#FF6692",
          "symbol": "circle"
         },
         "mode": "markers",
         "name": "lzv",
         "orientation": "v",
         "showlegend": true,
         "type": "scatter",
         "x": [
          2.0473510239243673
         ],
         "xaxis": "x",
         "y": [
          384.6153846153846
         ],
         "yaxis": "y"
        },
        {
         "hovertemplate": "program=crush<br>ratio_enwik9=%{x}<br>decomp_throughput=%{y}<extra></extra>",
         "legendgroup": "crush",
         "marker": {
          "color": "#B6E880",
          "symbol": "circle"
         },
         "mode": "markers",
         "name": "crush",
         "orientation": "v",
         "showlegend": true,
         "type": "scatter",
         "x": [
          3.5779272373396207
         ],
         "xaxis": "x",
         "y": [
          344.82758620689657
         ],
         "yaxis": "y"
        },
        {
         "hovertemplate": "program=doboz<br>ratio_enwik9=%{x}<br>decomp_throughput=%{y}<extra></extra>",
         "legendgroup": "doboz",
         "marker": {
          "color": "#FF97FF",
          "symbol": "circle"
         },
         "mode": "markers",
         "name": "doboz",
         "orientation": "v",
         "showlegend": true,
         "type": "scatter",
         "x": [
          3.1015887333101997
         ],
         "xaxis": "x",
         "y": [
          294.11764705882354
         ],
         "yaxis": "y"
        },
        {
         "hovertemplate": "program=zhuff<br>ratio_enwik9=%{x}<br>decomp_throughput=%{y}<extra></extra>",
         "legendgroup": "zhuff",
         "marker": {
          "color": "#FECB52",
          "symbol": "circle"
         },
         "mode": "markers",
         "name": "zhuff",
         "orientation": "v",
         "showlegend": true,
         "type": "scatter",
         "x": [
          3.2411746169795377
         ],
         "xaxis": "x",
         "y": [
          285.7142857142857
         ],
         "yaxis": "y"
        }
       ],
       "layout": {
        "legend": {
         "title": {
          "text": "program"
         },
         "tracegroupgap": 0
        },
        "template": {
         "data": {
          "bar": [
           {
            "error_x": {
             "color": "#2a3f5f"
            },
            "error_y": {
             "color": "#2a3f5f"
            },
            "marker": {
             "line": {
              "color": "#E5ECF6",
              "width": 0.5
             },
             "pattern": {
              "fillmode": "overlay",
              "size": 10,
              "solidity": 0.2
             }
            },
            "type": "bar"
           }
          ],
          "barpolar": [
           {
            "marker": {
             "line": {
              "color": "#E5ECF6",
              "width": 0.5
             },
             "pattern": {
              "fillmode": "overlay",
              "size": 10,
              "solidity": 0.2
             }
            },
            "type": "barpolar"
           }
          ],
          "carpet": [
           {
            "aaxis": {
             "endlinecolor": "#2a3f5f",
             "gridcolor": "white",
             "linecolor": "white",
             "minorgridcolor": "white",
             "startlinecolor": "#2a3f5f"
            },
            "baxis": {
             "endlinecolor": "#2a3f5f",
             "gridcolor": "white",
             "linecolor": "white",
             "minorgridcolor": "white",
             "startlinecolor": "#2a3f5f"
            },
            "type": "carpet"
           }
          ],
          "choropleth": [
           {
            "colorbar": {
             "outlinewidth": 0,
             "ticks": ""
            },
            "type": "choropleth"
           }
          ],
          "contour": [
           {
            "colorbar": {
             "outlinewidth": 0,
             "ticks": ""
            },
            "colorscale": [
             [
              0,
              "#0d0887"
             ],
             [
              0.1111111111111111,
              "#46039f"
             ],
             [
              0.2222222222222222,
              "#7201a8"
             ],
             [
              0.3333333333333333,
              "#9c179e"
             ],
             [
              0.4444444444444444,
              "#bd3786"
             ],
             [
              0.5555555555555556,
              "#d8576b"
             ],
             [
              0.6666666666666666,
              "#ed7953"
             ],
             [
              0.7777777777777778,
              "#fb9f3a"
             ],
             [
              0.8888888888888888,
              "#fdca26"
             ],
             [
              1,
              "#f0f921"
             ]
            ],
            "type": "contour"
           }
          ],
          "contourcarpet": [
           {
            "colorbar": {
             "outlinewidth": 0,
             "ticks": ""
            },
            "type": "contourcarpet"
           }
          ],
          "heatmap": [
           {
            "colorbar": {
             "outlinewidth": 0,
             "ticks": ""
            },
            "colorscale": [
             [
              0,
              "#0d0887"
             ],
             [
              0.1111111111111111,
              "#46039f"
             ],
             [
              0.2222222222222222,
              "#7201a8"
             ],
             [
              0.3333333333333333,
              "#9c179e"
             ],
             [
              0.4444444444444444,
              "#bd3786"
             ],
             [
              0.5555555555555556,
              "#d8576b"
             ],
             [
              0.6666666666666666,
              "#ed7953"
             ],
             [
              0.7777777777777778,
              "#fb9f3a"
             ],
             [
              0.8888888888888888,
              "#fdca26"
             ],
             [
              1,
              "#f0f921"
             ]
            ],
            "type": "heatmap"
           }
          ],
          "heatmapgl": [
           {
            "colorbar": {
             "outlinewidth": 0,
             "ticks": ""
            },
            "colorscale": [
             [
              0,
              "#0d0887"
             ],
             [
              0.1111111111111111,
              "#46039f"
             ],
             [
              0.2222222222222222,
              "#7201a8"
             ],
             [
              0.3333333333333333,
              "#9c179e"
             ],
             [
              0.4444444444444444,
              "#bd3786"
             ],
             [
              0.5555555555555556,
              "#d8576b"
             ],
             [
              0.6666666666666666,
              "#ed7953"
             ],
             [
              0.7777777777777778,
              "#fb9f3a"
             ],
             [
              0.8888888888888888,
              "#fdca26"
             ],
             [
              1,
              "#f0f921"
             ]
            ],
            "type": "heatmapgl"
           }
          ],
          "histogram": [
           {
            "marker": {
             "pattern": {
              "fillmode": "overlay",
              "size": 10,
              "solidity": 0.2
             }
            },
            "type": "histogram"
           }
          ],
          "histogram2d": [
           {
            "colorbar": {
             "outlinewidth": 0,
             "ticks": ""
            },
            "colorscale": [
             [
              0,
              "#0d0887"
             ],
             [
              0.1111111111111111,
              "#46039f"
             ],
             [
              0.2222222222222222,
              "#7201a8"
             ],
             [
              0.3333333333333333,
              "#9c179e"
             ],
             [
              0.4444444444444444,
              "#bd3786"
             ],
             [
              0.5555555555555556,
              "#d8576b"
             ],
             [
              0.6666666666666666,
              "#ed7953"
             ],
             [
              0.7777777777777778,
              "#fb9f3a"
             ],
             [
              0.8888888888888888,
              "#fdca26"
             ],
             [
              1,
              "#f0f921"
             ]
            ],
            "type": "histogram2d"
           }
          ],
          "histogram2dcontour": [
           {
            "colorbar": {
             "outlinewidth": 0,
             "ticks": ""
            },
            "colorscale": [
             [
              0,
              "#0d0887"
             ],
             [
              0.1111111111111111,
              "#46039f"
             ],
             [
              0.2222222222222222,
              "#7201a8"
             ],
             [
              0.3333333333333333,
              "#9c179e"
             ],
             [
              0.4444444444444444,
              "#bd3786"
             ],
             [
              0.5555555555555556,
              "#d8576b"
             ],
             [
              0.6666666666666666,
              "#ed7953"
             ],
             [
              0.7777777777777778,
              "#fb9f3a"
             ],
             [
              0.8888888888888888,
              "#fdca26"
             ],
             [
              1,
              "#f0f921"
             ]
            ],
            "type": "histogram2dcontour"
           }
          ],
          "mesh3d": [
           {
            "colorbar": {
             "outlinewidth": 0,
             "ticks": ""
            },
            "type": "mesh3d"
           }
          ],
          "parcoords": [
           {
            "line": {
             "colorbar": {
              "outlinewidth": 0,
              "ticks": ""
             }
            },
            "type": "parcoords"
           }
          ],
          "pie": [
           {
            "automargin": true,
            "type": "pie"
           }
          ],
          "scatter": [
           {
            "fillpattern": {
             "fillmode": "overlay",
             "size": 10,
             "solidity": 0.2
            },
            "type": "scatter"
           }
          ],
          "scatter3d": [
           {
            "line": {
             "colorbar": {
              "outlinewidth": 0,
              "ticks": ""
             }
            },
            "marker": {
             "colorbar": {
              "outlinewidth": 0,
              "ticks": ""
             }
            },
            "type": "scatter3d"
           }
          ],
          "scattercarpet": [
           {
            "marker": {
             "colorbar": {
              "outlinewidth": 0,
              "ticks": ""
             }
            },
            "type": "scattercarpet"
           }
          ],
          "scattergeo": [
           {
            "marker": {
             "colorbar": {
              "outlinewidth": 0,
              "ticks": ""
             }
            },
            "type": "scattergeo"
           }
          ],
          "scattergl": [
           {
            "marker": {
             "colorbar": {
              "outlinewidth": 0,
              "ticks": ""
             }
            },
            "type": "scattergl"
           }
          ],
          "scattermapbox": [
           {
            "marker": {
             "colorbar": {
              "outlinewidth": 0,
              "ticks": ""
             }
            },
            "type": "scattermapbox"
           }
          ],
          "scatterpolar": [
           {
            "marker": {
             "colorbar": {
              "outlinewidth": 0,
              "ticks": ""
             }
            },
            "type": "scatterpolar"
           }
          ],
          "scatterpolargl": [
           {
            "marker": {
             "colorbar": {
              "outlinewidth": 0,
              "ticks": ""
             }
            },
            "type": "scatterpolargl"
           }
          ],
          "scatterternary": [
           {
            "marker": {
             "colorbar": {
              "outlinewidth": 0,
              "ticks": ""
             }
            },
            "type": "scatterternary"
           }
          ],
          "surface": [
           {
            "colorbar": {
             "outlinewidth": 0,
             "ticks": ""
            },
            "colorscale": [
             [
              0,
              "#0d0887"
             ],
             [
              0.1111111111111111,
              "#46039f"
             ],
             [
              0.2222222222222222,
              "#7201a8"
             ],
             [
              0.3333333333333333,
              "#9c179e"
             ],
             [
              0.4444444444444444,
              "#bd3786"
             ],
             [
              0.5555555555555556,
              "#d8576b"
             ],
             [
              0.6666666666666666,
              "#ed7953"
             ],
             [
              0.7777777777777778,
              "#fb9f3a"
             ],
             [
              0.8888888888888888,
              "#fdca26"
             ],
             [
              1,
              "#f0f921"
             ]
            ],
            "type": "surface"
           }
          ],
          "table": [
           {
            "cells": {
             "fill": {
              "color": "#EBF0F8"
             },
             "line": {
              "color": "white"
             }
            },
            "header": {
             "fill": {
              "color": "#C8D4E3"
             },
             "line": {
              "color": "white"
             }
            },
            "type": "table"
           }
          ]
         },
         "layout": {
          "annotationdefaults": {
           "arrowcolor": "#2a3f5f",
           "arrowhead": 0,
           "arrowwidth": 1
          },
          "autotypenumbers": "strict",
          "coloraxis": {
           "colorbar": {
            "outlinewidth": 0,
            "ticks": ""
           }
          },
          "colorscale": {
           "diverging": [
            [
             0,
             "#8e0152"
            ],
            [
             0.1,
             "#c51b7d"
            ],
            [
             0.2,
             "#de77ae"
            ],
            [
             0.3,
             "#f1b6da"
            ],
            [
             0.4,
             "#fde0ef"
            ],
            [
             0.5,
             "#f7f7f7"
            ],
            [
             0.6,
             "#e6f5d0"
            ],
            [
             0.7,
             "#b8e186"
            ],
            [
             0.8,
             "#7fbc41"
            ],
            [
             0.9,
             "#4d9221"
            ],
            [
             1,
             "#276419"
            ]
           ],
           "sequential": [
            [
             0,
             "#0d0887"
            ],
            [
             0.1111111111111111,
             "#46039f"
            ],
            [
             0.2222222222222222,
             "#7201a8"
            ],
            [
             0.3333333333333333,
             "#9c179e"
            ],
            [
             0.4444444444444444,
             "#bd3786"
            ],
            [
             0.5555555555555556,
             "#d8576b"
            ],
            [
             0.6666666666666666,
             "#ed7953"
            ],
            [
             0.7777777777777778,
             "#fb9f3a"
            ],
            [
             0.8888888888888888,
             "#fdca26"
            ],
            [
             1,
             "#f0f921"
            ]
           ],
           "sequentialminus": [
            [
             0,
             "#0d0887"
            ],
            [
             0.1111111111111111,
             "#46039f"
            ],
            [
             0.2222222222222222,
             "#7201a8"
            ],
            [
             0.3333333333333333,
             "#9c179e"
            ],
            [
             0.4444444444444444,
             "#bd3786"
            ],
            [
             0.5555555555555556,
             "#d8576b"
            ],
            [
             0.6666666666666666,
             "#ed7953"
            ],
            [
             0.7777777777777778,
             "#fb9f3a"
            ],
            [
             0.8888888888888888,
             "#fdca26"
            ],
            [
             1,
             "#f0f921"
            ]
           ]
          },
          "colorway": [
           "#636efa",
           "#EF553B",
           "#00cc96",
           "#ab63fa",
           "#FFA15A",
           "#19d3f3",
           "#FF6692",
           "#B6E880",
           "#FF97FF",
           "#FECB52"
          ],
          "font": {
           "color": "#2a3f5f"
          },
          "geo": {
           "bgcolor": "white",
           "lakecolor": "white",
           "landcolor": "#E5ECF6",
           "showlakes": true,
           "showland": true,
           "subunitcolor": "white"
          },
          "hoverlabel": {
           "align": "left"
          },
          "hovermode": "closest",
          "mapbox": {
           "style": "light"
          },
          "paper_bgcolor": "white",
          "plot_bgcolor": "#E5ECF6",
          "polar": {
           "angularaxis": {
            "gridcolor": "white",
            "linecolor": "white",
            "ticks": ""
           },
           "bgcolor": "#E5ECF6",
           "radialaxis": {
            "gridcolor": "white",
            "linecolor": "white",
            "ticks": ""
           }
          },
          "scene": {
           "xaxis": {
            "backgroundcolor": "#E5ECF6",
            "gridcolor": "white",
            "gridwidth": 2,
            "linecolor": "white",
            "showbackground": true,
            "ticks": "",
            "zerolinecolor": "white"
           },
           "yaxis": {
            "backgroundcolor": "#E5ECF6",
            "gridcolor": "white",
            "gridwidth": 2,
            "linecolor": "white",
            "showbackground": true,
            "ticks": "",
            "zerolinecolor": "white"
           },
           "zaxis": {
            "backgroundcolor": "#E5ECF6",
            "gridcolor": "white",
            "gridwidth": 2,
            "linecolor": "white",
            "showbackground": true,
            "ticks": "",
            "zerolinecolor": "white"
           }
          },
          "shapedefaults": {
           "line": {
            "color": "#2a3f5f"
           }
          },
          "ternary": {
           "aaxis": {
            "gridcolor": "white",
            "linecolor": "white",
            "ticks": ""
           },
           "baxis": {
            "gridcolor": "white",
            "linecolor": "white",
            "ticks": ""
           },
           "bgcolor": "#E5ECF6",
           "caxis": {
            "gridcolor": "white",
            "linecolor": "white",
            "ticks": ""
           }
          },
          "title": {
           "x": 0.05
          },
          "xaxis": {
           "automargin": true,
           "gridcolor": "white",
           "linecolor": "white",
           "ticks": "",
           "title": {
            "standoff": 15
           },
           "zerolinecolor": "white",
           "zerolinewidth": 2
          },
          "yaxis": {
           "automargin": true,
           "gridcolor": "white",
           "linecolor": "white",
           "ticks": "",
           "title": {
            "standoff": 15
           },
           "zerolinecolor": "white",
           "zerolinewidth": 2
          }
         }
        },
        "title": {
         "text": "Hutter top decompression throughput"
        },
        "width": 800,
        "xaxis": {
         "anchor": "y",
         "domain": [
          0,
          1
         ],
         "title": {
          "text": "Compression ratio (enwik9)"
         }
        },
        "yaxis": {
         "anchor": "x",
         "domain": [
          0,
          1
         ],
         "title": {
          "text": "Decompression throughput (MB/s)"
         }
        }
       }
      }
     },
     "metadata": {},
     "output_type": "display_data"
    }
   ],
   "source": [
    "\n",
    "hutter_top_decomp_df = hutter_df.sort_values(['decomp_throughput'], ascending=False).head(10)\n",
    "\n",
    "\n",
    "\n",
    "fig_hutter_top_decompression_8 = px.scatter(\n",
    "    hutter_top_decomp_df,\n",
    "    title=f\"Hutter top decompression throughput\", \n",
    "    x=\"ratio_enwik8\",\n",
    "    y=\"decomp_throughput\",\n",
    "    labels=\"program\",\n",
    "    color=\"program\",\n",
    "    width=800,\n",
    ")\n",
    "\n",
    "\n",
    "fig_hutter_top_decompression_9 = px.scatter(\n",
    "    hutter_top_decomp_df,\n",
    "    title=f\"Hutter top decompression throughput\", \n",
    "    x=\"ratio_enwik9\",\n",
    "    y=\"decomp_throughput\",\n",
    "    labels=\"program\",\n",
    "    color=\"program\",\n",
    "    width=800,\n",
    ")\n",
    "\n",
    "\n",
    "fig_hutter_top_decompression_8.update_layout(\n",
    "    yaxis_title=\"Decompression throughput (MB/s)\",\n",
    "    xaxis_title=\"Compression ratio (enwik8)\",\n",
    ")\n",
    "\n",
    "fig_hutter_top_decompression_9.update_layout(\n",
    "    yaxis_title=\"Decompression throughput (MB/s)\",\n",
    "    xaxis_title=\"Compression ratio (enwik9)\",\n",
    ")\n",
    "\n",
    "fig_hutter_top_decompression_8.show()\n",
    "fig_hutter_top_decompression_9.show()\n"
   ]
  },
  {
   "cell_type": "code",
   "execution_count": 19,
   "id": "13540b52",
   "metadata": {},
   "outputs": [
    {
     "data": {
      "application/vnd.plotly.v1+json": {
       "config": {
        "plotlyServerURL": "https://plot.ly"
       },
       "data": [
        {
         "hovertemplate": "program=ulz<br>ratio_enwik8=%{x}<br>comp_throughput=%{y}<extra></extra>",
         "legendgroup": "ulz",
         "marker": {
          "color": "#636efa",
          "symbol": "circle"
         },
         "mode": "markers",
         "name": "ulz",
         "orientation": "v",
         "showlegend": true,
         "type": "scatter",
         "x": [
          3.035335063959973
         ],
         "xaxis": "x",
         "y": [
          3.0769230769230766
         ],
         "yaxis": "y"
        },
        {
         "hovertemplate": "program=nakamichi<br>ratio_enwik8=%{x}<br>comp_throughput=%{y}<extra></extra>",
         "legendgroup": "nakamichi",
         "marker": {
          "color": "#EF553B",
          "symbol": "circle"
         },
         "mode": "markers",
         "name": "nakamichi",
         "orientation": "v",
         "showlegend": true,
         "type": "scatter",
         "x": [
          3.0378619673291314
         ],
         "xaxis": "x",
         "y": [
          0.00012195121951219512
         ],
         "yaxis": "y"
        },
        {
         "hovertemplate": "program=lz4x<br>ratio_enwik8=%{x}<br>comp_throughput=%{y}<extra></extra>",
         "legendgroup": "lz4x",
         "marker": {
          "color": "#00cc96",
          "symbol": "circle"
         },
         "mode": "markers",
         "name": "lz4x",
         "orientation": "v",
         "showlegend": true,
         "type": "scatter",
         "x": [
          2.3837838621265184
         ],
         "xaxis": "x",
         "y": [
          12.658227848101266
         ],
         "yaxis": "y"
        },
        {
         "hovertemplate": "program=lzf<br>ratio_enwik8=%{x}<br>comp_throughput=%{y}<extra></extra>",
         "legendgroup": "lzf",
         "marker": {
          "color": "#ab63fa",
          "symbol": "circle"
         },
         "mode": "markers",
         "name": "lzf",
         "orientation": "v",
         "showlegend": true,
         "type": "scatter",
         "x": [
          2.2124726908964583
         ],
         "xaxis": "x",
         "y": [
          14.705882352941176
         ],
         "yaxis": "y"
        },
        {
         "hovertemplate": "program=zstd<br>ratio_enwik8=%{x}<br>comp_throughput=%{y}<extra></extra>",
         "legendgroup": "zstd",
         "marker": {
          "color": "#FFA15A",
          "symbol": "circle"
         },
         "mode": "markers",
         "name": "zstd",
         "orientation": "v",
         "showlegend": true,
         "type": "scatter",
         "x": [
          3.9361399086760436
         ],
         "xaxis": "x",
         "y": [
          1.426533523537803
         ],
         "yaxis": "y"
        },
        {
         "hovertemplate": "program=lzss<br>ratio_enwik8=%{x}<br>comp_throughput=%{y}<extra></extra>",
         "legendgroup": "lzss",
         "marker": {
          "color": "#19d3f3",
          "symbol": "circle"
         },
         "mode": "markers",
         "name": "lzss",
         "orientation": "v",
         "showlegend": true,
         "type": "scatter",
         "x": [
          2.332394863161542
         ],
         "xaxis": "x",
         "y": [
          9.345794392523365
         ],
         "yaxis": "y"
        },
        {
         "hovertemplate": "program=lzv<br>ratio_enwik8=%{x}<br>comp_throughput=%{y}<extra></extra>",
         "legendgroup": "lzv",
         "marker": {
          "color": "#FF6692",
          "symbol": "circle"
         },
         "mode": "markers",
         "name": "lzv",
         "orientation": "v",
         "showlegend": true,
         "type": "scatter",
         "x": [
          1.8198081641944481
         ],
         "xaxis": "x",
         "y": [
          250
         ],
         "yaxis": "y"
        },
        {
         "hovertemplate": "program=crush<br>ratio_enwik8=%{x}<br>comp_throughput=%{y}<extra></extra>",
         "legendgroup": "crush",
         "marker": {
          "color": "#B6E880",
          "symbol": "circle"
         },
         "mode": "markers",
         "name": "crush",
         "orientation": "v",
         "showlegend": true,
         "type": "scatter",
         "x": [
          3.1514216173215495
         ],
         "xaxis": "x",
         "y": [
          1.0548523206751055
         ],
         "yaxis": "y"
        },
        {
         "hovertemplate": "program=doboz<br>ratio_enwik8=%{x}<br>comp_throughput=%{y}<extra></extra>",
         "legendgroup": "doboz",
         "marker": {
          "color": "#FF97FF",
          "symbol": "circle"
         },
         "mode": "markers",
         "name": "doboz",
         "orientation": "v",
         "showlegend": true,
         "type": "scatter",
         "x": [
          2.749713136177068
         ],
         "xaxis": "x",
         "y": [
          1.8761726078799248
         ],
         "yaxis": "y"
        },
        {
         "hovertemplate": "program=zhuff<br>ratio_enwik8=%{x}<br>comp_throughput=%{y}<extra></extra>",
         "legendgroup": "zhuff",
         "marker": {
          "color": "#FECB52",
          "symbol": "circle"
         },
         "mode": "markers",
         "name": "zhuff",
         "orientation": "v",
         "showlegend": true,
         "type": "scatter",
         "x": [
          2.8647156921505474
         ],
         "xaxis": "x",
         "y": [
          41.666666666666664
         ],
         "yaxis": "y"
        }
       ],
       "layout": {
        "legend": {
         "title": {
          "text": "program"
         },
         "tracegroupgap": 0
        },
        "template": {
         "data": {
          "bar": [
           {
            "error_x": {
             "color": "#2a3f5f"
            },
            "error_y": {
             "color": "#2a3f5f"
            },
            "marker": {
             "line": {
              "color": "#E5ECF6",
              "width": 0.5
             },
             "pattern": {
              "fillmode": "overlay",
              "size": 10,
              "solidity": 0.2
             }
            },
            "type": "bar"
           }
          ],
          "barpolar": [
           {
            "marker": {
             "line": {
              "color": "#E5ECF6",
              "width": 0.5
             },
             "pattern": {
              "fillmode": "overlay",
              "size": 10,
              "solidity": 0.2
             }
            },
            "type": "barpolar"
           }
          ],
          "carpet": [
           {
            "aaxis": {
             "endlinecolor": "#2a3f5f",
             "gridcolor": "white",
             "linecolor": "white",
             "minorgridcolor": "white",
             "startlinecolor": "#2a3f5f"
            },
            "baxis": {
             "endlinecolor": "#2a3f5f",
             "gridcolor": "white",
             "linecolor": "white",
             "minorgridcolor": "white",
             "startlinecolor": "#2a3f5f"
            },
            "type": "carpet"
           }
          ],
          "choropleth": [
           {
            "colorbar": {
             "outlinewidth": 0,
             "ticks": ""
            },
            "type": "choropleth"
           }
          ],
          "contour": [
           {
            "colorbar": {
             "outlinewidth": 0,
             "ticks": ""
            },
            "colorscale": [
             [
              0,
              "#0d0887"
             ],
             [
              0.1111111111111111,
              "#46039f"
             ],
             [
              0.2222222222222222,
              "#7201a8"
             ],
             [
              0.3333333333333333,
              "#9c179e"
             ],
             [
              0.4444444444444444,
              "#bd3786"
             ],
             [
              0.5555555555555556,
              "#d8576b"
             ],
             [
              0.6666666666666666,
              "#ed7953"
             ],
             [
              0.7777777777777778,
              "#fb9f3a"
             ],
             [
              0.8888888888888888,
              "#fdca26"
             ],
             [
              1,
              "#f0f921"
             ]
            ],
            "type": "contour"
           }
          ],
          "contourcarpet": [
           {
            "colorbar": {
             "outlinewidth": 0,
             "ticks": ""
            },
            "type": "contourcarpet"
           }
          ],
          "heatmap": [
           {
            "colorbar": {
             "outlinewidth": 0,
             "ticks": ""
            },
            "colorscale": [
             [
              0,
              "#0d0887"
             ],
             [
              0.1111111111111111,
              "#46039f"
             ],
             [
              0.2222222222222222,
              "#7201a8"
             ],
             [
              0.3333333333333333,
              "#9c179e"
             ],
             [
              0.4444444444444444,
              "#bd3786"
             ],
             [
              0.5555555555555556,
              "#d8576b"
             ],
             [
              0.6666666666666666,
              "#ed7953"
             ],
             [
              0.7777777777777778,
              "#fb9f3a"
             ],
             [
              0.8888888888888888,
              "#fdca26"
             ],
             [
              1,
              "#f0f921"
             ]
            ],
            "type": "heatmap"
           }
          ],
          "heatmapgl": [
           {
            "colorbar": {
             "outlinewidth": 0,
             "ticks": ""
            },
            "colorscale": [
             [
              0,
              "#0d0887"
             ],
             [
              0.1111111111111111,
              "#46039f"
             ],
             [
              0.2222222222222222,
              "#7201a8"
             ],
             [
              0.3333333333333333,
              "#9c179e"
             ],
             [
              0.4444444444444444,
              "#bd3786"
             ],
             [
              0.5555555555555556,
              "#d8576b"
             ],
             [
              0.6666666666666666,
              "#ed7953"
             ],
             [
              0.7777777777777778,
              "#fb9f3a"
             ],
             [
              0.8888888888888888,
              "#fdca26"
             ],
             [
              1,
              "#f0f921"
             ]
            ],
            "type": "heatmapgl"
           }
          ],
          "histogram": [
           {
            "marker": {
             "pattern": {
              "fillmode": "overlay",
              "size": 10,
              "solidity": 0.2
             }
            },
            "type": "histogram"
           }
          ],
          "histogram2d": [
           {
            "colorbar": {
             "outlinewidth": 0,
             "ticks": ""
            },
            "colorscale": [
             [
              0,
              "#0d0887"
             ],
             [
              0.1111111111111111,
              "#46039f"
             ],
             [
              0.2222222222222222,
              "#7201a8"
             ],
             [
              0.3333333333333333,
              "#9c179e"
             ],
             [
              0.4444444444444444,
              "#bd3786"
             ],
             [
              0.5555555555555556,
              "#d8576b"
             ],
             [
              0.6666666666666666,
              "#ed7953"
             ],
             [
              0.7777777777777778,
              "#fb9f3a"
             ],
             [
              0.8888888888888888,
              "#fdca26"
             ],
             [
              1,
              "#f0f921"
             ]
            ],
            "type": "histogram2d"
           }
          ],
          "histogram2dcontour": [
           {
            "colorbar": {
             "outlinewidth": 0,
             "ticks": ""
            },
            "colorscale": [
             [
              0,
              "#0d0887"
             ],
             [
              0.1111111111111111,
              "#46039f"
             ],
             [
              0.2222222222222222,
              "#7201a8"
             ],
             [
              0.3333333333333333,
              "#9c179e"
             ],
             [
              0.4444444444444444,
              "#bd3786"
             ],
             [
              0.5555555555555556,
              "#d8576b"
             ],
             [
              0.6666666666666666,
              "#ed7953"
             ],
             [
              0.7777777777777778,
              "#fb9f3a"
             ],
             [
              0.8888888888888888,
              "#fdca26"
             ],
             [
              1,
              "#f0f921"
             ]
            ],
            "type": "histogram2dcontour"
           }
          ],
          "mesh3d": [
           {
            "colorbar": {
             "outlinewidth": 0,
             "ticks": ""
            },
            "type": "mesh3d"
           }
          ],
          "parcoords": [
           {
            "line": {
             "colorbar": {
              "outlinewidth": 0,
              "ticks": ""
             }
            },
            "type": "parcoords"
           }
          ],
          "pie": [
           {
            "automargin": true,
            "type": "pie"
           }
          ],
          "scatter": [
           {
            "fillpattern": {
             "fillmode": "overlay",
             "size": 10,
             "solidity": 0.2
            },
            "type": "scatter"
           }
          ],
          "scatter3d": [
           {
            "line": {
             "colorbar": {
              "outlinewidth": 0,
              "ticks": ""
             }
            },
            "marker": {
             "colorbar": {
              "outlinewidth": 0,
              "ticks": ""
             }
            },
            "type": "scatter3d"
           }
          ],
          "scattercarpet": [
           {
            "marker": {
             "colorbar": {
              "outlinewidth": 0,
              "ticks": ""
             }
            },
            "type": "scattercarpet"
           }
          ],
          "scattergeo": [
           {
            "marker": {
             "colorbar": {
              "outlinewidth": 0,
              "ticks": ""
             }
            },
            "type": "scattergeo"
           }
          ],
          "scattergl": [
           {
            "marker": {
             "colorbar": {
              "outlinewidth": 0,
              "ticks": ""
             }
            },
            "type": "scattergl"
           }
          ],
          "scattermapbox": [
           {
            "marker": {
             "colorbar": {
              "outlinewidth": 0,
              "ticks": ""
             }
            },
            "type": "scattermapbox"
           }
          ],
          "scatterpolar": [
           {
            "marker": {
             "colorbar": {
              "outlinewidth": 0,
              "ticks": ""
             }
            },
            "type": "scatterpolar"
           }
          ],
          "scatterpolargl": [
           {
            "marker": {
             "colorbar": {
              "outlinewidth": 0,
              "ticks": ""
             }
            },
            "type": "scatterpolargl"
           }
          ],
          "scatterternary": [
           {
            "marker": {
             "colorbar": {
              "outlinewidth": 0,
              "ticks": ""
             }
            },
            "type": "scatterternary"
           }
          ],
          "surface": [
           {
            "colorbar": {
             "outlinewidth": 0,
             "ticks": ""
            },
            "colorscale": [
             [
              0,
              "#0d0887"
             ],
             [
              0.1111111111111111,
              "#46039f"
             ],
             [
              0.2222222222222222,
              "#7201a8"
             ],
             [
              0.3333333333333333,
              "#9c179e"
             ],
             [
              0.4444444444444444,
              "#bd3786"
             ],
             [
              0.5555555555555556,
              "#d8576b"
             ],
             [
              0.6666666666666666,
              "#ed7953"
             ],
             [
              0.7777777777777778,
              "#fb9f3a"
             ],
             [
              0.8888888888888888,
              "#fdca26"
             ],
             [
              1,
              "#f0f921"
             ]
            ],
            "type": "surface"
           }
          ],
          "table": [
           {
            "cells": {
             "fill": {
              "color": "#EBF0F8"
             },
             "line": {
              "color": "white"
             }
            },
            "header": {
             "fill": {
              "color": "#C8D4E3"
             },
             "line": {
              "color": "white"
             }
            },
            "type": "table"
           }
          ]
         },
         "layout": {
          "annotationdefaults": {
           "arrowcolor": "#2a3f5f",
           "arrowhead": 0,
           "arrowwidth": 1
          },
          "autotypenumbers": "strict",
          "coloraxis": {
           "colorbar": {
            "outlinewidth": 0,
            "ticks": ""
           }
          },
          "colorscale": {
           "diverging": [
            [
             0,
             "#8e0152"
            ],
            [
             0.1,
             "#c51b7d"
            ],
            [
             0.2,
             "#de77ae"
            ],
            [
             0.3,
             "#f1b6da"
            ],
            [
             0.4,
             "#fde0ef"
            ],
            [
             0.5,
             "#f7f7f7"
            ],
            [
             0.6,
             "#e6f5d0"
            ],
            [
             0.7,
             "#b8e186"
            ],
            [
             0.8,
             "#7fbc41"
            ],
            [
             0.9,
             "#4d9221"
            ],
            [
             1,
             "#276419"
            ]
           ],
           "sequential": [
            [
             0,
             "#0d0887"
            ],
            [
             0.1111111111111111,
             "#46039f"
            ],
            [
             0.2222222222222222,
             "#7201a8"
            ],
            [
             0.3333333333333333,
             "#9c179e"
            ],
            [
             0.4444444444444444,
             "#bd3786"
            ],
            [
             0.5555555555555556,
             "#d8576b"
            ],
            [
             0.6666666666666666,
             "#ed7953"
            ],
            [
             0.7777777777777778,
             "#fb9f3a"
            ],
            [
             0.8888888888888888,
             "#fdca26"
            ],
            [
             1,
             "#f0f921"
            ]
           ],
           "sequentialminus": [
            [
             0,
             "#0d0887"
            ],
            [
             0.1111111111111111,
             "#46039f"
            ],
            [
             0.2222222222222222,
             "#7201a8"
            ],
            [
             0.3333333333333333,
             "#9c179e"
            ],
            [
             0.4444444444444444,
             "#bd3786"
            ],
            [
             0.5555555555555556,
             "#d8576b"
            ],
            [
             0.6666666666666666,
             "#ed7953"
            ],
            [
             0.7777777777777778,
             "#fb9f3a"
            ],
            [
             0.8888888888888888,
             "#fdca26"
            ],
            [
             1,
             "#f0f921"
            ]
           ]
          },
          "colorway": [
           "#636efa",
           "#EF553B",
           "#00cc96",
           "#ab63fa",
           "#FFA15A",
           "#19d3f3",
           "#FF6692",
           "#B6E880",
           "#FF97FF",
           "#FECB52"
          ],
          "font": {
           "color": "#2a3f5f"
          },
          "geo": {
           "bgcolor": "white",
           "lakecolor": "white",
           "landcolor": "#E5ECF6",
           "showlakes": true,
           "showland": true,
           "subunitcolor": "white"
          },
          "hoverlabel": {
           "align": "left"
          },
          "hovermode": "closest",
          "mapbox": {
           "style": "light"
          },
          "paper_bgcolor": "white",
          "plot_bgcolor": "#E5ECF6",
          "polar": {
           "angularaxis": {
            "gridcolor": "white",
            "linecolor": "white",
            "ticks": ""
           },
           "bgcolor": "#E5ECF6",
           "radialaxis": {
            "gridcolor": "white",
            "linecolor": "white",
            "ticks": ""
           }
          },
          "scene": {
           "xaxis": {
            "backgroundcolor": "#E5ECF6",
            "gridcolor": "white",
            "gridwidth": 2,
            "linecolor": "white",
            "showbackground": true,
            "ticks": "",
            "zerolinecolor": "white"
           },
           "yaxis": {
            "backgroundcolor": "#E5ECF6",
            "gridcolor": "white",
            "gridwidth": 2,
            "linecolor": "white",
            "showbackground": true,
            "ticks": "",
            "zerolinecolor": "white"
           },
           "zaxis": {
            "backgroundcolor": "#E5ECF6",
            "gridcolor": "white",
            "gridwidth": 2,
            "linecolor": "white",
            "showbackground": true,
            "ticks": "",
            "zerolinecolor": "white"
           }
          },
          "shapedefaults": {
           "line": {
            "color": "#2a3f5f"
           }
          },
          "ternary": {
           "aaxis": {
            "gridcolor": "white",
            "linecolor": "white",
            "ticks": ""
           },
           "baxis": {
            "gridcolor": "white",
            "linecolor": "white",
            "ticks": ""
           },
           "bgcolor": "#E5ECF6",
           "caxis": {
            "gridcolor": "white",
            "linecolor": "white",
            "ticks": ""
           }
          },
          "title": {
           "x": 0.05
          },
          "xaxis": {
           "automargin": true,
           "gridcolor": "white",
           "linecolor": "white",
           "ticks": "",
           "title": {
            "standoff": 15
           },
           "zerolinecolor": "white",
           "zerolinewidth": 2
          },
          "yaxis": {
           "automargin": true,
           "gridcolor": "white",
           "linecolor": "white",
           "ticks": "",
           "title": {
            "standoff": 15
           },
           "zerolinecolor": "white",
           "zerolinewidth": 2
          }
         }
        },
        "title": {
         "text": "Hutter top compression throughput"
        },
        "width": 800,
        "xaxis": {
         "anchor": "y",
         "domain": [
          0,
          1
         ],
         "title": {
          "text": "Compression ratio (enwik8)"
         }
        },
        "yaxis": {
         "anchor": "x",
         "domain": [
          0,
          1
         ],
         "title": {
          "text": "Compression throughput (MB/s)"
         }
        }
       }
      }
     },
     "metadata": {},
     "output_type": "display_data"
    },
    {
     "data": {
      "application/vnd.plotly.v1+json": {
       "config": {
        "plotlyServerURL": "https://plot.ly"
       },
       "data": [
        {
         "hovertemplate": "program=ulz<br>ratio_enwik9=%{x}<br>comp_throughput=%{y}<extra></extra>",
         "legendgroup": "ulz",
         "marker": {
          "color": "#636efa",
          "symbol": "circle"
         },
         "mode": "markers",
         "name": "ulz",
         "orientation": "v",
         "showlegend": true,
         "type": "scatter",
         "x": [
          3.4360945041991204
         ],
         "xaxis": "x",
         "y": [
          3.0769230769230766
         ],
         "yaxis": "y"
        },
        {
         "hovertemplate": "program=nakamichi<br>ratio_enwik9=%{x}<br>comp_throughput=%{y}<extra></extra>",
         "legendgroup": "nakamichi",
         "marker": {
          "color": "#EF553B",
          "symbol": "circle"
         },
         "mode": "markers",
         "name": "nakamichi",
         "orientation": "v",
         "showlegend": true,
         "type": "scatter",
         "x": [
          3.6062929494614324
         ],
         "xaxis": "x",
         "y": [
          0.00012195121951219512
         ],
         "yaxis": "y"
        },
        {
         "hovertemplate": "program=lz4x<br>ratio_enwik9=%{x}<br>comp_throughput=%{y}<extra></extra>",
         "legendgroup": "lz4x",
         "marker": {
          "color": "#00cc96",
          "symbol": "circle"
         },
         "mode": "markers",
         "name": "lz4x",
         "orientation": "v",
         "showlegend": true,
         "type": "scatter",
         "x": [
          2.6876775898085654
         ],
         "xaxis": "x",
         "y": [
          12.658227848101266
         ],
         "yaxis": "y"
        },
        {
         "hovertemplate": "program=lzf<br>ratio_enwik9=%{x}<br>comp_throughput=%{y}<extra></extra>",
         "legendgroup": "lzf",
         "marker": {
          "color": "#ab63fa",
          "symbol": "circle"
         },
         "mode": "markers",
         "name": "lzf",
         "orientation": "v",
         "showlegend": true,
         "type": "scatter",
         "x": [
          2.458174269280597
         ],
         "xaxis": "x",
         "y": [
          14.705882352941176
         ],
         "yaxis": "y"
        },
        {
         "hovertemplate": "program=zstd<br>ratio_enwik9=%{x}<br>comp_throughput=%{y}<extra></extra>",
         "legendgroup": "zstd",
         "marker": {
          "color": "#FFA15A",
          "symbol": "circle"
         },
         "mode": "markers",
         "name": "zstd",
         "orientation": "v",
         "showlegend": true,
         "type": "scatter",
         "x": [
          4.63661309879366
         ],
         "xaxis": "x",
         "y": [
          1.426533523537803
         ],
         "yaxis": "y"
        },
        {
         "hovertemplate": "program=lzss<br>ratio_enwik9=%{x}<br>comp_throughput=%{y}<extra></extra>",
         "legendgroup": "lzss",
         "marker": {
          "color": "#19d3f3",
          "symbol": "circle"
         },
         "mode": "markers",
         "name": "lzss",
         "orientation": "v",
         "showlegend": true,
         "type": "scatter",
         "x": [
          2.6302473638753483
         ],
         "xaxis": "x",
         "y": [
          9.345794392523365
         ],
         "yaxis": "y"
        },
        {
         "hovertemplate": "program=lzv<br>ratio_enwik9=%{x}<br>comp_throughput=%{y}<extra></extra>",
         "legendgroup": "lzv",
         "marker": {
          "color": "#FF6692",
          "symbol": "circle"
         },
         "mode": "markers",
         "name": "lzv",
         "orientation": "v",
         "showlegend": true,
         "type": "scatter",
         "x": [
          2.0473510239243673
         ],
         "xaxis": "x",
         "y": [
          250
         ],
         "yaxis": "y"
        },
        {
         "hovertemplate": "program=crush<br>ratio_enwik9=%{x}<br>comp_throughput=%{y}<extra></extra>",
         "legendgroup": "crush",
         "marker": {
          "color": "#B6E880",
          "symbol": "circle"
         },
         "mode": "markers",
         "name": "crush",
         "orientation": "v",
         "showlegend": true,
         "type": "scatter",
         "x": [
          3.5779272373396207
         ],
         "xaxis": "x",
         "y": [
          1.0548523206751055
         ],
         "yaxis": "y"
        },
        {
         "hovertemplate": "program=doboz<br>ratio_enwik9=%{x}<br>comp_throughput=%{y}<extra></extra>",
         "legendgroup": "doboz",
         "marker": {
          "color": "#FF97FF",
          "symbol": "circle"
         },
         "mode": "markers",
         "name": "doboz",
         "orientation": "v",
         "showlegend": true,
         "type": "scatter",
         "x": [
          3.1015887333101997
         ],
         "xaxis": "x",
         "y": [
          1.8761726078799248
         ],
         "yaxis": "y"
        },
        {
         "hovertemplate": "program=zhuff<br>ratio_enwik9=%{x}<br>comp_throughput=%{y}<extra></extra>",
         "legendgroup": "zhuff",
         "marker": {
          "color": "#FECB52",
          "symbol": "circle"
         },
         "mode": "markers",
         "name": "zhuff",
         "orientation": "v",
         "showlegend": true,
         "type": "scatter",
         "x": [
          3.2411746169795377
         ],
         "xaxis": "x",
         "y": [
          41.666666666666664
         ],
         "yaxis": "y"
        }
       ],
       "layout": {
        "legend": {
         "title": {
          "text": "program"
         },
         "tracegroupgap": 0
        },
        "template": {
         "data": {
          "bar": [
           {
            "error_x": {
             "color": "#2a3f5f"
            },
            "error_y": {
             "color": "#2a3f5f"
            },
            "marker": {
             "line": {
              "color": "#E5ECF6",
              "width": 0.5
             },
             "pattern": {
              "fillmode": "overlay",
              "size": 10,
              "solidity": 0.2
             }
            },
            "type": "bar"
           }
          ],
          "barpolar": [
           {
            "marker": {
             "line": {
              "color": "#E5ECF6",
              "width": 0.5
             },
             "pattern": {
              "fillmode": "overlay",
              "size": 10,
              "solidity": 0.2
             }
            },
            "type": "barpolar"
           }
          ],
          "carpet": [
           {
            "aaxis": {
             "endlinecolor": "#2a3f5f",
             "gridcolor": "white",
             "linecolor": "white",
             "minorgridcolor": "white",
             "startlinecolor": "#2a3f5f"
            },
            "baxis": {
             "endlinecolor": "#2a3f5f",
             "gridcolor": "white",
             "linecolor": "white",
             "minorgridcolor": "white",
             "startlinecolor": "#2a3f5f"
            },
            "type": "carpet"
           }
          ],
          "choropleth": [
           {
            "colorbar": {
             "outlinewidth": 0,
             "ticks": ""
            },
            "type": "choropleth"
           }
          ],
          "contour": [
           {
            "colorbar": {
             "outlinewidth": 0,
             "ticks": ""
            },
            "colorscale": [
             [
              0,
              "#0d0887"
             ],
             [
              0.1111111111111111,
              "#46039f"
             ],
             [
              0.2222222222222222,
              "#7201a8"
             ],
             [
              0.3333333333333333,
              "#9c179e"
             ],
             [
              0.4444444444444444,
              "#bd3786"
             ],
             [
              0.5555555555555556,
              "#d8576b"
             ],
             [
              0.6666666666666666,
              "#ed7953"
             ],
             [
              0.7777777777777778,
              "#fb9f3a"
             ],
             [
              0.8888888888888888,
              "#fdca26"
             ],
             [
              1,
              "#f0f921"
             ]
            ],
            "type": "contour"
           }
          ],
          "contourcarpet": [
           {
            "colorbar": {
             "outlinewidth": 0,
             "ticks": ""
            },
            "type": "contourcarpet"
           }
          ],
          "heatmap": [
           {
            "colorbar": {
             "outlinewidth": 0,
             "ticks": ""
            },
            "colorscale": [
             [
              0,
              "#0d0887"
             ],
             [
              0.1111111111111111,
              "#46039f"
             ],
             [
              0.2222222222222222,
              "#7201a8"
             ],
             [
              0.3333333333333333,
              "#9c179e"
             ],
             [
              0.4444444444444444,
              "#bd3786"
             ],
             [
              0.5555555555555556,
              "#d8576b"
             ],
             [
              0.6666666666666666,
              "#ed7953"
             ],
             [
              0.7777777777777778,
              "#fb9f3a"
             ],
             [
              0.8888888888888888,
              "#fdca26"
             ],
             [
              1,
              "#f0f921"
             ]
            ],
            "type": "heatmap"
           }
          ],
          "heatmapgl": [
           {
            "colorbar": {
             "outlinewidth": 0,
             "ticks": ""
            },
            "colorscale": [
             [
              0,
              "#0d0887"
             ],
             [
              0.1111111111111111,
              "#46039f"
             ],
             [
              0.2222222222222222,
              "#7201a8"
             ],
             [
              0.3333333333333333,
              "#9c179e"
             ],
             [
              0.4444444444444444,
              "#bd3786"
             ],
             [
              0.5555555555555556,
              "#d8576b"
             ],
             [
              0.6666666666666666,
              "#ed7953"
             ],
             [
              0.7777777777777778,
              "#fb9f3a"
             ],
             [
              0.8888888888888888,
              "#fdca26"
             ],
             [
              1,
              "#f0f921"
             ]
            ],
            "type": "heatmapgl"
           }
          ],
          "histogram": [
           {
            "marker": {
             "pattern": {
              "fillmode": "overlay",
              "size": 10,
              "solidity": 0.2
             }
            },
            "type": "histogram"
           }
          ],
          "histogram2d": [
           {
            "colorbar": {
             "outlinewidth": 0,
             "ticks": ""
            },
            "colorscale": [
             [
              0,
              "#0d0887"
             ],
             [
              0.1111111111111111,
              "#46039f"
             ],
             [
              0.2222222222222222,
              "#7201a8"
             ],
             [
              0.3333333333333333,
              "#9c179e"
             ],
             [
              0.4444444444444444,
              "#bd3786"
             ],
             [
              0.5555555555555556,
              "#d8576b"
             ],
             [
              0.6666666666666666,
              "#ed7953"
             ],
             [
              0.7777777777777778,
              "#fb9f3a"
             ],
             [
              0.8888888888888888,
              "#fdca26"
             ],
             [
              1,
              "#f0f921"
             ]
            ],
            "type": "histogram2d"
           }
          ],
          "histogram2dcontour": [
           {
            "colorbar": {
             "outlinewidth": 0,
             "ticks": ""
            },
            "colorscale": [
             [
              0,
              "#0d0887"
             ],
             [
              0.1111111111111111,
              "#46039f"
             ],
             [
              0.2222222222222222,
              "#7201a8"
             ],
             [
              0.3333333333333333,
              "#9c179e"
             ],
             [
              0.4444444444444444,
              "#bd3786"
             ],
             [
              0.5555555555555556,
              "#d8576b"
             ],
             [
              0.6666666666666666,
              "#ed7953"
             ],
             [
              0.7777777777777778,
              "#fb9f3a"
             ],
             [
              0.8888888888888888,
              "#fdca26"
             ],
             [
              1,
              "#f0f921"
             ]
            ],
            "type": "histogram2dcontour"
           }
          ],
          "mesh3d": [
           {
            "colorbar": {
             "outlinewidth": 0,
             "ticks": ""
            },
            "type": "mesh3d"
           }
          ],
          "parcoords": [
           {
            "line": {
             "colorbar": {
              "outlinewidth": 0,
              "ticks": ""
             }
            },
            "type": "parcoords"
           }
          ],
          "pie": [
           {
            "automargin": true,
            "type": "pie"
           }
          ],
          "scatter": [
           {
            "fillpattern": {
             "fillmode": "overlay",
             "size": 10,
             "solidity": 0.2
            },
            "type": "scatter"
           }
          ],
          "scatter3d": [
           {
            "line": {
             "colorbar": {
              "outlinewidth": 0,
              "ticks": ""
             }
            },
            "marker": {
             "colorbar": {
              "outlinewidth": 0,
              "ticks": ""
             }
            },
            "type": "scatter3d"
           }
          ],
          "scattercarpet": [
           {
            "marker": {
             "colorbar": {
              "outlinewidth": 0,
              "ticks": ""
             }
            },
            "type": "scattercarpet"
           }
          ],
          "scattergeo": [
           {
            "marker": {
             "colorbar": {
              "outlinewidth": 0,
              "ticks": ""
             }
            },
            "type": "scattergeo"
           }
          ],
          "scattergl": [
           {
            "marker": {
             "colorbar": {
              "outlinewidth": 0,
              "ticks": ""
             }
            },
            "type": "scattergl"
           }
          ],
          "scattermapbox": [
           {
            "marker": {
             "colorbar": {
              "outlinewidth": 0,
              "ticks": ""
             }
            },
            "type": "scattermapbox"
           }
          ],
          "scatterpolar": [
           {
            "marker": {
             "colorbar": {
              "outlinewidth": 0,
              "ticks": ""
             }
            },
            "type": "scatterpolar"
           }
          ],
          "scatterpolargl": [
           {
            "marker": {
             "colorbar": {
              "outlinewidth": 0,
              "ticks": ""
             }
            },
            "type": "scatterpolargl"
           }
          ],
          "scatterternary": [
           {
            "marker": {
             "colorbar": {
              "outlinewidth": 0,
              "ticks": ""
             }
            },
            "type": "scatterternary"
           }
          ],
          "surface": [
           {
            "colorbar": {
             "outlinewidth": 0,
             "ticks": ""
            },
            "colorscale": [
             [
              0,
              "#0d0887"
             ],
             [
              0.1111111111111111,
              "#46039f"
             ],
             [
              0.2222222222222222,
              "#7201a8"
             ],
             [
              0.3333333333333333,
              "#9c179e"
             ],
             [
              0.4444444444444444,
              "#bd3786"
             ],
             [
              0.5555555555555556,
              "#d8576b"
             ],
             [
              0.6666666666666666,
              "#ed7953"
             ],
             [
              0.7777777777777778,
              "#fb9f3a"
             ],
             [
              0.8888888888888888,
              "#fdca26"
             ],
             [
              1,
              "#f0f921"
             ]
            ],
            "type": "surface"
           }
          ],
          "table": [
           {
            "cells": {
             "fill": {
              "color": "#EBF0F8"
             },
             "line": {
              "color": "white"
             }
            },
            "header": {
             "fill": {
              "color": "#C8D4E3"
             },
             "line": {
              "color": "white"
             }
            },
            "type": "table"
           }
          ]
         },
         "layout": {
          "annotationdefaults": {
           "arrowcolor": "#2a3f5f",
           "arrowhead": 0,
           "arrowwidth": 1
          },
          "autotypenumbers": "strict",
          "coloraxis": {
           "colorbar": {
            "outlinewidth": 0,
            "ticks": ""
           }
          },
          "colorscale": {
           "diverging": [
            [
             0,
             "#8e0152"
            ],
            [
             0.1,
             "#c51b7d"
            ],
            [
             0.2,
             "#de77ae"
            ],
            [
             0.3,
             "#f1b6da"
            ],
            [
             0.4,
             "#fde0ef"
            ],
            [
             0.5,
             "#f7f7f7"
            ],
            [
             0.6,
             "#e6f5d0"
            ],
            [
             0.7,
             "#b8e186"
            ],
            [
             0.8,
             "#7fbc41"
            ],
            [
             0.9,
             "#4d9221"
            ],
            [
             1,
             "#276419"
            ]
           ],
           "sequential": [
            [
             0,
             "#0d0887"
            ],
            [
             0.1111111111111111,
             "#46039f"
            ],
            [
             0.2222222222222222,
             "#7201a8"
            ],
            [
             0.3333333333333333,
             "#9c179e"
            ],
            [
             0.4444444444444444,
             "#bd3786"
            ],
            [
             0.5555555555555556,
             "#d8576b"
            ],
            [
             0.6666666666666666,
             "#ed7953"
            ],
            [
             0.7777777777777778,
             "#fb9f3a"
            ],
            [
             0.8888888888888888,
             "#fdca26"
            ],
            [
             1,
             "#f0f921"
            ]
           ],
           "sequentialminus": [
            [
             0,
             "#0d0887"
            ],
            [
             0.1111111111111111,
             "#46039f"
            ],
            [
             0.2222222222222222,
             "#7201a8"
            ],
            [
             0.3333333333333333,
             "#9c179e"
            ],
            [
             0.4444444444444444,
             "#bd3786"
            ],
            [
             0.5555555555555556,
             "#d8576b"
            ],
            [
             0.6666666666666666,
             "#ed7953"
            ],
            [
             0.7777777777777778,
             "#fb9f3a"
            ],
            [
             0.8888888888888888,
             "#fdca26"
            ],
            [
             1,
             "#f0f921"
            ]
           ]
          },
          "colorway": [
           "#636efa",
           "#EF553B",
           "#00cc96",
           "#ab63fa",
           "#FFA15A",
           "#19d3f3",
           "#FF6692",
           "#B6E880",
           "#FF97FF",
           "#FECB52"
          ],
          "font": {
           "color": "#2a3f5f"
          },
          "geo": {
           "bgcolor": "white",
           "lakecolor": "white",
           "landcolor": "#E5ECF6",
           "showlakes": true,
           "showland": true,
           "subunitcolor": "white"
          },
          "hoverlabel": {
           "align": "left"
          },
          "hovermode": "closest",
          "mapbox": {
           "style": "light"
          },
          "paper_bgcolor": "white",
          "plot_bgcolor": "#E5ECF6",
          "polar": {
           "angularaxis": {
            "gridcolor": "white",
            "linecolor": "white",
            "ticks": ""
           },
           "bgcolor": "#E5ECF6",
           "radialaxis": {
            "gridcolor": "white",
            "linecolor": "white",
            "ticks": ""
           }
          },
          "scene": {
           "xaxis": {
            "backgroundcolor": "#E5ECF6",
            "gridcolor": "white",
            "gridwidth": 2,
            "linecolor": "white",
            "showbackground": true,
            "ticks": "",
            "zerolinecolor": "white"
           },
           "yaxis": {
            "backgroundcolor": "#E5ECF6",
            "gridcolor": "white",
            "gridwidth": 2,
            "linecolor": "white",
            "showbackground": true,
            "ticks": "",
            "zerolinecolor": "white"
           },
           "zaxis": {
            "backgroundcolor": "#E5ECF6",
            "gridcolor": "white",
            "gridwidth": 2,
            "linecolor": "white",
            "showbackground": true,
            "ticks": "",
            "zerolinecolor": "white"
           }
          },
          "shapedefaults": {
           "line": {
            "color": "#2a3f5f"
           }
          },
          "ternary": {
           "aaxis": {
            "gridcolor": "white",
            "linecolor": "white",
            "ticks": ""
           },
           "baxis": {
            "gridcolor": "white",
            "linecolor": "white",
            "ticks": ""
           },
           "bgcolor": "#E5ECF6",
           "caxis": {
            "gridcolor": "white",
            "linecolor": "white",
            "ticks": ""
           }
          },
          "title": {
           "x": 0.05
          },
          "xaxis": {
           "automargin": true,
           "gridcolor": "white",
           "linecolor": "white",
           "ticks": "",
           "title": {
            "standoff": 15
           },
           "zerolinecolor": "white",
           "zerolinewidth": 2
          },
          "yaxis": {
           "automargin": true,
           "gridcolor": "white",
           "linecolor": "white",
           "ticks": "",
           "title": {
            "standoff": 15
           },
           "zerolinecolor": "white",
           "zerolinewidth": 2
          }
         }
        },
        "title": {
         "text": "Hutter top compression throughput"
        },
        "width": 800,
        "xaxis": {
         "anchor": "y",
         "domain": [
          0,
          1
         ],
         "title": {
          "text": "Compression ratio (enwik9)"
         }
        },
        "yaxis": {
         "anchor": "x",
         "domain": [
          0,
          1
         ],
         "title": {
          "text": "Compression throughput (MB/s)"
         }
        }
       }
      }
     },
     "metadata": {},
     "output_type": "display_data"
    }
   ],
   "source": [
    "\n",
    "hutter_top_comp_df = hutter_df.sort_values(['decomp_throughput'], ascending=False).head(10)\n",
    "\n",
    "\n",
    "\n",
    "fig_hutter_top_compression_8 = px.scatter(\n",
    "    hutter_top_comp_df,\n",
    "    title=f\"Hutter top compression throughput\", \n",
    "    x=\"ratio_enwik8\",\n",
    "    y=\"comp_throughput\",\n",
    "    labels=\"program\",\n",
    "    color=\"program\",\n",
    "    width=800,\n",
    ")\n",
    "\n",
    "fig_hutter_top_compression_9 = px.scatter(\n",
    "    hutter_top_comp_df,\n",
    "    title=f\"Hutter top compression throughput\", \n",
    "    x=\"ratio_enwik9\",\n",
    "    y=\"comp_throughput\",\n",
    "    labels=\"program\",\n",
    "    color=\"program\",\n",
    "    width=800,\n",
    ")\n",
    "\n",
    "\n",
    "fig_hutter_top_compression_8.update_layout(\n",
    "    yaxis_title=\"Compression throughput (MB/s)\",\n",
    "    xaxis_title=\"Compression ratio (enwik8)\",\n",
    ")\n",
    "\n",
    "\n",
    "fig_hutter_top_compression_9.update_layout(\n",
    "    yaxis_title=\"Compression throughput (MB/s)\",\n",
    "    xaxis_title=\"Compression ratio (enwik9)\",\n",
    ")\n",
    "\n",
    "fig_hutter_top_compression_8.show()\n",
    "fig_hutter_top_compression_9.show()\n",
    "\n"
   ]
  },
  {
   "cell_type": "code",
   "execution_count": 20,
   "id": "9ed975fa",
   "metadata": {},
   "outputs": [
    {
     "name": "stderr",
     "output_type": "stream",
     "text": [
      "/var/folders/5z/1fjczghs4x101sqrk1z655tc0000gn/T/ipykernel_11682/2514111274.py:13: SettingWithCopyWarning:\n",
      "\n",
      "\n",
      "A value is trying to be set on a copy of a slice from a DataFrame\n",
      "\n",
      "See the caveats in the documentation: https://pandas.pydata.org/pandas-docs/stable/user_guide/indexing.html#returning-a-view-versus-a-copy\n",
      "\n"
     ]
    },
    {
     "data": {
      "application/vnd.plotly.v1+json": {
       "config": {
        "plotlyServerURL": "https://plot.ly"
       },
       "data": [
        {
         "customdata": [
          [
           "xdelta"
          ],
          [
           "acb"
          ],
          [
           "gzip124hack"
          ],
          [
           "lzrw3-a"
          ],
          [
           "gzip"
          ],
          [
           "cabarc"
          ],
          [
           "packet"
          ],
          [
           "pigz"
          ],
          [
           "FastLZ"
          ],
          [
           "snappy"
          ],
          [
           "lzop"
          ],
          [
           "QuickLZ"
          ],
          [
           "Info-ZIP"
          ],
          [
           "lzhhf"
          ],
          [
           "lzuf62"
          ],
          [
           "lza"
          ],
          [
           "NTFS"
          ],
          [
           "lzturbo"
          ],
          [
           "tornado"
          ],
          [
           "KuaiZip"
          ],
          [
           "lzip"
          ],
          [
           "quark"
          ],
          [
           "ulz"
          ],
          [
           "dzo"
          ],
          [
           "pucrunch"
          ],
          [
           "PeaZip"
          ],
          [
           "comprox"
          ],
          [
           "xz"
          ],
          [
           "pkzip"
          ],
          [
           "lazy"
          ],
          [
           "exdupe"
          ],
          [
           "lzf"
          ],
          [
           "zstd"
          ],
          [
           "xeloz"
          ],
          [
           "brieflz"
          ],
          [
           "lzham"
          ],
          [
           "kzip"
          ],
          [
           "uc2"
          ],
          [
           "lzc"
          ],
          [
           "lz4"
          ],
          [
           "arj"
          ],
          [
           "brotli"
          ],
          [
           "lz4x"
          ],
          [
           "barf"
          ],
          [
           "data-shrinker"
          ],
          [
           "plzma"
          ],
          [
           "lz5"
          ],
          [
           "lzs"
          ],
          [
           "zhuff"
          ],
          [
           "jar (Java)"
          ],
          [
           "doboz"
          ],
          [
           "MTCompressor"
          ],
          [
           "crush"
          ],
          [
           "lzv"
          ],
          [
           "csarc"
          ],
          [
           "lzgt3a"
          ],
          [
           "stz"
          ]
         ],
         "hovertemplate": "alg=LZ77<br>ratio_enwik8=%{x}<br>comp_throughput=%{y}<br>pareto=%{marker.size}<br>program=%{customdata[0]}<extra></extra>",
         "legendgroup": "LZ77",
         "marker": {
          "color": "#2E91E5",
          "size": [
           1,
           1,
           1,
           1,
           1,
           1,
           1,
           1,
           1,
           1,
           1,
           1,
           1,
           1,
           1,
           1,
           1,
           1,
           1,
           1,
           1,
           1,
           1,
           1,
           1,
           1,
           1,
           1,
           1,
           1,
           1,
           1,
           1,
           1,
           5,
           1,
           1,
           1,
           1,
           1,
           1,
           1,
           1,
           1,
           1,
           1,
           1,
           1,
           1,
           1,
           1,
           1,
           1,
           5,
           1,
           1,
           5
          ],
          "sizemode": "area",
          "sizeref": 0.0125,
          "symbol": "circle"
         },
         "mode": "markers",
         "name": "LZ77",
         "orientation": "v",
         "showlegend": true,
         "type": "scatter",
         "x": [
          2.25792437186181,
          3.9898409074877184,
          2.756817084855602,
          2.082934364613578,
          2.7438419406557477,
          3.513011333290732,
          4.005047641643716,
          2.8569067133965182,
          1.8295274162367339,
          1.7137782890168833,
          2.4261428734188097,
          2.156174384311951,
          2.7438325298522805,
          2.86952831525717,
          2.860339163572185,
          3.7883648178650797,
          1.2994497817756014,
          4.095544633102067,
          3.8807665522940082,
          3.861612922347019,
          4.039414506256508,
          4.349920857539918,
          3.035335063959973,
          3.7571223298366423,
          2.551074748658549,
          2.733693327940303,
          4.335688797438614,
          4.047964820918846,
          2.7354877451243214,
          2.8551783312978767,
          1.861593432387727,
          2.2124726908964583,
          3.9361399086760436,
          3.082493189539547,
          2.3094261537893064,
          3.9996688274210896,
          2.855784401300079,
          2.826070454727736,
          3.2667659001254927,
          2.332624619770524,
          2.696048781443916,
          3.8812797262362633,
          2.3837838621265184,
          1.31450390616009,
          1.935789213616024,
          4.131109689183156,
          2.7386449754299727,
          3.3974507024806893,
          2.8647156921505474,
          2.738214832887844,
          2.749713136177068,
          2.42156866021338,
          3.1514216173215495,
          1.8198081641944481,
          4.078935228221729,
          2.6706234623885416,
          2.1189892116326066
         ],
         "xaxis": "x",
         "y": [
          0.979431929480901,
          0.09384384384384384,
          6.7114093959731544,
          26.315789473684212,
          9.900990099009901,
          0.6176652254478073,
          1.026694045174538,
          0.44702726866338843,
          55.55555555555555,
          40,
          3.4602076124567476,
          20.833333333333332,
          9.615384615384615,
          2.5510204081632653,
          2.6666666666666665,
          2.2271714922048997,
          100,
          0.5208333333333334,
          0.6747638326585695,
          0.942507068803016,
          0.4151100041511,
          0.035775615340583856,
          3.0769230769230766,
          0.9191176470588235,
          0.3775009437523594,
          4.11522633744856,
          1.0905125408942202,
          0.17018379850238258,
          5.847953216374268,
          3.663003663003663,
          37.03703703703704,
          14.705882352941176,
          1.426533523537803,
          0.9267840593141798,
          47.61904761904761,
          0.9124087591240875,
          0.16493485073396008,
          2.7777777777777777,
          3.3112582781456954,
          10.989010989010989,
          3.8167938931297707,
          0.29411764705882354,
          12.658227848101266,
          1.3227513227513228,
          71.42857142857143,
          0.11249859376757791,
          0.09453582907922103,
          5.154639175257731,
          41.666666666666664,
          8.47457627118644,
          1.8761726078799248,
          5.780346820809248,
          1.0548523206751055,
          250,
          1.6103059581320451,
          0.6325110689437066,
          71.42857142857143
         ],
         "yaxis": "y"
        },
        {
         "customdata": [
          [
           "zpaq"
          ],
          [
           "paq8px_v206fix1"
          ],
          [
           "cmix-hp"
          ],
          [
           "fast-cmix"
          ],
          [
           "fpaq2"
          ],
          [
           "phda9"
          ],
          [
           "drt|emma"
          ],
          [
           "paq8hp12any"
          ],
          [
           "xwrt"
          ],
          [
           "fp8"
          ],
          [
           "RangeCoderC"
          ],
          [
           "PX"
          ],
          [
           "drt|lpaq9m"
          ],
          [
           "bit"
          ],
          [
           "mcm"
          ],
          [
           "cmm4"
          ],
          [
           "packARC"
          ],
          [
           "ccmx"
          ],
          [
           "TinyCM"
          ],
          [
           "nanozip"
          ],
          [
           "crushm"
          ],
          [
           "M1x2"
          ],
          [
           "mtari"
          ],
          [
           "zcm"
          ],
          [
           "bce3"
          ],
          [
           "fx-cmix"
          ],
          [
           "uda"
          ],
          [
           "cmix"
          ],
          [
           "enc"
          ],
          [
           "lrzip"
          ],
          [
           "tc"
          ],
          [
           "paq9a"
          ],
          [
           "cm4_ext"
          ],
          [
           "pimple2"
          ],
          [
           "cmve"
          ],
          [
           "ash"
          ],
          [
           "smac"
          ],
          [
           "WinRK"
          ],
          [
           "starlit"
          ],
          [
           "CTW"
          ],
          [
           "WinUDA"
          ]
         ],
         "hovertemplate": "alg=CM<br>ratio_enwik8=%{x}<br>comp_throughput=%{y}<br>pareto=%{marker.size}<br>program=%{customdata[0]}<extra></extra>",
         "legendgroup": "CM",
         "marker": {
          "color": "#E15F99",
          "size": [
           1,
           1,
           1,
           1,
           1,
           5,
           1,
           1,
           1,
           1,
           1,
           1,
           5,
           1,
           5,
           1,
           1,
           1,
           1,
           1,
           1,
           1,
           1,
           1,
           1,
           1,
           1,
           5,
           1,
           1,
           1,
           1,
           1,
           1,
           1,
           1,
           1,
           1,
           1,
           1,
           1
          ],
          "sizemode": "area",
          "sizeref": 0.0125,
          "symbol": "circle"
         },
         "mode": "markers",
         "name": "CM",
         "orientation": "v",
         "showlegend": true,
         "type": "scatter",
         "x": [
          5.600443420708278,
          6.309512903080077,
          6.266709004552702,
          null,
          3.9544799809394067,
          6.662041433367527,
          6.051980338084198,
          6.161418821951509,
          5.353392996541387,
          5.423532022078765,
          3.473668015920376,
          4.004505709644263,
          5.566456223078182,
          4.802334933663427,
          5.4844722251244225,
          4.8616770238213425,
          2.605858778349952,
          4.794340760166699,
          3.8589767807296593,
          5.37803180492717,
          3.9978290189295604,
          4.825543105225407,
          2.4006417587600857,
          5.109316639629014,
          4.399636977153741,
          null,
          5.15637745920532,
          6.774814383635517,
          4.513250044613477,
          5.038369704484502,
          4.655190288118572,
          5.006480388214505,
          4.95342590824036,
          4.791232351435743,
          6.0885588186442385,
          5.009240796960192,
          4.591042765379718,
          5.372746945284429,
          6.572415166058313,
          4.224704780798446,
          4.918266767379655
         ],
         "xaxis": "x",
         "y": [
          0.14927601134497687,
          0.0034256429931898216,
          0.005279273571956498,
          null,
          0.04954664816925135,
          0.011603351047782599,
          0.013697504314713858,
          0.02655337227827934,
          0.3941663381947182,
          0.0485319097306479,
          0.4065040650406504,
          0.544069640914037,
          1.1520737327188941,
          0.48780487804878053,
          2.5380710659898478,
          0.4873294346978557,
          0.7358351729212657,
          0.7616146230007617,
          0.7451564828614009,
          0.8703220191470844,
          1.6207455429497568,
          1.4064697609001406,
          12.5,
          2.375296912114014,
          0.8688097306689835,
          0.000008917245014655892,
          0.03955383276639506,
          0.001608285888899611,
          0.14613473622680112,
          0.33478406427854035,
          0.27495188342040144,
          0.25018764073054794,
          0.24254183846713556,
          0.054130128829706615,
          0.0008765770717241658,
          0.16393442622950818,
          0.23534949399858793,
          0.014586828094230907,
          0.0057486792409443925,
          0.052026429426148484,
          0.042354934349851756
         ],
         "yaxis": "y"
        },
        {
         "customdata": [
          [
           "pim"
          ],
          [
           "ppms"
          ],
          [
           "crook"
          ],
          [
           "diz"
          ],
          [
           "slim"
          ],
          [
           "WinRAR"
          ],
          [
           "WinTurtle"
          ],
          [
           "ppmvc"
          ],
          [
           "bee"
          ],
          [
           "boa"
          ],
          [
           "ppmonstr"
          ],
          [
           "7zip"
          ],
          [
           "ha"
          ],
          [
           "epmopt|epm"
          ],
          [
           "ppmx"
          ],
          [
           "ppmd"
          ],
          [
           "FreeArc"
          ],
          [
           "arbc2z"
          ],
          [
           "CTXf"
          ],
          [
           "Stuffit"
          ],
          [
           "uharc"
          ],
          [
           "scmppm"
          ],
          [
           "durilca'kingsize"
          ],
          [
           "LZPXj"
          ]
         ],
         "hovertemplate": "alg=PPM<br>ratio_enwik8=%{x}<br>comp_throughput=%{y}<br>pareto=%{marker.size}<br>program=%{customdata[0]}<extra></extra>",
         "legendgroup": "PPM",
         "marker": {
          "color": "#1CA71C",
          "size": [
           1,
           1,
           1,
           1,
           1,
           1,
           1,
           1,
           1,
           1,
           1,
           1,
           1,
           1,
           1,
           1,
           1,
           1,
           1,
           1,
           1,
           1,
           5,
           1
          ],
          "sizemode": "area",
          "sizeref": 0.0125,
          "symbol": "circle"
         },
         "mode": "markers",
         "name": "PPM",
         "orientation": "v",
         "showlegend": true,
         "type": "scatter",
         "x": [
          4.1146103311775795,
          3.8008003573360463,
          4.44372811547223,
          3.76715146389999,
          5.241838509858535,
          4.402654642253712,
          3.5236563487901105,
          4.65456300309426,
          4.767354529182264,
          4.111395295322141,
          5.247941075277936,
          4.717524314945886,
          3.1999463432997155,
          5.072665424945806,
          4.430109005490145,
          4.675454276488412,
          4.777464508813347,
          2.580243176050224,
          4.530466321351503,
          4.523729539962943,
          4.1821540544122495,
          3.9684379022011815,
          6.169348492738708,
          3.9673435258884835
         ],
         "xaxis": "x",
         "y": [
          1.3089005235602094,
          3.0303030303030303,
          2.070393374741201,
          0.047080979284369114,
          0.191131498470948,
          1.976284584980237,
          3.663003663003663,
          1.1135857461024499,
          0.10758472296933835,
          0.25297242600556535,
          0.27979854504756574,
          1.9880715705765408,
          0.49751243781094523,
          0.31456432840515886,
          1.287001287001287,
          1.1363636363636365,
          0.851063829787234,
          0.376081233546446,
          0.8992805755395683,
          1.5923566878980893,
          0.6002400960384154,
          1.4124293785310735,
          0.7153075822603719,
          1.277139208173691
         ],
         "yaxis": "y"
        },
        {
         "customdata": [
          [
           "bbb"
          ],
          [
           "uhbc"
          ],
          [
           "nanozipltcb"
          ],
          [
           "BWTmix"
          ],
          [
           "chile"
          ],
          [
           "bcm"
          ],
          [
           "fbc"
          ],
          [
           "bsc"
          ],
          [
           "sbc"
          ],
          [
           "bzip2"
          ],
          [
           "dark"
          ],
          [
           "m03exp"
          ],
          [
           "4x4"
          ],
          [
           "bssc"
          ],
          [
           "bwmonstr"
          ],
          [
           "rings"
          ],
          [
           "bwtdisk"
          ],
          [
           "pcompress"
          ],
          [
           "GRZipII"
          ],
          [
           "bsc-m03"
          ],
          [
           "bwtsdc"
          ],
          [
           "mcomp"
          ],
          [
           "M03"
          ],
          [
           "szip"
          ]
         ],
         "hovertemplate": "alg=BWT<br>ratio_enwik8=%{x}<br>comp_throughput=%{y}<br>pareto=%{marker.size}<br>program=%{customdata[0]}<extra></extra>",
         "legendgroup": "BWT",
         "marker": {
          "color": "#FB0D0D",
          "size": [
           1,
           1,
           5,
           1,
           1,
           5,
           1,
           5,
           1,
           1,
           1,
           1,
           1,
           1,
           1,
           1,
           1,
           1,
           1,
           5,
           1,
           1,
           1,
           1
          ],
          "sizemode": "area",
          "sizeref": 0.0125,
          "symbol": "circle"
         },
         "mode": "markers",
         "name": "BWT",
         "orientation": "v",
         "showlegend": true,
         "type": "scatter",
         "x": [
          4.796786536763292,
          4.777639576590293,
          4.8690465072819995,
          4.852297754652589,
          4.50066940706426,
          4.8219192878218085,
          4.4337771706853015,
          4.81074666925549,
          4.4502715310923335,
          3.4472374115163102,
          4.723705951382957,
          4.5561839444451735,
          4.195819922793556,
          4.325809409768828,
          4.924338765945932,
          4.790658063475165,
          4.0444440723555894,
          4.8146439127879255,
          4.193421042368732,
          4.92771218691719,
          4.27077481037226,
          4.7385123061533845,
          4.828539293952636,
          3.828414739212982
         ],
         "xaxis": "x",
         "y": [
          0.22104332449160036,
          0.6373486297004461,
          15.625,
          0.5574136008918618,
          0.3979307600477517,
          15.873015873015873,
          2.2172949002217295,
          43.47826086956522,
          0.5770340450086555,
          2.638522427440633,
          1.8761726078799248,
          0.20833333333333334,
          2.5906735751295336,
          1.7301038062283738,
          0.003013854690009976,
          3.571428571428571,
          0.889679715302491,
          2.785515320334262,
          3.2051282051282053,
          6.25,
          0.47619047619047616,
          2.1141649048625792,
          2.1881838074398248,
          0.8396305625524769
         ],
         "yaxis": "y"
        },
        {
         "customdata": [
          [
           "rh5_x64"
          ],
          [
           "xpv5"
          ],
          [
           "zlite"
          ],
          [
           "comprolz"
          ],
          [
           "irolz"
          ],
          [
           "balz"
          ],
          [
           "etincelle"
          ],
          [
           "lzpm"
          ],
          [
           "quad"
          ],
          [
           "flashzip"
          ],
          [
           "libzling"
          ],
          [
           "rzm"
          ],
          [
           "slug"
          ]
         ],
         "hovertemplate": "alg=ROLZ<br>ratio_enwik8=%{x}<br>comp_throughput=%{y}<br>pareto=%{marker.size}<br>program=%{customdata[0]}<extra></extra>",
         "legendgroup": "ROLZ",
         "marker": {
          "color": "#DA16FF",
          "size": [
           1,
           1,
           1,
           1,
           1,
           1,
           1,
           1,
           1,
           1,
           1,
           1,
           1
          ],
          "sizemode": "area",
          "sizeref": 0.0125,
          "symbol": "circle"
         },
         "mode": "markers",
         "name": "ROLZ",
         "orientation": "v",
         "showlegend": true,
         "type": "scatter",
         "x": [
          3.4389607845672647,
          3.3374253505556495,
          2.9432679221470317,
          4.383424256510974,
          3.002040547000607,
          3.784808505342787,
          2.795094084404183,
          3.773365338515019,
          3.43517729413764,
          4.189528574972913,
          3.364611434147455,
          4.1049100060054835,
          2.849493676318149
         ],
         "xaxis": "x",
         "y": [
          5.1020408163265305,
          0.42390843577787196,
          16.39344262295082,
          1.016260162601626,
          3.64963503649635,
          0.27027027027027023,
          34.48275862068965,
          0.06495615459564794,
          1.0460251046025104,
          0.7716049382716049,
          12.048192771084336,
          0.42808219178082196,
          31.25
         ],
         "yaxis": "y"
        },
        {
         "customdata": [
          [
           "thor"
          ],
          [
           "lzp2"
          ],
          [
           "flzp"
          ],
          [
           "sharc"
          ],
          [
           "lzbw1"
          ],
          [
           "bzp"
          ],
          [
           "TarsaLZP"
          ],
          [
           "qazar"
          ],
          [
           "TinyLZP"
          ],
          [
           "lzpgt6"
          ]
         ],
         "hovertemplate": "alg=LZP<br>ratio_enwik8=%{x}<br>comp_throughput=%{y}<br>pareto=%{marker.size}<br>program=%{customdata[0]}<extra></extra>",
         "legendgroup": "LZP",
         "marker": {
          "color": "#222A2A",
          "size": [
           1,
           1,
           1,
           1,
           1,
           1,
           1,
           1,
           1,
           1
          ],
          "sizemode": "area",
          "sizeref": 0.0125,
          "symbol": "circle"
         },
         "mode": "markers",
         "name": "LZP",
         "orientation": "v",
         "showlegend": true,
         "type": "scatter",
         "x": [
          2.793671908489142,
          1.472557217535989,
          1.7431843540000216,
          1.8805814953564117,
          1.4788428752514995,
          3.1681798157481667,
          4.040177300756738,
          3.7799794898312884,
          1.262298798092101,
          1.7821103494133863
         ],
         "xaxis": "x",
         "y": [
          15.625,
          90.90909090909092,
          12.820512820512821,
          66.66666666666667,
          66.66666666666667,
          9.090909090909092,
          4.926108374384236,
          0.17427675148135238,
          31.25,
          166.66666666666666
         ],
         "yaxis": "y"
        },
        {
         "customdata": [
          [
           "lcssr"
          ],
          [
           "srank"
          ],
          [
           "ksc"
          ],
          [
           "ppp"
          ],
          [
           "sr3c"
          ],
          [
           "sr3"
          ]
         ],
         "hovertemplate": "alg=SR<br>ratio_enwik8=%{x}<br>comp_throughput=%{y}<br>pareto=%{marker.size}<br>program=%{customdata[0]}<extra></extra>",
         "legendgroup": "SR",
         "marker": {
          "color": "#B68100",
          "size": [
           1,
           1,
           1,
           1,
           1,
           1
          ],
          "sizemode": "area",
          "sizeref": 0.0125,
          "symbol": "circle"
         },
         "mode": "markers",
         "name": "SR",
         "orientation": "v",
         "showlegend": true,
         "type": "scatter",
         "x": [
          2.894435759850749,
          2.3206465674075076,
          1.680354300687875,
          1.6218503200502656,
          3.3634905012841974,
          3.4570148379570966
         ],
         "xaxis": "x",
         "y": [
          0.1221597849987784,
          19.6078431372549,
          0.024968789013732832,
          12.5,
          6.25,
          6.756756756756757
         ],
         "yaxis": "y"
        },
        {
         "customdata": [
          [
           "compact"
          ],
          [
           "shindlet_fs"
          ],
          [
           "fpaq0f2"
          ],
          [
           "arb255"
          ]
         ],
         "hovertemplate": "alg=o0<br>ratio_enwik8=%{x}<br>comp_throughput=%{y}<br>pareto=%{marker.size}<br>program=%{customdata[0]}<extra></extra>",
         "legendgroup": "o0",
         "marker": {
          "color": "#750D86",
          "size": [
           1,
           1,
           1,
           1
          ],
          "sizemode": "area",
          "sizeref": 0.0125,
          "symbol": "circle"
         },
         "mode": "markers",
         "name": "o0",
         "orientation": "v",
         "showlegend": true,
         "type": "scatter",
         "x": [
          1.5658673242808352,
          1.5900711631578859,
          1.7569482736155986,
          1.5747536502632138
         ],
         "xaxis": "x",
         "y": [
          4.62962962962963,
          8.849557522123893,
          4.504504504504505,
          0.3920031360250882
         ],
         "yaxis": "y"
        },
        {
         "customdata": [
          [
           "lzw"
          ],
          [
           "lzwc_bitwise"
          ],
          [
           "compress"
          ],
          [
           "lzwg"
          ]
         ],
         "hovertemplate": "alg=LZW<br>ratio_enwik8=%{x}<br>comp_throughput=%{y}<br>pareto=%{marker.size}<br>program=%{customdata[0]}<extra></extra>",
         "legendgroup": "LZW",
         "marker": {
          "color": "#EB663B",
          "size": [
           1,
           1,
           1,
           1
          ],
          "sizemode": "area",
          "sizeref": 0.0125,
          "symbol": "circle"
         },
         "mode": "markers",
         "name": "LZW",
         "orientation": "v",
         "showlegend": true,
         "type": "scatter",
         "x": [
          2.383165660946926,
          2.144109272041883,
          2.1851264951154445,
          2.905003284251463
         ],
         "xaxis": "x",
         "y": [
          0.2780094523213789,
          8.130081300813009,
          9.70873786407767,
          7.4074074074074066
         ],
         "yaxis": "y"
        },
        {
         "customdata": [
          [
           "glza"
          ],
          [
           "kwc"
          ],
          [
           "bpe"
          ],
          [
           "bpe2"
          ]
         ],
         "hovertemplate": "alg=Dict<br>ratio_enwik8=%{x}<br>comp_throughput=%{y}<br>pareto=%{marker.size}<br>program=%{customdata[0]}<extra></extra>",
         "legendgroup": "Dict",
         "marker": {
          "color": "#511CFB",
          "size": [
           1,
           1,
           1,
           1
          ],
          "sizemode": "area",
          "sizeref": 0.0125,
          "symbol": "circle"
         },
         "mode": "markers",
         "name": "Dict",
         "orientation": "v",
         "showlegend": true,
         "type": "scatter",
         "x": [
          4.912533085296263,
          1.8485060558906896,
          1.855058113683786,
          1.808671592752559
         ],
         "xaxis": "x",
         "y": [
          0.12218963831867057,
          2.2831050228310503,
          1.5649452269170578,
          1.9305019305019304
         ],
         "yaxis": "y"
        },
        {
         "customdata": [
          [
           "hook"
          ],
          [
           "dmc"
          ],
          [
           "ocamyd"
          ]
         ],
         "hovertemplate": "alg=DMC<br>ratio_enwik8=%{x}<br>comp_throughput=%{y}<br>pareto=%{marker.size}<br>program=%{customdata[0]}<extra></extra>",
         "legendgroup": "DMC",
         "marker": {
          "color": "#00A08B",
          "size": [
           1,
           1,
           1
          ],
          "sizemode": "area",
          "sizeref": 0.0125,
          "symbol": "circle"
         },
         "mode": "markers",
         "name": "DMC",
         "orientation": "v",
         "showlegend": true,
         "type": "scatter",
         "x": [
          4.547417789734859,
          3.949366436712173,
          4.698117525383107
         ],
         "xaxis": "x",
         "y": [
          1.349527665317139,
          1.4792899408284024,
          0.009177679882525696
         ],
         "yaxis": "y"
        },
        {
         "customdata": [
          [
           "tensorflow-compress"
          ],
          [
           "lstm-compress"
          ]
         ],
         "hovertemplate": "alg=LSTM<br>ratio_enwik8=%{x}<br>comp_throughput=%{y}<br>pareto=%{marker.size}<br>program=%{customdata[0]}<extra></extra>",
         "legendgroup": "LSTM",
         "marker": {
          "color": "#FB00D1",
          "size": [
           1,
           1
          ],
          "sizemode": "area",
          "sizeref": 0.0125,
          "symbol": "circle"
         },
         "mode": "markers",
         "name": "LSTM",
         "orientation": "v",
         "showlegend": true,
         "type": "scatter",
         "x": [
          6.2873164017160095,
          4.92158609136147
         ],
         "xaxis": "x",
         "y": [
          0.0034317796522920856,
          0.010829308440362999
         ],
         "yaxis": "y"
        },
        {
         "customdata": [
          [
           "nakamichi"
          ],
          [
           "lzss"
          ]
         ],
         "hovertemplate": "alg=LZSS<br>ratio_enwik8=%{x}<br>comp_throughput=%{y}<br>pareto=%{marker.size}<br>program=%{customdata[0]}<extra></extra>",
         "legendgroup": "LZSS",
         "marker": {
          "color": "#FC0080",
          "size": [
           1,
           1
          ],
          "sizemode": "area",
          "sizeref": 0.0125,
          "symbol": "circle"
         },
         "mode": "markers",
         "name": "LZSS",
         "orientation": "v",
         "showlegend": true,
         "type": "scatter",
         "x": [
          3.0378619673291314,
          2.332394863161542
         ],
         "xaxis": "x",
         "y": [
          0.00012195121951219512,
          9.345794392523365
         ],
         "yaxis": "y"
        },
        {
         "customdata": [
          [
           "arb2x"
          ]
         ],
         "hovertemplate": "alg=o0b<br>ratio_enwik8=%{x}<br>comp_throughput=%{y}<br>pareto=%{marker.size}<br>program=%{customdata[0]}<extra></extra>",
         "legendgroup": "o0b",
         "marker": {
          "color": "#B2828D",
          "size": [
           1
          ],
          "sizemode": "area",
          "sizeref": 0.0125,
          "symbol": "circle"
         },
         "mode": "markers",
         "name": "o0b",
         "orientation": "v",
         "showlegend": true,
         "type": "scatter",
         "x": [
          1.0035837070955045
         ],
         "xaxis": "x",
         "y": [
          0.382262996941896
         ],
         "yaxis": "y"
        },
        {
         "customdata": [
          [
           "runcoder1"
          ]
         ],
         "hovertemplate": "alg=o1<br>ratio_enwik8=%{x}<br>comp_throughput=%{y}<br>pareto=%{marker.size}<br>program=%{customdata[0]}<extra></extra>",
         "legendgroup": "o1",
         "marker": {
          "color": "#6C7C32",
          "size": [
           1
          ],
          "sizemode": "area",
          "sizeref": 0.0125,
          "symbol": "circle"
         },
         "mode": "markers",
         "name": "o1",
         "orientation": "v",
         "showlegend": true,
         "type": "scatter",
         "x": [
          2.1329265870770797
         ],
         "xaxis": "x",
         "y": [
          7.142857142857142
         ],
         "yaxis": "y"
        },
        {
         "customdata": [
          [
           "alba"
          ]
         ],
         "hovertemplate": "alg=BPE<br>ratio_enwik8=%{x}<br>comp_throughput=%{y}<br>pareto=%{marker.size}<br>program=%{customdata[0]}<extra></extra>",
         "legendgroup": "BPE",
         "marker": {
          "color": "#778AAE",
          "size": [
           1
          ],
          "sizemode": "area",
          "sizeref": 0.0125,
          "symbol": "circle"
         },
         "mode": "markers",
         "name": "BPE",
         "orientation": "v",
         "showlegend": true,
         "type": "scatter",
         "x": [
          1.8965032652096716
         ],
         "xaxis": "x",
         "y": [
          4.184100418410042
         ],
         "yaxis": "y"
        },
        {
         "customdata": [
          [
           "nncp"
          ]
         ],
         "hovertemplate": "alg=Tr<br>ratio_enwik8=%{x}<br>comp_throughput=%{y}<br>pareto=%{marker.size}<br>program=%{customdata[0]}<extra></extra>",
         "legendgroup": "Tr",
         "marker": {
          "color": "#862A16",
          "size": [
           5
          ],
          "sizemode": "area",
          "sizeref": 0.0125,
          "symbol": "circle"
         },
         "mode": "markers",
         "name": "Tr",
         "orientation": "v",
         "showlegend": true,
         "type": "scatter",
         "x": [
          6.7045257828573055
         ],
         "xaxis": "x",
         "y": [
          0.004134435298154802
         ],
         "yaxis": "y"
        },
        {
         "customdata": [
          [
           "smile"
          ]
         ],
         "hovertemplate": "alg=MTF<br>ratio_enwik8=%{x}<br>comp_throughput=%{y}<br>pareto=%{marker.size}<br>program=%{customdata[0]}<extra></extra>",
         "legendgroup": "MTF",
         "marker": {
          "color": "#A777F1",
          "size": [
           1
          ],
          "sizemode": "area",
          "sizeref": 0.0125,
          "symbol": "circle"
         },
         "mode": "markers",
         "name": "MTF",
         "orientation": "v",
         "showlegend": true,
         "type": "scatter",
         "x": [
          1.4053868026421497
         ],
         "xaxis": "x",
         "y": [
          0.09508414947228297
         ],
         "yaxis": "y"
        },
        {
         "customdata": [
          [
           "yxz"
          ]
         ],
         "hovertemplate": "alg=LZ<br>ratio_enwik8=%{x}<br>comp_throughput=%{y}<br>pareto=%{marker.size}<br>program=%{customdata[0]}<extra></extra>",
         "legendgroup": "LZ",
         "marker": {
          "color": "#620042",
          "size": [
           1
          ],
          "sizemode": "area",
          "sizeref": 0.0125,
          "symbol": "circle"
         },
         "mode": "markers",
         "name": "LZ",
         "orientation": "v",
         "showlegend": true,
         "type": "scatter",
         "x": [
          3.882762924397636
         ],
         "xaxis": "x",
         "y": [
          1.557632398753894
         ],
         "yaxis": "y"
        },
        {
         "customdata": [
          [
           "fcm1"
          ]
         ],
         "hovertemplate": "alg=CM1<br>ratio_enwik8=%{x}<br>comp_throughput=%{y}<br>pareto=%{marker.size}<br>program=%{customdata[0]}<extra></extra>",
         "legendgroup": "CM1",
         "marker": {
          "color": "#1616A7",
          "size": [
           1
          ],
          "sizemode": "area",
          "sizeref": 0.0125,
          "symbol": "circle"
         },
         "mode": "markers",
         "name": "CM1",
         "orientation": "v",
         "showlegend": true,
         "type": "scatter",
         "x": [
          2.20253522817439
         ],
         "xaxis": "x",
         "y": [
          4.385964912280701
         ],
         "yaxis": "y"
        },
        {
         "customdata": [
          [
           "comprox_ba"
          ]
         ],
         "hovertemplate": "alg=BWTS<br>ratio_enwik8=%{x}<br>comp_throughput=%{y}<br>pareto=%{marker.size}<br>program=%{customdata[0]}<extra></extra>",
         "legendgroup": "BWTS",
         "marker": {
          "color": "#DA60CA",
          "size": [
           1
          ],
          "sizemode": "area",
          "sizeref": 0.0125,
          "symbol": "circle"
         },
         "mode": "markers",
         "name": "BWTS",
         "orientation": "v",
         "showlegend": true,
         "type": "scatter",
         "x": [
          3.593478540770296
         ],
         "xaxis": "x",
         "y": [
          2.5188916876574305
         ],
         "yaxis": "y"
        },
        {
         "customdata": [
          [
           "urban"
          ]
         ],
         "hovertemplate": "alg=o2<br>ratio_enwik8=%{x}<br>comp_throughput=%{y}<br>pareto=%{marker.size}<br>program=%{customdata[0]}<extra></extra>",
         "legendgroup": "o2",
         "marker": {
          "color": "#6C4516",
          "size": [
           1
          ],
          "sizemode": "area",
          "sizeref": 0.0125,
          "symbol": "circle"
         },
         "mode": "markers",
         "name": "o2",
         "orientation": "v",
         "showlegend": true,
         "type": "scatter",
         "x": [
          2.6167212728423084
         ],
         "xaxis": "x",
         "y": [
          2.6246719160104988
         ],
         "yaxis": "y"
        },
        {
         "line": {
          "color": "#000000"
         },
         "mode": "lines",
         "name": "Pareto front",
         "type": "scatter",
         "x": [
          6.774814383635517,
          6.7045257828573055,
          6.662041433367527,
          6.169348492738708,
          5.566456223078182,
          5.4844722251244225,
          4.92771218691719,
          4.8690465072819995,
          4.8219192878218085,
          4.81074666925549,
          2.3094261537893064,
          2.1189892116326066,
          1.8198081641944481
         ],
         "y": [
          0.001608285888899611,
          0.004134435298154802,
          0.011603351047782599,
          0.7153075822603719,
          1.1520737327188941,
          2.5380710659898478,
          6.25,
          15.625,
          15.873015873015873,
          43.47826086956522,
          47.61904761904761,
          71.42857142857143,
          250
         ]
        }
       ],
       "layout": {
        "height": 650,
        "legend": {
         "itemsizing": "constant",
         "title": {
          "text": "alg"
         },
         "tracegroupgap": 0
        },
        "template": {
         "data": {
          "bar": [
           {
            "error_x": {
             "color": "#2a3f5f"
            },
            "error_y": {
             "color": "#2a3f5f"
            },
            "marker": {
             "line": {
              "color": "#E5ECF6",
              "width": 0.5
             },
             "pattern": {
              "fillmode": "overlay",
              "size": 10,
              "solidity": 0.2
             }
            },
            "type": "bar"
           }
          ],
          "barpolar": [
           {
            "marker": {
             "line": {
              "color": "#E5ECF6",
              "width": 0.5
             },
             "pattern": {
              "fillmode": "overlay",
              "size": 10,
              "solidity": 0.2
             }
            },
            "type": "barpolar"
           }
          ],
          "carpet": [
           {
            "aaxis": {
             "endlinecolor": "#2a3f5f",
             "gridcolor": "white",
             "linecolor": "white",
             "minorgridcolor": "white",
             "startlinecolor": "#2a3f5f"
            },
            "baxis": {
             "endlinecolor": "#2a3f5f",
             "gridcolor": "white",
             "linecolor": "white",
             "minorgridcolor": "white",
             "startlinecolor": "#2a3f5f"
            },
            "type": "carpet"
           }
          ],
          "choropleth": [
           {
            "colorbar": {
             "outlinewidth": 0,
             "ticks": ""
            },
            "type": "choropleth"
           }
          ],
          "contour": [
           {
            "colorbar": {
             "outlinewidth": 0,
             "ticks": ""
            },
            "colorscale": [
             [
              0,
              "#0d0887"
             ],
             [
              0.1111111111111111,
              "#46039f"
             ],
             [
              0.2222222222222222,
              "#7201a8"
             ],
             [
              0.3333333333333333,
              "#9c179e"
             ],
             [
              0.4444444444444444,
              "#bd3786"
             ],
             [
              0.5555555555555556,
              "#d8576b"
             ],
             [
              0.6666666666666666,
              "#ed7953"
             ],
             [
              0.7777777777777778,
              "#fb9f3a"
             ],
             [
              0.8888888888888888,
              "#fdca26"
             ],
             [
              1,
              "#f0f921"
             ]
            ],
            "type": "contour"
           }
          ],
          "contourcarpet": [
           {
            "colorbar": {
             "outlinewidth": 0,
             "ticks": ""
            },
            "type": "contourcarpet"
           }
          ],
          "heatmap": [
           {
            "colorbar": {
             "outlinewidth": 0,
             "ticks": ""
            },
            "colorscale": [
             [
              0,
              "#0d0887"
             ],
             [
              0.1111111111111111,
              "#46039f"
             ],
             [
              0.2222222222222222,
              "#7201a8"
             ],
             [
              0.3333333333333333,
              "#9c179e"
             ],
             [
              0.4444444444444444,
              "#bd3786"
             ],
             [
              0.5555555555555556,
              "#d8576b"
             ],
             [
              0.6666666666666666,
              "#ed7953"
             ],
             [
              0.7777777777777778,
              "#fb9f3a"
             ],
             [
              0.8888888888888888,
              "#fdca26"
             ],
             [
              1,
              "#f0f921"
             ]
            ],
            "type": "heatmap"
           }
          ],
          "heatmapgl": [
           {
            "colorbar": {
             "outlinewidth": 0,
             "ticks": ""
            },
            "colorscale": [
             [
              0,
              "#0d0887"
             ],
             [
              0.1111111111111111,
              "#46039f"
             ],
             [
              0.2222222222222222,
              "#7201a8"
             ],
             [
              0.3333333333333333,
              "#9c179e"
             ],
             [
              0.4444444444444444,
              "#bd3786"
             ],
             [
              0.5555555555555556,
              "#d8576b"
             ],
             [
              0.6666666666666666,
              "#ed7953"
             ],
             [
              0.7777777777777778,
              "#fb9f3a"
             ],
             [
              0.8888888888888888,
              "#fdca26"
             ],
             [
              1,
              "#f0f921"
             ]
            ],
            "type": "heatmapgl"
           }
          ],
          "histogram": [
           {
            "marker": {
             "pattern": {
              "fillmode": "overlay",
              "size": 10,
              "solidity": 0.2
             }
            },
            "type": "histogram"
           }
          ],
          "histogram2d": [
           {
            "colorbar": {
             "outlinewidth": 0,
             "ticks": ""
            },
            "colorscale": [
             [
              0,
              "#0d0887"
             ],
             [
              0.1111111111111111,
              "#46039f"
             ],
             [
              0.2222222222222222,
              "#7201a8"
             ],
             [
              0.3333333333333333,
              "#9c179e"
             ],
             [
              0.4444444444444444,
              "#bd3786"
             ],
             [
              0.5555555555555556,
              "#d8576b"
             ],
             [
              0.6666666666666666,
              "#ed7953"
             ],
             [
              0.7777777777777778,
              "#fb9f3a"
             ],
             [
              0.8888888888888888,
              "#fdca26"
             ],
             [
              1,
              "#f0f921"
             ]
            ],
            "type": "histogram2d"
           }
          ],
          "histogram2dcontour": [
           {
            "colorbar": {
             "outlinewidth": 0,
             "ticks": ""
            },
            "colorscale": [
             [
              0,
              "#0d0887"
             ],
             [
              0.1111111111111111,
              "#46039f"
             ],
             [
              0.2222222222222222,
              "#7201a8"
             ],
             [
              0.3333333333333333,
              "#9c179e"
             ],
             [
              0.4444444444444444,
              "#bd3786"
             ],
             [
              0.5555555555555556,
              "#d8576b"
             ],
             [
              0.6666666666666666,
              "#ed7953"
             ],
             [
              0.7777777777777778,
              "#fb9f3a"
             ],
             [
              0.8888888888888888,
              "#fdca26"
             ],
             [
              1,
              "#f0f921"
             ]
            ],
            "type": "histogram2dcontour"
           }
          ],
          "mesh3d": [
           {
            "colorbar": {
             "outlinewidth": 0,
             "ticks": ""
            },
            "type": "mesh3d"
           }
          ],
          "parcoords": [
           {
            "line": {
             "colorbar": {
              "outlinewidth": 0,
              "ticks": ""
             }
            },
            "type": "parcoords"
           }
          ],
          "pie": [
           {
            "automargin": true,
            "type": "pie"
           }
          ],
          "scatter": [
           {
            "fillpattern": {
             "fillmode": "overlay",
             "size": 10,
             "solidity": 0.2
            },
            "type": "scatter"
           }
          ],
          "scatter3d": [
           {
            "line": {
             "colorbar": {
              "outlinewidth": 0,
              "ticks": ""
             }
            },
            "marker": {
             "colorbar": {
              "outlinewidth": 0,
              "ticks": ""
             }
            },
            "type": "scatter3d"
           }
          ],
          "scattercarpet": [
           {
            "marker": {
             "colorbar": {
              "outlinewidth": 0,
              "ticks": ""
             }
            },
            "type": "scattercarpet"
           }
          ],
          "scattergeo": [
           {
            "marker": {
             "colorbar": {
              "outlinewidth": 0,
              "ticks": ""
             }
            },
            "type": "scattergeo"
           }
          ],
          "scattergl": [
           {
            "marker": {
             "colorbar": {
              "outlinewidth": 0,
              "ticks": ""
             }
            },
            "type": "scattergl"
           }
          ],
          "scattermapbox": [
           {
            "marker": {
             "colorbar": {
              "outlinewidth": 0,
              "ticks": ""
             }
            },
            "type": "scattermapbox"
           }
          ],
          "scatterpolar": [
           {
            "marker": {
             "colorbar": {
              "outlinewidth": 0,
              "ticks": ""
             }
            },
            "type": "scatterpolar"
           }
          ],
          "scatterpolargl": [
           {
            "marker": {
             "colorbar": {
              "outlinewidth": 0,
              "ticks": ""
             }
            },
            "type": "scatterpolargl"
           }
          ],
          "scatterternary": [
           {
            "marker": {
             "colorbar": {
              "outlinewidth": 0,
              "ticks": ""
             }
            },
            "type": "scatterternary"
           }
          ],
          "surface": [
           {
            "colorbar": {
             "outlinewidth": 0,
             "ticks": ""
            },
            "colorscale": [
             [
              0,
              "#0d0887"
             ],
             [
              0.1111111111111111,
              "#46039f"
             ],
             [
              0.2222222222222222,
              "#7201a8"
             ],
             [
              0.3333333333333333,
              "#9c179e"
             ],
             [
              0.4444444444444444,
              "#bd3786"
             ],
             [
              0.5555555555555556,
              "#d8576b"
             ],
             [
              0.6666666666666666,
              "#ed7953"
             ],
             [
              0.7777777777777778,
              "#fb9f3a"
             ],
             [
              0.8888888888888888,
              "#fdca26"
             ],
             [
              1,
              "#f0f921"
             ]
            ],
            "type": "surface"
           }
          ],
          "table": [
           {
            "cells": {
             "fill": {
              "color": "#EBF0F8"
             },
             "line": {
              "color": "white"
             }
            },
            "header": {
             "fill": {
              "color": "#C8D4E3"
             },
             "line": {
              "color": "white"
             }
            },
            "type": "table"
           }
          ]
         },
         "layout": {
          "annotationdefaults": {
           "arrowcolor": "#2a3f5f",
           "arrowhead": 0,
           "arrowwidth": 1
          },
          "autotypenumbers": "strict",
          "coloraxis": {
           "colorbar": {
            "outlinewidth": 0,
            "ticks": ""
           }
          },
          "colorscale": {
           "diverging": [
            [
             0,
             "#8e0152"
            ],
            [
             0.1,
             "#c51b7d"
            ],
            [
             0.2,
             "#de77ae"
            ],
            [
             0.3,
             "#f1b6da"
            ],
            [
             0.4,
             "#fde0ef"
            ],
            [
             0.5,
             "#f7f7f7"
            ],
            [
             0.6,
             "#e6f5d0"
            ],
            [
             0.7,
             "#b8e186"
            ],
            [
             0.8,
             "#7fbc41"
            ],
            [
             0.9,
             "#4d9221"
            ],
            [
             1,
             "#276419"
            ]
           ],
           "sequential": [
            [
             0,
             "#0d0887"
            ],
            [
             0.1111111111111111,
             "#46039f"
            ],
            [
             0.2222222222222222,
             "#7201a8"
            ],
            [
             0.3333333333333333,
             "#9c179e"
            ],
            [
             0.4444444444444444,
             "#bd3786"
            ],
            [
             0.5555555555555556,
             "#d8576b"
            ],
            [
             0.6666666666666666,
             "#ed7953"
            ],
            [
             0.7777777777777778,
             "#fb9f3a"
            ],
            [
             0.8888888888888888,
             "#fdca26"
            ],
            [
             1,
             "#f0f921"
            ]
           ],
           "sequentialminus": [
            [
             0,
             "#0d0887"
            ],
            [
             0.1111111111111111,
             "#46039f"
            ],
            [
             0.2222222222222222,
             "#7201a8"
            ],
            [
             0.3333333333333333,
             "#9c179e"
            ],
            [
             0.4444444444444444,
             "#bd3786"
            ],
            [
             0.5555555555555556,
             "#d8576b"
            ],
            [
             0.6666666666666666,
             "#ed7953"
            ],
            [
             0.7777777777777778,
             "#fb9f3a"
            ],
            [
             0.8888888888888888,
             "#fdca26"
            ],
            [
             1,
             "#f0f921"
            ]
           ]
          },
          "colorway": [
           "#636efa",
           "#EF553B",
           "#00cc96",
           "#ab63fa",
           "#FFA15A",
           "#19d3f3",
           "#FF6692",
           "#B6E880",
           "#FF97FF",
           "#FECB52"
          ],
          "font": {
           "color": "#2a3f5f"
          },
          "geo": {
           "bgcolor": "white",
           "lakecolor": "white",
           "landcolor": "#E5ECF6",
           "showlakes": true,
           "showland": true,
           "subunitcolor": "white"
          },
          "hoverlabel": {
           "align": "left"
          },
          "hovermode": "closest",
          "mapbox": {
           "style": "light"
          },
          "paper_bgcolor": "white",
          "plot_bgcolor": "#E5ECF6",
          "polar": {
           "angularaxis": {
            "gridcolor": "white",
            "linecolor": "white",
            "ticks": ""
           },
           "bgcolor": "#E5ECF6",
           "radialaxis": {
            "gridcolor": "white",
            "linecolor": "white",
            "ticks": ""
           }
          },
          "scene": {
           "xaxis": {
            "backgroundcolor": "#E5ECF6",
            "gridcolor": "white",
            "gridwidth": 2,
            "linecolor": "white",
            "showbackground": true,
            "ticks": "",
            "zerolinecolor": "white"
           },
           "yaxis": {
            "backgroundcolor": "#E5ECF6",
            "gridcolor": "white",
            "gridwidth": 2,
            "linecolor": "white",
            "showbackground": true,
            "ticks": "",
            "zerolinecolor": "white"
           },
           "zaxis": {
            "backgroundcolor": "#E5ECF6",
            "gridcolor": "white",
            "gridwidth": 2,
            "linecolor": "white",
            "showbackground": true,
            "ticks": "",
            "zerolinecolor": "white"
           }
          },
          "shapedefaults": {
           "line": {
            "color": "#2a3f5f"
           }
          },
          "ternary": {
           "aaxis": {
            "gridcolor": "white",
            "linecolor": "white",
            "ticks": ""
           },
           "baxis": {
            "gridcolor": "white",
            "linecolor": "white",
            "ticks": ""
           },
           "bgcolor": "#E5ECF6",
           "caxis": {
            "gridcolor": "white",
            "linecolor": "white",
            "ticks": ""
           }
          },
          "title": {
           "x": 0.05
          },
          "xaxis": {
           "automargin": true,
           "gridcolor": "white",
           "linecolor": "white",
           "ticks": "",
           "title": {
            "standoff": 15
           },
           "zerolinecolor": "white",
           "zerolinewidth": 2
          },
          "yaxis": {
           "automargin": true,
           "gridcolor": "white",
           "linecolor": "white",
           "ticks": "",
           "title": {
            "standoff": 15
           },
           "zerolinecolor": "white",
           "zerolinewidth": 2
          }
         }
        },
        "title": {
         "text": "Large Text Compression Benchmark compression throughput: Algorithms"
        },
        "width": 800,
        "xaxis": {
         "anchor": "y",
         "domain": [
          0,
          1
         ],
         "title": {
          "text": "Compression ratio"
         }
        },
        "yaxis": {
         "anchor": "x",
         "domain": [
          0,
          1
         ],
         "title": {
          "text": "Compression throughput (MB/s)"
         },
         "type": "log"
        }
       }
      }
     },
     "metadata": {},
     "output_type": "display_data"
    }
   ],
   "source": [
    "\n",
    "\n",
    "hutter_comp_all_df = hutter_df.sort_values(['alg'], ascending=True)\n",
    "\n",
    "# Count occurrences of each category\n",
    "category_counts = hutter_df['alg'].value_counts()\n",
    "hutter_comp_all_df['alg_count'] = hutter_comp_all_df['alg'].map(category_counts)\n",
    "\n",
    "hutter_comp_all_df = hutter_comp_all_df.sort_values(['alg_count'], ascending=False)\n",
    "\n",
    "\n",
    "mask = paretoset(hutter_comp_all_df[['ratio_enwik8', 'comp_throughput']], sense=[\"max\", \"max\"])\n",
    "\n",
    "pareto_points = hutter_comp_all_df[mask]\n",
    "pareto_points.sort_values(['comp_throughput'], inplace=True)\n",
    "\n",
    "hutter_comp_all_df['pareto'] = mask*4 +1\n",
    "\n",
    "\n",
    "fig_hutter_compression_all = px.scatter(\n",
    "    hutter_comp_all_df,\n",
    "    title=f\"Large Text Compression Benchmark compression throughput: Algorithms\", \n",
    "    x=\"ratio_enwik8\",\n",
    "    y=\"comp_throughput\",\n",
    "    log_y=True,\n",
    "    # labels=\"program\",\n",
    "    hover_data=['program'],\n",
    "    color=\"alg\",\n",
    "    size='pareto',\n",
    "    color_discrete_sequence=px.colors.qualitative.Dark24,\n",
    "    width=800,\n",
    "    height=650,\n",
    ")\n",
    "fig_hutter_compression_all.add_scatter(\n",
    "    x=pareto_points['ratio_enwik8'], \n",
    "    y=pareto_points['comp_throughput'], \n",
    "    mode='lines',\n",
    "    line=dict(color=\"#000000\"),\n",
    "    name=\"Pareto front\"\n",
    ")\n",
    "\n",
    "fig_hutter_compression_all.update_layout(\n",
    "    yaxis_title=\"Compression throughput (MB/s)\",\n",
    "    xaxis_title=\"Compression ratio\",\n",
    ")\n",
    "\n",
    "fig_hutter_compression_all.show()"
   ]
  },
  {
   "cell_type": "code",
   "execution_count": 21,
   "id": "31cbfbb5",
   "metadata": {},
   "outputs": [
    {
     "name": "stderr",
     "output_type": "stream",
     "text": [
      "/var/folders/5z/1fjczghs4x101sqrk1z655tc0000gn/T/ipykernel_11682/987224528.py:11: SettingWithCopyWarning:\n",
      "\n",
      "\n",
      "A value is trying to be set on a copy of a slice from a DataFrame\n",
      "\n",
      "See the caveats in the documentation: https://pandas.pydata.org/pandas-docs/stable/user_guide/indexing.html#returning-a-view-versus-a-copy\n",
      "\n"
     ]
    },
    {
     "data": {
      "application/vnd.plotly.v1+json": {
       "config": {
        "plotlyServerURL": "https://plot.ly"
       },
       "data": [
        {
         "customdata": [
          [
           "xdelta"
          ],
          [
           "acb"
          ],
          [
           "gzip124hack"
          ],
          [
           "lzrw3-a"
          ],
          [
           "gzip"
          ],
          [
           "cabarc"
          ],
          [
           "packet"
          ],
          [
           "pigz"
          ],
          [
           "FastLZ"
          ],
          [
           "snappy"
          ],
          [
           "lzop"
          ],
          [
           "QuickLZ"
          ],
          [
           "Info-ZIP"
          ],
          [
           "lzhhf"
          ],
          [
           "lzuf62"
          ],
          [
           "lza"
          ],
          [
           "NTFS"
          ],
          [
           "lzturbo"
          ],
          [
           "tornado"
          ],
          [
           "KuaiZip"
          ],
          [
           "lzip"
          ],
          [
           "quark"
          ],
          [
           "ulz"
          ],
          [
           "dzo"
          ],
          [
           "pucrunch"
          ],
          [
           "PeaZip"
          ],
          [
           "comprox"
          ],
          [
           "xz"
          ],
          [
           "pkzip"
          ],
          [
           "lazy"
          ],
          [
           "exdupe"
          ],
          [
           "lzf"
          ],
          [
           "zstd"
          ],
          [
           "xeloz"
          ],
          [
           "brieflz"
          ],
          [
           "lzham"
          ],
          [
           "kzip"
          ],
          [
           "uc2"
          ],
          [
           "lzc"
          ],
          [
           "lz4"
          ],
          [
           "arj"
          ],
          [
           "brotli"
          ],
          [
           "lz4x"
          ],
          [
           "barf"
          ],
          [
           "data-shrinker"
          ],
          [
           "plzma"
          ],
          [
           "lz5"
          ],
          [
           "lzs"
          ],
          [
           "zhuff"
          ],
          [
           "jar (Java)"
          ],
          [
           "doboz"
          ],
          [
           "MTCompressor"
          ],
          [
           "crush"
          ],
          [
           "lzv"
          ],
          [
           "csarc"
          ],
          [
           "lzgt3a"
          ],
          [
           "stz"
          ]
         ],
         "hovertemplate": "alg=LZ77<br>ratio_enwik8=%{x}<br>decomp_throughput=%{y}<br>pareto=%{marker.size}<br>program=%{customdata[0]}<extra></extra>",
         "legendgroup": "LZ77",
         "marker": {
          "color": "#2E91E5",
          "size": [
           1,
           1,
           1,
           1,
           1,
           1,
           1,
           1,
           1,
           1,
           1,
           1,
           1,
           1,
           1,
           1,
           1,
           1,
           1,
           1,
           1,
           1,
           5,
           1,
           1,
           1,
           1,
           1,
           1,
           1,
           1,
           1,
           5,
           1,
           1,
           5,
           1,
           1,
           1,
           1,
           1,
           1,
           1,
           1,
           1,
           1,
           1,
           1,
           1,
           1,
           1,
           1,
           1,
           1,
           1,
           1,
           1
          ],
          "sizemode": "area",
          "sizeref": 0.0125,
          "symbol": "circle"
         },
         "mode": "markers",
         "name": "LZ77",
         "orientation": "v",
         "showlegend": true,
         "type": "scatter",
         "x": [
          2.25792437186181,
          3.9898409074877184,
          2.756817084855602,
          2.082934364613578,
          2.7438419406557477,
          3.513011333290732,
          4.005047641643716,
          2.8569067133965182,
          1.8295274162367339,
          1.7137782890168833,
          2.4261428734188097,
          2.156174384311951,
          2.7438325298522805,
          2.86952831525717,
          2.860339163572185,
          3.7883648178650797,
          1.2994497817756014,
          4.095544633102067,
          3.8807665522940082,
          3.861612922347019,
          4.039414506256508,
          4.349920857539918,
          3.035335063959973,
          3.7571223298366423,
          2.551074748658549,
          2.733693327940303,
          4.335688797438614,
          4.047964820918846,
          2.7354877451243214,
          2.8551783312978767,
          1.861593432387727,
          2.2124726908964583,
          3.9361399086760436,
          3.082493189539547,
          2.3094261537893064,
          3.9996688274210896,
          2.855784401300079,
          2.826070454727736,
          3.2667659001254927,
          2.332624619770524,
          2.696048781443916,
          3.8812797262362633,
          2.3837838621265184,
          1.31450390616009,
          1.935789213616024,
          4.131109689183156,
          2.7386449754299727,
          3.3974507024806893,
          2.8647156921505474,
          2.738214832887844,
          2.749713136177068,
          2.42156866021338,
          3.1514216173215495,
          1.8198081641944481,
          4.078935228221729,
          2.6706234623885416,
          2.1189892116326066
         ],
         "xaxis": "x",
         "y": [
          33.333333333333336,
          0.09188642837452908,
          52.631578947368425,
          58.8235294117647,
          58.8235294117647,
          66.66666666666667,
          71.42857142857143,
          76.92307692307692,
          76.92307692307692,
          83.33333333333333,
          83.33333333333333,
          83.33333333333333,
          28.57142857142857,
          83.33333333333333,
          90.90909090909092,
          103.09278350515464,
          111.1111111111111,
          111.1111111111111,
          111.1111111111111,
          21.27659574468085,
          47.61904761904761,
          4.6082949308755765,
          909.090909090909,
          6.289308176100628,
          2.159827213822894,
          4.11522633744856,
          6.5359477124183005,
          50,
          20,
          41.666666666666664,
          200,
          454.5454545454545,
          454.5454545454545,
          125,
          133.33333333333334,
          151.51515151515153,
          16.129032258064516,
          15.873015873015873,
          15.873015873015873,
          166.66666666666666,
          14.925373134328357,
          169.4915254237288,
          714.2857142857143,
          18.867924528301888,
          250,
          18.181818181818183,
          270.27027027027026,
          11.363636363636365,
          285.7142857142857,
          10.526315789473685,
          294.11764705882354,
          8.547008547008547,
          344.82758620689657,
          384.6153846153846,
          45.45454545454546,
          0.3465003465003465,
          76.92307692307692
         ],
         "yaxis": "y"
        },
        {
         "customdata": [
          [
           "zpaq"
          ],
          [
           "paq8px_v206fix1"
          ],
          [
           "cmix-hp"
          ],
          [
           "fast-cmix"
          ],
          [
           "fpaq2"
          ],
          [
           "phda9"
          ],
          [
           "drt|emma"
          ],
          [
           "paq8hp12any"
          ],
          [
           "xwrt"
          ],
          [
           "fp8"
          ],
          [
           "RangeCoderC"
          ],
          [
           "PX"
          ],
          [
           "drt|lpaq9m"
          ],
          [
           "bit"
          ],
          [
           "mcm"
          ],
          [
           "cmm4"
          ],
          [
           "packARC"
          ],
          [
           "ccmx"
          ],
          [
           "TinyCM"
          ],
          [
           "nanozip"
          ],
          [
           "crushm"
          ],
          [
           "M1x2"
          ],
          [
           "mtari"
          ],
          [
           "zcm"
          ],
          [
           "bce3"
          ],
          [
           "fx-cmix"
          ],
          [
           "uda"
          ],
          [
           "cmix"
          ],
          [
           "enc"
          ],
          [
           "lrzip"
          ],
          [
           "tc"
          ],
          [
           "paq9a"
          ],
          [
           "cm4_ext"
          ],
          [
           "pimple2"
          ],
          [
           "cmve"
          ],
          [
           "ash"
          ],
          [
           "smac"
          ],
          [
           "WinRK"
          ],
          [
           "starlit"
          ],
          [
           "CTW"
          ],
          [
           "WinUDA"
          ]
         ],
         "hovertemplate": "alg=CM<br>ratio_enwik8=%{x}<br>decomp_throughput=%{y}<br>pareto=%{marker.size}<br>program=%{customdata[0]}<extra></extra>",
         "legendgroup": "CM",
         "marker": {
          "color": "#E15F99",
          "size": [
           1,
           1,
           1,
           1,
           1,
           5,
           1,
           1,
           1,
           1,
           1,
           1,
           5,
           1,
           5,
           1,
           1,
           1,
           1,
           1,
           1,
           1,
           1,
           1,
           1,
           1,
           1,
           5,
           1,
           1,
           1,
           1,
           1,
           1,
           1,
           1,
           1,
           1,
           1,
           1,
           1
          ],
          "sizemode": "area",
          "sizeref": 0.0125,
          "symbol": "circle"
         },
         "mode": "markers",
         "name": "CM",
         "orientation": "v",
         "showlegend": true,
         "type": "scatter",
         "x": [
          5.600443420708278,
          6.309512903080077,
          6.266709004552702,
          null,
          3.9544799809394067,
          6.662041433367527,
          6.051980338084198,
          6.161418821951509,
          5.353392996541387,
          5.423532022078765,
          3.473668015920376,
          4.004505709644263,
          5.566456223078182,
          4.802334933663427,
          5.4844722251244225,
          4.8616770238213425,
          2.605858778349952,
          4.794340760166699,
          3.8589767807296593,
          5.37803180492717,
          3.9978290189295604,
          4.825543105225407,
          2.4006417587600857,
          5.109316639629014,
          4.399636977153741,
          null,
          5.15637745920532,
          6.774814383635517,
          4.513250044613477,
          5.038369704484502,
          4.655190288118572,
          5.006480388214505,
          4.95342590824036,
          4.791232351435743,
          6.0885588186442385,
          5.009240796960192,
          4.591042765379718,
          5.372746945284429,
          6.572415166058313,
          4.224704780798446,
          4.918266767379655
         ],
         "xaxis": "x",
         "y": [
          0.0678472080873872,
          0.0033915895362679627,
          0.005147210212065061,
          0.008198670175697502,
          0.049539284652729616,
          0.011586814205434216,
          0.014903795996840394,
          0.026607066836951892,
          0.429553264604811,
          0.044261496923825965,
          0.41050903119868637,
          0.552791597567717,
          1.1135857461024499,
          0.47619047619047616,
          3.558718861209964,
          0.48638132295719844,
          0.6729475100942126,
          0.7473841554559043,
          0.7518796992481203,
          0.8764241893076249,
          1.5408320493066254,
          1.3986013986013988,
          10.1010101010101,
          2.4330900243309,
          0.40916530278232405,
          0.004611780331679242,
          0.039723524271073334,
          0.001615446250872341,
          0.145602795573675,
          0.34141345168999654,
          0.27359781121751026,
          0.2486943546381497,
          0.24213075060532688,
          0.055580257892396616,
          null,
          0.170852554245686,
          0.22732439190725165,
          null,
          0.005824722451975163,
          0.05121901249743905,
          0.04260213862735909
         ],
         "yaxis": "y"
        },
        {
         "customdata": [
          [
           "pim"
          ],
          [
           "ppms"
          ],
          [
           "crook"
          ],
          [
           "diz"
          ],
          [
           "slim"
          ],
          [
           "WinRAR"
          ],
          [
           "WinTurtle"
          ],
          [
           "ppmvc"
          ],
          [
           "bee"
          ],
          [
           "boa"
          ],
          [
           "ppmonstr"
          ],
          [
           "7zip"
          ],
          [
           "ha"
          ],
          [
           "epmopt|epm"
          ],
          [
           "ppmx"
          ],
          [
           "ppmd"
          ],
          [
           "FreeArc"
          ],
          [
           "arbc2z"
          ],
          [
           "CTXf"
          ],
          [
           "Stuffit"
          ],
          [
           "uharc"
          ],
          [
           "scmppm"
          ],
          [
           "durilca'kingsize"
          ],
          [
           "LZPXj"
          ]
         ],
         "hovertemplate": "alg=PPM<br>ratio_enwik8=%{x}<br>decomp_throughput=%{y}<br>pareto=%{marker.size}<br>program=%{customdata[0]}<extra></extra>",
         "legendgroup": "PPM",
         "marker": {
          "color": "#1CA71C",
          "size": [
           1,
           1,
           1,
           1,
           1,
           1,
           1,
           1,
           1,
           1,
           1,
           1,
           1,
           1,
           1,
           1,
           1,
           1,
           1,
           1,
           1,
           1,
           5,
           1
          ],
          "sizemode": "area",
          "sizeref": 0.0125,
          "symbol": "circle"
         },
         "mode": "markers",
         "name": "PPM",
         "orientation": "v",
         "showlegend": true,
         "type": "scatter",
         "x": [
          4.1146103311775795,
          3.8008003573360463,
          4.44372811547223,
          3.76715146389999,
          5.241838509858535,
          4.402654642253712,
          3.5236563487901105,
          4.65456300309426,
          4.767354529182264,
          4.111395295322141,
          5.247941075277936,
          4.717524314945886,
          3.1999463432997155,
          5.072665424945806,
          4.430109005490145,
          4.675454276488412,
          4.777464508813347,
          2.580243176050224,
          4.530466321351503,
          4.523729539962943,
          4.1821540544122495,
          3.9684379022011815,
          6.169348492738708,
          3.9673435258884835
         ],
         "xaxis": "x",
         "y": [
          1.3089005235602094,
          2.824858757062147,
          1.949317738791423,
          0.04396377385034731,
          0.18518518518518517,
          2.4096385542168672,
          4.219409282700422,
          1.095290251916758,
          0.10770059235325793,
          0.24390243902439027,
          0.2777777777777778,
          1.8315018315018314,
          0.5555555555555556,
          0.2962085308056872,
          1.2755102040816326,
          1.1173184357541899,
          0.8223684210526316,
          0.3739715781600598,
          0.9643201542912248,
          1.519756838905775,
          0.7518796992481203,
          1.5527950310559007,
          0.5564830272676684,
          1.394700139470014
         ],
         "yaxis": "y"
        },
        {
         "customdata": [
          [
           "bbb"
          ],
          [
           "uhbc"
          ],
          [
           "nanozipltcb"
          ],
          [
           "BWTmix"
          ],
          [
           "chile"
          ],
          [
           "bcm"
          ],
          [
           "fbc"
          ],
          [
           "bsc"
          ],
          [
           "sbc"
          ],
          [
           "bzip2"
          ],
          [
           "dark"
          ],
          [
           "m03exp"
          ],
          [
           "4x4"
          ],
          [
           "bssc"
          ],
          [
           "bwmonstr"
          ],
          [
           "rings"
          ],
          [
           "bwtdisk"
          ],
          [
           "pcompress"
          ],
          [
           "GRZipII"
          ],
          [
           "bsc-m03"
          ],
          [
           "bwtsdc"
          ],
          [
           "mcomp"
          ],
          [
           "M03"
          ],
          [
           "szip"
          ]
         ],
         "hovertemplate": "alg=BWT<br>ratio_enwik8=%{x}<br>decomp_throughput=%{y}<br>pareto=%{marker.size}<br>program=%{customdata[0]}<extra></extra>",
         "legendgroup": "BWT",
         "marker": {
          "color": "#FB0D0D",
          "size": [
           1,
           1,
           1,
           1,
           1,
           1,
           1,
           5,
           1,
           1,
           1,
           1,
           1,
           1,
           1,
           1,
           1,
           1,
           1,
           5,
           1,
           1,
           1,
           1
          ],
          "sizemode": "area",
          "sizeref": 0.0125,
          "symbol": "circle"
         },
         "mode": "markers",
         "name": "BWT",
         "orientation": "v",
         "showlegend": true,
         "type": "scatter",
         "x": [
          4.796786536763292,
          4.777639576590293,
          4.8690465072819995,
          4.852297754652589,
          4.50066940706426,
          4.8219192878218085,
          4.4337771706853015,
          4.81074666925549,
          4.4502715310923335,
          3.4472374115163102,
          4.723705951382957,
          4.5561839444451735,
          4.195819922793556,
          4.325809409768828,
          4.924338765945932,
          4.790658063475165,
          4.0444440723555894,
          4.8146439127879255,
          4.193421042368732,
          4.92771218691719,
          4.27077481037226,
          4.7385123061533845,
          4.828539293952636,
          3.828414739212982
         ],
         "xaxis": "x",
         "y": [
          0.3818251240931653,
          1.2360939431396785,
          33.333333333333336,
          1.4492753623188404,
          1.953125,
          29.41176470588235,
          2.4096385542168672,
          125,
          3.194888178913738,
          7.751937984496124,
          2.2075055187637966,
          0.47619047619047616,
          4.166666666666667,
          4.6082949308755765,
          0.006404221662920198,
          6.134969325153374,
          null,
          13.513513513513514,
          4.62962962962963,
          7.4074074074074066,
          2.380952380952381,
          2.506265664160401,
          2.463054187192118,
          3.4602076124567476
         ],
         "yaxis": "y"
        },
        {
         "customdata": [
          [
           "rh5_x64"
          ],
          [
           "xpv5"
          ],
          [
           "zlite"
          ],
          [
           "comprolz"
          ],
          [
           "irolz"
          ],
          [
           "balz"
          ],
          [
           "etincelle"
          ],
          [
           "lzpm"
          ],
          [
           "quad"
          ],
          [
           "flashzip"
          ],
          [
           "libzling"
          ],
          [
           "rzm"
          ],
          [
           "slug"
          ]
         ],
         "hovertemplate": "alg=ROLZ<br>ratio_enwik8=%{x}<br>decomp_throughput=%{y}<br>pareto=%{marker.size}<br>program=%{customdata[0]}<extra></extra>",
         "legendgroup": "ROLZ",
         "marker": {
          "color": "#DA16FF",
          "size": [
           1,
           1,
           1,
           1,
           1,
           1,
           1,
           1,
           1,
           1,
           1,
           1,
           1
          ],
          "sizemode": "area",
          "sizeref": 0.0125,
          "symbol": "circle"
         },
         "mode": "markers",
         "name": "ROLZ",
         "orientation": "v",
         "showlegend": true,
         "type": "scatter",
         "x": [
          3.4389607845672647,
          3.3374253505556495,
          2.9432679221470317,
          4.383424256510974,
          3.002040547000607,
          3.784808505342787,
          2.795094084404183,
          3.773365338515019,
          3.43517729413764,
          4.189528574972913,
          3.364611434147455,
          4.1049100060054835,
          2.849493676318149
         ],
         "xaxis": "x",
         "y": [
          106.38297872340425,
          1.937984496124031,
          35.714285714285715,
          3.2467532467532467,
          6.944444444444444,
          5.2631578947368425,
          55.55555555555555,
          17.543859649122805,
          8.620689655172413,
          8.19672131147541,
          37.03703703703704,
          12.345679012345679,
          35.714285714285715
         ],
         "yaxis": "y"
        },
        {
         "customdata": [
          [
           "thor"
          ],
          [
           "lzp2"
          ],
          [
           "flzp"
          ],
          [
           "sharc"
          ],
          [
           "lzbw1"
          ],
          [
           "bzp"
          ],
          [
           "TarsaLZP"
          ],
          [
           "qazar"
          ],
          [
           "TinyLZP"
          ],
          [
           "lzpgt6"
          ]
         ],
         "hovertemplate": "alg=LZP<br>ratio_enwik8=%{x}<br>decomp_throughput=%{y}<br>pareto=%{marker.size}<br>program=%{customdata[0]}<extra></extra>",
         "legendgroup": "LZP",
         "marker": {
          "color": "#222A2A",
          "size": [
           1,
           1,
           1,
           1,
           1,
           1,
           1,
           1,
           1,
           1
          ],
          "sizemode": "area",
          "sizeref": 0.0125,
          "symbol": "circle"
         },
         "mode": "markers",
         "name": "LZP",
         "orientation": "v",
         "showlegend": true,
         "type": "scatter",
         "x": [
          2.793671908489142,
          1.472557217535989,
          1.7431843540000216,
          1.8805814953564117,
          1.4788428752514995,
          3.1681798157481667,
          4.040177300756738,
          3.7799794898312884,
          1.262298798092101,
          1.7821103494133863
         ],
         "xaxis": "x",
         "y": [
          29.41176470588235,
          125,
          26.315789473684212,
          71.42857142857143,
          83.33333333333333,
          8.333333333333334,
          null,
          1.1074197120708749,
          26.315789473684212,
          200
         ],
         "yaxis": "y"
        },
        {
         "customdata": [
          [
           "lcssr"
          ],
          [
           "srank"
          ],
          [
           "ksc"
          ],
          [
           "ppp"
          ],
          [
           "sr3c"
          ],
          [
           "sr3"
          ]
         ],
         "hovertemplate": "alg=SR<br>ratio_enwik8=%{x}<br>decomp_throughput=%{y}<br>pareto=%{marker.size}<br>program=%{customdata[0]}<extra></extra>",
         "legendgroup": "SR",
         "marker": {
          "color": "#B68100",
          "size": [
           1,
           1,
           1,
           1,
           1,
           1
          ],
          "sizemode": "area",
          "sizeref": 0.0125,
          "symbol": "circle"
         },
         "mode": "markers",
         "name": "SR",
         "orientation": "v",
         "showlegend": true,
         "type": "scatter",
         "x": [
          2.894435759850749,
          2.3206465674075076,
          1.680354300687875,
          1.6218503200502656,
          3.3634905012841974,
          3.4570148379570966
         ],
         "xaxis": "x",
         "y": [
          0.12075836251660427,
          22.22222222222222,
          0.12631047113805735,
          16.94915254237288,
          6.8965517241379315,
          6.25
         ],
         "yaxis": "y"
        },
        {
         "customdata": [
          [
           "compact"
          ],
          [
           "shindlet_fs"
          ],
          [
           "fpaq0f2"
          ],
          [
           "arb255"
          ]
         ],
         "hovertemplate": "alg=o0<br>ratio_enwik8=%{x}<br>decomp_throughput=%{y}<br>pareto=%{marker.size}<br>program=%{customdata[0]}<extra></extra>",
         "legendgroup": "o0",
         "marker": {
          "color": "#750D86",
          "size": [
           1,
           1,
           1,
           1
          ],
          "sizemode": "area",
          "sizeref": 0.0125,
          "symbol": "circle"
         },
         "mode": "markers",
         "name": "o0",
         "orientation": "v",
         "showlegend": true,
         "type": "scatter",
         "x": [
          1.5658673242808352,
          1.5900711631578859,
          1.7569482736155986,
          1.5747536502632138
         ],
         "xaxis": "x",
         "y": [
          6.097560975609756,
          9.70873786407767,
          4.8309178743961345,
          0.38850038850038854
         ],
         "yaxis": "y"
        },
        {
         "customdata": [
          [
           "lzw"
          ],
          [
           "lzwc_bitwise"
          ],
          [
           "compress"
          ],
          [
           "lzwg"
          ]
         ],
         "hovertemplate": "alg=LZW<br>ratio_enwik8=%{x}<br>decomp_throughput=%{y}<br>pareto=%{marker.size}<br>program=%{customdata[0]}<extra></extra>",
         "legendgroup": "LZW",
         "marker": {
          "color": "#EB663B",
          "size": [
           1,
           1,
           1,
           1
          ],
          "sizemode": "area",
          "sizeref": 0.0125,
          "symbol": "circle"
         },
         "mode": "markers",
         "name": "LZW",
         "orientation": "v",
         "showlegend": true,
         "type": "scatter",
         "x": [
          2.383165660946926,
          2.144109272041883,
          2.1851264951154445,
          2.905003284251463
         ],
         "xaxis": "x",
         "y": [
          32.25806451612903,
          7.462686567164178,
          14.285714285714285,
          24.390243902439025
         ],
         "yaxis": "y"
        },
        {
         "customdata": [
          [
           "glza"
          ],
          [
           "kwc"
          ],
          [
           "bpe"
          ],
          [
           "bpe2"
          ]
         ],
         "hovertemplate": "alg=Dict<br>ratio_enwik8=%{x}<br>decomp_throughput=%{y}<br>pareto=%{marker.size}<br>program=%{customdata[0]}<extra></extra>",
         "legendgroup": "Dict",
         "marker": {
          "color": "#511CFB",
          "size": [
           5,
           1,
           1,
           1
          ],
          "sizemode": "area",
          "sizeref": 0.0125,
          "symbol": "circle"
         },
         "mode": "markers",
         "name": "Dict",
         "orientation": "v",
         "showlegend": true,
         "type": "scatter",
         "x": [
          4.912533085296263,
          1.8485060558906896,
          1.855058113683786,
          1.808671592752559
         ],
         "xaxis": "x",
         "y": [
          84.03361344537815,
          6.8965517241379315,
          35.714285714285715,
          7.575757575757575
         ],
         "yaxis": "y"
        },
        {
         "customdata": [
          [
           "hook"
          ],
          [
           "dmc"
          ],
          [
           "ocamyd"
          ]
         ],
         "hovertemplate": "alg=DMC<br>ratio_enwik8=%{x}<br>decomp_throughput=%{y}<br>pareto=%{marker.size}<br>program=%{customdata[0]}<extra></extra>",
         "legendgroup": "DMC",
         "marker": {
          "color": "#00A08B",
          "size": [
           1,
           1,
           1
          ],
          "sizemode": "area",
          "sizeref": 0.0125,
          "symbol": "circle"
         },
         "mode": "markers",
         "name": "DMC",
         "orientation": "v",
         "showlegend": true,
         "type": "scatter",
         "x": [
          4.547417789734859,
          3.949366436712173,
          4.698117525383107
         ],
         "xaxis": "x",
         "y": [
          1.4388489208633093,
          1.3869625520110958,
          0.00909090909090909
         ],
         "yaxis": "y"
        },
        {
         "customdata": [
          [
           "tensorflow-compress"
          ],
          [
           "lstm-compress"
          ]
         ],
         "hovertemplate": "alg=LSTM<br>ratio_enwik8=%{x}<br>decomp_throughput=%{y}<br>pareto=%{marker.size}<br>program=%{customdata[0]}<extra></extra>",
         "legendgroup": "LSTM",
         "marker": {
          "color": "#FB00D1",
          "size": [
           1,
           1
          ],
          "sizemode": "area",
          "sizeref": 0.0125,
          "symbol": "circle"
         },
         "mode": "markers",
         "name": "LSTM",
         "orientation": "v",
         "showlegend": true,
         "type": "scatter",
         "x": [
          6.2873164017160095,
          4.92158609136147
         ],
         "xaxis": "x",
         "y": [
          0.003438754070625131,
          0.010884235273629674
         ],
         "yaxis": "y"
        },
        {
         "customdata": [
          [
           "nakamichi"
          ],
          [
           "lzss"
          ]
         ],
         "hovertemplate": "alg=LZSS<br>ratio_enwik8=%{x}<br>decomp_throughput=%{y}<br>pareto=%{marker.size}<br>program=%{customdata[0]}<extra></extra>",
         "legendgroup": "LZSS",
         "marker": {
          "color": "#FC0080",
          "size": [
           5,
           1
          ],
          "sizemode": "area",
          "sizeref": 0.0125,
          "symbol": "circle"
         },
         "mode": "markers",
         "name": "LZSS",
         "orientation": "v",
         "showlegend": true,
         "type": "scatter",
         "x": [
          3.0378619673291314,
          2.332394863161542
         ],
         "xaxis": "x",
         "y": [
          769.2307692307692,
          434.7826086956522
         ],
         "yaxis": "y"
        },
        {
         "customdata": [
          [
           "arb2x"
          ]
         ],
         "hovertemplate": "alg=o0b<br>ratio_enwik8=%{x}<br>decomp_throughput=%{y}<br>pareto=%{marker.size}<br>program=%{customdata[0]}<extra></extra>",
         "legendgroup": "o0b",
         "marker": {
          "color": "#B2828D",
          "size": [
           1
          ],
          "sizemode": "area",
          "sizeref": 0.0125,
          "symbol": "circle"
         },
         "mode": "markers",
         "name": "o0b",
         "orientation": "v",
         "showlegend": true,
         "type": "scatter",
         "x": [
          1.0035837070955045
         ],
         "xaxis": "x",
         "y": [
          0.40584415584415584
         ],
         "yaxis": "y"
        },
        {
         "customdata": [
          [
           "runcoder1"
          ]
         ],
         "hovertemplate": "alg=o1<br>ratio_enwik8=%{x}<br>decomp_throughput=%{y}<br>pareto=%{marker.size}<br>program=%{customdata[0]}<extra></extra>",
         "legendgroup": "o1",
         "marker": {
          "color": "#6C7C32",
          "size": [
           1
          ],
          "sizemode": "area",
          "sizeref": 0.0125,
          "symbol": "circle"
         },
         "mode": "markers",
         "name": "o1",
         "orientation": "v",
         "showlegend": true,
         "type": "scatter",
         "x": [
          2.1329265870770797
         ],
         "xaxis": "x",
         "y": [
          6.410256410256411
         ],
         "yaxis": "y"
        },
        {
         "customdata": [
          [
           "alba"
          ]
         ],
         "hovertemplate": "alg=BPE<br>ratio_enwik8=%{x}<br>decomp_throughput=%{y}<br>pareto=%{marker.size}<br>program=%{customdata[0]}<extra></extra>",
         "legendgroup": "BPE",
         "marker": {
          "color": "#778AAE",
          "size": [
           1
          ],
          "sizemode": "area",
          "sizeref": 0.0125,
          "symbol": "circle"
         },
         "mode": "markers",
         "name": "BPE",
         "orientation": "v",
         "showlegend": true,
         "type": "scatter",
         "x": [
          1.8965032652096716
         ],
         "xaxis": "x",
         "y": [
          100
         ],
         "yaxis": "y"
        },
        {
         "customdata": [
          [
           "nncp"
          ]
         ],
         "hovertemplate": "alg=Tr<br>ratio_enwik8=%{x}<br>decomp_throughput=%{y}<br>pareto=%{marker.size}<br>program=%{customdata[0]}<extra></extra>",
         "legendgroup": "Tr",
         "marker": {
          "color": "#862A16",
          "size": [
           5
          ],
          "sizemode": "area",
          "sizeref": 0.0125,
          "symbol": "circle"
         },
         "mode": "markers",
         "name": "Tr",
         "orientation": "v",
         "showlegend": true,
         "type": "scatter",
         "x": [
          6.7045257828573055
         ],
         "xaxis": "x",
         "y": [
          0.00418988561612268
         ],
         "yaxis": "y"
        },
        {
         "customdata": [
          [
           "smile"
          ]
         ],
         "hovertemplate": "alg=MTF<br>ratio_enwik8=%{x}<br>decomp_throughput=%{y}<br>pareto=%{marker.size}<br>program=%{customdata[0]}<extra></extra>",
         "legendgroup": "MTF",
         "marker": {
          "color": "#A777F1",
          "size": [
           1
          ],
          "sizemode": "area",
          "sizeref": 0.0125,
          "symbol": "circle"
         },
         "mode": "markers",
         "name": "MTF",
         "orientation": "v",
         "showlegend": true,
         "type": "scatter",
         "x": [
          1.4053868026421497
         ],
         "xaxis": "x",
         "y": [
          0.09602458229306703
         ],
         "yaxis": "y"
        },
        {
         "customdata": [
          [
           "yxz"
          ]
         ],
         "hovertemplate": "alg=LZ<br>ratio_enwik8=%{x}<br>decomp_throughput=%{y}<br>pareto=%{marker.size}<br>program=%{customdata[0]}<extra></extra>",
         "legendgroup": "LZ",
         "marker": {
          "color": "#620042",
          "size": [
           1
          ],
          "sizemode": "area",
          "sizeref": 0.0125,
          "symbol": "circle"
         },
         "mode": "markers",
         "name": "LZ",
         "orientation": "v",
         "showlegend": true,
         "type": "scatter",
         "x": [
          3.882762924397636
         ],
         "xaxis": "x",
         "y": [
          12.987012987012987
         ],
         "yaxis": "y"
        },
        {
         "customdata": [
          [
           "fcm1"
          ]
         ],
         "hovertemplate": "alg=CM1<br>ratio_enwik8=%{x}<br>decomp_throughput=%{y}<br>pareto=%{marker.size}<br>program=%{customdata[0]}<extra></extra>",
         "legendgroup": "CM1",
         "marker": {
          "color": "#1616A7",
          "size": [
           1
          ],
          "sizemode": "area",
          "sizeref": 0.0125,
          "symbol": "circle"
         },
         "mode": "markers",
         "name": "CM1",
         "orientation": "v",
         "showlegend": true,
         "type": "scatter",
         "x": [
          2.20253522817439
         ],
         "xaxis": "x",
         "y": [
          3.8314176245210727
         ],
         "yaxis": "y"
        },
        {
         "customdata": [
          [
           "comprox_ba"
          ]
         ],
         "hovertemplate": "alg=BWTS<br>ratio_enwik8=%{x}<br>decomp_throughput=%{y}<br>pareto=%{marker.size}<br>program=%{customdata[0]}<extra></extra>",
         "legendgroup": "BWTS",
         "marker": {
          "color": "#DA60CA",
          "size": [
           1
          ],
          "sizemode": "area",
          "sizeref": 0.0125,
          "symbol": "circle"
         },
         "mode": "markers",
         "name": "BWTS",
         "orientation": "v",
         "showlegend": true,
         "type": "scatter",
         "x": [
          3.593478540770296
         ],
         "xaxis": "x",
         "y": [
          9.900990099009901
         ],
         "yaxis": "y"
        },
        {
         "customdata": [
          [
           "urban"
          ]
         ],
         "hovertemplate": "alg=o2<br>ratio_enwik8=%{x}<br>decomp_throughput=%{y}<br>pareto=%{marker.size}<br>program=%{customdata[0]}<extra></extra>",
         "legendgroup": "o2",
         "marker": {
          "color": "#6C4516",
          "size": [
           1
          ],
          "sizemode": "area",
          "sizeref": 0.0125,
          "symbol": "circle"
         },
         "mode": "markers",
         "name": "o2",
         "orientation": "v",
         "showlegend": true,
         "type": "scatter",
         "x": [
          2.6167212728423084
         ],
         "xaxis": "x",
         "y": [
          2.2222222222222223
         ],
         "yaxis": "y"
        },
        {
         "line": {
          "color": "#000000"
         },
         "mode": "lines",
         "name": "Pareto front",
         "type": "scatter",
         "x": [
          6.774814383635517,
          6.7045257828573055,
          6.662041433367527,
          6.169348492738708,
          5.566456223078182,
          5.4844722251244225,
          4.92771218691719,
          4.912533085296263,
          4.81074666925549,
          3.9996688274210896,
          3.9361399086760436,
          3.0378619673291314,
          3.035335063959973
         ],
         "y": [
          0.001615446250872341,
          0.00418988561612268,
          0.011586814205434216,
          0.5564830272676684,
          1.1135857461024499,
          3.558718861209964,
          7.4074074074074066,
          84.03361344537815,
          125,
          151.51515151515153,
          454.5454545454545,
          769.2307692307692,
          909.090909090909
         ]
        }
       ],
       "layout": {
        "height": 650,
        "legend": {
         "itemsizing": "constant",
         "title": {
          "text": "alg"
         },
         "tracegroupgap": 0
        },
        "template": {
         "data": {
          "bar": [
           {
            "error_x": {
             "color": "#2a3f5f"
            },
            "error_y": {
             "color": "#2a3f5f"
            },
            "marker": {
             "line": {
              "color": "#E5ECF6",
              "width": 0.5
             },
             "pattern": {
              "fillmode": "overlay",
              "size": 10,
              "solidity": 0.2
             }
            },
            "type": "bar"
           }
          ],
          "barpolar": [
           {
            "marker": {
             "line": {
              "color": "#E5ECF6",
              "width": 0.5
             },
             "pattern": {
              "fillmode": "overlay",
              "size": 10,
              "solidity": 0.2
             }
            },
            "type": "barpolar"
           }
          ],
          "carpet": [
           {
            "aaxis": {
             "endlinecolor": "#2a3f5f",
             "gridcolor": "white",
             "linecolor": "white",
             "minorgridcolor": "white",
             "startlinecolor": "#2a3f5f"
            },
            "baxis": {
             "endlinecolor": "#2a3f5f",
             "gridcolor": "white",
             "linecolor": "white",
             "minorgridcolor": "white",
             "startlinecolor": "#2a3f5f"
            },
            "type": "carpet"
           }
          ],
          "choropleth": [
           {
            "colorbar": {
             "outlinewidth": 0,
             "ticks": ""
            },
            "type": "choropleth"
           }
          ],
          "contour": [
           {
            "colorbar": {
             "outlinewidth": 0,
             "ticks": ""
            },
            "colorscale": [
             [
              0,
              "#0d0887"
             ],
             [
              0.1111111111111111,
              "#46039f"
             ],
             [
              0.2222222222222222,
              "#7201a8"
             ],
             [
              0.3333333333333333,
              "#9c179e"
             ],
             [
              0.4444444444444444,
              "#bd3786"
             ],
             [
              0.5555555555555556,
              "#d8576b"
             ],
             [
              0.6666666666666666,
              "#ed7953"
             ],
             [
              0.7777777777777778,
              "#fb9f3a"
             ],
             [
              0.8888888888888888,
              "#fdca26"
             ],
             [
              1,
              "#f0f921"
             ]
            ],
            "type": "contour"
           }
          ],
          "contourcarpet": [
           {
            "colorbar": {
             "outlinewidth": 0,
             "ticks": ""
            },
            "type": "contourcarpet"
           }
          ],
          "heatmap": [
           {
            "colorbar": {
             "outlinewidth": 0,
             "ticks": ""
            },
            "colorscale": [
             [
              0,
              "#0d0887"
             ],
             [
              0.1111111111111111,
              "#46039f"
             ],
             [
              0.2222222222222222,
              "#7201a8"
             ],
             [
              0.3333333333333333,
              "#9c179e"
             ],
             [
              0.4444444444444444,
              "#bd3786"
             ],
             [
              0.5555555555555556,
              "#d8576b"
             ],
             [
              0.6666666666666666,
              "#ed7953"
             ],
             [
              0.7777777777777778,
              "#fb9f3a"
             ],
             [
              0.8888888888888888,
              "#fdca26"
             ],
             [
              1,
              "#f0f921"
             ]
            ],
            "type": "heatmap"
           }
          ],
          "heatmapgl": [
           {
            "colorbar": {
             "outlinewidth": 0,
             "ticks": ""
            },
            "colorscale": [
             [
              0,
              "#0d0887"
             ],
             [
              0.1111111111111111,
              "#46039f"
             ],
             [
              0.2222222222222222,
              "#7201a8"
             ],
             [
              0.3333333333333333,
              "#9c179e"
             ],
             [
              0.4444444444444444,
              "#bd3786"
             ],
             [
              0.5555555555555556,
              "#d8576b"
             ],
             [
              0.6666666666666666,
              "#ed7953"
             ],
             [
              0.7777777777777778,
              "#fb9f3a"
             ],
             [
              0.8888888888888888,
              "#fdca26"
             ],
             [
              1,
              "#f0f921"
             ]
            ],
            "type": "heatmapgl"
           }
          ],
          "histogram": [
           {
            "marker": {
             "pattern": {
              "fillmode": "overlay",
              "size": 10,
              "solidity": 0.2
             }
            },
            "type": "histogram"
           }
          ],
          "histogram2d": [
           {
            "colorbar": {
             "outlinewidth": 0,
             "ticks": ""
            },
            "colorscale": [
             [
              0,
              "#0d0887"
             ],
             [
              0.1111111111111111,
              "#46039f"
             ],
             [
              0.2222222222222222,
              "#7201a8"
             ],
             [
              0.3333333333333333,
              "#9c179e"
             ],
             [
              0.4444444444444444,
              "#bd3786"
             ],
             [
              0.5555555555555556,
              "#d8576b"
             ],
             [
              0.6666666666666666,
              "#ed7953"
             ],
             [
              0.7777777777777778,
              "#fb9f3a"
             ],
             [
              0.8888888888888888,
              "#fdca26"
             ],
             [
              1,
              "#f0f921"
             ]
            ],
            "type": "histogram2d"
           }
          ],
          "histogram2dcontour": [
           {
            "colorbar": {
             "outlinewidth": 0,
             "ticks": ""
            },
            "colorscale": [
             [
              0,
              "#0d0887"
             ],
             [
              0.1111111111111111,
              "#46039f"
             ],
             [
              0.2222222222222222,
              "#7201a8"
             ],
             [
              0.3333333333333333,
              "#9c179e"
             ],
             [
              0.4444444444444444,
              "#bd3786"
             ],
             [
              0.5555555555555556,
              "#d8576b"
             ],
             [
              0.6666666666666666,
              "#ed7953"
             ],
             [
              0.7777777777777778,
              "#fb9f3a"
             ],
             [
              0.8888888888888888,
              "#fdca26"
             ],
             [
              1,
              "#f0f921"
             ]
            ],
            "type": "histogram2dcontour"
           }
          ],
          "mesh3d": [
           {
            "colorbar": {
             "outlinewidth": 0,
             "ticks": ""
            },
            "type": "mesh3d"
           }
          ],
          "parcoords": [
           {
            "line": {
             "colorbar": {
              "outlinewidth": 0,
              "ticks": ""
             }
            },
            "type": "parcoords"
           }
          ],
          "pie": [
           {
            "automargin": true,
            "type": "pie"
           }
          ],
          "scatter": [
           {
            "fillpattern": {
             "fillmode": "overlay",
             "size": 10,
             "solidity": 0.2
            },
            "type": "scatter"
           }
          ],
          "scatter3d": [
           {
            "line": {
             "colorbar": {
              "outlinewidth": 0,
              "ticks": ""
             }
            },
            "marker": {
             "colorbar": {
              "outlinewidth": 0,
              "ticks": ""
             }
            },
            "type": "scatter3d"
           }
          ],
          "scattercarpet": [
           {
            "marker": {
             "colorbar": {
              "outlinewidth": 0,
              "ticks": ""
             }
            },
            "type": "scattercarpet"
           }
          ],
          "scattergeo": [
           {
            "marker": {
             "colorbar": {
              "outlinewidth": 0,
              "ticks": ""
             }
            },
            "type": "scattergeo"
           }
          ],
          "scattergl": [
           {
            "marker": {
             "colorbar": {
              "outlinewidth": 0,
              "ticks": ""
             }
            },
            "type": "scattergl"
           }
          ],
          "scattermapbox": [
           {
            "marker": {
             "colorbar": {
              "outlinewidth": 0,
              "ticks": ""
             }
            },
            "type": "scattermapbox"
           }
          ],
          "scatterpolar": [
           {
            "marker": {
             "colorbar": {
              "outlinewidth": 0,
              "ticks": ""
             }
            },
            "type": "scatterpolar"
           }
          ],
          "scatterpolargl": [
           {
            "marker": {
             "colorbar": {
              "outlinewidth": 0,
              "ticks": ""
             }
            },
            "type": "scatterpolargl"
           }
          ],
          "scatterternary": [
           {
            "marker": {
             "colorbar": {
              "outlinewidth": 0,
              "ticks": ""
             }
            },
            "type": "scatterternary"
           }
          ],
          "surface": [
           {
            "colorbar": {
             "outlinewidth": 0,
             "ticks": ""
            },
            "colorscale": [
             [
              0,
              "#0d0887"
             ],
             [
              0.1111111111111111,
              "#46039f"
             ],
             [
              0.2222222222222222,
              "#7201a8"
             ],
             [
              0.3333333333333333,
              "#9c179e"
             ],
             [
              0.4444444444444444,
              "#bd3786"
             ],
             [
              0.5555555555555556,
              "#d8576b"
             ],
             [
              0.6666666666666666,
              "#ed7953"
             ],
             [
              0.7777777777777778,
              "#fb9f3a"
             ],
             [
              0.8888888888888888,
              "#fdca26"
             ],
             [
              1,
              "#f0f921"
             ]
            ],
            "type": "surface"
           }
          ],
          "table": [
           {
            "cells": {
             "fill": {
              "color": "#EBF0F8"
             },
             "line": {
              "color": "white"
             }
            },
            "header": {
             "fill": {
              "color": "#C8D4E3"
             },
             "line": {
              "color": "white"
             }
            },
            "type": "table"
           }
          ]
         },
         "layout": {
          "annotationdefaults": {
           "arrowcolor": "#2a3f5f",
           "arrowhead": 0,
           "arrowwidth": 1
          },
          "autotypenumbers": "strict",
          "coloraxis": {
           "colorbar": {
            "outlinewidth": 0,
            "ticks": ""
           }
          },
          "colorscale": {
           "diverging": [
            [
             0,
             "#8e0152"
            ],
            [
             0.1,
             "#c51b7d"
            ],
            [
             0.2,
             "#de77ae"
            ],
            [
             0.3,
             "#f1b6da"
            ],
            [
             0.4,
             "#fde0ef"
            ],
            [
             0.5,
             "#f7f7f7"
            ],
            [
             0.6,
             "#e6f5d0"
            ],
            [
             0.7,
             "#b8e186"
            ],
            [
             0.8,
             "#7fbc41"
            ],
            [
             0.9,
             "#4d9221"
            ],
            [
             1,
             "#276419"
            ]
           ],
           "sequential": [
            [
             0,
             "#0d0887"
            ],
            [
             0.1111111111111111,
             "#46039f"
            ],
            [
             0.2222222222222222,
             "#7201a8"
            ],
            [
             0.3333333333333333,
             "#9c179e"
            ],
            [
             0.4444444444444444,
             "#bd3786"
            ],
            [
             0.5555555555555556,
             "#d8576b"
            ],
            [
             0.6666666666666666,
             "#ed7953"
            ],
            [
             0.7777777777777778,
             "#fb9f3a"
            ],
            [
             0.8888888888888888,
             "#fdca26"
            ],
            [
             1,
             "#f0f921"
            ]
           ],
           "sequentialminus": [
            [
             0,
             "#0d0887"
            ],
            [
             0.1111111111111111,
             "#46039f"
            ],
            [
             0.2222222222222222,
             "#7201a8"
            ],
            [
             0.3333333333333333,
             "#9c179e"
            ],
            [
             0.4444444444444444,
             "#bd3786"
            ],
            [
             0.5555555555555556,
             "#d8576b"
            ],
            [
             0.6666666666666666,
             "#ed7953"
            ],
            [
             0.7777777777777778,
             "#fb9f3a"
            ],
            [
             0.8888888888888888,
             "#fdca26"
            ],
            [
             1,
             "#f0f921"
            ]
           ]
          },
          "colorway": [
           "#636efa",
           "#EF553B",
           "#00cc96",
           "#ab63fa",
           "#FFA15A",
           "#19d3f3",
           "#FF6692",
           "#B6E880",
           "#FF97FF",
           "#FECB52"
          ],
          "font": {
           "color": "#2a3f5f"
          },
          "geo": {
           "bgcolor": "white",
           "lakecolor": "white",
           "landcolor": "#E5ECF6",
           "showlakes": true,
           "showland": true,
           "subunitcolor": "white"
          },
          "hoverlabel": {
           "align": "left"
          },
          "hovermode": "closest",
          "mapbox": {
           "style": "light"
          },
          "paper_bgcolor": "white",
          "plot_bgcolor": "#E5ECF6",
          "polar": {
           "angularaxis": {
            "gridcolor": "white",
            "linecolor": "white",
            "ticks": ""
           },
           "bgcolor": "#E5ECF6",
           "radialaxis": {
            "gridcolor": "white",
            "linecolor": "white",
            "ticks": ""
           }
          },
          "scene": {
           "xaxis": {
            "backgroundcolor": "#E5ECF6",
            "gridcolor": "white",
            "gridwidth": 2,
            "linecolor": "white",
            "showbackground": true,
            "ticks": "",
            "zerolinecolor": "white"
           },
           "yaxis": {
            "backgroundcolor": "#E5ECF6",
            "gridcolor": "white",
            "gridwidth": 2,
            "linecolor": "white",
            "showbackground": true,
            "ticks": "",
            "zerolinecolor": "white"
           },
           "zaxis": {
            "backgroundcolor": "#E5ECF6",
            "gridcolor": "white",
            "gridwidth": 2,
            "linecolor": "white",
            "showbackground": true,
            "ticks": "",
            "zerolinecolor": "white"
           }
          },
          "shapedefaults": {
           "line": {
            "color": "#2a3f5f"
           }
          },
          "ternary": {
           "aaxis": {
            "gridcolor": "white",
            "linecolor": "white",
            "ticks": ""
           },
           "baxis": {
            "gridcolor": "white",
            "linecolor": "white",
            "ticks": ""
           },
           "bgcolor": "#E5ECF6",
           "caxis": {
            "gridcolor": "white",
            "linecolor": "white",
            "ticks": ""
           }
          },
          "title": {
           "x": 0.05
          },
          "xaxis": {
           "automargin": true,
           "gridcolor": "white",
           "linecolor": "white",
           "ticks": "",
           "title": {
            "standoff": 15
           },
           "zerolinecolor": "white",
           "zerolinewidth": 2
          },
          "yaxis": {
           "automargin": true,
           "gridcolor": "white",
           "linecolor": "white",
           "ticks": "",
           "title": {
            "standoff": 15
           },
           "zerolinecolor": "white",
           "zerolinewidth": 2
          }
         }
        },
        "title": {
         "text": "Large Text Compression Benchmark decompression throughput"
        },
        "width": 800,
        "xaxis": {
         "anchor": "y",
         "domain": [
          0,
          1
         ],
         "title": {
          "text": "Compression ratio"
         }
        },
        "yaxis": {
         "anchor": "x",
         "domain": [
          0,
          1
         ],
         "title": {
          "text": "Decompression throughput (MB/s)"
         },
         "type": "log"
        }
       }
      }
     },
     "metadata": {},
     "output_type": "display_data"
    }
   ],
   "source": [
    "hutter_decomp_all_df = hutter_df.sort_values(['alg'], ascending=True)\n",
    "\n",
    "# Count occurrences of each category\n",
    "category_counts = hutter_df['alg'].value_counts()\n",
    "hutter_decomp_all_df['alg_count'] = hutter_decomp_all_df['alg'].map(category_counts)\n",
    "\n",
    "hutter_decomp_all_df = hutter_decomp_all_df.sort_values(['alg_count'], ascending=False)\n",
    "\n",
    "mask = paretoset(hutter_decomp_all_df[['ratio_enwik8', 'decomp_throughput']], sense=[\"max\", \"max\"])\n",
    "pareto_points = hutter_decomp_all_df[mask]\n",
    "pareto_points.sort_values(['decomp_throughput'], inplace=True)\n",
    "\n",
    "hutter_decomp_all_df['pareto'] = mask*4 +1\n",
    "\n",
    "\n",
    "fig_hutter_decompression_all = px.scatter(\n",
    "    hutter_decomp_all_df,\n",
    "    title=f\"Large Text Compression Benchmark decompression throughput\", \n",
    "    x=\"ratio_enwik8\",\n",
    "    y=\"decomp_throughput\",\n",
    "    log_y=True,\n",
    "    hover_data=['program'],\n",
    "    # labels=\"program\",\n",
    "    color=\"alg\",\n",
    "    size='pareto',\n",
    "    color_discrete_sequence=px.colors.qualitative.Dark24,\n",
    "    width=800,\n",
    "    height=650,\n",
    ")\n",
    "\n",
    "fig_hutter_decompression_all.add_scatter(\n",
    "    x=pareto_points['ratio_enwik8'], \n",
    "    y=pareto_points['decomp_throughput'], \n",
    "    mode='lines',\n",
    "    line=dict(color=\"#000000\"),\n",
    "    name=\"Pareto front\"\n",
    ")\n",
    "\n",
    "\n",
    "\n",
    "\n",
    "fig_hutter_decompression_all.update_layout(\n",
    "    yaxis_title=\"Decompression throughput (MB/s)\",\n",
    "    xaxis_title=\"Compression ratio\",\n",
    ")\n",
    "\n",
    "fig_hutter_decompression_all.show()"
   ]
  },
  {
   "cell_type": "code",
   "execution_count": 22,
   "id": "20f714e3",
   "metadata": {},
   "outputs": [
    {
     "name": "stderr",
     "output_type": "stream",
     "text": [
      "/var/folders/5z/1fjczghs4x101sqrk1z655tc0000gn/T/ipykernel_11682/1637395855.py:13: SettingWithCopyWarning:\n",
      "\n",
      "\n",
      "A value is trying to be set on a copy of a slice from a DataFrame\n",
      "\n",
      "See the caveats in the documentation: https://pandas.pydata.org/pandas-docs/stable/user_guide/indexing.html#returning-a-view-versus-a-copy\n",
      "\n"
     ]
    },
    {
     "data": {
      "application/vnd.plotly.v1+json": {
       "config": {
        "plotlyServerURL": "https://plot.ly"
       },
       "data": [
        {
         "customdata": [
          [
           "zstd"
          ],
          [
           "zstd"
          ]
         ],
         "hovertemplate": "program=%{customdata[0]}<br>ratio_enwik8=%{x}<br>comp_throughput=%{y}<br>pareto=%{marker.size}<extra></extra>",
         "legendgroup": "zstd",
         "marker": {
          "color": "#2E91E5",
          "size": [
           5,
           5
          ],
          "sizemode": "area",
          "sizeref": 0.0125,
          "symbol": "circle"
         },
         "mode": "markers",
         "name": "zstd",
         "orientation": "v",
         "showlegend": true,
         "type": "scatter",
         "x": [
          2.4582884378164507,
          3.7099373603046275
         ],
         "xaxis": "x",
         "y": [
          453.51473922902494,
          1.9157088122605364
         ],
         "yaxis": "y"
        },
        {
         "customdata": [
          [
           "gzip"
          ],
          [
           "gzip"
          ]
         ],
         "hovertemplate": "program=%{customdata[0]}<br>ratio_enwik8=%{x}<br>comp_throughput=%{y}<br>pareto=%{marker.size}<extra></extra>",
         "legendgroup": "gzip",
         "marker": {
          "color": "#E15F99",
          "size": [
           5,
           1
          ],
          "sizemode": "area",
          "sizeref": 0.0125,
          "symbol": "circle"
         },
         "mode": "markers",
         "name": "gzip",
         "orientation": "v",
         "showlegend": true,
         "type": "scatter",
         "x": [
          2.7438419406557477,
          2.365982919685385
         ],
         "xaxis": "x",
         "y": [
          25.641025641025642,
          90.90909090909092
         ],
         "yaxis": "y"
        },
        {
         "customdata": [
          [
           "fsst12"
          ]
         ],
         "hovertemplate": "program=%{customdata[0]}<br>ratio_enwik8=%{x}<br>comp_throughput=%{y}<br>pareto=%{marker.size}<extra></extra>",
         "legendgroup": "fsst12",
         "marker": {
          "color": "#1CA71C",
          "size": [
           1
          ],
          "sizemode": "area",
          "sizeref": 0.0125,
          "symbol": "circle"
         },
         "mode": "markers",
         "name": "fsst12",
         "orientation": "v",
         "showlegend": true,
         "type": "scatter",
         "x": [
          1.728243791323065
         ],
         "xaxis": "x",
         "y": [
          174.39832577607254
         ],
         "yaxis": "y"
        },
        {
         "customdata": [
          [
           "fsst"
          ]
         ],
         "hovertemplate": "program=%{customdata[0]}<br>ratio_enwik8=%{x}<br>comp_throughput=%{y}<br>pareto=%{marker.size}<extra></extra>",
         "legendgroup": "fsst",
         "marker": {
          "color": "#FB0D0D",
          "size": [
           1
          ],
          "sizemode": "area",
          "sizeref": 0.0125,
          "symbol": "circle"
         },
         "mode": "markers",
         "name": "fsst",
         "orientation": "v",
         "showlegend": true,
         "type": "scatter",
         "x": [
          1.6503467180412998
         ],
         "xaxis": "x",
         "y": [
          449.03457566232606
         ],
         "yaxis": "y"
        },
        {
         "customdata": [
          [
           "iguana"
          ]
         ],
         "hovertemplate": "program=%{customdata[0]}<br>ratio_enwik8=%{x}<br>comp_throughput=%{y}<br>pareto=%{marker.size}<extra></extra>",
         "legendgroup": "iguana",
         "marker": {
          "color": "#DA16FF",
          "size": [
           5
          ],
          "sizemode": "area",
          "sizeref": 0.0125,
          "symbol": "circle"
         },
         "mode": "markers",
         "name": "iguana",
         "orientation": "v",
         "showlegend": true,
         "type": "scatter",
         "x": [
          2.631036330744104
         ],
         "xaxis": "x",
         "y": [
          84.04773911581778
         ],
         "yaxis": "y"
        },
        {
         "customdata": [
          [
           "lz4"
          ],
          [
           "lz4"
          ]
         ],
         "hovertemplate": "program=%{customdata[0]}<br>ratio_enwik8=%{x}<br>comp_throughput=%{y}<br>pareto=%{marker.size}<extra></extra>",
         "legendgroup": "lz4",
         "marker": {
          "color": "#222A2A",
          "size": [
           5,
           1
          ],
          "sizemode": "area",
          "sizeref": 0.0125,
          "symbol": "circle"
         },
         "mode": "markers",
         "name": "lz4",
         "orientation": "v",
         "showlegend": true,
         "type": "scatter",
         "x": [
          1.7456276914087747,
          2.381633017645495
         ],
         "xaxis": "x",
         "y": [
          454.5454545454545,
          20.833333333333332
         ],
         "yaxis": "y"
        },
        {
         "customdata": [
          [
           "lizard"
          ],
          [
           "lizard"
          ]
         ],
         "hovertemplate": "program=%{customdata[0]}<br>ratio_enwik8=%{x}<br>comp_throughput=%{y}<br>pareto=%{marker.size}<extra></extra>",
         "legendgroup": "lizard",
         "marker": {
          "color": "#B68100",
          "size": [
           1,
           5
          ],
          "sizemode": "area",
          "sizeref": 0.0125,
          "symbol": "circle"
         },
         "mode": "markers",
         "name": "lizard",
         "orientation": "v",
         "showlegend": true,
         "type": "scatter",
         "x": [
          2.3623254448199753,
          2.9073247780068554
         ],
         "xaxis": "x",
         "y": [
          45.45454545454546,
          4.273504273504273
         ],
         "yaxis": "y"
        },
        {
         "line": {
          "color": "#000000"
         },
         "mode": "lines",
         "name": "Pareto front",
         "type": "scatter",
         "x": [
          3.7099373603046275,
          2.9073247780068554,
          2.7438419406557477,
          2.631036330744104,
          2.4582884378164507,
          1.7456276914087747
         ],
         "y": [
          1.9157088122605364,
          4.273504273504273,
          25.641025641025642,
          84.04773911581778,
          453.51473922902494,
          454.5454545454545
         ]
        }
       ],
       "layout": {
        "height": 650,
        "legend": {
         "itemsizing": "constant",
         "title": {
          "text": "program"
         },
         "tracegroupgap": 0
        },
        "template": {
         "data": {
          "bar": [
           {
            "error_x": {
             "color": "#2a3f5f"
            },
            "error_y": {
             "color": "#2a3f5f"
            },
            "marker": {
             "line": {
              "color": "#E5ECF6",
              "width": 0.5
             },
             "pattern": {
              "fillmode": "overlay",
              "size": 10,
              "solidity": 0.2
             }
            },
            "type": "bar"
           }
          ],
          "barpolar": [
           {
            "marker": {
             "line": {
              "color": "#E5ECF6",
              "width": 0.5
             },
             "pattern": {
              "fillmode": "overlay",
              "size": 10,
              "solidity": 0.2
             }
            },
            "type": "barpolar"
           }
          ],
          "carpet": [
           {
            "aaxis": {
             "endlinecolor": "#2a3f5f",
             "gridcolor": "white",
             "linecolor": "white",
             "minorgridcolor": "white",
             "startlinecolor": "#2a3f5f"
            },
            "baxis": {
             "endlinecolor": "#2a3f5f",
             "gridcolor": "white",
             "linecolor": "white",
             "minorgridcolor": "white",
             "startlinecolor": "#2a3f5f"
            },
            "type": "carpet"
           }
          ],
          "choropleth": [
           {
            "colorbar": {
             "outlinewidth": 0,
             "ticks": ""
            },
            "type": "choropleth"
           }
          ],
          "contour": [
           {
            "colorbar": {
             "outlinewidth": 0,
             "ticks": ""
            },
            "colorscale": [
             [
              0,
              "#0d0887"
             ],
             [
              0.1111111111111111,
              "#46039f"
             ],
             [
              0.2222222222222222,
              "#7201a8"
             ],
             [
              0.3333333333333333,
              "#9c179e"
             ],
             [
              0.4444444444444444,
              "#bd3786"
             ],
             [
              0.5555555555555556,
              "#d8576b"
             ],
             [
              0.6666666666666666,
              "#ed7953"
             ],
             [
              0.7777777777777778,
              "#fb9f3a"
             ],
             [
              0.8888888888888888,
              "#fdca26"
             ],
             [
              1,
              "#f0f921"
             ]
            ],
            "type": "contour"
           }
          ],
          "contourcarpet": [
           {
            "colorbar": {
             "outlinewidth": 0,
             "ticks": ""
            },
            "type": "contourcarpet"
           }
          ],
          "heatmap": [
           {
            "colorbar": {
             "outlinewidth": 0,
             "ticks": ""
            },
            "colorscale": [
             [
              0,
              "#0d0887"
             ],
             [
              0.1111111111111111,
              "#46039f"
             ],
             [
              0.2222222222222222,
              "#7201a8"
             ],
             [
              0.3333333333333333,
              "#9c179e"
             ],
             [
              0.4444444444444444,
              "#bd3786"
             ],
             [
              0.5555555555555556,
              "#d8576b"
             ],
             [
              0.6666666666666666,
              "#ed7953"
             ],
             [
              0.7777777777777778,
              "#fb9f3a"
             ],
             [
              0.8888888888888888,
              "#fdca26"
             ],
             [
              1,
              "#f0f921"
             ]
            ],
            "type": "heatmap"
           }
          ],
          "heatmapgl": [
           {
            "colorbar": {
             "outlinewidth": 0,
             "ticks": ""
            },
            "colorscale": [
             [
              0,
              "#0d0887"
             ],
             [
              0.1111111111111111,
              "#46039f"
             ],
             [
              0.2222222222222222,
              "#7201a8"
             ],
             [
              0.3333333333333333,
              "#9c179e"
             ],
             [
              0.4444444444444444,
              "#bd3786"
             ],
             [
              0.5555555555555556,
              "#d8576b"
             ],
             [
              0.6666666666666666,
              "#ed7953"
             ],
             [
              0.7777777777777778,
              "#fb9f3a"
             ],
             [
              0.8888888888888888,
              "#fdca26"
             ],
             [
              1,
              "#f0f921"
             ]
            ],
            "type": "heatmapgl"
           }
          ],
          "histogram": [
           {
            "marker": {
             "pattern": {
              "fillmode": "overlay",
              "size": 10,
              "solidity": 0.2
             }
            },
            "type": "histogram"
           }
          ],
          "histogram2d": [
           {
            "colorbar": {
             "outlinewidth": 0,
             "ticks": ""
            },
            "colorscale": [
             [
              0,
              "#0d0887"
             ],
             [
              0.1111111111111111,
              "#46039f"
             ],
             [
              0.2222222222222222,
              "#7201a8"
             ],
             [
              0.3333333333333333,
              "#9c179e"
             ],
             [
              0.4444444444444444,
              "#bd3786"
             ],
             [
              0.5555555555555556,
              "#d8576b"
             ],
             [
              0.6666666666666666,
              "#ed7953"
             ],
             [
              0.7777777777777778,
              "#fb9f3a"
             ],
             [
              0.8888888888888888,
              "#fdca26"
             ],
             [
              1,
              "#f0f921"
             ]
            ],
            "type": "histogram2d"
           }
          ],
          "histogram2dcontour": [
           {
            "colorbar": {
             "outlinewidth": 0,
             "ticks": ""
            },
            "colorscale": [
             [
              0,
              "#0d0887"
             ],
             [
              0.1111111111111111,
              "#46039f"
             ],
             [
              0.2222222222222222,
              "#7201a8"
             ],
             [
              0.3333333333333333,
              "#9c179e"
             ],
             [
              0.4444444444444444,
              "#bd3786"
             ],
             [
              0.5555555555555556,
              "#d8576b"
             ],
             [
              0.6666666666666666,
              "#ed7953"
             ],
             [
              0.7777777777777778,
              "#fb9f3a"
             ],
             [
              0.8888888888888888,
              "#fdca26"
             ],
             [
              1,
              "#f0f921"
             ]
            ],
            "type": "histogram2dcontour"
           }
          ],
          "mesh3d": [
           {
            "colorbar": {
             "outlinewidth": 0,
             "ticks": ""
            },
            "type": "mesh3d"
           }
          ],
          "parcoords": [
           {
            "line": {
             "colorbar": {
              "outlinewidth": 0,
              "ticks": ""
             }
            },
            "type": "parcoords"
           }
          ],
          "pie": [
           {
            "automargin": true,
            "type": "pie"
           }
          ],
          "scatter": [
           {
            "fillpattern": {
             "fillmode": "overlay",
             "size": 10,
             "solidity": 0.2
            },
            "type": "scatter"
           }
          ],
          "scatter3d": [
           {
            "line": {
             "colorbar": {
              "outlinewidth": 0,
              "ticks": ""
             }
            },
            "marker": {
             "colorbar": {
              "outlinewidth": 0,
              "ticks": ""
             }
            },
            "type": "scatter3d"
           }
          ],
          "scattercarpet": [
           {
            "marker": {
             "colorbar": {
              "outlinewidth": 0,
              "ticks": ""
             }
            },
            "type": "scattercarpet"
           }
          ],
          "scattergeo": [
           {
            "marker": {
             "colorbar": {
              "outlinewidth": 0,
              "ticks": ""
             }
            },
            "type": "scattergeo"
           }
          ],
          "scattergl": [
           {
            "marker": {
             "colorbar": {
              "outlinewidth": 0,
              "ticks": ""
             }
            },
            "type": "scattergl"
           }
          ],
          "scattermapbox": [
           {
            "marker": {
             "colorbar": {
              "outlinewidth": 0,
              "ticks": ""
             }
            },
            "type": "scattermapbox"
           }
          ],
          "scatterpolar": [
           {
            "marker": {
             "colorbar": {
              "outlinewidth": 0,
              "ticks": ""
             }
            },
            "type": "scatterpolar"
           }
          ],
          "scatterpolargl": [
           {
            "marker": {
             "colorbar": {
              "outlinewidth": 0,
              "ticks": ""
             }
            },
            "type": "scatterpolargl"
           }
          ],
          "scatterternary": [
           {
            "marker": {
             "colorbar": {
              "outlinewidth": 0,
              "ticks": ""
             }
            },
            "type": "scatterternary"
           }
          ],
          "surface": [
           {
            "colorbar": {
             "outlinewidth": 0,
             "ticks": ""
            },
            "colorscale": [
             [
              0,
              "#0d0887"
             ],
             [
              0.1111111111111111,
              "#46039f"
             ],
             [
              0.2222222222222222,
              "#7201a8"
             ],
             [
              0.3333333333333333,
              "#9c179e"
             ],
             [
              0.4444444444444444,
              "#bd3786"
             ],
             [
              0.5555555555555556,
              "#d8576b"
             ],
             [
              0.6666666666666666,
              "#ed7953"
             ],
             [
              0.7777777777777778,
              "#fb9f3a"
             ],
             [
              0.8888888888888888,
              "#fdca26"
             ],
             [
              1,
              "#f0f921"
             ]
            ],
            "type": "surface"
           }
          ],
          "table": [
           {
            "cells": {
             "fill": {
              "color": "#EBF0F8"
             },
             "line": {
              "color": "white"
             }
            },
            "header": {
             "fill": {
              "color": "#C8D4E3"
             },
             "line": {
              "color": "white"
             }
            },
            "type": "table"
           }
          ]
         },
         "layout": {
          "annotationdefaults": {
           "arrowcolor": "#2a3f5f",
           "arrowhead": 0,
           "arrowwidth": 1
          },
          "autotypenumbers": "strict",
          "coloraxis": {
           "colorbar": {
            "outlinewidth": 0,
            "ticks": ""
           }
          },
          "colorscale": {
           "diverging": [
            [
             0,
             "#8e0152"
            ],
            [
             0.1,
             "#c51b7d"
            ],
            [
             0.2,
             "#de77ae"
            ],
            [
             0.3,
             "#f1b6da"
            ],
            [
             0.4,
             "#fde0ef"
            ],
            [
             0.5,
             "#f7f7f7"
            ],
            [
             0.6,
             "#e6f5d0"
            ],
            [
             0.7,
             "#b8e186"
            ],
            [
             0.8,
             "#7fbc41"
            ],
            [
             0.9,
             "#4d9221"
            ],
            [
             1,
             "#276419"
            ]
           ],
           "sequential": [
            [
             0,
             "#0d0887"
            ],
            [
             0.1111111111111111,
             "#46039f"
            ],
            [
             0.2222222222222222,
             "#7201a8"
            ],
            [
             0.3333333333333333,
             "#9c179e"
            ],
            [
             0.4444444444444444,
             "#bd3786"
            ],
            [
             0.5555555555555556,
             "#d8576b"
            ],
            [
             0.6666666666666666,
             "#ed7953"
            ],
            [
             0.7777777777777778,
             "#fb9f3a"
            ],
            [
             0.8888888888888888,
             "#fdca26"
            ],
            [
             1,
             "#f0f921"
            ]
           ],
           "sequentialminus": [
            [
             0,
             "#0d0887"
            ],
            [
             0.1111111111111111,
             "#46039f"
            ],
            [
             0.2222222222222222,
             "#7201a8"
            ],
            [
             0.3333333333333333,
             "#9c179e"
            ],
            [
             0.4444444444444444,
             "#bd3786"
            ],
            [
             0.5555555555555556,
             "#d8576b"
            ],
            [
             0.6666666666666666,
             "#ed7953"
            ],
            [
             0.7777777777777778,
             "#fb9f3a"
            ],
            [
             0.8888888888888888,
             "#fdca26"
            ],
            [
             1,
             "#f0f921"
            ]
           ]
          },
          "colorway": [
           "#636efa",
           "#EF553B",
           "#00cc96",
           "#ab63fa",
           "#FFA15A",
           "#19d3f3",
           "#FF6692",
           "#B6E880",
           "#FF97FF",
           "#FECB52"
          ],
          "font": {
           "color": "#2a3f5f"
          },
          "geo": {
           "bgcolor": "white",
           "lakecolor": "white",
           "landcolor": "#E5ECF6",
           "showlakes": true,
           "showland": true,
           "subunitcolor": "white"
          },
          "hoverlabel": {
           "align": "left"
          },
          "hovermode": "closest",
          "mapbox": {
           "style": "light"
          },
          "paper_bgcolor": "white",
          "plot_bgcolor": "#E5ECF6",
          "polar": {
           "angularaxis": {
            "gridcolor": "white",
            "linecolor": "white",
            "ticks": ""
           },
           "bgcolor": "#E5ECF6",
           "radialaxis": {
            "gridcolor": "white",
            "linecolor": "white",
            "ticks": ""
           }
          },
          "scene": {
           "xaxis": {
            "backgroundcolor": "#E5ECF6",
            "gridcolor": "white",
            "gridwidth": 2,
            "linecolor": "white",
            "showbackground": true,
            "ticks": "",
            "zerolinecolor": "white"
           },
           "yaxis": {
            "backgroundcolor": "#E5ECF6",
            "gridcolor": "white",
            "gridwidth": 2,
            "linecolor": "white",
            "showbackground": true,
            "ticks": "",
            "zerolinecolor": "white"
           },
           "zaxis": {
            "backgroundcolor": "#E5ECF6",
            "gridcolor": "white",
            "gridwidth": 2,
            "linecolor": "white",
            "showbackground": true,
            "ticks": "",
            "zerolinecolor": "white"
           }
          },
          "shapedefaults": {
           "line": {
            "color": "#2a3f5f"
           }
          },
          "ternary": {
           "aaxis": {
            "gridcolor": "white",
            "linecolor": "white",
            "ticks": ""
           },
           "baxis": {
            "gridcolor": "white",
            "linecolor": "white",
            "ticks": ""
           },
           "bgcolor": "#E5ECF6",
           "caxis": {
            "gridcolor": "white",
            "linecolor": "white",
            "ticks": ""
           }
          },
          "title": {
           "x": 0.05
          },
          "xaxis": {
           "automargin": true,
           "gridcolor": "white",
           "linecolor": "white",
           "ticks": "",
           "title": {
            "standoff": 15
           },
           "zerolinecolor": "white",
           "zerolinewidth": 2
          },
          "yaxis": {
           "automargin": true,
           "gridcolor": "white",
           "linecolor": "white",
           "ticks": "",
           "title": {
            "standoff": 15
           },
           "zerolinecolor": "white",
           "zerolinewidth": 2
          }
         }
        },
        "title": {
         "text": "Large Text Compression Benchmark compression throughput: Algorithms"
        },
        "width": 800,
        "xaxis": {
         "anchor": "y",
         "domain": [
          0,
          1
         ],
         "title": {
          "text": "Compression ratio"
         }
        },
        "yaxis": {
         "anchor": "x",
         "domain": [
          0,
          1
         ],
         "title": {
          "text": "Compression throughput (MB/s)"
         }
        }
       }
      }
     },
     "metadata": {},
     "output_type": "display_data"
    }
   ],
   "source": [
    "custom_comp_all_df = custom_df.sort_values(['alg'], ascending=True)\n",
    "\n",
    "# Count occurrences of each category\n",
    "category_counts = custom_df['alg'].value_counts()\n",
    "custom_comp_all_df['alg_count'] = custom_comp_all_df['alg'].map(category_counts)\n",
    "\n",
    "custom_comp_all_df = custom_comp_all_df.sort_values(['alg_count'], ascending=False)\n",
    "\n",
    "\n",
    "mask = paretoset(custom_comp_all_df[['ratio_enwik8', 'comp_throughput']], sense=[\"max\", \"max\"])\n",
    "\n",
    "pareto_points = custom_comp_all_df[mask]\n",
    "pareto_points.sort_values(['comp_throughput'], inplace=True)\n",
    "\n",
    "custom_comp_all_df['pareto'] = mask*4 +1\n",
    "\n",
    "\n",
    "fig_custom_compression_all = px.scatter(\n",
    "    custom_comp_all_df,\n",
    "    title=f\"Large Text Compression Benchmark compression throughput: Algorithms\", \n",
    "    x=\"ratio_enwik8\",\n",
    "    y=\"comp_throughput\",\n",
    "    hover_data=['program'],\n",
    "    # log_y=True,\n",
    "    # labels=\"program\",\n",
    "    color=\"program\",\n",
    "    size='pareto',\n",
    "    color_discrete_sequence=px.colors.qualitative.Dark24,\n",
    "    width=800,\n",
    "    height=650,\n",
    ")\n",
    "fig_custom_compression_all.add_scatter(\n",
    "    x=pareto_points['ratio_enwik8'], \n",
    "    y=pareto_points['comp_throughput'], \n",
    "    mode='lines',\n",
    "    line=dict(color=\"#000000\"),\n",
    "    name=\"Pareto front\"\n",
    ")\n",
    "\n",
    "fig_custom_compression_all.update_layout(\n",
    "    yaxis_title=\"Compression throughput (MB/s)\",\n",
    "    xaxis_title=\"Compression ratio\",\n",
    ")\n",
    "\n",
    "fig_custom_compression_all.show()"
   ]
  },
  {
   "cell_type": "code",
   "execution_count": 23,
   "id": "155e0c9f",
   "metadata": {},
   "outputs": [
    {
     "name": "stderr",
     "output_type": "stream",
     "text": [
      "/var/folders/5z/1fjczghs4x101sqrk1z655tc0000gn/T/ipykernel_11682/1519293418.py:11: SettingWithCopyWarning:\n",
      "\n",
      "\n",
      "A value is trying to be set on a copy of a slice from a DataFrame\n",
      "\n",
      "See the caveats in the documentation: https://pandas.pydata.org/pandas-docs/stable/user_guide/indexing.html#returning-a-view-versus-a-copy\n",
      "\n"
     ]
    },
    {
     "data": {
      "application/vnd.plotly.v1+json": {
       "config": {
        "plotlyServerURL": "https://plot.ly"
       },
       "data": [
        {
         "customdata": [
          [
           "zstd"
          ],
          [
           "zstd"
          ]
         ],
         "hovertemplate": "program=%{customdata[0]}<br>ratio_enwik8=%{x}<br>decomp_throughput=%{y}<br>pareto=%{marker.size}<extra></extra>",
         "legendgroup": "zstd",
         "marker": {
          "color": "#2E91E5",
          "size": [
           1,
           5
          ],
          "sizemode": "area",
          "sizeref": 0.0125,
          "symbol": "circle"
         },
         "mode": "markers",
         "name": "zstd",
         "orientation": "v",
         "showlegend": true,
         "type": "scatter",
         "x": [
          2.4582884378164507,
          3.7099373603046275
         ],
         "xaxis": "x",
         "y": [
          1438.8489208633093,
          909.090909090909
         ],
         "yaxis": "y"
        },
        {
         "customdata": [
          [
           "gzip"
          ],
          [
           "gzip"
          ]
         ],
         "hovertemplate": "program=%{customdata[0]}<br>ratio_enwik8=%{x}<br>decomp_throughput=%{y}<br>pareto=%{marker.size}<extra></extra>",
         "legendgroup": "gzip",
         "marker": {
          "color": "#E15F99",
          "size": [
           1,
           1
          ],
          "sizemode": "area",
          "sizeref": 0.0125,
          "symbol": "circle"
         },
         "mode": "markers",
         "name": "gzip",
         "orientation": "v",
         "showlegend": true,
         "type": "scatter",
         "x": [
          2.7438419406557477,
          2.365982919685385
         ],
         "xaxis": "x",
         "y": [
          208.33333333333334,
          188.67924528301887
         ],
         "yaxis": "y"
        },
        {
         "customdata": [
          [
           "fsst12"
          ]
         ],
         "hovertemplate": "program=%{customdata[0]}<br>ratio_enwik8=%{x}<br>decomp_throughput=%{y}<br>pareto=%{marker.size}<extra></extra>",
         "legendgroup": "fsst12",
         "marker": {
          "color": "#1CA71C",
          "size": [
           5
          ],
          "sizemode": "area",
          "sizeref": 0.0125,
          "symbol": "circle"
         },
         "mode": "markers",
         "name": "fsst12",
         "orientation": "v",
         "showlegend": true,
         "type": "scatter",
         "x": [
          1.728243791323065
         ],
         "xaxis": "x",
         "y": [
          4761.9047619047615
         ],
         "yaxis": "y"
        },
        {
         "customdata": [
          [
           "fsst"
          ]
         ],
         "hovertemplate": "program=%{customdata[0]}<br>ratio_enwik8=%{x}<br>decomp_throughput=%{y}<br>pareto=%{marker.size}<extra></extra>",
         "legendgroup": "fsst",
         "marker": {
          "color": "#FB0D0D",
          "size": [
           1
          ],
          "sizemode": "area",
          "sizeref": 0.0125,
          "symbol": "circle"
         },
         "mode": "markers",
         "name": "fsst",
         "orientation": "v",
         "showlegend": true,
         "type": "scatter",
         "x": [
          1.6503467180412998
         ],
         "xaxis": "x",
         "y": [
          3105.590062111801
         ],
         "yaxis": "y"
        },
        {
         "customdata": [
          [
           "iguana"
          ]
         ],
         "hovertemplate": "program=%{customdata[0]}<br>ratio_enwik8=%{x}<br>decomp_throughput=%{y}<br>pareto=%{marker.size}<extra></extra>",
         "legendgroup": "iguana",
         "marker": {
          "color": "#DA16FF",
          "size": [
           5
          ],
          "sizemode": "area",
          "sizeref": 0.0125,
          "symbol": "circle"
         },
         "mode": "markers",
         "name": "iguana",
         "orientation": "v",
         "showlegend": true,
         "type": "scatter",
         "x": [
          2.631036330744104
         ],
         "xaxis": "x",
         "y": [
          1926.7822736030828
         ],
         "yaxis": "y"
        },
        {
         "customdata": [
          [
           "lz4"
          ],
          [
           "lz4"
          ]
         ],
         "hovertemplate": "program=%{customdata[0]}<br>ratio_enwik8=%{x}<br>decomp_throughput=%{y}<br>pareto=%{marker.size}<extra></extra>",
         "legendgroup": "lz4",
         "marker": {
          "color": "#222A2A",
          "size": [
           1,
           1
          ],
          "sizemode": "area",
          "sizeref": 0.0125,
          "symbol": "circle"
         },
         "mode": "markers",
         "name": "lz4",
         "orientation": "v",
         "showlegend": true,
         "type": "scatter",
         "x": [
          1.7456276914087747,
          2.381633017645495
         ],
         "xaxis": "x",
         "y": [
          1111.111111111111,
          1111.111111111111
         ],
         "yaxis": "y"
        },
        {
         "customdata": [
          [
           "lizard"
          ],
          [
           "lizard"
          ]
         ],
         "hovertemplate": "program=%{customdata[0]}<br>ratio_enwik8=%{x}<br>decomp_throughput=%{y}<br>pareto=%{marker.size}<extra></extra>",
         "legendgroup": "lizard",
         "marker": {
          "color": "#B68100",
          "size": [
           1,
           1
          ],
          "sizemode": "area",
          "sizeref": 0.0125,
          "symbol": "circle"
         },
         "mode": "markers",
         "name": "lizard",
         "orientation": "v",
         "showlegend": true,
         "type": "scatter",
         "x": [
          2.3623254448199753,
          2.9073247780068554
         ],
         "xaxis": "x",
         "y": [
          1111.111111111111,
          833.3333333333334
         ],
         "yaxis": "y"
        },
        {
         "line": {
          "color": "#000000"
         },
         "mode": "lines",
         "name": "Pareto front",
         "type": "scatter",
         "x": [
          3.7099373603046275,
          2.631036330744104,
          1.728243791323065
         ],
         "y": [
          909.090909090909,
          1926.7822736030828,
          4761.9047619047615
         ]
        }
       ],
       "layout": {
        "height": 650,
        "legend": {
         "itemsizing": "constant",
         "title": {
          "text": "program"
         },
         "tracegroupgap": 0
        },
        "template": {
         "data": {
          "bar": [
           {
            "error_x": {
             "color": "#2a3f5f"
            },
            "error_y": {
             "color": "#2a3f5f"
            },
            "marker": {
             "line": {
              "color": "#E5ECF6",
              "width": 0.5
             },
             "pattern": {
              "fillmode": "overlay",
              "size": 10,
              "solidity": 0.2
             }
            },
            "type": "bar"
           }
          ],
          "barpolar": [
           {
            "marker": {
             "line": {
              "color": "#E5ECF6",
              "width": 0.5
             },
             "pattern": {
              "fillmode": "overlay",
              "size": 10,
              "solidity": 0.2
             }
            },
            "type": "barpolar"
           }
          ],
          "carpet": [
           {
            "aaxis": {
             "endlinecolor": "#2a3f5f",
             "gridcolor": "white",
             "linecolor": "white",
             "minorgridcolor": "white",
             "startlinecolor": "#2a3f5f"
            },
            "baxis": {
             "endlinecolor": "#2a3f5f",
             "gridcolor": "white",
             "linecolor": "white",
             "minorgridcolor": "white",
             "startlinecolor": "#2a3f5f"
            },
            "type": "carpet"
           }
          ],
          "choropleth": [
           {
            "colorbar": {
             "outlinewidth": 0,
             "ticks": ""
            },
            "type": "choropleth"
           }
          ],
          "contour": [
           {
            "colorbar": {
             "outlinewidth": 0,
             "ticks": ""
            },
            "colorscale": [
             [
              0,
              "#0d0887"
             ],
             [
              0.1111111111111111,
              "#46039f"
             ],
             [
              0.2222222222222222,
              "#7201a8"
             ],
             [
              0.3333333333333333,
              "#9c179e"
             ],
             [
              0.4444444444444444,
              "#bd3786"
             ],
             [
              0.5555555555555556,
              "#d8576b"
             ],
             [
              0.6666666666666666,
              "#ed7953"
             ],
             [
              0.7777777777777778,
              "#fb9f3a"
             ],
             [
              0.8888888888888888,
              "#fdca26"
             ],
             [
              1,
              "#f0f921"
             ]
            ],
            "type": "contour"
           }
          ],
          "contourcarpet": [
           {
            "colorbar": {
             "outlinewidth": 0,
             "ticks": ""
            },
            "type": "contourcarpet"
           }
          ],
          "heatmap": [
           {
            "colorbar": {
             "outlinewidth": 0,
             "ticks": ""
            },
            "colorscale": [
             [
              0,
              "#0d0887"
             ],
             [
              0.1111111111111111,
              "#46039f"
             ],
             [
              0.2222222222222222,
              "#7201a8"
             ],
             [
              0.3333333333333333,
              "#9c179e"
             ],
             [
              0.4444444444444444,
              "#bd3786"
             ],
             [
              0.5555555555555556,
              "#d8576b"
             ],
             [
              0.6666666666666666,
              "#ed7953"
             ],
             [
              0.7777777777777778,
              "#fb9f3a"
             ],
             [
              0.8888888888888888,
              "#fdca26"
             ],
             [
              1,
              "#f0f921"
             ]
            ],
            "type": "heatmap"
           }
          ],
          "heatmapgl": [
           {
            "colorbar": {
             "outlinewidth": 0,
             "ticks": ""
            },
            "colorscale": [
             [
              0,
              "#0d0887"
             ],
             [
              0.1111111111111111,
              "#46039f"
             ],
             [
              0.2222222222222222,
              "#7201a8"
             ],
             [
              0.3333333333333333,
              "#9c179e"
             ],
             [
              0.4444444444444444,
              "#bd3786"
             ],
             [
              0.5555555555555556,
              "#d8576b"
             ],
             [
              0.6666666666666666,
              "#ed7953"
             ],
             [
              0.7777777777777778,
              "#fb9f3a"
             ],
             [
              0.8888888888888888,
              "#fdca26"
             ],
             [
              1,
              "#f0f921"
             ]
            ],
            "type": "heatmapgl"
           }
          ],
          "histogram": [
           {
            "marker": {
             "pattern": {
              "fillmode": "overlay",
              "size": 10,
              "solidity": 0.2
             }
            },
            "type": "histogram"
           }
          ],
          "histogram2d": [
           {
            "colorbar": {
             "outlinewidth": 0,
             "ticks": ""
            },
            "colorscale": [
             [
              0,
              "#0d0887"
             ],
             [
              0.1111111111111111,
              "#46039f"
             ],
             [
              0.2222222222222222,
              "#7201a8"
             ],
             [
              0.3333333333333333,
              "#9c179e"
             ],
             [
              0.4444444444444444,
              "#bd3786"
             ],
             [
              0.5555555555555556,
              "#d8576b"
             ],
             [
              0.6666666666666666,
              "#ed7953"
             ],
             [
              0.7777777777777778,
              "#fb9f3a"
             ],
             [
              0.8888888888888888,
              "#fdca26"
             ],
             [
              1,
              "#f0f921"
             ]
            ],
            "type": "histogram2d"
           }
          ],
          "histogram2dcontour": [
           {
            "colorbar": {
             "outlinewidth": 0,
             "ticks": ""
            },
            "colorscale": [
             [
              0,
              "#0d0887"
             ],
             [
              0.1111111111111111,
              "#46039f"
             ],
             [
              0.2222222222222222,
              "#7201a8"
             ],
             [
              0.3333333333333333,
              "#9c179e"
             ],
             [
              0.4444444444444444,
              "#bd3786"
             ],
             [
              0.5555555555555556,
              "#d8576b"
             ],
             [
              0.6666666666666666,
              "#ed7953"
             ],
             [
              0.7777777777777778,
              "#fb9f3a"
             ],
             [
              0.8888888888888888,
              "#fdca26"
             ],
             [
              1,
              "#f0f921"
             ]
            ],
            "type": "histogram2dcontour"
           }
          ],
          "mesh3d": [
           {
            "colorbar": {
             "outlinewidth": 0,
             "ticks": ""
            },
            "type": "mesh3d"
           }
          ],
          "parcoords": [
           {
            "line": {
             "colorbar": {
              "outlinewidth": 0,
              "ticks": ""
             }
            },
            "type": "parcoords"
           }
          ],
          "pie": [
           {
            "automargin": true,
            "type": "pie"
           }
          ],
          "scatter": [
           {
            "fillpattern": {
             "fillmode": "overlay",
             "size": 10,
             "solidity": 0.2
            },
            "type": "scatter"
           }
          ],
          "scatter3d": [
           {
            "line": {
             "colorbar": {
              "outlinewidth": 0,
              "ticks": ""
             }
            },
            "marker": {
             "colorbar": {
              "outlinewidth": 0,
              "ticks": ""
             }
            },
            "type": "scatter3d"
           }
          ],
          "scattercarpet": [
           {
            "marker": {
             "colorbar": {
              "outlinewidth": 0,
              "ticks": ""
             }
            },
            "type": "scattercarpet"
           }
          ],
          "scattergeo": [
           {
            "marker": {
             "colorbar": {
              "outlinewidth": 0,
              "ticks": ""
             }
            },
            "type": "scattergeo"
           }
          ],
          "scattergl": [
           {
            "marker": {
             "colorbar": {
              "outlinewidth": 0,
              "ticks": ""
             }
            },
            "type": "scattergl"
           }
          ],
          "scattermapbox": [
           {
            "marker": {
             "colorbar": {
              "outlinewidth": 0,
              "ticks": ""
             }
            },
            "type": "scattermapbox"
           }
          ],
          "scatterpolar": [
           {
            "marker": {
             "colorbar": {
              "outlinewidth": 0,
              "ticks": ""
             }
            },
            "type": "scatterpolar"
           }
          ],
          "scatterpolargl": [
           {
            "marker": {
             "colorbar": {
              "outlinewidth": 0,
              "ticks": ""
             }
            },
            "type": "scatterpolargl"
           }
          ],
          "scatterternary": [
           {
            "marker": {
             "colorbar": {
              "outlinewidth": 0,
              "ticks": ""
             }
            },
            "type": "scatterternary"
           }
          ],
          "surface": [
           {
            "colorbar": {
             "outlinewidth": 0,
             "ticks": ""
            },
            "colorscale": [
             [
              0,
              "#0d0887"
             ],
             [
              0.1111111111111111,
              "#46039f"
             ],
             [
              0.2222222222222222,
              "#7201a8"
             ],
             [
              0.3333333333333333,
              "#9c179e"
             ],
             [
              0.4444444444444444,
              "#bd3786"
             ],
             [
              0.5555555555555556,
              "#d8576b"
             ],
             [
              0.6666666666666666,
              "#ed7953"
             ],
             [
              0.7777777777777778,
              "#fb9f3a"
             ],
             [
              0.8888888888888888,
              "#fdca26"
             ],
             [
              1,
              "#f0f921"
             ]
            ],
            "type": "surface"
           }
          ],
          "table": [
           {
            "cells": {
             "fill": {
              "color": "#EBF0F8"
             },
             "line": {
              "color": "white"
             }
            },
            "header": {
             "fill": {
              "color": "#C8D4E3"
             },
             "line": {
              "color": "white"
             }
            },
            "type": "table"
           }
          ]
         },
         "layout": {
          "annotationdefaults": {
           "arrowcolor": "#2a3f5f",
           "arrowhead": 0,
           "arrowwidth": 1
          },
          "autotypenumbers": "strict",
          "coloraxis": {
           "colorbar": {
            "outlinewidth": 0,
            "ticks": ""
           }
          },
          "colorscale": {
           "diverging": [
            [
             0,
             "#8e0152"
            ],
            [
             0.1,
             "#c51b7d"
            ],
            [
             0.2,
             "#de77ae"
            ],
            [
             0.3,
             "#f1b6da"
            ],
            [
             0.4,
             "#fde0ef"
            ],
            [
             0.5,
             "#f7f7f7"
            ],
            [
             0.6,
             "#e6f5d0"
            ],
            [
             0.7,
             "#b8e186"
            ],
            [
             0.8,
             "#7fbc41"
            ],
            [
             0.9,
             "#4d9221"
            ],
            [
             1,
             "#276419"
            ]
           ],
           "sequential": [
            [
             0,
             "#0d0887"
            ],
            [
             0.1111111111111111,
             "#46039f"
            ],
            [
             0.2222222222222222,
             "#7201a8"
            ],
            [
             0.3333333333333333,
             "#9c179e"
            ],
            [
             0.4444444444444444,
             "#bd3786"
            ],
            [
             0.5555555555555556,
             "#d8576b"
            ],
            [
             0.6666666666666666,
             "#ed7953"
            ],
            [
             0.7777777777777778,
             "#fb9f3a"
            ],
            [
             0.8888888888888888,
             "#fdca26"
            ],
            [
             1,
             "#f0f921"
            ]
           ],
           "sequentialminus": [
            [
             0,
             "#0d0887"
            ],
            [
             0.1111111111111111,
             "#46039f"
            ],
            [
             0.2222222222222222,
             "#7201a8"
            ],
            [
             0.3333333333333333,
             "#9c179e"
            ],
            [
             0.4444444444444444,
             "#bd3786"
            ],
            [
             0.5555555555555556,
             "#d8576b"
            ],
            [
             0.6666666666666666,
             "#ed7953"
            ],
            [
             0.7777777777777778,
             "#fb9f3a"
            ],
            [
             0.8888888888888888,
             "#fdca26"
            ],
            [
             1,
             "#f0f921"
            ]
           ]
          },
          "colorway": [
           "#636efa",
           "#EF553B",
           "#00cc96",
           "#ab63fa",
           "#FFA15A",
           "#19d3f3",
           "#FF6692",
           "#B6E880",
           "#FF97FF",
           "#FECB52"
          ],
          "font": {
           "color": "#2a3f5f"
          },
          "geo": {
           "bgcolor": "white",
           "lakecolor": "white",
           "landcolor": "#E5ECF6",
           "showlakes": true,
           "showland": true,
           "subunitcolor": "white"
          },
          "hoverlabel": {
           "align": "left"
          },
          "hovermode": "closest",
          "mapbox": {
           "style": "light"
          },
          "paper_bgcolor": "white",
          "plot_bgcolor": "#E5ECF6",
          "polar": {
           "angularaxis": {
            "gridcolor": "white",
            "linecolor": "white",
            "ticks": ""
           },
           "bgcolor": "#E5ECF6",
           "radialaxis": {
            "gridcolor": "white",
            "linecolor": "white",
            "ticks": ""
           }
          },
          "scene": {
           "xaxis": {
            "backgroundcolor": "#E5ECF6",
            "gridcolor": "white",
            "gridwidth": 2,
            "linecolor": "white",
            "showbackground": true,
            "ticks": "",
            "zerolinecolor": "white"
           },
           "yaxis": {
            "backgroundcolor": "#E5ECF6",
            "gridcolor": "white",
            "gridwidth": 2,
            "linecolor": "white",
            "showbackground": true,
            "ticks": "",
            "zerolinecolor": "white"
           },
           "zaxis": {
            "backgroundcolor": "#E5ECF6",
            "gridcolor": "white",
            "gridwidth": 2,
            "linecolor": "white",
            "showbackground": true,
            "ticks": "",
            "zerolinecolor": "white"
           }
          },
          "shapedefaults": {
           "line": {
            "color": "#2a3f5f"
           }
          },
          "ternary": {
           "aaxis": {
            "gridcolor": "white",
            "linecolor": "white",
            "ticks": ""
           },
           "baxis": {
            "gridcolor": "white",
            "linecolor": "white",
            "ticks": ""
           },
           "bgcolor": "#E5ECF6",
           "caxis": {
            "gridcolor": "white",
            "linecolor": "white",
            "ticks": ""
           }
          },
          "title": {
           "x": 0.05
          },
          "xaxis": {
           "automargin": true,
           "gridcolor": "white",
           "linecolor": "white",
           "ticks": "",
           "title": {
            "standoff": 15
           },
           "zerolinecolor": "white",
           "zerolinewidth": 2
          },
          "yaxis": {
           "automargin": true,
           "gridcolor": "white",
           "linecolor": "white",
           "ticks": "",
           "title": {
            "standoff": 15
           },
           "zerolinecolor": "white",
           "zerolinewidth": 2
          }
         }
        },
        "title": {
         "text": "Large Text Compression Benchmark decompression throughput"
        },
        "width": 800,
        "xaxis": {
         "anchor": "y",
         "domain": [
          0,
          1
         ],
         "title": {
          "text": "Compression ratio"
         }
        },
        "yaxis": {
         "anchor": "x",
         "domain": [
          0,
          1
         ],
         "title": {
          "text": "Decompression throughput (MB/s)"
         }
        }
       }
      }
     },
     "metadata": {},
     "output_type": "display_data"
    }
   ],
   "source": [
    "custom_decomp_all_df = custom_df.sort_values(['alg'], ascending=True)\n",
    "\n",
    "# Count occurrences of each category\n",
    "category_counts = custom_df['alg'].value_counts()\n",
    "custom_decomp_all_df['alg_count'] = custom_decomp_all_df['alg'].map(category_counts)\n",
    "\n",
    "custom_decomp_all_df = custom_decomp_all_df.sort_values(['alg_count'], ascending=False)\n",
    "\n",
    "mask = paretoset(custom_decomp_all_df[['ratio_enwik8', 'decomp_throughput']], sense=[\"max\", \"max\"])\n",
    "pareto_points = custom_decomp_all_df[mask]\n",
    "pareto_points.sort_values(['decomp_throughput'], inplace=True)\n",
    "\n",
    "custom_decomp_all_df['pareto'] = mask*4 +1\n",
    "\n",
    "\n",
    "fig_custom_decompression_all = px.scatter(\n",
    "    custom_decomp_all_df,\n",
    "    title=f\"Large Text Compression Benchmark decompression throughput\", \n",
    "    x=\"ratio_enwik8\",\n",
    "    y=\"decomp_throughput\",\n",
    "    hover_data=['program'],\n",
    "    # log_y=True,\n",
    "    # labels=\"program\",\n",
    "    color=\"program\",\n",
    "    size='pareto',\n",
    "    color_discrete_sequence=px.colors.qualitative.Dark24,\n",
    "    width=800,\n",
    "    height=650,\n",
    ")\n",
    "\n",
    "fig_custom_decompression_all.add_scatter(\n",
    "    x=pareto_points['ratio_enwik8'], \n",
    "    y=pareto_points['decomp_throughput'], \n",
    "    mode='lines',\n",
    "    line=dict(color=\"#000000\"),\n",
    "    name=\"Pareto front\"\n",
    ")\n",
    "\n",
    "\n",
    "\n",
    "\n",
    "fig_custom_decompression_all.update_layout(\n",
    "    yaxis_title=\"Decompression throughput (MB/s)\",\n",
    "    xaxis_title=\"Compression ratio\",\n",
    ")\n",
    "\n",
    "fig_custom_decompression_all.show()"
   ]
  }
 ],
 "metadata": {
  "kernelspec": {
   "display_name": "Python 3",
   "language": "python",
   "name": "python3"
  },
  "language_info": {
   "codemirror_mode": {
    "name": "ipython",
    "version": 3
   },
   "file_extension": ".py",
   "mimetype": "text/x-python",
   "name": "python",
   "nbconvert_exporter": "python",
   "pygments_lexer": "ipython3",
   "version": "3.10.13"
  }
 },
 "nbformat": 4,
 "nbformat_minor": 5
}
