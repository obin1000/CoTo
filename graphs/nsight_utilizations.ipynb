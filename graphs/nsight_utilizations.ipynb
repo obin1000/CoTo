{
 "cells": [
  {
   "cell_type": "code",
   "execution_count": 20,
   "metadata": {},
   "outputs": [],
   "source": [
    "import pandas as pd\n",
    "import plotly.express as px\n",
    "import plotly.graph_objects as go\n",
    "import plotly.io as pio\n",
    "from plotly.subplots import make_subplots\n",
    "import numpy as np\n",
    "import pyarrow as pa\n",
    "import nsys_constants\n",
    "import nsys_reader\n",
    "\n",
    "input_dir = '../data/compare/rtx2080ti/'\n",
    "\n",
    "compressors = ['snappy', 'zstd', 'gdeflate', 'lz4', 'cascaded', 'bitcomp']\n",
    "compression_files = ['500mb_dickens', '500mb_mozilla', '500mb_mr', '500mb_nci', '500mb_samba', '500mb_sao', '500mb_silesia.zip', '500mb_xml', '500mb_lineitem.parquet']\n",
    "approx_number_of_threads = [8, 32, 128, 512, 2048, 8192, 32768, 131072, 524288, 2097152, 8388608]\n",
    "FILE_SIZE=524288000\n"
   ]
  },
  {
   "cell_type": "code",
   "execution_count": 21,
   "metadata": {},
   "outputs": [
    {
     "name": "stdout",
     "output_type": "stream",
     "text": [
      "../data/compare/rtx2080ti/output_snappy_500mb_dickens_8threads.h5\n",
      "../data/compare/rtx2080ti/output_snappy_500mb_dickens_32threads.h5\n",
      "../data/compare/rtx2080ti/output_snappy_500mb_dickens_128threads.h5\n",
      "../data/compare/rtx2080ti/output_snappy_500mb_dickens_512threads.h5\n",
      "../data/compare/rtx2080ti/output_snappy_500mb_dickens_2048threads.h5\n",
      "../data/compare/rtx2080ti/output_snappy_500mb_dickens_8192threads.h5\n",
      "../data/compare/rtx2080ti/output_snappy_500mb_dickens_32768threads.h5\n",
      "../data/compare/rtx2080ti/output_snappy_500mb_dickens_131072threads.h5\n",
      "../data/compare/rtx2080ti/output_snappy_500mb_dickens_524288threads.h5\n",
      "Failed getting utilization of snappy 500mb_dickens 524288 threads: [Errno 2] Unable to synchronously open file (unable to open file: name = '../data/compare/rtx2080ti/output_snappy_500mb_dickens_524288threads.h5', errno = 2, error message = 'No such file or directory', flags = 0, o_flags = 0)\n",
      "../data/compare/rtx2080ti/output_snappy_500mb_dickens_2097152threads.h5\n",
      "Failed getting utilization of snappy 500mb_dickens 2097152 threads: [Errno 2] Unable to synchronously open file (unable to open file: name = '../data/compare/rtx2080ti/output_snappy_500mb_dickens_2097152threads.h5', errno = 2, error message = 'No such file or directory', flags = 0, o_flags = 0)\n",
      "../data/compare/rtx2080ti/output_snappy_500mb_dickens_8388608threads.h5\n",
      "Failed getting utilization of snappy 500mb_dickens 8388608 threads: [Errno 2] Unable to synchronously open file (unable to open file: name = '../data/compare/rtx2080ti/output_snappy_500mb_dickens_8388608threads.h5', errno = 2, error message = 'No such file or directory', flags = 0, o_flags = 0)\n",
      "../data/compare/rtx2080ti/output_zstd_500mb_dickens_8threads.h5\n",
      "../data/compare/rtx2080ti/output_zstd_500mb_dickens_32threads.h5\n",
      "../data/compare/rtx2080ti/output_zstd_500mb_dickens_128threads.h5\n",
      "../data/compare/rtx2080ti/output_zstd_500mb_dickens_512threads.h5\n",
      "../data/compare/rtx2080ti/output_zstd_500mb_dickens_2048threads.h5\n",
      "../data/compare/rtx2080ti/output_zstd_500mb_dickens_8192threads.h5\n",
      "../data/compare/rtx2080ti/output_zstd_500mb_dickens_32768threads.h5\n",
      "../data/compare/rtx2080ti/output_zstd_500mb_dickens_131072threads.h5\n",
      "../data/compare/rtx2080ti/output_zstd_500mb_dickens_524288threads.h5\n",
      "Failed getting utilization of zstd 500mb_dickens 524288 threads: [Errno 2] Unable to synchronously open file (unable to open file: name = '../data/compare/rtx2080ti/output_zstd_500mb_dickens_524288threads.h5', errno = 2, error message = 'No such file or directory', flags = 0, o_flags = 0)\n",
      "../data/compare/rtx2080ti/output_zstd_500mb_dickens_2097152threads.h5\n",
      "Failed getting utilization of zstd 500mb_dickens 2097152 threads: [Errno 2] Unable to synchronously open file (unable to open file: name = '../data/compare/rtx2080ti/output_zstd_500mb_dickens_2097152threads.h5', errno = 2, error message = 'No such file or directory', flags = 0, o_flags = 0)\n",
      "../data/compare/rtx2080ti/output_zstd_500mb_dickens_8388608threads.h5\n",
      "Failed getting utilization of zstd 500mb_dickens 8388608 threads: [Errno 2] Unable to synchronously open file (unable to open file: name = '../data/compare/rtx2080ti/output_zstd_500mb_dickens_8388608threads.h5', errno = 2, error message = 'No such file or directory', flags = 0, o_flags = 0)\n",
      "../data/compare/rtx2080ti/output_gdeflate_500mb_dickens_8threads.h5\n",
      "Failed getting utilization of gdeflate 500mb_dickens 8 threads: Index(...) must be called with a collection of some kind, 'category' was passed\n",
      "../data/compare/rtx2080ti/output_gdeflate_500mb_dickens_32threads.h5\n",
      "Failed getting utilization of gdeflate 500mb_dickens 32 threads: Index(...) must be called with a collection of some kind, 'category' was passed\n",
      "../data/compare/rtx2080ti/output_gdeflate_500mb_dickens_128threads.h5\n",
      "Failed getting utilization of gdeflate 500mb_dickens 128 threads: Index(...) must be called with a collection of some kind, 'category' was passed\n",
      "../data/compare/rtx2080ti/output_gdeflate_500mb_dickens_512threads.h5\n",
      "Failed getting utilization of gdeflate 500mb_dickens 512 threads: Index(...) must be called with a collection of some kind, 'category' was passed\n",
      "../data/compare/rtx2080ti/output_gdeflate_500mb_dickens_2048threads.h5\n",
      "Failed getting utilization of gdeflate 500mb_dickens 2048 threads: Index(...) must be called with a collection of some kind, 'category' was passed\n",
      "../data/compare/rtx2080ti/output_gdeflate_500mb_dickens_8192threads.h5\n",
      "../data/compare/rtx2080ti/output_gdeflate_500mb_dickens_32768threads.h5\n",
      "../data/compare/rtx2080ti/output_gdeflate_500mb_dickens_131072threads.h5\n",
      "../data/compare/rtx2080ti/output_gdeflate_500mb_dickens_524288threads.h5\n",
      "Failed getting utilization of gdeflate 500mb_dickens 524288 threads: [Errno 2] Unable to synchronously open file (unable to open file: name = '../data/compare/rtx2080ti/output_gdeflate_500mb_dickens_524288threads.h5', errno = 2, error message = 'No such file or directory', flags = 0, o_flags = 0)\n",
      "../data/compare/rtx2080ti/output_gdeflate_500mb_dickens_2097152threads.h5\n",
      "Failed getting utilization of gdeflate 500mb_dickens 2097152 threads: [Errno 2] Unable to synchronously open file (unable to open file: name = '../data/compare/rtx2080ti/output_gdeflate_500mb_dickens_2097152threads.h5', errno = 2, error message = 'No such file or directory', flags = 0, o_flags = 0)\n",
      "../data/compare/rtx2080ti/output_gdeflate_500mb_dickens_8388608threads.h5\n",
      "Failed getting utilization of gdeflate 500mb_dickens 8388608 threads: [Errno 2] Unable to synchronously open file (unable to open file: name = '../data/compare/rtx2080ti/output_gdeflate_500mb_dickens_8388608threads.h5', errno = 2, error message = 'No such file or directory', flags = 0, o_flags = 0)\n",
      "../data/compare/rtx2080ti/output_lz4_500mb_dickens_8threads.h5\n",
      "../data/compare/rtx2080ti/output_lz4_500mb_dickens_32threads.h5\n",
      "../data/compare/rtx2080ti/output_lz4_500mb_dickens_128threads.h5\n",
      "../data/compare/rtx2080ti/output_lz4_500mb_dickens_512threads.h5\n",
      "../data/compare/rtx2080ti/output_lz4_500mb_dickens_2048threads.h5\n",
      "../data/compare/rtx2080ti/output_lz4_500mb_dickens_8192threads.h5\n",
      "../data/compare/rtx2080ti/output_lz4_500mb_dickens_32768threads.h5\n",
      "../data/compare/rtx2080ti/output_lz4_500mb_dickens_131072threads.h5\n",
      "../data/compare/rtx2080ti/output_lz4_500mb_dickens_524288threads.h5\n",
      "Failed getting utilization of lz4 500mb_dickens 524288 threads: [Errno 2] Unable to synchronously open file (unable to open file: name = '../data/compare/rtx2080ti/output_lz4_500mb_dickens_524288threads.h5', errno = 2, error message = 'No such file or directory', flags = 0, o_flags = 0)\n",
      "../data/compare/rtx2080ti/output_lz4_500mb_dickens_2097152threads.h5\n",
      "Failed getting utilization of lz4 500mb_dickens 2097152 threads: [Errno 2] Unable to synchronously open file (unable to open file: name = '../data/compare/rtx2080ti/output_lz4_500mb_dickens_2097152threads.h5', errno = 2, error message = 'No such file or directory', flags = 0, o_flags = 0)\n",
      "../data/compare/rtx2080ti/output_lz4_500mb_dickens_8388608threads.h5\n",
      "Failed getting utilization of lz4 500mb_dickens 8388608 threads: [Errno 2] Unable to synchronously open file (unable to open file: name = '../data/compare/rtx2080ti/output_lz4_500mb_dickens_8388608threads.h5', errno = 2, error message = 'No such file or directory', flags = 0, o_flags = 0)\n",
      "../data/compare/rtx2080ti/output_cascaded_500mb_dickens_8threads.h5\n",
      "Failed getting utilization of cascaded 500mb_dickens 8 threads: Index(...) must be called with a collection of some kind, 'category' was passed\n",
      "../data/compare/rtx2080ti/output_cascaded_500mb_dickens_32threads.h5\n",
      "Failed getting utilization of cascaded 500mb_dickens 32 threads: Index(...) must be called with a collection of some kind, 'category' was passed\n",
      "../data/compare/rtx2080ti/output_cascaded_500mb_dickens_128threads.h5\n",
      "Failed getting utilization of cascaded 500mb_dickens 128 threads: Index(...) must be called with a collection of some kind, 'category' was passed\n",
      "../data/compare/rtx2080ti/output_cascaded_500mb_dickens_512threads.h5\n",
      "Failed getting utilization of cascaded 500mb_dickens 512 threads: Index(...) must be called with a collection of some kind, 'category' was passed\n",
      "../data/compare/rtx2080ti/output_cascaded_500mb_dickens_2048threads.h5\n",
      "Failed getting utilization of cascaded 500mb_dickens 2048 threads: Index(...) must be called with a collection of some kind, 'category' was passed\n",
      "../data/compare/rtx2080ti/output_cascaded_500mb_dickens_8192threads.h5\n",
      "Failed getting utilization of cascaded 500mb_dickens 8192 threads: Index(...) must be called with a collection of some kind, 'category' was passed\n",
      "../data/compare/rtx2080ti/output_cascaded_500mb_dickens_32768threads.h5\n",
      "Failed getting utilization of cascaded 500mb_dickens 32768 threads: Index(...) must be called with a collection of some kind, 'category' was passed\n",
      "../data/compare/rtx2080ti/output_cascaded_500mb_dickens_131072threads.h5\n",
      "Failed getting utilization of cascaded 500mb_dickens 131072 threads: Index(...) must be called with a collection of some kind, 'category' was passed\n",
      "../data/compare/rtx2080ti/output_cascaded_500mb_dickens_524288threads.h5\n",
      "Failed getting utilization of cascaded 500mb_dickens 524288 threads: [Errno 2] Unable to synchronously open file (unable to open file: name = '../data/compare/rtx2080ti/output_cascaded_500mb_dickens_524288threads.h5', errno = 2, error message = 'No such file or directory', flags = 0, o_flags = 0)\n",
      "../data/compare/rtx2080ti/output_cascaded_500mb_dickens_2097152threads.h5\n",
      "Failed getting utilization of cascaded 500mb_dickens 2097152 threads: [Errno 2] Unable to synchronously open file (unable to open file: name = '../data/compare/rtx2080ti/output_cascaded_500mb_dickens_2097152threads.h5', errno = 2, error message = 'No such file or directory', flags = 0, o_flags = 0)\n",
      "../data/compare/rtx2080ti/output_cascaded_500mb_dickens_8388608threads.h5\n",
      "Failed getting utilization of cascaded 500mb_dickens 8388608 threads: [Errno 2] Unable to synchronously open file (unable to open file: name = '../data/compare/rtx2080ti/output_cascaded_500mb_dickens_8388608threads.h5', errno = 2, error message = 'No such file or directory', flags = 0, o_flags = 0)\n",
      "../data/compare/rtx2080ti/output_bitcomp_500mb_dickens_8threads.h5\n",
      "../data/compare/rtx2080ti/output_bitcomp_500mb_dickens_32threads.h5\n",
      "../data/compare/rtx2080ti/output_bitcomp_500mb_dickens_128threads.h5\n",
      "../data/compare/rtx2080ti/output_bitcomp_500mb_dickens_512threads.h5\n",
      "../data/compare/rtx2080ti/output_bitcomp_500mb_dickens_2048threads.h5\n",
      "../data/compare/rtx2080ti/output_bitcomp_500mb_dickens_8192threads.h5\n",
      "../data/compare/rtx2080ti/output_bitcomp_500mb_dickens_32768threads.h5\n",
      "../data/compare/rtx2080ti/output_bitcomp_500mb_dickens_131072threads.h5\n",
      "../data/compare/rtx2080ti/output_bitcomp_500mb_dickens_524288threads.h5\n",
      "Failed getting utilization of bitcomp 500mb_dickens 524288 threads: [Errno 2] Unable to synchronously open file (unable to open file: name = '../data/compare/rtx2080ti/output_bitcomp_500mb_dickens_524288threads.h5', errno = 2, error message = 'No such file or directory', flags = 0, o_flags = 0)\n",
      "../data/compare/rtx2080ti/output_bitcomp_500mb_dickens_2097152threads.h5\n",
      "Failed getting utilization of bitcomp 500mb_dickens 2097152 threads: [Errno 2] Unable to synchronously open file (unable to open file: name = '../data/compare/rtx2080ti/output_bitcomp_500mb_dickens_2097152threads.h5', errno = 2, error message = 'No such file or directory', flags = 0, o_flags = 0)\n",
      "../data/compare/rtx2080ti/output_bitcomp_500mb_dickens_8388608threads.h5\n",
      "Failed getting utilization of bitcomp 500mb_dickens 8388608 threads: [Errno 2] Unable to synchronously open file (unable to open file: name = '../data/compare/rtx2080ti/output_bitcomp_500mb_dickens_8388608threads.h5', errno = 2, error message = 'No such file or directory', flags = 0, o_flags = 0)\n",
      "../data/compare/rtx2080ti/output_snappy_500mb_mozilla_8threads.h5\n",
      "../data/compare/rtx2080ti/output_snappy_500mb_mozilla_32threads.h5\n",
      "../data/compare/rtx2080ti/output_snappy_500mb_mozilla_128threads.h5\n",
      "../data/compare/rtx2080ti/output_snappy_500mb_mozilla_512threads.h5\n",
      "../data/compare/rtx2080ti/output_snappy_500mb_mozilla_2048threads.h5\n",
      "../data/compare/rtx2080ti/output_snappy_500mb_mozilla_8192threads.h5\n",
      "../data/compare/rtx2080ti/output_snappy_500mb_mozilla_32768threads.h5\n",
      "../data/compare/rtx2080ti/output_snappy_500mb_mozilla_131072threads.h5\n",
      "../data/compare/rtx2080ti/output_snappy_500mb_mozilla_524288threads.h5\n",
      "Failed getting utilization of snappy 500mb_mozilla 524288 threads: [Errno 2] Unable to synchronously open file (unable to open file: name = '../data/compare/rtx2080ti/output_snappy_500mb_mozilla_524288threads.h5', errno = 2, error message = 'No such file or directory', flags = 0, o_flags = 0)\n",
      "../data/compare/rtx2080ti/output_snappy_500mb_mozilla_2097152threads.h5\n",
      "Failed getting utilization of snappy 500mb_mozilla 2097152 threads: [Errno 2] Unable to synchronously open file (unable to open file: name = '../data/compare/rtx2080ti/output_snappy_500mb_mozilla_2097152threads.h5', errno = 2, error message = 'No such file or directory', flags = 0, o_flags = 0)\n",
      "../data/compare/rtx2080ti/output_snappy_500mb_mozilla_8388608threads.h5\n",
      "Failed getting utilization of snappy 500mb_mozilla 8388608 threads: [Errno 2] Unable to synchronously open file (unable to open file: name = '../data/compare/rtx2080ti/output_snappy_500mb_mozilla_8388608threads.h5', errno = 2, error message = 'No such file or directory', flags = 0, o_flags = 0)\n",
      "../data/compare/rtx2080ti/output_zstd_500mb_mozilla_8threads.h5\n",
      "Failed getting utilization of zstd 500mb_mozilla 8 threads: Index(...) must be called with a collection of some kind, 'category' was passed\n",
      "../data/compare/rtx2080ti/output_zstd_500mb_mozilla_32threads.h5\n",
      "../data/compare/rtx2080ti/output_zstd_500mb_mozilla_128threads.h5\n",
      "../data/compare/rtx2080ti/output_zstd_500mb_mozilla_512threads.h5\n",
      "../data/compare/rtx2080ti/output_zstd_500mb_mozilla_2048threads.h5\n",
      "../data/compare/rtx2080ti/output_zstd_500mb_mozilla_8192threads.h5\n",
      "../data/compare/rtx2080ti/output_zstd_500mb_mozilla_32768threads.h5\n",
      "../data/compare/rtx2080ti/output_zstd_500mb_mozilla_131072threads.h5\n",
      "../data/compare/rtx2080ti/output_zstd_500mb_mozilla_524288threads.h5\n",
      "Failed getting utilization of zstd 500mb_mozilla 524288 threads: [Errno 2] Unable to synchronously open file (unable to open file: name = '../data/compare/rtx2080ti/output_zstd_500mb_mozilla_524288threads.h5', errno = 2, error message = 'No such file or directory', flags = 0, o_flags = 0)\n",
      "../data/compare/rtx2080ti/output_zstd_500mb_mozilla_2097152threads.h5\n",
      "Failed getting utilization of zstd 500mb_mozilla 2097152 threads: [Errno 2] Unable to synchronously open file (unable to open file: name = '../data/compare/rtx2080ti/output_zstd_500mb_mozilla_2097152threads.h5', errno = 2, error message = 'No such file or directory', flags = 0, o_flags = 0)\n",
      "../data/compare/rtx2080ti/output_zstd_500mb_mozilla_8388608threads.h5\n",
      "Failed getting utilization of zstd 500mb_mozilla 8388608 threads: [Errno 2] Unable to synchronously open file (unable to open file: name = '../data/compare/rtx2080ti/output_zstd_500mb_mozilla_8388608threads.h5', errno = 2, error message = 'No such file or directory', flags = 0, o_flags = 0)\n",
      "../data/compare/rtx2080ti/output_gdeflate_500mb_mozilla_8threads.h5\n",
      "Failed getting utilization of gdeflate 500mb_mozilla 8 threads: Index(...) must be called with a collection of some kind, 'category' was passed\n",
      "../data/compare/rtx2080ti/output_gdeflate_500mb_mozilla_32threads.h5\n",
      "Failed getting utilization of gdeflate 500mb_mozilla 32 threads: Index(...) must be called with a collection of some kind, 'category' was passed\n",
      "../data/compare/rtx2080ti/output_gdeflate_500mb_mozilla_128threads.h5\n",
      "Failed getting utilization of gdeflate 500mb_mozilla 128 threads: Index(...) must be called with a collection of some kind, 'category' was passed\n",
      "../data/compare/rtx2080ti/output_gdeflate_500mb_mozilla_512threads.h5\n",
      "Failed getting utilization of gdeflate 500mb_mozilla 512 threads: Index(...) must be called with a collection of some kind, 'category' was passed\n",
      "../data/compare/rtx2080ti/output_gdeflate_500mb_mozilla_2048threads.h5\n",
      "Failed getting utilization of gdeflate 500mb_mozilla 2048 threads: Index(...) must be called with a collection of some kind, 'category' was passed\n",
      "../data/compare/rtx2080ti/output_gdeflate_500mb_mozilla_8192threads.h5\n",
      "../data/compare/rtx2080ti/output_gdeflate_500mb_mozilla_32768threads.h5\n",
      "../data/compare/rtx2080ti/output_gdeflate_500mb_mozilla_131072threads.h5\n",
      "../data/compare/rtx2080ti/output_gdeflate_500mb_mozilla_524288threads.h5\n",
      "Failed getting utilization of gdeflate 500mb_mozilla 524288 threads: [Errno 2] Unable to synchronously open file (unable to open file: name = '../data/compare/rtx2080ti/output_gdeflate_500mb_mozilla_524288threads.h5', errno = 2, error message = 'No such file or directory', flags = 0, o_flags = 0)\n",
      "../data/compare/rtx2080ti/output_gdeflate_500mb_mozilla_2097152threads.h5\n",
      "Failed getting utilization of gdeflate 500mb_mozilla 2097152 threads: [Errno 2] Unable to synchronously open file (unable to open file: name = '../data/compare/rtx2080ti/output_gdeflate_500mb_mozilla_2097152threads.h5', errno = 2, error message = 'No such file or directory', flags = 0, o_flags = 0)\n",
      "../data/compare/rtx2080ti/output_gdeflate_500mb_mozilla_8388608threads.h5\n",
      "Failed getting utilization of gdeflate 500mb_mozilla 8388608 threads: [Errno 2] Unable to synchronously open file (unable to open file: name = '../data/compare/rtx2080ti/output_gdeflate_500mb_mozilla_8388608threads.h5', errno = 2, error message = 'No such file or directory', flags = 0, o_flags = 0)\n",
      "../data/compare/rtx2080ti/output_lz4_500mb_mozilla_8threads.h5\n",
      "Failed getting utilization of lz4 500mb_mozilla 8 threads: Index(...) must be called with a collection of some kind, 'category' was passed\n",
      "../data/compare/rtx2080ti/output_lz4_500mb_mozilla_32threads.h5\n",
      "../data/compare/rtx2080ti/output_lz4_500mb_mozilla_128threads.h5\n",
      "../data/compare/rtx2080ti/output_lz4_500mb_mozilla_512threads.h5\n",
      "../data/compare/rtx2080ti/output_lz4_500mb_mozilla_2048threads.h5\n",
      "../data/compare/rtx2080ti/output_lz4_500mb_mozilla_8192threads.h5\n",
      "../data/compare/rtx2080ti/output_lz4_500mb_mozilla_32768threads.h5\n",
      "../data/compare/rtx2080ti/output_lz4_500mb_mozilla_131072threads.h5\n",
      "../data/compare/rtx2080ti/output_lz4_500mb_mozilla_524288threads.h5\n",
      "Failed getting utilization of lz4 500mb_mozilla 524288 threads: [Errno 2] Unable to synchronously open file (unable to open file: name = '../data/compare/rtx2080ti/output_lz4_500mb_mozilla_524288threads.h5', errno = 2, error message = 'No such file or directory', flags = 0, o_flags = 0)\n",
      "../data/compare/rtx2080ti/output_lz4_500mb_mozilla_2097152threads.h5\n",
      "Failed getting utilization of lz4 500mb_mozilla 2097152 threads: [Errno 2] Unable to synchronously open file (unable to open file: name = '../data/compare/rtx2080ti/output_lz4_500mb_mozilla_2097152threads.h5', errno = 2, error message = 'No such file or directory', flags = 0, o_flags = 0)\n",
      "../data/compare/rtx2080ti/output_lz4_500mb_mozilla_8388608threads.h5\n",
      "Failed getting utilization of lz4 500mb_mozilla 8388608 threads: [Errno 2] Unable to synchronously open file (unable to open file: name = '../data/compare/rtx2080ti/output_lz4_500mb_mozilla_8388608threads.h5', errno = 2, error message = 'No such file or directory', flags = 0, o_flags = 0)\n",
      "../data/compare/rtx2080ti/output_cascaded_500mb_mozilla_8threads.h5\n",
      "../data/compare/rtx2080ti/output_cascaded_500mb_mozilla_32threads.h5\n",
      "../data/compare/rtx2080ti/output_cascaded_500mb_mozilla_128threads.h5\n",
      "../data/compare/rtx2080ti/output_cascaded_500mb_mozilla_512threads.h5\n",
      "../data/compare/rtx2080ti/output_cascaded_500mb_mozilla_2048threads.h5\n",
      "../data/compare/rtx2080ti/output_cascaded_500mb_mozilla_8192threads.h5\n",
      "../data/compare/rtx2080ti/output_cascaded_500mb_mozilla_32768threads.h5\n",
      "../data/compare/rtx2080ti/output_cascaded_500mb_mozilla_131072threads.h5\n",
      "../data/compare/rtx2080ti/output_cascaded_500mb_mozilla_524288threads.h5\n",
      "Failed getting utilization of cascaded 500mb_mozilla 524288 threads: [Errno 2] Unable to synchronously open file (unable to open file: name = '../data/compare/rtx2080ti/output_cascaded_500mb_mozilla_524288threads.h5', errno = 2, error message = 'No such file or directory', flags = 0, o_flags = 0)\n",
      "../data/compare/rtx2080ti/output_cascaded_500mb_mozilla_2097152threads.h5\n",
      "Failed getting utilization of cascaded 500mb_mozilla 2097152 threads: [Errno 2] Unable to synchronously open file (unable to open file: name = '../data/compare/rtx2080ti/output_cascaded_500mb_mozilla_2097152threads.h5', errno = 2, error message = 'No such file or directory', flags = 0, o_flags = 0)\n",
      "../data/compare/rtx2080ti/output_cascaded_500mb_mozilla_8388608threads.h5\n",
      "Failed getting utilization of cascaded 500mb_mozilla 8388608 threads: [Errno 2] Unable to synchronously open file (unable to open file: name = '../data/compare/rtx2080ti/output_cascaded_500mb_mozilla_8388608threads.h5', errno = 2, error message = 'No such file or directory', flags = 0, o_flags = 0)\n",
      "../data/compare/rtx2080ti/output_bitcomp_500mb_mozilla_8threads.h5\n",
      "../data/compare/rtx2080ti/output_bitcomp_500mb_mozilla_32threads.h5\n",
      "../data/compare/rtx2080ti/output_bitcomp_500mb_mozilla_128threads.h5\n",
      "../data/compare/rtx2080ti/output_bitcomp_500mb_mozilla_512threads.h5\n",
      "../data/compare/rtx2080ti/output_bitcomp_500mb_mozilla_2048threads.h5\n",
      "../data/compare/rtx2080ti/output_bitcomp_500mb_mozilla_8192threads.h5\n",
      "../data/compare/rtx2080ti/output_bitcomp_500mb_mozilla_32768threads.h5\n",
      "../data/compare/rtx2080ti/output_bitcomp_500mb_mozilla_131072threads.h5\n",
      "../data/compare/rtx2080ti/output_bitcomp_500mb_mozilla_524288threads.h5\n",
      "Failed getting utilization of bitcomp 500mb_mozilla 524288 threads: [Errno 2] Unable to synchronously open file (unable to open file: name = '../data/compare/rtx2080ti/output_bitcomp_500mb_mozilla_524288threads.h5', errno = 2, error message = 'No such file or directory', flags = 0, o_flags = 0)\n",
      "../data/compare/rtx2080ti/output_bitcomp_500mb_mozilla_2097152threads.h5\n",
      "Failed getting utilization of bitcomp 500mb_mozilla 2097152 threads: [Errno 2] Unable to synchronously open file (unable to open file: name = '../data/compare/rtx2080ti/output_bitcomp_500mb_mozilla_2097152threads.h5', errno = 2, error message = 'No such file or directory', flags = 0, o_flags = 0)\n",
      "../data/compare/rtx2080ti/output_bitcomp_500mb_mozilla_8388608threads.h5\n",
      "Failed getting utilization of bitcomp 500mb_mozilla 8388608 threads: [Errno 2] Unable to synchronously open file (unable to open file: name = '../data/compare/rtx2080ti/output_bitcomp_500mb_mozilla_8388608threads.h5', errno = 2, error message = 'No such file or directory', flags = 0, o_flags = 0)\n",
      "../data/compare/rtx2080ti/output_snappy_500mb_mr_8threads.h5\n",
      "../data/compare/rtx2080ti/output_snappy_500mb_mr_32threads.h5\n",
      "../data/compare/rtx2080ti/output_snappy_500mb_mr_128threads.h5\n",
      "../data/compare/rtx2080ti/output_snappy_500mb_mr_512threads.h5\n",
      "../data/compare/rtx2080ti/output_snappy_500mb_mr_2048threads.h5\n",
      "../data/compare/rtx2080ti/output_snappy_500mb_mr_8192threads.h5\n",
      "../data/compare/rtx2080ti/output_snappy_500mb_mr_32768threads.h5\n",
      "../data/compare/rtx2080ti/output_snappy_500mb_mr_131072threads.h5\n",
      "../data/compare/rtx2080ti/output_snappy_500mb_mr_524288threads.h5\n",
      "Failed getting utilization of snappy 500mb_mr 524288 threads: [Errno 2] Unable to synchronously open file (unable to open file: name = '../data/compare/rtx2080ti/output_snappy_500mb_mr_524288threads.h5', errno = 2, error message = 'No such file or directory', flags = 0, o_flags = 0)\n",
      "../data/compare/rtx2080ti/output_snappy_500mb_mr_2097152threads.h5\n",
      "Failed getting utilization of snappy 500mb_mr 2097152 threads: [Errno 2] Unable to synchronously open file (unable to open file: name = '../data/compare/rtx2080ti/output_snappy_500mb_mr_2097152threads.h5', errno = 2, error message = 'No such file or directory', flags = 0, o_flags = 0)\n",
      "../data/compare/rtx2080ti/output_snappy_500mb_mr_8388608threads.h5\n",
      "Failed getting utilization of snappy 500mb_mr 8388608 threads: [Errno 2] Unable to synchronously open file (unable to open file: name = '../data/compare/rtx2080ti/output_snappy_500mb_mr_8388608threads.h5', errno = 2, error message = 'No such file or directory', flags = 0, o_flags = 0)\n",
      "../data/compare/rtx2080ti/output_zstd_500mb_mr_8threads.h5\n",
      "../data/compare/rtx2080ti/output_zstd_500mb_mr_32threads.h5\n",
      "../data/compare/rtx2080ti/output_zstd_500mb_mr_128threads.h5\n",
      "../data/compare/rtx2080ti/output_zstd_500mb_mr_512threads.h5\n",
      "../data/compare/rtx2080ti/output_zstd_500mb_mr_2048threads.h5\n",
      "../data/compare/rtx2080ti/output_zstd_500mb_mr_8192threads.h5\n",
      "../data/compare/rtx2080ti/output_zstd_500mb_mr_32768threads.h5\n",
      "../data/compare/rtx2080ti/output_zstd_500mb_mr_131072threads.h5\n",
      "../data/compare/rtx2080ti/output_zstd_500mb_mr_524288threads.h5\n",
      "Failed getting utilization of zstd 500mb_mr 524288 threads: [Errno 2] Unable to synchronously open file (unable to open file: name = '../data/compare/rtx2080ti/output_zstd_500mb_mr_524288threads.h5', errno = 2, error message = 'No such file or directory', flags = 0, o_flags = 0)\n",
      "../data/compare/rtx2080ti/output_zstd_500mb_mr_2097152threads.h5\n",
      "Failed getting utilization of zstd 500mb_mr 2097152 threads: [Errno 2] Unable to synchronously open file (unable to open file: name = '../data/compare/rtx2080ti/output_zstd_500mb_mr_2097152threads.h5', errno = 2, error message = 'No such file or directory', flags = 0, o_flags = 0)\n",
      "../data/compare/rtx2080ti/output_zstd_500mb_mr_8388608threads.h5\n",
      "Failed getting utilization of zstd 500mb_mr 8388608 threads: [Errno 2] Unable to synchronously open file (unable to open file: name = '../data/compare/rtx2080ti/output_zstd_500mb_mr_8388608threads.h5', errno = 2, error message = 'No such file or directory', flags = 0, o_flags = 0)\n",
      "../data/compare/rtx2080ti/output_gdeflate_500mb_mr_8threads.h5\n",
      "Failed getting utilization of gdeflate 500mb_mr 8 threads: Index(...) must be called with a collection of some kind, 'category' was passed\n",
      "../data/compare/rtx2080ti/output_gdeflate_500mb_mr_32threads.h5\n",
      "Failed getting utilization of gdeflate 500mb_mr 32 threads: Index(...) must be called with a collection of some kind, 'category' was passed\n",
      "../data/compare/rtx2080ti/output_gdeflate_500mb_mr_128threads.h5\n",
      "Failed getting utilization of gdeflate 500mb_mr 128 threads: Index(...) must be called with a collection of some kind, 'category' was passed\n",
      "../data/compare/rtx2080ti/output_gdeflate_500mb_mr_512threads.h5\n",
      "Failed getting utilization of gdeflate 500mb_mr 512 threads: Index(...) must be called with a collection of some kind, 'category' was passed\n",
      "../data/compare/rtx2080ti/output_gdeflate_500mb_mr_2048threads.h5\n",
      "Failed getting utilization of gdeflate 500mb_mr 2048 threads: Index(...) must be called with a collection of some kind, 'category' was passed\n",
      "../data/compare/rtx2080ti/output_gdeflate_500mb_mr_8192threads.h5\n",
      "../data/compare/rtx2080ti/output_gdeflate_500mb_mr_32768threads.h5\n",
      "../data/compare/rtx2080ti/output_gdeflate_500mb_mr_131072threads.h5\n",
      "../data/compare/rtx2080ti/output_gdeflate_500mb_mr_524288threads.h5\n",
      "Failed getting utilization of gdeflate 500mb_mr 524288 threads: [Errno 2] Unable to synchronously open file (unable to open file: name = '../data/compare/rtx2080ti/output_gdeflate_500mb_mr_524288threads.h5', errno = 2, error message = 'No such file or directory', flags = 0, o_flags = 0)\n",
      "../data/compare/rtx2080ti/output_gdeflate_500mb_mr_2097152threads.h5\n",
      "Failed getting utilization of gdeflate 500mb_mr 2097152 threads: [Errno 2] Unable to synchronously open file (unable to open file: name = '../data/compare/rtx2080ti/output_gdeflate_500mb_mr_2097152threads.h5', errno = 2, error message = 'No such file or directory', flags = 0, o_flags = 0)\n",
      "../data/compare/rtx2080ti/output_gdeflate_500mb_mr_8388608threads.h5\n",
      "Failed getting utilization of gdeflate 500mb_mr 8388608 threads: [Errno 2] Unable to synchronously open file (unable to open file: name = '../data/compare/rtx2080ti/output_gdeflate_500mb_mr_8388608threads.h5', errno = 2, error message = 'No such file or directory', flags = 0, o_flags = 0)\n",
      "../data/compare/rtx2080ti/output_lz4_500mb_mr_8threads.h5\n",
      "../data/compare/rtx2080ti/output_lz4_500mb_mr_32threads.h5\n",
      "../data/compare/rtx2080ti/output_lz4_500mb_mr_128threads.h5\n",
      "../data/compare/rtx2080ti/output_lz4_500mb_mr_512threads.h5\n",
      "../data/compare/rtx2080ti/output_lz4_500mb_mr_2048threads.h5\n",
      "../data/compare/rtx2080ti/output_lz4_500mb_mr_8192threads.h5\n",
      "../data/compare/rtx2080ti/output_lz4_500mb_mr_32768threads.h5\n",
      "../data/compare/rtx2080ti/output_lz4_500mb_mr_131072threads.h5\n",
      "../data/compare/rtx2080ti/output_lz4_500mb_mr_524288threads.h5\n",
      "Failed getting utilization of lz4 500mb_mr 524288 threads: [Errno 2] Unable to synchronously open file (unable to open file: name = '../data/compare/rtx2080ti/output_lz4_500mb_mr_524288threads.h5', errno = 2, error message = 'No such file or directory', flags = 0, o_flags = 0)\n",
      "../data/compare/rtx2080ti/output_lz4_500mb_mr_2097152threads.h5\n",
      "Failed getting utilization of lz4 500mb_mr 2097152 threads: [Errno 2] Unable to synchronously open file (unable to open file: name = '../data/compare/rtx2080ti/output_lz4_500mb_mr_2097152threads.h5', errno = 2, error message = 'No such file or directory', flags = 0, o_flags = 0)\n",
      "../data/compare/rtx2080ti/output_lz4_500mb_mr_8388608threads.h5\n",
      "Failed getting utilization of lz4 500mb_mr 8388608 threads: [Errno 2] Unable to synchronously open file (unable to open file: name = '../data/compare/rtx2080ti/output_lz4_500mb_mr_8388608threads.h5', errno = 2, error message = 'No such file or directory', flags = 0, o_flags = 0)\n",
      "../data/compare/rtx2080ti/output_cascaded_500mb_mr_8threads.h5\n",
      "../data/compare/rtx2080ti/output_cascaded_500mb_mr_32threads.h5\n",
      "../data/compare/rtx2080ti/output_cascaded_500mb_mr_128threads.h5\n",
      "../data/compare/rtx2080ti/output_cascaded_500mb_mr_512threads.h5\n",
      "../data/compare/rtx2080ti/output_cascaded_500mb_mr_2048threads.h5\n",
      "../data/compare/rtx2080ti/output_cascaded_500mb_mr_8192threads.h5\n",
      "../data/compare/rtx2080ti/output_cascaded_500mb_mr_32768threads.h5\n",
      "../data/compare/rtx2080ti/output_cascaded_500mb_mr_131072threads.h5\n",
      "../data/compare/rtx2080ti/output_cascaded_500mb_mr_524288threads.h5\n",
      "Failed getting utilization of cascaded 500mb_mr 524288 threads: [Errno 2] Unable to synchronously open file (unable to open file: name = '../data/compare/rtx2080ti/output_cascaded_500mb_mr_524288threads.h5', errno = 2, error message = 'No such file or directory', flags = 0, o_flags = 0)\n",
      "../data/compare/rtx2080ti/output_cascaded_500mb_mr_2097152threads.h5\n",
      "Failed getting utilization of cascaded 500mb_mr 2097152 threads: [Errno 2] Unable to synchronously open file (unable to open file: name = '../data/compare/rtx2080ti/output_cascaded_500mb_mr_2097152threads.h5', errno = 2, error message = 'No such file or directory', flags = 0, o_flags = 0)\n",
      "../data/compare/rtx2080ti/output_cascaded_500mb_mr_8388608threads.h5\n",
      "Failed getting utilization of cascaded 500mb_mr 8388608 threads: [Errno 2] Unable to synchronously open file (unable to open file: name = '../data/compare/rtx2080ti/output_cascaded_500mb_mr_8388608threads.h5', errno = 2, error message = 'No such file or directory', flags = 0, o_flags = 0)\n",
      "../data/compare/rtx2080ti/output_bitcomp_500mb_mr_8threads.h5\n",
      "../data/compare/rtx2080ti/output_bitcomp_500mb_mr_32threads.h5\n",
      "../data/compare/rtx2080ti/output_bitcomp_500mb_mr_128threads.h5\n",
      "../data/compare/rtx2080ti/output_bitcomp_500mb_mr_512threads.h5\n",
      "../data/compare/rtx2080ti/output_bitcomp_500mb_mr_2048threads.h5\n",
      "../data/compare/rtx2080ti/output_bitcomp_500mb_mr_8192threads.h5\n",
      "../data/compare/rtx2080ti/output_bitcomp_500mb_mr_32768threads.h5\n",
      "../data/compare/rtx2080ti/output_bitcomp_500mb_mr_131072threads.h5\n",
      "../data/compare/rtx2080ti/output_bitcomp_500mb_mr_524288threads.h5\n",
      "Failed getting utilization of bitcomp 500mb_mr 524288 threads: [Errno 2] Unable to synchronously open file (unable to open file: name = '../data/compare/rtx2080ti/output_bitcomp_500mb_mr_524288threads.h5', errno = 2, error message = 'No such file or directory', flags = 0, o_flags = 0)\n",
      "../data/compare/rtx2080ti/output_bitcomp_500mb_mr_2097152threads.h5\n",
      "Failed getting utilization of bitcomp 500mb_mr 2097152 threads: [Errno 2] Unable to synchronously open file (unable to open file: name = '../data/compare/rtx2080ti/output_bitcomp_500mb_mr_2097152threads.h5', errno = 2, error message = 'No such file or directory', flags = 0, o_flags = 0)\n",
      "../data/compare/rtx2080ti/output_bitcomp_500mb_mr_8388608threads.h5\n",
      "Failed getting utilization of bitcomp 500mb_mr 8388608 threads: [Errno 2] Unable to synchronously open file (unable to open file: name = '../data/compare/rtx2080ti/output_bitcomp_500mb_mr_8388608threads.h5', errno = 2, error message = 'No such file or directory', flags = 0, o_flags = 0)\n",
      "../data/compare/rtx2080ti/output_snappy_500mb_nci_8threads.h5\n",
      "../data/compare/rtx2080ti/output_snappy_500mb_nci_32threads.h5\n",
      "../data/compare/rtx2080ti/output_snappy_500mb_nci_128threads.h5\n",
      "../data/compare/rtx2080ti/output_snappy_500mb_nci_512threads.h5\n",
      "../data/compare/rtx2080ti/output_snappy_500mb_nci_2048threads.h5\n",
      "../data/compare/rtx2080ti/output_snappy_500mb_nci_8192threads.h5\n",
      "../data/compare/rtx2080ti/output_snappy_500mb_nci_32768threads.h5\n",
      "../data/compare/rtx2080ti/output_snappy_500mb_nci_131072threads.h5\n",
      "../data/compare/rtx2080ti/output_snappy_500mb_nci_524288threads.h5\n",
      "Failed getting utilization of snappy 500mb_nci 524288 threads: [Errno 2] Unable to synchronously open file (unable to open file: name = '../data/compare/rtx2080ti/output_snappy_500mb_nci_524288threads.h5', errno = 2, error message = 'No such file or directory', flags = 0, o_flags = 0)\n",
      "../data/compare/rtx2080ti/output_snappy_500mb_nci_2097152threads.h5\n",
      "Failed getting utilization of snappy 500mb_nci 2097152 threads: [Errno 2] Unable to synchronously open file (unable to open file: name = '../data/compare/rtx2080ti/output_snappy_500mb_nci_2097152threads.h5', errno = 2, error message = 'No such file or directory', flags = 0, o_flags = 0)\n",
      "../data/compare/rtx2080ti/output_snappy_500mb_nci_8388608threads.h5\n",
      "Failed getting utilization of snappy 500mb_nci 8388608 threads: [Errno 2] Unable to synchronously open file (unable to open file: name = '../data/compare/rtx2080ti/output_snappy_500mb_nci_8388608threads.h5', errno = 2, error message = 'No such file or directory', flags = 0, o_flags = 0)\n",
      "../data/compare/rtx2080ti/output_zstd_500mb_nci_8threads.h5\n",
      "Failed getting utilization of zstd 500mb_nci 8 threads: Index(...) must be called with a collection of some kind, 'category' was passed\n",
      "../data/compare/rtx2080ti/output_zstd_500mb_nci_32threads.h5\n",
      "../data/compare/rtx2080ti/output_zstd_500mb_nci_128threads.h5\n",
      "../data/compare/rtx2080ti/output_zstd_500mb_nci_512threads.h5\n",
      "../data/compare/rtx2080ti/output_zstd_500mb_nci_2048threads.h5\n",
      "../data/compare/rtx2080ti/output_zstd_500mb_nci_8192threads.h5\n",
      "../data/compare/rtx2080ti/output_zstd_500mb_nci_32768threads.h5\n",
      "../data/compare/rtx2080ti/output_zstd_500mb_nci_131072threads.h5\n",
      "../data/compare/rtx2080ti/output_zstd_500mb_nci_524288threads.h5\n",
      "Failed getting utilization of zstd 500mb_nci 524288 threads: [Errno 2] Unable to synchronously open file (unable to open file: name = '../data/compare/rtx2080ti/output_zstd_500mb_nci_524288threads.h5', errno = 2, error message = 'No such file or directory', flags = 0, o_flags = 0)\n",
      "../data/compare/rtx2080ti/output_zstd_500mb_nci_2097152threads.h5\n",
      "Failed getting utilization of zstd 500mb_nci 2097152 threads: [Errno 2] Unable to synchronously open file (unable to open file: name = '../data/compare/rtx2080ti/output_zstd_500mb_nci_2097152threads.h5', errno = 2, error message = 'No such file or directory', flags = 0, o_flags = 0)\n",
      "../data/compare/rtx2080ti/output_zstd_500mb_nci_8388608threads.h5\n",
      "Failed getting utilization of zstd 500mb_nci 8388608 threads: [Errno 2] Unable to synchronously open file (unable to open file: name = '../data/compare/rtx2080ti/output_zstd_500mb_nci_8388608threads.h5', errno = 2, error message = 'No such file or directory', flags = 0, o_flags = 0)\n",
      "../data/compare/rtx2080ti/output_gdeflate_500mb_nci_8threads.h5\n",
      "Failed getting utilization of gdeflate 500mb_nci 8 threads: Index(...) must be called with a collection of some kind, 'category' was passed\n",
      "../data/compare/rtx2080ti/output_gdeflate_500mb_nci_32threads.h5\n",
      "Failed getting utilization of gdeflate 500mb_nci 32 threads: Index(...) must be called with a collection of some kind, 'category' was passed\n",
      "../data/compare/rtx2080ti/output_gdeflate_500mb_nci_128threads.h5\n",
      "Failed getting utilization of gdeflate 500mb_nci 128 threads: Index(...) must be called with a collection of some kind, 'category' was passed\n",
      "../data/compare/rtx2080ti/output_gdeflate_500mb_nci_512threads.h5\n",
      "Failed getting utilization of gdeflate 500mb_nci 512 threads: Index(...) must be called with a collection of some kind, 'category' was passed\n",
      "../data/compare/rtx2080ti/output_gdeflate_500mb_nci_2048threads.h5\n",
      "Failed getting utilization of gdeflate 500mb_nci 2048 threads: Index(...) must be called with a collection of some kind, 'category' was passed\n",
      "../data/compare/rtx2080ti/output_gdeflate_500mb_nci_8192threads.h5\n",
      "../data/compare/rtx2080ti/output_gdeflate_500mb_nci_32768threads.h5\n",
      "../data/compare/rtx2080ti/output_gdeflate_500mb_nci_131072threads.h5\n",
      "../data/compare/rtx2080ti/output_gdeflate_500mb_nci_524288threads.h5\n",
      "Failed getting utilization of gdeflate 500mb_nci 524288 threads: [Errno 2] Unable to synchronously open file (unable to open file: name = '../data/compare/rtx2080ti/output_gdeflate_500mb_nci_524288threads.h5', errno = 2, error message = 'No such file or directory', flags = 0, o_flags = 0)\n",
      "../data/compare/rtx2080ti/output_gdeflate_500mb_nci_2097152threads.h5\n",
      "Failed getting utilization of gdeflate 500mb_nci 2097152 threads: [Errno 2] Unable to synchronously open file (unable to open file: name = '../data/compare/rtx2080ti/output_gdeflate_500mb_nci_2097152threads.h5', errno = 2, error message = 'No such file or directory', flags = 0, o_flags = 0)\n",
      "../data/compare/rtx2080ti/output_gdeflate_500mb_nci_8388608threads.h5\n",
      "Failed getting utilization of gdeflate 500mb_nci 8388608 threads: [Errno 2] Unable to synchronously open file (unable to open file: name = '../data/compare/rtx2080ti/output_gdeflate_500mb_nci_8388608threads.h5', errno = 2, error message = 'No such file or directory', flags = 0, o_flags = 0)\n",
      "../data/compare/rtx2080ti/output_lz4_500mb_nci_8threads.h5\n",
      "Failed getting utilization of lz4 500mb_nci 8 threads: Index(...) must be called with a collection of some kind, 'category' was passed\n",
      "../data/compare/rtx2080ti/output_lz4_500mb_nci_32threads.h5\n",
      "../data/compare/rtx2080ti/output_lz4_500mb_nci_128threads.h5\n",
      "../data/compare/rtx2080ti/output_lz4_500mb_nci_512threads.h5\n",
      "../data/compare/rtx2080ti/output_lz4_500mb_nci_2048threads.h5\n",
      "../data/compare/rtx2080ti/output_lz4_500mb_nci_8192threads.h5\n",
      "../data/compare/rtx2080ti/output_lz4_500mb_nci_32768threads.h5\n",
      "../data/compare/rtx2080ti/output_lz4_500mb_nci_131072threads.h5\n",
      "../data/compare/rtx2080ti/output_lz4_500mb_nci_524288threads.h5\n",
      "Failed getting utilization of lz4 500mb_nci 524288 threads: [Errno 2] Unable to synchronously open file (unable to open file: name = '../data/compare/rtx2080ti/output_lz4_500mb_nci_524288threads.h5', errno = 2, error message = 'No such file or directory', flags = 0, o_flags = 0)\n",
      "../data/compare/rtx2080ti/output_lz4_500mb_nci_2097152threads.h5\n",
      "Failed getting utilization of lz4 500mb_nci 2097152 threads: [Errno 2] Unable to synchronously open file (unable to open file: name = '../data/compare/rtx2080ti/output_lz4_500mb_nci_2097152threads.h5', errno = 2, error message = 'No such file or directory', flags = 0, o_flags = 0)\n",
      "../data/compare/rtx2080ti/output_lz4_500mb_nci_8388608threads.h5\n",
      "Failed getting utilization of lz4 500mb_nci 8388608 threads: [Errno 2] Unable to synchronously open file (unable to open file: name = '../data/compare/rtx2080ti/output_lz4_500mb_nci_8388608threads.h5', errno = 2, error message = 'No such file or directory', flags = 0, o_flags = 0)\n",
      "../data/compare/rtx2080ti/output_cascaded_500mb_nci_8threads.h5\n",
      "Failed getting utilization of cascaded 500mb_nci 8 threads: Index(...) must be called with a collection of some kind, 'category' was passed\n",
      "../data/compare/rtx2080ti/output_cascaded_500mb_nci_32threads.h5\n",
      "Failed getting utilization of cascaded 500mb_nci 32 threads: Index(...) must be called with a collection of some kind, 'category' was passed\n",
      "../data/compare/rtx2080ti/output_cascaded_500mb_nci_128threads.h5\n",
      "Failed getting utilization of cascaded 500mb_nci 128 threads: Index(...) must be called with a collection of some kind, 'category' was passed\n",
      "../data/compare/rtx2080ti/output_cascaded_500mb_nci_512threads.h5\n",
      "Failed getting utilization of cascaded 500mb_nci 512 threads: Index(...) must be called with a collection of some kind, 'category' was passed\n",
      "../data/compare/rtx2080ti/output_cascaded_500mb_nci_2048threads.h5\n",
      "Failed getting utilization of cascaded 500mb_nci 2048 threads: Index(...) must be called with a collection of some kind, 'category' was passed\n",
      "../data/compare/rtx2080ti/output_cascaded_500mb_nci_8192threads.h5\n",
      "Failed getting utilization of cascaded 500mb_nci 8192 threads: Index(...) must be called with a collection of some kind, 'category' was passed\n",
      "../data/compare/rtx2080ti/output_cascaded_500mb_nci_32768threads.h5\n",
      "Failed getting utilization of cascaded 500mb_nci 32768 threads: Index(...) must be called with a collection of some kind, 'category' was passed\n",
      "../data/compare/rtx2080ti/output_cascaded_500mb_nci_131072threads.h5\n",
      "Failed getting utilization of cascaded 500mb_nci 131072 threads: Index(...) must be called with a collection of some kind, 'category' was passed\n",
      "../data/compare/rtx2080ti/output_cascaded_500mb_nci_524288threads.h5\n",
      "Failed getting utilization of cascaded 500mb_nci 524288 threads: [Errno 2] Unable to synchronously open file (unable to open file: name = '../data/compare/rtx2080ti/output_cascaded_500mb_nci_524288threads.h5', errno = 2, error message = 'No such file or directory', flags = 0, o_flags = 0)\n",
      "../data/compare/rtx2080ti/output_cascaded_500mb_nci_2097152threads.h5\n",
      "Failed getting utilization of cascaded 500mb_nci 2097152 threads: [Errno 2] Unable to synchronously open file (unable to open file: name = '../data/compare/rtx2080ti/output_cascaded_500mb_nci_2097152threads.h5', errno = 2, error message = 'No such file or directory', flags = 0, o_flags = 0)\n",
      "../data/compare/rtx2080ti/output_cascaded_500mb_nci_8388608threads.h5\n",
      "Failed getting utilization of cascaded 500mb_nci 8388608 threads: [Errno 2] Unable to synchronously open file (unable to open file: name = '../data/compare/rtx2080ti/output_cascaded_500mb_nci_8388608threads.h5', errno = 2, error message = 'No such file or directory', flags = 0, o_flags = 0)\n",
      "../data/compare/rtx2080ti/output_bitcomp_500mb_nci_8threads.h5\n",
      "../data/compare/rtx2080ti/output_bitcomp_500mb_nci_32threads.h5\n",
      "../data/compare/rtx2080ti/output_bitcomp_500mb_nci_128threads.h5\n",
      "../data/compare/rtx2080ti/output_bitcomp_500mb_nci_512threads.h5\n",
      "../data/compare/rtx2080ti/output_bitcomp_500mb_nci_2048threads.h5\n",
      "../data/compare/rtx2080ti/output_bitcomp_500mb_nci_8192threads.h5\n",
      "../data/compare/rtx2080ti/output_bitcomp_500mb_nci_32768threads.h5\n",
      "../data/compare/rtx2080ti/output_bitcomp_500mb_nci_131072threads.h5\n",
      "../data/compare/rtx2080ti/output_bitcomp_500mb_nci_524288threads.h5\n",
      "Failed getting utilization of bitcomp 500mb_nci 524288 threads: [Errno 2] Unable to synchronously open file (unable to open file: name = '../data/compare/rtx2080ti/output_bitcomp_500mb_nci_524288threads.h5', errno = 2, error message = 'No such file or directory', flags = 0, o_flags = 0)\n",
      "../data/compare/rtx2080ti/output_bitcomp_500mb_nci_2097152threads.h5\n",
      "Failed getting utilization of bitcomp 500mb_nci 2097152 threads: [Errno 2] Unable to synchronously open file (unable to open file: name = '../data/compare/rtx2080ti/output_bitcomp_500mb_nci_2097152threads.h5', errno = 2, error message = 'No such file or directory', flags = 0, o_flags = 0)\n",
      "../data/compare/rtx2080ti/output_bitcomp_500mb_nci_8388608threads.h5\n",
      "Failed getting utilization of bitcomp 500mb_nci 8388608 threads: [Errno 2] Unable to synchronously open file (unable to open file: name = '../data/compare/rtx2080ti/output_bitcomp_500mb_nci_8388608threads.h5', errno = 2, error message = 'No such file or directory', flags = 0, o_flags = 0)\n",
      "../data/compare/rtx2080ti/output_snappy_500mb_samba_8threads.h5\n",
      "../data/compare/rtx2080ti/output_snappy_500mb_samba_32threads.h5\n",
      "../data/compare/rtx2080ti/output_snappy_500mb_samba_128threads.h5\n",
      "../data/compare/rtx2080ti/output_snappy_500mb_samba_512threads.h5\n",
      "../data/compare/rtx2080ti/output_snappy_500mb_samba_2048threads.h5\n",
      "../data/compare/rtx2080ti/output_snappy_500mb_samba_8192threads.h5\n",
      "../data/compare/rtx2080ti/output_snappy_500mb_samba_32768threads.h5\n",
      "../data/compare/rtx2080ti/output_snappy_500mb_samba_131072threads.h5\n",
      "../data/compare/rtx2080ti/output_snappy_500mb_samba_524288threads.h5\n",
      "Failed getting utilization of snappy 500mb_samba 524288 threads: [Errno 2] Unable to synchronously open file (unable to open file: name = '../data/compare/rtx2080ti/output_snappy_500mb_samba_524288threads.h5', errno = 2, error message = 'No such file or directory', flags = 0, o_flags = 0)\n",
      "../data/compare/rtx2080ti/output_snappy_500mb_samba_2097152threads.h5\n",
      "Failed getting utilization of snappy 500mb_samba 2097152 threads: [Errno 2] Unable to synchronously open file (unable to open file: name = '../data/compare/rtx2080ti/output_snappy_500mb_samba_2097152threads.h5', errno = 2, error message = 'No such file or directory', flags = 0, o_flags = 0)\n",
      "../data/compare/rtx2080ti/output_snappy_500mb_samba_8388608threads.h5\n",
      "Failed getting utilization of snappy 500mb_samba 8388608 threads: [Errno 2] Unable to synchronously open file (unable to open file: name = '../data/compare/rtx2080ti/output_snappy_500mb_samba_8388608threads.h5', errno = 2, error message = 'No such file or directory', flags = 0, o_flags = 0)\n",
      "../data/compare/rtx2080ti/output_zstd_500mb_samba_8threads.h5\n",
      "Failed getting utilization of zstd 500mb_samba 8 threads: Index(...) must be called with a collection of some kind, 'category' was passed\n",
      "../data/compare/rtx2080ti/output_zstd_500mb_samba_32threads.h5\n",
      "../data/compare/rtx2080ti/output_zstd_500mb_samba_128threads.h5\n",
      "../data/compare/rtx2080ti/output_zstd_500mb_samba_512threads.h5\n",
      "../data/compare/rtx2080ti/output_zstd_500mb_samba_2048threads.h5\n",
      "../data/compare/rtx2080ti/output_zstd_500mb_samba_8192threads.h5\n",
      "../data/compare/rtx2080ti/output_zstd_500mb_samba_32768threads.h5\n",
      "../data/compare/rtx2080ti/output_zstd_500mb_samba_131072threads.h5\n",
      "../data/compare/rtx2080ti/output_zstd_500mb_samba_524288threads.h5\n",
      "Failed getting utilization of zstd 500mb_samba 524288 threads: [Errno 2] Unable to synchronously open file (unable to open file: name = '../data/compare/rtx2080ti/output_zstd_500mb_samba_524288threads.h5', errno = 2, error message = 'No such file or directory', flags = 0, o_flags = 0)\n",
      "../data/compare/rtx2080ti/output_zstd_500mb_samba_2097152threads.h5\n",
      "Failed getting utilization of zstd 500mb_samba 2097152 threads: [Errno 2] Unable to synchronously open file (unable to open file: name = '../data/compare/rtx2080ti/output_zstd_500mb_samba_2097152threads.h5', errno = 2, error message = 'No such file or directory', flags = 0, o_flags = 0)\n",
      "../data/compare/rtx2080ti/output_zstd_500mb_samba_8388608threads.h5\n",
      "Failed getting utilization of zstd 500mb_samba 8388608 threads: [Errno 2] Unable to synchronously open file (unable to open file: name = '../data/compare/rtx2080ti/output_zstd_500mb_samba_8388608threads.h5', errno = 2, error message = 'No such file or directory', flags = 0, o_flags = 0)\n",
      "../data/compare/rtx2080ti/output_gdeflate_500mb_samba_8threads.h5\n",
      "Failed getting utilization of gdeflate 500mb_samba 8 threads: Index(...) must be called with a collection of some kind, 'category' was passed\n",
      "../data/compare/rtx2080ti/output_gdeflate_500mb_samba_32threads.h5\n",
      "Failed getting utilization of gdeflate 500mb_samba 32 threads: Index(...) must be called with a collection of some kind, 'category' was passed\n",
      "../data/compare/rtx2080ti/output_gdeflate_500mb_samba_128threads.h5\n",
      "Failed getting utilization of gdeflate 500mb_samba 128 threads: Index(...) must be called with a collection of some kind, 'category' was passed\n",
      "../data/compare/rtx2080ti/output_gdeflate_500mb_samba_512threads.h5\n",
      "Failed getting utilization of gdeflate 500mb_samba 512 threads: Index(...) must be called with a collection of some kind, 'category' was passed\n",
      "../data/compare/rtx2080ti/output_gdeflate_500mb_samba_2048threads.h5\n",
      "Failed getting utilization of gdeflate 500mb_samba 2048 threads: Index(...) must be called with a collection of some kind, 'category' was passed\n",
      "../data/compare/rtx2080ti/output_gdeflate_500mb_samba_8192threads.h5\n",
      "../data/compare/rtx2080ti/output_gdeflate_500mb_samba_32768threads.h5\n",
      "../data/compare/rtx2080ti/output_gdeflate_500mb_samba_131072threads.h5\n",
      "../data/compare/rtx2080ti/output_gdeflate_500mb_samba_524288threads.h5\n",
      "Failed getting utilization of gdeflate 500mb_samba 524288 threads: [Errno 2] Unable to synchronously open file (unable to open file: name = '../data/compare/rtx2080ti/output_gdeflate_500mb_samba_524288threads.h5', errno = 2, error message = 'No such file or directory', flags = 0, o_flags = 0)\n",
      "../data/compare/rtx2080ti/output_gdeflate_500mb_samba_2097152threads.h5\n",
      "Failed getting utilization of gdeflate 500mb_samba 2097152 threads: [Errno 2] Unable to synchronously open file (unable to open file: name = '../data/compare/rtx2080ti/output_gdeflate_500mb_samba_2097152threads.h5', errno = 2, error message = 'No such file or directory', flags = 0, o_flags = 0)\n",
      "../data/compare/rtx2080ti/output_gdeflate_500mb_samba_8388608threads.h5\n",
      "Failed getting utilization of gdeflate 500mb_samba 8388608 threads: [Errno 2] Unable to synchronously open file (unable to open file: name = '../data/compare/rtx2080ti/output_gdeflate_500mb_samba_8388608threads.h5', errno = 2, error message = 'No such file or directory', flags = 0, o_flags = 0)\n",
      "../data/compare/rtx2080ti/output_lz4_500mb_samba_8threads.h5\n",
      "Failed getting utilization of lz4 500mb_samba 8 threads: Index(...) must be called with a collection of some kind, 'category' was passed\n",
      "../data/compare/rtx2080ti/output_lz4_500mb_samba_32threads.h5\n",
      "../data/compare/rtx2080ti/output_lz4_500mb_samba_128threads.h5\n",
      "../data/compare/rtx2080ti/output_lz4_500mb_samba_512threads.h5\n",
      "../data/compare/rtx2080ti/output_lz4_500mb_samba_2048threads.h5\n",
      "../data/compare/rtx2080ti/output_lz4_500mb_samba_8192threads.h5\n",
      "../data/compare/rtx2080ti/output_lz4_500mb_samba_32768threads.h5\n",
      "../data/compare/rtx2080ti/output_lz4_500mb_samba_131072threads.h5\n",
      "../data/compare/rtx2080ti/output_lz4_500mb_samba_524288threads.h5\n",
      "Failed getting utilization of lz4 500mb_samba 524288 threads: [Errno 2] Unable to synchronously open file (unable to open file: name = '../data/compare/rtx2080ti/output_lz4_500mb_samba_524288threads.h5', errno = 2, error message = 'No such file or directory', flags = 0, o_flags = 0)\n",
      "../data/compare/rtx2080ti/output_lz4_500mb_samba_2097152threads.h5\n",
      "Failed getting utilization of lz4 500mb_samba 2097152 threads: [Errno 2] Unable to synchronously open file (unable to open file: name = '../data/compare/rtx2080ti/output_lz4_500mb_samba_2097152threads.h5', errno = 2, error message = 'No such file or directory', flags = 0, o_flags = 0)\n",
      "../data/compare/rtx2080ti/output_lz4_500mb_samba_8388608threads.h5\n",
      "Failed getting utilization of lz4 500mb_samba 8388608 threads: [Errno 2] Unable to synchronously open file (unable to open file: name = '../data/compare/rtx2080ti/output_lz4_500mb_samba_8388608threads.h5', errno = 2, error message = 'No such file or directory', flags = 0, o_flags = 0)\n",
      "../data/compare/rtx2080ti/output_cascaded_500mb_samba_8threads.h5\n",
      "../data/compare/rtx2080ti/output_cascaded_500mb_samba_32threads.h5\n",
      "../data/compare/rtx2080ti/output_cascaded_500mb_samba_128threads.h5\n",
      "../data/compare/rtx2080ti/output_cascaded_500mb_samba_512threads.h5\n",
      "../data/compare/rtx2080ti/output_cascaded_500mb_samba_2048threads.h5\n",
      "../data/compare/rtx2080ti/output_cascaded_500mb_samba_8192threads.h5\n",
      "../data/compare/rtx2080ti/output_cascaded_500mb_samba_32768threads.h5\n",
      "../data/compare/rtx2080ti/output_cascaded_500mb_samba_131072threads.h5\n",
      "../data/compare/rtx2080ti/output_cascaded_500mb_samba_524288threads.h5\n",
      "Failed getting utilization of cascaded 500mb_samba 524288 threads: [Errno 2] Unable to synchronously open file (unable to open file: name = '../data/compare/rtx2080ti/output_cascaded_500mb_samba_524288threads.h5', errno = 2, error message = 'No such file or directory', flags = 0, o_flags = 0)\n",
      "../data/compare/rtx2080ti/output_cascaded_500mb_samba_2097152threads.h5\n",
      "Failed getting utilization of cascaded 500mb_samba 2097152 threads: [Errno 2] Unable to synchronously open file (unable to open file: name = '../data/compare/rtx2080ti/output_cascaded_500mb_samba_2097152threads.h5', errno = 2, error message = 'No such file or directory', flags = 0, o_flags = 0)\n",
      "../data/compare/rtx2080ti/output_cascaded_500mb_samba_8388608threads.h5\n",
      "Failed getting utilization of cascaded 500mb_samba 8388608 threads: [Errno 2] Unable to synchronously open file (unable to open file: name = '../data/compare/rtx2080ti/output_cascaded_500mb_samba_8388608threads.h5', errno = 2, error message = 'No such file or directory', flags = 0, o_flags = 0)\n",
      "../data/compare/rtx2080ti/output_bitcomp_500mb_samba_8threads.h5\n",
      "../data/compare/rtx2080ti/output_bitcomp_500mb_samba_32threads.h5\n",
      "../data/compare/rtx2080ti/output_bitcomp_500mb_samba_128threads.h5\n",
      "../data/compare/rtx2080ti/output_bitcomp_500mb_samba_512threads.h5\n",
      "../data/compare/rtx2080ti/output_bitcomp_500mb_samba_2048threads.h5\n",
      "../data/compare/rtx2080ti/output_bitcomp_500mb_samba_8192threads.h5\n",
      "../data/compare/rtx2080ti/output_bitcomp_500mb_samba_32768threads.h5\n",
      "../data/compare/rtx2080ti/output_bitcomp_500mb_samba_131072threads.h5\n",
      "../data/compare/rtx2080ti/output_bitcomp_500mb_samba_524288threads.h5\n",
      "Failed getting utilization of bitcomp 500mb_samba 524288 threads: [Errno 2] Unable to synchronously open file (unable to open file: name = '../data/compare/rtx2080ti/output_bitcomp_500mb_samba_524288threads.h5', errno = 2, error message = 'No such file or directory', flags = 0, o_flags = 0)\n",
      "../data/compare/rtx2080ti/output_bitcomp_500mb_samba_2097152threads.h5\n",
      "Failed getting utilization of bitcomp 500mb_samba 2097152 threads: [Errno 2] Unable to synchronously open file (unable to open file: name = '../data/compare/rtx2080ti/output_bitcomp_500mb_samba_2097152threads.h5', errno = 2, error message = 'No such file or directory', flags = 0, o_flags = 0)\n",
      "../data/compare/rtx2080ti/output_bitcomp_500mb_samba_8388608threads.h5\n",
      "Failed getting utilization of bitcomp 500mb_samba 8388608 threads: [Errno 2] Unable to synchronously open file (unable to open file: name = '../data/compare/rtx2080ti/output_bitcomp_500mb_samba_8388608threads.h5', errno = 2, error message = 'No such file or directory', flags = 0, o_flags = 0)\n",
      "../data/compare/rtx2080ti/output_snappy_500mb_sao_8threads.h5\n",
      "../data/compare/rtx2080ti/output_snappy_500mb_sao_32threads.h5\n",
      "../data/compare/rtx2080ti/output_snappy_500mb_sao_128threads.h5\n",
      "../data/compare/rtx2080ti/output_snappy_500mb_sao_512threads.h5\n",
      "../data/compare/rtx2080ti/output_snappy_500mb_sao_2048threads.h5\n",
      "../data/compare/rtx2080ti/output_snappy_500mb_sao_8192threads.h5\n",
      "../data/compare/rtx2080ti/output_snappy_500mb_sao_32768threads.h5\n",
      "../data/compare/rtx2080ti/output_snappy_500mb_sao_131072threads.h5\n",
      "../data/compare/rtx2080ti/output_snappy_500mb_sao_524288threads.h5\n",
      "Failed getting utilization of snappy 500mb_sao 524288 threads: [Errno 2] Unable to synchronously open file (unable to open file: name = '../data/compare/rtx2080ti/output_snappy_500mb_sao_524288threads.h5', errno = 2, error message = 'No such file or directory', flags = 0, o_flags = 0)\n",
      "../data/compare/rtx2080ti/output_snappy_500mb_sao_2097152threads.h5\n",
      "Failed getting utilization of snappy 500mb_sao 2097152 threads: [Errno 2] Unable to synchronously open file (unable to open file: name = '../data/compare/rtx2080ti/output_snappy_500mb_sao_2097152threads.h5', errno = 2, error message = 'No such file or directory', flags = 0, o_flags = 0)\n",
      "../data/compare/rtx2080ti/output_snappy_500mb_sao_8388608threads.h5\n",
      "Failed getting utilization of snappy 500mb_sao 8388608 threads: [Errno 2] Unable to synchronously open file (unable to open file: name = '../data/compare/rtx2080ti/output_snappy_500mb_sao_8388608threads.h5', errno = 2, error message = 'No such file or directory', flags = 0, o_flags = 0)\n",
      "../data/compare/rtx2080ti/output_zstd_500mb_sao_8threads.h5\n",
      "../data/compare/rtx2080ti/output_zstd_500mb_sao_32threads.h5\n",
      "../data/compare/rtx2080ti/output_zstd_500mb_sao_128threads.h5\n",
      "../data/compare/rtx2080ti/output_zstd_500mb_sao_512threads.h5\n",
      "../data/compare/rtx2080ti/output_zstd_500mb_sao_2048threads.h5\n",
      "../data/compare/rtx2080ti/output_zstd_500mb_sao_8192threads.h5\n",
      "../data/compare/rtx2080ti/output_zstd_500mb_sao_32768threads.h5\n",
      "../data/compare/rtx2080ti/output_zstd_500mb_sao_131072threads.h5\n",
      "../data/compare/rtx2080ti/output_zstd_500mb_sao_524288threads.h5\n",
      "Failed getting utilization of zstd 500mb_sao 524288 threads: [Errno 2] Unable to synchronously open file (unable to open file: name = '../data/compare/rtx2080ti/output_zstd_500mb_sao_524288threads.h5', errno = 2, error message = 'No such file or directory', flags = 0, o_flags = 0)\n",
      "../data/compare/rtx2080ti/output_zstd_500mb_sao_2097152threads.h5\n",
      "Failed getting utilization of zstd 500mb_sao 2097152 threads: [Errno 2] Unable to synchronously open file (unable to open file: name = '../data/compare/rtx2080ti/output_zstd_500mb_sao_2097152threads.h5', errno = 2, error message = 'No such file or directory', flags = 0, o_flags = 0)\n",
      "../data/compare/rtx2080ti/output_zstd_500mb_sao_8388608threads.h5\n",
      "Failed getting utilization of zstd 500mb_sao 8388608 threads: [Errno 2] Unable to synchronously open file (unable to open file: name = '../data/compare/rtx2080ti/output_zstd_500mb_sao_8388608threads.h5', errno = 2, error message = 'No such file or directory', flags = 0, o_flags = 0)\n",
      "../data/compare/rtx2080ti/output_gdeflate_500mb_sao_8threads.h5\n",
      "Failed getting utilization of gdeflate 500mb_sao 8 threads: Index(...) must be called with a collection of some kind, 'category' was passed\n",
      "../data/compare/rtx2080ti/output_gdeflate_500mb_sao_32threads.h5\n",
      "Failed getting utilization of gdeflate 500mb_sao 32 threads: Index(...) must be called with a collection of some kind, 'category' was passed\n",
      "../data/compare/rtx2080ti/output_gdeflate_500mb_sao_128threads.h5\n",
      "Failed getting utilization of gdeflate 500mb_sao 128 threads: Index(...) must be called with a collection of some kind, 'category' was passed\n",
      "../data/compare/rtx2080ti/output_gdeflate_500mb_sao_512threads.h5\n",
      "Failed getting utilization of gdeflate 500mb_sao 512 threads: Index(...) must be called with a collection of some kind, 'category' was passed\n",
      "../data/compare/rtx2080ti/output_gdeflate_500mb_sao_2048threads.h5\n",
      "Failed getting utilization of gdeflate 500mb_sao 2048 threads: Index(...) must be called with a collection of some kind, 'category' was passed\n",
      "../data/compare/rtx2080ti/output_gdeflate_500mb_sao_8192threads.h5\n",
      "../data/compare/rtx2080ti/output_gdeflate_500mb_sao_32768threads.h5\n",
      "../data/compare/rtx2080ti/output_gdeflate_500mb_sao_131072threads.h5\n",
      "../data/compare/rtx2080ti/output_gdeflate_500mb_sao_524288threads.h5\n",
      "Failed getting utilization of gdeflate 500mb_sao 524288 threads: [Errno 2] Unable to synchronously open file (unable to open file: name = '../data/compare/rtx2080ti/output_gdeflate_500mb_sao_524288threads.h5', errno = 2, error message = 'No such file or directory', flags = 0, o_flags = 0)\n",
      "../data/compare/rtx2080ti/output_gdeflate_500mb_sao_2097152threads.h5\n",
      "Failed getting utilization of gdeflate 500mb_sao 2097152 threads: [Errno 2] Unable to synchronously open file (unable to open file: name = '../data/compare/rtx2080ti/output_gdeflate_500mb_sao_2097152threads.h5', errno = 2, error message = 'No such file or directory', flags = 0, o_flags = 0)\n",
      "../data/compare/rtx2080ti/output_gdeflate_500mb_sao_8388608threads.h5\n",
      "Failed getting utilization of gdeflate 500mb_sao 8388608 threads: [Errno 2] Unable to synchronously open file (unable to open file: name = '../data/compare/rtx2080ti/output_gdeflate_500mb_sao_8388608threads.h5', errno = 2, error message = 'No such file or directory', flags = 0, o_flags = 0)\n",
      "../data/compare/rtx2080ti/output_lz4_500mb_sao_8threads.h5\n",
      "../data/compare/rtx2080ti/output_lz4_500mb_sao_32threads.h5\n",
      "../data/compare/rtx2080ti/output_lz4_500mb_sao_128threads.h5\n",
      "../data/compare/rtx2080ti/output_lz4_500mb_sao_512threads.h5\n",
      "../data/compare/rtx2080ti/output_lz4_500mb_sao_2048threads.h5\n",
      "../data/compare/rtx2080ti/output_lz4_500mb_sao_8192threads.h5\n",
      "../data/compare/rtx2080ti/output_lz4_500mb_sao_32768threads.h5\n",
      "../data/compare/rtx2080ti/output_lz4_500mb_sao_131072threads.h5\n",
      "../data/compare/rtx2080ti/output_lz4_500mb_sao_524288threads.h5\n",
      "Failed getting utilization of lz4 500mb_sao 524288 threads: [Errno 2] Unable to synchronously open file (unable to open file: name = '../data/compare/rtx2080ti/output_lz4_500mb_sao_524288threads.h5', errno = 2, error message = 'No such file or directory', flags = 0, o_flags = 0)\n",
      "../data/compare/rtx2080ti/output_lz4_500mb_sao_2097152threads.h5\n",
      "Failed getting utilization of lz4 500mb_sao 2097152 threads: [Errno 2] Unable to synchronously open file (unable to open file: name = '../data/compare/rtx2080ti/output_lz4_500mb_sao_2097152threads.h5', errno = 2, error message = 'No such file or directory', flags = 0, o_flags = 0)\n",
      "../data/compare/rtx2080ti/output_lz4_500mb_sao_8388608threads.h5\n",
      "Failed getting utilization of lz4 500mb_sao 8388608 threads: [Errno 2] Unable to synchronously open file (unable to open file: name = '../data/compare/rtx2080ti/output_lz4_500mb_sao_8388608threads.h5', errno = 2, error message = 'No such file or directory', flags = 0, o_flags = 0)\n",
      "../data/compare/rtx2080ti/output_cascaded_500mb_sao_8threads.h5\n",
      "../data/compare/rtx2080ti/output_cascaded_500mb_sao_32threads.h5\n",
      "../data/compare/rtx2080ti/output_cascaded_500mb_sao_128threads.h5\n",
      "../data/compare/rtx2080ti/output_cascaded_500mb_sao_512threads.h5\n",
      "../data/compare/rtx2080ti/output_cascaded_500mb_sao_2048threads.h5\n",
      "../data/compare/rtx2080ti/output_cascaded_500mb_sao_8192threads.h5\n",
      "../data/compare/rtx2080ti/output_cascaded_500mb_sao_32768threads.h5\n",
      "../data/compare/rtx2080ti/output_cascaded_500mb_sao_131072threads.h5\n",
      "../data/compare/rtx2080ti/output_cascaded_500mb_sao_524288threads.h5\n",
      "Failed getting utilization of cascaded 500mb_sao 524288 threads: [Errno 2] Unable to synchronously open file (unable to open file: name = '../data/compare/rtx2080ti/output_cascaded_500mb_sao_524288threads.h5', errno = 2, error message = 'No such file or directory', flags = 0, o_flags = 0)\n",
      "../data/compare/rtx2080ti/output_cascaded_500mb_sao_2097152threads.h5\n",
      "Failed getting utilization of cascaded 500mb_sao 2097152 threads: [Errno 2] Unable to synchronously open file (unable to open file: name = '../data/compare/rtx2080ti/output_cascaded_500mb_sao_2097152threads.h5', errno = 2, error message = 'No such file or directory', flags = 0, o_flags = 0)\n",
      "../data/compare/rtx2080ti/output_cascaded_500mb_sao_8388608threads.h5\n",
      "Failed getting utilization of cascaded 500mb_sao 8388608 threads: [Errno 2] Unable to synchronously open file (unable to open file: name = '../data/compare/rtx2080ti/output_cascaded_500mb_sao_8388608threads.h5', errno = 2, error message = 'No such file or directory', flags = 0, o_flags = 0)\n",
      "../data/compare/rtx2080ti/output_bitcomp_500mb_sao_8threads.h5\n",
      "../data/compare/rtx2080ti/output_bitcomp_500mb_sao_32threads.h5\n",
      "../data/compare/rtx2080ti/output_bitcomp_500mb_sao_128threads.h5\n",
      "../data/compare/rtx2080ti/output_bitcomp_500mb_sao_512threads.h5\n",
      "../data/compare/rtx2080ti/output_bitcomp_500mb_sao_2048threads.h5\n",
      "../data/compare/rtx2080ti/output_bitcomp_500mb_sao_8192threads.h5\n",
      "../data/compare/rtx2080ti/output_bitcomp_500mb_sao_32768threads.h5\n",
      "../data/compare/rtx2080ti/output_bitcomp_500mb_sao_131072threads.h5\n",
      "../data/compare/rtx2080ti/output_bitcomp_500mb_sao_524288threads.h5\n",
      "Failed getting utilization of bitcomp 500mb_sao 524288 threads: [Errno 2] Unable to synchronously open file (unable to open file: name = '../data/compare/rtx2080ti/output_bitcomp_500mb_sao_524288threads.h5', errno = 2, error message = 'No such file or directory', flags = 0, o_flags = 0)\n",
      "../data/compare/rtx2080ti/output_bitcomp_500mb_sao_2097152threads.h5\n",
      "Failed getting utilization of bitcomp 500mb_sao 2097152 threads: [Errno 2] Unable to synchronously open file (unable to open file: name = '../data/compare/rtx2080ti/output_bitcomp_500mb_sao_2097152threads.h5', errno = 2, error message = 'No such file or directory', flags = 0, o_flags = 0)\n",
      "../data/compare/rtx2080ti/output_bitcomp_500mb_sao_8388608threads.h5\n",
      "Failed getting utilization of bitcomp 500mb_sao 8388608 threads: [Errno 2] Unable to synchronously open file (unable to open file: name = '../data/compare/rtx2080ti/output_bitcomp_500mb_sao_8388608threads.h5', errno = 2, error message = 'No such file or directory', flags = 0, o_flags = 0)\n",
      "../data/compare/rtx2080ti/output_snappy_500mb_silesia.zip_8threads.h5\n",
      "../data/compare/rtx2080ti/output_snappy_500mb_silesia.zip_32threads.h5\n",
      "../data/compare/rtx2080ti/output_snappy_500mb_silesia.zip_128threads.h5\n",
      "../data/compare/rtx2080ti/output_snappy_500mb_silesia.zip_512threads.h5\n",
      "../data/compare/rtx2080ti/output_snappy_500mb_silesia.zip_2048threads.h5\n",
      "../data/compare/rtx2080ti/output_snappy_500mb_silesia.zip_8192threads.h5\n",
      "../data/compare/rtx2080ti/output_snappy_500mb_silesia.zip_32768threads.h5\n",
      "../data/compare/rtx2080ti/output_snappy_500mb_silesia.zip_131072threads.h5\n",
      "../data/compare/rtx2080ti/output_snappy_500mb_silesia.zip_524288threads.h5\n",
      "Failed getting utilization of snappy 500mb_silesia.zip 524288 threads: [Errno 2] Unable to synchronously open file (unable to open file: name = '../data/compare/rtx2080ti/output_snappy_500mb_silesia.zip_524288threads.h5', errno = 2, error message = 'No such file or directory', flags = 0, o_flags = 0)\n",
      "../data/compare/rtx2080ti/output_snappy_500mb_silesia.zip_2097152threads.h5\n",
      "Failed getting utilization of snappy 500mb_silesia.zip 2097152 threads: [Errno 2] Unable to synchronously open file (unable to open file: name = '../data/compare/rtx2080ti/output_snappy_500mb_silesia.zip_2097152threads.h5', errno = 2, error message = 'No such file or directory', flags = 0, o_flags = 0)\n",
      "../data/compare/rtx2080ti/output_snappy_500mb_silesia.zip_8388608threads.h5\n",
      "Failed getting utilization of snappy 500mb_silesia.zip 8388608 threads: [Errno 2] Unable to synchronously open file (unable to open file: name = '../data/compare/rtx2080ti/output_snappy_500mb_silesia.zip_8388608threads.h5', errno = 2, error message = 'No such file or directory', flags = 0, o_flags = 0)\n",
      "../data/compare/rtx2080ti/output_zstd_500mb_silesia.zip_8threads.h5\n",
      "Failed getting utilization of zstd 500mb_silesia.zip 8 threads: Index(...) must be called with a collection of some kind, 'category' was passed\n",
      "../data/compare/rtx2080ti/output_zstd_500mb_silesia.zip_32threads.h5\n",
      "Failed getting utilization of zstd 500mb_silesia.zip 32 threads: Index(...) must be called with a collection of some kind, 'category' was passed\n",
      "../data/compare/rtx2080ti/output_zstd_500mb_silesia.zip_128threads.h5\n",
      "Failed getting utilization of zstd 500mb_silesia.zip 128 threads: Index(...) must be called with a collection of some kind, 'category' was passed\n",
      "../data/compare/rtx2080ti/output_zstd_500mb_silesia.zip_512threads.h5\n",
      "Failed getting utilization of zstd 500mb_silesia.zip 512 threads: Index(...) must be called with a collection of some kind, 'category' was passed\n",
      "../data/compare/rtx2080ti/output_zstd_500mb_silesia.zip_2048threads.h5\n",
      "Failed getting utilization of zstd 500mb_silesia.zip 2048 threads: Index(...) must be called with a collection of some kind, 'category' was passed\n",
      "../data/compare/rtx2080ti/output_zstd_500mb_silesia.zip_8192threads.h5\n",
      "../data/compare/rtx2080ti/output_zstd_500mb_silesia.zip_32768threads.h5\n",
      "../data/compare/rtx2080ti/output_zstd_500mb_silesia.zip_131072threads.h5\n",
      "../data/compare/rtx2080ti/output_zstd_500mb_silesia.zip_524288threads.h5\n",
      "Failed getting utilization of zstd 500mb_silesia.zip 524288 threads: [Errno 2] Unable to synchronously open file (unable to open file: name = '../data/compare/rtx2080ti/output_zstd_500mb_silesia.zip_524288threads.h5', errno = 2, error message = 'No such file or directory', flags = 0, o_flags = 0)\n",
      "../data/compare/rtx2080ti/output_zstd_500mb_silesia.zip_2097152threads.h5\n",
      "Failed getting utilization of zstd 500mb_silesia.zip 2097152 threads: [Errno 2] Unable to synchronously open file (unable to open file: name = '../data/compare/rtx2080ti/output_zstd_500mb_silesia.zip_2097152threads.h5', errno = 2, error message = 'No such file or directory', flags = 0, o_flags = 0)\n",
      "../data/compare/rtx2080ti/output_zstd_500mb_silesia.zip_8388608threads.h5\n",
      "Failed getting utilization of zstd 500mb_silesia.zip 8388608 threads: [Errno 2] Unable to synchronously open file (unable to open file: name = '../data/compare/rtx2080ti/output_zstd_500mb_silesia.zip_8388608threads.h5', errno = 2, error message = 'No such file or directory', flags = 0, o_flags = 0)\n",
      "../data/compare/rtx2080ti/output_gdeflate_500mb_silesia.zip_8threads.h5\n",
      "Failed getting utilization of gdeflate 500mb_silesia.zip 8 threads: Index(...) must be called with a collection of some kind, 'category' was passed\n",
      "../data/compare/rtx2080ti/output_gdeflate_500mb_silesia.zip_32threads.h5\n",
      "Failed getting utilization of gdeflate 500mb_silesia.zip 32 threads: Index(...) must be called with a collection of some kind, 'category' was passed\n",
      "../data/compare/rtx2080ti/output_gdeflate_500mb_silesia.zip_128threads.h5\n",
      "Failed getting utilization of gdeflate 500mb_silesia.zip 128 threads: Index(...) must be called with a collection of some kind, 'category' was passed\n",
      "../data/compare/rtx2080ti/output_gdeflate_500mb_silesia.zip_512threads.h5\n",
      "Failed getting utilization of gdeflate 500mb_silesia.zip 512 threads: Index(...) must be called with a collection of some kind, 'category' was passed\n",
      "../data/compare/rtx2080ti/output_gdeflate_500mb_silesia.zip_2048threads.h5\n",
      "Failed getting utilization of gdeflate 500mb_silesia.zip 2048 threads: Index(...) must be called with a collection of some kind, 'category' was passed\n",
      "../data/compare/rtx2080ti/output_gdeflate_500mb_silesia.zip_8192threads.h5\n",
      "../data/compare/rtx2080ti/output_gdeflate_500mb_silesia.zip_32768threads.h5\n",
      "../data/compare/rtx2080ti/output_gdeflate_500mb_silesia.zip_131072threads.h5\n",
      "../data/compare/rtx2080ti/output_gdeflate_500mb_silesia.zip_524288threads.h5\n",
      "Failed getting utilization of gdeflate 500mb_silesia.zip 524288 threads: [Errno 2] Unable to synchronously open file (unable to open file: name = '../data/compare/rtx2080ti/output_gdeflate_500mb_silesia.zip_524288threads.h5', errno = 2, error message = 'No such file or directory', flags = 0, o_flags = 0)\n",
      "../data/compare/rtx2080ti/output_gdeflate_500mb_silesia.zip_2097152threads.h5\n",
      "Failed getting utilization of gdeflate 500mb_silesia.zip 2097152 threads: [Errno 2] Unable to synchronously open file (unable to open file: name = '../data/compare/rtx2080ti/output_gdeflate_500mb_silesia.zip_2097152threads.h5', errno = 2, error message = 'No such file or directory', flags = 0, o_flags = 0)\n",
      "../data/compare/rtx2080ti/output_gdeflate_500mb_silesia.zip_8388608threads.h5\n",
      "Failed getting utilization of gdeflate 500mb_silesia.zip 8388608 threads: [Errno 2] Unable to synchronously open file (unable to open file: name = '../data/compare/rtx2080ti/output_gdeflate_500mb_silesia.zip_8388608threads.h5', errno = 2, error message = 'No such file or directory', flags = 0, o_flags = 0)\n",
      "../data/compare/rtx2080ti/output_lz4_500mb_silesia.zip_8threads.h5\n",
      "Failed getting utilization of lz4 500mb_silesia.zip 8 threads: Index(...) must be called with a collection of some kind, 'category' was passed\n",
      "../data/compare/rtx2080ti/output_lz4_500mb_silesia.zip_32threads.h5\n",
      "../data/compare/rtx2080ti/output_lz4_500mb_silesia.zip_128threads.h5\n",
      "../data/compare/rtx2080ti/output_lz4_500mb_silesia.zip_512threads.h5\n",
      "../data/compare/rtx2080ti/output_lz4_500mb_silesia.zip_2048threads.h5\n",
      "../data/compare/rtx2080ti/output_lz4_500mb_silesia.zip_8192threads.h5\n",
      "../data/compare/rtx2080ti/output_lz4_500mb_silesia.zip_32768threads.h5\n",
      "../data/compare/rtx2080ti/output_lz4_500mb_silesia.zip_131072threads.h5\n",
      "../data/compare/rtx2080ti/output_lz4_500mb_silesia.zip_524288threads.h5\n",
      "Failed getting utilization of lz4 500mb_silesia.zip 524288 threads: [Errno 2] Unable to synchronously open file (unable to open file: name = '../data/compare/rtx2080ti/output_lz4_500mb_silesia.zip_524288threads.h5', errno = 2, error message = 'No such file or directory', flags = 0, o_flags = 0)\n",
      "../data/compare/rtx2080ti/output_lz4_500mb_silesia.zip_2097152threads.h5\n",
      "Failed getting utilization of lz4 500mb_silesia.zip 2097152 threads: [Errno 2] Unable to synchronously open file (unable to open file: name = '../data/compare/rtx2080ti/output_lz4_500mb_silesia.zip_2097152threads.h5', errno = 2, error message = 'No such file or directory', flags = 0, o_flags = 0)\n",
      "../data/compare/rtx2080ti/output_lz4_500mb_silesia.zip_8388608threads.h5\n",
      "Failed getting utilization of lz4 500mb_silesia.zip 8388608 threads: [Errno 2] Unable to synchronously open file (unable to open file: name = '../data/compare/rtx2080ti/output_lz4_500mb_silesia.zip_8388608threads.h5', errno = 2, error message = 'No such file or directory', flags = 0, o_flags = 0)\n",
      "../data/compare/rtx2080ti/output_cascaded_500mb_silesia.zip_8threads.h5\n",
      "Failed getting utilization of cascaded 500mb_silesia.zip 8 threads: Index(...) must be called with a collection of some kind, 'category' was passed\n",
      "../data/compare/rtx2080ti/output_cascaded_500mb_silesia.zip_32threads.h5\n",
      "Failed getting utilization of cascaded 500mb_silesia.zip 32 threads: Index(...) must be called with a collection of some kind, 'category' was passed\n",
      "../data/compare/rtx2080ti/output_cascaded_500mb_silesia.zip_128threads.h5\n",
      "Failed getting utilization of cascaded 500mb_silesia.zip 128 threads: Index(...) must be called with a collection of some kind, 'category' was passed\n",
      "../data/compare/rtx2080ti/output_cascaded_500mb_silesia.zip_512threads.h5\n",
      "Failed getting utilization of cascaded 500mb_silesia.zip 512 threads: Index(...) must be called with a collection of some kind, 'category' was passed\n",
      "../data/compare/rtx2080ti/output_cascaded_500mb_silesia.zip_2048threads.h5\n",
      "Failed getting utilization of cascaded 500mb_silesia.zip 2048 threads: Index(...) must be called with a collection of some kind, 'category' was passed\n",
      "../data/compare/rtx2080ti/output_cascaded_500mb_silesia.zip_8192threads.h5\n",
      "Failed getting utilization of cascaded 500mb_silesia.zip 8192 threads: Index(...) must be called with a collection of some kind, 'category' was passed\n",
      "../data/compare/rtx2080ti/output_cascaded_500mb_silesia.zip_32768threads.h5\n",
      "Failed getting utilization of cascaded 500mb_silesia.zip 32768 threads: Index(...) must be called with a collection of some kind, 'category' was passed\n",
      "../data/compare/rtx2080ti/output_cascaded_500mb_silesia.zip_131072threads.h5\n",
      "Failed getting utilization of cascaded 500mb_silesia.zip 131072 threads: Index(...) must be called with a collection of some kind, 'category' was passed\n",
      "../data/compare/rtx2080ti/output_cascaded_500mb_silesia.zip_524288threads.h5\n",
      "Failed getting utilization of cascaded 500mb_silesia.zip 524288 threads: [Errno 2] Unable to synchronously open file (unable to open file: name = '../data/compare/rtx2080ti/output_cascaded_500mb_silesia.zip_524288threads.h5', errno = 2, error message = 'No such file or directory', flags = 0, o_flags = 0)\n",
      "../data/compare/rtx2080ti/output_cascaded_500mb_silesia.zip_2097152threads.h5\n",
      "Failed getting utilization of cascaded 500mb_silesia.zip 2097152 threads: [Errno 2] Unable to synchronously open file (unable to open file: name = '../data/compare/rtx2080ti/output_cascaded_500mb_silesia.zip_2097152threads.h5', errno = 2, error message = 'No such file or directory', flags = 0, o_flags = 0)\n",
      "../data/compare/rtx2080ti/output_cascaded_500mb_silesia.zip_8388608threads.h5\n",
      "Failed getting utilization of cascaded 500mb_silesia.zip 8388608 threads: [Errno 2] Unable to synchronously open file (unable to open file: name = '../data/compare/rtx2080ti/output_cascaded_500mb_silesia.zip_8388608threads.h5', errno = 2, error message = 'No such file or directory', flags = 0, o_flags = 0)\n",
      "../data/compare/rtx2080ti/output_bitcomp_500mb_silesia.zip_8threads.h5\n",
      "../data/compare/rtx2080ti/output_bitcomp_500mb_silesia.zip_32threads.h5\n",
      "../data/compare/rtx2080ti/output_bitcomp_500mb_silesia.zip_128threads.h5\n",
      "../data/compare/rtx2080ti/output_bitcomp_500mb_silesia.zip_512threads.h5\n",
      "../data/compare/rtx2080ti/output_bitcomp_500mb_silesia.zip_2048threads.h5\n",
      "../data/compare/rtx2080ti/output_bitcomp_500mb_silesia.zip_8192threads.h5\n",
      "../data/compare/rtx2080ti/output_bitcomp_500mb_silesia.zip_32768threads.h5\n",
      "../data/compare/rtx2080ti/output_bitcomp_500mb_silesia.zip_131072threads.h5\n",
      "../data/compare/rtx2080ti/output_bitcomp_500mb_silesia.zip_524288threads.h5\n",
      "Failed getting utilization of bitcomp 500mb_silesia.zip 524288 threads: [Errno 2] Unable to synchronously open file (unable to open file: name = '../data/compare/rtx2080ti/output_bitcomp_500mb_silesia.zip_524288threads.h5', errno = 2, error message = 'No such file or directory', flags = 0, o_flags = 0)\n",
      "../data/compare/rtx2080ti/output_bitcomp_500mb_silesia.zip_2097152threads.h5\n",
      "Failed getting utilization of bitcomp 500mb_silesia.zip 2097152 threads: [Errno 2] Unable to synchronously open file (unable to open file: name = '../data/compare/rtx2080ti/output_bitcomp_500mb_silesia.zip_2097152threads.h5', errno = 2, error message = 'No such file or directory', flags = 0, o_flags = 0)\n",
      "../data/compare/rtx2080ti/output_bitcomp_500mb_silesia.zip_8388608threads.h5\n",
      "Failed getting utilization of bitcomp 500mb_silesia.zip 8388608 threads: [Errno 2] Unable to synchronously open file (unable to open file: name = '../data/compare/rtx2080ti/output_bitcomp_500mb_silesia.zip_8388608threads.h5', errno = 2, error message = 'No such file or directory', flags = 0, o_flags = 0)\n",
      "../data/compare/rtx2080ti/output_snappy_500mb_xml_8threads.h5\n",
      "../data/compare/rtx2080ti/output_snappy_500mb_xml_32threads.h5\n",
      "../data/compare/rtx2080ti/output_snappy_500mb_xml_128threads.h5\n",
      "../data/compare/rtx2080ti/output_snappy_500mb_xml_512threads.h5\n",
      "../data/compare/rtx2080ti/output_snappy_500mb_xml_2048threads.h5\n",
      "../data/compare/rtx2080ti/output_snappy_500mb_xml_8192threads.h5\n",
      "../data/compare/rtx2080ti/output_snappy_500mb_xml_32768threads.h5\n",
      "../data/compare/rtx2080ti/output_snappy_500mb_xml_131072threads.h5\n",
      "../data/compare/rtx2080ti/output_snappy_500mb_xml_524288threads.h5\n",
      "Failed getting utilization of snappy 500mb_xml 524288 threads: [Errno 2] Unable to synchronously open file (unable to open file: name = '../data/compare/rtx2080ti/output_snappy_500mb_xml_524288threads.h5', errno = 2, error message = 'No such file or directory', flags = 0, o_flags = 0)\n",
      "../data/compare/rtx2080ti/output_snappy_500mb_xml_2097152threads.h5\n",
      "Failed getting utilization of snappy 500mb_xml 2097152 threads: [Errno 2] Unable to synchronously open file (unable to open file: name = '../data/compare/rtx2080ti/output_snappy_500mb_xml_2097152threads.h5', errno = 2, error message = 'No such file or directory', flags = 0, o_flags = 0)\n",
      "../data/compare/rtx2080ti/output_snappy_500mb_xml_8388608threads.h5\n",
      "Failed getting utilization of snappy 500mb_xml 8388608 threads: [Errno 2] Unable to synchronously open file (unable to open file: name = '../data/compare/rtx2080ti/output_snappy_500mb_xml_8388608threads.h5', errno = 2, error message = 'No such file or directory', flags = 0, o_flags = 0)\n",
      "../data/compare/rtx2080ti/output_zstd_500mb_xml_8threads.h5\n",
      "../data/compare/rtx2080ti/output_zstd_500mb_xml_32threads.h5\n",
      "../data/compare/rtx2080ti/output_zstd_500mb_xml_128threads.h5\n",
      "../data/compare/rtx2080ti/output_zstd_500mb_xml_512threads.h5\n",
      "../data/compare/rtx2080ti/output_zstd_500mb_xml_2048threads.h5\n",
      "../data/compare/rtx2080ti/output_zstd_500mb_xml_8192threads.h5\n",
      "../data/compare/rtx2080ti/output_zstd_500mb_xml_32768threads.h5\n",
      "../data/compare/rtx2080ti/output_zstd_500mb_xml_131072threads.h5\n",
      "../data/compare/rtx2080ti/output_zstd_500mb_xml_524288threads.h5\n",
      "Failed getting utilization of zstd 500mb_xml 524288 threads: [Errno 2] Unable to synchronously open file (unable to open file: name = '../data/compare/rtx2080ti/output_zstd_500mb_xml_524288threads.h5', errno = 2, error message = 'No such file or directory', flags = 0, o_flags = 0)\n",
      "../data/compare/rtx2080ti/output_zstd_500mb_xml_2097152threads.h5\n",
      "Failed getting utilization of zstd 500mb_xml 2097152 threads: [Errno 2] Unable to synchronously open file (unable to open file: name = '../data/compare/rtx2080ti/output_zstd_500mb_xml_2097152threads.h5', errno = 2, error message = 'No such file or directory', flags = 0, o_flags = 0)\n",
      "../data/compare/rtx2080ti/output_zstd_500mb_xml_8388608threads.h5\n",
      "Failed getting utilization of zstd 500mb_xml 8388608 threads: [Errno 2] Unable to synchronously open file (unable to open file: name = '../data/compare/rtx2080ti/output_zstd_500mb_xml_8388608threads.h5', errno = 2, error message = 'No such file or directory', flags = 0, o_flags = 0)\n",
      "../data/compare/rtx2080ti/output_gdeflate_500mb_xml_8threads.h5\n",
      "Failed getting utilization of gdeflate 500mb_xml 8 threads: Index(...) must be called with a collection of some kind, 'category' was passed\n",
      "../data/compare/rtx2080ti/output_gdeflate_500mb_xml_32threads.h5\n",
      "Failed getting utilization of gdeflate 500mb_xml 32 threads: Index(...) must be called with a collection of some kind, 'category' was passed\n",
      "../data/compare/rtx2080ti/output_gdeflate_500mb_xml_128threads.h5\n",
      "Failed getting utilization of gdeflate 500mb_xml 128 threads: Index(...) must be called with a collection of some kind, 'category' was passed\n",
      "../data/compare/rtx2080ti/output_gdeflate_500mb_xml_512threads.h5\n",
      "Failed getting utilization of gdeflate 500mb_xml 512 threads: Index(...) must be called with a collection of some kind, 'category' was passed\n",
      "../data/compare/rtx2080ti/output_gdeflate_500mb_xml_2048threads.h5\n",
      "Failed getting utilization of gdeflate 500mb_xml 2048 threads: Index(...) must be called with a collection of some kind, 'category' was passed\n",
      "../data/compare/rtx2080ti/output_gdeflate_500mb_xml_8192threads.h5\n",
      "../data/compare/rtx2080ti/output_gdeflate_500mb_xml_32768threads.h5\n",
      "../data/compare/rtx2080ti/output_gdeflate_500mb_xml_131072threads.h5\n",
      "../data/compare/rtx2080ti/output_gdeflate_500mb_xml_524288threads.h5\n",
      "Failed getting utilization of gdeflate 500mb_xml 524288 threads: [Errno 2] Unable to synchronously open file (unable to open file: name = '../data/compare/rtx2080ti/output_gdeflate_500mb_xml_524288threads.h5', errno = 2, error message = 'No such file or directory', flags = 0, o_flags = 0)\n",
      "../data/compare/rtx2080ti/output_gdeflate_500mb_xml_2097152threads.h5\n",
      "Failed getting utilization of gdeflate 500mb_xml 2097152 threads: [Errno 2] Unable to synchronously open file (unable to open file: name = '../data/compare/rtx2080ti/output_gdeflate_500mb_xml_2097152threads.h5', errno = 2, error message = 'No such file or directory', flags = 0, o_flags = 0)\n",
      "../data/compare/rtx2080ti/output_gdeflate_500mb_xml_8388608threads.h5\n",
      "Failed getting utilization of gdeflate 500mb_xml 8388608 threads: [Errno 2] Unable to synchronously open file (unable to open file: name = '../data/compare/rtx2080ti/output_gdeflate_500mb_xml_8388608threads.h5', errno = 2, error message = 'No such file or directory', flags = 0, o_flags = 0)\n",
      "../data/compare/rtx2080ti/output_lz4_500mb_xml_8threads.h5\n",
      "../data/compare/rtx2080ti/output_lz4_500mb_xml_32threads.h5\n",
      "../data/compare/rtx2080ti/output_lz4_500mb_xml_128threads.h5\n",
      "../data/compare/rtx2080ti/output_lz4_500mb_xml_512threads.h5\n",
      "../data/compare/rtx2080ti/output_lz4_500mb_xml_2048threads.h5\n",
      "../data/compare/rtx2080ti/output_lz4_500mb_xml_8192threads.h5\n",
      "../data/compare/rtx2080ti/output_lz4_500mb_xml_32768threads.h5\n",
      "../data/compare/rtx2080ti/output_lz4_500mb_xml_131072threads.h5\n",
      "../data/compare/rtx2080ti/output_lz4_500mb_xml_524288threads.h5\n",
      "Failed getting utilization of lz4 500mb_xml 524288 threads: [Errno 2] Unable to synchronously open file (unable to open file: name = '../data/compare/rtx2080ti/output_lz4_500mb_xml_524288threads.h5', errno = 2, error message = 'No such file or directory', flags = 0, o_flags = 0)\n",
      "../data/compare/rtx2080ti/output_lz4_500mb_xml_2097152threads.h5\n",
      "Failed getting utilization of lz4 500mb_xml 2097152 threads: [Errno 2] Unable to synchronously open file (unable to open file: name = '../data/compare/rtx2080ti/output_lz4_500mb_xml_2097152threads.h5', errno = 2, error message = 'No such file or directory', flags = 0, o_flags = 0)\n",
      "../data/compare/rtx2080ti/output_lz4_500mb_xml_8388608threads.h5\n",
      "Failed getting utilization of lz4 500mb_xml 8388608 threads: [Errno 2] Unable to synchronously open file (unable to open file: name = '../data/compare/rtx2080ti/output_lz4_500mb_xml_8388608threads.h5', errno = 2, error message = 'No such file or directory', flags = 0, o_flags = 0)\n",
      "../data/compare/rtx2080ti/output_cascaded_500mb_xml_8threads.h5\n",
      "../data/compare/rtx2080ti/output_cascaded_500mb_xml_32threads.h5\n",
      "../data/compare/rtx2080ti/output_cascaded_500mb_xml_128threads.h5\n",
      "../data/compare/rtx2080ti/output_cascaded_500mb_xml_512threads.h5\n",
      "../data/compare/rtx2080ti/output_cascaded_500mb_xml_2048threads.h5\n",
      "../data/compare/rtx2080ti/output_cascaded_500mb_xml_8192threads.h5\n",
      "../data/compare/rtx2080ti/output_cascaded_500mb_xml_32768threads.h5\n",
      "../data/compare/rtx2080ti/output_cascaded_500mb_xml_131072threads.h5\n",
      "../data/compare/rtx2080ti/output_cascaded_500mb_xml_524288threads.h5\n",
      "Failed getting utilization of cascaded 500mb_xml 524288 threads: [Errno 2] Unable to synchronously open file (unable to open file: name = '../data/compare/rtx2080ti/output_cascaded_500mb_xml_524288threads.h5', errno = 2, error message = 'No such file or directory', flags = 0, o_flags = 0)\n",
      "../data/compare/rtx2080ti/output_cascaded_500mb_xml_2097152threads.h5\n",
      "Failed getting utilization of cascaded 500mb_xml 2097152 threads: [Errno 2] Unable to synchronously open file (unable to open file: name = '../data/compare/rtx2080ti/output_cascaded_500mb_xml_2097152threads.h5', errno = 2, error message = 'No such file or directory', flags = 0, o_flags = 0)\n",
      "../data/compare/rtx2080ti/output_cascaded_500mb_xml_8388608threads.h5\n",
      "Failed getting utilization of cascaded 500mb_xml 8388608 threads: [Errno 2] Unable to synchronously open file (unable to open file: name = '../data/compare/rtx2080ti/output_cascaded_500mb_xml_8388608threads.h5', errno = 2, error message = 'No such file or directory', flags = 0, o_flags = 0)\n",
      "../data/compare/rtx2080ti/output_bitcomp_500mb_xml_8threads.h5\n",
      "../data/compare/rtx2080ti/output_bitcomp_500mb_xml_32threads.h5\n",
      "../data/compare/rtx2080ti/output_bitcomp_500mb_xml_128threads.h5\n",
      "../data/compare/rtx2080ti/output_bitcomp_500mb_xml_512threads.h5\n",
      "../data/compare/rtx2080ti/output_bitcomp_500mb_xml_2048threads.h5\n",
      "../data/compare/rtx2080ti/output_bitcomp_500mb_xml_8192threads.h5\n",
      "../data/compare/rtx2080ti/output_bitcomp_500mb_xml_32768threads.h5\n",
      "../data/compare/rtx2080ti/output_bitcomp_500mb_xml_131072threads.h5\n",
      "../data/compare/rtx2080ti/output_bitcomp_500mb_xml_524288threads.h5\n",
      "Failed getting utilization of bitcomp 500mb_xml 524288 threads: [Errno 2] Unable to synchronously open file (unable to open file: name = '../data/compare/rtx2080ti/output_bitcomp_500mb_xml_524288threads.h5', errno = 2, error message = 'No such file or directory', flags = 0, o_flags = 0)\n",
      "../data/compare/rtx2080ti/output_bitcomp_500mb_xml_2097152threads.h5\n",
      "Failed getting utilization of bitcomp 500mb_xml 2097152 threads: [Errno 2] Unable to synchronously open file (unable to open file: name = '../data/compare/rtx2080ti/output_bitcomp_500mb_xml_2097152threads.h5', errno = 2, error message = 'No such file or directory', flags = 0, o_flags = 0)\n",
      "../data/compare/rtx2080ti/output_bitcomp_500mb_xml_8388608threads.h5\n",
      "Failed getting utilization of bitcomp 500mb_xml 8388608 threads: [Errno 2] Unable to synchronously open file (unable to open file: name = '../data/compare/rtx2080ti/output_bitcomp_500mb_xml_8388608threads.h5', errno = 2, error message = 'No such file or directory', flags = 0, o_flags = 0)\n",
      "../data/compare/rtx2080ti/output_snappy_500mb_lineitem.parquet_8threads.h5\n",
      "Failed getting utilization of snappy 500mb_lineitem.parquet 8 threads: [Errno 2] Unable to synchronously open file (unable to open file: name = '../data/compare/rtx2080ti/output_snappy_500mb_lineitem.parquet_8threads.h5', errno = 2, error message = 'No such file or directory', flags = 0, o_flags = 0)\n",
      "../data/compare/rtx2080ti/output_snappy_500mb_lineitem.parquet_32threads.h5\n",
      "Failed getting utilization of snappy 500mb_lineitem.parquet 32 threads: [Errno 2] Unable to synchronously open file (unable to open file: name = '../data/compare/rtx2080ti/output_snappy_500mb_lineitem.parquet_32threads.h5', errno = 2, error message = 'No such file or directory', flags = 0, o_flags = 0)\n",
      "../data/compare/rtx2080ti/output_snappy_500mb_lineitem.parquet_128threads.h5\n",
      "Failed getting utilization of snappy 500mb_lineitem.parquet 128 threads: [Errno 2] Unable to synchronously open file (unable to open file: name = '../data/compare/rtx2080ti/output_snappy_500mb_lineitem.parquet_128threads.h5', errno = 2, error message = 'No such file or directory', flags = 0, o_flags = 0)\n",
      "../data/compare/rtx2080ti/output_snappy_500mb_lineitem.parquet_512threads.h5\n",
      "Failed getting utilization of snappy 500mb_lineitem.parquet 512 threads: [Errno 2] Unable to synchronously open file (unable to open file: name = '../data/compare/rtx2080ti/output_snappy_500mb_lineitem.parquet_512threads.h5', errno = 2, error message = 'No such file or directory', flags = 0, o_flags = 0)\n",
      "../data/compare/rtx2080ti/output_snappy_500mb_lineitem.parquet_2048threads.h5\n",
      "Failed getting utilization of snappy 500mb_lineitem.parquet 2048 threads: [Errno 2] Unable to synchronously open file (unable to open file: name = '../data/compare/rtx2080ti/output_snappy_500mb_lineitem.parquet_2048threads.h5', errno = 2, error message = 'No such file or directory', flags = 0, o_flags = 0)\n",
      "../data/compare/rtx2080ti/output_snappy_500mb_lineitem.parquet_8192threads.h5\n",
      "Failed getting utilization of snappy 500mb_lineitem.parquet 8192 threads: [Errno 2] Unable to synchronously open file (unable to open file: name = '../data/compare/rtx2080ti/output_snappy_500mb_lineitem.parquet_8192threads.h5', errno = 2, error message = 'No such file or directory', flags = 0, o_flags = 0)\n",
      "../data/compare/rtx2080ti/output_snappy_500mb_lineitem.parquet_32768threads.h5\n",
      "Failed getting utilization of snappy 500mb_lineitem.parquet 32768 threads: [Errno 2] Unable to synchronously open file (unable to open file: name = '../data/compare/rtx2080ti/output_snappy_500mb_lineitem.parquet_32768threads.h5', errno = 2, error message = 'No such file or directory', flags = 0, o_flags = 0)\n",
      "../data/compare/rtx2080ti/output_snappy_500mb_lineitem.parquet_131072threads.h5\n",
      "Failed getting utilization of snappy 500mb_lineitem.parquet 131072 threads: [Errno 2] Unable to synchronously open file (unable to open file: name = '../data/compare/rtx2080ti/output_snappy_500mb_lineitem.parquet_131072threads.h5', errno = 2, error message = 'No such file or directory', flags = 0, o_flags = 0)\n",
      "../data/compare/rtx2080ti/output_snappy_500mb_lineitem.parquet_524288threads.h5\n",
      "Failed getting utilization of snappy 500mb_lineitem.parquet 524288 threads: [Errno 2] Unable to synchronously open file (unable to open file: name = '../data/compare/rtx2080ti/output_snappy_500mb_lineitem.parquet_524288threads.h5', errno = 2, error message = 'No such file or directory', flags = 0, o_flags = 0)\n",
      "../data/compare/rtx2080ti/output_snappy_500mb_lineitem.parquet_2097152threads.h5\n",
      "Failed getting utilization of snappy 500mb_lineitem.parquet 2097152 threads: [Errno 2] Unable to synchronously open file (unable to open file: name = '../data/compare/rtx2080ti/output_snappy_500mb_lineitem.parquet_2097152threads.h5', errno = 2, error message = 'No such file or directory', flags = 0, o_flags = 0)\n",
      "../data/compare/rtx2080ti/output_snappy_500mb_lineitem.parquet_8388608threads.h5\n",
      "Failed getting utilization of snappy 500mb_lineitem.parquet 8388608 threads: [Errno 2] Unable to synchronously open file (unable to open file: name = '../data/compare/rtx2080ti/output_snappy_500mb_lineitem.parquet_8388608threads.h5', errno = 2, error message = 'No such file or directory', flags = 0, o_flags = 0)\n",
      "../data/compare/rtx2080ti/output_zstd_500mb_lineitem.parquet_8threads.h5\n",
      "Failed getting utilization of zstd 500mb_lineitem.parquet 8 threads: [Errno 2] Unable to synchronously open file (unable to open file: name = '../data/compare/rtx2080ti/output_zstd_500mb_lineitem.parquet_8threads.h5', errno = 2, error message = 'No such file or directory', flags = 0, o_flags = 0)\n",
      "../data/compare/rtx2080ti/output_zstd_500mb_lineitem.parquet_32threads.h5\n",
      "Failed getting utilization of zstd 500mb_lineitem.parquet 32 threads: [Errno 2] Unable to synchronously open file (unable to open file: name = '../data/compare/rtx2080ti/output_zstd_500mb_lineitem.parquet_32threads.h5', errno = 2, error message = 'No such file or directory', flags = 0, o_flags = 0)\n",
      "../data/compare/rtx2080ti/output_zstd_500mb_lineitem.parquet_128threads.h5\n",
      "Failed getting utilization of zstd 500mb_lineitem.parquet 128 threads: [Errno 2] Unable to synchronously open file (unable to open file: name = '../data/compare/rtx2080ti/output_zstd_500mb_lineitem.parquet_128threads.h5', errno = 2, error message = 'No such file or directory', flags = 0, o_flags = 0)\n",
      "../data/compare/rtx2080ti/output_zstd_500mb_lineitem.parquet_512threads.h5\n",
      "Failed getting utilization of zstd 500mb_lineitem.parquet 512 threads: [Errno 2] Unable to synchronously open file (unable to open file: name = '../data/compare/rtx2080ti/output_zstd_500mb_lineitem.parquet_512threads.h5', errno = 2, error message = 'No such file or directory', flags = 0, o_flags = 0)\n",
      "../data/compare/rtx2080ti/output_zstd_500mb_lineitem.parquet_2048threads.h5\n",
      "Failed getting utilization of zstd 500mb_lineitem.parquet 2048 threads: [Errno 2] Unable to synchronously open file (unable to open file: name = '../data/compare/rtx2080ti/output_zstd_500mb_lineitem.parquet_2048threads.h5', errno = 2, error message = 'No such file or directory', flags = 0, o_flags = 0)\n",
      "../data/compare/rtx2080ti/output_zstd_500mb_lineitem.parquet_8192threads.h5\n",
      "Failed getting utilization of zstd 500mb_lineitem.parquet 8192 threads: [Errno 2] Unable to synchronously open file (unable to open file: name = '../data/compare/rtx2080ti/output_zstd_500mb_lineitem.parquet_8192threads.h5', errno = 2, error message = 'No such file or directory', flags = 0, o_flags = 0)\n",
      "../data/compare/rtx2080ti/output_zstd_500mb_lineitem.parquet_32768threads.h5\n",
      "Failed getting utilization of zstd 500mb_lineitem.parquet 32768 threads: [Errno 2] Unable to synchronously open file (unable to open file: name = '../data/compare/rtx2080ti/output_zstd_500mb_lineitem.parquet_32768threads.h5', errno = 2, error message = 'No such file or directory', flags = 0, o_flags = 0)\n",
      "../data/compare/rtx2080ti/output_zstd_500mb_lineitem.parquet_131072threads.h5\n",
      "Failed getting utilization of zstd 500mb_lineitem.parquet 131072 threads: [Errno 2] Unable to synchronously open file (unable to open file: name = '../data/compare/rtx2080ti/output_zstd_500mb_lineitem.parquet_131072threads.h5', errno = 2, error message = 'No such file or directory', flags = 0, o_flags = 0)\n",
      "../data/compare/rtx2080ti/output_zstd_500mb_lineitem.parquet_524288threads.h5\n",
      "Failed getting utilization of zstd 500mb_lineitem.parquet 524288 threads: [Errno 2] Unable to synchronously open file (unable to open file: name = '../data/compare/rtx2080ti/output_zstd_500mb_lineitem.parquet_524288threads.h5', errno = 2, error message = 'No such file or directory', flags = 0, o_flags = 0)\n",
      "../data/compare/rtx2080ti/output_zstd_500mb_lineitem.parquet_2097152threads.h5\n",
      "Failed getting utilization of zstd 500mb_lineitem.parquet 2097152 threads: [Errno 2] Unable to synchronously open file (unable to open file: name = '../data/compare/rtx2080ti/output_zstd_500mb_lineitem.parquet_2097152threads.h5', errno = 2, error message = 'No such file or directory', flags = 0, o_flags = 0)\n",
      "../data/compare/rtx2080ti/output_zstd_500mb_lineitem.parquet_8388608threads.h5\n",
      "Failed getting utilization of zstd 500mb_lineitem.parquet 8388608 threads: [Errno 2] Unable to synchronously open file (unable to open file: name = '../data/compare/rtx2080ti/output_zstd_500mb_lineitem.parquet_8388608threads.h5', errno = 2, error message = 'No such file or directory', flags = 0, o_flags = 0)\n",
      "../data/compare/rtx2080ti/output_gdeflate_500mb_lineitem.parquet_8threads.h5\n",
      "Failed getting utilization of gdeflate 500mb_lineitem.parquet 8 threads: Index(...) must be called with a collection of some kind, 'category' was passed\n",
      "../data/compare/rtx2080ti/output_gdeflate_500mb_lineitem.parquet_32threads.h5\n",
      "Failed getting utilization of gdeflate 500mb_lineitem.parquet 32 threads: Index(...) must be called with a collection of some kind, 'category' was passed\n",
      "../data/compare/rtx2080ti/output_gdeflate_500mb_lineitem.parquet_128threads.h5\n",
      "Failed getting utilization of gdeflate 500mb_lineitem.parquet 128 threads: Index(...) must be called with a collection of some kind, 'category' was passed\n",
      "../data/compare/rtx2080ti/output_gdeflate_500mb_lineitem.parquet_512threads.h5\n",
      "Failed getting utilization of gdeflate 500mb_lineitem.parquet 512 threads: Index(...) must be called with a collection of some kind, 'category' was passed\n",
      "../data/compare/rtx2080ti/output_gdeflate_500mb_lineitem.parquet_2048threads.h5\n",
      "Failed getting utilization of gdeflate 500mb_lineitem.parquet 2048 threads: Index(...) must be called with a collection of some kind, 'category' was passed\n",
      "../data/compare/rtx2080ti/output_gdeflate_500mb_lineitem.parquet_8192threads.h5\n",
      "Failed getting utilization of gdeflate 500mb_lineitem.parquet 8192 threads: Index(...) must be called with a collection of some kind, 'category' was passed\n",
      "../data/compare/rtx2080ti/output_gdeflate_500mb_lineitem.parquet_32768threads.h5\n",
      "Failed getting utilization of gdeflate 500mb_lineitem.parquet 32768 threads: 'compress'\n",
      "../data/compare/rtx2080ti/output_gdeflate_500mb_lineitem.parquet_131072threads.h5\n",
      "Failed getting utilization of gdeflate 500mb_lineitem.parquet 131072 threads: 'compress'\n",
      "../data/compare/rtx2080ti/output_gdeflate_500mb_lineitem.parquet_524288threads.h5\n",
      "Failed getting utilization of gdeflate 500mb_lineitem.parquet 524288 threads: [Errno 2] Unable to synchronously open file (unable to open file: name = '../data/compare/rtx2080ti/output_gdeflate_500mb_lineitem.parquet_524288threads.h5', errno = 2, error message = 'No such file or directory', flags = 0, o_flags = 0)\n",
      "../data/compare/rtx2080ti/output_gdeflate_500mb_lineitem.parquet_2097152threads.h5\n",
      "Failed getting utilization of gdeflate 500mb_lineitem.parquet 2097152 threads: [Errno 2] Unable to synchronously open file (unable to open file: name = '../data/compare/rtx2080ti/output_gdeflate_500mb_lineitem.parquet_2097152threads.h5', errno = 2, error message = 'No such file or directory', flags = 0, o_flags = 0)\n",
      "../data/compare/rtx2080ti/output_gdeflate_500mb_lineitem.parquet_8388608threads.h5\n",
      "Failed getting utilization of gdeflate 500mb_lineitem.parquet 8388608 threads: [Errno 2] Unable to synchronously open file (unable to open file: name = '../data/compare/rtx2080ti/output_gdeflate_500mb_lineitem.parquet_8388608threads.h5', errno = 2, error message = 'No such file or directory', flags = 0, o_flags = 0)\n",
      "../data/compare/rtx2080ti/output_lz4_500mb_lineitem.parquet_8threads.h5\n",
      "Failed getting utilization of lz4 500mb_lineitem.parquet 8 threads: [Errno 2] Unable to synchronously open file (unable to open file: name = '../data/compare/rtx2080ti/output_lz4_500mb_lineitem.parquet_8threads.h5', errno = 2, error message = 'No such file or directory', flags = 0, o_flags = 0)\n",
      "../data/compare/rtx2080ti/output_lz4_500mb_lineitem.parquet_32threads.h5\n",
      "Failed getting utilization of lz4 500mb_lineitem.parquet 32 threads: [Errno 2] Unable to synchronously open file (unable to open file: name = '../data/compare/rtx2080ti/output_lz4_500mb_lineitem.parquet_32threads.h5', errno = 2, error message = 'No such file or directory', flags = 0, o_flags = 0)\n",
      "../data/compare/rtx2080ti/output_lz4_500mb_lineitem.parquet_128threads.h5\n",
      "Failed getting utilization of lz4 500mb_lineitem.parquet 128 threads: [Errno 2] Unable to synchronously open file (unable to open file: name = '../data/compare/rtx2080ti/output_lz4_500mb_lineitem.parquet_128threads.h5', errno = 2, error message = 'No such file or directory', flags = 0, o_flags = 0)\n",
      "../data/compare/rtx2080ti/output_lz4_500mb_lineitem.parquet_512threads.h5\n",
      "Failed getting utilization of lz4 500mb_lineitem.parquet 512 threads: [Errno 2] Unable to synchronously open file (unable to open file: name = '../data/compare/rtx2080ti/output_lz4_500mb_lineitem.parquet_512threads.h5', errno = 2, error message = 'No such file or directory', flags = 0, o_flags = 0)\n",
      "../data/compare/rtx2080ti/output_lz4_500mb_lineitem.parquet_2048threads.h5\n",
      "Failed getting utilization of lz4 500mb_lineitem.parquet 2048 threads: [Errno 2] Unable to synchronously open file (unable to open file: name = '../data/compare/rtx2080ti/output_lz4_500mb_lineitem.parquet_2048threads.h5', errno = 2, error message = 'No such file or directory', flags = 0, o_flags = 0)\n",
      "../data/compare/rtx2080ti/output_lz4_500mb_lineitem.parquet_8192threads.h5\n",
      "Failed getting utilization of lz4 500mb_lineitem.parquet 8192 threads: [Errno 2] Unable to synchronously open file (unable to open file: name = '../data/compare/rtx2080ti/output_lz4_500mb_lineitem.parquet_8192threads.h5', errno = 2, error message = 'No such file or directory', flags = 0, o_flags = 0)\n",
      "../data/compare/rtx2080ti/output_lz4_500mb_lineitem.parquet_32768threads.h5\n",
      "Failed getting utilization of lz4 500mb_lineitem.parquet 32768 threads: [Errno 2] Unable to synchronously open file (unable to open file: name = '../data/compare/rtx2080ti/output_lz4_500mb_lineitem.parquet_32768threads.h5', errno = 2, error message = 'No such file or directory', flags = 0, o_flags = 0)\n",
      "../data/compare/rtx2080ti/output_lz4_500mb_lineitem.parquet_131072threads.h5\n",
      "Failed getting utilization of lz4 500mb_lineitem.parquet 131072 threads: [Errno 2] Unable to synchronously open file (unable to open file: name = '../data/compare/rtx2080ti/output_lz4_500mb_lineitem.parquet_131072threads.h5', errno = 2, error message = 'No such file or directory', flags = 0, o_flags = 0)\n",
      "../data/compare/rtx2080ti/output_lz4_500mb_lineitem.parquet_524288threads.h5\n",
      "Failed getting utilization of lz4 500mb_lineitem.parquet 524288 threads: [Errno 2] Unable to synchronously open file (unable to open file: name = '../data/compare/rtx2080ti/output_lz4_500mb_lineitem.parquet_524288threads.h5', errno = 2, error message = 'No such file or directory', flags = 0, o_flags = 0)\n",
      "../data/compare/rtx2080ti/output_lz4_500mb_lineitem.parquet_2097152threads.h5\n",
      "Failed getting utilization of lz4 500mb_lineitem.parquet 2097152 threads: [Errno 2] Unable to synchronously open file (unable to open file: name = '../data/compare/rtx2080ti/output_lz4_500mb_lineitem.parquet_2097152threads.h5', errno = 2, error message = 'No such file or directory', flags = 0, o_flags = 0)\n",
      "../data/compare/rtx2080ti/output_lz4_500mb_lineitem.parquet_8388608threads.h5\n",
      "Failed getting utilization of lz4 500mb_lineitem.parquet 8388608 threads: [Errno 2] Unable to synchronously open file (unable to open file: name = '../data/compare/rtx2080ti/output_lz4_500mb_lineitem.parquet_8388608threads.h5', errno = 2, error message = 'No such file or directory', flags = 0, o_flags = 0)\n",
      "../data/compare/rtx2080ti/output_cascaded_500mb_lineitem.parquet_8threads.h5\n",
      "Failed getting utilization of cascaded 500mb_lineitem.parquet 8 threads: [Errno 2] Unable to synchronously open file (unable to open file: name = '../data/compare/rtx2080ti/output_cascaded_500mb_lineitem.parquet_8threads.h5', errno = 2, error message = 'No such file or directory', flags = 0, o_flags = 0)\n",
      "../data/compare/rtx2080ti/output_cascaded_500mb_lineitem.parquet_32threads.h5\n",
      "Failed getting utilization of cascaded 500mb_lineitem.parquet 32 threads: [Errno 2] Unable to synchronously open file (unable to open file: name = '../data/compare/rtx2080ti/output_cascaded_500mb_lineitem.parquet_32threads.h5', errno = 2, error message = 'No such file or directory', flags = 0, o_flags = 0)\n",
      "../data/compare/rtx2080ti/output_cascaded_500mb_lineitem.parquet_128threads.h5\n",
      "Failed getting utilization of cascaded 500mb_lineitem.parquet 128 threads: [Errno 2] Unable to synchronously open file (unable to open file: name = '../data/compare/rtx2080ti/output_cascaded_500mb_lineitem.parquet_128threads.h5', errno = 2, error message = 'No such file or directory', flags = 0, o_flags = 0)\n",
      "../data/compare/rtx2080ti/output_cascaded_500mb_lineitem.parquet_512threads.h5\n",
      "Failed getting utilization of cascaded 500mb_lineitem.parquet 512 threads: [Errno 2] Unable to synchronously open file (unable to open file: name = '../data/compare/rtx2080ti/output_cascaded_500mb_lineitem.parquet_512threads.h5', errno = 2, error message = 'No such file or directory', flags = 0, o_flags = 0)\n",
      "../data/compare/rtx2080ti/output_cascaded_500mb_lineitem.parquet_2048threads.h5\n",
      "Failed getting utilization of cascaded 500mb_lineitem.parquet 2048 threads: [Errno 2] Unable to synchronously open file (unable to open file: name = '../data/compare/rtx2080ti/output_cascaded_500mb_lineitem.parquet_2048threads.h5', errno = 2, error message = 'No such file or directory', flags = 0, o_flags = 0)\n",
      "../data/compare/rtx2080ti/output_cascaded_500mb_lineitem.parquet_8192threads.h5\n",
      "Failed getting utilization of cascaded 500mb_lineitem.parquet 8192 threads: [Errno 2] Unable to synchronously open file (unable to open file: name = '../data/compare/rtx2080ti/output_cascaded_500mb_lineitem.parquet_8192threads.h5', errno = 2, error message = 'No such file or directory', flags = 0, o_flags = 0)\n",
      "../data/compare/rtx2080ti/output_cascaded_500mb_lineitem.parquet_32768threads.h5\n",
      "Failed getting utilization of cascaded 500mb_lineitem.parquet 32768 threads: [Errno 2] Unable to synchronously open file (unable to open file: name = '../data/compare/rtx2080ti/output_cascaded_500mb_lineitem.parquet_32768threads.h5', errno = 2, error message = 'No such file or directory', flags = 0, o_flags = 0)\n",
      "../data/compare/rtx2080ti/output_cascaded_500mb_lineitem.parquet_131072threads.h5\n",
      "Failed getting utilization of cascaded 500mb_lineitem.parquet 131072 threads: [Errno 2] Unable to synchronously open file (unable to open file: name = '../data/compare/rtx2080ti/output_cascaded_500mb_lineitem.parquet_131072threads.h5', errno = 2, error message = 'No such file or directory', flags = 0, o_flags = 0)\n",
      "../data/compare/rtx2080ti/output_cascaded_500mb_lineitem.parquet_524288threads.h5\n",
      "Failed getting utilization of cascaded 500mb_lineitem.parquet 524288 threads: [Errno 2] Unable to synchronously open file (unable to open file: name = '../data/compare/rtx2080ti/output_cascaded_500mb_lineitem.parquet_524288threads.h5', errno = 2, error message = 'No such file or directory', flags = 0, o_flags = 0)\n",
      "../data/compare/rtx2080ti/output_cascaded_500mb_lineitem.parquet_2097152threads.h5\n",
      "Failed getting utilization of cascaded 500mb_lineitem.parquet 2097152 threads: [Errno 2] Unable to synchronously open file (unable to open file: name = '../data/compare/rtx2080ti/output_cascaded_500mb_lineitem.parquet_2097152threads.h5', errno = 2, error message = 'No such file or directory', flags = 0, o_flags = 0)\n",
      "../data/compare/rtx2080ti/output_cascaded_500mb_lineitem.parquet_8388608threads.h5\n",
      "Failed getting utilization of cascaded 500mb_lineitem.parquet 8388608 threads: [Errno 2] Unable to synchronously open file (unable to open file: name = '../data/compare/rtx2080ti/output_cascaded_500mb_lineitem.parquet_8388608threads.h5', errno = 2, error message = 'No such file or directory', flags = 0, o_flags = 0)\n",
      "../data/compare/rtx2080ti/output_bitcomp_500mb_lineitem.parquet_8threads.h5\n",
      "Failed getting utilization of bitcomp 500mb_lineitem.parquet 8 threads: [Errno 2] Unable to synchronously open file (unable to open file: name = '../data/compare/rtx2080ti/output_bitcomp_500mb_lineitem.parquet_8threads.h5', errno = 2, error message = 'No such file or directory', flags = 0, o_flags = 0)\n",
      "../data/compare/rtx2080ti/output_bitcomp_500mb_lineitem.parquet_32threads.h5\n",
      "Failed getting utilization of bitcomp 500mb_lineitem.parquet 32 threads: [Errno 2] Unable to synchronously open file (unable to open file: name = '../data/compare/rtx2080ti/output_bitcomp_500mb_lineitem.parquet_32threads.h5', errno = 2, error message = 'No such file or directory', flags = 0, o_flags = 0)\n",
      "../data/compare/rtx2080ti/output_bitcomp_500mb_lineitem.parquet_128threads.h5\n",
      "Failed getting utilization of bitcomp 500mb_lineitem.parquet 128 threads: [Errno 2] Unable to synchronously open file (unable to open file: name = '../data/compare/rtx2080ti/output_bitcomp_500mb_lineitem.parquet_128threads.h5', errno = 2, error message = 'No such file or directory', flags = 0, o_flags = 0)\n",
      "../data/compare/rtx2080ti/output_bitcomp_500mb_lineitem.parquet_512threads.h5\n",
      "Failed getting utilization of bitcomp 500mb_lineitem.parquet 512 threads: [Errno 2] Unable to synchronously open file (unable to open file: name = '../data/compare/rtx2080ti/output_bitcomp_500mb_lineitem.parquet_512threads.h5', errno = 2, error message = 'No such file or directory', flags = 0, o_flags = 0)\n",
      "../data/compare/rtx2080ti/output_bitcomp_500mb_lineitem.parquet_2048threads.h5\n",
      "Failed getting utilization of bitcomp 500mb_lineitem.parquet 2048 threads: [Errno 2] Unable to synchronously open file (unable to open file: name = '../data/compare/rtx2080ti/output_bitcomp_500mb_lineitem.parquet_2048threads.h5', errno = 2, error message = 'No such file or directory', flags = 0, o_flags = 0)\n",
      "../data/compare/rtx2080ti/output_bitcomp_500mb_lineitem.parquet_8192threads.h5\n",
      "Failed getting utilization of bitcomp 500mb_lineitem.parquet 8192 threads: [Errno 2] Unable to synchronously open file (unable to open file: name = '../data/compare/rtx2080ti/output_bitcomp_500mb_lineitem.parquet_8192threads.h5', errno = 2, error message = 'No such file or directory', flags = 0, o_flags = 0)\n",
      "../data/compare/rtx2080ti/output_bitcomp_500mb_lineitem.parquet_32768threads.h5\n",
      "Failed getting utilization of bitcomp 500mb_lineitem.parquet 32768 threads: [Errno 2] Unable to synchronously open file (unable to open file: name = '../data/compare/rtx2080ti/output_bitcomp_500mb_lineitem.parquet_32768threads.h5', errno = 2, error message = 'No such file or directory', flags = 0, o_flags = 0)\n",
      "../data/compare/rtx2080ti/output_bitcomp_500mb_lineitem.parquet_131072threads.h5\n",
      "Failed getting utilization of bitcomp 500mb_lineitem.parquet 131072 threads: [Errno 2] Unable to synchronously open file (unable to open file: name = '../data/compare/rtx2080ti/output_bitcomp_500mb_lineitem.parquet_131072threads.h5', errno = 2, error message = 'No such file or directory', flags = 0, o_flags = 0)\n",
      "../data/compare/rtx2080ti/output_bitcomp_500mb_lineitem.parquet_524288threads.h5\n",
      "Failed getting utilization of bitcomp 500mb_lineitem.parquet 524288 threads: [Errno 2] Unable to synchronously open file (unable to open file: name = '../data/compare/rtx2080ti/output_bitcomp_500mb_lineitem.parquet_524288threads.h5', errno = 2, error message = 'No such file or directory', flags = 0, o_flags = 0)\n",
      "../data/compare/rtx2080ti/output_bitcomp_500mb_lineitem.parquet_2097152threads.h5\n",
      "Failed getting utilization of bitcomp 500mb_lineitem.parquet 2097152 threads: [Errno 2] Unable to synchronously open file (unable to open file: name = '../data/compare/rtx2080ti/output_bitcomp_500mb_lineitem.parquet_2097152threads.h5', errno = 2, error message = 'No such file or directory', flags = 0, o_flags = 0)\n",
      "../data/compare/rtx2080ti/output_bitcomp_500mb_lineitem.parquet_8388608threads.h5\n",
      "Failed getting utilization of bitcomp 500mb_lineitem.parquet 8388608 threads: [Errno 2] Unable to synchronously open file (unable to open file: name = '../data/compare/rtx2080ti/output_bitcomp_500mb_lineitem.parquet_8388608threads.h5', errno = 2, error message = 'No such file or directory', flags = 0, o_flags = 0)\n",
      "    standard  chunk_size           file  compression_utilization  \\\n",
      "0     snappy    65536000  500mb_dickens                 1.000000   \n",
      "1     snappy    16384000  500mb_dickens                 1.000000   \n",
      "2     snappy     4096000  500mb_dickens                 1.000000   \n",
      "3     snappy     1024000  500mb_dickens                 1.000000   \n",
      "4     snappy      256000  500mb_dickens                 2.896454   \n",
      "..       ...         ...            ...                      ...   \n",
      "303  bitcomp     1024000      500mb_xml                 0.991301   \n",
      "304  bitcomp      256000      500mb_xml                 1.823176   \n",
      "305  bitcomp       64000      500mb_xml                 6.012931   \n",
      "306  bitcomp       16000      500mb_xml                 1.593547   \n",
      "307  bitcomp        4000      500mb_xml                 2.463715   \n",
      "\n",
      "     decompression_utilization  \n",
      "0                     0.999978  \n",
      "1                     0.999978  \n",
      "2                     1.000225  \n",
      "3                     1.000000  \n",
      "4                     1.946668  \n",
      "..                         ...  \n",
      "303                   1.696566  \n",
      "304                   2.697940  \n",
      "305                  -1.000000  \n",
      "306                   1.000000  \n",
      "307                   2.000000  \n",
      "\n",
      "[308 rows x 5 columns]\n"
     ]
    }
   ],
   "source": [
    "# Generate dataframe with utilization data\n",
    "\n",
    "result_df = nsys_reader.NsysScanner(input_dir, FILE_SIZE).get_utilisation_df(compression_files, compressors, approx_number_of_threads)\n",
    "\n",
    "\n",
    "print(result_df)\n"
   ]
  },
  {
   "cell_type": "code",
   "execution_count": 30,
   "metadata": {},
   "outputs": [
    {
     "data": {
      "application/vnd.plotly.v1+json": {
       "config": {
        "plotlyServerURL": "https://plot.ly"
       },
       "data": [
        {
         "hovertemplate": "file=500mb_dickens<br>standard=snappy<br>chunk_size=%{x}<br>compression_utilization=%{y}<extra></extra>",
         "legendgroup": "500mb_dickens",
         "line": {
          "color": "#636efa",
          "dash": "solid"
         },
         "marker": {
          "symbol": "circle"
         },
         "mode": "lines+markers",
         "name": "500mb_dickens",
         "orientation": "v",
         "showlegend": true,
         "type": "scatter",
         "x": [
          65536000,
          16384000,
          4096000,
          1024000,
          256000,
          64000,
          16000,
          4000
         ],
         "xaxis": "x6",
         "y": [
          1,
          1,
          1,
          1,
          2.896453985879533,
          11.01350328204337,
          35.27354650286646,
          42.962988075823645
         ],
         "yaxis": "y6"
        },
        {
         "hovertemplate": "file=500mb_dickens<br>standard=zstd<br>chunk_size=%{x}<br>compression_utilization=%{y}<extra></extra>",
         "legendgroup": "500mb_dickens",
         "line": {
          "color": "#636efa",
          "dash": "solid"
         },
         "marker": {
          "symbol": "circle"
         },
         "mode": "lines+markers",
         "name": "500mb_dickens",
         "orientation": "v",
         "showlegend": false,
         "type": "scatter",
         "x": [
          65536000,
          16384000,
          4096000,
          1024000,
          256000,
          64000,
          16000,
          4000
         ],
         "xaxis": "x5",
         "y": [
          0.9999900848348572,
          0.9999897404926678,
          0.9999696251756912,
          0.9989471410709987,
          2.630331989967938,
          3.9500494602697924,
          14.457074466765686,
          21.24142324356418
         ],
         "yaxis": "y5"
        },
        {
         "hovertemplate": "file=500mb_dickens<br>standard=gdeflate<br>chunk_size=%{x}<br>compression_utilization=%{y}<extra></extra>",
         "legendgroup": "500mb_dickens",
         "line": {
          "color": "#636efa",
          "dash": "solid"
         },
         "marker": {
          "symbol": "circle"
         },
         "mode": "lines+markers",
         "name": "500mb_dickens",
         "orientation": "v",
         "showlegend": false,
         "type": "scatter",
         "x": [
          64000,
          16000,
          4000
         ],
         "xaxis": "x4",
         "y": [
          6.530477241835298,
          19.20223508297439,
          30.880254017111262
         ],
         "yaxis": "y4"
        },
        {
         "hovertemplate": "file=500mb_dickens<br>standard=lz4<br>chunk_size=%{x}<br>compression_utilization=%{y}<extra></extra>",
         "legendgroup": "500mb_dickens",
         "line": {
          "color": "#636efa",
          "dash": "solid"
         },
         "marker": {
          "symbol": "circle"
         },
         "mode": "lines+markers",
         "name": "500mb_dickens",
         "orientation": "v",
         "showlegend": false,
         "type": "scatter",
         "x": [
          65536000,
          16384000,
          4096000,
          1024000,
          256000,
          64000,
          16000,
          4000
         ],
         "xaxis": "x3",
         "y": [
          1,
          1,
          1,
          1,
          2.771206960993373,
          9.51470447651344,
          31.29581423670959,
          35.10637907071154
         ],
         "yaxis": "y3"
        },
        {
         "hovertemplate": "file=500mb_dickens<br>standard=bitcomp<br>chunk_size=%{x}<br>compression_utilization=%{y}<extra></extra>",
         "legendgroup": "500mb_dickens",
         "line": {
          "color": "#636efa",
          "dash": "solid"
         },
         "marker": {
          "symbol": "circle"
         },
         "mode": "lines+markers",
         "name": "500mb_dickens",
         "orientation": "v",
         "showlegend": false,
         "type": "scatter",
         "x": [
          65536000,
          16384000,
          4096000,
          1024000,
          256000,
          64000,
          16000,
          4000
         ],
         "xaxis": "x2",
         "y": [
          0.9987804557261275,
          0.9987913652559774,
          0.9970387742805682,
          0.9882292496386504,
          4.053632656389565,
          13.308176338922594,
          6.71910743355137,
          12.11886306272963
         ],
         "yaxis": "y2"
        },
        {
         "hovertemplate": "file=500mb_mozilla<br>standard=snappy<br>chunk_size=%{x}<br>compression_utilization=%{y}<extra></extra>",
         "legendgroup": "500mb_mozilla",
         "line": {
          "color": "#EF553B",
          "dash": "solid"
         },
         "marker": {
          "symbol": "circle"
         },
         "mode": "lines+markers",
         "name": "500mb_mozilla",
         "orientation": "v",
         "showlegend": true,
         "type": "scatter",
         "x": [
          65536000,
          16384000,
          4096000,
          1024000,
          256000,
          64000,
          16000,
          4000
         ],
         "xaxis": "x6",
         "y": [
          1,
          1,
          1,
          3.073789244641145,
          10.480352299266944,
          33.01613179722545,
          45.164963329243214,
          52.14866174266943
         ],
         "yaxis": "y6"
        },
        {
         "hovertemplate": "file=500mb_mozilla<br>standard=zstd<br>chunk_size=%{x}<br>compression_utilization=%{y}<extra></extra>",
         "legendgroup": "500mb_mozilla",
         "line": {
          "color": "#EF553B",
          "dash": "solid"
         },
         "marker": {
          "symbol": "circle"
         },
         "mode": "lines+markers",
         "name": "500mb_mozilla",
         "orientation": "v",
         "showlegend": false,
         "type": "scatter",
         "x": [
          16384000,
          4096000,
          1024000,
          256000,
          64000,
          16000,
          4000
         ],
         "xaxis": "x5",
         "y": [
          0.999987326913543,
          1.0772946811598278,
          4.017232520184566,
          10.715399452153324,
          16.941879287443555,
          22.780615963105575,
          22.607106603486024
         ],
         "yaxis": "y5"
        },
        {
         "hovertemplate": "file=500mb_mozilla<br>standard=gdeflate<br>chunk_size=%{x}<br>compression_utilization=%{y}<extra></extra>",
         "legendgroup": "500mb_mozilla",
         "line": {
          "color": "#EF553B",
          "dash": "solid"
         },
         "marker": {
          "symbol": "circle"
         },
         "mode": "lines+markers",
         "name": "500mb_mozilla",
         "orientation": "v",
         "showlegend": false,
         "type": "scatter",
         "x": [
          64000,
          16000,
          4000
         ],
         "xaxis": "x4",
         "y": [
          20.400296997747084,
          39.01265745718298,
          54.69875921274345
         ],
         "yaxis": "y4"
        },
        {
         "hovertemplate": "file=500mb_mozilla<br>standard=lz4<br>chunk_size=%{x}<br>compression_utilization=%{y}<extra></extra>",
         "legendgroup": "500mb_mozilla",
         "line": {
          "color": "#EF553B",
          "dash": "solid"
         },
         "marker": {
          "symbol": "circle"
         },
         "mode": "lines+markers",
         "name": "500mb_mozilla",
         "orientation": "v",
         "showlegend": false,
         "type": "scatter",
         "x": [
          16384000,
          4096000,
          1024000,
          256000,
          64000,
          16000,
          4000
         ],
         "xaxis": "x3",
         "y": [
          1,
          1,
          2.810032307571606,
          9.202596080147082,
          27.606827809304818,
          50.09168563508342,
          61.90109827551204
         ],
         "yaxis": "y3"
        },
        {
         "hovertemplate": "file=500mb_mozilla<br>standard=bitcomp<br>chunk_size=%{x}<br>compression_utilization=%{y}<extra></extra>",
         "legendgroup": "500mb_mozilla",
         "line": {
          "color": "#EF553B",
          "dash": "solid"
         },
         "marker": {
          "symbol": "circle"
         },
         "mode": "lines+markers",
         "name": "500mb_mozilla",
         "orientation": "v",
         "showlegend": false,
         "type": "scatter",
         "x": [
          65536000,
          16384000,
          4096000,
          1024000,
          256000,
          64000,
          16000,
          4000
         ],
         "xaxis": "x2",
         "y": [
          0.9995623513860008,
          0.9988988327408737,
          1.4959403780339424,
          4.0382468619717535,
          6.968036969727294,
          13.027577525503695,
          21.361691024971257,
          23.688720025961082
         ],
         "yaxis": "y2"
        },
        {
         "hovertemplate": "file=500mb_mozilla<br>standard=cascaded<br>chunk_size=%{x}<br>compression_utilization=%{y}<extra></extra>",
         "legendgroup": "500mb_mozilla",
         "line": {
          "color": "#EF553B",
          "dash": "solid"
         },
         "marker": {
          "symbol": "circle"
         },
         "mode": "lines+markers",
         "name": "500mb_mozilla",
         "orientation": "v",
         "showlegend": false,
         "type": "scatter",
         "x": [
          65536000,
          16384000,
          4096000,
          1024000,
          256000,
          64000,
          16000,
          4000
         ],
         "xaxis": "x",
         "y": [
          0.9999005353048875,
          0.9997384247049528,
          0.998980138801998,
          3.8898248870391043,
          12.987922567737202,
          19.016861729944317,
          16.77063442112498,
          14.219949544018112
         ],
         "yaxis": "y"
        },
        {
         "hovertemplate": "file=500mb_mr<br>standard=snappy<br>chunk_size=%{x}<br>compression_utilization=%{y}<extra></extra>",
         "legendgroup": "500mb_mr",
         "line": {
          "color": "#00cc96",
          "dash": "solid"
         },
         "marker": {
          "symbol": "circle"
         },
         "mode": "lines+markers",
         "name": "500mb_mr",
         "orientation": "v",
         "showlegend": true,
         "type": "scatter",
         "x": [
          65536000,
          16384000,
          4096000,
          1024000,
          256000,
          64000,
          16000,
          4000
         ],
         "xaxis": "x6",
         "y": [
          1,
          1,
          1,
          1,
          2.2194686833952524,
          8.073895109486173,
          24.31535702423659,
          35.743536396447546
         ],
         "yaxis": "y6"
        },
        {
         "hovertemplate": "file=500mb_mr<br>standard=zstd<br>chunk_size=%{x}<br>compression_utilization=%{y}<extra></extra>",
         "legendgroup": "500mb_mr",
         "line": {
          "color": "#00cc96",
          "dash": "solid"
         },
         "marker": {
          "symbol": "circle"
         },
         "mode": "lines+markers",
         "name": "500mb_mr",
         "orientation": "v",
         "showlegend": false,
         "type": "scatter",
         "x": [
          65536000,
          16384000,
          4096000,
          1024000,
          256000,
          64000,
          16000,
          4000
         ],
         "xaxis": "x5",
         "y": [
          0.9999856204169771,
          0.9999853997073123,
          0.9999775211246433,
          0.9984449978552306,
          2.653434541915371,
          3.872089991538889,
          13.445767565725001,
          19.462786392623393
         ],
         "yaxis": "y5"
        },
        {
         "hovertemplate": "file=500mb_mr<br>standard=gdeflate<br>chunk_size=%{x}<br>compression_utilization=%{y}<extra></extra>",
         "legendgroup": "500mb_mr",
         "line": {
          "color": "#00cc96",
          "dash": "solid"
         },
         "marker": {
          "symbol": "circle"
         },
         "mode": "lines+markers",
         "name": "500mb_mr",
         "orientation": "v",
         "showlegend": false,
         "type": "scatter",
         "x": [
          64000,
          16000,
          4000
         ],
         "xaxis": "x4",
         "y": [
          6.291051828320235,
          20.359457815823305,
          30.225899578290544
         ],
         "yaxis": "y4"
        },
        {
         "hovertemplate": "file=500mb_mr<br>standard=lz4<br>chunk_size=%{x}<br>compression_utilization=%{y}<extra></extra>",
         "legendgroup": "500mb_mr",
         "line": {
          "color": "#00cc96",
          "dash": "solid"
         },
         "marker": {
          "symbol": "circle"
         },
         "mode": "lines+markers",
         "name": "500mb_mr",
         "orientation": "v",
         "showlegend": false,
         "type": "scatter",
         "x": [
          65536000,
          16384000,
          4096000,
          1024000,
          256000,
          64000,
          16000,
          4000
         ],
         "xaxis": "x3",
         "y": [
          1,
          1,
          1,
          1,
          1.7960499544466253,
          6.518564630221656,
          16.076522009761625,
          15.49682950943973
         ],
         "yaxis": "y3"
        },
        {
         "hovertemplate": "file=500mb_mr<br>standard=bitcomp<br>chunk_size=%{x}<br>compression_utilization=%{y}<extra></extra>",
         "legendgroup": "500mb_mr",
         "line": {
          "color": "#00cc96",
          "dash": "solid"
         },
         "marker": {
          "symbol": "circle"
         },
         "mode": "lines+markers",
         "name": "500mb_mr",
         "orientation": "v",
         "showlegend": false,
         "type": "scatter",
         "x": [
          65536000,
          16384000,
          4096000,
          1024000,
          256000,
          64000,
          16000,
          4000
         ],
         "xaxis": "x2",
         "y": [
          0.9983498665431674,
          0.9979895153179626,
          -1,
          1.8466990864330746,
          4.316409996041859,
          1.6717866851413343,
          3.3288984693861723,
          19.906401611699614
         ],
         "yaxis": "y2"
        },
        {
         "hovertemplate": "file=500mb_mr<br>standard=cascaded<br>chunk_size=%{x}<br>compression_utilization=%{y}<extra></extra>",
         "legendgroup": "500mb_mr",
         "line": {
          "color": "#00cc96",
          "dash": "solid"
         },
         "marker": {
          "symbol": "circle"
         },
         "mode": "lines+markers",
         "name": "500mb_mr",
         "orientation": "v",
         "showlegend": false,
         "type": "scatter",
         "x": [
          65536000,
          16384000,
          4096000,
          1024000,
          256000,
          64000,
          16000,
          4000
         ],
         "xaxis": "x",
         "y": [
          0.9994905129513225,
          0.9995165998537019,
          0.9987817027608561,
          0.9955525907717835,
          5.298800180797771,
          10.895156928551335,
          3.275089357521421,
          11.59929381555671
         ],
         "yaxis": "y"
        },
        {
         "hovertemplate": "file=500mb_nci<br>standard=snappy<br>chunk_size=%{x}<br>compression_utilization=%{y}<extra></extra>",
         "legendgroup": "500mb_nci",
         "line": {
          "color": "#ab63fa",
          "dash": "solid"
         },
         "marker": {
          "symbol": "circle"
         },
         "mode": "lines+markers",
         "name": "500mb_nci",
         "orientation": "v",
         "showlegend": true,
         "type": "scatter",
         "x": [
          65536000,
          16384000,
          4096000,
          1024000,
          256000,
          64000,
          16000,
          4000
         ],
         "xaxis": "x6",
         "y": [
          1,
          1,
          1,
          2.6800037996559256,
          9.298388579099385,
          27.887679930496894,
          43.560913297209105,
          51.1791126066814
         ],
         "yaxis": "y6"
        },
        {
         "hovertemplate": "file=500mb_nci<br>standard=zstd<br>chunk_size=%{x}<br>compression_utilization=%{y}<extra></extra>",
         "legendgroup": "500mb_nci",
         "line": {
          "color": "#ab63fa",
          "dash": "solid"
         },
         "marker": {
          "symbol": "circle"
         },
         "mode": "lines+markers",
         "name": "500mb_nci",
         "orientation": "v",
         "showlegend": false,
         "type": "scatter",
         "x": [
          16384000,
          4096000,
          1024000,
          256000,
          64000,
          16000,
          4000
         ],
         "xaxis": "x5",
         "y": [
          0.9999815385828222,
          0.9999298203845376,
          2.217538368138006,
          7.73908324246314,
          16.002553874838405,
          24.790152217421106,
          21.565394958935023
         ],
         "yaxis": "y5"
        },
        {
         "hovertemplate": "file=500mb_nci<br>standard=gdeflate<br>chunk_size=%{x}<br>compression_utilization=%{y}<extra></extra>",
         "legendgroup": "500mb_nci",
         "line": {
          "color": "#ab63fa",
          "dash": "solid"
         },
         "marker": {
          "symbol": "circle"
         },
         "mode": "lines+markers",
         "name": "500mb_nci",
         "orientation": "v",
         "showlegend": false,
         "type": "scatter",
         "x": [
          64000,
          16000,
          4000
         ],
         "xaxis": "x4",
         "y": [
          16.08612632302887,
          24.110858689415032,
          45.657747752808646
         ],
         "yaxis": "y4"
        },
        {
         "hovertemplate": "file=500mb_nci<br>standard=lz4<br>chunk_size=%{x}<br>compression_utilization=%{y}<extra></extra>",
         "legendgroup": "500mb_nci",
         "line": {
          "color": "#ab63fa",
          "dash": "solid"
         },
         "marker": {
          "symbol": "circle"
         },
         "mode": "lines+markers",
         "name": "500mb_nci",
         "orientation": "v",
         "showlegend": false,
         "type": "scatter",
         "x": [
          16384000,
          4096000,
          1024000,
          256000,
          64000,
          16000,
          4000
         ],
         "xaxis": "x3",
         "y": [
          1,
          1,
          1.8717839451149887,
          6.787487043285205,
          22.627277119172852,
          49.59372053995525,
          58.57935950209419
         ],
         "yaxis": "y3"
        },
        {
         "hovertemplate": "file=500mb_nci<br>standard=bitcomp<br>chunk_size=%{x}<br>compression_utilization=%{y}<extra></extra>",
         "legendgroup": "500mb_nci",
         "line": {
          "color": "#ab63fa",
          "dash": "solid"
         },
         "marker": {
          "symbol": "circle"
         },
         "mode": "lines+markers",
         "name": "500mb_nci",
         "orientation": "v",
         "showlegend": false,
         "type": "scatter",
         "x": [
          65536000,
          16384000,
          4096000,
          1024000,
          256000,
          64000,
          16000,
          4000
         ],
         "xaxis": "x2",
         "y": [
          0.9996285488496497,
          3.0293025858691935,
          1.973361460055422,
          7.554325987482148,
          22.86827493460058,
          16.166864176322946,
          21.996743398033196,
          31.426522286315986
         ],
         "yaxis": "y2"
        },
        {
         "hovertemplate": "file=500mb_samba<br>standard=snappy<br>chunk_size=%{x}<br>compression_utilization=%{y}<extra></extra>",
         "legendgroup": "500mb_samba",
         "line": {
          "color": "#FFA15A",
          "dash": "solid"
         },
         "marker": {
          "symbol": "circle"
         },
         "mode": "lines+markers",
         "name": "500mb_samba",
         "orientation": "v",
         "showlegend": true,
         "type": "scatter",
         "x": [
          65536000,
          16384000,
          4096000,
          1024000,
          256000,
          64000,
          16000,
          4000
         ],
         "xaxis": "x6",
         "y": [
          1,
          1,
          1,
          1.4467604888749328,
          56.24208760115674,
          12.980408850146482,
          32.47396953517445,
          46.728618173056354
         ],
         "yaxis": "y6"
        },
        {
         "hovertemplate": "file=500mb_samba<br>standard=zstd<br>chunk_size=%{x}<br>compression_utilization=%{y}<extra></extra>",
         "legendgroup": "500mb_samba",
         "line": {
          "color": "#FFA15A",
          "dash": "solid"
         },
         "marker": {
          "symbol": "circle"
         },
         "mode": "lines+markers",
         "name": "500mb_samba",
         "orientation": "v",
         "showlegend": false,
         "type": "scatter",
         "x": [
          16384000,
          4096000,
          1024000,
          256000,
          64000,
          16000,
          4000
         ],
         "xaxis": "x5",
         "y": [
          0.9999851278886969,
          0.999946318452267,
          1.7897251344348892,
          4.799199519655387,
          8.029262731919626,
          18.759566565730687,
          19.71560006224547
         ],
         "yaxis": "y5"
        },
        {
         "hovertemplate": "file=500mb_samba<br>standard=gdeflate<br>chunk_size=%{x}<br>compression_utilization=%{y}<extra></extra>",
         "legendgroup": "500mb_samba",
         "line": {
          "color": "#FFA15A",
          "dash": "solid"
         },
         "marker": {
          "symbol": "circle"
         },
         "mode": "lines+markers",
         "name": "500mb_samba",
         "orientation": "v",
         "showlegend": false,
         "type": "scatter",
         "x": [
          64000,
          16000,
          4000
         ],
         "xaxis": "x4",
         "y": [
          9.207378485367325,
          25.481738051023015,
          44.16161151853526
         ],
         "yaxis": "y4"
        },
        {
         "hovertemplate": "file=500mb_samba<br>standard=lz4<br>chunk_size=%{x}<br>compression_utilization=%{y}<extra></extra>",
         "legendgroup": "500mb_samba",
         "line": {
          "color": "#FFA15A",
          "dash": "solid"
         },
         "marker": {
          "symbol": "circle"
         },
         "mode": "lines+markers",
         "name": "500mb_samba",
         "orientation": "v",
         "showlegend": false,
         "type": "scatter",
         "x": [
          16384000,
          4096000,
          1024000,
          256000,
          64000,
          16000,
          4000
         ],
         "xaxis": "x3",
         "y": [
          1,
          1,
          1,
          3.42983480740929,
          10.262676547040154,
          29.854132563602317,
          47.94183593590145
         ],
         "yaxis": "y3"
        },
        {
         "hovertemplate": "file=500mb_samba<br>standard=bitcomp<br>chunk_size=%{x}<br>compression_utilization=%{y}<extra></extra>",
         "legendgroup": "500mb_samba",
         "line": {
          "color": "#FFA15A",
          "dash": "solid"
         },
         "marker": {
          "symbol": "circle"
         },
         "mode": "lines+markers",
         "name": "500mb_samba",
         "orientation": "v",
         "showlegend": false,
         "type": "scatter",
         "x": [
          65536000,
          16384000,
          4096000,
          1024000,
          256000,
          64000,
          16000,
          4000
         ],
         "xaxis": "x2",
         "y": [
          0.9993530736009748,
          0.9991766386653667,
          0.9975575132377834,
          2.248517134655752,
          5.381078811850626,
          0.9017005813919343,
          6.060358782448291,
          15.402661707474923
         ],
         "yaxis": "y2"
        },
        {
         "hovertemplate": "file=500mb_samba<br>standard=cascaded<br>chunk_size=%{x}<br>compression_utilization=%{y}<extra></extra>",
         "legendgroup": "500mb_samba",
         "line": {
          "color": "#FFA15A",
          "dash": "solid"
         },
         "marker": {
          "symbol": "circle"
         },
         "mode": "lines+markers",
         "name": "500mb_samba",
         "orientation": "v",
         "showlegend": false,
         "type": "scatter",
         "x": [
          65536000,
          16384000,
          4096000,
          1024000,
          256000,
          64000,
          16000,
          4000
         ],
         "xaxis": "x",
         "y": [
          0.9985956766288575,
          0.9992234026862814,
          0.9989237027013704,
          -0.002107838000823481,
          3.5423629299689745,
          7.752960673165521,
          14.740223985420947,
          18.75838660335439
         ],
         "yaxis": "y"
        },
        {
         "hovertemplate": "file=500mb_sao<br>standard=snappy<br>chunk_size=%{x}<br>compression_utilization=%{y}<extra></extra>",
         "legendgroup": "500mb_sao",
         "line": {
          "color": "#19d3f3",
          "dash": "solid"
         },
         "marker": {
          "symbol": "circle"
         },
         "mode": "lines+markers",
         "name": "500mb_sao",
         "orientation": "v",
         "showlegend": true,
         "type": "scatter",
         "x": [
          65536000,
          16384000,
          4096000,
          1024000,
          256000,
          64000,
          16000,
          4000
         ],
         "xaxis": "x6",
         "y": [
          1,
          1,
          1,
          1,
          1.9325984462674686,
          7.401203368416967,
          25.315386619158872,
          36.09897770280182
         ],
         "yaxis": "y6"
        },
        {
         "hovertemplate": "file=500mb_sao<br>standard=zstd<br>chunk_size=%{x}<br>compression_utilization=%{y}<extra></extra>",
         "legendgroup": "500mb_sao",
         "line": {
          "color": "#19d3f3",
          "dash": "solid"
         },
         "marker": {
          "symbol": "circle"
         },
         "mode": "lines+markers",
         "name": "500mb_sao",
         "orientation": "v",
         "showlegend": false,
         "type": "scatter",
         "x": [
          65536000,
          16384000,
          4096000,
          1024000,
          256000,
          64000,
          16000,
          4000
         ],
         "xaxis": "x5",
         "y": [
          0.9999784025889055,
          0.9999768716359086,
          0.9999533398766383,
          0.9998408544154503,
          2.155311414375969,
          3.8142194899918618,
          11.429922312351778,
          20.3380104200845
         ],
         "yaxis": "y5"
        },
        {
         "hovertemplate": "file=500mb_sao<br>standard=gdeflate<br>chunk_size=%{x}<br>compression_utilization=%{y}<extra></extra>",
         "legendgroup": "500mb_sao",
         "line": {
          "color": "#19d3f3",
          "dash": "solid"
         },
         "marker": {
          "symbol": "circle"
         },
         "mode": "lines+markers",
         "name": "500mb_sao",
         "orientation": "v",
         "showlegend": false,
         "type": "scatter",
         "x": [
          64000,
          16000,
          4000
         ],
         "xaxis": "x4",
         "y": [
          5.053840403512378,
          19.099527556054305,
          39.17049689702657
         ],
         "yaxis": "y4"
        },
        {
         "hovertemplate": "file=500mb_sao<br>standard=lz4<br>chunk_size=%{x}<br>compression_utilization=%{y}<extra></extra>",
         "legendgroup": "500mb_sao",
         "line": {
          "color": "#19d3f3",
          "dash": "solid"
         },
         "marker": {
          "symbol": "circle"
         },
         "mode": "lines+markers",
         "name": "500mb_sao",
         "orientation": "v",
         "showlegend": false,
         "type": "scatter",
         "x": [
          65536000,
          16384000,
          4096000,
          1024000,
          256000,
          64000,
          16000,
          4000
         ],
         "xaxis": "x3",
         "y": [
          1,
          1,
          1,
          1,
          1.9545459780677636,
          6.561172712783788,
          22.512911862869736,
          10.5
         ],
         "yaxis": "y3"
        },
        {
         "hovertemplate": "file=500mb_sao<br>standard=bitcomp<br>chunk_size=%{x}<br>compression_utilization=%{y}<extra></extra>",
         "legendgroup": "500mb_sao",
         "line": {
          "color": "#19d3f3",
          "dash": "solid"
         },
         "marker": {
          "symbol": "circle"
         },
         "mode": "lines+markers",
         "name": "500mb_sao",
         "orientation": "v",
         "showlegend": false,
         "type": "scatter",
         "x": [
          65536000,
          16384000,
          4096000,
          1024000,
          256000,
          64000,
          16000,
          4000
         ],
         "xaxis": "x2",
         "y": [
          0.992733477388991,
          0.9927148977791548,
          0.9880597239135669,
          0.9500574147239067,
          1.3139639472397449,
          0.6752949086241673,
          2.0621545230467775,
          11.587284920494326
         ],
         "yaxis": "y2"
        },
        {
         "hovertemplate": "file=500mb_sao<br>standard=cascaded<br>chunk_size=%{x}<br>compression_utilization=%{y}<extra></extra>",
         "legendgroup": "500mb_sao",
         "line": {
          "color": "#19d3f3",
          "dash": "solid"
         },
         "marker": {
          "symbol": "circle"
         },
         "mode": "lines+markers",
         "name": "500mb_sao",
         "orientation": "v",
         "showlegend": false,
         "type": "scatter",
         "x": [
          65536000,
          16384000,
          4096000,
          1024000,
          256000,
          64000,
          16000,
          4000
         ],
         "xaxis": "x",
         "y": [
          0.9958803392672166,
          0.9966025685471203,
          0.9927218041580435,
          8.268176105883583,
          0.9031038964981388,
          -0.134766656286809,
          -0.2174690956408588,
          0.39803035934270037
         ],
         "yaxis": "y"
        },
        {
         "hovertemplate": "file=500mb_silesia.zip<br>standard=snappy<br>chunk_size=%{x}<br>compression_utilization=%{y}<extra></extra>",
         "legendgroup": "500mb_silesia.zip",
         "line": {
          "color": "#FF6692",
          "dash": "solid"
         },
         "marker": {
          "symbol": "circle"
         },
         "mode": "lines+markers",
         "name": "500mb_silesia.zip",
         "orientation": "v",
         "showlegend": true,
         "type": "scatter",
         "x": [
          65536000,
          16384000,
          4096000,
          1024000,
          256000,
          64000,
          16000,
          4000
         ],
         "xaxis": "x6",
         "y": [
          1,
          1,
          1,
          2.565218934694376,
          3.914817112426009,
          6.28939662250111,
          12.005479587220865,
          25.658981464501764
         ],
         "yaxis": "y6"
        },
        {
         "hovertemplate": "file=500mb_silesia.zip<br>standard=zstd<br>chunk_size=%{x}<br>compression_utilization=%{y}<extra></extra>",
         "legendgroup": "500mb_silesia.zip",
         "line": {
          "color": "#FF6692",
          "dash": "solid"
         },
         "marker": {
          "symbol": "circle"
         },
         "mode": "lines+markers",
         "name": "500mb_silesia.zip",
         "orientation": "v",
         "showlegend": false,
         "type": "scatter",
         "x": [
          64000,
          16000,
          4000
         ],
         "xaxis": "x5",
         "y": [
          4.481744791606007,
          10.095915019379095,
          8.21787268319446
         ],
         "yaxis": "y5"
        },
        {
         "hovertemplate": "file=500mb_silesia.zip<br>standard=gdeflate<br>chunk_size=%{x}<br>compression_utilization=%{y}<extra></extra>",
         "legendgroup": "500mb_silesia.zip",
         "line": {
          "color": "#FF6692",
          "dash": "solid"
         },
         "marker": {
          "symbol": "circle"
         },
         "mode": "lines+markers",
         "name": "500mb_silesia.zip",
         "orientation": "v",
         "showlegend": false,
         "type": "scatter",
         "x": [
          64000,
          16000,
          4000
         ],
         "xaxis": "x4",
         "y": [
          43.31760039958763,
          58.13645770450182,
          65.41237565648069
         ],
         "yaxis": "y4"
        },
        {
         "hovertemplate": "file=500mb_silesia.zip<br>standard=lz4<br>chunk_size=%{x}<br>compression_utilization=%{y}<extra></extra>",
         "legendgroup": "500mb_silesia.zip",
         "line": {
          "color": "#FF6692",
          "dash": "solid"
         },
         "marker": {
          "symbol": "circle"
         },
         "mode": "lines+markers",
         "name": "500mb_silesia.zip",
         "orientation": "v",
         "showlegend": false,
         "type": "scatter",
         "x": [
          16384000,
          4096000,
          1024000,
          256000,
          64000,
          16000,
          4000
         ],
         "xaxis": "x3",
         "y": [
          1,
          1,
          1.0081957949766434,
          1.8235203493013847,
          2.6878332164515353,
          4.815332804859326,
          14.686266440510503
         ],
         "yaxis": "y3"
        },
        {
         "hovertemplate": "file=500mb_silesia.zip<br>standard=bitcomp<br>chunk_size=%{x}<br>compression_utilization=%{y}<extra></extra>",
         "legendgroup": "500mb_silesia.zip",
         "line": {
          "color": "#FF6692",
          "dash": "solid"
         },
         "marker": {
          "symbol": "circle"
         },
         "mode": "lines+markers",
         "name": "500mb_silesia.zip",
         "orientation": "v",
         "showlegend": false,
         "type": "scatter",
         "x": [
          65536000,
          16384000,
          4096000,
          1024000,
          256000,
          64000,
          16000,
          4000
         ],
         "xaxis": "x2",
         "y": [
          0.9993105616510906,
          0.99675717538279,
          0.9903261524430388,
          2.432123306964259,
          3.8311169518086343,
          7.659384213295667,
          10.884893168556886,
          18.017818512626057
         ],
         "yaxis": "y2"
        },
        {
         "hovertemplate": "file=500mb_xml<br>standard=snappy<br>chunk_size=%{x}<br>compression_utilization=%{y}<extra></extra>",
         "legendgroup": "500mb_xml",
         "line": {
          "color": "#B6E880",
          "dash": "solid"
         },
         "marker": {
          "symbol": "circle"
         },
         "mode": "lines+markers",
         "name": "500mb_xml",
         "orientation": "v",
         "showlegend": true,
         "type": "scatter",
         "x": [
          65536000,
          16384000,
          4096000,
          1024000,
          256000,
          64000,
          16000,
          4000
         ],
         "xaxis": "x6",
         "y": [
          1,
          1,
          1,
          1,
          1.2980760506412827,
          3.1892889328637724,
          8.714293109584421,
          13.593853855538182
         ],
         "yaxis": "y6"
        },
        {
         "hovertemplate": "file=500mb_xml<br>standard=zstd<br>chunk_size=%{x}<br>compression_utilization=%{y}<extra></extra>",
         "legendgroup": "500mb_xml",
         "line": {
          "color": "#B6E880",
          "dash": "solid"
         },
         "marker": {
          "symbol": "circle"
         },
         "mode": "lines+markers",
         "name": "500mb_xml",
         "orientation": "v",
         "showlegend": false,
         "type": "scatter",
         "x": [
          65536000,
          16384000,
          4096000,
          1024000,
          256000,
          64000,
          16000,
          4000
         ],
         "xaxis": "x5",
         "y": [
          0.9999519372740409,
          0.9999509024272952,
          0.9999281914051188,
          0.9998217365387,
          1.4274984648114153,
          2.1547011658118493,
          7.185494440125384,
          17.346474471710387
         ],
         "yaxis": "y5"
        },
        {
         "hovertemplate": "file=500mb_xml<br>standard=gdeflate<br>chunk_size=%{x}<br>compression_utilization=%{y}<extra></extra>",
         "legendgroup": "500mb_xml",
         "line": {
          "color": "#B6E880",
          "dash": "solid"
         },
         "marker": {
          "symbol": "circle"
         },
         "mode": "lines+markers",
         "name": "500mb_xml",
         "orientation": "v",
         "showlegend": false,
         "type": "scatter",
         "x": [
          64000,
          16000,
          4000
         ],
         "xaxis": "x4",
         "y": [
          -1,
          6.922235220071511,
          13.325536470350329
         ],
         "yaxis": "y4"
        },
        {
         "hovertemplate": "file=500mb_xml<br>standard=lz4<br>chunk_size=%{x}<br>compression_utilization=%{y}<extra></extra>",
         "legendgroup": "500mb_xml",
         "line": {
          "color": "#B6E880",
          "dash": "solid"
         },
         "marker": {
          "symbol": "circle"
         },
         "mode": "lines+markers",
         "name": "500mb_xml",
         "orientation": "v",
         "showlegend": false,
         "type": "scatter",
         "x": [
          65536000,
          16384000,
          4096000,
          1024000,
          256000,
          64000,
          16000,
          4000
         ],
         "xaxis": "x3",
         "y": [
          1,
          1,
          1,
          1,
          11.470261889757296,
          3.4235517738652876,
          10.600079014141691,
          13.5
         ],
         "yaxis": "y3"
        },
        {
         "hovertemplate": "file=500mb_xml<br>standard=bitcomp<br>chunk_size=%{x}<br>compression_utilization=%{y}<extra></extra>",
         "legendgroup": "500mb_xml",
         "line": {
          "color": "#B6E880",
          "dash": "solid"
         },
         "marker": {
          "symbol": "circle"
         },
         "mode": "lines+markers",
         "name": "500mb_xml",
         "orientation": "v",
         "showlegend": false,
         "type": "scatter",
         "x": [
          65536000,
          16384000,
          4096000,
          1024000,
          256000,
          64000,
          16000,
          4000
         ],
         "xaxis": "x2",
         "y": [
          0.9977990125039707,
          0.9978144743598196,
          0.9971243699324466,
          0.9913014878430602,
          1.8231761115166996,
          6.012930738373227,
          1.5935468026383495,
          2.4637146876700795
         ],
         "yaxis": "y2"
        },
        {
         "hovertemplate": "file=500mb_xml<br>standard=cascaded<br>chunk_size=%{x}<br>compression_utilization=%{y}<extra></extra>",
         "legendgroup": "500mb_xml",
         "line": {
          "color": "#B6E880",
          "dash": "solid"
         },
         "marker": {
          "symbol": "circle"
         },
         "mode": "lines+markers",
         "name": "500mb_xml",
         "orientation": "v",
         "showlegend": false,
         "type": "scatter",
         "x": [
          65536000,
          16384000,
          4096000,
          1024000,
          256000,
          64000,
          16000,
          4000
         ],
         "xaxis": "x",
         "y": [
          0.9944478904446351,
          0.9953583470087402,
          -1,
          5.316942750699093,
          1.228802607112551,
          0.8770998160557548,
          0.798714053906,
          -1
         ],
         "yaxis": "y"
        }
       ],
       "layout": {
        "annotations": [
         {
          "font": {},
          "showarrow": false,
          "text": "standard=cascaded",
          "textangle": 90,
          "x": 0.98,
          "xanchor": "left",
          "xref": "paper",
          "y": 0.07083333333333333,
          "yanchor": "middle",
          "yref": "paper"
         },
         {
          "font": {},
          "showarrow": false,
          "text": "standard=bitcomp",
          "textangle": 90,
          "x": 0.98,
          "xanchor": "left",
          "xref": "paper",
          "y": 0.2425,
          "yanchor": "middle",
          "yref": "paper"
         },
         {
          "font": {},
          "showarrow": false,
          "text": "standard=lz4",
          "textangle": 90,
          "x": 0.98,
          "xanchor": "left",
          "xref": "paper",
          "y": 0.4141666666666667,
          "yanchor": "middle",
          "yref": "paper"
         },
         {
          "font": {},
          "showarrow": false,
          "text": "standard=gdeflate",
          "textangle": 90,
          "x": 0.98,
          "xanchor": "left",
          "xref": "paper",
          "y": 0.5858333333333334,
          "yanchor": "middle",
          "yref": "paper"
         },
         {
          "font": {},
          "showarrow": false,
          "text": "standard=zstd",
          "textangle": 90,
          "x": 0.98,
          "xanchor": "left",
          "xref": "paper",
          "y": 0.7575000000000001,
          "yanchor": "middle",
          "yref": "paper"
         },
         {
          "font": {},
          "showarrow": false,
          "text": "standard=snappy",
          "textangle": 90,
          "x": 0.98,
          "xanchor": "left",
          "xref": "paper",
          "y": 0.9291666666666667,
          "yanchor": "middle",
          "yref": "paper"
         }
        ],
        "height": 1000,
        "legend": {
         "title": {
          "text": "file"
         },
         "tracegroupgap": 0
        },
        "template": {
         "data": {
          "bar": [
           {
            "error_x": {
             "color": "#2a3f5f"
            },
            "error_y": {
             "color": "#2a3f5f"
            },
            "marker": {
             "line": {
              "color": "#E5ECF6",
              "width": 0.5
             },
             "pattern": {
              "fillmode": "overlay",
              "size": 10,
              "solidity": 0.2
             }
            },
            "type": "bar"
           }
          ],
          "barpolar": [
           {
            "marker": {
             "line": {
              "color": "#E5ECF6",
              "width": 0.5
             },
             "pattern": {
              "fillmode": "overlay",
              "size": 10,
              "solidity": 0.2
             }
            },
            "type": "barpolar"
           }
          ],
          "carpet": [
           {
            "aaxis": {
             "endlinecolor": "#2a3f5f",
             "gridcolor": "white",
             "linecolor": "white",
             "minorgridcolor": "white",
             "startlinecolor": "#2a3f5f"
            },
            "baxis": {
             "endlinecolor": "#2a3f5f",
             "gridcolor": "white",
             "linecolor": "white",
             "minorgridcolor": "white",
             "startlinecolor": "#2a3f5f"
            },
            "type": "carpet"
           }
          ],
          "choropleth": [
           {
            "colorbar": {
             "outlinewidth": 0,
             "ticks": ""
            },
            "type": "choropleth"
           }
          ],
          "contour": [
           {
            "colorbar": {
             "outlinewidth": 0,
             "ticks": ""
            },
            "colorscale": [
             [
              0,
              "#0d0887"
             ],
             [
              0.1111111111111111,
              "#46039f"
             ],
             [
              0.2222222222222222,
              "#7201a8"
             ],
             [
              0.3333333333333333,
              "#9c179e"
             ],
             [
              0.4444444444444444,
              "#bd3786"
             ],
             [
              0.5555555555555556,
              "#d8576b"
             ],
             [
              0.6666666666666666,
              "#ed7953"
             ],
             [
              0.7777777777777778,
              "#fb9f3a"
             ],
             [
              0.8888888888888888,
              "#fdca26"
             ],
             [
              1,
              "#f0f921"
             ]
            ],
            "type": "contour"
           }
          ],
          "contourcarpet": [
           {
            "colorbar": {
             "outlinewidth": 0,
             "ticks": ""
            },
            "type": "contourcarpet"
           }
          ],
          "heatmap": [
           {
            "colorbar": {
             "outlinewidth": 0,
             "ticks": ""
            },
            "colorscale": [
             [
              0,
              "#0d0887"
             ],
             [
              0.1111111111111111,
              "#46039f"
             ],
             [
              0.2222222222222222,
              "#7201a8"
             ],
             [
              0.3333333333333333,
              "#9c179e"
             ],
             [
              0.4444444444444444,
              "#bd3786"
             ],
             [
              0.5555555555555556,
              "#d8576b"
             ],
             [
              0.6666666666666666,
              "#ed7953"
             ],
             [
              0.7777777777777778,
              "#fb9f3a"
             ],
             [
              0.8888888888888888,
              "#fdca26"
             ],
             [
              1,
              "#f0f921"
             ]
            ],
            "type": "heatmap"
           }
          ],
          "heatmapgl": [
           {
            "colorbar": {
             "outlinewidth": 0,
             "ticks": ""
            },
            "colorscale": [
             [
              0,
              "#0d0887"
             ],
             [
              0.1111111111111111,
              "#46039f"
             ],
             [
              0.2222222222222222,
              "#7201a8"
             ],
             [
              0.3333333333333333,
              "#9c179e"
             ],
             [
              0.4444444444444444,
              "#bd3786"
             ],
             [
              0.5555555555555556,
              "#d8576b"
             ],
             [
              0.6666666666666666,
              "#ed7953"
             ],
             [
              0.7777777777777778,
              "#fb9f3a"
             ],
             [
              0.8888888888888888,
              "#fdca26"
             ],
             [
              1,
              "#f0f921"
             ]
            ],
            "type": "heatmapgl"
           }
          ],
          "histogram": [
           {
            "marker": {
             "pattern": {
              "fillmode": "overlay",
              "size": 10,
              "solidity": 0.2
             }
            },
            "type": "histogram"
           }
          ],
          "histogram2d": [
           {
            "colorbar": {
             "outlinewidth": 0,
             "ticks": ""
            },
            "colorscale": [
             [
              0,
              "#0d0887"
             ],
             [
              0.1111111111111111,
              "#46039f"
             ],
             [
              0.2222222222222222,
              "#7201a8"
             ],
             [
              0.3333333333333333,
              "#9c179e"
             ],
             [
              0.4444444444444444,
              "#bd3786"
             ],
             [
              0.5555555555555556,
              "#d8576b"
             ],
             [
              0.6666666666666666,
              "#ed7953"
             ],
             [
              0.7777777777777778,
              "#fb9f3a"
             ],
             [
              0.8888888888888888,
              "#fdca26"
             ],
             [
              1,
              "#f0f921"
             ]
            ],
            "type": "histogram2d"
           }
          ],
          "histogram2dcontour": [
           {
            "colorbar": {
             "outlinewidth": 0,
             "ticks": ""
            },
            "colorscale": [
             [
              0,
              "#0d0887"
             ],
             [
              0.1111111111111111,
              "#46039f"
             ],
             [
              0.2222222222222222,
              "#7201a8"
             ],
             [
              0.3333333333333333,
              "#9c179e"
             ],
             [
              0.4444444444444444,
              "#bd3786"
             ],
             [
              0.5555555555555556,
              "#d8576b"
             ],
             [
              0.6666666666666666,
              "#ed7953"
             ],
             [
              0.7777777777777778,
              "#fb9f3a"
             ],
             [
              0.8888888888888888,
              "#fdca26"
             ],
             [
              1,
              "#f0f921"
             ]
            ],
            "type": "histogram2dcontour"
           }
          ],
          "mesh3d": [
           {
            "colorbar": {
             "outlinewidth": 0,
             "ticks": ""
            },
            "type": "mesh3d"
           }
          ],
          "parcoords": [
           {
            "line": {
             "colorbar": {
              "outlinewidth": 0,
              "ticks": ""
             }
            },
            "type": "parcoords"
           }
          ],
          "pie": [
           {
            "automargin": true,
            "type": "pie"
           }
          ],
          "scatter": [
           {
            "fillpattern": {
             "fillmode": "overlay",
             "size": 10,
             "solidity": 0.2
            },
            "type": "scatter"
           }
          ],
          "scatter3d": [
           {
            "line": {
             "colorbar": {
              "outlinewidth": 0,
              "ticks": ""
             }
            },
            "marker": {
             "colorbar": {
              "outlinewidth": 0,
              "ticks": ""
             }
            },
            "type": "scatter3d"
           }
          ],
          "scattercarpet": [
           {
            "marker": {
             "colorbar": {
              "outlinewidth": 0,
              "ticks": ""
             }
            },
            "type": "scattercarpet"
           }
          ],
          "scattergeo": [
           {
            "marker": {
             "colorbar": {
              "outlinewidth": 0,
              "ticks": ""
             }
            },
            "type": "scattergeo"
           }
          ],
          "scattergl": [
           {
            "marker": {
             "colorbar": {
              "outlinewidth": 0,
              "ticks": ""
             }
            },
            "type": "scattergl"
           }
          ],
          "scattermapbox": [
           {
            "marker": {
             "colorbar": {
              "outlinewidth": 0,
              "ticks": ""
             }
            },
            "type": "scattermapbox"
           }
          ],
          "scatterpolar": [
           {
            "marker": {
             "colorbar": {
              "outlinewidth": 0,
              "ticks": ""
             }
            },
            "type": "scatterpolar"
           }
          ],
          "scatterpolargl": [
           {
            "marker": {
             "colorbar": {
              "outlinewidth": 0,
              "ticks": ""
             }
            },
            "type": "scatterpolargl"
           }
          ],
          "scatterternary": [
           {
            "marker": {
             "colorbar": {
              "outlinewidth": 0,
              "ticks": ""
             }
            },
            "type": "scatterternary"
           }
          ],
          "surface": [
           {
            "colorbar": {
             "outlinewidth": 0,
             "ticks": ""
            },
            "colorscale": [
             [
              0,
              "#0d0887"
             ],
             [
              0.1111111111111111,
              "#46039f"
             ],
             [
              0.2222222222222222,
              "#7201a8"
             ],
             [
              0.3333333333333333,
              "#9c179e"
             ],
             [
              0.4444444444444444,
              "#bd3786"
             ],
             [
              0.5555555555555556,
              "#d8576b"
             ],
             [
              0.6666666666666666,
              "#ed7953"
             ],
             [
              0.7777777777777778,
              "#fb9f3a"
             ],
             [
              0.8888888888888888,
              "#fdca26"
             ],
             [
              1,
              "#f0f921"
             ]
            ],
            "type": "surface"
           }
          ],
          "table": [
           {
            "cells": {
             "fill": {
              "color": "#EBF0F8"
             },
             "line": {
              "color": "white"
             }
            },
            "header": {
             "fill": {
              "color": "#C8D4E3"
             },
             "line": {
              "color": "white"
             }
            },
            "type": "table"
           }
          ]
         },
         "layout": {
          "annotationdefaults": {
           "arrowcolor": "#2a3f5f",
           "arrowhead": 0,
           "arrowwidth": 1
          },
          "autotypenumbers": "strict",
          "coloraxis": {
           "colorbar": {
            "outlinewidth": 0,
            "ticks": ""
           }
          },
          "colorscale": {
           "diverging": [
            [
             0,
             "#8e0152"
            ],
            [
             0.1,
             "#c51b7d"
            ],
            [
             0.2,
             "#de77ae"
            ],
            [
             0.3,
             "#f1b6da"
            ],
            [
             0.4,
             "#fde0ef"
            ],
            [
             0.5,
             "#f7f7f7"
            ],
            [
             0.6,
             "#e6f5d0"
            ],
            [
             0.7,
             "#b8e186"
            ],
            [
             0.8,
             "#7fbc41"
            ],
            [
             0.9,
             "#4d9221"
            ],
            [
             1,
             "#276419"
            ]
           ],
           "sequential": [
            [
             0,
             "#0d0887"
            ],
            [
             0.1111111111111111,
             "#46039f"
            ],
            [
             0.2222222222222222,
             "#7201a8"
            ],
            [
             0.3333333333333333,
             "#9c179e"
            ],
            [
             0.4444444444444444,
             "#bd3786"
            ],
            [
             0.5555555555555556,
             "#d8576b"
            ],
            [
             0.6666666666666666,
             "#ed7953"
            ],
            [
             0.7777777777777778,
             "#fb9f3a"
            ],
            [
             0.8888888888888888,
             "#fdca26"
            ],
            [
             1,
             "#f0f921"
            ]
           ],
           "sequentialminus": [
            [
             0,
             "#0d0887"
            ],
            [
             0.1111111111111111,
             "#46039f"
            ],
            [
             0.2222222222222222,
             "#7201a8"
            ],
            [
             0.3333333333333333,
             "#9c179e"
            ],
            [
             0.4444444444444444,
             "#bd3786"
            ],
            [
             0.5555555555555556,
             "#d8576b"
            ],
            [
             0.6666666666666666,
             "#ed7953"
            ],
            [
             0.7777777777777778,
             "#fb9f3a"
            ],
            [
             0.8888888888888888,
             "#fdca26"
            ],
            [
             1,
             "#f0f921"
            ]
           ]
          },
          "colorway": [
           "#636efa",
           "#EF553B",
           "#00cc96",
           "#ab63fa",
           "#FFA15A",
           "#19d3f3",
           "#FF6692",
           "#B6E880",
           "#FF97FF",
           "#FECB52"
          ],
          "font": {
           "color": "#2a3f5f"
          },
          "geo": {
           "bgcolor": "white",
           "lakecolor": "white",
           "landcolor": "#E5ECF6",
           "showlakes": true,
           "showland": true,
           "subunitcolor": "white"
          },
          "hoverlabel": {
           "align": "left"
          },
          "hovermode": "closest",
          "mapbox": {
           "style": "light"
          },
          "paper_bgcolor": "white",
          "plot_bgcolor": "#E5ECF6",
          "polar": {
           "angularaxis": {
            "gridcolor": "white",
            "linecolor": "white",
            "ticks": ""
           },
           "bgcolor": "#E5ECF6",
           "radialaxis": {
            "gridcolor": "white",
            "linecolor": "white",
            "ticks": ""
           }
          },
          "scene": {
           "xaxis": {
            "backgroundcolor": "#E5ECF6",
            "gridcolor": "white",
            "gridwidth": 2,
            "linecolor": "white",
            "showbackground": true,
            "ticks": "",
            "zerolinecolor": "white"
           },
           "yaxis": {
            "backgroundcolor": "#E5ECF6",
            "gridcolor": "white",
            "gridwidth": 2,
            "linecolor": "white",
            "showbackground": true,
            "ticks": "",
            "zerolinecolor": "white"
           },
           "zaxis": {
            "backgroundcolor": "#E5ECF6",
            "gridcolor": "white",
            "gridwidth": 2,
            "linecolor": "white",
            "showbackground": true,
            "ticks": "",
            "zerolinecolor": "white"
           }
          },
          "shapedefaults": {
           "line": {
            "color": "#2a3f5f"
           }
          },
          "ternary": {
           "aaxis": {
            "gridcolor": "white",
            "linecolor": "white",
            "ticks": ""
           },
           "baxis": {
            "gridcolor": "white",
            "linecolor": "white",
            "ticks": ""
           },
           "bgcolor": "#E5ECF6",
           "caxis": {
            "gridcolor": "white",
            "linecolor": "white",
            "ticks": ""
           }
          },
          "title": {
           "x": 0.05
          },
          "xaxis": {
           "automargin": true,
           "gridcolor": "white",
           "linecolor": "white",
           "ticks": "",
           "title": {
            "standoff": 15
           },
           "zerolinecolor": "white",
           "zerolinewidth": 2
          },
          "yaxis": {
           "automargin": true,
           "gridcolor": "white",
           "linecolor": "white",
           "ticks": "",
           "title": {
            "standoff": 15
           },
           "zerolinecolor": "white",
           "zerolinewidth": 2
          }
         }
        },
        "title": {
         "text": "GPU utilization during compression at different chunk sizes"
        },
        "xaxis": {
         "anchor": "y",
         "domain": [
          0,
          0.98
         ],
         "title": {
          "text": "chunk_size"
         },
         "type": "log"
        },
        "xaxis2": {
         "anchor": "y2",
         "domain": [
          0,
          0.98
         ],
         "matches": "x",
         "showticklabels": false,
         "type": "log"
        },
        "xaxis3": {
         "anchor": "y3",
         "domain": [
          0,
          0.98
         ],
         "matches": "x",
         "showticklabels": false,
         "type": "log"
        },
        "xaxis4": {
         "anchor": "y4",
         "domain": [
          0,
          0.98
         ],
         "matches": "x",
         "showticklabels": false,
         "type": "log"
        },
        "xaxis5": {
         "anchor": "y5",
         "domain": [
          0,
          0.98
         ],
         "matches": "x",
         "showticklabels": false,
         "type": "log"
        },
        "xaxis6": {
         "anchor": "y6",
         "domain": [
          0,
          0.98
         ],
         "matches": "x",
         "showticklabels": false,
         "type": "log"
        },
        "yaxis": {
         "anchor": "x",
         "domain": [
          0,
          0.14166666666666666
         ],
         "title": {
          "text": "compression_utilization"
         }
        },
        "yaxis2": {
         "anchor": "x2",
         "domain": [
          0.17166666666666666,
          0.31333333333333335
         ],
         "matches": "y",
         "title": {
          "text": "compression_utilization"
         }
        },
        "yaxis3": {
         "anchor": "x3",
         "domain": [
          0.3433333333333333,
          0.485
         ],
         "matches": "y",
         "title": {
          "text": "compression_utilization"
         }
        },
        "yaxis4": {
         "anchor": "x4",
         "domain": [
          0.515,
          0.6566666666666667
         ],
         "matches": "y",
         "title": {
          "text": "compression_utilization"
         }
        },
        "yaxis5": {
         "anchor": "x5",
         "domain": [
          0.6866666666666666,
          0.8283333333333334
         ],
         "matches": "y",
         "title": {
          "text": "compression_utilization"
         }
        },
        "yaxis6": {
         "anchor": "x6",
         "domain": [
          0.8583333333333333,
          1
         ],
         "matches": "y",
         "title": {
          "text": "compression_utilization"
         }
        }
       }
      }
     },
     "metadata": {},
     "output_type": "display_data"
    }
   ],
   "source": [
    "fig_utilization_standard = px.line(\n",
    "    result_df,\n",
    "    title=f\"GPU utilization during compression per compressor at different chunk sizes\", \n",
    "    x=\"chunk_size\",\n",
    "    y=\"compression_utilization\",\n",
    "    color=\"file\",\n",
    "    log_x=True,\n",
    "    markers=True,\n",
    "    #log_y=True,\n",
    "    facet_row=\"standard\",\n",
    "    # facet_col_spacing=0.05,\n",
    "    height=1000,\n",
    "    # width=1200,\n",
    ")\n",
    "# fig_utilization_standard.update_xaxes(autorange=\"reversed\")\n",
    "\n",
    "\n",
    "fig_utilization_standard.show()"
   ]
  },
  {
   "cell_type": "code",
   "execution_count": 34,
   "metadata": {},
   "outputs": [
    {
     "data": {
      "application/vnd.plotly.v1+json": {
       "config": {
        "plotlyServerURL": "https://plot.ly"
       },
       "data": [
        {
         "hovertemplate": "file=500mb_dickens<br>standard=snappy<br>chunk_size=%{x}<br>decompression_utilization=%{y}<extra></extra>",
         "legendgroup": "500mb_dickens",
         "line": {
          "color": "#636efa",
          "dash": "solid"
         },
         "marker": {
          "symbol": "circle"
         },
         "mode": "lines+markers",
         "name": "500mb_dickens",
         "orientation": "v",
         "showlegend": true,
         "type": "scatter",
         "x": [
          65536000,
          16384000,
          4096000,
          1024000,
          256000,
          64000,
          16000,
          4000
         ],
         "xaxis": "x6",
         "y": [
          0.9999782944074445,
          0.9999783214878664,
          1.0002253461404051,
          1,
          1.9466678216560793,
          6.957921968627737,
          14.466168257916976,
          21.55270531786839
         ],
         "yaxis": "y6"
        },
        {
         "hovertemplate": "file=500mb_dickens<br>standard=zstd<br>chunk_size=%{x}<br>decompression_utilization=%{y}<extra></extra>",
         "legendgroup": "500mb_dickens",
         "line": {
          "color": "#636efa",
          "dash": "solid"
         },
         "marker": {
          "symbol": "circle"
         },
         "mode": "lines+markers",
         "name": "500mb_dickens",
         "orientation": "v",
         "showlegend": false,
         "type": "scatter",
         "x": [
          65536000,
          16384000,
          4096000,
          1024000,
          256000,
          64000,
          16000,
          4000
         ],
         "xaxis": "x5",
         "y": [
          0.9999978688309941,
          0.9999685894005707,
          0.9999556802878112,
          0.9999133608531059,
          2.940660548342281,
          8.634662207922634,
          15.476654440572066,
          13.16686689404069
         ],
         "yaxis": "y5"
        },
        {
         "hovertemplate": "file=500mb_dickens<br>standard=gdeflate<br>chunk_size=%{x}<br>decompression_utilization=%{y}<extra></extra>",
         "legendgroup": "500mb_dickens",
         "line": {
          "color": "#636efa",
          "dash": "solid"
         },
         "marker": {
          "symbol": "circle"
         },
         "mode": "lines+markers",
         "name": "500mb_dickens",
         "orientation": "v",
         "showlegend": false,
         "type": "scatter",
         "x": [
          64000,
          16000,
          4000
         ],
         "xaxis": "x4",
         "y": [
          4.861731558609221,
          12.538516536023467,
          11.704362491503364
         ],
         "yaxis": "y4"
        },
        {
         "hovertemplate": "file=500mb_dickens<br>standard=lz4<br>chunk_size=%{x}<br>decompression_utilization=%{y}<extra></extra>",
         "legendgroup": "500mb_dickens",
         "line": {
          "color": "#636efa",
          "dash": "solid"
         },
         "marker": {
          "symbol": "circle"
         },
         "mode": "lines+markers",
         "name": "500mb_dickens",
         "orientation": "v",
         "showlegend": false,
         "type": "scatter",
         "x": [
          65536000,
          16384000,
          4096000,
          1024000,
          256000,
          64000,
          16000,
          4000
         ],
         "xaxis": "x3",
         "y": [
          0.9999868601068009,
          0.9999868795421365,
          1.000058391707557,
          0.9998689080260171,
          1.1901393923836223,
          4.837523065263726,
          13.839695131936482,
          17.692391491257148
         ],
         "yaxis": "y3"
        },
        {
         "hovertemplate": "file=500mb_dickens<br>standard=bitcomp<br>chunk_size=%{x}<br>decompression_utilization=%{y}<extra></extra>",
         "legendgroup": "500mb_dickens",
         "line": {
          "color": "#636efa",
          "dash": "solid"
         },
         "marker": {
          "symbol": "circle"
         },
         "mode": "lines+markers",
         "name": "500mb_dickens",
         "orientation": "v",
         "showlegend": false,
         "type": "scatter",
         "x": [
          65536000,
          16384000,
          4096000,
          1024000,
          256000,
          64000,
          16000,
          4000
         ],
         "xaxis": "x2",
         "y": [
          0.9934565980707196,
          1,
          0.9813207751147635,
          3.1768647586749994,
          8.569208010134139,
          8.217844124933574,
          8.462081156709022,
          22.041048709076392
         ],
         "yaxis": "y2"
        },
        {
         "hovertemplate": "file=500mb_mozilla<br>standard=snappy<br>chunk_size=%{x}<br>decompression_utilization=%{y}<extra></extra>",
         "legendgroup": "500mb_mozilla",
         "line": {
          "color": "#EF553B",
          "dash": "solid"
         },
         "marker": {
          "symbol": "circle"
         },
         "mode": "lines+markers",
         "name": "500mb_mozilla",
         "orientation": "v",
         "showlegend": true,
         "type": "scatter",
         "x": [
          65536000,
          16384000,
          4096000,
          1024000,
          256000,
          64000,
          16000,
          4000
         ],
         "xaxis": "x6",
         "y": [
          1.000076120724014,
          1.0022028124465794,
          1.00197532657348,
          2.159367187134353,
          7.308797492535268,
          14.575889981016031,
          20.11158028881399,
          24.275877330675584
         ],
         "yaxis": "y6"
        },
        {
         "hovertemplate": "file=500mb_mozilla<br>standard=zstd<br>chunk_size=%{x}<br>decompression_utilization=%{y}<extra></extra>",
         "legendgroup": "500mb_mozilla",
         "line": {
          "color": "#EF553B",
          "dash": "solid"
         },
         "marker": {
          "symbol": "circle"
         },
         "mode": "lines+markers",
         "name": "500mb_mozilla",
         "orientation": "v",
         "showlegend": false,
         "type": "scatter",
         "x": [
          16384000,
          4096000,
          1024000,
          256000,
          64000,
          16000,
          4000
         ],
         "xaxis": "x5",
         "y": [
          0.9999382754329491,
          1.5277275395485728,
          4.5904762983578316,
          9.497864132743402,
          13.56481210406827,
          13.085846836960208,
          12.871813367060014
         ],
         "yaxis": "y5"
        },
        {
         "hovertemplate": "file=500mb_mozilla<br>standard=gdeflate<br>chunk_size=%{x}<br>decompression_utilization=%{y}<extra></extra>",
         "legendgroup": "500mb_mozilla",
         "line": {
          "color": "#EF553B",
          "dash": "solid"
         },
         "marker": {
          "symbol": "circle"
         },
         "mode": "lines+markers",
         "name": "500mb_mozilla",
         "orientation": "v",
         "showlegend": false,
         "type": "scatter",
         "x": [
          64000,
          16000,
          4000
         ],
         "xaxis": "x4",
         "y": [
          11.984971343782085,
          13.938123917067248,
          16.01484231183499
         ],
         "yaxis": "y4"
        },
        {
         "hovertemplate": "file=500mb_mozilla<br>standard=lz4<br>chunk_size=%{x}<br>decompression_utilization=%{y}<extra></extra>",
         "legendgroup": "500mb_mozilla",
         "line": {
          "color": "#EF553B",
          "dash": "solid"
         },
         "marker": {
          "symbol": "circle"
         },
         "mode": "lines+markers",
         "name": "500mb_mozilla",
         "orientation": "v",
         "showlegend": false,
         "type": "scatter",
         "x": [
          16384000,
          4096000,
          1024000,
          256000,
          64000,
          16000,
          4000
         ],
         "xaxis": "x3",
         "y": [
          1.0004876652934107,
          1.0014342375345968,
          1.809530405617899,
          5.1213967003574385,
          13.597185909837862,
          16.1681518621226,
          23.96193764829802
         ],
         "yaxis": "y3"
        },
        {
         "hovertemplate": "file=500mb_mozilla<br>standard=bitcomp<br>chunk_size=%{x}<br>decompression_utilization=%{y}<extra></extra>",
         "legendgroup": "500mb_mozilla",
         "line": {
          "color": "#EF553B",
          "dash": "solid"
         },
         "marker": {
          "symbol": "circle"
         },
         "mode": "lines+markers",
         "name": "500mb_mozilla",
         "orientation": "v",
         "showlegend": false,
         "type": "scatter",
         "x": [
          65536000,
          16384000,
          4096000,
          1024000,
          256000,
          64000,
          16000,
          4000
         ],
         "xaxis": "x2",
         "y": [
          1.131445569795771,
          1.474476239098803,
          5.069658391815632,
          15.859076892403246,
          18.51736274643673,
          23.17404737441511,
          29.853275962911006,
          39.5869541310863
         ],
         "yaxis": "y2"
        },
        {
         "hovertemplate": "file=500mb_mozilla<br>standard=cascaded<br>chunk_size=%{x}<br>decompression_utilization=%{y}<extra></extra>",
         "legendgroup": "500mb_mozilla",
         "line": {
          "color": "#EF553B",
          "dash": "solid"
         },
         "marker": {
          "symbol": "circle"
         },
         "mode": "lines+markers",
         "name": "500mb_mozilla",
         "orientation": "v",
         "showlegend": false,
         "type": "scatter",
         "x": [
          65536000,
          16384000,
          4096000,
          1024000,
          256000,
          64000,
          16000,
          4000
         ],
         "xaxis": "x",
         "y": [
          1.000481513868099,
          1.0259727934020748,
          1.9508197708559676,
          8.157665535921138,
          26.48821461004374,
          32.10826985140606,
          33.66917494386821,
          36.09991903145935
         ],
         "yaxis": "y"
        },
        {
         "hovertemplate": "file=500mb_mr<br>standard=snappy<br>chunk_size=%{x}<br>decompression_utilization=%{y}<extra></extra>",
         "legendgroup": "500mb_mr",
         "line": {
          "color": "#00cc96",
          "dash": "solid"
         },
         "marker": {
          "symbol": "circle"
         },
         "mode": "lines+markers",
         "name": "500mb_mr",
         "orientation": "v",
         "showlegend": true,
         "type": "scatter",
         "x": [
          65536000,
          16384000,
          4096000,
          1024000,
          256000,
          64000,
          16000,
          4000
         ],
         "xaxis": "x6",
         "y": [
          0.9999684774013635,
          0.9999685127076917,
          0.9999147338362422,
          0.9997315248979032,
          1.6597507035618917,
          4.983350691305546,
          12.034976851361222,
          18.761636125784445
         ],
         "yaxis": "y6"
        },
        {
         "hovertemplate": "file=500mb_mr<br>standard=zstd<br>chunk_size=%{x}<br>decompression_utilization=%{y}<extra></extra>",
         "legendgroup": "500mb_mr",
         "line": {
          "color": "#00cc96",
          "dash": "solid"
         },
         "marker": {
          "symbol": "circle"
         },
         "mode": "lines+markers",
         "name": "500mb_mr",
         "orientation": "v",
         "showlegend": false,
         "type": "scatter",
         "x": [
          65536000,
          16384000,
          4096000,
          1024000,
          256000,
          64000,
          16000,
          4000
         ],
         "xaxis": "x5",
         "y": [
          0.9999563240607066,
          0.9999593158849873,
          0.9999916849886786,
          0.9998898006234033,
          2.7960457083800945,
          7.255161387241679,
          15.487462219665732,
          13.842317377359745
         ],
         "yaxis": "y5"
        },
        {
         "hovertemplate": "file=500mb_mr<br>standard=gdeflate<br>chunk_size=%{x}<br>decompression_utilization=%{y}<extra></extra>",
         "legendgroup": "500mb_mr",
         "line": {
          "color": "#00cc96",
          "dash": "solid"
         },
         "marker": {
          "symbol": "circle"
         },
         "mode": "lines+markers",
         "name": "500mb_mr",
         "orientation": "v",
         "showlegend": false,
         "type": "scatter",
         "x": [
          64000,
          16000,
          4000
         ],
         "xaxis": "x4",
         "y": [
          4.392007196902432,
          11.510536680443078,
          14.791832689121856
         ],
         "yaxis": "y4"
        },
        {
         "hovertemplate": "file=500mb_mr<br>standard=lz4<br>chunk_size=%{x}<br>decompression_utilization=%{y}<extra></extra>",
         "legendgroup": "500mb_mr",
         "line": {
          "color": "#00cc96",
          "dash": "solid"
         },
         "marker": {
          "symbol": "circle"
         },
         "mode": "lines+markers",
         "name": "500mb_mr",
         "orientation": "v",
         "showlegend": false,
         "type": "scatter",
         "x": [
          65536000,
          16384000,
          4096000,
          1024000,
          256000,
          64000,
          16000,
          4000
         ],
         "xaxis": "x3",
         "y": [
          1.0000767865798814,
          1.000022011682638,
          1.0000313446754325,
          1,
          1.7742981998394909,
          4.746054987547339,
          12.696981668499998,
          20.57881466410982
         ],
         "yaxis": "y3"
        },
        {
         "hovertemplate": "file=500mb_mr<br>standard=bitcomp<br>chunk_size=%{x}<br>decompression_utilization=%{y}<extra></extra>",
         "legendgroup": "500mb_mr",
         "line": {
          "color": "#00cc96",
          "dash": "solid"
         },
         "marker": {
          "symbol": "circle"
         },
         "mode": "lines+markers",
         "name": "500mb_mr",
         "orientation": "v",
         "showlegend": false,
         "type": "scatter",
         "x": [
          65536000,
          16384000,
          4096000,
          1024000,
          256000,
          64000,
          16000,
          4000
         ],
         "xaxis": "x2",
         "y": [
          1.0424292830511521,
          0.9929296732388575,
          0,
          3.3260709682700993,
          7.400705608114493,
          1.157515218749126,
          0,
          9.40090470302915
         ],
         "yaxis": "y2"
        },
        {
         "hovertemplate": "file=500mb_mr<br>standard=cascaded<br>chunk_size=%{x}<br>decompression_utilization=%{y}<extra></extra>",
         "legendgroup": "500mb_mr",
         "line": {
          "color": "#00cc96",
          "dash": "solid"
         },
         "marker": {
          "symbol": "circle"
         },
         "mode": "lines+markers",
         "name": "500mb_mr",
         "orientation": "v",
         "showlegend": false,
         "type": "scatter",
         "x": [
          65536000,
          16384000,
          4096000,
          1024000,
          256000,
          64000,
          16000,
          4000
         ],
         "xaxis": "x",
         "y": [
          1.003157748292582,
          0.9993992140948653,
          1.0008783467367892,
          1.9449823526729169,
          6.1904754626771865,
          16.498564022273985,
          22.533102268296687,
          26.151025123975526
         ],
         "yaxis": "y"
        },
        {
         "hovertemplate": "file=500mb_nci<br>standard=snappy<br>chunk_size=%{x}<br>decompression_utilization=%{y}<extra></extra>",
         "legendgroup": "500mb_nci",
         "line": {
          "color": "#ab63fa",
          "dash": "solid"
         },
         "marker": {
          "symbol": "circle"
         },
         "mode": "lines+markers",
         "name": "500mb_nci",
         "orientation": "v",
         "showlegend": true,
         "type": "scatter",
         "x": [
          65536000,
          16384000,
          4096000,
          1024000,
          256000,
          64000,
          16000,
          4000
         ],
         "xaxis": "x6",
         "y": [
          1.0005198020475778,
          1.0023952939820946,
          1.0070160197176135,
          1.9240722097464358,
          5.536736295185213,
          11.738805951570239,
          19.18291159212457,
          23.59728189021402
         ],
         "yaxis": "y6"
        },
        {
         "hovertemplate": "file=500mb_nci<br>standard=zstd<br>chunk_size=%{x}<br>decompression_utilization=%{y}<extra></extra>",
         "legendgroup": "500mb_nci",
         "line": {
          "color": "#ab63fa",
          "dash": "solid"
         },
         "marker": {
          "symbol": "circle"
         },
         "mode": "lines+markers",
         "name": "500mb_nci",
         "orientation": "v",
         "showlegend": false,
         "type": "scatter",
         "x": [
          16384000,
          4096000,
          1024000,
          256000,
          64000,
          16000,
          4000
         ],
         "xaxis": "x5",
         "y": [
          0.9998696533570028,
          0.9998653030050398,
          3.4324264654984207,
          7.2219841040979516,
          22.089407595118708,
          24.550683583321266,
          19.49227539268192
         ],
         "yaxis": "y5"
        },
        {
         "hovertemplate": "file=500mb_nci<br>standard=gdeflate<br>chunk_size=%{x}<br>decompression_utilization=%{y}<extra></extra>",
         "legendgroup": "500mb_nci",
         "line": {
          "color": "#ab63fa",
          "dash": "solid"
         },
         "marker": {
          "symbol": "circle"
         },
         "mode": "lines+markers",
         "name": "500mb_nci",
         "orientation": "v",
         "showlegend": false,
         "type": "scatter",
         "x": [
          64000,
          16000,
          4000
         ],
         "xaxis": "x4",
         "y": [
          12.363172788511317,
          19.67718356584747,
          22.675531542099506
         ],
         "yaxis": "y4"
        },
        {
         "hovertemplate": "file=500mb_nci<br>standard=lz4<br>chunk_size=%{x}<br>decompression_utilization=%{y}<extra></extra>",
         "legendgroup": "500mb_nci",
         "line": {
          "color": "#ab63fa",
          "dash": "solid"
         },
         "marker": {
          "symbol": "circle"
         },
         "mode": "lines+markers",
         "name": "500mb_nci",
         "orientation": "v",
         "showlegend": false,
         "type": "scatter",
         "x": [
          16384000,
          4096000,
          1024000,
          256000,
          64000,
          16000,
          4000
         ],
         "xaxis": "x3",
         "y": [
          1.0024929467433985,
          1.0065427374918543,
          1.018317570368156,
          4.307146347751969,
          13.868405154377129,
          23.050513762948068,
          31.175594836211992
         ],
         "yaxis": "y3"
        },
        {
         "hovertemplate": "file=500mb_nci<br>standard=bitcomp<br>chunk_size=%{x}<br>decompression_utilization=%{y}<extra></extra>",
         "legendgroup": "500mb_nci",
         "line": {
          "color": "#ab63fa",
          "dash": "solid"
         },
         "marker": {
          "symbol": "circle"
         },
         "mode": "lines+markers",
         "name": "500mb_nci",
         "orientation": "v",
         "showlegend": false,
         "type": "scatter",
         "x": [
          65536000,
          16384000,
          4096000,
          1024000,
          256000,
          64000,
          16000,
          4000
         ],
         "xaxis": "x2",
         "y": [
          1.0121611413927463,
          3.3142605479529754,
          3.9509119245987776,
          11.21433176668892,
          23.963655882813956,
          23.505998013594464,
          14.443637479875777,
          33.05053505974696
         ],
         "yaxis": "y2"
        },
        {
         "hovertemplate": "file=500mb_samba<br>standard=snappy<br>chunk_size=%{x}<br>decompression_utilization=%{y}<extra></extra>",
         "legendgroup": "500mb_samba",
         "line": {
          "color": "#FFA15A",
          "dash": "solid"
         },
         "marker": {
          "symbol": "circle"
         },
         "mode": "lines+markers",
         "name": "500mb_samba",
         "orientation": "v",
         "showlegend": true,
         "type": "scatter",
         "x": [
          65536000,
          16384000,
          4096000,
          1024000,
          256000,
          64000,
          16000,
          4000
         ],
         "xaxis": "x6",
         "y": [
          0.9999599601384022,
          1.0009989680498554,
          1.0007187706282874,
          1.0048577092154876,
          65.90423049487403,
          8.919600090326036,
          16.488268402175926,
          21.852286931745507
         ],
         "yaxis": "y6"
        },
        {
         "hovertemplate": "file=500mb_samba<br>standard=zstd<br>chunk_size=%{x}<br>decompression_utilization=%{y}<extra></extra>",
         "legendgroup": "500mb_samba",
         "line": {
          "color": "#FFA15A",
          "dash": "solid"
         },
         "marker": {
          "symbol": "circle"
         },
         "mode": "lines+markers",
         "name": "500mb_samba",
         "orientation": "v",
         "showlegend": false,
         "type": "scatter",
         "x": [
          16384000,
          4096000,
          1024000,
          256000,
          64000,
          16000,
          4000
         ],
         "xaxis": "x5",
         "y": [
          0.9999167633061041,
          0.9999211132461363,
          2.0402701701192463,
          3.9414878630710914,
          10.682968161372095,
          12.091466535469063,
          12.386497692097501
         ],
         "yaxis": "y5"
        },
        {
         "hovertemplate": "file=500mb_samba<br>standard=gdeflate<br>chunk_size=%{x}<br>decompression_utilization=%{y}<extra></extra>",
         "legendgroup": "500mb_samba",
         "line": {
          "color": "#FFA15A",
          "dash": "solid"
         },
         "marker": {
          "symbol": "circle"
         },
         "mode": "lines+markers",
         "name": "500mb_samba",
         "orientation": "v",
         "showlegend": false,
         "type": "scatter",
         "x": [
          64000,
          16000,
          4000
         ],
         "xaxis": "x4",
         "y": [
          5.9746842803649765,
          11.409873555471961,
          13.620712511487431
         ],
         "yaxis": "y4"
        },
        {
         "hovertemplate": "file=500mb_samba<br>standard=lz4<br>chunk_size=%{x}<br>decompression_utilization=%{y}<extra></extra>",
         "legendgroup": "500mb_samba",
         "line": {
          "color": "#FFA15A",
          "dash": "solid"
         },
         "marker": {
          "symbol": "circle"
         },
         "mode": "lines+markers",
         "name": "500mb_samba",
         "orientation": "v",
         "showlegend": false,
         "type": "scatter",
         "x": [
          16384000,
          4096000,
          1024000,
          256000,
          64000,
          16000,
          4000
         ],
         "xaxis": "x3",
         "y": [
          1.0006222489707226,
          1.0003236679687153,
          0.9996008717488567,
          2.1992241348655854,
          6.429467789064882,
          12.807601278973396,
          20.362503877152925
         ],
         "yaxis": "y3"
        },
        {
         "hovertemplate": "file=500mb_samba<br>standard=bitcomp<br>chunk_size=%{x}<br>decompression_utilization=%{y}<extra></extra>",
         "legendgroup": "500mb_samba",
         "line": {
          "color": "#FFA15A",
          "dash": "solid"
         },
         "marker": {
          "symbol": "circle"
         },
         "mode": "lines+markers",
         "name": "500mb_samba",
         "orientation": "v",
         "showlegend": false,
         "type": "scatter",
         "x": [
          65536000,
          16384000,
          4096000,
          1024000,
          256000,
          64000,
          16000,
          4000
         ],
         "xaxis": "x2",
         "y": [
          0.9936555072825407,
          1.067273570931731,
          2.0391330937656162,
          7.8349250422782415,
          0.7538129213850887,
          4.2857134145101945,
          10.66260843098463,
          37.5
         ],
         "yaxis": "y2"
        },
        {
         "hovertemplate": "file=500mb_samba<br>standard=cascaded<br>chunk_size=%{x}<br>decompression_utilization=%{y}<extra></extra>",
         "legendgroup": "500mb_samba",
         "line": {
          "color": "#FFA15A",
          "dash": "solid"
         },
         "marker": {
          "symbol": "circle"
         },
         "mode": "lines+markers",
         "name": "500mb_samba",
         "orientation": "v",
         "showlegend": false,
         "type": "scatter",
         "x": [
          65536000,
          16384000,
          4096000,
          1024000,
          256000,
          64000,
          16000,
          4000
         ],
         "xaxis": "x",
         "y": [
          0.9995410372118112,
          1.0162726902451888,
          1,
          1.3181835572330736,
          13.314236392779346,
          20.279844314643626,
          31.456346582861194,
          35.79993202307371
         ],
         "yaxis": "y"
        },
        {
         "hovertemplate": "file=500mb_sao<br>standard=snappy<br>chunk_size=%{x}<br>decompression_utilization=%{y}<extra></extra>",
         "legendgroup": "500mb_sao",
         "line": {
          "color": "#19d3f3",
          "dash": "solid"
         },
         "marker": {
          "symbol": "circle"
         },
         "mode": "lines+markers",
         "name": "500mb_sao",
         "orientation": "v",
         "showlegend": true,
         "type": "scatter",
         "x": [
          65536000,
          16384000,
          4096000,
          1024000,
          256000,
          64000,
          16000,
          4000
         ],
         "xaxis": "x6",
         "y": [
          0.999956872002586,
          0.9999568746918549,
          0.9999144119205954,
          0.9995928656635651,
          1.2689787860225312,
          5.45399639778653,
          17.183191587497348,
          19.965001773427453
         ],
         "yaxis": "y6"
        },
        {
         "hovertemplate": "file=500mb_sao<br>standard=zstd<br>chunk_size=%{x}<br>decompression_utilization=%{y}<extra></extra>",
         "legendgroup": "500mb_sao",
         "line": {
          "color": "#19d3f3",
          "dash": "solid"
         },
         "marker": {
          "symbol": "circle"
         },
         "mode": "lines+markers",
         "name": "500mb_sao",
         "orientation": "v",
         "showlegend": false,
         "type": "scatter",
         "x": [
          65536000,
          16384000,
          4096000,
          1024000,
          256000,
          64000,
          16000,
          4000
         ],
         "xaxis": "x5",
         "y": [
          0.9998890840786648,
          0.9999557086122237,
          0.9999462421721631,
          0.9998704115005206,
          2.0058196710820444,
          6.179349041320737,
          11.43636916482237,
          10.265427081912023
         ],
         "yaxis": "y5"
        },
        {
         "hovertemplate": "file=500mb_sao<br>standard=gdeflate<br>chunk_size=%{x}<br>decompression_utilization=%{y}<extra></extra>",
         "legendgroup": "500mb_sao",
         "line": {
          "color": "#19d3f3",
          "dash": "solid"
         },
         "marker": {
          "symbol": "circle"
         },
         "mode": "lines+markers",
         "name": "500mb_sao",
         "orientation": "v",
         "showlegend": false,
         "type": "scatter",
         "x": [
          64000,
          16000,
          4000
         ],
         "xaxis": "x4",
         "y": [
          3.24983427352241,
          8.403767919841254,
          8.806432293284018
         ],
         "yaxis": "y4"
        },
        {
         "hovertemplate": "file=500mb_sao<br>standard=lz4<br>chunk_size=%{x}<br>decompression_utilization=%{y}<extra></extra>",
         "legendgroup": "500mb_sao",
         "line": {
          "color": "#19d3f3",
          "dash": "solid"
         },
         "marker": {
          "symbol": "circle"
         },
         "mode": "lines+markers",
         "name": "500mb_sao",
         "orientation": "v",
         "showlegend": false,
         "type": "scatter",
         "x": [
          65536000,
          16384000,
          4096000,
          1024000,
          256000,
          64000,
          16000,
          4000
         ],
         "xaxis": "x3",
         "y": [
          0.9999777563503022,
          0.99997793357844,
          0.9999565513004549,
          0.9998272765838314,
          0.9993589791758497,
          3.25612694849562,
          9.28475699732251,
          11.095594550131526
         ],
         "yaxis": "y3"
        },
        {
         "hovertemplate": "file=500mb_sao<br>standard=bitcomp<br>chunk_size=%{x}<br>decompression_utilization=%{y}<extra></extra>",
         "legendgroup": "500mb_sao",
         "line": {
          "color": "#19d3f3",
          "dash": "solid"
         },
         "marker": {
          "symbol": "circle"
         },
         "mode": "lines+markers",
         "name": "500mb_sao",
         "orientation": "v",
         "showlegend": false,
         "type": "scatter",
         "x": [
          65536000,
          16384000,
          4096000,
          1024000,
          256000,
          64000,
          16000,
          4000
         ],
         "xaxis": "x2",
         "y": [
          0.9910098696795632,
          0.9908144268193076,
          0.9814833593607399,
          2.3045758103441623,
          2.8010923269854104,
          0,
          0,
          17.32713484313318
         ],
         "yaxis": "y2"
        },
        {
         "hovertemplate": "file=500mb_sao<br>standard=cascaded<br>chunk_size=%{x}<br>decompression_utilization=%{y}<extra></extra>",
         "legendgroup": "500mb_sao",
         "line": {
          "color": "#19d3f3",
          "dash": "solid"
         },
         "marker": {
          "symbol": "circle"
         },
         "mode": "lines+markers",
         "name": "500mb_sao",
         "orientation": "v",
         "showlegend": false,
         "type": "scatter",
         "x": [
          65536000,
          16384000,
          4096000,
          1024000,
          256000,
          64000,
          16000,
          4000
         ],
         "xaxis": "x",
         "y": [
          1.0002554920313111,
          1.0007610193558882,
          0.9990291842382722,
          9.941611251978788,
          4.356533954191042,
          12.424301645218744,
          18.04602143404059,
          22.104806824855746
         ],
         "yaxis": "y"
        },
        {
         "hovertemplate": "file=500mb_silesia.zip<br>standard=snappy<br>chunk_size=%{x}<br>decompression_utilization=%{y}<extra></extra>",
         "legendgroup": "500mb_silesia.zip",
         "line": {
          "color": "#FF6692",
          "dash": "solid"
         },
         "marker": {
          "symbol": "circle"
         },
         "mode": "lines+markers",
         "name": "500mb_silesia.zip",
         "orientation": "v",
         "showlegend": true,
         "type": "scatter",
         "x": [
          65536000,
          16384000,
          4096000,
          1024000,
          256000,
          64000,
          16000,
          4000
         ],
         "xaxis": "x6",
         "y": [
          1.0046573512907429,
          1.0098965297134037,
          1.0227492718963398,
          1.9232162096797814,
          5.153079567640252,
          8.605687651092929,
          12.554860178571703,
          14.748320637887762
         ],
         "yaxis": "y6"
        },
        {
         "hovertemplate": "file=500mb_silesia.zip<br>standard=zstd<br>chunk_size=%{x}<br>decompression_utilization=%{y}<extra></extra>",
         "legendgroup": "500mb_silesia.zip",
         "line": {
          "color": "#FF6692",
          "dash": "solid"
         },
         "marker": {
          "symbol": "circle"
         },
         "mode": "lines+markers",
         "name": "500mb_silesia.zip",
         "orientation": "v",
         "showlegend": false,
         "type": "scatter",
         "x": [
          64000,
          16000,
          4000
         ],
         "xaxis": "x5",
         "y": [
          3.295516693649498,
          4.1467259719207075,
          5.314668609205949
         ],
         "yaxis": "y5"
        },
        {
         "hovertemplate": "file=500mb_silesia.zip<br>standard=gdeflate<br>chunk_size=%{x}<br>decompression_utilization=%{y}<extra></extra>",
         "legendgroup": "500mb_silesia.zip",
         "line": {
          "color": "#FF6692",
          "dash": "solid"
         },
         "marker": {
          "symbol": "circle"
         },
         "mode": "lines+markers",
         "name": "500mb_silesia.zip",
         "orientation": "v",
         "showlegend": false,
         "type": "scatter",
         "x": [
          64000,
          16000,
          4000
         ],
         "xaxis": "x4",
         "y": [
          2.868335978365031,
          3.3422554575888785,
          5.001921994863471
         ],
         "yaxis": "y4"
        },
        {
         "hovertemplate": "file=500mb_silesia.zip<br>standard=lz4<br>chunk_size=%{x}<br>decompression_utilization=%{y}<extra></extra>",
         "legendgroup": "500mb_silesia.zip",
         "line": {
          "color": "#FF6692",
          "dash": "solid"
         },
         "marker": {
          "symbol": "circle"
         },
         "mode": "lines+markers",
         "name": "500mb_silesia.zip",
         "orientation": "v",
         "showlegend": false,
         "type": "scatter",
         "x": [
          16384000,
          4096000,
          1024000,
          256000,
          64000,
          16000,
          4000
         ],
         "xaxis": "x3",
         "y": [
          1.0046557786229107,
          1,
          1.0192330850134876,
          2.132709340477925,
          1.9621887864884646,
          2.091333958675583,
          3.857762111148526
         ],
         "yaxis": "y3"
        },
        {
         "hovertemplate": "file=500mb_silesia.zip<br>standard=bitcomp<br>chunk_size=%{x}<br>decompression_utilization=%{y}<extra></extra>",
         "legendgroup": "500mb_silesia.zip",
         "line": {
          "color": "#FF6692",
          "dash": "solid"
         },
         "marker": {
          "symbol": "circle"
         },
         "mode": "lines+markers",
         "name": "500mb_silesia.zip",
         "orientation": "v",
         "showlegend": false,
         "type": "scatter",
         "x": [
          65536000,
          16384000,
          4096000,
          1024000,
          256000,
          64000,
          16000,
          4000
         ],
         "xaxis": "x2",
         "y": [
          1.2839186157857905,
          2.678519106393051,
          6.211851564555802,
          18.868535026037545,
          19.72530569923819,
          24.384571058598887,
          26.742867278894174,
          37.99994146103208
         ],
         "yaxis": "y2"
        },
        {
         "hovertemplate": "file=500mb_xml<br>standard=snappy<br>chunk_size=%{x}<br>decompression_utilization=%{y}<extra></extra>",
         "legendgroup": "500mb_xml",
         "line": {
          "color": "#B6E880",
          "dash": "solid"
         },
         "marker": {
          "symbol": "circle"
         },
         "mode": "lines+markers",
         "name": "500mb_xml",
         "orientation": "v",
         "showlegend": true,
         "type": "scatter",
         "x": [
          65536000,
          16384000,
          4096000,
          1024000,
          256000,
          64000,
          16000,
          4000
         ],
         "xaxis": "x6",
         "y": [
          0.9999497820139889,
          1.0000501912842013,
          1.0000529728668326,
          0.9997006161033859,
          1.001089467794328,
          2.5011168357924567,
          9.722745062745895,
          17.40823824295624
         ],
         "yaxis": "y6"
        },
        {
         "hovertemplate": "file=500mb_xml<br>standard=zstd<br>chunk_size=%{x}<br>decompression_utilization=%{y}<extra></extra>",
         "legendgroup": "500mb_xml",
         "line": {
          "color": "#B6E880",
          "dash": "solid"
         },
         "marker": {
          "symbol": "circle"
         },
         "mode": "lines+markers",
         "name": "500mb_xml",
         "orientation": "v",
         "showlegend": false,
         "type": "scatter",
         "x": [
          65536000,
          16384000,
          4096000,
          1024000,
          256000,
          64000,
          16000,
          4000
         ],
         "xaxis": "x5",
         "y": [
          0.9999132029452867,
          0.9999137342265019,
          0.9998632078178251,
          0.9998683563132909,
          1.068532505552367,
          2.9310796650542175,
          10.903490872801555,
          12.32344742716577
         ],
         "yaxis": "y5"
        },
        {
         "hovertemplate": "file=500mb_xml<br>standard=gdeflate<br>chunk_size=%{x}<br>decompression_utilization=%{y}<extra></extra>",
         "legendgroup": "500mb_xml",
         "line": {
          "color": "#B6E880",
          "dash": "solid"
         },
         "marker": {
          "symbol": "circle"
         },
         "mode": "lines+markers",
         "name": "500mb_xml",
         "orientation": "v",
         "showlegend": false,
         "type": "scatter",
         "x": [
          64000,
          16000,
          4000
         ],
         "xaxis": "x4",
         "y": [
          -1,
          6.113156733294102,
          13.45835051496164
         ],
         "yaxis": "y4"
        },
        {
         "hovertemplate": "file=500mb_xml<br>standard=lz4<br>chunk_size=%{x}<br>decompression_utilization=%{y}<extra></extra>",
         "legendgroup": "500mb_xml",
         "line": {
          "color": "#B6E880",
          "dash": "solid"
         },
         "marker": {
          "symbol": "circle"
         },
         "mode": "lines+markers",
         "name": "500mb_xml",
         "orientation": "v",
         "showlegend": false,
         "type": "scatter",
         "x": [
          65536000,
          16384000,
          4096000,
          1024000,
          256000,
          64000,
          16000,
          4000
         ],
         "xaxis": "x3",
         "y": [
          1,
          0.9999638001347315,
          0.9999186312702459,
          0.9998500117722282,
          18.634999680778925,
          2.140407142546859,
          6.678548125219345,
          15.199893401370053
         ],
         "yaxis": "y3"
        },
        {
         "hovertemplate": "file=500mb_xml<br>standard=bitcomp<br>chunk_size=%{x}<br>decompression_utilization=%{y}<extra></extra>",
         "legendgroup": "500mb_xml",
         "line": {
          "color": "#B6E880",
          "dash": "solid"
         },
         "marker": {
          "symbol": "circle"
         },
         "mode": "lines+markers",
         "name": "500mb_xml",
         "orientation": "v",
         "showlegend": false,
         "type": "scatter",
         "x": [
          65536000,
          16384000,
          4096000,
          1024000,
          256000,
          64000,
          16000,
          4000
         ],
         "xaxis": "x2",
         "y": [
          0.9931026415294184,
          0.9929685568523845,
          0.9608988779500154,
          1.696566232303391,
          2.697940090502762,
          -1,
          1,
          2
         ],
         "yaxis": "y2"
        },
        {
         "hovertemplate": "file=500mb_xml<br>standard=cascaded<br>chunk_size=%{x}<br>decompression_utilization=%{y}<extra></extra>",
         "legendgroup": "500mb_xml",
         "line": {
          "color": "#B6E880",
          "dash": "solid"
         },
         "marker": {
          "symbol": "circle"
         },
         "mode": "lines+markers",
         "name": "500mb_xml",
         "orientation": "v",
         "showlegend": false,
         "type": "scatter",
         "x": [
          65536000,
          16384000,
          4096000,
          1024000,
          256000,
          64000,
          16000,
          4000
         ],
         "xaxis": "x",
         "y": [
          0.999486283369665,
          0.999486474079277,
          0,
          7.20398739339025,
          27.531168970382492,
          9.55728350618165,
          10.010066540367617,
          4.4148126681846405
         ],
         "yaxis": "y"
        }
       ],
       "layout": {
        "annotations": [
         {
          "font": {},
          "showarrow": false,
          "text": "standard=cascaded",
          "textangle": 90,
          "x": 0.98,
          "xanchor": "left",
          "xref": "paper",
          "y": 0.07083333333333333,
          "yanchor": "middle",
          "yref": "paper"
         },
         {
          "font": {},
          "showarrow": false,
          "text": "standard=bitcomp",
          "textangle": 90,
          "x": 0.98,
          "xanchor": "left",
          "xref": "paper",
          "y": 0.2425,
          "yanchor": "middle",
          "yref": "paper"
         },
         {
          "font": {},
          "showarrow": false,
          "text": "standard=lz4",
          "textangle": 90,
          "x": 0.98,
          "xanchor": "left",
          "xref": "paper",
          "y": 0.4141666666666667,
          "yanchor": "middle",
          "yref": "paper"
         },
         {
          "font": {},
          "showarrow": false,
          "text": "standard=gdeflate",
          "textangle": 90,
          "x": 0.98,
          "xanchor": "left",
          "xref": "paper",
          "y": 0.5858333333333334,
          "yanchor": "middle",
          "yref": "paper"
         },
         {
          "font": {},
          "showarrow": false,
          "text": "standard=zstd",
          "textangle": 90,
          "x": 0.98,
          "xanchor": "left",
          "xref": "paper",
          "y": 0.7575000000000001,
          "yanchor": "middle",
          "yref": "paper"
         },
         {
          "font": {},
          "showarrow": false,
          "text": "standard=snappy",
          "textangle": 90,
          "x": 0.98,
          "xanchor": "left",
          "xref": "paper",
          "y": 0.9291666666666667,
          "yanchor": "middle",
          "yref": "paper"
         }
        ],
        "height": 1000,
        "legend": {
         "title": {
          "text": "file"
         },
         "tracegroupgap": 0
        },
        "template": {
         "data": {
          "bar": [
           {
            "error_x": {
             "color": "#2a3f5f"
            },
            "error_y": {
             "color": "#2a3f5f"
            },
            "marker": {
             "line": {
              "color": "#E5ECF6",
              "width": 0.5
             },
             "pattern": {
              "fillmode": "overlay",
              "size": 10,
              "solidity": 0.2
             }
            },
            "type": "bar"
           }
          ],
          "barpolar": [
           {
            "marker": {
             "line": {
              "color": "#E5ECF6",
              "width": 0.5
             },
             "pattern": {
              "fillmode": "overlay",
              "size": 10,
              "solidity": 0.2
             }
            },
            "type": "barpolar"
           }
          ],
          "carpet": [
           {
            "aaxis": {
             "endlinecolor": "#2a3f5f",
             "gridcolor": "white",
             "linecolor": "white",
             "minorgridcolor": "white",
             "startlinecolor": "#2a3f5f"
            },
            "baxis": {
             "endlinecolor": "#2a3f5f",
             "gridcolor": "white",
             "linecolor": "white",
             "minorgridcolor": "white",
             "startlinecolor": "#2a3f5f"
            },
            "type": "carpet"
           }
          ],
          "choropleth": [
           {
            "colorbar": {
             "outlinewidth": 0,
             "ticks": ""
            },
            "type": "choropleth"
           }
          ],
          "contour": [
           {
            "colorbar": {
             "outlinewidth": 0,
             "ticks": ""
            },
            "colorscale": [
             [
              0,
              "#0d0887"
             ],
             [
              0.1111111111111111,
              "#46039f"
             ],
             [
              0.2222222222222222,
              "#7201a8"
             ],
             [
              0.3333333333333333,
              "#9c179e"
             ],
             [
              0.4444444444444444,
              "#bd3786"
             ],
             [
              0.5555555555555556,
              "#d8576b"
             ],
             [
              0.6666666666666666,
              "#ed7953"
             ],
             [
              0.7777777777777778,
              "#fb9f3a"
             ],
             [
              0.8888888888888888,
              "#fdca26"
             ],
             [
              1,
              "#f0f921"
             ]
            ],
            "type": "contour"
           }
          ],
          "contourcarpet": [
           {
            "colorbar": {
             "outlinewidth": 0,
             "ticks": ""
            },
            "type": "contourcarpet"
           }
          ],
          "heatmap": [
           {
            "colorbar": {
             "outlinewidth": 0,
             "ticks": ""
            },
            "colorscale": [
             [
              0,
              "#0d0887"
             ],
             [
              0.1111111111111111,
              "#46039f"
             ],
             [
              0.2222222222222222,
              "#7201a8"
             ],
             [
              0.3333333333333333,
              "#9c179e"
             ],
             [
              0.4444444444444444,
              "#bd3786"
             ],
             [
              0.5555555555555556,
              "#d8576b"
             ],
             [
              0.6666666666666666,
              "#ed7953"
             ],
             [
              0.7777777777777778,
              "#fb9f3a"
             ],
             [
              0.8888888888888888,
              "#fdca26"
             ],
             [
              1,
              "#f0f921"
             ]
            ],
            "type": "heatmap"
           }
          ],
          "heatmapgl": [
           {
            "colorbar": {
             "outlinewidth": 0,
             "ticks": ""
            },
            "colorscale": [
             [
              0,
              "#0d0887"
             ],
             [
              0.1111111111111111,
              "#46039f"
             ],
             [
              0.2222222222222222,
              "#7201a8"
             ],
             [
              0.3333333333333333,
              "#9c179e"
             ],
             [
              0.4444444444444444,
              "#bd3786"
             ],
             [
              0.5555555555555556,
              "#d8576b"
             ],
             [
              0.6666666666666666,
              "#ed7953"
             ],
             [
              0.7777777777777778,
              "#fb9f3a"
             ],
             [
              0.8888888888888888,
              "#fdca26"
             ],
             [
              1,
              "#f0f921"
             ]
            ],
            "type": "heatmapgl"
           }
          ],
          "histogram": [
           {
            "marker": {
             "pattern": {
              "fillmode": "overlay",
              "size": 10,
              "solidity": 0.2
             }
            },
            "type": "histogram"
           }
          ],
          "histogram2d": [
           {
            "colorbar": {
             "outlinewidth": 0,
             "ticks": ""
            },
            "colorscale": [
             [
              0,
              "#0d0887"
             ],
             [
              0.1111111111111111,
              "#46039f"
             ],
             [
              0.2222222222222222,
              "#7201a8"
             ],
             [
              0.3333333333333333,
              "#9c179e"
             ],
             [
              0.4444444444444444,
              "#bd3786"
             ],
             [
              0.5555555555555556,
              "#d8576b"
             ],
             [
              0.6666666666666666,
              "#ed7953"
             ],
             [
              0.7777777777777778,
              "#fb9f3a"
             ],
             [
              0.8888888888888888,
              "#fdca26"
             ],
             [
              1,
              "#f0f921"
             ]
            ],
            "type": "histogram2d"
           }
          ],
          "histogram2dcontour": [
           {
            "colorbar": {
             "outlinewidth": 0,
             "ticks": ""
            },
            "colorscale": [
             [
              0,
              "#0d0887"
             ],
             [
              0.1111111111111111,
              "#46039f"
             ],
             [
              0.2222222222222222,
              "#7201a8"
             ],
             [
              0.3333333333333333,
              "#9c179e"
             ],
             [
              0.4444444444444444,
              "#bd3786"
             ],
             [
              0.5555555555555556,
              "#d8576b"
             ],
             [
              0.6666666666666666,
              "#ed7953"
             ],
             [
              0.7777777777777778,
              "#fb9f3a"
             ],
             [
              0.8888888888888888,
              "#fdca26"
             ],
             [
              1,
              "#f0f921"
             ]
            ],
            "type": "histogram2dcontour"
           }
          ],
          "mesh3d": [
           {
            "colorbar": {
             "outlinewidth": 0,
             "ticks": ""
            },
            "type": "mesh3d"
           }
          ],
          "parcoords": [
           {
            "line": {
             "colorbar": {
              "outlinewidth": 0,
              "ticks": ""
             }
            },
            "type": "parcoords"
           }
          ],
          "pie": [
           {
            "automargin": true,
            "type": "pie"
           }
          ],
          "scatter": [
           {
            "fillpattern": {
             "fillmode": "overlay",
             "size": 10,
             "solidity": 0.2
            },
            "type": "scatter"
           }
          ],
          "scatter3d": [
           {
            "line": {
             "colorbar": {
              "outlinewidth": 0,
              "ticks": ""
             }
            },
            "marker": {
             "colorbar": {
              "outlinewidth": 0,
              "ticks": ""
             }
            },
            "type": "scatter3d"
           }
          ],
          "scattercarpet": [
           {
            "marker": {
             "colorbar": {
              "outlinewidth": 0,
              "ticks": ""
             }
            },
            "type": "scattercarpet"
           }
          ],
          "scattergeo": [
           {
            "marker": {
             "colorbar": {
              "outlinewidth": 0,
              "ticks": ""
             }
            },
            "type": "scattergeo"
           }
          ],
          "scattergl": [
           {
            "marker": {
             "colorbar": {
              "outlinewidth": 0,
              "ticks": ""
             }
            },
            "type": "scattergl"
           }
          ],
          "scattermapbox": [
           {
            "marker": {
             "colorbar": {
              "outlinewidth": 0,
              "ticks": ""
             }
            },
            "type": "scattermapbox"
           }
          ],
          "scatterpolar": [
           {
            "marker": {
             "colorbar": {
              "outlinewidth": 0,
              "ticks": ""
             }
            },
            "type": "scatterpolar"
           }
          ],
          "scatterpolargl": [
           {
            "marker": {
             "colorbar": {
              "outlinewidth": 0,
              "ticks": ""
             }
            },
            "type": "scatterpolargl"
           }
          ],
          "scatterternary": [
           {
            "marker": {
             "colorbar": {
              "outlinewidth": 0,
              "ticks": ""
             }
            },
            "type": "scatterternary"
           }
          ],
          "surface": [
           {
            "colorbar": {
             "outlinewidth": 0,
             "ticks": ""
            },
            "colorscale": [
             [
              0,
              "#0d0887"
             ],
             [
              0.1111111111111111,
              "#46039f"
             ],
             [
              0.2222222222222222,
              "#7201a8"
             ],
             [
              0.3333333333333333,
              "#9c179e"
             ],
             [
              0.4444444444444444,
              "#bd3786"
             ],
             [
              0.5555555555555556,
              "#d8576b"
             ],
             [
              0.6666666666666666,
              "#ed7953"
             ],
             [
              0.7777777777777778,
              "#fb9f3a"
             ],
             [
              0.8888888888888888,
              "#fdca26"
             ],
             [
              1,
              "#f0f921"
             ]
            ],
            "type": "surface"
           }
          ],
          "table": [
           {
            "cells": {
             "fill": {
              "color": "#EBF0F8"
             },
             "line": {
              "color": "white"
             }
            },
            "header": {
             "fill": {
              "color": "#C8D4E3"
             },
             "line": {
              "color": "white"
             }
            },
            "type": "table"
           }
          ]
         },
         "layout": {
          "annotationdefaults": {
           "arrowcolor": "#2a3f5f",
           "arrowhead": 0,
           "arrowwidth": 1
          },
          "autotypenumbers": "strict",
          "coloraxis": {
           "colorbar": {
            "outlinewidth": 0,
            "ticks": ""
           }
          },
          "colorscale": {
           "diverging": [
            [
             0,
             "#8e0152"
            ],
            [
             0.1,
             "#c51b7d"
            ],
            [
             0.2,
             "#de77ae"
            ],
            [
             0.3,
             "#f1b6da"
            ],
            [
             0.4,
             "#fde0ef"
            ],
            [
             0.5,
             "#f7f7f7"
            ],
            [
             0.6,
             "#e6f5d0"
            ],
            [
             0.7,
             "#b8e186"
            ],
            [
             0.8,
             "#7fbc41"
            ],
            [
             0.9,
             "#4d9221"
            ],
            [
             1,
             "#276419"
            ]
           ],
           "sequential": [
            [
             0,
             "#0d0887"
            ],
            [
             0.1111111111111111,
             "#46039f"
            ],
            [
             0.2222222222222222,
             "#7201a8"
            ],
            [
             0.3333333333333333,
             "#9c179e"
            ],
            [
             0.4444444444444444,
             "#bd3786"
            ],
            [
             0.5555555555555556,
             "#d8576b"
            ],
            [
             0.6666666666666666,
             "#ed7953"
            ],
            [
             0.7777777777777778,
             "#fb9f3a"
            ],
            [
             0.8888888888888888,
             "#fdca26"
            ],
            [
             1,
             "#f0f921"
            ]
           ],
           "sequentialminus": [
            [
             0,
             "#0d0887"
            ],
            [
             0.1111111111111111,
             "#46039f"
            ],
            [
             0.2222222222222222,
             "#7201a8"
            ],
            [
             0.3333333333333333,
             "#9c179e"
            ],
            [
             0.4444444444444444,
             "#bd3786"
            ],
            [
             0.5555555555555556,
             "#d8576b"
            ],
            [
             0.6666666666666666,
             "#ed7953"
            ],
            [
             0.7777777777777778,
             "#fb9f3a"
            ],
            [
             0.8888888888888888,
             "#fdca26"
            ],
            [
             1,
             "#f0f921"
            ]
           ]
          },
          "colorway": [
           "#636efa",
           "#EF553B",
           "#00cc96",
           "#ab63fa",
           "#FFA15A",
           "#19d3f3",
           "#FF6692",
           "#B6E880",
           "#FF97FF",
           "#FECB52"
          ],
          "font": {
           "color": "#2a3f5f"
          },
          "geo": {
           "bgcolor": "white",
           "lakecolor": "white",
           "landcolor": "#E5ECF6",
           "showlakes": true,
           "showland": true,
           "subunitcolor": "white"
          },
          "hoverlabel": {
           "align": "left"
          },
          "hovermode": "closest",
          "mapbox": {
           "style": "light"
          },
          "paper_bgcolor": "white",
          "plot_bgcolor": "#E5ECF6",
          "polar": {
           "angularaxis": {
            "gridcolor": "white",
            "linecolor": "white",
            "ticks": ""
           },
           "bgcolor": "#E5ECF6",
           "radialaxis": {
            "gridcolor": "white",
            "linecolor": "white",
            "ticks": ""
           }
          },
          "scene": {
           "xaxis": {
            "backgroundcolor": "#E5ECF6",
            "gridcolor": "white",
            "gridwidth": 2,
            "linecolor": "white",
            "showbackground": true,
            "ticks": "",
            "zerolinecolor": "white"
           },
           "yaxis": {
            "backgroundcolor": "#E5ECF6",
            "gridcolor": "white",
            "gridwidth": 2,
            "linecolor": "white",
            "showbackground": true,
            "ticks": "",
            "zerolinecolor": "white"
           },
           "zaxis": {
            "backgroundcolor": "#E5ECF6",
            "gridcolor": "white",
            "gridwidth": 2,
            "linecolor": "white",
            "showbackground": true,
            "ticks": "",
            "zerolinecolor": "white"
           }
          },
          "shapedefaults": {
           "line": {
            "color": "#2a3f5f"
           }
          },
          "ternary": {
           "aaxis": {
            "gridcolor": "white",
            "linecolor": "white",
            "ticks": ""
           },
           "baxis": {
            "gridcolor": "white",
            "linecolor": "white",
            "ticks": ""
           },
           "bgcolor": "#E5ECF6",
           "caxis": {
            "gridcolor": "white",
            "linecolor": "white",
            "ticks": ""
           }
          },
          "title": {
           "x": 0.05
          },
          "xaxis": {
           "automargin": true,
           "gridcolor": "white",
           "linecolor": "white",
           "ticks": "",
           "title": {
            "standoff": 15
           },
           "zerolinecolor": "white",
           "zerolinewidth": 2
          },
          "yaxis": {
           "automargin": true,
           "gridcolor": "white",
           "linecolor": "white",
           "ticks": "",
           "title": {
            "standoff": 15
           },
           "zerolinecolor": "white",
           "zerolinewidth": 2
          }
         }
        },
        "title": {
         "text": "GPU utilization during decompression per compressor at different chunk sizes"
        },
        "width": 500,
        "xaxis": {
         "anchor": "y",
         "domain": [
          0,
          0.98
         ],
         "title": {
          "text": "chunk_size"
         },
         "type": "log"
        },
        "xaxis2": {
         "anchor": "y2",
         "domain": [
          0,
          0.98
         ],
         "matches": "x",
         "showticklabels": false,
         "type": "log"
        },
        "xaxis3": {
         "anchor": "y3",
         "domain": [
          0,
          0.98
         ],
         "matches": "x",
         "showticklabels": false,
         "type": "log"
        },
        "xaxis4": {
         "anchor": "y4",
         "domain": [
          0,
          0.98
         ],
         "matches": "x",
         "showticklabels": false,
         "type": "log"
        },
        "xaxis5": {
         "anchor": "y5",
         "domain": [
          0,
          0.98
         ],
         "matches": "x",
         "showticklabels": false,
         "type": "log"
        },
        "xaxis6": {
         "anchor": "y6",
         "domain": [
          0,
          0.98
         ],
         "matches": "x",
         "showticklabels": false,
         "type": "log"
        },
        "yaxis": {
         "anchor": "x",
         "domain": [
          0,
          0.14166666666666666
         ],
         "title": {
          "text": "decompression_utilization"
         }
        },
        "yaxis2": {
         "anchor": "x2",
         "domain": [
          0.17166666666666666,
          0.31333333333333335
         ],
         "matches": "y",
         "title": {
          "text": "decompression_utilization"
         }
        },
        "yaxis3": {
         "anchor": "x3",
         "domain": [
          0.3433333333333333,
          0.485
         ],
         "matches": "y",
         "title": {
          "text": "decompression_utilization"
         }
        },
        "yaxis4": {
         "anchor": "x4",
         "domain": [
          0.515,
          0.6566666666666667
         ],
         "matches": "y",
         "title": {
          "text": "decompression_utilization"
         }
        },
        "yaxis5": {
         "anchor": "x5",
         "domain": [
          0.6866666666666666,
          0.8283333333333334
         ],
         "matches": "y",
         "title": {
          "text": "decompression_utilization"
         }
        },
        "yaxis6": {
         "anchor": "x6",
         "domain": [
          0.8583333333333333,
          1
         ],
         "matches": "y",
         "title": {
          "text": "decompression_utilization"
         }
        }
       }
      }
     },
     "metadata": {},
     "output_type": "display_data"
    }
   ],
   "source": [
    "fig_utilization_standard = px.line(\n",
    "    result_df,\n",
    "    title=f\"GPU utilization during decompression per compressor at different chunk sizes\", \n",
    "    x=\"chunk_size\",\n",
    "    y=\"decompression_utilization\",\n",
    "    color=\"file\",\n",
    "    log_x=True,\n",
    "    markers=True,\n",
    "    #log_y=True,\n",
    "    facet_row=\"standard\",\n",
    "    # facet_col_spacing=0.05,\n",
    "    height=1000,\n",
    "    width=500,\n",
    ")\n",
    "# fig_utilization_standard.update_xaxes(autorange=\"reversed\")\n",
    "\n",
    "\n",
    "fig_utilization_standard.show()"
   ]
  },
  {
   "cell_type": "code",
   "execution_count": 33,
   "metadata": {},
   "outputs": [
    {
     "data": {
      "application/vnd.plotly.v1+json": {
       "config": {
        "plotlyServerURL": "https://plot.ly"
       },
       "data": [
        {
         "hovertemplate": "standard=snappy<br>file=500mb_dickens<br>chunk_size=%{x}<br>compression_utilization=%{y}<extra></extra>",
         "legendgroup": "snappy",
         "line": {
          "color": "#636efa",
          "dash": "solid"
         },
         "marker": {
          "symbol": "circle"
         },
         "mode": "lines+markers",
         "name": "snappy",
         "orientation": "v",
         "showlegend": true,
         "type": "scatter",
         "x": [
          65536000,
          16384000,
          4096000,
          1024000,
          256000,
          64000,
          16000,
          4000
         ],
         "xaxis": "x8",
         "y": [
          1,
          1,
          1,
          1,
          2.896453985879533,
          11.01350328204337,
          35.27354650286646,
          42.962988075823645
         ],
         "yaxis": "y8"
        },
        {
         "hovertemplate": "standard=snappy<br>file=500mb_mozilla<br>chunk_size=%{x}<br>compression_utilization=%{y}<extra></extra>",
         "legendgroup": "snappy",
         "line": {
          "color": "#636efa",
          "dash": "solid"
         },
         "marker": {
          "symbol": "circle"
         },
         "mode": "lines+markers",
         "name": "snappy",
         "orientation": "v",
         "showlegend": false,
         "type": "scatter",
         "x": [
          65536000,
          16384000,
          4096000,
          1024000,
          256000,
          64000,
          16000,
          4000
         ],
         "xaxis": "x7",
         "y": [
          1,
          1,
          1,
          3.073789244641145,
          10.480352299266944,
          33.01613179722545,
          45.164963329243214,
          52.14866174266943
         ],
         "yaxis": "y7"
        },
        {
         "hovertemplate": "standard=snappy<br>file=500mb_mr<br>chunk_size=%{x}<br>compression_utilization=%{y}<extra></extra>",
         "legendgroup": "snappy",
         "line": {
          "color": "#636efa",
          "dash": "solid"
         },
         "marker": {
          "symbol": "circle"
         },
         "mode": "lines+markers",
         "name": "snappy",
         "orientation": "v",
         "showlegend": false,
         "type": "scatter",
         "x": [
          65536000,
          16384000,
          4096000,
          1024000,
          256000,
          64000,
          16000,
          4000
         ],
         "xaxis": "x6",
         "y": [
          1,
          1,
          1,
          1,
          2.2194686833952524,
          8.073895109486173,
          24.31535702423659,
          35.743536396447546
         ],
         "yaxis": "y6"
        },
        {
         "hovertemplate": "standard=snappy<br>file=500mb_nci<br>chunk_size=%{x}<br>compression_utilization=%{y}<extra></extra>",
         "legendgroup": "snappy",
         "line": {
          "color": "#636efa",
          "dash": "solid"
         },
         "marker": {
          "symbol": "circle"
         },
         "mode": "lines+markers",
         "name": "snappy",
         "orientation": "v",
         "showlegend": false,
         "type": "scatter",
         "x": [
          65536000,
          16384000,
          4096000,
          1024000,
          256000,
          64000,
          16000,
          4000
         ],
         "xaxis": "x5",
         "y": [
          1,
          1,
          1,
          2.6800037996559256,
          9.298388579099385,
          27.887679930496894,
          43.560913297209105,
          51.1791126066814
         ],
         "yaxis": "y5"
        },
        {
         "hovertemplate": "standard=snappy<br>file=500mb_samba<br>chunk_size=%{x}<br>compression_utilization=%{y}<extra></extra>",
         "legendgroup": "snappy",
         "line": {
          "color": "#636efa",
          "dash": "solid"
         },
         "marker": {
          "symbol": "circle"
         },
         "mode": "lines+markers",
         "name": "snappy",
         "orientation": "v",
         "showlegend": false,
         "type": "scatter",
         "x": [
          65536000,
          16384000,
          4096000,
          1024000,
          256000,
          64000,
          16000,
          4000
         ],
         "xaxis": "x4",
         "y": [
          1,
          1,
          1,
          1.4467604888749328,
          56.24208760115674,
          12.980408850146482,
          32.47396953517445,
          46.728618173056354
         ],
         "yaxis": "y4"
        },
        {
         "hovertemplate": "standard=snappy<br>file=500mb_sao<br>chunk_size=%{x}<br>compression_utilization=%{y}<extra></extra>",
         "legendgroup": "snappy",
         "line": {
          "color": "#636efa",
          "dash": "solid"
         },
         "marker": {
          "symbol": "circle"
         },
         "mode": "lines+markers",
         "name": "snappy",
         "orientation": "v",
         "showlegend": false,
         "type": "scatter",
         "x": [
          65536000,
          16384000,
          4096000,
          1024000,
          256000,
          64000,
          16000,
          4000
         ],
         "xaxis": "x3",
         "y": [
          1,
          1,
          1,
          1,
          1.9325984462674686,
          7.401203368416967,
          25.315386619158872,
          36.09897770280182
         ],
         "yaxis": "y3"
        },
        {
         "hovertemplate": "standard=snappy<br>file=500mb_silesia.zip<br>chunk_size=%{x}<br>compression_utilization=%{y}<extra></extra>",
         "legendgroup": "snappy",
         "line": {
          "color": "#636efa",
          "dash": "solid"
         },
         "marker": {
          "symbol": "circle"
         },
         "mode": "lines+markers",
         "name": "snappy",
         "orientation": "v",
         "showlegend": false,
         "type": "scatter",
         "x": [
          65536000,
          16384000,
          4096000,
          1024000,
          256000,
          64000,
          16000,
          4000
         ],
         "xaxis": "x2",
         "y": [
          1,
          1,
          1,
          2.565218934694376,
          3.914817112426009,
          6.28939662250111,
          12.005479587220865,
          25.658981464501764
         ],
         "yaxis": "y2"
        },
        {
         "hovertemplate": "standard=snappy<br>file=500mb_xml<br>chunk_size=%{x}<br>compression_utilization=%{y}<extra></extra>",
         "legendgroup": "snappy",
         "line": {
          "color": "#636efa",
          "dash": "solid"
         },
         "marker": {
          "symbol": "circle"
         },
         "mode": "lines+markers",
         "name": "snappy",
         "orientation": "v",
         "showlegend": false,
         "type": "scatter",
         "x": [
          65536000,
          16384000,
          4096000,
          1024000,
          256000,
          64000,
          16000,
          4000
         ],
         "xaxis": "x",
         "y": [
          1,
          1,
          1,
          1,
          1.2980760506412827,
          3.1892889328637724,
          8.714293109584421,
          13.593853855538182
         ],
         "yaxis": "y"
        },
        {
         "hovertemplate": "standard=zstd<br>file=500mb_dickens<br>chunk_size=%{x}<br>compression_utilization=%{y}<extra></extra>",
         "legendgroup": "zstd",
         "line": {
          "color": "#EF553B",
          "dash": "solid"
         },
         "marker": {
          "symbol": "circle"
         },
         "mode": "lines+markers",
         "name": "zstd",
         "orientation": "v",
         "showlegend": true,
         "type": "scatter",
         "x": [
          65536000,
          16384000,
          4096000,
          1024000,
          256000,
          64000,
          16000,
          4000
         ],
         "xaxis": "x8",
         "y": [
          0.9999900848348572,
          0.9999897404926678,
          0.9999696251756912,
          0.9989471410709987,
          2.630331989967938,
          3.9500494602697924,
          14.457074466765686,
          21.24142324356418
         ],
         "yaxis": "y8"
        },
        {
         "hovertemplate": "standard=zstd<br>file=500mb_mozilla<br>chunk_size=%{x}<br>compression_utilization=%{y}<extra></extra>",
         "legendgroup": "zstd",
         "line": {
          "color": "#EF553B",
          "dash": "solid"
         },
         "marker": {
          "symbol": "circle"
         },
         "mode": "lines+markers",
         "name": "zstd",
         "orientation": "v",
         "showlegend": false,
         "type": "scatter",
         "x": [
          16384000,
          4096000,
          1024000,
          256000,
          64000,
          16000,
          4000
         ],
         "xaxis": "x7",
         "y": [
          0.999987326913543,
          1.0772946811598278,
          4.017232520184566,
          10.715399452153324,
          16.941879287443555,
          22.780615963105575,
          22.607106603486024
         ],
         "yaxis": "y7"
        },
        {
         "hovertemplate": "standard=zstd<br>file=500mb_mr<br>chunk_size=%{x}<br>compression_utilization=%{y}<extra></extra>",
         "legendgroup": "zstd",
         "line": {
          "color": "#EF553B",
          "dash": "solid"
         },
         "marker": {
          "symbol": "circle"
         },
         "mode": "lines+markers",
         "name": "zstd",
         "orientation": "v",
         "showlegend": false,
         "type": "scatter",
         "x": [
          65536000,
          16384000,
          4096000,
          1024000,
          256000,
          64000,
          16000,
          4000
         ],
         "xaxis": "x6",
         "y": [
          0.9999856204169771,
          0.9999853997073123,
          0.9999775211246433,
          0.9984449978552306,
          2.653434541915371,
          3.872089991538889,
          13.445767565725001,
          19.462786392623393
         ],
         "yaxis": "y6"
        },
        {
         "hovertemplate": "standard=zstd<br>file=500mb_nci<br>chunk_size=%{x}<br>compression_utilization=%{y}<extra></extra>",
         "legendgroup": "zstd",
         "line": {
          "color": "#EF553B",
          "dash": "solid"
         },
         "marker": {
          "symbol": "circle"
         },
         "mode": "lines+markers",
         "name": "zstd",
         "orientation": "v",
         "showlegend": false,
         "type": "scatter",
         "x": [
          16384000,
          4096000,
          1024000,
          256000,
          64000,
          16000,
          4000
         ],
         "xaxis": "x5",
         "y": [
          0.9999815385828222,
          0.9999298203845376,
          2.217538368138006,
          7.73908324246314,
          16.002553874838405,
          24.790152217421106,
          21.565394958935023
         ],
         "yaxis": "y5"
        },
        {
         "hovertemplate": "standard=zstd<br>file=500mb_samba<br>chunk_size=%{x}<br>compression_utilization=%{y}<extra></extra>",
         "legendgroup": "zstd",
         "line": {
          "color": "#EF553B",
          "dash": "solid"
         },
         "marker": {
          "symbol": "circle"
         },
         "mode": "lines+markers",
         "name": "zstd",
         "orientation": "v",
         "showlegend": false,
         "type": "scatter",
         "x": [
          16384000,
          4096000,
          1024000,
          256000,
          64000,
          16000,
          4000
         ],
         "xaxis": "x4",
         "y": [
          0.9999851278886969,
          0.999946318452267,
          1.7897251344348892,
          4.799199519655387,
          8.029262731919626,
          18.759566565730687,
          19.71560006224547
         ],
         "yaxis": "y4"
        },
        {
         "hovertemplate": "standard=zstd<br>file=500mb_sao<br>chunk_size=%{x}<br>compression_utilization=%{y}<extra></extra>",
         "legendgroup": "zstd",
         "line": {
          "color": "#EF553B",
          "dash": "solid"
         },
         "marker": {
          "symbol": "circle"
         },
         "mode": "lines+markers",
         "name": "zstd",
         "orientation": "v",
         "showlegend": false,
         "type": "scatter",
         "x": [
          65536000,
          16384000,
          4096000,
          1024000,
          256000,
          64000,
          16000,
          4000
         ],
         "xaxis": "x3",
         "y": [
          0.9999784025889055,
          0.9999768716359086,
          0.9999533398766383,
          0.9998408544154503,
          2.155311414375969,
          3.8142194899918618,
          11.429922312351778,
          20.3380104200845
         ],
         "yaxis": "y3"
        },
        {
         "hovertemplate": "standard=zstd<br>file=500mb_silesia.zip<br>chunk_size=%{x}<br>compression_utilization=%{y}<extra></extra>",
         "legendgroup": "zstd",
         "line": {
          "color": "#EF553B",
          "dash": "solid"
         },
         "marker": {
          "symbol": "circle"
         },
         "mode": "lines+markers",
         "name": "zstd",
         "orientation": "v",
         "showlegend": false,
         "type": "scatter",
         "x": [
          64000,
          16000,
          4000
         ],
         "xaxis": "x2",
         "y": [
          4.481744791606007,
          10.095915019379095,
          8.21787268319446
         ],
         "yaxis": "y2"
        },
        {
         "hovertemplate": "standard=zstd<br>file=500mb_xml<br>chunk_size=%{x}<br>compression_utilization=%{y}<extra></extra>",
         "legendgroup": "zstd",
         "line": {
          "color": "#EF553B",
          "dash": "solid"
         },
         "marker": {
          "symbol": "circle"
         },
         "mode": "lines+markers",
         "name": "zstd",
         "orientation": "v",
         "showlegend": false,
         "type": "scatter",
         "x": [
          65536000,
          16384000,
          4096000,
          1024000,
          256000,
          64000,
          16000,
          4000
         ],
         "xaxis": "x",
         "y": [
          0.9999519372740409,
          0.9999509024272952,
          0.9999281914051188,
          0.9998217365387,
          1.4274984648114153,
          2.1547011658118493,
          7.185494440125384,
          17.346474471710387
         ],
         "yaxis": "y"
        },
        {
         "hovertemplate": "standard=gdeflate<br>file=500mb_dickens<br>chunk_size=%{x}<br>compression_utilization=%{y}<extra></extra>",
         "legendgroup": "gdeflate",
         "line": {
          "color": "#00cc96",
          "dash": "solid"
         },
         "marker": {
          "symbol": "circle"
         },
         "mode": "lines+markers",
         "name": "gdeflate",
         "orientation": "v",
         "showlegend": true,
         "type": "scatter",
         "x": [
          64000,
          16000,
          4000
         ],
         "xaxis": "x8",
         "y": [
          6.530477241835298,
          19.20223508297439,
          30.880254017111262
         ],
         "yaxis": "y8"
        },
        {
         "hovertemplate": "standard=gdeflate<br>file=500mb_mozilla<br>chunk_size=%{x}<br>compression_utilization=%{y}<extra></extra>",
         "legendgroup": "gdeflate",
         "line": {
          "color": "#00cc96",
          "dash": "solid"
         },
         "marker": {
          "symbol": "circle"
         },
         "mode": "lines+markers",
         "name": "gdeflate",
         "orientation": "v",
         "showlegend": false,
         "type": "scatter",
         "x": [
          64000,
          16000,
          4000
         ],
         "xaxis": "x7",
         "y": [
          20.400296997747084,
          39.01265745718298,
          54.69875921274345
         ],
         "yaxis": "y7"
        },
        {
         "hovertemplate": "standard=gdeflate<br>file=500mb_mr<br>chunk_size=%{x}<br>compression_utilization=%{y}<extra></extra>",
         "legendgroup": "gdeflate",
         "line": {
          "color": "#00cc96",
          "dash": "solid"
         },
         "marker": {
          "symbol": "circle"
         },
         "mode": "lines+markers",
         "name": "gdeflate",
         "orientation": "v",
         "showlegend": false,
         "type": "scatter",
         "x": [
          64000,
          16000,
          4000
         ],
         "xaxis": "x6",
         "y": [
          6.291051828320235,
          20.359457815823305,
          30.225899578290544
         ],
         "yaxis": "y6"
        },
        {
         "hovertemplate": "standard=gdeflate<br>file=500mb_nci<br>chunk_size=%{x}<br>compression_utilization=%{y}<extra></extra>",
         "legendgroup": "gdeflate",
         "line": {
          "color": "#00cc96",
          "dash": "solid"
         },
         "marker": {
          "symbol": "circle"
         },
         "mode": "lines+markers",
         "name": "gdeflate",
         "orientation": "v",
         "showlegend": false,
         "type": "scatter",
         "x": [
          64000,
          16000,
          4000
         ],
         "xaxis": "x5",
         "y": [
          16.08612632302887,
          24.110858689415032,
          45.657747752808646
         ],
         "yaxis": "y5"
        },
        {
         "hovertemplate": "standard=gdeflate<br>file=500mb_samba<br>chunk_size=%{x}<br>compression_utilization=%{y}<extra></extra>",
         "legendgroup": "gdeflate",
         "line": {
          "color": "#00cc96",
          "dash": "solid"
         },
         "marker": {
          "symbol": "circle"
         },
         "mode": "lines+markers",
         "name": "gdeflate",
         "orientation": "v",
         "showlegend": false,
         "type": "scatter",
         "x": [
          64000,
          16000,
          4000
         ],
         "xaxis": "x4",
         "y": [
          9.207378485367325,
          25.481738051023015,
          44.16161151853526
         ],
         "yaxis": "y4"
        },
        {
         "hovertemplate": "standard=gdeflate<br>file=500mb_sao<br>chunk_size=%{x}<br>compression_utilization=%{y}<extra></extra>",
         "legendgroup": "gdeflate",
         "line": {
          "color": "#00cc96",
          "dash": "solid"
         },
         "marker": {
          "symbol": "circle"
         },
         "mode": "lines+markers",
         "name": "gdeflate",
         "orientation": "v",
         "showlegend": false,
         "type": "scatter",
         "x": [
          64000,
          16000,
          4000
         ],
         "xaxis": "x3",
         "y": [
          5.053840403512378,
          19.099527556054305,
          39.17049689702657
         ],
         "yaxis": "y3"
        },
        {
         "hovertemplate": "standard=gdeflate<br>file=500mb_silesia.zip<br>chunk_size=%{x}<br>compression_utilization=%{y}<extra></extra>",
         "legendgroup": "gdeflate",
         "line": {
          "color": "#00cc96",
          "dash": "solid"
         },
         "marker": {
          "symbol": "circle"
         },
         "mode": "lines+markers",
         "name": "gdeflate",
         "orientation": "v",
         "showlegend": false,
         "type": "scatter",
         "x": [
          64000,
          16000,
          4000
         ],
         "xaxis": "x2",
         "y": [
          43.31760039958763,
          58.13645770450182,
          65.41237565648069
         ],
         "yaxis": "y2"
        },
        {
         "hovertemplate": "standard=gdeflate<br>file=500mb_xml<br>chunk_size=%{x}<br>compression_utilization=%{y}<extra></extra>",
         "legendgroup": "gdeflate",
         "line": {
          "color": "#00cc96",
          "dash": "solid"
         },
         "marker": {
          "symbol": "circle"
         },
         "mode": "lines+markers",
         "name": "gdeflate",
         "orientation": "v",
         "showlegend": false,
         "type": "scatter",
         "x": [
          64000,
          16000,
          4000
         ],
         "xaxis": "x",
         "y": [
          -1,
          6.922235220071511,
          13.325536470350329
         ],
         "yaxis": "y"
        },
        {
         "hovertemplate": "standard=lz4<br>file=500mb_dickens<br>chunk_size=%{x}<br>compression_utilization=%{y}<extra></extra>",
         "legendgroup": "lz4",
         "line": {
          "color": "#ab63fa",
          "dash": "solid"
         },
         "marker": {
          "symbol": "circle"
         },
         "mode": "lines+markers",
         "name": "lz4",
         "orientation": "v",
         "showlegend": true,
         "type": "scatter",
         "x": [
          65536000,
          16384000,
          4096000,
          1024000,
          256000,
          64000,
          16000,
          4000
         ],
         "xaxis": "x8",
         "y": [
          1,
          1,
          1,
          1,
          2.771206960993373,
          9.51470447651344,
          31.29581423670959,
          35.10637907071154
         ],
         "yaxis": "y8"
        },
        {
         "hovertemplate": "standard=lz4<br>file=500mb_mozilla<br>chunk_size=%{x}<br>compression_utilization=%{y}<extra></extra>",
         "legendgroup": "lz4",
         "line": {
          "color": "#ab63fa",
          "dash": "solid"
         },
         "marker": {
          "symbol": "circle"
         },
         "mode": "lines+markers",
         "name": "lz4",
         "orientation": "v",
         "showlegend": false,
         "type": "scatter",
         "x": [
          16384000,
          4096000,
          1024000,
          256000,
          64000,
          16000,
          4000
         ],
         "xaxis": "x7",
         "y": [
          1,
          1,
          2.810032307571606,
          9.202596080147082,
          27.606827809304818,
          50.09168563508342,
          61.90109827551204
         ],
         "yaxis": "y7"
        },
        {
         "hovertemplate": "standard=lz4<br>file=500mb_mr<br>chunk_size=%{x}<br>compression_utilization=%{y}<extra></extra>",
         "legendgroup": "lz4",
         "line": {
          "color": "#ab63fa",
          "dash": "solid"
         },
         "marker": {
          "symbol": "circle"
         },
         "mode": "lines+markers",
         "name": "lz4",
         "orientation": "v",
         "showlegend": false,
         "type": "scatter",
         "x": [
          65536000,
          16384000,
          4096000,
          1024000,
          256000,
          64000,
          16000,
          4000
         ],
         "xaxis": "x6",
         "y": [
          1,
          1,
          1,
          1,
          1.7960499544466253,
          6.518564630221656,
          16.076522009761625,
          15.49682950943973
         ],
         "yaxis": "y6"
        },
        {
         "hovertemplate": "standard=lz4<br>file=500mb_nci<br>chunk_size=%{x}<br>compression_utilization=%{y}<extra></extra>",
         "legendgroup": "lz4",
         "line": {
          "color": "#ab63fa",
          "dash": "solid"
         },
         "marker": {
          "symbol": "circle"
         },
         "mode": "lines+markers",
         "name": "lz4",
         "orientation": "v",
         "showlegend": false,
         "type": "scatter",
         "x": [
          16384000,
          4096000,
          1024000,
          256000,
          64000,
          16000,
          4000
         ],
         "xaxis": "x5",
         "y": [
          1,
          1,
          1.8717839451149887,
          6.787487043285205,
          22.627277119172852,
          49.59372053995525,
          58.57935950209419
         ],
         "yaxis": "y5"
        },
        {
         "hovertemplate": "standard=lz4<br>file=500mb_samba<br>chunk_size=%{x}<br>compression_utilization=%{y}<extra></extra>",
         "legendgroup": "lz4",
         "line": {
          "color": "#ab63fa",
          "dash": "solid"
         },
         "marker": {
          "symbol": "circle"
         },
         "mode": "lines+markers",
         "name": "lz4",
         "orientation": "v",
         "showlegend": false,
         "type": "scatter",
         "x": [
          16384000,
          4096000,
          1024000,
          256000,
          64000,
          16000,
          4000
         ],
         "xaxis": "x4",
         "y": [
          1,
          1,
          1,
          3.42983480740929,
          10.262676547040154,
          29.854132563602317,
          47.94183593590145
         ],
         "yaxis": "y4"
        },
        {
         "hovertemplate": "standard=lz4<br>file=500mb_sao<br>chunk_size=%{x}<br>compression_utilization=%{y}<extra></extra>",
         "legendgroup": "lz4",
         "line": {
          "color": "#ab63fa",
          "dash": "solid"
         },
         "marker": {
          "symbol": "circle"
         },
         "mode": "lines+markers",
         "name": "lz4",
         "orientation": "v",
         "showlegend": false,
         "type": "scatter",
         "x": [
          65536000,
          16384000,
          4096000,
          1024000,
          256000,
          64000,
          16000,
          4000
         ],
         "xaxis": "x3",
         "y": [
          1,
          1,
          1,
          1,
          1.9545459780677636,
          6.561172712783788,
          22.512911862869736,
          10.5
         ],
         "yaxis": "y3"
        },
        {
         "hovertemplate": "standard=lz4<br>file=500mb_silesia.zip<br>chunk_size=%{x}<br>compression_utilization=%{y}<extra></extra>",
         "legendgroup": "lz4",
         "line": {
          "color": "#ab63fa",
          "dash": "solid"
         },
         "marker": {
          "symbol": "circle"
         },
         "mode": "lines+markers",
         "name": "lz4",
         "orientation": "v",
         "showlegend": false,
         "type": "scatter",
         "x": [
          16384000,
          4096000,
          1024000,
          256000,
          64000,
          16000,
          4000
         ],
         "xaxis": "x2",
         "y": [
          1,
          1,
          1.0081957949766434,
          1.8235203493013847,
          2.6878332164515353,
          4.815332804859326,
          14.686266440510503
         ],
         "yaxis": "y2"
        },
        {
         "hovertemplate": "standard=lz4<br>file=500mb_xml<br>chunk_size=%{x}<br>compression_utilization=%{y}<extra></extra>",
         "legendgroup": "lz4",
         "line": {
          "color": "#ab63fa",
          "dash": "solid"
         },
         "marker": {
          "symbol": "circle"
         },
         "mode": "lines+markers",
         "name": "lz4",
         "orientation": "v",
         "showlegend": false,
         "type": "scatter",
         "x": [
          65536000,
          16384000,
          4096000,
          1024000,
          256000,
          64000,
          16000,
          4000
         ],
         "xaxis": "x",
         "y": [
          1,
          1,
          1,
          1,
          11.470261889757296,
          3.4235517738652876,
          10.600079014141691,
          13.5
         ],
         "yaxis": "y"
        },
        {
         "hovertemplate": "standard=bitcomp<br>file=500mb_dickens<br>chunk_size=%{x}<br>compression_utilization=%{y}<extra></extra>",
         "legendgroup": "bitcomp",
         "line": {
          "color": "#FFA15A",
          "dash": "solid"
         },
         "marker": {
          "symbol": "circle"
         },
         "mode": "lines+markers",
         "name": "bitcomp",
         "orientation": "v",
         "showlegend": true,
         "type": "scatter",
         "x": [
          65536000,
          16384000,
          4096000,
          1024000,
          256000,
          64000,
          16000,
          4000
         ],
         "xaxis": "x8",
         "y": [
          0.9987804557261275,
          0.9987913652559774,
          0.9970387742805682,
          0.9882292496386504,
          4.053632656389565,
          13.308176338922594,
          6.71910743355137,
          12.11886306272963
         ],
         "yaxis": "y8"
        },
        {
         "hovertemplate": "standard=bitcomp<br>file=500mb_mozilla<br>chunk_size=%{x}<br>compression_utilization=%{y}<extra></extra>",
         "legendgroup": "bitcomp",
         "line": {
          "color": "#FFA15A",
          "dash": "solid"
         },
         "marker": {
          "symbol": "circle"
         },
         "mode": "lines+markers",
         "name": "bitcomp",
         "orientation": "v",
         "showlegend": false,
         "type": "scatter",
         "x": [
          65536000,
          16384000,
          4096000,
          1024000,
          256000,
          64000,
          16000,
          4000
         ],
         "xaxis": "x7",
         "y": [
          0.9995623513860008,
          0.9988988327408737,
          1.4959403780339424,
          4.0382468619717535,
          6.968036969727294,
          13.027577525503695,
          21.361691024971257,
          23.688720025961082
         ],
         "yaxis": "y7"
        },
        {
         "hovertemplate": "standard=bitcomp<br>file=500mb_mr<br>chunk_size=%{x}<br>compression_utilization=%{y}<extra></extra>",
         "legendgroup": "bitcomp",
         "line": {
          "color": "#FFA15A",
          "dash": "solid"
         },
         "marker": {
          "symbol": "circle"
         },
         "mode": "lines+markers",
         "name": "bitcomp",
         "orientation": "v",
         "showlegend": false,
         "type": "scatter",
         "x": [
          65536000,
          16384000,
          4096000,
          1024000,
          256000,
          64000,
          16000,
          4000
         ],
         "xaxis": "x6",
         "y": [
          0.9983498665431674,
          0.9979895153179626,
          -1,
          1.8466990864330746,
          4.316409996041859,
          1.6717866851413343,
          3.3288984693861723,
          19.906401611699614
         ],
         "yaxis": "y6"
        },
        {
         "hovertemplate": "standard=bitcomp<br>file=500mb_nci<br>chunk_size=%{x}<br>compression_utilization=%{y}<extra></extra>",
         "legendgroup": "bitcomp",
         "line": {
          "color": "#FFA15A",
          "dash": "solid"
         },
         "marker": {
          "symbol": "circle"
         },
         "mode": "lines+markers",
         "name": "bitcomp",
         "orientation": "v",
         "showlegend": false,
         "type": "scatter",
         "x": [
          65536000,
          16384000,
          4096000,
          1024000,
          256000,
          64000,
          16000,
          4000
         ],
         "xaxis": "x5",
         "y": [
          0.9996285488496497,
          3.0293025858691935,
          1.973361460055422,
          7.554325987482148,
          22.86827493460058,
          16.166864176322946,
          21.996743398033196,
          31.426522286315986
         ],
         "yaxis": "y5"
        },
        {
         "hovertemplate": "standard=bitcomp<br>file=500mb_samba<br>chunk_size=%{x}<br>compression_utilization=%{y}<extra></extra>",
         "legendgroup": "bitcomp",
         "line": {
          "color": "#FFA15A",
          "dash": "solid"
         },
         "marker": {
          "symbol": "circle"
         },
         "mode": "lines+markers",
         "name": "bitcomp",
         "orientation": "v",
         "showlegend": false,
         "type": "scatter",
         "x": [
          65536000,
          16384000,
          4096000,
          1024000,
          256000,
          64000,
          16000,
          4000
         ],
         "xaxis": "x4",
         "y": [
          0.9993530736009748,
          0.9991766386653667,
          0.9975575132377834,
          2.248517134655752,
          5.381078811850626,
          0.9017005813919343,
          6.060358782448291,
          15.402661707474923
         ],
         "yaxis": "y4"
        },
        {
         "hovertemplate": "standard=bitcomp<br>file=500mb_sao<br>chunk_size=%{x}<br>compression_utilization=%{y}<extra></extra>",
         "legendgroup": "bitcomp",
         "line": {
          "color": "#FFA15A",
          "dash": "solid"
         },
         "marker": {
          "symbol": "circle"
         },
         "mode": "lines+markers",
         "name": "bitcomp",
         "orientation": "v",
         "showlegend": false,
         "type": "scatter",
         "x": [
          65536000,
          16384000,
          4096000,
          1024000,
          256000,
          64000,
          16000,
          4000
         ],
         "xaxis": "x3",
         "y": [
          0.992733477388991,
          0.9927148977791548,
          0.9880597239135669,
          0.9500574147239067,
          1.3139639472397449,
          0.6752949086241673,
          2.0621545230467775,
          11.587284920494326
         ],
         "yaxis": "y3"
        },
        {
         "hovertemplate": "standard=bitcomp<br>file=500mb_silesia.zip<br>chunk_size=%{x}<br>compression_utilization=%{y}<extra></extra>",
         "legendgroup": "bitcomp",
         "line": {
          "color": "#FFA15A",
          "dash": "solid"
         },
         "marker": {
          "symbol": "circle"
         },
         "mode": "lines+markers",
         "name": "bitcomp",
         "orientation": "v",
         "showlegend": false,
         "type": "scatter",
         "x": [
          65536000,
          16384000,
          4096000,
          1024000,
          256000,
          64000,
          16000,
          4000
         ],
         "xaxis": "x2",
         "y": [
          0.9993105616510906,
          0.99675717538279,
          0.9903261524430388,
          2.432123306964259,
          3.8311169518086343,
          7.659384213295667,
          10.884893168556886,
          18.017818512626057
         ],
         "yaxis": "y2"
        },
        {
         "hovertemplate": "standard=bitcomp<br>file=500mb_xml<br>chunk_size=%{x}<br>compression_utilization=%{y}<extra></extra>",
         "legendgroup": "bitcomp",
         "line": {
          "color": "#FFA15A",
          "dash": "solid"
         },
         "marker": {
          "symbol": "circle"
         },
         "mode": "lines+markers",
         "name": "bitcomp",
         "orientation": "v",
         "showlegend": false,
         "type": "scatter",
         "x": [
          65536000,
          16384000,
          4096000,
          1024000,
          256000,
          64000,
          16000,
          4000
         ],
         "xaxis": "x",
         "y": [
          0.9977990125039707,
          0.9978144743598196,
          0.9971243699324466,
          0.9913014878430602,
          1.8231761115166996,
          6.012930738373227,
          1.5935468026383495,
          2.4637146876700795
         ],
         "yaxis": "y"
        },
        {
         "hovertemplate": "standard=cascaded<br>file=500mb_mozilla<br>chunk_size=%{x}<br>compression_utilization=%{y}<extra></extra>",
         "legendgroup": "cascaded",
         "line": {
          "color": "#19d3f3",
          "dash": "solid"
         },
         "marker": {
          "symbol": "circle"
         },
         "mode": "lines+markers",
         "name": "cascaded",
         "orientation": "v",
         "showlegend": true,
         "type": "scatter",
         "x": [
          65536000,
          16384000,
          4096000,
          1024000,
          256000,
          64000,
          16000,
          4000
         ],
         "xaxis": "x7",
         "y": [
          0.9999005353048875,
          0.9997384247049528,
          0.998980138801998,
          3.8898248870391043,
          12.987922567737202,
          19.016861729944317,
          16.77063442112498,
          14.219949544018112
         ],
         "yaxis": "y7"
        },
        {
         "hovertemplate": "standard=cascaded<br>file=500mb_mr<br>chunk_size=%{x}<br>compression_utilization=%{y}<extra></extra>",
         "legendgroup": "cascaded",
         "line": {
          "color": "#19d3f3",
          "dash": "solid"
         },
         "marker": {
          "symbol": "circle"
         },
         "mode": "lines+markers",
         "name": "cascaded",
         "orientation": "v",
         "showlegend": false,
         "type": "scatter",
         "x": [
          65536000,
          16384000,
          4096000,
          1024000,
          256000,
          64000,
          16000,
          4000
         ],
         "xaxis": "x6",
         "y": [
          0.9994905129513225,
          0.9995165998537019,
          0.9987817027608561,
          0.9955525907717835,
          5.298800180797771,
          10.895156928551335,
          3.275089357521421,
          11.59929381555671
         ],
         "yaxis": "y6"
        },
        {
         "hovertemplate": "standard=cascaded<br>file=500mb_samba<br>chunk_size=%{x}<br>compression_utilization=%{y}<extra></extra>",
         "legendgroup": "cascaded",
         "line": {
          "color": "#19d3f3",
          "dash": "solid"
         },
         "marker": {
          "symbol": "circle"
         },
         "mode": "lines+markers",
         "name": "cascaded",
         "orientation": "v",
         "showlegend": false,
         "type": "scatter",
         "x": [
          65536000,
          16384000,
          4096000,
          1024000,
          256000,
          64000,
          16000,
          4000
         ],
         "xaxis": "x4",
         "y": [
          0.9985956766288575,
          0.9992234026862814,
          0.9989237027013704,
          -0.002107838000823481,
          3.5423629299689745,
          7.752960673165521,
          14.740223985420947,
          18.75838660335439
         ],
         "yaxis": "y4"
        },
        {
         "hovertemplate": "standard=cascaded<br>file=500mb_sao<br>chunk_size=%{x}<br>compression_utilization=%{y}<extra></extra>",
         "legendgroup": "cascaded",
         "line": {
          "color": "#19d3f3",
          "dash": "solid"
         },
         "marker": {
          "symbol": "circle"
         },
         "mode": "lines+markers",
         "name": "cascaded",
         "orientation": "v",
         "showlegend": false,
         "type": "scatter",
         "x": [
          65536000,
          16384000,
          4096000,
          1024000,
          256000,
          64000,
          16000,
          4000
         ],
         "xaxis": "x3",
         "y": [
          0.9958803392672166,
          0.9966025685471203,
          0.9927218041580435,
          8.268176105883583,
          0.9031038964981388,
          -0.134766656286809,
          -0.2174690956408588,
          0.39803035934270037
         ],
         "yaxis": "y3"
        },
        {
         "hovertemplate": "standard=cascaded<br>file=500mb_xml<br>chunk_size=%{x}<br>compression_utilization=%{y}<extra></extra>",
         "legendgroup": "cascaded",
         "line": {
          "color": "#19d3f3",
          "dash": "solid"
         },
         "marker": {
          "symbol": "circle"
         },
         "mode": "lines+markers",
         "name": "cascaded",
         "orientation": "v",
         "showlegend": false,
         "type": "scatter",
         "x": [
          65536000,
          16384000,
          4096000,
          1024000,
          256000,
          64000,
          16000,
          4000
         ],
         "xaxis": "x",
         "y": [
          0.9944478904446351,
          0.9953583470087402,
          -1,
          5.316942750699093,
          1.228802607112551,
          0.8770998160557548,
          0.798714053906,
          -1
         ],
         "yaxis": "y"
        }
       ],
       "layout": {
        "annotations": [
         {
          "font": {},
          "showarrow": false,
          "text": "file=500mb_xml",
          "textangle": 90,
          "x": 0.98,
          "xanchor": "left",
          "xref": "paper",
          "y": 0.049375,
          "yanchor": "middle",
          "yref": "paper"
         },
         {
          "font": {},
          "showarrow": false,
          "text": "file=500mb_silesia.zip",
          "textangle": 90,
          "x": 0.98,
          "xanchor": "left",
          "xref": "paper",
          "y": 0.178125,
          "yanchor": "middle",
          "yref": "paper"
         },
         {
          "font": {},
          "showarrow": false,
          "text": "file=500mb_sao",
          "textangle": 90,
          "x": 0.98,
          "xanchor": "left",
          "xref": "paper",
          "y": 0.306875,
          "yanchor": "middle",
          "yref": "paper"
         },
         {
          "font": {},
          "showarrow": false,
          "text": "file=500mb_samba",
          "textangle": 90,
          "x": 0.98,
          "xanchor": "left",
          "xref": "paper",
          "y": 0.435625,
          "yanchor": "middle",
          "yref": "paper"
         },
         {
          "font": {},
          "showarrow": false,
          "text": "file=500mb_nci",
          "textangle": 90,
          "x": 0.98,
          "xanchor": "left",
          "xref": "paper",
          "y": 0.5643750000000001,
          "yanchor": "middle",
          "yref": "paper"
         },
         {
          "font": {},
          "showarrow": false,
          "text": "file=500mb_mr",
          "textangle": 90,
          "x": 0.98,
          "xanchor": "left",
          "xref": "paper",
          "y": 0.693125,
          "yanchor": "middle",
          "yref": "paper"
         },
         {
          "font": {},
          "showarrow": false,
          "text": "file=500mb_mozilla",
          "textangle": 90,
          "x": 0.98,
          "xanchor": "left",
          "xref": "paper",
          "y": 0.8218749999999999,
          "yanchor": "middle",
          "yref": "paper"
         },
         {
          "font": {},
          "showarrow": false,
          "text": "file=500mb_dickens",
          "textangle": 90,
          "x": 0.98,
          "xanchor": "left",
          "xref": "paper",
          "y": 0.950625,
          "yanchor": "middle",
          "yref": "paper"
         }
        ],
        "height": 1200,
        "legend": {
         "title": {
          "text": "standard"
         },
         "tracegroupgap": 0
        },
        "template": {
         "data": {
          "bar": [
           {
            "error_x": {
             "color": "#2a3f5f"
            },
            "error_y": {
             "color": "#2a3f5f"
            },
            "marker": {
             "line": {
              "color": "#E5ECF6",
              "width": 0.5
             },
             "pattern": {
              "fillmode": "overlay",
              "size": 10,
              "solidity": 0.2
             }
            },
            "type": "bar"
           }
          ],
          "barpolar": [
           {
            "marker": {
             "line": {
              "color": "#E5ECF6",
              "width": 0.5
             },
             "pattern": {
              "fillmode": "overlay",
              "size": 10,
              "solidity": 0.2
             }
            },
            "type": "barpolar"
           }
          ],
          "carpet": [
           {
            "aaxis": {
             "endlinecolor": "#2a3f5f",
             "gridcolor": "white",
             "linecolor": "white",
             "minorgridcolor": "white",
             "startlinecolor": "#2a3f5f"
            },
            "baxis": {
             "endlinecolor": "#2a3f5f",
             "gridcolor": "white",
             "linecolor": "white",
             "minorgridcolor": "white",
             "startlinecolor": "#2a3f5f"
            },
            "type": "carpet"
           }
          ],
          "choropleth": [
           {
            "colorbar": {
             "outlinewidth": 0,
             "ticks": ""
            },
            "type": "choropleth"
           }
          ],
          "contour": [
           {
            "colorbar": {
             "outlinewidth": 0,
             "ticks": ""
            },
            "colorscale": [
             [
              0,
              "#0d0887"
             ],
             [
              0.1111111111111111,
              "#46039f"
             ],
             [
              0.2222222222222222,
              "#7201a8"
             ],
             [
              0.3333333333333333,
              "#9c179e"
             ],
             [
              0.4444444444444444,
              "#bd3786"
             ],
             [
              0.5555555555555556,
              "#d8576b"
             ],
             [
              0.6666666666666666,
              "#ed7953"
             ],
             [
              0.7777777777777778,
              "#fb9f3a"
             ],
             [
              0.8888888888888888,
              "#fdca26"
             ],
             [
              1,
              "#f0f921"
             ]
            ],
            "type": "contour"
           }
          ],
          "contourcarpet": [
           {
            "colorbar": {
             "outlinewidth": 0,
             "ticks": ""
            },
            "type": "contourcarpet"
           }
          ],
          "heatmap": [
           {
            "colorbar": {
             "outlinewidth": 0,
             "ticks": ""
            },
            "colorscale": [
             [
              0,
              "#0d0887"
             ],
             [
              0.1111111111111111,
              "#46039f"
             ],
             [
              0.2222222222222222,
              "#7201a8"
             ],
             [
              0.3333333333333333,
              "#9c179e"
             ],
             [
              0.4444444444444444,
              "#bd3786"
             ],
             [
              0.5555555555555556,
              "#d8576b"
             ],
             [
              0.6666666666666666,
              "#ed7953"
             ],
             [
              0.7777777777777778,
              "#fb9f3a"
             ],
             [
              0.8888888888888888,
              "#fdca26"
             ],
             [
              1,
              "#f0f921"
             ]
            ],
            "type": "heatmap"
           }
          ],
          "heatmapgl": [
           {
            "colorbar": {
             "outlinewidth": 0,
             "ticks": ""
            },
            "colorscale": [
             [
              0,
              "#0d0887"
             ],
             [
              0.1111111111111111,
              "#46039f"
             ],
             [
              0.2222222222222222,
              "#7201a8"
             ],
             [
              0.3333333333333333,
              "#9c179e"
             ],
             [
              0.4444444444444444,
              "#bd3786"
             ],
             [
              0.5555555555555556,
              "#d8576b"
             ],
             [
              0.6666666666666666,
              "#ed7953"
             ],
             [
              0.7777777777777778,
              "#fb9f3a"
             ],
             [
              0.8888888888888888,
              "#fdca26"
             ],
             [
              1,
              "#f0f921"
             ]
            ],
            "type": "heatmapgl"
           }
          ],
          "histogram": [
           {
            "marker": {
             "pattern": {
              "fillmode": "overlay",
              "size": 10,
              "solidity": 0.2
             }
            },
            "type": "histogram"
           }
          ],
          "histogram2d": [
           {
            "colorbar": {
             "outlinewidth": 0,
             "ticks": ""
            },
            "colorscale": [
             [
              0,
              "#0d0887"
             ],
             [
              0.1111111111111111,
              "#46039f"
             ],
             [
              0.2222222222222222,
              "#7201a8"
             ],
             [
              0.3333333333333333,
              "#9c179e"
             ],
             [
              0.4444444444444444,
              "#bd3786"
             ],
             [
              0.5555555555555556,
              "#d8576b"
             ],
             [
              0.6666666666666666,
              "#ed7953"
             ],
             [
              0.7777777777777778,
              "#fb9f3a"
             ],
             [
              0.8888888888888888,
              "#fdca26"
             ],
             [
              1,
              "#f0f921"
             ]
            ],
            "type": "histogram2d"
           }
          ],
          "histogram2dcontour": [
           {
            "colorbar": {
             "outlinewidth": 0,
             "ticks": ""
            },
            "colorscale": [
             [
              0,
              "#0d0887"
             ],
             [
              0.1111111111111111,
              "#46039f"
             ],
             [
              0.2222222222222222,
              "#7201a8"
             ],
             [
              0.3333333333333333,
              "#9c179e"
             ],
             [
              0.4444444444444444,
              "#bd3786"
             ],
             [
              0.5555555555555556,
              "#d8576b"
             ],
             [
              0.6666666666666666,
              "#ed7953"
             ],
             [
              0.7777777777777778,
              "#fb9f3a"
             ],
             [
              0.8888888888888888,
              "#fdca26"
             ],
             [
              1,
              "#f0f921"
             ]
            ],
            "type": "histogram2dcontour"
           }
          ],
          "mesh3d": [
           {
            "colorbar": {
             "outlinewidth": 0,
             "ticks": ""
            },
            "type": "mesh3d"
           }
          ],
          "parcoords": [
           {
            "line": {
             "colorbar": {
              "outlinewidth": 0,
              "ticks": ""
             }
            },
            "type": "parcoords"
           }
          ],
          "pie": [
           {
            "automargin": true,
            "type": "pie"
           }
          ],
          "scatter": [
           {
            "fillpattern": {
             "fillmode": "overlay",
             "size": 10,
             "solidity": 0.2
            },
            "type": "scatter"
           }
          ],
          "scatter3d": [
           {
            "line": {
             "colorbar": {
              "outlinewidth": 0,
              "ticks": ""
             }
            },
            "marker": {
             "colorbar": {
              "outlinewidth": 0,
              "ticks": ""
             }
            },
            "type": "scatter3d"
           }
          ],
          "scattercarpet": [
           {
            "marker": {
             "colorbar": {
              "outlinewidth": 0,
              "ticks": ""
             }
            },
            "type": "scattercarpet"
           }
          ],
          "scattergeo": [
           {
            "marker": {
             "colorbar": {
              "outlinewidth": 0,
              "ticks": ""
             }
            },
            "type": "scattergeo"
           }
          ],
          "scattergl": [
           {
            "marker": {
             "colorbar": {
              "outlinewidth": 0,
              "ticks": ""
             }
            },
            "type": "scattergl"
           }
          ],
          "scattermapbox": [
           {
            "marker": {
             "colorbar": {
              "outlinewidth": 0,
              "ticks": ""
             }
            },
            "type": "scattermapbox"
           }
          ],
          "scatterpolar": [
           {
            "marker": {
             "colorbar": {
              "outlinewidth": 0,
              "ticks": ""
             }
            },
            "type": "scatterpolar"
           }
          ],
          "scatterpolargl": [
           {
            "marker": {
             "colorbar": {
              "outlinewidth": 0,
              "ticks": ""
             }
            },
            "type": "scatterpolargl"
           }
          ],
          "scatterternary": [
           {
            "marker": {
             "colorbar": {
              "outlinewidth": 0,
              "ticks": ""
             }
            },
            "type": "scatterternary"
           }
          ],
          "surface": [
           {
            "colorbar": {
             "outlinewidth": 0,
             "ticks": ""
            },
            "colorscale": [
             [
              0,
              "#0d0887"
             ],
             [
              0.1111111111111111,
              "#46039f"
             ],
             [
              0.2222222222222222,
              "#7201a8"
             ],
             [
              0.3333333333333333,
              "#9c179e"
             ],
             [
              0.4444444444444444,
              "#bd3786"
             ],
             [
              0.5555555555555556,
              "#d8576b"
             ],
             [
              0.6666666666666666,
              "#ed7953"
             ],
             [
              0.7777777777777778,
              "#fb9f3a"
             ],
             [
              0.8888888888888888,
              "#fdca26"
             ],
             [
              1,
              "#f0f921"
             ]
            ],
            "type": "surface"
           }
          ],
          "table": [
           {
            "cells": {
             "fill": {
              "color": "#EBF0F8"
             },
             "line": {
              "color": "white"
             }
            },
            "header": {
             "fill": {
              "color": "#C8D4E3"
             },
             "line": {
              "color": "white"
             }
            },
            "type": "table"
           }
          ]
         },
         "layout": {
          "annotationdefaults": {
           "arrowcolor": "#2a3f5f",
           "arrowhead": 0,
           "arrowwidth": 1
          },
          "autotypenumbers": "strict",
          "coloraxis": {
           "colorbar": {
            "outlinewidth": 0,
            "ticks": ""
           }
          },
          "colorscale": {
           "diverging": [
            [
             0,
             "#8e0152"
            ],
            [
             0.1,
             "#c51b7d"
            ],
            [
             0.2,
             "#de77ae"
            ],
            [
             0.3,
             "#f1b6da"
            ],
            [
             0.4,
             "#fde0ef"
            ],
            [
             0.5,
             "#f7f7f7"
            ],
            [
             0.6,
             "#e6f5d0"
            ],
            [
             0.7,
             "#b8e186"
            ],
            [
             0.8,
             "#7fbc41"
            ],
            [
             0.9,
             "#4d9221"
            ],
            [
             1,
             "#276419"
            ]
           ],
           "sequential": [
            [
             0,
             "#0d0887"
            ],
            [
             0.1111111111111111,
             "#46039f"
            ],
            [
             0.2222222222222222,
             "#7201a8"
            ],
            [
             0.3333333333333333,
             "#9c179e"
            ],
            [
             0.4444444444444444,
             "#bd3786"
            ],
            [
             0.5555555555555556,
             "#d8576b"
            ],
            [
             0.6666666666666666,
             "#ed7953"
            ],
            [
             0.7777777777777778,
             "#fb9f3a"
            ],
            [
             0.8888888888888888,
             "#fdca26"
            ],
            [
             1,
             "#f0f921"
            ]
           ],
           "sequentialminus": [
            [
             0,
             "#0d0887"
            ],
            [
             0.1111111111111111,
             "#46039f"
            ],
            [
             0.2222222222222222,
             "#7201a8"
            ],
            [
             0.3333333333333333,
             "#9c179e"
            ],
            [
             0.4444444444444444,
             "#bd3786"
            ],
            [
             0.5555555555555556,
             "#d8576b"
            ],
            [
             0.6666666666666666,
             "#ed7953"
            ],
            [
             0.7777777777777778,
             "#fb9f3a"
            ],
            [
             0.8888888888888888,
             "#fdca26"
            ],
            [
             1,
             "#f0f921"
            ]
           ]
          },
          "colorway": [
           "#636efa",
           "#EF553B",
           "#00cc96",
           "#ab63fa",
           "#FFA15A",
           "#19d3f3",
           "#FF6692",
           "#B6E880",
           "#FF97FF",
           "#FECB52"
          ],
          "font": {
           "color": "#2a3f5f"
          },
          "geo": {
           "bgcolor": "white",
           "lakecolor": "white",
           "landcolor": "#E5ECF6",
           "showlakes": true,
           "showland": true,
           "subunitcolor": "white"
          },
          "hoverlabel": {
           "align": "left"
          },
          "hovermode": "closest",
          "mapbox": {
           "style": "light"
          },
          "paper_bgcolor": "white",
          "plot_bgcolor": "#E5ECF6",
          "polar": {
           "angularaxis": {
            "gridcolor": "white",
            "linecolor": "white",
            "ticks": ""
           },
           "bgcolor": "#E5ECF6",
           "radialaxis": {
            "gridcolor": "white",
            "linecolor": "white",
            "ticks": ""
           }
          },
          "scene": {
           "xaxis": {
            "backgroundcolor": "#E5ECF6",
            "gridcolor": "white",
            "gridwidth": 2,
            "linecolor": "white",
            "showbackground": true,
            "ticks": "",
            "zerolinecolor": "white"
           },
           "yaxis": {
            "backgroundcolor": "#E5ECF6",
            "gridcolor": "white",
            "gridwidth": 2,
            "linecolor": "white",
            "showbackground": true,
            "ticks": "",
            "zerolinecolor": "white"
           },
           "zaxis": {
            "backgroundcolor": "#E5ECF6",
            "gridcolor": "white",
            "gridwidth": 2,
            "linecolor": "white",
            "showbackground": true,
            "ticks": "",
            "zerolinecolor": "white"
           }
          },
          "shapedefaults": {
           "line": {
            "color": "#2a3f5f"
           }
          },
          "ternary": {
           "aaxis": {
            "gridcolor": "white",
            "linecolor": "white",
            "ticks": ""
           },
           "baxis": {
            "gridcolor": "white",
            "linecolor": "white",
            "ticks": ""
           },
           "bgcolor": "#E5ECF6",
           "caxis": {
            "gridcolor": "white",
            "linecolor": "white",
            "ticks": ""
           }
          },
          "title": {
           "x": 0.05
          },
          "xaxis": {
           "automargin": true,
           "gridcolor": "white",
           "linecolor": "white",
           "ticks": "",
           "title": {
            "standoff": 15
           },
           "zerolinecolor": "white",
           "zerolinewidth": 2
          },
          "yaxis": {
           "automargin": true,
           "gridcolor": "white",
           "linecolor": "white",
           "ticks": "",
           "title": {
            "standoff": 15
           },
           "zerolinecolor": "white",
           "zerolinewidth": 2
          }
         }
        },
        "title": {
         "text": "GPU utilization during compression per file at different chunk sizes"
        },
        "width": 500,
        "xaxis": {
         "anchor": "y",
         "domain": [
          0,
          0.98
         ],
         "title": {
          "text": "chunk_size"
         },
         "type": "log"
        },
        "xaxis2": {
         "anchor": "y2",
         "domain": [
          0,
          0.98
         ],
         "matches": "x",
         "showticklabels": false,
         "type": "log"
        },
        "xaxis3": {
         "anchor": "y3",
         "domain": [
          0,
          0.98
         ],
         "matches": "x",
         "showticklabels": false,
         "type": "log"
        },
        "xaxis4": {
         "anchor": "y4",
         "domain": [
          0,
          0.98
         ],
         "matches": "x",
         "showticklabels": false,
         "type": "log"
        },
        "xaxis5": {
         "anchor": "y5",
         "domain": [
          0,
          0.98
         ],
         "matches": "x",
         "showticklabels": false,
         "type": "log"
        },
        "xaxis6": {
         "anchor": "y6",
         "domain": [
          0,
          0.98
         ],
         "matches": "x",
         "showticklabels": false,
         "type": "log"
        },
        "xaxis7": {
         "anchor": "y7",
         "domain": [
          0,
          0.98
         ],
         "matches": "x",
         "showticklabels": false,
         "type": "log"
        },
        "xaxis8": {
         "anchor": "y8",
         "domain": [
          0,
          0.98
         ],
         "matches": "x",
         "showticklabels": false,
         "type": "log"
        },
        "yaxis": {
         "anchor": "x",
         "domain": [
          0,
          0.09875
         ],
         "title": {
          "text": "compression_utilization"
         }
        },
        "yaxis2": {
         "anchor": "x2",
         "domain": [
          0.12875,
          0.2275
         ],
         "matches": "y",
         "title": {
          "text": "compression_utilization"
         }
        },
        "yaxis3": {
         "anchor": "x3",
         "domain": [
          0.2575,
          0.35625
         ],
         "matches": "y",
         "title": {
          "text": "compression_utilization"
         }
        },
        "yaxis4": {
         "anchor": "x4",
         "domain": [
          0.38625,
          0.485
         ],
         "matches": "y",
         "title": {
          "text": "compression_utilization"
         }
        },
        "yaxis5": {
         "anchor": "x5",
         "domain": [
          0.515,
          0.61375
         ],
         "matches": "y",
         "title": {
          "text": "compression_utilization"
         }
        },
        "yaxis6": {
         "anchor": "x6",
         "domain": [
          0.64375,
          0.7425
         ],
         "matches": "y",
         "title": {
          "text": "compression_utilization"
         }
        },
        "yaxis7": {
         "anchor": "x7",
         "domain": [
          0.7725,
          0.87125
         ],
         "matches": "y",
         "title": {
          "text": "compression_utilization"
         }
        },
        "yaxis8": {
         "anchor": "x8",
         "domain": [
          0.90125,
          1
         ],
         "matches": "y",
         "title": {
          "text": "compression_utilization"
         }
        }
       }
      }
     },
     "metadata": {},
     "output_type": "display_data"
    }
   ],
   "source": [
    "fig_utilization_file = px.line(\n",
    "    result_df,\n",
    "    title=f\"GPU utilization during compression per file at different chunk sizes\", \n",
    "    x=\"chunk_size\",\n",
    "    y=\"compression_utilization\",\n",
    "    color=\"standard\",\n",
    "    log_x=True,\n",
    "    markers=True,\n",
    "    #log_y=True,\n",
    "    facet_row=\"file\",\n",
    "    # facet_row_spacing=0.05,\n",
    "    height=1200,\n",
    "    width=500,\n",
    ")\n",
    "# fig_utilization_standard.update_xaxes(autorange=\"reversed\")\n",
    "\n",
    "\n",
    "fig_utilization_file.show()"
   ]
  },
  {
   "cell_type": "code",
   "execution_count": 32,
   "metadata": {},
   "outputs": [
    {
     "data": {
      "application/vnd.plotly.v1+json": {
       "config": {
        "plotlyServerURL": "https://plot.ly"
       },
       "data": [
        {
         "hovertemplate": "standard=snappy<br>file=500mb_dickens<br>chunk_size=%{x}<br>decompression_utilization=%{y}<extra></extra>",
         "legendgroup": "snappy",
         "line": {
          "color": "#636efa",
          "dash": "solid"
         },
         "marker": {
          "symbol": "circle"
         },
         "mode": "lines+markers",
         "name": "snappy",
         "orientation": "v",
         "showlegend": true,
         "type": "scatter",
         "x": [
          65536000,
          16384000,
          4096000,
          1024000,
          256000,
          64000,
          16000,
          4000
         ],
         "xaxis": "x8",
         "y": [
          0.9999782944074445,
          0.9999783214878664,
          1.0002253461404051,
          1,
          1.9466678216560793,
          6.957921968627737,
          14.466168257916976,
          21.55270531786839
         ],
         "yaxis": "y8"
        },
        {
         "hovertemplate": "standard=snappy<br>file=500mb_mozilla<br>chunk_size=%{x}<br>decompression_utilization=%{y}<extra></extra>",
         "legendgroup": "snappy",
         "line": {
          "color": "#636efa",
          "dash": "solid"
         },
         "marker": {
          "symbol": "circle"
         },
         "mode": "lines+markers",
         "name": "snappy",
         "orientation": "v",
         "showlegend": false,
         "type": "scatter",
         "x": [
          65536000,
          16384000,
          4096000,
          1024000,
          256000,
          64000,
          16000,
          4000
         ],
         "xaxis": "x7",
         "y": [
          1.000076120724014,
          1.0022028124465794,
          1.00197532657348,
          2.159367187134353,
          7.308797492535268,
          14.575889981016031,
          20.11158028881399,
          24.275877330675584
         ],
         "yaxis": "y7"
        },
        {
         "hovertemplate": "standard=snappy<br>file=500mb_mr<br>chunk_size=%{x}<br>decompression_utilization=%{y}<extra></extra>",
         "legendgroup": "snappy",
         "line": {
          "color": "#636efa",
          "dash": "solid"
         },
         "marker": {
          "symbol": "circle"
         },
         "mode": "lines+markers",
         "name": "snappy",
         "orientation": "v",
         "showlegend": false,
         "type": "scatter",
         "x": [
          65536000,
          16384000,
          4096000,
          1024000,
          256000,
          64000,
          16000,
          4000
         ],
         "xaxis": "x6",
         "y": [
          0.9999684774013635,
          0.9999685127076917,
          0.9999147338362422,
          0.9997315248979032,
          1.6597507035618917,
          4.983350691305546,
          12.034976851361222,
          18.761636125784445
         ],
         "yaxis": "y6"
        },
        {
         "hovertemplate": "standard=snappy<br>file=500mb_nci<br>chunk_size=%{x}<br>decompression_utilization=%{y}<extra></extra>",
         "legendgroup": "snappy",
         "line": {
          "color": "#636efa",
          "dash": "solid"
         },
         "marker": {
          "symbol": "circle"
         },
         "mode": "lines+markers",
         "name": "snappy",
         "orientation": "v",
         "showlegend": false,
         "type": "scatter",
         "x": [
          65536000,
          16384000,
          4096000,
          1024000,
          256000,
          64000,
          16000,
          4000
         ],
         "xaxis": "x5",
         "y": [
          1.0005198020475778,
          1.0023952939820946,
          1.0070160197176135,
          1.9240722097464358,
          5.536736295185213,
          11.738805951570239,
          19.18291159212457,
          23.59728189021402
         ],
         "yaxis": "y5"
        },
        {
         "hovertemplate": "standard=snappy<br>file=500mb_samba<br>chunk_size=%{x}<br>decompression_utilization=%{y}<extra></extra>",
         "legendgroup": "snappy",
         "line": {
          "color": "#636efa",
          "dash": "solid"
         },
         "marker": {
          "symbol": "circle"
         },
         "mode": "lines+markers",
         "name": "snappy",
         "orientation": "v",
         "showlegend": false,
         "type": "scatter",
         "x": [
          65536000,
          16384000,
          4096000,
          1024000,
          256000,
          64000,
          16000,
          4000
         ],
         "xaxis": "x4",
         "y": [
          0.9999599601384022,
          1.0009989680498554,
          1.0007187706282874,
          1.0048577092154876,
          65.90423049487403,
          8.919600090326036,
          16.488268402175926,
          21.852286931745507
         ],
         "yaxis": "y4"
        },
        {
         "hovertemplate": "standard=snappy<br>file=500mb_sao<br>chunk_size=%{x}<br>decompression_utilization=%{y}<extra></extra>",
         "legendgroup": "snappy",
         "line": {
          "color": "#636efa",
          "dash": "solid"
         },
         "marker": {
          "symbol": "circle"
         },
         "mode": "lines+markers",
         "name": "snappy",
         "orientation": "v",
         "showlegend": false,
         "type": "scatter",
         "x": [
          65536000,
          16384000,
          4096000,
          1024000,
          256000,
          64000,
          16000,
          4000
         ],
         "xaxis": "x3",
         "y": [
          0.999956872002586,
          0.9999568746918549,
          0.9999144119205954,
          0.9995928656635651,
          1.2689787860225312,
          5.45399639778653,
          17.183191587497348,
          19.965001773427453
         ],
         "yaxis": "y3"
        },
        {
         "hovertemplate": "standard=snappy<br>file=500mb_silesia.zip<br>chunk_size=%{x}<br>decompression_utilization=%{y}<extra></extra>",
         "legendgroup": "snappy",
         "line": {
          "color": "#636efa",
          "dash": "solid"
         },
         "marker": {
          "symbol": "circle"
         },
         "mode": "lines+markers",
         "name": "snappy",
         "orientation": "v",
         "showlegend": false,
         "type": "scatter",
         "x": [
          65536000,
          16384000,
          4096000,
          1024000,
          256000,
          64000,
          16000,
          4000
         ],
         "xaxis": "x2",
         "y": [
          1.0046573512907429,
          1.0098965297134037,
          1.0227492718963398,
          1.9232162096797814,
          5.153079567640252,
          8.605687651092929,
          12.554860178571703,
          14.748320637887762
         ],
         "yaxis": "y2"
        },
        {
         "hovertemplate": "standard=snappy<br>file=500mb_xml<br>chunk_size=%{x}<br>decompression_utilization=%{y}<extra></extra>",
         "legendgroup": "snappy",
         "line": {
          "color": "#636efa",
          "dash": "solid"
         },
         "marker": {
          "symbol": "circle"
         },
         "mode": "lines+markers",
         "name": "snappy",
         "orientation": "v",
         "showlegend": false,
         "type": "scatter",
         "x": [
          65536000,
          16384000,
          4096000,
          1024000,
          256000,
          64000,
          16000,
          4000
         ],
         "xaxis": "x",
         "y": [
          0.9999497820139889,
          1.0000501912842013,
          1.0000529728668326,
          0.9997006161033859,
          1.001089467794328,
          2.5011168357924567,
          9.722745062745895,
          17.40823824295624
         ],
         "yaxis": "y"
        },
        {
         "hovertemplate": "standard=zstd<br>file=500mb_dickens<br>chunk_size=%{x}<br>decompression_utilization=%{y}<extra></extra>",
         "legendgroup": "zstd",
         "line": {
          "color": "#EF553B",
          "dash": "solid"
         },
         "marker": {
          "symbol": "circle"
         },
         "mode": "lines+markers",
         "name": "zstd",
         "orientation": "v",
         "showlegend": true,
         "type": "scatter",
         "x": [
          65536000,
          16384000,
          4096000,
          1024000,
          256000,
          64000,
          16000,
          4000
         ],
         "xaxis": "x8",
         "y": [
          0.9999978688309941,
          0.9999685894005707,
          0.9999556802878112,
          0.9999133608531059,
          2.940660548342281,
          8.634662207922634,
          15.476654440572066,
          13.16686689404069
         ],
         "yaxis": "y8"
        },
        {
         "hovertemplate": "standard=zstd<br>file=500mb_mozilla<br>chunk_size=%{x}<br>decompression_utilization=%{y}<extra></extra>",
         "legendgroup": "zstd",
         "line": {
          "color": "#EF553B",
          "dash": "solid"
         },
         "marker": {
          "symbol": "circle"
         },
         "mode": "lines+markers",
         "name": "zstd",
         "orientation": "v",
         "showlegend": false,
         "type": "scatter",
         "x": [
          16384000,
          4096000,
          1024000,
          256000,
          64000,
          16000,
          4000
         ],
         "xaxis": "x7",
         "y": [
          0.9999382754329491,
          1.5277275395485728,
          4.5904762983578316,
          9.497864132743402,
          13.56481210406827,
          13.085846836960208,
          12.871813367060014
         ],
         "yaxis": "y7"
        },
        {
         "hovertemplate": "standard=zstd<br>file=500mb_mr<br>chunk_size=%{x}<br>decompression_utilization=%{y}<extra></extra>",
         "legendgroup": "zstd",
         "line": {
          "color": "#EF553B",
          "dash": "solid"
         },
         "marker": {
          "symbol": "circle"
         },
         "mode": "lines+markers",
         "name": "zstd",
         "orientation": "v",
         "showlegend": false,
         "type": "scatter",
         "x": [
          65536000,
          16384000,
          4096000,
          1024000,
          256000,
          64000,
          16000,
          4000
         ],
         "xaxis": "x6",
         "y": [
          0.9999563240607066,
          0.9999593158849873,
          0.9999916849886786,
          0.9998898006234033,
          2.7960457083800945,
          7.255161387241679,
          15.487462219665732,
          13.842317377359745
         ],
         "yaxis": "y6"
        },
        {
         "hovertemplate": "standard=zstd<br>file=500mb_nci<br>chunk_size=%{x}<br>decompression_utilization=%{y}<extra></extra>",
         "legendgroup": "zstd",
         "line": {
          "color": "#EF553B",
          "dash": "solid"
         },
         "marker": {
          "symbol": "circle"
         },
         "mode": "lines+markers",
         "name": "zstd",
         "orientation": "v",
         "showlegend": false,
         "type": "scatter",
         "x": [
          16384000,
          4096000,
          1024000,
          256000,
          64000,
          16000,
          4000
         ],
         "xaxis": "x5",
         "y": [
          0.9998696533570028,
          0.9998653030050398,
          3.4324264654984207,
          7.2219841040979516,
          22.089407595118708,
          24.550683583321266,
          19.49227539268192
         ],
         "yaxis": "y5"
        },
        {
         "hovertemplate": "standard=zstd<br>file=500mb_samba<br>chunk_size=%{x}<br>decompression_utilization=%{y}<extra></extra>",
         "legendgroup": "zstd",
         "line": {
          "color": "#EF553B",
          "dash": "solid"
         },
         "marker": {
          "symbol": "circle"
         },
         "mode": "lines+markers",
         "name": "zstd",
         "orientation": "v",
         "showlegend": false,
         "type": "scatter",
         "x": [
          16384000,
          4096000,
          1024000,
          256000,
          64000,
          16000,
          4000
         ],
         "xaxis": "x4",
         "y": [
          0.9999167633061041,
          0.9999211132461363,
          2.0402701701192463,
          3.9414878630710914,
          10.682968161372095,
          12.091466535469063,
          12.386497692097501
         ],
         "yaxis": "y4"
        },
        {
         "hovertemplate": "standard=zstd<br>file=500mb_sao<br>chunk_size=%{x}<br>decompression_utilization=%{y}<extra></extra>",
         "legendgroup": "zstd",
         "line": {
          "color": "#EF553B",
          "dash": "solid"
         },
         "marker": {
          "symbol": "circle"
         },
         "mode": "lines+markers",
         "name": "zstd",
         "orientation": "v",
         "showlegend": false,
         "type": "scatter",
         "x": [
          65536000,
          16384000,
          4096000,
          1024000,
          256000,
          64000,
          16000,
          4000
         ],
         "xaxis": "x3",
         "y": [
          0.9998890840786648,
          0.9999557086122237,
          0.9999462421721631,
          0.9998704115005206,
          2.0058196710820444,
          6.179349041320737,
          11.43636916482237,
          10.265427081912023
         ],
         "yaxis": "y3"
        },
        {
         "hovertemplate": "standard=zstd<br>file=500mb_silesia.zip<br>chunk_size=%{x}<br>decompression_utilization=%{y}<extra></extra>",
         "legendgroup": "zstd",
         "line": {
          "color": "#EF553B",
          "dash": "solid"
         },
         "marker": {
          "symbol": "circle"
         },
         "mode": "lines+markers",
         "name": "zstd",
         "orientation": "v",
         "showlegend": false,
         "type": "scatter",
         "x": [
          64000,
          16000,
          4000
         ],
         "xaxis": "x2",
         "y": [
          3.295516693649498,
          4.1467259719207075,
          5.314668609205949
         ],
         "yaxis": "y2"
        },
        {
         "hovertemplate": "standard=zstd<br>file=500mb_xml<br>chunk_size=%{x}<br>decompression_utilization=%{y}<extra></extra>",
         "legendgroup": "zstd",
         "line": {
          "color": "#EF553B",
          "dash": "solid"
         },
         "marker": {
          "symbol": "circle"
         },
         "mode": "lines+markers",
         "name": "zstd",
         "orientation": "v",
         "showlegend": false,
         "type": "scatter",
         "x": [
          65536000,
          16384000,
          4096000,
          1024000,
          256000,
          64000,
          16000,
          4000
         ],
         "xaxis": "x",
         "y": [
          0.9999132029452867,
          0.9999137342265019,
          0.9998632078178251,
          0.9998683563132909,
          1.068532505552367,
          2.9310796650542175,
          10.903490872801555,
          12.32344742716577
         ],
         "yaxis": "y"
        },
        {
         "hovertemplate": "standard=gdeflate<br>file=500mb_dickens<br>chunk_size=%{x}<br>decompression_utilization=%{y}<extra></extra>",
         "legendgroup": "gdeflate",
         "line": {
          "color": "#00cc96",
          "dash": "solid"
         },
         "marker": {
          "symbol": "circle"
         },
         "mode": "lines+markers",
         "name": "gdeflate",
         "orientation": "v",
         "showlegend": true,
         "type": "scatter",
         "x": [
          64000,
          16000,
          4000
         ],
         "xaxis": "x8",
         "y": [
          4.861731558609221,
          12.538516536023467,
          11.704362491503364
         ],
         "yaxis": "y8"
        },
        {
         "hovertemplate": "standard=gdeflate<br>file=500mb_mozilla<br>chunk_size=%{x}<br>decompression_utilization=%{y}<extra></extra>",
         "legendgroup": "gdeflate",
         "line": {
          "color": "#00cc96",
          "dash": "solid"
         },
         "marker": {
          "symbol": "circle"
         },
         "mode": "lines+markers",
         "name": "gdeflate",
         "orientation": "v",
         "showlegend": false,
         "type": "scatter",
         "x": [
          64000,
          16000,
          4000
         ],
         "xaxis": "x7",
         "y": [
          11.984971343782085,
          13.938123917067248,
          16.01484231183499
         ],
         "yaxis": "y7"
        },
        {
         "hovertemplate": "standard=gdeflate<br>file=500mb_mr<br>chunk_size=%{x}<br>decompression_utilization=%{y}<extra></extra>",
         "legendgroup": "gdeflate",
         "line": {
          "color": "#00cc96",
          "dash": "solid"
         },
         "marker": {
          "symbol": "circle"
         },
         "mode": "lines+markers",
         "name": "gdeflate",
         "orientation": "v",
         "showlegend": false,
         "type": "scatter",
         "x": [
          64000,
          16000,
          4000
         ],
         "xaxis": "x6",
         "y": [
          4.392007196902432,
          11.510536680443078,
          14.791832689121856
         ],
         "yaxis": "y6"
        },
        {
         "hovertemplate": "standard=gdeflate<br>file=500mb_nci<br>chunk_size=%{x}<br>decompression_utilization=%{y}<extra></extra>",
         "legendgroup": "gdeflate",
         "line": {
          "color": "#00cc96",
          "dash": "solid"
         },
         "marker": {
          "symbol": "circle"
         },
         "mode": "lines+markers",
         "name": "gdeflate",
         "orientation": "v",
         "showlegend": false,
         "type": "scatter",
         "x": [
          64000,
          16000,
          4000
         ],
         "xaxis": "x5",
         "y": [
          12.363172788511317,
          19.67718356584747,
          22.675531542099506
         ],
         "yaxis": "y5"
        },
        {
         "hovertemplate": "standard=gdeflate<br>file=500mb_samba<br>chunk_size=%{x}<br>decompression_utilization=%{y}<extra></extra>",
         "legendgroup": "gdeflate",
         "line": {
          "color": "#00cc96",
          "dash": "solid"
         },
         "marker": {
          "symbol": "circle"
         },
         "mode": "lines+markers",
         "name": "gdeflate",
         "orientation": "v",
         "showlegend": false,
         "type": "scatter",
         "x": [
          64000,
          16000,
          4000
         ],
         "xaxis": "x4",
         "y": [
          5.9746842803649765,
          11.409873555471961,
          13.620712511487431
         ],
         "yaxis": "y4"
        },
        {
         "hovertemplate": "standard=gdeflate<br>file=500mb_sao<br>chunk_size=%{x}<br>decompression_utilization=%{y}<extra></extra>",
         "legendgroup": "gdeflate",
         "line": {
          "color": "#00cc96",
          "dash": "solid"
         },
         "marker": {
          "symbol": "circle"
         },
         "mode": "lines+markers",
         "name": "gdeflate",
         "orientation": "v",
         "showlegend": false,
         "type": "scatter",
         "x": [
          64000,
          16000,
          4000
         ],
         "xaxis": "x3",
         "y": [
          3.24983427352241,
          8.403767919841254,
          8.806432293284018
         ],
         "yaxis": "y3"
        },
        {
         "hovertemplate": "standard=gdeflate<br>file=500mb_silesia.zip<br>chunk_size=%{x}<br>decompression_utilization=%{y}<extra></extra>",
         "legendgroup": "gdeflate",
         "line": {
          "color": "#00cc96",
          "dash": "solid"
         },
         "marker": {
          "symbol": "circle"
         },
         "mode": "lines+markers",
         "name": "gdeflate",
         "orientation": "v",
         "showlegend": false,
         "type": "scatter",
         "x": [
          64000,
          16000,
          4000
         ],
         "xaxis": "x2",
         "y": [
          2.868335978365031,
          3.3422554575888785,
          5.001921994863471
         ],
         "yaxis": "y2"
        },
        {
         "hovertemplate": "standard=gdeflate<br>file=500mb_xml<br>chunk_size=%{x}<br>decompression_utilization=%{y}<extra></extra>",
         "legendgroup": "gdeflate",
         "line": {
          "color": "#00cc96",
          "dash": "solid"
         },
         "marker": {
          "symbol": "circle"
         },
         "mode": "lines+markers",
         "name": "gdeflate",
         "orientation": "v",
         "showlegend": false,
         "type": "scatter",
         "x": [
          64000,
          16000,
          4000
         ],
         "xaxis": "x",
         "y": [
          -1,
          6.113156733294102,
          13.45835051496164
         ],
         "yaxis": "y"
        },
        {
         "hovertemplate": "standard=lz4<br>file=500mb_dickens<br>chunk_size=%{x}<br>decompression_utilization=%{y}<extra></extra>",
         "legendgroup": "lz4",
         "line": {
          "color": "#ab63fa",
          "dash": "solid"
         },
         "marker": {
          "symbol": "circle"
         },
         "mode": "lines+markers",
         "name": "lz4",
         "orientation": "v",
         "showlegend": true,
         "type": "scatter",
         "x": [
          65536000,
          16384000,
          4096000,
          1024000,
          256000,
          64000,
          16000,
          4000
         ],
         "xaxis": "x8",
         "y": [
          0.9999868601068009,
          0.9999868795421365,
          1.000058391707557,
          0.9998689080260171,
          1.1901393923836223,
          4.837523065263726,
          13.839695131936482,
          17.692391491257148
         ],
         "yaxis": "y8"
        },
        {
         "hovertemplate": "standard=lz4<br>file=500mb_mozilla<br>chunk_size=%{x}<br>decompression_utilization=%{y}<extra></extra>",
         "legendgroup": "lz4",
         "line": {
          "color": "#ab63fa",
          "dash": "solid"
         },
         "marker": {
          "symbol": "circle"
         },
         "mode": "lines+markers",
         "name": "lz4",
         "orientation": "v",
         "showlegend": false,
         "type": "scatter",
         "x": [
          16384000,
          4096000,
          1024000,
          256000,
          64000,
          16000,
          4000
         ],
         "xaxis": "x7",
         "y": [
          1.0004876652934107,
          1.0014342375345968,
          1.809530405617899,
          5.1213967003574385,
          13.597185909837862,
          16.1681518621226,
          23.96193764829802
         ],
         "yaxis": "y7"
        },
        {
         "hovertemplate": "standard=lz4<br>file=500mb_mr<br>chunk_size=%{x}<br>decompression_utilization=%{y}<extra></extra>",
         "legendgroup": "lz4",
         "line": {
          "color": "#ab63fa",
          "dash": "solid"
         },
         "marker": {
          "symbol": "circle"
         },
         "mode": "lines+markers",
         "name": "lz4",
         "orientation": "v",
         "showlegend": false,
         "type": "scatter",
         "x": [
          65536000,
          16384000,
          4096000,
          1024000,
          256000,
          64000,
          16000,
          4000
         ],
         "xaxis": "x6",
         "y": [
          1.0000767865798814,
          1.000022011682638,
          1.0000313446754325,
          1,
          1.7742981998394909,
          4.746054987547339,
          12.696981668499998,
          20.57881466410982
         ],
         "yaxis": "y6"
        },
        {
         "hovertemplate": "standard=lz4<br>file=500mb_nci<br>chunk_size=%{x}<br>decompression_utilization=%{y}<extra></extra>",
         "legendgroup": "lz4",
         "line": {
          "color": "#ab63fa",
          "dash": "solid"
         },
         "marker": {
          "symbol": "circle"
         },
         "mode": "lines+markers",
         "name": "lz4",
         "orientation": "v",
         "showlegend": false,
         "type": "scatter",
         "x": [
          16384000,
          4096000,
          1024000,
          256000,
          64000,
          16000,
          4000
         ],
         "xaxis": "x5",
         "y": [
          1.0024929467433985,
          1.0065427374918543,
          1.018317570368156,
          4.307146347751969,
          13.868405154377129,
          23.050513762948068,
          31.175594836211992
         ],
         "yaxis": "y5"
        },
        {
         "hovertemplate": "standard=lz4<br>file=500mb_samba<br>chunk_size=%{x}<br>decompression_utilization=%{y}<extra></extra>",
         "legendgroup": "lz4",
         "line": {
          "color": "#ab63fa",
          "dash": "solid"
         },
         "marker": {
          "symbol": "circle"
         },
         "mode": "lines+markers",
         "name": "lz4",
         "orientation": "v",
         "showlegend": false,
         "type": "scatter",
         "x": [
          16384000,
          4096000,
          1024000,
          256000,
          64000,
          16000,
          4000
         ],
         "xaxis": "x4",
         "y": [
          1.0006222489707226,
          1.0003236679687153,
          0.9996008717488567,
          2.1992241348655854,
          6.429467789064882,
          12.807601278973396,
          20.362503877152925
         ],
         "yaxis": "y4"
        },
        {
         "hovertemplate": "standard=lz4<br>file=500mb_sao<br>chunk_size=%{x}<br>decompression_utilization=%{y}<extra></extra>",
         "legendgroup": "lz4",
         "line": {
          "color": "#ab63fa",
          "dash": "solid"
         },
         "marker": {
          "symbol": "circle"
         },
         "mode": "lines+markers",
         "name": "lz4",
         "orientation": "v",
         "showlegend": false,
         "type": "scatter",
         "x": [
          65536000,
          16384000,
          4096000,
          1024000,
          256000,
          64000,
          16000,
          4000
         ],
         "xaxis": "x3",
         "y": [
          0.9999777563503022,
          0.99997793357844,
          0.9999565513004549,
          0.9998272765838314,
          0.9993589791758497,
          3.25612694849562,
          9.28475699732251,
          11.095594550131526
         ],
         "yaxis": "y3"
        },
        {
         "hovertemplate": "standard=lz4<br>file=500mb_silesia.zip<br>chunk_size=%{x}<br>decompression_utilization=%{y}<extra></extra>",
         "legendgroup": "lz4",
         "line": {
          "color": "#ab63fa",
          "dash": "solid"
         },
         "marker": {
          "symbol": "circle"
         },
         "mode": "lines+markers",
         "name": "lz4",
         "orientation": "v",
         "showlegend": false,
         "type": "scatter",
         "x": [
          16384000,
          4096000,
          1024000,
          256000,
          64000,
          16000,
          4000
         ],
         "xaxis": "x2",
         "y": [
          1.0046557786229107,
          1,
          1.0192330850134876,
          2.132709340477925,
          1.9621887864884646,
          2.091333958675583,
          3.857762111148526
         ],
         "yaxis": "y2"
        },
        {
         "hovertemplate": "standard=lz4<br>file=500mb_xml<br>chunk_size=%{x}<br>decompression_utilization=%{y}<extra></extra>",
         "legendgroup": "lz4",
         "line": {
          "color": "#ab63fa",
          "dash": "solid"
         },
         "marker": {
          "symbol": "circle"
         },
         "mode": "lines+markers",
         "name": "lz4",
         "orientation": "v",
         "showlegend": false,
         "type": "scatter",
         "x": [
          65536000,
          16384000,
          4096000,
          1024000,
          256000,
          64000,
          16000,
          4000
         ],
         "xaxis": "x",
         "y": [
          1,
          0.9999638001347315,
          0.9999186312702459,
          0.9998500117722282,
          18.634999680778925,
          2.140407142546859,
          6.678548125219345,
          15.199893401370053
         ],
         "yaxis": "y"
        },
        {
         "hovertemplate": "standard=bitcomp<br>file=500mb_dickens<br>chunk_size=%{x}<br>decompression_utilization=%{y}<extra></extra>",
         "legendgroup": "bitcomp",
         "line": {
          "color": "#FFA15A",
          "dash": "solid"
         },
         "marker": {
          "symbol": "circle"
         },
         "mode": "lines+markers",
         "name": "bitcomp",
         "orientation": "v",
         "showlegend": true,
         "type": "scatter",
         "x": [
          65536000,
          16384000,
          4096000,
          1024000,
          256000,
          64000,
          16000,
          4000
         ],
         "xaxis": "x8",
         "y": [
          0.9934565980707196,
          1,
          0.9813207751147635,
          3.1768647586749994,
          8.569208010134139,
          8.217844124933574,
          8.462081156709022,
          22.041048709076392
         ],
         "yaxis": "y8"
        },
        {
         "hovertemplate": "standard=bitcomp<br>file=500mb_mozilla<br>chunk_size=%{x}<br>decompression_utilization=%{y}<extra></extra>",
         "legendgroup": "bitcomp",
         "line": {
          "color": "#FFA15A",
          "dash": "solid"
         },
         "marker": {
          "symbol": "circle"
         },
         "mode": "lines+markers",
         "name": "bitcomp",
         "orientation": "v",
         "showlegend": false,
         "type": "scatter",
         "x": [
          65536000,
          16384000,
          4096000,
          1024000,
          256000,
          64000,
          16000,
          4000
         ],
         "xaxis": "x7",
         "y": [
          1.131445569795771,
          1.474476239098803,
          5.069658391815632,
          15.859076892403246,
          18.51736274643673,
          23.17404737441511,
          29.853275962911006,
          39.5869541310863
         ],
         "yaxis": "y7"
        },
        {
         "hovertemplate": "standard=bitcomp<br>file=500mb_mr<br>chunk_size=%{x}<br>decompression_utilization=%{y}<extra></extra>",
         "legendgroup": "bitcomp",
         "line": {
          "color": "#FFA15A",
          "dash": "solid"
         },
         "marker": {
          "symbol": "circle"
         },
         "mode": "lines+markers",
         "name": "bitcomp",
         "orientation": "v",
         "showlegend": false,
         "type": "scatter",
         "x": [
          65536000,
          16384000,
          4096000,
          1024000,
          256000,
          64000,
          16000,
          4000
         ],
         "xaxis": "x6",
         "y": [
          1.0424292830511521,
          0.9929296732388575,
          0,
          3.3260709682700993,
          7.400705608114493,
          1.157515218749126,
          0,
          9.40090470302915
         ],
         "yaxis": "y6"
        },
        {
         "hovertemplate": "standard=bitcomp<br>file=500mb_nci<br>chunk_size=%{x}<br>decompression_utilization=%{y}<extra></extra>",
         "legendgroup": "bitcomp",
         "line": {
          "color": "#FFA15A",
          "dash": "solid"
         },
         "marker": {
          "symbol": "circle"
         },
         "mode": "lines+markers",
         "name": "bitcomp",
         "orientation": "v",
         "showlegend": false,
         "type": "scatter",
         "x": [
          65536000,
          16384000,
          4096000,
          1024000,
          256000,
          64000,
          16000,
          4000
         ],
         "xaxis": "x5",
         "y": [
          1.0121611413927463,
          3.3142605479529754,
          3.9509119245987776,
          11.21433176668892,
          23.963655882813956,
          23.505998013594464,
          14.443637479875777,
          33.05053505974696
         ],
         "yaxis": "y5"
        },
        {
         "hovertemplate": "standard=bitcomp<br>file=500mb_samba<br>chunk_size=%{x}<br>decompression_utilization=%{y}<extra></extra>",
         "legendgroup": "bitcomp",
         "line": {
          "color": "#FFA15A",
          "dash": "solid"
         },
         "marker": {
          "symbol": "circle"
         },
         "mode": "lines+markers",
         "name": "bitcomp",
         "orientation": "v",
         "showlegend": false,
         "type": "scatter",
         "x": [
          65536000,
          16384000,
          4096000,
          1024000,
          256000,
          64000,
          16000,
          4000
         ],
         "xaxis": "x4",
         "y": [
          0.9936555072825407,
          1.067273570931731,
          2.0391330937656162,
          7.8349250422782415,
          0.7538129213850887,
          4.2857134145101945,
          10.66260843098463,
          37.5
         ],
         "yaxis": "y4"
        },
        {
         "hovertemplate": "standard=bitcomp<br>file=500mb_sao<br>chunk_size=%{x}<br>decompression_utilization=%{y}<extra></extra>",
         "legendgroup": "bitcomp",
         "line": {
          "color": "#FFA15A",
          "dash": "solid"
         },
         "marker": {
          "symbol": "circle"
         },
         "mode": "lines+markers",
         "name": "bitcomp",
         "orientation": "v",
         "showlegend": false,
         "type": "scatter",
         "x": [
          65536000,
          16384000,
          4096000,
          1024000,
          256000,
          64000,
          16000,
          4000
         ],
         "xaxis": "x3",
         "y": [
          0.9910098696795632,
          0.9908144268193076,
          0.9814833593607399,
          2.3045758103441623,
          2.8010923269854104,
          0,
          0,
          17.32713484313318
         ],
         "yaxis": "y3"
        },
        {
         "hovertemplate": "standard=bitcomp<br>file=500mb_silesia.zip<br>chunk_size=%{x}<br>decompression_utilization=%{y}<extra></extra>",
         "legendgroup": "bitcomp",
         "line": {
          "color": "#FFA15A",
          "dash": "solid"
         },
         "marker": {
          "symbol": "circle"
         },
         "mode": "lines+markers",
         "name": "bitcomp",
         "orientation": "v",
         "showlegend": false,
         "type": "scatter",
         "x": [
          65536000,
          16384000,
          4096000,
          1024000,
          256000,
          64000,
          16000,
          4000
         ],
         "xaxis": "x2",
         "y": [
          1.2839186157857905,
          2.678519106393051,
          6.211851564555802,
          18.868535026037545,
          19.72530569923819,
          24.384571058598887,
          26.742867278894174,
          37.99994146103208
         ],
         "yaxis": "y2"
        },
        {
         "hovertemplate": "standard=bitcomp<br>file=500mb_xml<br>chunk_size=%{x}<br>decompression_utilization=%{y}<extra></extra>",
         "legendgroup": "bitcomp",
         "line": {
          "color": "#FFA15A",
          "dash": "solid"
         },
         "marker": {
          "symbol": "circle"
         },
         "mode": "lines+markers",
         "name": "bitcomp",
         "orientation": "v",
         "showlegend": false,
         "type": "scatter",
         "x": [
          65536000,
          16384000,
          4096000,
          1024000,
          256000,
          64000,
          16000,
          4000
         ],
         "xaxis": "x",
         "y": [
          0.9931026415294184,
          0.9929685568523845,
          0.9608988779500154,
          1.696566232303391,
          2.697940090502762,
          -1,
          1,
          2
         ],
         "yaxis": "y"
        },
        {
         "hovertemplate": "standard=cascaded<br>file=500mb_mozilla<br>chunk_size=%{x}<br>decompression_utilization=%{y}<extra></extra>",
         "legendgroup": "cascaded",
         "line": {
          "color": "#19d3f3",
          "dash": "solid"
         },
         "marker": {
          "symbol": "circle"
         },
         "mode": "lines+markers",
         "name": "cascaded",
         "orientation": "v",
         "showlegend": true,
         "type": "scatter",
         "x": [
          65536000,
          16384000,
          4096000,
          1024000,
          256000,
          64000,
          16000,
          4000
         ],
         "xaxis": "x7",
         "y": [
          1.000481513868099,
          1.0259727934020748,
          1.9508197708559676,
          8.157665535921138,
          26.48821461004374,
          32.10826985140606,
          33.66917494386821,
          36.09991903145935
         ],
         "yaxis": "y7"
        },
        {
         "hovertemplate": "standard=cascaded<br>file=500mb_mr<br>chunk_size=%{x}<br>decompression_utilization=%{y}<extra></extra>",
         "legendgroup": "cascaded",
         "line": {
          "color": "#19d3f3",
          "dash": "solid"
         },
         "marker": {
          "symbol": "circle"
         },
         "mode": "lines+markers",
         "name": "cascaded",
         "orientation": "v",
         "showlegend": false,
         "type": "scatter",
         "x": [
          65536000,
          16384000,
          4096000,
          1024000,
          256000,
          64000,
          16000,
          4000
         ],
         "xaxis": "x6",
         "y": [
          1.003157748292582,
          0.9993992140948653,
          1.0008783467367892,
          1.9449823526729169,
          6.1904754626771865,
          16.498564022273985,
          22.533102268296687,
          26.151025123975526
         ],
         "yaxis": "y6"
        },
        {
         "hovertemplate": "standard=cascaded<br>file=500mb_samba<br>chunk_size=%{x}<br>decompression_utilization=%{y}<extra></extra>",
         "legendgroup": "cascaded",
         "line": {
          "color": "#19d3f3",
          "dash": "solid"
         },
         "marker": {
          "symbol": "circle"
         },
         "mode": "lines+markers",
         "name": "cascaded",
         "orientation": "v",
         "showlegend": false,
         "type": "scatter",
         "x": [
          65536000,
          16384000,
          4096000,
          1024000,
          256000,
          64000,
          16000,
          4000
         ],
         "xaxis": "x4",
         "y": [
          0.9995410372118112,
          1.0162726902451888,
          1,
          1.3181835572330736,
          13.314236392779346,
          20.279844314643626,
          31.456346582861194,
          35.79993202307371
         ],
         "yaxis": "y4"
        },
        {
         "hovertemplate": "standard=cascaded<br>file=500mb_sao<br>chunk_size=%{x}<br>decompression_utilization=%{y}<extra></extra>",
         "legendgroup": "cascaded",
         "line": {
          "color": "#19d3f3",
          "dash": "solid"
         },
         "marker": {
          "symbol": "circle"
         },
         "mode": "lines+markers",
         "name": "cascaded",
         "orientation": "v",
         "showlegend": false,
         "type": "scatter",
         "x": [
          65536000,
          16384000,
          4096000,
          1024000,
          256000,
          64000,
          16000,
          4000
         ],
         "xaxis": "x3",
         "y": [
          1.0002554920313111,
          1.0007610193558882,
          0.9990291842382722,
          9.941611251978788,
          4.356533954191042,
          12.424301645218744,
          18.04602143404059,
          22.104806824855746
         ],
         "yaxis": "y3"
        },
        {
         "hovertemplate": "standard=cascaded<br>file=500mb_xml<br>chunk_size=%{x}<br>decompression_utilization=%{y}<extra></extra>",
         "legendgroup": "cascaded",
         "line": {
          "color": "#19d3f3",
          "dash": "solid"
         },
         "marker": {
          "symbol": "circle"
         },
         "mode": "lines+markers",
         "name": "cascaded",
         "orientation": "v",
         "showlegend": false,
         "type": "scatter",
         "x": [
          65536000,
          16384000,
          4096000,
          1024000,
          256000,
          64000,
          16000,
          4000
         ],
         "xaxis": "x",
         "y": [
          0.999486283369665,
          0.999486474079277,
          0,
          7.20398739339025,
          27.531168970382492,
          9.55728350618165,
          10.010066540367617,
          4.4148126681846405
         ],
         "yaxis": "y"
        }
       ],
       "layout": {
        "annotations": [
         {
          "font": {},
          "showarrow": false,
          "text": "file=500mb_xml",
          "textangle": 90,
          "x": 0.98,
          "xanchor": "left",
          "xref": "paper",
          "y": 0.049375,
          "yanchor": "middle",
          "yref": "paper"
         },
         {
          "font": {},
          "showarrow": false,
          "text": "file=500mb_silesia.zip",
          "textangle": 90,
          "x": 0.98,
          "xanchor": "left",
          "xref": "paper",
          "y": 0.178125,
          "yanchor": "middle",
          "yref": "paper"
         },
         {
          "font": {},
          "showarrow": false,
          "text": "file=500mb_sao",
          "textangle": 90,
          "x": 0.98,
          "xanchor": "left",
          "xref": "paper",
          "y": 0.306875,
          "yanchor": "middle",
          "yref": "paper"
         },
         {
          "font": {},
          "showarrow": false,
          "text": "file=500mb_samba",
          "textangle": 90,
          "x": 0.98,
          "xanchor": "left",
          "xref": "paper",
          "y": 0.435625,
          "yanchor": "middle",
          "yref": "paper"
         },
         {
          "font": {},
          "showarrow": false,
          "text": "file=500mb_nci",
          "textangle": 90,
          "x": 0.98,
          "xanchor": "left",
          "xref": "paper",
          "y": 0.5643750000000001,
          "yanchor": "middle",
          "yref": "paper"
         },
         {
          "font": {},
          "showarrow": false,
          "text": "file=500mb_mr",
          "textangle": 90,
          "x": 0.98,
          "xanchor": "left",
          "xref": "paper",
          "y": 0.693125,
          "yanchor": "middle",
          "yref": "paper"
         },
         {
          "font": {},
          "showarrow": false,
          "text": "file=500mb_mozilla",
          "textangle": 90,
          "x": 0.98,
          "xanchor": "left",
          "xref": "paper",
          "y": 0.8218749999999999,
          "yanchor": "middle",
          "yref": "paper"
         },
         {
          "font": {},
          "showarrow": false,
          "text": "file=500mb_dickens",
          "textangle": 90,
          "x": 0.98,
          "xanchor": "left",
          "xref": "paper",
          "y": 0.950625,
          "yanchor": "middle",
          "yref": "paper"
         }
        ],
        "height": 1200,
        "legend": {
         "title": {
          "text": "standard"
         },
         "tracegroupgap": 0
        },
        "template": {
         "data": {
          "bar": [
           {
            "error_x": {
             "color": "#2a3f5f"
            },
            "error_y": {
             "color": "#2a3f5f"
            },
            "marker": {
             "line": {
              "color": "#E5ECF6",
              "width": 0.5
             },
             "pattern": {
              "fillmode": "overlay",
              "size": 10,
              "solidity": 0.2
             }
            },
            "type": "bar"
           }
          ],
          "barpolar": [
           {
            "marker": {
             "line": {
              "color": "#E5ECF6",
              "width": 0.5
             },
             "pattern": {
              "fillmode": "overlay",
              "size": 10,
              "solidity": 0.2
             }
            },
            "type": "barpolar"
           }
          ],
          "carpet": [
           {
            "aaxis": {
             "endlinecolor": "#2a3f5f",
             "gridcolor": "white",
             "linecolor": "white",
             "minorgridcolor": "white",
             "startlinecolor": "#2a3f5f"
            },
            "baxis": {
             "endlinecolor": "#2a3f5f",
             "gridcolor": "white",
             "linecolor": "white",
             "minorgridcolor": "white",
             "startlinecolor": "#2a3f5f"
            },
            "type": "carpet"
           }
          ],
          "choropleth": [
           {
            "colorbar": {
             "outlinewidth": 0,
             "ticks": ""
            },
            "type": "choropleth"
           }
          ],
          "contour": [
           {
            "colorbar": {
             "outlinewidth": 0,
             "ticks": ""
            },
            "colorscale": [
             [
              0,
              "#0d0887"
             ],
             [
              0.1111111111111111,
              "#46039f"
             ],
             [
              0.2222222222222222,
              "#7201a8"
             ],
             [
              0.3333333333333333,
              "#9c179e"
             ],
             [
              0.4444444444444444,
              "#bd3786"
             ],
             [
              0.5555555555555556,
              "#d8576b"
             ],
             [
              0.6666666666666666,
              "#ed7953"
             ],
             [
              0.7777777777777778,
              "#fb9f3a"
             ],
             [
              0.8888888888888888,
              "#fdca26"
             ],
             [
              1,
              "#f0f921"
             ]
            ],
            "type": "contour"
           }
          ],
          "contourcarpet": [
           {
            "colorbar": {
             "outlinewidth": 0,
             "ticks": ""
            },
            "type": "contourcarpet"
           }
          ],
          "heatmap": [
           {
            "colorbar": {
             "outlinewidth": 0,
             "ticks": ""
            },
            "colorscale": [
             [
              0,
              "#0d0887"
             ],
             [
              0.1111111111111111,
              "#46039f"
             ],
             [
              0.2222222222222222,
              "#7201a8"
             ],
             [
              0.3333333333333333,
              "#9c179e"
             ],
             [
              0.4444444444444444,
              "#bd3786"
             ],
             [
              0.5555555555555556,
              "#d8576b"
             ],
             [
              0.6666666666666666,
              "#ed7953"
             ],
             [
              0.7777777777777778,
              "#fb9f3a"
             ],
             [
              0.8888888888888888,
              "#fdca26"
             ],
             [
              1,
              "#f0f921"
             ]
            ],
            "type": "heatmap"
           }
          ],
          "heatmapgl": [
           {
            "colorbar": {
             "outlinewidth": 0,
             "ticks": ""
            },
            "colorscale": [
             [
              0,
              "#0d0887"
             ],
             [
              0.1111111111111111,
              "#46039f"
             ],
             [
              0.2222222222222222,
              "#7201a8"
             ],
             [
              0.3333333333333333,
              "#9c179e"
             ],
             [
              0.4444444444444444,
              "#bd3786"
             ],
             [
              0.5555555555555556,
              "#d8576b"
             ],
             [
              0.6666666666666666,
              "#ed7953"
             ],
             [
              0.7777777777777778,
              "#fb9f3a"
             ],
             [
              0.8888888888888888,
              "#fdca26"
             ],
             [
              1,
              "#f0f921"
             ]
            ],
            "type": "heatmapgl"
           }
          ],
          "histogram": [
           {
            "marker": {
             "pattern": {
              "fillmode": "overlay",
              "size": 10,
              "solidity": 0.2
             }
            },
            "type": "histogram"
           }
          ],
          "histogram2d": [
           {
            "colorbar": {
             "outlinewidth": 0,
             "ticks": ""
            },
            "colorscale": [
             [
              0,
              "#0d0887"
             ],
             [
              0.1111111111111111,
              "#46039f"
             ],
             [
              0.2222222222222222,
              "#7201a8"
             ],
             [
              0.3333333333333333,
              "#9c179e"
             ],
             [
              0.4444444444444444,
              "#bd3786"
             ],
             [
              0.5555555555555556,
              "#d8576b"
             ],
             [
              0.6666666666666666,
              "#ed7953"
             ],
             [
              0.7777777777777778,
              "#fb9f3a"
             ],
             [
              0.8888888888888888,
              "#fdca26"
             ],
             [
              1,
              "#f0f921"
             ]
            ],
            "type": "histogram2d"
           }
          ],
          "histogram2dcontour": [
           {
            "colorbar": {
             "outlinewidth": 0,
             "ticks": ""
            },
            "colorscale": [
             [
              0,
              "#0d0887"
             ],
             [
              0.1111111111111111,
              "#46039f"
             ],
             [
              0.2222222222222222,
              "#7201a8"
             ],
             [
              0.3333333333333333,
              "#9c179e"
             ],
             [
              0.4444444444444444,
              "#bd3786"
             ],
             [
              0.5555555555555556,
              "#d8576b"
             ],
             [
              0.6666666666666666,
              "#ed7953"
             ],
             [
              0.7777777777777778,
              "#fb9f3a"
             ],
             [
              0.8888888888888888,
              "#fdca26"
             ],
             [
              1,
              "#f0f921"
             ]
            ],
            "type": "histogram2dcontour"
           }
          ],
          "mesh3d": [
           {
            "colorbar": {
             "outlinewidth": 0,
             "ticks": ""
            },
            "type": "mesh3d"
           }
          ],
          "parcoords": [
           {
            "line": {
             "colorbar": {
              "outlinewidth": 0,
              "ticks": ""
             }
            },
            "type": "parcoords"
           }
          ],
          "pie": [
           {
            "automargin": true,
            "type": "pie"
           }
          ],
          "scatter": [
           {
            "fillpattern": {
             "fillmode": "overlay",
             "size": 10,
             "solidity": 0.2
            },
            "type": "scatter"
           }
          ],
          "scatter3d": [
           {
            "line": {
             "colorbar": {
              "outlinewidth": 0,
              "ticks": ""
             }
            },
            "marker": {
             "colorbar": {
              "outlinewidth": 0,
              "ticks": ""
             }
            },
            "type": "scatter3d"
           }
          ],
          "scattercarpet": [
           {
            "marker": {
             "colorbar": {
              "outlinewidth": 0,
              "ticks": ""
             }
            },
            "type": "scattercarpet"
           }
          ],
          "scattergeo": [
           {
            "marker": {
             "colorbar": {
              "outlinewidth": 0,
              "ticks": ""
             }
            },
            "type": "scattergeo"
           }
          ],
          "scattergl": [
           {
            "marker": {
             "colorbar": {
              "outlinewidth": 0,
              "ticks": ""
             }
            },
            "type": "scattergl"
           }
          ],
          "scattermapbox": [
           {
            "marker": {
             "colorbar": {
              "outlinewidth": 0,
              "ticks": ""
             }
            },
            "type": "scattermapbox"
           }
          ],
          "scatterpolar": [
           {
            "marker": {
             "colorbar": {
              "outlinewidth": 0,
              "ticks": ""
             }
            },
            "type": "scatterpolar"
           }
          ],
          "scatterpolargl": [
           {
            "marker": {
             "colorbar": {
              "outlinewidth": 0,
              "ticks": ""
             }
            },
            "type": "scatterpolargl"
           }
          ],
          "scatterternary": [
           {
            "marker": {
             "colorbar": {
              "outlinewidth": 0,
              "ticks": ""
             }
            },
            "type": "scatterternary"
           }
          ],
          "surface": [
           {
            "colorbar": {
             "outlinewidth": 0,
             "ticks": ""
            },
            "colorscale": [
             [
              0,
              "#0d0887"
             ],
             [
              0.1111111111111111,
              "#46039f"
             ],
             [
              0.2222222222222222,
              "#7201a8"
             ],
             [
              0.3333333333333333,
              "#9c179e"
             ],
             [
              0.4444444444444444,
              "#bd3786"
             ],
             [
              0.5555555555555556,
              "#d8576b"
             ],
             [
              0.6666666666666666,
              "#ed7953"
             ],
             [
              0.7777777777777778,
              "#fb9f3a"
             ],
             [
              0.8888888888888888,
              "#fdca26"
             ],
             [
              1,
              "#f0f921"
             ]
            ],
            "type": "surface"
           }
          ],
          "table": [
           {
            "cells": {
             "fill": {
              "color": "#EBF0F8"
             },
             "line": {
              "color": "white"
             }
            },
            "header": {
             "fill": {
              "color": "#C8D4E3"
             },
             "line": {
              "color": "white"
             }
            },
            "type": "table"
           }
          ]
         },
         "layout": {
          "annotationdefaults": {
           "arrowcolor": "#2a3f5f",
           "arrowhead": 0,
           "arrowwidth": 1
          },
          "autotypenumbers": "strict",
          "coloraxis": {
           "colorbar": {
            "outlinewidth": 0,
            "ticks": ""
           }
          },
          "colorscale": {
           "diverging": [
            [
             0,
             "#8e0152"
            ],
            [
             0.1,
             "#c51b7d"
            ],
            [
             0.2,
             "#de77ae"
            ],
            [
             0.3,
             "#f1b6da"
            ],
            [
             0.4,
             "#fde0ef"
            ],
            [
             0.5,
             "#f7f7f7"
            ],
            [
             0.6,
             "#e6f5d0"
            ],
            [
             0.7,
             "#b8e186"
            ],
            [
             0.8,
             "#7fbc41"
            ],
            [
             0.9,
             "#4d9221"
            ],
            [
             1,
             "#276419"
            ]
           ],
           "sequential": [
            [
             0,
             "#0d0887"
            ],
            [
             0.1111111111111111,
             "#46039f"
            ],
            [
             0.2222222222222222,
             "#7201a8"
            ],
            [
             0.3333333333333333,
             "#9c179e"
            ],
            [
             0.4444444444444444,
             "#bd3786"
            ],
            [
             0.5555555555555556,
             "#d8576b"
            ],
            [
             0.6666666666666666,
             "#ed7953"
            ],
            [
             0.7777777777777778,
             "#fb9f3a"
            ],
            [
             0.8888888888888888,
             "#fdca26"
            ],
            [
             1,
             "#f0f921"
            ]
           ],
           "sequentialminus": [
            [
             0,
             "#0d0887"
            ],
            [
             0.1111111111111111,
             "#46039f"
            ],
            [
             0.2222222222222222,
             "#7201a8"
            ],
            [
             0.3333333333333333,
             "#9c179e"
            ],
            [
             0.4444444444444444,
             "#bd3786"
            ],
            [
             0.5555555555555556,
             "#d8576b"
            ],
            [
             0.6666666666666666,
             "#ed7953"
            ],
            [
             0.7777777777777778,
             "#fb9f3a"
            ],
            [
             0.8888888888888888,
             "#fdca26"
            ],
            [
             1,
             "#f0f921"
            ]
           ]
          },
          "colorway": [
           "#636efa",
           "#EF553B",
           "#00cc96",
           "#ab63fa",
           "#FFA15A",
           "#19d3f3",
           "#FF6692",
           "#B6E880",
           "#FF97FF",
           "#FECB52"
          ],
          "font": {
           "color": "#2a3f5f"
          },
          "geo": {
           "bgcolor": "white",
           "lakecolor": "white",
           "landcolor": "#E5ECF6",
           "showlakes": true,
           "showland": true,
           "subunitcolor": "white"
          },
          "hoverlabel": {
           "align": "left"
          },
          "hovermode": "closest",
          "mapbox": {
           "style": "light"
          },
          "paper_bgcolor": "white",
          "plot_bgcolor": "#E5ECF6",
          "polar": {
           "angularaxis": {
            "gridcolor": "white",
            "linecolor": "white",
            "ticks": ""
           },
           "bgcolor": "#E5ECF6",
           "radialaxis": {
            "gridcolor": "white",
            "linecolor": "white",
            "ticks": ""
           }
          },
          "scene": {
           "xaxis": {
            "backgroundcolor": "#E5ECF6",
            "gridcolor": "white",
            "gridwidth": 2,
            "linecolor": "white",
            "showbackground": true,
            "ticks": "",
            "zerolinecolor": "white"
           },
           "yaxis": {
            "backgroundcolor": "#E5ECF6",
            "gridcolor": "white",
            "gridwidth": 2,
            "linecolor": "white",
            "showbackground": true,
            "ticks": "",
            "zerolinecolor": "white"
           },
           "zaxis": {
            "backgroundcolor": "#E5ECF6",
            "gridcolor": "white",
            "gridwidth": 2,
            "linecolor": "white",
            "showbackground": true,
            "ticks": "",
            "zerolinecolor": "white"
           }
          },
          "shapedefaults": {
           "line": {
            "color": "#2a3f5f"
           }
          },
          "ternary": {
           "aaxis": {
            "gridcolor": "white",
            "linecolor": "white",
            "ticks": ""
           },
           "baxis": {
            "gridcolor": "white",
            "linecolor": "white",
            "ticks": ""
           },
           "bgcolor": "#E5ECF6",
           "caxis": {
            "gridcolor": "white",
            "linecolor": "white",
            "ticks": ""
           }
          },
          "title": {
           "x": 0.05
          },
          "xaxis": {
           "automargin": true,
           "gridcolor": "white",
           "linecolor": "white",
           "ticks": "",
           "title": {
            "standoff": 15
           },
           "zerolinecolor": "white",
           "zerolinewidth": 2
          },
          "yaxis": {
           "automargin": true,
           "gridcolor": "white",
           "linecolor": "white",
           "ticks": "",
           "title": {
            "standoff": 15
           },
           "zerolinecolor": "white",
           "zerolinewidth": 2
          }
         }
        },
        "title": {
         "text": "GPU utilization during compression per file  at different chunk sizes"
        },
        "width": 500,
        "xaxis": {
         "anchor": "y",
         "domain": [
          0,
          0.98
         ],
         "title": {
          "text": "chunk_size"
         },
         "type": "log"
        },
        "xaxis2": {
         "anchor": "y2",
         "domain": [
          0,
          0.98
         ],
         "matches": "x",
         "showticklabels": false,
         "type": "log"
        },
        "xaxis3": {
         "anchor": "y3",
         "domain": [
          0,
          0.98
         ],
         "matches": "x",
         "showticklabels": false,
         "type": "log"
        },
        "xaxis4": {
         "anchor": "y4",
         "domain": [
          0,
          0.98
         ],
         "matches": "x",
         "showticklabels": false,
         "type": "log"
        },
        "xaxis5": {
         "anchor": "y5",
         "domain": [
          0,
          0.98
         ],
         "matches": "x",
         "showticklabels": false,
         "type": "log"
        },
        "xaxis6": {
         "anchor": "y6",
         "domain": [
          0,
          0.98
         ],
         "matches": "x",
         "showticklabels": false,
         "type": "log"
        },
        "xaxis7": {
         "anchor": "y7",
         "domain": [
          0,
          0.98
         ],
         "matches": "x",
         "showticklabels": false,
         "type": "log"
        },
        "xaxis8": {
         "anchor": "y8",
         "domain": [
          0,
          0.98
         ],
         "matches": "x",
         "showticklabels": false,
         "type": "log"
        },
        "yaxis": {
         "anchor": "x",
         "domain": [
          0,
          0.09875
         ],
         "title": {
          "text": "decompression_utilization"
         }
        },
        "yaxis2": {
         "anchor": "x2",
         "domain": [
          0.12875,
          0.2275
         ],
         "matches": "y",
         "title": {
          "text": "decompression_utilization"
         }
        },
        "yaxis3": {
         "anchor": "x3",
         "domain": [
          0.2575,
          0.35625
         ],
         "matches": "y",
         "title": {
          "text": "decompression_utilization"
         }
        },
        "yaxis4": {
         "anchor": "x4",
         "domain": [
          0.38625,
          0.485
         ],
         "matches": "y",
         "title": {
          "text": "decompression_utilization"
         }
        },
        "yaxis5": {
         "anchor": "x5",
         "domain": [
          0.515,
          0.61375
         ],
         "matches": "y",
         "title": {
          "text": "decompression_utilization"
         }
        },
        "yaxis6": {
         "anchor": "x6",
         "domain": [
          0.64375,
          0.7425
         ],
         "matches": "y",
         "title": {
          "text": "decompression_utilization"
         }
        },
        "yaxis7": {
         "anchor": "x7",
         "domain": [
          0.7725,
          0.87125
         ],
         "matches": "y",
         "title": {
          "text": "decompression_utilization"
         }
        },
        "yaxis8": {
         "anchor": "x8",
         "domain": [
          0.90125,
          1
         ],
         "matches": "y",
         "title": {
          "text": "decompression_utilization"
         }
        }
       }
      }
     },
     "metadata": {},
     "output_type": "display_data"
    }
   ],
   "source": [
    "fig_utilization_file = px.line(\n",
    "    result_df,\n",
    "    title=f\"GPU utilization during compression per file  at different chunk sizes\", \n",
    "    x=\"chunk_size\",\n",
    "    y=\"decompression_utilization\",\n",
    "    color=\"standard\",\n",
    "    log_x=True,\n",
    "    markers=True,\n",
    "    #log_y=True,\n",
    "    facet_row=\"file\",\n",
    "    # facet_row_spacing=0.05,\n",
    "    height=1200,\n",
    "    width=500,\n",
    ")\n",
    "# fig_utilization_standard.update_xaxes(autorange=\"reversed\")\n",
    "\n",
    "\n",
    "fig_utilization_file.show()"
   ]
  },
  {
   "cell_type": "markdown",
   "metadata": {},
   "source": []
  }
 ],
 "metadata": {
  "kernelspec": {
   "display_name": "Python 3 (ipykernel)",
   "language": "python",
   "name": "python3"
  },
  "language_info": {
   "codemirror_mode": {
    "name": "ipython",
    "version": 3
   },
   "file_extension": ".py",
   "mimetype": "text/x-python",
   "name": "python",
   "nbconvert_exporter": "python",
   "pygments_lexer": "ipython3",
   "version": "3.10.13"
  }
 },
 "nbformat": 4,
 "nbformat_minor": 4
}
