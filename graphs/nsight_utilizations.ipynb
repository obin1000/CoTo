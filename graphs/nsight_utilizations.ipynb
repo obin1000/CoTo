{
 "cells": [
  {
   "cell_type": "code",
   "execution_count": 1,
   "metadata": {},
   "outputs": [],
   "source": [
    "import pandas as pd\n",
    "import plotly.express as px\n",
    "import plotly.graph_objects as go\n",
    "import plotly.io as pio\n",
    "from plotly.subplots import make_subplots\n",
    "import numpy as np\n",
    "import pyarrow as pa\n",
    "import nsys_compression\n",
    "\n",
    "\n",
    "input_dir = '../data/compare_gpu/a100/'\n",
    "\n",
    "compressors = ['snappy', 'zstd', 'gdeflate', 'lz4', 'cascaded', 'bitcomp', 'deflate', 'ans']\n",
    "compression_files = ['500mb_dickens', '500mb_mozilla', '500mb_mr', '500mb_nci', '500mb_samba', '500mb_sao', '500mb_xml']\n",
    "# compression_files = ['1gb_dickens', '1gb_mozilla', '1gb_mr', '1gb_nci', '1gb_samba', '1gb_sao', '1gb_silesia.zip', '1gb_xml', '1gb_lineitem.parquet']\n",
    "approx_number_of_threads = [8, 32, 128, 512, 2048, 8192, 32768, 131072, 524288, 2097152, 8388608]\n",
    "\n",
    "# FILE_SIZE = 1073741824\n",
    "FILE_SIZE=524288000\n"
   ]
  },
  {
   "cell_type": "code",
   "execution_count": 2,
   "metadata": {},
   "outputs": [
    {
     "name": "stdout",
     "output_type": "stream",
     "text": [
      "500mb_dickens  snappy  8  1.0  1.0\n",
      "500mb_dickens  snappy  32  1.0  1.0\n",
      "500mb_dickens  snappy  128  1.0  1.0\n",
      "500mb_dickens  snappy  512  1.0  1.0\n",
      "500mb_dickens  snappy  2048  1.0  1.0\n",
      "500mb_dickens  snappy  8192  4.6598186471508445  4.592107155622175\n",
      "500mb_dickens  snappy  32768  16.446449571398187  15.40027323174332\n",
      "500mb_dickens  snappy  131072  30.534915522398933  49.53148608637113\n",
      "Failed getting utilization of snappy 500mb_dickens 524288 threads: [Errno 2] Unable to synchronously open file (unable to open file: name = '../data/compare_gpu/a100/output_snappy_500mb_dickens_524288threads.h5', errno = 2, error message = 'No such file or directory', flags = 0, o_flags = 0)\n",
      "Failed getting utilization of snappy 500mb_dickens 2097152 threads: [Errno 2] Unable to synchronously open file (unable to open file: name = '../data/compare_gpu/a100/output_snappy_500mb_dickens_2097152threads.h5', errno = 2, error message = 'No such file or directory', flags = 0, o_flags = 0)\n",
      "Failed getting utilization of snappy 500mb_dickens 8388608 threads: [Errno 2] Unable to synchronously open file (unable to open file: name = '../data/compare_gpu/a100/output_snappy_500mb_dickens_8388608threads.h5', errno = 2, error message = 'No such file or directory', flags = 0, o_flags = 0)\n",
      "500mb_dickens  zstd  8  0.9999985991308262  0.9999920661830579\n",
      "500mb_dickens  zstd  32  0.999998687185812  0.999992068638917\n",
      "500mb_dickens  zstd  128  0.9999608183726257  0.9999758329190052\n",
      "500mb_dickens  zstd  512  0.9999186947109855  0.9985239773564485\n",
      "500mb_dickens  zstd  2048  0.9998750248338928  1.8040136326033442\n",
      "500mb_dickens  zstd  8192  1.956758141039657  2.8352382279703923\n",
      "500mb_dickens  zstd  32768  7.981332503494909  10.121186740289875\n",
      "500mb_dickens  zstd  131072  26.831776814488247  24.462600266628012\n",
      "Failed getting utilization of zstd 500mb_dickens 524288 threads: [Errno 2] Unable to synchronously open file (unable to open file: name = '../data/compare_gpu/a100/output_zstd_500mb_dickens_524288threads.h5', errno = 2, error message = 'No such file or directory', flags = 0, o_flags = 0)\n",
      "Failed getting utilization of zstd 500mb_dickens 2097152 threads: [Errno 2] Unable to synchronously open file (unable to open file: name = '../data/compare_gpu/a100/output_zstd_500mb_dickens_2097152threads.h5', errno = 2, error message = 'No such file or directory', flags = 0, o_flags = 0)\n",
      "Failed getting utilization of zstd 500mb_dickens 8388608 threads: [Errno 2] Unable to synchronously open file (unable to open file: name = '../data/compare_gpu/a100/output_zstd_500mb_dickens_8388608threads.h5', errno = 2, error message = 'No such file or directory', flags = 0, o_flags = 0)\n",
      "Failed getting utilization of gdeflate 500mb_dickens 8 threads: \"Unable to synchronously open object (object 'CUPTI_ACTIVITY_KIND_KERNEL' doesn't exist)\"\n",
      "Failed getting utilization of gdeflate 500mb_dickens 32 threads: \"Unable to synchronously open object (object 'CUPTI_ACTIVITY_KIND_KERNEL' doesn't exist)\"\n",
      "Failed getting utilization of gdeflate 500mb_dickens 128 threads: \"Unable to synchronously open object (object 'CUPTI_ACTIVITY_KIND_KERNEL' doesn't exist)\"\n",
      "Failed getting utilization of gdeflate 500mb_dickens 512 threads: \"Unable to synchronously open object (object 'CUPTI_ACTIVITY_KIND_KERNEL' doesn't exist)\"\n",
      "Failed getting utilization of gdeflate 500mb_dickens 2048 threads: \"Unable to synchronously open object (object 'CUPTI_ACTIVITY_KIND_KERNEL' doesn't exist)\"\n",
      "500mb_dickens  gdeflate  8192  1.94371492002935  1.8975835392604554\n",
      "500mb_dickens  gdeflate  32768  8.258229215550884  7.470341805272614\n",
      "500mb_dickens  gdeflate  131072  27.70520607553413  17.897141726832164\n",
      "Failed getting utilization of gdeflate 500mb_dickens 524288 threads: [Errno 2] Unable to synchronously open file (unable to open file: name = '../data/compare_gpu/a100/output_gdeflate_500mb_dickens_524288threads.h5', errno = 2, error message = 'No such file or directory', flags = 0, o_flags = 0)\n",
      "Failed getting utilization of gdeflate 500mb_dickens 2097152 threads: [Errno 2] Unable to synchronously open file (unable to open file: name = '../data/compare_gpu/a100/output_gdeflate_500mb_dickens_2097152threads.h5', errno = 2, error message = 'No such file or directory', flags = 0, o_flags = 0)\n",
      "Failed getting utilization of gdeflate 500mb_dickens 8388608 threads: [Errno 2] Unable to synchronously open file (unable to open file: name = '../data/compare_gpu/a100/output_gdeflate_500mb_dickens_8388608threads.h5', errno = 2, error message = 'No such file or directory', flags = 0, o_flags = 0)\n",
      "500mb_dickens  lz4  8  1.0  1.0\n",
      "500mb_dickens  lz4  32  1.0  1.0\n",
      "500mb_dickens  lz4  128  1.0  1.0\n",
      "500mb_dickens  lz4  512  0.0  0.0\n",
      "500mb_dickens  lz4  2048  1.0  1.0\n",
      "500mb_dickens  lz4  8192  1.9465647720528378  1.9567194009035784\n",
      "500mb_dickens  lz4  32768  8.2960258766621  7.883989848306996\n",
      "500mb_dickens  lz4  131072  29.940143411690904  15.7568842427333\n",
      "Failed getting utilization of lz4 500mb_dickens 524288 threads: [Errno 2] Unable to synchronously open file (unable to open file: name = '../data/compare_gpu/a100/output_lz4_500mb_dickens_524288threads.h5', errno = 2, error message = 'No such file or directory', flags = 0, o_flags = 0)\n",
      "Failed getting utilization of lz4 500mb_dickens 2097152 threads: [Errno 2] Unable to synchronously open file (unable to open file: name = '../data/compare_gpu/a100/output_lz4_500mb_dickens_2097152threads.h5', errno = 2, error message = 'No such file or directory', flags = 0, o_flags = 0)\n",
      "Failed getting utilization of lz4 500mb_dickens 8388608 threads: [Errno 2] Unable to synchronously open file (unable to open file: name = '../data/compare_gpu/a100/output_lz4_500mb_dickens_8388608threads.h5', errno = 2, error message = 'No such file or directory', flags = 0, o_flags = 0)\n",
      "Failed getting utilization of cascaded 500mb_dickens 8 threads: \"Unable to synchronously open object (object 'CUPTI_ACTIVITY_KIND_KERNEL' doesn't exist)\"\n",
      "Failed getting utilization of cascaded 500mb_dickens 32 threads: \"Unable to synchronously open object (object 'CUPTI_ACTIVITY_KIND_KERNEL' doesn't exist)\"\n",
      "Failed getting utilization of cascaded 500mb_dickens 128 threads: \"Unable to synchronously open object (object 'CUPTI_ACTIVITY_KIND_KERNEL' doesn't exist)\"\n",
      "Failed getting utilization of cascaded 500mb_dickens 512 threads: \"Unable to synchronously open object (object 'CUPTI_ACTIVITY_KIND_KERNEL' doesn't exist)\"\n",
      "Failed getting utilization of cascaded 500mb_dickens 2048 threads: \"Unable to synchronously open object (object 'CUPTI_ACTIVITY_KIND_KERNEL' doesn't exist)\"\n",
      "Failed getting utilization of cascaded 500mb_dickens 8192 threads: \"Unable to synchronously open object (object 'CUPTI_ACTIVITY_KIND_KERNEL' doesn't exist)\"\n",
      "Failed getting utilization of cascaded 500mb_dickens 32768 threads: \"Unable to synchronously open object (object 'CUPTI_ACTIVITY_KIND_KERNEL' doesn't exist)\"\n",
      "Failed getting utilization of cascaded 500mb_dickens 131072 threads: \"Unable to synchronously open object (object 'CUPTI_ACTIVITY_KIND_KERNEL' doesn't exist)\"\n",
      "Failed getting utilization of cascaded 500mb_dickens 524288 threads: [Errno 2] Unable to synchronously open file (unable to open file: name = '../data/compare_gpu/a100/output_cascaded_500mb_dickens_524288threads.h5', errno = 2, error message = 'No such file or directory', flags = 0, o_flags = 0)\n",
      "Failed getting utilization of cascaded 500mb_dickens 2097152 threads: [Errno 2] Unable to synchronously open file (unable to open file: name = '../data/compare_gpu/a100/output_cascaded_500mb_dickens_2097152threads.h5', errno = 2, error message = 'No such file or directory', flags = 0, o_flags = 0)\n",
      "Failed getting utilization of cascaded 500mb_dickens 8388608 threads: [Errno 2] Unable to synchronously open file (unable to open file: name = '../data/compare_gpu/a100/output_cascaded_500mb_dickens_8388608threads.h5', errno = 2, error message = 'No such file or directory', flags = 0, o_flags = 0)\n",
      "500mb_dickens  bitcomp  8  1.0  0.9993670583567598\n",
      "500mb_dickens  bitcomp  32  1.0  0.9993959765239766\n",
      "500mb_dickens  bitcomp  128  1.0  0.9984872731860865\n",
      "500mb_dickens  bitcomp  512  1.0  0.9939994297046235\n",
      "500mb_dickens  bitcomp  2048  1.5  3.9423928355190823\n",
      "500mb_dickens  bitcomp  8192  6.0  8.607038665108973\n",
      "500mb_dickens  bitcomp  32768  0.0  10.58036994735893\n",
      "500mb_dickens  bitcomp  131072  4.0  7.506413731958221\n",
      "Failed getting utilization of bitcomp 500mb_dickens 524288 threads: [Errno 2] Unable to synchronously open file (unable to open file: name = '../data/compare_gpu/a100/output_bitcomp_500mb_dickens_524288threads.h5', errno = 2, error message = 'No such file or directory', flags = 0, o_flags = 0)\n",
      "Failed getting utilization of bitcomp 500mb_dickens 2097152 threads: [Errno 2] Unable to synchronously open file (unable to open file: name = '../data/compare_gpu/a100/output_bitcomp_500mb_dickens_2097152threads.h5', errno = 2, error message = 'No such file or directory', flags = 0, o_flags = 0)\n",
      "Failed getting utilization of bitcomp 500mb_dickens 8388608 threads: [Errno 2] Unable to synchronously open file (unable to open file: name = '../data/compare_gpu/a100/output_bitcomp_500mb_dickens_8388608threads.h5', errno = 2, error message = 'No such file or directory', flags = 0, o_flags = 0)\n",
      "Failed getting utilization of deflate 500mb_dickens 8 threads: [Errno 2] Unable to synchronously open file (unable to open file: name = '../data/compare_gpu/a100/output_deflate_500mb_dickens_8threads.h5', errno = 2, error message = 'No such file or directory', flags = 0, o_flags = 0)\n",
      "Failed getting utilization of deflate 500mb_dickens 32 threads: [Errno 2] Unable to synchronously open file (unable to open file: name = '../data/compare_gpu/a100/output_deflate_500mb_dickens_32threads.h5', errno = 2, error message = 'No such file or directory', flags = 0, o_flags = 0)\n",
      "Failed getting utilization of deflate 500mb_dickens 128 threads: [Errno 2] Unable to synchronously open file (unable to open file: name = '../data/compare_gpu/a100/output_deflate_500mb_dickens_128threads.h5', errno = 2, error message = 'No such file or directory', flags = 0, o_flags = 0)\n",
      "Failed getting utilization of deflate 500mb_dickens 512 threads: [Errno 2] Unable to synchronously open file (unable to open file: name = '../data/compare_gpu/a100/output_deflate_500mb_dickens_512threads.h5', errno = 2, error message = 'No such file or directory', flags = 0, o_flags = 0)\n",
      "Failed getting utilization of deflate 500mb_dickens 2048 threads: [Errno 2] Unable to synchronously open file (unable to open file: name = '../data/compare_gpu/a100/output_deflate_500mb_dickens_2048threads.h5', errno = 2, error message = 'No such file or directory', flags = 0, o_flags = 0)\n",
      "Failed getting utilization of deflate 500mb_dickens 8192 threads: [Errno 2] Unable to synchronously open file (unable to open file: name = '../data/compare_gpu/a100/output_deflate_500mb_dickens_8192threads.h5', errno = 2, error message = 'No such file or directory', flags = 0, o_flags = 0)\n",
      "Failed getting utilization of deflate 500mb_dickens 32768 threads: [Errno 2] Unable to synchronously open file (unable to open file: name = '../data/compare_gpu/a100/output_deflate_500mb_dickens_32768threads.h5', errno = 2, error message = 'No such file or directory', flags = 0, o_flags = 0)\n",
      "Failed getting utilization of deflate 500mb_dickens 131072 threads: [Errno 2] Unable to synchronously open file (unable to open file: name = '../data/compare_gpu/a100/output_deflate_500mb_dickens_131072threads.h5', errno = 2, error message = 'No such file or directory', flags = 0, o_flags = 0)\n",
      "Failed getting utilization of deflate 500mb_dickens 524288 threads: [Errno 2] Unable to synchronously open file (unable to open file: name = '../data/compare_gpu/a100/output_deflate_500mb_dickens_524288threads.h5', errno = 2, error message = 'No such file or directory', flags = 0, o_flags = 0)\n",
      "Failed getting utilization of deflate 500mb_dickens 2097152 threads: [Errno 2] Unable to synchronously open file (unable to open file: name = '../data/compare_gpu/a100/output_deflate_500mb_dickens_2097152threads.h5', errno = 2, error message = 'No such file or directory', flags = 0, o_flags = 0)\n",
      "Failed getting utilization of deflate 500mb_dickens 8388608 threads: [Errno 2] Unable to synchronously open file (unable to open file: name = '../data/compare_gpu/a100/output_deflate_500mb_dickens_8388608threads.h5', errno = 2, error message = 'No such file or directory', flags = 0, o_flags = 0)\n",
      "Failed getting utilization of ans 500mb_dickens 8 threads: [Errno 2] Unable to synchronously open file (unable to open file: name = '../data/compare_gpu/a100/output_ans_500mb_dickens_8threads.h5', errno = 2, error message = 'No such file or directory', flags = 0, o_flags = 0)\n",
      "Failed getting utilization of ans 500mb_dickens 32 threads: [Errno 2] Unable to synchronously open file (unable to open file: name = '../data/compare_gpu/a100/output_ans_500mb_dickens_32threads.h5', errno = 2, error message = 'No such file or directory', flags = 0, o_flags = 0)\n",
      "Failed getting utilization of ans 500mb_dickens 128 threads: [Errno 2] Unable to synchronously open file (unable to open file: name = '../data/compare_gpu/a100/output_ans_500mb_dickens_128threads.h5', errno = 2, error message = 'No such file or directory', flags = 0, o_flags = 0)\n",
      "Failed getting utilization of ans 500mb_dickens 512 threads: [Errno 2] Unable to synchronously open file (unable to open file: name = '../data/compare_gpu/a100/output_ans_500mb_dickens_512threads.h5', errno = 2, error message = 'No such file or directory', flags = 0, o_flags = 0)\n",
      "Failed getting utilization of ans 500mb_dickens 2048 threads: [Errno 2] Unable to synchronously open file (unable to open file: name = '../data/compare_gpu/a100/output_ans_500mb_dickens_2048threads.h5', errno = 2, error message = 'No such file or directory', flags = 0, o_flags = 0)\n",
      "Failed getting utilization of ans 500mb_dickens 8192 threads: [Errno 2] Unable to synchronously open file (unable to open file: name = '../data/compare_gpu/a100/output_ans_500mb_dickens_8192threads.h5', errno = 2, error message = 'No such file or directory', flags = 0, o_flags = 0)\n",
      "Failed getting utilization of ans 500mb_dickens 32768 threads: [Errno 2] Unable to synchronously open file (unable to open file: name = '../data/compare_gpu/a100/output_ans_500mb_dickens_32768threads.h5', errno = 2, error message = 'No such file or directory', flags = 0, o_flags = 0)\n",
      "Failed getting utilization of ans 500mb_dickens 131072 threads: [Errno 2] Unable to synchronously open file (unable to open file: name = '../data/compare_gpu/a100/output_ans_500mb_dickens_131072threads.h5', errno = 2, error message = 'No such file or directory', flags = 0, o_flags = 0)\n",
      "Failed getting utilization of ans 500mb_dickens 524288 threads: [Errno 2] Unable to synchronously open file (unable to open file: name = '../data/compare_gpu/a100/output_ans_500mb_dickens_524288threads.h5', errno = 2, error message = 'No such file or directory', flags = 0, o_flags = 0)\n",
      "Failed getting utilization of ans 500mb_dickens 2097152 threads: [Errno 2] Unable to synchronously open file (unable to open file: name = '../data/compare_gpu/a100/output_ans_500mb_dickens_2097152threads.h5', errno = 2, error message = 'No such file or directory', flags = 0, o_flags = 0)\n",
      "Failed getting utilization of ans 500mb_dickens 8388608 threads: [Errno 2] Unable to synchronously open file (unable to open file: name = '../data/compare_gpu/a100/output_ans_500mb_dickens_8388608threads.h5', errno = 2, error message = 'No such file or directory', flags = 0, o_flags = 0)\n",
      "500mb_mozilla  snappy  8  1.0  1.0\n",
      "500mb_mozilla  snappy  32  1.0  1.0\n",
      "500mb_mozilla  snappy  128  1.0  1.0\n",
      "500mb_mozilla  snappy  512  1.0  1.0\n",
      "500mb_mozilla  snappy  2048  4.436938175194589  3.962944525490785\n",
      "500mb_mozilla  snappy  8192  14.316787493659454  14.342938826264161\n",
      "500mb_mozilla  snappy  32768  33.86113402463239  46.58445252234841\n",
      "500mb_mozilla  snappy  131072  46.06102081919859  72.26791888763209\n",
      "Failed getting utilization of snappy 500mb_mozilla 524288 threads: [Errno 2] Unable to synchronously open file (unable to open file: name = '../data/compare_gpu/a100/output_snappy_500mb_mozilla_524288threads.h5', errno = 2, error message = 'No such file or directory', flags = 0, o_flags = 0)\n",
      "Failed getting utilization of snappy 500mb_mozilla 2097152 threads: [Errno 2] Unable to synchronously open file (unable to open file: name = '../data/compare_gpu/a100/output_snappy_500mb_mozilla_2097152threads.h5', errno = 2, error message = 'No such file or directory', flags = 0, o_flags = 0)\n",
      "Failed getting utilization of snappy 500mb_mozilla 8388608 threads: [Errno 2] Unable to synchronously open file (unable to open file: name = '../data/compare_gpu/a100/output_snappy_500mb_mozilla_8388608threads.h5', errno = 2, error message = 'No such file or directory', flags = 0, o_flags = 0)\n",
      "Failed getting utilization of zstd 500mb_mozilla 8 threads: \"Unable to synchronously open object (object 'CUPTI_ACTIVITY_KIND_KERNEL' doesn't exist)\"\n",
      "500mb_mozilla  zstd  32  0.9999984003041409  0.9999916142684904\n",
      "500mb_mozilla  zstd  128  0.9999949597883725  0.9999688108942711\n",
      "500mb_mozilla  zstd  512  0.999854241430901  1.456381428611008\n",
      "500mb_mozilla  zstd  2048  2.6270224770205015  4.603638373427721\n",
      "500mb_mozilla  zstd  8192  7.486602533864689  10.55701145066126\n",
      "500mb_mozilla  zstd  32768  29.06627598784578  28.190784510731095\n",
      "500mb_mozilla  zstd  131072  37.81764945867545  32.33881452153298\n",
      "Failed getting utilization of zstd 500mb_mozilla 524288 threads: [Errno 2] Unable to synchronously open file (unable to open file: name = '../data/compare_gpu/a100/output_zstd_500mb_mozilla_524288threads.h5', errno = 2, error message = 'No such file or directory', flags = 0, o_flags = 0)\n",
      "Failed getting utilization of zstd 500mb_mozilla 2097152 threads: [Errno 2] Unable to synchronously open file (unable to open file: name = '../data/compare_gpu/a100/output_zstd_500mb_mozilla_2097152threads.h5', errno = 2, error message = 'No such file or directory', flags = 0, o_flags = 0)\n",
      "Failed getting utilization of zstd 500mb_mozilla 8388608 threads: [Errno 2] Unable to synchronously open file (unable to open file: name = '../data/compare_gpu/a100/output_zstd_500mb_mozilla_8388608threads.h5', errno = 2, error message = 'No such file or directory', flags = 0, o_flags = 0)\n",
      "Failed getting utilization of gdeflate 500mb_mozilla 8 threads: \"Unable to synchronously open object (object 'CUPTI_ACTIVITY_KIND_KERNEL' doesn't exist)\"\n",
      "Failed getting utilization of gdeflate 500mb_mozilla 32 threads: \"Unable to synchronously open object (object 'CUPTI_ACTIVITY_KIND_KERNEL' doesn't exist)\"\n",
      "Failed getting utilization of gdeflate 500mb_mozilla 128 threads: \"Unable to synchronously open object (object 'CUPTI_ACTIVITY_KIND_KERNEL' doesn't exist)\"\n",
      "Failed getting utilization of gdeflate 500mb_mozilla 512 threads: \"Unable to synchronously open object (object 'CUPTI_ACTIVITY_KIND_KERNEL' doesn't exist)\"\n",
      "Failed getting utilization of gdeflate 500mb_mozilla 2048 threads: \"Unable to synchronously open object (object 'CUPTI_ACTIVITY_KIND_KERNEL' doesn't exist)\"\n",
      "500mb_mozilla  gdeflate  8192  8.02129479644434  7.228935030180754\n",
      "500mb_mozilla  gdeflate  32768  27.418644162446338  21.067107442906114\n",
      "500mb_mozilla  gdeflate  131072  35.00260381193998  32.48660420162818\n",
      "Failed getting utilization of gdeflate 500mb_mozilla 524288 threads: [Errno 2] Unable to synchronously open file (unable to open file: name = '../data/compare_gpu/a100/output_gdeflate_500mb_mozilla_524288threads.h5', errno = 2, error message = 'No such file or directory', flags = 0, o_flags = 0)\n",
      "Failed getting utilization of gdeflate 500mb_mozilla 2097152 threads: [Errno 2] Unable to synchronously open file (unable to open file: name = '../data/compare_gpu/a100/output_gdeflate_500mb_mozilla_2097152threads.h5', errno = 2, error message = 'No such file or directory', flags = 0, o_flags = 0)\n",
      "Failed getting utilization of gdeflate 500mb_mozilla 8388608 threads: [Errno 2] Unable to synchronously open file (unable to open file: name = '../data/compare_gpu/a100/output_gdeflate_500mb_mozilla_8388608threads.h5', errno = 2, error message = 'No such file or directory', flags = 0, o_flags = 0)\n",
      "Failed getting utilization of lz4 500mb_mozilla 8 threads: \"Unable to synchronously open object (object 'CUPTI_ACTIVITY_KIND_KERNEL' doesn't exist)\"\n",
      "500mb_mozilla  lz4  32  1.0  1.0\n",
      "500mb_mozilla  lz4  128  1.0  1.0\n",
      "500mb_mozilla  lz4  512  1.0  1.0\n",
      "500mb_mozilla  lz4  2048  2.503816455578181  2.479999486815263\n",
      "500mb_mozilla  lz4  8192  8.373558071997053  7.519949371345388\n",
      "500mb_mozilla  lz4  32768  31.73020360726347  24.631625815684473\n",
      "500mb_mozilla  lz4  131072  40.304375466995666  32.34201691549217\n",
      "Failed getting utilization of lz4 500mb_mozilla 524288 threads: [Errno 2] Unable to synchronously open file (unable to open file: name = '../data/compare_gpu/a100/output_lz4_500mb_mozilla_524288threads.h5', errno = 2, error message = 'No such file or directory', flags = 0, o_flags = 0)\n",
      "Failed getting utilization of lz4 500mb_mozilla 2097152 threads: [Errno 2] Unable to synchronously open file (unable to open file: name = '../data/compare_gpu/a100/output_lz4_500mb_mozilla_2097152threads.h5', errno = 2, error message = 'No such file or directory', flags = 0, o_flags = 0)\n",
      "Failed getting utilization of lz4 500mb_mozilla 8388608 threads: [Errno 2] Unable to synchronously open file (unable to open file: name = '../data/compare_gpu/a100/output_lz4_500mb_mozilla_8388608threads.h5', errno = 2, error message = 'No such file or directory', flags = 0, o_flags = 0)\n",
      "500mb_mozilla  cascaded  8  1.0  0.9999377942594894\n",
      "500mb_mozilla  cascaded  32  1.0  0.9997871561792837\n",
      "500mb_mozilla  cascaded  128  1.0  0.999240257779463\n",
      "500mb_mozilla  cascaded  512  2.6879286280319814  1.0131305398365937\n",
      "500mb_mozilla  cascaded  2048  10.250019257483817  3.4185465338092\n",
      "500mb_mozilla  cascaded  8192  29.36979828690411  8.371896373688923\n",
      "500mb_mozilla  cascaded  32768  36.4261862726262  16.201245146366297\n",
      "500mb_mozilla  cascaded  131072  40.42605175700396  18.279381951527764\n",
      "Failed getting utilization of cascaded 500mb_mozilla 524288 threads: [Errno 2] Unable to synchronously open file (unable to open file: name = '../data/compare_gpu/a100/output_cascaded_500mb_mozilla_524288threads.h5', errno = 2, error message = 'No such file or directory', flags = 0, o_flags = 0)\n",
      "Failed getting utilization of cascaded 500mb_mozilla 2097152 threads: [Errno 2] Unable to synchronously open file (unable to open file: name = '../data/compare_gpu/a100/output_cascaded_500mb_mozilla_2097152threads.h5', errno = 2, error message = 'No such file or directory', flags = 0, o_flags = 0)\n",
      "Failed getting utilization of cascaded 500mb_mozilla 8388608 threads: [Errno 2] Unable to synchronously open file (unable to open file: name = '../data/compare_gpu/a100/output_cascaded_500mb_mozilla_8388608threads.h5', errno = 2, error message = 'No such file or directory', flags = 0, o_flags = 0)\n",
      "500mb_mozilla  bitcomp  8  1.0  0.9997447560746988\n",
      "500mb_mozilla  bitcomp  32  1.0  0.9993276281342885\n",
      "500mb_mozilla  bitcomp  128  1.4210597151685314  1.3203583099997132\n",
      "500mb_mozilla  bitcomp  512  4.249884809401946  3.263401786952162\n",
      "500mb_mozilla  bitcomp  2048  4.0  7.297415170653457\n",
      "500mb_mozilla  bitcomp  8192  13.0  4.761569302804546\n",
      "500mb_mozilla  bitcomp  32768  6.5  27.433038216018574\n",
      "500mb_mozilla  bitcomp  131072  22.753383536578074  35.24091870305685\n",
      "Failed getting utilization of bitcomp 500mb_mozilla 524288 threads: [Errno 2] Unable to synchronously open file (unable to open file: name = '../data/compare_gpu/a100/output_bitcomp_500mb_mozilla_524288threads.h5', errno = 2, error message = 'No such file or directory', flags = 0, o_flags = 0)\n",
      "Failed getting utilization of bitcomp 500mb_mozilla 2097152 threads: [Errno 2] Unable to synchronously open file (unable to open file: name = '../data/compare_gpu/a100/output_bitcomp_500mb_mozilla_2097152threads.h5', errno = 2, error message = 'No such file or directory', flags = 0, o_flags = 0)\n",
      "Failed getting utilization of bitcomp 500mb_mozilla 8388608 threads: [Errno 2] Unable to synchronously open file (unable to open file: name = '../data/compare_gpu/a100/output_bitcomp_500mb_mozilla_8388608threads.h5', errno = 2, error message = 'No such file or directory', flags = 0, o_flags = 0)\n",
      "Failed getting utilization of deflate 500mb_mozilla 8 threads: [Errno 2] Unable to synchronously open file (unable to open file: name = '../data/compare_gpu/a100/output_deflate_500mb_mozilla_8threads.h5', errno = 2, error message = 'No such file or directory', flags = 0, o_flags = 0)\n",
      "Failed getting utilization of deflate 500mb_mozilla 32 threads: [Errno 2] Unable to synchronously open file (unable to open file: name = '../data/compare_gpu/a100/output_deflate_500mb_mozilla_32threads.h5', errno = 2, error message = 'No such file or directory', flags = 0, o_flags = 0)\n",
      "Failed getting utilization of deflate 500mb_mozilla 128 threads: [Errno 2] Unable to synchronously open file (unable to open file: name = '../data/compare_gpu/a100/output_deflate_500mb_mozilla_128threads.h5', errno = 2, error message = 'No such file or directory', flags = 0, o_flags = 0)\n",
      "Failed getting utilization of deflate 500mb_mozilla 512 threads: [Errno 2] Unable to synchronously open file (unable to open file: name = '../data/compare_gpu/a100/output_deflate_500mb_mozilla_512threads.h5', errno = 2, error message = 'No such file or directory', flags = 0, o_flags = 0)\n",
      "Failed getting utilization of deflate 500mb_mozilla 2048 threads: [Errno 2] Unable to synchronously open file (unable to open file: name = '../data/compare_gpu/a100/output_deflate_500mb_mozilla_2048threads.h5', errno = 2, error message = 'No such file or directory', flags = 0, o_flags = 0)\n",
      "Failed getting utilization of deflate 500mb_mozilla 8192 threads: [Errno 2] Unable to synchronously open file (unable to open file: name = '../data/compare_gpu/a100/output_deflate_500mb_mozilla_8192threads.h5', errno = 2, error message = 'No such file or directory', flags = 0, o_flags = 0)\n",
      "Failed getting utilization of deflate 500mb_mozilla 32768 threads: [Errno 2] Unable to synchronously open file (unable to open file: name = '../data/compare_gpu/a100/output_deflate_500mb_mozilla_32768threads.h5', errno = 2, error message = 'No such file or directory', flags = 0, o_flags = 0)\n",
      "Failed getting utilization of deflate 500mb_mozilla 131072 threads: [Errno 2] Unable to synchronously open file (unable to open file: name = '../data/compare_gpu/a100/output_deflate_500mb_mozilla_131072threads.h5', errno = 2, error message = 'No such file or directory', flags = 0, o_flags = 0)\n",
      "Failed getting utilization of deflate 500mb_mozilla 524288 threads: [Errno 2] Unable to synchronously open file (unable to open file: name = '../data/compare_gpu/a100/output_deflate_500mb_mozilla_524288threads.h5', errno = 2, error message = 'No such file or directory', flags = 0, o_flags = 0)\n",
      "Failed getting utilization of deflate 500mb_mozilla 2097152 threads: [Errno 2] Unable to synchronously open file (unable to open file: name = '../data/compare_gpu/a100/output_deflate_500mb_mozilla_2097152threads.h5', errno = 2, error message = 'No such file or directory', flags = 0, o_flags = 0)\n",
      "Failed getting utilization of deflate 500mb_mozilla 8388608 threads: [Errno 2] Unable to synchronously open file (unable to open file: name = '../data/compare_gpu/a100/output_deflate_500mb_mozilla_8388608threads.h5', errno = 2, error message = 'No such file or directory', flags = 0, o_flags = 0)\n",
      "Failed getting utilization of ans 500mb_mozilla 8 threads: [Errno 2] Unable to synchronously open file (unable to open file: name = '../data/compare_gpu/a100/output_ans_500mb_mozilla_8threads.h5', errno = 2, error message = 'No such file or directory', flags = 0, o_flags = 0)\n",
      "Failed getting utilization of ans 500mb_mozilla 32 threads: [Errno 2] Unable to synchronously open file (unable to open file: name = '../data/compare_gpu/a100/output_ans_500mb_mozilla_32threads.h5', errno = 2, error message = 'No such file or directory', flags = 0, o_flags = 0)\n",
      "Failed getting utilization of ans 500mb_mozilla 128 threads: [Errno 2] Unable to synchronously open file (unable to open file: name = '../data/compare_gpu/a100/output_ans_500mb_mozilla_128threads.h5', errno = 2, error message = 'No such file or directory', flags = 0, o_flags = 0)\n",
      "Failed getting utilization of ans 500mb_mozilla 512 threads: [Errno 2] Unable to synchronously open file (unable to open file: name = '../data/compare_gpu/a100/output_ans_500mb_mozilla_512threads.h5', errno = 2, error message = 'No such file or directory', flags = 0, o_flags = 0)\n",
      "Failed getting utilization of ans 500mb_mozilla 2048 threads: [Errno 2] Unable to synchronously open file (unable to open file: name = '../data/compare_gpu/a100/output_ans_500mb_mozilla_2048threads.h5', errno = 2, error message = 'No such file or directory', flags = 0, o_flags = 0)\n",
      "Failed getting utilization of ans 500mb_mozilla 8192 threads: [Errno 2] Unable to synchronously open file (unable to open file: name = '../data/compare_gpu/a100/output_ans_500mb_mozilla_8192threads.h5', errno = 2, error message = 'No such file or directory', flags = 0, o_flags = 0)\n",
      "Failed getting utilization of ans 500mb_mozilla 32768 threads: [Errno 2] Unable to synchronously open file (unable to open file: name = '../data/compare_gpu/a100/output_ans_500mb_mozilla_32768threads.h5', errno = 2, error message = 'No such file or directory', flags = 0, o_flags = 0)\n",
      "Failed getting utilization of ans 500mb_mozilla 131072 threads: [Errno 2] Unable to synchronously open file (unable to open file: name = '../data/compare_gpu/a100/output_ans_500mb_mozilla_131072threads.h5', errno = 2, error message = 'No such file or directory', flags = 0, o_flags = 0)\n",
      "Failed getting utilization of ans 500mb_mozilla 524288 threads: [Errno 2] Unable to synchronously open file (unable to open file: name = '../data/compare_gpu/a100/output_ans_500mb_mozilla_524288threads.h5', errno = 2, error message = 'No such file or directory', flags = 0, o_flags = 0)\n",
      "Failed getting utilization of ans 500mb_mozilla 2097152 threads: [Errno 2] Unable to synchronously open file (unable to open file: name = '../data/compare_gpu/a100/output_ans_500mb_mozilla_2097152threads.h5', errno = 2, error message = 'No such file or directory', flags = 0, o_flags = 0)\n",
      "Failed getting utilization of ans 500mb_mozilla 8388608 threads: [Errno 2] Unable to synchronously open file (unable to open file: name = '../data/compare_gpu/a100/output_ans_500mb_mozilla_8388608threads.h5', errno = 2, error message = 'No such file or directory', flags = 0, o_flags = 0)\n",
      "500mb_mr  snappy  8  1.0  1.0\n",
      "500mb_mr  snappy  32  1.0  1.0\n",
      "500mb_mr  snappy  128  1.0  1.0\n",
      "500mb_mr  snappy  512  1.0  1.0\n",
      "500mb_mr  snappy  2048  1.0  1.0\n",
      "500mb_mr  snappy  8192  3.1037206095832044  3.333830921845881\n",
      "500mb_mr  snappy  32768  10.017642608476512  11.533969727272087\n",
      "500mb_mr  snappy  131072  22.76287605459644  5.003049278735964\n",
      "Failed getting utilization of snappy 500mb_mr 524288 threads: [Errno 2] Unable to synchronously open file (unable to open file: name = '../data/compare_gpu/a100/output_snappy_500mb_mr_524288threads.h5', errno = 2, error message = 'No such file or directory', flags = 0, o_flags = 0)\n",
      "Failed getting utilization of snappy 500mb_mr 2097152 threads: [Errno 2] Unable to synchronously open file (unable to open file: name = '../data/compare_gpu/a100/output_snappy_500mb_mr_2097152threads.h5', errno = 2, error message = 'No such file or directory', flags = 0, o_flags = 0)\n",
      "Failed getting utilization of snappy 500mb_mr 8388608 threads: [Errno 2] Unable to synchronously open file (unable to open file: name = '../data/compare_gpu/a100/output_snappy_500mb_mr_8388608threads.h5', errno = 2, error message = 'No such file or directory', flags = 0, o_flags = 0)\n",
      "500mb_mr  zstd  8  0.9999979973352697  0.999987931562468\n",
      "500mb_mr  zstd  32  0.9999980938380416  0.9999881429477484\n",
      "500mb_mr  zstd  128  0.9999266121513184  0.9999663000661922\n",
      "500mb_mr  zstd  512  0.9998855125974547  0.9998941122767159\n",
      "500mb_mr  zstd  2048  0.9998356029431197  1.6207553806805675\n",
      "500mb_mr  zstd  8192  1.7563674689597883  2.446670720660919\n",
      "500mb_mr  zstd  32768  6.044939473169997  7.665506796256613\n",
      "500mb_mr  zstd  131072  21.4952770320414  19.468198630634067\n",
      "Failed getting utilization of zstd 500mb_mr 524288 threads: [Errno 2] Unable to synchronously open file (unable to open file: name = '../data/compare_gpu/a100/output_zstd_500mb_mr_524288threads.h5', errno = 2, error message = 'No such file or directory', flags = 0, o_flags = 0)\n",
      "Failed getting utilization of zstd 500mb_mr 2097152 threads: [Errno 2] Unable to synchronously open file (unable to open file: name = '../data/compare_gpu/a100/output_zstd_500mb_mr_2097152threads.h5', errno = 2, error message = 'No such file or directory', flags = 0, o_flags = 0)\n",
      "Failed getting utilization of zstd 500mb_mr 8388608 threads: [Errno 2] Unable to synchronously open file (unable to open file: name = '../data/compare_gpu/a100/output_zstd_500mb_mr_8388608threads.h5', errno = 2, error message = 'No such file or directory', flags = 0, o_flags = 0)\n",
      "Failed getting utilization of gdeflate 500mb_mr 8 threads: \"Unable to synchronously open object (object 'CUPTI_ACTIVITY_KIND_KERNEL' doesn't exist)\"\n",
      "Failed getting utilization of gdeflate 500mb_mr 32 threads: \"Unable to synchronously open object (object 'CUPTI_ACTIVITY_KIND_KERNEL' doesn't exist)\"\n",
      "Failed getting utilization of gdeflate 500mb_mr 128 threads: \"Unable to synchronously open object (object 'CUPTI_ACTIVITY_KIND_KERNEL' doesn't exist)\"\n",
      "Failed getting utilization of gdeflate 500mb_mr 512 threads: \"Unable to synchronously open object (object 'CUPTI_ACTIVITY_KIND_KERNEL' doesn't exist)\"\n",
      "Failed getting utilization of gdeflate 500mb_mr 2048 threads: \"Unable to synchronously open object (object 'CUPTI_ACTIVITY_KIND_KERNEL' doesn't exist)\"\n",
      "500mb_mr  gdeflate  8192  1.6871518405018615  1.839226916077896\n",
      "500mb_mr  gdeflate  32768  5.987532238537973  6.025008382602281\n",
      "500mb_mr  gdeflate  131072  18.302743349060158  14.882310632680474\n",
      "Failed getting utilization of gdeflate 500mb_mr 524288 threads: [Errno 2] Unable to synchronously open file (unable to open file: name = '../data/compare_gpu/a100/output_gdeflate_500mb_mr_524288threads.h5', errno = 2, error message = 'No such file or directory', flags = 0, o_flags = 0)\n",
      "Failed getting utilization of gdeflate 500mb_mr 2097152 threads: [Errno 2] Unable to synchronously open file (unable to open file: name = '../data/compare_gpu/a100/output_gdeflate_500mb_mr_2097152threads.h5', errno = 2, error message = 'No such file or directory', flags = 0, o_flags = 0)\n",
      "Failed getting utilization of gdeflate 500mb_mr 8388608 threads: [Errno 2] Unable to synchronously open file (unable to open file: name = '../data/compare_gpu/a100/output_gdeflate_500mb_mr_8388608threads.h5', errno = 2, error message = 'No such file or directory', flags = 0, o_flags = 0)\n",
      "500mb_mr  lz4  8  1.0  1.0\n",
      "500mb_mr  lz4  32  1.0  1.0\n",
      "500mb_mr  lz4  128  1.0  1.0\n",
      "500mb_mr  lz4  512  1.0  1.0\n",
      "500mb_mr  lz4  2048  1.0  1.0\n",
      "500mb_mr  lz4  8192  1.707309914615094  1.6249940003917138\n",
      "500mb_mr  lz4  32768  5.892848863910192  4.266766217169598\n",
      "500mb_mr  lz4  131072  16.289461826227125  3.2538520430962725\n",
      "Failed getting utilization of lz4 500mb_mr 524288 threads: [Errno 2] Unable to synchronously open file (unable to open file: name = '../data/compare_gpu/a100/output_lz4_500mb_mr_524288threads.h5', errno = 2, error message = 'No such file or directory', flags = 0, o_flags = 0)\n",
      "Failed getting utilization of lz4 500mb_mr 2097152 threads: [Errno 2] Unable to synchronously open file (unable to open file: name = '../data/compare_gpu/a100/output_lz4_500mb_mr_2097152threads.h5', errno = 2, error message = 'No such file or directory', flags = 0, o_flags = 0)\n",
      "Failed getting utilization of lz4 500mb_mr 8388608 threads: [Errno 2] Unable to synchronously open file (unable to open file: name = '../data/compare_gpu/a100/output_lz4_500mb_mr_8388608threads.h5', errno = 2, error message = 'No such file or directory', flags = 0, o_flags = 0)\n",
      "500mb_mr  cascaded  8  1.0  0.9996679905140509\n",
      "500mb_mr  cascaded  32  1.0  0.9996821172601438\n",
      "500mb_mr  cascaded  128  1.0  0.9991568599232163\n",
      "500mb_mr  cascaded  512  1.0  0.9967716867169683\n",
      "500mb_mr  cascaded  2048  1.9230808179999264  0.8786975796713863\n",
      "500mb_mr  cascaded  8192  6.666432618397987  4.352828403019004\n",
      "500mb_mr  cascaded  32768  11.5  1.74124044386637\n",
      "500mb_mr  cascaded  131072  9.5  9.651684799962016\n",
      "Failed getting utilization of cascaded 500mb_mr 524288 threads: [Errno 2] Unable to synchronously open file (unable to open file: name = '../data/compare_gpu/a100/output_cascaded_500mb_mr_524288threads.h5', errno = 2, error message = 'No such file or directory', flags = 0, o_flags = 0)\n",
      "Failed getting utilization of cascaded 500mb_mr 2097152 threads: [Errno 2] Unable to synchronously open file (unable to open file: name = '../data/compare_gpu/a100/output_cascaded_500mb_mr_2097152threads.h5', errno = 2, error message = 'No such file or directory', flags = 0, o_flags = 0)\n",
      "Failed getting utilization of cascaded 500mb_mr 8388608 threads: [Errno 2] Unable to synchronously open file (unable to open file: name = '../data/compare_gpu/a100/output_cascaded_500mb_mr_8388608threads.h5', errno = 2, error message = 'No such file or directory', flags = 0, o_flags = 0)\n",
      "500mb_mr  bitcomp  8  1.0  0.998965780404212\n",
      "500mb_mr  bitcomp  32  1.0  0.9989467935945429\n",
      "500mb_mr  bitcomp  128  1.0  0.9974045032057413\n",
      "500mb_mr  bitcomp  512  1.0  0.9904720372102207\n",
      "500mb_mr  bitcomp  2048  2.0  2.4429268219751057\n",
      "500mb_mr  bitcomp  8192  1.5  8.898983199859511\n",
      "500mb_mr  bitcomp  32768  -1.0  3.6373404969778376\n",
      "500mb_mr  bitcomp  131072  4.0  1.4755028365136669\n",
      "Failed getting utilization of bitcomp 500mb_mr 524288 threads: [Errno 2] Unable to synchronously open file (unable to open file: name = '../data/compare_gpu/a100/output_bitcomp_500mb_mr_524288threads.h5', errno = 2, error message = 'No such file or directory', flags = 0, o_flags = 0)\n",
      "Failed getting utilization of bitcomp 500mb_mr 2097152 threads: [Errno 2] Unable to synchronously open file (unable to open file: name = '../data/compare_gpu/a100/output_bitcomp_500mb_mr_2097152threads.h5', errno = 2, error message = 'No such file or directory', flags = 0, o_flags = 0)\n",
      "Failed getting utilization of bitcomp 500mb_mr 8388608 threads: [Errno 2] Unable to synchronously open file (unable to open file: name = '../data/compare_gpu/a100/output_bitcomp_500mb_mr_8388608threads.h5', errno = 2, error message = 'No such file or directory', flags = 0, o_flags = 0)\n",
      "Failed getting utilization of deflate 500mb_mr 8 threads: [Errno 2] Unable to synchronously open file (unable to open file: name = '../data/compare_gpu/a100/output_deflate_500mb_mr_8threads.h5', errno = 2, error message = 'No such file or directory', flags = 0, o_flags = 0)\n",
      "Failed getting utilization of deflate 500mb_mr 32 threads: [Errno 2] Unable to synchronously open file (unable to open file: name = '../data/compare_gpu/a100/output_deflate_500mb_mr_32threads.h5', errno = 2, error message = 'No such file or directory', flags = 0, o_flags = 0)\n",
      "Failed getting utilization of deflate 500mb_mr 128 threads: [Errno 2] Unable to synchronously open file (unable to open file: name = '../data/compare_gpu/a100/output_deflate_500mb_mr_128threads.h5', errno = 2, error message = 'No such file or directory', flags = 0, o_flags = 0)\n",
      "Failed getting utilization of deflate 500mb_mr 512 threads: [Errno 2] Unable to synchronously open file (unable to open file: name = '../data/compare_gpu/a100/output_deflate_500mb_mr_512threads.h5', errno = 2, error message = 'No such file or directory', flags = 0, o_flags = 0)\n",
      "Failed getting utilization of deflate 500mb_mr 2048 threads: [Errno 2] Unable to synchronously open file (unable to open file: name = '../data/compare_gpu/a100/output_deflate_500mb_mr_2048threads.h5', errno = 2, error message = 'No such file or directory', flags = 0, o_flags = 0)\n",
      "Failed getting utilization of deflate 500mb_mr 8192 threads: [Errno 2] Unable to synchronously open file (unable to open file: name = '../data/compare_gpu/a100/output_deflate_500mb_mr_8192threads.h5', errno = 2, error message = 'No such file or directory', flags = 0, o_flags = 0)\n",
      "Failed getting utilization of deflate 500mb_mr 32768 threads: [Errno 2] Unable to synchronously open file (unable to open file: name = '../data/compare_gpu/a100/output_deflate_500mb_mr_32768threads.h5', errno = 2, error message = 'No such file or directory', flags = 0, o_flags = 0)\n",
      "Failed getting utilization of deflate 500mb_mr 131072 threads: [Errno 2] Unable to synchronously open file (unable to open file: name = '../data/compare_gpu/a100/output_deflate_500mb_mr_131072threads.h5', errno = 2, error message = 'No such file or directory', flags = 0, o_flags = 0)\n",
      "Failed getting utilization of deflate 500mb_mr 524288 threads: [Errno 2] Unable to synchronously open file (unable to open file: name = '../data/compare_gpu/a100/output_deflate_500mb_mr_524288threads.h5', errno = 2, error message = 'No such file or directory', flags = 0, o_flags = 0)\n",
      "Failed getting utilization of deflate 500mb_mr 2097152 threads: [Errno 2] Unable to synchronously open file (unable to open file: name = '../data/compare_gpu/a100/output_deflate_500mb_mr_2097152threads.h5', errno = 2, error message = 'No such file or directory', flags = 0, o_flags = 0)\n",
      "Failed getting utilization of deflate 500mb_mr 8388608 threads: [Errno 2] Unable to synchronously open file (unable to open file: name = '../data/compare_gpu/a100/output_deflate_500mb_mr_8388608threads.h5', errno = 2, error message = 'No such file or directory', flags = 0, o_flags = 0)\n",
      "Failed getting utilization of ans 500mb_mr 8 threads: [Errno 2] Unable to synchronously open file (unable to open file: name = '../data/compare_gpu/a100/output_ans_500mb_mr_8threads.h5', errno = 2, error message = 'No such file or directory', flags = 0, o_flags = 0)\n",
      "Failed getting utilization of ans 500mb_mr 32 threads: [Errno 2] Unable to synchronously open file (unable to open file: name = '../data/compare_gpu/a100/output_ans_500mb_mr_32threads.h5', errno = 2, error message = 'No such file or directory', flags = 0, o_flags = 0)\n",
      "Failed getting utilization of ans 500mb_mr 128 threads: [Errno 2] Unable to synchronously open file (unable to open file: name = '../data/compare_gpu/a100/output_ans_500mb_mr_128threads.h5', errno = 2, error message = 'No such file or directory', flags = 0, o_flags = 0)\n",
      "Failed getting utilization of ans 500mb_mr 512 threads: [Errno 2] Unable to synchronously open file (unable to open file: name = '../data/compare_gpu/a100/output_ans_500mb_mr_512threads.h5', errno = 2, error message = 'No such file or directory', flags = 0, o_flags = 0)\n",
      "Failed getting utilization of ans 500mb_mr 2048 threads: [Errno 2] Unable to synchronously open file (unable to open file: name = '../data/compare_gpu/a100/output_ans_500mb_mr_2048threads.h5', errno = 2, error message = 'No such file or directory', flags = 0, o_flags = 0)\n",
      "Failed getting utilization of ans 500mb_mr 8192 threads: [Errno 2] Unable to synchronously open file (unable to open file: name = '../data/compare_gpu/a100/output_ans_500mb_mr_8192threads.h5', errno = 2, error message = 'No such file or directory', flags = 0, o_flags = 0)\n",
      "Failed getting utilization of ans 500mb_mr 32768 threads: [Errno 2] Unable to synchronously open file (unable to open file: name = '../data/compare_gpu/a100/output_ans_500mb_mr_32768threads.h5', errno = 2, error message = 'No such file or directory', flags = 0, o_flags = 0)\n",
      "Failed getting utilization of ans 500mb_mr 131072 threads: [Errno 2] Unable to synchronously open file (unable to open file: name = '../data/compare_gpu/a100/output_ans_500mb_mr_131072threads.h5', errno = 2, error message = 'No such file or directory', flags = 0, o_flags = 0)\n",
      "Failed getting utilization of ans 500mb_mr 524288 threads: [Errno 2] Unable to synchronously open file (unable to open file: name = '../data/compare_gpu/a100/output_ans_500mb_mr_524288threads.h5', errno = 2, error message = 'No such file or directory', flags = 0, o_flags = 0)\n",
      "Failed getting utilization of ans 500mb_mr 2097152 threads: [Errno 2] Unable to synchronously open file (unable to open file: name = '../data/compare_gpu/a100/output_ans_500mb_mr_2097152threads.h5', errno = 2, error message = 'No such file or directory', flags = 0, o_flags = 0)\n",
      "Failed getting utilization of ans 500mb_mr 8388608 threads: [Errno 2] Unable to synchronously open file (unable to open file: name = '../data/compare_gpu/a100/output_ans_500mb_mr_8388608threads.h5', errno = 2, error message = 'No such file or directory', flags = 0, o_flags = 0)\n",
      "500mb_nci  snappy  8  1.0  1.0\n",
      "500mb_nci  snappy  32  1.0  1.0\n",
      "500mb_nci  snappy  128  1.0  1.0\n",
      "500mb_nci  snappy  512  1.0  1.0\n",
      "500mb_nci  snappy  2048  3.4466967147029184  3.357925395055264\n",
      "500mb_nci  snappy  8192  12.515984448412889  11.125040419188494\n",
      "500mb_nci  snappy  32768  27.956721538188873  34.99035088274603\n",
      "500mb_nci  snappy  131072  43.918438718165774  64.90142265354085\n",
      "Failed getting utilization of snappy 500mb_nci 524288 threads: [Errno 2] Unable to synchronously open file (unable to open file: name = '../data/compare_gpu/a100/output_snappy_500mb_nci_524288threads.h5', errno = 2, error message = 'No such file or directory', flags = 0, o_flags = 0)\n",
      "Failed getting utilization of snappy 500mb_nci 2097152 threads: [Errno 2] Unable to synchronously open file (unable to open file: name = '../data/compare_gpu/a100/output_snappy_500mb_nci_2097152threads.h5', errno = 2, error message = 'No such file or directory', flags = 0, o_flags = 0)\n",
      "Failed getting utilization of snappy 500mb_nci 8388608 threads: [Errno 2] Unable to synchronously open file (unable to open file: name = '../data/compare_gpu/a100/output_snappy_500mb_nci_8388608threads.h5', errno = 2, error message = 'No such file or directory', flags = 0, o_flags = 0)\n",
      "Failed getting utilization of zstd 500mb_nci 8 threads: \"Unable to synchronously open object (object 'CUPTI_ACTIVITY_KIND_KERNEL' doesn't exist)\"\n",
      "500mb_nci  zstd  32  0.999996512290819  0.9999888847246279\n",
      "500mb_nci  zstd  128  0.9998571560876065  0.9999585674230446\n",
      "500mb_nci  zstd  512  0.9997171415069013  0.9938495849138532\n",
      "500mb_nci  zstd  2048  1.9854430002890255  3.1851705206855234\n",
      "500mb_nci  zstd  8192  6.431861139998399  7.464624588557038\n",
      "500mb_nci  zstd  32768  22.4605692027422  22.789226512340733\n",
      "500mb_nci  zstd  131072  35.35280218085396  26.79558305190026\n",
      "Failed getting utilization of zstd 500mb_nci 524288 threads: [Errno 2] Unable to synchronously open file (unable to open file: name = '../data/compare_gpu/a100/output_zstd_500mb_nci_524288threads.h5', errno = 2, error message = 'No such file or directory', flags = 0, o_flags = 0)\n",
      "Failed getting utilization of zstd 500mb_nci 2097152 threads: [Errno 2] Unable to synchronously open file (unable to open file: name = '../data/compare_gpu/a100/output_zstd_500mb_nci_2097152threads.h5', errno = 2, error message = 'No such file or directory', flags = 0, o_flags = 0)\n",
      "Failed getting utilization of zstd 500mb_nci 8388608 threads: [Errno 2] Unable to synchronously open file (unable to open file: name = '../data/compare_gpu/a100/output_zstd_500mb_nci_8388608threads.h5', errno = 2, error message = 'No such file or directory', flags = 0, o_flags = 0)\n",
      "Failed getting utilization of gdeflate 500mb_nci 8 threads: \"Unable to synchronously open object (object 'CUPTI_ACTIVITY_KIND_KERNEL' doesn't exist)\"\n",
      "Failed getting utilization of gdeflate 500mb_nci 32 threads: \"Unable to synchronously open object (object 'CUPTI_ACTIVITY_KIND_KERNEL' doesn't exist)\"\n",
      "Failed getting utilization of gdeflate 500mb_nci 128 threads: \"Unable to synchronously open object (object 'CUPTI_ACTIVITY_KIND_KERNEL' doesn't exist)\"\n",
      "Failed getting utilization of gdeflate 500mb_nci 512 threads: \"Unable to synchronously open object (object 'CUPTI_ACTIVITY_KIND_KERNEL' doesn't exist)\"\n",
      "Failed getting utilization of gdeflate 500mb_nci 2048 threads: \"Unable to synchronously open object (object 'CUPTI_ACTIVITY_KIND_KERNEL' doesn't exist)\"\n",
      "500mb_nci  gdeflate  8192  6.051262246278654  5.990633224190717\n",
      "500mb_nci  gdeflate  32768  20.071469520013693  19.330543329172123\n",
      "500mb_nci  gdeflate  131072  32.44927664558077  29.597486951287124\n",
      "Failed getting utilization of gdeflate 500mb_nci 524288 threads: [Errno 2] Unable to synchronously open file (unable to open file: name = '../data/compare_gpu/a100/output_gdeflate_500mb_nci_524288threads.h5', errno = 2, error message = 'No such file or directory', flags = 0, o_flags = 0)\n",
      "Failed getting utilization of gdeflate 500mb_nci 2097152 threads: [Errno 2] Unable to synchronously open file (unable to open file: name = '../data/compare_gpu/a100/output_gdeflate_500mb_nci_2097152threads.h5', errno = 2, error message = 'No such file or directory', flags = 0, o_flags = 0)\n",
      "Failed getting utilization of gdeflate 500mb_nci 8388608 threads: [Errno 2] Unable to synchronously open file (unable to open file: name = '../data/compare_gpu/a100/output_gdeflate_500mb_nci_8388608threads.h5', errno = 2, error message = 'No such file or directory', flags = 0, o_flags = 0)\n",
      "Failed getting utilization of lz4 500mb_nci 8 threads: \"Unable to synchronously open object (object 'CUPTI_ACTIVITY_KIND_KERNEL' doesn't exist)\"\n",
      "500mb_nci  lz4  32  1.0  1.0\n",
      "500mb_nci  lz4  128  1.0  1.0\n",
      "500mb_nci  lz4  512  0.9992937342804137  1.0\n",
      "500mb_nci  lz4  2048  1.764863144171608  1.8108116529750382\n",
      "500mb_nci  lz4  8192  6.079562437602917  6.025021323007865\n",
      "500mb_nci  lz4  32768  22.778475824828153  20.80915734437344\n",
      "500mb_nci  lz4  131072  36.59927686255427  33.766715408086114\n",
      "Failed getting utilization of lz4 500mb_nci 524288 threads: [Errno 2] Unable to synchronously open file (unable to open file: name = '../data/compare_gpu/a100/output_lz4_500mb_nci_524288threads.h5', errno = 2, error message = 'No such file or directory', flags = 0, o_flags = 0)\n",
      "Failed getting utilization of lz4 500mb_nci 2097152 threads: [Errno 2] Unable to synchronously open file (unable to open file: name = '../data/compare_gpu/a100/output_lz4_500mb_nci_2097152threads.h5', errno = 2, error message = 'No such file or directory', flags = 0, o_flags = 0)\n",
      "Failed getting utilization of lz4 500mb_nci 8388608 threads: [Errno 2] Unable to synchronously open file (unable to open file: name = '../data/compare_gpu/a100/output_lz4_500mb_nci_8388608threads.h5', errno = 2, error message = 'No such file or directory', flags = 0, o_flags = 0)\n",
      "Failed getting utilization of cascaded 500mb_nci 8 threads: \"Unable to synchronously open object (object 'CUPTI_ACTIVITY_KIND_KERNEL' doesn't exist)\"\n",
      "Failed getting utilization of cascaded 500mb_nci 32 threads: \"Unable to synchronously open object (object 'CUPTI_ACTIVITY_KIND_KERNEL' doesn't exist)\"\n",
      "Failed getting utilization of cascaded 500mb_nci 128 threads: \"Unable to synchronously open object (object 'CUPTI_ACTIVITY_KIND_KERNEL' doesn't exist)\"\n",
      "Failed getting utilization of cascaded 500mb_nci 512 threads: \"Unable to synchronously open object (object 'CUPTI_ACTIVITY_KIND_KERNEL' doesn't exist)\"\n",
      "Failed getting utilization of cascaded 500mb_nci 2048 threads: \"Unable to synchronously open object (object 'CUPTI_ACTIVITY_KIND_KERNEL' doesn't exist)\"\n",
      "Failed getting utilization of cascaded 500mb_nci 8192 threads: \"Unable to synchronously open object (object 'CUPTI_ACTIVITY_KIND_KERNEL' doesn't exist)\"\n",
      "Failed getting utilization of cascaded 500mb_nci 32768 threads: \"Unable to synchronously open object (object 'CUPTI_ACTIVITY_KIND_KERNEL' doesn't exist)\"\n",
      "Failed getting utilization of cascaded 500mb_nci 131072 threads: \"Unable to synchronously open object (object 'CUPTI_ACTIVITY_KIND_KERNEL' doesn't exist)\"\n",
      "Failed getting utilization of cascaded 500mb_nci 524288 threads: [Errno 2] Unable to synchronously open file (unable to open file: name = '../data/compare_gpu/a100/output_cascaded_500mb_nci_524288threads.h5', errno = 2, error message = 'No such file or directory', flags = 0, o_flags = 0)\n",
      "Failed getting utilization of cascaded 500mb_nci 2097152 threads: [Errno 2] Unable to synchronously open file (unable to open file: name = '../data/compare_gpu/a100/output_cascaded_500mb_nci_2097152threads.h5', errno = 2, error message = 'No such file or directory', flags = 0, o_flags = 0)\n",
      "Failed getting utilization of cascaded 500mb_nci 8388608 threads: [Errno 2] Unable to synchronously open file (unable to open file: name = '../data/compare_gpu/a100/output_cascaded_500mb_nci_8388608threads.h5', errno = 2, error message = 'No such file or directory', flags = 0, o_flags = 0)\n",
      "500mb_nci  bitcomp  8  1.0  0.999741041265124\n",
      "500mb_nci  bitcomp  32  1.0  0.999463559387505\n",
      "500mb_nci  bitcomp  128  1.0  0.9977303249767355\n",
      "500mb_nci  bitcomp  512  3.3249636776779155  3.7471357280560635\n",
      "500mb_nci  bitcomp  2048  5.0  10.782801552555304\n",
      "500mb_nci  bitcomp  8192  15.0  10.721227338347529\n",
      "500mb_nci  bitcomp  32768  12.0  26.016332855087374\n",
      "500mb_nci  bitcomp  131072  24.5  35.286968672420656\n",
      "Failed getting utilization of bitcomp 500mb_nci 524288 threads: [Errno 2] Unable to synchronously open file (unable to open file: name = '../data/compare_gpu/a100/output_bitcomp_500mb_nci_524288threads.h5', errno = 2, error message = 'No such file or directory', flags = 0, o_flags = 0)\n",
      "Failed getting utilization of bitcomp 500mb_nci 2097152 threads: [Errno 2] Unable to synchronously open file (unable to open file: name = '../data/compare_gpu/a100/output_bitcomp_500mb_nci_2097152threads.h5', errno = 2, error message = 'No such file or directory', flags = 0, o_flags = 0)\n",
      "Failed getting utilization of bitcomp 500mb_nci 8388608 threads: [Errno 2] Unable to synchronously open file (unable to open file: name = '../data/compare_gpu/a100/output_bitcomp_500mb_nci_8388608threads.h5', errno = 2, error message = 'No such file or directory', flags = 0, o_flags = 0)\n",
      "Failed getting utilization of deflate 500mb_nci 8 threads: [Errno 2] Unable to synchronously open file (unable to open file: name = '../data/compare_gpu/a100/output_deflate_500mb_nci_8threads.h5', errno = 2, error message = 'No such file or directory', flags = 0, o_flags = 0)\n",
      "Failed getting utilization of deflate 500mb_nci 32 threads: [Errno 2] Unable to synchronously open file (unable to open file: name = '../data/compare_gpu/a100/output_deflate_500mb_nci_32threads.h5', errno = 2, error message = 'No such file or directory', flags = 0, o_flags = 0)\n",
      "Failed getting utilization of deflate 500mb_nci 128 threads: [Errno 2] Unable to synchronously open file (unable to open file: name = '../data/compare_gpu/a100/output_deflate_500mb_nci_128threads.h5', errno = 2, error message = 'No such file or directory', flags = 0, o_flags = 0)\n",
      "Failed getting utilization of deflate 500mb_nci 512 threads: [Errno 2] Unable to synchronously open file (unable to open file: name = '../data/compare_gpu/a100/output_deflate_500mb_nci_512threads.h5', errno = 2, error message = 'No such file or directory', flags = 0, o_flags = 0)\n",
      "Failed getting utilization of deflate 500mb_nci 2048 threads: [Errno 2] Unable to synchronously open file (unable to open file: name = '../data/compare_gpu/a100/output_deflate_500mb_nci_2048threads.h5', errno = 2, error message = 'No such file or directory', flags = 0, o_flags = 0)\n",
      "Failed getting utilization of deflate 500mb_nci 8192 threads: [Errno 2] Unable to synchronously open file (unable to open file: name = '../data/compare_gpu/a100/output_deflate_500mb_nci_8192threads.h5', errno = 2, error message = 'No such file or directory', flags = 0, o_flags = 0)\n",
      "Failed getting utilization of deflate 500mb_nci 32768 threads: [Errno 2] Unable to synchronously open file (unable to open file: name = '../data/compare_gpu/a100/output_deflate_500mb_nci_32768threads.h5', errno = 2, error message = 'No such file or directory', flags = 0, o_flags = 0)\n",
      "Failed getting utilization of deflate 500mb_nci 131072 threads: [Errno 2] Unable to synchronously open file (unable to open file: name = '../data/compare_gpu/a100/output_deflate_500mb_nci_131072threads.h5', errno = 2, error message = 'No such file or directory', flags = 0, o_flags = 0)\n",
      "Failed getting utilization of deflate 500mb_nci 524288 threads: [Errno 2] Unable to synchronously open file (unable to open file: name = '../data/compare_gpu/a100/output_deflate_500mb_nci_524288threads.h5', errno = 2, error message = 'No such file or directory', flags = 0, o_flags = 0)\n",
      "Failed getting utilization of deflate 500mb_nci 2097152 threads: [Errno 2] Unable to synchronously open file (unable to open file: name = '../data/compare_gpu/a100/output_deflate_500mb_nci_2097152threads.h5', errno = 2, error message = 'No such file or directory', flags = 0, o_flags = 0)\n",
      "Failed getting utilization of deflate 500mb_nci 8388608 threads: [Errno 2] Unable to synchronously open file (unable to open file: name = '../data/compare_gpu/a100/output_deflate_500mb_nci_8388608threads.h5', errno = 2, error message = 'No such file or directory', flags = 0, o_flags = 0)\n",
      "Failed getting utilization of ans 500mb_nci 8 threads: [Errno 2] Unable to synchronously open file (unable to open file: name = '../data/compare_gpu/a100/output_ans_500mb_nci_8threads.h5', errno = 2, error message = 'No such file or directory', flags = 0, o_flags = 0)\n",
      "Failed getting utilization of ans 500mb_nci 32 threads: [Errno 2] Unable to synchronously open file (unable to open file: name = '../data/compare_gpu/a100/output_ans_500mb_nci_32threads.h5', errno = 2, error message = 'No such file or directory', flags = 0, o_flags = 0)\n",
      "Failed getting utilization of ans 500mb_nci 128 threads: [Errno 2] Unable to synchronously open file (unable to open file: name = '../data/compare_gpu/a100/output_ans_500mb_nci_128threads.h5', errno = 2, error message = 'No such file or directory', flags = 0, o_flags = 0)\n",
      "Failed getting utilization of ans 500mb_nci 512 threads: [Errno 2] Unable to synchronously open file (unable to open file: name = '../data/compare_gpu/a100/output_ans_500mb_nci_512threads.h5', errno = 2, error message = 'No such file or directory', flags = 0, o_flags = 0)\n",
      "Failed getting utilization of ans 500mb_nci 2048 threads: [Errno 2] Unable to synchronously open file (unable to open file: name = '../data/compare_gpu/a100/output_ans_500mb_nci_2048threads.h5', errno = 2, error message = 'No such file or directory', flags = 0, o_flags = 0)\n",
      "Failed getting utilization of ans 500mb_nci 8192 threads: [Errno 2] Unable to synchronously open file (unable to open file: name = '../data/compare_gpu/a100/output_ans_500mb_nci_8192threads.h5', errno = 2, error message = 'No such file or directory', flags = 0, o_flags = 0)\n",
      "Failed getting utilization of ans 500mb_nci 32768 threads: [Errno 2] Unable to synchronously open file (unable to open file: name = '../data/compare_gpu/a100/output_ans_500mb_nci_32768threads.h5', errno = 2, error message = 'No such file or directory', flags = 0, o_flags = 0)\n",
      "Failed getting utilization of ans 500mb_nci 131072 threads: [Errno 2] Unable to synchronously open file (unable to open file: name = '../data/compare_gpu/a100/output_ans_500mb_nci_131072threads.h5', errno = 2, error message = 'No such file or directory', flags = 0, o_flags = 0)\n",
      "Failed getting utilization of ans 500mb_nci 524288 threads: [Errno 2] Unable to synchronously open file (unable to open file: name = '../data/compare_gpu/a100/output_ans_500mb_nci_524288threads.h5', errno = 2, error message = 'No such file or directory', flags = 0, o_flags = 0)\n",
      "Failed getting utilization of ans 500mb_nci 2097152 threads: [Errno 2] Unable to synchronously open file (unable to open file: name = '../data/compare_gpu/a100/output_ans_500mb_nci_2097152threads.h5', errno = 2, error message = 'No such file or directory', flags = 0, o_flags = 0)\n",
      "Failed getting utilization of ans 500mb_nci 8388608 threads: [Errno 2] Unable to synchronously open file (unable to open file: name = '../data/compare_gpu/a100/output_ans_500mb_nci_8388608threads.h5', errno = 2, error message = 'No such file or directory', flags = 0, o_flags = 0)\n",
      "500mb_samba  snappy  8  1.0  1.0\n",
      "500mb_samba  snappy  32  1.0  0.9998813754027869\n",
      "500mb_samba  snappy  128  1.0  1.0\n",
      "500mb_samba  snappy  512  0.0  0.0\n",
      "500mb_samba  snappy  2048  1.6547782442868657  1.522123930671996\n",
      "500mb_samba  snappy  8192  6.014560597522518  5.145217339809933\n",
      "500mb_samba  snappy  32768  22.47955851119432  17.953285510703722\n",
      "500mb_samba  snappy  131072  35.59990713432648  46.39265802217203\n",
      "Failed getting utilization of snappy 500mb_samba 524288 threads: [Errno 2] Unable to synchronously open file (unable to open file: name = '../data/compare_gpu/a100/output_snappy_500mb_samba_524288threads.h5', errno = 2, error message = 'No such file or directory', flags = 0, o_flags = 0)\n",
      "Failed getting utilization of snappy 500mb_samba 2097152 threads: [Errno 2] Unable to synchronously open file (unable to open file: name = '../data/compare_gpu/a100/output_snappy_500mb_samba_2097152threads.h5', errno = 2, error message = 'No such file or directory', flags = 0, o_flags = 0)\n",
      "Failed getting utilization of snappy 500mb_samba 8388608 threads: [Errno 2] Unable to synchronously open file (unable to open file: name = '../data/compare_gpu/a100/output_snappy_500mb_samba_8388608threads.h5', errno = 2, error message = 'No such file or directory', flags = 0, o_flags = 0)\n",
      "Failed getting utilization of zstd 500mb_samba 8 threads: \"Unable to synchronously open object (object 'CUPTI_ACTIVITY_KIND_KERNEL' doesn't exist)\"\n",
      "500mb_samba  zstd  32  0.9999035143218495  0.9999898068012398\n",
      "500mb_samba  zstd  128  0.999910647885466  0.9999659764757325\n",
      "500mb_samba  zstd  512  0.9998315810410593  0.9979526597241472\n",
      "500mb_samba  zstd  2048  -9.291213241567368e-05  -0.001020814495565837\n",
      "500mb_samba  zstd  8192  -0.00030138199921745377  -0.0068641940564743405\n",
      "500mb_samba  zstd  32768  11.078536464621344  13.094391711267633\n",
      "500mb_samba  zstd  131072  31.93170550697696  24.20372759097004\n",
      "Failed getting utilization of zstd 500mb_samba 524288 threads: [Errno 2] Unable to synchronously open file (unable to open file: name = '../data/compare_gpu/a100/output_zstd_500mb_samba_524288threads.h5', errno = 2, error message = 'No such file or directory', flags = 0, o_flags = 0)\n",
      "Failed getting utilization of zstd 500mb_samba 2097152 threads: [Errno 2] Unable to synchronously open file (unable to open file: name = '../data/compare_gpu/a100/output_zstd_500mb_samba_2097152threads.h5', errno = 2, error message = 'No such file or directory', flags = 0, o_flags = 0)\n",
      "Failed getting utilization of zstd 500mb_samba 8388608 threads: [Errno 2] Unable to synchronously open file (unable to open file: name = '../data/compare_gpu/a100/output_zstd_500mb_samba_8388608threads.h5', errno = 2, error message = 'No such file or directory', flags = 0, o_flags = 0)\n",
      "Failed getting utilization of gdeflate 500mb_samba 8 threads: \"Unable to synchronously open object (object 'CUPTI_ACTIVITY_KIND_KERNEL' doesn't exist)\"\n",
      "Failed getting utilization of gdeflate 500mb_samba 32 threads: \"Unable to synchronously open object (object 'CUPTI_ACTIVITY_KIND_KERNEL' doesn't exist)\"\n",
      "Failed getting utilization of gdeflate 500mb_samba 128 threads: \"Unable to synchronously open object (object 'CUPTI_ACTIVITY_KIND_KERNEL' doesn't exist)\"\n",
      "Failed getting utilization of gdeflate 500mb_samba 512 threads: \"Unable to synchronously open object (object 'CUPTI_ACTIVITY_KIND_KERNEL' doesn't exist)\"\n",
      "Failed getting utilization of gdeflate 500mb_samba 2048 threads: \"Unable to synchronously open object (object 'CUPTI_ACTIVITY_KIND_KERNEL' doesn't exist)\"\n",
      "500mb_samba  gdeflate  8192  2.9001960143565606  3.2256321547407545\n",
      "500mb_samba  gdeflate  32768  11.473523349013746  9.261137890364797\n",
      "500mb_samba  gdeflate  131072  28.594785993349014  23.28015036226209\n",
      "Failed getting utilization of gdeflate 500mb_samba 524288 threads: [Errno 2] Unable to synchronously open file (unable to open file: name = '../data/compare_gpu/a100/output_gdeflate_500mb_samba_524288threads.h5', errno = 2, error message = 'No such file or directory', flags = 0, o_flags = 0)\n",
      "Failed getting utilization of gdeflate 500mb_samba 2097152 threads: [Errno 2] Unable to synchronously open file (unable to open file: name = '../data/compare_gpu/a100/output_gdeflate_500mb_samba_2097152threads.h5', errno = 2, error message = 'No such file or directory', flags = 0, o_flags = 0)\n",
      "Failed getting utilization of gdeflate 500mb_samba 8388608 threads: [Errno 2] Unable to synchronously open file (unable to open file: name = '../data/compare_gpu/a100/output_gdeflate_500mb_samba_8388608threads.h5', errno = 2, error message = 'No such file or directory', flags = 0, o_flags = 0)\n",
      "Failed getting utilization of lz4 500mb_samba 8 threads: \"Unable to synchronously open object (object 'CUPTI_ACTIVITY_KIND_KERNEL' doesn't exist)\"\n",
      "500mb_samba  lz4  32  1.0  1.0\n",
      "500mb_samba  lz4  128  1.0  1.0\n",
      "500mb_samba  lz4  512  1.0  1.0\n",
      "500mb_samba  lz4  2048  1.0  1.0\n",
      "500mb_samba  lz4  8192  3.069942259565653  2.7241068409643905\n",
      "500mb_samba  lz4  32768  12.379577924360959  8.081576587704753\n",
      "500mb_samba  lz4  131072  28.386349273382848  18.935123748477658\n",
      "Failed getting utilization of lz4 500mb_samba 524288 threads: [Errno 2] Unable to synchronously open file (unable to open file: name = '../data/compare_gpu/a100/output_lz4_500mb_samba_524288threads.h5', errno = 2, error message = 'No such file or directory', flags = 0, o_flags = 0)\n",
      "Failed getting utilization of lz4 500mb_samba 2097152 threads: [Errno 2] Unable to synchronously open file (unable to open file: name = '../data/compare_gpu/a100/output_lz4_500mb_samba_2097152threads.h5', errno = 2, error message = 'No such file or directory', flags = 0, o_flags = 0)\n",
      "Failed getting utilization of lz4 500mb_samba 8388608 threads: [Errno 2] Unable to synchronously open file (unable to open file: name = '../data/compare_gpu/a100/output_lz4_500mb_samba_8388608threads.h5', errno = 2, error message = 'No such file or directory', flags = 0, o_flags = 0)\n",
      "500mb_samba  cascaded  8  1.0  0.9992840608286088\n",
      "500mb_samba  cascaded  32  1.0  0.9993951028933387\n",
      "500mb_samba  cascaded  128  1.0  0.9991684718853566\n",
      "500mb_samba  cascaded  512  1.0  0.3315367927238815\n",
      "500mb_samba  cascaded  2048  4.487131110761584  1.3339512023348994\n",
      "500mb_samba  cascaded  8192  13.752351803688757  3.621581494413085\n",
      "500mb_samba  cascaded  32768  28.771017117162643  14.587074048201632\n",
      "500mb_samba  cascaded  131072  29.519101468033647  2.2801159111380733\n",
      "Failed getting utilization of cascaded 500mb_samba 524288 threads: [Errno 2] Unable to synchronously open file (unable to open file: name = '../data/compare_gpu/a100/output_cascaded_500mb_samba_524288threads.h5', errno = 2, error message = 'No such file or directory', flags = 0, o_flags = 0)\n",
      "Failed getting utilization of cascaded 500mb_samba 2097152 threads: [Errno 2] Unable to synchronously open file (unable to open file: name = '../data/compare_gpu/a100/output_cascaded_500mb_samba_2097152threads.h5', errno = 2, error message = 'No such file or directory', flags = 0, o_flags = 0)\n",
      "Failed getting utilization of cascaded 500mb_samba 8388608 threads: [Errno 2] Unable to synchronously open file (unable to open file: name = '../data/compare_gpu/a100/output_cascaded_500mb_samba_8388608threads.h5', errno = 2, error message = 'No such file or directory', flags = 0, o_flags = 0)\n",
      "500mb_samba  bitcomp  8  1.0  0.9996310262405663\n",
      "500mb_samba  bitcomp  32  0.0  -0.00020975162008056864\n",
      "500mb_samba  bitcomp  128  1.0  0.9984590149713732\n",
      "500mb_samba  bitcomp  512  1.7750314571861643  1.5961157700078776\n",
      "500mb_samba  bitcomp  2048  3.0  3.9429320075347922\n",
      "500mb_samba  bitcomp  8192  3.0  10.333242118356337\n",
      "500mb_samba  bitcomp  32768  2.0  1.3140816133407425\n",
      "500mb_samba  bitcomp  131072  19.0  19.779473559348716\n",
      "Failed getting utilization of bitcomp 500mb_samba 524288 threads: [Errno 2] Unable to synchronously open file (unable to open file: name = '../data/compare_gpu/a100/output_bitcomp_500mb_samba_524288threads.h5', errno = 2, error message = 'No such file or directory', flags = 0, o_flags = 0)\n",
      "Failed getting utilization of bitcomp 500mb_samba 2097152 threads: [Errno 2] Unable to synchronously open file (unable to open file: name = '../data/compare_gpu/a100/output_bitcomp_500mb_samba_2097152threads.h5', errno = 2, error message = 'No such file or directory', flags = 0, o_flags = 0)\n",
      "Failed getting utilization of bitcomp 500mb_samba 8388608 threads: [Errno 2] Unable to synchronously open file (unable to open file: name = '../data/compare_gpu/a100/output_bitcomp_500mb_samba_8388608threads.h5', errno = 2, error message = 'No such file or directory', flags = 0, o_flags = 0)\n",
      "Failed getting utilization of deflate 500mb_samba 8 threads: [Errno 2] Unable to synchronously open file (unable to open file: name = '../data/compare_gpu/a100/output_deflate_500mb_samba_8threads.h5', errno = 2, error message = 'No such file or directory', flags = 0, o_flags = 0)\n",
      "Failed getting utilization of deflate 500mb_samba 32 threads: [Errno 2] Unable to synchronously open file (unable to open file: name = '../data/compare_gpu/a100/output_deflate_500mb_samba_32threads.h5', errno = 2, error message = 'No such file or directory', flags = 0, o_flags = 0)\n",
      "Failed getting utilization of deflate 500mb_samba 128 threads: [Errno 2] Unable to synchronously open file (unable to open file: name = '../data/compare_gpu/a100/output_deflate_500mb_samba_128threads.h5', errno = 2, error message = 'No such file or directory', flags = 0, o_flags = 0)\n",
      "Failed getting utilization of deflate 500mb_samba 512 threads: [Errno 2] Unable to synchronously open file (unable to open file: name = '../data/compare_gpu/a100/output_deflate_500mb_samba_512threads.h5', errno = 2, error message = 'No such file or directory', flags = 0, o_flags = 0)\n",
      "Failed getting utilization of deflate 500mb_samba 2048 threads: [Errno 2] Unable to synchronously open file (unable to open file: name = '../data/compare_gpu/a100/output_deflate_500mb_samba_2048threads.h5', errno = 2, error message = 'No such file or directory', flags = 0, o_flags = 0)\n",
      "Failed getting utilization of deflate 500mb_samba 8192 threads: [Errno 2] Unable to synchronously open file (unable to open file: name = '../data/compare_gpu/a100/output_deflate_500mb_samba_8192threads.h5', errno = 2, error message = 'No such file or directory', flags = 0, o_flags = 0)\n",
      "Failed getting utilization of deflate 500mb_samba 32768 threads: [Errno 2] Unable to synchronously open file (unable to open file: name = '../data/compare_gpu/a100/output_deflate_500mb_samba_32768threads.h5', errno = 2, error message = 'No such file or directory', flags = 0, o_flags = 0)\n",
      "Failed getting utilization of deflate 500mb_samba 131072 threads: [Errno 2] Unable to synchronously open file (unable to open file: name = '../data/compare_gpu/a100/output_deflate_500mb_samba_131072threads.h5', errno = 2, error message = 'No such file or directory', flags = 0, o_flags = 0)\n",
      "Failed getting utilization of deflate 500mb_samba 524288 threads: [Errno 2] Unable to synchronously open file (unable to open file: name = '../data/compare_gpu/a100/output_deflate_500mb_samba_524288threads.h5', errno = 2, error message = 'No such file or directory', flags = 0, o_flags = 0)\n",
      "Failed getting utilization of deflate 500mb_samba 2097152 threads: [Errno 2] Unable to synchronously open file (unable to open file: name = '../data/compare_gpu/a100/output_deflate_500mb_samba_2097152threads.h5', errno = 2, error message = 'No such file or directory', flags = 0, o_flags = 0)\n",
      "Failed getting utilization of deflate 500mb_samba 8388608 threads: [Errno 2] Unable to synchronously open file (unable to open file: name = '../data/compare_gpu/a100/output_deflate_500mb_samba_8388608threads.h5', errno = 2, error message = 'No such file or directory', flags = 0, o_flags = 0)\n",
      "Failed getting utilization of ans 500mb_samba 8 threads: [Errno 2] Unable to synchronously open file (unable to open file: name = '../data/compare_gpu/a100/output_ans_500mb_samba_8threads.h5', errno = 2, error message = 'No such file or directory', flags = 0, o_flags = 0)\n",
      "Failed getting utilization of ans 500mb_samba 32 threads: [Errno 2] Unable to synchronously open file (unable to open file: name = '../data/compare_gpu/a100/output_ans_500mb_samba_32threads.h5', errno = 2, error message = 'No such file or directory', flags = 0, o_flags = 0)\n",
      "Failed getting utilization of ans 500mb_samba 128 threads: [Errno 2] Unable to synchronously open file (unable to open file: name = '../data/compare_gpu/a100/output_ans_500mb_samba_128threads.h5', errno = 2, error message = 'No such file or directory', flags = 0, o_flags = 0)\n",
      "Failed getting utilization of ans 500mb_samba 512 threads: [Errno 2] Unable to synchronously open file (unable to open file: name = '../data/compare_gpu/a100/output_ans_500mb_samba_512threads.h5', errno = 2, error message = 'No such file or directory', flags = 0, o_flags = 0)\n",
      "Failed getting utilization of ans 500mb_samba 2048 threads: [Errno 2] Unable to synchronously open file (unable to open file: name = '../data/compare_gpu/a100/output_ans_500mb_samba_2048threads.h5', errno = 2, error message = 'No such file or directory', flags = 0, o_flags = 0)\n",
      "Failed getting utilization of ans 500mb_samba 8192 threads: [Errno 2] Unable to synchronously open file (unable to open file: name = '../data/compare_gpu/a100/output_ans_500mb_samba_8192threads.h5', errno = 2, error message = 'No such file or directory', flags = 0, o_flags = 0)\n",
      "Failed getting utilization of ans 500mb_samba 32768 threads: [Errno 2] Unable to synchronously open file (unable to open file: name = '../data/compare_gpu/a100/output_ans_500mb_samba_32768threads.h5', errno = 2, error message = 'No such file or directory', flags = 0, o_flags = 0)\n",
      "Failed getting utilization of ans 500mb_samba 131072 threads: [Errno 2] Unable to synchronously open file (unable to open file: name = '../data/compare_gpu/a100/output_ans_500mb_samba_131072threads.h5', errno = 2, error message = 'No such file or directory', flags = 0, o_flags = 0)\n",
      "Failed getting utilization of ans 500mb_samba 524288 threads: [Errno 2] Unable to synchronously open file (unable to open file: name = '../data/compare_gpu/a100/output_ans_500mb_samba_524288threads.h5', errno = 2, error message = 'No such file or directory', flags = 0, o_flags = 0)\n",
      "Failed getting utilization of ans 500mb_samba 2097152 threads: [Errno 2] Unable to synchronously open file (unable to open file: name = '../data/compare_gpu/a100/output_ans_500mb_samba_2097152threads.h5', errno = 2, error message = 'No such file or directory', flags = 0, o_flags = 0)\n",
      "Failed getting utilization of ans 500mb_samba 8388608 threads: [Errno 2] Unable to synchronously open file (unable to open file: name = '../data/compare_gpu/a100/output_ans_500mb_samba_8388608threads.h5', errno = 2, error message = 'No such file or directory', flags = 0, o_flags = 0)\n",
      "500mb_sao  snappy  8  1.0  1.0\n",
      "500mb_sao  snappy  32  1.0  1.0\n",
      "500mb_sao  snappy  128  0.0  0.0\n",
      "500mb_sao  snappy  512  1.0  1.0\n",
      "500mb_sao  snappy  2048  1.0  1.0\n",
      "500mb_sao  snappy  8192  2.804866870958864  2.807692950961996\n",
      "500mb_sao  snappy  32768  11.26667401125384  10.333840383053015\n",
      "500mb_sao  snappy  131072  31.961485084372697  17.289309474869277\n",
      "Failed getting utilization of snappy 500mb_sao 524288 threads: [Errno 2] Unable to synchronously open file (unable to open file: name = '../data/compare_gpu/a100/output_snappy_500mb_sao_524288threads.h5', errno = 2, error message = 'No such file or directory', flags = 0, o_flags = 0)\n",
      "Failed getting utilization of snappy 500mb_sao 2097152 threads: [Errno 2] Unable to synchronously open file (unable to open file: name = '../data/compare_gpu/a100/output_snappy_500mb_sao_2097152threads.h5', errno = 2, error message = 'No such file or directory', flags = 0, o_flags = 0)\n",
      "Failed getting utilization of snappy 500mb_sao 8388608 threads: [Errno 2] Unable to synchronously open file (unable to open file: name = '../data/compare_gpu/a100/output_snappy_500mb_sao_8388608threads.h5', errno = 2, error message = 'No such file or directory', flags = 0, o_flags = 0)\n",
      "500mb_sao  zstd  8  0.999947439964848  0.9999821006171818\n",
      "500mb_sao  zstd  32  0.9999480900697656  0.9999820859842536\n",
      "500mb_sao  zstd  128  0.9999480469818336  0.999967153250494\n",
      "500mb_sao  zstd  512  0.9998770584386756  0.9998805679057117\n",
      "500mb_sao  zstd  2048  0.9998450515864613  0.9978389689650837\n",
      "500mb_sao  zstd  8192  1.9114454663519815  1.8878478789654198\n",
      "500mb_sao  zstd  32768  6.196839162017241  7.318116154284898\n",
      "500mb_sao  zstd  131072  19.542296868565323  18.58152527301712\n",
      "Failed getting utilization of zstd 500mb_sao 524288 threads: [Errno 2] Unable to synchronously open file (unable to open file: name = '../data/compare_gpu/a100/output_zstd_500mb_sao_524288threads.h5', errno = 2, error message = 'No such file or directory', flags = 0, o_flags = 0)\n",
      "Failed getting utilization of zstd 500mb_sao 2097152 threads: [Errno 2] Unable to synchronously open file (unable to open file: name = '../data/compare_gpu/a100/output_zstd_500mb_sao_2097152threads.h5', errno = 2, error message = 'No such file or directory', flags = 0, o_flags = 0)\n",
      "Failed getting utilization of zstd 500mb_sao 8388608 threads: [Errno 2] Unable to synchronously open file (unable to open file: name = '../data/compare_gpu/a100/output_zstd_500mb_sao_8388608threads.h5', errno = 2, error message = 'No such file or directory', flags = 0, o_flags = 0)\n",
      "Failed getting utilization of gdeflate 500mb_sao 8 threads: \"Unable to synchronously open object (object 'CUPTI_ACTIVITY_KIND_KERNEL' doesn't exist)\"\n",
      "Failed getting utilization of gdeflate 500mb_sao 32 threads: \"Unable to synchronously open object (object 'CUPTI_ACTIVITY_KIND_KERNEL' doesn't exist)\"\n",
      "Failed getting utilization of gdeflate 500mb_sao 128 threads: \"Unable to synchronously open object (object 'CUPTI_ACTIVITY_KIND_KERNEL' doesn't exist)\"\n",
      "Failed getting utilization of gdeflate 500mb_sao 512 threads: \"Unable to synchronously open object (object 'CUPTI_ACTIVITY_KIND_KERNEL' doesn't exist)\"\n",
      "Failed getting utilization of gdeflate 500mb_sao 2048 threads: \"Unable to synchronously open object (object 'CUPTI_ACTIVITY_KIND_KERNEL' doesn't exist)\"\n",
      "500mb_sao  gdeflate  8192  1.8968631716961668  1.9369000545396933\n",
      "500mb_sao  gdeflate  32768  6.039584514853795  5.9793713517710465\n",
      "500mb_sao  gdeflate  131072  16.995435509655195  10.921321902709114\n",
      "Failed getting utilization of gdeflate 500mb_sao 524288 threads: [Errno 2] Unable to synchronously open file (unable to open file: name = '../data/compare_gpu/a100/output_gdeflate_500mb_sao_524288threads.h5', errno = 2, error message = 'No such file or directory', flags = 0, o_flags = 0)\n",
      "Failed getting utilization of gdeflate 500mb_sao 2097152 threads: [Errno 2] Unable to synchronously open file (unable to open file: name = '../data/compare_gpu/a100/output_gdeflate_500mb_sao_2097152threads.h5', errno = 2, error message = 'No such file or directory', flags = 0, o_flags = 0)\n",
      "Failed getting utilization of gdeflate 500mb_sao 8388608 threads: [Errno 2] Unable to synchronously open file (unable to open file: name = '../data/compare_gpu/a100/output_gdeflate_500mb_sao_8388608threads.h5', errno = 2, error message = 'No such file or directory', flags = 0, o_flags = 0)\n",
      "500mb_sao  lz4  8  1.0  1.0\n",
      "500mb_sao  lz4  32  1.0  1.0\n",
      "500mb_sao  lz4  128  1.0  1.0\n",
      "500mb_sao  lz4  512  1.0  1.0\n",
      "500mb_sao  lz4  2048  1.0  1.0\n",
      "500mb_sao  lz4  8192  1.9108255918405779  1.9130367137270086\n",
      "500mb_sao  lz4  32768  6.072635141087719  6.000223007052464\n",
      "500mb_sao  lz4  131072  17.828547904724708  9.5\n",
      "Failed getting utilization of lz4 500mb_sao 524288 threads: [Errno 2] Unable to synchronously open file (unable to open file: name = '../data/compare_gpu/a100/output_lz4_500mb_sao_524288threads.h5', errno = 2, error message = 'No such file or directory', flags = 0, o_flags = 0)\n",
      "Failed getting utilization of lz4 500mb_sao 2097152 threads: [Errno 2] Unable to synchronously open file (unable to open file: name = '../data/compare_gpu/a100/output_lz4_500mb_sao_2097152threads.h5', errno = 2, error message = 'No such file or directory', flags = 0, o_flags = 0)\n",
      "Failed getting utilization of lz4 500mb_sao 8388608 threads: [Errno 2] Unable to synchronously open file (unable to open file: name = '../data/compare_gpu/a100/output_lz4_500mb_sao_8388608threads.h5', errno = 2, error message = 'No such file or directory', flags = 0, o_flags = 0)\n",
      "500mb_sao  cascaded  8  1.0  0.3315062494273464\n",
      "500mb_sao  cascaded  32  1.0  0.9966138618892455\n",
      "500mb_sao  cascaded  128  1.0  0.9909362974052036\n",
      "500mb_sao  cascaded  512  1.0  0.9714528505109521\n",
      "500mb_sao  cascaded  2048  1.9333280851350532  0.8937491533804173\n",
      "500mb_sao  cascaded  8192  4.999832446362889  -1.0\n",
      "500mb_sao  cascaded  32768  9.5  -1.0\n",
      "500mb_sao  cascaded  131072  11.0  0.4557427423119816\n",
      "Failed getting utilization of cascaded 500mb_sao 524288 threads: [Errno 2] Unable to synchronously open file (unable to open file: name = '../data/compare_gpu/a100/output_cascaded_500mb_sao_524288threads.h5', errno = 2, error message = 'No such file or directory', flags = 0, o_flags = 0)\n",
      "Failed getting utilization of cascaded 500mb_sao 2097152 threads: [Errno 2] Unable to synchronously open file (unable to open file: name = '../data/compare_gpu/a100/output_cascaded_500mb_sao_2097152threads.h5', errno = 2, error message = 'No such file or directory', flags = 0, o_flags = 0)\n",
      "Failed getting utilization of cascaded 500mb_sao 8388608 threads: [Errno 2] Unable to synchronously open file (unable to open file: name = '../data/compare_gpu/a100/output_cascaded_500mb_sao_8388608threads.h5', errno = 2, error message = 'No such file or directory', flags = 0, o_flags = 0)\n",
      "500mb_sao  bitcomp  8  1.0  0.9944493602067452\n",
      "500mb_sao  bitcomp  32  1.0  0.9944323344151214\n",
      "500mb_sao  bitcomp  128  1.0  0.987804292658491\n",
      "500mb_sao  bitcomp  512  1.0  0.967045463064362\n",
      "500mb_sao  bitcomp  2048  1.5  0.38109128345916266\n",
      "500mb_sao  bitcomp  8192  -1.0  -0.9647526894180813\n",
      "500mb_sao  bitcomp  32768  -1.0  2.191901408450704\n",
      "500mb_sao  bitcomp  131072  4.5  9.437061357153631\n",
      "Failed getting utilization of bitcomp 500mb_sao 524288 threads: [Errno 2] Unable to synchronously open file (unable to open file: name = '../data/compare_gpu/a100/output_bitcomp_500mb_sao_524288threads.h5', errno = 2, error message = 'No such file or directory', flags = 0, o_flags = 0)\n",
      "Failed getting utilization of bitcomp 500mb_sao 2097152 threads: [Errno 2] Unable to synchronously open file (unable to open file: name = '../data/compare_gpu/a100/output_bitcomp_500mb_sao_2097152threads.h5', errno = 2, error message = 'No such file or directory', flags = 0, o_flags = 0)\n",
      "Failed getting utilization of bitcomp 500mb_sao 8388608 threads: [Errno 2] Unable to synchronously open file (unable to open file: name = '../data/compare_gpu/a100/output_bitcomp_500mb_sao_8388608threads.h5', errno = 2, error message = 'No such file or directory', flags = 0, o_flags = 0)\n",
      "Failed getting utilization of deflate 500mb_sao 8 threads: [Errno 2] Unable to synchronously open file (unable to open file: name = '../data/compare_gpu/a100/output_deflate_500mb_sao_8threads.h5', errno = 2, error message = 'No such file or directory', flags = 0, o_flags = 0)\n",
      "Failed getting utilization of deflate 500mb_sao 32 threads: [Errno 2] Unable to synchronously open file (unable to open file: name = '../data/compare_gpu/a100/output_deflate_500mb_sao_32threads.h5', errno = 2, error message = 'No such file or directory', flags = 0, o_flags = 0)\n",
      "Failed getting utilization of deflate 500mb_sao 128 threads: [Errno 2] Unable to synchronously open file (unable to open file: name = '../data/compare_gpu/a100/output_deflate_500mb_sao_128threads.h5', errno = 2, error message = 'No such file or directory', flags = 0, o_flags = 0)\n",
      "Failed getting utilization of deflate 500mb_sao 512 threads: [Errno 2] Unable to synchronously open file (unable to open file: name = '../data/compare_gpu/a100/output_deflate_500mb_sao_512threads.h5', errno = 2, error message = 'No such file or directory', flags = 0, o_flags = 0)\n",
      "Failed getting utilization of deflate 500mb_sao 2048 threads: [Errno 2] Unable to synchronously open file (unable to open file: name = '../data/compare_gpu/a100/output_deflate_500mb_sao_2048threads.h5', errno = 2, error message = 'No such file or directory', flags = 0, o_flags = 0)\n",
      "Failed getting utilization of deflate 500mb_sao 8192 threads: [Errno 2] Unable to synchronously open file (unable to open file: name = '../data/compare_gpu/a100/output_deflate_500mb_sao_8192threads.h5', errno = 2, error message = 'No such file or directory', flags = 0, o_flags = 0)\n",
      "Failed getting utilization of deflate 500mb_sao 32768 threads: [Errno 2] Unable to synchronously open file (unable to open file: name = '../data/compare_gpu/a100/output_deflate_500mb_sao_32768threads.h5', errno = 2, error message = 'No such file or directory', flags = 0, o_flags = 0)\n",
      "Failed getting utilization of deflate 500mb_sao 131072 threads: [Errno 2] Unable to synchronously open file (unable to open file: name = '../data/compare_gpu/a100/output_deflate_500mb_sao_131072threads.h5', errno = 2, error message = 'No such file or directory', flags = 0, o_flags = 0)\n",
      "Failed getting utilization of deflate 500mb_sao 524288 threads: [Errno 2] Unable to synchronously open file (unable to open file: name = '../data/compare_gpu/a100/output_deflate_500mb_sao_524288threads.h5', errno = 2, error message = 'No such file or directory', flags = 0, o_flags = 0)\n",
      "Failed getting utilization of deflate 500mb_sao 2097152 threads: [Errno 2] Unable to synchronously open file (unable to open file: name = '../data/compare_gpu/a100/output_deflate_500mb_sao_2097152threads.h5', errno = 2, error message = 'No such file or directory', flags = 0, o_flags = 0)\n",
      "Failed getting utilization of deflate 500mb_sao 8388608 threads: [Errno 2] Unable to synchronously open file (unable to open file: name = '../data/compare_gpu/a100/output_deflate_500mb_sao_8388608threads.h5', errno = 2, error message = 'No such file or directory', flags = 0, o_flags = 0)\n",
      "Failed getting utilization of ans 500mb_sao 8 threads: [Errno 2] Unable to synchronously open file (unable to open file: name = '../data/compare_gpu/a100/output_ans_500mb_sao_8threads.h5', errno = 2, error message = 'No such file or directory', flags = 0, o_flags = 0)\n",
      "Failed getting utilization of ans 500mb_sao 32 threads: [Errno 2] Unable to synchronously open file (unable to open file: name = '../data/compare_gpu/a100/output_ans_500mb_sao_32threads.h5', errno = 2, error message = 'No such file or directory', flags = 0, o_flags = 0)\n",
      "Failed getting utilization of ans 500mb_sao 128 threads: [Errno 2] Unable to synchronously open file (unable to open file: name = '../data/compare_gpu/a100/output_ans_500mb_sao_128threads.h5', errno = 2, error message = 'No such file or directory', flags = 0, o_flags = 0)\n",
      "Failed getting utilization of ans 500mb_sao 512 threads: [Errno 2] Unable to synchronously open file (unable to open file: name = '../data/compare_gpu/a100/output_ans_500mb_sao_512threads.h5', errno = 2, error message = 'No such file or directory', flags = 0, o_flags = 0)\n",
      "Failed getting utilization of ans 500mb_sao 2048 threads: [Errno 2] Unable to synchronously open file (unable to open file: name = '../data/compare_gpu/a100/output_ans_500mb_sao_2048threads.h5', errno = 2, error message = 'No such file or directory', flags = 0, o_flags = 0)\n",
      "Failed getting utilization of ans 500mb_sao 8192 threads: [Errno 2] Unable to synchronously open file (unable to open file: name = '../data/compare_gpu/a100/output_ans_500mb_sao_8192threads.h5', errno = 2, error message = 'No such file or directory', flags = 0, o_flags = 0)\n",
      "Failed getting utilization of ans 500mb_sao 32768 threads: [Errno 2] Unable to synchronously open file (unable to open file: name = '../data/compare_gpu/a100/output_ans_500mb_sao_32768threads.h5', errno = 2, error message = 'No such file or directory', flags = 0, o_flags = 0)\n",
      "Failed getting utilization of ans 500mb_sao 131072 threads: [Errno 2] Unable to synchronously open file (unable to open file: name = '../data/compare_gpu/a100/output_ans_500mb_sao_131072threads.h5', errno = 2, error message = 'No such file or directory', flags = 0, o_flags = 0)\n",
      "Failed getting utilization of ans 500mb_sao 524288 threads: [Errno 2] Unable to synchronously open file (unable to open file: name = '../data/compare_gpu/a100/output_ans_500mb_sao_524288threads.h5', errno = 2, error message = 'No such file or directory', flags = 0, o_flags = 0)\n",
      "Failed getting utilization of ans 500mb_sao 2097152 threads: [Errno 2] Unable to synchronously open file (unable to open file: name = '../data/compare_gpu/a100/output_ans_500mb_sao_2097152threads.h5', errno = 2, error message = 'No such file or directory', flags = 0, o_flags = 0)\n",
      "Failed getting utilization of ans 500mb_sao 8388608 threads: [Errno 2] Unable to synchronously open file (unable to open file: name = '../data/compare_gpu/a100/output_ans_500mb_sao_8388608threads.h5', errno = 2, error message = 'No such file or directory', flags = 0, o_flags = 0)\n",
      "500mb_xml  snappy  8  1.0  1.0\n",
      "500mb_xml  snappy  32  1.0  1.0\n",
      "500mb_xml  snappy  128  1.0  1.0\n",
      "500mb_xml  snappy  512  1.0  1.0\n",
      "500mb_xml  snappy  2048  1.0  1.0\n",
      "500mb_xml  snappy  8192  1.509741777967769  1.3138496091279692\n",
      "500mb_xml  snappy  32768  6.194459429164002  3.511926730936275\n",
      "500mb_xml  snappy  131072  16.75605765291742  1.0\n",
      "Failed getting utilization of snappy 500mb_xml 524288 threads: [Errno 2] Unable to synchronously open file (unable to open file: name = '../data/compare_gpu/a100/output_snappy_500mb_xml_524288threads.h5', errno = 2, error message = 'No such file or directory', flags = 0, o_flags = 0)\n",
      "Failed getting utilization of snappy 500mb_xml 2097152 threads: [Errno 2] Unable to synchronously open file (unable to open file: name = '../data/compare_gpu/a100/output_snappy_500mb_xml_2097152threads.h5', errno = 2, error message = 'No such file or directory', flags = 0, o_flags = 0)\n",
      "Failed getting utilization of snappy 500mb_xml 8388608 threads: [Errno 2] Unable to synchronously open file (unable to open file: name = '../data/compare_gpu/a100/output_snappy_500mb_xml_8388608threads.h5', errno = 2, error message = 'No such file or directory', flags = 0, o_flags = 0)\n",
      "500mb_xml  zstd  8  0.9999015708721074  0.9999714776219573\n",
      "500mb_xml  zstd  32  0.9999940597646622  0.9999714855346542\n",
      "500mb_xml  zstd  128  0.9998628542581425  0.9999602332305721\n",
      "500mb_xml  zstd  512  0.9998718027921422  0.9977757682308293\n",
      "500mb_xml  zstd  2048  0.9998583168313806  0.9979257282271167\n",
      "500mb_xml  zstd  8192  -0.00028461669697920863  -0.006717566890020706\n",
      "500mb_xml  zstd  32768  3.0463155257655457  3.541019077942618\n",
      "500mb_xml  zstd  131072  10.448295657559921  11.679903442592204\n",
      "Failed getting utilization of zstd 500mb_xml 524288 threads: [Errno 2] Unable to synchronously open file (unable to open file: name = '../data/compare_gpu/a100/output_zstd_500mb_xml_524288threads.h5', errno = 2, error message = 'No such file or directory', flags = 0, o_flags = 0)\n",
      "Failed getting utilization of zstd 500mb_xml 2097152 threads: [Errno 2] Unable to synchronously open file (unable to open file: name = '../data/compare_gpu/a100/output_zstd_500mb_xml_2097152threads.h5', errno = 2, error message = 'No such file or directory', flags = 0, o_flags = 0)\n",
      "Failed getting utilization of zstd 500mb_xml 8388608 threads: [Errno 2] Unable to synchronously open file (unable to open file: name = '../data/compare_gpu/a100/output_zstd_500mb_xml_8388608threads.h5', errno = 2, error message = 'No such file or directory', flags = 0, o_flags = 0)\n",
      "Failed getting utilization of gdeflate 500mb_xml 8 threads: \"Unable to synchronously open object (object 'CUPTI_ACTIVITY_KIND_KERNEL' doesn't exist)\"\n",
      "Failed getting utilization of gdeflate 500mb_xml 32 threads: \"Unable to synchronously open object (object 'CUPTI_ACTIVITY_KIND_KERNEL' doesn't exist)\"\n",
      "Failed getting utilization of gdeflate 500mb_xml 128 threads: \"Unable to synchronously open object (object 'CUPTI_ACTIVITY_KIND_KERNEL' doesn't exist)\"\n",
      "Failed getting utilization of gdeflate 500mb_xml 512 threads: \"Unable to synchronously open object (object 'CUPTI_ACTIVITY_KIND_KERNEL' doesn't exist)\"\n",
      "Failed getting utilization of gdeflate 500mb_xml 2048 threads: \"Unable to synchronously open object (object 'CUPTI_ACTIVITY_KIND_KERNEL' doesn't exist)\"\n",
      "500mb_xml  gdeflate  8192  0.9996267238584122  0.9983603073310995\n",
      "500mb_xml  gdeflate  32768  2.7190349620721204  2.3909052596258684\n",
      "500mb_xml  gdeflate  131072  9.873183505449308  1.4743589684654532\n",
      "Failed getting utilization of gdeflate 500mb_xml 524288 threads: [Errno 2] Unable to synchronously open file (unable to open file: name = '../data/compare_gpu/a100/output_gdeflate_500mb_xml_524288threads.h5', errno = 2, error message = 'No such file or directory', flags = 0, o_flags = 0)\n",
      "Failed getting utilization of gdeflate 500mb_xml 2097152 threads: [Errno 2] Unable to synchronously open file (unable to open file: name = '../data/compare_gpu/a100/output_gdeflate_500mb_xml_2097152threads.h5', errno = 2, error message = 'No such file or directory', flags = 0, o_flags = 0)\n",
      "Failed getting utilization of gdeflate 500mb_xml 8388608 threads: [Errno 2] Unable to synchronously open file (unable to open file: name = '../data/compare_gpu/a100/output_gdeflate_500mb_xml_8388608threads.h5', errno = 2, error message = 'No such file or directory', flags = 0, o_flags = 0)\n",
      "500mb_xml  lz4  8  1.0  1.0\n",
      "500mb_xml  lz4  32  1.0  1.0\n",
      "500mb_xml  lz4  128  1.0  1.0\n",
      "500mb_xml  lz4  512  1.0  1.0\n",
      "500mb_xml  lz4  2048  1.0  1.0\n",
      "500mb_xml  lz4  8192  1.0  1.0\n",
      "500mb_xml  lz4  32768  2.95237756010009  2.6666584663011523\n",
      "500mb_xml  lz4  131072  9.175675600910228  3.0\n",
      "Failed getting utilization of lz4 500mb_xml 524288 threads: [Errno 2] Unable to synchronously open file (unable to open file: name = '../data/compare_gpu/a100/output_lz4_500mb_xml_524288threads.h5', errno = 2, error message = 'No such file or directory', flags = 0, o_flags = 0)\n",
      "Failed getting utilization of lz4 500mb_xml 2097152 threads: [Errno 2] Unable to synchronously open file (unable to open file: name = '../data/compare_gpu/a100/output_lz4_500mb_xml_2097152threads.h5', errno = 2, error message = 'No such file or directory', flags = 0, o_flags = 0)\n",
      "Failed getting utilization of lz4 500mb_xml 8388608 threads: [Errno 2] Unable to synchronously open file (unable to open file: name = '../data/compare_gpu/a100/output_lz4_500mb_xml_8388608threads.h5', errno = 2, error message = 'No such file or directory', flags = 0, o_flags = 0)\n",
      "500mb_xml  cascaded  8  1.0  0.9944645964904675\n",
      "500mb_xml  cascaded  32  1.0  0.9944603686261724\n",
      "500mb_xml  cascaded  128  1.0  0.9910439116628742\n",
      "500mb_xml  cascaded  512  1.0  0.9854373326291044\n",
      "500mb_xml  cascaded  2048  1.0  0.9853092550415801\n",
      "500mb_xml  cascaded  8192  3.7500493702003004  0.8932170979475383\n",
      "500mb_xml  cascaded  32768  6.5  -0.10205220481049565\n",
      "500mb_xml  cascaded  131072  7.0  -0.003842907037671567\n",
      "Failed getting utilization of cascaded 500mb_xml 524288 threads: [Errno 2] Unable to synchronously open file (unable to open file: name = '../data/compare_gpu/a100/output_cascaded_500mb_xml_524288threads.h5', errno = 2, error message = 'No such file or directory', flags = 0, o_flags = 0)\n",
      "Failed getting utilization of cascaded 500mb_xml 2097152 threads: [Errno 2] Unable to synchronously open file (unable to open file: name = '../data/compare_gpu/a100/output_cascaded_500mb_xml_2097152threads.h5', errno = 2, error message = 'No such file or directory', flags = 0, o_flags = 0)\n",
      "Failed getting utilization of cascaded 500mb_xml 8388608 threads: [Errno 2] Unable to synchronously open file (unable to open file: name = '../data/compare_gpu/a100/output_cascaded_500mb_xml_8388608threads.h5', errno = 2, error message = 'No such file or directory', flags = 0, o_flags = 0)\n",
      "500mb_xml  bitcomp  8  1.0  0.9989437410998864\n",
      "500mb_xml  bitcomp  32  1.0  0.9989437018782537\n",
      "500mb_xml  bitcomp  128  1.0  0.9985885913529687\n",
      "500mb_xml  bitcomp  512  1.0  0.9949271431149123\n",
      "500mb_xml  bitcomp  2048  2.0  1.6018594411758766\n",
      "500mb_xml  bitcomp  8192  0.5  2.8458171826239957\n",
      "500mb_xml  bitcomp  32768  -1.0  1.2719663799293246\n",
      "500mb_xml  bitcomp  131072  3.0  -1.0\n",
      "Failed getting utilization of bitcomp 500mb_xml 524288 threads: [Errno 2] Unable to synchronously open file (unable to open file: name = '../data/compare_gpu/a100/output_bitcomp_500mb_xml_524288threads.h5', errno = 2, error message = 'No such file or directory', flags = 0, o_flags = 0)\n",
      "Failed getting utilization of bitcomp 500mb_xml 2097152 threads: [Errno 2] Unable to synchronously open file (unable to open file: name = '../data/compare_gpu/a100/output_bitcomp_500mb_xml_2097152threads.h5', errno = 2, error message = 'No such file or directory', flags = 0, o_flags = 0)\n",
      "Failed getting utilization of bitcomp 500mb_xml 8388608 threads: [Errno 2] Unable to synchronously open file (unable to open file: name = '../data/compare_gpu/a100/output_bitcomp_500mb_xml_8388608threads.h5', errno = 2, error message = 'No such file or directory', flags = 0, o_flags = 0)\n",
      "Failed getting utilization of deflate 500mb_xml 8 threads: [Errno 2] Unable to synchronously open file (unable to open file: name = '../data/compare_gpu/a100/output_deflate_500mb_xml_8threads.h5', errno = 2, error message = 'No such file or directory', flags = 0, o_flags = 0)\n",
      "Failed getting utilization of deflate 500mb_xml 32 threads: [Errno 2] Unable to synchronously open file (unable to open file: name = '../data/compare_gpu/a100/output_deflate_500mb_xml_32threads.h5', errno = 2, error message = 'No such file or directory', flags = 0, o_flags = 0)\n",
      "Failed getting utilization of deflate 500mb_xml 128 threads: [Errno 2] Unable to synchronously open file (unable to open file: name = '../data/compare_gpu/a100/output_deflate_500mb_xml_128threads.h5', errno = 2, error message = 'No such file or directory', flags = 0, o_flags = 0)\n",
      "Failed getting utilization of deflate 500mb_xml 512 threads: [Errno 2] Unable to synchronously open file (unable to open file: name = '../data/compare_gpu/a100/output_deflate_500mb_xml_512threads.h5', errno = 2, error message = 'No such file or directory', flags = 0, o_flags = 0)\n",
      "Failed getting utilization of deflate 500mb_xml 2048 threads: [Errno 2] Unable to synchronously open file (unable to open file: name = '../data/compare_gpu/a100/output_deflate_500mb_xml_2048threads.h5', errno = 2, error message = 'No such file or directory', flags = 0, o_flags = 0)\n",
      "Failed getting utilization of deflate 500mb_xml 8192 threads: [Errno 2] Unable to synchronously open file (unable to open file: name = '../data/compare_gpu/a100/output_deflate_500mb_xml_8192threads.h5', errno = 2, error message = 'No such file or directory', flags = 0, o_flags = 0)\n",
      "Failed getting utilization of deflate 500mb_xml 32768 threads: [Errno 2] Unable to synchronously open file (unable to open file: name = '../data/compare_gpu/a100/output_deflate_500mb_xml_32768threads.h5', errno = 2, error message = 'No such file or directory', flags = 0, o_flags = 0)\n",
      "Failed getting utilization of deflate 500mb_xml 131072 threads: [Errno 2] Unable to synchronously open file (unable to open file: name = '../data/compare_gpu/a100/output_deflate_500mb_xml_131072threads.h5', errno = 2, error message = 'No such file or directory', flags = 0, o_flags = 0)\n",
      "Failed getting utilization of deflate 500mb_xml 524288 threads: [Errno 2] Unable to synchronously open file (unable to open file: name = '../data/compare_gpu/a100/output_deflate_500mb_xml_524288threads.h5', errno = 2, error message = 'No such file or directory', flags = 0, o_flags = 0)\n",
      "Failed getting utilization of deflate 500mb_xml 2097152 threads: [Errno 2] Unable to synchronously open file (unable to open file: name = '../data/compare_gpu/a100/output_deflate_500mb_xml_2097152threads.h5', errno = 2, error message = 'No such file or directory', flags = 0, o_flags = 0)\n",
      "Failed getting utilization of deflate 500mb_xml 8388608 threads: [Errno 2] Unable to synchronously open file (unable to open file: name = '../data/compare_gpu/a100/output_deflate_500mb_xml_8388608threads.h5', errno = 2, error message = 'No such file or directory', flags = 0, o_flags = 0)\n",
      "Failed getting utilization of ans 500mb_xml 8 threads: [Errno 2] Unable to synchronously open file (unable to open file: name = '../data/compare_gpu/a100/output_ans_500mb_xml_8threads.h5', errno = 2, error message = 'No such file or directory', flags = 0, o_flags = 0)\n",
      "Failed getting utilization of ans 500mb_xml 32 threads: [Errno 2] Unable to synchronously open file (unable to open file: name = '../data/compare_gpu/a100/output_ans_500mb_xml_32threads.h5', errno = 2, error message = 'No such file or directory', flags = 0, o_flags = 0)\n",
      "Failed getting utilization of ans 500mb_xml 128 threads: [Errno 2] Unable to synchronously open file (unable to open file: name = '../data/compare_gpu/a100/output_ans_500mb_xml_128threads.h5', errno = 2, error message = 'No such file or directory', flags = 0, o_flags = 0)\n",
      "Failed getting utilization of ans 500mb_xml 512 threads: [Errno 2] Unable to synchronously open file (unable to open file: name = '../data/compare_gpu/a100/output_ans_500mb_xml_512threads.h5', errno = 2, error message = 'No such file or directory', flags = 0, o_flags = 0)\n",
      "Failed getting utilization of ans 500mb_xml 2048 threads: [Errno 2] Unable to synchronously open file (unable to open file: name = '../data/compare_gpu/a100/output_ans_500mb_xml_2048threads.h5', errno = 2, error message = 'No such file or directory', flags = 0, o_flags = 0)\n",
      "Failed getting utilization of ans 500mb_xml 8192 threads: [Errno 2] Unable to synchronously open file (unable to open file: name = '../data/compare_gpu/a100/output_ans_500mb_xml_8192threads.h5', errno = 2, error message = 'No such file or directory', flags = 0, o_flags = 0)\n",
      "Failed getting utilization of ans 500mb_xml 32768 threads: [Errno 2] Unable to synchronously open file (unable to open file: name = '../data/compare_gpu/a100/output_ans_500mb_xml_32768threads.h5', errno = 2, error message = 'No such file or directory', flags = 0, o_flags = 0)\n",
      "Failed getting utilization of ans 500mb_xml 131072 threads: [Errno 2] Unable to synchronously open file (unable to open file: name = '../data/compare_gpu/a100/output_ans_500mb_xml_131072threads.h5', errno = 2, error message = 'No such file or directory', flags = 0, o_flags = 0)\n",
      "Failed getting utilization of ans 500mb_xml 524288 threads: [Errno 2] Unable to synchronously open file (unable to open file: name = '../data/compare_gpu/a100/output_ans_500mb_xml_524288threads.h5', errno = 2, error message = 'No such file or directory', flags = 0, o_flags = 0)\n",
      "Failed getting utilization of ans 500mb_xml 2097152 threads: [Errno 2] Unable to synchronously open file (unable to open file: name = '../data/compare_gpu/a100/output_ans_500mb_xml_2097152threads.h5', errno = 2, error message = 'No such file or directory', flags = 0, o_flags = 0)\n",
      "Failed getting utilization of ans 500mb_xml 8388608 threads: [Errno 2] Unable to synchronously open file (unable to open file: name = '../data/compare_gpu/a100/output_ans_500mb_xml_8388608threads.h5', errno = 2, error message = 'No such file or directory', flags = 0, o_flags = 0)\n",
      "    standard  chunk_size  chunks           file  compression_utilization  \\\n",
      "0     snappy    65536000       8  500mb_dickens                      1.0   \n",
      "1     snappy    16384000      32  500mb_dickens                      1.0   \n",
      "2     snappy     4096000     128  500mb_dickens                      1.0   \n",
      "3     snappy     1024000     512  500mb_dickens                      1.0   \n",
      "4     snappy      256000    2048  500mb_dickens                      1.0   \n",
      "..       ...         ...     ...            ...                      ...   \n",
      "274  bitcomp     1024000     512      500mb_xml                      1.0   \n",
      "275  bitcomp      256000    2048      500mb_xml                      2.0   \n",
      "276  bitcomp       64000    8192      500mb_xml                      0.5   \n",
      "277  bitcomp       16000   32768      500mb_xml                     -1.0   \n",
      "278  bitcomp        4000  131072      500mb_xml                      3.0   \n",
      "\n",
      "     decompression_utilization  \n",
      "0                     1.000000  \n",
      "1                     1.000000  \n",
      "2                     1.000000  \n",
      "3                     1.000000  \n",
      "4                     1.000000  \n",
      "..                         ...  \n",
      "274                   0.994927  \n",
      "275                   1.601859  \n",
      "276                   2.845817  \n",
      "277                   1.271966  \n",
      "278                  -1.000000  \n",
      "\n",
      "[279 rows x 6 columns]\n"
     ]
    }
   ],
   "source": [
    "# Generate dataframe with utilization data\n",
    "\n",
    "result_df = nsys_compression.get_utilisation_df(input_dir, FILE_SIZE, compression_files, compressors, approx_number_of_threads)\n",
    "\n",
    "\n",
    "print(result_df)\n"
   ]
  },
  {
   "cell_type": "code",
   "execution_count": 3,
   "metadata": {},
   "outputs": [
    {
     "data": {
      "application/vnd.plotly.v1+json": {
       "config": {
        "plotlyServerURL": "https://plot.ly"
       },
       "data": [
        {
         "hovertemplate": "file=500mb_dickens<br>standard=snappy<br>chunk_size=%{x}<br>compression_utilization=%{y}<extra></extra>",
         "legendgroup": "500mb_dickens",
         "line": {
          "color": "#636efa",
          "dash": "solid"
         },
         "marker": {
          "symbol": "circle"
         },
         "mode": "lines+markers",
         "name": "500mb_dickens",
         "orientation": "v",
         "showlegend": true,
         "type": "scatter",
         "x": [
          65536000,
          16384000,
          4096000,
          1024000,
          256000,
          64000,
          16000,
          4000
         ],
         "xaxis": "x6",
         "y": [
          1,
          1,
          1,
          1,
          1,
          4.6598186471508445,
          16.446449571398187,
          30.534915522398933
         ],
         "yaxis": "y6"
        },
        {
         "hovertemplate": "file=500mb_dickens<br>standard=zstd<br>chunk_size=%{x}<br>compression_utilization=%{y}<extra></extra>",
         "legendgroup": "500mb_dickens",
         "line": {
          "color": "#636efa",
          "dash": "solid"
         },
         "marker": {
          "symbol": "circle"
         },
         "mode": "lines+markers",
         "name": "500mb_dickens",
         "orientation": "v",
         "showlegend": false,
         "type": "scatter",
         "x": [
          65536000,
          16384000,
          4096000,
          1024000,
          256000,
          64000,
          16000,
          4000
         ],
         "xaxis": "x5",
         "y": [
          0.9999985991308262,
          0.999998687185812,
          0.9999608183726257,
          0.9999186947109855,
          0.9998750248338928,
          1.956758141039657,
          7.981332503494909,
          26.831776814488247
         ],
         "yaxis": "y5"
        },
        {
         "hovertemplate": "file=500mb_dickens<br>standard=gdeflate<br>chunk_size=%{x}<br>compression_utilization=%{y}<extra></extra>",
         "legendgroup": "500mb_dickens",
         "line": {
          "color": "#636efa",
          "dash": "solid"
         },
         "marker": {
          "symbol": "circle"
         },
         "mode": "lines+markers",
         "name": "500mb_dickens",
         "orientation": "v",
         "showlegend": false,
         "type": "scatter",
         "x": [
          64000,
          16000,
          4000
         ],
         "xaxis": "x4",
         "y": [
          1.94371492002935,
          8.258229215550884,
          27.70520607553413
         ],
         "yaxis": "y4"
        },
        {
         "hovertemplate": "file=500mb_dickens<br>standard=lz4<br>chunk_size=%{x}<br>compression_utilization=%{y}<extra></extra>",
         "legendgroup": "500mb_dickens",
         "line": {
          "color": "#636efa",
          "dash": "solid"
         },
         "marker": {
          "symbol": "circle"
         },
         "mode": "lines+markers",
         "name": "500mb_dickens",
         "orientation": "v",
         "showlegend": false,
         "type": "scatter",
         "x": [
          65536000,
          16384000,
          4096000,
          1024000,
          256000,
          64000,
          16000,
          4000
         ],
         "xaxis": "x3",
         "y": [
          1,
          1,
          1,
          0,
          1,
          1.9465647720528378,
          8.2960258766621,
          29.940143411690904
         ],
         "yaxis": "y3"
        },
        {
         "hovertemplate": "file=500mb_dickens<br>standard=bitcomp<br>chunk_size=%{x}<br>compression_utilization=%{y}<extra></extra>",
         "legendgroup": "500mb_dickens",
         "line": {
          "color": "#636efa",
          "dash": "solid"
         },
         "marker": {
          "symbol": "circle"
         },
         "mode": "lines+markers",
         "name": "500mb_dickens",
         "orientation": "v",
         "showlegend": false,
         "type": "scatter",
         "x": [
          65536000,
          16384000,
          4096000,
          1024000,
          256000,
          64000,
          16000,
          4000
         ],
         "xaxis": "x2",
         "y": [
          1,
          1,
          1,
          1,
          1.5,
          6,
          0,
          4
         ],
         "yaxis": "y2"
        },
        {
         "hovertemplate": "file=500mb_mozilla<br>standard=snappy<br>chunk_size=%{x}<br>compression_utilization=%{y}<extra></extra>",
         "legendgroup": "500mb_mozilla",
         "line": {
          "color": "#EF553B",
          "dash": "solid"
         },
         "marker": {
          "symbol": "circle"
         },
         "mode": "lines+markers",
         "name": "500mb_mozilla",
         "orientation": "v",
         "showlegend": true,
         "type": "scatter",
         "x": [
          65536000,
          16384000,
          4096000,
          1024000,
          256000,
          64000,
          16000,
          4000
         ],
         "xaxis": "x6",
         "y": [
          1,
          1,
          1,
          1,
          4.436938175194589,
          14.316787493659454,
          33.86113402463239,
          46.06102081919859
         ],
         "yaxis": "y6"
        },
        {
         "hovertemplate": "file=500mb_mozilla<br>standard=zstd<br>chunk_size=%{x}<br>compression_utilization=%{y}<extra></extra>",
         "legendgroup": "500mb_mozilla",
         "line": {
          "color": "#EF553B",
          "dash": "solid"
         },
         "marker": {
          "symbol": "circle"
         },
         "mode": "lines+markers",
         "name": "500mb_mozilla",
         "orientation": "v",
         "showlegend": false,
         "type": "scatter",
         "x": [
          16384000,
          4096000,
          1024000,
          256000,
          64000,
          16000,
          4000
         ],
         "xaxis": "x5",
         "y": [
          0.9999984003041409,
          0.9999949597883725,
          0.999854241430901,
          2.6270224770205015,
          7.486602533864689,
          29.06627598784578,
          37.81764945867545
         ],
         "yaxis": "y5"
        },
        {
         "hovertemplate": "file=500mb_mozilla<br>standard=gdeflate<br>chunk_size=%{x}<br>compression_utilization=%{y}<extra></extra>",
         "legendgroup": "500mb_mozilla",
         "line": {
          "color": "#EF553B",
          "dash": "solid"
         },
         "marker": {
          "symbol": "circle"
         },
         "mode": "lines+markers",
         "name": "500mb_mozilla",
         "orientation": "v",
         "showlegend": false,
         "type": "scatter",
         "x": [
          64000,
          16000,
          4000
         ],
         "xaxis": "x4",
         "y": [
          8.02129479644434,
          27.418644162446338,
          35.00260381193998
         ],
         "yaxis": "y4"
        },
        {
         "hovertemplate": "file=500mb_mozilla<br>standard=lz4<br>chunk_size=%{x}<br>compression_utilization=%{y}<extra></extra>",
         "legendgroup": "500mb_mozilla",
         "line": {
          "color": "#EF553B",
          "dash": "solid"
         },
         "marker": {
          "symbol": "circle"
         },
         "mode": "lines+markers",
         "name": "500mb_mozilla",
         "orientation": "v",
         "showlegend": false,
         "type": "scatter",
         "x": [
          16384000,
          4096000,
          1024000,
          256000,
          64000,
          16000,
          4000
         ],
         "xaxis": "x3",
         "y": [
          1,
          1,
          1,
          2.503816455578181,
          8.373558071997053,
          31.73020360726347,
          40.304375466995666
         ],
         "yaxis": "y3"
        },
        {
         "hovertemplate": "file=500mb_mozilla<br>standard=bitcomp<br>chunk_size=%{x}<br>compression_utilization=%{y}<extra></extra>",
         "legendgroup": "500mb_mozilla",
         "line": {
          "color": "#EF553B",
          "dash": "solid"
         },
         "marker": {
          "symbol": "circle"
         },
         "mode": "lines+markers",
         "name": "500mb_mozilla",
         "orientation": "v",
         "showlegend": false,
         "type": "scatter",
         "x": [
          65536000,
          16384000,
          4096000,
          1024000,
          256000,
          64000,
          16000,
          4000
         ],
         "xaxis": "x2",
         "y": [
          1,
          1,
          1.4210597151685314,
          4.249884809401946,
          4,
          13,
          6.5,
          22.753383536578074
         ],
         "yaxis": "y2"
        },
        {
         "hovertemplate": "file=500mb_mozilla<br>standard=cascaded<br>chunk_size=%{x}<br>compression_utilization=%{y}<extra></extra>",
         "legendgroup": "500mb_mozilla",
         "line": {
          "color": "#EF553B",
          "dash": "solid"
         },
         "marker": {
          "symbol": "circle"
         },
         "mode": "lines+markers",
         "name": "500mb_mozilla",
         "orientation": "v",
         "showlegend": false,
         "type": "scatter",
         "x": [
          65536000,
          16384000,
          4096000,
          1024000,
          256000,
          64000,
          16000,
          4000
         ],
         "xaxis": "x",
         "y": [
          1,
          1,
          1,
          2.6879286280319814,
          10.250019257483817,
          29.36979828690411,
          36.4261862726262,
          40.42605175700396
         ],
         "yaxis": "y"
        },
        {
         "hovertemplate": "file=500mb_mr<br>standard=snappy<br>chunk_size=%{x}<br>compression_utilization=%{y}<extra></extra>",
         "legendgroup": "500mb_mr",
         "line": {
          "color": "#00cc96",
          "dash": "solid"
         },
         "marker": {
          "symbol": "circle"
         },
         "mode": "lines+markers",
         "name": "500mb_mr",
         "orientation": "v",
         "showlegend": true,
         "type": "scatter",
         "x": [
          65536000,
          16384000,
          4096000,
          1024000,
          256000,
          64000,
          16000,
          4000
         ],
         "xaxis": "x6",
         "y": [
          1,
          1,
          1,
          1,
          1,
          3.1037206095832044,
          10.017642608476512,
          22.76287605459644
         ],
         "yaxis": "y6"
        },
        {
         "hovertemplate": "file=500mb_mr<br>standard=zstd<br>chunk_size=%{x}<br>compression_utilization=%{y}<extra></extra>",
         "legendgroup": "500mb_mr",
         "line": {
          "color": "#00cc96",
          "dash": "solid"
         },
         "marker": {
          "symbol": "circle"
         },
         "mode": "lines+markers",
         "name": "500mb_mr",
         "orientation": "v",
         "showlegend": false,
         "type": "scatter",
         "x": [
          65536000,
          16384000,
          4096000,
          1024000,
          256000,
          64000,
          16000,
          4000
         ],
         "xaxis": "x5",
         "y": [
          0.9999979973352697,
          0.9999980938380416,
          0.9999266121513184,
          0.9998855125974547,
          0.9998356029431197,
          1.7563674689597883,
          6.044939473169997,
          21.4952770320414
         ],
         "yaxis": "y5"
        },
        {
         "hovertemplate": "file=500mb_mr<br>standard=gdeflate<br>chunk_size=%{x}<br>compression_utilization=%{y}<extra></extra>",
         "legendgroup": "500mb_mr",
         "line": {
          "color": "#00cc96",
          "dash": "solid"
         },
         "marker": {
          "symbol": "circle"
         },
         "mode": "lines+markers",
         "name": "500mb_mr",
         "orientation": "v",
         "showlegend": false,
         "type": "scatter",
         "x": [
          64000,
          16000,
          4000
         ],
         "xaxis": "x4",
         "y": [
          1.6871518405018615,
          5.987532238537973,
          18.302743349060158
         ],
         "yaxis": "y4"
        },
        {
         "hovertemplate": "file=500mb_mr<br>standard=lz4<br>chunk_size=%{x}<br>compression_utilization=%{y}<extra></extra>",
         "legendgroup": "500mb_mr",
         "line": {
          "color": "#00cc96",
          "dash": "solid"
         },
         "marker": {
          "symbol": "circle"
         },
         "mode": "lines+markers",
         "name": "500mb_mr",
         "orientation": "v",
         "showlegend": false,
         "type": "scatter",
         "x": [
          65536000,
          16384000,
          4096000,
          1024000,
          256000,
          64000,
          16000,
          4000
         ],
         "xaxis": "x3",
         "y": [
          1,
          1,
          1,
          1,
          1,
          1.707309914615094,
          5.892848863910192,
          16.289461826227125
         ],
         "yaxis": "y3"
        },
        {
         "hovertemplate": "file=500mb_mr<br>standard=bitcomp<br>chunk_size=%{x}<br>compression_utilization=%{y}<extra></extra>",
         "legendgroup": "500mb_mr",
         "line": {
          "color": "#00cc96",
          "dash": "solid"
         },
         "marker": {
          "symbol": "circle"
         },
         "mode": "lines+markers",
         "name": "500mb_mr",
         "orientation": "v",
         "showlegend": false,
         "type": "scatter",
         "x": [
          65536000,
          16384000,
          4096000,
          1024000,
          256000,
          64000,
          16000,
          4000
         ],
         "xaxis": "x2",
         "y": [
          1,
          1,
          1,
          1,
          2,
          1.5,
          -1,
          4
         ],
         "yaxis": "y2"
        },
        {
         "hovertemplate": "file=500mb_mr<br>standard=cascaded<br>chunk_size=%{x}<br>compression_utilization=%{y}<extra></extra>",
         "legendgroup": "500mb_mr",
         "line": {
          "color": "#00cc96",
          "dash": "solid"
         },
         "marker": {
          "symbol": "circle"
         },
         "mode": "lines+markers",
         "name": "500mb_mr",
         "orientation": "v",
         "showlegend": false,
         "type": "scatter",
         "x": [
          65536000,
          16384000,
          4096000,
          1024000,
          256000,
          64000,
          16000,
          4000
         ],
         "xaxis": "x",
         "y": [
          1,
          1,
          1,
          1,
          1.9230808179999264,
          6.666432618397987,
          11.5,
          9.5
         ],
         "yaxis": "y"
        },
        {
         "hovertemplate": "file=500mb_nci<br>standard=snappy<br>chunk_size=%{x}<br>compression_utilization=%{y}<extra></extra>",
         "legendgroup": "500mb_nci",
         "line": {
          "color": "#ab63fa",
          "dash": "solid"
         },
         "marker": {
          "symbol": "circle"
         },
         "mode": "lines+markers",
         "name": "500mb_nci",
         "orientation": "v",
         "showlegend": true,
         "type": "scatter",
         "x": [
          65536000,
          16384000,
          4096000,
          1024000,
          256000,
          64000,
          16000,
          4000
         ],
         "xaxis": "x6",
         "y": [
          1,
          1,
          1,
          1,
          3.4466967147029184,
          12.515984448412889,
          27.956721538188873,
          43.918438718165774
         ],
         "yaxis": "y6"
        },
        {
         "hovertemplate": "file=500mb_nci<br>standard=zstd<br>chunk_size=%{x}<br>compression_utilization=%{y}<extra></extra>",
         "legendgroup": "500mb_nci",
         "line": {
          "color": "#ab63fa",
          "dash": "solid"
         },
         "marker": {
          "symbol": "circle"
         },
         "mode": "lines+markers",
         "name": "500mb_nci",
         "orientation": "v",
         "showlegend": false,
         "type": "scatter",
         "x": [
          16384000,
          4096000,
          1024000,
          256000,
          64000,
          16000,
          4000
         ],
         "xaxis": "x5",
         "y": [
          0.999996512290819,
          0.9998571560876065,
          0.9997171415069013,
          1.9854430002890255,
          6.431861139998399,
          22.4605692027422,
          35.35280218085396
         ],
         "yaxis": "y5"
        },
        {
         "hovertemplate": "file=500mb_nci<br>standard=gdeflate<br>chunk_size=%{x}<br>compression_utilization=%{y}<extra></extra>",
         "legendgroup": "500mb_nci",
         "line": {
          "color": "#ab63fa",
          "dash": "solid"
         },
         "marker": {
          "symbol": "circle"
         },
         "mode": "lines+markers",
         "name": "500mb_nci",
         "orientation": "v",
         "showlegend": false,
         "type": "scatter",
         "x": [
          64000,
          16000,
          4000
         ],
         "xaxis": "x4",
         "y": [
          6.051262246278654,
          20.071469520013693,
          32.44927664558077
         ],
         "yaxis": "y4"
        },
        {
         "hovertemplate": "file=500mb_nci<br>standard=lz4<br>chunk_size=%{x}<br>compression_utilization=%{y}<extra></extra>",
         "legendgroup": "500mb_nci",
         "line": {
          "color": "#ab63fa",
          "dash": "solid"
         },
         "marker": {
          "symbol": "circle"
         },
         "mode": "lines+markers",
         "name": "500mb_nci",
         "orientation": "v",
         "showlegend": false,
         "type": "scatter",
         "x": [
          16384000,
          4096000,
          1024000,
          256000,
          64000,
          16000,
          4000
         ],
         "xaxis": "x3",
         "y": [
          1,
          1,
          0.9992937342804137,
          1.764863144171608,
          6.079562437602917,
          22.778475824828153,
          36.59927686255427
         ],
         "yaxis": "y3"
        },
        {
         "hovertemplate": "file=500mb_nci<br>standard=bitcomp<br>chunk_size=%{x}<br>compression_utilization=%{y}<extra></extra>",
         "legendgroup": "500mb_nci",
         "line": {
          "color": "#ab63fa",
          "dash": "solid"
         },
         "marker": {
          "symbol": "circle"
         },
         "mode": "lines+markers",
         "name": "500mb_nci",
         "orientation": "v",
         "showlegend": false,
         "type": "scatter",
         "x": [
          65536000,
          16384000,
          4096000,
          1024000,
          256000,
          64000,
          16000,
          4000
         ],
         "xaxis": "x2",
         "y": [
          1,
          1,
          1,
          3.3249636776779155,
          5,
          15,
          12,
          24.5
         ],
         "yaxis": "y2"
        },
        {
         "hovertemplate": "file=500mb_samba<br>standard=snappy<br>chunk_size=%{x}<br>compression_utilization=%{y}<extra></extra>",
         "legendgroup": "500mb_samba",
         "line": {
          "color": "#FFA15A",
          "dash": "solid"
         },
         "marker": {
          "symbol": "circle"
         },
         "mode": "lines+markers",
         "name": "500mb_samba",
         "orientation": "v",
         "showlegend": true,
         "type": "scatter",
         "x": [
          65536000,
          16384000,
          4096000,
          1024000,
          256000,
          64000,
          16000,
          4000
         ],
         "xaxis": "x6",
         "y": [
          1,
          1,
          1,
          0,
          1.6547782442868657,
          6.014560597522518,
          22.47955851119432,
          35.59990713432648
         ],
         "yaxis": "y6"
        },
        {
         "hovertemplate": "file=500mb_samba<br>standard=zstd<br>chunk_size=%{x}<br>compression_utilization=%{y}<extra></extra>",
         "legendgroup": "500mb_samba",
         "line": {
          "color": "#FFA15A",
          "dash": "solid"
         },
         "marker": {
          "symbol": "circle"
         },
         "mode": "lines+markers",
         "name": "500mb_samba",
         "orientation": "v",
         "showlegend": false,
         "type": "scatter",
         "x": [
          16384000,
          4096000,
          1024000,
          256000,
          64000,
          16000,
          4000
         ],
         "xaxis": "x5",
         "y": [
          0.9999035143218495,
          0.999910647885466,
          0.9998315810410593,
          -0.00009291213241567368,
          -0.00030138199921745377,
          11.078536464621344,
          31.93170550697696
         ],
         "yaxis": "y5"
        },
        {
         "hovertemplate": "file=500mb_samba<br>standard=gdeflate<br>chunk_size=%{x}<br>compression_utilization=%{y}<extra></extra>",
         "legendgroup": "500mb_samba",
         "line": {
          "color": "#FFA15A",
          "dash": "solid"
         },
         "marker": {
          "symbol": "circle"
         },
         "mode": "lines+markers",
         "name": "500mb_samba",
         "orientation": "v",
         "showlegend": false,
         "type": "scatter",
         "x": [
          64000,
          16000,
          4000
         ],
         "xaxis": "x4",
         "y": [
          2.9001960143565606,
          11.473523349013746,
          28.594785993349014
         ],
         "yaxis": "y4"
        },
        {
         "hovertemplate": "file=500mb_samba<br>standard=lz4<br>chunk_size=%{x}<br>compression_utilization=%{y}<extra></extra>",
         "legendgroup": "500mb_samba",
         "line": {
          "color": "#FFA15A",
          "dash": "solid"
         },
         "marker": {
          "symbol": "circle"
         },
         "mode": "lines+markers",
         "name": "500mb_samba",
         "orientation": "v",
         "showlegend": false,
         "type": "scatter",
         "x": [
          16384000,
          4096000,
          1024000,
          256000,
          64000,
          16000,
          4000
         ],
         "xaxis": "x3",
         "y": [
          1,
          1,
          1,
          1,
          3.069942259565653,
          12.379577924360959,
          28.386349273382848
         ],
         "yaxis": "y3"
        },
        {
         "hovertemplate": "file=500mb_samba<br>standard=bitcomp<br>chunk_size=%{x}<br>compression_utilization=%{y}<extra></extra>",
         "legendgroup": "500mb_samba",
         "line": {
          "color": "#FFA15A",
          "dash": "solid"
         },
         "marker": {
          "symbol": "circle"
         },
         "mode": "lines+markers",
         "name": "500mb_samba",
         "orientation": "v",
         "showlegend": false,
         "type": "scatter",
         "x": [
          65536000,
          16384000,
          4096000,
          1024000,
          256000,
          64000,
          16000,
          4000
         ],
         "xaxis": "x2",
         "y": [
          1,
          0,
          1,
          1.7750314571861643,
          3,
          3,
          2,
          19
         ],
         "yaxis": "y2"
        },
        {
         "hovertemplate": "file=500mb_samba<br>standard=cascaded<br>chunk_size=%{x}<br>compression_utilization=%{y}<extra></extra>",
         "legendgroup": "500mb_samba",
         "line": {
          "color": "#FFA15A",
          "dash": "solid"
         },
         "marker": {
          "symbol": "circle"
         },
         "mode": "lines+markers",
         "name": "500mb_samba",
         "orientation": "v",
         "showlegend": false,
         "type": "scatter",
         "x": [
          65536000,
          16384000,
          4096000,
          1024000,
          256000,
          64000,
          16000,
          4000
         ],
         "xaxis": "x",
         "y": [
          1,
          1,
          1,
          1,
          4.487131110761584,
          13.752351803688757,
          28.771017117162643,
          29.519101468033647
         ],
         "yaxis": "y"
        },
        {
         "hovertemplate": "file=500mb_sao<br>standard=snappy<br>chunk_size=%{x}<br>compression_utilization=%{y}<extra></extra>",
         "legendgroup": "500mb_sao",
         "line": {
          "color": "#19d3f3",
          "dash": "solid"
         },
         "marker": {
          "symbol": "circle"
         },
         "mode": "lines+markers",
         "name": "500mb_sao",
         "orientation": "v",
         "showlegend": true,
         "type": "scatter",
         "x": [
          65536000,
          16384000,
          4096000,
          1024000,
          256000,
          64000,
          16000,
          4000
         ],
         "xaxis": "x6",
         "y": [
          1,
          1,
          0,
          1,
          1,
          2.804866870958864,
          11.26667401125384,
          31.961485084372697
         ],
         "yaxis": "y6"
        },
        {
         "hovertemplate": "file=500mb_sao<br>standard=zstd<br>chunk_size=%{x}<br>compression_utilization=%{y}<extra></extra>",
         "legendgroup": "500mb_sao",
         "line": {
          "color": "#19d3f3",
          "dash": "solid"
         },
         "marker": {
          "symbol": "circle"
         },
         "mode": "lines+markers",
         "name": "500mb_sao",
         "orientation": "v",
         "showlegend": false,
         "type": "scatter",
         "x": [
          65536000,
          16384000,
          4096000,
          1024000,
          256000,
          64000,
          16000,
          4000
         ],
         "xaxis": "x5",
         "y": [
          0.999947439964848,
          0.9999480900697656,
          0.9999480469818336,
          0.9998770584386756,
          0.9998450515864613,
          1.9114454663519815,
          6.196839162017241,
          19.542296868565323
         ],
         "yaxis": "y5"
        },
        {
         "hovertemplate": "file=500mb_sao<br>standard=gdeflate<br>chunk_size=%{x}<br>compression_utilization=%{y}<extra></extra>",
         "legendgroup": "500mb_sao",
         "line": {
          "color": "#19d3f3",
          "dash": "solid"
         },
         "marker": {
          "symbol": "circle"
         },
         "mode": "lines+markers",
         "name": "500mb_sao",
         "orientation": "v",
         "showlegend": false,
         "type": "scatter",
         "x": [
          64000,
          16000,
          4000
         ],
         "xaxis": "x4",
         "y": [
          1.8968631716961668,
          6.039584514853795,
          16.995435509655195
         ],
         "yaxis": "y4"
        },
        {
         "hovertemplate": "file=500mb_sao<br>standard=lz4<br>chunk_size=%{x}<br>compression_utilization=%{y}<extra></extra>",
         "legendgroup": "500mb_sao",
         "line": {
          "color": "#19d3f3",
          "dash": "solid"
         },
         "marker": {
          "symbol": "circle"
         },
         "mode": "lines+markers",
         "name": "500mb_sao",
         "orientation": "v",
         "showlegend": false,
         "type": "scatter",
         "x": [
          65536000,
          16384000,
          4096000,
          1024000,
          256000,
          64000,
          16000,
          4000
         ],
         "xaxis": "x3",
         "y": [
          1,
          1,
          1,
          1,
          1,
          1.9108255918405779,
          6.072635141087719,
          17.828547904724708
         ],
         "yaxis": "y3"
        },
        {
         "hovertemplate": "file=500mb_sao<br>standard=bitcomp<br>chunk_size=%{x}<br>compression_utilization=%{y}<extra></extra>",
         "legendgroup": "500mb_sao",
         "line": {
          "color": "#19d3f3",
          "dash": "solid"
         },
         "marker": {
          "symbol": "circle"
         },
         "mode": "lines+markers",
         "name": "500mb_sao",
         "orientation": "v",
         "showlegend": false,
         "type": "scatter",
         "x": [
          65536000,
          16384000,
          4096000,
          1024000,
          256000,
          64000,
          16000,
          4000
         ],
         "xaxis": "x2",
         "y": [
          1,
          1,
          1,
          1,
          1.5,
          -1,
          -1,
          4.5
         ],
         "yaxis": "y2"
        },
        {
         "hovertemplate": "file=500mb_sao<br>standard=cascaded<br>chunk_size=%{x}<br>compression_utilization=%{y}<extra></extra>",
         "legendgroup": "500mb_sao",
         "line": {
          "color": "#19d3f3",
          "dash": "solid"
         },
         "marker": {
          "symbol": "circle"
         },
         "mode": "lines+markers",
         "name": "500mb_sao",
         "orientation": "v",
         "showlegend": false,
         "type": "scatter",
         "x": [
          65536000,
          16384000,
          4096000,
          1024000,
          256000,
          64000,
          16000,
          4000
         ],
         "xaxis": "x",
         "y": [
          1,
          1,
          1,
          1,
          1.9333280851350532,
          4.999832446362889,
          9.5,
          11
         ],
         "yaxis": "y"
        },
        {
         "hovertemplate": "file=500mb_xml<br>standard=snappy<br>chunk_size=%{x}<br>compression_utilization=%{y}<extra></extra>",
         "legendgroup": "500mb_xml",
         "line": {
          "color": "#FF6692",
          "dash": "solid"
         },
         "marker": {
          "symbol": "circle"
         },
         "mode": "lines+markers",
         "name": "500mb_xml",
         "orientation": "v",
         "showlegend": true,
         "type": "scatter",
         "x": [
          65536000,
          16384000,
          4096000,
          1024000,
          256000,
          64000,
          16000,
          4000
         ],
         "xaxis": "x6",
         "y": [
          1,
          1,
          1,
          1,
          1,
          1.509741777967769,
          6.194459429164002,
          16.75605765291742
         ],
         "yaxis": "y6"
        },
        {
         "hovertemplate": "file=500mb_xml<br>standard=zstd<br>chunk_size=%{x}<br>compression_utilization=%{y}<extra></extra>",
         "legendgroup": "500mb_xml",
         "line": {
          "color": "#FF6692",
          "dash": "solid"
         },
         "marker": {
          "symbol": "circle"
         },
         "mode": "lines+markers",
         "name": "500mb_xml",
         "orientation": "v",
         "showlegend": false,
         "type": "scatter",
         "x": [
          65536000,
          16384000,
          4096000,
          1024000,
          256000,
          64000,
          16000,
          4000
         ],
         "xaxis": "x5",
         "y": [
          0.9999015708721074,
          0.9999940597646622,
          0.9998628542581425,
          0.9998718027921422,
          0.9998583168313806,
          -0.00028461669697920863,
          3.0463155257655457,
          10.448295657559921
         ],
         "yaxis": "y5"
        },
        {
         "hovertemplate": "file=500mb_xml<br>standard=gdeflate<br>chunk_size=%{x}<br>compression_utilization=%{y}<extra></extra>",
         "legendgroup": "500mb_xml",
         "line": {
          "color": "#FF6692",
          "dash": "solid"
         },
         "marker": {
          "symbol": "circle"
         },
         "mode": "lines+markers",
         "name": "500mb_xml",
         "orientation": "v",
         "showlegend": false,
         "type": "scatter",
         "x": [
          64000,
          16000,
          4000
         ],
         "xaxis": "x4",
         "y": [
          0.9996267238584122,
          2.7190349620721204,
          9.873183505449308
         ],
         "yaxis": "y4"
        },
        {
         "hovertemplate": "file=500mb_xml<br>standard=lz4<br>chunk_size=%{x}<br>compression_utilization=%{y}<extra></extra>",
         "legendgroup": "500mb_xml",
         "line": {
          "color": "#FF6692",
          "dash": "solid"
         },
         "marker": {
          "symbol": "circle"
         },
         "mode": "lines+markers",
         "name": "500mb_xml",
         "orientation": "v",
         "showlegend": false,
         "type": "scatter",
         "x": [
          65536000,
          16384000,
          4096000,
          1024000,
          256000,
          64000,
          16000,
          4000
         ],
         "xaxis": "x3",
         "y": [
          1,
          1,
          1,
          1,
          1,
          1,
          2.95237756010009,
          9.175675600910228
         ],
         "yaxis": "y3"
        },
        {
         "hovertemplate": "file=500mb_xml<br>standard=bitcomp<br>chunk_size=%{x}<br>compression_utilization=%{y}<extra></extra>",
         "legendgroup": "500mb_xml",
         "line": {
          "color": "#FF6692",
          "dash": "solid"
         },
         "marker": {
          "symbol": "circle"
         },
         "mode": "lines+markers",
         "name": "500mb_xml",
         "orientation": "v",
         "showlegend": false,
         "type": "scatter",
         "x": [
          65536000,
          16384000,
          4096000,
          1024000,
          256000,
          64000,
          16000,
          4000
         ],
         "xaxis": "x2",
         "y": [
          1,
          1,
          1,
          1,
          2,
          0.5,
          -1,
          3
         ],
         "yaxis": "y2"
        },
        {
         "hovertemplate": "file=500mb_xml<br>standard=cascaded<br>chunk_size=%{x}<br>compression_utilization=%{y}<extra></extra>",
         "legendgroup": "500mb_xml",
         "line": {
          "color": "#FF6692",
          "dash": "solid"
         },
         "marker": {
          "symbol": "circle"
         },
         "mode": "lines+markers",
         "name": "500mb_xml",
         "orientation": "v",
         "showlegend": false,
         "type": "scatter",
         "x": [
          65536000,
          16384000,
          4096000,
          1024000,
          256000,
          64000,
          16000,
          4000
         ],
         "xaxis": "x",
         "y": [
          1,
          1,
          1,
          1,
          1,
          3.7500493702003004,
          6.5,
          7
         ],
         "yaxis": "y"
        }
       ],
       "layout": {
        "annotations": [
         {
          "font": {},
          "showarrow": false,
          "text": "standard=cascaded",
          "textangle": 90,
          "x": 0.98,
          "xanchor": "left",
          "xref": "paper",
          "y": 0.07083333333333333,
          "yanchor": "middle",
          "yref": "paper"
         },
         {
          "font": {},
          "showarrow": false,
          "text": "standard=bitcomp",
          "textangle": 90,
          "x": 0.98,
          "xanchor": "left",
          "xref": "paper",
          "y": 0.2425,
          "yanchor": "middle",
          "yref": "paper"
         },
         {
          "font": {},
          "showarrow": false,
          "text": "standard=lz4",
          "textangle": 90,
          "x": 0.98,
          "xanchor": "left",
          "xref": "paper",
          "y": 0.4141666666666667,
          "yanchor": "middle",
          "yref": "paper"
         },
         {
          "font": {},
          "showarrow": false,
          "text": "standard=gdeflate",
          "textangle": 90,
          "x": 0.98,
          "xanchor": "left",
          "xref": "paper",
          "y": 0.5858333333333334,
          "yanchor": "middle",
          "yref": "paper"
         },
         {
          "font": {},
          "showarrow": false,
          "text": "standard=zstd",
          "textangle": 90,
          "x": 0.98,
          "xanchor": "left",
          "xref": "paper",
          "y": 0.7575000000000001,
          "yanchor": "middle",
          "yref": "paper"
         },
         {
          "font": {},
          "showarrow": false,
          "text": "standard=snappy",
          "textangle": 90,
          "x": 0.98,
          "xanchor": "left",
          "xref": "paper",
          "y": 0.9291666666666667,
          "yanchor": "middle",
          "yref": "paper"
         }
        ],
        "height": 1000,
        "legend": {
         "title": {
          "text": "file"
         },
         "tracegroupgap": 0
        },
        "template": {
         "data": {
          "bar": [
           {
            "error_x": {
             "color": "#2a3f5f"
            },
            "error_y": {
             "color": "#2a3f5f"
            },
            "marker": {
             "line": {
              "color": "#E5ECF6",
              "width": 0.5
             },
             "pattern": {
              "fillmode": "overlay",
              "size": 10,
              "solidity": 0.2
             }
            },
            "type": "bar"
           }
          ],
          "barpolar": [
           {
            "marker": {
             "line": {
              "color": "#E5ECF6",
              "width": 0.5
             },
             "pattern": {
              "fillmode": "overlay",
              "size": 10,
              "solidity": 0.2
             }
            },
            "type": "barpolar"
           }
          ],
          "carpet": [
           {
            "aaxis": {
             "endlinecolor": "#2a3f5f",
             "gridcolor": "white",
             "linecolor": "white",
             "minorgridcolor": "white",
             "startlinecolor": "#2a3f5f"
            },
            "baxis": {
             "endlinecolor": "#2a3f5f",
             "gridcolor": "white",
             "linecolor": "white",
             "minorgridcolor": "white",
             "startlinecolor": "#2a3f5f"
            },
            "type": "carpet"
           }
          ],
          "choropleth": [
           {
            "colorbar": {
             "outlinewidth": 0,
             "ticks": ""
            },
            "type": "choropleth"
           }
          ],
          "contour": [
           {
            "colorbar": {
             "outlinewidth": 0,
             "ticks": ""
            },
            "colorscale": [
             [
              0,
              "#0d0887"
             ],
             [
              0.1111111111111111,
              "#46039f"
             ],
             [
              0.2222222222222222,
              "#7201a8"
             ],
             [
              0.3333333333333333,
              "#9c179e"
             ],
             [
              0.4444444444444444,
              "#bd3786"
             ],
             [
              0.5555555555555556,
              "#d8576b"
             ],
             [
              0.6666666666666666,
              "#ed7953"
             ],
             [
              0.7777777777777778,
              "#fb9f3a"
             ],
             [
              0.8888888888888888,
              "#fdca26"
             ],
             [
              1,
              "#f0f921"
             ]
            ],
            "type": "contour"
           }
          ],
          "contourcarpet": [
           {
            "colorbar": {
             "outlinewidth": 0,
             "ticks": ""
            },
            "type": "contourcarpet"
           }
          ],
          "heatmap": [
           {
            "colorbar": {
             "outlinewidth": 0,
             "ticks": ""
            },
            "colorscale": [
             [
              0,
              "#0d0887"
             ],
             [
              0.1111111111111111,
              "#46039f"
             ],
             [
              0.2222222222222222,
              "#7201a8"
             ],
             [
              0.3333333333333333,
              "#9c179e"
             ],
             [
              0.4444444444444444,
              "#bd3786"
             ],
             [
              0.5555555555555556,
              "#d8576b"
             ],
             [
              0.6666666666666666,
              "#ed7953"
             ],
             [
              0.7777777777777778,
              "#fb9f3a"
             ],
             [
              0.8888888888888888,
              "#fdca26"
             ],
             [
              1,
              "#f0f921"
             ]
            ],
            "type": "heatmap"
           }
          ],
          "heatmapgl": [
           {
            "colorbar": {
             "outlinewidth": 0,
             "ticks": ""
            },
            "colorscale": [
             [
              0,
              "#0d0887"
             ],
             [
              0.1111111111111111,
              "#46039f"
             ],
             [
              0.2222222222222222,
              "#7201a8"
             ],
             [
              0.3333333333333333,
              "#9c179e"
             ],
             [
              0.4444444444444444,
              "#bd3786"
             ],
             [
              0.5555555555555556,
              "#d8576b"
             ],
             [
              0.6666666666666666,
              "#ed7953"
             ],
             [
              0.7777777777777778,
              "#fb9f3a"
             ],
             [
              0.8888888888888888,
              "#fdca26"
             ],
             [
              1,
              "#f0f921"
             ]
            ],
            "type": "heatmapgl"
           }
          ],
          "histogram": [
           {
            "marker": {
             "pattern": {
              "fillmode": "overlay",
              "size": 10,
              "solidity": 0.2
             }
            },
            "type": "histogram"
           }
          ],
          "histogram2d": [
           {
            "colorbar": {
             "outlinewidth": 0,
             "ticks": ""
            },
            "colorscale": [
             [
              0,
              "#0d0887"
             ],
             [
              0.1111111111111111,
              "#46039f"
             ],
             [
              0.2222222222222222,
              "#7201a8"
             ],
             [
              0.3333333333333333,
              "#9c179e"
             ],
             [
              0.4444444444444444,
              "#bd3786"
             ],
             [
              0.5555555555555556,
              "#d8576b"
             ],
             [
              0.6666666666666666,
              "#ed7953"
             ],
             [
              0.7777777777777778,
              "#fb9f3a"
             ],
             [
              0.8888888888888888,
              "#fdca26"
             ],
             [
              1,
              "#f0f921"
             ]
            ],
            "type": "histogram2d"
           }
          ],
          "histogram2dcontour": [
           {
            "colorbar": {
             "outlinewidth": 0,
             "ticks": ""
            },
            "colorscale": [
             [
              0,
              "#0d0887"
             ],
             [
              0.1111111111111111,
              "#46039f"
             ],
             [
              0.2222222222222222,
              "#7201a8"
             ],
             [
              0.3333333333333333,
              "#9c179e"
             ],
             [
              0.4444444444444444,
              "#bd3786"
             ],
             [
              0.5555555555555556,
              "#d8576b"
             ],
             [
              0.6666666666666666,
              "#ed7953"
             ],
             [
              0.7777777777777778,
              "#fb9f3a"
             ],
             [
              0.8888888888888888,
              "#fdca26"
             ],
             [
              1,
              "#f0f921"
             ]
            ],
            "type": "histogram2dcontour"
           }
          ],
          "mesh3d": [
           {
            "colorbar": {
             "outlinewidth": 0,
             "ticks": ""
            },
            "type": "mesh3d"
           }
          ],
          "parcoords": [
           {
            "line": {
             "colorbar": {
              "outlinewidth": 0,
              "ticks": ""
             }
            },
            "type": "parcoords"
           }
          ],
          "pie": [
           {
            "automargin": true,
            "type": "pie"
           }
          ],
          "scatter": [
           {
            "fillpattern": {
             "fillmode": "overlay",
             "size": 10,
             "solidity": 0.2
            },
            "type": "scatter"
           }
          ],
          "scatter3d": [
           {
            "line": {
             "colorbar": {
              "outlinewidth": 0,
              "ticks": ""
             }
            },
            "marker": {
             "colorbar": {
              "outlinewidth": 0,
              "ticks": ""
             }
            },
            "type": "scatter3d"
           }
          ],
          "scattercarpet": [
           {
            "marker": {
             "colorbar": {
              "outlinewidth": 0,
              "ticks": ""
             }
            },
            "type": "scattercarpet"
           }
          ],
          "scattergeo": [
           {
            "marker": {
             "colorbar": {
              "outlinewidth": 0,
              "ticks": ""
             }
            },
            "type": "scattergeo"
           }
          ],
          "scattergl": [
           {
            "marker": {
             "colorbar": {
              "outlinewidth": 0,
              "ticks": ""
             }
            },
            "type": "scattergl"
           }
          ],
          "scattermapbox": [
           {
            "marker": {
             "colorbar": {
              "outlinewidth": 0,
              "ticks": ""
             }
            },
            "type": "scattermapbox"
           }
          ],
          "scatterpolar": [
           {
            "marker": {
             "colorbar": {
              "outlinewidth": 0,
              "ticks": ""
             }
            },
            "type": "scatterpolar"
           }
          ],
          "scatterpolargl": [
           {
            "marker": {
             "colorbar": {
              "outlinewidth": 0,
              "ticks": ""
             }
            },
            "type": "scatterpolargl"
           }
          ],
          "scatterternary": [
           {
            "marker": {
             "colorbar": {
              "outlinewidth": 0,
              "ticks": ""
             }
            },
            "type": "scatterternary"
           }
          ],
          "surface": [
           {
            "colorbar": {
             "outlinewidth": 0,
             "ticks": ""
            },
            "colorscale": [
             [
              0,
              "#0d0887"
             ],
             [
              0.1111111111111111,
              "#46039f"
             ],
             [
              0.2222222222222222,
              "#7201a8"
             ],
             [
              0.3333333333333333,
              "#9c179e"
             ],
             [
              0.4444444444444444,
              "#bd3786"
             ],
             [
              0.5555555555555556,
              "#d8576b"
             ],
             [
              0.6666666666666666,
              "#ed7953"
             ],
             [
              0.7777777777777778,
              "#fb9f3a"
             ],
             [
              0.8888888888888888,
              "#fdca26"
             ],
             [
              1,
              "#f0f921"
             ]
            ],
            "type": "surface"
           }
          ],
          "table": [
           {
            "cells": {
             "fill": {
              "color": "#EBF0F8"
             },
             "line": {
              "color": "white"
             }
            },
            "header": {
             "fill": {
              "color": "#C8D4E3"
             },
             "line": {
              "color": "white"
             }
            },
            "type": "table"
           }
          ]
         },
         "layout": {
          "annotationdefaults": {
           "arrowcolor": "#2a3f5f",
           "arrowhead": 0,
           "arrowwidth": 1
          },
          "autotypenumbers": "strict",
          "coloraxis": {
           "colorbar": {
            "outlinewidth": 0,
            "ticks": ""
           }
          },
          "colorscale": {
           "diverging": [
            [
             0,
             "#8e0152"
            ],
            [
             0.1,
             "#c51b7d"
            ],
            [
             0.2,
             "#de77ae"
            ],
            [
             0.3,
             "#f1b6da"
            ],
            [
             0.4,
             "#fde0ef"
            ],
            [
             0.5,
             "#f7f7f7"
            ],
            [
             0.6,
             "#e6f5d0"
            ],
            [
             0.7,
             "#b8e186"
            ],
            [
             0.8,
             "#7fbc41"
            ],
            [
             0.9,
             "#4d9221"
            ],
            [
             1,
             "#276419"
            ]
           ],
           "sequential": [
            [
             0,
             "#0d0887"
            ],
            [
             0.1111111111111111,
             "#46039f"
            ],
            [
             0.2222222222222222,
             "#7201a8"
            ],
            [
             0.3333333333333333,
             "#9c179e"
            ],
            [
             0.4444444444444444,
             "#bd3786"
            ],
            [
             0.5555555555555556,
             "#d8576b"
            ],
            [
             0.6666666666666666,
             "#ed7953"
            ],
            [
             0.7777777777777778,
             "#fb9f3a"
            ],
            [
             0.8888888888888888,
             "#fdca26"
            ],
            [
             1,
             "#f0f921"
            ]
           ],
           "sequentialminus": [
            [
             0,
             "#0d0887"
            ],
            [
             0.1111111111111111,
             "#46039f"
            ],
            [
             0.2222222222222222,
             "#7201a8"
            ],
            [
             0.3333333333333333,
             "#9c179e"
            ],
            [
             0.4444444444444444,
             "#bd3786"
            ],
            [
             0.5555555555555556,
             "#d8576b"
            ],
            [
             0.6666666666666666,
             "#ed7953"
            ],
            [
             0.7777777777777778,
             "#fb9f3a"
            ],
            [
             0.8888888888888888,
             "#fdca26"
            ],
            [
             1,
             "#f0f921"
            ]
           ]
          },
          "colorway": [
           "#636efa",
           "#EF553B",
           "#00cc96",
           "#ab63fa",
           "#FFA15A",
           "#19d3f3",
           "#FF6692",
           "#B6E880",
           "#FF97FF",
           "#FECB52"
          ],
          "font": {
           "color": "#2a3f5f"
          },
          "geo": {
           "bgcolor": "white",
           "lakecolor": "white",
           "landcolor": "#E5ECF6",
           "showlakes": true,
           "showland": true,
           "subunitcolor": "white"
          },
          "hoverlabel": {
           "align": "left"
          },
          "hovermode": "closest",
          "mapbox": {
           "style": "light"
          },
          "paper_bgcolor": "white",
          "plot_bgcolor": "#E5ECF6",
          "polar": {
           "angularaxis": {
            "gridcolor": "white",
            "linecolor": "white",
            "ticks": ""
           },
           "bgcolor": "#E5ECF6",
           "radialaxis": {
            "gridcolor": "white",
            "linecolor": "white",
            "ticks": ""
           }
          },
          "scene": {
           "xaxis": {
            "backgroundcolor": "#E5ECF6",
            "gridcolor": "white",
            "gridwidth": 2,
            "linecolor": "white",
            "showbackground": true,
            "ticks": "",
            "zerolinecolor": "white"
           },
           "yaxis": {
            "backgroundcolor": "#E5ECF6",
            "gridcolor": "white",
            "gridwidth": 2,
            "linecolor": "white",
            "showbackground": true,
            "ticks": "",
            "zerolinecolor": "white"
           },
           "zaxis": {
            "backgroundcolor": "#E5ECF6",
            "gridcolor": "white",
            "gridwidth": 2,
            "linecolor": "white",
            "showbackground": true,
            "ticks": "",
            "zerolinecolor": "white"
           }
          },
          "shapedefaults": {
           "line": {
            "color": "#2a3f5f"
           }
          },
          "ternary": {
           "aaxis": {
            "gridcolor": "white",
            "linecolor": "white",
            "ticks": ""
           },
           "baxis": {
            "gridcolor": "white",
            "linecolor": "white",
            "ticks": ""
           },
           "bgcolor": "#E5ECF6",
           "caxis": {
            "gridcolor": "white",
            "linecolor": "white",
            "ticks": ""
           }
          },
          "title": {
           "x": 0.05
          },
          "xaxis": {
           "automargin": true,
           "gridcolor": "white",
           "linecolor": "white",
           "ticks": "",
           "title": {
            "standoff": 15
           },
           "zerolinecolor": "white",
           "zerolinewidth": 2
          },
          "yaxis": {
           "automargin": true,
           "gridcolor": "white",
           "linecolor": "white",
           "ticks": "",
           "title": {
            "standoff": 15
           },
           "zerolinecolor": "white",
           "zerolinewidth": 2
          }
         }
        },
        "title": {
         "text": "GPU utilization per compressor at different chunk sizes"
        },
        "width": 800,
        "xaxis": {
         "anchor": "y",
         "domain": [
          0,
          0.98
         ],
         "title": {
          "text": "chunk_size"
         },
         "type": "log"
        },
        "xaxis2": {
         "anchor": "y2",
         "domain": [
          0,
          0.98
         ],
         "matches": "x",
         "showticklabels": false,
         "type": "log"
        },
        "xaxis3": {
         "anchor": "y3",
         "domain": [
          0,
          0.98
         ],
         "matches": "x",
         "showticklabels": false,
         "type": "log"
        },
        "xaxis4": {
         "anchor": "y4",
         "domain": [
          0,
          0.98
         ],
         "matches": "x",
         "showticklabels": false,
         "type": "log"
        },
        "xaxis5": {
         "anchor": "y5",
         "domain": [
          0,
          0.98
         ],
         "matches": "x",
         "showticklabels": false,
         "type": "log"
        },
        "xaxis6": {
         "anchor": "y6",
         "domain": [
          0,
          0.98
         ],
         "matches": "x",
         "showticklabels": false,
         "type": "log"
        },
        "yaxis": {
         "anchor": "x",
         "domain": [
          0,
          0.14166666666666666
         ],
         "title": {
          "text": "compression_utilization"
         }
        },
        "yaxis2": {
         "anchor": "x2",
         "domain": [
          0.17166666666666666,
          0.31333333333333335
         ],
         "matches": "y",
         "title": {
          "text": "compression_utilization"
         }
        },
        "yaxis3": {
         "anchor": "x3",
         "domain": [
          0.3433333333333333,
          0.485
         ],
         "matches": "y",
         "title": {
          "text": "compression_utilization"
         }
        },
        "yaxis4": {
         "anchor": "x4",
         "domain": [
          0.515,
          0.6566666666666667
         ],
         "matches": "y",
         "title": {
          "text": "compression_utilization"
         }
        },
        "yaxis5": {
         "anchor": "x5",
         "domain": [
          0.6866666666666666,
          0.8283333333333334
         ],
         "matches": "y",
         "title": {
          "text": "compression_utilization"
         }
        },
        "yaxis6": {
         "anchor": "x6",
         "domain": [
          0.8583333333333333,
          1
         ],
         "matches": "y",
         "title": {
          "text": "compression_utilization"
         }
        }
       }
      }
     },
     "metadata": {},
     "output_type": "display_data"
    }
   ],
   "source": [
    "fig_utilization_standard = px.line(\n",
    "    result_df,\n",
    "    title=f\"GPU utilization per compressor at different chunk sizes\", \n",
    "    x=\"chunk_size\",\n",
    "    y=\"compression_utilization\",\n",
    "    color=\"file\",\n",
    "    log_x=True,\n",
    "    markers=True,\n",
    "    #log_y=True,\n",
    "    facet_row=\"standard\",\n",
    "    # facet_col_spacing=0.05,\n",
    "    height=1000,\n",
    "    width=800,\n",
    ")\n",
    "# fig_utilization_standard.update_xaxes(autorange=\"reversed\")\n",
    "\n",
    "\n",
    "fig_utilization_standard.show()"
   ]
  },
  {
   "cell_type": "code",
   "execution_count": 4,
   "metadata": {},
   "outputs": [
    {
     "data": {
      "application/vnd.plotly.v1+json": {
       "config": {
        "plotlyServerURL": "https://plot.ly"
       },
       "data": [
        {
         "hovertemplate": "file=500mb_dickens<br>standard=snappy<br>chunk_size=%{x}<br>decompression_utilization=%{y}<extra></extra>",
         "legendgroup": "500mb_dickens",
         "line": {
          "color": "#636efa",
          "dash": "solid"
         },
         "marker": {
          "symbol": "circle"
         },
         "mode": "lines+markers",
         "name": "500mb_dickens",
         "orientation": "v",
         "showlegend": true,
         "type": "scatter",
         "x": [
          65536000,
          16384000,
          4096000,
          1024000,
          256000,
          64000,
          16000,
          4000
         ],
         "xaxis": "x6",
         "y": [
          1,
          1,
          1,
          1,
          1,
          4.592107155622175,
          15.40027323174332,
          49.53148608637113
         ],
         "yaxis": "y6"
        },
        {
         "hovertemplate": "file=500mb_dickens<br>standard=zstd<br>chunk_size=%{x}<br>decompression_utilization=%{y}<extra></extra>",
         "legendgroup": "500mb_dickens",
         "line": {
          "color": "#636efa",
          "dash": "solid"
         },
         "marker": {
          "symbol": "circle"
         },
         "mode": "lines+markers",
         "name": "500mb_dickens",
         "orientation": "v",
         "showlegend": false,
         "type": "scatter",
         "x": [
          65536000,
          16384000,
          4096000,
          1024000,
          256000,
          64000,
          16000,
          4000
         ],
         "xaxis": "x5",
         "y": [
          0.9999920661830579,
          0.999992068638917,
          0.9999758329190052,
          0.9985239773564485,
          1.8040136326033442,
          2.8352382279703923,
          10.121186740289875,
          24.462600266628012
         ],
         "yaxis": "y5"
        },
        {
         "hovertemplate": "file=500mb_dickens<br>standard=gdeflate<br>chunk_size=%{x}<br>decompression_utilization=%{y}<extra></extra>",
         "legendgroup": "500mb_dickens",
         "line": {
          "color": "#636efa",
          "dash": "solid"
         },
         "marker": {
          "symbol": "circle"
         },
         "mode": "lines+markers",
         "name": "500mb_dickens",
         "orientation": "v",
         "showlegend": false,
         "type": "scatter",
         "x": [
          64000,
          16000,
          4000
         ],
         "xaxis": "x4",
         "y": [
          1.8975835392604554,
          7.470341805272614,
          17.897141726832164
         ],
         "yaxis": "y4"
        },
        {
         "hovertemplate": "file=500mb_dickens<br>standard=lz4<br>chunk_size=%{x}<br>decompression_utilization=%{y}<extra></extra>",
         "legendgroup": "500mb_dickens",
         "line": {
          "color": "#636efa",
          "dash": "solid"
         },
         "marker": {
          "symbol": "circle"
         },
         "mode": "lines+markers",
         "name": "500mb_dickens",
         "orientation": "v",
         "showlegend": false,
         "type": "scatter",
         "x": [
          65536000,
          16384000,
          4096000,
          1024000,
          256000,
          64000,
          16000,
          4000
         ],
         "xaxis": "x3",
         "y": [
          1,
          1,
          1,
          0,
          1,
          1.9567194009035784,
          7.883989848306996,
          15.7568842427333
         ],
         "yaxis": "y3"
        },
        {
         "hovertemplate": "file=500mb_dickens<br>standard=bitcomp<br>chunk_size=%{x}<br>decompression_utilization=%{y}<extra></extra>",
         "legendgroup": "500mb_dickens",
         "line": {
          "color": "#636efa",
          "dash": "solid"
         },
         "marker": {
          "symbol": "circle"
         },
         "mode": "lines+markers",
         "name": "500mb_dickens",
         "orientation": "v",
         "showlegend": false,
         "type": "scatter",
         "x": [
          65536000,
          16384000,
          4096000,
          1024000,
          256000,
          64000,
          16000,
          4000
         ],
         "xaxis": "x2",
         "y": [
          0.9993670583567598,
          0.9993959765239766,
          0.9984872731860865,
          0.9939994297046235,
          3.9423928355190823,
          8.607038665108973,
          10.58036994735893,
          7.506413731958221
         ],
         "yaxis": "y2"
        },
        {
         "hovertemplate": "file=500mb_mozilla<br>standard=snappy<br>chunk_size=%{x}<br>decompression_utilization=%{y}<extra></extra>",
         "legendgroup": "500mb_mozilla",
         "line": {
          "color": "#EF553B",
          "dash": "solid"
         },
         "marker": {
          "symbol": "circle"
         },
         "mode": "lines+markers",
         "name": "500mb_mozilla",
         "orientation": "v",
         "showlegend": true,
         "type": "scatter",
         "x": [
          65536000,
          16384000,
          4096000,
          1024000,
          256000,
          64000,
          16000,
          4000
         ],
         "xaxis": "x6",
         "y": [
          1,
          1,
          1,
          1,
          3.962944525490785,
          14.342938826264161,
          46.58445252234841,
          72.26791888763209
         ],
         "yaxis": "y6"
        },
        {
         "hovertemplate": "file=500mb_mozilla<br>standard=zstd<br>chunk_size=%{x}<br>decompression_utilization=%{y}<extra></extra>",
         "legendgroup": "500mb_mozilla",
         "line": {
          "color": "#EF553B",
          "dash": "solid"
         },
         "marker": {
          "symbol": "circle"
         },
         "mode": "lines+markers",
         "name": "500mb_mozilla",
         "orientation": "v",
         "showlegend": false,
         "type": "scatter",
         "x": [
          16384000,
          4096000,
          1024000,
          256000,
          64000,
          16000,
          4000
         ],
         "xaxis": "x5",
         "y": [
          0.9999916142684904,
          0.9999688108942711,
          1.456381428611008,
          4.603638373427721,
          10.55701145066126,
          28.190784510731095,
          32.33881452153298
         ],
         "yaxis": "y5"
        },
        {
         "hovertemplate": "file=500mb_mozilla<br>standard=gdeflate<br>chunk_size=%{x}<br>decompression_utilization=%{y}<extra></extra>",
         "legendgroup": "500mb_mozilla",
         "line": {
          "color": "#EF553B",
          "dash": "solid"
         },
         "marker": {
          "symbol": "circle"
         },
         "mode": "lines+markers",
         "name": "500mb_mozilla",
         "orientation": "v",
         "showlegend": false,
         "type": "scatter",
         "x": [
          64000,
          16000,
          4000
         ],
         "xaxis": "x4",
         "y": [
          7.228935030180754,
          21.067107442906114,
          32.48660420162818
         ],
         "yaxis": "y4"
        },
        {
         "hovertemplate": "file=500mb_mozilla<br>standard=lz4<br>chunk_size=%{x}<br>decompression_utilization=%{y}<extra></extra>",
         "legendgroup": "500mb_mozilla",
         "line": {
          "color": "#EF553B",
          "dash": "solid"
         },
         "marker": {
          "symbol": "circle"
         },
         "mode": "lines+markers",
         "name": "500mb_mozilla",
         "orientation": "v",
         "showlegend": false,
         "type": "scatter",
         "x": [
          16384000,
          4096000,
          1024000,
          256000,
          64000,
          16000,
          4000
         ],
         "xaxis": "x3",
         "y": [
          1,
          1,
          1,
          2.479999486815263,
          7.519949371345388,
          24.631625815684473,
          32.34201691549217
         ],
         "yaxis": "y3"
        },
        {
         "hovertemplate": "file=500mb_mozilla<br>standard=bitcomp<br>chunk_size=%{x}<br>decompression_utilization=%{y}<extra></extra>",
         "legendgroup": "500mb_mozilla",
         "line": {
          "color": "#EF553B",
          "dash": "solid"
         },
         "marker": {
          "symbol": "circle"
         },
         "mode": "lines+markers",
         "name": "500mb_mozilla",
         "orientation": "v",
         "showlegend": false,
         "type": "scatter",
         "x": [
          65536000,
          16384000,
          4096000,
          1024000,
          256000,
          64000,
          16000,
          4000
         ],
         "xaxis": "x2",
         "y": [
          0.9997447560746988,
          0.9993276281342885,
          1.3203583099997132,
          3.263401786952162,
          7.297415170653457,
          4.761569302804546,
          27.433038216018574,
          35.24091870305685
         ],
         "yaxis": "y2"
        },
        {
         "hovertemplate": "file=500mb_mozilla<br>standard=cascaded<br>chunk_size=%{x}<br>decompression_utilization=%{y}<extra></extra>",
         "legendgroup": "500mb_mozilla",
         "line": {
          "color": "#EF553B",
          "dash": "solid"
         },
         "marker": {
          "symbol": "circle"
         },
         "mode": "lines+markers",
         "name": "500mb_mozilla",
         "orientation": "v",
         "showlegend": false,
         "type": "scatter",
         "x": [
          65536000,
          16384000,
          4096000,
          1024000,
          256000,
          64000,
          16000,
          4000
         ],
         "xaxis": "x",
         "y": [
          0.9999377942594894,
          0.9997871561792837,
          0.999240257779463,
          1.0131305398365937,
          3.4185465338092,
          8.371896373688923,
          16.201245146366297,
          18.279381951527764
         ],
         "yaxis": "y"
        },
        {
         "hovertemplate": "file=500mb_mr<br>standard=snappy<br>chunk_size=%{x}<br>decompression_utilization=%{y}<extra></extra>",
         "legendgroup": "500mb_mr",
         "line": {
          "color": "#00cc96",
          "dash": "solid"
         },
         "marker": {
          "symbol": "circle"
         },
         "mode": "lines+markers",
         "name": "500mb_mr",
         "orientation": "v",
         "showlegend": true,
         "type": "scatter",
         "x": [
          65536000,
          16384000,
          4096000,
          1024000,
          256000,
          64000,
          16000,
          4000
         ],
         "xaxis": "x6",
         "y": [
          1,
          1,
          1,
          1,
          1,
          3.333830921845881,
          11.533969727272087,
          5.003049278735964
         ],
         "yaxis": "y6"
        },
        {
         "hovertemplate": "file=500mb_mr<br>standard=zstd<br>chunk_size=%{x}<br>decompression_utilization=%{y}<extra></extra>",
         "legendgroup": "500mb_mr",
         "line": {
          "color": "#00cc96",
          "dash": "solid"
         },
         "marker": {
          "symbol": "circle"
         },
         "mode": "lines+markers",
         "name": "500mb_mr",
         "orientation": "v",
         "showlegend": false,
         "type": "scatter",
         "x": [
          65536000,
          16384000,
          4096000,
          1024000,
          256000,
          64000,
          16000,
          4000
         ],
         "xaxis": "x5",
         "y": [
          0.999987931562468,
          0.9999881429477484,
          0.9999663000661922,
          0.9998941122767159,
          1.6207553806805675,
          2.446670720660919,
          7.665506796256613,
          19.468198630634067
         ],
         "yaxis": "y5"
        },
        {
         "hovertemplate": "file=500mb_mr<br>standard=gdeflate<br>chunk_size=%{x}<br>decompression_utilization=%{y}<extra></extra>",
         "legendgroup": "500mb_mr",
         "line": {
          "color": "#00cc96",
          "dash": "solid"
         },
         "marker": {
          "symbol": "circle"
         },
         "mode": "lines+markers",
         "name": "500mb_mr",
         "orientation": "v",
         "showlegend": false,
         "type": "scatter",
         "x": [
          64000,
          16000,
          4000
         ],
         "xaxis": "x4",
         "y": [
          1.839226916077896,
          6.025008382602281,
          14.882310632680474
         ],
         "yaxis": "y4"
        },
        {
         "hovertemplate": "file=500mb_mr<br>standard=lz4<br>chunk_size=%{x}<br>decompression_utilization=%{y}<extra></extra>",
         "legendgroup": "500mb_mr",
         "line": {
          "color": "#00cc96",
          "dash": "solid"
         },
         "marker": {
          "symbol": "circle"
         },
         "mode": "lines+markers",
         "name": "500mb_mr",
         "orientation": "v",
         "showlegend": false,
         "type": "scatter",
         "x": [
          65536000,
          16384000,
          4096000,
          1024000,
          256000,
          64000,
          16000,
          4000
         ],
         "xaxis": "x3",
         "y": [
          1,
          1,
          1,
          1,
          1,
          1.6249940003917138,
          4.266766217169598,
          3.2538520430962725
         ],
         "yaxis": "y3"
        },
        {
         "hovertemplate": "file=500mb_mr<br>standard=bitcomp<br>chunk_size=%{x}<br>decompression_utilization=%{y}<extra></extra>",
         "legendgroup": "500mb_mr",
         "line": {
          "color": "#00cc96",
          "dash": "solid"
         },
         "marker": {
          "symbol": "circle"
         },
         "mode": "lines+markers",
         "name": "500mb_mr",
         "orientation": "v",
         "showlegend": false,
         "type": "scatter",
         "x": [
          65536000,
          16384000,
          4096000,
          1024000,
          256000,
          64000,
          16000,
          4000
         ],
         "xaxis": "x2",
         "y": [
          0.998965780404212,
          0.9989467935945429,
          0.9974045032057413,
          0.9904720372102207,
          2.4429268219751057,
          8.898983199859511,
          3.6373404969778376,
          1.4755028365136669
         ],
         "yaxis": "y2"
        },
        {
         "hovertemplate": "file=500mb_mr<br>standard=cascaded<br>chunk_size=%{x}<br>decompression_utilization=%{y}<extra></extra>",
         "legendgroup": "500mb_mr",
         "line": {
          "color": "#00cc96",
          "dash": "solid"
         },
         "marker": {
          "symbol": "circle"
         },
         "mode": "lines+markers",
         "name": "500mb_mr",
         "orientation": "v",
         "showlegend": false,
         "type": "scatter",
         "x": [
          65536000,
          16384000,
          4096000,
          1024000,
          256000,
          64000,
          16000,
          4000
         ],
         "xaxis": "x",
         "y": [
          0.9996679905140509,
          0.9996821172601438,
          0.9991568599232163,
          0.9967716867169683,
          0.8786975796713863,
          4.352828403019004,
          1.74124044386637,
          9.651684799962016
         ],
         "yaxis": "y"
        },
        {
         "hovertemplate": "file=500mb_nci<br>standard=snappy<br>chunk_size=%{x}<br>decompression_utilization=%{y}<extra></extra>",
         "legendgroup": "500mb_nci",
         "line": {
          "color": "#ab63fa",
          "dash": "solid"
         },
         "marker": {
          "symbol": "circle"
         },
         "mode": "lines+markers",
         "name": "500mb_nci",
         "orientation": "v",
         "showlegend": true,
         "type": "scatter",
         "x": [
          65536000,
          16384000,
          4096000,
          1024000,
          256000,
          64000,
          16000,
          4000
         ],
         "xaxis": "x6",
         "y": [
          1,
          1,
          1,
          1,
          3.357925395055264,
          11.125040419188494,
          34.99035088274603,
          64.90142265354085
         ],
         "yaxis": "y6"
        },
        {
         "hovertemplate": "file=500mb_nci<br>standard=zstd<br>chunk_size=%{x}<br>decompression_utilization=%{y}<extra></extra>",
         "legendgroup": "500mb_nci",
         "line": {
          "color": "#ab63fa",
          "dash": "solid"
         },
         "marker": {
          "symbol": "circle"
         },
         "mode": "lines+markers",
         "name": "500mb_nci",
         "orientation": "v",
         "showlegend": false,
         "type": "scatter",
         "x": [
          16384000,
          4096000,
          1024000,
          256000,
          64000,
          16000,
          4000
         ],
         "xaxis": "x5",
         "y": [
          0.9999888847246279,
          0.9999585674230446,
          0.9938495849138532,
          3.1851705206855234,
          7.464624588557038,
          22.789226512340733,
          26.79558305190026
         ],
         "yaxis": "y5"
        },
        {
         "hovertemplate": "file=500mb_nci<br>standard=gdeflate<br>chunk_size=%{x}<br>decompression_utilization=%{y}<extra></extra>",
         "legendgroup": "500mb_nci",
         "line": {
          "color": "#ab63fa",
          "dash": "solid"
         },
         "marker": {
          "symbol": "circle"
         },
         "mode": "lines+markers",
         "name": "500mb_nci",
         "orientation": "v",
         "showlegend": false,
         "type": "scatter",
         "x": [
          64000,
          16000,
          4000
         ],
         "xaxis": "x4",
         "y": [
          5.990633224190717,
          19.330543329172123,
          29.597486951287124
         ],
         "yaxis": "y4"
        },
        {
         "hovertemplate": "file=500mb_nci<br>standard=lz4<br>chunk_size=%{x}<br>decompression_utilization=%{y}<extra></extra>",
         "legendgroup": "500mb_nci",
         "line": {
          "color": "#ab63fa",
          "dash": "solid"
         },
         "marker": {
          "symbol": "circle"
         },
         "mode": "lines+markers",
         "name": "500mb_nci",
         "orientation": "v",
         "showlegend": false,
         "type": "scatter",
         "x": [
          16384000,
          4096000,
          1024000,
          256000,
          64000,
          16000,
          4000
         ],
         "xaxis": "x3",
         "y": [
          1,
          1,
          1,
          1.8108116529750382,
          6.025021323007865,
          20.80915734437344,
          33.766715408086114
         ],
         "yaxis": "y3"
        },
        {
         "hovertemplate": "file=500mb_nci<br>standard=bitcomp<br>chunk_size=%{x}<br>decompression_utilization=%{y}<extra></extra>",
         "legendgroup": "500mb_nci",
         "line": {
          "color": "#ab63fa",
          "dash": "solid"
         },
         "marker": {
          "symbol": "circle"
         },
         "mode": "lines+markers",
         "name": "500mb_nci",
         "orientation": "v",
         "showlegend": false,
         "type": "scatter",
         "x": [
          65536000,
          16384000,
          4096000,
          1024000,
          256000,
          64000,
          16000,
          4000
         ],
         "xaxis": "x2",
         "y": [
          0.999741041265124,
          0.999463559387505,
          0.9977303249767355,
          3.7471357280560635,
          10.782801552555304,
          10.721227338347529,
          26.016332855087374,
          35.286968672420656
         ],
         "yaxis": "y2"
        },
        {
         "hovertemplate": "file=500mb_samba<br>standard=snappy<br>chunk_size=%{x}<br>decompression_utilization=%{y}<extra></extra>",
         "legendgroup": "500mb_samba",
         "line": {
          "color": "#FFA15A",
          "dash": "solid"
         },
         "marker": {
          "symbol": "circle"
         },
         "mode": "lines+markers",
         "name": "500mb_samba",
         "orientation": "v",
         "showlegend": true,
         "type": "scatter",
         "x": [
          65536000,
          16384000,
          4096000,
          1024000,
          256000,
          64000,
          16000,
          4000
         ],
         "xaxis": "x6",
         "y": [
          1,
          0.9998813754027869,
          1,
          0,
          1.522123930671996,
          5.145217339809933,
          17.953285510703722,
          46.39265802217203
         ],
         "yaxis": "y6"
        },
        {
         "hovertemplate": "file=500mb_samba<br>standard=zstd<br>chunk_size=%{x}<br>decompression_utilization=%{y}<extra></extra>",
         "legendgroup": "500mb_samba",
         "line": {
          "color": "#FFA15A",
          "dash": "solid"
         },
         "marker": {
          "symbol": "circle"
         },
         "mode": "lines+markers",
         "name": "500mb_samba",
         "orientation": "v",
         "showlegend": false,
         "type": "scatter",
         "x": [
          16384000,
          4096000,
          1024000,
          256000,
          64000,
          16000,
          4000
         ],
         "xaxis": "x5",
         "y": [
          0.9999898068012398,
          0.9999659764757325,
          0.9979526597241472,
          -0.001020814495565837,
          -0.0068641940564743405,
          13.094391711267633,
          24.20372759097004
         ],
         "yaxis": "y5"
        },
        {
         "hovertemplate": "file=500mb_samba<br>standard=gdeflate<br>chunk_size=%{x}<br>decompression_utilization=%{y}<extra></extra>",
         "legendgroup": "500mb_samba",
         "line": {
          "color": "#FFA15A",
          "dash": "solid"
         },
         "marker": {
          "symbol": "circle"
         },
         "mode": "lines+markers",
         "name": "500mb_samba",
         "orientation": "v",
         "showlegend": false,
         "type": "scatter",
         "x": [
          64000,
          16000,
          4000
         ],
         "xaxis": "x4",
         "y": [
          3.2256321547407545,
          9.261137890364797,
          23.28015036226209
         ],
         "yaxis": "y4"
        },
        {
         "hovertemplate": "file=500mb_samba<br>standard=lz4<br>chunk_size=%{x}<br>decompression_utilization=%{y}<extra></extra>",
         "legendgroup": "500mb_samba",
         "line": {
          "color": "#FFA15A",
          "dash": "solid"
         },
         "marker": {
          "symbol": "circle"
         },
         "mode": "lines+markers",
         "name": "500mb_samba",
         "orientation": "v",
         "showlegend": false,
         "type": "scatter",
         "x": [
          16384000,
          4096000,
          1024000,
          256000,
          64000,
          16000,
          4000
         ],
         "xaxis": "x3",
         "y": [
          1,
          1,
          1,
          1,
          2.7241068409643905,
          8.081576587704753,
          18.935123748477658
         ],
         "yaxis": "y3"
        },
        {
         "hovertemplate": "file=500mb_samba<br>standard=bitcomp<br>chunk_size=%{x}<br>decompression_utilization=%{y}<extra></extra>",
         "legendgroup": "500mb_samba",
         "line": {
          "color": "#FFA15A",
          "dash": "solid"
         },
         "marker": {
          "symbol": "circle"
         },
         "mode": "lines+markers",
         "name": "500mb_samba",
         "orientation": "v",
         "showlegend": false,
         "type": "scatter",
         "x": [
          65536000,
          16384000,
          4096000,
          1024000,
          256000,
          64000,
          16000,
          4000
         ],
         "xaxis": "x2",
         "y": [
          0.9996310262405663,
          -0.00020975162008056864,
          0.9984590149713732,
          1.5961157700078776,
          3.9429320075347922,
          10.333242118356337,
          1.3140816133407425,
          19.779473559348716
         ],
         "yaxis": "y2"
        },
        {
         "hovertemplate": "file=500mb_samba<br>standard=cascaded<br>chunk_size=%{x}<br>decompression_utilization=%{y}<extra></extra>",
         "legendgroup": "500mb_samba",
         "line": {
          "color": "#FFA15A",
          "dash": "solid"
         },
         "marker": {
          "symbol": "circle"
         },
         "mode": "lines+markers",
         "name": "500mb_samba",
         "orientation": "v",
         "showlegend": false,
         "type": "scatter",
         "x": [
          65536000,
          16384000,
          4096000,
          1024000,
          256000,
          64000,
          16000,
          4000
         ],
         "xaxis": "x",
         "y": [
          0.9992840608286088,
          0.9993951028933387,
          0.9991684718853566,
          0.3315367927238815,
          1.3339512023348994,
          3.621581494413085,
          14.587074048201632,
          2.2801159111380733
         ],
         "yaxis": "y"
        },
        {
         "hovertemplate": "file=500mb_sao<br>standard=snappy<br>chunk_size=%{x}<br>decompression_utilization=%{y}<extra></extra>",
         "legendgroup": "500mb_sao",
         "line": {
          "color": "#19d3f3",
          "dash": "solid"
         },
         "marker": {
          "symbol": "circle"
         },
         "mode": "lines+markers",
         "name": "500mb_sao",
         "orientation": "v",
         "showlegend": true,
         "type": "scatter",
         "x": [
          65536000,
          16384000,
          4096000,
          1024000,
          256000,
          64000,
          16000,
          4000
         ],
         "xaxis": "x6",
         "y": [
          1,
          1,
          0,
          1,
          1,
          2.807692950961996,
          10.333840383053015,
          17.289309474869277
         ],
         "yaxis": "y6"
        },
        {
         "hovertemplate": "file=500mb_sao<br>standard=zstd<br>chunk_size=%{x}<br>decompression_utilization=%{y}<extra></extra>",
         "legendgroup": "500mb_sao",
         "line": {
          "color": "#19d3f3",
          "dash": "solid"
         },
         "marker": {
          "symbol": "circle"
         },
         "mode": "lines+markers",
         "name": "500mb_sao",
         "orientation": "v",
         "showlegend": false,
         "type": "scatter",
         "x": [
          65536000,
          16384000,
          4096000,
          1024000,
          256000,
          64000,
          16000,
          4000
         ],
         "xaxis": "x5",
         "y": [
          0.9999821006171818,
          0.9999820859842536,
          0.999967153250494,
          0.9998805679057117,
          0.9978389689650837,
          1.8878478789654198,
          7.318116154284898,
          18.58152527301712
         ],
         "yaxis": "y5"
        },
        {
         "hovertemplate": "file=500mb_sao<br>standard=gdeflate<br>chunk_size=%{x}<br>decompression_utilization=%{y}<extra></extra>",
         "legendgroup": "500mb_sao",
         "line": {
          "color": "#19d3f3",
          "dash": "solid"
         },
         "marker": {
          "symbol": "circle"
         },
         "mode": "lines+markers",
         "name": "500mb_sao",
         "orientation": "v",
         "showlegend": false,
         "type": "scatter",
         "x": [
          64000,
          16000,
          4000
         ],
         "xaxis": "x4",
         "y": [
          1.9369000545396933,
          5.9793713517710465,
          10.921321902709114
         ],
         "yaxis": "y4"
        },
        {
         "hovertemplate": "file=500mb_sao<br>standard=lz4<br>chunk_size=%{x}<br>decompression_utilization=%{y}<extra></extra>",
         "legendgroup": "500mb_sao",
         "line": {
          "color": "#19d3f3",
          "dash": "solid"
         },
         "marker": {
          "symbol": "circle"
         },
         "mode": "lines+markers",
         "name": "500mb_sao",
         "orientation": "v",
         "showlegend": false,
         "type": "scatter",
         "x": [
          65536000,
          16384000,
          4096000,
          1024000,
          256000,
          64000,
          16000,
          4000
         ],
         "xaxis": "x3",
         "y": [
          1,
          1,
          1,
          1,
          1,
          1.9130367137270086,
          6.000223007052464,
          9.5
         ],
         "yaxis": "y3"
        },
        {
         "hovertemplate": "file=500mb_sao<br>standard=bitcomp<br>chunk_size=%{x}<br>decompression_utilization=%{y}<extra></extra>",
         "legendgroup": "500mb_sao",
         "line": {
          "color": "#19d3f3",
          "dash": "solid"
         },
         "marker": {
          "symbol": "circle"
         },
         "mode": "lines+markers",
         "name": "500mb_sao",
         "orientation": "v",
         "showlegend": false,
         "type": "scatter",
         "x": [
          65536000,
          16384000,
          4096000,
          1024000,
          256000,
          64000,
          16000,
          4000
         ],
         "xaxis": "x2",
         "y": [
          0.9944493602067452,
          0.9944323344151214,
          0.987804292658491,
          0.967045463064362,
          0.38109128345916266,
          -0.9647526894180813,
          2.191901408450704,
          9.437061357153631
         ],
         "yaxis": "y2"
        },
        {
         "hovertemplate": "file=500mb_sao<br>standard=cascaded<br>chunk_size=%{x}<br>decompression_utilization=%{y}<extra></extra>",
         "legendgroup": "500mb_sao",
         "line": {
          "color": "#19d3f3",
          "dash": "solid"
         },
         "marker": {
          "symbol": "circle"
         },
         "mode": "lines+markers",
         "name": "500mb_sao",
         "orientation": "v",
         "showlegend": false,
         "type": "scatter",
         "x": [
          65536000,
          16384000,
          4096000,
          1024000,
          256000,
          64000,
          16000,
          4000
         ],
         "xaxis": "x",
         "y": [
          0.3315062494273464,
          0.9966138618892455,
          0.9909362974052036,
          0.9714528505109521,
          0.8937491533804173,
          -1,
          -1,
          0.4557427423119816
         ],
         "yaxis": "y"
        },
        {
         "hovertemplate": "file=500mb_xml<br>standard=snappy<br>chunk_size=%{x}<br>decompression_utilization=%{y}<extra></extra>",
         "legendgroup": "500mb_xml",
         "line": {
          "color": "#FF6692",
          "dash": "solid"
         },
         "marker": {
          "symbol": "circle"
         },
         "mode": "lines+markers",
         "name": "500mb_xml",
         "orientation": "v",
         "showlegend": true,
         "type": "scatter",
         "x": [
          65536000,
          16384000,
          4096000,
          1024000,
          256000,
          64000,
          16000,
          4000
         ],
         "xaxis": "x6",
         "y": [
          1,
          1,
          1,
          1,
          1,
          1.3138496091279692,
          3.511926730936275,
          1
         ],
         "yaxis": "y6"
        },
        {
         "hovertemplate": "file=500mb_xml<br>standard=zstd<br>chunk_size=%{x}<br>decompression_utilization=%{y}<extra></extra>",
         "legendgroup": "500mb_xml",
         "line": {
          "color": "#FF6692",
          "dash": "solid"
         },
         "marker": {
          "symbol": "circle"
         },
         "mode": "lines+markers",
         "name": "500mb_xml",
         "orientation": "v",
         "showlegend": false,
         "type": "scatter",
         "x": [
          65536000,
          16384000,
          4096000,
          1024000,
          256000,
          64000,
          16000,
          4000
         ],
         "xaxis": "x5",
         "y": [
          0.9999714776219573,
          0.9999714855346542,
          0.9999602332305721,
          0.9977757682308293,
          0.9979257282271167,
          -0.006717566890020706,
          3.541019077942618,
          11.679903442592204
         ],
         "yaxis": "y5"
        },
        {
         "hovertemplate": "file=500mb_xml<br>standard=gdeflate<br>chunk_size=%{x}<br>decompression_utilization=%{y}<extra></extra>",
         "legendgroup": "500mb_xml",
         "line": {
          "color": "#FF6692",
          "dash": "solid"
         },
         "marker": {
          "symbol": "circle"
         },
         "mode": "lines+markers",
         "name": "500mb_xml",
         "orientation": "v",
         "showlegend": false,
         "type": "scatter",
         "x": [
          64000,
          16000,
          4000
         ],
         "xaxis": "x4",
         "y": [
          0.9983603073310995,
          2.3909052596258684,
          1.4743589684654532
         ],
         "yaxis": "y4"
        },
        {
         "hovertemplate": "file=500mb_xml<br>standard=lz4<br>chunk_size=%{x}<br>decompression_utilization=%{y}<extra></extra>",
         "legendgroup": "500mb_xml",
         "line": {
          "color": "#FF6692",
          "dash": "solid"
         },
         "marker": {
          "symbol": "circle"
         },
         "mode": "lines+markers",
         "name": "500mb_xml",
         "orientation": "v",
         "showlegend": false,
         "type": "scatter",
         "x": [
          65536000,
          16384000,
          4096000,
          1024000,
          256000,
          64000,
          16000,
          4000
         ],
         "xaxis": "x3",
         "y": [
          1,
          1,
          1,
          1,
          1,
          1,
          2.6666584663011523,
          3
         ],
         "yaxis": "y3"
        },
        {
         "hovertemplate": "file=500mb_xml<br>standard=bitcomp<br>chunk_size=%{x}<br>decompression_utilization=%{y}<extra></extra>",
         "legendgroup": "500mb_xml",
         "line": {
          "color": "#FF6692",
          "dash": "solid"
         },
         "marker": {
          "symbol": "circle"
         },
         "mode": "lines+markers",
         "name": "500mb_xml",
         "orientation": "v",
         "showlegend": false,
         "type": "scatter",
         "x": [
          65536000,
          16384000,
          4096000,
          1024000,
          256000,
          64000,
          16000,
          4000
         ],
         "xaxis": "x2",
         "y": [
          0.9989437410998864,
          0.9989437018782537,
          0.9985885913529687,
          0.9949271431149123,
          1.6018594411758766,
          2.8458171826239957,
          1.2719663799293246,
          -1
         ],
         "yaxis": "y2"
        },
        {
         "hovertemplate": "file=500mb_xml<br>standard=cascaded<br>chunk_size=%{x}<br>decompression_utilization=%{y}<extra></extra>",
         "legendgroup": "500mb_xml",
         "line": {
          "color": "#FF6692",
          "dash": "solid"
         },
         "marker": {
          "symbol": "circle"
         },
         "mode": "lines+markers",
         "name": "500mb_xml",
         "orientation": "v",
         "showlegend": false,
         "type": "scatter",
         "x": [
          65536000,
          16384000,
          4096000,
          1024000,
          256000,
          64000,
          16000,
          4000
         ],
         "xaxis": "x",
         "y": [
          0.9944645964904675,
          0.9944603686261724,
          0.9910439116628742,
          0.9854373326291044,
          0.9853092550415801,
          0.8932170979475383,
          -0.10205220481049565,
          -0.003842907037671567
         ],
         "yaxis": "y"
        }
       ],
       "layout": {
        "annotations": [
         {
          "font": {},
          "showarrow": false,
          "text": "standard=cascaded",
          "textangle": 90,
          "x": 0.98,
          "xanchor": "left",
          "xref": "paper",
          "y": 0.07083333333333333,
          "yanchor": "middle",
          "yref": "paper"
         },
         {
          "font": {},
          "showarrow": false,
          "text": "standard=bitcomp",
          "textangle": 90,
          "x": 0.98,
          "xanchor": "left",
          "xref": "paper",
          "y": 0.2425,
          "yanchor": "middle",
          "yref": "paper"
         },
         {
          "font": {},
          "showarrow": false,
          "text": "standard=lz4",
          "textangle": 90,
          "x": 0.98,
          "xanchor": "left",
          "xref": "paper",
          "y": 0.4141666666666667,
          "yanchor": "middle",
          "yref": "paper"
         },
         {
          "font": {},
          "showarrow": false,
          "text": "standard=gdeflate",
          "textangle": 90,
          "x": 0.98,
          "xanchor": "left",
          "xref": "paper",
          "y": 0.5858333333333334,
          "yanchor": "middle",
          "yref": "paper"
         },
         {
          "font": {},
          "showarrow": false,
          "text": "standard=zstd",
          "textangle": 90,
          "x": 0.98,
          "xanchor": "left",
          "xref": "paper",
          "y": 0.7575000000000001,
          "yanchor": "middle",
          "yref": "paper"
         },
         {
          "font": {},
          "showarrow": false,
          "text": "standard=snappy",
          "textangle": 90,
          "x": 0.98,
          "xanchor": "left",
          "xref": "paper",
          "y": 0.9291666666666667,
          "yanchor": "middle",
          "yref": "paper"
         }
        ],
        "height": 1000,
        "legend": {
         "title": {
          "text": "file"
         },
         "tracegroupgap": 0
        },
        "template": {
         "data": {
          "bar": [
           {
            "error_x": {
             "color": "#2a3f5f"
            },
            "error_y": {
             "color": "#2a3f5f"
            },
            "marker": {
             "line": {
              "color": "#E5ECF6",
              "width": 0.5
             },
             "pattern": {
              "fillmode": "overlay",
              "size": 10,
              "solidity": 0.2
             }
            },
            "type": "bar"
           }
          ],
          "barpolar": [
           {
            "marker": {
             "line": {
              "color": "#E5ECF6",
              "width": 0.5
             },
             "pattern": {
              "fillmode": "overlay",
              "size": 10,
              "solidity": 0.2
             }
            },
            "type": "barpolar"
           }
          ],
          "carpet": [
           {
            "aaxis": {
             "endlinecolor": "#2a3f5f",
             "gridcolor": "white",
             "linecolor": "white",
             "minorgridcolor": "white",
             "startlinecolor": "#2a3f5f"
            },
            "baxis": {
             "endlinecolor": "#2a3f5f",
             "gridcolor": "white",
             "linecolor": "white",
             "minorgridcolor": "white",
             "startlinecolor": "#2a3f5f"
            },
            "type": "carpet"
           }
          ],
          "choropleth": [
           {
            "colorbar": {
             "outlinewidth": 0,
             "ticks": ""
            },
            "type": "choropleth"
           }
          ],
          "contour": [
           {
            "colorbar": {
             "outlinewidth": 0,
             "ticks": ""
            },
            "colorscale": [
             [
              0,
              "#0d0887"
             ],
             [
              0.1111111111111111,
              "#46039f"
             ],
             [
              0.2222222222222222,
              "#7201a8"
             ],
             [
              0.3333333333333333,
              "#9c179e"
             ],
             [
              0.4444444444444444,
              "#bd3786"
             ],
             [
              0.5555555555555556,
              "#d8576b"
             ],
             [
              0.6666666666666666,
              "#ed7953"
             ],
             [
              0.7777777777777778,
              "#fb9f3a"
             ],
             [
              0.8888888888888888,
              "#fdca26"
             ],
             [
              1,
              "#f0f921"
             ]
            ],
            "type": "contour"
           }
          ],
          "contourcarpet": [
           {
            "colorbar": {
             "outlinewidth": 0,
             "ticks": ""
            },
            "type": "contourcarpet"
           }
          ],
          "heatmap": [
           {
            "colorbar": {
             "outlinewidth": 0,
             "ticks": ""
            },
            "colorscale": [
             [
              0,
              "#0d0887"
             ],
             [
              0.1111111111111111,
              "#46039f"
             ],
             [
              0.2222222222222222,
              "#7201a8"
             ],
             [
              0.3333333333333333,
              "#9c179e"
             ],
             [
              0.4444444444444444,
              "#bd3786"
             ],
             [
              0.5555555555555556,
              "#d8576b"
             ],
             [
              0.6666666666666666,
              "#ed7953"
             ],
             [
              0.7777777777777778,
              "#fb9f3a"
             ],
             [
              0.8888888888888888,
              "#fdca26"
             ],
             [
              1,
              "#f0f921"
             ]
            ],
            "type": "heatmap"
           }
          ],
          "heatmapgl": [
           {
            "colorbar": {
             "outlinewidth": 0,
             "ticks": ""
            },
            "colorscale": [
             [
              0,
              "#0d0887"
             ],
             [
              0.1111111111111111,
              "#46039f"
             ],
             [
              0.2222222222222222,
              "#7201a8"
             ],
             [
              0.3333333333333333,
              "#9c179e"
             ],
             [
              0.4444444444444444,
              "#bd3786"
             ],
             [
              0.5555555555555556,
              "#d8576b"
             ],
             [
              0.6666666666666666,
              "#ed7953"
             ],
             [
              0.7777777777777778,
              "#fb9f3a"
             ],
             [
              0.8888888888888888,
              "#fdca26"
             ],
             [
              1,
              "#f0f921"
             ]
            ],
            "type": "heatmapgl"
           }
          ],
          "histogram": [
           {
            "marker": {
             "pattern": {
              "fillmode": "overlay",
              "size": 10,
              "solidity": 0.2
             }
            },
            "type": "histogram"
           }
          ],
          "histogram2d": [
           {
            "colorbar": {
             "outlinewidth": 0,
             "ticks": ""
            },
            "colorscale": [
             [
              0,
              "#0d0887"
             ],
             [
              0.1111111111111111,
              "#46039f"
             ],
             [
              0.2222222222222222,
              "#7201a8"
             ],
             [
              0.3333333333333333,
              "#9c179e"
             ],
             [
              0.4444444444444444,
              "#bd3786"
             ],
             [
              0.5555555555555556,
              "#d8576b"
             ],
             [
              0.6666666666666666,
              "#ed7953"
             ],
             [
              0.7777777777777778,
              "#fb9f3a"
             ],
             [
              0.8888888888888888,
              "#fdca26"
             ],
             [
              1,
              "#f0f921"
             ]
            ],
            "type": "histogram2d"
           }
          ],
          "histogram2dcontour": [
           {
            "colorbar": {
             "outlinewidth": 0,
             "ticks": ""
            },
            "colorscale": [
             [
              0,
              "#0d0887"
             ],
             [
              0.1111111111111111,
              "#46039f"
             ],
             [
              0.2222222222222222,
              "#7201a8"
             ],
             [
              0.3333333333333333,
              "#9c179e"
             ],
             [
              0.4444444444444444,
              "#bd3786"
             ],
             [
              0.5555555555555556,
              "#d8576b"
             ],
             [
              0.6666666666666666,
              "#ed7953"
             ],
             [
              0.7777777777777778,
              "#fb9f3a"
             ],
             [
              0.8888888888888888,
              "#fdca26"
             ],
             [
              1,
              "#f0f921"
             ]
            ],
            "type": "histogram2dcontour"
           }
          ],
          "mesh3d": [
           {
            "colorbar": {
             "outlinewidth": 0,
             "ticks": ""
            },
            "type": "mesh3d"
           }
          ],
          "parcoords": [
           {
            "line": {
             "colorbar": {
              "outlinewidth": 0,
              "ticks": ""
             }
            },
            "type": "parcoords"
           }
          ],
          "pie": [
           {
            "automargin": true,
            "type": "pie"
           }
          ],
          "scatter": [
           {
            "fillpattern": {
             "fillmode": "overlay",
             "size": 10,
             "solidity": 0.2
            },
            "type": "scatter"
           }
          ],
          "scatter3d": [
           {
            "line": {
             "colorbar": {
              "outlinewidth": 0,
              "ticks": ""
             }
            },
            "marker": {
             "colorbar": {
              "outlinewidth": 0,
              "ticks": ""
             }
            },
            "type": "scatter3d"
           }
          ],
          "scattercarpet": [
           {
            "marker": {
             "colorbar": {
              "outlinewidth": 0,
              "ticks": ""
             }
            },
            "type": "scattercarpet"
           }
          ],
          "scattergeo": [
           {
            "marker": {
             "colorbar": {
              "outlinewidth": 0,
              "ticks": ""
             }
            },
            "type": "scattergeo"
           }
          ],
          "scattergl": [
           {
            "marker": {
             "colorbar": {
              "outlinewidth": 0,
              "ticks": ""
             }
            },
            "type": "scattergl"
           }
          ],
          "scattermapbox": [
           {
            "marker": {
             "colorbar": {
              "outlinewidth": 0,
              "ticks": ""
             }
            },
            "type": "scattermapbox"
           }
          ],
          "scatterpolar": [
           {
            "marker": {
             "colorbar": {
              "outlinewidth": 0,
              "ticks": ""
             }
            },
            "type": "scatterpolar"
           }
          ],
          "scatterpolargl": [
           {
            "marker": {
             "colorbar": {
              "outlinewidth": 0,
              "ticks": ""
             }
            },
            "type": "scatterpolargl"
           }
          ],
          "scatterternary": [
           {
            "marker": {
             "colorbar": {
              "outlinewidth": 0,
              "ticks": ""
             }
            },
            "type": "scatterternary"
           }
          ],
          "surface": [
           {
            "colorbar": {
             "outlinewidth": 0,
             "ticks": ""
            },
            "colorscale": [
             [
              0,
              "#0d0887"
             ],
             [
              0.1111111111111111,
              "#46039f"
             ],
             [
              0.2222222222222222,
              "#7201a8"
             ],
             [
              0.3333333333333333,
              "#9c179e"
             ],
             [
              0.4444444444444444,
              "#bd3786"
             ],
             [
              0.5555555555555556,
              "#d8576b"
             ],
             [
              0.6666666666666666,
              "#ed7953"
             ],
             [
              0.7777777777777778,
              "#fb9f3a"
             ],
             [
              0.8888888888888888,
              "#fdca26"
             ],
             [
              1,
              "#f0f921"
             ]
            ],
            "type": "surface"
           }
          ],
          "table": [
           {
            "cells": {
             "fill": {
              "color": "#EBF0F8"
             },
             "line": {
              "color": "white"
             }
            },
            "header": {
             "fill": {
              "color": "#C8D4E3"
             },
             "line": {
              "color": "white"
             }
            },
            "type": "table"
           }
          ]
         },
         "layout": {
          "annotationdefaults": {
           "arrowcolor": "#2a3f5f",
           "arrowhead": 0,
           "arrowwidth": 1
          },
          "autotypenumbers": "strict",
          "coloraxis": {
           "colorbar": {
            "outlinewidth": 0,
            "ticks": ""
           }
          },
          "colorscale": {
           "diverging": [
            [
             0,
             "#8e0152"
            ],
            [
             0.1,
             "#c51b7d"
            ],
            [
             0.2,
             "#de77ae"
            ],
            [
             0.3,
             "#f1b6da"
            ],
            [
             0.4,
             "#fde0ef"
            ],
            [
             0.5,
             "#f7f7f7"
            ],
            [
             0.6,
             "#e6f5d0"
            ],
            [
             0.7,
             "#b8e186"
            ],
            [
             0.8,
             "#7fbc41"
            ],
            [
             0.9,
             "#4d9221"
            ],
            [
             1,
             "#276419"
            ]
           ],
           "sequential": [
            [
             0,
             "#0d0887"
            ],
            [
             0.1111111111111111,
             "#46039f"
            ],
            [
             0.2222222222222222,
             "#7201a8"
            ],
            [
             0.3333333333333333,
             "#9c179e"
            ],
            [
             0.4444444444444444,
             "#bd3786"
            ],
            [
             0.5555555555555556,
             "#d8576b"
            ],
            [
             0.6666666666666666,
             "#ed7953"
            ],
            [
             0.7777777777777778,
             "#fb9f3a"
            ],
            [
             0.8888888888888888,
             "#fdca26"
            ],
            [
             1,
             "#f0f921"
            ]
           ],
           "sequentialminus": [
            [
             0,
             "#0d0887"
            ],
            [
             0.1111111111111111,
             "#46039f"
            ],
            [
             0.2222222222222222,
             "#7201a8"
            ],
            [
             0.3333333333333333,
             "#9c179e"
            ],
            [
             0.4444444444444444,
             "#bd3786"
            ],
            [
             0.5555555555555556,
             "#d8576b"
            ],
            [
             0.6666666666666666,
             "#ed7953"
            ],
            [
             0.7777777777777778,
             "#fb9f3a"
            ],
            [
             0.8888888888888888,
             "#fdca26"
            ],
            [
             1,
             "#f0f921"
            ]
           ]
          },
          "colorway": [
           "#636efa",
           "#EF553B",
           "#00cc96",
           "#ab63fa",
           "#FFA15A",
           "#19d3f3",
           "#FF6692",
           "#B6E880",
           "#FF97FF",
           "#FECB52"
          ],
          "font": {
           "color": "#2a3f5f"
          },
          "geo": {
           "bgcolor": "white",
           "lakecolor": "white",
           "landcolor": "#E5ECF6",
           "showlakes": true,
           "showland": true,
           "subunitcolor": "white"
          },
          "hoverlabel": {
           "align": "left"
          },
          "hovermode": "closest",
          "mapbox": {
           "style": "light"
          },
          "paper_bgcolor": "white",
          "plot_bgcolor": "#E5ECF6",
          "polar": {
           "angularaxis": {
            "gridcolor": "white",
            "linecolor": "white",
            "ticks": ""
           },
           "bgcolor": "#E5ECF6",
           "radialaxis": {
            "gridcolor": "white",
            "linecolor": "white",
            "ticks": ""
           }
          },
          "scene": {
           "xaxis": {
            "backgroundcolor": "#E5ECF6",
            "gridcolor": "white",
            "gridwidth": 2,
            "linecolor": "white",
            "showbackground": true,
            "ticks": "",
            "zerolinecolor": "white"
           },
           "yaxis": {
            "backgroundcolor": "#E5ECF6",
            "gridcolor": "white",
            "gridwidth": 2,
            "linecolor": "white",
            "showbackground": true,
            "ticks": "",
            "zerolinecolor": "white"
           },
           "zaxis": {
            "backgroundcolor": "#E5ECF6",
            "gridcolor": "white",
            "gridwidth": 2,
            "linecolor": "white",
            "showbackground": true,
            "ticks": "",
            "zerolinecolor": "white"
           }
          },
          "shapedefaults": {
           "line": {
            "color": "#2a3f5f"
           }
          },
          "ternary": {
           "aaxis": {
            "gridcolor": "white",
            "linecolor": "white",
            "ticks": ""
           },
           "baxis": {
            "gridcolor": "white",
            "linecolor": "white",
            "ticks": ""
           },
           "bgcolor": "#E5ECF6",
           "caxis": {
            "gridcolor": "white",
            "linecolor": "white",
            "ticks": ""
           }
          },
          "title": {
           "x": 0.05
          },
          "xaxis": {
           "automargin": true,
           "gridcolor": "white",
           "linecolor": "white",
           "ticks": "",
           "title": {
            "standoff": 15
           },
           "zerolinecolor": "white",
           "zerolinewidth": 2
          },
          "yaxis": {
           "automargin": true,
           "gridcolor": "white",
           "linecolor": "white",
           "ticks": "",
           "title": {
            "standoff": 15
           },
           "zerolinecolor": "white",
           "zerolinewidth": 2
          }
         }
        },
        "title": {
         "text": "GPU utilization per decompressor at different chunk sizes"
        },
        "width": 800,
        "xaxis": {
         "anchor": "y",
         "domain": [
          0,
          0.98
         ],
         "title": {
          "text": "chunk_size"
         },
         "type": "log"
        },
        "xaxis2": {
         "anchor": "y2",
         "domain": [
          0,
          0.98
         ],
         "matches": "x",
         "showticklabels": false,
         "type": "log"
        },
        "xaxis3": {
         "anchor": "y3",
         "domain": [
          0,
          0.98
         ],
         "matches": "x",
         "showticklabels": false,
         "type": "log"
        },
        "xaxis4": {
         "anchor": "y4",
         "domain": [
          0,
          0.98
         ],
         "matches": "x",
         "showticklabels": false,
         "type": "log"
        },
        "xaxis5": {
         "anchor": "y5",
         "domain": [
          0,
          0.98
         ],
         "matches": "x",
         "showticklabels": false,
         "type": "log"
        },
        "xaxis6": {
         "anchor": "y6",
         "domain": [
          0,
          0.98
         ],
         "matches": "x",
         "showticklabels": false,
         "type": "log"
        },
        "yaxis": {
         "anchor": "x",
         "domain": [
          0,
          0.14166666666666666
         ],
         "title": {
          "text": "decompression_utilization"
         }
        },
        "yaxis2": {
         "anchor": "x2",
         "domain": [
          0.17166666666666666,
          0.31333333333333335
         ],
         "matches": "y",
         "title": {
          "text": "decompression_utilization"
         }
        },
        "yaxis3": {
         "anchor": "x3",
         "domain": [
          0.3433333333333333,
          0.485
         ],
         "matches": "y",
         "title": {
          "text": "decompression_utilization"
         }
        },
        "yaxis4": {
         "anchor": "x4",
         "domain": [
          0.515,
          0.6566666666666667
         ],
         "matches": "y",
         "title": {
          "text": "decompression_utilization"
         }
        },
        "yaxis5": {
         "anchor": "x5",
         "domain": [
          0.6866666666666666,
          0.8283333333333334
         ],
         "matches": "y",
         "title": {
          "text": "decompression_utilization"
         }
        },
        "yaxis6": {
         "anchor": "x6",
         "domain": [
          0.8583333333333333,
          1
         ],
         "matches": "y",
         "title": {
          "text": "decompression_utilization"
         }
        }
       }
      }
     },
     "metadata": {},
     "output_type": "display_data"
    }
   ],
   "source": [
    "fig_utilization_standard = px.line(\n",
    "    result_df,\n",
    "    title=f\"GPU utilization per decompressor at different chunk sizes\", \n",
    "    x=\"chunk_size\",\n",
    "    y=\"decompression_utilization\",\n",
    "    color=\"file\",\n",
    "    log_x=True,\n",
    "    markers=True,\n",
    "    #log_y=True,\n",
    "    facet_row=\"standard\",\n",
    "    # facet_col_spacing=0.05,\n",
    "    height=1000,\n",
    "    width=800,\n",
    ")\n",
    "# fig_utilization_standard.update_xaxes(autorange=\"reversed\")\n",
    "\n",
    "\n",
    "fig_utilization_standard.show()"
   ]
  },
  {
   "cell_type": "code",
   "execution_count": 5,
   "metadata": {},
   "outputs": [
    {
     "data": {
      "application/vnd.plotly.v1+json": {
       "config": {
        "plotlyServerURL": "https://plot.ly"
       },
       "data": [
        {
         "hovertemplate": "standard=snappy<br>file=500mb_dickens<br>chunk_size=%{x}<br>compression_utilization=%{y}<extra></extra>",
         "legendgroup": "snappy",
         "line": {
          "color": "#636efa",
          "dash": "solid"
         },
         "marker": {
          "symbol": "circle"
         },
         "mode": "lines+markers",
         "name": "snappy",
         "orientation": "v",
         "showlegend": true,
         "type": "scatter",
         "x": [
          65536000,
          16384000,
          4096000,
          1024000,
          256000,
          64000,
          16000,
          4000
         ],
         "xaxis": "x7",
         "y": [
          1,
          1,
          1,
          1,
          1,
          4.6598186471508445,
          16.446449571398187,
          30.534915522398933
         ],
         "yaxis": "y7"
        },
        {
         "hovertemplate": "standard=snappy<br>file=500mb_mozilla<br>chunk_size=%{x}<br>compression_utilization=%{y}<extra></extra>",
         "legendgroup": "snappy",
         "line": {
          "color": "#636efa",
          "dash": "solid"
         },
         "marker": {
          "symbol": "circle"
         },
         "mode": "lines+markers",
         "name": "snappy",
         "orientation": "v",
         "showlegend": false,
         "type": "scatter",
         "x": [
          65536000,
          16384000,
          4096000,
          1024000,
          256000,
          64000,
          16000,
          4000
         ],
         "xaxis": "x6",
         "y": [
          1,
          1,
          1,
          1,
          4.436938175194589,
          14.316787493659454,
          33.86113402463239,
          46.06102081919859
         ],
         "yaxis": "y6"
        },
        {
         "hovertemplate": "standard=snappy<br>file=500mb_mr<br>chunk_size=%{x}<br>compression_utilization=%{y}<extra></extra>",
         "legendgroup": "snappy",
         "line": {
          "color": "#636efa",
          "dash": "solid"
         },
         "marker": {
          "symbol": "circle"
         },
         "mode": "lines+markers",
         "name": "snappy",
         "orientation": "v",
         "showlegend": false,
         "type": "scatter",
         "x": [
          65536000,
          16384000,
          4096000,
          1024000,
          256000,
          64000,
          16000,
          4000
         ],
         "xaxis": "x5",
         "y": [
          1,
          1,
          1,
          1,
          1,
          3.1037206095832044,
          10.017642608476512,
          22.76287605459644
         ],
         "yaxis": "y5"
        },
        {
         "hovertemplate": "standard=snappy<br>file=500mb_nci<br>chunk_size=%{x}<br>compression_utilization=%{y}<extra></extra>",
         "legendgroup": "snappy",
         "line": {
          "color": "#636efa",
          "dash": "solid"
         },
         "marker": {
          "symbol": "circle"
         },
         "mode": "lines+markers",
         "name": "snappy",
         "orientation": "v",
         "showlegend": false,
         "type": "scatter",
         "x": [
          65536000,
          16384000,
          4096000,
          1024000,
          256000,
          64000,
          16000,
          4000
         ],
         "xaxis": "x4",
         "y": [
          1,
          1,
          1,
          1,
          3.4466967147029184,
          12.515984448412889,
          27.956721538188873,
          43.918438718165774
         ],
         "yaxis": "y4"
        },
        {
         "hovertemplate": "standard=snappy<br>file=500mb_samba<br>chunk_size=%{x}<br>compression_utilization=%{y}<extra></extra>",
         "legendgroup": "snappy",
         "line": {
          "color": "#636efa",
          "dash": "solid"
         },
         "marker": {
          "symbol": "circle"
         },
         "mode": "lines+markers",
         "name": "snappy",
         "orientation": "v",
         "showlegend": false,
         "type": "scatter",
         "x": [
          65536000,
          16384000,
          4096000,
          1024000,
          256000,
          64000,
          16000,
          4000
         ],
         "xaxis": "x3",
         "y": [
          1,
          1,
          1,
          0,
          1.6547782442868657,
          6.014560597522518,
          22.47955851119432,
          35.59990713432648
         ],
         "yaxis": "y3"
        },
        {
         "hovertemplate": "standard=snappy<br>file=500mb_sao<br>chunk_size=%{x}<br>compression_utilization=%{y}<extra></extra>",
         "legendgroup": "snappy",
         "line": {
          "color": "#636efa",
          "dash": "solid"
         },
         "marker": {
          "symbol": "circle"
         },
         "mode": "lines+markers",
         "name": "snappy",
         "orientation": "v",
         "showlegend": false,
         "type": "scatter",
         "x": [
          65536000,
          16384000,
          4096000,
          1024000,
          256000,
          64000,
          16000,
          4000
         ],
         "xaxis": "x2",
         "y": [
          1,
          1,
          0,
          1,
          1,
          2.804866870958864,
          11.26667401125384,
          31.961485084372697
         ],
         "yaxis": "y2"
        },
        {
         "hovertemplate": "standard=snappy<br>file=500mb_xml<br>chunk_size=%{x}<br>compression_utilization=%{y}<extra></extra>",
         "legendgroup": "snappy",
         "line": {
          "color": "#636efa",
          "dash": "solid"
         },
         "marker": {
          "symbol": "circle"
         },
         "mode": "lines+markers",
         "name": "snappy",
         "orientation": "v",
         "showlegend": false,
         "type": "scatter",
         "x": [
          65536000,
          16384000,
          4096000,
          1024000,
          256000,
          64000,
          16000,
          4000
         ],
         "xaxis": "x",
         "y": [
          1,
          1,
          1,
          1,
          1,
          1.509741777967769,
          6.194459429164002,
          16.75605765291742
         ],
         "yaxis": "y"
        },
        {
         "hovertemplate": "standard=zstd<br>file=500mb_dickens<br>chunk_size=%{x}<br>compression_utilization=%{y}<extra></extra>",
         "legendgroup": "zstd",
         "line": {
          "color": "#EF553B",
          "dash": "solid"
         },
         "marker": {
          "symbol": "circle"
         },
         "mode": "lines+markers",
         "name": "zstd",
         "orientation": "v",
         "showlegend": true,
         "type": "scatter",
         "x": [
          65536000,
          16384000,
          4096000,
          1024000,
          256000,
          64000,
          16000,
          4000
         ],
         "xaxis": "x7",
         "y": [
          0.9999985991308262,
          0.999998687185812,
          0.9999608183726257,
          0.9999186947109855,
          0.9998750248338928,
          1.956758141039657,
          7.981332503494909,
          26.831776814488247
         ],
         "yaxis": "y7"
        },
        {
         "hovertemplate": "standard=zstd<br>file=500mb_mozilla<br>chunk_size=%{x}<br>compression_utilization=%{y}<extra></extra>",
         "legendgroup": "zstd",
         "line": {
          "color": "#EF553B",
          "dash": "solid"
         },
         "marker": {
          "symbol": "circle"
         },
         "mode": "lines+markers",
         "name": "zstd",
         "orientation": "v",
         "showlegend": false,
         "type": "scatter",
         "x": [
          16384000,
          4096000,
          1024000,
          256000,
          64000,
          16000,
          4000
         ],
         "xaxis": "x6",
         "y": [
          0.9999984003041409,
          0.9999949597883725,
          0.999854241430901,
          2.6270224770205015,
          7.486602533864689,
          29.06627598784578,
          37.81764945867545
         ],
         "yaxis": "y6"
        },
        {
         "hovertemplate": "standard=zstd<br>file=500mb_mr<br>chunk_size=%{x}<br>compression_utilization=%{y}<extra></extra>",
         "legendgroup": "zstd",
         "line": {
          "color": "#EF553B",
          "dash": "solid"
         },
         "marker": {
          "symbol": "circle"
         },
         "mode": "lines+markers",
         "name": "zstd",
         "orientation": "v",
         "showlegend": false,
         "type": "scatter",
         "x": [
          65536000,
          16384000,
          4096000,
          1024000,
          256000,
          64000,
          16000,
          4000
         ],
         "xaxis": "x5",
         "y": [
          0.9999979973352697,
          0.9999980938380416,
          0.9999266121513184,
          0.9998855125974547,
          0.9998356029431197,
          1.7563674689597883,
          6.044939473169997,
          21.4952770320414
         ],
         "yaxis": "y5"
        },
        {
         "hovertemplate": "standard=zstd<br>file=500mb_nci<br>chunk_size=%{x}<br>compression_utilization=%{y}<extra></extra>",
         "legendgroup": "zstd",
         "line": {
          "color": "#EF553B",
          "dash": "solid"
         },
         "marker": {
          "symbol": "circle"
         },
         "mode": "lines+markers",
         "name": "zstd",
         "orientation": "v",
         "showlegend": false,
         "type": "scatter",
         "x": [
          16384000,
          4096000,
          1024000,
          256000,
          64000,
          16000,
          4000
         ],
         "xaxis": "x4",
         "y": [
          0.999996512290819,
          0.9998571560876065,
          0.9997171415069013,
          1.9854430002890255,
          6.431861139998399,
          22.4605692027422,
          35.35280218085396
         ],
         "yaxis": "y4"
        },
        {
         "hovertemplate": "standard=zstd<br>file=500mb_samba<br>chunk_size=%{x}<br>compression_utilization=%{y}<extra></extra>",
         "legendgroup": "zstd",
         "line": {
          "color": "#EF553B",
          "dash": "solid"
         },
         "marker": {
          "symbol": "circle"
         },
         "mode": "lines+markers",
         "name": "zstd",
         "orientation": "v",
         "showlegend": false,
         "type": "scatter",
         "x": [
          16384000,
          4096000,
          1024000,
          256000,
          64000,
          16000,
          4000
         ],
         "xaxis": "x3",
         "y": [
          0.9999035143218495,
          0.999910647885466,
          0.9998315810410593,
          -0.00009291213241567368,
          -0.00030138199921745377,
          11.078536464621344,
          31.93170550697696
         ],
         "yaxis": "y3"
        },
        {
         "hovertemplate": "standard=zstd<br>file=500mb_sao<br>chunk_size=%{x}<br>compression_utilization=%{y}<extra></extra>",
         "legendgroup": "zstd",
         "line": {
          "color": "#EF553B",
          "dash": "solid"
         },
         "marker": {
          "symbol": "circle"
         },
         "mode": "lines+markers",
         "name": "zstd",
         "orientation": "v",
         "showlegend": false,
         "type": "scatter",
         "x": [
          65536000,
          16384000,
          4096000,
          1024000,
          256000,
          64000,
          16000,
          4000
         ],
         "xaxis": "x2",
         "y": [
          0.999947439964848,
          0.9999480900697656,
          0.9999480469818336,
          0.9998770584386756,
          0.9998450515864613,
          1.9114454663519815,
          6.196839162017241,
          19.542296868565323
         ],
         "yaxis": "y2"
        },
        {
         "hovertemplate": "standard=zstd<br>file=500mb_xml<br>chunk_size=%{x}<br>compression_utilization=%{y}<extra></extra>",
         "legendgroup": "zstd",
         "line": {
          "color": "#EF553B",
          "dash": "solid"
         },
         "marker": {
          "symbol": "circle"
         },
         "mode": "lines+markers",
         "name": "zstd",
         "orientation": "v",
         "showlegend": false,
         "type": "scatter",
         "x": [
          65536000,
          16384000,
          4096000,
          1024000,
          256000,
          64000,
          16000,
          4000
         ],
         "xaxis": "x",
         "y": [
          0.9999015708721074,
          0.9999940597646622,
          0.9998628542581425,
          0.9998718027921422,
          0.9998583168313806,
          -0.00028461669697920863,
          3.0463155257655457,
          10.448295657559921
         ],
         "yaxis": "y"
        },
        {
         "hovertemplate": "standard=gdeflate<br>file=500mb_dickens<br>chunk_size=%{x}<br>compression_utilization=%{y}<extra></extra>",
         "legendgroup": "gdeflate",
         "line": {
          "color": "#00cc96",
          "dash": "solid"
         },
         "marker": {
          "symbol": "circle"
         },
         "mode": "lines+markers",
         "name": "gdeflate",
         "orientation": "v",
         "showlegend": true,
         "type": "scatter",
         "x": [
          64000,
          16000,
          4000
         ],
         "xaxis": "x7",
         "y": [
          1.94371492002935,
          8.258229215550884,
          27.70520607553413
         ],
         "yaxis": "y7"
        },
        {
         "hovertemplate": "standard=gdeflate<br>file=500mb_mozilla<br>chunk_size=%{x}<br>compression_utilization=%{y}<extra></extra>",
         "legendgroup": "gdeflate",
         "line": {
          "color": "#00cc96",
          "dash": "solid"
         },
         "marker": {
          "symbol": "circle"
         },
         "mode": "lines+markers",
         "name": "gdeflate",
         "orientation": "v",
         "showlegend": false,
         "type": "scatter",
         "x": [
          64000,
          16000,
          4000
         ],
         "xaxis": "x6",
         "y": [
          8.02129479644434,
          27.418644162446338,
          35.00260381193998
         ],
         "yaxis": "y6"
        },
        {
         "hovertemplate": "standard=gdeflate<br>file=500mb_mr<br>chunk_size=%{x}<br>compression_utilization=%{y}<extra></extra>",
         "legendgroup": "gdeflate",
         "line": {
          "color": "#00cc96",
          "dash": "solid"
         },
         "marker": {
          "symbol": "circle"
         },
         "mode": "lines+markers",
         "name": "gdeflate",
         "orientation": "v",
         "showlegend": false,
         "type": "scatter",
         "x": [
          64000,
          16000,
          4000
         ],
         "xaxis": "x5",
         "y": [
          1.6871518405018615,
          5.987532238537973,
          18.302743349060158
         ],
         "yaxis": "y5"
        },
        {
         "hovertemplate": "standard=gdeflate<br>file=500mb_nci<br>chunk_size=%{x}<br>compression_utilization=%{y}<extra></extra>",
         "legendgroup": "gdeflate",
         "line": {
          "color": "#00cc96",
          "dash": "solid"
         },
         "marker": {
          "symbol": "circle"
         },
         "mode": "lines+markers",
         "name": "gdeflate",
         "orientation": "v",
         "showlegend": false,
         "type": "scatter",
         "x": [
          64000,
          16000,
          4000
         ],
         "xaxis": "x4",
         "y": [
          6.051262246278654,
          20.071469520013693,
          32.44927664558077
         ],
         "yaxis": "y4"
        },
        {
         "hovertemplate": "standard=gdeflate<br>file=500mb_samba<br>chunk_size=%{x}<br>compression_utilization=%{y}<extra></extra>",
         "legendgroup": "gdeflate",
         "line": {
          "color": "#00cc96",
          "dash": "solid"
         },
         "marker": {
          "symbol": "circle"
         },
         "mode": "lines+markers",
         "name": "gdeflate",
         "orientation": "v",
         "showlegend": false,
         "type": "scatter",
         "x": [
          64000,
          16000,
          4000
         ],
         "xaxis": "x3",
         "y": [
          2.9001960143565606,
          11.473523349013746,
          28.594785993349014
         ],
         "yaxis": "y3"
        },
        {
         "hovertemplate": "standard=gdeflate<br>file=500mb_sao<br>chunk_size=%{x}<br>compression_utilization=%{y}<extra></extra>",
         "legendgroup": "gdeflate",
         "line": {
          "color": "#00cc96",
          "dash": "solid"
         },
         "marker": {
          "symbol": "circle"
         },
         "mode": "lines+markers",
         "name": "gdeflate",
         "orientation": "v",
         "showlegend": false,
         "type": "scatter",
         "x": [
          64000,
          16000,
          4000
         ],
         "xaxis": "x2",
         "y": [
          1.8968631716961668,
          6.039584514853795,
          16.995435509655195
         ],
         "yaxis": "y2"
        },
        {
         "hovertemplate": "standard=gdeflate<br>file=500mb_xml<br>chunk_size=%{x}<br>compression_utilization=%{y}<extra></extra>",
         "legendgroup": "gdeflate",
         "line": {
          "color": "#00cc96",
          "dash": "solid"
         },
         "marker": {
          "symbol": "circle"
         },
         "mode": "lines+markers",
         "name": "gdeflate",
         "orientation": "v",
         "showlegend": false,
         "type": "scatter",
         "x": [
          64000,
          16000,
          4000
         ],
         "xaxis": "x",
         "y": [
          0.9996267238584122,
          2.7190349620721204,
          9.873183505449308
         ],
         "yaxis": "y"
        },
        {
         "hovertemplate": "standard=lz4<br>file=500mb_dickens<br>chunk_size=%{x}<br>compression_utilization=%{y}<extra></extra>",
         "legendgroup": "lz4",
         "line": {
          "color": "#ab63fa",
          "dash": "solid"
         },
         "marker": {
          "symbol": "circle"
         },
         "mode": "lines+markers",
         "name": "lz4",
         "orientation": "v",
         "showlegend": true,
         "type": "scatter",
         "x": [
          65536000,
          16384000,
          4096000,
          1024000,
          256000,
          64000,
          16000,
          4000
         ],
         "xaxis": "x7",
         "y": [
          1,
          1,
          1,
          0,
          1,
          1.9465647720528378,
          8.2960258766621,
          29.940143411690904
         ],
         "yaxis": "y7"
        },
        {
         "hovertemplate": "standard=lz4<br>file=500mb_mozilla<br>chunk_size=%{x}<br>compression_utilization=%{y}<extra></extra>",
         "legendgroup": "lz4",
         "line": {
          "color": "#ab63fa",
          "dash": "solid"
         },
         "marker": {
          "symbol": "circle"
         },
         "mode": "lines+markers",
         "name": "lz4",
         "orientation": "v",
         "showlegend": false,
         "type": "scatter",
         "x": [
          16384000,
          4096000,
          1024000,
          256000,
          64000,
          16000,
          4000
         ],
         "xaxis": "x6",
         "y": [
          1,
          1,
          1,
          2.503816455578181,
          8.373558071997053,
          31.73020360726347,
          40.304375466995666
         ],
         "yaxis": "y6"
        },
        {
         "hovertemplate": "standard=lz4<br>file=500mb_mr<br>chunk_size=%{x}<br>compression_utilization=%{y}<extra></extra>",
         "legendgroup": "lz4",
         "line": {
          "color": "#ab63fa",
          "dash": "solid"
         },
         "marker": {
          "symbol": "circle"
         },
         "mode": "lines+markers",
         "name": "lz4",
         "orientation": "v",
         "showlegend": false,
         "type": "scatter",
         "x": [
          65536000,
          16384000,
          4096000,
          1024000,
          256000,
          64000,
          16000,
          4000
         ],
         "xaxis": "x5",
         "y": [
          1,
          1,
          1,
          1,
          1,
          1.707309914615094,
          5.892848863910192,
          16.289461826227125
         ],
         "yaxis": "y5"
        },
        {
         "hovertemplate": "standard=lz4<br>file=500mb_nci<br>chunk_size=%{x}<br>compression_utilization=%{y}<extra></extra>",
         "legendgroup": "lz4",
         "line": {
          "color": "#ab63fa",
          "dash": "solid"
         },
         "marker": {
          "symbol": "circle"
         },
         "mode": "lines+markers",
         "name": "lz4",
         "orientation": "v",
         "showlegend": false,
         "type": "scatter",
         "x": [
          16384000,
          4096000,
          1024000,
          256000,
          64000,
          16000,
          4000
         ],
         "xaxis": "x4",
         "y": [
          1,
          1,
          0.9992937342804137,
          1.764863144171608,
          6.079562437602917,
          22.778475824828153,
          36.59927686255427
         ],
         "yaxis": "y4"
        },
        {
         "hovertemplate": "standard=lz4<br>file=500mb_samba<br>chunk_size=%{x}<br>compression_utilization=%{y}<extra></extra>",
         "legendgroup": "lz4",
         "line": {
          "color": "#ab63fa",
          "dash": "solid"
         },
         "marker": {
          "symbol": "circle"
         },
         "mode": "lines+markers",
         "name": "lz4",
         "orientation": "v",
         "showlegend": false,
         "type": "scatter",
         "x": [
          16384000,
          4096000,
          1024000,
          256000,
          64000,
          16000,
          4000
         ],
         "xaxis": "x3",
         "y": [
          1,
          1,
          1,
          1,
          3.069942259565653,
          12.379577924360959,
          28.386349273382848
         ],
         "yaxis": "y3"
        },
        {
         "hovertemplate": "standard=lz4<br>file=500mb_sao<br>chunk_size=%{x}<br>compression_utilization=%{y}<extra></extra>",
         "legendgroup": "lz4",
         "line": {
          "color": "#ab63fa",
          "dash": "solid"
         },
         "marker": {
          "symbol": "circle"
         },
         "mode": "lines+markers",
         "name": "lz4",
         "orientation": "v",
         "showlegend": false,
         "type": "scatter",
         "x": [
          65536000,
          16384000,
          4096000,
          1024000,
          256000,
          64000,
          16000,
          4000
         ],
         "xaxis": "x2",
         "y": [
          1,
          1,
          1,
          1,
          1,
          1.9108255918405779,
          6.072635141087719,
          17.828547904724708
         ],
         "yaxis": "y2"
        },
        {
         "hovertemplate": "standard=lz4<br>file=500mb_xml<br>chunk_size=%{x}<br>compression_utilization=%{y}<extra></extra>",
         "legendgroup": "lz4",
         "line": {
          "color": "#ab63fa",
          "dash": "solid"
         },
         "marker": {
          "symbol": "circle"
         },
         "mode": "lines+markers",
         "name": "lz4",
         "orientation": "v",
         "showlegend": false,
         "type": "scatter",
         "x": [
          65536000,
          16384000,
          4096000,
          1024000,
          256000,
          64000,
          16000,
          4000
         ],
         "xaxis": "x",
         "y": [
          1,
          1,
          1,
          1,
          1,
          1,
          2.95237756010009,
          9.175675600910228
         ],
         "yaxis": "y"
        },
        {
         "hovertemplate": "standard=bitcomp<br>file=500mb_dickens<br>chunk_size=%{x}<br>compression_utilization=%{y}<extra></extra>",
         "legendgroup": "bitcomp",
         "line": {
          "color": "#FFA15A",
          "dash": "solid"
         },
         "marker": {
          "symbol": "circle"
         },
         "mode": "lines+markers",
         "name": "bitcomp",
         "orientation": "v",
         "showlegend": true,
         "type": "scatter",
         "x": [
          65536000,
          16384000,
          4096000,
          1024000,
          256000,
          64000,
          16000,
          4000
         ],
         "xaxis": "x7",
         "y": [
          1,
          1,
          1,
          1,
          1.5,
          6,
          0,
          4
         ],
         "yaxis": "y7"
        },
        {
         "hovertemplate": "standard=bitcomp<br>file=500mb_mozilla<br>chunk_size=%{x}<br>compression_utilization=%{y}<extra></extra>",
         "legendgroup": "bitcomp",
         "line": {
          "color": "#FFA15A",
          "dash": "solid"
         },
         "marker": {
          "symbol": "circle"
         },
         "mode": "lines+markers",
         "name": "bitcomp",
         "orientation": "v",
         "showlegend": false,
         "type": "scatter",
         "x": [
          65536000,
          16384000,
          4096000,
          1024000,
          256000,
          64000,
          16000,
          4000
         ],
         "xaxis": "x6",
         "y": [
          1,
          1,
          1.4210597151685314,
          4.249884809401946,
          4,
          13,
          6.5,
          22.753383536578074
         ],
         "yaxis": "y6"
        },
        {
         "hovertemplate": "standard=bitcomp<br>file=500mb_mr<br>chunk_size=%{x}<br>compression_utilization=%{y}<extra></extra>",
         "legendgroup": "bitcomp",
         "line": {
          "color": "#FFA15A",
          "dash": "solid"
         },
         "marker": {
          "symbol": "circle"
         },
         "mode": "lines+markers",
         "name": "bitcomp",
         "orientation": "v",
         "showlegend": false,
         "type": "scatter",
         "x": [
          65536000,
          16384000,
          4096000,
          1024000,
          256000,
          64000,
          16000,
          4000
         ],
         "xaxis": "x5",
         "y": [
          1,
          1,
          1,
          1,
          2,
          1.5,
          -1,
          4
         ],
         "yaxis": "y5"
        },
        {
         "hovertemplate": "standard=bitcomp<br>file=500mb_nci<br>chunk_size=%{x}<br>compression_utilization=%{y}<extra></extra>",
         "legendgroup": "bitcomp",
         "line": {
          "color": "#FFA15A",
          "dash": "solid"
         },
         "marker": {
          "symbol": "circle"
         },
         "mode": "lines+markers",
         "name": "bitcomp",
         "orientation": "v",
         "showlegend": false,
         "type": "scatter",
         "x": [
          65536000,
          16384000,
          4096000,
          1024000,
          256000,
          64000,
          16000,
          4000
         ],
         "xaxis": "x4",
         "y": [
          1,
          1,
          1,
          3.3249636776779155,
          5,
          15,
          12,
          24.5
         ],
         "yaxis": "y4"
        },
        {
         "hovertemplate": "standard=bitcomp<br>file=500mb_samba<br>chunk_size=%{x}<br>compression_utilization=%{y}<extra></extra>",
         "legendgroup": "bitcomp",
         "line": {
          "color": "#FFA15A",
          "dash": "solid"
         },
         "marker": {
          "symbol": "circle"
         },
         "mode": "lines+markers",
         "name": "bitcomp",
         "orientation": "v",
         "showlegend": false,
         "type": "scatter",
         "x": [
          65536000,
          16384000,
          4096000,
          1024000,
          256000,
          64000,
          16000,
          4000
         ],
         "xaxis": "x3",
         "y": [
          1,
          0,
          1,
          1.7750314571861643,
          3,
          3,
          2,
          19
         ],
         "yaxis": "y3"
        },
        {
         "hovertemplate": "standard=bitcomp<br>file=500mb_sao<br>chunk_size=%{x}<br>compression_utilization=%{y}<extra></extra>",
         "legendgroup": "bitcomp",
         "line": {
          "color": "#FFA15A",
          "dash": "solid"
         },
         "marker": {
          "symbol": "circle"
         },
         "mode": "lines+markers",
         "name": "bitcomp",
         "orientation": "v",
         "showlegend": false,
         "type": "scatter",
         "x": [
          65536000,
          16384000,
          4096000,
          1024000,
          256000,
          64000,
          16000,
          4000
         ],
         "xaxis": "x2",
         "y": [
          1,
          1,
          1,
          1,
          1.5,
          -1,
          -1,
          4.5
         ],
         "yaxis": "y2"
        },
        {
         "hovertemplate": "standard=bitcomp<br>file=500mb_xml<br>chunk_size=%{x}<br>compression_utilization=%{y}<extra></extra>",
         "legendgroup": "bitcomp",
         "line": {
          "color": "#FFA15A",
          "dash": "solid"
         },
         "marker": {
          "symbol": "circle"
         },
         "mode": "lines+markers",
         "name": "bitcomp",
         "orientation": "v",
         "showlegend": false,
         "type": "scatter",
         "x": [
          65536000,
          16384000,
          4096000,
          1024000,
          256000,
          64000,
          16000,
          4000
         ],
         "xaxis": "x",
         "y": [
          1,
          1,
          1,
          1,
          2,
          0.5,
          -1,
          3
         ],
         "yaxis": "y"
        },
        {
         "hovertemplate": "standard=cascaded<br>file=500mb_mozilla<br>chunk_size=%{x}<br>compression_utilization=%{y}<extra></extra>",
         "legendgroup": "cascaded",
         "line": {
          "color": "#19d3f3",
          "dash": "solid"
         },
         "marker": {
          "symbol": "circle"
         },
         "mode": "lines+markers",
         "name": "cascaded",
         "orientation": "v",
         "showlegend": true,
         "type": "scatter",
         "x": [
          65536000,
          16384000,
          4096000,
          1024000,
          256000,
          64000,
          16000,
          4000
         ],
         "xaxis": "x6",
         "y": [
          1,
          1,
          1,
          2.6879286280319814,
          10.250019257483817,
          29.36979828690411,
          36.4261862726262,
          40.42605175700396
         ],
         "yaxis": "y6"
        },
        {
         "hovertemplate": "standard=cascaded<br>file=500mb_mr<br>chunk_size=%{x}<br>compression_utilization=%{y}<extra></extra>",
         "legendgroup": "cascaded",
         "line": {
          "color": "#19d3f3",
          "dash": "solid"
         },
         "marker": {
          "symbol": "circle"
         },
         "mode": "lines+markers",
         "name": "cascaded",
         "orientation": "v",
         "showlegend": false,
         "type": "scatter",
         "x": [
          65536000,
          16384000,
          4096000,
          1024000,
          256000,
          64000,
          16000,
          4000
         ],
         "xaxis": "x5",
         "y": [
          1,
          1,
          1,
          1,
          1.9230808179999264,
          6.666432618397987,
          11.5,
          9.5
         ],
         "yaxis": "y5"
        },
        {
         "hovertemplate": "standard=cascaded<br>file=500mb_samba<br>chunk_size=%{x}<br>compression_utilization=%{y}<extra></extra>",
         "legendgroup": "cascaded",
         "line": {
          "color": "#19d3f3",
          "dash": "solid"
         },
         "marker": {
          "symbol": "circle"
         },
         "mode": "lines+markers",
         "name": "cascaded",
         "orientation": "v",
         "showlegend": false,
         "type": "scatter",
         "x": [
          65536000,
          16384000,
          4096000,
          1024000,
          256000,
          64000,
          16000,
          4000
         ],
         "xaxis": "x3",
         "y": [
          1,
          1,
          1,
          1,
          4.487131110761584,
          13.752351803688757,
          28.771017117162643,
          29.519101468033647
         ],
         "yaxis": "y3"
        },
        {
         "hovertemplate": "standard=cascaded<br>file=500mb_sao<br>chunk_size=%{x}<br>compression_utilization=%{y}<extra></extra>",
         "legendgroup": "cascaded",
         "line": {
          "color": "#19d3f3",
          "dash": "solid"
         },
         "marker": {
          "symbol": "circle"
         },
         "mode": "lines+markers",
         "name": "cascaded",
         "orientation": "v",
         "showlegend": false,
         "type": "scatter",
         "x": [
          65536000,
          16384000,
          4096000,
          1024000,
          256000,
          64000,
          16000,
          4000
         ],
         "xaxis": "x2",
         "y": [
          1,
          1,
          1,
          1,
          1.9333280851350532,
          4.999832446362889,
          9.5,
          11
         ],
         "yaxis": "y2"
        },
        {
         "hovertemplate": "standard=cascaded<br>file=500mb_xml<br>chunk_size=%{x}<br>compression_utilization=%{y}<extra></extra>",
         "legendgroup": "cascaded",
         "line": {
          "color": "#19d3f3",
          "dash": "solid"
         },
         "marker": {
          "symbol": "circle"
         },
         "mode": "lines+markers",
         "name": "cascaded",
         "orientation": "v",
         "showlegend": false,
         "type": "scatter",
         "x": [
          65536000,
          16384000,
          4096000,
          1024000,
          256000,
          64000,
          16000,
          4000
         ],
         "xaxis": "x",
         "y": [
          1,
          1,
          1,
          1,
          1,
          3.7500493702003004,
          6.5,
          7
         ],
         "yaxis": "y"
        }
       ],
       "layout": {
        "annotations": [
         {
          "font": {},
          "showarrow": false,
          "text": "file=500mb_xml",
          "textangle": 90,
          "x": 0.98,
          "xanchor": "left",
          "xref": "paper",
          "y": 0.05857142857142857,
          "yanchor": "middle",
          "yref": "paper"
         },
         {
          "font": {},
          "showarrow": false,
          "text": "file=500mb_sao",
          "textangle": 90,
          "x": 0.98,
          "xanchor": "left",
          "xref": "paper",
          "y": 0.2057142857142857,
          "yanchor": "middle",
          "yref": "paper"
         },
         {
          "font": {},
          "showarrow": false,
          "text": "file=500mb_samba",
          "textangle": 90,
          "x": 0.98,
          "xanchor": "left",
          "xref": "paper",
          "y": 0.35285714285714287,
          "yanchor": "middle",
          "yref": "paper"
         },
         {
          "font": {},
          "showarrow": false,
          "text": "file=500mb_nci",
          "textangle": 90,
          "x": 0.98,
          "xanchor": "left",
          "xref": "paper",
          "y": 0.49999999999999994,
          "yanchor": "middle",
          "yref": "paper"
         },
         {
          "font": {},
          "showarrow": false,
          "text": "file=500mb_mr",
          "textangle": 90,
          "x": 0.98,
          "xanchor": "left",
          "xref": "paper",
          "y": 0.647142857142857,
          "yanchor": "middle",
          "yref": "paper"
         },
         {
          "font": {},
          "showarrow": false,
          "text": "file=500mb_mozilla",
          "textangle": 90,
          "x": 0.98,
          "xanchor": "left",
          "xref": "paper",
          "y": 0.7942857142857143,
          "yanchor": "middle",
          "yref": "paper"
         },
         {
          "font": {},
          "showarrow": false,
          "text": "file=500mb_dickens",
          "textangle": 90,
          "x": 0.98,
          "xanchor": "left",
          "xref": "paper",
          "y": 0.9414285714285713,
          "yanchor": "middle",
          "yref": "paper"
         }
        ],
        "height": 1200,
        "legend": {
         "title": {
          "text": "standard"
         },
         "tracegroupgap": 0
        },
        "template": {
         "data": {
          "bar": [
           {
            "error_x": {
             "color": "#2a3f5f"
            },
            "error_y": {
             "color": "#2a3f5f"
            },
            "marker": {
             "line": {
              "color": "#E5ECF6",
              "width": 0.5
             },
             "pattern": {
              "fillmode": "overlay",
              "size": 10,
              "solidity": 0.2
             }
            },
            "type": "bar"
           }
          ],
          "barpolar": [
           {
            "marker": {
             "line": {
              "color": "#E5ECF6",
              "width": 0.5
             },
             "pattern": {
              "fillmode": "overlay",
              "size": 10,
              "solidity": 0.2
             }
            },
            "type": "barpolar"
           }
          ],
          "carpet": [
           {
            "aaxis": {
             "endlinecolor": "#2a3f5f",
             "gridcolor": "white",
             "linecolor": "white",
             "minorgridcolor": "white",
             "startlinecolor": "#2a3f5f"
            },
            "baxis": {
             "endlinecolor": "#2a3f5f",
             "gridcolor": "white",
             "linecolor": "white",
             "minorgridcolor": "white",
             "startlinecolor": "#2a3f5f"
            },
            "type": "carpet"
           }
          ],
          "choropleth": [
           {
            "colorbar": {
             "outlinewidth": 0,
             "ticks": ""
            },
            "type": "choropleth"
           }
          ],
          "contour": [
           {
            "colorbar": {
             "outlinewidth": 0,
             "ticks": ""
            },
            "colorscale": [
             [
              0,
              "#0d0887"
             ],
             [
              0.1111111111111111,
              "#46039f"
             ],
             [
              0.2222222222222222,
              "#7201a8"
             ],
             [
              0.3333333333333333,
              "#9c179e"
             ],
             [
              0.4444444444444444,
              "#bd3786"
             ],
             [
              0.5555555555555556,
              "#d8576b"
             ],
             [
              0.6666666666666666,
              "#ed7953"
             ],
             [
              0.7777777777777778,
              "#fb9f3a"
             ],
             [
              0.8888888888888888,
              "#fdca26"
             ],
             [
              1,
              "#f0f921"
             ]
            ],
            "type": "contour"
           }
          ],
          "contourcarpet": [
           {
            "colorbar": {
             "outlinewidth": 0,
             "ticks": ""
            },
            "type": "contourcarpet"
           }
          ],
          "heatmap": [
           {
            "colorbar": {
             "outlinewidth": 0,
             "ticks": ""
            },
            "colorscale": [
             [
              0,
              "#0d0887"
             ],
             [
              0.1111111111111111,
              "#46039f"
             ],
             [
              0.2222222222222222,
              "#7201a8"
             ],
             [
              0.3333333333333333,
              "#9c179e"
             ],
             [
              0.4444444444444444,
              "#bd3786"
             ],
             [
              0.5555555555555556,
              "#d8576b"
             ],
             [
              0.6666666666666666,
              "#ed7953"
             ],
             [
              0.7777777777777778,
              "#fb9f3a"
             ],
             [
              0.8888888888888888,
              "#fdca26"
             ],
             [
              1,
              "#f0f921"
             ]
            ],
            "type": "heatmap"
           }
          ],
          "heatmapgl": [
           {
            "colorbar": {
             "outlinewidth": 0,
             "ticks": ""
            },
            "colorscale": [
             [
              0,
              "#0d0887"
             ],
             [
              0.1111111111111111,
              "#46039f"
             ],
             [
              0.2222222222222222,
              "#7201a8"
             ],
             [
              0.3333333333333333,
              "#9c179e"
             ],
             [
              0.4444444444444444,
              "#bd3786"
             ],
             [
              0.5555555555555556,
              "#d8576b"
             ],
             [
              0.6666666666666666,
              "#ed7953"
             ],
             [
              0.7777777777777778,
              "#fb9f3a"
             ],
             [
              0.8888888888888888,
              "#fdca26"
             ],
             [
              1,
              "#f0f921"
             ]
            ],
            "type": "heatmapgl"
           }
          ],
          "histogram": [
           {
            "marker": {
             "pattern": {
              "fillmode": "overlay",
              "size": 10,
              "solidity": 0.2
             }
            },
            "type": "histogram"
           }
          ],
          "histogram2d": [
           {
            "colorbar": {
             "outlinewidth": 0,
             "ticks": ""
            },
            "colorscale": [
             [
              0,
              "#0d0887"
             ],
             [
              0.1111111111111111,
              "#46039f"
             ],
             [
              0.2222222222222222,
              "#7201a8"
             ],
             [
              0.3333333333333333,
              "#9c179e"
             ],
             [
              0.4444444444444444,
              "#bd3786"
             ],
             [
              0.5555555555555556,
              "#d8576b"
             ],
             [
              0.6666666666666666,
              "#ed7953"
             ],
             [
              0.7777777777777778,
              "#fb9f3a"
             ],
             [
              0.8888888888888888,
              "#fdca26"
             ],
             [
              1,
              "#f0f921"
             ]
            ],
            "type": "histogram2d"
           }
          ],
          "histogram2dcontour": [
           {
            "colorbar": {
             "outlinewidth": 0,
             "ticks": ""
            },
            "colorscale": [
             [
              0,
              "#0d0887"
             ],
             [
              0.1111111111111111,
              "#46039f"
             ],
             [
              0.2222222222222222,
              "#7201a8"
             ],
             [
              0.3333333333333333,
              "#9c179e"
             ],
             [
              0.4444444444444444,
              "#bd3786"
             ],
             [
              0.5555555555555556,
              "#d8576b"
             ],
             [
              0.6666666666666666,
              "#ed7953"
             ],
             [
              0.7777777777777778,
              "#fb9f3a"
             ],
             [
              0.8888888888888888,
              "#fdca26"
             ],
             [
              1,
              "#f0f921"
             ]
            ],
            "type": "histogram2dcontour"
           }
          ],
          "mesh3d": [
           {
            "colorbar": {
             "outlinewidth": 0,
             "ticks": ""
            },
            "type": "mesh3d"
           }
          ],
          "parcoords": [
           {
            "line": {
             "colorbar": {
              "outlinewidth": 0,
              "ticks": ""
             }
            },
            "type": "parcoords"
           }
          ],
          "pie": [
           {
            "automargin": true,
            "type": "pie"
           }
          ],
          "scatter": [
           {
            "fillpattern": {
             "fillmode": "overlay",
             "size": 10,
             "solidity": 0.2
            },
            "type": "scatter"
           }
          ],
          "scatter3d": [
           {
            "line": {
             "colorbar": {
              "outlinewidth": 0,
              "ticks": ""
             }
            },
            "marker": {
             "colorbar": {
              "outlinewidth": 0,
              "ticks": ""
             }
            },
            "type": "scatter3d"
           }
          ],
          "scattercarpet": [
           {
            "marker": {
             "colorbar": {
              "outlinewidth": 0,
              "ticks": ""
             }
            },
            "type": "scattercarpet"
           }
          ],
          "scattergeo": [
           {
            "marker": {
             "colorbar": {
              "outlinewidth": 0,
              "ticks": ""
             }
            },
            "type": "scattergeo"
           }
          ],
          "scattergl": [
           {
            "marker": {
             "colorbar": {
              "outlinewidth": 0,
              "ticks": ""
             }
            },
            "type": "scattergl"
           }
          ],
          "scattermapbox": [
           {
            "marker": {
             "colorbar": {
              "outlinewidth": 0,
              "ticks": ""
             }
            },
            "type": "scattermapbox"
           }
          ],
          "scatterpolar": [
           {
            "marker": {
             "colorbar": {
              "outlinewidth": 0,
              "ticks": ""
             }
            },
            "type": "scatterpolar"
           }
          ],
          "scatterpolargl": [
           {
            "marker": {
             "colorbar": {
              "outlinewidth": 0,
              "ticks": ""
             }
            },
            "type": "scatterpolargl"
           }
          ],
          "scatterternary": [
           {
            "marker": {
             "colorbar": {
              "outlinewidth": 0,
              "ticks": ""
             }
            },
            "type": "scatterternary"
           }
          ],
          "surface": [
           {
            "colorbar": {
             "outlinewidth": 0,
             "ticks": ""
            },
            "colorscale": [
             [
              0,
              "#0d0887"
             ],
             [
              0.1111111111111111,
              "#46039f"
             ],
             [
              0.2222222222222222,
              "#7201a8"
             ],
             [
              0.3333333333333333,
              "#9c179e"
             ],
             [
              0.4444444444444444,
              "#bd3786"
             ],
             [
              0.5555555555555556,
              "#d8576b"
             ],
             [
              0.6666666666666666,
              "#ed7953"
             ],
             [
              0.7777777777777778,
              "#fb9f3a"
             ],
             [
              0.8888888888888888,
              "#fdca26"
             ],
             [
              1,
              "#f0f921"
             ]
            ],
            "type": "surface"
           }
          ],
          "table": [
           {
            "cells": {
             "fill": {
              "color": "#EBF0F8"
             },
             "line": {
              "color": "white"
             }
            },
            "header": {
             "fill": {
              "color": "#C8D4E3"
             },
             "line": {
              "color": "white"
             }
            },
            "type": "table"
           }
          ]
         },
         "layout": {
          "annotationdefaults": {
           "arrowcolor": "#2a3f5f",
           "arrowhead": 0,
           "arrowwidth": 1
          },
          "autotypenumbers": "strict",
          "coloraxis": {
           "colorbar": {
            "outlinewidth": 0,
            "ticks": ""
           }
          },
          "colorscale": {
           "diverging": [
            [
             0,
             "#8e0152"
            ],
            [
             0.1,
             "#c51b7d"
            ],
            [
             0.2,
             "#de77ae"
            ],
            [
             0.3,
             "#f1b6da"
            ],
            [
             0.4,
             "#fde0ef"
            ],
            [
             0.5,
             "#f7f7f7"
            ],
            [
             0.6,
             "#e6f5d0"
            ],
            [
             0.7,
             "#b8e186"
            ],
            [
             0.8,
             "#7fbc41"
            ],
            [
             0.9,
             "#4d9221"
            ],
            [
             1,
             "#276419"
            ]
           ],
           "sequential": [
            [
             0,
             "#0d0887"
            ],
            [
             0.1111111111111111,
             "#46039f"
            ],
            [
             0.2222222222222222,
             "#7201a8"
            ],
            [
             0.3333333333333333,
             "#9c179e"
            ],
            [
             0.4444444444444444,
             "#bd3786"
            ],
            [
             0.5555555555555556,
             "#d8576b"
            ],
            [
             0.6666666666666666,
             "#ed7953"
            ],
            [
             0.7777777777777778,
             "#fb9f3a"
            ],
            [
             0.8888888888888888,
             "#fdca26"
            ],
            [
             1,
             "#f0f921"
            ]
           ],
           "sequentialminus": [
            [
             0,
             "#0d0887"
            ],
            [
             0.1111111111111111,
             "#46039f"
            ],
            [
             0.2222222222222222,
             "#7201a8"
            ],
            [
             0.3333333333333333,
             "#9c179e"
            ],
            [
             0.4444444444444444,
             "#bd3786"
            ],
            [
             0.5555555555555556,
             "#d8576b"
            ],
            [
             0.6666666666666666,
             "#ed7953"
            ],
            [
             0.7777777777777778,
             "#fb9f3a"
            ],
            [
             0.8888888888888888,
             "#fdca26"
            ],
            [
             1,
             "#f0f921"
            ]
           ]
          },
          "colorway": [
           "#636efa",
           "#EF553B",
           "#00cc96",
           "#ab63fa",
           "#FFA15A",
           "#19d3f3",
           "#FF6692",
           "#B6E880",
           "#FF97FF",
           "#FECB52"
          ],
          "font": {
           "color": "#2a3f5f"
          },
          "geo": {
           "bgcolor": "white",
           "lakecolor": "white",
           "landcolor": "#E5ECF6",
           "showlakes": true,
           "showland": true,
           "subunitcolor": "white"
          },
          "hoverlabel": {
           "align": "left"
          },
          "hovermode": "closest",
          "mapbox": {
           "style": "light"
          },
          "paper_bgcolor": "white",
          "plot_bgcolor": "#E5ECF6",
          "polar": {
           "angularaxis": {
            "gridcolor": "white",
            "linecolor": "white",
            "ticks": ""
           },
           "bgcolor": "#E5ECF6",
           "radialaxis": {
            "gridcolor": "white",
            "linecolor": "white",
            "ticks": ""
           }
          },
          "scene": {
           "xaxis": {
            "backgroundcolor": "#E5ECF6",
            "gridcolor": "white",
            "gridwidth": 2,
            "linecolor": "white",
            "showbackground": true,
            "ticks": "",
            "zerolinecolor": "white"
           },
           "yaxis": {
            "backgroundcolor": "#E5ECF6",
            "gridcolor": "white",
            "gridwidth": 2,
            "linecolor": "white",
            "showbackground": true,
            "ticks": "",
            "zerolinecolor": "white"
           },
           "zaxis": {
            "backgroundcolor": "#E5ECF6",
            "gridcolor": "white",
            "gridwidth": 2,
            "linecolor": "white",
            "showbackground": true,
            "ticks": "",
            "zerolinecolor": "white"
           }
          },
          "shapedefaults": {
           "line": {
            "color": "#2a3f5f"
           }
          },
          "ternary": {
           "aaxis": {
            "gridcolor": "white",
            "linecolor": "white",
            "ticks": ""
           },
           "baxis": {
            "gridcolor": "white",
            "linecolor": "white",
            "ticks": ""
           },
           "bgcolor": "#E5ECF6",
           "caxis": {
            "gridcolor": "white",
            "linecolor": "white",
            "ticks": ""
           }
          },
          "title": {
           "x": 0.05
          },
          "xaxis": {
           "automargin": true,
           "gridcolor": "white",
           "linecolor": "white",
           "ticks": "",
           "title": {
            "standoff": 15
           },
           "zerolinecolor": "white",
           "zerolinewidth": 2
          },
          "yaxis": {
           "automargin": true,
           "gridcolor": "white",
           "linecolor": "white",
           "ticks": "",
           "title": {
            "standoff": 15
           },
           "zerolinecolor": "white",
           "zerolinewidth": 2
          }
         }
        },
        "title": {
         "text": "GPU utilization during compression per file at different chunk sizes"
        },
        "width": 800,
        "xaxis": {
         "anchor": "y",
         "domain": [
          0,
          0.98
         ],
         "title": {
          "text": "chunk_size"
         },
         "type": "log"
        },
        "xaxis2": {
         "anchor": "y2",
         "domain": [
          0,
          0.98
         ],
         "matches": "x",
         "showticklabels": false,
         "type": "log"
        },
        "xaxis3": {
         "anchor": "y3",
         "domain": [
          0,
          0.98
         ],
         "matches": "x",
         "showticklabels": false,
         "type": "log"
        },
        "xaxis4": {
         "anchor": "y4",
         "domain": [
          0,
          0.98
         ],
         "matches": "x",
         "showticklabels": false,
         "type": "log"
        },
        "xaxis5": {
         "anchor": "y5",
         "domain": [
          0,
          0.98
         ],
         "matches": "x",
         "showticklabels": false,
         "type": "log"
        },
        "xaxis6": {
         "anchor": "y6",
         "domain": [
          0,
          0.98
         ],
         "matches": "x",
         "showticklabels": false,
         "type": "log"
        },
        "xaxis7": {
         "anchor": "y7",
         "domain": [
          0,
          0.98
         ],
         "matches": "x",
         "showticklabels": false,
         "type": "log"
        },
        "yaxis": {
         "anchor": "x",
         "domain": [
          0,
          0.11714285714285715
         ],
         "title": {
          "text": "compression_utilization"
         }
        },
        "yaxis2": {
         "anchor": "x2",
         "domain": [
          0.14714285714285713,
          0.2642857142857143
         ],
         "matches": "y",
         "title": {
          "text": "compression_utilization"
         }
        },
        "yaxis3": {
         "anchor": "x3",
         "domain": [
          0.29428571428571426,
          0.4114285714285714
         ],
         "matches": "y",
         "title": {
          "text": "compression_utilization"
         }
        },
        "yaxis4": {
         "anchor": "x4",
         "domain": [
          0.4414285714285714,
          0.5585714285714285
         ],
         "matches": "y",
         "title": {
          "text": "compression_utilization"
         }
        },
        "yaxis5": {
         "anchor": "x5",
         "domain": [
          0.5885714285714285,
          0.7057142857142856
         ],
         "matches": "y",
         "title": {
          "text": "compression_utilization"
         }
        },
        "yaxis6": {
         "anchor": "x6",
         "domain": [
          0.7357142857142858,
          0.8528571428571429
         ],
         "matches": "y",
         "title": {
          "text": "compression_utilization"
         }
        },
        "yaxis7": {
         "anchor": "x7",
         "domain": [
          0.8828571428571428,
          0.9999999999999999
         ],
         "matches": "y",
         "title": {
          "text": "compression_utilization"
         }
        }
       }
      }
     },
     "metadata": {},
     "output_type": "display_data"
    }
   ],
   "source": [
    "fig_utilization_file = px.line(\n",
    "    result_df,\n",
    "    title=f\"GPU utilization during compression per file at different chunk sizes\", \n",
    "    x=\"chunk_size\",\n",
    "    y=\"compression_utilization\",\n",
    "    color=\"standard\",\n",
    "    log_x=True,\n",
    "    markers=True,\n",
    "    #log_y=True,\n",
    "    facet_row=\"file\",\n",
    "    # facet_row_spacing=0.05,\n",
    "    height=1200,\n",
    "    width=800,\n",
    ")\n",
    "# fig_utilization_standard.update_xaxes(autorange=\"reversed\")\n",
    "\n",
    "\n",
    "fig_utilization_file.show()"
   ]
  },
  {
   "cell_type": "code",
   "execution_count": 6,
   "metadata": {},
   "outputs": [
    {
     "data": {
      "application/vnd.plotly.v1+json": {
       "config": {
        "plotlyServerURL": "https://plot.ly"
       },
       "data": [
        {
         "hovertemplate": "standard=snappy<br>file=500mb_dickens<br>chunk_size=%{x}<br>decompression_utilization=%{y}<extra></extra>",
         "legendgroup": "snappy",
         "line": {
          "color": "#636efa",
          "dash": "solid"
         },
         "marker": {
          "symbol": "circle"
         },
         "mode": "lines+markers",
         "name": "snappy",
         "orientation": "v",
         "showlegend": true,
         "type": "scatter",
         "x": [
          65536000,
          16384000,
          4096000,
          1024000,
          256000,
          64000,
          16000,
          4000
         ],
         "xaxis": "x7",
         "y": [
          1,
          1,
          1,
          1,
          1,
          4.592107155622175,
          15.40027323174332,
          49.53148608637113
         ],
         "yaxis": "y7"
        },
        {
         "hovertemplate": "standard=snappy<br>file=500mb_mozilla<br>chunk_size=%{x}<br>decompression_utilization=%{y}<extra></extra>",
         "legendgroup": "snappy",
         "line": {
          "color": "#636efa",
          "dash": "solid"
         },
         "marker": {
          "symbol": "circle"
         },
         "mode": "lines+markers",
         "name": "snappy",
         "orientation": "v",
         "showlegend": false,
         "type": "scatter",
         "x": [
          65536000,
          16384000,
          4096000,
          1024000,
          256000,
          64000,
          16000,
          4000
         ],
         "xaxis": "x6",
         "y": [
          1,
          1,
          1,
          1,
          3.962944525490785,
          14.342938826264161,
          46.58445252234841,
          72.26791888763209
         ],
         "yaxis": "y6"
        },
        {
         "hovertemplate": "standard=snappy<br>file=500mb_mr<br>chunk_size=%{x}<br>decompression_utilization=%{y}<extra></extra>",
         "legendgroup": "snappy",
         "line": {
          "color": "#636efa",
          "dash": "solid"
         },
         "marker": {
          "symbol": "circle"
         },
         "mode": "lines+markers",
         "name": "snappy",
         "orientation": "v",
         "showlegend": false,
         "type": "scatter",
         "x": [
          65536000,
          16384000,
          4096000,
          1024000,
          256000,
          64000,
          16000,
          4000
         ],
         "xaxis": "x5",
         "y": [
          1,
          1,
          1,
          1,
          1,
          3.333830921845881,
          11.533969727272087,
          5.003049278735964
         ],
         "yaxis": "y5"
        },
        {
         "hovertemplate": "standard=snappy<br>file=500mb_nci<br>chunk_size=%{x}<br>decompression_utilization=%{y}<extra></extra>",
         "legendgroup": "snappy",
         "line": {
          "color": "#636efa",
          "dash": "solid"
         },
         "marker": {
          "symbol": "circle"
         },
         "mode": "lines+markers",
         "name": "snappy",
         "orientation": "v",
         "showlegend": false,
         "type": "scatter",
         "x": [
          65536000,
          16384000,
          4096000,
          1024000,
          256000,
          64000,
          16000,
          4000
         ],
         "xaxis": "x4",
         "y": [
          1,
          1,
          1,
          1,
          3.357925395055264,
          11.125040419188494,
          34.99035088274603,
          64.90142265354085
         ],
         "yaxis": "y4"
        },
        {
         "hovertemplate": "standard=snappy<br>file=500mb_samba<br>chunk_size=%{x}<br>decompression_utilization=%{y}<extra></extra>",
         "legendgroup": "snappy",
         "line": {
          "color": "#636efa",
          "dash": "solid"
         },
         "marker": {
          "symbol": "circle"
         },
         "mode": "lines+markers",
         "name": "snappy",
         "orientation": "v",
         "showlegend": false,
         "type": "scatter",
         "x": [
          65536000,
          16384000,
          4096000,
          1024000,
          256000,
          64000,
          16000,
          4000
         ],
         "xaxis": "x3",
         "y": [
          1,
          0.9998813754027869,
          1,
          0,
          1.522123930671996,
          5.145217339809933,
          17.953285510703722,
          46.39265802217203
         ],
         "yaxis": "y3"
        },
        {
         "hovertemplate": "standard=snappy<br>file=500mb_sao<br>chunk_size=%{x}<br>decompression_utilization=%{y}<extra></extra>",
         "legendgroup": "snappy",
         "line": {
          "color": "#636efa",
          "dash": "solid"
         },
         "marker": {
          "symbol": "circle"
         },
         "mode": "lines+markers",
         "name": "snappy",
         "orientation": "v",
         "showlegend": false,
         "type": "scatter",
         "x": [
          65536000,
          16384000,
          4096000,
          1024000,
          256000,
          64000,
          16000,
          4000
         ],
         "xaxis": "x2",
         "y": [
          1,
          1,
          0,
          1,
          1,
          2.807692950961996,
          10.333840383053015,
          17.289309474869277
         ],
         "yaxis": "y2"
        },
        {
         "hovertemplate": "standard=snappy<br>file=500mb_xml<br>chunk_size=%{x}<br>decompression_utilization=%{y}<extra></extra>",
         "legendgroup": "snappy",
         "line": {
          "color": "#636efa",
          "dash": "solid"
         },
         "marker": {
          "symbol": "circle"
         },
         "mode": "lines+markers",
         "name": "snappy",
         "orientation": "v",
         "showlegend": false,
         "type": "scatter",
         "x": [
          65536000,
          16384000,
          4096000,
          1024000,
          256000,
          64000,
          16000,
          4000
         ],
         "xaxis": "x",
         "y": [
          1,
          1,
          1,
          1,
          1,
          1.3138496091279692,
          3.511926730936275,
          1
         ],
         "yaxis": "y"
        },
        {
         "hovertemplate": "standard=zstd<br>file=500mb_dickens<br>chunk_size=%{x}<br>decompression_utilization=%{y}<extra></extra>",
         "legendgroup": "zstd",
         "line": {
          "color": "#EF553B",
          "dash": "solid"
         },
         "marker": {
          "symbol": "circle"
         },
         "mode": "lines+markers",
         "name": "zstd",
         "orientation": "v",
         "showlegend": true,
         "type": "scatter",
         "x": [
          65536000,
          16384000,
          4096000,
          1024000,
          256000,
          64000,
          16000,
          4000
         ],
         "xaxis": "x7",
         "y": [
          0.9999920661830579,
          0.999992068638917,
          0.9999758329190052,
          0.9985239773564485,
          1.8040136326033442,
          2.8352382279703923,
          10.121186740289875,
          24.462600266628012
         ],
         "yaxis": "y7"
        },
        {
         "hovertemplate": "standard=zstd<br>file=500mb_mozilla<br>chunk_size=%{x}<br>decompression_utilization=%{y}<extra></extra>",
         "legendgroup": "zstd",
         "line": {
          "color": "#EF553B",
          "dash": "solid"
         },
         "marker": {
          "symbol": "circle"
         },
         "mode": "lines+markers",
         "name": "zstd",
         "orientation": "v",
         "showlegend": false,
         "type": "scatter",
         "x": [
          16384000,
          4096000,
          1024000,
          256000,
          64000,
          16000,
          4000
         ],
         "xaxis": "x6",
         "y": [
          0.9999916142684904,
          0.9999688108942711,
          1.456381428611008,
          4.603638373427721,
          10.55701145066126,
          28.190784510731095,
          32.33881452153298
         ],
         "yaxis": "y6"
        },
        {
         "hovertemplate": "standard=zstd<br>file=500mb_mr<br>chunk_size=%{x}<br>decompression_utilization=%{y}<extra></extra>",
         "legendgroup": "zstd",
         "line": {
          "color": "#EF553B",
          "dash": "solid"
         },
         "marker": {
          "symbol": "circle"
         },
         "mode": "lines+markers",
         "name": "zstd",
         "orientation": "v",
         "showlegend": false,
         "type": "scatter",
         "x": [
          65536000,
          16384000,
          4096000,
          1024000,
          256000,
          64000,
          16000,
          4000
         ],
         "xaxis": "x5",
         "y": [
          0.999987931562468,
          0.9999881429477484,
          0.9999663000661922,
          0.9998941122767159,
          1.6207553806805675,
          2.446670720660919,
          7.665506796256613,
          19.468198630634067
         ],
         "yaxis": "y5"
        },
        {
         "hovertemplate": "standard=zstd<br>file=500mb_nci<br>chunk_size=%{x}<br>decompression_utilization=%{y}<extra></extra>",
         "legendgroup": "zstd",
         "line": {
          "color": "#EF553B",
          "dash": "solid"
         },
         "marker": {
          "symbol": "circle"
         },
         "mode": "lines+markers",
         "name": "zstd",
         "orientation": "v",
         "showlegend": false,
         "type": "scatter",
         "x": [
          16384000,
          4096000,
          1024000,
          256000,
          64000,
          16000,
          4000
         ],
         "xaxis": "x4",
         "y": [
          0.9999888847246279,
          0.9999585674230446,
          0.9938495849138532,
          3.1851705206855234,
          7.464624588557038,
          22.789226512340733,
          26.79558305190026
         ],
         "yaxis": "y4"
        },
        {
         "hovertemplate": "standard=zstd<br>file=500mb_samba<br>chunk_size=%{x}<br>decompression_utilization=%{y}<extra></extra>",
         "legendgroup": "zstd",
         "line": {
          "color": "#EF553B",
          "dash": "solid"
         },
         "marker": {
          "symbol": "circle"
         },
         "mode": "lines+markers",
         "name": "zstd",
         "orientation": "v",
         "showlegend": false,
         "type": "scatter",
         "x": [
          16384000,
          4096000,
          1024000,
          256000,
          64000,
          16000,
          4000
         ],
         "xaxis": "x3",
         "y": [
          0.9999898068012398,
          0.9999659764757325,
          0.9979526597241472,
          -0.001020814495565837,
          -0.0068641940564743405,
          13.094391711267633,
          24.20372759097004
         ],
         "yaxis": "y3"
        },
        {
         "hovertemplate": "standard=zstd<br>file=500mb_sao<br>chunk_size=%{x}<br>decompression_utilization=%{y}<extra></extra>",
         "legendgroup": "zstd",
         "line": {
          "color": "#EF553B",
          "dash": "solid"
         },
         "marker": {
          "symbol": "circle"
         },
         "mode": "lines+markers",
         "name": "zstd",
         "orientation": "v",
         "showlegend": false,
         "type": "scatter",
         "x": [
          65536000,
          16384000,
          4096000,
          1024000,
          256000,
          64000,
          16000,
          4000
         ],
         "xaxis": "x2",
         "y": [
          0.9999821006171818,
          0.9999820859842536,
          0.999967153250494,
          0.9998805679057117,
          0.9978389689650837,
          1.8878478789654198,
          7.318116154284898,
          18.58152527301712
         ],
         "yaxis": "y2"
        },
        {
         "hovertemplate": "standard=zstd<br>file=500mb_xml<br>chunk_size=%{x}<br>decompression_utilization=%{y}<extra></extra>",
         "legendgroup": "zstd",
         "line": {
          "color": "#EF553B",
          "dash": "solid"
         },
         "marker": {
          "symbol": "circle"
         },
         "mode": "lines+markers",
         "name": "zstd",
         "orientation": "v",
         "showlegend": false,
         "type": "scatter",
         "x": [
          65536000,
          16384000,
          4096000,
          1024000,
          256000,
          64000,
          16000,
          4000
         ],
         "xaxis": "x",
         "y": [
          0.9999714776219573,
          0.9999714855346542,
          0.9999602332305721,
          0.9977757682308293,
          0.9979257282271167,
          -0.006717566890020706,
          3.541019077942618,
          11.679903442592204
         ],
         "yaxis": "y"
        },
        {
         "hovertemplate": "standard=gdeflate<br>file=500mb_dickens<br>chunk_size=%{x}<br>decompression_utilization=%{y}<extra></extra>",
         "legendgroup": "gdeflate",
         "line": {
          "color": "#00cc96",
          "dash": "solid"
         },
         "marker": {
          "symbol": "circle"
         },
         "mode": "lines+markers",
         "name": "gdeflate",
         "orientation": "v",
         "showlegend": true,
         "type": "scatter",
         "x": [
          64000,
          16000,
          4000
         ],
         "xaxis": "x7",
         "y": [
          1.8975835392604554,
          7.470341805272614,
          17.897141726832164
         ],
         "yaxis": "y7"
        },
        {
         "hovertemplate": "standard=gdeflate<br>file=500mb_mozilla<br>chunk_size=%{x}<br>decompression_utilization=%{y}<extra></extra>",
         "legendgroup": "gdeflate",
         "line": {
          "color": "#00cc96",
          "dash": "solid"
         },
         "marker": {
          "symbol": "circle"
         },
         "mode": "lines+markers",
         "name": "gdeflate",
         "orientation": "v",
         "showlegend": false,
         "type": "scatter",
         "x": [
          64000,
          16000,
          4000
         ],
         "xaxis": "x6",
         "y": [
          7.228935030180754,
          21.067107442906114,
          32.48660420162818
         ],
         "yaxis": "y6"
        },
        {
         "hovertemplate": "standard=gdeflate<br>file=500mb_mr<br>chunk_size=%{x}<br>decompression_utilization=%{y}<extra></extra>",
         "legendgroup": "gdeflate",
         "line": {
          "color": "#00cc96",
          "dash": "solid"
         },
         "marker": {
          "symbol": "circle"
         },
         "mode": "lines+markers",
         "name": "gdeflate",
         "orientation": "v",
         "showlegend": false,
         "type": "scatter",
         "x": [
          64000,
          16000,
          4000
         ],
         "xaxis": "x5",
         "y": [
          1.839226916077896,
          6.025008382602281,
          14.882310632680474
         ],
         "yaxis": "y5"
        },
        {
         "hovertemplate": "standard=gdeflate<br>file=500mb_nci<br>chunk_size=%{x}<br>decompression_utilization=%{y}<extra></extra>",
         "legendgroup": "gdeflate",
         "line": {
          "color": "#00cc96",
          "dash": "solid"
         },
         "marker": {
          "symbol": "circle"
         },
         "mode": "lines+markers",
         "name": "gdeflate",
         "orientation": "v",
         "showlegend": false,
         "type": "scatter",
         "x": [
          64000,
          16000,
          4000
         ],
         "xaxis": "x4",
         "y": [
          5.990633224190717,
          19.330543329172123,
          29.597486951287124
         ],
         "yaxis": "y4"
        },
        {
         "hovertemplate": "standard=gdeflate<br>file=500mb_samba<br>chunk_size=%{x}<br>decompression_utilization=%{y}<extra></extra>",
         "legendgroup": "gdeflate",
         "line": {
          "color": "#00cc96",
          "dash": "solid"
         },
         "marker": {
          "symbol": "circle"
         },
         "mode": "lines+markers",
         "name": "gdeflate",
         "orientation": "v",
         "showlegend": false,
         "type": "scatter",
         "x": [
          64000,
          16000,
          4000
         ],
         "xaxis": "x3",
         "y": [
          3.2256321547407545,
          9.261137890364797,
          23.28015036226209
         ],
         "yaxis": "y3"
        },
        {
         "hovertemplate": "standard=gdeflate<br>file=500mb_sao<br>chunk_size=%{x}<br>decompression_utilization=%{y}<extra></extra>",
         "legendgroup": "gdeflate",
         "line": {
          "color": "#00cc96",
          "dash": "solid"
         },
         "marker": {
          "symbol": "circle"
         },
         "mode": "lines+markers",
         "name": "gdeflate",
         "orientation": "v",
         "showlegend": false,
         "type": "scatter",
         "x": [
          64000,
          16000,
          4000
         ],
         "xaxis": "x2",
         "y": [
          1.9369000545396933,
          5.9793713517710465,
          10.921321902709114
         ],
         "yaxis": "y2"
        },
        {
         "hovertemplate": "standard=gdeflate<br>file=500mb_xml<br>chunk_size=%{x}<br>decompression_utilization=%{y}<extra></extra>",
         "legendgroup": "gdeflate",
         "line": {
          "color": "#00cc96",
          "dash": "solid"
         },
         "marker": {
          "symbol": "circle"
         },
         "mode": "lines+markers",
         "name": "gdeflate",
         "orientation": "v",
         "showlegend": false,
         "type": "scatter",
         "x": [
          64000,
          16000,
          4000
         ],
         "xaxis": "x",
         "y": [
          0.9983603073310995,
          2.3909052596258684,
          1.4743589684654532
         ],
         "yaxis": "y"
        },
        {
         "hovertemplate": "standard=lz4<br>file=500mb_dickens<br>chunk_size=%{x}<br>decompression_utilization=%{y}<extra></extra>",
         "legendgroup": "lz4",
         "line": {
          "color": "#ab63fa",
          "dash": "solid"
         },
         "marker": {
          "symbol": "circle"
         },
         "mode": "lines+markers",
         "name": "lz4",
         "orientation": "v",
         "showlegend": true,
         "type": "scatter",
         "x": [
          65536000,
          16384000,
          4096000,
          1024000,
          256000,
          64000,
          16000,
          4000
         ],
         "xaxis": "x7",
         "y": [
          1,
          1,
          1,
          0,
          1,
          1.9567194009035784,
          7.883989848306996,
          15.7568842427333
         ],
         "yaxis": "y7"
        },
        {
         "hovertemplate": "standard=lz4<br>file=500mb_mozilla<br>chunk_size=%{x}<br>decompression_utilization=%{y}<extra></extra>",
         "legendgroup": "lz4",
         "line": {
          "color": "#ab63fa",
          "dash": "solid"
         },
         "marker": {
          "symbol": "circle"
         },
         "mode": "lines+markers",
         "name": "lz4",
         "orientation": "v",
         "showlegend": false,
         "type": "scatter",
         "x": [
          16384000,
          4096000,
          1024000,
          256000,
          64000,
          16000,
          4000
         ],
         "xaxis": "x6",
         "y": [
          1,
          1,
          1,
          2.479999486815263,
          7.519949371345388,
          24.631625815684473,
          32.34201691549217
         ],
         "yaxis": "y6"
        },
        {
         "hovertemplate": "standard=lz4<br>file=500mb_mr<br>chunk_size=%{x}<br>decompression_utilization=%{y}<extra></extra>",
         "legendgroup": "lz4",
         "line": {
          "color": "#ab63fa",
          "dash": "solid"
         },
         "marker": {
          "symbol": "circle"
         },
         "mode": "lines+markers",
         "name": "lz4",
         "orientation": "v",
         "showlegend": false,
         "type": "scatter",
         "x": [
          65536000,
          16384000,
          4096000,
          1024000,
          256000,
          64000,
          16000,
          4000
         ],
         "xaxis": "x5",
         "y": [
          1,
          1,
          1,
          1,
          1,
          1.6249940003917138,
          4.266766217169598,
          3.2538520430962725
         ],
         "yaxis": "y5"
        },
        {
         "hovertemplate": "standard=lz4<br>file=500mb_nci<br>chunk_size=%{x}<br>decompression_utilization=%{y}<extra></extra>",
         "legendgroup": "lz4",
         "line": {
          "color": "#ab63fa",
          "dash": "solid"
         },
         "marker": {
          "symbol": "circle"
         },
         "mode": "lines+markers",
         "name": "lz4",
         "orientation": "v",
         "showlegend": false,
         "type": "scatter",
         "x": [
          16384000,
          4096000,
          1024000,
          256000,
          64000,
          16000,
          4000
         ],
         "xaxis": "x4",
         "y": [
          1,
          1,
          1,
          1.8108116529750382,
          6.025021323007865,
          20.80915734437344,
          33.766715408086114
         ],
         "yaxis": "y4"
        },
        {
         "hovertemplate": "standard=lz4<br>file=500mb_samba<br>chunk_size=%{x}<br>decompression_utilization=%{y}<extra></extra>",
         "legendgroup": "lz4",
         "line": {
          "color": "#ab63fa",
          "dash": "solid"
         },
         "marker": {
          "symbol": "circle"
         },
         "mode": "lines+markers",
         "name": "lz4",
         "orientation": "v",
         "showlegend": false,
         "type": "scatter",
         "x": [
          16384000,
          4096000,
          1024000,
          256000,
          64000,
          16000,
          4000
         ],
         "xaxis": "x3",
         "y": [
          1,
          1,
          1,
          1,
          2.7241068409643905,
          8.081576587704753,
          18.935123748477658
         ],
         "yaxis": "y3"
        },
        {
         "hovertemplate": "standard=lz4<br>file=500mb_sao<br>chunk_size=%{x}<br>decompression_utilization=%{y}<extra></extra>",
         "legendgroup": "lz4",
         "line": {
          "color": "#ab63fa",
          "dash": "solid"
         },
         "marker": {
          "symbol": "circle"
         },
         "mode": "lines+markers",
         "name": "lz4",
         "orientation": "v",
         "showlegend": false,
         "type": "scatter",
         "x": [
          65536000,
          16384000,
          4096000,
          1024000,
          256000,
          64000,
          16000,
          4000
         ],
         "xaxis": "x2",
         "y": [
          1,
          1,
          1,
          1,
          1,
          1.9130367137270086,
          6.000223007052464,
          9.5
         ],
         "yaxis": "y2"
        },
        {
         "hovertemplate": "standard=lz4<br>file=500mb_xml<br>chunk_size=%{x}<br>decompression_utilization=%{y}<extra></extra>",
         "legendgroup": "lz4",
         "line": {
          "color": "#ab63fa",
          "dash": "solid"
         },
         "marker": {
          "symbol": "circle"
         },
         "mode": "lines+markers",
         "name": "lz4",
         "orientation": "v",
         "showlegend": false,
         "type": "scatter",
         "x": [
          65536000,
          16384000,
          4096000,
          1024000,
          256000,
          64000,
          16000,
          4000
         ],
         "xaxis": "x",
         "y": [
          1,
          1,
          1,
          1,
          1,
          1,
          2.6666584663011523,
          3
         ],
         "yaxis": "y"
        },
        {
         "hovertemplate": "standard=bitcomp<br>file=500mb_dickens<br>chunk_size=%{x}<br>decompression_utilization=%{y}<extra></extra>",
         "legendgroup": "bitcomp",
         "line": {
          "color": "#FFA15A",
          "dash": "solid"
         },
         "marker": {
          "symbol": "circle"
         },
         "mode": "lines+markers",
         "name": "bitcomp",
         "orientation": "v",
         "showlegend": true,
         "type": "scatter",
         "x": [
          65536000,
          16384000,
          4096000,
          1024000,
          256000,
          64000,
          16000,
          4000
         ],
         "xaxis": "x7",
         "y": [
          0.9993670583567598,
          0.9993959765239766,
          0.9984872731860865,
          0.9939994297046235,
          3.9423928355190823,
          8.607038665108973,
          10.58036994735893,
          7.506413731958221
         ],
         "yaxis": "y7"
        },
        {
         "hovertemplate": "standard=bitcomp<br>file=500mb_mozilla<br>chunk_size=%{x}<br>decompression_utilization=%{y}<extra></extra>",
         "legendgroup": "bitcomp",
         "line": {
          "color": "#FFA15A",
          "dash": "solid"
         },
         "marker": {
          "symbol": "circle"
         },
         "mode": "lines+markers",
         "name": "bitcomp",
         "orientation": "v",
         "showlegend": false,
         "type": "scatter",
         "x": [
          65536000,
          16384000,
          4096000,
          1024000,
          256000,
          64000,
          16000,
          4000
         ],
         "xaxis": "x6",
         "y": [
          0.9997447560746988,
          0.9993276281342885,
          1.3203583099997132,
          3.263401786952162,
          7.297415170653457,
          4.761569302804546,
          27.433038216018574,
          35.24091870305685
         ],
         "yaxis": "y6"
        },
        {
         "hovertemplate": "standard=bitcomp<br>file=500mb_mr<br>chunk_size=%{x}<br>decompression_utilization=%{y}<extra></extra>",
         "legendgroup": "bitcomp",
         "line": {
          "color": "#FFA15A",
          "dash": "solid"
         },
         "marker": {
          "symbol": "circle"
         },
         "mode": "lines+markers",
         "name": "bitcomp",
         "orientation": "v",
         "showlegend": false,
         "type": "scatter",
         "x": [
          65536000,
          16384000,
          4096000,
          1024000,
          256000,
          64000,
          16000,
          4000
         ],
         "xaxis": "x5",
         "y": [
          0.998965780404212,
          0.9989467935945429,
          0.9974045032057413,
          0.9904720372102207,
          2.4429268219751057,
          8.898983199859511,
          3.6373404969778376,
          1.4755028365136669
         ],
         "yaxis": "y5"
        },
        {
         "hovertemplate": "standard=bitcomp<br>file=500mb_nci<br>chunk_size=%{x}<br>decompression_utilization=%{y}<extra></extra>",
         "legendgroup": "bitcomp",
         "line": {
          "color": "#FFA15A",
          "dash": "solid"
         },
         "marker": {
          "symbol": "circle"
         },
         "mode": "lines+markers",
         "name": "bitcomp",
         "orientation": "v",
         "showlegend": false,
         "type": "scatter",
         "x": [
          65536000,
          16384000,
          4096000,
          1024000,
          256000,
          64000,
          16000,
          4000
         ],
         "xaxis": "x4",
         "y": [
          0.999741041265124,
          0.999463559387505,
          0.9977303249767355,
          3.7471357280560635,
          10.782801552555304,
          10.721227338347529,
          26.016332855087374,
          35.286968672420656
         ],
         "yaxis": "y4"
        },
        {
         "hovertemplate": "standard=bitcomp<br>file=500mb_samba<br>chunk_size=%{x}<br>decompression_utilization=%{y}<extra></extra>",
         "legendgroup": "bitcomp",
         "line": {
          "color": "#FFA15A",
          "dash": "solid"
         },
         "marker": {
          "symbol": "circle"
         },
         "mode": "lines+markers",
         "name": "bitcomp",
         "orientation": "v",
         "showlegend": false,
         "type": "scatter",
         "x": [
          65536000,
          16384000,
          4096000,
          1024000,
          256000,
          64000,
          16000,
          4000
         ],
         "xaxis": "x3",
         "y": [
          0.9996310262405663,
          -0.00020975162008056864,
          0.9984590149713732,
          1.5961157700078776,
          3.9429320075347922,
          10.333242118356337,
          1.3140816133407425,
          19.779473559348716
         ],
         "yaxis": "y3"
        },
        {
         "hovertemplate": "standard=bitcomp<br>file=500mb_sao<br>chunk_size=%{x}<br>decompression_utilization=%{y}<extra></extra>",
         "legendgroup": "bitcomp",
         "line": {
          "color": "#FFA15A",
          "dash": "solid"
         },
         "marker": {
          "symbol": "circle"
         },
         "mode": "lines+markers",
         "name": "bitcomp",
         "orientation": "v",
         "showlegend": false,
         "type": "scatter",
         "x": [
          65536000,
          16384000,
          4096000,
          1024000,
          256000,
          64000,
          16000,
          4000
         ],
         "xaxis": "x2",
         "y": [
          0.9944493602067452,
          0.9944323344151214,
          0.987804292658491,
          0.967045463064362,
          0.38109128345916266,
          -0.9647526894180813,
          2.191901408450704,
          9.437061357153631
         ],
         "yaxis": "y2"
        },
        {
         "hovertemplate": "standard=bitcomp<br>file=500mb_xml<br>chunk_size=%{x}<br>decompression_utilization=%{y}<extra></extra>",
         "legendgroup": "bitcomp",
         "line": {
          "color": "#FFA15A",
          "dash": "solid"
         },
         "marker": {
          "symbol": "circle"
         },
         "mode": "lines+markers",
         "name": "bitcomp",
         "orientation": "v",
         "showlegend": false,
         "type": "scatter",
         "x": [
          65536000,
          16384000,
          4096000,
          1024000,
          256000,
          64000,
          16000,
          4000
         ],
         "xaxis": "x",
         "y": [
          0.9989437410998864,
          0.9989437018782537,
          0.9985885913529687,
          0.9949271431149123,
          1.6018594411758766,
          2.8458171826239957,
          1.2719663799293246,
          -1
         ],
         "yaxis": "y"
        },
        {
         "hovertemplate": "standard=cascaded<br>file=500mb_mozilla<br>chunk_size=%{x}<br>decompression_utilization=%{y}<extra></extra>",
         "legendgroup": "cascaded",
         "line": {
          "color": "#19d3f3",
          "dash": "solid"
         },
         "marker": {
          "symbol": "circle"
         },
         "mode": "lines+markers",
         "name": "cascaded",
         "orientation": "v",
         "showlegend": true,
         "type": "scatter",
         "x": [
          65536000,
          16384000,
          4096000,
          1024000,
          256000,
          64000,
          16000,
          4000
         ],
         "xaxis": "x6",
         "y": [
          0.9999377942594894,
          0.9997871561792837,
          0.999240257779463,
          1.0131305398365937,
          3.4185465338092,
          8.371896373688923,
          16.201245146366297,
          18.279381951527764
         ],
         "yaxis": "y6"
        },
        {
         "hovertemplate": "standard=cascaded<br>file=500mb_mr<br>chunk_size=%{x}<br>decompression_utilization=%{y}<extra></extra>",
         "legendgroup": "cascaded",
         "line": {
          "color": "#19d3f3",
          "dash": "solid"
         },
         "marker": {
          "symbol": "circle"
         },
         "mode": "lines+markers",
         "name": "cascaded",
         "orientation": "v",
         "showlegend": false,
         "type": "scatter",
         "x": [
          65536000,
          16384000,
          4096000,
          1024000,
          256000,
          64000,
          16000,
          4000
         ],
         "xaxis": "x5",
         "y": [
          0.9996679905140509,
          0.9996821172601438,
          0.9991568599232163,
          0.9967716867169683,
          0.8786975796713863,
          4.352828403019004,
          1.74124044386637,
          9.651684799962016
         ],
         "yaxis": "y5"
        },
        {
         "hovertemplate": "standard=cascaded<br>file=500mb_samba<br>chunk_size=%{x}<br>decompression_utilization=%{y}<extra></extra>",
         "legendgroup": "cascaded",
         "line": {
          "color": "#19d3f3",
          "dash": "solid"
         },
         "marker": {
          "symbol": "circle"
         },
         "mode": "lines+markers",
         "name": "cascaded",
         "orientation": "v",
         "showlegend": false,
         "type": "scatter",
         "x": [
          65536000,
          16384000,
          4096000,
          1024000,
          256000,
          64000,
          16000,
          4000
         ],
         "xaxis": "x3",
         "y": [
          0.9992840608286088,
          0.9993951028933387,
          0.9991684718853566,
          0.3315367927238815,
          1.3339512023348994,
          3.621581494413085,
          14.587074048201632,
          2.2801159111380733
         ],
         "yaxis": "y3"
        },
        {
         "hovertemplate": "standard=cascaded<br>file=500mb_sao<br>chunk_size=%{x}<br>decompression_utilization=%{y}<extra></extra>",
         "legendgroup": "cascaded",
         "line": {
          "color": "#19d3f3",
          "dash": "solid"
         },
         "marker": {
          "symbol": "circle"
         },
         "mode": "lines+markers",
         "name": "cascaded",
         "orientation": "v",
         "showlegend": false,
         "type": "scatter",
         "x": [
          65536000,
          16384000,
          4096000,
          1024000,
          256000,
          64000,
          16000,
          4000
         ],
         "xaxis": "x2",
         "y": [
          0.3315062494273464,
          0.9966138618892455,
          0.9909362974052036,
          0.9714528505109521,
          0.8937491533804173,
          -1,
          -1,
          0.4557427423119816
         ],
         "yaxis": "y2"
        },
        {
         "hovertemplate": "standard=cascaded<br>file=500mb_xml<br>chunk_size=%{x}<br>decompression_utilization=%{y}<extra></extra>",
         "legendgroup": "cascaded",
         "line": {
          "color": "#19d3f3",
          "dash": "solid"
         },
         "marker": {
          "symbol": "circle"
         },
         "mode": "lines+markers",
         "name": "cascaded",
         "orientation": "v",
         "showlegend": false,
         "type": "scatter",
         "x": [
          65536000,
          16384000,
          4096000,
          1024000,
          256000,
          64000,
          16000,
          4000
         ],
         "xaxis": "x",
         "y": [
          0.9944645964904675,
          0.9944603686261724,
          0.9910439116628742,
          0.9854373326291044,
          0.9853092550415801,
          0.8932170979475383,
          -0.10205220481049565,
          -0.003842907037671567
         ],
         "yaxis": "y"
        }
       ],
       "layout": {
        "annotations": [
         {
          "font": {},
          "showarrow": false,
          "text": "file=500mb_xml",
          "textangle": 90,
          "x": 0.98,
          "xanchor": "left",
          "xref": "paper",
          "y": 0.05857142857142857,
          "yanchor": "middle",
          "yref": "paper"
         },
         {
          "font": {},
          "showarrow": false,
          "text": "file=500mb_sao",
          "textangle": 90,
          "x": 0.98,
          "xanchor": "left",
          "xref": "paper",
          "y": 0.2057142857142857,
          "yanchor": "middle",
          "yref": "paper"
         },
         {
          "font": {},
          "showarrow": false,
          "text": "file=500mb_samba",
          "textangle": 90,
          "x": 0.98,
          "xanchor": "left",
          "xref": "paper",
          "y": 0.35285714285714287,
          "yanchor": "middle",
          "yref": "paper"
         },
         {
          "font": {},
          "showarrow": false,
          "text": "file=500mb_nci",
          "textangle": 90,
          "x": 0.98,
          "xanchor": "left",
          "xref": "paper",
          "y": 0.49999999999999994,
          "yanchor": "middle",
          "yref": "paper"
         },
         {
          "font": {},
          "showarrow": false,
          "text": "file=500mb_mr",
          "textangle": 90,
          "x": 0.98,
          "xanchor": "left",
          "xref": "paper",
          "y": 0.647142857142857,
          "yanchor": "middle",
          "yref": "paper"
         },
         {
          "font": {},
          "showarrow": false,
          "text": "file=500mb_mozilla",
          "textangle": 90,
          "x": 0.98,
          "xanchor": "left",
          "xref": "paper",
          "y": 0.7942857142857143,
          "yanchor": "middle",
          "yref": "paper"
         },
         {
          "font": {},
          "showarrow": false,
          "text": "file=500mb_dickens",
          "textangle": 90,
          "x": 0.98,
          "xanchor": "left",
          "xref": "paper",
          "y": 0.9414285714285713,
          "yanchor": "middle",
          "yref": "paper"
         }
        ],
        "height": 1200,
        "legend": {
         "title": {
          "text": "standard"
         },
         "tracegroupgap": 0
        },
        "template": {
         "data": {
          "bar": [
           {
            "error_x": {
             "color": "#2a3f5f"
            },
            "error_y": {
             "color": "#2a3f5f"
            },
            "marker": {
             "line": {
              "color": "#E5ECF6",
              "width": 0.5
             },
             "pattern": {
              "fillmode": "overlay",
              "size": 10,
              "solidity": 0.2
             }
            },
            "type": "bar"
           }
          ],
          "barpolar": [
           {
            "marker": {
             "line": {
              "color": "#E5ECF6",
              "width": 0.5
             },
             "pattern": {
              "fillmode": "overlay",
              "size": 10,
              "solidity": 0.2
             }
            },
            "type": "barpolar"
           }
          ],
          "carpet": [
           {
            "aaxis": {
             "endlinecolor": "#2a3f5f",
             "gridcolor": "white",
             "linecolor": "white",
             "minorgridcolor": "white",
             "startlinecolor": "#2a3f5f"
            },
            "baxis": {
             "endlinecolor": "#2a3f5f",
             "gridcolor": "white",
             "linecolor": "white",
             "minorgridcolor": "white",
             "startlinecolor": "#2a3f5f"
            },
            "type": "carpet"
           }
          ],
          "choropleth": [
           {
            "colorbar": {
             "outlinewidth": 0,
             "ticks": ""
            },
            "type": "choropleth"
           }
          ],
          "contour": [
           {
            "colorbar": {
             "outlinewidth": 0,
             "ticks": ""
            },
            "colorscale": [
             [
              0,
              "#0d0887"
             ],
             [
              0.1111111111111111,
              "#46039f"
             ],
             [
              0.2222222222222222,
              "#7201a8"
             ],
             [
              0.3333333333333333,
              "#9c179e"
             ],
             [
              0.4444444444444444,
              "#bd3786"
             ],
             [
              0.5555555555555556,
              "#d8576b"
             ],
             [
              0.6666666666666666,
              "#ed7953"
             ],
             [
              0.7777777777777778,
              "#fb9f3a"
             ],
             [
              0.8888888888888888,
              "#fdca26"
             ],
             [
              1,
              "#f0f921"
             ]
            ],
            "type": "contour"
           }
          ],
          "contourcarpet": [
           {
            "colorbar": {
             "outlinewidth": 0,
             "ticks": ""
            },
            "type": "contourcarpet"
           }
          ],
          "heatmap": [
           {
            "colorbar": {
             "outlinewidth": 0,
             "ticks": ""
            },
            "colorscale": [
             [
              0,
              "#0d0887"
             ],
             [
              0.1111111111111111,
              "#46039f"
             ],
             [
              0.2222222222222222,
              "#7201a8"
             ],
             [
              0.3333333333333333,
              "#9c179e"
             ],
             [
              0.4444444444444444,
              "#bd3786"
             ],
             [
              0.5555555555555556,
              "#d8576b"
             ],
             [
              0.6666666666666666,
              "#ed7953"
             ],
             [
              0.7777777777777778,
              "#fb9f3a"
             ],
             [
              0.8888888888888888,
              "#fdca26"
             ],
             [
              1,
              "#f0f921"
             ]
            ],
            "type": "heatmap"
           }
          ],
          "heatmapgl": [
           {
            "colorbar": {
             "outlinewidth": 0,
             "ticks": ""
            },
            "colorscale": [
             [
              0,
              "#0d0887"
             ],
             [
              0.1111111111111111,
              "#46039f"
             ],
             [
              0.2222222222222222,
              "#7201a8"
             ],
             [
              0.3333333333333333,
              "#9c179e"
             ],
             [
              0.4444444444444444,
              "#bd3786"
             ],
             [
              0.5555555555555556,
              "#d8576b"
             ],
             [
              0.6666666666666666,
              "#ed7953"
             ],
             [
              0.7777777777777778,
              "#fb9f3a"
             ],
             [
              0.8888888888888888,
              "#fdca26"
             ],
             [
              1,
              "#f0f921"
             ]
            ],
            "type": "heatmapgl"
           }
          ],
          "histogram": [
           {
            "marker": {
             "pattern": {
              "fillmode": "overlay",
              "size": 10,
              "solidity": 0.2
             }
            },
            "type": "histogram"
           }
          ],
          "histogram2d": [
           {
            "colorbar": {
             "outlinewidth": 0,
             "ticks": ""
            },
            "colorscale": [
             [
              0,
              "#0d0887"
             ],
             [
              0.1111111111111111,
              "#46039f"
             ],
             [
              0.2222222222222222,
              "#7201a8"
             ],
             [
              0.3333333333333333,
              "#9c179e"
             ],
             [
              0.4444444444444444,
              "#bd3786"
             ],
             [
              0.5555555555555556,
              "#d8576b"
             ],
             [
              0.6666666666666666,
              "#ed7953"
             ],
             [
              0.7777777777777778,
              "#fb9f3a"
             ],
             [
              0.8888888888888888,
              "#fdca26"
             ],
             [
              1,
              "#f0f921"
             ]
            ],
            "type": "histogram2d"
           }
          ],
          "histogram2dcontour": [
           {
            "colorbar": {
             "outlinewidth": 0,
             "ticks": ""
            },
            "colorscale": [
             [
              0,
              "#0d0887"
             ],
             [
              0.1111111111111111,
              "#46039f"
             ],
             [
              0.2222222222222222,
              "#7201a8"
             ],
             [
              0.3333333333333333,
              "#9c179e"
             ],
             [
              0.4444444444444444,
              "#bd3786"
             ],
             [
              0.5555555555555556,
              "#d8576b"
             ],
             [
              0.6666666666666666,
              "#ed7953"
             ],
             [
              0.7777777777777778,
              "#fb9f3a"
             ],
             [
              0.8888888888888888,
              "#fdca26"
             ],
             [
              1,
              "#f0f921"
             ]
            ],
            "type": "histogram2dcontour"
           }
          ],
          "mesh3d": [
           {
            "colorbar": {
             "outlinewidth": 0,
             "ticks": ""
            },
            "type": "mesh3d"
           }
          ],
          "parcoords": [
           {
            "line": {
             "colorbar": {
              "outlinewidth": 0,
              "ticks": ""
             }
            },
            "type": "parcoords"
           }
          ],
          "pie": [
           {
            "automargin": true,
            "type": "pie"
           }
          ],
          "scatter": [
           {
            "fillpattern": {
             "fillmode": "overlay",
             "size": 10,
             "solidity": 0.2
            },
            "type": "scatter"
           }
          ],
          "scatter3d": [
           {
            "line": {
             "colorbar": {
              "outlinewidth": 0,
              "ticks": ""
             }
            },
            "marker": {
             "colorbar": {
              "outlinewidth": 0,
              "ticks": ""
             }
            },
            "type": "scatter3d"
           }
          ],
          "scattercarpet": [
           {
            "marker": {
             "colorbar": {
              "outlinewidth": 0,
              "ticks": ""
             }
            },
            "type": "scattercarpet"
           }
          ],
          "scattergeo": [
           {
            "marker": {
             "colorbar": {
              "outlinewidth": 0,
              "ticks": ""
             }
            },
            "type": "scattergeo"
           }
          ],
          "scattergl": [
           {
            "marker": {
             "colorbar": {
              "outlinewidth": 0,
              "ticks": ""
             }
            },
            "type": "scattergl"
           }
          ],
          "scattermapbox": [
           {
            "marker": {
             "colorbar": {
              "outlinewidth": 0,
              "ticks": ""
             }
            },
            "type": "scattermapbox"
           }
          ],
          "scatterpolar": [
           {
            "marker": {
             "colorbar": {
              "outlinewidth": 0,
              "ticks": ""
             }
            },
            "type": "scatterpolar"
           }
          ],
          "scatterpolargl": [
           {
            "marker": {
             "colorbar": {
              "outlinewidth": 0,
              "ticks": ""
             }
            },
            "type": "scatterpolargl"
           }
          ],
          "scatterternary": [
           {
            "marker": {
             "colorbar": {
              "outlinewidth": 0,
              "ticks": ""
             }
            },
            "type": "scatterternary"
           }
          ],
          "surface": [
           {
            "colorbar": {
             "outlinewidth": 0,
             "ticks": ""
            },
            "colorscale": [
             [
              0,
              "#0d0887"
             ],
             [
              0.1111111111111111,
              "#46039f"
             ],
             [
              0.2222222222222222,
              "#7201a8"
             ],
             [
              0.3333333333333333,
              "#9c179e"
             ],
             [
              0.4444444444444444,
              "#bd3786"
             ],
             [
              0.5555555555555556,
              "#d8576b"
             ],
             [
              0.6666666666666666,
              "#ed7953"
             ],
             [
              0.7777777777777778,
              "#fb9f3a"
             ],
             [
              0.8888888888888888,
              "#fdca26"
             ],
             [
              1,
              "#f0f921"
             ]
            ],
            "type": "surface"
           }
          ],
          "table": [
           {
            "cells": {
             "fill": {
              "color": "#EBF0F8"
             },
             "line": {
              "color": "white"
             }
            },
            "header": {
             "fill": {
              "color": "#C8D4E3"
             },
             "line": {
              "color": "white"
             }
            },
            "type": "table"
           }
          ]
         },
         "layout": {
          "annotationdefaults": {
           "arrowcolor": "#2a3f5f",
           "arrowhead": 0,
           "arrowwidth": 1
          },
          "autotypenumbers": "strict",
          "coloraxis": {
           "colorbar": {
            "outlinewidth": 0,
            "ticks": ""
           }
          },
          "colorscale": {
           "diverging": [
            [
             0,
             "#8e0152"
            ],
            [
             0.1,
             "#c51b7d"
            ],
            [
             0.2,
             "#de77ae"
            ],
            [
             0.3,
             "#f1b6da"
            ],
            [
             0.4,
             "#fde0ef"
            ],
            [
             0.5,
             "#f7f7f7"
            ],
            [
             0.6,
             "#e6f5d0"
            ],
            [
             0.7,
             "#b8e186"
            ],
            [
             0.8,
             "#7fbc41"
            ],
            [
             0.9,
             "#4d9221"
            ],
            [
             1,
             "#276419"
            ]
           ],
           "sequential": [
            [
             0,
             "#0d0887"
            ],
            [
             0.1111111111111111,
             "#46039f"
            ],
            [
             0.2222222222222222,
             "#7201a8"
            ],
            [
             0.3333333333333333,
             "#9c179e"
            ],
            [
             0.4444444444444444,
             "#bd3786"
            ],
            [
             0.5555555555555556,
             "#d8576b"
            ],
            [
             0.6666666666666666,
             "#ed7953"
            ],
            [
             0.7777777777777778,
             "#fb9f3a"
            ],
            [
             0.8888888888888888,
             "#fdca26"
            ],
            [
             1,
             "#f0f921"
            ]
           ],
           "sequentialminus": [
            [
             0,
             "#0d0887"
            ],
            [
             0.1111111111111111,
             "#46039f"
            ],
            [
             0.2222222222222222,
             "#7201a8"
            ],
            [
             0.3333333333333333,
             "#9c179e"
            ],
            [
             0.4444444444444444,
             "#bd3786"
            ],
            [
             0.5555555555555556,
             "#d8576b"
            ],
            [
             0.6666666666666666,
             "#ed7953"
            ],
            [
             0.7777777777777778,
             "#fb9f3a"
            ],
            [
             0.8888888888888888,
             "#fdca26"
            ],
            [
             1,
             "#f0f921"
            ]
           ]
          },
          "colorway": [
           "#636efa",
           "#EF553B",
           "#00cc96",
           "#ab63fa",
           "#FFA15A",
           "#19d3f3",
           "#FF6692",
           "#B6E880",
           "#FF97FF",
           "#FECB52"
          ],
          "font": {
           "color": "#2a3f5f"
          },
          "geo": {
           "bgcolor": "white",
           "lakecolor": "white",
           "landcolor": "#E5ECF6",
           "showlakes": true,
           "showland": true,
           "subunitcolor": "white"
          },
          "hoverlabel": {
           "align": "left"
          },
          "hovermode": "closest",
          "mapbox": {
           "style": "light"
          },
          "paper_bgcolor": "white",
          "plot_bgcolor": "#E5ECF6",
          "polar": {
           "angularaxis": {
            "gridcolor": "white",
            "linecolor": "white",
            "ticks": ""
           },
           "bgcolor": "#E5ECF6",
           "radialaxis": {
            "gridcolor": "white",
            "linecolor": "white",
            "ticks": ""
           }
          },
          "scene": {
           "xaxis": {
            "backgroundcolor": "#E5ECF6",
            "gridcolor": "white",
            "gridwidth": 2,
            "linecolor": "white",
            "showbackground": true,
            "ticks": "",
            "zerolinecolor": "white"
           },
           "yaxis": {
            "backgroundcolor": "#E5ECF6",
            "gridcolor": "white",
            "gridwidth": 2,
            "linecolor": "white",
            "showbackground": true,
            "ticks": "",
            "zerolinecolor": "white"
           },
           "zaxis": {
            "backgroundcolor": "#E5ECF6",
            "gridcolor": "white",
            "gridwidth": 2,
            "linecolor": "white",
            "showbackground": true,
            "ticks": "",
            "zerolinecolor": "white"
           }
          },
          "shapedefaults": {
           "line": {
            "color": "#2a3f5f"
           }
          },
          "ternary": {
           "aaxis": {
            "gridcolor": "white",
            "linecolor": "white",
            "ticks": ""
           },
           "baxis": {
            "gridcolor": "white",
            "linecolor": "white",
            "ticks": ""
           },
           "bgcolor": "#E5ECF6",
           "caxis": {
            "gridcolor": "white",
            "linecolor": "white",
            "ticks": ""
           }
          },
          "title": {
           "x": 0.05
          },
          "xaxis": {
           "automargin": true,
           "gridcolor": "white",
           "linecolor": "white",
           "ticks": "",
           "title": {
            "standoff": 15
           },
           "zerolinecolor": "white",
           "zerolinewidth": 2
          },
          "yaxis": {
           "automargin": true,
           "gridcolor": "white",
           "linecolor": "white",
           "ticks": "",
           "title": {
            "standoff": 15
           },
           "zerolinecolor": "white",
           "zerolinewidth": 2
          }
         }
        },
        "title": {
         "text": "GPU utilization during decompression per file  at different chunk sizes"
        },
        "width": 800,
        "xaxis": {
         "anchor": "y",
         "domain": [
          0,
          0.98
         ],
         "title": {
          "text": "chunk_size"
         },
         "type": "log"
        },
        "xaxis2": {
         "anchor": "y2",
         "domain": [
          0,
          0.98
         ],
         "matches": "x",
         "showticklabels": false,
         "type": "log"
        },
        "xaxis3": {
         "anchor": "y3",
         "domain": [
          0,
          0.98
         ],
         "matches": "x",
         "showticklabels": false,
         "type": "log"
        },
        "xaxis4": {
         "anchor": "y4",
         "domain": [
          0,
          0.98
         ],
         "matches": "x",
         "showticklabels": false,
         "type": "log"
        },
        "xaxis5": {
         "anchor": "y5",
         "domain": [
          0,
          0.98
         ],
         "matches": "x",
         "showticklabels": false,
         "type": "log"
        },
        "xaxis6": {
         "anchor": "y6",
         "domain": [
          0,
          0.98
         ],
         "matches": "x",
         "showticklabels": false,
         "type": "log"
        },
        "xaxis7": {
         "anchor": "y7",
         "domain": [
          0,
          0.98
         ],
         "matches": "x",
         "showticklabels": false,
         "type": "log"
        },
        "yaxis": {
         "anchor": "x",
         "domain": [
          0,
          0.11714285714285715
         ],
         "title": {
          "text": "decompression_utilization"
         }
        },
        "yaxis2": {
         "anchor": "x2",
         "domain": [
          0.14714285714285713,
          0.2642857142857143
         ],
         "matches": "y",
         "title": {
          "text": "decompression_utilization"
         }
        },
        "yaxis3": {
         "anchor": "x3",
         "domain": [
          0.29428571428571426,
          0.4114285714285714
         ],
         "matches": "y",
         "title": {
          "text": "decompression_utilization"
         }
        },
        "yaxis4": {
         "anchor": "x4",
         "domain": [
          0.4414285714285714,
          0.5585714285714285
         ],
         "matches": "y",
         "title": {
          "text": "decompression_utilization"
         }
        },
        "yaxis5": {
         "anchor": "x5",
         "domain": [
          0.5885714285714285,
          0.7057142857142856
         ],
         "matches": "y",
         "title": {
          "text": "decompression_utilization"
         }
        },
        "yaxis6": {
         "anchor": "x6",
         "domain": [
          0.7357142857142858,
          0.8528571428571429
         ],
         "matches": "y",
         "title": {
          "text": "decompression_utilization"
         }
        },
        "yaxis7": {
         "anchor": "x7",
         "domain": [
          0.8828571428571428,
          0.9999999999999999
         ],
         "matches": "y",
         "title": {
          "text": "decompression_utilization"
         }
        }
       }
      }
     },
     "metadata": {},
     "output_type": "display_data"
    }
   ],
   "source": [
    "fig_utilization_file = px.line(\n",
    "    result_df,\n",
    "    title=f\"GPU utilization during decompression per file  at different chunk sizes\", \n",
    "    x=\"chunk_size\",\n",
    "    y=\"decompression_utilization\",\n",
    "    color=\"standard\",\n",
    "    log_x=True,\n",
    "    markers=True,\n",
    "    #log_y=True,\n",
    "    facet_row=\"file\",\n",
    "    # facet_row_spacing=0.05,\n",
    "    height=1200,\n",
    "    width=800,\n",
    ")\n",
    "# fig_utilization_standard.update_xaxes(autorange=\"reversed\")\n",
    "\n",
    "\n",
    "fig_utilization_file.show()"
   ]
  },
  {
   "cell_type": "markdown",
   "metadata": {},
   "source": []
  }
 ],
 "metadata": {
  "kernelspec": {
   "display_name": "Python 3 (ipykernel)",
   "language": "python",
   "name": "python3"
  },
  "language_info": {
   "codemirror_mode": {
    "name": "ipython",
    "version": 3
   },
   "file_extension": ".py",
   "mimetype": "text/x-python",
   "name": "python",
   "nbconvert_exporter": "python",
   "pygments_lexer": "ipython3",
   "version": "3.10.13"
  }
 },
 "nbformat": 4,
 "nbformat_minor": 4
}
