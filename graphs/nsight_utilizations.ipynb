{
 "cells": [
  {
   "cell_type": "code",
   "execution_count": 7,
   "metadata": {},
   "outputs": [],
   "source": [
    "import pandas as pd\n",
    "import plotly.express as px\n",
    "import plotly.graph_objects as go\n",
    "import plotly.io as pio\n",
    "from plotly.subplots import make_subplots\n",
    "import numpy as np\n",
    "import pyarrow as pa\n",
    "from pynsys.nsys_scanner import NsysScanner\n",
    "\n",
    "input_dir = '../data/compare_gpu_exact/a100/'\n",
    "\n",
    "compressors = ['snappy', 'zstd', 'gdeflate', 'lz4', 'cascaded', 'bitcomp']\n",
    "compression_files = ['1gb_dickens', '1gb_mozilla', '1gb_mr', '1gb_nci', '1gb_samba', '1gb_sao', '1gb_silesia.zip', '1gb_xml', '1gb_lineitem.parquet']\n",
    "approx_number_of_threads = [8, 32, 128, 512, 2048, 8192, 32768, 131072, 524288, 2097152, 8388608]\n",
    "FILE_SIZE=524288000\n"
   ]
  },
  {
   "cell_type": "code",
   "execution_count": 8,
   "metadata": {},
   "outputs": [
    {
     "name": "stdout",
     "output_type": "stream",
     "text": [
      "Failed getting utilization of snappy 1gb_dickens 8 threads: \"Unable to synchronously open object (object 'TARGET_INFO_GPU_METRICS' doesn't exist)\"\n",
      "1gb_dickens  snappy  32  1.0  1.0\n",
      "1gb_dickens  snappy  128  3.7944029247549396  3.8545732499714047\n",
      "1gb_dickens  snappy  512  14.488014950759863  14.315356417182802\n",
      "1gb_dickens  snappy  2048  35.1622545180542  51.721908475121545\n",
      "1gb_dickens  snappy  8192  48.09527640270693  84.65191530144759\n",
      "1gb_dickens  snappy  32768  51.68407097433246  95.61622077132225\n",
      "Failed getting utilization of snappy 1gb_dickens 131072 threads: \"Unable to synchronously open object (object 'TARGET_INFO_GPU_METRICS' doesn't exist)\"\n",
      "1gb_dickens  snappy  524288  52.877961535873794  96.91268910267198\n",
      "Failed getting utilization of snappy 1gb_dickens 2097152 threads: [Errno 2] Unable to synchronously open file (unable to open file: name = '../data/compare_gpu_exact/a100/output_snappy_1gb_dickens_2097152threads.h5', errno = 2, error message = 'No such file or directory', flags = 0, o_flags = 0)\n",
      "Failed getting utilization of snappy 1gb_dickens 8388608 threads: [Errno 2] Unable to synchronously open file (unable to open file: name = '../data/compare_gpu_exact/a100/output_snappy_1gb_dickens_8388608threads.h5', errno = 2, error message = 'No such file or directory', flags = 0, o_flags = 0)\n",
      "Failed getting utilization of zstd 1gb_dickens 8 threads: \"Unable to synchronously open object (object 'CUPTI_ACTIVITY_KIND_KERNEL' doesn't exist)\"\n",
      "Failed getting utilization of zstd 1gb_dickens 32 threads: \"Unable to synchronously open object (object 'CUPTI_ACTIVITY_KIND_KERNEL' doesn't exist)\"\n",
      "Failed getting utilization of zstd 1gb_dickens 128 threads: \"Unable to synchronously open object (object 'TARGET_INFO_GPU_METRICS' doesn't exist)\"\n",
      "1gb_dickens  zstd  512  14.149746155807014  19.22782863520729\n",
      "Failed getting utilization of zstd 1gb_dickens 2048 threads: \"Unable to synchronously open object (object 'TARGET_INFO_GPU_METRICS' doesn't exist)\"\n",
      "1gb_dickens  zstd  8192  40.1972306061468  49.38722449891945\n",
      "1gb_dickens  zstd  32768  43.490915159524036  48.56754949191105\n",
      "1gb_dickens  zstd  131072  43.90520431716525  43.74649336014717\n",
      "1gb_dickens  zstd  524288  43.084885785006136  39.9680365953551\n",
      "Failed getting utilization of zstd 1gb_dickens 2097152 threads: [Errno 2] Unable to synchronously open file (unable to open file: name = '../data/compare_gpu_exact/a100/output_zstd_1gb_dickens_2097152threads.h5', errno = 2, error message = 'No such file or directory', flags = 0, o_flags = 0)\n",
      "Failed getting utilization of zstd 1gb_dickens 8388608 threads: [Errno 2] Unable to synchronously open file (unable to open file: name = '../data/compare_gpu_exact/a100/output_zstd_1gb_dickens_8388608threads.h5', errno = 2, error message = 'No such file or directory', flags = 0, o_flags = 0)\n",
      "Failed getting utilization of gdeflate 1gb_dickens 8 threads: \"Unable to synchronously open object (object 'CUPTI_ACTIVITY_KIND_KERNEL' doesn't exist)\"\n",
      "Failed getting utilization of gdeflate 1gb_dickens 32 threads: \"Unable to synchronously open object (object 'CUPTI_ACTIVITY_KIND_KERNEL' doesn't exist)\"\n",
      "Failed getting utilization of gdeflate 1gb_dickens 128 threads: \"Unable to synchronously open object (object 'CUPTI_ACTIVITY_KIND_KERNEL' doesn't exist)\"\n",
      "Failed getting utilization of gdeflate 1gb_dickens 512 threads: \"Unable to synchronously open object (object 'CUPTI_ACTIVITY_KIND_KERNEL' doesn't exist)\"\n",
      "Failed getting utilization of gdeflate 1gb_dickens 2048 threads: \"Unable to synchronously open object (object 'CUPTI_ACTIVITY_KIND_KERNEL' doesn't exist)\"\n",
      "Failed getting utilization of gdeflate 1gb_dickens 8192 threads: \"Unable to synchronously open object (object 'CUPTI_ACTIVITY_KIND_KERNEL' doesn't exist)\"\n",
      "Failed getting utilization of gdeflate 1gb_dickens 32768 threads: \"Unable to synchronously open object (object 'TARGET_INFO_GPU_METRICS' doesn't exist)\"\n",
      "1gb_dickens  gdeflate  131072  44.15334713492933  42.54430111281937\n",
      "Failed getting utilization of gdeflate 1gb_dickens 524288 threads: \"Unable to synchronously open object (object 'TARGET_INFO_GPU_METRICS' doesn't exist)\"\n",
      "Failed getting utilization of gdeflate 1gb_dickens 2097152 threads: [Errno 2] Unable to synchronously open file (unable to open file: name = '../data/compare_gpu_exact/a100/output_gdeflate_1gb_dickens_2097152threads.h5', errno = 2, error message = 'No such file or directory', flags = 0, o_flags = 0)\n",
      "Failed getting utilization of gdeflate 1gb_dickens 8388608 threads: [Errno 2] Unable to synchronously open file (unable to open file: name = '../data/compare_gpu_exact/a100/output_gdeflate_1gb_dickens_8388608threads.h5', errno = 2, error message = 'No such file or directory', flags = 0, o_flags = 0)\n",
      "Failed getting utilization of lz4 1gb_dickens 8 threads: \"Unable to synchronously open object (object 'CUPTI_ACTIVITY_KIND_KERNEL' doesn't exist)\"\n",
      "Failed getting utilization of lz4 1gb_dickens 32 threads: \"Unable to synchronously open object (object 'CUPTI_ACTIVITY_KIND_KERNEL' doesn't exist)\"\n",
      "1gb_dickens  lz4  128  1.9294047807638082  2.2530419330619234\n",
      "1gb_dickens  lz4  512  6.5421999023829525  6.762746960609403\n",
      "1gb_dickens  lz4  2048  29.30087683222655  26.68437772477111\n",
      "Failed getting utilization of lz4 1gb_dickens 8192 threads: \"Unable to synchronously open object (object 'TARGET_INFO_GPU_METRICS' doesn't exist)\"\n",
      "1gb_dickens  lz4  32768  47.79393934186626  47.294412685178045\n",
      "1gb_dickens  lz4  131072  49.537857235790696  48.35069037649741\n",
      "1gb_dickens  lz4  524288  49.78587406307338  48.25774046760506\n",
      "Failed getting utilization of lz4 1gb_dickens 2097152 threads: [Errno 2] Unable to synchronously open file (unable to open file: name = '../data/compare_gpu_exact/a100/output_lz4_1gb_dickens_2097152threads.h5', errno = 2, error message = 'No such file or directory', flags = 0, o_flags = 0)\n",
      "Failed getting utilization of lz4 1gb_dickens 8388608 threads: [Errno 2] Unable to synchronously open file (unable to open file: name = '../data/compare_gpu_exact/a100/output_lz4_1gb_dickens_8388608threads.h5', errno = 2, error message = 'No such file or directory', flags = 0, o_flags = 0)\n",
      "1gb_dickens  cascaded  8  1.0  0.3332651412651287\n",
      "1gb_dickens  cascaded  32  1.9851270691447607  1.9610369737174485\n",
      "1gb_dickens  cascaded  128  6.687857549544594  4.0075964986652615\n",
      "1gb_dickens  cascaded  512  27.932367546023933  18.643164463441526\n",
      "1gb_dickens  cascaded  2048  42.26851379987036  25.633465947123227\n",
      "1gb_dickens  cascaded  8192  47.84063875405566  45.52438945799591\n",
      "1gb_dickens  cascaded  32768  49.19514097678787  45.69469517773744\n",
      "1gb_dickens  cascaded  131072  49.638835588134086  43.764256247192186\n",
      "1gb_dickens  cascaded  524288  48.81958527217049  38.64384429388337\n",
      "Failed getting utilization of cascaded 1gb_dickens 2097152 threads: [Errno 2] Unable to synchronously open file (unable to open file: name = '../data/compare_gpu_exact/a100/output_cascaded_1gb_dickens_2097152threads.h5', errno = 2, error message = 'No such file or directory', flags = 0, o_flags = 0)\n",
      "Failed getting utilization of cascaded 1gb_dickens 8388608 threads: [Errno 2] Unable to synchronously open file (unable to open file: name = '../data/compare_gpu_exact/a100/output_cascaded_1gb_dickens_8388608threads.h5', errno = 2, error message = 'No such file or directory', flags = 0, o_flags = 0)\n",
      "1gb_dickens  bitcomp  8  1.4241170106340921  1.7998162461172864\n",
      "1gb_dickens  bitcomp  32  3.979718308179266  3.963248859922275\n",
      "Failed getting utilization of bitcomp 1gb_dickens 128 threads: \"Unable to synchronously open object (object 'TARGET_INFO_GPU_METRICS' doesn't exist)\"\n",
      "1gb_dickens  bitcomp  512  29.595432816944566  54.80086981995497\n",
      "Failed getting utilization of bitcomp 1gb_dickens 2048 threads: \"Unable to synchronously open object (object 'TARGET_INFO_GPU_METRICS' doesn't exist)\"\n",
      "1gb_dickens  bitcomp  8192  35.9542811552283  70.81820702220524\n",
      "1gb_dickens  bitcomp  32768  36.37574049997188  73.00511480858529\n",
      "1gb_dickens  bitcomp  131072  35.38335567226758  72.69145781727747\n",
      "1gb_dickens  bitcomp  524288  35.740219583096454  69.25946444829057\n",
      "Failed getting utilization of bitcomp 1gb_dickens 2097152 threads: [Errno 2] Unable to synchronously open file (unable to open file: name = '../data/compare_gpu_exact/a100/output_bitcomp_1gb_dickens_2097152threads.h5', errno = 2, error message = 'No such file or directory', flags = 0, o_flags = 0)\n",
      "Failed getting utilization of bitcomp 1gb_dickens 8388608 threads: [Errno 2] Unable to synchronously open file (unable to open file: name = '../data/compare_gpu_exact/a100/output_bitcomp_1gb_dickens_8388608threads.h5', errno = 2, error message = 'No such file or directory', flags = 0, o_flags = 0)\n",
      "1gb_mozilla  snappy  8  0.9500936394959245  0.9413982637177544\n",
      "Failed getting utilization of snappy 1gb_mozilla 32 threads: \"Unable to synchronously open object (object 'TARGET_INFO_GPU_METRICS' doesn't exist)\"\n",
      "Failed getting utilization of snappy 1gb_mozilla 128 threads: \"Unable to synchronously open object (object 'TARGET_INFO_GPU_METRICS' doesn't exist)\"\n",
      "1gb_mozilla  snappy  512  12.347398121936221  11.02508763106562\n",
      "1gb_mozilla  snappy  2048  34.22871849087903  40.23607952208788\n",
      "1gb_mozilla  snappy  8192  47.47180274227182  72.70273339007153\n",
      "1gb_mozilla  snappy  32768  51.14255023591397  87.65720779783517\n",
      "1gb_mozilla  snappy  131072  52.403383712535046  91.42593559542027\n",
      "1gb_mozilla  snappy  524288  52.75340287416077  90.9195303085317\n",
      "Failed getting utilization of snappy 1gb_mozilla 2097152 threads: [Errno 2] Unable to synchronously open file (unable to open file: name = '../data/compare_gpu_exact/a100/output_snappy_1gb_mozilla_2097152threads.h5', errno = 2, error message = 'No such file or directory', flags = 0, o_flags = 0)\n",
      "Failed getting utilization of snappy 1gb_mozilla 8388608 threads: [Errno 2] Unable to synchronously open file (unable to open file: name = '../data/compare_gpu_exact/a100/output_snappy_1gb_mozilla_8388608threads.h5', errno = 2, error message = 'No such file or directory', flags = 0, o_flags = 0)\n",
      "Failed getting utilization of zstd 1gb_mozilla 8 threads: \"Unable to synchronously open object (object 'CUPTI_ACTIVITY_KIND_KERNEL' doesn't exist)\"\n",
      "Failed getting utilization of zstd 1gb_mozilla 32 threads: \"Unable to synchronously open object (object 'CUPTI_ACTIVITY_KIND_KERNEL' doesn't exist)\"\n",
      "Failed getting utilization of zstd 1gb_mozilla 128 threads: \"Unable to synchronously open object (object 'TARGET_INFO_GPU_METRICS' doesn't exist)\"\n",
      "1gb_mozilla  zstd  512  12.288542229715754  13.258298141031805\n",
      "1gb_mozilla  zstd  2048  25.323872156180744  39.320300194062284\n",
      "1gb_mozilla  zstd  8192  37.378039824938405  44.72320226025634\n",
      "Failed getting utilization of zstd 1gb_mozilla 32768 threads: \"Unable to synchronously open object (object 'TARGET_INFO_GPU_METRICS' doesn't exist)\"\n",
      "1gb_mozilla  zstd  131072  40.557680931006345  42.96249313624594\n",
      "1gb_mozilla  zstd  524288  42.01092238566227  38.40680102987998\n",
      "Failed getting utilization of zstd 1gb_mozilla 2097152 threads: [Errno 2] Unable to synchronously open file (unable to open file: name = '../data/compare_gpu_exact/a100/output_zstd_1gb_mozilla_2097152threads.h5', errno = 2, error message = 'No such file or directory', flags = 0, o_flags = 0)\n",
      "Failed getting utilization of zstd 1gb_mozilla 8388608 threads: [Errno 2] Unable to synchronously open file (unable to open file: name = '../data/compare_gpu_exact/a100/output_zstd_1gb_mozilla_8388608threads.h5', errno = 2, error message = 'No such file or directory', flags = 0, o_flags = 0)\n",
      "Failed getting utilization of gdeflate 1gb_mozilla 8 threads: \"Unable to synchronously open object (object 'CUPTI_ACTIVITY_KIND_KERNEL' doesn't exist)\"\n",
      "Failed getting utilization of gdeflate 1gb_mozilla 32 threads: \"Unable to synchronously open object (object 'CUPTI_ACTIVITY_KIND_KERNEL' doesn't exist)\"\n",
      "Failed getting utilization of gdeflate 1gb_mozilla 128 threads: \"Unable to synchronously open object (object 'CUPTI_ACTIVITY_KIND_KERNEL' doesn't exist)\"\n",
      "Failed getting utilization of gdeflate 1gb_mozilla 512 threads: \"Unable to synchronously open object (object 'CUPTI_ACTIVITY_KIND_KERNEL' doesn't exist)\"\n",
      "Failed getting utilization of gdeflate 1gb_mozilla 2048 threads: \"Unable to synchronously open object (object 'CUPTI_ACTIVITY_KIND_KERNEL' doesn't exist)\"\n",
      "Failed getting utilization of gdeflate 1gb_mozilla 8192 threads: \"Unable to synchronously open object (object 'CUPTI_ACTIVITY_KIND_KERNEL' doesn't exist)\"\n",
      "Failed getting utilization of gdeflate 1gb_mozilla 32768 threads: \"Unable to synchronously open object (object 'TARGET_INFO_GPU_METRICS' doesn't exist)\"\n",
      "1gb_mozilla  gdeflate  131072  41.62486666658184  39.601642960182176\n",
      "Failed getting utilization of gdeflate 1gb_mozilla 524288 threads: \"Unable to synchronously open object (object 'TARGET_INFO_GPU_METRICS' doesn't exist)\"\n",
      "Failed getting utilization of gdeflate 1gb_mozilla 2097152 threads: [Errno 2] Unable to synchronously open file (unable to open file: name = '../data/compare_gpu_exact/a100/output_gdeflate_1gb_mozilla_2097152threads.h5', errno = 2, error message = 'No such file or directory', flags = 0, o_flags = 0)\n",
      "Failed getting utilization of gdeflate 1gb_mozilla 8388608 threads: [Errno 2] Unable to synchronously open file (unable to open file: name = '../data/compare_gpu_exact/a100/output_gdeflate_1gb_mozilla_8388608threads.h5', errno = 2, error message = 'No such file or directory', flags = 0, o_flags = 0)\n",
      "Failed getting utilization of lz4 1gb_mozilla 8 threads: \"Unable to synchronously open object (object 'CUPTI_ACTIVITY_KIND_KERNEL' doesn't exist)\"\n",
      "Failed getting utilization of lz4 1gb_mozilla 32 threads: \"Unable to synchronously open object (object 'CUPTI_ACTIVITY_KIND_KERNEL' doesn't exist)\"\n",
      "1gb_mozilla  lz4  128  1.7912529672928197  1.8295407205698715\n",
      "Failed getting utilization of lz4 1gb_mozilla 512 threads: \"Unable to synchronously open object (object 'TARGET_INFO_GPU_METRICS' doesn't exist)\"\n",
      "Failed getting utilization of lz4 1gb_mozilla 2048 threads: \"Unable to synchronously open object (object 'TARGET_INFO_GPU_METRICS' doesn't exist)\"\n",
      "Failed getting utilization of lz4 1gb_mozilla 8192 threads: \"Unable to synchronously open object (object 'TARGET_INFO_GPU_METRICS' doesn't exist)\"\n",
      "1gb_mozilla  lz4  32768  47.370840289085535  43.07051864260206\n",
      "1gb_mozilla  lz4  131072  49.017656493109875  44.85976562935064\n",
      "1gb_mozilla  lz4  524288  48.96251490208618  42.309283563128105\n",
      "Failed getting utilization of lz4 1gb_mozilla 2097152 threads: [Errno 2] Unable to synchronously open file (unable to open file: name = '../data/compare_gpu_exact/a100/output_lz4_1gb_mozilla_2097152threads.h5', errno = 2, error message = 'No such file or directory', flags = 0, o_flags = 0)\n",
      "Failed getting utilization of lz4 1gb_mozilla 8388608 threads: [Errno 2] Unable to synchronously open file (unable to open file: name = '../data/compare_gpu_exact/a100/output_lz4_1gb_mozilla_8388608threads.h5', errno = 2, error message = 'No such file or directory', flags = 0, o_flags = 0)\n",
      "Failed getting utilization of cascaded 1gb_mozilla 8 threads: \"Unable to synchronously open object (object 'TARGET_INFO_GPU_METRICS' doesn't exist)\"\n",
      "Failed getting utilization of cascaded 1gb_mozilla 32 threads: \"Unable to synchronously open object (object 'TARGET_INFO_GPU_METRICS' doesn't exist)\"\n",
      "Failed getting utilization of cascaded 1gb_mozilla 128 threads: \"Unable to synchronously open object (object 'TARGET_INFO_GPU_METRICS' doesn't exist)\"\n",
      "1gb_mozilla  cascaded  512  25.52153472990273  11.89705339744088\n",
      "Failed getting utilization of cascaded 1gb_mozilla 2048 threads: \"Unable to synchronously open object (object 'TARGET_INFO_GPU_METRICS' doesn't exist)\"\n",
      "1gb_mozilla  cascaded  8192  47.24245585544484  44.656480891546394\n",
      "Failed getting utilization of cascaded 1gb_mozilla 32768 threads: \"Unable to synchronously open object (object 'TARGET_INFO_GPU_METRICS' doesn't exist)\"\n",
      "Failed getting utilization of cascaded 1gb_mozilla 131072 threads: \"Unable to synchronously open object (object 'TARGET_INFO_GPU_METRICS' doesn't exist)\"\n",
      "Failed getting utilization of cascaded 1gb_mozilla 524288 threads: \"Unable to synchronously open object (object 'TARGET_INFO_GPU_METRICS' doesn't exist)\"\n",
      "Failed getting utilization of cascaded 1gb_mozilla 2097152 threads: [Errno 2] Unable to synchronously open file (unable to open file: name = '../data/compare_gpu_exact/a100/output_cascaded_1gb_mozilla_2097152threads.h5', errno = 2, error message = 'No such file or directory', flags = 0, o_flags = 0)\n",
      "Failed getting utilization of cascaded 1gb_mozilla 8388608 threads: [Errno 2] Unable to synchronously open file (unable to open file: name = '../data/compare_gpu_exact/a100/output_cascaded_1gb_mozilla_8388608threads.h5', errno = 2, error message = 'No such file or directory', flags = 0, o_flags = 0)\n",
      "Failed getting utilization of bitcomp 1gb_mozilla 8 threads: \"Unable to synchronously open object (object 'TARGET_INFO_GPU_METRICS' doesn't exist)\"\n",
      "1gb_mozilla  bitcomp  32  3.8920572097671062  3.6753842789904283\n",
      "Failed getting utilization of bitcomp 1gb_mozilla 128 threads: \"Unable to synchronously open object (object 'TARGET_INFO_GPU_METRICS' doesn't exist)\"\n",
      "1gb_mozilla  bitcomp  512  27.89407272021957  35.6163101538945\n",
      "Failed getting utilization of bitcomp 1gb_mozilla 2048 threads: \"Unable to synchronously open object (object 'TARGET_INFO_GPU_METRICS' doesn't exist)\"\n",
      "1gb_mozilla  bitcomp  8192  36.04340319539825  68.32907960116434\n",
      "1gb_mozilla  bitcomp  32768  36.18017656594393  71.13750485898002\n",
      "1gb_mozilla  bitcomp  131072  35.29289829927347  68.97933095284176\n",
      "Failed getting utilization of bitcomp 1gb_mozilla 524288 threads: \"Unable to synchronously open object (object 'TARGET_INFO_GPU_METRICS' doesn't exist)\"\n",
      "Failed getting utilization of bitcomp 1gb_mozilla 2097152 threads: [Errno 2] Unable to synchronously open file (unable to open file: name = '../data/compare_gpu_exact/a100/output_bitcomp_1gb_mozilla_2097152threads.h5', errno = 2, error message = 'No such file or directory', flags = 0, o_flags = 0)\n",
      "Failed getting utilization of bitcomp 1gb_mozilla 8388608 threads: [Errno 2] Unable to synchronously open file (unable to open file: name = '../data/compare_gpu_exact/a100/output_bitcomp_1gb_mozilla_8388608threads.h5', errno = 2, error message = 'No such file or directory', flags = 0, o_flags = 0)\n",
      "Failed getting utilization of snappy 1gb_mr 8 threads: \"Unable to synchronously open object (object 'TARGET_INFO_GPU_METRICS' doesn't exist)\"\n",
      "1gb_mr  snappy  32  1.0  1.0\n",
      "1gb_mr  snappy  128  3.7430762831480546  3.8433036904101083\n",
      "1gb_mr  snappy  512  13.084871110292713  13.48054236116813\n",
      "1gb_mr  snappy  2048  32.69936840457193  50.24667007259469\n",
      "1gb_mr  snappy  8192  43.060307432477366  75.66997695878322\n",
      "1gb_mr  snappy  32768  45.39193789425755  79.87586343958522\n",
      "Failed getting utilization of snappy 1gb_mr 131072 threads: \"Unable to synchronously open object (object 'TARGET_INFO_GPU_METRICS' doesn't exist)\"\n",
      "1gb_mr  snappy  524288  52.75549384381672  89.95678016783538\n",
      "Failed getting utilization of snappy 1gb_mr 2097152 threads: [Errno 2] Unable to synchronously open file (unable to open file: name = '../data/compare_gpu_exact/a100/output_snappy_1gb_mr_2097152threads.h5', errno = 2, error message = 'No such file or directory', flags = 0, o_flags = 0)\n",
      "Failed getting utilization of snappy 1gb_mr 8388608 threads: [Errno 2] Unable to synchronously open file (unable to open file: name = '../data/compare_gpu_exact/a100/output_snappy_1gb_mr_8388608threads.h5', errno = 2, error message = 'No such file or directory', flags = 0, o_flags = 0)\n",
      "Failed getting utilization of zstd 1gb_mr 8 threads: \"Unable to synchronously open object (object 'CUPTI_ACTIVITY_KIND_KERNEL' doesn't exist)\"\n",
      "Failed getting utilization of zstd 1gb_mr 32 threads: \"Unable to synchronously open object (object 'CUPTI_ACTIVITY_KIND_KERNEL' doesn't exist)\"\n",
      "Failed getting utilization of zstd 1gb_mr 128 threads: \"Unable to synchronously open object (object 'TARGET_INFO_GPU_METRICS' doesn't exist)\"\n",
      "1gb_mr  zstd  512  13.82375913492318  17.781998556256212\n",
      "1gb_mr  zstd  2048  28.610995785204334  44.87379544851234\n",
      "1gb_mr  zstd  8192  39.65759987620914  46.599123965795556\n",
      "1gb_mr  zstd  32768  42.447153877625894  45.64040561987413\n",
      "Failed getting utilization of zstd 1gb_mr 131072 threads: \"Unable to synchronously open object (object 'TARGET_INFO_GPU_METRICS' doesn't exist)\"\n",
      "1gb_mr  zstd  524288  41.919880123038375  37.46553203307556\n",
      "Failed getting utilization of zstd 1gb_mr 2097152 threads: [Errno 2] Unable to synchronously open file (unable to open file: name = '../data/compare_gpu_exact/a100/output_zstd_1gb_mr_2097152threads.h5', errno = 2, error message = 'No such file or directory', flags = 0, o_flags = 0)\n",
      "Failed getting utilization of zstd 1gb_mr 8388608 threads: [Errno 2] Unable to synchronously open file (unable to open file: name = '../data/compare_gpu_exact/a100/output_zstd_1gb_mr_8388608threads.h5', errno = 2, error message = 'No such file or directory', flags = 0, o_flags = 0)\n",
      "Failed getting utilization of gdeflate 1gb_mr 8 threads: \"Unable to synchronously open object (object 'CUPTI_ACTIVITY_KIND_KERNEL' doesn't exist)\"\n",
      "Failed getting utilization of gdeflate 1gb_mr 32 threads: \"Unable to synchronously open object (object 'CUPTI_ACTIVITY_KIND_KERNEL' doesn't exist)\"\n",
      "Failed getting utilization of gdeflate 1gb_mr 128 threads: \"Unable to synchronously open object (object 'CUPTI_ACTIVITY_KIND_KERNEL' doesn't exist)\"\n",
      "Failed getting utilization of gdeflate 1gb_mr 512 threads: \"Unable to synchronously open object (object 'CUPTI_ACTIVITY_KIND_KERNEL' doesn't exist)\"\n",
      "Failed getting utilization of gdeflate 1gb_mr 2048 threads: \"Unable to synchronously open object (object 'CUPTI_ACTIVITY_KIND_KERNEL' doesn't exist)\"\n",
      "Failed getting utilization of gdeflate 1gb_mr 8192 threads: \"Unable to synchronously open object (object 'CUPTI_ACTIVITY_KIND_KERNEL' doesn't exist)\"\n",
      "Failed getting utilization of gdeflate 1gb_mr 32768 threads: \"Unable to synchronously open object (object 'TARGET_INFO_GPU_METRICS' doesn't exist)\"\n",
      "Failed getting utilization of gdeflate 1gb_mr 131072 threads: \"Unable to synchronously open object (object 'TARGET_INFO_GPU_METRICS' doesn't exist)\"\n",
      "Failed getting utilization of gdeflate 1gb_mr 524288 threads: \"Unable to synchronously open object (object 'TARGET_INFO_GPU_METRICS' doesn't exist)\"\n",
      "Failed getting utilization of gdeflate 1gb_mr 2097152 threads: [Errno 2] Unable to synchronously open file (unable to open file: name = '../data/compare_gpu_exact/a100/output_gdeflate_1gb_mr_2097152threads.h5', errno = 2, error message = 'No such file or directory', flags = 0, o_flags = 0)\n",
      "Failed getting utilization of gdeflate 1gb_mr 8388608 threads: [Errno 2] Unable to synchronously open file (unable to open file: name = '../data/compare_gpu_exact/a100/output_gdeflate_1gb_mr_8388608threads.h5', errno = 2, error message = 'No such file or directory', flags = 0, o_flags = 0)\n",
      "Failed getting utilization of lz4 1gb_mr 8 threads: \"Unable to synchronously open object (object 'CUPTI_ACTIVITY_KIND_KERNEL' doesn't exist)\"\n",
      "Failed getting utilization of lz4 1gb_mr 32 threads: \"Unable to synchronously open object (object 'CUPTI_ACTIVITY_KIND_KERNEL' doesn't exist)\"\n",
      "1gb_mr  lz4  128  1.9317199071076576  1.9694690885949933\n",
      "1gb_mr  lz4  512  6.614425123311046  6.40440474059748\n",
      "1gb_mr  lz4  2048  28.119478307124485  25.113001983707665\n",
      "Failed getting utilization of lz4 1gb_mr 8192 threads: \"Unable to synchronously open object (object 'TARGET_INFO_GPU_METRICS' doesn't exist)\"\n",
      "Failed getting utilization of lz4 1gb_mr 32768 threads: \"Unable to synchronously open object (object 'TARGET_INFO_GPU_METRICS' doesn't exist)\"\n",
      "1gb_mr  lz4  131072  48.442321126917314  33.445533412631\n",
      "1gb_mr  lz4  524288  48.54389623614094  44.22904749656021\n",
      "Failed getting utilization of lz4 1gb_mr 2097152 threads: [Errno 2] Unable to synchronously open file (unable to open file: name = '../data/compare_gpu_exact/a100/output_lz4_1gb_mr_2097152threads.h5', errno = 2, error message = 'No such file or directory', flags = 0, o_flags = 0)\n",
      "Failed getting utilization of lz4 1gb_mr 8388608 threads: [Errno 2] Unable to synchronously open file (unable to open file: name = '../data/compare_gpu_exact/a100/output_lz4_1gb_mr_8388608threads.h5', errno = 2, error message = 'No such file or directory', flags = 0, o_flags = 0)\n",
      "1gb_mr  cascaded  8  1.0  0.33331738989373416\n",
      "1gb_mr  cascaded  32  1.989357385445821  1.9843073835721046\n",
      "1gb_mr  cascaded  128  6.747391689514011  6.767989513174492\n",
      "1gb_mr  cascaded  512  27.275285874208407  18.557589605513936\n",
      "Failed getting utilization of cascaded 1gb_mr 2048 threads: \"Unable to synchronously open object (object 'TARGET_INFO_GPU_METRICS' doesn't exist)\"\n",
      "Failed getting utilization of cascaded 1gb_mr 8192 threads: \"Unable to synchronously open object (object 'TARGET_INFO_GPU_METRICS' doesn't exist)\"\n",
      "Failed getting utilization of cascaded 1gb_mr 32768 threads: \"Unable to synchronously open object (object 'TARGET_INFO_GPU_METRICS' doesn't exist)\"\n",
      "1gb_mr  cascaded  131072  49.59230171218629  48.22576249096862\n",
      "Failed getting utilization of cascaded 1gb_mr 524288 threads: \"Unable to synchronously open object (object 'TARGET_INFO_GPU_METRICS' doesn't exist)\"\n",
      "Failed getting utilization of cascaded 1gb_mr 2097152 threads: [Errno 2] Unable to synchronously open file (unable to open file: name = '../data/compare_gpu_exact/a100/output_cascaded_1gb_mr_2097152threads.h5', errno = 2, error message = 'No such file or directory', flags = 0, o_flags = 0)\n",
      "Failed getting utilization of cascaded 1gb_mr 8388608 threads: [Errno 2] Unable to synchronously open file (unable to open file: name = '../data/compare_gpu_exact/a100/output_cascaded_1gb_mr_8388608threads.h5', errno = 2, error message = 'No such file or directory', flags = 0, o_flags = 0)\n",
      "1gb_mr  bitcomp  8  1.0  0.9999088412616759\n",
      "1gb_mr  bitcomp  32  3.971637460532519  3.949540465547104\n",
      "1gb_mr  bitcomp  128  12.353109726449894  13.970960648564247\n",
      "1gb_mr  bitcomp  512  29.02013963577792  50.94982016060723\n",
      "1gb_mr  bitcomp  2048  34.32811065443791  61.443841400422926\n",
      "Failed getting utilization of bitcomp 1gb_mr 8192 threads: \"Unable to synchronously open object (object 'TARGET_INFO_GPU_METRICS' doesn't exist)\"\n",
      "Failed getting utilization of bitcomp 1gb_mr 32768 threads: \"Unable to synchronously open object (object 'TARGET_INFO_GPU_METRICS' doesn't exist)\"\n",
      "1gb_mr  bitcomp  131072  35.519239114259584  72.86493264506007\n",
      "1gb_mr  bitcomp  524288  35.86338175803286  72.62817965070192\n",
      "Failed getting utilization of bitcomp 1gb_mr 2097152 threads: [Errno 2] Unable to synchronously open file (unable to open file: name = '../data/compare_gpu_exact/a100/output_bitcomp_1gb_mr_2097152threads.h5', errno = 2, error message = 'No such file or directory', flags = 0, o_flags = 0)\n",
      "Failed getting utilization of bitcomp 1gb_mr 8388608 threads: [Errno 2] Unable to synchronously open file (unable to open file: name = '../data/compare_gpu_exact/a100/output_bitcomp_1gb_mr_8388608threads.h5', errno = 2, error message = 'No such file or directory', flags = 0, o_flags = 0)\n",
      "1gb_nci  snappy  8  1.0  1.0\n",
      "1gb_nci  snappy  32  1.0  1.0\n",
      "1gb_nci  snappy  128  3.755467995672694  3.7747695135187396\n",
      "Failed getting utilization of snappy 1gb_nci 512 threads: \"Unable to synchronously open object (object 'TARGET_INFO_GPU_METRICS' doesn't exist)\"\n",
      "Failed getting utilization of snappy 1gb_nci 2048 threads: \"Unable to synchronously open object (object 'TARGET_INFO_GPU_METRICS' doesn't exist)\"\n",
      "Failed getting utilization of snappy 1gb_nci 8192 threads: \"Unable to synchronously open object (object 'TARGET_INFO_GPU_METRICS' doesn't exist)\"\n",
      "1gb_nci  snappy  32768  51.37526698228673  90.98859964005128\n",
      "Failed getting utilization of snappy 1gb_nci 131072 threads: \"Unable to synchronously open object (object 'TARGET_INFO_GPU_METRICS' doesn't exist)\"\n",
      "Failed getting utilization of snappy 1gb_nci 524288 threads: \"Unable to synchronously open object (object 'TARGET_INFO_GPU_METRICS' doesn't exist)\"\n",
      "Failed getting utilization of snappy 1gb_nci 2097152 threads: [Errno 2] Unable to synchronously open file (unable to open file: name = '../data/compare_gpu_exact/a100/output_snappy_1gb_nci_2097152threads.h5', errno = 2, error message = 'No such file or directory', flags = 0, o_flags = 0)\n",
      "Failed getting utilization of snappy 1gb_nci 8388608 threads: [Errno 2] Unable to synchronously open file (unable to open file: name = '../data/compare_gpu_exact/a100/output_snappy_1gb_nci_8388608threads.h5', errno = 2, error message = 'No such file or directory', flags = 0, o_flags = 0)\n",
      "Failed getting utilization of zstd 1gb_nci 8 threads: \"Unable to synchronously open object (object 'CUPTI_ACTIVITY_KIND_KERNEL' doesn't exist)\"\n",
      "Failed getting utilization of zstd 1gb_nci 32 threads: \"Unable to synchronously open object (object 'CUPTI_ACTIVITY_KIND_KERNEL' doesn't exist)\"\n",
      "1gb_nci  zstd  128  3.76547263430366  3.293011057657657\n",
      "1gb_nci  zstd  512  13.416456264937784  11.330271445788162\n",
      "1gb_nci  zstd  2048  27.38956535634108  36.437525208155904\n",
      "Failed getting utilization of zstd 1gb_nci 8192 threads: \"Unable to synchronously open object (object 'TARGET_INFO_GPU_METRICS' doesn't exist)\"\n",
      "Failed getting utilization of zstd 1gb_nci 32768 threads: \"Unable to synchronously open object (object 'TARGET_INFO_GPU_METRICS' doesn't exist)\"\n",
      "1gb_nci  zstd  131072  43.13590454946949  41.501963441105055\n",
      "1gb_nci  zstd  524288  42.56923500464943  35.7686866152324\n",
      "Failed getting utilization of zstd 1gb_nci 2097152 threads: [Errno 2] Unable to synchronously open file (unable to open file: name = '../data/compare_gpu_exact/a100/output_zstd_1gb_nci_2097152threads.h5', errno = 2, error message = 'No such file or directory', flags = 0, o_flags = 0)\n",
      "Failed getting utilization of zstd 1gb_nci 8388608 threads: [Errno 2] Unable to synchronously open file (unable to open file: name = '../data/compare_gpu_exact/a100/output_zstd_1gb_nci_8388608threads.h5', errno = 2, error message = 'No such file or directory', flags = 0, o_flags = 0)\n",
      "Failed getting utilization of gdeflate 1gb_nci 8 threads: \"Unable to synchronously open object (object 'CUPTI_ACTIVITY_KIND_KERNEL' doesn't exist)\"\n",
      "Failed getting utilization of gdeflate 1gb_nci 32 threads: \"Unable to synchronously open object (object 'CUPTI_ACTIVITY_KIND_KERNEL' doesn't exist)\"\n",
      "Failed getting utilization of gdeflate 1gb_nci 128 threads: \"Unable to synchronously open object (object 'CUPTI_ACTIVITY_KIND_KERNEL' doesn't exist)\"\n",
      "Failed getting utilization of gdeflate 1gb_nci 512 threads: \"Unable to synchronously open object (object 'CUPTI_ACTIVITY_KIND_KERNEL' doesn't exist)\"\n",
      "Failed getting utilization of gdeflate 1gb_nci 2048 threads: \"Unable to synchronously open object (object 'CUPTI_ACTIVITY_KIND_KERNEL' doesn't exist)\"\n",
      "Failed getting utilization of gdeflate 1gb_nci 8192 threads: \"Unable to synchronously open object (object 'CUPTI_ACTIVITY_KIND_KERNEL' doesn't exist)\"\n",
      "Failed getting utilization of gdeflate 1gb_nci 32768 threads: \"Unable to synchronously open object (object 'TARGET_INFO_GPU_METRICS' doesn't exist)\"\n",
      "1gb_nci  gdeflate  131072  42.27821654245448  40.79831422080053\n",
      "Failed getting utilization of gdeflate 1gb_nci 524288 threads: \"Unable to synchronously open object (object 'TARGET_INFO_GPU_METRICS' doesn't exist)\"\n",
      "Failed getting utilization of gdeflate 1gb_nci 2097152 threads: [Errno 2] Unable to synchronously open file (unable to open file: name = '../data/compare_gpu_exact/a100/output_gdeflate_1gb_nci_2097152threads.h5', errno = 2, error message = 'No such file or directory', flags = 0, o_flags = 0)\n",
      "Failed getting utilization of gdeflate 1gb_nci 8388608 threads: [Errno 2] Unable to synchronously open file (unable to open file: name = '../data/compare_gpu_exact/a100/output_gdeflate_1gb_nci_8388608threads.h5', errno = 2, error message = 'No such file or directory', flags = 0, o_flags = 0)\n",
      "Failed getting utilization of lz4 1gb_nci 8 threads: \"Unable to synchronously open object (object 'CUPTI_ACTIVITY_KIND_KERNEL' doesn't exist)\"\n",
      "Failed getting utilization of lz4 1gb_nci 32 threads: \"Unable to synchronously open object (object 'CUPTI_ACTIVITY_KIND_KERNEL' doesn't exist)\"\n",
      "1gb_nci  lz4  128  1.8840743518816674  1.8998445216625597\n",
      "1gb_nci  lz4  512  6.308661156309864  6.298193510750151\n",
      "1gb_nci  lz4  2048  26.24375859614726  25.14389655990766\n",
      "1gb_nci  lz4  8192  38.0324075151498  36.62999935799583\n",
      "1gb_nci  lz4  32768  47.25903789174513  44.730361571579394\n",
      "1gb_nci  lz4  131072  49.262061573911495  47.00464770025295\n",
      "1gb_nci  lz4  524288  49.66429648015237  45.73758927395917\n",
      "Failed getting utilization of lz4 1gb_nci 2097152 threads: [Errno 2] Unable to synchronously open file (unable to open file: name = '../data/compare_gpu_exact/a100/output_lz4_1gb_nci_2097152threads.h5', errno = 2, error message = 'No such file or directory', flags = 0, o_flags = 0)\n",
      "Failed getting utilization of lz4 1gb_nci 8388608 threads: [Errno 2] Unable to synchronously open file (unable to open file: name = '../data/compare_gpu_exact/a100/output_lz4_1gb_nci_8388608threads.h5', errno = 2, error message = 'No such file or directory', flags = 0, o_flags = 0)\n",
      "1gb_nci  cascaded  8  1.0  0.999868057524536\n",
      "1gb_nci  cascaded  32  1.9880982726307286  1.9547374560414044\n",
      "1gb_nci  cascaded  128  6.685845753869151  4.01766579445352\n",
      "1gb_nci  cascaded  512  27.7460981003953  5.450142835845522\n",
      "1gb_nci  cascaded  2048  41.4012463377326  25.011515266591758\n",
      "1gb_nci  cascaded  8192  47.44201504162852  40.205346378177495\n",
      "1gb_nci  cascaded  32768  49.240261918028466  45.61436750411744\n",
      "Failed getting utilization of cascaded 1gb_nci 131072 threads: \"Unable to synchronously open object (object 'TARGET_INFO_GPU_METRICS' doesn't exist)\"\n",
      "1gb_nci  cascaded  524288  48.78203530213218  43.10289138991937\n",
      "Failed getting utilization of cascaded 1gb_nci 2097152 threads: [Errno 2] Unable to synchronously open file (unable to open file: name = '../data/compare_gpu_exact/a100/output_cascaded_1gb_nci_2097152threads.h5', errno = 2, error message = 'No such file or directory', flags = 0, o_flags = 0)\n",
      "Failed getting utilization of cascaded 1gb_nci 8388608 threads: [Errno 2] Unable to synchronously open file (unable to open file: name = '../data/compare_gpu_exact/a100/output_cascaded_1gb_nci_8388608threads.h5', errno = 2, error message = 'No such file or directory', flags = 0, o_flags = 0)\n",
      "1gb_nci  bitcomp  8  1.0  0.9999279606620384\n",
      "1gb_nci  bitcomp  32  3.974069504943242  3.9660540283723362\n",
      "1gb_nci  bitcomp  128  12.504936915556362  14.017374091725276\n",
      "1gb_nci  bitcomp  512  28.609513058741086  50.75150353079775\n",
      "1gb_nci  bitcomp  2048  34.14329687680505  63.44650964884947\n",
      "Failed getting utilization of bitcomp 1gb_nci 8192 threads: \"Unable to synchronously open object (object 'TARGET_INFO_GPU_METRICS' doesn't exist)\"\n",
      "Failed getting utilization of bitcomp 1gb_nci 32768 threads: \"Unable to synchronously open object (object 'TARGET_INFO_GPU_METRICS' doesn't exist)\"\n",
      "1gb_nci  bitcomp  131072  35.71432846031514  71.73809742711447\n",
      "Failed getting utilization of bitcomp 1gb_nci 524288 threads: \"Unable to synchronously open object (object 'TARGET_INFO_GPU_METRICS' doesn't exist)\"\n",
      "Failed getting utilization of bitcomp 1gb_nci 2097152 threads: [Errno 2] Unable to synchronously open file (unable to open file: name = '../data/compare_gpu_exact/a100/output_bitcomp_1gb_nci_2097152threads.h5', errno = 2, error message = 'No such file or directory', flags = 0, o_flags = 0)\n",
      "Failed getting utilization of bitcomp 1gb_nci 8388608 threads: [Errno 2] Unable to synchronously open file (unable to open file: name = '../data/compare_gpu_exact/a100/output_bitcomp_1gb_nci_8388608threads.h5', errno = 2, error message = 'No such file or directory', flags = 0, o_flags = 0)\n",
      "Failed getting utilization of snappy 1gb_samba 8 threads: \"Unable to synchronously open object (object 'TARGET_INFO_GPU_METRICS' doesn't exist)\"\n",
      "Failed getting utilization of snappy 1gb_samba 32 threads: \"Unable to synchronously open object (object 'TARGET_INFO_GPU_METRICS' doesn't exist)\"\n",
      "Failed getting utilization of snappy 1gb_samba 128 threads: \"Unable to synchronously open object (object 'TARGET_INFO_GPU_METRICS' doesn't exist)\"\n",
      "1gb_samba  snappy  512  11.353009003920459  10.278139767221214\n",
      "Failed getting utilization of snappy 1gb_samba 2048 threads: \"Unable to synchronously open object (object 'TARGET_INFO_GPU_METRICS' doesn't exist)\"\n",
      "Failed getting utilization of snappy 1gb_samba 8192 threads: \"Unable to synchronously open object (object 'TARGET_INFO_GPU_METRICS' doesn't exist)\"\n",
      "Failed getting utilization of snappy 1gb_samba 32768 threads: \"Unable to synchronously open object (object 'TARGET_INFO_GPU_METRICS' doesn't exist)\"\n",
      "Failed getting utilization of snappy 1gb_samba 131072 threads: \"Unable to synchronously open object (object 'TARGET_INFO_GPU_METRICS' doesn't exist)\"\n",
      "1gb_samba  snappy  524288  52.75492133906611  91.03830902897144\n",
      "Failed getting utilization of snappy 1gb_samba 2097152 threads: [Errno 2] Unable to synchronously open file (unable to open file: name = '../data/compare_gpu_exact/a100/output_snappy_1gb_samba_2097152threads.h5', errno = 2, error message = 'No such file or directory', flags = 0, o_flags = 0)\n",
      "Failed getting utilization of snappy 1gb_samba 8388608 threads: [Errno 2] Unable to synchronously open file (unable to open file: name = '../data/compare_gpu_exact/a100/output_snappy_1gb_samba_8388608threads.h5', errno = 2, error message = 'No such file or directory', flags = 0, o_flags = 0)\n",
      "Failed getting utilization of zstd 1gb_samba 8 threads: \"Unable to synchronously open object (object 'CUPTI_ACTIVITY_KIND_KERNEL' doesn't exist)\"\n",
      "Failed getting utilization of zstd 1gb_samba 32 threads: \"Unable to synchronously open object (object 'CUPTI_ACTIVITY_KIND_KERNEL' doesn't exist)\"\n",
      "Failed getting utilization of zstd 1gb_samba 128 threads: \"Unable to synchronously open object (object 'TARGET_INFO_GPU_METRICS' doesn't exist)\"\n",
      "1gb_samba  zstd  512  11.762298003701085  12.235838934576226\n",
      "1gb_samba  zstd  2048  24.97530793427768  35.680154162841916\n",
      "1gb_samba  zstd  8192  37.20870903120942  42.6127506523285\n",
      "Failed getting utilization of zstd 1gb_samba 32768 threads: \"Unable to synchronously open object (object 'TARGET_INFO_GPU_METRICS' doesn't exist)\"\n",
      "Failed getting utilization of zstd 1gb_samba 131072 threads: \"Unable to synchronously open object (object 'TARGET_INFO_GPU_METRICS' doesn't exist)\"\n",
      "Failed getting utilization of zstd 1gb_samba 524288 threads: \"Unable to synchronously open object (object 'TARGET_INFO_GPU_METRICS' doesn't exist)\"\n",
      "Failed getting utilization of zstd 1gb_samba 2097152 threads: [Errno 2] Unable to synchronously open file (unable to open file: name = '../data/compare_gpu_exact/a100/output_zstd_1gb_samba_2097152threads.h5', errno = 2, error message = 'No such file or directory', flags = 0, o_flags = 0)\n",
      "Failed getting utilization of zstd 1gb_samba 8388608 threads: [Errno 2] Unable to synchronously open file (unable to open file: name = '../data/compare_gpu_exact/a100/output_zstd_1gb_samba_8388608threads.h5', errno = 2, error message = 'No such file or directory', flags = 0, o_flags = 0)\n",
      "Failed getting utilization of gdeflate 1gb_samba 8 threads: \"Unable to synchronously open object (object 'CUPTI_ACTIVITY_KIND_KERNEL' doesn't exist)\"\n",
      "Failed getting utilization of gdeflate 1gb_samba 32 threads: \"Unable to synchronously open object (object 'CUPTI_ACTIVITY_KIND_KERNEL' doesn't exist)\"\n",
      "Failed getting utilization of gdeflate 1gb_samba 128 threads: \"Unable to synchronously open object (object 'CUPTI_ACTIVITY_KIND_KERNEL' doesn't exist)\"\n",
      "Failed getting utilization of gdeflate 1gb_samba 512 threads: \"Unable to synchronously open object (object 'CUPTI_ACTIVITY_KIND_KERNEL' doesn't exist)\"\n",
      "Failed getting utilization of gdeflate 1gb_samba 2048 threads: \"Unable to synchronously open object (object 'CUPTI_ACTIVITY_KIND_KERNEL' doesn't exist)\"\n",
      "Failed getting utilization of gdeflate 1gb_samba 8192 threads: \"Unable to synchronously open object (object 'CUPTI_ACTIVITY_KIND_KERNEL' doesn't exist)\"\n",
      "1gb_samba  gdeflate  32768  42.82260047997609  38.39828287920922\n",
      "1gb_samba  gdeflate  131072  43.076990366829634  39.903507571258714\n",
      "1gb_samba  gdeflate  524288  40.38249648275489  38.56377114865492\n",
      "Failed getting utilization of gdeflate 1gb_samba 2097152 threads: [Errno 2] Unable to synchronously open file (unable to open file: name = '../data/compare_gpu_exact/a100/output_gdeflate_1gb_samba_2097152threads.h5', errno = 2, error message = 'No such file or directory', flags = 0, o_flags = 0)\n",
      "Failed getting utilization of gdeflate 1gb_samba 8388608 threads: [Errno 2] Unable to synchronously open file (unable to open file: name = '../data/compare_gpu_exact/a100/output_gdeflate_1gb_samba_8388608threads.h5', errno = 2, error message = 'No such file or directory', flags = 0, o_flags = 0)\n",
      "Failed getting utilization of lz4 1gb_samba 8 threads: \"Unable to synchronously open object (object 'CUPTI_ACTIVITY_KIND_KERNEL' doesn't exist)\"\n",
      "Failed getting utilization of lz4 1gb_samba 32 threads: \"Unable to synchronously open object (object 'CUPTI_ACTIVITY_KIND_KERNEL' doesn't exist)\"\n",
      "1gb_samba  lz4  128  2.016847078921148  1.8218232746113954\n",
      "Failed getting utilization of lz4 1gb_samba 512 threads: \"Unable to synchronously open object (object 'TARGET_INFO_GPU_METRICS' doesn't exist)\"\n",
      "Failed getting utilization of lz4 1gb_samba 2048 threads: \"Unable to synchronously open object (object 'TARGET_INFO_GPU_METRICS' doesn't exist)\"\n",
      "1gb_samba  lz4  8192  39.356400613683206  32.54724387917843\n",
      "Failed getting utilization of lz4 1gb_samba 32768 threads: \"Unable to synchronously open object (object 'TARGET_INFO_GPU_METRICS' doesn't exist)\"\n",
      "Failed getting utilization of lz4 1gb_samba 131072 threads: \"Unable to synchronously open object (object 'TARGET_INFO_GPU_METRICS' doesn't exist)\"\n",
      "Failed getting utilization of lz4 1gb_samba 524288 threads: \"Unable to synchronously open object (object 'TARGET_INFO_GPU_METRICS' doesn't exist)\"\n",
      "Failed getting utilization of lz4 1gb_samba 2097152 threads: [Errno 2] Unable to synchronously open file (unable to open file: name = '../data/compare_gpu_exact/a100/output_lz4_1gb_samba_2097152threads.h5', errno = 2, error message = 'No such file or directory', flags = 0, o_flags = 0)\n",
      "Failed getting utilization of lz4 1gb_samba 8388608 threads: [Errno 2] Unable to synchronously open file (unable to open file: name = '../data/compare_gpu_exact/a100/output_lz4_1gb_samba_8388608threads.h5', errno = 2, error message = 'No such file or directory', flags = 0, o_flags = 0)\n",
      "Failed getting utilization of cascaded 1gb_samba 8 threads: \"Unable to synchronously open object (object 'TARGET_INFO_GPU_METRICS' doesn't exist)\"\n",
      "Failed getting utilization of cascaded 1gb_samba 32 threads: \"Unable to synchronously open object (object 'TARGET_INFO_GPU_METRICS' doesn't exist)\"\n",
      "1gb_samba  cascaded  128  6.4711747524218115  1.7158113870330334\n",
      "1gb_samba  cascaded  512  26.64090070160944  8.532202071656508\n",
      "1gb_samba  cascaded  2048  40.36219743582785  31.228694133519355\n",
      "1gb_samba  cascaded  8192  47.301503841280436  28.14690886253764\n",
      "1gb_samba  cascaded  32768  49.0041948272853  46.72910506995446\n",
      "1gb_samba  cascaded  131072  49.808381837511725  45.308843946546865\n",
      "Failed getting utilization of cascaded 1gb_samba 524288 threads: \"Unable to synchronously open object (object 'TARGET_INFO_GPU_METRICS' doesn't exist)\"\n",
      "Failed getting utilization of cascaded 1gb_samba 2097152 threads: [Errno 2] Unable to synchronously open file (unable to open file: name = '../data/compare_gpu_exact/a100/output_cascaded_1gb_samba_2097152threads.h5', errno = 2, error message = 'No such file or directory', flags = 0, o_flags = 0)\n",
      "Failed getting utilization of cascaded 1gb_samba 8388608 threads: [Errno 2] Unable to synchronously open file (unable to open file: name = '../data/compare_gpu_exact/a100/output_cascaded_1gb_samba_8388608threads.h5', errno = 2, error message = 'No such file or directory', flags = 0, o_flags = 0)\n",
      "1gb_samba  bitcomp  8  1.0  0.9999321411219158\n",
      "1gb_samba  bitcomp  32  3.9411635500563515  3.8521685069063163\n",
      "Failed getting utilization of bitcomp 1gb_samba 128 threads: \"Unable to synchronously open object (object 'TARGET_INFO_GPU_METRICS' doesn't exist)\"\n",
      "1gb_samba  bitcomp  512  28.196055075591183  42.07233403733168\n",
      "1gb_samba  bitcomp  2048  33.67940782512171  59.24272412373813\n",
      "Failed getting utilization of bitcomp 1gb_samba 8192 threads: \"Unable to synchronously open object (object 'TARGET_INFO_GPU_METRICS' doesn't exist)\"\n",
      "1gb_samba  bitcomp  32768  36.24552962050191  72.50179574184345\n",
      "1gb_samba  bitcomp  131072  35.60365488394595  72.7608764336648\n",
      "Failed getting utilization of bitcomp 1gb_samba 524288 threads: \"Unable to synchronously open object (object 'TARGET_INFO_GPU_METRICS' doesn't exist)\"\n",
      "Failed getting utilization of bitcomp 1gb_samba 2097152 threads: [Errno 2] Unable to synchronously open file (unable to open file: name = '../data/compare_gpu_exact/a100/output_bitcomp_1gb_samba_2097152threads.h5', errno = 2, error message = 'No such file or directory', flags = 0, o_flags = 0)\n",
      "Failed getting utilization of bitcomp 1gb_samba 8388608 threads: [Errno 2] Unable to synchronously open file (unable to open file: name = '../data/compare_gpu_exact/a100/output_bitcomp_1gb_samba_8388608threads.h5', errno = 2, error message = 'No such file or directory', flags = 0, o_flags = 0)\n",
      "1gb_sao  snappy  8  1.0575814168804223  0.9412729974411631\n",
      "1gb_sao  snappy  32  1.0  1.0\n",
      "1gb_sao  snappy  128  3.7920971102081245  3.8865735831140906\n",
      "1gb_sao  snappy  512  14.202867244720322  14.23984916739578\n",
      "Failed getting utilization of snappy 1gb_sao 2048 threads: \"Unable to synchronously open object (object 'TARGET_INFO_GPU_METRICS' doesn't exist)\"\n",
      "Failed getting utilization of snappy 1gb_sao 8192 threads: \"Unable to synchronously open object (object 'TARGET_INFO_GPU_METRICS' doesn't exist)\"\n",
      "Failed getting utilization of snappy 1gb_sao 32768 threads: \"Unable to synchronously open object (object 'TARGET_INFO_GPU_METRICS' doesn't exist)\"\n",
      "Failed getting utilization of snappy 1gb_sao 131072 threads: \"Unable to synchronously open object (object 'TARGET_INFO_GPU_METRICS' doesn't exist)\"\n",
      "1gb_sao  snappy  524288  52.841071467506026  93.98465472694639\n",
      "Failed getting utilization of snappy 1gb_sao 2097152 threads: [Errno 2] Unable to synchronously open file (unable to open file: name = '../data/compare_gpu_exact/a100/output_snappy_1gb_sao_2097152threads.h5', errno = 2, error message = 'No such file or directory', flags = 0, o_flags = 0)\n",
      "Failed getting utilization of snappy 1gb_sao 8388608 threads: [Errno 2] Unable to synchronously open file (unable to open file: name = '../data/compare_gpu_exact/a100/output_snappy_1gb_sao_8388608threads.h5', errno = 2, error message = 'No such file or directory', flags = 0, o_flags = 0)\n",
      "Failed getting utilization of zstd 1gb_sao 8 threads: \"Unable to synchronously open object (object 'CUPTI_ACTIVITY_KIND_KERNEL' doesn't exist)\"\n",
      "Failed getting utilization of zstd 1gb_sao 32 threads: \"Unable to synchronously open object (object 'CUPTI_ACTIVITY_KIND_KERNEL' doesn't exist)\"\n",
      "1gb_sao  zstd  128  3.795810596864645  5.384976697742705\n",
      "1gb_sao  zstd  512  13.92767194318725  18.473425925345573\n",
      "1gb_sao  zstd  2048  30.076655111914206  46.68558151512252\n",
      "1gb_sao  zstd  8192  40.42290942704324  49.50885188454127\n",
      "Failed getting utilization of zstd 1gb_sao 32768 threads: \"Unable to synchronously open object (object 'TARGET_INFO_GPU_METRICS' doesn't exist)\"\n",
      "Failed getting utilization of zstd 1gb_sao 131072 threads: \"Unable to synchronously open object (object 'TARGET_INFO_GPU_METRICS' doesn't exist)\"\n",
      "1gb_sao  zstd  524288  41.686090584324134  41.362146235553254\n",
      "Failed getting utilization of zstd 1gb_sao 2097152 threads: [Errno 2] Unable to synchronously open file (unable to open file: name = '../data/compare_gpu_exact/a100/output_zstd_1gb_sao_2097152threads.h5', errno = 2, error message = 'No such file or directory', flags = 0, o_flags = 0)\n",
      "Failed getting utilization of zstd 1gb_sao 8388608 threads: [Errno 2] Unable to synchronously open file (unable to open file: name = '../data/compare_gpu_exact/a100/output_zstd_1gb_sao_8388608threads.h5', errno = 2, error message = 'No such file or directory', flags = 0, o_flags = 0)\n",
      "Failed getting utilization of gdeflate 1gb_sao 8 threads: \"Unable to synchronously open object (object 'CUPTI_ACTIVITY_KIND_KERNEL' doesn't exist)\"\n",
      "Failed getting utilization of gdeflate 1gb_sao 32 threads: \"Unable to synchronously open object (object 'CUPTI_ACTIVITY_KIND_KERNEL' doesn't exist)\"\n",
      "Failed getting utilization of gdeflate 1gb_sao 128 threads: \"Unable to synchronously open object (object 'CUPTI_ACTIVITY_KIND_KERNEL' doesn't exist)\"\n",
      "Failed getting utilization of gdeflate 1gb_sao 512 threads: \"Unable to synchronously open object (object 'CUPTI_ACTIVITY_KIND_KERNEL' doesn't exist)\"\n",
      "Failed getting utilization of gdeflate 1gb_sao 2048 threads: \"Unable to synchronously open object (object 'CUPTI_ACTIVITY_KIND_KERNEL' doesn't exist)\"\n",
      "Failed getting utilization of gdeflate 1gb_sao 8192 threads: \"Unable to synchronously open object (object 'CUPTI_ACTIVITY_KIND_KERNEL' doesn't exist)\"\n",
      "1gb_sao  gdeflate  32768  42.74709210868745  41.38908384752534\n",
      "Failed getting utilization of gdeflate 1gb_sao 131072 threads: \"Unable to synchronously open object (object 'TARGET_INFO_GPU_METRICS' doesn't exist)\"\n",
      "1gb_sao  gdeflate  524288  40.23341060332334  42.78989886866421\n",
      "Failed getting utilization of gdeflate 1gb_sao 2097152 threads: [Errno 2] Unable to synchronously open file (unable to open file: name = '../data/compare_gpu_exact/a100/output_gdeflate_1gb_sao_2097152threads.h5', errno = 2, error message = 'No such file or directory', flags = 0, o_flags = 0)\n",
      "Failed getting utilization of gdeflate 1gb_sao 8388608 threads: [Errno 2] Unable to synchronously open file (unable to open file: name = '../data/compare_gpu_exact/a100/output_gdeflate_1gb_sao_8388608threads.h5', errno = 2, error message = 'No such file or directory', flags = 0, o_flags = 0)\n",
      "Failed getting utilization of lz4 1gb_sao 8 threads: \"Unable to synchronously open object (object 'CUPTI_ACTIVITY_KIND_KERNEL' doesn't exist)\"\n",
      "Failed getting utilization of lz4 1gb_sao 32 threads: \"Unable to synchronously open object (object 'CUPTI_ACTIVITY_KIND_KERNEL' doesn't exist)\"\n",
      "1gb_sao  lz4  128  1.8413626256454019  1.9821264902686822\n",
      "1gb_sao  lz4  512  6.830491223558001  6.713152592150242\n",
      "1gb_sao  lz4  2048  29.28445400425487  26.685388802828548\n",
      "1gb_sao  lz4  8192  42.981652643640686  40.974368638944256\n",
      "Failed getting utilization of lz4 1gb_sao 32768 threads: \"Unable to synchronously open object (object 'TARGET_INFO_GPU_METRICS' doesn't exist)\"\n",
      "Failed getting utilization of lz4 1gb_sao 131072 threads: \"Unable to synchronously open object (object 'TARGET_INFO_GPU_METRICS' doesn't exist)\"\n",
      "1gb_sao  lz4  524288  49.72638989267181  47.58083239240794\n",
      "Failed getting utilization of lz4 1gb_sao 2097152 threads: [Errno 2] Unable to synchronously open file (unable to open file: name = '../data/compare_gpu_exact/a100/output_lz4_1gb_sao_2097152threads.h5', errno = 2, error message = 'No such file or directory', flags = 0, o_flags = 0)\n",
      "Failed getting utilization of lz4 1gb_sao 8388608 threads: [Errno 2] Unable to synchronously open file (unable to open file: name = '../data/compare_gpu_exact/a100/output_lz4_1gb_sao_8388608threads.h5', errno = 2, error message = 'No such file or directory', flags = 0, o_flags = 0)\n",
      "1gb_sao  cascaded  8  1.0  0.9998709491605176\n",
      "1gb_sao  cascaded  32  1.9870706464383154  1.950244220647566\n",
      "Failed getting utilization of cascaded 1gb_sao 128 threads: \"Unable to synchronously open object (object 'TARGET_INFO_GPU_METRICS' doesn't exist)\"\n",
      "1gb_sao  cascaded  512  27.891882382234357  18.464598020763603\n",
      "1gb_sao  cascaded  2048  42.27470417665135  38.57140677668585\n",
      "1gb_sao  cascaded  8192  47.788113734153626  45.91951735388774\n",
      "1gb_sao  cascaded  32768  49.24187810451714  45.308829117714076\n",
      "1gb_sao  cascaded  131072  47.25575363392096  42.54491133680391\n",
      "1gb_sao  cascaded  524288  48.78855960163432  38.46173420179491\n",
      "Failed getting utilization of cascaded 1gb_sao 2097152 threads: [Errno 2] Unable to synchronously open file (unable to open file: name = '../data/compare_gpu_exact/a100/output_cascaded_1gb_sao_2097152threads.h5', errno = 2, error message = 'No such file or directory', flags = 0, o_flags = 0)\n",
      "Failed getting utilization of cascaded 1gb_sao 8388608 threads: [Errno 2] Unable to synchronously open file (unable to open file: name = '../data/compare_gpu_exact/a100/output_cascaded_1gb_sao_8388608threads.h5', errno = 2, error message = 'No such file or directory', flags = 0, o_flags = 0)\n",
      "Failed getting utilization of bitcomp 1gb_sao 8 threads: \"Unable to synchronously open object (object 'TARGET_INFO_GPU_METRICS' doesn't exist)\"\n",
      "1gb_sao  bitcomp  32  3.9446644738499654  3.863522035474103\n",
      "1gb_sao  bitcomp  128  11.767701897952882  13.707219105393744\n",
      "1gb_sao  bitcomp  512  28.554973539643196  54.332997177709615\n",
      "1gb_sao  bitcomp  2048  34.40716906003205  59.65287364052388\n",
      "1gb_sao  bitcomp  8192  35.5274292878165  67.4337614479065\n",
      "Failed getting utilization of bitcomp 1gb_sao 32768 threads: \"Unable to synchronously open object (object 'TARGET_INFO_GPU_METRICS' doesn't exist)\"\n",
      "Failed getting utilization of bitcomp 1gb_sao 131072 threads: \"Unable to synchronously open object (object 'TARGET_INFO_GPU_METRICS' doesn't exist)\"\n",
      "Failed getting utilization of bitcomp 1gb_sao 524288 threads: \"Unable to synchronously open object (object 'TARGET_INFO_GPU_METRICS' doesn't exist)\"\n",
      "Failed getting utilization of bitcomp 1gb_sao 2097152 threads: [Errno 2] Unable to synchronously open file (unable to open file: name = '../data/compare_gpu_exact/a100/output_bitcomp_1gb_sao_2097152threads.h5', errno = 2, error message = 'No such file or directory', flags = 0, o_flags = 0)\n",
      "Failed getting utilization of bitcomp 1gb_sao 8388608 threads: [Errno 2] Unable to synchronously open file (unable to open file: name = '../data/compare_gpu_exact/a100/output_bitcomp_1gb_sao_8388608threads.h5', errno = 2, error message = 'No such file or directory', flags = 0, o_flags = 0)\n",
      "1gb_silesia.zip  snappy  8  1.0  0.9941785731388715\n",
      "1gb_silesia.zip  snappy  32  1.0  1.0\n",
      "1gb_silesia.zip  snappy  128  3.7083923942648207  3.5729617011850667\n",
      "1gb_silesia.zip  snappy  512  13.40871578775435  10.75518930760737\n",
      "1gb_silesia.zip  snappy  2048  30.486401371433487  30.365544093952863\n",
      "Failed getting utilization of snappy 1gb_silesia.zip 8192 threads: \"Unable to synchronously open object (object 'TARGET_INFO_GPU_METRICS' doesn't exist)\"\n",
      "Failed getting utilization of snappy 1gb_silesia.zip 32768 threads: \"Unable to synchronously open object (object 'TARGET_INFO_GPU_METRICS' doesn't exist)\"\n",
      "Failed getting utilization of snappy 1gb_silesia.zip 131072 threads: \"Unable to synchronously open object (object 'TARGET_INFO_GPU_METRICS' doesn't exist)\"\n",
      "1gb_silesia.zip  snappy  524288  52.77627094356525  69.03027522208407\n",
      "Failed getting utilization of snappy 1gb_silesia.zip 2097152 threads: [Errno 2] Unable to synchronously open file (unable to open file: name = '../data/compare_gpu_exact/a100/output_snappy_1gb_silesia.zip_2097152threads.h5', errno = 2, error message = 'No such file or directory', flags = 0, o_flags = 0)\n",
      "Failed getting utilization of snappy 1gb_silesia.zip 8388608 threads: [Errno 2] Unable to synchronously open file (unable to open file: name = '../data/compare_gpu_exact/a100/output_snappy_1gb_silesia.zip_8388608threads.h5', errno = 2, error message = 'No such file or directory', flags = 0, o_flags = 0)\n",
      "Failed getting utilization of zstd 1gb_silesia.zip 8 threads: \"Unable to synchronously open object (object 'CUPTI_ACTIVITY_KIND_KERNEL' doesn't exist)\"\n",
      "Failed getting utilization of zstd 1gb_silesia.zip 32 threads: \"Unable to synchronously open object (object 'CUPTI_ACTIVITY_KIND_KERNEL' doesn't exist)\"\n",
      "Failed getting utilization of zstd 1gb_silesia.zip 128 threads: \"Unable to synchronously open object (object 'CUPTI_ACTIVITY_KIND_KERNEL' doesn't exist)\"\n",
      "Failed getting utilization of zstd 1gb_silesia.zip 512 threads: \"Unable to synchronously open object (object 'CUPTI_ACTIVITY_KIND_KERNEL' doesn't exist)\"\n",
      "Failed getting utilization of zstd 1gb_silesia.zip 2048 threads: \"Unable to synchronously open object (object 'CUPTI_ACTIVITY_KIND_KERNEL' doesn't exist)\"\n",
      "Failed getting utilization of zstd 1gb_silesia.zip 8192 threads: \"Unable to synchronously open object (object 'CUPTI_ACTIVITY_KIND_KERNEL' doesn't exist)\"\n",
      "Failed getting utilization of zstd 1gb_silesia.zip 32768 threads: \"Unable to synchronously open object (object 'TARGET_INFO_GPU_METRICS' doesn't exist)\"\n",
      "Failed getting utilization of zstd 1gb_silesia.zip 131072 threads: \"Unable to synchronously open object (object 'TARGET_INFO_GPU_METRICS' doesn't exist)\"\n",
      "1gb_silesia.zip  zstd  524288  41.15664272863021  45.19730770759\n",
      "Failed getting utilization of zstd 1gb_silesia.zip 2097152 threads: [Errno 2] Unable to synchronously open file (unable to open file: name = '../data/compare_gpu_exact/a100/output_zstd_1gb_silesia.zip_2097152threads.h5', errno = 2, error message = 'No such file or directory', flags = 0, o_flags = 0)\n",
      "Failed getting utilization of zstd 1gb_silesia.zip 8388608 threads: [Errno 2] Unable to synchronously open file (unable to open file: name = '../data/compare_gpu_exact/a100/output_zstd_1gb_silesia.zip_8388608threads.h5', errno = 2, error message = 'No such file or directory', flags = 0, o_flags = 0)\n",
      "Failed getting utilization of gdeflate 1gb_silesia.zip 8 threads: \"Unable to synchronously open object (object 'CUPTI_ACTIVITY_KIND_KERNEL' doesn't exist)\"\n",
      "Failed getting utilization of gdeflate 1gb_silesia.zip 32 threads: \"Unable to synchronously open object (object 'CUPTI_ACTIVITY_KIND_KERNEL' doesn't exist)\"\n",
      "Failed getting utilization of gdeflate 1gb_silesia.zip 128 threads: \"Unable to synchronously open object (object 'CUPTI_ACTIVITY_KIND_KERNEL' doesn't exist)\"\n",
      "Failed getting utilization of gdeflate 1gb_silesia.zip 512 threads: \"Unable to synchronously open object (object 'CUPTI_ACTIVITY_KIND_KERNEL' doesn't exist)\"\n",
      "Failed getting utilization of gdeflate 1gb_silesia.zip 2048 threads: \"Unable to synchronously open object (object 'CUPTI_ACTIVITY_KIND_KERNEL' doesn't exist)\"\n",
      "Failed getting utilization of gdeflate 1gb_silesia.zip 8192 threads: \"Unable to synchronously open object (object 'CUPTI_ACTIVITY_KIND_KERNEL' doesn't exist)\"\n",
      "Failed getting utilization of gdeflate 1gb_silesia.zip 32768 threads: \"Unable to synchronously open object (object 'TARGET_INFO_GPU_METRICS' doesn't exist)\"\n",
      "Failed getting utilization of gdeflate 1gb_silesia.zip 131072 threads: \"Unable to synchronously open object (object 'TARGET_INFO_GPU_METRICS' doesn't exist)\"\n",
      "1gb_silesia.zip  gdeflate  524288  41.22583375853222  42.77330707025648\n",
      "Failed getting utilization of gdeflate 1gb_silesia.zip 2097152 threads: [Errno 2] Unable to synchronously open file (unable to open file: name = '../data/compare_gpu_exact/a100/output_gdeflate_1gb_silesia.zip_2097152threads.h5', errno = 2, error message = 'No such file or directory', flags = 0, o_flags = 0)\n",
      "Failed getting utilization of gdeflate 1gb_silesia.zip 8388608 threads: [Errno 2] Unable to synchronously open file (unable to open file: name = '../data/compare_gpu_exact/a100/output_gdeflate_1gb_silesia.zip_8388608threads.h5', errno = 2, error message = 'No such file or directory', flags = 0, o_flags = 0)\n",
      "Failed getting utilization of lz4 1gb_silesia.zip 8 threads: \"Unable to synchronously open object (object 'CUPTI_ACTIVITY_KIND_KERNEL' doesn't exist)\"\n",
      "Failed getting utilization of lz4 1gb_silesia.zip 32 threads: \"Unable to synchronously open object (object 'CUPTI_ACTIVITY_KIND_KERNEL' doesn't exist)\"\n",
      "Failed getting utilization of lz4 1gb_silesia.zip 128 threads: \"Unable to synchronously open object (object 'TARGET_INFO_GPU_METRICS' doesn't exist)\"\n",
      "1gb_silesia.zip  lz4  512  6.78850149893908  4.651651063363247\n",
      "1gb_silesia.zip  lz4  2048  28.65382843619249  11.762681432250336\n",
      "1gb_silesia.zip  lz4  8192  45.40405835014273  21.90417792448089\n",
      "1gb_silesia.zip  lz4  32768  48.872713736852475  33.13609333999892\n",
      "1gb_silesia.zip  lz4  131072  46.94972193842304  39.648804098320895\n",
      "1gb_silesia.zip  lz4  524288  49.74889798627824  44.4146174971827\n",
      "Failed getting utilization of lz4 1gb_silesia.zip 2097152 threads: [Errno 2] Unable to synchronously open file (unable to open file: name = '../data/compare_gpu_exact/a100/output_lz4_1gb_silesia.zip_2097152threads.h5', errno = 2, error message = 'No such file or directory', flags = 0, o_flags = 0)\n",
      "Failed getting utilization of lz4 1gb_silesia.zip 8388608 threads: [Errno 2] Unable to synchronously open file (unable to open file: name = '../data/compare_gpu_exact/a100/output_lz4_1gb_silesia.zip_8388608threads.h5', errno = 2, error message = 'No such file or directory', flags = 0, o_flags = 0)\n",
      "Failed getting utilization of cascaded 1gb_silesia.zip 8 threads: \"Unable to synchronously open object (object 'TARGET_INFO_GPU_METRICS' doesn't exist)\"\n",
      "Failed getting utilization of cascaded 1gb_silesia.zip 32 threads: \"Unable to synchronously open object (object 'TARGET_INFO_GPU_METRICS' doesn't exist)\"\n",
      "1gb_silesia.zip  cascaded  128  6.691480420829803  6.550730234135328\n",
      "1gb_silesia.zip  cascaded  512  27.874201564841563  18.713362779136073\n",
      "1gb_silesia.zip  cascaded  2048  42.329478213556335  38.51601830550894\n",
      "1gb_silesia.zip  cascaded  8192  47.86310873881857  46.04691303669787\n",
      "Failed getting utilization of cascaded 1gb_silesia.zip 32768 threads: \"Unable to synchronously open object (object 'TARGET_INFO_GPU_METRICS' doesn't exist)\"\n",
      "Failed getting utilization of cascaded 1gb_silesia.zip 131072 threads: \"Unable to synchronously open object (object 'TARGET_INFO_GPU_METRICS' doesn't exist)\"\n",
      "1gb_silesia.zip  cascaded  524288  48.72355152029252  38.54780986924321\n",
      "Failed getting utilization of cascaded 1gb_silesia.zip 2097152 threads: [Errno 2] Unable to synchronously open file (unable to open file: name = '../data/compare_gpu_exact/a100/output_cascaded_1gb_silesia.zip_2097152threads.h5', errno = 2, error message = 'No such file or directory', flags = 0, o_flags = 0)\n",
      "Failed getting utilization of cascaded 1gb_silesia.zip 8388608 threads: [Errno 2] Unable to synchronously open file (unable to open file: name = '../data/compare_gpu_exact/a100/output_cascaded_1gb_silesia.zip_8388608threads.h5', errno = 2, error message = 'No such file or directory', flags = 0, o_flags = 0)\n",
      "Failed getting utilization of bitcomp 1gb_silesia.zip 8 threads: \"Unable to synchronously open object (object 'TARGET_INFO_GPU_METRICS' doesn't exist)\"\n",
      "1gb_silesia.zip  bitcomp  32  3.953027219397796  3.8427787690177158\n",
      "1gb_silesia.zip  bitcomp  128  11.710751058573306  13.533590551162483\n",
      "1gb_silesia.zip  bitcomp  512  28.605362287662654  51.42747362040079\n",
      "1gb_silesia.zip  bitcomp  2048  33.93207237857854  58.91438936214793\n",
      "1gb_silesia.zip  bitcomp  8192  35.19132484303164  69.89139391443236\n",
      "Failed getting utilization of bitcomp 1gb_silesia.zip 32768 threads: \"Unable to synchronously open object (object 'TARGET_INFO_GPU_METRICS' doesn't exist)\"\n",
      "Failed getting utilization of bitcomp 1gb_silesia.zip 131072 threads: \"Unable to synchronously open object (object 'TARGET_INFO_GPU_METRICS' doesn't exist)\"\n",
      "1gb_silesia.zip  bitcomp  524288  35.802371537136395  73.44323425467985\n",
      "Failed getting utilization of bitcomp 1gb_silesia.zip 2097152 threads: [Errno 2] Unable to synchronously open file (unable to open file: name = '../data/compare_gpu_exact/a100/output_bitcomp_1gb_silesia.zip_2097152threads.h5', errno = 2, error message = 'No such file or directory', flags = 0, o_flags = 0)\n",
      "Failed getting utilization of bitcomp 1gb_silesia.zip 8388608 threads: [Errno 2] Unable to synchronously open file (unable to open file: name = '../data/compare_gpu_exact/a100/output_bitcomp_1gb_silesia.zip_8388608threads.h5', errno = 2, error message = 'No such file or directory', flags = 0, o_flags = 0)\n",
      "1gb_xml  snappy  8  1.0  1.0\n",
      "1gb_xml  snappy  32  1.0  1.0\n",
      "1gb_xml  snappy  128  3.615541099706794  3.5890082714168647\n",
      "1gb_xml  snappy  512  12.040869258212194  10.664191707962482\n",
      "Failed getting utilization of snappy 1gb_xml 2048 threads: \"Unable to synchronously open object (object 'TARGET_INFO_GPU_METRICS' doesn't exist)\"\n",
      "Failed getting utilization of snappy 1gb_xml 8192 threads: \"Unable to synchronously open object (object 'TARGET_INFO_GPU_METRICS' doesn't exist)\"\n",
      "Failed getting utilization of snappy 1gb_xml 32768 threads: \"Unable to synchronously open object (object 'TARGET_INFO_GPU_METRICS' doesn't exist)\"\n",
      "Failed getting utilization of snappy 1gb_xml 131072 threads: \"Unable to synchronously open object (object 'TARGET_INFO_GPU_METRICS' doesn't exist)\"\n",
      "Failed getting utilization of snappy 1gb_xml 524288 threads: \"Unable to synchronously open object (object 'TARGET_INFO_GPU_METRICS' doesn't exist)\"\n",
      "Failed getting utilization of snappy 1gb_xml 2097152 threads: [Errno 2] Unable to synchronously open file (unable to open file: name = '../data/compare_gpu_exact/a100/output_snappy_1gb_xml_2097152threads.h5', errno = 2, error message = 'No such file or directory', flags = 0, o_flags = 0)\n",
      "Failed getting utilization of snappy 1gb_xml 8388608 threads: [Errno 2] Unable to synchronously open file (unable to open file: name = '../data/compare_gpu_exact/a100/output_snappy_1gb_xml_8388608threads.h5', errno = 2, error message = 'No such file or directory', flags = 0, o_flags = 0)\n",
      "Failed getting utilization of zstd 1gb_xml 8 threads: \"Unable to synchronously open object (object 'CUPTI_ACTIVITY_KIND_KERNEL' doesn't exist)\"\n",
      "Failed getting utilization of zstd 1gb_xml 32 threads: \"Unable to synchronously open object (object 'CUPTI_ACTIVITY_KIND_KERNEL' doesn't exist)\"\n",
      "1gb_xml  zstd  128  3.617287115242306  3.879701865967939\n",
      "1gb_xml  zstd  512  10.810994967846696  12.73946457778377\n",
      "Failed getting utilization of zstd 1gb_xml 2048 threads: \"Unable to synchronously open object (object 'TARGET_INFO_GPU_METRICS' doesn't exist)\"\n",
      "Failed getting utilization of zstd 1gb_xml 8192 threads: \"Unable to synchronously open object (object 'TARGET_INFO_GPU_METRICS' doesn't exist)\"\n",
      "Failed getting utilization of zstd 1gb_xml 32768 threads: \"Unable to synchronously open object (object 'TARGET_INFO_GPU_METRICS' doesn't exist)\"\n",
      "1gb_xml  zstd  131072  43.49324527822809  42.04825879120329\n",
      "Failed getting utilization of zstd 1gb_xml 524288 threads: \"Unable to synchronously open object (object 'TARGET_INFO_GPU_METRICS' doesn't exist)\"\n",
      "Failed getting utilization of zstd 1gb_xml 2097152 threads: [Errno 2] Unable to synchronously open file (unable to open file: name = '../data/compare_gpu_exact/a100/output_zstd_1gb_xml_2097152threads.h5', errno = 2, error message = 'No such file or directory', flags = 0, o_flags = 0)\n",
      "Failed getting utilization of zstd 1gb_xml 8388608 threads: [Errno 2] Unable to synchronously open file (unable to open file: name = '../data/compare_gpu_exact/a100/output_zstd_1gb_xml_8388608threads.h5', errno = 2, error message = 'No such file or directory', flags = 0, o_flags = 0)\n",
      "Failed getting utilization of gdeflate 1gb_xml 8 threads: \"Unable to synchronously open object (object 'CUPTI_ACTIVITY_KIND_KERNEL' doesn't exist)\"\n",
      "Failed getting utilization of gdeflate 1gb_xml 32 threads: \"Unable to synchronously open object (object 'CUPTI_ACTIVITY_KIND_KERNEL' doesn't exist)\"\n",
      "Failed getting utilization of gdeflate 1gb_xml 128 threads: \"Unable to synchronously open object (object 'CUPTI_ACTIVITY_KIND_KERNEL' doesn't exist)\"\n",
      "Failed getting utilization of gdeflate 1gb_xml 512 threads: \"Unable to synchronously open object (object 'CUPTI_ACTIVITY_KIND_KERNEL' doesn't exist)\"\n",
      "Failed getting utilization of gdeflate 1gb_xml 2048 threads: \"Unable to synchronously open object (object 'CUPTI_ACTIVITY_KIND_KERNEL' doesn't exist)\"\n",
      "Failed getting utilization of gdeflate 1gb_xml 8192 threads: \"Unable to synchronously open object (object 'CUPTI_ACTIVITY_KIND_KERNEL' doesn't exist)\"\n",
      "Failed getting utilization of gdeflate 1gb_xml 32768 threads: \"Unable to synchronously open object (object 'TARGET_INFO_GPU_METRICS' doesn't exist)\"\n",
      "1gb_xml  gdeflate  131072  39.18213817781216  40.32722135575362\n",
      "1gb_xml  gdeflate  524288  40.45917110054  41.607356782403805\n",
      "Failed getting utilization of gdeflate 1gb_xml 2097152 threads: [Errno 2] Unable to synchronously open file (unable to open file: name = '../data/compare_gpu_exact/a100/output_gdeflate_1gb_xml_2097152threads.h5', errno = 2, error message = 'No such file or directory', flags = 0, o_flags = 0)\n",
      "Failed getting utilization of gdeflate 1gb_xml 8388608 threads: [Errno 2] Unable to synchronously open file (unable to open file: name = '../data/compare_gpu_exact/a100/output_gdeflate_1gb_xml_8388608threads.h5', errno = 2, error message = 'No such file or directory', flags = 0, o_flags = 0)\n",
      "Failed getting utilization of lz4 1gb_xml 8 threads: \"Unable to synchronously open object (object 'CUPTI_ACTIVITY_KIND_KERNEL' doesn't exist)\"\n",
      "Failed getting utilization of lz4 1gb_xml 32 threads: \"Unable to synchronously open object (object 'CUPTI_ACTIVITY_KIND_KERNEL' doesn't exist)\"\n",
      "1gb_xml  lz4  128  1.837518315726925  1.8795006749181478\n",
      "1gb_xml  lz4  512  5.317393612098857  5.618540917604458\n",
      "Failed getting utilization of lz4 1gb_xml 2048 threads: \"Unable to synchronously open object (object 'TARGET_INFO_GPU_METRICS' doesn't exist)\"\n",
      "Failed getting utilization of lz4 1gb_xml 8192 threads: \"Unable to synchronously open object (object 'TARGET_INFO_GPU_METRICS' doesn't exist)\"\n",
      "Failed getting utilization of lz4 1gb_xml 32768 threads: \"Unable to synchronously open object (object 'TARGET_INFO_GPU_METRICS' doesn't exist)\"\n",
      "Failed getting utilization of lz4 1gb_xml 131072 threads: \"Unable to synchronously open object (object 'TARGET_INFO_GPU_METRICS' doesn't exist)\"\n",
      "1gb_xml  lz4  524288  49.74942597075381  46.73111742236105\n",
      "Failed getting utilization of lz4 1gb_xml 2097152 threads: [Errno 2] Unable to synchronously open file (unable to open file: name = '../data/compare_gpu_exact/a100/output_lz4_1gb_xml_2097152threads.h5', errno = 2, error message = 'No such file or directory', flags = 0, o_flags = 0)\n",
      "Failed getting utilization of lz4 1gb_xml 8388608 threads: [Errno 2] Unable to synchronously open file (unable to open file: name = '../data/compare_gpu_exact/a100/output_lz4_1gb_xml_8388608threads.h5', errno = 2, error message = 'No such file or directory', flags = 0, o_flags = 0)\n",
      "1gb_xml  cascaded  8  1.0  0.9998750983637263\n",
      "1gb_xml  cascaded  32  1.9872533314327354  1.9533804228990057\n",
      "1gb_xml  cascaded  128  6.688853626141793  6.50586796286583\n",
      "1gb_xml  cascaded  512  27.75306126968391  18.880413826634523\n",
      "1gb_xml  cascaded  2048  41.78704789828076  25.922447876005737\n",
      "1gb_xml  cascaded  8192  47.669482507998154  25.348421440315764\n",
      "1gb_xml  cascaded  32768  49.21449098186062  43.21728033021348\n",
      "1gb_xml  cascaded  131072  49.709815624433574  43.883250637182485\n",
      "1gb_xml  cascaded  524288  46.5154393575877  39.247059044979565\n",
      "Failed getting utilization of cascaded 1gb_xml 2097152 threads: [Errno 2] Unable to synchronously open file (unable to open file: name = '../data/compare_gpu_exact/a100/output_cascaded_1gb_xml_2097152threads.h5', errno = 2, error message = 'No such file or directory', flags = 0, o_flags = 0)\n",
      "Failed getting utilization of cascaded 1gb_xml 8388608 threads: [Errno 2] Unable to synchronously open file (unable to open file: name = '../data/compare_gpu_exact/a100/output_cascaded_1gb_xml_8388608threads.h5', errno = 2, error message = 'No such file or directory', flags = 0, o_flags = 0)\n",
      "1gb_xml  bitcomp  8  1.0  0.999943214916605\n",
      "1gb_xml  bitcomp  32  3.9653827308996057  3.955750394319269\n",
      "1gb_xml  bitcomp  128  12.238634402645435  14.258186398384368\n",
      "1gb_xml  bitcomp  512  29.40728327963447  51.59528794289089\n",
      "1gb_xml  bitcomp  2048  34.46424282122782  60.17175795382742\n",
      "1gb_xml  bitcomp  8192  35.84753053589131  70.27568176665551\n",
      "1gb_xml  bitcomp  32768  36.13780337391688  73.0755093905523\n",
      "1gb_xml  bitcomp  131072  35.29736195872226  71.6646315299572\n",
      "Failed getting utilization of bitcomp 1gb_xml 524288 threads: \"Unable to synchronously open object (object 'TARGET_INFO_GPU_METRICS' doesn't exist)\"\n",
      "Failed getting utilization of bitcomp 1gb_xml 2097152 threads: [Errno 2] Unable to synchronously open file (unable to open file: name = '../data/compare_gpu_exact/a100/output_bitcomp_1gb_xml_2097152threads.h5', errno = 2, error message = 'No such file or directory', flags = 0, o_flags = 0)\n",
      "Failed getting utilization of bitcomp 1gb_xml 8388608 threads: [Errno 2] Unable to synchronously open file (unable to open file: name = '../data/compare_gpu_exact/a100/output_bitcomp_1gb_xml_8388608threads.h5', errno = 2, error message = 'No such file or directory', flags = 0, o_flags = 0)\n",
      "Failed getting utilization of snappy 1gb_lineitem.parquet 8 threads: \"Unable to synchronously open object (object 'TARGET_INFO_GPU_METRICS' doesn't exist)\"\n",
      "Failed getting utilization of snappy 1gb_lineitem.parquet 32 threads: \"Unable to synchronously open object (object 'TARGET_INFO_GPU_METRICS' doesn't exist)\"\n",
      "Failed getting utilization of snappy 1gb_lineitem.parquet 128 threads: \"Unable to synchronously open object (object 'TARGET_INFO_GPU_METRICS' doesn't exist)\"\n",
      "Failed getting utilization of snappy 1gb_lineitem.parquet 512 threads: \"Unable to synchronously open object (object 'TARGET_INFO_GPU_METRICS' doesn't exist)\"\n",
      "Failed getting utilization of snappy 1gb_lineitem.parquet 2048 threads: \"Unable to synchronously open object (object 'TARGET_INFO_GPU_METRICS' doesn't exist)\"\n",
      "Failed getting utilization of snappy 1gb_lineitem.parquet 8192 threads: \"Unable to synchronously open object (object 'TARGET_INFO_GPU_METRICS' doesn't exist)\"\n",
      "Failed getting utilization of snappy 1gb_lineitem.parquet 32768 threads: \"Unable to synchronously open object (object 'TARGET_INFO_GPU_METRICS' doesn't exist)\"\n",
      "Failed getting utilization of snappy 1gb_lineitem.parquet 131072 threads: \"Unable to synchronously open object (object 'TARGET_INFO_GPU_METRICS' doesn't exist)\"\n",
      "1gb_lineitem.parquet  snappy  524288  49.776718759074214  80.33518819017186\n",
      "Failed getting utilization of snappy 1gb_lineitem.parquet 2097152 threads: [Errno 2] Unable to synchronously open file (unable to open file: name = '../data/compare_gpu_exact/a100/output_snappy_1gb_lineitem.parquet_2097152threads.h5', errno = 2, error message = 'No such file or directory', flags = 0, o_flags = 0)\n",
      "Failed getting utilization of snappy 1gb_lineitem.parquet 8388608 threads: [Errno 2] Unable to synchronously open file (unable to open file: name = '../data/compare_gpu_exact/a100/output_snappy_1gb_lineitem.parquet_8388608threads.h5', errno = 2, error message = 'No such file or directory', flags = 0, o_flags = 0)\n",
      "Failed getting utilization of zstd 1gb_lineitem.parquet 8 threads: \"Unable to synchronously open object (object 'CUPTI_ACTIVITY_KIND_KERNEL' doesn't exist)\"\n",
      "Failed getting utilization of zstd 1gb_lineitem.parquet 32 threads: \"Unable to synchronously open object (object 'CUPTI_ACTIVITY_KIND_KERNEL' doesn't exist)\"\n",
      "Failed getting utilization of zstd 1gb_lineitem.parquet 128 threads: \"Unable to synchronously open object (object 'CUPTI_ACTIVITY_KIND_KERNEL' doesn't exist)\"\n",
      "1gb_lineitem.parquet  zstd  512  13.43590841589121  14.837769394903408\n",
      "Failed getting utilization of zstd 1gb_lineitem.parquet 2048 threads: \"Unable to synchronously open object (object 'CUPTI_ACTIVITY_KIND_KERNEL' doesn't exist)\"\n",
      "Failed getting utilization of zstd 1gb_lineitem.parquet 8192 threads: \"Unable to synchronously open object (object 'CUPTI_ACTIVITY_KIND_KERNEL' doesn't exist)\"\n",
      "Failed getting utilization of zstd 1gb_lineitem.parquet 32768 threads: \"Unable to synchronously open object (object 'CUPTI_ACTIVITY_KIND_KERNEL' doesn't exist)\"\n",
      "Failed getting utilization of zstd 1gb_lineitem.parquet 131072 threads: \"Unable to synchronously open object (object 'TARGET_INFO_GPU_METRICS' doesn't exist)\"\n",
      "Failed getting utilization of zstd 1gb_lineitem.parquet 524288 threads: \"Unable to synchronously open object (object 'TARGET_INFO_GPU_METRICS' doesn't exist)\"\n",
      "Failed getting utilization of zstd 1gb_lineitem.parquet 2097152 threads: [Errno 2] Unable to synchronously open file (unable to open file: name = '../data/compare_gpu_exact/a100/output_zstd_1gb_lineitem.parquet_2097152threads.h5', errno = 2, error message = 'No such file or directory', flags = 0, o_flags = 0)\n",
      "Failed getting utilization of zstd 1gb_lineitem.parquet 8388608 threads: [Errno 2] Unable to synchronously open file (unable to open file: name = '../data/compare_gpu_exact/a100/output_zstd_1gb_lineitem.parquet_8388608threads.h5', errno = 2, error message = 'No such file or directory', flags = 0, o_flags = 0)\n",
      "Failed getting utilization of gdeflate 1gb_lineitem.parquet 8 threads: \"Unable to synchronously open object (object 'CUPTI_ACTIVITY_KIND_KERNEL' doesn't exist)\"\n",
      "Failed getting utilization of gdeflate 1gb_lineitem.parquet 32 threads: \"Unable to synchronously open object (object 'CUPTI_ACTIVITY_KIND_KERNEL' doesn't exist)\"\n",
      "Failed getting utilization of gdeflate 1gb_lineitem.parquet 128 threads: \"Unable to synchronously open object (object 'CUPTI_ACTIVITY_KIND_KERNEL' doesn't exist)\"\n",
      "Failed getting utilization of gdeflate 1gb_lineitem.parquet 512 threads: \"Unable to synchronously open object (object 'CUPTI_ACTIVITY_KIND_KERNEL' doesn't exist)\"\n",
      "Failed getting utilization of gdeflate 1gb_lineitem.parquet 2048 threads: \"Unable to synchronously open object (object 'CUPTI_ACTIVITY_KIND_KERNEL' doesn't exist)\"\n",
      "Failed getting utilization of gdeflate 1gb_lineitem.parquet 8192 threads: \"Unable to synchronously open object (object 'CUPTI_ACTIVITY_KIND_KERNEL' doesn't exist)\"\n",
      "Failed getting utilization of gdeflate 1gb_lineitem.parquet 32768 threads: \"Unable to synchronously open object (object 'CUPTI_ACTIVITY_KIND_KERNEL' doesn't exist)\"\n",
      "Failed getting utilization of gdeflate 1gb_lineitem.parquet 131072 threads: \"Unable to synchronously open object (object 'TARGET_INFO_GPU_METRICS' doesn't exist)\"\n",
      "Failed getting utilization of gdeflate 1gb_lineitem.parquet 524288 threads: 'compress'\n",
      "Failed getting utilization of gdeflate 1gb_lineitem.parquet 2097152 threads: [Errno 2] Unable to synchronously open file (unable to open file: name = '../data/compare_gpu_exact/a100/output_gdeflate_1gb_lineitem.parquet_2097152threads.h5', errno = 2, error message = 'No such file or directory', flags = 0, o_flags = 0)\n",
      "Failed getting utilization of gdeflate 1gb_lineitem.parquet 8388608 threads: [Errno 2] Unable to synchronously open file (unable to open file: name = '../data/compare_gpu_exact/a100/output_gdeflate_1gb_lineitem.parquet_8388608threads.h5', errno = 2, error message = 'No such file or directory', flags = 0, o_flags = 0)\n",
      "Failed getting utilization of lz4 1gb_lineitem.parquet 8 threads: \"Unable to synchronously open object (object 'CUPTI_ACTIVITY_KIND_KERNEL' doesn't exist)\"\n",
      "Failed getting utilization of lz4 1gb_lineitem.parquet 32 threads: \"Unable to synchronously open object (object 'CUPTI_ACTIVITY_KIND_KERNEL' doesn't exist)\"\n",
      "Failed getting utilization of lz4 1gb_lineitem.parquet 128 threads: \"Unable to synchronously open object (object 'CUPTI_ACTIVITY_KIND_KERNEL' doesn't exist)\"\n",
      "Failed getting utilization of lz4 1gb_lineitem.parquet 512 threads: \"Unable to synchronously open object (object 'TARGET_INFO_GPU_METRICS' doesn't exist)\"\n",
      "1gb_lineitem.parquet  lz4  2048  23.422631597008696  9.729362472549454\n",
      "1gb_lineitem.parquet  lz4  8192  42.097889634985755  21.331853228861114\n",
      "Failed getting utilization of lz4 1gb_lineitem.parquet 32768 threads: \"Unable to synchronously open object (object 'TARGET_INFO_GPU_METRICS' doesn't exist)\"\n",
      "Failed getting utilization of lz4 1gb_lineitem.parquet 131072 threads: \"Unable to synchronously open object (object 'TARGET_INFO_GPU_METRICS' doesn't exist)\"\n",
      "1gb_lineitem.parquet  lz4  524288  49.890183961701425  44.76040114507637\n",
      "Failed getting utilization of lz4 1gb_lineitem.parquet 2097152 threads: [Errno 2] Unable to synchronously open file (unable to open file: name = '../data/compare_gpu_exact/a100/output_lz4_1gb_lineitem.parquet_2097152threads.h5', errno = 2, error message = 'No such file or directory', flags = 0, o_flags = 0)\n",
      "Failed getting utilization of lz4 1gb_lineitem.parquet 8388608 threads: [Errno 2] Unable to synchronously open file (unable to open file: name = '../data/compare_gpu_exact/a100/output_lz4_1gb_lineitem.parquet_8388608threads.h5', errno = 2, error message = 'No such file or directory', flags = 0, o_flags = 0)\n",
      "1gb_lineitem.parquet  cascaded  8  1.0387117793490843  0.8470639893922091\n",
      "1gb_lineitem.parquet  cascaded  32  1.9811830652262326  1.9858764774767108\n",
      "1gb_lineitem.parquet  cascaded  128  6.735498075615787  6.848834833766695\n",
      "1gb_lineitem.parquet  cascaded  512  26.49609059785076  15.786470282553967\n",
      "Failed getting utilization of cascaded 1gb_lineitem.parquet 2048 threads: \"Unable to synchronously open object (object 'TARGET_INFO_GPU_METRICS' doesn't exist)\"\n",
      "Failed getting utilization of cascaded 1gb_lineitem.parquet 8192 threads: \"Unable to synchronously open object (object 'TARGET_INFO_GPU_METRICS' doesn't exist)\"\n",
      "Failed getting utilization of cascaded 1gb_lineitem.parquet 32768 threads: \"Unable to synchronously open object (object 'TARGET_INFO_GPU_METRICS' doesn't exist)\"\n",
      "Failed getting utilization of cascaded 1gb_lineitem.parquet 131072 threads: \"Unable to synchronously open object (object 'TARGET_INFO_GPU_METRICS' doesn't exist)\"\n",
      "Failed getting utilization of cascaded 1gb_lineitem.parquet 524288 threads: \"Unable to synchronously open object (object 'TARGET_INFO_GPU_METRICS' doesn't exist)\"\n",
      "Failed getting utilization of cascaded 1gb_lineitem.parquet 2097152 threads: [Errno 2] Unable to synchronously open file (unable to open file: name = '../data/compare_gpu_exact/a100/output_cascaded_1gb_lineitem.parquet_2097152threads.h5', errno = 2, error message = 'No such file or directory', flags = 0, o_flags = 0)\n",
      "Failed getting utilization of cascaded 1gb_lineitem.parquet 8388608 threads: [Errno 2] Unable to synchronously open file (unable to open file: name = '../data/compare_gpu_exact/a100/output_cascaded_1gb_lineitem.parquet_8388608threads.h5', errno = 2, error message = 'No such file or directory', flags = 0, o_flags = 0)\n",
      "Failed getting utilization of bitcomp 1gb_lineitem.parquet 8 threads: \"Unable to synchronously open object (object 'TARGET_INFO_GPU_METRICS' doesn't exist)\"\n",
      "1gb_lineitem.parquet  bitcomp  32  3.961208890764898  3.8144915637805052\n",
      "Failed getting utilization of bitcomp 1gb_lineitem.parquet 128 threads: \"Unable to synchronously open object (object 'TARGET_INFO_GPU_METRICS' doesn't exist)\"\n",
      "Failed getting utilization of bitcomp 1gb_lineitem.parquet 512 threads: \"Unable to synchronously open object (object 'TARGET_INFO_GPU_METRICS' doesn't exist)\"\n",
      "Failed getting utilization of bitcomp 1gb_lineitem.parquet 2048 threads: \"Unable to synchronously open object (object 'TARGET_INFO_GPU_METRICS' doesn't exist)\"\n",
      "Failed getting utilization of bitcomp 1gb_lineitem.parquet 8192 threads: \"Unable to synchronously open object (object 'TARGET_INFO_GPU_METRICS' doesn't exist)\"\n",
      "Failed getting utilization of bitcomp 1gb_lineitem.parquet 32768 threads: \"Unable to synchronously open object (object 'TARGET_INFO_GPU_METRICS' doesn't exist)\"\n",
      "Failed getting utilization of bitcomp 1gb_lineitem.parquet 131072 threads: \"Unable to synchronously open object (object 'TARGET_INFO_GPU_METRICS' doesn't exist)\"\n",
      "Failed getting utilization of bitcomp 1gb_lineitem.parquet 524288 threads: \"Unable to synchronously open object (object 'TARGET_INFO_GPU_METRICS' doesn't exist)\"\n",
      "Failed getting utilization of bitcomp 1gb_lineitem.parquet 2097152 threads: [Errno 2] Unable to synchronously open file (unable to open file: name = '../data/compare_gpu_exact/a100/output_bitcomp_1gb_lineitem.parquet_2097152threads.h5', errno = 2, error message = 'No such file or directory', flags = 0, o_flags = 0)\n",
      "Failed getting utilization of bitcomp 1gb_lineitem.parquet 8388608 threads: [Errno 2] Unable to synchronously open file (unable to open file: name = '../data/compare_gpu_exact/a100/output_bitcomp_1gb_lineitem.parquet_8388608threads.h5', errno = 2, error message = 'No such file or directory', flags = 0, o_flags = 0)\n",
      "     standard  chunk_size                  file  compression_utilization  \\\n",
      "0      snappy    16384000           1gb_dickens                 1.000000   \n",
      "1      snappy     4096000           1gb_dickens                 3.794403   \n",
      "2      snappy     1024000           1gb_dickens                14.488015   \n",
      "3      snappy      256000           1gb_dickens                35.162255   \n",
      "4      snappy       64000           1gb_dickens                48.095276   \n",
      "..        ...         ...                   ...                      ...   \n",
      "230  cascaded    65536000  1gb_lineitem.parquet                 1.038712   \n",
      "231  cascaded    16384000  1gb_lineitem.parquet                 1.981183   \n",
      "232  cascaded     4096000  1gb_lineitem.parquet                 6.735498   \n",
      "233  cascaded     1024000  1gb_lineitem.parquet                26.496091   \n",
      "234   bitcomp    16384000  1gb_lineitem.parquet                 3.961209   \n",
      "\n",
      "     decompression_utilization  \n",
      "0                     1.000000  \n",
      "1                     3.854573  \n",
      "2                    14.315356  \n",
      "3                    51.721908  \n",
      "4                    84.651915  \n",
      "..                         ...  \n",
      "230                   0.847064  \n",
      "231                   1.985876  \n",
      "232                   6.848835  \n",
      "233                  15.786470  \n",
      "234                   3.814492  \n",
      "\n",
      "[235 rows x 5 columns]\n"
     ]
    }
   ],
   "source": [
    "# Generate dataframe with utilization data\n",
    "\n",
    "result_df = NsysScanner(input_dir, FILE_SIZE).get_utilisation_df(compression_files, compressors, approx_number_of_threads)\n",
    "\n",
    "\n",
    "print(result_df)\n"
   ]
  },
  {
   "cell_type": "code",
   "execution_count": 9,
   "metadata": {},
   "outputs": [
    {
     "data": {
      "application/vnd.plotly.v1+json": {
       "config": {
        "plotlyServerURL": "https://plot.ly"
       },
       "data": [
        {
         "hovertemplate": "file=1gb_dickens<br>standard=snappy<br>chunk_size=%{x}<br>compression_utilization=%{y}<extra></extra>",
         "legendgroup": "1gb_dickens",
         "line": {
          "color": "#636efa",
          "dash": "solid"
         },
         "marker": {
          "symbol": "circle"
         },
         "mode": "lines+markers",
         "name": "1gb_dickens",
         "orientation": "v",
         "showlegend": true,
         "type": "scatter",
         "x": [
          16384000,
          4096000,
          1024000,
          256000,
          64000,
          16000,
          1000
         ],
         "xaxis": "x6",
         "y": [
          1,
          3.7944029247549396,
          14.488014950759863,
          35.1622545180542,
          48.09527640270693,
          51.68407097433246,
          52.877961535873794
         ],
         "yaxis": "y6"
        },
        {
         "hovertemplate": "file=1gb_dickens<br>standard=zstd<br>chunk_size=%{x}<br>compression_utilization=%{y}<extra></extra>",
         "legendgroup": "1gb_dickens",
         "line": {
          "color": "#636efa",
          "dash": "solid"
         },
         "marker": {
          "symbol": "circle"
         },
         "mode": "lines+markers",
         "name": "1gb_dickens",
         "orientation": "v",
         "showlegend": false,
         "type": "scatter",
         "x": [
          1024000,
          64000,
          16000,
          4000,
          1000
         ],
         "xaxis": "x5",
         "y": [
          14.149746155807014,
          40.1972306061468,
          43.490915159524036,
          43.90520431716525,
          43.084885785006136
         ],
         "yaxis": "y5"
        },
        {
         "hovertemplate": "file=1gb_dickens<br>standard=gdeflate<br>chunk_size=%{x}<br>compression_utilization=%{y}<extra></extra>",
         "legendgroup": "1gb_dickens",
         "line": {
          "color": "#636efa",
          "dash": "solid"
         },
         "marker": {
          "symbol": "circle"
         },
         "mode": "lines+markers",
         "name": "1gb_dickens",
         "orientation": "v",
         "showlegend": false,
         "type": "scatter",
         "x": [
          4000
         ],
         "xaxis": "x4",
         "y": [
          44.15334713492933
         ],
         "yaxis": "y4"
        },
        {
         "hovertemplate": "file=1gb_dickens<br>standard=lz4<br>chunk_size=%{x}<br>compression_utilization=%{y}<extra></extra>",
         "legendgroup": "1gb_dickens",
         "line": {
          "color": "#636efa",
          "dash": "solid"
         },
         "marker": {
          "symbol": "circle"
         },
         "mode": "lines+markers",
         "name": "1gb_dickens",
         "orientation": "v",
         "showlegend": false,
         "type": "scatter",
         "x": [
          4096000,
          1024000,
          256000,
          16000,
          4000,
          1000
         ],
         "xaxis": "x3",
         "y": [
          1.9294047807638082,
          6.5421999023829525,
          29.30087683222655,
          47.79393934186626,
          49.537857235790696,
          49.78587406307338
         ],
         "yaxis": "y3"
        },
        {
         "hovertemplate": "file=1gb_dickens<br>standard=cascaded<br>chunk_size=%{x}<br>compression_utilization=%{y}<extra></extra>",
         "legendgroup": "1gb_dickens",
         "line": {
          "color": "#636efa",
          "dash": "solid"
         },
         "marker": {
          "symbol": "circle"
         },
         "mode": "lines+markers",
         "name": "1gb_dickens",
         "orientation": "v",
         "showlegend": false,
         "type": "scatter",
         "x": [
          65536000,
          16384000,
          4096000,
          1024000,
          256000,
          64000,
          16000,
          4000,
          1000
         ],
         "xaxis": "x2",
         "y": [
          1,
          1.9851270691447607,
          6.687857549544594,
          27.932367546023933,
          42.26851379987036,
          47.84063875405566,
          49.19514097678787,
          49.638835588134086,
          48.81958527217049
         ],
         "yaxis": "y2"
        },
        {
         "hovertemplate": "file=1gb_dickens<br>standard=bitcomp<br>chunk_size=%{x}<br>compression_utilization=%{y}<extra></extra>",
         "legendgroup": "1gb_dickens",
         "line": {
          "color": "#636efa",
          "dash": "solid"
         },
         "marker": {
          "symbol": "circle"
         },
         "mode": "lines+markers",
         "name": "1gb_dickens",
         "orientation": "v",
         "showlegend": false,
         "type": "scatter",
         "x": [
          65536000,
          16384000,
          1024000,
          64000,
          16000,
          4000,
          1000
         ],
         "xaxis": "x",
         "y": [
          1.4241170106340921,
          3.979718308179266,
          29.595432816944566,
          35.9542811552283,
          36.37574049997188,
          35.38335567226758,
          35.740219583096454
         ],
         "yaxis": "y"
        },
        {
         "hovertemplate": "file=1gb_mozilla<br>standard=snappy<br>chunk_size=%{x}<br>compression_utilization=%{y}<extra></extra>",
         "legendgroup": "1gb_mozilla",
         "line": {
          "color": "#EF553B",
          "dash": "solid"
         },
         "marker": {
          "symbol": "circle"
         },
         "mode": "lines+markers",
         "name": "1gb_mozilla",
         "orientation": "v",
         "showlegend": true,
         "type": "scatter",
         "x": [
          65536000,
          1024000,
          256000,
          64000,
          16000,
          4000,
          1000
         ],
         "xaxis": "x6",
         "y": [
          0.9500936394959245,
          12.347398121936221,
          34.22871849087903,
          47.47180274227182,
          51.14255023591397,
          52.403383712535046,
          52.75340287416077
         ],
         "yaxis": "y6"
        },
        {
         "hovertemplate": "file=1gb_mozilla<br>standard=zstd<br>chunk_size=%{x}<br>compression_utilization=%{y}<extra></extra>",
         "legendgroup": "1gb_mozilla",
         "line": {
          "color": "#EF553B",
          "dash": "solid"
         },
         "marker": {
          "symbol": "circle"
         },
         "mode": "lines+markers",
         "name": "1gb_mozilla",
         "orientation": "v",
         "showlegend": false,
         "type": "scatter",
         "x": [
          1024000,
          256000,
          64000,
          4000,
          1000
         ],
         "xaxis": "x5",
         "y": [
          12.288542229715754,
          25.323872156180744,
          37.378039824938405,
          40.557680931006345,
          42.01092238566227
         ],
         "yaxis": "y5"
        },
        {
         "hovertemplate": "file=1gb_mozilla<br>standard=gdeflate<br>chunk_size=%{x}<br>compression_utilization=%{y}<extra></extra>",
         "legendgroup": "1gb_mozilla",
         "line": {
          "color": "#EF553B",
          "dash": "solid"
         },
         "marker": {
          "symbol": "circle"
         },
         "mode": "lines+markers",
         "name": "1gb_mozilla",
         "orientation": "v",
         "showlegend": false,
         "type": "scatter",
         "x": [
          4000
         ],
         "xaxis": "x4",
         "y": [
          41.62486666658184
         ],
         "yaxis": "y4"
        },
        {
         "hovertemplate": "file=1gb_mozilla<br>standard=lz4<br>chunk_size=%{x}<br>compression_utilization=%{y}<extra></extra>",
         "legendgroup": "1gb_mozilla",
         "line": {
          "color": "#EF553B",
          "dash": "solid"
         },
         "marker": {
          "symbol": "circle"
         },
         "mode": "lines+markers",
         "name": "1gb_mozilla",
         "orientation": "v",
         "showlegend": false,
         "type": "scatter",
         "x": [
          4096000,
          16000,
          4000,
          1000
         ],
         "xaxis": "x3",
         "y": [
          1.7912529672928197,
          47.370840289085535,
          49.017656493109875,
          48.96251490208618
         ],
         "yaxis": "y3"
        },
        {
         "hovertemplate": "file=1gb_mozilla<br>standard=cascaded<br>chunk_size=%{x}<br>compression_utilization=%{y}<extra></extra>",
         "legendgroup": "1gb_mozilla",
         "line": {
          "color": "#EF553B",
          "dash": "solid"
         },
         "marker": {
          "symbol": "circle"
         },
         "mode": "lines+markers",
         "name": "1gb_mozilla",
         "orientation": "v",
         "showlegend": false,
         "type": "scatter",
         "x": [
          1024000,
          64000
         ],
         "xaxis": "x2",
         "y": [
          25.52153472990273,
          47.24245585544484
         ],
         "yaxis": "y2"
        },
        {
         "hovertemplate": "file=1gb_mozilla<br>standard=bitcomp<br>chunk_size=%{x}<br>compression_utilization=%{y}<extra></extra>",
         "legendgroup": "1gb_mozilla",
         "line": {
          "color": "#EF553B",
          "dash": "solid"
         },
         "marker": {
          "symbol": "circle"
         },
         "mode": "lines+markers",
         "name": "1gb_mozilla",
         "orientation": "v",
         "showlegend": false,
         "type": "scatter",
         "x": [
          16384000,
          1024000,
          64000,
          16000,
          4000
         ],
         "xaxis": "x",
         "y": [
          3.8920572097671062,
          27.89407272021957,
          36.04340319539825,
          36.18017656594393,
          35.29289829927347
         ],
         "yaxis": "y"
        },
        {
         "hovertemplate": "file=1gb_mr<br>standard=snappy<br>chunk_size=%{x}<br>compression_utilization=%{y}<extra></extra>",
         "legendgroup": "1gb_mr",
         "line": {
          "color": "#00cc96",
          "dash": "solid"
         },
         "marker": {
          "symbol": "circle"
         },
         "mode": "lines+markers",
         "name": "1gb_mr",
         "orientation": "v",
         "showlegend": true,
         "type": "scatter",
         "x": [
          16384000,
          4096000,
          1024000,
          256000,
          64000,
          16000,
          1000
         ],
         "xaxis": "x6",
         "y": [
          1,
          3.7430762831480546,
          13.084871110292713,
          32.69936840457193,
          43.060307432477366,
          45.39193789425755,
          52.75549384381672
         ],
         "yaxis": "y6"
        },
        {
         "hovertemplate": "file=1gb_mr<br>standard=zstd<br>chunk_size=%{x}<br>compression_utilization=%{y}<extra></extra>",
         "legendgroup": "1gb_mr",
         "line": {
          "color": "#00cc96",
          "dash": "solid"
         },
         "marker": {
          "symbol": "circle"
         },
         "mode": "lines+markers",
         "name": "1gb_mr",
         "orientation": "v",
         "showlegend": false,
         "type": "scatter",
         "x": [
          1024000,
          256000,
          64000,
          16000,
          1000
         ],
         "xaxis": "x5",
         "y": [
          13.82375913492318,
          28.610995785204334,
          39.65759987620914,
          42.447153877625894,
          41.919880123038375
         ],
         "yaxis": "y5"
        },
        {
         "hovertemplate": "file=1gb_mr<br>standard=lz4<br>chunk_size=%{x}<br>compression_utilization=%{y}<extra></extra>",
         "legendgroup": "1gb_mr",
         "line": {
          "color": "#00cc96",
          "dash": "solid"
         },
         "marker": {
          "symbol": "circle"
         },
         "mode": "lines+markers",
         "name": "1gb_mr",
         "orientation": "v",
         "showlegend": false,
         "type": "scatter",
         "x": [
          4096000,
          1024000,
          256000,
          4000,
          1000
         ],
         "xaxis": "x3",
         "y": [
          1.9317199071076576,
          6.614425123311046,
          28.119478307124485,
          48.442321126917314,
          48.54389623614094
         ],
         "yaxis": "y3"
        },
        {
         "hovertemplate": "file=1gb_mr<br>standard=cascaded<br>chunk_size=%{x}<br>compression_utilization=%{y}<extra></extra>",
         "legendgroup": "1gb_mr",
         "line": {
          "color": "#00cc96",
          "dash": "solid"
         },
         "marker": {
          "symbol": "circle"
         },
         "mode": "lines+markers",
         "name": "1gb_mr",
         "orientation": "v",
         "showlegend": false,
         "type": "scatter",
         "x": [
          65536000,
          16384000,
          4096000,
          1024000,
          4000
         ],
         "xaxis": "x2",
         "y": [
          1,
          1.989357385445821,
          6.747391689514011,
          27.275285874208407,
          49.59230171218629
         ],
         "yaxis": "y2"
        },
        {
         "hovertemplate": "file=1gb_mr<br>standard=bitcomp<br>chunk_size=%{x}<br>compression_utilization=%{y}<extra></extra>",
         "legendgroup": "1gb_mr",
         "line": {
          "color": "#00cc96",
          "dash": "solid"
         },
         "marker": {
          "symbol": "circle"
         },
         "mode": "lines+markers",
         "name": "1gb_mr",
         "orientation": "v",
         "showlegend": false,
         "type": "scatter",
         "x": [
          65536000,
          16384000,
          4096000,
          1024000,
          256000,
          4000,
          1000
         ],
         "xaxis": "x",
         "y": [
          1,
          3.971637460532519,
          12.353109726449894,
          29.02013963577792,
          34.32811065443791,
          35.519239114259584,
          35.86338175803286
         ],
         "yaxis": "y"
        },
        {
         "hovertemplate": "file=1gb_nci<br>standard=snappy<br>chunk_size=%{x}<br>compression_utilization=%{y}<extra></extra>",
         "legendgroup": "1gb_nci",
         "line": {
          "color": "#ab63fa",
          "dash": "solid"
         },
         "marker": {
          "symbol": "circle"
         },
         "mode": "lines+markers",
         "name": "1gb_nci",
         "orientation": "v",
         "showlegend": true,
         "type": "scatter",
         "x": [
          65536000,
          16384000,
          4096000,
          16000
         ],
         "xaxis": "x6",
         "y": [
          1,
          1,
          3.755467995672694,
          51.37526698228673
         ],
         "yaxis": "y6"
        },
        {
         "hovertemplate": "file=1gb_nci<br>standard=zstd<br>chunk_size=%{x}<br>compression_utilization=%{y}<extra></extra>",
         "legendgroup": "1gb_nci",
         "line": {
          "color": "#ab63fa",
          "dash": "solid"
         },
         "marker": {
          "symbol": "circle"
         },
         "mode": "lines+markers",
         "name": "1gb_nci",
         "orientation": "v",
         "showlegend": false,
         "type": "scatter",
         "x": [
          4096000,
          1024000,
          256000,
          4000,
          1000
         ],
         "xaxis": "x5",
         "y": [
          3.76547263430366,
          13.416456264937784,
          27.38956535634108,
          43.13590454946949,
          42.56923500464943
         ],
         "yaxis": "y5"
        },
        {
         "hovertemplate": "file=1gb_nci<br>standard=gdeflate<br>chunk_size=%{x}<br>compression_utilization=%{y}<extra></extra>",
         "legendgroup": "1gb_nci",
         "line": {
          "color": "#ab63fa",
          "dash": "solid"
         },
         "marker": {
          "symbol": "circle"
         },
         "mode": "lines+markers",
         "name": "1gb_nci",
         "orientation": "v",
         "showlegend": false,
         "type": "scatter",
         "x": [
          4000
         ],
         "xaxis": "x4",
         "y": [
          42.27821654245448
         ],
         "yaxis": "y4"
        },
        {
         "hovertemplate": "file=1gb_nci<br>standard=lz4<br>chunk_size=%{x}<br>compression_utilization=%{y}<extra></extra>",
         "legendgroup": "1gb_nci",
         "line": {
          "color": "#ab63fa",
          "dash": "solid"
         },
         "marker": {
          "symbol": "circle"
         },
         "mode": "lines+markers",
         "name": "1gb_nci",
         "orientation": "v",
         "showlegend": false,
         "type": "scatter",
         "x": [
          4096000,
          1024000,
          256000,
          64000,
          16000,
          4000,
          1000
         ],
         "xaxis": "x3",
         "y": [
          1.8840743518816674,
          6.308661156309864,
          26.24375859614726,
          38.0324075151498,
          47.25903789174513,
          49.262061573911495,
          49.66429648015237
         ],
         "yaxis": "y3"
        },
        {
         "hovertemplate": "file=1gb_nci<br>standard=cascaded<br>chunk_size=%{x}<br>compression_utilization=%{y}<extra></extra>",
         "legendgroup": "1gb_nci",
         "line": {
          "color": "#ab63fa",
          "dash": "solid"
         },
         "marker": {
          "symbol": "circle"
         },
         "mode": "lines+markers",
         "name": "1gb_nci",
         "orientation": "v",
         "showlegend": false,
         "type": "scatter",
         "x": [
          65536000,
          16384000,
          4096000,
          1024000,
          256000,
          64000,
          16000,
          1000
         ],
         "xaxis": "x2",
         "y": [
          1,
          1.9880982726307286,
          6.685845753869151,
          27.7460981003953,
          41.4012463377326,
          47.44201504162852,
          49.240261918028466,
          48.78203530213218
         ],
         "yaxis": "y2"
        },
        {
         "hovertemplate": "file=1gb_nci<br>standard=bitcomp<br>chunk_size=%{x}<br>compression_utilization=%{y}<extra></extra>",
         "legendgroup": "1gb_nci",
         "line": {
          "color": "#ab63fa",
          "dash": "solid"
         },
         "marker": {
          "symbol": "circle"
         },
         "mode": "lines+markers",
         "name": "1gb_nci",
         "orientation": "v",
         "showlegend": false,
         "type": "scatter",
         "x": [
          65536000,
          16384000,
          4096000,
          1024000,
          256000,
          4000
         ],
         "xaxis": "x",
         "y": [
          1,
          3.974069504943242,
          12.504936915556362,
          28.609513058741086,
          34.14329687680505,
          35.71432846031514
         ],
         "yaxis": "y"
        },
        {
         "hovertemplate": "file=1gb_samba<br>standard=snappy<br>chunk_size=%{x}<br>compression_utilization=%{y}<extra></extra>",
         "legendgroup": "1gb_samba",
         "line": {
          "color": "#FFA15A",
          "dash": "solid"
         },
         "marker": {
          "symbol": "circle"
         },
         "mode": "lines+markers",
         "name": "1gb_samba",
         "orientation": "v",
         "showlegend": true,
         "type": "scatter",
         "x": [
          1024000,
          1000
         ],
         "xaxis": "x6",
         "y": [
          11.353009003920459,
          52.75492133906611
         ],
         "yaxis": "y6"
        },
        {
         "hovertemplate": "file=1gb_samba<br>standard=zstd<br>chunk_size=%{x}<br>compression_utilization=%{y}<extra></extra>",
         "legendgroup": "1gb_samba",
         "line": {
          "color": "#FFA15A",
          "dash": "solid"
         },
         "marker": {
          "symbol": "circle"
         },
         "mode": "lines+markers",
         "name": "1gb_samba",
         "orientation": "v",
         "showlegend": false,
         "type": "scatter",
         "x": [
          1024000,
          256000,
          64000
         ],
         "xaxis": "x5",
         "y": [
          11.762298003701085,
          24.97530793427768,
          37.20870903120942
         ],
         "yaxis": "y5"
        },
        {
         "hovertemplate": "file=1gb_samba<br>standard=gdeflate<br>chunk_size=%{x}<br>compression_utilization=%{y}<extra></extra>",
         "legendgroup": "1gb_samba",
         "line": {
          "color": "#FFA15A",
          "dash": "solid"
         },
         "marker": {
          "symbol": "circle"
         },
         "mode": "lines+markers",
         "name": "1gb_samba",
         "orientation": "v",
         "showlegend": false,
         "type": "scatter",
         "x": [
          16000,
          4000,
          1000
         ],
         "xaxis": "x4",
         "y": [
          42.82260047997609,
          43.076990366829634,
          40.38249648275489
         ],
         "yaxis": "y4"
        },
        {
         "hovertemplate": "file=1gb_samba<br>standard=lz4<br>chunk_size=%{x}<br>compression_utilization=%{y}<extra></extra>",
         "legendgroup": "1gb_samba",
         "line": {
          "color": "#FFA15A",
          "dash": "solid"
         },
         "marker": {
          "symbol": "circle"
         },
         "mode": "lines+markers",
         "name": "1gb_samba",
         "orientation": "v",
         "showlegend": false,
         "type": "scatter",
         "x": [
          4096000,
          64000
         ],
         "xaxis": "x3",
         "y": [
          2.016847078921148,
          39.356400613683206
         ],
         "yaxis": "y3"
        },
        {
         "hovertemplate": "file=1gb_samba<br>standard=cascaded<br>chunk_size=%{x}<br>compression_utilization=%{y}<extra></extra>",
         "legendgroup": "1gb_samba",
         "line": {
          "color": "#FFA15A",
          "dash": "solid"
         },
         "marker": {
          "symbol": "circle"
         },
         "mode": "lines+markers",
         "name": "1gb_samba",
         "orientation": "v",
         "showlegend": false,
         "type": "scatter",
         "x": [
          4096000,
          1024000,
          256000,
          64000,
          16000,
          4000
         ],
         "xaxis": "x2",
         "y": [
          6.4711747524218115,
          26.64090070160944,
          40.36219743582785,
          47.301503841280436,
          49.0041948272853,
          49.808381837511725
         ],
         "yaxis": "y2"
        },
        {
         "hovertemplate": "file=1gb_samba<br>standard=bitcomp<br>chunk_size=%{x}<br>compression_utilization=%{y}<extra></extra>",
         "legendgroup": "1gb_samba",
         "line": {
          "color": "#FFA15A",
          "dash": "solid"
         },
         "marker": {
          "symbol": "circle"
         },
         "mode": "lines+markers",
         "name": "1gb_samba",
         "orientation": "v",
         "showlegend": false,
         "type": "scatter",
         "x": [
          65536000,
          16384000,
          1024000,
          256000,
          16000,
          4000
         ],
         "xaxis": "x",
         "y": [
          1,
          3.9411635500563515,
          28.196055075591183,
          33.67940782512171,
          36.24552962050191,
          35.60365488394595
         ],
         "yaxis": "y"
        },
        {
         "hovertemplate": "file=1gb_sao<br>standard=snappy<br>chunk_size=%{x}<br>compression_utilization=%{y}<extra></extra>",
         "legendgroup": "1gb_sao",
         "line": {
          "color": "#19d3f3",
          "dash": "solid"
         },
         "marker": {
          "symbol": "circle"
         },
         "mode": "lines+markers",
         "name": "1gb_sao",
         "orientation": "v",
         "showlegend": true,
         "type": "scatter",
         "x": [
          65536000,
          16384000,
          4096000,
          1024000,
          1000
         ],
         "xaxis": "x6",
         "y": [
          1.0575814168804223,
          1,
          3.7920971102081245,
          14.202867244720322,
          52.841071467506026
         ],
         "yaxis": "y6"
        },
        {
         "hovertemplate": "file=1gb_sao<br>standard=zstd<br>chunk_size=%{x}<br>compression_utilization=%{y}<extra></extra>",
         "legendgroup": "1gb_sao",
         "line": {
          "color": "#19d3f3",
          "dash": "solid"
         },
         "marker": {
          "symbol": "circle"
         },
         "mode": "lines+markers",
         "name": "1gb_sao",
         "orientation": "v",
         "showlegend": false,
         "type": "scatter",
         "x": [
          4096000,
          1024000,
          256000,
          64000,
          1000
         ],
         "xaxis": "x5",
         "y": [
          3.795810596864645,
          13.92767194318725,
          30.076655111914206,
          40.42290942704324,
          41.686090584324134
         ],
         "yaxis": "y5"
        },
        {
         "hovertemplate": "file=1gb_sao<br>standard=gdeflate<br>chunk_size=%{x}<br>compression_utilization=%{y}<extra></extra>",
         "legendgroup": "1gb_sao",
         "line": {
          "color": "#19d3f3",
          "dash": "solid"
         },
         "marker": {
          "symbol": "circle"
         },
         "mode": "lines+markers",
         "name": "1gb_sao",
         "orientation": "v",
         "showlegend": false,
         "type": "scatter",
         "x": [
          16000,
          1000
         ],
         "xaxis": "x4",
         "y": [
          42.74709210868745,
          40.23341060332334
         ],
         "yaxis": "y4"
        },
        {
         "hovertemplate": "file=1gb_sao<br>standard=lz4<br>chunk_size=%{x}<br>compression_utilization=%{y}<extra></extra>",
         "legendgroup": "1gb_sao",
         "line": {
          "color": "#19d3f3",
          "dash": "solid"
         },
         "marker": {
          "symbol": "circle"
         },
         "mode": "lines+markers",
         "name": "1gb_sao",
         "orientation": "v",
         "showlegend": false,
         "type": "scatter",
         "x": [
          4096000,
          1024000,
          256000,
          64000,
          1000
         ],
         "xaxis": "x3",
         "y": [
          1.8413626256454019,
          6.830491223558001,
          29.28445400425487,
          42.981652643640686,
          49.72638989267181
         ],
         "yaxis": "y3"
        },
        {
         "hovertemplate": "file=1gb_sao<br>standard=cascaded<br>chunk_size=%{x}<br>compression_utilization=%{y}<extra></extra>",
         "legendgroup": "1gb_sao",
         "line": {
          "color": "#19d3f3",
          "dash": "solid"
         },
         "marker": {
          "symbol": "circle"
         },
         "mode": "lines+markers",
         "name": "1gb_sao",
         "orientation": "v",
         "showlegend": false,
         "type": "scatter",
         "x": [
          65536000,
          16384000,
          1024000,
          256000,
          64000,
          16000,
          4000,
          1000
         ],
         "xaxis": "x2",
         "y": [
          1,
          1.9870706464383154,
          27.891882382234357,
          42.27470417665135,
          47.788113734153626,
          49.24187810451714,
          47.25575363392096,
          48.78855960163432
         ],
         "yaxis": "y2"
        },
        {
         "hovertemplate": "file=1gb_sao<br>standard=bitcomp<br>chunk_size=%{x}<br>compression_utilization=%{y}<extra></extra>",
         "legendgroup": "1gb_sao",
         "line": {
          "color": "#19d3f3",
          "dash": "solid"
         },
         "marker": {
          "symbol": "circle"
         },
         "mode": "lines+markers",
         "name": "1gb_sao",
         "orientation": "v",
         "showlegend": false,
         "type": "scatter",
         "x": [
          16384000,
          4096000,
          1024000,
          256000,
          64000
         ],
         "xaxis": "x",
         "y": [
          3.9446644738499654,
          11.767701897952882,
          28.554973539643196,
          34.40716906003205,
          35.5274292878165
         ],
         "yaxis": "y"
        },
        {
         "hovertemplate": "file=1gb_silesia.zip<br>standard=snappy<br>chunk_size=%{x}<br>compression_utilization=%{y}<extra></extra>",
         "legendgroup": "1gb_silesia.zip",
         "line": {
          "color": "#FF6692",
          "dash": "solid"
         },
         "marker": {
          "symbol": "circle"
         },
         "mode": "lines+markers",
         "name": "1gb_silesia.zip",
         "orientation": "v",
         "showlegend": true,
         "type": "scatter",
         "x": [
          65536000,
          16384000,
          4096000,
          1024000,
          256000,
          1000
         ],
         "xaxis": "x6",
         "y": [
          1,
          1,
          3.7083923942648207,
          13.40871578775435,
          30.486401371433487,
          52.77627094356525
         ],
         "yaxis": "y6"
        },
        {
         "hovertemplate": "file=1gb_silesia.zip<br>standard=zstd<br>chunk_size=%{x}<br>compression_utilization=%{y}<extra></extra>",
         "legendgroup": "1gb_silesia.zip",
         "line": {
          "color": "#FF6692",
          "dash": "solid"
         },
         "marker": {
          "symbol": "circle"
         },
         "mode": "lines+markers",
         "name": "1gb_silesia.zip",
         "orientation": "v",
         "showlegend": false,
         "type": "scatter",
         "x": [
          1000
         ],
         "xaxis": "x5",
         "y": [
          41.15664272863021
         ],
         "yaxis": "y5"
        },
        {
         "hovertemplate": "file=1gb_silesia.zip<br>standard=gdeflate<br>chunk_size=%{x}<br>compression_utilization=%{y}<extra></extra>",
         "legendgroup": "1gb_silesia.zip",
         "line": {
          "color": "#FF6692",
          "dash": "solid"
         },
         "marker": {
          "symbol": "circle"
         },
         "mode": "lines+markers",
         "name": "1gb_silesia.zip",
         "orientation": "v",
         "showlegend": false,
         "type": "scatter",
         "x": [
          1000
         ],
         "xaxis": "x4",
         "y": [
          41.22583375853222
         ],
         "yaxis": "y4"
        },
        {
         "hovertemplate": "file=1gb_silesia.zip<br>standard=lz4<br>chunk_size=%{x}<br>compression_utilization=%{y}<extra></extra>",
         "legendgroup": "1gb_silesia.zip",
         "line": {
          "color": "#FF6692",
          "dash": "solid"
         },
         "marker": {
          "symbol": "circle"
         },
         "mode": "lines+markers",
         "name": "1gb_silesia.zip",
         "orientation": "v",
         "showlegend": false,
         "type": "scatter",
         "x": [
          1024000,
          256000,
          64000,
          16000,
          4000,
          1000
         ],
         "xaxis": "x3",
         "y": [
          6.78850149893908,
          28.65382843619249,
          45.40405835014273,
          48.872713736852475,
          46.94972193842304,
          49.74889798627824
         ],
         "yaxis": "y3"
        },
        {
         "hovertemplate": "file=1gb_silesia.zip<br>standard=cascaded<br>chunk_size=%{x}<br>compression_utilization=%{y}<extra></extra>",
         "legendgroup": "1gb_silesia.zip",
         "line": {
          "color": "#FF6692",
          "dash": "solid"
         },
         "marker": {
          "symbol": "circle"
         },
         "mode": "lines+markers",
         "name": "1gb_silesia.zip",
         "orientation": "v",
         "showlegend": false,
         "type": "scatter",
         "x": [
          4096000,
          1024000,
          256000,
          64000,
          1000
         ],
         "xaxis": "x2",
         "y": [
          6.691480420829803,
          27.874201564841563,
          42.329478213556335,
          47.86310873881857,
          48.72355152029252
         ],
         "yaxis": "y2"
        },
        {
         "hovertemplate": "file=1gb_silesia.zip<br>standard=bitcomp<br>chunk_size=%{x}<br>compression_utilization=%{y}<extra></extra>",
         "legendgroup": "1gb_silesia.zip",
         "line": {
          "color": "#FF6692",
          "dash": "solid"
         },
         "marker": {
          "symbol": "circle"
         },
         "mode": "lines+markers",
         "name": "1gb_silesia.zip",
         "orientation": "v",
         "showlegend": false,
         "type": "scatter",
         "x": [
          16384000,
          4096000,
          1024000,
          256000,
          64000,
          1000
         ],
         "xaxis": "x",
         "y": [
          3.953027219397796,
          11.710751058573306,
          28.605362287662654,
          33.93207237857854,
          35.19132484303164,
          35.802371537136395
         ],
         "yaxis": "y"
        },
        {
         "hovertemplate": "file=1gb_xml<br>standard=snappy<br>chunk_size=%{x}<br>compression_utilization=%{y}<extra></extra>",
         "legendgroup": "1gb_xml",
         "line": {
          "color": "#B6E880",
          "dash": "solid"
         },
         "marker": {
          "symbol": "circle"
         },
         "mode": "lines+markers",
         "name": "1gb_xml",
         "orientation": "v",
         "showlegend": true,
         "type": "scatter",
         "x": [
          65536000,
          16384000,
          4096000,
          1024000
         ],
         "xaxis": "x6",
         "y": [
          1,
          1,
          3.615541099706794,
          12.040869258212194
         ],
         "yaxis": "y6"
        },
        {
         "hovertemplate": "file=1gb_xml<br>standard=zstd<br>chunk_size=%{x}<br>compression_utilization=%{y}<extra></extra>",
         "legendgroup": "1gb_xml",
         "line": {
          "color": "#B6E880",
          "dash": "solid"
         },
         "marker": {
          "symbol": "circle"
         },
         "mode": "lines+markers",
         "name": "1gb_xml",
         "orientation": "v",
         "showlegend": false,
         "type": "scatter",
         "x": [
          4096000,
          1024000,
          4000
         ],
         "xaxis": "x5",
         "y": [
          3.617287115242306,
          10.810994967846696,
          43.49324527822809
         ],
         "yaxis": "y5"
        },
        {
         "hovertemplate": "file=1gb_xml<br>standard=gdeflate<br>chunk_size=%{x}<br>compression_utilization=%{y}<extra></extra>",
         "legendgroup": "1gb_xml",
         "line": {
          "color": "#B6E880",
          "dash": "solid"
         },
         "marker": {
          "symbol": "circle"
         },
         "mode": "lines+markers",
         "name": "1gb_xml",
         "orientation": "v",
         "showlegend": false,
         "type": "scatter",
         "x": [
          4000,
          1000
         ],
         "xaxis": "x4",
         "y": [
          39.18213817781216,
          40.45917110054
         ],
         "yaxis": "y4"
        },
        {
         "hovertemplate": "file=1gb_xml<br>standard=lz4<br>chunk_size=%{x}<br>compression_utilization=%{y}<extra></extra>",
         "legendgroup": "1gb_xml",
         "line": {
          "color": "#B6E880",
          "dash": "solid"
         },
         "marker": {
          "symbol": "circle"
         },
         "mode": "lines+markers",
         "name": "1gb_xml",
         "orientation": "v",
         "showlegend": false,
         "type": "scatter",
         "x": [
          4096000,
          1024000,
          1000
         ],
         "xaxis": "x3",
         "y": [
          1.837518315726925,
          5.317393612098857,
          49.74942597075381
         ],
         "yaxis": "y3"
        },
        {
         "hovertemplate": "file=1gb_xml<br>standard=cascaded<br>chunk_size=%{x}<br>compression_utilization=%{y}<extra></extra>",
         "legendgroup": "1gb_xml",
         "line": {
          "color": "#B6E880",
          "dash": "solid"
         },
         "marker": {
          "symbol": "circle"
         },
         "mode": "lines+markers",
         "name": "1gb_xml",
         "orientation": "v",
         "showlegend": false,
         "type": "scatter",
         "x": [
          65536000,
          16384000,
          4096000,
          1024000,
          256000,
          64000,
          16000,
          4000,
          1000
         ],
         "xaxis": "x2",
         "y": [
          1,
          1.9872533314327354,
          6.688853626141793,
          27.75306126968391,
          41.78704789828076,
          47.669482507998154,
          49.21449098186062,
          49.709815624433574,
          46.5154393575877
         ],
         "yaxis": "y2"
        },
        {
         "hovertemplate": "file=1gb_xml<br>standard=bitcomp<br>chunk_size=%{x}<br>compression_utilization=%{y}<extra></extra>",
         "legendgroup": "1gb_xml",
         "line": {
          "color": "#B6E880",
          "dash": "solid"
         },
         "marker": {
          "symbol": "circle"
         },
         "mode": "lines+markers",
         "name": "1gb_xml",
         "orientation": "v",
         "showlegend": false,
         "type": "scatter",
         "x": [
          65536000,
          16384000,
          4096000,
          1024000,
          256000,
          64000,
          16000,
          4000
         ],
         "xaxis": "x",
         "y": [
          1,
          3.9653827308996057,
          12.238634402645435,
          29.40728327963447,
          34.46424282122782,
          35.84753053589131,
          36.13780337391688,
          35.29736195872226
         ],
         "yaxis": "y"
        },
        {
         "hovertemplate": "file=1gb_lineitem.parquet<br>standard=snappy<br>chunk_size=%{x}<br>compression_utilization=%{y}<extra></extra>",
         "legendgroup": "1gb_lineitem.parquet",
         "line": {
          "color": "#FF97FF",
          "dash": "solid"
         },
         "marker": {
          "symbol": "circle"
         },
         "mode": "lines+markers",
         "name": "1gb_lineitem.parquet",
         "orientation": "v",
         "showlegend": true,
         "type": "scatter",
         "x": [
          1000
         ],
         "xaxis": "x6",
         "y": [
          49.776718759074214
         ],
         "yaxis": "y6"
        },
        {
         "hovertemplate": "file=1gb_lineitem.parquet<br>standard=zstd<br>chunk_size=%{x}<br>compression_utilization=%{y}<extra></extra>",
         "legendgroup": "1gb_lineitem.parquet",
         "line": {
          "color": "#FF97FF",
          "dash": "solid"
         },
         "marker": {
          "symbol": "circle"
         },
         "mode": "lines+markers",
         "name": "1gb_lineitem.parquet",
         "orientation": "v",
         "showlegend": false,
         "type": "scatter",
         "x": [
          1024000
         ],
         "xaxis": "x5",
         "y": [
          13.43590841589121
         ],
         "yaxis": "y5"
        },
        {
         "hovertemplate": "file=1gb_lineitem.parquet<br>standard=lz4<br>chunk_size=%{x}<br>compression_utilization=%{y}<extra></extra>",
         "legendgroup": "1gb_lineitem.parquet",
         "line": {
          "color": "#FF97FF",
          "dash": "solid"
         },
         "marker": {
          "symbol": "circle"
         },
         "mode": "lines+markers",
         "name": "1gb_lineitem.parquet",
         "orientation": "v",
         "showlegend": false,
         "type": "scatter",
         "x": [
          256000,
          64000,
          1000
         ],
         "xaxis": "x3",
         "y": [
          23.422631597008696,
          42.097889634985755,
          49.890183961701425
         ],
         "yaxis": "y3"
        },
        {
         "hovertemplate": "file=1gb_lineitem.parquet<br>standard=cascaded<br>chunk_size=%{x}<br>compression_utilization=%{y}<extra></extra>",
         "legendgroup": "1gb_lineitem.parquet",
         "line": {
          "color": "#FF97FF",
          "dash": "solid"
         },
         "marker": {
          "symbol": "circle"
         },
         "mode": "lines+markers",
         "name": "1gb_lineitem.parquet",
         "orientation": "v",
         "showlegend": false,
         "type": "scatter",
         "x": [
          65536000,
          16384000,
          4096000,
          1024000
         ],
         "xaxis": "x2",
         "y": [
          1.0387117793490843,
          1.9811830652262326,
          6.735498075615787,
          26.49609059785076
         ],
         "yaxis": "y2"
        },
        {
         "hovertemplate": "file=1gb_lineitem.parquet<br>standard=bitcomp<br>chunk_size=%{x}<br>compression_utilization=%{y}<extra></extra>",
         "legendgroup": "1gb_lineitem.parquet",
         "line": {
          "color": "#FF97FF",
          "dash": "solid"
         },
         "marker": {
          "symbol": "circle"
         },
         "mode": "lines+markers",
         "name": "1gb_lineitem.parquet",
         "orientation": "v",
         "showlegend": false,
         "type": "scatter",
         "x": [
          16384000
         ],
         "xaxis": "x",
         "y": [
          3.961208890764898
         ],
         "yaxis": "y"
        }
       ],
       "layout": {
        "annotations": [
         {
          "font": {},
          "showarrow": false,
          "text": "standard=bitcomp",
          "textangle": 90,
          "x": 0.98,
          "xanchor": "left",
          "xref": "paper",
          "y": 0.07083333333333333,
          "yanchor": "middle",
          "yref": "paper"
         },
         {
          "font": {},
          "showarrow": false,
          "text": "standard=cascaded",
          "textangle": 90,
          "x": 0.98,
          "xanchor": "left",
          "xref": "paper",
          "y": 0.2425,
          "yanchor": "middle",
          "yref": "paper"
         },
         {
          "font": {},
          "showarrow": false,
          "text": "standard=lz4",
          "textangle": 90,
          "x": 0.98,
          "xanchor": "left",
          "xref": "paper",
          "y": 0.4141666666666667,
          "yanchor": "middle",
          "yref": "paper"
         },
         {
          "font": {},
          "showarrow": false,
          "text": "standard=gdeflate",
          "textangle": 90,
          "x": 0.98,
          "xanchor": "left",
          "xref": "paper",
          "y": 0.5858333333333334,
          "yanchor": "middle",
          "yref": "paper"
         },
         {
          "font": {},
          "showarrow": false,
          "text": "standard=zstd",
          "textangle": 90,
          "x": 0.98,
          "xanchor": "left",
          "xref": "paper",
          "y": 0.7575000000000001,
          "yanchor": "middle",
          "yref": "paper"
         },
         {
          "font": {},
          "showarrow": false,
          "text": "standard=snappy",
          "textangle": 90,
          "x": 0.98,
          "xanchor": "left",
          "xref": "paper",
          "y": 0.9291666666666667,
          "yanchor": "middle",
          "yref": "paper"
         }
        ],
        "height": 1000,
        "legend": {
         "title": {
          "text": "file"
         },
         "tracegroupgap": 0
        },
        "template": {
         "data": {
          "bar": [
           {
            "error_x": {
             "color": "#2a3f5f"
            },
            "error_y": {
             "color": "#2a3f5f"
            },
            "marker": {
             "line": {
              "color": "#E5ECF6",
              "width": 0.5
             },
             "pattern": {
              "fillmode": "overlay",
              "size": 10,
              "solidity": 0.2
             }
            },
            "type": "bar"
           }
          ],
          "barpolar": [
           {
            "marker": {
             "line": {
              "color": "#E5ECF6",
              "width": 0.5
             },
             "pattern": {
              "fillmode": "overlay",
              "size": 10,
              "solidity": 0.2
             }
            },
            "type": "barpolar"
           }
          ],
          "carpet": [
           {
            "aaxis": {
             "endlinecolor": "#2a3f5f",
             "gridcolor": "white",
             "linecolor": "white",
             "minorgridcolor": "white",
             "startlinecolor": "#2a3f5f"
            },
            "baxis": {
             "endlinecolor": "#2a3f5f",
             "gridcolor": "white",
             "linecolor": "white",
             "minorgridcolor": "white",
             "startlinecolor": "#2a3f5f"
            },
            "type": "carpet"
           }
          ],
          "choropleth": [
           {
            "colorbar": {
             "outlinewidth": 0,
             "ticks": ""
            },
            "type": "choropleth"
           }
          ],
          "contour": [
           {
            "colorbar": {
             "outlinewidth": 0,
             "ticks": ""
            },
            "colorscale": [
             [
              0,
              "#0d0887"
             ],
             [
              0.1111111111111111,
              "#46039f"
             ],
             [
              0.2222222222222222,
              "#7201a8"
             ],
             [
              0.3333333333333333,
              "#9c179e"
             ],
             [
              0.4444444444444444,
              "#bd3786"
             ],
             [
              0.5555555555555556,
              "#d8576b"
             ],
             [
              0.6666666666666666,
              "#ed7953"
             ],
             [
              0.7777777777777778,
              "#fb9f3a"
             ],
             [
              0.8888888888888888,
              "#fdca26"
             ],
             [
              1,
              "#f0f921"
             ]
            ],
            "type": "contour"
           }
          ],
          "contourcarpet": [
           {
            "colorbar": {
             "outlinewidth": 0,
             "ticks": ""
            },
            "type": "contourcarpet"
           }
          ],
          "heatmap": [
           {
            "colorbar": {
             "outlinewidth": 0,
             "ticks": ""
            },
            "colorscale": [
             [
              0,
              "#0d0887"
             ],
             [
              0.1111111111111111,
              "#46039f"
             ],
             [
              0.2222222222222222,
              "#7201a8"
             ],
             [
              0.3333333333333333,
              "#9c179e"
             ],
             [
              0.4444444444444444,
              "#bd3786"
             ],
             [
              0.5555555555555556,
              "#d8576b"
             ],
             [
              0.6666666666666666,
              "#ed7953"
             ],
             [
              0.7777777777777778,
              "#fb9f3a"
             ],
             [
              0.8888888888888888,
              "#fdca26"
             ],
             [
              1,
              "#f0f921"
             ]
            ],
            "type": "heatmap"
           }
          ],
          "heatmapgl": [
           {
            "colorbar": {
             "outlinewidth": 0,
             "ticks": ""
            },
            "colorscale": [
             [
              0,
              "#0d0887"
             ],
             [
              0.1111111111111111,
              "#46039f"
             ],
             [
              0.2222222222222222,
              "#7201a8"
             ],
             [
              0.3333333333333333,
              "#9c179e"
             ],
             [
              0.4444444444444444,
              "#bd3786"
             ],
             [
              0.5555555555555556,
              "#d8576b"
             ],
             [
              0.6666666666666666,
              "#ed7953"
             ],
             [
              0.7777777777777778,
              "#fb9f3a"
             ],
             [
              0.8888888888888888,
              "#fdca26"
             ],
             [
              1,
              "#f0f921"
             ]
            ],
            "type": "heatmapgl"
           }
          ],
          "histogram": [
           {
            "marker": {
             "pattern": {
              "fillmode": "overlay",
              "size": 10,
              "solidity": 0.2
             }
            },
            "type": "histogram"
           }
          ],
          "histogram2d": [
           {
            "colorbar": {
             "outlinewidth": 0,
             "ticks": ""
            },
            "colorscale": [
             [
              0,
              "#0d0887"
             ],
             [
              0.1111111111111111,
              "#46039f"
             ],
             [
              0.2222222222222222,
              "#7201a8"
             ],
             [
              0.3333333333333333,
              "#9c179e"
             ],
             [
              0.4444444444444444,
              "#bd3786"
             ],
             [
              0.5555555555555556,
              "#d8576b"
             ],
             [
              0.6666666666666666,
              "#ed7953"
             ],
             [
              0.7777777777777778,
              "#fb9f3a"
             ],
             [
              0.8888888888888888,
              "#fdca26"
             ],
             [
              1,
              "#f0f921"
             ]
            ],
            "type": "histogram2d"
           }
          ],
          "histogram2dcontour": [
           {
            "colorbar": {
             "outlinewidth": 0,
             "ticks": ""
            },
            "colorscale": [
             [
              0,
              "#0d0887"
             ],
             [
              0.1111111111111111,
              "#46039f"
             ],
             [
              0.2222222222222222,
              "#7201a8"
             ],
             [
              0.3333333333333333,
              "#9c179e"
             ],
             [
              0.4444444444444444,
              "#bd3786"
             ],
             [
              0.5555555555555556,
              "#d8576b"
             ],
             [
              0.6666666666666666,
              "#ed7953"
             ],
             [
              0.7777777777777778,
              "#fb9f3a"
             ],
             [
              0.8888888888888888,
              "#fdca26"
             ],
             [
              1,
              "#f0f921"
             ]
            ],
            "type": "histogram2dcontour"
           }
          ],
          "mesh3d": [
           {
            "colorbar": {
             "outlinewidth": 0,
             "ticks": ""
            },
            "type": "mesh3d"
           }
          ],
          "parcoords": [
           {
            "line": {
             "colorbar": {
              "outlinewidth": 0,
              "ticks": ""
             }
            },
            "type": "parcoords"
           }
          ],
          "pie": [
           {
            "automargin": true,
            "type": "pie"
           }
          ],
          "scatter": [
           {
            "fillpattern": {
             "fillmode": "overlay",
             "size": 10,
             "solidity": 0.2
            },
            "type": "scatter"
           }
          ],
          "scatter3d": [
           {
            "line": {
             "colorbar": {
              "outlinewidth": 0,
              "ticks": ""
             }
            },
            "marker": {
             "colorbar": {
              "outlinewidth": 0,
              "ticks": ""
             }
            },
            "type": "scatter3d"
           }
          ],
          "scattercarpet": [
           {
            "marker": {
             "colorbar": {
              "outlinewidth": 0,
              "ticks": ""
             }
            },
            "type": "scattercarpet"
           }
          ],
          "scattergeo": [
           {
            "marker": {
             "colorbar": {
              "outlinewidth": 0,
              "ticks": ""
             }
            },
            "type": "scattergeo"
           }
          ],
          "scattergl": [
           {
            "marker": {
             "colorbar": {
              "outlinewidth": 0,
              "ticks": ""
             }
            },
            "type": "scattergl"
           }
          ],
          "scattermapbox": [
           {
            "marker": {
             "colorbar": {
              "outlinewidth": 0,
              "ticks": ""
             }
            },
            "type": "scattermapbox"
           }
          ],
          "scatterpolar": [
           {
            "marker": {
             "colorbar": {
              "outlinewidth": 0,
              "ticks": ""
             }
            },
            "type": "scatterpolar"
           }
          ],
          "scatterpolargl": [
           {
            "marker": {
             "colorbar": {
              "outlinewidth": 0,
              "ticks": ""
             }
            },
            "type": "scatterpolargl"
           }
          ],
          "scatterternary": [
           {
            "marker": {
             "colorbar": {
              "outlinewidth": 0,
              "ticks": ""
             }
            },
            "type": "scatterternary"
           }
          ],
          "surface": [
           {
            "colorbar": {
             "outlinewidth": 0,
             "ticks": ""
            },
            "colorscale": [
             [
              0,
              "#0d0887"
             ],
             [
              0.1111111111111111,
              "#46039f"
             ],
             [
              0.2222222222222222,
              "#7201a8"
             ],
             [
              0.3333333333333333,
              "#9c179e"
             ],
             [
              0.4444444444444444,
              "#bd3786"
             ],
             [
              0.5555555555555556,
              "#d8576b"
             ],
             [
              0.6666666666666666,
              "#ed7953"
             ],
             [
              0.7777777777777778,
              "#fb9f3a"
             ],
             [
              0.8888888888888888,
              "#fdca26"
             ],
             [
              1,
              "#f0f921"
             ]
            ],
            "type": "surface"
           }
          ],
          "table": [
           {
            "cells": {
             "fill": {
              "color": "#EBF0F8"
             },
             "line": {
              "color": "white"
             }
            },
            "header": {
             "fill": {
              "color": "#C8D4E3"
             },
             "line": {
              "color": "white"
             }
            },
            "type": "table"
           }
          ]
         },
         "layout": {
          "annotationdefaults": {
           "arrowcolor": "#2a3f5f",
           "arrowhead": 0,
           "arrowwidth": 1
          },
          "autotypenumbers": "strict",
          "coloraxis": {
           "colorbar": {
            "outlinewidth": 0,
            "ticks": ""
           }
          },
          "colorscale": {
           "diverging": [
            [
             0,
             "#8e0152"
            ],
            [
             0.1,
             "#c51b7d"
            ],
            [
             0.2,
             "#de77ae"
            ],
            [
             0.3,
             "#f1b6da"
            ],
            [
             0.4,
             "#fde0ef"
            ],
            [
             0.5,
             "#f7f7f7"
            ],
            [
             0.6,
             "#e6f5d0"
            ],
            [
             0.7,
             "#b8e186"
            ],
            [
             0.8,
             "#7fbc41"
            ],
            [
             0.9,
             "#4d9221"
            ],
            [
             1,
             "#276419"
            ]
           ],
           "sequential": [
            [
             0,
             "#0d0887"
            ],
            [
             0.1111111111111111,
             "#46039f"
            ],
            [
             0.2222222222222222,
             "#7201a8"
            ],
            [
             0.3333333333333333,
             "#9c179e"
            ],
            [
             0.4444444444444444,
             "#bd3786"
            ],
            [
             0.5555555555555556,
             "#d8576b"
            ],
            [
             0.6666666666666666,
             "#ed7953"
            ],
            [
             0.7777777777777778,
             "#fb9f3a"
            ],
            [
             0.8888888888888888,
             "#fdca26"
            ],
            [
             1,
             "#f0f921"
            ]
           ],
           "sequentialminus": [
            [
             0,
             "#0d0887"
            ],
            [
             0.1111111111111111,
             "#46039f"
            ],
            [
             0.2222222222222222,
             "#7201a8"
            ],
            [
             0.3333333333333333,
             "#9c179e"
            ],
            [
             0.4444444444444444,
             "#bd3786"
            ],
            [
             0.5555555555555556,
             "#d8576b"
            ],
            [
             0.6666666666666666,
             "#ed7953"
            ],
            [
             0.7777777777777778,
             "#fb9f3a"
            ],
            [
             0.8888888888888888,
             "#fdca26"
            ],
            [
             1,
             "#f0f921"
            ]
           ]
          },
          "colorway": [
           "#636efa",
           "#EF553B",
           "#00cc96",
           "#ab63fa",
           "#FFA15A",
           "#19d3f3",
           "#FF6692",
           "#B6E880",
           "#FF97FF",
           "#FECB52"
          ],
          "font": {
           "color": "#2a3f5f"
          },
          "geo": {
           "bgcolor": "white",
           "lakecolor": "white",
           "landcolor": "#E5ECF6",
           "showlakes": true,
           "showland": true,
           "subunitcolor": "white"
          },
          "hoverlabel": {
           "align": "left"
          },
          "hovermode": "closest",
          "mapbox": {
           "style": "light"
          },
          "paper_bgcolor": "white",
          "plot_bgcolor": "#E5ECF6",
          "polar": {
           "angularaxis": {
            "gridcolor": "white",
            "linecolor": "white",
            "ticks": ""
           },
           "bgcolor": "#E5ECF6",
           "radialaxis": {
            "gridcolor": "white",
            "linecolor": "white",
            "ticks": ""
           }
          },
          "scene": {
           "xaxis": {
            "backgroundcolor": "#E5ECF6",
            "gridcolor": "white",
            "gridwidth": 2,
            "linecolor": "white",
            "showbackground": true,
            "ticks": "",
            "zerolinecolor": "white"
           },
           "yaxis": {
            "backgroundcolor": "#E5ECF6",
            "gridcolor": "white",
            "gridwidth": 2,
            "linecolor": "white",
            "showbackground": true,
            "ticks": "",
            "zerolinecolor": "white"
           },
           "zaxis": {
            "backgroundcolor": "#E5ECF6",
            "gridcolor": "white",
            "gridwidth": 2,
            "linecolor": "white",
            "showbackground": true,
            "ticks": "",
            "zerolinecolor": "white"
           }
          },
          "shapedefaults": {
           "line": {
            "color": "#2a3f5f"
           }
          },
          "ternary": {
           "aaxis": {
            "gridcolor": "white",
            "linecolor": "white",
            "ticks": ""
           },
           "baxis": {
            "gridcolor": "white",
            "linecolor": "white",
            "ticks": ""
           },
           "bgcolor": "#E5ECF6",
           "caxis": {
            "gridcolor": "white",
            "linecolor": "white",
            "ticks": ""
           }
          },
          "title": {
           "x": 0.05
          },
          "xaxis": {
           "automargin": true,
           "gridcolor": "white",
           "linecolor": "white",
           "ticks": "",
           "title": {
            "standoff": 15
           },
           "zerolinecolor": "white",
           "zerolinewidth": 2
          },
          "yaxis": {
           "automargin": true,
           "gridcolor": "white",
           "linecolor": "white",
           "ticks": "",
           "title": {
            "standoff": 15
           },
           "zerolinecolor": "white",
           "zerolinewidth": 2
          }
         }
        },
        "title": {
         "text": "GPU utilization per compressor at different chunk sizes"
        },
        "xaxis": {
         "anchor": "y",
         "domain": [
          0,
          0.98
         ],
         "title": {
          "text": "chunk_size"
         },
         "type": "log"
        },
        "xaxis2": {
         "anchor": "y2",
         "domain": [
          0,
          0.98
         ],
         "matches": "x",
         "showticklabels": false,
         "type": "log"
        },
        "xaxis3": {
         "anchor": "y3",
         "domain": [
          0,
          0.98
         ],
         "matches": "x",
         "showticklabels": false,
         "type": "log"
        },
        "xaxis4": {
         "anchor": "y4",
         "domain": [
          0,
          0.98
         ],
         "matches": "x",
         "showticklabels": false,
         "type": "log"
        },
        "xaxis5": {
         "anchor": "y5",
         "domain": [
          0,
          0.98
         ],
         "matches": "x",
         "showticklabels": false,
         "type": "log"
        },
        "xaxis6": {
         "anchor": "y6",
         "domain": [
          0,
          0.98
         ],
         "matches": "x",
         "showticklabels": false,
         "type": "log"
        },
        "yaxis": {
         "anchor": "x",
         "domain": [
          0,
          0.14166666666666666
         ],
         "title": {
          "text": "compression_utilization"
         }
        },
        "yaxis2": {
         "anchor": "x2",
         "domain": [
          0.17166666666666666,
          0.31333333333333335
         ],
         "matches": "y",
         "title": {
          "text": "compression_utilization"
         }
        },
        "yaxis3": {
         "anchor": "x3",
         "domain": [
          0.3433333333333333,
          0.485
         ],
         "matches": "y",
         "title": {
          "text": "compression_utilization"
         }
        },
        "yaxis4": {
         "anchor": "x4",
         "domain": [
          0.515,
          0.6566666666666667
         ],
         "matches": "y",
         "title": {
          "text": "compression_utilization"
         }
        },
        "yaxis5": {
         "anchor": "x5",
         "domain": [
          0.6866666666666666,
          0.8283333333333334
         ],
         "matches": "y",
         "title": {
          "text": "compression_utilization"
         }
        },
        "yaxis6": {
         "anchor": "x6",
         "domain": [
          0.8583333333333333,
          1
         ],
         "matches": "y",
         "title": {
          "text": "compression_utilization"
         }
        }
       }
      }
     },
     "metadata": {},
     "output_type": "display_data"
    }
   ],
   "source": [
    "fig_utilization_standard = px.line(\n",
    "    result_df,\n",
    "    title=f\"GPU utilization per compressor at different chunk sizes\", \n",
    "    x=\"chunk_size\",\n",
    "    y=\"compression_utilization\",\n",
    "    color=\"file\",\n",
    "    log_x=True,\n",
    "    markers=True,\n",
    "    #log_y=True,\n",
    "    facet_row=\"standard\",\n",
    "    # facet_col_spacing=0.05,\n",
    "    height=1000,\n",
    "    # width=1200,\n",
    ")\n",
    "# fig_utilization_standard.update_xaxes(autorange=\"reversed\")\n",
    "\n",
    "\n",
    "fig_utilization_standard.show()"
   ]
  },
  {
   "cell_type": "code",
   "execution_count": 10,
   "metadata": {},
   "outputs": [
    {
     "data": {
      "application/vnd.plotly.v1+json": {
       "config": {
        "plotlyServerURL": "https://plot.ly"
       },
       "data": [
        {
         "hovertemplate": "file=1gb_dickens<br>standard=snappy<br>chunk_size=%{x}<br>decompression_utilization=%{y}<extra></extra>",
         "legendgroup": "1gb_dickens",
         "line": {
          "color": "#636efa",
          "dash": "solid"
         },
         "marker": {
          "symbol": "circle"
         },
         "mode": "lines+markers",
         "name": "1gb_dickens",
         "orientation": "v",
         "showlegend": true,
         "type": "scatter",
         "x": [
          16384000,
          4096000,
          1024000,
          256000,
          64000,
          16000,
          1000
         ],
         "xaxis": "x6",
         "y": [
          1,
          3.8545732499714047,
          14.315356417182802,
          51.721908475121545,
          84.65191530144759,
          95.61622077132225,
          96.91268910267198
         ],
         "yaxis": "y6"
        },
        {
         "hovertemplate": "file=1gb_dickens<br>standard=zstd<br>chunk_size=%{x}<br>decompression_utilization=%{y}<extra></extra>",
         "legendgroup": "1gb_dickens",
         "line": {
          "color": "#636efa",
          "dash": "solid"
         },
         "marker": {
          "symbol": "circle"
         },
         "mode": "lines+markers",
         "name": "1gb_dickens",
         "orientation": "v",
         "showlegend": false,
         "type": "scatter",
         "x": [
          1024000,
          64000,
          16000,
          4000,
          1000
         ],
         "xaxis": "x5",
         "y": [
          19.22782863520729,
          49.38722449891945,
          48.56754949191105,
          43.74649336014717,
          39.9680365953551
         ],
         "yaxis": "y5"
        },
        {
         "hovertemplate": "file=1gb_dickens<br>standard=gdeflate<br>chunk_size=%{x}<br>decompression_utilization=%{y}<extra></extra>",
         "legendgroup": "1gb_dickens",
         "line": {
          "color": "#636efa",
          "dash": "solid"
         },
         "marker": {
          "symbol": "circle"
         },
         "mode": "lines+markers",
         "name": "1gb_dickens",
         "orientation": "v",
         "showlegend": false,
         "type": "scatter",
         "x": [
          4000
         ],
         "xaxis": "x4",
         "y": [
          42.54430111281937
         ],
         "yaxis": "y4"
        },
        {
         "hovertemplate": "file=1gb_dickens<br>standard=lz4<br>chunk_size=%{x}<br>decompression_utilization=%{y}<extra></extra>",
         "legendgroup": "1gb_dickens",
         "line": {
          "color": "#636efa",
          "dash": "solid"
         },
         "marker": {
          "symbol": "circle"
         },
         "mode": "lines+markers",
         "name": "1gb_dickens",
         "orientation": "v",
         "showlegend": false,
         "type": "scatter",
         "x": [
          4096000,
          1024000,
          256000,
          16000,
          4000,
          1000
         ],
         "xaxis": "x3",
         "y": [
          2.2530419330619234,
          6.762746960609403,
          26.68437772477111,
          47.294412685178045,
          48.35069037649741,
          48.25774046760506
         ],
         "yaxis": "y3"
        },
        {
         "hovertemplate": "file=1gb_dickens<br>standard=cascaded<br>chunk_size=%{x}<br>decompression_utilization=%{y}<extra></extra>",
         "legendgroup": "1gb_dickens",
         "line": {
          "color": "#636efa",
          "dash": "solid"
         },
         "marker": {
          "symbol": "circle"
         },
         "mode": "lines+markers",
         "name": "1gb_dickens",
         "orientation": "v",
         "showlegend": false,
         "type": "scatter",
         "x": [
          65536000,
          16384000,
          4096000,
          1024000,
          256000,
          64000,
          16000,
          4000,
          1000
         ],
         "xaxis": "x2",
         "y": [
          0.3332651412651287,
          1.9610369737174485,
          4.0075964986652615,
          18.643164463441526,
          25.633465947123227,
          45.52438945799591,
          45.69469517773744,
          43.764256247192186,
          38.64384429388337
         ],
         "yaxis": "y2"
        },
        {
         "hovertemplate": "file=1gb_dickens<br>standard=bitcomp<br>chunk_size=%{x}<br>decompression_utilization=%{y}<extra></extra>",
         "legendgroup": "1gb_dickens",
         "line": {
          "color": "#636efa",
          "dash": "solid"
         },
         "marker": {
          "symbol": "circle"
         },
         "mode": "lines+markers",
         "name": "1gb_dickens",
         "orientation": "v",
         "showlegend": false,
         "type": "scatter",
         "x": [
          65536000,
          16384000,
          1024000,
          64000,
          16000,
          4000,
          1000
         ],
         "xaxis": "x",
         "y": [
          1.7998162461172864,
          3.963248859922275,
          54.80086981995497,
          70.81820702220524,
          73.00511480858529,
          72.69145781727747,
          69.25946444829057
         ],
         "yaxis": "y"
        },
        {
         "hovertemplate": "file=1gb_mozilla<br>standard=snappy<br>chunk_size=%{x}<br>decompression_utilization=%{y}<extra></extra>",
         "legendgroup": "1gb_mozilla",
         "line": {
          "color": "#EF553B",
          "dash": "solid"
         },
         "marker": {
          "symbol": "circle"
         },
         "mode": "lines+markers",
         "name": "1gb_mozilla",
         "orientation": "v",
         "showlegend": true,
         "type": "scatter",
         "x": [
          65536000,
          1024000,
          256000,
          64000,
          16000,
          4000,
          1000
         ],
         "xaxis": "x6",
         "y": [
          0.9413982637177544,
          11.02508763106562,
          40.23607952208788,
          72.70273339007153,
          87.65720779783517,
          91.42593559542027,
          90.9195303085317
         ],
         "yaxis": "y6"
        },
        {
         "hovertemplate": "file=1gb_mozilla<br>standard=zstd<br>chunk_size=%{x}<br>decompression_utilization=%{y}<extra></extra>",
         "legendgroup": "1gb_mozilla",
         "line": {
          "color": "#EF553B",
          "dash": "solid"
         },
         "marker": {
          "symbol": "circle"
         },
         "mode": "lines+markers",
         "name": "1gb_mozilla",
         "orientation": "v",
         "showlegend": false,
         "type": "scatter",
         "x": [
          1024000,
          256000,
          64000,
          4000,
          1000
         ],
         "xaxis": "x5",
         "y": [
          13.258298141031805,
          39.320300194062284,
          44.72320226025634,
          42.96249313624594,
          38.40680102987998
         ],
         "yaxis": "y5"
        },
        {
         "hovertemplate": "file=1gb_mozilla<br>standard=gdeflate<br>chunk_size=%{x}<br>decompression_utilization=%{y}<extra></extra>",
         "legendgroup": "1gb_mozilla",
         "line": {
          "color": "#EF553B",
          "dash": "solid"
         },
         "marker": {
          "symbol": "circle"
         },
         "mode": "lines+markers",
         "name": "1gb_mozilla",
         "orientation": "v",
         "showlegend": false,
         "type": "scatter",
         "x": [
          4000
         ],
         "xaxis": "x4",
         "y": [
          39.601642960182176
         ],
         "yaxis": "y4"
        },
        {
         "hovertemplate": "file=1gb_mozilla<br>standard=lz4<br>chunk_size=%{x}<br>decompression_utilization=%{y}<extra></extra>",
         "legendgroup": "1gb_mozilla",
         "line": {
          "color": "#EF553B",
          "dash": "solid"
         },
         "marker": {
          "symbol": "circle"
         },
         "mode": "lines+markers",
         "name": "1gb_mozilla",
         "orientation": "v",
         "showlegend": false,
         "type": "scatter",
         "x": [
          4096000,
          16000,
          4000,
          1000
         ],
         "xaxis": "x3",
         "y": [
          1.8295407205698715,
          43.07051864260206,
          44.85976562935064,
          42.309283563128105
         ],
         "yaxis": "y3"
        },
        {
         "hovertemplate": "file=1gb_mozilla<br>standard=cascaded<br>chunk_size=%{x}<br>decompression_utilization=%{y}<extra></extra>",
         "legendgroup": "1gb_mozilla",
         "line": {
          "color": "#EF553B",
          "dash": "solid"
         },
         "marker": {
          "symbol": "circle"
         },
         "mode": "lines+markers",
         "name": "1gb_mozilla",
         "orientation": "v",
         "showlegend": false,
         "type": "scatter",
         "x": [
          1024000,
          64000
         ],
         "xaxis": "x2",
         "y": [
          11.89705339744088,
          44.656480891546394
         ],
         "yaxis": "y2"
        },
        {
         "hovertemplate": "file=1gb_mozilla<br>standard=bitcomp<br>chunk_size=%{x}<br>decompression_utilization=%{y}<extra></extra>",
         "legendgroup": "1gb_mozilla",
         "line": {
          "color": "#EF553B",
          "dash": "solid"
         },
         "marker": {
          "symbol": "circle"
         },
         "mode": "lines+markers",
         "name": "1gb_mozilla",
         "orientation": "v",
         "showlegend": false,
         "type": "scatter",
         "x": [
          16384000,
          1024000,
          64000,
          16000,
          4000
         ],
         "xaxis": "x",
         "y": [
          3.6753842789904283,
          35.6163101538945,
          68.32907960116434,
          71.13750485898002,
          68.97933095284176
         ],
         "yaxis": "y"
        },
        {
         "hovertemplate": "file=1gb_mr<br>standard=snappy<br>chunk_size=%{x}<br>decompression_utilization=%{y}<extra></extra>",
         "legendgroup": "1gb_mr",
         "line": {
          "color": "#00cc96",
          "dash": "solid"
         },
         "marker": {
          "symbol": "circle"
         },
         "mode": "lines+markers",
         "name": "1gb_mr",
         "orientation": "v",
         "showlegend": true,
         "type": "scatter",
         "x": [
          16384000,
          4096000,
          1024000,
          256000,
          64000,
          16000,
          1000
         ],
         "xaxis": "x6",
         "y": [
          1,
          3.8433036904101083,
          13.48054236116813,
          50.24667007259469,
          75.66997695878322,
          79.87586343958522,
          89.95678016783538
         ],
         "yaxis": "y6"
        },
        {
         "hovertemplate": "file=1gb_mr<br>standard=zstd<br>chunk_size=%{x}<br>decompression_utilization=%{y}<extra></extra>",
         "legendgroup": "1gb_mr",
         "line": {
          "color": "#00cc96",
          "dash": "solid"
         },
         "marker": {
          "symbol": "circle"
         },
         "mode": "lines+markers",
         "name": "1gb_mr",
         "orientation": "v",
         "showlegend": false,
         "type": "scatter",
         "x": [
          1024000,
          256000,
          64000,
          16000,
          1000
         ],
         "xaxis": "x5",
         "y": [
          17.781998556256212,
          44.87379544851234,
          46.599123965795556,
          45.64040561987413,
          37.46553203307556
         ],
         "yaxis": "y5"
        },
        {
         "hovertemplate": "file=1gb_mr<br>standard=lz4<br>chunk_size=%{x}<br>decompression_utilization=%{y}<extra></extra>",
         "legendgroup": "1gb_mr",
         "line": {
          "color": "#00cc96",
          "dash": "solid"
         },
         "marker": {
          "symbol": "circle"
         },
         "mode": "lines+markers",
         "name": "1gb_mr",
         "orientation": "v",
         "showlegend": false,
         "type": "scatter",
         "x": [
          4096000,
          1024000,
          256000,
          4000,
          1000
         ],
         "xaxis": "x3",
         "y": [
          1.9694690885949933,
          6.40440474059748,
          25.113001983707665,
          33.445533412631,
          44.22904749656021
         ],
         "yaxis": "y3"
        },
        {
         "hovertemplate": "file=1gb_mr<br>standard=cascaded<br>chunk_size=%{x}<br>decompression_utilization=%{y}<extra></extra>",
         "legendgroup": "1gb_mr",
         "line": {
          "color": "#00cc96",
          "dash": "solid"
         },
         "marker": {
          "symbol": "circle"
         },
         "mode": "lines+markers",
         "name": "1gb_mr",
         "orientation": "v",
         "showlegend": false,
         "type": "scatter",
         "x": [
          65536000,
          16384000,
          4096000,
          1024000,
          4000
         ],
         "xaxis": "x2",
         "y": [
          0.33331738989373416,
          1.9843073835721046,
          6.767989513174492,
          18.557589605513936,
          48.22576249096862
         ],
         "yaxis": "y2"
        },
        {
         "hovertemplate": "file=1gb_mr<br>standard=bitcomp<br>chunk_size=%{x}<br>decompression_utilization=%{y}<extra></extra>",
         "legendgroup": "1gb_mr",
         "line": {
          "color": "#00cc96",
          "dash": "solid"
         },
         "marker": {
          "symbol": "circle"
         },
         "mode": "lines+markers",
         "name": "1gb_mr",
         "orientation": "v",
         "showlegend": false,
         "type": "scatter",
         "x": [
          65536000,
          16384000,
          4096000,
          1024000,
          256000,
          4000,
          1000
         ],
         "xaxis": "x",
         "y": [
          0.9999088412616759,
          3.949540465547104,
          13.970960648564247,
          50.94982016060723,
          61.443841400422926,
          72.86493264506007,
          72.62817965070192
         ],
         "yaxis": "y"
        },
        {
         "hovertemplate": "file=1gb_nci<br>standard=snappy<br>chunk_size=%{x}<br>decompression_utilization=%{y}<extra></extra>",
         "legendgroup": "1gb_nci",
         "line": {
          "color": "#ab63fa",
          "dash": "solid"
         },
         "marker": {
          "symbol": "circle"
         },
         "mode": "lines+markers",
         "name": "1gb_nci",
         "orientation": "v",
         "showlegend": true,
         "type": "scatter",
         "x": [
          65536000,
          16384000,
          4096000,
          16000
         ],
         "xaxis": "x6",
         "y": [
          1,
          1,
          3.7747695135187396,
          90.98859964005128
         ],
         "yaxis": "y6"
        },
        {
         "hovertemplate": "file=1gb_nci<br>standard=zstd<br>chunk_size=%{x}<br>decompression_utilization=%{y}<extra></extra>",
         "legendgroup": "1gb_nci",
         "line": {
          "color": "#ab63fa",
          "dash": "solid"
         },
         "marker": {
          "symbol": "circle"
         },
         "mode": "lines+markers",
         "name": "1gb_nci",
         "orientation": "v",
         "showlegend": false,
         "type": "scatter",
         "x": [
          4096000,
          1024000,
          256000,
          4000,
          1000
         ],
         "xaxis": "x5",
         "y": [
          3.293011057657657,
          11.330271445788162,
          36.437525208155904,
          41.501963441105055,
          35.7686866152324
         ],
         "yaxis": "y5"
        },
        {
         "hovertemplate": "file=1gb_nci<br>standard=gdeflate<br>chunk_size=%{x}<br>decompression_utilization=%{y}<extra></extra>",
         "legendgroup": "1gb_nci",
         "line": {
          "color": "#ab63fa",
          "dash": "solid"
         },
         "marker": {
          "symbol": "circle"
         },
         "mode": "lines+markers",
         "name": "1gb_nci",
         "orientation": "v",
         "showlegend": false,
         "type": "scatter",
         "x": [
          4000
         ],
         "xaxis": "x4",
         "y": [
          40.79831422080053
         ],
         "yaxis": "y4"
        },
        {
         "hovertemplate": "file=1gb_nci<br>standard=lz4<br>chunk_size=%{x}<br>decompression_utilization=%{y}<extra></extra>",
         "legendgroup": "1gb_nci",
         "line": {
          "color": "#ab63fa",
          "dash": "solid"
         },
         "marker": {
          "symbol": "circle"
         },
         "mode": "lines+markers",
         "name": "1gb_nci",
         "orientation": "v",
         "showlegend": false,
         "type": "scatter",
         "x": [
          4096000,
          1024000,
          256000,
          64000,
          16000,
          4000,
          1000
         ],
         "xaxis": "x3",
         "y": [
          1.8998445216625597,
          6.298193510750151,
          25.14389655990766,
          36.62999935799583,
          44.730361571579394,
          47.00464770025295,
          45.73758927395917
         ],
         "yaxis": "y3"
        },
        {
         "hovertemplate": "file=1gb_nci<br>standard=cascaded<br>chunk_size=%{x}<br>decompression_utilization=%{y}<extra></extra>",
         "legendgroup": "1gb_nci",
         "line": {
          "color": "#ab63fa",
          "dash": "solid"
         },
         "marker": {
          "symbol": "circle"
         },
         "mode": "lines+markers",
         "name": "1gb_nci",
         "orientation": "v",
         "showlegend": false,
         "type": "scatter",
         "x": [
          65536000,
          16384000,
          4096000,
          1024000,
          256000,
          64000,
          16000,
          1000
         ],
         "xaxis": "x2",
         "y": [
          0.999868057524536,
          1.9547374560414044,
          4.01766579445352,
          5.450142835845522,
          25.011515266591758,
          40.205346378177495,
          45.61436750411744,
          43.10289138991937
         ],
         "yaxis": "y2"
        },
        {
         "hovertemplate": "file=1gb_nci<br>standard=bitcomp<br>chunk_size=%{x}<br>decompression_utilization=%{y}<extra></extra>",
         "legendgroup": "1gb_nci",
         "line": {
          "color": "#ab63fa",
          "dash": "solid"
         },
         "marker": {
          "symbol": "circle"
         },
         "mode": "lines+markers",
         "name": "1gb_nci",
         "orientation": "v",
         "showlegend": false,
         "type": "scatter",
         "x": [
          65536000,
          16384000,
          4096000,
          1024000,
          256000,
          4000
         ],
         "xaxis": "x",
         "y": [
          0.9999279606620384,
          3.9660540283723362,
          14.017374091725276,
          50.75150353079775,
          63.44650964884947,
          71.73809742711447
         ],
         "yaxis": "y"
        },
        {
         "hovertemplate": "file=1gb_samba<br>standard=snappy<br>chunk_size=%{x}<br>decompression_utilization=%{y}<extra></extra>",
         "legendgroup": "1gb_samba",
         "line": {
          "color": "#FFA15A",
          "dash": "solid"
         },
         "marker": {
          "symbol": "circle"
         },
         "mode": "lines+markers",
         "name": "1gb_samba",
         "orientation": "v",
         "showlegend": true,
         "type": "scatter",
         "x": [
          1024000,
          1000
         ],
         "xaxis": "x6",
         "y": [
          10.278139767221214,
          91.03830902897144
         ],
         "yaxis": "y6"
        },
        {
         "hovertemplate": "file=1gb_samba<br>standard=zstd<br>chunk_size=%{x}<br>decompression_utilization=%{y}<extra></extra>",
         "legendgroup": "1gb_samba",
         "line": {
          "color": "#FFA15A",
          "dash": "solid"
         },
         "marker": {
          "symbol": "circle"
         },
         "mode": "lines+markers",
         "name": "1gb_samba",
         "orientation": "v",
         "showlegend": false,
         "type": "scatter",
         "x": [
          1024000,
          256000,
          64000
         ],
         "xaxis": "x5",
         "y": [
          12.235838934576226,
          35.680154162841916,
          42.6127506523285
         ],
         "yaxis": "y5"
        },
        {
         "hovertemplate": "file=1gb_samba<br>standard=gdeflate<br>chunk_size=%{x}<br>decompression_utilization=%{y}<extra></extra>",
         "legendgroup": "1gb_samba",
         "line": {
          "color": "#FFA15A",
          "dash": "solid"
         },
         "marker": {
          "symbol": "circle"
         },
         "mode": "lines+markers",
         "name": "1gb_samba",
         "orientation": "v",
         "showlegend": false,
         "type": "scatter",
         "x": [
          16000,
          4000,
          1000
         ],
         "xaxis": "x4",
         "y": [
          38.39828287920922,
          39.903507571258714,
          38.56377114865492
         ],
         "yaxis": "y4"
        },
        {
         "hovertemplate": "file=1gb_samba<br>standard=lz4<br>chunk_size=%{x}<br>decompression_utilization=%{y}<extra></extra>",
         "legendgroup": "1gb_samba",
         "line": {
          "color": "#FFA15A",
          "dash": "solid"
         },
         "marker": {
          "symbol": "circle"
         },
         "mode": "lines+markers",
         "name": "1gb_samba",
         "orientation": "v",
         "showlegend": false,
         "type": "scatter",
         "x": [
          4096000,
          64000
         ],
         "xaxis": "x3",
         "y": [
          1.8218232746113954,
          32.54724387917843
         ],
         "yaxis": "y3"
        },
        {
         "hovertemplate": "file=1gb_samba<br>standard=cascaded<br>chunk_size=%{x}<br>decompression_utilization=%{y}<extra></extra>",
         "legendgroup": "1gb_samba",
         "line": {
          "color": "#FFA15A",
          "dash": "solid"
         },
         "marker": {
          "symbol": "circle"
         },
         "mode": "lines+markers",
         "name": "1gb_samba",
         "orientation": "v",
         "showlegend": false,
         "type": "scatter",
         "x": [
          4096000,
          1024000,
          256000,
          64000,
          16000,
          4000
         ],
         "xaxis": "x2",
         "y": [
          1.7158113870330334,
          8.532202071656508,
          31.228694133519355,
          28.14690886253764,
          46.72910506995446,
          45.308843946546865
         ],
         "yaxis": "y2"
        },
        {
         "hovertemplate": "file=1gb_samba<br>standard=bitcomp<br>chunk_size=%{x}<br>decompression_utilization=%{y}<extra></extra>",
         "legendgroup": "1gb_samba",
         "line": {
          "color": "#FFA15A",
          "dash": "solid"
         },
         "marker": {
          "symbol": "circle"
         },
         "mode": "lines+markers",
         "name": "1gb_samba",
         "orientation": "v",
         "showlegend": false,
         "type": "scatter",
         "x": [
          65536000,
          16384000,
          1024000,
          256000,
          16000,
          4000
         ],
         "xaxis": "x",
         "y": [
          0.9999321411219158,
          3.8521685069063163,
          42.07233403733168,
          59.24272412373813,
          72.50179574184345,
          72.7608764336648
         ],
         "yaxis": "y"
        },
        {
         "hovertemplate": "file=1gb_sao<br>standard=snappy<br>chunk_size=%{x}<br>decompression_utilization=%{y}<extra></extra>",
         "legendgroup": "1gb_sao",
         "line": {
          "color": "#19d3f3",
          "dash": "solid"
         },
         "marker": {
          "symbol": "circle"
         },
         "mode": "lines+markers",
         "name": "1gb_sao",
         "orientation": "v",
         "showlegend": true,
         "type": "scatter",
         "x": [
          65536000,
          16384000,
          4096000,
          1024000,
          1000
         ],
         "xaxis": "x6",
         "y": [
          0.9412729974411631,
          1,
          3.8865735831140906,
          14.23984916739578,
          93.98465472694639
         ],
         "yaxis": "y6"
        },
        {
         "hovertemplate": "file=1gb_sao<br>standard=zstd<br>chunk_size=%{x}<br>decompression_utilization=%{y}<extra></extra>",
         "legendgroup": "1gb_sao",
         "line": {
          "color": "#19d3f3",
          "dash": "solid"
         },
         "marker": {
          "symbol": "circle"
         },
         "mode": "lines+markers",
         "name": "1gb_sao",
         "orientation": "v",
         "showlegend": false,
         "type": "scatter",
         "x": [
          4096000,
          1024000,
          256000,
          64000,
          1000
         ],
         "xaxis": "x5",
         "y": [
          5.384976697742705,
          18.473425925345573,
          46.68558151512252,
          49.50885188454127,
          41.362146235553254
         ],
         "yaxis": "y5"
        },
        {
         "hovertemplate": "file=1gb_sao<br>standard=gdeflate<br>chunk_size=%{x}<br>decompression_utilization=%{y}<extra></extra>",
         "legendgroup": "1gb_sao",
         "line": {
          "color": "#19d3f3",
          "dash": "solid"
         },
         "marker": {
          "symbol": "circle"
         },
         "mode": "lines+markers",
         "name": "1gb_sao",
         "orientation": "v",
         "showlegend": false,
         "type": "scatter",
         "x": [
          16000,
          1000
         ],
         "xaxis": "x4",
         "y": [
          41.38908384752534,
          42.78989886866421
         ],
         "yaxis": "y4"
        },
        {
         "hovertemplate": "file=1gb_sao<br>standard=lz4<br>chunk_size=%{x}<br>decompression_utilization=%{y}<extra></extra>",
         "legendgroup": "1gb_sao",
         "line": {
          "color": "#19d3f3",
          "dash": "solid"
         },
         "marker": {
          "symbol": "circle"
         },
         "mode": "lines+markers",
         "name": "1gb_sao",
         "orientation": "v",
         "showlegend": false,
         "type": "scatter",
         "x": [
          4096000,
          1024000,
          256000,
          64000,
          1000
         ],
         "xaxis": "x3",
         "y": [
          1.9821264902686822,
          6.713152592150242,
          26.685388802828548,
          40.974368638944256,
          47.58083239240794
         ],
         "yaxis": "y3"
        },
        {
         "hovertemplate": "file=1gb_sao<br>standard=cascaded<br>chunk_size=%{x}<br>decompression_utilization=%{y}<extra></extra>",
         "legendgroup": "1gb_sao",
         "line": {
          "color": "#19d3f3",
          "dash": "solid"
         },
         "marker": {
          "symbol": "circle"
         },
         "mode": "lines+markers",
         "name": "1gb_sao",
         "orientation": "v",
         "showlegend": false,
         "type": "scatter",
         "x": [
          65536000,
          16384000,
          1024000,
          256000,
          64000,
          16000,
          4000,
          1000
         ],
         "xaxis": "x2",
         "y": [
          0.9998709491605176,
          1.950244220647566,
          18.464598020763603,
          38.57140677668585,
          45.91951735388774,
          45.308829117714076,
          42.54491133680391,
          38.46173420179491
         ],
         "yaxis": "y2"
        },
        {
         "hovertemplate": "file=1gb_sao<br>standard=bitcomp<br>chunk_size=%{x}<br>decompression_utilization=%{y}<extra></extra>",
         "legendgroup": "1gb_sao",
         "line": {
          "color": "#19d3f3",
          "dash": "solid"
         },
         "marker": {
          "symbol": "circle"
         },
         "mode": "lines+markers",
         "name": "1gb_sao",
         "orientation": "v",
         "showlegend": false,
         "type": "scatter",
         "x": [
          16384000,
          4096000,
          1024000,
          256000,
          64000
         ],
         "xaxis": "x",
         "y": [
          3.863522035474103,
          13.707219105393744,
          54.332997177709615,
          59.65287364052388,
          67.4337614479065
         ],
         "yaxis": "y"
        },
        {
         "hovertemplate": "file=1gb_silesia.zip<br>standard=snappy<br>chunk_size=%{x}<br>decompression_utilization=%{y}<extra></extra>",
         "legendgroup": "1gb_silesia.zip",
         "line": {
          "color": "#FF6692",
          "dash": "solid"
         },
         "marker": {
          "symbol": "circle"
         },
         "mode": "lines+markers",
         "name": "1gb_silesia.zip",
         "orientation": "v",
         "showlegend": true,
         "type": "scatter",
         "x": [
          65536000,
          16384000,
          4096000,
          1024000,
          256000,
          1000
         ],
         "xaxis": "x6",
         "y": [
          0.9941785731388715,
          1,
          3.5729617011850667,
          10.75518930760737,
          30.365544093952863,
          69.03027522208407
         ],
         "yaxis": "y6"
        },
        {
         "hovertemplate": "file=1gb_silesia.zip<br>standard=zstd<br>chunk_size=%{x}<br>decompression_utilization=%{y}<extra></extra>",
         "legendgroup": "1gb_silesia.zip",
         "line": {
          "color": "#FF6692",
          "dash": "solid"
         },
         "marker": {
          "symbol": "circle"
         },
         "mode": "lines+markers",
         "name": "1gb_silesia.zip",
         "orientation": "v",
         "showlegend": false,
         "type": "scatter",
         "x": [
          1000
         ],
         "xaxis": "x5",
         "y": [
          45.19730770759
         ],
         "yaxis": "y5"
        },
        {
         "hovertemplate": "file=1gb_silesia.zip<br>standard=gdeflate<br>chunk_size=%{x}<br>decompression_utilization=%{y}<extra></extra>",
         "legendgroup": "1gb_silesia.zip",
         "line": {
          "color": "#FF6692",
          "dash": "solid"
         },
         "marker": {
          "symbol": "circle"
         },
         "mode": "lines+markers",
         "name": "1gb_silesia.zip",
         "orientation": "v",
         "showlegend": false,
         "type": "scatter",
         "x": [
          1000
         ],
         "xaxis": "x4",
         "y": [
          42.77330707025648
         ],
         "yaxis": "y4"
        },
        {
         "hovertemplate": "file=1gb_silesia.zip<br>standard=lz4<br>chunk_size=%{x}<br>decompression_utilization=%{y}<extra></extra>",
         "legendgroup": "1gb_silesia.zip",
         "line": {
          "color": "#FF6692",
          "dash": "solid"
         },
         "marker": {
          "symbol": "circle"
         },
         "mode": "lines+markers",
         "name": "1gb_silesia.zip",
         "orientation": "v",
         "showlegend": false,
         "type": "scatter",
         "x": [
          1024000,
          256000,
          64000,
          16000,
          4000,
          1000
         ],
         "xaxis": "x3",
         "y": [
          4.651651063363247,
          11.762681432250336,
          21.90417792448089,
          33.13609333999892,
          39.648804098320895,
          44.4146174971827
         ],
         "yaxis": "y3"
        },
        {
         "hovertemplate": "file=1gb_silesia.zip<br>standard=cascaded<br>chunk_size=%{x}<br>decompression_utilization=%{y}<extra></extra>",
         "legendgroup": "1gb_silesia.zip",
         "line": {
          "color": "#FF6692",
          "dash": "solid"
         },
         "marker": {
          "symbol": "circle"
         },
         "mode": "lines+markers",
         "name": "1gb_silesia.zip",
         "orientation": "v",
         "showlegend": false,
         "type": "scatter",
         "x": [
          4096000,
          1024000,
          256000,
          64000,
          1000
         ],
         "xaxis": "x2",
         "y": [
          6.550730234135328,
          18.713362779136073,
          38.51601830550894,
          46.04691303669787,
          38.54780986924321
         ],
         "yaxis": "y2"
        },
        {
         "hovertemplate": "file=1gb_silesia.zip<br>standard=bitcomp<br>chunk_size=%{x}<br>decompression_utilization=%{y}<extra></extra>",
         "legendgroup": "1gb_silesia.zip",
         "line": {
          "color": "#FF6692",
          "dash": "solid"
         },
         "marker": {
          "symbol": "circle"
         },
         "mode": "lines+markers",
         "name": "1gb_silesia.zip",
         "orientation": "v",
         "showlegend": false,
         "type": "scatter",
         "x": [
          16384000,
          4096000,
          1024000,
          256000,
          64000,
          1000
         ],
         "xaxis": "x",
         "y": [
          3.8427787690177158,
          13.533590551162483,
          51.42747362040079,
          58.91438936214793,
          69.89139391443236,
          73.44323425467985
         ],
         "yaxis": "y"
        },
        {
         "hovertemplate": "file=1gb_xml<br>standard=snappy<br>chunk_size=%{x}<br>decompression_utilization=%{y}<extra></extra>",
         "legendgroup": "1gb_xml",
         "line": {
          "color": "#B6E880",
          "dash": "solid"
         },
         "marker": {
          "symbol": "circle"
         },
         "mode": "lines+markers",
         "name": "1gb_xml",
         "orientation": "v",
         "showlegend": true,
         "type": "scatter",
         "x": [
          65536000,
          16384000,
          4096000,
          1024000
         ],
         "xaxis": "x6",
         "y": [
          1,
          1,
          3.5890082714168647,
          10.664191707962482
         ],
         "yaxis": "y6"
        },
        {
         "hovertemplate": "file=1gb_xml<br>standard=zstd<br>chunk_size=%{x}<br>decompression_utilization=%{y}<extra></extra>",
         "legendgroup": "1gb_xml",
         "line": {
          "color": "#B6E880",
          "dash": "solid"
         },
         "marker": {
          "symbol": "circle"
         },
         "mode": "lines+markers",
         "name": "1gb_xml",
         "orientation": "v",
         "showlegend": false,
         "type": "scatter",
         "x": [
          4096000,
          1024000,
          4000
         ],
         "xaxis": "x5",
         "y": [
          3.879701865967939,
          12.73946457778377,
          42.04825879120329
         ],
         "yaxis": "y5"
        },
        {
         "hovertemplate": "file=1gb_xml<br>standard=gdeflate<br>chunk_size=%{x}<br>decompression_utilization=%{y}<extra></extra>",
         "legendgroup": "1gb_xml",
         "line": {
          "color": "#B6E880",
          "dash": "solid"
         },
         "marker": {
          "symbol": "circle"
         },
         "mode": "lines+markers",
         "name": "1gb_xml",
         "orientation": "v",
         "showlegend": false,
         "type": "scatter",
         "x": [
          4000,
          1000
         ],
         "xaxis": "x4",
         "y": [
          40.32722135575362,
          41.607356782403805
         ],
         "yaxis": "y4"
        },
        {
         "hovertemplate": "file=1gb_xml<br>standard=lz4<br>chunk_size=%{x}<br>decompression_utilization=%{y}<extra></extra>",
         "legendgroup": "1gb_xml",
         "line": {
          "color": "#B6E880",
          "dash": "solid"
         },
         "marker": {
          "symbol": "circle"
         },
         "mode": "lines+markers",
         "name": "1gb_xml",
         "orientation": "v",
         "showlegend": false,
         "type": "scatter",
         "x": [
          4096000,
          1024000,
          1000
         ],
         "xaxis": "x3",
         "y": [
          1.8795006749181478,
          5.618540917604458,
          46.73111742236105
         ],
         "yaxis": "y3"
        },
        {
         "hovertemplate": "file=1gb_xml<br>standard=cascaded<br>chunk_size=%{x}<br>decompression_utilization=%{y}<extra></extra>",
         "legendgroup": "1gb_xml",
         "line": {
          "color": "#B6E880",
          "dash": "solid"
         },
         "marker": {
          "symbol": "circle"
         },
         "mode": "lines+markers",
         "name": "1gb_xml",
         "orientation": "v",
         "showlegend": false,
         "type": "scatter",
         "x": [
          65536000,
          16384000,
          4096000,
          1024000,
          256000,
          64000,
          16000,
          4000,
          1000
         ],
         "xaxis": "x2",
         "y": [
          0.9998750983637263,
          1.9533804228990057,
          6.50586796286583,
          18.880413826634523,
          25.922447876005737,
          25.348421440315764,
          43.21728033021348,
          43.883250637182485,
          39.247059044979565
         ],
         "yaxis": "y2"
        },
        {
         "hovertemplate": "file=1gb_xml<br>standard=bitcomp<br>chunk_size=%{x}<br>decompression_utilization=%{y}<extra></extra>",
         "legendgroup": "1gb_xml",
         "line": {
          "color": "#B6E880",
          "dash": "solid"
         },
         "marker": {
          "symbol": "circle"
         },
         "mode": "lines+markers",
         "name": "1gb_xml",
         "orientation": "v",
         "showlegend": false,
         "type": "scatter",
         "x": [
          65536000,
          16384000,
          4096000,
          1024000,
          256000,
          64000,
          16000,
          4000
         ],
         "xaxis": "x",
         "y": [
          0.999943214916605,
          3.955750394319269,
          14.258186398384368,
          51.59528794289089,
          60.17175795382742,
          70.27568176665551,
          73.0755093905523,
          71.6646315299572
         ],
         "yaxis": "y"
        },
        {
         "hovertemplate": "file=1gb_lineitem.parquet<br>standard=snappy<br>chunk_size=%{x}<br>decompression_utilization=%{y}<extra></extra>",
         "legendgroup": "1gb_lineitem.parquet",
         "line": {
          "color": "#FF97FF",
          "dash": "solid"
         },
         "marker": {
          "symbol": "circle"
         },
         "mode": "lines+markers",
         "name": "1gb_lineitem.parquet",
         "orientation": "v",
         "showlegend": true,
         "type": "scatter",
         "x": [
          1000
         ],
         "xaxis": "x6",
         "y": [
          80.33518819017186
         ],
         "yaxis": "y6"
        },
        {
         "hovertemplate": "file=1gb_lineitem.parquet<br>standard=zstd<br>chunk_size=%{x}<br>decompression_utilization=%{y}<extra></extra>",
         "legendgroup": "1gb_lineitem.parquet",
         "line": {
          "color": "#FF97FF",
          "dash": "solid"
         },
         "marker": {
          "symbol": "circle"
         },
         "mode": "lines+markers",
         "name": "1gb_lineitem.parquet",
         "orientation": "v",
         "showlegend": false,
         "type": "scatter",
         "x": [
          1024000
         ],
         "xaxis": "x5",
         "y": [
          14.837769394903408
         ],
         "yaxis": "y5"
        },
        {
         "hovertemplate": "file=1gb_lineitem.parquet<br>standard=lz4<br>chunk_size=%{x}<br>decompression_utilization=%{y}<extra></extra>",
         "legendgroup": "1gb_lineitem.parquet",
         "line": {
          "color": "#FF97FF",
          "dash": "solid"
         },
         "marker": {
          "symbol": "circle"
         },
         "mode": "lines+markers",
         "name": "1gb_lineitem.parquet",
         "orientation": "v",
         "showlegend": false,
         "type": "scatter",
         "x": [
          256000,
          64000,
          1000
         ],
         "xaxis": "x3",
         "y": [
          9.729362472549454,
          21.331853228861114,
          44.76040114507637
         ],
         "yaxis": "y3"
        },
        {
         "hovertemplate": "file=1gb_lineitem.parquet<br>standard=cascaded<br>chunk_size=%{x}<br>decompression_utilization=%{y}<extra></extra>",
         "legendgroup": "1gb_lineitem.parquet",
         "line": {
          "color": "#FF97FF",
          "dash": "solid"
         },
         "marker": {
          "symbol": "circle"
         },
         "mode": "lines+markers",
         "name": "1gb_lineitem.parquet",
         "orientation": "v",
         "showlegend": false,
         "type": "scatter",
         "x": [
          65536000,
          16384000,
          4096000,
          1024000
         ],
         "xaxis": "x2",
         "y": [
          0.8470639893922091,
          1.9858764774767108,
          6.848834833766695,
          15.786470282553967
         ],
         "yaxis": "y2"
        },
        {
         "hovertemplate": "file=1gb_lineitem.parquet<br>standard=bitcomp<br>chunk_size=%{x}<br>decompression_utilization=%{y}<extra></extra>",
         "legendgroup": "1gb_lineitem.parquet",
         "line": {
          "color": "#FF97FF",
          "dash": "solid"
         },
         "marker": {
          "symbol": "circle"
         },
         "mode": "lines+markers",
         "name": "1gb_lineitem.parquet",
         "orientation": "v",
         "showlegend": false,
         "type": "scatter",
         "x": [
          16384000
         ],
         "xaxis": "x",
         "y": [
          3.8144915637805052
         ],
         "yaxis": "y"
        }
       ],
       "layout": {
        "annotations": [
         {
          "font": {},
          "showarrow": false,
          "text": "standard=bitcomp",
          "textangle": 90,
          "x": 0.98,
          "xanchor": "left",
          "xref": "paper",
          "y": 0.07083333333333333,
          "yanchor": "middle",
          "yref": "paper"
         },
         {
          "font": {},
          "showarrow": false,
          "text": "standard=cascaded",
          "textangle": 90,
          "x": 0.98,
          "xanchor": "left",
          "xref": "paper",
          "y": 0.2425,
          "yanchor": "middle",
          "yref": "paper"
         },
         {
          "font": {},
          "showarrow": false,
          "text": "standard=lz4",
          "textangle": 90,
          "x": 0.98,
          "xanchor": "left",
          "xref": "paper",
          "y": 0.4141666666666667,
          "yanchor": "middle",
          "yref": "paper"
         },
         {
          "font": {},
          "showarrow": false,
          "text": "standard=gdeflate",
          "textangle": 90,
          "x": 0.98,
          "xanchor": "left",
          "xref": "paper",
          "y": 0.5858333333333334,
          "yanchor": "middle",
          "yref": "paper"
         },
         {
          "font": {},
          "showarrow": false,
          "text": "standard=zstd",
          "textangle": 90,
          "x": 0.98,
          "xanchor": "left",
          "xref": "paper",
          "y": 0.7575000000000001,
          "yanchor": "middle",
          "yref": "paper"
         },
         {
          "font": {},
          "showarrow": false,
          "text": "standard=snappy",
          "textangle": 90,
          "x": 0.98,
          "xanchor": "left",
          "xref": "paper",
          "y": 0.9291666666666667,
          "yanchor": "middle",
          "yref": "paper"
         }
        ],
        "height": 1000,
        "legend": {
         "title": {
          "text": "file"
         },
         "tracegroupgap": 0
        },
        "template": {
         "data": {
          "bar": [
           {
            "error_x": {
             "color": "#2a3f5f"
            },
            "error_y": {
             "color": "#2a3f5f"
            },
            "marker": {
             "line": {
              "color": "#E5ECF6",
              "width": 0.5
             },
             "pattern": {
              "fillmode": "overlay",
              "size": 10,
              "solidity": 0.2
             }
            },
            "type": "bar"
           }
          ],
          "barpolar": [
           {
            "marker": {
             "line": {
              "color": "#E5ECF6",
              "width": 0.5
             },
             "pattern": {
              "fillmode": "overlay",
              "size": 10,
              "solidity": 0.2
             }
            },
            "type": "barpolar"
           }
          ],
          "carpet": [
           {
            "aaxis": {
             "endlinecolor": "#2a3f5f",
             "gridcolor": "white",
             "linecolor": "white",
             "minorgridcolor": "white",
             "startlinecolor": "#2a3f5f"
            },
            "baxis": {
             "endlinecolor": "#2a3f5f",
             "gridcolor": "white",
             "linecolor": "white",
             "minorgridcolor": "white",
             "startlinecolor": "#2a3f5f"
            },
            "type": "carpet"
           }
          ],
          "choropleth": [
           {
            "colorbar": {
             "outlinewidth": 0,
             "ticks": ""
            },
            "type": "choropleth"
           }
          ],
          "contour": [
           {
            "colorbar": {
             "outlinewidth": 0,
             "ticks": ""
            },
            "colorscale": [
             [
              0,
              "#0d0887"
             ],
             [
              0.1111111111111111,
              "#46039f"
             ],
             [
              0.2222222222222222,
              "#7201a8"
             ],
             [
              0.3333333333333333,
              "#9c179e"
             ],
             [
              0.4444444444444444,
              "#bd3786"
             ],
             [
              0.5555555555555556,
              "#d8576b"
             ],
             [
              0.6666666666666666,
              "#ed7953"
             ],
             [
              0.7777777777777778,
              "#fb9f3a"
             ],
             [
              0.8888888888888888,
              "#fdca26"
             ],
             [
              1,
              "#f0f921"
             ]
            ],
            "type": "contour"
           }
          ],
          "contourcarpet": [
           {
            "colorbar": {
             "outlinewidth": 0,
             "ticks": ""
            },
            "type": "contourcarpet"
           }
          ],
          "heatmap": [
           {
            "colorbar": {
             "outlinewidth": 0,
             "ticks": ""
            },
            "colorscale": [
             [
              0,
              "#0d0887"
             ],
             [
              0.1111111111111111,
              "#46039f"
             ],
             [
              0.2222222222222222,
              "#7201a8"
             ],
             [
              0.3333333333333333,
              "#9c179e"
             ],
             [
              0.4444444444444444,
              "#bd3786"
             ],
             [
              0.5555555555555556,
              "#d8576b"
             ],
             [
              0.6666666666666666,
              "#ed7953"
             ],
             [
              0.7777777777777778,
              "#fb9f3a"
             ],
             [
              0.8888888888888888,
              "#fdca26"
             ],
             [
              1,
              "#f0f921"
             ]
            ],
            "type": "heatmap"
           }
          ],
          "heatmapgl": [
           {
            "colorbar": {
             "outlinewidth": 0,
             "ticks": ""
            },
            "colorscale": [
             [
              0,
              "#0d0887"
             ],
             [
              0.1111111111111111,
              "#46039f"
             ],
             [
              0.2222222222222222,
              "#7201a8"
             ],
             [
              0.3333333333333333,
              "#9c179e"
             ],
             [
              0.4444444444444444,
              "#bd3786"
             ],
             [
              0.5555555555555556,
              "#d8576b"
             ],
             [
              0.6666666666666666,
              "#ed7953"
             ],
             [
              0.7777777777777778,
              "#fb9f3a"
             ],
             [
              0.8888888888888888,
              "#fdca26"
             ],
             [
              1,
              "#f0f921"
             ]
            ],
            "type": "heatmapgl"
           }
          ],
          "histogram": [
           {
            "marker": {
             "pattern": {
              "fillmode": "overlay",
              "size": 10,
              "solidity": 0.2
             }
            },
            "type": "histogram"
           }
          ],
          "histogram2d": [
           {
            "colorbar": {
             "outlinewidth": 0,
             "ticks": ""
            },
            "colorscale": [
             [
              0,
              "#0d0887"
             ],
             [
              0.1111111111111111,
              "#46039f"
             ],
             [
              0.2222222222222222,
              "#7201a8"
             ],
             [
              0.3333333333333333,
              "#9c179e"
             ],
             [
              0.4444444444444444,
              "#bd3786"
             ],
             [
              0.5555555555555556,
              "#d8576b"
             ],
             [
              0.6666666666666666,
              "#ed7953"
             ],
             [
              0.7777777777777778,
              "#fb9f3a"
             ],
             [
              0.8888888888888888,
              "#fdca26"
             ],
             [
              1,
              "#f0f921"
             ]
            ],
            "type": "histogram2d"
           }
          ],
          "histogram2dcontour": [
           {
            "colorbar": {
             "outlinewidth": 0,
             "ticks": ""
            },
            "colorscale": [
             [
              0,
              "#0d0887"
             ],
             [
              0.1111111111111111,
              "#46039f"
             ],
             [
              0.2222222222222222,
              "#7201a8"
             ],
             [
              0.3333333333333333,
              "#9c179e"
             ],
             [
              0.4444444444444444,
              "#bd3786"
             ],
             [
              0.5555555555555556,
              "#d8576b"
             ],
             [
              0.6666666666666666,
              "#ed7953"
             ],
             [
              0.7777777777777778,
              "#fb9f3a"
             ],
             [
              0.8888888888888888,
              "#fdca26"
             ],
             [
              1,
              "#f0f921"
             ]
            ],
            "type": "histogram2dcontour"
           }
          ],
          "mesh3d": [
           {
            "colorbar": {
             "outlinewidth": 0,
             "ticks": ""
            },
            "type": "mesh3d"
           }
          ],
          "parcoords": [
           {
            "line": {
             "colorbar": {
              "outlinewidth": 0,
              "ticks": ""
             }
            },
            "type": "parcoords"
           }
          ],
          "pie": [
           {
            "automargin": true,
            "type": "pie"
           }
          ],
          "scatter": [
           {
            "fillpattern": {
             "fillmode": "overlay",
             "size": 10,
             "solidity": 0.2
            },
            "type": "scatter"
           }
          ],
          "scatter3d": [
           {
            "line": {
             "colorbar": {
              "outlinewidth": 0,
              "ticks": ""
             }
            },
            "marker": {
             "colorbar": {
              "outlinewidth": 0,
              "ticks": ""
             }
            },
            "type": "scatter3d"
           }
          ],
          "scattercarpet": [
           {
            "marker": {
             "colorbar": {
              "outlinewidth": 0,
              "ticks": ""
             }
            },
            "type": "scattercarpet"
           }
          ],
          "scattergeo": [
           {
            "marker": {
             "colorbar": {
              "outlinewidth": 0,
              "ticks": ""
             }
            },
            "type": "scattergeo"
           }
          ],
          "scattergl": [
           {
            "marker": {
             "colorbar": {
              "outlinewidth": 0,
              "ticks": ""
             }
            },
            "type": "scattergl"
           }
          ],
          "scattermapbox": [
           {
            "marker": {
             "colorbar": {
              "outlinewidth": 0,
              "ticks": ""
             }
            },
            "type": "scattermapbox"
           }
          ],
          "scatterpolar": [
           {
            "marker": {
             "colorbar": {
              "outlinewidth": 0,
              "ticks": ""
             }
            },
            "type": "scatterpolar"
           }
          ],
          "scatterpolargl": [
           {
            "marker": {
             "colorbar": {
              "outlinewidth": 0,
              "ticks": ""
             }
            },
            "type": "scatterpolargl"
           }
          ],
          "scatterternary": [
           {
            "marker": {
             "colorbar": {
              "outlinewidth": 0,
              "ticks": ""
             }
            },
            "type": "scatterternary"
           }
          ],
          "surface": [
           {
            "colorbar": {
             "outlinewidth": 0,
             "ticks": ""
            },
            "colorscale": [
             [
              0,
              "#0d0887"
             ],
             [
              0.1111111111111111,
              "#46039f"
             ],
             [
              0.2222222222222222,
              "#7201a8"
             ],
             [
              0.3333333333333333,
              "#9c179e"
             ],
             [
              0.4444444444444444,
              "#bd3786"
             ],
             [
              0.5555555555555556,
              "#d8576b"
             ],
             [
              0.6666666666666666,
              "#ed7953"
             ],
             [
              0.7777777777777778,
              "#fb9f3a"
             ],
             [
              0.8888888888888888,
              "#fdca26"
             ],
             [
              1,
              "#f0f921"
             ]
            ],
            "type": "surface"
           }
          ],
          "table": [
           {
            "cells": {
             "fill": {
              "color": "#EBF0F8"
             },
             "line": {
              "color": "white"
             }
            },
            "header": {
             "fill": {
              "color": "#C8D4E3"
             },
             "line": {
              "color": "white"
             }
            },
            "type": "table"
           }
          ]
         },
         "layout": {
          "annotationdefaults": {
           "arrowcolor": "#2a3f5f",
           "arrowhead": 0,
           "arrowwidth": 1
          },
          "autotypenumbers": "strict",
          "coloraxis": {
           "colorbar": {
            "outlinewidth": 0,
            "ticks": ""
           }
          },
          "colorscale": {
           "diverging": [
            [
             0,
             "#8e0152"
            ],
            [
             0.1,
             "#c51b7d"
            ],
            [
             0.2,
             "#de77ae"
            ],
            [
             0.3,
             "#f1b6da"
            ],
            [
             0.4,
             "#fde0ef"
            ],
            [
             0.5,
             "#f7f7f7"
            ],
            [
             0.6,
             "#e6f5d0"
            ],
            [
             0.7,
             "#b8e186"
            ],
            [
             0.8,
             "#7fbc41"
            ],
            [
             0.9,
             "#4d9221"
            ],
            [
             1,
             "#276419"
            ]
           ],
           "sequential": [
            [
             0,
             "#0d0887"
            ],
            [
             0.1111111111111111,
             "#46039f"
            ],
            [
             0.2222222222222222,
             "#7201a8"
            ],
            [
             0.3333333333333333,
             "#9c179e"
            ],
            [
             0.4444444444444444,
             "#bd3786"
            ],
            [
             0.5555555555555556,
             "#d8576b"
            ],
            [
             0.6666666666666666,
             "#ed7953"
            ],
            [
             0.7777777777777778,
             "#fb9f3a"
            ],
            [
             0.8888888888888888,
             "#fdca26"
            ],
            [
             1,
             "#f0f921"
            ]
           ],
           "sequentialminus": [
            [
             0,
             "#0d0887"
            ],
            [
             0.1111111111111111,
             "#46039f"
            ],
            [
             0.2222222222222222,
             "#7201a8"
            ],
            [
             0.3333333333333333,
             "#9c179e"
            ],
            [
             0.4444444444444444,
             "#bd3786"
            ],
            [
             0.5555555555555556,
             "#d8576b"
            ],
            [
             0.6666666666666666,
             "#ed7953"
            ],
            [
             0.7777777777777778,
             "#fb9f3a"
            ],
            [
             0.8888888888888888,
             "#fdca26"
            ],
            [
             1,
             "#f0f921"
            ]
           ]
          },
          "colorway": [
           "#636efa",
           "#EF553B",
           "#00cc96",
           "#ab63fa",
           "#FFA15A",
           "#19d3f3",
           "#FF6692",
           "#B6E880",
           "#FF97FF",
           "#FECB52"
          ],
          "font": {
           "color": "#2a3f5f"
          },
          "geo": {
           "bgcolor": "white",
           "lakecolor": "white",
           "landcolor": "#E5ECF6",
           "showlakes": true,
           "showland": true,
           "subunitcolor": "white"
          },
          "hoverlabel": {
           "align": "left"
          },
          "hovermode": "closest",
          "mapbox": {
           "style": "light"
          },
          "paper_bgcolor": "white",
          "plot_bgcolor": "#E5ECF6",
          "polar": {
           "angularaxis": {
            "gridcolor": "white",
            "linecolor": "white",
            "ticks": ""
           },
           "bgcolor": "#E5ECF6",
           "radialaxis": {
            "gridcolor": "white",
            "linecolor": "white",
            "ticks": ""
           }
          },
          "scene": {
           "xaxis": {
            "backgroundcolor": "#E5ECF6",
            "gridcolor": "white",
            "gridwidth": 2,
            "linecolor": "white",
            "showbackground": true,
            "ticks": "",
            "zerolinecolor": "white"
           },
           "yaxis": {
            "backgroundcolor": "#E5ECF6",
            "gridcolor": "white",
            "gridwidth": 2,
            "linecolor": "white",
            "showbackground": true,
            "ticks": "",
            "zerolinecolor": "white"
           },
           "zaxis": {
            "backgroundcolor": "#E5ECF6",
            "gridcolor": "white",
            "gridwidth": 2,
            "linecolor": "white",
            "showbackground": true,
            "ticks": "",
            "zerolinecolor": "white"
           }
          },
          "shapedefaults": {
           "line": {
            "color": "#2a3f5f"
           }
          },
          "ternary": {
           "aaxis": {
            "gridcolor": "white",
            "linecolor": "white",
            "ticks": ""
           },
           "baxis": {
            "gridcolor": "white",
            "linecolor": "white",
            "ticks": ""
           },
           "bgcolor": "#E5ECF6",
           "caxis": {
            "gridcolor": "white",
            "linecolor": "white",
            "ticks": ""
           }
          },
          "title": {
           "x": 0.05
          },
          "xaxis": {
           "automargin": true,
           "gridcolor": "white",
           "linecolor": "white",
           "ticks": "",
           "title": {
            "standoff": 15
           },
           "zerolinecolor": "white",
           "zerolinewidth": 2
          },
          "yaxis": {
           "automargin": true,
           "gridcolor": "white",
           "linecolor": "white",
           "ticks": "",
           "title": {
            "standoff": 15
           },
           "zerolinecolor": "white",
           "zerolinewidth": 2
          }
         }
        },
        "title": {
         "text": "GPU utilization per decompressor at different chunk sizes"
        },
        "width": 1000,
        "xaxis": {
         "anchor": "y",
         "domain": [
          0,
          0.98
         ],
         "title": {
          "text": "chunk_size"
         },
         "type": "log"
        },
        "xaxis2": {
         "anchor": "y2",
         "domain": [
          0,
          0.98
         ],
         "matches": "x",
         "showticklabels": false,
         "type": "log"
        },
        "xaxis3": {
         "anchor": "y3",
         "domain": [
          0,
          0.98
         ],
         "matches": "x",
         "showticklabels": false,
         "type": "log"
        },
        "xaxis4": {
         "anchor": "y4",
         "domain": [
          0,
          0.98
         ],
         "matches": "x",
         "showticklabels": false,
         "type": "log"
        },
        "xaxis5": {
         "anchor": "y5",
         "domain": [
          0,
          0.98
         ],
         "matches": "x",
         "showticklabels": false,
         "type": "log"
        },
        "xaxis6": {
         "anchor": "y6",
         "domain": [
          0,
          0.98
         ],
         "matches": "x",
         "showticklabels": false,
         "type": "log"
        },
        "yaxis": {
         "anchor": "x",
         "domain": [
          0,
          0.14166666666666666
         ],
         "title": {
          "text": "decompression_utilization"
         }
        },
        "yaxis2": {
         "anchor": "x2",
         "domain": [
          0.17166666666666666,
          0.31333333333333335
         ],
         "matches": "y",
         "title": {
          "text": "decompression_utilization"
         }
        },
        "yaxis3": {
         "anchor": "x3",
         "domain": [
          0.3433333333333333,
          0.485
         ],
         "matches": "y",
         "title": {
          "text": "decompression_utilization"
         }
        },
        "yaxis4": {
         "anchor": "x4",
         "domain": [
          0.515,
          0.6566666666666667
         ],
         "matches": "y",
         "title": {
          "text": "decompression_utilization"
         }
        },
        "yaxis5": {
         "anchor": "x5",
         "domain": [
          0.6866666666666666,
          0.8283333333333334
         ],
         "matches": "y",
         "title": {
          "text": "decompression_utilization"
         }
        },
        "yaxis6": {
         "anchor": "x6",
         "domain": [
          0.8583333333333333,
          1
         ],
         "matches": "y",
         "title": {
          "text": "decompression_utilization"
         }
        }
       }
      }
     },
     "metadata": {},
     "output_type": "display_data"
    }
   ],
   "source": [
    "fig_utilization_standard = px.line(\n",
    "    result_df,\n",
    "    title=f\"GPU utilization per decompressor at different chunk sizes\", \n",
    "    x=\"chunk_size\",\n",
    "    y=\"decompression_utilization\",\n",
    "    color=\"file\",\n",
    "    log_x=True,\n",
    "    markers=True,\n",
    "    #log_y=True,\n",
    "    facet_row=\"standard\",\n",
    "    # facet_col_spacing=0.05,\n",
    "    height=1000,\n",
    "    width=1000,\n",
    ")\n",
    "# fig_utilization_standard.update_xaxes(autorange=\"reversed\")\n",
    "\n",
    "\n",
    "fig_utilization_standard.show()"
   ]
  },
  {
   "cell_type": "code",
   "execution_count": 11,
   "metadata": {},
   "outputs": [
    {
     "data": {
      "application/vnd.plotly.v1+json": {
       "config": {
        "plotlyServerURL": "https://plot.ly"
       },
       "data": [
        {
         "hovertemplate": "standard=snappy<br>file=1gb_dickens<br>chunk_size=%{x}<br>compression_utilization=%{y}<extra></extra>",
         "legendgroup": "snappy",
         "line": {
          "color": "#636efa",
          "dash": "solid"
         },
         "marker": {
          "symbol": "circle"
         },
         "mode": "lines+markers",
         "name": "snappy",
         "orientation": "v",
         "showlegend": true,
         "type": "scatter",
         "x": [
          16384000,
          4096000,
          1024000,
          256000,
          64000,
          16000,
          1000
         ],
         "xaxis": "x9",
         "y": [
          1,
          3.7944029247549396,
          14.488014950759863,
          35.1622545180542,
          48.09527640270693,
          51.68407097433246,
          52.877961535873794
         ],
         "yaxis": "y9"
        },
        {
         "hovertemplate": "standard=snappy<br>file=1gb_mozilla<br>chunk_size=%{x}<br>compression_utilization=%{y}<extra></extra>",
         "legendgroup": "snappy",
         "line": {
          "color": "#636efa",
          "dash": "solid"
         },
         "marker": {
          "symbol": "circle"
         },
         "mode": "lines+markers",
         "name": "snappy",
         "orientation": "v",
         "showlegend": false,
         "type": "scatter",
         "x": [
          65536000,
          1024000,
          256000,
          64000,
          16000,
          4000,
          1000
         ],
         "xaxis": "x8",
         "y": [
          0.9500936394959245,
          12.347398121936221,
          34.22871849087903,
          47.47180274227182,
          51.14255023591397,
          52.403383712535046,
          52.75340287416077
         ],
         "yaxis": "y8"
        },
        {
         "hovertemplate": "standard=snappy<br>file=1gb_mr<br>chunk_size=%{x}<br>compression_utilization=%{y}<extra></extra>",
         "legendgroup": "snappy",
         "line": {
          "color": "#636efa",
          "dash": "solid"
         },
         "marker": {
          "symbol": "circle"
         },
         "mode": "lines+markers",
         "name": "snappy",
         "orientation": "v",
         "showlegend": false,
         "type": "scatter",
         "x": [
          16384000,
          4096000,
          1024000,
          256000,
          64000,
          16000,
          1000
         ],
         "xaxis": "x7",
         "y": [
          1,
          3.7430762831480546,
          13.084871110292713,
          32.69936840457193,
          43.060307432477366,
          45.39193789425755,
          52.75549384381672
         ],
         "yaxis": "y7"
        },
        {
         "hovertemplate": "standard=snappy<br>file=1gb_nci<br>chunk_size=%{x}<br>compression_utilization=%{y}<extra></extra>",
         "legendgroup": "snappy",
         "line": {
          "color": "#636efa",
          "dash": "solid"
         },
         "marker": {
          "symbol": "circle"
         },
         "mode": "lines+markers",
         "name": "snappy",
         "orientation": "v",
         "showlegend": false,
         "type": "scatter",
         "x": [
          65536000,
          16384000,
          4096000,
          16000
         ],
         "xaxis": "x6",
         "y": [
          1,
          1,
          3.755467995672694,
          51.37526698228673
         ],
         "yaxis": "y6"
        },
        {
         "hovertemplate": "standard=snappy<br>file=1gb_samba<br>chunk_size=%{x}<br>compression_utilization=%{y}<extra></extra>",
         "legendgroup": "snappy",
         "line": {
          "color": "#636efa",
          "dash": "solid"
         },
         "marker": {
          "symbol": "circle"
         },
         "mode": "lines+markers",
         "name": "snappy",
         "orientation": "v",
         "showlegend": false,
         "type": "scatter",
         "x": [
          1024000,
          1000
         ],
         "xaxis": "x5",
         "y": [
          11.353009003920459,
          52.75492133906611
         ],
         "yaxis": "y5"
        },
        {
         "hovertemplate": "standard=snappy<br>file=1gb_sao<br>chunk_size=%{x}<br>compression_utilization=%{y}<extra></extra>",
         "legendgroup": "snappy",
         "line": {
          "color": "#636efa",
          "dash": "solid"
         },
         "marker": {
          "symbol": "circle"
         },
         "mode": "lines+markers",
         "name": "snappy",
         "orientation": "v",
         "showlegend": false,
         "type": "scatter",
         "x": [
          65536000,
          16384000,
          4096000,
          1024000,
          1000
         ],
         "xaxis": "x4",
         "y": [
          1.0575814168804223,
          1,
          3.7920971102081245,
          14.202867244720322,
          52.841071467506026
         ],
         "yaxis": "y4"
        },
        {
         "hovertemplate": "standard=snappy<br>file=1gb_silesia.zip<br>chunk_size=%{x}<br>compression_utilization=%{y}<extra></extra>",
         "legendgroup": "snappy",
         "line": {
          "color": "#636efa",
          "dash": "solid"
         },
         "marker": {
          "symbol": "circle"
         },
         "mode": "lines+markers",
         "name": "snappy",
         "orientation": "v",
         "showlegend": false,
         "type": "scatter",
         "x": [
          65536000,
          16384000,
          4096000,
          1024000,
          256000,
          1000
         ],
         "xaxis": "x3",
         "y": [
          1,
          1,
          3.7083923942648207,
          13.40871578775435,
          30.486401371433487,
          52.77627094356525
         ],
         "yaxis": "y3"
        },
        {
         "hovertemplate": "standard=snappy<br>file=1gb_xml<br>chunk_size=%{x}<br>compression_utilization=%{y}<extra></extra>",
         "legendgroup": "snappy",
         "line": {
          "color": "#636efa",
          "dash": "solid"
         },
         "marker": {
          "symbol": "circle"
         },
         "mode": "lines+markers",
         "name": "snappy",
         "orientation": "v",
         "showlegend": false,
         "type": "scatter",
         "x": [
          65536000,
          16384000,
          4096000,
          1024000
         ],
         "xaxis": "x2",
         "y": [
          1,
          1,
          3.615541099706794,
          12.040869258212194
         ],
         "yaxis": "y2"
        },
        {
         "hovertemplate": "standard=snappy<br>file=1gb_lineitem.parquet<br>chunk_size=%{x}<br>compression_utilization=%{y}<extra></extra>",
         "legendgroup": "snappy",
         "line": {
          "color": "#636efa",
          "dash": "solid"
         },
         "marker": {
          "symbol": "circle"
         },
         "mode": "lines+markers",
         "name": "snappy",
         "orientation": "v",
         "showlegend": false,
         "type": "scatter",
         "x": [
          1000
         ],
         "xaxis": "x",
         "y": [
          49.776718759074214
         ],
         "yaxis": "y"
        },
        {
         "hovertemplate": "standard=zstd<br>file=1gb_dickens<br>chunk_size=%{x}<br>compression_utilization=%{y}<extra></extra>",
         "legendgroup": "zstd",
         "line": {
          "color": "#EF553B",
          "dash": "solid"
         },
         "marker": {
          "symbol": "circle"
         },
         "mode": "lines+markers",
         "name": "zstd",
         "orientation": "v",
         "showlegend": true,
         "type": "scatter",
         "x": [
          1024000,
          64000,
          16000,
          4000,
          1000
         ],
         "xaxis": "x9",
         "y": [
          14.149746155807014,
          40.1972306061468,
          43.490915159524036,
          43.90520431716525,
          43.084885785006136
         ],
         "yaxis": "y9"
        },
        {
         "hovertemplate": "standard=zstd<br>file=1gb_mozilla<br>chunk_size=%{x}<br>compression_utilization=%{y}<extra></extra>",
         "legendgroup": "zstd",
         "line": {
          "color": "#EF553B",
          "dash": "solid"
         },
         "marker": {
          "symbol": "circle"
         },
         "mode": "lines+markers",
         "name": "zstd",
         "orientation": "v",
         "showlegend": false,
         "type": "scatter",
         "x": [
          1024000,
          256000,
          64000,
          4000,
          1000
         ],
         "xaxis": "x8",
         "y": [
          12.288542229715754,
          25.323872156180744,
          37.378039824938405,
          40.557680931006345,
          42.01092238566227
         ],
         "yaxis": "y8"
        },
        {
         "hovertemplate": "standard=zstd<br>file=1gb_mr<br>chunk_size=%{x}<br>compression_utilization=%{y}<extra></extra>",
         "legendgroup": "zstd",
         "line": {
          "color": "#EF553B",
          "dash": "solid"
         },
         "marker": {
          "symbol": "circle"
         },
         "mode": "lines+markers",
         "name": "zstd",
         "orientation": "v",
         "showlegend": false,
         "type": "scatter",
         "x": [
          1024000,
          256000,
          64000,
          16000,
          1000
         ],
         "xaxis": "x7",
         "y": [
          13.82375913492318,
          28.610995785204334,
          39.65759987620914,
          42.447153877625894,
          41.919880123038375
         ],
         "yaxis": "y7"
        },
        {
         "hovertemplate": "standard=zstd<br>file=1gb_nci<br>chunk_size=%{x}<br>compression_utilization=%{y}<extra></extra>",
         "legendgroup": "zstd",
         "line": {
          "color": "#EF553B",
          "dash": "solid"
         },
         "marker": {
          "symbol": "circle"
         },
         "mode": "lines+markers",
         "name": "zstd",
         "orientation": "v",
         "showlegend": false,
         "type": "scatter",
         "x": [
          4096000,
          1024000,
          256000,
          4000,
          1000
         ],
         "xaxis": "x6",
         "y": [
          3.76547263430366,
          13.416456264937784,
          27.38956535634108,
          43.13590454946949,
          42.56923500464943
         ],
         "yaxis": "y6"
        },
        {
         "hovertemplate": "standard=zstd<br>file=1gb_samba<br>chunk_size=%{x}<br>compression_utilization=%{y}<extra></extra>",
         "legendgroup": "zstd",
         "line": {
          "color": "#EF553B",
          "dash": "solid"
         },
         "marker": {
          "symbol": "circle"
         },
         "mode": "lines+markers",
         "name": "zstd",
         "orientation": "v",
         "showlegend": false,
         "type": "scatter",
         "x": [
          1024000,
          256000,
          64000
         ],
         "xaxis": "x5",
         "y": [
          11.762298003701085,
          24.97530793427768,
          37.20870903120942
         ],
         "yaxis": "y5"
        },
        {
         "hovertemplate": "standard=zstd<br>file=1gb_sao<br>chunk_size=%{x}<br>compression_utilization=%{y}<extra></extra>",
         "legendgroup": "zstd",
         "line": {
          "color": "#EF553B",
          "dash": "solid"
         },
         "marker": {
          "symbol": "circle"
         },
         "mode": "lines+markers",
         "name": "zstd",
         "orientation": "v",
         "showlegend": false,
         "type": "scatter",
         "x": [
          4096000,
          1024000,
          256000,
          64000,
          1000
         ],
         "xaxis": "x4",
         "y": [
          3.795810596864645,
          13.92767194318725,
          30.076655111914206,
          40.42290942704324,
          41.686090584324134
         ],
         "yaxis": "y4"
        },
        {
         "hovertemplate": "standard=zstd<br>file=1gb_silesia.zip<br>chunk_size=%{x}<br>compression_utilization=%{y}<extra></extra>",
         "legendgroup": "zstd",
         "line": {
          "color": "#EF553B",
          "dash": "solid"
         },
         "marker": {
          "symbol": "circle"
         },
         "mode": "lines+markers",
         "name": "zstd",
         "orientation": "v",
         "showlegend": false,
         "type": "scatter",
         "x": [
          1000
         ],
         "xaxis": "x3",
         "y": [
          41.15664272863021
         ],
         "yaxis": "y3"
        },
        {
         "hovertemplate": "standard=zstd<br>file=1gb_xml<br>chunk_size=%{x}<br>compression_utilization=%{y}<extra></extra>",
         "legendgroup": "zstd",
         "line": {
          "color": "#EF553B",
          "dash": "solid"
         },
         "marker": {
          "symbol": "circle"
         },
         "mode": "lines+markers",
         "name": "zstd",
         "orientation": "v",
         "showlegend": false,
         "type": "scatter",
         "x": [
          4096000,
          1024000,
          4000
         ],
         "xaxis": "x2",
         "y": [
          3.617287115242306,
          10.810994967846696,
          43.49324527822809
         ],
         "yaxis": "y2"
        },
        {
         "hovertemplate": "standard=zstd<br>file=1gb_lineitem.parquet<br>chunk_size=%{x}<br>compression_utilization=%{y}<extra></extra>",
         "legendgroup": "zstd",
         "line": {
          "color": "#EF553B",
          "dash": "solid"
         },
         "marker": {
          "symbol": "circle"
         },
         "mode": "lines+markers",
         "name": "zstd",
         "orientation": "v",
         "showlegend": false,
         "type": "scatter",
         "x": [
          1024000
         ],
         "xaxis": "x",
         "y": [
          13.43590841589121
         ],
         "yaxis": "y"
        },
        {
         "hovertemplate": "standard=gdeflate<br>file=1gb_dickens<br>chunk_size=%{x}<br>compression_utilization=%{y}<extra></extra>",
         "legendgroup": "gdeflate",
         "line": {
          "color": "#00cc96",
          "dash": "solid"
         },
         "marker": {
          "symbol": "circle"
         },
         "mode": "lines+markers",
         "name": "gdeflate",
         "orientation": "v",
         "showlegend": true,
         "type": "scatter",
         "x": [
          4000
         ],
         "xaxis": "x9",
         "y": [
          44.15334713492933
         ],
         "yaxis": "y9"
        },
        {
         "hovertemplate": "standard=gdeflate<br>file=1gb_mozilla<br>chunk_size=%{x}<br>compression_utilization=%{y}<extra></extra>",
         "legendgroup": "gdeflate",
         "line": {
          "color": "#00cc96",
          "dash": "solid"
         },
         "marker": {
          "symbol": "circle"
         },
         "mode": "lines+markers",
         "name": "gdeflate",
         "orientation": "v",
         "showlegend": false,
         "type": "scatter",
         "x": [
          4000
         ],
         "xaxis": "x8",
         "y": [
          41.62486666658184
         ],
         "yaxis": "y8"
        },
        {
         "hovertemplate": "standard=gdeflate<br>file=1gb_nci<br>chunk_size=%{x}<br>compression_utilization=%{y}<extra></extra>",
         "legendgroup": "gdeflate",
         "line": {
          "color": "#00cc96",
          "dash": "solid"
         },
         "marker": {
          "symbol": "circle"
         },
         "mode": "lines+markers",
         "name": "gdeflate",
         "orientation": "v",
         "showlegend": false,
         "type": "scatter",
         "x": [
          4000
         ],
         "xaxis": "x6",
         "y": [
          42.27821654245448
         ],
         "yaxis": "y6"
        },
        {
         "hovertemplate": "standard=gdeflate<br>file=1gb_samba<br>chunk_size=%{x}<br>compression_utilization=%{y}<extra></extra>",
         "legendgroup": "gdeflate",
         "line": {
          "color": "#00cc96",
          "dash": "solid"
         },
         "marker": {
          "symbol": "circle"
         },
         "mode": "lines+markers",
         "name": "gdeflate",
         "orientation": "v",
         "showlegend": false,
         "type": "scatter",
         "x": [
          16000,
          4000,
          1000
         ],
         "xaxis": "x5",
         "y": [
          42.82260047997609,
          43.076990366829634,
          40.38249648275489
         ],
         "yaxis": "y5"
        },
        {
         "hovertemplate": "standard=gdeflate<br>file=1gb_sao<br>chunk_size=%{x}<br>compression_utilization=%{y}<extra></extra>",
         "legendgroup": "gdeflate",
         "line": {
          "color": "#00cc96",
          "dash": "solid"
         },
         "marker": {
          "symbol": "circle"
         },
         "mode": "lines+markers",
         "name": "gdeflate",
         "orientation": "v",
         "showlegend": false,
         "type": "scatter",
         "x": [
          16000,
          1000
         ],
         "xaxis": "x4",
         "y": [
          42.74709210868745,
          40.23341060332334
         ],
         "yaxis": "y4"
        },
        {
         "hovertemplate": "standard=gdeflate<br>file=1gb_silesia.zip<br>chunk_size=%{x}<br>compression_utilization=%{y}<extra></extra>",
         "legendgroup": "gdeflate",
         "line": {
          "color": "#00cc96",
          "dash": "solid"
         },
         "marker": {
          "symbol": "circle"
         },
         "mode": "lines+markers",
         "name": "gdeflate",
         "orientation": "v",
         "showlegend": false,
         "type": "scatter",
         "x": [
          1000
         ],
         "xaxis": "x3",
         "y": [
          41.22583375853222
         ],
         "yaxis": "y3"
        },
        {
         "hovertemplate": "standard=gdeflate<br>file=1gb_xml<br>chunk_size=%{x}<br>compression_utilization=%{y}<extra></extra>",
         "legendgroup": "gdeflate",
         "line": {
          "color": "#00cc96",
          "dash": "solid"
         },
         "marker": {
          "symbol": "circle"
         },
         "mode": "lines+markers",
         "name": "gdeflate",
         "orientation": "v",
         "showlegend": false,
         "type": "scatter",
         "x": [
          4000,
          1000
         ],
         "xaxis": "x2",
         "y": [
          39.18213817781216,
          40.45917110054
         ],
         "yaxis": "y2"
        },
        {
         "hovertemplate": "standard=lz4<br>file=1gb_dickens<br>chunk_size=%{x}<br>compression_utilization=%{y}<extra></extra>",
         "legendgroup": "lz4",
         "line": {
          "color": "#ab63fa",
          "dash": "solid"
         },
         "marker": {
          "symbol": "circle"
         },
         "mode": "lines+markers",
         "name": "lz4",
         "orientation": "v",
         "showlegend": true,
         "type": "scatter",
         "x": [
          4096000,
          1024000,
          256000,
          16000,
          4000,
          1000
         ],
         "xaxis": "x9",
         "y": [
          1.9294047807638082,
          6.5421999023829525,
          29.30087683222655,
          47.79393934186626,
          49.537857235790696,
          49.78587406307338
         ],
         "yaxis": "y9"
        },
        {
         "hovertemplate": "standard=lz4<br>file=1gb_mozilla<br>chunk_size=%{x}<br>compression_utilization=%{y}<extra></extra>",
         "legendgroup": "lz4",
         "line": {
          "color": "#ab63fa",
          "dash": "solid"
         },
         "marker": {
          "symbol": "circle"
         },
         "mode": "lines+markers",
         "name": "lz4",
         "orientation": "v",
         "showlegend": false,
         "type": "scatter",
         "x": [
          4096000,
          16000,
          4000,
          1000
         ],
         "xaxis": "x8",
         "y": [
          1.7912529672928197,
          47.370840289085535,
          49.017656493109875,
          48.96251490208618
         ],
         "yaxis": "y8"
        },
        {
         "hovertemplate": "standard=lz4<br>file=1gb_mr<br>chunk_size=%{x}<br>compression_utilization=%{y}<extra></extra>",
         "legendgroup": "lz4",
         "line": {
          "color": "#ab63fa",
          "dash": "solid"
         },
         "marker": {
          "symbol": "circle"
         },
         "mode": "lines+markers",
         "name": "lz4",
         "orientation": "v",
         "showlegend": false,
         "type": "scatter",
         "x": [
          4096000,
          1024000,
          256000,
          4000,
          1000
         ],
         "xaxis": "x7",
         "y": [
          1.9317199071076576,
          6.614425123311046,
          28.119478307124485,
          48.442321126917314,
          48.54389623614094
         ],
         "yaxis": "y7"
        },
        {
         "hovertemplate": "standard=lz4<br>file=1gb_nci<br>chunk_size=%{x}<br>compression_utilization=%{y}<extra></extra>",
         "legendgroup": "lz4",
         "line": {
          "color": "#ab63fa",
          "dash": "solid"
         },
         "marker": {
          "symbol": "circle"
         },
         "mode": "lines+markers",
         "name": "lz4",
         "orientation": "v",
         "showlegend": false,
         "type": "scatter",
         "x": [
          4096000,
          1024000,
          256000,
          64000,
          16000,
          4000,
          1000
         ],
         "xaxis": "x6",
         "y": [
          1.8840743518816674,
          6.308661156309864,
          26.24375859614726,
          38.0324075151498,
          47.25903789174513,
          49.262061573911495,
          49.66429648015237
         ],
         "yaxis": "y6"
        },
        {
         "hovertemplate": "standard=lz4<br>file=1gb_samba<br>chunk_size=%{x}<br>compression_utilization=%{y}<extra></extra>",
         "legendgroup": "lz4",
         "line": {
          "color": "#ab63fa",
          "dash": "solid"
         },
         "marker": {
          "symbol": "circle"
         },
         "mode": "lines+markers",
         "name": "lz4",
         "orientation": "v",
         "showlegend": false,
         "type": "scatter",
         "x": [
          4096000,
          64000
         ],
         "xaxis": "x5",
         "y": [
          2.016847078921148,
          39.356400613683206
         ],
         "yaxis": "y5"
        },
        {
         "hovertemplate": "standard=lz4<br>file=1gb_sao<br>chunk_size=%{x}<br>compression_utilization=%{y}<extra></extra>",
         "legendgroup": "lz4",
         "line": {
          "color": "#ab63fa",
          "dash": "solid"
         },
         "marker": {
          "symbol": "circle"
         },
         "mode": "lines+markers",
         "name": "lz4",
         "orientation": "v",
         "showlegend": false,
         "type": "scatter",
         "x": [
          4096000,
          1024000,
          256000,
          64000,
          1000
         ],
         "xaxis": "x4",
         "y": [
          1.8413626256454019,
          6.830491223558001,
          29.28445400425487,
          42.981652643640686,
          49.72638989267181
         ],
         "yaxis": "y4"
        },
        {
         "hovertemplate": "standard=lz4<br>file=1gb_silesia.zip<br>chunk_size=%{x}<br>compression_utilization=%{y}<extra></extra>",
         "legendgroup": "lz4",
         "line": {
          "color": "#ab63fa",
          "dash": "solid"
         },
         "marker": {
          "symbol": "circle"
         },
         "mode": "lines+markers",
         "name": "lz4",
         "orientation": "v",
         "showlegend": false,
         "type": "scatter",
         "x": [
          1024000,
          256000,
          64000,
          16000,
          4000,
          1000
         ],
         "xaxis": "x3",
         "y": [
          6.78850149893908,
          28.65382843619249,
          45.40405835014273,
          48.872713736852475,
          46.94972193842304,
          49.74889798627824
         ],
         "yaxis": "y3"
        },
        {
         "hovertemplate": "standard=lz4<br>file=1gb_xml<br>chunk_size=%{x}<br>compression_utilization=%{y}<extra></extra>",
         "legendgroup": "lz4",
         "line": {
          "color": "#ab63fa",
          "dash": "solid"
         },
         "marker": {
          "symbol": "circle"
         },
         "mode": "lines+markers",
         "name": "lz4",
         "orientation": "v",
         "showlegend": false,
         "type": "scatter",
         "x": [
          4096000,
          1024000,
          1000
         ],
         "xaxis": "x2",
         "y": [
          1.837518315726925,
          5.317393612098857,
          49.74942597075381
         ],
         "yaxis": "y2"
        },
        {
         "hovertemplate": "standard=lz4<br>file=1gb_lineitem.parquet<br>chunk_size=%{x}<br>compression_utilization=%{y}<extra></extra>",
         "legendgroup": "lz4",
         "line": {
          "color": "#ab63fa",
          "dash": "solid"
         },
         "marker": {
          "symbol": "circle"
         },
         "mode": "lines+markers",
         "name": "lz4",
         "orientation": "v",
         "showlegend": false,
         "type": "scatter",
         "x": [
          256000,
          64000,
          1000
         ],
         "xaxis": "x",
         "y": [
          23.422631597008696,
          42.097889634985755,
          49.890183961701425
         ],
         "yaxis": "y"
        },
        {
         "hovertemplate": "standard=cascaded<br>file=1gb_dickens<br>chunk_size=%{x}<br>compression_utilization=%{y}<extra></extra>",
         "legendgroup": "cascaded",
         "line": {
          "color": "#FFA15A",
          "dash": "solid"
         },
         "marker": {
          "symbol": "circle"
         },
         "mode": "lines+markers",
         "name": "cascaded",
         "orientation": "v",
         "showlegend": true,
         "type": "scatter",
         "x": [
          65536000,
          16384000,
          4096000,
          1024000,
          256000,
          64000,
          16000,
          4000,
          1000
         ],
         "xaxis": "x9",
         "y": [
          1,
          1.9851270691447607,
          6.687857549544594,
          27.932367546023933,
          42.26851379987036,
          47.84063875405566,
          49.19514097678787,
          49.638835588134086,
          48.81958527217049
         ],
         "yaxis": "y9"
        },
        {
         "hovertemplate": "standard=cascaded<br>file=1gb_mozilla<br>chunk_size=%{x}<br>compression_utilization=%{y}<extra></extra>",
         "legendgroup": "cascaded",
         "line": {
          "color": "#FFA15A",
          "dash": "solid"
         },
         "marker": {
          "symbol": "circle"
         },
         "mode": "lines+markers",
         "name": "cascaded",
         "orientation": "v",
         "showlegend": false,
         "type": "scatter",
         "x": [
          1024000,
          64000
         ],
         "xaxis": "x8",
         "y": [
          25.52153472990273,
          47.24245585544484
         ],
         "yaxis": "y8"
        },
        {
         "hovertemplate": "standard=cascaded<br>file=1gb_mr<br>chunk_size=%{x}<br>compression_utilization=%{y}<extra></extra>",
         "legendgroup": "cascaded",
         "line": {
          "color": "#FFA15A",
          "dash": "solid"
         },
         "marker": {
          "symbol": "circle"
         },
         "mode": "lines+markers",
         "name": "cascaded",
         "orientation": "v",
         "showlegend": false,
         "type": "scatter",
         "x": [
          65536000,
          16384000,
          4096000,
          1024000,
          4000
         ],
         "xaxis": "x7",
         "y": [
          1,
          1.989357385445821,
          6.747391689514011,
          27.275285874208407,
          49.59230171218629
         ],
         "yaxis": "y7"
        },
        {
         "hovertemplate": "standard=cascaded<br>file=1gb_nci<br>chunk_size=%{x}<br>compression_utilization=%{y}<extra></extra>",
         "legendgroup": "cascaded",
         "line": {
          "color": "#FFA15A",
          "dash": "solid"
         },
         "marker": {
          "symbol": "circle"
         },
         "mode": "lines+markers",
         "name": "cascaded",
         "orientation": "v",
         "showlegend": false,
         "type": "scatter",
         "x": [
          65536000,
          16384000,
          4096000,
          1024000,
          256000,
          64000,
          16000,
          1000
         ],
         "xaxis": "x6",
         "y": [
          1,
          1.9880982726307286,
          6.685845753869151,
          27.7460981003953,
          41.4012463377326,
          47.44201504162852,
          49.240261918028466,
          48.78203530213218
         ],
         "yaxis": "y6"
        },
        {
         "hovertemplate": "standard=cascaded<br>file=1gb_samba<br>chunk_size=%{x}<br>compression_utilization=%{y}<extra></extra>",
         "legendgroup": "cascaded",
         "line": {
          "color": "#FFA15A",
          "dash": "solid"
         },
         "marker": {
          "symbol": "circle"
         },
         "mode": "lines+markers",
         "name": "cascaded",
         "orientation": "v",
         "showlegend": false,
         "type": "scatter",
         "x": [
          4096000,
          1024000,
          256000,
          64000,
          16000,
          4000
         ],
         "xaxis": "x5",
         "y": [
          6.4711747524218115,
          26.64090070160944,
          40.36219743582785,
          47.301503841280436,
          49.0041948272853,
          49.808381837511725
         ],
         "yaxis": "y5"
        },
        {
         "hovertemplate": "standard=cascaded<br>file=1gb_sao<br>chunk_size=%{x}<br>compression_utilization=%{y}<extra></extra>",
         "legendgroup": "cascaded",
         "line": {
          "color": "#FFA15A",
          "dash": "solid"
         },
         "marker": {
          "symbol": "circle"
         },
         "mode": "lines+markers",
         "name": "cascaded",
         "orientation": "v",
         "showlegend": false,
         "type": "scatter",
         "x": [
          65536000,
          16384000,
          1024000,
          256000,
          64000,
          16000,
          4000,
          1000
         ],
         "xaxis": "x4",
         "y": [
          1,
          1.9870706464383154,
          27.891882382234357,
          42.27470417665135,
          47.788113734153626,
          49.24187810451714,
          47.25575363392096,
          48.78855960163432
         ],
         "yaxis": "y4"
        },
        {
         "hovertemplate": "standard=cascaded<br>file=1gb_silesia.zip<br>chunk_size=%{x}<br>compression_utilization=%{y}<extra></extra>",
         "legendgroup": "cascaded",
         "line": {
          "color": "#FFA15A",
          "dash": "solid"
         },
         "marker": {
          "symbol": "circle"
         },
         "mode": "lines+markers",
         "name": "cascaded",
         "orientation": "v",
         "showlegend": false,
         "type": "scatter",
         "x": [
          4096000,
          1024000,
          256000,
          64000,
          1000
         ],
         "xaxis": "x3",
         "y": [
          6.691480420829803,
          27.874201564841563,
          42.329478213556335,
          47.86310873881857,
          48.72355152029252
         ],
         "yaxis": "y3"
        },
        {
         "hovertemplate": "standard=cascaded<br>file=1gb_xml<br>chunk_size=%{x}<br>compression_utilization=%{y}<extra></extra>",
         "legendgroup": "cascaded",
         "line": {
          "color": "#FFA15A",
          "dash": "solid"
         },
         "marker": {
          "symbol": "circle"
         },
         "mode": "lines+markers",
         "name": "cascaded",
         "orientation": "v",
         "showlegend": false,
         "type": "scatter",
         "x": [
          65536000,
          16384000,
          4096000,
          1024000,
          256000,
          64000,
          16000,
          4000,
          1000
         ],
         "xaxis": "x2",
         "y": [
          1,
          1.9872533314327354,
          6.688853626141793,
          27.75306126968391,
          41.78704789828076,
          47.669482507998154,
          49.21449098186062,
          49.709815624433574,
          46.5154393575877
         ],
         "yaxis": "y2"
        },
        {
         "hovertemplate": "standard=cascaded<br>file=1gb_lineitem.parquet<br>chunk_size=%{x}<br>compression_utilization=%{y}<extra></extra>",
         "legendgroup": "cascaded",
         "line": {
          "color": "#FFA15A",
          "dash": "solid"
         },
         "marker": {
          "symbol": "circle"
         },
         "mode": "lines+markers",
         "name": "cascaded",
         "orientation": "v",
         "showlegend": false,
         "type": "scatter",
         "x": [
          65536000,
          16384000,
          4096000,
          1024000
         ],
         "xaxis": "x",
         "y": [
          1.0387117793490843,
          1.9811830652262326,
          6.735498075615787,
          26.49609059785076
         ],
         "yaxis": "y"
        },
        {
         "hovertemplate": "standard=bitcomp<br>file=1gb_dickens<br>chunk_size=%{x}<br>compression_utilization=%{y}<extra></extra>",
         "legendgroup": "bitcomp",
         "line": {
          "color": "#19d3f3",
          "dash": "solid"
         },
         "marker": {
          "symbol": "circle"
         },
         "mode": "lines+markers",
         "name": "bitcomp",
         "orientation": "v",
         "showlegend": true,
         "type": "scatter",
         "x": [
          65536000,
          16384000,
          1024000,
          64000,
          16000,
          4000,
          1000
         ],
         "xaxis": "x9",
         "y": [
          1.4241170106340921,
          3.979718308179266,
          29.595432816944566,
          35.9542811552283,
          36.37574049997188,
          35.38335567226758,
          35.740219583096454
         ],
         "yaxis": "y9"
        },
        {
         "hovertemplate": "standard=bitcomp<br>file=1gb_mozilla<br>chunk_size=%{x}<br>compression_utilization=%{y}<extra></extra>",
         "legendgroup": "bitcomp",
         "line": {
          "color": "#19d3f3",
          "dash": "solid"
         },
         "marker": {
          "symbol": "circle"
         },
         "mode": "lines+markers",
         "name": "bitcomp",
         "orientation": "v",
         "showlegend": false,
         "type": "scatter",
         "x": [
          16384000,
          1024000,
          64000,
          16000,
          4000
         ],
         "xaxis": "x8",
         "y": [
          3.8920572097671062,
          27.89407272021957,
          36.04340319539825,
          36.18017656594393,
          35.29289829927347
         ],
         "yaxis": "y8"
        },
        {
         "hovertemplate": "standard=bitcomp<br>file=1gb_mr<br>chunk_size=%{x}<br>compression_utilization=%{y}<extra></extra>",
         "legendgroup": "bitcomp",
         "line": {
          "color": "#19d3f3",
          "dash": "solid"
         },
         "marker": {
          "symbol": "circle"
         },
         "mode": "lines+markers",
         "name": "bitcomp",
         "orientation": "v",
         "showlegend": false,
         "type": "scatter",
         "x": [
          65536000,
          16384000,
          4096000,
          1024000,
          256000,
          4000,
          1000
         ],
         "xaxis": "x7",
         "y": [
          1,
          3.971637460532519,
          12.353109726449894,
          29.02013963577792,
          34.32811065443791,
          35.519239114259584,
          35.86338175803286
         ],
         "yaxis": "y7"
        },
        {
         "hovertemplate": "standard=bitcomp<br>file=1gb_nci<br>chunk_size=%{x}<br>compression_utilization=%{y}<extra></extra>",
         "legendgroup": "bitcomp",
         "line": {
          "color": "#19d3f3",
          "dash": "solid"
         },
         "marker": {
          "symbol": "circle"
         },
         "mode": "lines+markers",
         "name": "bitcomp",
         "orientation": "v",
         "showlegend": false,
         "type": "scatter",
         "x": [
          65536000,
          16384000,
          4096000,
          1024000,
          256000,
          4000
         ],
         "xaxis": "x6",
         "y": [
          1,
          3.974069504943242,
          12.504936915556362,
          28.609513058741086,
          34.14329687680505,
          35.71432846031514
         ],
         "yaxis": "y6"
        },
        {
         "hovertemplate": "standard=bitcomp<br>file=1gb_samba<br>chunk_size=%{x}<br>compression_utilization=%{y}<extra></extra>",
         "legendgroup": "bitcomp",
         "line": {
          "color": "#19d3f3",
          "dash": "solid"
         },
         "marker": {
          "symbol": "circle"
         },
         "mode": "lines+markers",
         "name": "bitcomp",
         "orientation": "v",
         "showlegend": false,
         "type": "scatter",
         "x": [
          65536000,
          16384000,
          1024000,
          256000,
          16000,
          4000
         ],
         "xaxis": "x5",
         "y": [
          1,
          3.9411635500563515,
          28.196055075591183,
          33.67940782512171,
          36.24552962050191,
          35.60365488394595
         ],
         "yaxis": "y5"
        },
        {
         "hovertemplate": "standard=bitcomp<br>file=1gb_sao<br>chunk_size=%{x}<br>compression_utilization=%{y}<extra></extra>",
         "legendgroup": "bitcomp",
         "line": {
          "color": "#19d3f3",
          "dash": "solid"
         },
         "marker": {
          "symbol": "circle"
         },
         "mode": "lines+markers",
         "name": "bitcomp",
         "orientation": "v",
         "showlegend": false,
         "type": "scatter",
         "x": [
          16384000,
          4096000,
          1024000,
          256000,
          64000
         ],
         "xaxis": "x4",
         "y": [
          3.9446644738499654,
          11.767701897952882,
          28.554973539643196,
          34.40716906003205,
          35.5274292878165
         ],
         "yaxis": "y4"
        },
        {
         "hovertemplate": "standard=bitcomp<br>file=1gb_silesia.zip<br>chunk_size=%{x}<br>compression_utilization=%{y}<extra></extra>",
         "legendgroup": "bitcomp",
         "line": {
          "color": "#19d3f3",
          "dash": "solid"
         },
         "marker": {
          "symbol": "circle"
         },
         "mode": "lines+markers",
         "name": "bitcomp",
         "orientation": "v",
         "showlegend": false,
         "type": "scatter",
         "x": [
          16384000,
          4096000,
          1024000,
          256000,
          64000,
          1000
         ],
         "xaxis": "x3",
         "y": [
          3.953027219397796,
          11.710751058573306,
          28.605362287662654,
          33.93207237857854,
          35.19132484303164,
          35.802371537136395
         ],
         "yaxis": "y3"
        },
        {
         "hovertemplate": "standard=bitcomp<br>file=1gb_xml<br>chunk_size=%{x}<br>compression_utilization=%{y}<extra></extra>",
         "legendgroup": "bitcomp",
         "line": {
          "color": "#19d3f3",
          "dash": "solid"
         },
         "marker": {
          "symbol": "circle"
         },
         "mode": "lines+markers",
         "name": "bitcomp",
         "orientation": "v",
         "showlegend": false,
         "type": "scatter",
         "x": [
          65536000,
          16384000,
          4096000,
          1024000,
          256000,
          64000,
          16000,
          4000
         ],
         "xaxis": "x2",
         "y": [
          1,
          3.9653827308996057,
          12.238634402645435,
          29.40728327963447,
          34.46424282122782,
          35.84753053589131,
          36.13780337391688,
          35.29736195872226
         ],
         "yaxis": "y2"
        },
        {
         "hovertemplate": "standard=bitcomp<br>file=1gb_lineitem.parquet<br>chunk_size=%{x}<br>compression_utilization=%{y}<extra></extra>",
         "legendgroup": "bitcomp",
         "line": {
          "color": "#19d3f3",
          "dash": "solid"
         },
         "marker": {
          "symbol": "circle"
         },
         "mode": "lines+markers",
         "name": "bitcomp",
         "orientation": "v",
         "showlegend": false,
         "type": "scatter",
         "x": [
          16384000
         ],
         "xaxis": "x",
         "y": [
          3.961208890764898
         ],
         "yaxis": "y"
        }
       ],
       "layout": {
        "annotations": [
         {
          "font": {},
          "showarrow": false,
          "text": "file=1gb_lineitem.parquet",
          "textangle": 90,
          "x": 0.98,
          "xanchor": "left",
          "xref": "paper",
          "y": 0.042222222222222223,
          "yanchor": "middle",
          "yref": "paper"
         },
         {
          "font": {},
          "showarrow": false,
          "text": "file=1gb_xml",
          "textangle": 90,
          "x": 0.98,
          "xanchor": "left",
          "xref": "paper",
          "y": 0.15666666666666668,
          "yanchor": "middle",
          "yref": "paper"
         },
         {
          "font": {},
          "showarrow": false,
          "text": "file=1gb_silesia.zip",
          "textangle": 90,
          "x": 0.98,
          "xanchor": "left",
          "xref": "paper",
          "y": 0.27111111111111114,
          "yanchor": "middle",
          "yref": "paper"
         },
         {
          "font": {},
          "showarrow": false,
          "text": "file=1gb_sao",
          "textangle": 90,
          "x": 0.98,
          "xanchor": "left",
          "xref": "paper",
          "y": 0.3855555555555556,
          "yanchor": "middle",
          "yref": "paper"
         },
         {
          "font": {},
          "showarrow": false,
          "text": "file=1gb_samba",
          "textangle": 90,
          "x": 0.98,
          "xanchor": "left",
          "xref": "paper",
          "y": 0.5,
          "yanchor": "middle",
          "yref": "paper"
         },
         {
          "font": {},
          "showarrow": false,
          "text": "file=1gb_nci",
          "textangle": 90,
          "x": 0.98,
          "xanchor": "left",
          "xref": "paper",
          "y": 0.6144444444444443,
          "yanchor": "middle",
          "yref": "paper"
         },
         {
          "font": {},
          "showarrow": false,
          "text": "file=1gb_mr",
          "textangle": 90,
          "x": 0.98,
          "xanchor": "left",
          "xref": "paper",
          "y": 0.7288888888888889,
          "yanchor": "middle",
          "yref": "paper"
         },
         {
          "font": {},
          "showarrow": false,
          "text": "file=1gb_mozilla",
          "textangle": 90,
          "x": 0.98,
          "xanchor": "left",
          "xref": "paper",
          "y": 0.8433333333333333,
          "yanchor": "middle",
          "yref": "paper"
         },
         {
          "font": {},
          "showarrow": false,
          "text": "file=1gb_dickens",
          "textangle": 90,
          "x": 0.98,
          "xanchor": "left",
          "xref": "paper",
          "y": 0.9577777777777778,
          "yanchor": "middle",
          "yref": "paper"
         }
        ],
        "height": 1200,
        "legend": {
         "title": {
          "text": "standard"
         },
         "tracegroupgap": 0
        },
        "template": {
         "data": {
          "bar": [
           {
            "error_x": {
             "color": "#2a3f5f"
            },
            "error_y": {
             "color": "#2a3f5f"
            },
            "marker": {
             "line": {
              "color": "#E5ECF6",
              "width": 0.5
             },
             "pattern": {
              "fillmode": "overlay",
              "size": 10,
              "solidity": 0.2
             }
            },
            "type": "bar"
           }
          ],
          "barpolar": [
           {
            "marker": {
             "line": {
              "color": "#E5ECF6",
              "width": 0.5
             },
             "pattern": {
              "fillmode": "overlay",
              "size": 10,
              "solidity": 0.2
             }
            },
            "type": "barpolar"
           }
          ],
          "carpet": [
           {
            "aaxis": {
             "endlinecolor": "#2a3f5f",
             "gridcolor": "white",
             "linecolor": "white",
             "minorgridcolor": "white",
             "startlinecolor": "#2a3f5f"
            },
            "baxis": {
             "endlinecolor": "#2a3f5f",
             "gridcolor": "white",
             "linecolor": "white",
             "minorgridcolor": "white",
             "startlinecolor": "#2a3f5f"
            },
            "type": "carpet"
           }
          ],
          "choropleth": [
           {
            "colorbar": {
             "outlinewidth": 0,
             "ticks": ""
            },
            "type": "choropleth"
           }
          ],
          "contour": [
           {
            "colorbar": {
             "outlinewidth": 0,
             "ticks": ""
            },
            "colorscale": [
             [
              0,
              "#0d0887"
             ],
             [
              0.1111111111111111,
              "#46039f"
             ],
             [
              0.2222222222222222,
              "#7201a8"
             ],
             [
              0.3333333333333333,
              "#9c179e"
             ],
             [
              0.4444444444444444,
              "#bd3786"
             ],
             [
              0.5555555555555556,
              "#d8576b"
             ],
             [
              0.6666666666666666,
              "#ed7953"
             ],
             [
              0.7777777777777778,
              "#fb9f3a"
             ],
             [
              0.8888888888888888,
              "#fdca26"
             ],
             [
              1,
              "#f0f921"
             ]
            ],
            "type": "contour"
           }
          ],
          "contourcarpet": [
           {
            "colorbar": {
             "outlinewidth": 0,
             "ticks": ""
            },
            "type": "contourcarpet"
           }
          ],
          "heatmap": [
           {
            "colorbar": {
             "outlinewidth": 0,
             "ticks": ""
            },
            "colorscale": [
             [
              0,
              "#0d0887"
             ],
             [
              0.1111111111111111,
              "#46039f"
             ],
             [
              0.2222222222222222,
              "#7201a8"
             ],
             [
              0.3333333333333333,
              "#9c179e"
             ],
             [
              0.4444444444444444,
              "#bd3786"
             ],
             [
              0.5555555555555556,
              "#d8576b"
             ],
             [
              0.6666666666666666,
              "#ed7953"
             ],
             [
              0.7777777777777778,
              "#fb9f3a"
             ],
             [
              0.8888888888888888,
              "#fdca26"
             ],
             [
              1,
              "#f0f921"
             ]
            ],
            "type": "heatmap"
           }
          ],
          "heatmapgl": [
           {
            "colorbar": {
             "outlinewidth": 0,
             "ticks": ""
            },
            "colorscale": [
             [
              0,
              "#0d0887"
             ],
             [
              0.1111111111111111,
              "#46039f"
             ],
             [
              0.2222222222222222,
              "#7201a8"
             ],
             [
              0.3333333333333333,
              "#9c179e"
             ],
             [
              0.4444444444444444,
              "#bd3786"
             ],
             [
              0.5555555555555556,
              "#d8576b"
             ],
             [
              0.6666666666666666,
              "#ed7953"
             ],
             [
              0.7777777777777778,
              "#fb9f3a"
             ],
             [
              0.8888888888888888,
              "#fdca26"
             ],
             [
              1,
              "#f0f921"
             ]
            ],
            "type": "heatmapgl"
           }
          ],
          "histogram": [
           {
            "marker": {
             "pattern": {
              "fillmode": "overlay",
              "size": 10,
              "solidity": 0.2
             }
            },
            "type": "histogram"
           }
          ],
          "histogram2d": [
           {
            "colorbar": {
             "outlinewidth": 0,
             "ticks": ""
            },
            "colorscale": [
             [
              0,
              "#0d0887"
             ],
             [
              0.1111111111111111,
              "#46039f"
             ],
             [
              0.2222222222222222,
              "#7201a8"
             ],
             [
              0.3333333333333333,
              "#9c179e"
             ],
             [
              0.4444444444444444,
              "#bd3786"
             ],
             [
              0.5555555555555556,
              "#d8576b"
             ],
             [
              0.6666666666666666,
              "#ed7953"
             ],
             [
              0.7777777777777778,
              "#fb9f3a"
             ],
             [
              0.8888888888888888,
              "#fdca26"
             ],
             [
              1,
              "#f0f921"
             ]
            ],
            "type": "histogram2d"
           }
          ],
          "histogram2dcontour": [
           {
            "colorbar": {
             "outlinewidth": 0,
             "ticks": ""
            },
            "colorscale": [
             [
              0,
              "#0d0887"
             ],
             [
              0.1111111111111111,
              "#46039f"
             ],
             [
              0.2222222222222222,
              "#7201a8"
             ],
             [
              0.3333333333333333,
              "#9c179e"
             ],
             [
              0.4444444444444444,
              "#bd3786"
             ],
             [
              0.5555555555555556,
              "#d8576b"
             ],
             [
              0.6666666666666666,
              "#ed7953"
             ],
             [
              0.7777777777777778,
              "#fb9f3a"
             ],
             [
              0.8888888888888888,
              "#fdca26"
             ],
             [
              1,
              "#f0f921"
             ]
            ],
            "type": "histogram2dcontour"
           }
          ],
          "mesh3d": [
           {
            "colorbar": {
             "outlinewidth": 0,
             "ticks": ""
            },
            "type": "mesh3d"
           }
          ],
          "parcoords": [
           {
            "line": {
             "colorbar": {
              "outlinewidth": 0,
              "ticks": ""
             }
            },
            "type": "parcoords"
           }
          ],
          "pie": [
           {
            "automargin": true,
            "type": "pie"
           }
          ],
          "scatter": [
           {
            "fillpattern": {
             "fillmode": "overlay",
             "size": 10,
             "solidity": 0.2
            },
            "type": "scatter"
           }
          ],
          "scatter3d": [
           {
            "line": {
             "colorbar": {
              "outlinewidth": 0,
              "ticks": ""
             }
            },
            "marker": {
             "colorbar": {
              "outlinewidth": 0,
              "ticks": ""
             }
            },
            "type": "scatter3d"
           }
          ],
          "scattercarpet": [
           {
            "marker": {
             "colorbar": {
              "outlinewidth": 0,
              "ticks": ""
             }
            },
            "type": "scattercarpet"
           }
          ],
          "scattergeo": [
           {
            "marker": {
             "colorbar": {
              "outlinewidth": 0,
              "ticks": ""
             }
            },
            "type": "scattergeo"
           }
          ],
          "scattergl": [
           {
            "marker": {
             "colorbar": {
              "outlinewidth": 0,
              "ticks": ""
             }
            },
            "type": "scattergl"
           }
          ],
          "scattermapbox": [
           {
            "marker": {
             "colorbar": {
              "outlinewidth": 0,
              "ticks": ""
             }
            },
            "type": "scattermapbox"
           }
          ],
          "scatterpolar": [
           {
            "marker": {
             "colorbar": {
              "outlinewidth": 0,
              "ticks": ""
             }
            },
            "type": "scatterpolar"
           }
          ],
          "scatterpolargl": [
           {
            "marker": {
             "colorbar": {
              "outlinewidth": 0,
              "ticks": ""
             }
            },
            "type": "scatterpolargl"
           }
          ],
          "scatterternary": [
           {
            "marker": {
             "colorbar": {
              "outlinewidth": 0,
              "ticks": ""
             }
            },
            "type": "scatterternary"
           }
          ],
          "surface": [
           {
            "colorbar": {
             "outlinewidth": 0,
             "ticks": ""
            },
            "colorscale": [
             [
              0,
              "#0d0887"
             ],
             [
              0.1111111111111111,
              "#46039f"
             ],
             [
              0.2222222222222222,
              "#7201a8"
             ],
             [
              0.3333333333333333,
              "#9c179e"
             ],
             [
              0.4444444444444444,
              "#bd3786"
             ],
             [
              0.5555555555555556,
              "#d8576b"
             ],
             [
              0.6666666666666666,
              "#ed7953"
             ],
             [
              0.7777777777777778,
              "#fb9f3a"
             ],
             [
              0.8888888888888888,
              "#fdca26"
             ],
             [
              1,
              "#f0f921"
             ]
            ],
            "type": "surface"
           }
          ],
          "table": [
           {
            "cells": {
             "fill": {
              "color": "#EBF0F8"
             },
             "line": {
              "color": "white"
             }
            },
            "header": {
             "fill": {
              "color": "#C8D4E3"
             },
             "line": {
              "color": "white"
             }
            },
            "type": "table"
           }
          ]
         },
         "layout": {
          "annotationdefaults": {
           "arrowcolor": "#2a3f5f",
           "arrowhead": 0,
           "arrowwidth": 1
          },
          "autotypenumbers": "strict",
          "coloraxis": {
           "colorbar": {
            "outlinewidth": 0,
            "ticks": ""
           }
          },
          "colorscale": {
           "diverging": [
            [
             0,
             "#8e0152"
            ],
            [
             0.1,
             "#c51b7d"
            ],
            [
             0.2,
             "#de77ae"
            ],
            [
             0.3,
             "#f1b6da"
            ],
            [
             0.4,
             "#fde0ef"
            ],
            [
             0.5,
             "#f7f7f7"
            ],
            [
             0.6,
             "#e6f5d0"
            ],
            [
             0.7,
             "#b8e186"
            ],
            [
             0.8,
             "#7fbc41"
            ],
            [
             0.9,
             "#4d9221"
            ],
            [
             1,
             "#276419"
            ]
           ],
           "sequential": [
            [
             0,
             "#0d0887"
            ],
            [
             0.1111111111111111,
             "#46039f"
            ],
            [
             0.2222222222222222,
             "#7201a8"
            ],
            [
             0.3333333333333333,
             "#9c179e"
            ],
            [
             0.4444444444444444,
             "#bd3786"
            ],
            [
             0.5555555555555556,
             "#d8576b"
            ],
            [
             0.6666666666666666,
             "#ed7953"
            ],
            [
             0.7777777777777778,
             "#fb9f3a"
            ],
            [
             0.8888888888888888,
             "#fdca26"
            ],
            [
             1,
             "#f0f921"
            ]
           ],
           "sequentialminus": [
            [
             0,
             "#0d0887"
            ],
            [
             0.1111111111111111,
             "#46039f"
            ],
            [
             0.2222222222222222,
             "#7201a8"
            ],
            [
             0.3333333333333333,
             "#9c179e"
            ],
            [
             0.4444444444444444,
             "#bd3786"
            ],
            [
             0.5555555555555556,
             "#d8576b"
            ],
            [
             0.6666666666666666,
             "#ed7953"
            ],
            [
             0.7777777777777778,
             "#fb9f3a"
            ],
            [
             0.8888888888888888,
             "#fdca26"
            ],
            [
             1,
             "#f0f921"
            ]
           ]
          },
          "colorway": [
           "#636efa",
           "#EF553B",
           "#00cc96",
           "#ab63fa",
           "#FFA15A",
           "#19d3f3",
           "#FF6692",
           "#B6E880",
           "#FF97FF",
           "#FECB52"
          ],
          "font": {
           "color": "#2a3f5f"
          },
          "geo": {
           "bgcolor": "white",
           "lakecolor": "white",
           "landcolor": "#E5ECF6",
           "showlakes": true,
           "showland": true,
           "subunitcolor": "white"
          },
          "hoverlabel": {
           "align": "left"
          },
          "hovermode": "closest",
          "mapbox": {
           "style": "light"
          },
          "paper_bgcolor": "white",
          "plot_bgcolor": "#E5ECF6",
          "polar": {
           "angularaxis": {
            "gridcolor": "white",
            "linecolor": "white",
            "ticks": ""
           },
           "bgcolor": "#E5ECF6",
           "radialaxis": {
            "gridcolor": "white",
            "linecolor": "white",
            "ticks": ""
           }
          },
          "scene": {
           "xaxis": {
            "backgroundcolor": "#E5ECF6",
            "gridcolor": "white",
            "gridwidth": 2,
            "linecolor": "white",
            "showbackground": true,
            "ticks": "",
            "zerolinecolor": "white"
           },
           "yaxis": {
            "backgroundcolor": "#E5ECF6",
            "gridcolor": "white",
            "gridwidth": 2,
            "linecolor": "white",
            "showbackground": true,
            "ticks": "",
            "zerolinecolor": "white"
           },
           "zaxis": {
            "backgroundcolor": "#E5ECF6",
            "gridcolor": "white",
            "gridwidth": 2,
            "linecolor": "white",
            "showbackground": true,
            "ticks": "",
            "zerolinecolor": "white"
           }
          },
          "shapedefaults": {
           "line": {
            "color": "#2a3f5f"
           }
          },
          "ternary": {
           "aaxis": {
            "gridcolor": "white",
            "linecolor": "white",
            "ticks": ""
           },
           "baxis": {
            "gridcolor": "white",
            "linecolor": "white",
            "ticks": ""
           },
           "bgcolor": "#E5ECF6",
           "caxis": {
            "gridcolor": "white",
            "linecolor": "white",
            "ticks": ""
           }
          },
          "title": {
           "x": 0.05
          },
          "xaxis": {
           "automargin": true,
           "gridcolor": "white",
           "linecolor": "white",
           "ticks": "",
           "title": {
            "standoff": 15
           },
           "zerolinecolor": "white",
           "zerolinewidth": 2
          },
          "yaxis": {
           "automargin": true,
           "gridcolor": "white",
           "linecolor": "white",
           "ticks": "",
           "title": {
            "standoff": 15
           },
           "zerolinecolor": "white",
           "zerolinewidth": 2
          }
         }
        },
        "title": {
         "text": "GPU utilization during compression per file at different chunk sizes"
        },
        "width": 1000,
        "xaxis": {
         "anchor": "y",
         "domain": [
          0,
          0.98
         ],
         "title": {
          "text": "chunk_size"
         },
         "type": "log"
        },
        "xaxis2": {
         "anchor": "y2",
         "domain": [
          0,
          0.98
         ],
         "matches": "x",
         "showticklabels": false,
         "type": "log"
        },
        "xaxis3": {
         "anchor": "y3",
         "domain": [
          0,
          0.98
         ],
         "matches": "x",
         "showticklabels": false,
         "type": "log"
        },
        "xaxis4": {
         "anchor": "y4",
         "domain": [
          0,
          0.98
         ],
         "matches": "x",
         "showticklabels": false,
         "type": "log"
        },
        "xaxis5": {
         "anchor": "y5",
         "domain": [
          0,
          0.98
         ],
         "matches": "x",
         "showticklabels": false,
         "type": "log"
        },
        "xaxis6": {
         "anchor": "y6",
         "domain": [
          0,
          0.98
         ],
         "matches": "x",
         "showticklabels": false,
         "type": "log"
        },
        "xaxis7": {
         "anchor": "y7",
         "domain": [
          0,
          0.98
         ],
         "matches": "x",
         "showticklabels": false,
         "type": "log"
        },
        "xaxis8": {
         "anchor": "y8",
         "domain": [
          0,
          0.98
         ],
         "matches": "x",
         "showticklabels": false,
         "type": "log"
        },
        "xaxis9": {
         "anchor": "y9",
         "domain": [
          0,
          0.98
         ],
         "matches": "x",
         "showticklabels": false,
         "type": "log"
        },
        "yaxis": {
         "anchor": "x",
         "domain": [
          0,
          0.08444444444444445
         ],
         "title": {
          "text": "compression_utilization"
         }
        },
        "yaxis2": {
         "anchor": "x2",
         "domain": [
          0.11444444444444445,
          0.1988888888888889
         ],
         "matches": "y",
         "title": {
          "text": "compression_utilization"
         }
        },
        "yaxis3": {
         "anchor": "x3",
         "domain": [
          0.2288888888888889,
          0.31333333333333335
         ],
         "matches": "y",
         "title": {
          "text": "compression_utilization"
         }
        },
        "yaxis4": {
         "anchor": "x4",
         "domain": [
          0.3433333333333334,
          0.4277777777777778
         ],
         "matches": "y",
         "title": {
          "text": "compression_utilization"
         }
        },
        "yaxis5": {
         "anchor": "x5",
         "domain": [
          0.4577777777777778,
          0.5422222222222223
         ],
         "matches": "y",
         "title": {
          "text": "compression_utilization"
         }
        },
        "yaxis6": {
         "anchor": "x6",
         "domain": [
          0.5722222222222222,
          0.6566666666666666
         ],
         "matches": "y",
         "title": {
          "text": "compression_utilization"
         }
        },
        "yaxis7": {
         "anchor": "x7",
         "domain": [
          0.6866666666666668,
          0.7711111111111112
         ],
         "matches": "y",
         "title": {
          "text": "compression_utilization"
         }
        },
        "yaxis8": {
         "anchor": "x8",
         "domain": [
          0.8011111111111111,
          0.8855555555555555
         ],
         "matches": "y",
         "title": {
          "text": "compression_utilization"
         }
        },
        "yaxis9": {
         "anchor": "x9",
         "domain": [
          0.9155555555555556,
          1
         ],
         "matches": "y",
         "title": {
          "text": "compression_utilization"
         }
        }
       }
      }
     },
     "metadata": {},
     "output_type": "display_data"
    }
   ],
   "source": [
    "fig_utilization_file = px.line(\n",
    "    result_df,\n",
    "    title=f\"GPU utilization during compression per file at different chunk sizes\", \n",
    "    x=\"chunk_size\",\n",
    "    y=\"compression_utilization\",\n",
    "    color=\"standard\",\n",
    "    log_x=True,\n",
    "    markers=True,\n",
    "    #log_y=True,\n",
    "    facet_row=\"file\",\n",
    "    # facet_row_spacing=0.05,\n",
    "    height=1200,\n",
    "    width=1000,\n",
    ")\n",
    "# fig_utilization_standard.update_xaxes(autorange=\"reversed\")\n",
    "\n",
    "\n",
    "fig_utilization_file.show()"
   ]
  },
  {
   "cell_type": "code",
   "execution_count": 12,
   "metadata": {},
   "outputs": [
    {
     "data": {
      "application/vnd.plotly.v1+json": {
       "config": {
        "plotlyServerURL": "https://plot.ly"
       },
       "data": [
        {
         "hovertemplate": "standard=snappy<br>file=1gb_dickens<br>chunk_size=%{x}<br>decompression_utilization=%{y}<extra></extra>",
         "legendgroup": "snappy",
         "line": {
          "color": "#636efa",
          "dash": "solid"
         },
         "marker": {
          "symbol": "circle"
         },
         "mode": "lines+markers",
         "name": "snappy",
         "orientation": "v",
         "showlegend": true,
         "type": "scatter",
         "x": [
          16384000,
          4096000,
          1024000,
          256000,
          64000,
          16000,
          1000
         ],
         "xaxis": "x9",
         "y": [
          1,
          3.8545732499714047,
          14.315356417182802,
          51.721908475121545,
          84.65191530144759,
          95.61622077132225,
          96.91268910267198
         ],
         "yaxis": "y9"
        },
        {
         "hovertemplate": "standard=snappy<br>file=1gb_mozilla<br>chunk_size=%{x}<br>decompression_utilization=%{y}<extra></extra>",
         "legendgroup": "snappy",
         "line": {
          "color": "#636efa",
          "dash": "solid"
         },
         "marker": {
          "symbol": "circle"
         },
         "mode": "lines+markers",
         "name": "snappy",
         "orientation": "v",
         "showlegend": false,
         "type": "scatter",
         "x": [
          65536000,
          1024000,
          256000,
          64000,
          16000,
          4000,
          1000
         ],
         "xaxis": "x8",
         "y": [
          0.9413982637177544,
          11.02508763106562,
          40.23607952208788,
          72.70273339007153,
          87.65720779783517,
          91.42593559542027,
          90.9195303085317
         ],
         "yaxis": "y8"
        },
        {
         "hovertemplate": "standard=snappy<br>file=1gb_mr<br>chunk_size=%{x}<br>decompression_utilization=%{y}<extra></extra>",
         "legendgroup": "snappy",
         "line": {
          "color": "#636efa",
          "dash": "solid"
         },
         "marker": {
          "symbol": "circle"
         },
         "mode": "lines+markers",
         "name": "snappy",
         "orientation": "v",
         "showlegend": false,
         "type": "scatter",
         "x": [
          16384000,
          4096000,
          1024000,
          256000,
          64000,
          16000,
          1000
         ],
         "xaxis": "x7",
         "y": [
          1,
          3.8433036904101083,
          13.48054236116813,
          50.24667007259469,
          75.66997695878322,
          79.87586343958522,
          89.95678016783538
         ],
         "yaxis": "y7"
        },
        {
         "hovertemplate": "standard=snappy<br>file=1gb_nci<br>chunk_size=%{x}<br>decompression_utilization=%{y}<extra></extra>",
         "legendgroup": "snappy",
         "line": {
          "color": "#636efa",
          "dash": "solid"
         },
         "marker": {
          "symbol": "circle"
         },
         "mode": "lines+markers",
         "name": "snappy",
         "orientation": "v",
         "showlegend": false,
         "type": "scatter",
         "x": [
          65536000,
          16384000,
          4096000,
          16000
         ],
         "xaxis": "x6",
         "y": [
          1,
          1,
          3.7747695135187396,
          90.98859964005128
         ],
         "yaxis": "y6"
        },
        {
         "hovertemplate": "standard=snappy<br>file=1gb_samba<br>chunk_size=%{x}<br>decompression_utilization=%{y}<extra></extra>",
         "legendgroup": "snappy",
         "line": {
          "color": "#636efa",
          "dash": "solid"
         },
         "marker": {
          "symbol": "circle"
         },
         "mode": "lines+markers",
         "name": "snappy",
         "orientation": "v",
         "showlegend": false,
         "type": "scatter",
         "x": [
          1024000,
          1000
         ],
         "xaxis": "x5",
         "y": [
          10.278139767221214,
          91.03830902897144
         ],
         "yaxis": "y5"
        },
        {
         "hovertemplate": "standard=snappy<br>file=1gb_sao<br>chunk_size=%{x}<br>decompression_utilization=%{y}<extra></extra>",
         "legendgroup": "snappy",
         "line": {
          "color": "#636efa",
          "dash": "solid"
         },
         "marker": {
          "symbol": "circle"
         },
         "mode": "lines+markers",
         "name": "snappy",
         "orientation": "v",
         "showlegend": false,
         "type": "scatter",
         "x": [
          65536000,
          16384000,
          4096000,
          1024000,
          1000
         ],
         "xaxis": "x4",
         "y": [
          0.9412729974411631,
          1,
          3.8865735831140906,
          14.23984916739578,
          93.98465472694639
         ],
         "yaxis": "y4"
        },
        {
         "hovertemplate": "standard=snappy<br>file=1gb_silesia.zip<br>chunk_size=%{x}<br>decompression_utilization=%{y}<extra></extra>",
         "legendgroup": "snappy",
         "line": {
          "color": "#636efa",
          "dash": "solid"
         },
         "marker": {
          "symbol": "circle"
         },
         "mode": "lines+markers",
         "name": "snappy",
         "orientation": "v",
         "showlegend": false,
         "type": "scatter",
         "x": [
          65536000,
          16384000,
          4096000,
          1024000,
          256000,
          1000
         ],
         "xaxis": "x3",
         "y": [
          0.9941785731388715,
          1,
          3.5729617011850667,
          10.75518930760737,
          30.365544093952863,
          69.03027522208407
         ],
         "yaxis": "y3"
        },
        {
         "hovertemplate": "standard=snappy<br>file=1gb_xml<br>chunk_size=%{x}<br>decompression_utilization=%{y}<extra></extra>",
         "legendgroup": "snappy",
         "line": {
          "color": "#636efa",
          "dash": "solid"
         },
         "marker": {
          "symbol": "circle"
         },
         "mode": "lines+markers",
         "name": "snappy",
         "orientation": "v",
         "showlegend": false,
         "type": "scatter",
         "x": [
          65536000,
          16384000,
          4096000,
          1024000
         ],
         "xaxis": "x2",
         "y": [
          1,
          1,
          3.5890082714168647,
          10.664191707962482
         ],
         "yaxis": "y2"
        },
        {
         "hovertemplate": "standard=snappy<br>file=1gb_lineitem.parquet<br>chunk_size=%{x}<br>decompression_utilization=%{y}<extra></extra>",
         "legendgroup": "snappy",
         "line": {
          "color": "#636efa",
          "dash": "solid"
         },
         "marker": {
          "symbol": "circle"
         },
         "mode": "lines+markers",
         "name": "snappy",
         "orientation": "v",
         "showlegend": false,
         "type": "scatter",
         "x": [
          1000
         ],
         "xaxis": "x",
         "y": [
          80.33518819017186
         ],
         "yaxis": "y"
        },
        {
         "hovertemplate": "standard=zstd<br>file=1gb_dickens<br>chunk_size=%{x}<br>decompression_utilization=%{y}<extra></extra>",
         "legendgroup": "zstd",
         "line": {
          "color": "#EF553B",
          "dash": "solid"
         },
         "marker": {
          "symbol": "circle"
         },
         "mode": "lines+markers",
         "name": "zstd",
         "orientation": "v",
         "showlegend": true,
         "type": "scatter",
         "x": [
          1024000,
          64000,
          16000,
          4000,
          1000
         ],
         "xaxis": "x9",
         "y": [
          19.22782863520729,
          49.38722449891945,
          48.56754949191105,
          43.74649336014717,
          39.9680365953551
         ],
         "yaxis": "y9"
        },
        {
         "hovertemplate": "standard=zstd<br>file=1gb_mozilla<br>chunk_size=%{x}<br>decompression_utilization=%{y}<extra></extra>",
         "legendgroup": "zstd",
         "line": {
          "color": "#EF553B",
          "dash": "solid"
         },
         "marker": {
          "symbol": "circle"
         },
         "mode": "lines+markers",
         "name": "zstd",
         "orientation": "v",
         "showlegend": false,
         "type": "scatter",
         "x": [
          1024000,
          256000,
          64000,
          4000,
          1000
         ],
         "xaxis": "x8",
         "y": [
          13.258298141031805,
          39.320300194062284,
          44.72320226025634,
          42.96249313624594,
          38.40680102987998
         ],
         "yaxis": "y8"
        },
        {
         "hovertemplate": "standard=zstd<br>file=1gb_mr<br>chunk_size=%{x}<br>decompression_utilization=%{y}<extra></extra>",
         "legendgroup": "zstd",
         "line": {
          "color": "#EF553B",
          "dash": "solid"
         },
         "marker": {
          "symbol": "circle"
         },
         "mode": "lines+markers",
         "name": "zstd",
         "orientation": "v",
         "showlegend": false,
         "type": "scatter",
         "x": [
          1024000,
          256000,
          64000,
          16000,
          1000
         ],
         "xaxis": "x7",
         "y": [
          17.781998556256212,
          44.87379544851234,
          46.599123965795556,
          45.64040561987413,
          37.46553203307556
         ],
         "yaxis": "y7"
        },
        {
         "hovertemplate": "standard=zstd<br>file=1gb_nci<br>chunk_size=%{x}<br>decompression_utilization=%{y}<extra></extra>",
         "legendgroup": "zstd",
         "line": {
          "color": "#EF553B",
          "dash": "solid"
         },
         "marker": {
          "symbol": "circle"
         },
         "mode": "lines+markers",
         "name": "zstd",
         "orientation": "v",
         "showlegend": false,
         "type": "scatter",
         "x": [
          4096000,
          1024000,
          256000,
          4000,
          1000
         ],
         "xaxis": "x6",
         "y": [
          3.293011057657657,
          11.330271445788162,
          36.437525208155904,
          41.501963441105055,
          35.7686866152324
         ],
         "yaxis": "y6"
        },
        {
         "hovertemplate": "standard=zstd<br>file=1gb_samba<br>chunk_size=%{x}<br>decompression_utilization=%{y}<extra></extra>",
         "legendgroup": "zstd",
         "line": {
          "color": "#EF553B",
          "dash": "solid"
         },
         "marker": {
          "symbol": "circle"
         },
         "mode": "lines+markers",
         "name": "zstd",
         "orientation": "v",
         "showlegend": false,
         "type": "scatter",
         "x": [
          1024000,
          256000,
          64000
         ],
         "xaxis": "x5",
         "y": [
          12.235838934576226,
          35.680154162841916,
          42.6127506523285
         ],
         "yaxis": "y5"
        },
        {
         "hovertemplate": "standard=zstd<br>file=1gb_sao<br>chunk_size=%{x}<br>decompression_utilization=%{y}<extra></extra>",
         "legendgroup": "zstd",
         "line": {
          "color": "#EF553B",
          "dash": "solid"
         },
         "marker": {
          "symbol": "circle"
         },
         "mode": "lines+markers",
         "name": "zstd",
         "orientation": "v",
         "showlegend": false,
         "type": "scatter",
         "x": [
          4096000,
          1024000,
          256000,
          64000,
          1000
         ],
         "xaxis": "x4",
         "y": [
          5.384976697742705,
          18.473425925345573,
          46.68558151512252,
          49.50885188454127,
          41.362146235553254
         ],
         "yaxis": "y4"
        },
        {
         "hovertemplate": "standard=zstd<br>file=1gb_silesia.zip<br>chunk_size=%{x}<br>decompression_utilization=%{y}<extra></extra>",
         "legendgroup": "zstd",
         "line": {
          "color": "#EF553B",
          "dash": "solid"
         },
         "marker": {
          "symbol": "circle"
         },
         "mode": "lines+markers",
         "name": "zstd",
         "orientation": "v",
         "showlegend": false,
         "type": "scatter",
         "x": [
          1000
         ],
         "xaxis": "x3",
         "y": [
          45.19730770759
         ],
         "yaxis": "y3"
        },
        {
         "hovertemplate": "standard=zstd<br>file=1gb_xml<br>chunk_size=%{x}<br>decompression_utilization=%{y}<extra></extra>",
         "legendgroup": "zstd",
         "line": {
          "color": "#EF553B",
          "dash": "solid"
         },
         "marker": {
          "symbol": "circle"
         },
         "mode": "lines+markers",
         "name": "zstd",
         "orientation": "v",
         "showlegend": false,
         "type": "scatter",
         "x": [
          4096000,
          1024000,
          4000
         ],
         "xaxis": "x2",
         "y": [
          3.879701865967939,
          12.73946457778377,
          42.04825879120329
         ],
         "yaxis": "y2"
        },
        {
         "hovertemplate": "standard=zstd<br>file=1gb_lineitem.parquet<br>chunk_size=%{x}<br>decompression_utilization=%{y}<extra></extra>",
         "legendgroup": "zstd",
         "line": {
          "color": "#EF553B",
          "dash": "solid"
         },
         "marker": {
          "symbol": "circle"
         },
         "mode": "lines+markers",
         "name": "zstd",
         "orientation": "v",
         "showlegend": false,
         "type": "scatter",
         "x": [
          1024000
         ],
         "xaxis": "x",
         "y": [
          14.837769394903408
         ],
         "yaxis": "y"
        },
        {
         "hovertemplate": "standard=gdeflate<br>file=1gb_dickens<br>chunk_size=%{x}<br>decompression_utilization=%{y}<extra></extra>",
         "legendgroup": "gdeflate",
         "line": {
          "color": "#00cc96",
          "dash": "solid"
         },
         "marker": {
          "symbol": "circle"
         },
         "mode": "lines+markers",
         "name": "gdeflate",
         "orientation": "v",
         "showlegend": true,
         "type": "scatter",
         "x": [
          4000
         ],
         "xaxis": "x9",
         "y": [
          42.54430111281937
         ],
         "yaxis": "y9"
        },
        {
         "hovertemplate": "standard=gdeflate<br>file=1gb_mozilla<br>chunk_size=%{x}<br>decompression_utilization=%{y}<extra></extra>",
         "legendgroup": "gdeflate",
         "line": {
          "color": "#00cc96",
          "dash": "solid"
         },
         "marker": {
          "symbol": "circle"
         },
         "mode": "lines+markers",
         "name": "gdeflate",
         "orientation": "v",
         "showlegend": false,
         "type": "scatter",
         "x": [
          4000
         ],
         "xaxis": "x8",
         "y": [
          39.601642960182176
         ],
         "yaxis": "y8"
        },
        {
         "hovertemplate": "standard=gdeflate<br>file=1gb_nci<br>chunk_size=%{x}<br>decompression_utilization=%{y}<extra></extra>",
         "legendgroup": "gdeflate",
         "line": {
          "color": "#00cc96",
          "dash": "solid"
         },
         "marker": {
          "symbol": "circle"
         },
         "mode": "lines+markers",
         "name": "gdeflate",
         "orientation": "v",
         "showlegend": false,
         "type": "scatter",
         "x": [
          4000
         ],
         "xaxis": "x6",
         "y": [
          40.79831422080053
         ],
         "yaxis": "y6"
        },
        {
         "hovertemplate": "standard=gdeflate<br>file=1gb_samba<br>chunk_size=%{x}<br>decompression_utilization=%{y}<extra></extra>",
         "legendgroup": "gdeflate",
         "line": {
          "color": "#00cc96",
          "dash": "solid"
         },
         "marker": {
          "symbol": "circle"
         },
         "mode": "lines+markers",
         "name": "gdeflate",
         "orientation": "v",
         "showlegend": false,
         "type": "scatter",
         "x": [
          16000,
          4000,
          1000
         ],
         "xaxis": "x5",
         "y": [
          38.39828287920922,
          39.903507571258714,
          38.56377114865492
         ],
         "yaxis": "y5"
        },
        {
         "hovertemplate": "standard=gdeflate<br>file=1gb_sao<br>chunk_size=%{x}<br>decompression_utilization=%{y}<extra></extra>",
         "legendgroup": "gdeflate",
         "line": {
          "color": "#00cc96",
          "dash": "solid"
         },
         "marker": {
          "symbol": "circle"
         },
         "mode": "lines+markers",
         "name": "gdeflate",
         "orientation": "v",
         "showlegend": false,
         "type": "scatter",
         "x": [
          16000,
          1000
         ],
         "xaxis": "x4",
         "y": [
          41.38908384752534,
          42.78989886866421
         ],
         "yaxis": "y4"
        },
        {
         "hovertemplate": "standard=gdeflate<br>file=1gb_silesia.zip<br>chunk_size=%{x}<br>decompression_utilization=%{y}<extra></extra>",
         "legendgroup": "gdeflate",
         "line": {
          "color": "#00cc96",
          "dash": "solid"
         },
         "marker": {
          "symbol": "circle"
         },
         "mode": "lines+markers",
         "name": "gdeflate",
         "orientation": "v",
         "showlegend": false,
         "type": "scatter",
         "x": [
          1000
         ],
         "xaxis": "x3",
         "y": [
          42.77330707025648
         ],
         "yaxis": "y3"
        },
        {
         "hovertemplate": "standard=gdeflate<br>file=1gb_xml<br>chunk_size=%{x}<br>decompression_utilization=%{y}<extra></extra>",
         "legendgroup": "gdeflate",
         "line": {
          "color": "#00cc96",
          "dash": "solid"
         },
         "marker": {
          "symbol": "circle"
         },
         "mode": "lines+markers",
         "name": "gdeflate",
         "orientation": "v",
         "showlegend": false,
         "type": "scatter",
         "x": [
          4000,
          1000
         ],
         "xaxis": "x2",
         "y": [
          40.32722135575362,
          41.607356782403805
         ],
         "yaxis": "y2"
        },
        {
         "hovertemplate": "standard=lz4<br>file=1gb_dickens<br>chunk_size=%{x}<br>decompression_utilization=%{y}<extra></extra>",
         "legendgroup": "lz4",
         "line": {
          "color": "#ab63fa",
          "dash": "solid"
         },
         "marker": {
          "symbol": "circle"
         },
         "mode": "lines+markers",
         "name": "lz4",
         "orientation": "v",
         "showlegend": true,
         "type": "scatter",
         "x": [
          4096000,
          1024000,
          256000,
          16000,
          4000,
          1000
         ],
         "xaxis": "x9",
         "y": [
          2.2530419330619234,
          6.762746960609403,
          26.68437772477111,
          47.294412685178045,
          48.35069037649741,
          48.25774046760506
         ],
         "yaxis": "y9"
        },
        {
         "hovertemplate": "standard=lz4<br>file=1gb_mozilla<br>chunk_size=%{x}<br>decompression_utilization=%{y}<extra></extra>",
         "legendgroup": "lz4",
         "line": {
          "color": "#ab63fa",
          "dash": "solid"
         },
         "marker": {
          "symbol": "circle"
         },
         "mode": "lines+markers",
         "name": "lz4",
         "orientation": "v",
         "showlegend": false,
         "type": "scatter",
         "x": [
          4096000,
          16000,
          4000,
          1000
         ],
         "xaxis": "x8",
         "y": [
          1.8295407205698715,
          43.07051864260206,
          44.85976562935064,
          42.309283563128105
         ],
         "yaxis": "y8"
        },
        {
         "hovertemplate": "standard=lz4<br>file=1gb_mr<br>chunk_size=%{x}<br>decompression_utilization=%{y}<extra></extra>",
         "legendgroup": "lz4",
         "line": {
          "color": "#ab63fa",
          "dash": "solid"
         },
         "marker": {
          "symbol": "circle"
         },
         "mode": "lines+markers",
         "name": "lz4",
         "orientation": "v",
         "showlegend": false,
         "type": "scatter",
         "x": [
          4096000,
          1024000,
          256000,
          4000,
          1000
         ],
         "xaxis": "x7",
         "y": [
          1.9694690885949933,
          6.40440474059748,
          25.113001983707665,
          33.445533412631,
          44.22904749656021
         ],
         "yaxis": "y7"
        },
        {
         "hovertemplate": "standard=lz4<br>file=1gb_nci<br>chunk_size=%{x}<br>decompression_utilization=%{y}<extra></extra>",
         "legendgroup": "lz4",
         "line": {
          "color": "#ab63fa",
          "dash": "solid"
         },
         "marker": {
          "symbol": "circle"
         },
         "mode": "lines+markers",
         "name": "lz4",
         "orientation": "v",
         "showlegend": false,
         "type": "scatter",
         "x": [
          4096000,
          1024000,
          256000,
          64000,
          16000,
          4000,
          1000
         ],
         "xaxis": "x6",
         "y": [
          1.8998445216625597,
          6.298193510750151,
          25.14389655990766,
          36.62999935799583,
          44.730361571579394,
          47.00464770025295,
          45.73758927395917
         ],
         "yaxis": "y6"
        },
        {
         "hovertemplate": "standard=lz4<br>file=1gb_samba<br>chunk_size=%{x}<br>decompression_utilization=%{y}<extra></extra>",
         "legendgroup": "lz4",
         "line": {
          "color": "#ab63fa",
          "dash": "solid"
         },
         "marker": {
          "symbol": "circle"
         },
         "mode": "lines+markers",
         "name": "lz4",
         "orientation": "v",
         "showlegend": false,
         "type": "scatter",
         "x": [
          4096000,
          64000
         ],
         "xaxis": "x5",
         "y": [
          1.8218232746113954,
          32.54724387917843
         ],
         "yaxis": "y5"
        },
        {
         "hovertemplate": "standard=lz4<br>file=1gb_sao<br>chunk_size=%{x}<br>decompression_utilization=%{y}<extra></extra>",
         "legendgroup": "lz4",
         "line": {
          "color": "#ab63fa",
          "dash": "solid"
         },
         "marker": {
          "symbol": "circle"
         },
         "mode": "lines+markers",
         "name": "lz4",
         "orientation": "v",
         "showlegend": false,
         "type": "scatter",
         "x": [
          4096000,
          1024000,
          256000,
          64000,
          1000
         ],
         "xaxis": "x4",
         "y": [
          1.9821264902686822,
          6.713152592150242,
          26.685388802828548,
          40.974368638944256,
          47.58083239240794
         ],
         "yaxis": "y4"
        },
        {
         "hovertemplate": "standard=lz4<br>file=1gb_silesia.zip<br>chunk_size=%{x}<br>decompression_utilization=%{y}<extra></extra>",
         "legendgroup": "lz4",
         "line": {
          "color": "#ab63fa",
          "dash": "solid"
         },
         "marker": {
          "symbol": "circle"
         },
         "mode": "lines+markers",
         "name": "lz4",
         "orientation": "v",
         "showlegend": false,
         "type": "scatter",
         "x": [
          1024000,
          256000,
          64000,
          16000,
          4000,
          1000
         ],
         "xaxis": "x3",
         "y": [
          4.651651063363247,
          11.762681432250336,
          21.90417792448089,
          33.13609333999892,
          39.648804098320895,
          44.4146174971827
         ],
         "yaxis": "y3"
        },
        {
         "hovertemplate": "standard=lz4<br>file=1gb_xml<br>chunk_size=%{x}<br>decompression_utilization=%{y}<extra></extra>",
         "legendgroup": "lz4",
         "line": {
          "color": "#ab63fa",
          "dash": "solid"
         },
         "marker": {
          "symbol": "circle"
         },
         "mode": "lines+markers",
         "name": "lz4",
         "orientation": "v",
         "showlegend": false,
         "type": "scatter",
         "x": [
          4096000,
          1024000,
          1000
         ],
         "xaxis": "x2",
         "y": [
          1.8795006749181478,
          5.618540917604458,
          46.73111742236105
         ],
         "yaxis": "y2"
        },
        {
         "hovertemplate": "standard=lz4<br>file=1gb_lineitem.parquet<br>chunk_size=%{x}<br>decompression_utilization=%{y}<extra></extra>",
         "legendgroup": "lz4",
         "line": {
          "color": "#ab63fa",
          "dash": "solid"
         },
         "marker": {
          "symbol": "circle"
         },
         "mode": "lines+markers",
         "name": "lz4",
         "orientation": "v",
         "showlegend": false,
         "type": "scatter",
         "x": [
          256000,
          64000,
          1000
         ],
         "xaxis": "x",
         "y": [
          9.729362472549454,
          21.331853228861114,
          44.76040114507637
         ],
         "yaxis": "y"
        },
        {
         "hovertemplate": "standard=cascaded<br>file=1gb_dickens<br>chunk_size=%{x}<br>decompression_utilization=%{y}<extra></extra>",
         "legendgroup": "cascaded",
         "line": {
          "color": "#FFA15A",
          "dash": "solid"
         },
         "marker": {
          "symbol": "circle"
         },
         "mode": "lines+markers",
         "name": "cascaded",
         "orientation": "v",
         "showlegend": true,
         "type": "scatter",
         "x": [
          65536000,
          16384000,
          4096000,
          1024000,
          256000,
          64000,
          16000,
          4000,
          1000
         ],
         "xaxis": "x9",
         "y": [
          0.3332651412651287,
          1.9610369737174485,
          4.0075964986652615,
          18.643164463441526,
          25.633465947123227,
          45.52438945799591,
          45.69469517773744,
          43.764256247192186,
          38.64384429388337
         ],
         "yaxis": "y9"
        },
        {
         "hovertemplate": "standard=cascaded<br>file=1gb_mozilla<br>chunk_size=%{x}<br>decompression_utilization=%{y}<extra></extra>",
         "legendgroup": "cascaded",
         "line": {
          "color": "#FFA15A",
          "dash": "solid"
         },
         "marker": {
          "symbol": "circle"
         },
         "mode": "lines+markers",
         "name": "cascaded",
         "orientation": "v",
         "showlegend": false,
         "type": "scatter",
         "x": [
          1024000,
          64000
         ],
         "xaxis": "x8",
         "y": [
          11.89705339744088,
          44.656480891546394
         ],
         "yaxis": "y8"
        },
        {
         "hovertemplate": "standard=cascaded<br>file=1gb_mr<br>chunk_size=%{x}<br>decompression_utilization=%{y}<extra></extra>",
         "legendgroup": "cascaded",
         "line": {
          "color": "#FFA15A",
          "dash": "solid"
         },
         "marker": {
          "symbol": "circle"
         },
         "mode": "lines+markers",
         "name": "cascaded",
         "orientation": "v",
         "showlegend": false,
         "type": "scatter",
         "x": [
          65536000,
          16384000,
          4096000,
          1024000,
          4000
         ],
         "xaxis": "x7",
         "y": [
          0.33331738989373416,
          1.9843073835721046,
          6.767989513174492,
          18.557589605513936,
          48.22576249096862
         ],
         "yaxis": "y7"
        },
        {
         "hovertemplate": "standard=cascaded<br>file=1gb_nci<br>chunk_size=%{x}<br>decompression_utilization=%{y}<extra></extra>",
         "legendgroup": "cascaded",
         "line": {
          "color": "#FFA15A",
          "dash": "solid"
         },
         "marker": {
          "symbol": "circle"
         },
         "mode": "lines+markers",
         "name": "cascaded",
         "orientation": "v",
         "showlegend": false,
         "type": "scatter",
         "x": [
          65536000,
          16384000,
          4096000,
          1024000,
          256000,
          64000,
          16000,
          1000
         ],
         "xaxis": "x6",
         "y": [
          0.999868057524536,
          1.9547374560414044,
          4.01766579445352,
          5.450142835845522,
          25.011515266591758,
          40.205346378177495,
          45.61436750411744,
          43.10289138991937
         ],
         "yaxis": "y6"
        },
        {
         "hovertemplate": "standard=cascaded<br>file=1gb_samba<br>chunk_size=%{x}<br>decompression_utilization=%{y}<extra></extra>",
         "legendgroup": "cascaded",
         "line": {
          "color": "#FFA15A",
          "dash": "solid"
         },
         "marker": {
          "symbol": "circle"
         },
         "mode": "lines+markers",
         "name": "cascaded",
         "orientation": "v",
         "showlegend": false,
         "type": "scatter",
         "x": [
          4096000,
          1024000,
          256000,
          64000,
          16000,
          4000
         ],
         "xaxis": "x5",
         "y": [
          1.7158113870330334,
          8.532202071656508,
          31.228694133519355,
          28.14690886253764,
          46.72910506995446,
          45.308843946546865
         ],
         "yaxis": "y5"
        },
        {
         "hovertemplate": "standard=cascaded<br>file=1gb_sao<br>chunk_size=%{x}<br>decompression_utilization=%{y}<extra></extra>",
         "legendgroup": "cascaded",
         "line": {
          "color": "#FFA15A",
          "dash": "solid"
         },
         "marker": {
          "symbol": "circle"
         },
         "mode": "lines+markers",
         "name": "cascaded",
         "orientation": "v",
         "showlegend": false,
         "type": "scatter",
         "x": [
          65536000,
          16384000,
          1024000,
          256000,
          64000,
          16000,
          4000,
          1000
         ],
         "xaxis": "x4",
         "y": [
          0.9998709491605176,
          1.950244220647566,
          18.464598020763603,
          38.57140677668585,
          45.91951735388774,
          45.308829117714076,
          42.54491133680391,
          38.46173420179491
         ],
         "yaxis": "y4"
        },
        {
         "hovertemplate": "standard=cascaded<br>file=1gb_silesia.zip<br>chunk_size=%{x}<br>decompression_utilization=%{y}<extra></extra>",
         "legendgroup": "cascaded",
         "line": {
          "color": "#FFA15A",
          "dash": "solid"
         },
         "marker": {
          "symbol": "circle"
         },
         "mode": "lines+markers",
         "name": "cascaded",
         "orientation": "v",
         "showlegend": false,
         "type": "scatter",
         "x": [
          4096000,
          1024000,
          256000,
          64000,
          1000
         ],
         "xaxis": "x3",
         "y": [
          6.550730234135328,
          18.713362779136073,
          38.51601830550894,
          46.04691303669787,
          38.54780986924321
         ],
         "yaxis": "y3"
        },
        {
         "hovertemplate": "standard=cascaded<br>file=1gb_xml<br>chunk_size=%{x}<br>decompression_utilization=%{y}<extra></extra>",
         "legendgroup": "cascaded",
         "line": {
          "color": "#FFA15A",
          "dash": "solid"
         },
         "marker": {
          "symbol": "circle"
         },
         "mode": "lines+markers",
         "name": "cascaded",
         "orientation": "v",
         "showlegend": false,
         "type": "scatter",
         "x": [
          65536000,
          16384000,
          4096000,
          1024000,
          256000,
          64000,
          16000,
          4000,
          1000
         ],
         "xaxis": "x2",
         "y": [
          0.9998750983637263,
          1.9533804228990057,
          6.50586796286583,
          18.880413826634523,
          25.922447876005737,
          25.348421440315764,
          43.21728033021348,
          43.883250637182485,
          39.247059044979565
         ],
         "yaxis": "y2"
        },
        {
         "hovertemplate": "standard=cascaded<br>file=1gb_lineitem.parquet<br>chunk_size=%{x}<br>decompression_utilization=%{y}<extra></extra>",
         "legendgroup": "cascaded",
         "line": {
          "color": "#FFA15A",
          "dash": "solid"
         },
         "marker": {
          "symbol": "circle"
         },
         "mode": "lines+markers",
         "name": "cascaded",
         "orientation": "v",
         "showlegend": false,
         "type": "scatter",
         "x": [
          65536000,
          16384000,
          4096000,
          1024000
         ],
         "xaxis": "x",
         "y": [
          0.8470639893922091,
          1.9858764774767108,
          6.848834833766695,
          15.786470282553967
         ],
         "yaxis": "y"
        },
        {
         "hovertemplate": "standard=bitcomp<br>file=1gb_dickens<br>chunk_size=%{x}<br>decompression_utilization=%{y}<extra></extra>",
         "legendgroup": "bitcomp",
         "line": {
          "color": "#19d3f3",
          "dash": "solid"
         },
         "marker": {
          "symbol": "circle"
         },
         "mode": "lines+markers",
         "name": "bitcomp",
         "orientation": "v",
         "showlegend": true,
         "type": "scatter",
         "x": [
          65536000,
          16384000,
          1024000,
          64000,
          16000,
          4000,
          1000
         ],
         "xaxis": "x9",
         "y": [
          1.7998162461172864,
          3.963248859922275,
          54.80086981995497,
          70.81820702220524,
          73.00511480858529,
          72.69145781727747,
          69.25946444829057
         ],
         "yaxis": "y9"
        },
        {
         "hovertemplate": "standard=bitcomp<br>file=1gb_mozilla<br>chunk_size=%{x}<br>decompression_utilization=%{y}<extra></extra>",
         "legendgroup": "bitcomp",
         "line": {
          "color": "#19d3f3",
          "dash": "solid"
         },
         "marker": {
          "symbol": "circle"
         },
         "mode": "lines+markers",
         "name": "bitcomp",
         "orientation": "v",
         "showlegend": false,
         "type": "scatter",
         "x": [
          16384000,
          1024000,
          64000,
          16000,
          4000
         ],
         "xaxis": "x8",
         "y": [
          3.6753842789904283,
          35.6163101538945,
          68.32907960116434,
          71.13750485898002,
          68.97933095284176
         ],
         "yaxis": "y8"
        },
        {
         "hovertemplate": "standard=bitcomp<br>file=1gb_mr<br>chunk_size=%{x}<br>decompression_utilization=%{y}<extra></extra>",
         "legendgroup": "bitcomp",
         "line": {
          "color": "#19d3f3",
          "dash": "solid"
         },
         "marker": {
          "symbol": "circle"
         },
         "mode": "lines+markers",
         "name": "bitcomp",
         "orientation": "v",
         "showlegend": false,
         "type": "scatter",
         "x": [
          65536000,
          16384000,
          4096000,
          1024000,
          256000,
          4000,
          1000
         ],
         "xaxis": "x7",
         "y": [
          0.9999088412616759,
          3.949540465547104,
          13.970960648564247,
          50.94982016060723,
          61.443841400422926,
          72.86493264506007,
          72.62817965070192
         ],
         "yaxis": "y7"
        },
        {
         "hovertemplate": "standard=bitcomp<br>file=1gb_nci<br>chunk_size=%{x}<br>decompression_utilization=%{y}<extra></extra>",
         "legendgroup": "bitcomp",
         "line": {
          "color": "#19d3f3",
          "dash": "solid"
         },
         "marker": {
          "symbol": "circle"
         },
         "mode": "lines+markers",
         "name": "bitcomp",
         "orientation": "v",
         "showlegend": false,
         "type": "scatter",
         "x": [
          65536000,
          16384000,
          4096000,
          1024000,
          256000,
          4000
         ],
         "xaxis": "x6",
         "y": [
          0.9999279606620384,
          3.9660540283723362,
          14.017374091725276,
          50.75150353079775,
          63.44650964884947,
          71.73809742711447
         ],
         "yaxis": "y6"
        },
        {
         "hovertemplate": "standard=bitcomp<br>file=1gb_samba<br>chunk_size=%{x}<br>decompression_utilization=%{y}<extra></extra>",
         "legendgroup": "bitcomp",
         "line": {
          "color": "#19d3f3",
          "dash": "solid"
         },
         "marker": {
          "symbol": "circle"
         },
         "mode": "lines+markers",
         "name": "bitcomp",
         "orientation": "v",
         "showlegend": false,
         "type": "scatter",
         "x": [
          65536000,
          16384000,
          1024000,
          256000,
          16000,
          4000
         ],
         "xaxis": "x5",
         "y": [
          0.9999321411219158,
          3.8521685069063163,
          42.07233403733168,
          59.24272412373813,
          72.50179574184345,
          72.7608764336648
         ],
         "yaxis": "y5"
        },
        {
         "hovertemplate": "standard=bitcomp<br>file=1gb_sao<br>chunk_size=%{x}<br>decompression_utilization=%{y}<extra></extra>",
         "legendgroup": "bitcomp",
         "line": {
          "color": "#19d3f3",
          "dash": "solid"
         },
         "marker": {
          "symbol": "circle"
         },
         "mode": "lines+markers",
         "name": "bitcomp",
         "orientation": "v",
         "showlegend": false,
         "type": "scatter",
         "x": [
          16384000,
          4096000,
          1024000,
          256000,
          64000
         ],
         "xaxis": "x4",
         "y": [
          3.863522035474103,
          13.707219105393744,
          54.332997177709615,
          59.65287364052388,
          67.4337614479065
         ],
         "yaxis": "y4"
        },
        {
         "hovertemplate": "standard=bitcomp<br>file=1gb_silesia.zip<br>chunk_size=%{x}<br>decompression_utilization=%{y}<extra></extra>",
         "legendgroup": "bitcomp",
         "line": {
          "color": "#19d3f3",
          "dash": "solid"
         },
         "marker": {
          "symbol": "circle"
         },
         "mode": "lines+markers",
         "name": "bitcomp",
         "orientation": "v",
         "showlegend": false,
         "type": "scatter",
         "x": [
          16384000,
          4096000,
          1024000,
          256000,
          64000,
          1000
         ],
         "xaxis": "x3",
         "y": [
          3.8427787690177158,
          13.533590551162483,
          51.42747362040079,
          58.91438936214793,
          69.89139391443236,
          73.44323425467985
         ],
         "yaxis": "y3"
        },
        {
         "hovertemplate": "standard=bitcomp<br>file=1gb_xml<br>chunk_size=%{x}<br>decompression_utilization=%{y}<extra></extra>",
         "legendgroup": "bitcomp",
         "line": {
          "color": "#19d3f3",
          "dash": "solid"
         },
         "marker": {
          "symbol": "circle"
         },
         "mode": "lines+markers",
         "name": "bitcomp",
         "orientation": "v",
         "showlegend": false,
         "type": "scatter",
         "x": [
          65536000,
          16384000,
          4096000,
          1024000,
          256000,
          64000,
          16000,
          4000
         ],
         "xaxis": "x2",
         "y": [
          0.999943214916605,
          3.955750394319269,
          14.258186398384368,
          51.59528794289089,
          60.17175795382742,
          70.27568176665551,
          73.0755093905523,
          71.6646315299572
         ],
         "yaxis": "y2"
        },
        {
         "hovertemplate": "standard=bitcomp<br>file=1gb_lineitem.parquet<br>chunk_size=%{x}<br>decompression_utilization=%{y}<extra></extra>",
         "legendgroup": "bitcomp",
         "line": {
          "color": "#19d3f3",
          "dash": "solid"
         },
         "marker": {
          "symbol": "circle"
         },
         "mode": "lines+markers",
         "name": "bitcomp",
         "orientation": "v",
         "showlegend": false,
         "type": "scatter",
         "x": [
          16384000
         ],
         "xaxis": "x",
         "y": [
          3.8144915637805052
         ],
         "yaxis": "y"
        }
       ],
       "layout": {
        "annotations": [
         {
          "font": {},
          "showarrow": false,
          "text": "file=1gb_lineitem.parquet",
          "textangle": 90,
          "x": 0.98,
          "xanchor": "left",
          "xref": "paper",
          "y": 0.042222222222222223,
          "yanchor": "middle",
          "yref": "paper"
         },
         {
          "font": {},
          "showarrow": false,
          "text": "file=1gb_xml",
          "textangle": 90,
          "x": 0.98,
          "xanchor": "left",
          "xref": "paper",
          "y": 0.15666666666666668,
          "yanchor": "middle",
          "yref": "paper"
         },
         {
          "font": {},
          "showarrow": false,
          "text": "file=1gb_silesia.zip",
          "textangle": 90,
          "x": 0.98,
          "xanchor": "left",
          "xref": "paper",
          "y": 0.27111111111111114,
          "yanchor": "middle",
          "yref": "paper"
         },
         {
          "font": {},
          "showarrow": false,
          "text": "file=1gb_sao",
          "textangle": 90,
          "x": 0.98,
          "xanchor": "left",
          "xref": "paper",
          "y": 0.3855555555555556,
          "yanchor": "middle",
          "yref": "paper"
         },
         {
          "font": {},
          "showarrow": false,
          "text": "file=1gb_samba",
          "textangle": 90,
          "x": 0.98,
          "xanchor": "left",
          "xref": "paper",
          "y": 0.5,
          "yanchor": "middle",
          "yref": "paper"
         },
         {
          "font": {},
          "showarrow": false,
          "text": "file=1gb_nci",
          "textangle": 90,
          "x": 0.98,
          "xanchor": "left",
          "xref": "paper",
          "y": 0.6144444444444443,
          "yanchor": "middle",
          "yref": "paper"
         },
         {
          "font": {},
          "showarrow": false,
          "text": "file=1gb_mr",
          "textangle": 90,
          "x": 0.98,
          "xanchor": "left",
          "xref": "paper",
          "y": 0.7288888888888889,
          "yanchor": "middle",
          "yref": "paper"
         },
         {
          "font": {},
          "showarrow": false,
          "text": "file=1gb_mozilla",
          "textangle": 90,
          "x": 0.98,
          "xanchor": "left",
          "xref": "paper",
          "y": 0.8433333333333333,
          "yanchor": "middle",
          "yref": "paper"
         },
         {
          "font": {},
          "showarrow": false,
          "text": "file=1gb_dickens",
          "textangle": 90,
          "x": 0.98,
          "xanchor": "left",
          "xref": "paper",
          "y": 0.9577777777777778,
          "yanchor": "middle",
          "yref": "paper"
         }
        ],
        "height": 1200,
        "legend": {
         "title": {
          "text": "standard"
         },
         "tracegroupgap": 0
        },
        "template": {
         "data": {
          "bar": [
           {
            "error_x": {
             "color": "#2a3f5f"
            },
            "error_y": {
             "color": "#2a3f5f"
            },
            "marker": {
             "line": {
              "color": "#E5ECF6",
              "width": 0.5
             },
             "pattern": {
              "fillmode": "overlay",
              "size": 10,
              "solidity": 0.2
             }
            },
            "type": "bar"
           }
          ],
          "barpolar": [
           {
            "marker": {
             "line": {
              "color": "#E5ECF6",
              "width": 0.5
             },
             "pattern": {
              "fillmode": "overlay",
              "size": 10,
              "solidity": 0.2
             }
            },
            "type": "barpolar"
           }
          ],
          "carpet": [
           {
            "aaxis": {
             "endlinecolor": "#2a3f5f",
             "gridcolor": "white",
             "linecolor": "white",
             "minorgridcolor": "white",
             "startlinecolor": "#2a3f5f"
            },
            "baxis": {
             "endlinecolor": "#2a3f5f",
             "gridcolor": "white",
             "linecolor": "white",
             "minorgridcolor": "white",
             "startlinecolor": "#2a3f5f"
            },
            "type": "carpet"
           }
          ],
          "choropleth": [
           {
            "colorbar": {
             "outlinewidth": 0,
             "ticks": ""
            },
            "type": "choropleth"
           }
          ],
          "contour": [
           {
            "colorbar": {
             "outlinewidth": 0,
             "ticks": ""
            },
            "colorscale": [
             [
              0,
              "#0d0887"
             ],
             [
              0.1111111111111111,
              "#46039f"
             ],
             [
              0.2222222222222222,
              "#7201a8"
             ],
             [
              0.3333333333333333,
              "#9c179e"
             ],
             [
              0.4444444444444444,
              "#bd3786"
             ],
             [
              0.5555555555555556,
              "#d8576b"
             ],
             [
              0.6666666666666666,
              "#ed7953"
             ],
             [
              0.7777777777777778,
              "#fb9f3a"
             ],
             [
              0.8888888888888888,
              "#fdca26"
             ],
             [
              1,
              "#f0f921"
             ]
            ],
            "type": "contour"
           }
          ],
          "contourcarpet": [
           {
            "colorbar": {
             "outlinewidth": 0,
             "ticks": ""
            },
            "type": "contourcarpet"
           }
          ],
          "heatmap": [
           {
            "colorbar": {
             "outlinewidth": 0,
             "ticks": ""
            },
            "colorscale": [
             [
              0,
              "#0d0887"
             ],
             [
              0.1111111111111111,
              "#46039f"
             ],
             [
              0.2222222222222222,
              "#7201a8"
             ],
             [
              0.3333333333333333,
              "#9c179e"
             ],
             [
              0.4444444444444444,
              "#bd3786"
             ],
             [
              0.5555555555555556,
              "#d8576b"
             ],
             [
              0.6666666666666666,
              "#ed7953"
             ],
             [
              0.7777777777777778,
              "#fb9f3a"
             ],
             [
              0.8888888888888888,
              "#fdca26"
             ],
             [
              1,
              "#f0f921"
             ]
            ],
            "type": "heatmap"
           }
          ],
          "heatmapgl": [
           {
            "colorbar": {
             "outlinewidth": 0,
             "ticks": ""
            },
            "colorscale": [
             [
              0,
              "#0d0887"
             ],
             [
              0.1111111111111111,
              "#46039f"
             ],
             [
              0.2222222222222222,
              "#7201a8"
             ],
             [
              0.3333333333333333,
              "#9c179e"
             ],
             [
              0.4444444444444444,
              "#bd3786"
             ],
             [
              0.5555555555555556,
              "#d8576b"
             ],
             [
              0.6666666666666666,
              "#ed7953"
             ],
             [
              0.7777777777777778,
              "#fb9f3a"
             ],
             [
              0.8888888888888888,
              "#fdca26"
             ],
             [
              1,
              "#f0f921"
             ]
            ],
            "type": "heatmapgl"
           }
          ],
          "histogram": [
           {
            "marker": {
             "pattern": {
              "fillmode": "overlay",
              "size": 10,
              "solidity": 0.2
             }
            },
            "type": "histogram"
           }
          ],
          "histogram2d": [
           {
            "colorbar": {
             "outlinewidth": 0,
             "ticks": ""
            },
            "colorscale": [
             [
              0,
              "#0d0887"
             ],
             [
              0.1111111111111111,
              "#46039f"
             ],
             [
              0.2222222222222222,
              "#7201a8"
             ],
             [
              0.3333333333333333,
              "#9c179e"
             ],
             [
              0.4444444444444444,
              "#bd3786"
             ],
             [
              0.5555555555555556,
              "#d8576b"
             ],
             [
              0.6666666666666666,
              "#ed7953"
             ],
             [
              0.7777777777777778,
              "#fb9f3a"
             ],
             [
              0.8888888888888888,
              "#fdca26"
             ],
             [
              1,
              "#f0f921"
             ]
            ],
            "type": "histogram2d"
           }
          ],
          "histogram2dcontour": [
           {
            "colorbar": {
             "outlinewidth": 0,
             "ticks": ""
            },
            "colorscale": [
             [
              0,
              "#0d0887"
             ],
             [
              0.1111111111111111,
              "#46039f"
             ],
             [
              0.2222222222222222,
              "#7201a8"
             ],
             [
              0.3333333333333333,
              "#9c179e"
             ],
             [
              0.4444444444444444,
              "#bd3786"
             ],
             [
              0.5555555555555556,
              "#d8576b"
             ],
             [
              0.6666666666666666,
              "#ed7953"
             ],
             [
              0.7777777777777778,
              "#fb9f3a"
             ],
             [
              0.8888888888888888,
              "#fdca26"
             ],
             [
              1,
              "#f0f921"
             ]
            ],
            "type": "histogram2dcontour"
           }
          ],
          "mesh3d": [
           {
            "colorbar": {
             "outlinewidth": 0,
             "ticks": ""
            },
            "type": "mesh3d"
           }
          ],
          "parcoords": [
           {
            "line": {
             "colorbar": {
              "outlinewidth": 0,
              "ticks": ""
             }
            },
            "type": "parcoords"
           }
          ],
          "pie": [
           {
            "automargin": true,
            "type": "pie"
           }
          ],
          "scatter": [
           {
            "fillpattern": {
             "fillmode": "overlay",
             "size": 10,
             "solidity": 0.2
            },
            "type": "scatter"
           }
          ],
          "scatter3d": [
           {
            "line": {
             "colorbar": {
              "outlinewidth": 0,
              "ticks": ""
             }
            },
            "marker": {
             "colorbar": {
              "outlinewidth": 0,
              "ticks": ""
             }
            },
            "type": "scatter3d"
           }
          ],
          "scattercarpet": [
           {
            "marker": {
             "colorbar": {
              "outlinewidth": 0,
              "ticks": ""
             }
            },
            "type": "scattercarpet"
           }
          ],
          "scattergeo": [
           {
            "marker": {
             "colorbar": {
              "outlinewidth": 0,
              "ticks": ""
             }
            },
            "type": "scattergeo"
           }
          ],
          "scattergl": [
           {
            "marker": {
             "colorbar": {
              "outlinewidth": 0,
              "ticks": ""
             }
            },
            "type": "scattergl"
           }
          ],
          "scattermapbox": [
           {
            "marker": {
             "colorbar": {
              "outlinewidth": 0,
              "ticks": ""
             }
            },
            "type": "scattermapbox"
           }
          ],
          "scatterpolar": [
           {
            "marker": {
             "colorbar": {
              "outlinewidth": 0,
              "ticks": ""
             }
            },
            "type": "scatterpolar"
           }
          ],
          "scatterpolargl": [
           {
            "marker": {
             "colorbar": {
              "outlinewidth": 0,
              "ticks": ""
             }
            },
            "type": "scatterpolargl"
           }
          ],
          "scatterternary": [
           {
            "marker": {
             "colorbar": {
              "outlinewidth": 0,
              "ticks": ""
             }
            },
            "type": "scatterternary"
           }
          ],
          "surface": [
           {
            "colorbar": {
             "outlinewidth": 0,
             "ticks": ""
            },
            "colorscale": [
             [
              0,
              "#0d0887"
             ],
             [
              0.1111111111111111,
              "#46039f"
             ],
             [
              0.2222222222222222,
              "#7201a8"
             ],
             [
              0.3333333333333333,
              "#9c179e"
             ],
             [
              0.4444444444444444,
              "#bd3786"
             ],
             [
              0.5555555555555556,
              "#d8576b"
             ],
             [
              0.6666666666666666,
              "#ed7953"
             ],
             [
              0.7777777777777778,
              "#fb9f3a"
             ],
             [
              0.8888888888888888,
              "#fdca26"
             ],
             [
              1,
              "#f0f921"
             ]
            ],
            "type": "surface"
           }
          ],
          "table": [
           {
            "cells": {
             "fill": {
              "color": "#EBF0F8"
             },
             "line": {
              "color": "white"
             }
            },
            "header": {
             "fill": {
              "color": "#C8D4E3"
             },
             "line": {
              "color": "white"
             }
            },
            "type": "table"
           }
          ]
         },
         "layout": {
          "annotationdefaults": {
           "arrowcolor": "#2a3f5f",
           "arrowhead": 0,
           "arrowwidth": 1
          },
          "autotypenumbers": "strict",
          "coloraxis": {
           "colorbar": {
            "outlinewidth": 0,
            "ticks": ""
           }
          },
          "colorscale": {
           "diverging": [
            [
             0,
             "#8e0152"
            ],
            [
             0.1,
             "#c51b7d"
            ],
            [
             0.2,
             "#de77ae"
            ],
            [
             0.3,
             "#f1b6da"
            ],
            [
             0.4,
             "#fde0ef"
            ],
            [
             0.5,
             "#f7f7f7"
            ],
            [
             0.6,
             "#e6f5d0"
            ],
            [
             0.7,
             "#b8e186"
            ],
            [
             0.8,
             "#7fbc41"
            ],
            [
             0.9,
             "#4d9221"
            ],
            [
             1,
             "#276419"
            ]
           ],
           "sequential": [
            [
             0,
             "#0d0887"
            ],
            [
             0.1111111111111111,
             "#46039f"
            ],
            [
             0.2222222222222222,
             "#7201a8"
            ],
            [
             0.3333333333333333,
             "#9c179e"
            ],
            [
             0.4444444444444444,
             "#bd3786"
            ],
            [
             0.5555555555555556,
             "#d8576b"
            ],
            [
             0.6666666666666666,
             "#ed7953"
            ],
            [
             0.7777777777777778,
             "#fb9f3a"
            ],
            [
             0.8888888888888888,
             "#fdca26"
            ],
            [
             1,
             "#f0f921"
            ]
           ],
           "sequentialminus": [
            [
             0,
             "#0d0887"
            ],
            [
             0.1111111111111111,
             "#46039f"
            ],
            [
             0.2222222222222222,
             "#7201a8"
            ],
            [
             0.3333333333333333,
             "#9c179e"
            ],
            [
             0.4444444444444444,
             "#bd3786"
            ],
            [
             0.5555555555555556,
             "#d8576b"
            ],
            [
             0.6666666666666666,
             "#ed7953"
            ],
            [
             0.7777777777777778,
             "#fb9f3a"
            ],
            [
             0.8888888888888888,
             "#fdca26"
            ],
            [
             1,
             "#f0f921"
            ]
           ]
          },
          "colorway": [
           "#636efa",
           "#EF553B",
           "#00cc96",
           "#ab63fa",
           "#FFA15A",
           "#19d3f3",
           "#FF6692",
           "#B6E880",
           "#FF97FF",
           "#FECB52"
          ],
          "font": {
           "color": "#2a3f5f"
          },
          "geo": {
           "bgcolor": "white",
           "lakecolor": "white",
           "landcolor": "#E5ECF6",
           "showlakes": true,
           "showland": true,
           "subunitcolor": "white"
          },
          "hoverlabel": {
           "align": "left"
          },
          "hovermode": "closest",
          "mapbox": {
           "style": "light"
          },
          "paper_bgcolor": "white",
          "plot_bgcolor": "#E5ECF6",
          "polar": {
           "angularaxis": {
            "gridcolor": "white",
            "linecolor": "white",
            "ticks": ""
           },
           "bgcolor": "#E5ECF6",
           "radialaxis": {
            "gridcolor": "white",
            "linecolor": "white",
            "ticks": ""
           }
          },
          "scene": {
           "xaxis": {
            "backgroundcolor": "#E5ECF6",
            "gridcolor": "white",
            "gridwidth": 2,
            "linecolor": "white",
            "showbackground": true,
            "ticks": "",
            "zerolinecolor": "white"
           },
           "yaxis": {
            "backgroundcolor": "#E5ECF6",
            "gridcolor": "white",
            "gridwidth": 2,
            "linecolor": "white",
            "showbackground": true,
            "ticks": "",
            "zerolinecolor": "white"
           },
           "zaxis": {
            "backgroundcolor": "#E5ECF6",
            "gridcolor": "white",
            "gridwidth": 2,
            "linecolor": "white",
            "showbackground": true,
            "ticks": "",
            "zerolinecolor": "white"
           }
          },
          "shapedefaults": {
           "line": {
            "color": "#2a3f5f"
           }
          },
          "ternary": {
           "aaxis": {
            "gridcolor": "white",
            "linecolor": "white",
            "ticks": ""
           },
           "baxis": {
            "gridcolor": "white",
            "linecolor": "white",
            "ticks": ""
           },
           "bgcolor": "#E5ECF6",
           "caxis": {
            "gridcolor": "white",
            "linecolor": "white",
            "ticks": ""
           }
          },
          "title": {
           "x": 0.05
          },
          "xaxis": {
           "automargin": true,
           "gridcolor": "white",
           "linecolor": "white",
           "ticks": "",
           "title": {
            "standoff": 15
           },
           "zerolinecolor": "white",
           "zerolinewidth": 2
          },
          "yaxis": {
           "automargin": true,
           "gridcolor": "white",
           "linecolor": "white",
           "ticks": "",
           "title": {
            "standoff": 15
           },
           "zerolinecolor": "white",
           "zerolinewidth": 2
          }
         }
        },
        "title": {
         "text": "GPU utilization during decompression per file  at different chunk sizes"
        },
        "width": 1000,
        "xaxis": {
         "anchor": "y",
         "domain": [
          0,
          0.98
         ],
         "title": {
          "text": "chunk_size"
         },
         "type": "log"
        },
        "xaxis2": {
         "anchor": "y2",
         "domain": [
          0,
          0.98
         ],
         "matches": "x",
         "showticklabels": false,
         "type": "log"
        },
        "xaxis3": {
         "anchor": "y3",
         "domain": [
          0,
          0.98
         ],
         "matches": "x",
         "showticklabels": false,
         "type": "log"
        },
        "xaxis4": {
         "anchor": "y4",
         "domain": [
          0,
          0.98
         ],
         "matches": "x",
         "showticklabels": false,
         "type": "log"
        },
        "xaxis5": {
         "anchor": "y5",
         "domain": [
          0,
          0.98
         ],
         "matches": "x",
         "showticklabels": false,
         "type": "log"
        },
        "xaxis6": {
         "anchor": "y6",
         "domain": [
          0,
          0.98
         ],
         "matches": "x",
         "showticklabels": false,
         "type": "log"
        },
        "xaxis7": {
         "anchor": "y7",
         "domain": [
          0,
          0.98
         ],
         "matches": "x",
         "showticklabels": false,
         "type": "log"
        },
        "xaxis8": {
         "anchor": "y8",
         "domain": [
          0,
          0.98
         ],
         "matches": "x",
         "showticklabels": false,
         "type": "log"
        },
        "xaxis9": {
         "anchor": "y9",
         "domain": [
          0,
          0.98
         ],
         "matches": "x",
         "showticklabels": false,
         "type": "log"
        },
        "yaxis": {
         "anchor": "x",
         "domain": [
          0,
          0.08444444444444445
         ],
         "title": {
          "text": "decompression_utilization"
         }
        },
        "yaxis2": {
         "anchor": "x2",
         "domain": [
          0.11444444444444445,
          0.1988888888888889
         ],
         "matches": "y",
         "title": {
          "text": "decompression_utilization"
         }
        },
        "yaxis3": {
         "anchor": "x3",
         "domain": [
          0.2288888888888889,
          0.31333333333333335
         ],
         "matches": "y",
         "title": {
          "text": "decompression_utilization"
         }
        },
        "yaxis4": {
         "anchor": "x4",
         "domain": [
          0.3433333333333334,
          0.4277777777777778
         ],
         "matches": "y",
         "title": {
          "text": "decompression_utilization"
         }
        },
        "yaxis5": {
         "anchor": "x5",
         "domain": [
          0.4577777777777778,
          0.5422222222222223
         ],
         "matches": "y",
         "title": {
          "text": "decompression_utilization"
         }
        },
        "yaxis6": {
         "anchor": "x6",
         "domain": [
          0.5722222222222222,
          0.6566666666666666
         ],
         "matches": "y",
         "title": {
          "text": "decompression_utilization"
         }
        },
        "yaxis7": {
         "anchor": "x7",
         "domain": [
          0.6866666666666668,
          0.7711111111111112
         ],
         "matches": "y",
         "title": {
          "text": "decompression_utilization"
         }
        },
        "yaxis8": {
         "anchor": "x8",
         "domain": [
          0.8011111111111111,
          0.8855555555555555
         ],
         "matches": "y",
         "title": {
          "text": "decompression_utilization"
         }
        },
        "yaxis9": {
         "anchor": "x9",
         "domain": [
          0.9155555555555556,
          1
         ],
         "matches": "y",
         "title": {
          "text": "decompression_utilization"
         }
        }
       }
      }
     },
     "metadata": {},
     "output_type": "display_data"
    }
   ],
   "source": [
    "fig_utilization_file = px.line(\n",
    "    result_df,\n",
    "    title=f\"GPU utilization during decompression per file  at different chunk sizes\", \n",
    "    x=\"chunk_size\",\n",
    "    y=\"decompression_utilization\",\n",
    "    color=\"standard\",\n",
    "    log_x=True,\n",
    "    markers=True,\n",
    "    #log_y=True,\n",
    "    facet_row=\"file\",\n",
    "    # facet_row_spacing=0.05,\n",
    "    height=1200,\n",
    "    width=1000,\n",
    ")\n",
    "# fig_utilization_standard.update_xaxes(autorange=\"reversed\")\n",
    "\n",
    "\n",
    "fig_utilization_file.show()"
   ]
  },
  {
   "cell_type": "markdown",
   "metadata": {},
   "source": []
  }
 ],
 "metadata": {
  "kernelspec": {
   "display_name": "Python 3 (ipykernel)",
   "language": "python",
   "name": "python3"
  },
  "language_info": {
   "codemirror_mode": {
    "name": "ipython",
    "version": 3
   },
   "file_extension": ".py",
   "mimetype": "text/x-python",
   "name": "python",
   "nbconvert_exporter": "python",
   "pygments_lexer": "ipython3",
   "version": "3.10.13"
  }
 },
 "nbformat": 4,
 "nbformat_minor": 4
}
