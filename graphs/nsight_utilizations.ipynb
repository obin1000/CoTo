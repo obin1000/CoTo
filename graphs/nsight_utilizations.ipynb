{
 "cells": [
  {
   "cell_type": "code",
   "execution_count": 1,
   "metadata": {},
   "outputs": [],
   "source": [
    "import pandas as pd\n",
    "import plotly.express as px\n",
    "import plotly.graph_objects as go\n",
    "import plotly.io as pio\n",
    "from plotly.subplots import make_subplots\n",
    "import numpy as np\n",
    "import pyarrow as pa\n",
    "import nsys_constants\n",
    "import nsys_reader\n",
    "\n",
    "input_dir = '../../../data/decompression/profiling_result_all/'\n",
    "\n",
    "compressors = ['snappy', 'zstd']\n",
    "compression_files = ['8gb_dickens', '8gb_mozilla', '8gb_mr', '8gb_nci', '8gb_samba', '8gb_sao', '8gb_silesia.zip', '8gb_xml', '8gb_lineitem.parquet']\n",
    "approx_number_of_threads = [8, 32, 128, 512, 2048, 8192, 32768, 131072, 524288, 2097152, 8388608]\n",
    "FILE_SIZE=8589934592\n"
   ]
  },
  {
   "cell_type": "code",
   "execution_count": 2,
   "metadata": {},
   "outputs": [
    {
     "name": "stdout",
     "output_type": "stream",
     "text": [
      "../../../data/decompression/profiling_result_all/output_snappy_8gb_dickens_8threads.h5\n",
      "../../../data/decompression/profiling_result_all/output_snappy_8gb_dickens_32threads.h5\n",
      "../../../data/decompression/profiling_result_all/output_snappy_8gb_dickens_128threads.h5\n",
      "../../../data/decompression/profiling_result_all/output_snappy_8gb_dickens_512threads.h5\n",
      "../../../data/decompression/profiling_result_all/output_snappy_8gb_dickens_2048threads.h5\n",
      "../../../data/decompression/profiling_result_all/output_snappy_8gb_dickens_8192threads.h5\n",
      "../../../data/decompression/profiling_result_all/output_snappy_8gb_dickens_32768threads.h5\n",
      "../../../data/decompression/profiling_result_all/output_snappy_8gb_dickens_131072threads.h5\n",
      "../../../data/decompression/profiling_result_all/output_snappy_8gb_dickens_524288threads.h5\n",
      "Failed getting utilization of snappy 8gb_dickens 524288 threads: [Errno 2] Unable to synchronously open file (unable to open file: name = '../../../data/decompression/profiling_result_all/output_snappy_8gb_dickens_524288threads.h5', errno = 2, error message = 'No such file or directory', flags = 0, o_flags = 0)\n",
      "../../../data/decompression/profiling_result_all/output_snappy_8gb_dickens_2097152threads.h5\n",
      "Failed getting utilization of snappy 8gb_dickens 2097152 threads: [Errno 2] Unable to synchronously open file (unable to open file: name = '../../../data/decompression/profiling_result_all/output_snappy_8gb_dickens_2097152threads.h5', errno = 2, error message = 'No such file or directory', flags = 0, o_flags = 0)\n",
      "../../../data/decompression/profiling_result_all/output_snappy_8gb_dickens_8388608threads.h5\n",
      "Failed getting utilization of snappy 8gb_dickens 8388608 threads: [Errno 2] Unable to synchronously open file (unable to open file: name = '../../../data/decompression/profiling_result_all/output_snappy_8gb_dickens_8388608threads.h5', errno = 2, error message = 'No such file or directory', flags = 0, o_flags = 0)\n",
      "../../../data/decompression/profiling_result_all/output_zstd_8gb_dickens_8threads.h5\n",
      "Failed getting utilization of zstd 8gb_dickens 8 threads: \"Unable to synchronously open object (object 'CUPTI_ACTIVITY_KIND_KERNEL' doesn't exist)\"\n",
      "../../../data/decompression/profiling_result_all/output_zstd_8gb_dickens_32threads.h5\n",
      "Failed getting utilization of zstd 8gb_dickens 32 threads: \"Unable to synchronously open object (object 'CUPTI_ACTIVITY_KIND_KERNEL' doesn't exist)\"\n",
      "../../../data/decompression/profiling_result_all/output_zstd_8gb_dickens_128threads.h5\n",
      "Failed getting utilization of zstd 8gb_dickens 128 threads: \"Unable to synchronously open object (object 'CUPTI_ACTIVITY_KIND_KERNEL' doesn't exist)\"\n",
      "../../../data/decompression/profiling_result_all/output_zstd_8gb_dickens_512threads.h5\n",
      "../../../data/decompression/profiling_result_all/output_zstd_8gb_dickens_2048threads.h5\n",
      "../../../data/decompression/profiling_result_all/output_zstd_8gb_dickens_8192threads.h5\n",
      "../../../data/decompression/profiling_result_all/output_zstd_8gb_dickens_32768threads.h5\n",
      "../../../data/decompression/profiling_result_all/output_zstd_8gb_dickens_131072threads.h5\n",
      "../../../data/decompression/profiling_result_all/output_zstd_8gb_dickens_524288threads.h5\n",
      "Failed getting utilization of zstd 8gb_dickens 524288 threads: [Errno 2] Unable to synchronously open file (unable to open file: name = '../../../data/decompression/profiling_result_all/output_zstd_8gb_dickens_524288threads.h5', errno = 2, error message = 'No such file or directory', flags = 0, o_flags = 0)\n",
      "../../../data/decompression/profiling_result_all/output_zstd_8gb_dickens_2097152threads.h5\n",
      "Failed getting utilization of zstd 8gb_dickens 2097152 threads: [Errno 2] Unable to synchronously open file (unable to open file: name = '../../../data/decompression/profiling_result_all/output_zstd_8gb_dickens_2097152threads.h5', errno = 2, error message = 'No such file or directory', flags = 0, o_flags = 0)\n",
      "../../../data/decompression/profiling_result_all/output_zstd_8gb_dickens_8388608threads.h5\n",
      "Failed getting utilization of zstd 8gb_dickens 8388608 threads: [Errno 2] Unable to synchronously open file (unable to open file: name = '../../../data/decompression/profiling_result_all/output_zstd_8gb_dickens_8388608threads.h5', errno = 2, error message = 'No such file or directory', flags = 0, o_flags = 0)\n",
      "../../../data/decompression/profiling_result_all/output_snappy_8gb_mozilla_8threads.h5\n",
      "../../../data/decompression/profiling_result_all/output_snappy_8gb_mozilla_32threads.h5\n",
      "../../../data/decompression/profiling_result_all/output_snappy_8gb_mozilla_128threads.h5\n",
      "../../../data/decompression/profiling_result_all/output_snappy_8gb_mozilla_512threads.h5\n",
      "../../../data/decompression/profiling_result_all/output_snappy_8gb_mozilla_2048threads.h5\n",
      "../../../data/decompression/profiling_result_all/output_snappy_8gb_mozilla_8192threads.h5\n",
      "../../../data/decompression/profiling_result_all/output_snappy_8gb_mozilla_32768threads.h5\n",
      "../../../data/decompression/profiling_result_all/output_snappy_8gb_mozilla_131072threads.h5\n",
      "../../../data/decompression/profiling_result_all/output_snappy_8gb_mozilla_524288threads.h5\n",
      "Failed getting utilization of snappy 8gb_mozilla 524288 threads: [Errno 2] Unable to synchronously open file (unable to open file: name = '../../../data/decompression/profiling_result_all/output_snappy_8gb_mozilla_524288threads.h5', errno = 2, error message = 'No such file or directory', flags = 0, o_flags = 0)\n",
      "../../../data/decompression/profiling_result_all/output_snappy_8gb_mozilla_2097152threads.h5\n",
      "Failed getting utilization of snappy 8gb_mozilla 2097152 threads: [Errno 2] Unable to synchronously open file (unable to open file: name = '../../../data/decompression/profiling_result_all/output_snappy_8gb_mozilla_2097152threads.h5', errno = 2, error message = 'No such file or directory', flags = 0, o_flags = 0)\n",
      "../../../data/decompression/profiling_result_all/output_snappy_8gb_mozilla_8388608threads.h5\n",
      "Failed getting utilization of snappy 8gb_mozilla 8388608 threads: [Errno 2] Unable to synchronously open file (unable to open file: name = '../../../data/decompression/profiling_result_all/output_snappy_8gb_mozilla_8388608threads.h5', errno = 2, error message = 'No such file or directory', flags = 0, o_flags = 0)\n",
      "../../../data/decompression/profiling_result_all/output_zstd_8gb_mozilla_8threads.h5\n",
      "Failed getting utilization of zstd 8gb_mozilla 8 threads: \"Unable to synchronously open object (object 'CUPTI_ACTIVITY_KIND_KERNEL' doesn't exist)\"\n",
      "../../../data/decompression/profiling_result_all/output_zstd_8gb_mozilla_32threads.h5\n",
      "Failed getting utilization of zstd 8gb_mozilla 32 threads: \"Unable to synchronously open object (object 'CUPTI_ACTIVITY_KIND_KERNEL' doesn't exist)\"\n",
      "../../../data/decompression/profiling_result_all/output_zstd_8gb_mozilla_128threads.h5\n",
      "Failed getting utilization of zstd 8gb_mozilla 128 threads: \"Unable to synchronously open object (object 'CUPTI_ACTIVITY_KIND_KERNEL' doesn't exist)\"\n",
      "../../../data/decompression/profiling_result_all/output_zstd_8gb_mozilla_512threads.h5\n",
      "../../../data/decompression/profiling_result_all/output_zstd_8gb_mozilla_2048threads.h5\n",
      "../../../data/decompression/profiling_result_all/output_zstd_8gb_mozilla_8192threads.h5\n",
      "../../../data/decompression/profiling_result_all/output_zstd_8gb_mozilla_32768threads.h5\n",
      "../../../data/decompression/profiling_result_all/output_zstd_8gb_mozilla_131072threads.h5\n",
      "../../../data/decompression/profiling_result_all/output_zstd_8gb_mozilla_524288threads.h5\n",
      "Failed getting utilization of zstd 8gb_mozilla 524288 threads: [Errno 2] Unable to synchronously open file (unable to open file: name = '../../../data/decompression/profiling_result_all/output_zstd_8gb_mozilla_524288threads.h5', errno = 2, error message = 'No such file or directory', flags = 0, o_flags = 0)\n",
      "../../../data/decompression/profiling_result_all/output_zstd_8gb_mozilla_2097152threads.h5\n",
      "Failed getting utilization of zstd 8gb_mozilla 2097152 threads: [Errno 2] Unable to synchronously open file (unable to open file: name = '../../../data/decompression/profiling_result_all/output_zstd_8gb_mozilla_2097152threads.h5', errno = 2, error message = 'No such file or directory', flags = 0, o_flags = 0)\n",
      "../../../data/decompression/profiling_result_all/output_zstd_8gb_mozilla_8388608threads.h5\n",
      "Failed getting utilization of zstd 8gb_mozilla 8388608 threads: [Errno 2] Unable to synchronously open file (unable to open file: name = '../../../data/decompression/profiling_result_all/output_zstd_8gb_mozilla_8388608threads.h5', errno = 2, error message = 'No such file or directory', flags = 0, o_flags = 0)\n",
      "../../../data/decompression/profiling_result_all/output_snappy_8gb_mr_8threads.h5\n",
      "../../../data/decompression/profiling_result_all/output_snappy_8gb_mr_32threads.h5\n",
      "../../../data/decompression/profiling_result_all/output_snappy_8gb_mr_128threads.h5\n",
      "../../../data/decompression/profiling_result_all/output_snappy_8gb_mr_512threads.h5\n",
      "../../../data/decompression/profiling_result_all/output_snappy_8gb_mr_2048threads.h5\n",
      "../../../data/decompression/profiling_result_all/output_snappy_8gb_mr_8192threads.h5\n",
      "../../../data/decompression/profiling_result_all/output_snappy_8gb_mr_32768threads.h5\n",
      "../../../data/decompression/profiling_result_all/output_snappy_8gb_mr_131072threads.h5\n",
      "../../../data/decompression/profiling_result_all/output_snappy_8gb_mr_524288threads.h5\n",
      "Failed getting utilization of snappy 8gb_mr 524288 threads: [Errno 2] Unable to synchronously open file (unable to open file: name = '../../../data/decompression/profiling_result_all/output_snappy_8gb_mr_524288threads.h5', errno = 2, error message = 'No such file or directory', flags = 0, o_flags = 0)\n",
      "../../../data/decompression/profiling_result_all/output_snappy_8gb_mr_2097152threads.h5\n",
      "Failed getting utilization of snappy 8gb_mr 2097152 threads: [Errno 2] Unable to synchronously open file (unable to open file: name = '../../../data/decompression/profiling_result_all/output_snappy_8gb_mr_2097152threads.h5', errno = 2, error message = 'No such file or directory', flags = 0, o_flags = 0)\n",
      "../../../data/decompression/profiling_result_all/output_snappy_8gb_mr_8388608threads.h5\n",
      "Failed getting utilization of snappy 8gb_mr 8388608 threads: [Errno 2] Unable to synchronously open file (unable to open file: name = '../../../data/decompression/profiling_result_all/output_snappy_8gb_mr_8388608threads.h5', errno = 2, error message = 'No such file or directory', flags = 0, o_flags = 0)\n",
      "../../../data/decompression/profiling_result_all/output_zstd_8gb_mr_8threads.h5\n",
      "Failed getting utilization of zstd 8gb_mr 8 threads: \"Unable to synchronously open object (object 'CUPTI_ACTIVITY_KIND_KERNEL' doesn't exist)\"\n",
      "../../../data/decompression/profiling_result_all/output_zstd_8gb_mr_32threads.h5\n",
      "Failed getting utilization of zstd 8gb_mr 32 threads: \"Unable to synchronously open object (object 'CUPTI_ACTIVITY_KIND_KERNEL' doesn't exist)\"\n",
      "../../../data/decompression/profiling_result_all/output_zstd_8gb_mr_128threads.h5\n",
      "Failed getting utilization of zstd 8gb_mr 128 threads: \"Unable to synchronously open object (object 'CUPTI_ACTIVITY_KIND_KERNEL' doesn't exist)\"\n",
      "../../../data/decompression/profiling_result_all/output_zstd_8gb_mr_512threads.h5\n",
      "../../../data/decompression/profiling_result_all/output_zstd_8gb_mr_2048threads.h5\n",
      "../../../data/decompression/profiling_result_all/output_zstd_8gb_mr_8192threads.h5\n",
      "../../../data/decompression/profiling_result_all/output_zstd_8gb_mr_32768threads.h5\n",
      "../../../data/decompression/profiling_result_all/output_zstd_8gb_mr_131072threads.h5\n",
      "../../../data/decompression/profiling_result_all/output_zstd_8gb_mr_524288threads.h5\n",
      "Failed getting utilization of zstd 8gb_mr 524288 threads: [Errno 2] Unable to synchronously open file (unable to open file: name = '../../../data/decompression/profiling_result_all/output_zstd_8gb_mr_524288threads.h5', errno = 2, error message = 'No such file or directory', flags = 0, o_flags = 0)\n",
      "../../../data/decompression/profiling_result_all/output_zstd_8gb_mr_2097152threads.h5\n",
      "Failed getting utilization of zstd 8gb_mr 2097152 threads: [Errno 2] Unable to synchronously open file (unable to open file: name = '../../../data/decompression/profiling_result_all/output_zstd_8gb_mr_2097152threads.h5', errno = 2, error message = 'No such file or directory', flags = 0, o_flags = 0)\n",
      "../../../data/decompression/profiling_result_all/output_zstd_8gb_mr_8388608threads.h5\n",
      "Failed getting utilization of zstd 8gb_mr 8388608 threads: [Errno 2] Unable to synchronously open file (unable to open file: name = '../../../data/decompression/profiling_result_all/output_zstd_8gb_mr_8388608threads.h5', errno = 2, error message = 'No such file or directory', flags = 0, o_flags = 0)\n",
      "../../../data/decompression/profiling_result_all/output_snappy_8gb_nci_8threads.h5\n",
      "../../../data/decompression/profiling_result_all/output_snappy_8gb_nci_32threads.h5\n",
      "../../../data/decompression/profiling_result_all/output_snappy_8gb_nci_128threads.h5\n",
      "../../../data/decompression/profiling_result_all/output_snappy_8gb_nci_512threads.h5\n",
      "../../../data/decompression/profiling_result_all/output_snappy_8gb_nci_2048threads.h5\n",
      "../../../data/decompression/profiling_result_all/output_snappy_8gb_nci_8192threads.h5\n",
      "../../../data/decompression/profiling_result_all/output_snappy_8gb_nci_32768threads.h5\n",
      "../../../data/decompression/profiling_result_all/output_snappy_8gb_nci_131072threads.h5\n",
      "../../../data/decompression/profiling_result_all/output_snappy_8gb_nci_524288threads.h5\n",
      "Failed getting utilization of snappy 8gb_nci 524288 threads: [Errno 2] Unable to synchronously open file (unable to open file: name = '../../../data/decompression/profiling_result_all/output_snappy_8gb_nci_524288threads.h5', errno = 2, error message = 'No such file or directory', flags = 0, o_flags = 0)\n",
      "../../../data/decompression/profiling_result_all/output_snappy_8gb_nci_2097152threads.h5\n",
      "Failed getting utilization of snappy 8gb_nci 2097152 threads: [Errno 2] Unable to synchronously open file (unable to open file: name = '../../../data/decompression/profiling_result_all/output_snappy_8gb_nci_2097152threads.h5', errno = 2, error message = 'No such file or directory', flags = 0, o_flags = 0)\n",
      "../../../data/decompression/profiling_result_all/output_snappy_8gb_nci_8388608threads.h5\n",
      "Failed getting utilization of snappy 8gb_nci 8388608 threads: [Errno 2] Unable to synchronously open file (unable to open file: name = '../../../data/decompression/profiling_result_all/output_snappy_8gb_nci_8388608threads.h5', errno = 2, error message = 'No such file or directory', flags = 0, o_flags = 0)\n",
      "../../../data/decompression/profiling_result_all/output_zstd_8gb_nci_8threads.h5\n",
      "Failed getting utilization of zstd 8gb_nci 8 threads: \"Unable to synchronously open object (object 'CUPTI_ACTIVITY_KIND_KERNEL' doesn't exist)\"\n",
      "../../../data/decompression/profiling_result_all/output_zstd_8gb_nci_32threads.h5\n",
      "Failed getting utilization of zstd 8gb_nci 32 threads: \"Unable to synchronously open object (object 'CUPTI_ACTIVITY_KIND_KERNEL' doesn't exist)\"\n",
      "../../../data/decompression/profiling_result_all/output_zstd_8gb_nci_128threads.h5\n",
      "Failed getting utilization of zstd 8gb_nci 128 threads: \"Unable to synchronously open object (object 'CUPTI_ACTIVITY_KIND_KERNEL' doesn't exist)\"\n",
      "../../../data/decompression/profiling_result_all/output_zstd_8gb_nci_512threads.h5\n",
      "../../../data/decompression/profiling_result_all/output_zstd_8gb_nci_2048threads.h5\n",
      "../../../data/decompression/profiling_result_all/output_zstd_8gb_nci_8192threads.h5\n",
      "../../../data/decompression/profiling_result_all/output_zstd_8gb_nci_32768threads.h5\n",
      "../../../data/decompression/profiling_result_all/output_zstd_8gb_nci_131072threads.h5\n",
      "../../../data/decompression/profiling_result_all/output_zstd_8gb_nci_524288threads.h5\n",
      "Failed getting utilization of zstd 8gb_nci 524288 threads: [Errno 2] Unable to synchronously open file (unable to open file: name = '../../../data/decompression/profiling_result_all/output_zstd_8gb_nci_524288threads.h5', errno = 2, error message = 'No such file or directory', flags = 0, o_flags = 0)\n",
      "../../../data/decompression/profiling_result_all/output_zstd_8gb_nci_2097152threads.h5\n",
      "Failed getting utilization of zstd 8gb_nci 2097152 threads: [Errno 2] Unable to synchronously open file (unable to open file: name = '../../../data/decompression/profiling_result_all/output_zstd_8gb_nci_2097152threads.h5', errno = 2, error message = 'No such file or directory', flags = 0, o_flags = 0)\n",
      "../../../data/decompression/profiling_result_all/output_zstd_8gb_nci_8388608threads.h5\n",
      "Failed getting utilization of zstd 8gb_nci 8388608 threads: [Errno 2] Unable to synchronously open file (unable to open file: name = '../../../data/decompression/profiling_result_all/output_zstd_8gb_nci_8388608threads.h5', errno = 2, error message = 'No such file or directory', flags = 0, o_flags = 0)\n",
      "../../../data/decompression/profiling_result_all/output_snappy_8gb_samba_8threads.h5\n",
      "../../../data/decompression/profiling_result_all/output_snappy_8gb_samba_32threads.h5\n",
      "../../../data/decompression/profiling_result_all/output_snappy_8gb_samba_128threads.h5\n",
      "../../../data/decompression/profiling_result_all/output_snappy_8gb_samba_512threads.h5\n",
      "../../../data/decompression/profiling_result_all/output_snappy_8gb_samba_2048threads.h5\n",
      "../../../data/decompression/profiling_result_all/output_snappy_8gb_samba_8192threads.h5\n",
      "../../../data/decompression/profiling_result_all/output_snappy_8gb_samba_32768threads.h5\n",
      "../../../data/decompression/profiling_result_all/output_snappy_8gb_samba_131072threads.h5\n",
      "../../../data/decompression/profiling_result_all/output_snappy_8gb_samba_524288threads.h5\n",
      "Failed getting utilization of snappy 8gb_samba 524288 threads: [Errno 2] Unable to synchronously open file (unable to open file: name = '../../../data/decompression/profiling_result_all/output_snappy_8gb_samba_524288threads.h5', errno = 2, error message = 'No such file or directory', flags = 0, o_flags = 0)\n",
      "../../../data/decompression/profiling_result_all/output_snappy_8gb_samba_2097152threads.h5\n",
      "Failed getting utilization of snappy 8gb_samba 2097152 threads: [Errno 2] Unable to synchronously open file (unable to open file: name = '../../../data/decompression/profiling_result_all/output_snappy_8gb_samba_2097152threads.h5', errno = 2, error message = 'No such file or directory', flags = 0, o_flags = 0)\n",
      "../../../data/decompression/profiling_result_all/output_snappy_8gb_samba_8388608threads.h5\n",
      "Failed getting utilization of snappy 8gb_samba 8388608 threads: [Errno 2] Unable to synchronously open file (unable to open file: name = '../../../data/decompression/profiling_result_all/output_snappy_8gb_samba_8388608threads.h5', errno = 2, error message = 'No such file or directory', flags = 0, o_flags = 0)\n",
      "../../../data/decompression/profiling_result_all/output_zstd_8gb_samba_8threads.h5\n",
      "Failed getting utilization of zstd 8gb_samba 8 threads: \"Unable to synchronously open object (object 'CUPTI_ACTIVITY_KIND_KERNEL' doesn't exist)\"\n",
      "../../../data/decompression/profiling_result_all/output_zstd_8gb_samba_32threads.h5\n",
      "Failed getting utilization of zstd 8gb_samba 32 threads: \"Unable to synchronously open object (object 'CUPTI_ACTIVITY_KIND_KERNEL' doesn't exist)\"\n",
      "../../../data/decompression/profiling_result_all/output_zstd_8gb_samba_128threads.h5\n",
      "Failed getting utilization of zstd 8gb_samba 128 threads: \"Unable to synchronously open object (object 'CUPTI_ACTIVITY_KIND_KERNEL' doesn't exist)\"\n",
      "../../../data/decompression/profiling_result_all/output_zstd_8gb_samba_512threads.h5\n",
      "../../../data/decompression/profiling_result_all/output_zstd_8gb_samba_2048threads.h5\n",
      "../../../data/decompression/profiling_result_all/output_zstd_8gb_samba_8192threads.h5\n",
      "../../../data/decompression/profiling_result_all/output_zstd_8gb_samba_32768threads.h5\n",
      "../../../data/decompression/profiling_result_all/output_zstd_8gb_samba_131072threads.h5\n",
      "../../../data/decompression/profiling_result_all/output_zstd_8gb_samba_524288threads.h5\n",
      "Failed getting utilization of zstd 8gb_samba 524288 threads: [Errno 2] Unable to synchronously open file (unable to open file: name = '../../../data/decompression/profiling_result_all/output_zstd_8gb_samba_524288threads.h5', errno = 2, error message = 'No such file or directory', flags = 0, o_flags = 0)\n",
      "../../../data/decompression/profiling_result_all/output_zstd_8gb_samba_2097152threads.h5\n",
      "Failed getting utilization of zstd 8gb_samba 2097152 threads: [Errno 2] Unable to synchronously open file (unable to open file: name = '../../../data/decompression/profiling_result_all/output_zstd_8gb_samba_2097152threads.h5', errno = 2, error message = 'No such file or directory', flags = 0, o_flags = 0)\n",
      "../../../data/decompression/profiling_result_all/output_zstd_8gb_samba_8388608threads.h5\n",
      "Failed getting utilization of zstd 8gb_samba 8388608 threads: [Errno 2] Unable to synchronously open file (unable to open file: name = '../../../data/decompression/profiling_result_all/output_zstd_8gb_samba_8388608threads.h5', errno = 2, error message = 'No such file or directory', flags = 0, o_flags = 0)\n",
      "../../../data/decompression/profiling_result_all/output_snappy_8gb_sao_8threads.h5\n",
      "../../../data/decompression/profiling_result_all/output_snappy_8gb_sao_32threads.h5\n",
      "../../../data/decompression/profiling_result_all/output_snappy_8gb_sao_128threads.h5\n",
      "../../../data/decompression/profiling_result_all/output_snappy_8gb_sao_512threads.h5\n",
      "../../../data/decompression/profiling_result_all/output_snappy_8gb_sao_2048threads.h5\n",
      "../../../data/decompression/profiling_result_all/output_snappy_8gb_sao_8192threads.h5\n",
      "../../../data/decompression/profiling_result_all/output_snappy_8gb_sao_32768threads.h5\n",
      "../../../data/decompression/profiling_result_all/output_snappy_8gb_sao_131072threads.h5\n",
      "../../../data/decompression/profiling_result_all/output_snappy_8gb_sao_524288threads.h5\n",
      "Failed getting utilization of snappy 8gb_sao 524288 threads: [Errno 2] Unable to synchronously open file (unable to open file: name = '../../../data/decompression/profiling_result_all/output_snappy_8gb_sao_524288threads.h5', errno = 2, error message = 'No such file or directory', flags = 0, o_flags = 0)\n",
      "../../../data/decompression/profiling_result_all/output_snappy_8gb_sao_2097152threads.h5\n",
      "Failed getting utilization of snappy 8gb_sao 2097152 threads: [Errno 2] Unable to synchronously open file (unable to open file: name = '../../../data/decompression/profiling_result_all/output_snappy_8gb_sao_2097152threads.h5', errno = 2, error message = 'No such file or directory', flags = 0, o_flags = 0)\n",
      "../../../data/decompression/profiling_result_all/output_snappy_8gb_sao_8388608threads.h5\n",
      "Failed getting utilization of snappy 8gb_sao 8388608 threads: [Errno 2] Unable to synchronously open file (unable to open file: name = '../../../data/decompression/profiling_result_all/output_snappy_8gb_sao_8388608threads.h5', errno = 2, error message = 'No such file or directory', flags = 0, o_flags = 0)\n",
      "../../../data/decompression/profiling_result_all/output_zstd_8gb_sao_8threads.h5\n",
      "Failed getting utilization of zstd 8gb_sao 8 threads: \"Unable to synchronously open object (object 'CUPTI_ACTIVITY_KIND_KERNEL' doesn't exist)\"\n",
      "../../../data/decompression/profiling_result_all/output_zstd_8gb_sao_32threads.h5\n",
      "Failed getting utilization of zstd 8gb_sao 32 threads: \"Unable to synchronously open object (object 'CUPTI_ACTIVITY_KIND_KERNEL' doesn't exist)\"\n",
      "../../../data/decompression/profiling_result_all/output_zstd_8gb_sao_128threads.h5\n",
      "Failed getting utilization of zstd 8gb_sao 128 threads: \"Unable to synchronously open object (object 'CUPTI_ACTIVITY_KIND_KERNEL' doesn't exist)\"\n",
      "../../../data/decompression/profiling_result_all/output_zstd_8gb_sao_512threads.h5\n",
      "../../../data/decompression/profiling_result_all/output_zstd_8gb_sao_2048threads.h5\n",
      "../../../data/decompression/profiling_result_all/output_zstd_8gb_sao_8192threads.h5\n",
      "../../../data/decompression/profiling_result_all/output_zstd_8gb_sao_32768threads.h5\n",
      "../../../data/decompression/profiling_result_all/output_zstd_8gb_sao_131072threads.h5\n",
      "../../../data/decompression/profiling_result_all/output_zstd_8gb_sao_524288threads.h5\n",
      "Failed getting utilization of zstd 8gb_sao 524288 threads: [Errno 2] Unable to synchronously open file (unable to open file: name = '../../../data/decompression/profiling_result_all/output_zstd_8gb_sao_524288threads.h5', errno = 2, error message = 'No such file or directory', flags = 0, o_flags = 0)\n",
      "../../../data/decompression/profiling_result_all/output_zstd_8gb_sao_2097152threads.h5\n",
      "Failed getting utilization of zstd 8gb_sao 2097152 threads: [Errno 2] Unable to synchronously open file (unable to open file: name = '../../../data/decompression/profiling_result_all/output_zstd_8gb_sao_2097152threads.h5', errno = 2, error message = 'No such file or directory', flags = 0, o_flags = 0)\n",
      "../../../data/decompression/profiling_result_all/output_zstd_8gb_sao_8388608threads.h5\n",
      "Failed getting utilization of zstd 8gb_sao 8388608 threads: [Errno 2] Unable to synchronously open file (unable to open file: name = '../../../data/decompression/profiling_result_all/output_zstd_8gb_sao_8388608threads.h5', errno = 2, error message = 'No such file or directory', flags = 0, o_flags = 0)\n",
      "../../../data/decompression/profiling_result_all/output_snappy_8gb_silesia.zip_8threads.h5\n",
      "../../../data/decompression/profiling_result_all/output_snappy_8gb_silesia.zip_32threads.h5\n",
      "../../../data/decompression/profiling_result_all/output_snappy_8gb_silesia.zip_128threads.h5\n",
      "../../../data/decompression/profiling_result_all/output_snappy_8gb_silesia.zip_512threads.h5\n",
      "../../../data/decompression/profiling_result_all/output_snappy_8gb_silesia.zip_2048threads.h5\n",
      "../../../data/decompression/profiling_result_all/output_snappy_8gb_silesia.zip_8192threads.h5\n",
      "../../../data/decompression/profiling_result_all/output_snappy_8gb_silesia.zip_32768threads.h5\n",
      "../../../data/decompression/profiling_result_all/output_snappy_8gb_silesia.zip_131072threads.h5\n",
      "../../../data/decompression/profiling_result_all/output_snappy_8gb_silesia.zip_524288threads.h5\n",
      "Failed getting utilization of snappy 8gb_silesia.zip 524288 threads: [Errno 2] Unable to synchronously open file (unable to open file: name = '../../../data/decompression/profiling_result_all/output_snappy_8gb_silesia.zip_524288threads.h5', errno = 2, error message = 'No such file or directory', flags = 0, o_flags = 0)\n",
      "../../../data/decompression/profiling_result_all/output_snappy_8gb_silesia.zip_2097152threads.h5\n",
      "Failed getting utilization of snappy 8gb_silesia.zip 2097152 threads: [Errno 2] Unable to synchronously open file (unable to open file: name = '../../../data/decompression/profiling_result_all/output_snappy_8gb_silesia.zip_2097152threads.h5', errno = 2, error message = 'No such file or directory', flags = 0, o_flags = 0)\n",
      "../../../data/decompression/profiling_result_all/output_snappy_8gb_silesia.zip_8388608threads.h5\n",
      "Failed getting utilization of snappy 8gb_silesia.zip 8388608 threads: [Errno 2] Unable to synchronously open file (unable to open file: name = '../../../data/decompression/profiling_result_all/output_snappy_8gb_silesia.zip_8388608threads.h5', errno = 2, error message = 'No such file or directory', flags = 0, o_flags = 0)\n",
      "../../../data/decompression/profiling_result_all/output_zstd_8gb_silesia.zip_8threads.h5\n",
      "Failed getting utilization of zstd 8gb_silesia.zip 8 threads: \"Unable to synchronously open object (object 'CUPTI_ACTIVITY_KIND_KERNEL' doesn't exist)\"\n",
      "../../../data/decompression/profiling_result_all/output_zstd_8gb_silesia.zip_32threads.h5\n",
      "Failed getting utilization of zstd 8gb_silesia.zip 32 threads: \"Unable to synchronously open object (object 'CUPTI_ACTIVITY_KIND_KERNEL' doesn't exist)\"\n",
      "../../../data/decompression/profiling_result_all/output_zstd_8gb_silesia.zip_128threads.h5\n",
      "Failed getting utilization of zstd 8gb_silesia.zip 128 threads: \"Unable to synchronously open object (object 'CUPTI_ACTIVITY_KIND_KERNEL' doesn't exist)\"\n",
      "../../../data/decompression/profiling_result_all/output_zstd_8gb_silesia.zip_512threads.h5\n",
      "Failed getting utilization of zstd 8gb_silesia.zip 512 threads: \"Unable to synchronously open object (object 'CUPTI_ACTIVITY_KIND_KERNEL' doesn't exist)\"\n",
      "../../../data/decompression/profiling_result_all/output_zstd_8gb_silesia.zip_2048threads.h5\n",
      "Failed getting utilization of zstd 8gb_silesia.zip 2048 threads: \"Unable to synchronously open object (object 'CUPTI_ACTIVITY_KIND_KERNEL' doesn't exist)\"\n",
      "../../../data/decompression/profiling_result_all/output_zstd_8gb_silesia.zip_8192threads.h5\n",
      "Failed getting utilization of zstd 8gb_silesia.zip 8192 threads: \"Unable to synchronously open object (object 'CUPTI_ACTIVITY_KIND_KERNEL' doesn't exist)\"\n",
      "../../../data/decompression/profiling_result_all/output_zstd_8gb_silesia.zip_32768threads.h5\n",
      "Failed getting utilization of zstd 8gb_silesia.zip 32768 threads: 'decompress'\n",
      "../../../data/decompression/profiling_result_all/output_zstd_8gb_silesia.zip_131072threads.h5\n",
      "../../../data/decompression/profiling_result_all/output_zstd_8gb_silesia.zip_524288threads.h5\n",
      "Failed getting utilization of zstd 8gb_silesia.zip 524288 threads: [Errno 2] Unable to synchronously open file (unable to open file: name = '../../../data/decompression/profiling_result_all/output_zstd_8gb_silesia.zip_524288threads.h5', errno = 2, error message = 'No such file or directory', flags = 0, o_flags = 0)\n",
      "../../../data/decompression/profiling_result_all/output_zstd_8gb_silesia.zip_2097152threads.h5\n",
      "Failed getting utilization of zstd 8gb_silesia.zip 2097152 threads: [Errno 2] Unable to synchronously open file (unable to open file: name = '../../../data/decompression/profiling_result_all/output_zstd_8gb_silesia.zip_2097152threads.h5', errno = 2, error message = 'No such file or directory', flags = 0, o_flags = 0)\n",
      "../../../data/decompression/profiling_result_all/output_zstd_8gb_silesia.zip_8388608threads.h5\n",
      "Failed getting utilization of zstd 8gb_silesia.zip 8388608 threads: [Errno 2] Unable to synchronously open file (unable to open file: name = '../../../data/decompression/profiling_result_all/output_zstd_8gb_silesia.zip_8388608threads.h5', errno = 2, error message = 'No such file or directory', flags = 0, o_flags = 0)\n",
      "../../../data/decompression/profiling_result_all/output_snappy_8gb_xml_8threads.h5\n",
      "../../../data/decompression/profiling_result_all/output_snappy_8gb_xml_32threads.h5\n",
      "../../../data/decompression/profiling_result_all/output_snappy_8gb_xml_128threads.h5\n",
      "../../../data/decompression/profiling_result_all/output_snappy_8gb_xml_512threads.h5\n",
      "../../../data/decompression/profiling_result_all/output_snappy_8gb_xml_2048threads.h5\n",
      "../../../data/decompression/profiling_result_all/output_snappy_8gb_xml_8192threads.h5\n",
      "../../../data/decompression/profiling_result_all/output_snappy_8gb_xml_32768threads.h5\n",
      "../../../data/decompression/profiling_result_all/output_snappy_8gb_xml_131072threads.h5\n",
      "../../../data/decompression/profiling_result_all/output_snappy_8gb_xml_524288threads.h5\n",
      "Failed getting utilization of snappy 8gb_xml 524288 threads: [Errno 2] Unable to synchronously open file (unable to open file: name = '../../../data/decompression/profiling_result_all/output_snappy_8gb_xml_524288threads.h5', errno = 2, error message = 'No such file or directory', flags = 0, o_flags = 0)\n",
      "../../../data/decompression/profiling_result_all/output_snappy_8gb_xml_2097152threads.h5\n",
      "Failed getting utilization of snappy 8gb_xml 2097152 threads: [Errno 2] Unable to synchronously open file (unable to open file: name = '../../../data/decompression/profiling_result_all/output_snappy_8gb_xml_2097152threads.h5', errno = 2, error message = 'No such file or directory', flags = 0, o_flags = 0)\n",
      "../../../data/decompression/profiling_result_all/output_snappy_8gb_xml_8388608threads.h5\n",
      "Failed getting utilization of snappy 8gb_xml 8388608 threads: [Errno 2] Unable to synchronously open file (unable to open file: name = '../../../data/decompression/profiling_result_all/output_snappy_8gb_xml_8388608threads.h5', errno = 2, error message = 'No such file or directory', flags = 0, o_flags = 0)\n",
      "../../../data/decompression/profiling_result_all/output_zstd_8gb_xml_8threads.h5\n",
      "Failed getting utilization of zstd 8gb_xml 8 threads: \"Unable to synchronously open object (object 'CUPTI_ACTIVITY_KIND_KERNEL' doesn't exist)\"\n",
      "../../../data/decompression/profiling_result_all/output_zstd_8gb_xml_32threads.h5\n",
      "Failed getting utilization of zstd 8gb_xml 32 threads: \"Unable to synchronously open object (object 'CUPTI_ACTIVITY_KIND_KERNEL' doesn't exist)\"\n",
      "../../../data/decompression/profiling_result_all/output_zstd_8gb_xml_128threads.h5\n",
      "Failed getting utilization of zstd 8gb_xml 128 threads: \"Unable to synchronously open object (object 'CUPTI_ACTIVITY_KIND_KERNEL' doesn't exist)\"\n",
      "../../../data/decompression/profiling_result_all/output_zstd_8gb_xml_512threads.h5\n",
      "../../../data/decompression/profiling_result_all/output_zstd_8gb_xml_2048threads.h5\n",
      "../../../data/decompression/profiling_result_all/output_zstd_8gb_xml_8192threads.h5\n",
      "../../../data/decompression/profiling_result_all/output_zstd_8gb_xml_32768threads.h5\n",
      "../../../data/decompression/profiling_result_all/output_zstd_8gb_xml_131072threads.h5\n",
      "../../../data/decompression/profiling_result_all/output_zstd_8gb_xml_524288threads.h5\n",
      "Failed getting utilization of zstd 8gb_xml 524288 threads: [Errno 2] Unable to synchronously open file (unable to open file: name = '../../../data/decompression/profiling_result_all/output_zstd_8gb_xml_524288threads.h5', errno = 2, error message = 'No such file or directory', flags = 0, o_flags = 0)\n",
      "../../../data/decompression/profiling_result_all/output_zstd_8gb_xml_2097152threads.h5\n",
      "Failed getting utilization of zstd 8gb_xml 2097152 threads: [Errno 2] Unable to synchronously open file (unable to open file: name = '../../../data/decompression/profiling_result_all/output_zstd_8gb_xml_2097152threads.h5', errno = 2, error message = 'No such file or directory', flags = 0, o_flags = 0)\n",
      "../../../data/decompression/profiling_result_all/output_zstd_8gb_xml_8388608threads.h5\n",
      "Failed getting utilization of zstd 8gb_xml 8388608 threads: [Errno 2] Unable to synchronously open file (unable to open file: name = '../../../data/decompression/profiling_result_all/output_zstd_8gb_xml_8388608threads.h5', errno = 2, error message = 'No such file or directory', flags = 0, o_flags = 0)\n",
      "../../../data/decompression/profiling_result_all/output_snappy_8gb_lineitem.parquet_8threads.h5\n",
      "../../../data/decompression/profiling_result_all/output_snappy_8gb_lineitem.parquet_32threads.h5\n",
      "../../../data/decompression/profiling_result_all/output_snappy_8gb_lineitem.parquet_128threads.h5\n",
      "../../../data/decompression/profiling_result_all/output_snappy_8gb_lineitem.parquet_512threads.h5\n",
      "../../../data/decompression/profiling_result_all/output_snappy_8gb_lineitem.parquet_2048threads.h5\n",
      "../../../data/decompression/profiling_result_all/output_snappy_8gb_lineitem.parquet_8192threads.h5\n",
      "../../../data/decompression/profiling_result_all/output_snappy_8gb_lineitem.parquet_32768threads.h5\n",
      "../../../data/decompression/profiling_result_all/output_snappy_8gb_lineitem.parquet_131072threads.h5\n",
      "../../../data/decompression/profiling_result_all/output_snappy_8gb_lineitem.parquet_524288threads.h5\n",
      "Failed getting utilization of snappy 8gb_lineitem.parquet 524288 threads: [Errno 2] Unable to synchronously open file (unable to open file: name = '../../../data/decompression/profiling_result_all/output_snappy_8gb_lineitem.parquet_524288threads.h5', errno = 2, error message = 'No such file or directory', flags = 0, o_flags = 0)\n",
      "../../../data/decompression/profiling_result_all/output_snappy_8gb_lineitem.parquet_2097152threads.h5\n",
      "Failed getting utilization of snappy 8gb_lineitem.parquet 2097152 threads: [Errno 2] Unable to synchronously open file (unable to open file: name = '../../../data/decompression/profiling_result_all/output_snappy_8gb_lineitem.parquet_2097152threads.h5', errno = 2, error message = 'No such file or directory', flags = 0, o_flags = 0)\n",
      "../../../data/decompression/profiling_result_all/output_snappy_8gb_lineitem.parquet_8388608threads.h5\n",
      "Failed getting utilization of snappy 8gb_lineitem.parquet 8388608 threads: [Errno 2] Unable to synchronously open file (unable to open file: name = '../../../data/decompression/profiling_result_all/output_snappy_8gb_lineitem.parquet_8388608threads.h5', errno = 2, error message = 'No such file or directory', flags = 0, o_flags = 0)\n",
      "../../../data/decompression/profiling_result_all/output_zstd_8gb_lineitem.parquet_8threads.h5\n",
      "Failed getting utilization of zstd 8gb_lineitem.parquet 8 threads: \"Unable to synchronously open object (object 'CUPTI_ACTIVITY_KIND_KERNEL' doesn't exist)\"\n",
      "../../../data/decompression/profiling_result_all/output_zstd_8gb_lineitem.parquet_32threads.h5\n",
      "Failed getting utilization of zstd 8gb_lineitem.parquet 32 threads: \"Unable to synchronously open object (object 'CUPTI_ACTIVITY_KIND_KERNEL' doesn't exist)\"\n",
      "../../../data/decompression/profiling_result_all/output_zstd_8gb_lineitem.parquet_128threads.h5\n",
      "Failed getting utilization of zstd 8gb_lineitem.parquet 128 threads: \"Unable to synchronously open object (object 'CUPTI_ACTIVITY_KIND_KERNEL' doesn't exist)\"\n",
      "../../../data/decompression/profiling_result_all/output_zstd_8gb_lineitem.parquet_512threads.h5\n",
      "../../../data/decompression/profiling_result_all/output_zstd_8gb_lineitem.parquet_2048threads.h5\n",
      "Failed getting utilization of zstd 8gb_lineitem.parquet 2048 threads: \"Unable to synchronously open object (object 'CUPTI_ACTIVITY_KIND_KERNEL' doesn't exist)\"\n",
      "../../../data/decompression/profiling_result_all/output_zstd_8gb_lineitem.parquet_8192threads.h5\n",
      "Failed getting utilization of zstd 8gb_lineitem.parquet 8192 threads: \"Unable to synchronously open object (object 'CUPTI_ACTIVITY_KIND_KERNEL' doesn't exist)\"\n",
      "../../../data/decompression/profiling_result_all/output_zstd_8gb_lineitem.parquet_32768threads.h5\n",
      "Failed getting utilization of zstd 8gb_lineitem.parquet 32768 threads: 'decompress'\n",
      "../../../data/decompression/profiling_result_all/output_zstd_8gb_lineitem.parquet_131072threads.h5\n",
      "../../../data/decompression/profiling_result_all/output_zstd_8gb_lineitem.parquet_524288threads.h5\n",
      "Failed getting utilization of zstd 8gb_lineitem.parquet 524288 threads: [Errno 2] Unable to synchronously open file (unable to open file: name = '../../../data/decompression/profiling_result_all/output_zstd_8gb_lineitem.parquet_524288threads.h5', errno = 2, error message = 'No such file or directory', flags = 0, o_flags = 0)\n",
      "../../../data/decompression/profiling_result_all/output_zstd_8gb_lineitem.parquet_2097152threads.h5\n",
      "Failed getting utilization of zstd 8gb_lineitem.parquet 2097152 threads: [Errno 2] Unable to synchronously open file (unable to open file: name = '../../../data/decompression/profiling_result_all/output_zstd_8gb_lineitem.parquet_2097152threads.h5', errno = 2, error message = 'No such file or directory', flags = 0, o_flags = 0)\n",
      "../../../data/decompression/profiling_result_all/output_zstd_8gb_lineitem.parquet_8388608threads.h5\n",
      "Failed getting utilization of zstd 8gb_lineitem.parquet 8388608 threads: [Errno 2] Unable to synchronously open file (unable to open file: name = '../../../data/decompression/profiling_result_all/output_zstd_8gb_lineitem.parquet_8388608threads.h5', errno = 2, error message = 'No such file or directory', flags = 0, o_flags = 0)\n",
      "    standard  chunk_size                  file  compression_utilization  \\\n",
      "0     snappy  1073741824           8gb_dickens                 1.000000   \n",
      "1     snappy   268435456           8gb_dickens                 1.000000   \n",
      "2     snappy    67108864           8gb_dickens                 3.903812   \n",
      "3     snappy    16777216           8gb_dickens                14.436110   \n",
      "4     snappy     4194304           8gb_dickens                52.547863   \n",
      "..       ...         ...                   ...                      ...   \n",
      "105   snappy     1048576  8gb_lineitem.parquet                49.525673   \n",
      "106   snappy      262144  8gb_lineitem.parquet                75.825384   \n",
      "107   snappy       65536  8gb_lineitem.parquet                80.029487   \n",
      "108     zstd    16777216  8gb_lineitem.parquet                14.112488   \n",
      "109     zstd       65536  8gb_lineitem.parquet                52.777021   \n",
      "\n",
      "     decompression_utilization  \n",
      "0                     1.001423  \n",
      "1                     1.005577  \n",
      "2                     3.810847  \n",
      "3                    14.583389  \n",
      "4                    34.274231  \n",
      "..                         ...  \n",
      "105                  34.256757  \n",
      "106                  46.571810  \n",
      "107                  51.156856  \n",
      "108                  12.563460  \n",
      "109                  42.550523  \n",
      "\n",
      "[110 rows x 5 columns]\n"
     ]
    }
   ],
   "source": [
    "# Generate dataframe with utilization data\n",
    "\n",
    "result_df = nsys_reader.NsysScanner(input_dir, FILE_SIZE).get_utilisation_df(compression_files, compressors, approx_number_of_threads)\n",
    "\n",
    "\n",
    "print(result_df)\n"
   ]
  },
  {
   "cell_type": "code",
   "execution_count": 3,
   "metadata": {},
   "outputs": [
    {
     "data": {
      "application/vnd.plotly.v1+json": {
       "config": {
        "plotlyServerURL": "https://plot.ly"
       },
       "data": [
        {
         "hovertemplate": "file=8gb_dickens<br>standard=snappy<br>chunk_size=%{x}<br>decompression_utilization=%{y}<extra></extra>",
         "legendgroup": "8gb_dickens",
         "line": {
          "color": "#636efa",
          "dash": "solid"
         },
         "marker": {
          "symbol": "circle"
         },
         "mode": "lines+markers",
         "name": "8gb_dickens",
         "orientation": "v",
         "showlegend": true,
         "type": "scatter",
         "x": [
          1073741824,
          268435456,
          67108864,
          16777216,
          4194304,
          1048576,
          262144,
          65536
         ],
         "xaxis": "x",
         "y": [
          1.0014231959585893,
          1.0055768242497924,
          3.810847441694958,
          14.583388654065882,
          34.27423127635158,
          47.899135919150865,
          52.042922249724015,
          52.71806994135035
         ],
         "yaxis": "y"
        },
        {
         "hovertemplate": "file=8gb_dickens<br>standard=zstd<br>chunk_size=%{x}<br>decompression_utilization=%{y}<extra></extra>",
         "legendgroup": "8gb_dickens",
         "line": {
          "color": "#636efa",
          "dash": "solid"
         },
         "marker": {
          "symbol": "circle"
         },
         "mode": "lines+markers",
         "name": "8gb_dickens",
         "orientation": "v",
         "showlegend": false,
         "type": "scatter",
         "x": [
          16777216,
          4194304,
          1048576,
          262144,
          65536
         ],
         "xaxis": "x2",
         "y": [
          14.338913136122311,
          43.168164617227056,
          43.414740699580435,
          43.9032982867531,
          44.47878480989047
         ],
         "yaxis": "y2"
        },
        {
         "hovertemplate": "file=8gb_mozilla<br>standard=snappy<br>chunk_size=%{x}<br>decompression_utilization=%{y}<extra></extra>",
         "legendgroup": "8gb_mozilla",
         "line": {
          "color": "#EF553B",
          "dash": "solid"
         },
         "marker": {
          "symbol": "circle"
         },
         "mode": "lines+markers",
         "name": "8gb_mozilla",
         "orientation": "v",
         "showlegend": true,
         "type": "scatter",
         "x": [
          1073741824,
          268435456,
          67108864,
          16777216,
          4194304,
          1048576,
          262144,
          65536
         ],
         "xaxis": "x",
         "y": [
          1.002699606869145,
          1.0105762360160173,
          3.743360252310349,
          13.273279097608977,
          36.58037890746495,
          47.41125534841895,
          51.533927637393205,
          52.54191343470968
         ],
         "yaxis": "y"
        },
        {
         "hovertemplate": "file=8gb_mozilla<br>standard=zstd<br>chunk_size=%{x}<br>decompression_utilization=%{y}<extra></extra>",
         "legendgroup": "8gb_mozilla",
         "line": {
          "color": "#EF553B",
          "dash": "solid"
         },
         "marker": {
          "symbol": "circle"
         },
         "mode": "lines+markers",
         "name": "8gb_mozilla",
         "orientation": "v",
         "showlegend": false,
         "type": "scatter",
         "x": [
          16777216,
          4194304,
          1048576,
          262144,
          65536
         ],
         "xaxis": "x2",
         "y": [
          14.01454138113151,
          40.75459656165327,
          41.56716791530576,
          42.76213024404898,
          43.60458379843264
         ],
         "yaxis": "y2"
        },
        {
         "hovertemplate": "file=8gb_mr<br>standard=snappy<br>chunk_size=%{x}<br>decompression_utilization=%{y}<extra></extra>",
         "legendgroup": "8gb_mr",
         "line": {
          "color": "#00cc96",
          "dash": "solid"
         },
         "marker": {
          "symbol": "circle"
         },
         "mode": "lines+markers",
         "name": "8gb_mr",
         "orientation": "v",
         "showlegend": true,
         "type": "scatter",
         "x": [
          1073741824,
          268435456,
          67108864,
          16777216,
          4194304,
          1048576,
          262144,
          65536
         ],
         "xaxis": "x",
         "y": [
          1.002062358915031,
          1.008152934873995,
          3.7932629854830404,
          14.44132112577731,
          33.428694630930266,
          47.31432642373449,
          51.48187425856737,
          52.465338176223156
         ],
         "yaxis": "y"
        },
        {
         "hovertemplate": "file=8gb_mr<br>standard=zstd<br>chunk_size=%{x}<br>decompression_utilization=%{y}<extra></extra>",
         "legendgroup": "8gb_mr",
         "line": {
          "color": "#00cc96",
          "dash": "solid"
         },
         "marker": {
          "symbol": "circle"
         },
         "mode": "lines+markers",
         "name": "8gb_mr",
         "orientation": "v",
         "showlegend": false,
         "type": "scatter",
         "x": [
          16777216,
          4194304,
          1048576,
          262144,
          65536
         ],
         "xaxis": "x2",
         "y": [
          14.28405997301576,
          41.82186041917966,
          42.208901813387094,
          43.53575707256921,
          44.02743651016658
         ],
         "yaxis": "y2"
        },
        {
         "hovertemplate": "file=8gb_nci<br>standard=snappy<br>chunk_size=%{x}<br>decompression_utilization=%{y}<extra></extra>",
         "legendgroup": "8gb_nci",
         "line": {
          "color": "#ab63fa",
          "dash": "solid"
         },
         "marker": {
          "symbol": "circle"
         },
         "mode": "lines+markers",
         "name": "8gb_nci",
         "orientation": "v",
         "showlegend": true,
         "type": "scatter",
         "x": [
          1073741824,
          268435456,
          67108864,
          16777216,
          4194304,
          1048576,
          262144,
          65536
         ],
         "xaxis": "x",
         "y": [
          1.0045216599811866,
          1.0176595457868236,
          3.8680094890401424,
          14.635556138554417,
          33.87416840712155,
          47.79785278053063,
          51.716389618270554,
          52.617441007021384
         ],
         "yaxis": "y"
        },
        {
         "hovertemplate": "file=8gb_nci<br>standard=zstd<br>chunk_size=%{x}<br>decompression_utilization=%{y}<extra></extra>",
         "legendgroup": "8gb_nci",
         "line": {
          "color": "#ab63fa",
          "dash": "solid"
         },
         "marker": {
          "symbol": "circle"
         },
         "mode": "lines+markers",
         "name": "8gb_nci",
         "orientation": "v",
         "showlegend": false,
         "type": "scatter",
         "x": [
          16777216,
          4194304,
          1048576,
          262144,
          65536
         ],
         "xaxis": "x2",
         "y": [
          14.413136830845522,
          41.167901727988955,
          41.48141307880479,
          43.01850827540035,
          44.05932942460084
         ],
         "yaxis": "y2"
        },
        {
         "hovertemplate": "file=8gb_samba<br>standard=snappy<br>chunk_size=%{x}<br>decompression_utilization=%{y}<extra></extra>",
         "legendgroup": "8gb_samba",
         "line": {
          "color": "#FFA15A",
          "dash": "solid"
         },
         "marker": {
          "symbol": "circle"
         },
         "mode": "lines+markers",
         "name": "8gb_samba",
         "orientation": "v",
         "showlegend": true,
         "type": "scatter",
         "x": [
          1073741824,
          268435456,
          67108864,
          16777216,
          4194304,
          1048576,
          262144,
          65536
         ],
         "xaxis": "x",
         "y": [
          1.0027559738708032,
          1.0107511336207244,
          3.8186844401324445,
          14.198860130498348,
          33.51530435558926,
          46.77801379788917,
          51.11157914129459,
          52.47335445496213
         ],
         "yaxis": "y"
        },
        {
         "hovertemplate": "file=8gb_samba<br>standard=zstd<br>chunk_size=%{x}<br>decompression_utilization=%{y}<extra></extra>",
         "legendgroup": "8gb_samba",
         "line": {
          "color": "#FFA15A",
          "dash": "solid"
         },
         "marker": {
          "symbol": "circle"
         },
         "mode": "lines+markers",
         "name": "8gb_samba",
         "orientation": "v",
         "showlegend": false,
         "type": "scatter",
         "x": [
          16777216,
          4194304,
          1048576,
          262144,
          65536
         ],
         "xaxis": "x2",
         "y": [
          14.159149035653243,
          41.06166302429641,
          41.49581997856194,
          42.89195508454142,
          43.8029410937572
         ],
         "yaxis": "y2"
        },
        {
         "hovertemplate": "file=8gb_sao<br>standard=snappy<br>chunk_size=%{x}<br>decompression_utilization=%{y}<extra></extra>",
         "legendgroup": "8gb_sao",
         "line": {
          "color": "#19d3f3",
          "dash": "solid"
         },
         "marker": {
          "symbol": "circle"
         },
         "mode": "lines+markers",
         "name": "8gb_sao",
         "orientation": "v",
         "showlegend": true,
         "type": "scatter",
         "x": [
          1073741824,
          268435456,
          67108864,
          16777216,
          4194304,
          1048576,
          262144,
          65536
         ],
         "xaxis": "x",
         "y": [
          1.0027398915326842,
          1.010666227994236,
          3.812293185859154,
          14.599264788151299,
          34.310947260306975,
          47.87527892149342,
          51.94728309813905,
          52.70141008194463
         ],
         "yaxis": "y"
        },
        {
         "hovertemplate": "file=8gb_sao<br>standard=zstd<br>chunk_size=%{x}<br>decompression_utilization=%{y}<extra></extra>",
         "legendgroup": "8gb_sao",
         "line": {
          "color": "#19d3f3",
          "dash": "solid"
         },
         "marker": {
          "symbol": "circle"
         },
         "mode": "lines+markers",
         "name": "8gb_sao",
         "orientation": "v",
         "showlegend": false,
         "type": "scatter",
         "x": [
          16777216,
          4194304,
          1048576,
          262144,
          65536
         ],
         "xaxis": "x2",
         "y": [
          14.0771561900887,
          42.18819833385548,
          42.47377418410744,
          43.13378585897415,
          43.62612927540627
         ],
         "yaxis": "y2"
        },
        {
         "hovertemplate": "file=8gb_silesia.zip<br>standard=snappy<br>chunk_size=%{x}<br>decompression_utilization=%{y}<extra></extra>",
         "legendgroup": "8gb_silesia.zip",
         "line": {
          "color": "#FF6692",
          "dash": "solid"
         },
         "marker": {
          "symbol": "circle"
         },
         "mode": "lines+markers",
         "name": "8gb_silesia.zip",
         "orientation": "v",
         "showlegend": true,
         "type": "scatter",
         "x": [
          1073741824,
          268435456,
          67108864,
          16777216,
          4194304,
          1048576,
          262144,
          65536
         ],
         "xaxis": "x",
         "y": [
          1.0085011608080128,
          1.0325563294695246,
          3.8291337018523213,
          14.693911132984788,
          33.97261683649792,
          47.07533856769196,
          50.89731691085305,
          52.148978527441955
         ],
         "yaxis": "y"
        },
        {
         "hovertemplate": "file=8gb_silesia.zip<br>standard=zstd<br>chunk_size=%{x}<br>decompression_utilization=%{y}<extra></extra>",
         "legendgroup": "8gb_silesia.zip",
         "line": {
          "color": "#FF6692",
          "dash": "solid"
         },
         "marker": {
          "symbol": "circle"
         },
         "mode": "lines+markers",
         "name": "8gb_silesia.zip",
         "orientation": "v",
         "showlegend": false,
         "type": "scatter",
         "x": [
          65536
         ],
         "xaxis": "x2",
         "y": [
          42.36834942936885
         ],
         "yaxis": "y2"
        },
        {
         "hovertemplate": "file=8gb_xml<br>standard=snappy<br>chunk_size=%{x}<br>decompression_utilization=%{y}<extra></extra>",
         "legendgroup": "8gb_xml",
         "line": {
          "color": "#B6E880",
          "dash": "solid"
         },
         "marker": {
          "symbol": "circle"
         },
         "mode": "lines+markers",
         "name": "8gb_xml",
         "orientation": "v",
         "showlegend": true,
         "type": "scatter",
         "x": [
          1073741824,
          268435456,
          67108864,
          16777216,
          4194304,
          1048576,
          262144,
          65536
         ],
         "xaxis": "x",
         "y": [
          1.0030931544716826,
          1.012113990745207,
          3.781503418472586,
          14.4827801706193,
          33.8889108676065,
          47.024307572691825,
          51.07138128354954,
          52.461945597291205
         ],
         "yaxis": "y"
        },
        {
         "hovertemplate": "file=8gb_xml<br>standard=zstd<br>chunk_size=%{x}<br>decompression_utilization=%{y}<extra></extra>",
         "legendgroup": "8gb_xml",
         "line": {
          "color": "#B6E880",
          "dash": "solid"
         },
         "marker": {
          "symbol": "circle"
         },
         "mode": "lines+markers",
         "name": "8gb_xml",
         "orientation": "v",
         "showlegend": false,
         "type": "scatter",
         "x": [
          16777216,
          4194304,
          1048576,
          262144,
          65536
         ],
         "xaxis": "x2",
         "y": [
          14.09577481540456,
          40.59431600245259,
          40.91251038274112,
          42.679916793625694,
          43.9844233815608
         ],
         "yaxis": "y2"
        },
        {
         "hovertemplate": "file=8gb_lineitem.parquet<br>standard=snappy<br>chunk_size=%{x}<br>decompression_utilization=%{y}<extra></extra>",
         "legendgroup": "8gb_lineitem.parquet",
         "line": {
          "color": "#FF97FF",
          "dash": "solid"
         },
         "marker": {
          "symbol": "circle"
         },
         "mode": "lines+markers",
         "name": "8gb_lineitem.parquet",
         "orientation": "v",
         "showlegend": true,
         "type": "scatter",
         "x": [
          1073741824,
          268435456,
          67108864,
          16777216,
          4194304,
          1048576,
          262144,
          65536
         ],
         "xaxis": "x",
         "y": [
          1.007079200600457,
          1.0261426631078698,
          3.736181815213896,
          9.96874288877426,
          19.956684467123438,
          34.25675664433358,
          46.57180966749867,
          51.1568557457951
         ],
         "yaxis": "y"
        },
        {
         "hovertemplate": "file=8gb_lineitem.parquet<br>standard=zstd<br>chunk_size=%{x}<br>decompression_utilization=%{y}<extra></extra>",
         "legendgroup": "8gb_lineitem.parquet",
         "line": {
          "color": "#FF97FF",
          "dash": "solid"
         },
         "marker": {
          "symbol": "circle"
         },
         "mode": "lines+markers",
         "name": "8gb_lineitem.parquet",
         "orientation": "v",
         "showlegend": false,
         "type": "scatter",
         "x": [
          16777216,
          65536
         ],
         "xaxis": "x2",
         "y": [
          12.563460044033576,
          42.550523462457946
         ],
         "yaxis": "y2"
        }
       ],
       "layout": {
        "annotations": [
         {
          "font": {},
          "showarrow": false,
          "text": "standard=snappy",
          "x": 0.2375,
          "xanchor": "center",
          "xref": "paper",
          "y": 1,
          "yanchor": "bottom",
          "yref": "paper"
         },
         {
          "font": {},
          "showarrow": false,
          "text": "standard=zstd",
          "x": 0.7625,
          "xanchor": "center",
          "xref": "paper",
          "y": 1,
          "yanchor": "bottom",
          "yref": "paper"
         }
        ],
        "legend": {
         "title": {
          "text": "file"
         },
         "tracegroupgap": 0
        },
        "template": {
         "data": {
          "bar": [
           {
            "error_x": {
             "color": "#2a3f5f"
            },
            "error_y": {
             "color": "#2a3f5f"
            },
            "marker": {
             "line": {
              "color": "#E5ECF6",
              "width": 0.5
             },
             "pattern": {
              "fillmode": "overlay",
              "size": 10,
              "solidity": 0.2
             }
            },
            "type": "bar"
           }
          ],
          "barpolar": [
           {
            "marker": {
             "line": {
              "color": "#E5ECF6",
              "width": 0.5
             },
             "pattern": {
              "fillmode": "overlay",
              "size": 10,
              "solidity": 0.2
             }
            },
            "type": "barpolar"
           }
          ],
          "carpet": [
           {
            "aaxis": {
             "endlinecolor": "#2a3f5f",
             "gridcolor": "white",
             "linecolor": "white",
             "minorgridcolor": "white",
             "startlinecolor": "#2a3f5f"
            },
            "baxis": {
             "endlinecolor": "#2a3f5f",
             "gridcolor": "white",
             "linecolor": "white",
             "minorgridcolor": "white",
             "startlinecolor": "#2a3f5f"
            },
            "type": "carpet"
           }
          ],
          "choropleth": [
           {
            "colorbar": {
             "outlinewidth": 0,
             "ticks": ""
            },
            "type": "choropleth"
           }
          ],
          "contour": [
           {
            "colorbar": {
             "outlinewidth": 0,
             "ticks": ""
            },
            "colorscale": [
             [
              0,
              "#0d0887"
             ],
             [
              0.1111111111111111,
              "#46039f"
             ],
             [
              0.2222222222222222,
              "#7201a8"
             ],
             [
              0.3333333333333333,
              "#9c179e"
             ],
             [
              0.4444444444444444,
              "#bd3786"
             ],
             [
              0.5555555555555556,
              "#d8576b"
             ],
             [
              0.6666666666666666,
              "#ed7953"
             ],
             [
              0.7777777777777778,
              "#fb9f3a"
             ],
             [
              0.8888888888888888,
              "#fdca26"
             ],
             [
              1,
              "#f0f921"
             ]
            ],
            "type": "contour"
           }
          ],
          "contourcarpet": [
           {
            "colorbar": {
             "outlinewidth": 0,
             "ticks": ""
            },
            "type": "contourcarpet"
           }
          ],
          "heatmap": [
           {
            "colorbar": {
             "outlinewidth": 0,
             "ticks": ""
            },
            "colorscale": [
             [
              0,
              "#0d0887"
             ],
             [
              0.1111111111111111,
              "#46039f"
             ],
             [
              0.2222222222222222,
              "#7201a8"
             ],
             [
              0.3333333333333333,
              "#9c179e"
             ],
             [
              0.4444444444444444,
              "#bd3786"
             ],
             [
              0.5555555555555556,
              "#d8576b"
             ],
             [
              0.6666666666666666,
              "#ed7953"
             ],
             [
              0.7777777777777778,
              "#fb9f3a"
             ],
             [
              0.8888888888888888,
              "#fdca26"
             ],
             [
              1,
              "#f0f921"
             ]
            ],
            "type": "heatmap"
           }
          ],
          "heatmapgl": [
           {
            "colorbar": {
             "outlinewidth": 0,
             "ticks": ""
            },
            "colorscale": [
             [
              0,
              "#0d0887"
             ],
             [
              0.1111111111111111,
              "#46039f"
             ],
             [
              0.2222222222222222,
              "#7201a8"
             ],
             [
              0.3333333333333333,
              "#9c179e"
             ],
             [
              0.4444444444444444,
              "#bd3786"
             ],
             [
              0.5555555555555556,
              "#d8576b"
             ],
             [
              0.6666666666666666,
              "#ed7953"
             ],
             [
              0.7777777777777778,
              "#fb9f3a"
             ],
             [
              0.8888888888888888,
              "#fdca26"
             ],
             [
              1,
              "#f0f921"
             ]
            ],
            "type": "heatmapgl"
           }
          ],
          "histogram": [
           {
            "marker": {
             "pattern": {
              "fillmode": "overlay",
              "size": 10,
              "solidity": 0.2
             }
            },
            "type": "histogram"
           }
          ],
          "histogram2d": [
           {
            "colorbar": {
             "outlinewidth": 0,
             "ticks": ""
            },
            "colorscale": [
             [
              0,
              "#0d0887"
             ],
             [
              0.1111111111111111,
              "#46039f"
             ],
             [
              0.2222222222222222,
              "#7201a8"
             ],
             [
              0.3333333333333333,
              "#9c179e"
             ],
             [
              0.4444444444444444,
              "#bd3786"
             ],
             [
              0.5555555555555556,
              "#d8576b"
             ],
             [
              0.6666666666666666,
              "#ed7953"
             ],
             [
              0.7777777777777778,
              "#fb9f3a"
             ],
             [
              0.8888888888888888,
              "#fdca26"
             ],
             [
              1,
              "#f0f921"
             ]
            ],
            "type": "histogram2d"
           }
          ],
          "histogram2dcontour": [
           {
            "colorbar": {
             "outlinewidth": 0,
             "ticks": ""
            },
            "colorscale": [
             [
              0,
              "#0d0887"
             ],
             [
              0.1111111111111111,
              "#46039f"
             ],
             [
              0.2222222222222222,
              "#7201a8"
             ],
             [
              0.3333333333333333,
              "#9c179e"
             ],
             [
              0.4444444444444444,
              "#bd3786"
             ],
             [
              0.5555555555555556,
              "#d8576b"
             ],
             [
              0.6666666666666666,
              "#ed7953"
             ],
             [
              0.7777777777777778,
              "#fb9f3a"
             ],
             [
              0.8888888888888888,
              "#fdca26"
             ],
             [
              1,
              "#f0f921"
             ]
            ],
            "type": "histogram2dcontour"
           }
          ],
          "mesh3d": [
           {
            "colorbar": {
             "outlinewidth": 0,
             "ticks": ""
            },
            "type": "mesh3d"
           }
          ],
          "parcoords": [
           {
            "line": {
             "colorbar": {
              "outlinewidth": 0,
              "ticks": ""
             }
            },
            "type": "parcoords"
           }
          ],
          "pie": [
           {
            "automargin": true,
            "type": "pie"
           }
          ],
          "scatter": [
           {
            "fillpattern": {
             "fillmode": "overlay",
             "size": 10,
             "solidity": 0.2
            },
            "type": "scatter"
           }
          ],
          "scatter3d": [
           {
            "line": {
             "colorbar": {
              "outlinewidth": 0,
              "ticks": ""
             }
            },
            "marker": {
             "colorbar": {
              "outlinewidth": 0,
              "ticks": ""
             }
            },
            "type": "scatter3d"
           }
          ],
          "scattercarpet": [
           {
            "marker": {
             "colorbar": {
              "outlinewidth": 0,
              "ticks": ""
             }
            },
            "type": "scattercarpet"
           }
          ],
          "scattergeo": [
           {
            "marker": {
             "colorbar": {
              "outlinewidth": 0,
              "ticks": ""
             }
            },
            "type": "scattergeo"
           }
          ],
          "scattergl": [
           {
            "marker": {
             "colorbar": {
              "outlinewidth": 0,
              "ticks": ""
             }
            },
            "type": "scattergl"
           }
          ],
          "scattermapbox": [
           {
            "marker": {
             "colorbar": {
              "outlinewidth": 0,
              "ticks": ""
             }
            },
            "type": "scattermapbox"
           }
          ],
          "scatterpolar": [
           {
            "marker": {
             "colorbar": {
              "outlinewidth": 0,
              "ticks": ""
             }
            },
            "type": "scatterpolar"
           }
          ],
          "scatterpolargl": [
           {
            "marker": {
             "colorbar": {
              "outlinewidth": 0,
              "ticks": ""
             }
            },
            "type": "scatterpolargl"
           }
          ],
          "scatterternary": [
           {
            "marker": {
             "colorbar": {
              "outlinewidth": 0,
              "ticks": ""
             }
            },
            "type": "scatterternary"
           }
          ],
          "surface": [
           {
            "colorbar": {
             "outlinewidth": 0,
             "ticks": ""
            },
            "colorscale": [
             [
              0,
              "#0d0887"
             ],
             [
              0.1111111111111111,
              "#46039f"
             ],
             [
              0.2222222222222222,
              "#7201a8"
             ],
             [
              0.3333333333333333,
              "#9c179e"
             ],
             [
              0.4444444444444444,
              "#bd3786"
             ],
             [
              0.5555555555555556,
              "#d8576b"
             ],
             [
              0.6666666666666666,
              "#ed7953"
             ],
             [
              0.7777777777777778,
              "#fb9f3a"
             ],
             [
              0.8888888888888888,
              "#fdca26"
             ],
             [
              1,
              "#f0f921"
             ]
            ],
            "type": "surface"
           }
          ],
          "table": [
           {
            "cells": {
             "fill": {
              "color": "#EBF0F8"
             },
             "line": {
              "color": "white"
             }
            },
            "header": {
             "fill": {
              "color": "#C8D4E3"
             },
             "line": {
              "color": "white"
             }
            },
            "type": "table"
           }
          ]
         },
         "layout": {
          "annotationdefaults": {
           "arrowcolor": "#2a3f5f",
           "arrowhead": 0,
           "arrowwidth": 1
          },
          "autotypenumbers": "strict",
          "coloraxis": {
           "colorbar": {
            "outlinewidth": 0,
            "ticks": ""
           }
          },
          "colorscale": {
           "diverging": [
            [
             0,
             "#8e0152"
            ],
            [
             0.1,
             "#c51b7d"
            ],
            [
             0.2,
             "#de77ae"
            ],
            [
             0.3,
             "#f1b6da"
            ],
            [
             0.4,
             "#fde0ef"
            ],
            [
             0.5,
             "#f7f7f7"
            ],
            [
             0.6,
             "#e6f5d0"
            ],
            [
             0.7,
             "#b8e186"
            ],
            [
             0.8,
             "#7fbc41"
            ],
            [
             0.9,
             "#4d9221"
            ],
            [
             1,
             "#276419"
            ]
           ],
           "sequential": [
            [
             0,
             "#0d0887"
            ],
            [
             0.1111111111111111,
             "#46039f"
            ],
            [
             0.2222222222222222,
             "#7201a8"
            ],
            [
             0.3333333333333333,
             "#9c179e"
            ],
            [
             0.4444444444444444,
             "#bd3786"
            ],
            [
             0.5555555555555556,
             "#d8576b"
            ],
            [
             0.6666666666666666,
             "#ed7953"
            ],
            [
             0.7777777777777778,
             "#fb9f3a"
            ],
            [
             0.8888888888888888,
             "#fdca26"
            ],
            [
             1,
             "#f0f921"
            ]
           ],
           "sequentialminus": [
            [
             0,
             "#0d0887"
            ],
            [
             0.1111111111111111,
             "#46039f"
            ],
            [
             0.2222222222222222,
             "#7201a8"
            ],
            [
             0.3333333333333333,
             "#9c179e"
            ],
            [
             0.4444444444444444,
             "#bd3786"
            ],
            [
             0.5555555555555556,
             "#d8576b"
            ],
            [
             0.6666666666666666,
             "#ed7953"
            ],
            [
             0.7777777777777778,
             "#fb9f3a"
            ],
            [
             0.8888888888888888,
             "#fdca26"
            ],
            [
             1,
             "#f0f921"
            ]
           ]
          },
          "colorway": [
           "#636efa",
           "#EF553B",
           "#00cc96",
           "#ab63fa",
           "#FFA15A",
           "#19d3f3",
           "#FF6692",
           "#B6E880",
           "#FF97FF",
           "#FECB52"
          ],
          "font": {
           "color": "#2a3f5f"
          },
          "geo": {
           "bgcolor": "white",
           "lakecolor": "white",
           "landcolor": "#E5ECF6",
           "showlakes": true,
           "showland": true,
           "subunitcolor": "white"
          },
          "hoverlabel": {
           "align": "left"
          },
          "hovermode": "closest",
          "mapbox": {
           "style": "light"
          },
          "paper_bgcolor": "white",
          "plot_bgcolor": "#E5ECF6",
          "polar": {
           "angularaxis": {
            "gridcolor": "white",
            "linecolor": "white",
            "ticks": ""
           },
           "bgcolor": "#E5ECF6",
           "radialaxis": {
            "gridcolor": "white",
            "linecolor": "white",
            "ticks": ""
           }
          },
          "scene": {
           "xaxis": {
            "backgroundcolor": "#E5ECF6",
            "gridcolor": "white",
            "gridwidth": 2,
            "linecolor": "white",
            "showbackground": true,
            "ticks": "",
            "zerolinecolor": "white"
           },
           "yaxis": {
            "backgroundcolor": "#E5ECF6",
            "gridcolor": "white",
            "gridwidth": 2,
            "linecolor": "white",
            "showbackground": true,
            "ticks": "",
            "zerolinecolor": "white"
           },
           "zaxis": {
            "backgroundcolor": "#E5ECF6",
            "gridcolor": "white",
            "gridwidth": 2,
            "linecolor": "white",
            "showbackground": true,
            "ticks": "",
            "zerolinecolor": "white"
           }
          },
          "shapedefaults": {
           "line": {
            "color": "#2a3f5f"
           }
          },
          "ternary": {
           "aaxis": {
            "gridcolor": "white",
            "linecolor": "white",
            "ticks": ""
           },
           "baxis": {
            "gridcolor": "white",
            "linecolor": "white",
            "ticks": ""
           },
           "bgcolor": "#E5ECF6",
           "caxis": {
            "gridcolor": "white",
            "linecolor": "white",
            "ticks": ""
           }
          },
          "title": {
           "x": 0.05
          },
          "xaxis": {
           "automargin": true,
           "gridcolor": "white",
           "linecolor": "white",
           "ticks": "",
           "title": {
            "standoff": 15
           },
           "zerolinecolor": "white",
           "zerolinewidth": 2
          },
          "yaxis": {
           "automargin": true,
           "gridcolor": "white",
           "linecolor": "white",
           "ticks": "",
           "title": {
            "standoff": 15
           },
           "zerolinecolor": "white",
           "zerolinewidth": 2
          }
         }
        },
        "title": {
         "text": "GPU utilization at different chunk sizes"
        },
        "width": 1200,
        "xaxis": {
         "anchor": "y",
         "domain": [
          0,
          0.475
         ],
         "title": {
          "text": "chunk_size"
         },
         "type": "log"
        },
        "xaxis2": {
         "anchor": "y2",
         "domain": [
          0.525,
          1
         ],
         "matches": "x",
         "title": {
          "text": "chunk_size"
         },
         "type": "log"
        },
        "yaxis": {
         "anchor": "x",
         "domain": [
          0,
          1
         ],
         "title": {
          "text": "decompression_utilization"
         }
        },
        "yaxis2": {
         "anchor": "x2",
         "domain": [
          0,
          1
         ],
         "matches": "y",
         "showticklabels": false
        }
       }
      }
     },
     "metadata": {},
     "output_type": "display_data"
    }
   ],
   "source": [
    "fig_utilization_standard = px.line(\n",
    "    result_df,\n",
    "    title=f\"GPU utilization at different chunk sizes\", \n",
    "    x=\"chunk_size\",\n",
    "    y=\"decompression_utilization\",\n",
    "    color=\"file\",\n",
    "    log_x=True,\n",
    "    markers=True,\n",
    "    #log_y=True,\n",
    "    facet_col=\"standard\",\n",
    "    facet_col_spacing=0.05,\n",
    "    width=1200,\n",
    ")\n",
    "# fig_utilization_standard.update_xaxes(autorange=\"reversed\")\n",
    "\n",
    "\n",
    "fig_utilization_standard.show()"
   ]
  },
  {
   "cell_type": "code",
   "execution_count": 4,
   "metadata": {},
   "outputs": [],
   "source": [
    "# Utilization per compressor"
   ]
  },
  {
   "cell_type": "code",
   "execution_count": 5,
   "metadata": {},
   "outputs": [
    {
     "data": {
      "application/vnd.plotly.v1+json": {
       "config": {
        "plotlyServerURL": "https://plot.ly"
       },
       "data": [
        {
         "hovertemplate": "standard=snappy<br>file=8gb_dickens<br>chunk_size=%{x}<br>decompression_utilization=%{y}<extra></extra>",
         "legendgroup": "snappy",
         "line": {
          "color": "#636efa",
          "dash": "solid"
         },
         "marker": {
          "symbol": "circle"
         },
         "mode": "lines+markers",
         "name": "snappy",
         "orientation": "v",
         "showlegend": true,
         "type": "scatter",
         "x": [
          1073741824,
          268435456,
          67108864,
          16777216,
          4194304,
          1048576,
          262144,
          65536
         ],
         "xaxis": "x9",
         "y": [
          1.0014231959585893,
          1.0055768242497924,
          3.810847441694958,
          14.583388654065882,
          34.27423127635158,
          47.899135919150865,
          52.042922249724015,
          52.71806994135035
         ],
         "yaxis": "y9"
        },
        {
         "hovertemplate": "standard=snappy<br>file=8gb_mozilla<br>chunk_size=%{x}<br>decompression_utilization=%{y}<extra></extra>",
         "legendgroup": "snappy",
         "line": {
          "color": "#636efa",
          "dash": "solid"
         },
         "marker": {
          "symbol": "circle"
         },
         "mode": "lines+markers",
         "name": "snappy",
         "orientation": "v",
         "showlegend": false,
         "type": "scatter",
         "x": [
          1073741824,
          268435456,
          67108864,
          16777216,
          4194304,
          1048576,
          262144,
          65536
         ],
         "xaxis": "x8",
         "y": [
          1.002699606869145,
          1.0105762360160173,
          3.743360252310349,
          13.273279097608977,
          36.58037890746495,
          47.41125534841895,
          51.533927637393205,
          52.54191343470968
         ],
         "yaxis": "y8"
        },
        {
         "hovertemplate": "standard=snappy<br>file=8gb_mr<br>chunk_size=%{x}<br>decompression_utilization=%{y}<extra></extra>",
         "legendgroup": "snappy",
         "line": {
          "color": "#636efa",
          "dash": "solid"
         },
         "marker": {
          "symbol": "circle"
         },
         "mode": "lines+markers",
         "name": "snappy",
         "orientation": "v",
         "showlegend": false,
         "type": "scatter",
         "x": [
          1073741824,
          268435456,
          67108864,
          16777216,
          4194304,
          1048576,
          262144,
          65536
         ],
         "xaxis": "x7",
         "y": [
          1.002062358915031,
          1.008152934873995,
          3.7932629854830404,
          14.44132112577731,
          33.428694630930266,
          47.31432642373449,
          51.48187425856737,
          52.465338176223156
         ],
         "yaxis": "y7"
        },
        {
         "hovertemplate": "standard=snappy<br>file=8gb_nci<br>chunk_size=%{x}<br>decompression_utilization=%{y}<extra></extra>",
         "legendgroup": "snappy",
         "line": {
          "color": "#636efa",
          "dash": "solid"
         },
         "marker": {
          "symbol": "circle"
         },
         "mode": "lines+markers",
         "name": "snappy",
         "orientation": "v",
         "showlegend": false,
         "type": "scatter",
         "x": [
          1073741824,
          268435456,
          67108864,
          16777216,
          4194304,
          1048576,
          262144,
          65536
         ],
         "xaxis": "x6",
         "y": [
          1.0045216599811866,
          1.0176595457868236,
          3.8680094890401424,
          14.635556138554417,
          33.87416840712155,
          47.79785278053063,
          51.716389618270554,
          52.617441007021384
         ],
         "yaxis": "y6"
        },
        {
         "hovertemplate": "standard=snappy<br>file=8gb_samba<br>chunk_size=%{x}<br>decompression_utilization=%{y}<extra></extra>",
         "legendgroup": "snappy",
         "line": {
          "color": "#636efa",
          "dash": "solid"
         },
         "marker": {
          "symbol": "circle"
         },
         "mode": "lines+markers",
         "name": "snappy",
         "orientation": "v",
         "showlegend": false,
         "type": "scatter",
         "x": [
          1073741824,
          268435456,
          67108864,
          16777216,
          4194304,
          1048576,
          262144,
          65536
         ],
         "xaxis": "x5",
         "y": [
          1.0027559738708032,
          1.0107511336207244,
          3.8186844401324445,
          14.198860130498348,
          33.51530435558926,
          46.77801379788917,
          51.11157914129459,
          52.47335445496213
         ],
         "yaxis": "y5"
        },
        {
         "hovertemplate": "standard=snappy<br>file=8gb_sao<br>chunk_size=%{x}<br>decompression_utilization=%{y}<extra></extra>",
         "legendgroup": "snappy",
         "line": {
          "color": "#636efa",
          "dash": "solid"
         },
         "marker": {
          "symbol": "circle"
         },
         "mode": "lines+markers",
         "name": "snappy",
         "orientation": "v",
         "showlegend": false,
         "type": "scatter",
         "x": [
          1073741824,
          268435456,
          67108864,
          16777216,
          4194304,
          1048576,
          262144,
          65536
         ],
         "xaxis": "x4",
         "y": [
          1.0027398915326842,
          1.010666227994236,
          3.812293185859154,
          14.599264788151299,
          34.310947260306975,
          47.87527892149342,
          51.94728309813905,
          52.70141008194463
         ],
         "yaxis": "y4"
        },
        {
         "hovertemplate": "standard=snappy<br>file=8gb_silesia.zip<br>chunk_size=%{x}<br>decompression_utilization=%{y}<extra></extra>",
         "legendgroup": "snappy",
         "line": {
          "color": "#636efa",
          "dash": "solid"
         },
         "marker": {
          "symbol": "circle"
         },
         "mode": "lines+markers",
         "name": "snappy",
         "orientation": "v",
         "showlegend": false,
         "type": "scatter",
         "x": [
          1073741824,
          268435456,
          67108864,
          16777216,
          4194304,
          1048576,
          262144,
          65536
         ],
         "xaxis": "x3",
         "y": [
          1.0085011608080128,
          1.0325563294695246,
          3.8291337018523213,
          14.693911132984788,
          33.97261683649792,
          47.07533856769196,
          50.89731691085305,
          52.148978527441955
         ],
         "yaxis": "y3"
        },
        {
         "hovertemplate": "standard=snappy<br>file=8gb_xml<br>chunk_size=%{x}<br>decompression_utilization=%{y}<extra></extra>",
         "legendgroup": "snappy",
         "line": {
          "color": "#636efa",
          "dash": "solid"
         },
         "marker": {
          "symbol": "circle"
         },
         "mode": "lines+markers",
         "name": "snappy",
         "orientation": "v",
         "showlegend": false,
         "type": "scatter",
         "x": [
          1073741824,
          268435456,
          67108864,
          16777216,
          4194304,
          1048576,
          262144,
          65536
         ],
         "xaxis": "x2",
         "y": [
          1.0030931544716826,
          1.012113990745207,
          3.781503418472586,
          14.4827801706193,
          33.8889108676065,
          47.024307572691825,
          51.07138128354954,
          52.461945597291205
         ],
         "yaxis": "y2"
        },
        {
         "hovertemplate": "standard=snappy<br>file=8gb_lineitem.parquet<br>chunk_size=%{x}<br>decompression_utilization=%{y}<extra></extra>",
         "legendgroup": "snappy",
         "line": {
          "color": "#636efa",
          "dash": "solid"
         },
         "marker": {
          "symbol": "circle"
         },
         "mode": "lines+markers",
         "name": "snappy",
         "orientation": "v",
         "showlegend": false,
         "type": "scatter",
         "x": [
          1073741824,
          268435456,
          67108864,
          16777216,
          4194304,
          1048576,
          262144,
          65536
         ],
         "xaxis": "x",
         "y": [
          1.007079200600457,
          1.0261426631078698,
          3.736181815213896,
          9.96874288877426,
          19.956684467123438,
          34.25675664433358,
          46.57180966749867,
          51.1568557457951
         ],
         "yaxis": "y"
        },
        {
         "hovertemplate": "standard=zstd<br>file=8gb_dickens<br>chunk_size=%{x}<br>decompression_utilization=%{y}<extra></extra>",
         "legendgroup": "zstd",
         "line": {
          "color": "#EF553B",
          "dash": "solid"
         },
         "marker": {
          "symbol": "circle"
         },
         "mode": "lines+markers",
         "name": "zstd",
         "orientation": "v",
         "showlegend": true,
         "type": "scatter",
         "x": [
          16777216,
          4194304,
          1048576,
          262144,
          65536
         ],
         "xaxis": "x9",
         "y": [
          14.338913136122311,
          43.168164617227056,
          43.414740699580435,
          43.9032982867531,
          44.47878480989047
         ],
         "yaxis": "y9"
        },
        {
         "hovertemplate": "standard=zstd<br>file=8gb_mozilla<br>chunk_size=%{x}<br>decompression_utilization=%{y}<extra></extra>",
         "legendgroup": "zstd",
         "line": {
          "color": "#EF553B",
          "dash": "solid"
         },
         "marker": {
          "symbol": "circle"
         },
         "mode": "lines+markers",
         "name": "zstd",
         "orientation": "v",
         "showlegend": false,
         "type": "scatter",
         "x": [
          16777216,
          4194304,
          1048576,
          262144,
          65536
         ],
         "xaxis": "x8",
         "y": [
          14.01454138113151,
          40.75459656165327,
          41.56716791530576,
          42.76213024404898,
          43.60458379843264
         ],
         "yaxis": "y8"
        },
        {
         "hovertemplate": "standard=zstd<br>file=8gb_mr<br>chunk_size=%{x}<br>decompression_utilization=%{y}<extra></extra>",
         "legendgroup": "zstd",
         "line": {
          "color": "#EF553B",
          "dash": "solid"
         },
         "marker": {
          "symbol": "circle"
         },
         "mode": "lines+markers",
         "name": "zstd",
         "orientation": "v",
         "showlegend": false,
         "type": "scatter",
         "x": [
          16777216,
          4194304,
          1048576,
          262144,
          65536
         ],
         "xaxis": "x7",
         "y": [
          14.28405997301576,
          41.82186041917966,
          42.208901813387094,
          43.53575707256921,
          44.02743651016658
         ],
         "yaxis": "y7"
        },
        {
         "hovertemplate": "standard=zstd<br>file=8gb_nci<br>chunk_size=%{x}<br>decompression_utilization=%{y}<extra></extra>",
         "legendgroup": "zstd",
         "line": {
          "color": "#EF553B",
          "dash": "solid"
         },
         "marker": {
          "symbol": "circle"
         },
         "mode": "lines+markers",
         "name": "zstd",
         "orientation": "v",
         "showlegend": false,
         "type": "scatter",
         "x": [
          16777216,
          4194304,
          1048576,
          262144,
          65536
         ],
         "xaxis": "x6",
         "y": [
          14.413136830845522,
          41.167901727988955,
          41.48141307880479,
          43.01850827540035,
          44.05932942460084
         ],
         "yaxis": "y6"
        },
        {
         "hovertemplate": "standard=zstd<br>file=8gb_samba<br>chunk_size=%{x}<br>decompression_utilization=%{y}<extra></extra>",
         "legendgroup": "zstd",
         "line": {
          "color": "#EF553B",
          "dash": "solid"
         },
         "marker": {
          "symbol": "circle"
         },
         "mode": "lines+markers",
         "name": "zstd",
         "orientation": "v",
         "showlegend": false,
         "type": "scatter",
         "x": [
          16777216,
          4194304,
          1048576,
          262144,
          65536
         ],
         "xaxis": "x5",
         "y": [
          14.159149035653243,
          41.06166302429641,
          41.49581997856194,
          42.89195508454142,
          43.8029410937572
         ],
         "yaxis": "y5"
        },
        {
         "hovertemplate": "standard=zstd<br>file=8gb_sao<br>chunk_size=%{x}<br>decompression_utilization=%{y}<extra></extra>",
         "legendgroup": "zstd",
         "line": {
          "color": "#EF553B",
          "dash": "solid"
         },
         "marker": {
          "symbol": "circle"
         },
         "mode": "lines+markers",
         "name": "zstd",
         "orientation": "v",
         "showlegend": false,
         "type": "scatter",
         "x": [
          16777216,
          4194304,
          1048576,
          262144,
          65536
         ],
         "xaxis": "x4",
         "y": [
          14.0771561900887,
          42.18819833385548,
          42.47377418410744,
          43.13378585897415,
          43.62612927540627
         ],
         "yaxis": "y4"
        },
        {
         "hovertemplate": "standard=zstd<br>file=8gb_silesia.zip<br>chunk_size=%{x}<br>decompression_utilization=%{y}<extra></extra>",
         "legendgroup": "zstd",
         "line": {
          "color": "#EF553B",
          "dash": "solid"
         },
         "marker": {
          "symbol": "circle"
         },
         "mode": "lines+markers",
         "name": "zstd",
         "orientation": "v",
         "showlegend": false,
         "type": "scatter",
         "x": [
          65536
         ],
         "xaxis": "x3",
         "y": [
          42.36834942936885
         ],
         "yaxis": "y3"
        },
        {
         "hovertemplate": "standard=zstd<br>file=8gb_xml<br>chunk_size=%{x}<br>decompression_utilization=%{y}<extra></extra>",
         "legendgroup": "zstd",
         "line": {
          "color": "#EF553B",
          "dash": "solid"
         },
         "marker": {
          "symbol": "circle"
         },
         "mode": "lines+markers",
         "name": "zstd",
         "orientation": "v",
         "showlegend": false,
         "type": "scatter",
         "x": [
          16777216,
          4194304,
          1048576,
          262144,
          65536
         ],
         "xaxis": "x2",
         "y": [
          14.09577481540456,
          40.59431600245259,
          40.91251038274112,
          42.679916793625694,
          43.9844233815608
         ],
         "yaxis": "y2"
        },
        {
         "hovertemplate": "standard=zstd<br>file=8gb_lineitem.parquet<br>chunk_size=%{x}<br>decompression_utilization=%{y}<extra></extra>",
         "legendgroup": "zstd",
         "line": {
          "color": "#EF553B",
          "dash": "solid"
         },
         "marker": {
          "symbol": "circle"
         },
         "mode": "lines+markers",
         "name": "zstd",
         "orientation": "v",
         "showlegend": false,
         "type": "scatter",
         "x": [
          16777216,
          65536
         ],
         "xaxis": "x",
         "y": [
          12.563460044033576,
          42.550523462457946
         ],
         "yaxis": "y"
        }
       ],
       "layout": {
        "annotations": [
         {
          "font": {},
          "showarrow": false,
          "text": "file=8gb_lineitem.parquet",
          "textangle": 90,
          "x": 0.98,
          "xanchor": "left",
          "xref": "paper",
          "y": 0.042222222222222223,
          "yanchor": "middle",
          "yref": "paper"
         },
         {
          "font": {},
          "showarrow": false,
          "text": "file=8gb_xml",
          "textangle": 90,
          "x": 0.98,
          "xanchor": "left",
          "xref": "paper",
          "y": 0.15666666666666668,
          "yanchor": "middle",
          "yref": "paper"
         },
         {
          "font": {},
          "showarrow": false,
          "text": "file=8gb_silesia.zip",
          "textangle": 90,
          "x": 0.98,
          "xanchor": "left",
          "xref": "paper",
          "y": 0.27111111111111114,
          "yanchor": "middle",
          "yref": "paper"
         },
         {
          "font": {},
          "showarrow": false,
          "text": "file=8gb_sao",
          "textangle": 90,
          "x": 0.98,
          "xanchor": "left",
          "xref": "paper",
          "y": 0.3855555555555556,
          "yanchor": "middle",
          "yref": "paper"
         },
         {
          "font": {},
          "showarrow": false,
          "text": "file=8gb_samba",
          "textangle": 90,
          "x": 0.98,
          "xanchor": "left",
          "xref": "paper",
          "y": 0.5,
          "yanchor": "middle",
          "yref": "paper"
         },
         {
          "font": {},
          "showarrow": false,
          "text": "file=8gb_nci",
          "textangle": 90,
          "x": 0.98,
          "xanchor": "left",
          "xref": "paper",
          "y": 0.6144444444444443,
          "yanchor": "middle",
          "yref": "paper"
         },
         {
          "font": {},
          "showarrow": false,
          "text": "file=8gb_mr",
          "textangle": 90,
          "x": 0.98,
          "xanchor": "left",
          "xref": "paper",
          "y": 0.7288888888888889,
          "yanchor": "middle",
          "yref": "paper"
         },
         {
          "font": {},
          "showarrow": false,
          "text": "file=8gb_mozilla",
          "textangle": 90,
          "x": 0.98,
          "xanchor": "left",
          "xref": "paper",
          "y": 0.8433333333333333,
          "yanchor": "middle",
          "yref": "paper"
         },
         {
          "font": {},
          "showarrow": false,
          "text": "file=8gb_dickens",
          "textangle": 90,
          "x": 0.98,
          "xanchor": "left",
          "xref": "paper",
          "y": 0.9577777777777778,
          "yanchor": "middle",
          "yref": "paper"
         }
        ],
        "height": 1200,
        "legend": {
         "title": {
          "text": "standard"
         },
         "tracegroupgap": 0
        },
        "template": {
         "data": {
          "bar": [
           {
            "error_x": {
             "color": "#2a3f5f"
            },
            "error_y": {
             "color": "#2a3f5f"
            },
            "marker": {
             "line": {
              "color": "#E5ECF6",
              "width": 0.5
             },
             "pattern": {
              "fillmode": "overlay",
              "size": 10,
              "solidity": 0.2
             }
            },
            "type": "bar"
           }
          ],
          "barpolar": [
           {
            "marker": {
             "line": {
              "color": "#E5ECF6",
              "width": 0.5
             },
             "pattern": {
              "fillmode": "overlay",
              "size": 10,
              "solidity": 0.2
             }
            },
            "type": "barpolar"
           }
          ],
          "carpet": [
           {
            "aaxis": {
             "endlinecolor": "#2a3f5f",
             "gridcolor": "white",
             "linecolor": "white",
             "minorgridcolor": "white",
             "startlinecolor": "#2a3f5f"
            },
            "baxis": {
             "endlinecolor": "#2a3f5f",
             "gridcolor": "white",
             "linecolor": "white",
             "minorgridcolor": "white",
             "startlinecolor": "#2a3f5f"
            },
            "type": "carpet"
           }
          ],
          "choropleth": [
           {
            "colorbar": {
             "outlinewidth": 0,
             "ticks": ""
            },
            "type": "choropleth"
           }
          ],
          "contour": [
           {
            "colorbar": {
             "outlinewidth": 0,
             "ticks": ""
            },
            "colorscale": [
             [
              0,
              "#0d0887"
             ],
             [
              0.1111111111111111,
              "#46039f"
             ],
             [
              0.2222222222222222,
              "#7201a8"
             ],
             [
              0.3333333333333333,
              "#9c179e"
             ],
             [
              0.4444444444444444,
              "#bd3786"
             ],
             [
              0.5555555555555556,
              "#d8576b"
             ],
             [
              0.6666666666666666,
              "#ed7953"
             ],
             [
              0.7777777777777778,
              "#fb9f3a"
             ],
             [
              0.8888888888888888,
              "#fdca26"
             ],
             [
              1,
              "#f0f921"
             ]
            ],
            "type": "contour"
           }
          ],
          "contourcarpet": [
           {
            "colorbar": {
             "outlinewidth": 0,
             "ticks": ""
            },
            "type": "contourcarpet"
           }
          ],
          "heatmap": [
           {
            "colorbar": {
             "outlinewidth": 0,
             "ticks": ""
            },
            "colorscale": [
             [
              0,
              "#0d0887"
             ],
             [
              0.1111111111111111,
              "#46039f"
             ],
             [
              0.2222222222222222,
              "#7201a8"
             ],
             [
              0.3333333333333333,
              "#9c179e"
             ],
             [
              0.4444444444444444,
              "#bd3786"
             ],
             [
              0.5555555555555556,
              "#d8576b"
             ],
             [
              0.6666666666666666,
              "#ed7953"
             ],
             [
              0.7777777777777778,
              "#fb9f3a"
             ],
             [
              0.8888888888888888,
              "#fdca26"
             ],
             [
              1,
              "#f0f921"
             ]
            ],
            "type": "heatmap"
           }
          ],
          "heatmapgl": [
           {
            "colorbar": {
             "outlinewidth": 0,
             "ticks": ""
            },
            "colorscale": [
             [
              0,
              "#0d0887"
             ],
             [
              0.1111111111111111,
              "#46039f"
             ],
             [
              0.2222222222222222,
              "#7201a8"
             ],
             [
              0.3333333333333333,
              "#9c179e"
             ],
             [
              0.4444444444444444,
              "#bd3786"
             ],
             [
              0.5555555555555556,
              "#d8576b"
             ],
             [
              0.6666666666666666,
              "#ed7953"
             ],
             [
              0.7777777777777778,
              "#fb9f3a"
             ],
             [
              0.8888888888888888,
              "#fdca26"
             ],
             [
              1,
              "#f0f921"
             ]
            ],
            "type": "heatmapgl"
           }
          ],
          "histogram": [
           {
            "marker": {
             "pattern": {
              "fillmode": "overlay",
              "size": 10,
              "solidity": 0.2
             }
            },
            "type": "histogram"
           }
          ],
          "histogram2d": [
           {
            "colorbar": {
             "outlinewidth": 0,
             "ticks": ""
            },
            "colorscale": [
             [
              0,
              "#0d0887"
             ],
             [
              0.1111111111111111,
              "#46039f"
             ],
             [
              0.2222222222222222,
              "#7201a8"
             ],
             [
              0.3333333333333333,
              "#9c179e"
             ],
             [
              0.4444444444444444,
              "#bd3786"
             ],
             [
              0.5555555555555556,
              "#d8576b"
             ],
             [
              0.6666666666666666,
              "#ed7953"
             ],
             [
              0.7777777777777778,
              "#fb9f3a"
             ],
             [
              0.8888888888888888,
              "#fdca26"
             ],
             [
              1,
              "#f0f921"
             ]
            ],
            "type": "histogram2d"
           }
          ],
          "histogram2dcontour": [
           {
            "colorbar": {
             "outlinewidth": 0,
             "ticks": ""
            },
            "colorscale": [
             [
              0,
              "#0d0887"
             ],
             [
              0.1111111111111111,
              "#46039f"
             ],
             [
              0.2222222222222222,
              "#7201a8"
             ],
             [
              0.3333333333333333,
              "#9c179e"
             ],
             [
              0.4444444444444444,
              "#bd3786"
             ],
             [
              0.5555555555555556,
              "#d8576b"
             ],
             [
              0.6666666666666666,
              "#ed7953"
             ],
             [
              0.7777777777777778,
              "#fb9f3a"
             ],
             [
              0.8888888888888888,
              "#fdca26"
             ],
             [
              1,
              "#f0f921"
             ]
            ],
            "type": "histogram2dcontour"
           }
          ],
          "mesh3d": [
           {
            "colorbar": {
             "outlinewidth": 0,
             "ticks": ""
            },
            "type": "mesh3d"
           }
          ],
          "parcoords": [
           {
            "line": {
             "colorbar": {
              "outlinewidth": 0,
              "ticks": ""
             }
            },
            "type": "parcoords"
           }
          ],
          "pie": [
           {
            "automargin": true,
            "type": "pie"
           }
          ],
          "scatter": [
           {
            "fillpattern": {
             "fillmode": "overlay",
             "size": 10,
             "solidity": 0.2
            },
            "type": "scatter"
           }
          ],
          "scatter3d": [
           {
            "line": {
             "colorbar": {
              "outlinewidth": 0,
              "ticks": ""
             }
            },
            "marker": {
             "colorbar": {
              "outlinewidth": 0,
              "ticks": ""
             }
            },
            "type": "scatter3d"
           }
          ],
          "scattercarpet": [
           {
            "marker": {
             "colorbar": {
              "outlinewidth": 0,
              "ticks": ""
             }
            },
            "type": "scattercarpet"
           }
          ],
          "scattergeo": [
           {
            "marker": {
             "colorbar": {
              "outlinewidth": 0,
              "ticks": ""
             }
            },
            "type": "scattergeo"
           }
          ],
          "scattergl": [
           {
            "marker": {
             "colorbar": {
              "outlinewidth": 0,
              "ticks": ""
             }
            },
            "type": "scattergl"
           }
          ],
          "scattermapbox": [
           {
            "marker": {
             "colorbar": {
              "outlinewidth": 0,
              "ticks": ""
             }
            },
            "type": "scattermapbox"
           }
          ],
          "scatterpolar": [
           {
            "marker": {
             "colorbar": {
              "outlinewidth": 0,
              "ticks": ""
             }
            },
            "type": "scatterpolar"
           }
          ],
          "scatterpolargl": [
           {
            "marker": {
             "colorbar": {
              "outlinewidth": 0,
              "ticks": ""
             }
            },
            "type": "scatterpolargl"
           }
          ],
          "scatterternary": [
           {
            "marker": {
             "colorbar": {
              "outlinewidth": 0,
              "ticks": ""
             }
            },
            "type": "scatterternary"
           }
          ],
          "surface": [
           {
            "colorbar": {
             "outlinewidth": 0,
             "ticks": ""
            },
            "colorscale": [
             [
              0,
              "#0d0887"
             ],
             [
              0.1111111111111111,
              "#46039f"
             ],
             [
              0.2222222222222222,
              "#7201a8"
             ],
             [
              0.3333333333333333,
              "#9c179e"
             ],
             [
              0.4444444444444444,
              "#bd3786"
             ],
             [
              0.5555555555555556,
              "#d8576b"
             ],
             [
              0.6666666666666666,
              "#ed7953"
             ],
             [
              0.7777777777777778,
              "#fb9f3a"
             ],
             [
              0.8888888888888888,
              "#fdca26"
             ],
             [
              1,
              "#f0f921"
             ]
            ],
            "type": "surface"
           }
          ],
          "table": [
           {
            "cells": {
             "fill": {
              "color": "#EBF0F8"
             },
             "line": {
              "color": "white"
             }
            },
            "header": {
             "fill": {
              "color": "#C8D4E3"
             },
             "line": {
              "color": "white"
             }
            },
            "type": "table"
           }
          ]
         },
         "layout": {
          "annotationdefaults": {
           "arrowcolor": "#2a3f5f",
           "arrowhead": 0,
           "arrowwidth": 1
          },
          "autotypenumbers": "strict",
          "coloraxis": {
           "colorbar": {
            "outlinewidth": 0,
            "ticks": ""
           }
          },
          "colorscale": {
           "diverging": [
            [
             0,
             "#8e0152"
            ],
            [
             0.1,
             "#c51b7d"
            ],
            [
             0.2,
             "#de77ae"
            ],
            [
             0.3,
             "#f1b6da"
            ],
            [
             0.4,
             "#fde0ef"
            ],
            [
             0.5,
             "#f7f7f7"
            ],
            [
             0.6,
             "#e6f5d0"
            ],
            [
             0.7,
             "#b8e186"
            ],
            [
             0.8,
             "#7fbc41"
            ],
            [
             0.9,
             "#4d9221"
            ],
            [
             1,
             "#276419"
            ]
           ],
           "sequential": [
            [
             0,
             "#0d0887"
            ],
            [
             0.1111111111111111,
             "#46039f"
            ],
            [
             0.2222222222222222,
             "#7201a8"
            ],
            [
             0.3333333333333333,
             "#9c179e"
            ],
            [
             0.4444444444444444,
             "#bd3786"
            ],
            [
             0.5555555555555556,
             "#d8576b"
            ],
            [
             0.6666666666666666,
             "#ed7953"
            ],
            [
             0.7777777777777778,
             "#fb9f3a"
            ],
            [
             0.8888888888888888,
             "#fdca26"
            ],
            [
             1,
             "#f0f921"
            ]
           ],
           "sequentialminus": [
            [
             0,
             "#0d0887"
            ],
            [
             0.1111111111111111,
             "#46039f"
            ],
            [
             0.2222222222222222,
             "#7201a8"
            ],
            [
             0.3333333333333333,
             "#9c179e"
            ],
            [
             0.4444444444444444,
             "#bd3786"
            ],
            [
             0.5555555555555556,
             "#d8576b"
            ],
            [
             0.6666666666666666,
             "#ed7953"
            ],
            [
             0.7777777777777778,
             "#fb9f3a"
            ],
            [
             0.8888888888888888,
             "#fdca26"
            ],
            [
             1,
             "#f0f921"
            ]
           ]
          },
          "colorway": [
           "#636efa",
           "#EF553B",
           "#00cc96",
           "#ab63fa",
           "#FFA15A",
           "#19d3f3",
           "#FF6692",
           "#B6E880",
           "#FF97FF",
           "#FECB52"
          ],
          "font": {
           "color": "#2a3f5f"
          },
          "geo": {
           "bgcolor": "white",
           "lakecolor": "white",
           "landcolor": "#E5ECF6",
           "showlakes": true,
           "showland": true,
           "subunitcolor": "white"
          },
          "hoverlabel": {
           "align": "left"
          },
          "hovermode": "closest",
          "mapbox": {
           "style": "light"
          },
          "paper_bgcolor": "white",
          "plot_bgcolor": "#E5ECF6",
          "polar": {
           "angularaxis": {
            "gridcolor": "white",
            "linecolor": "white",
            "ticks": ""
           },
           "bgcolor": "#E5ECF6",
           "radialaxis": {
            "gridcolor": "white",
            "linecolor": "white",
            "ticks": ""
           }
          },
          "scene": {
           "xaxis": {
            "backgroundcolor": "#E5ECF6",
            "gridcolor": "white",
            "gridwidth": 2,
            "linecolor": "white",
            "showbackground": true,
            "ticks": "",
            "zerolinecolor": "white"
           },
           "yaxis": {
            "backgroundcolor": "#E5ECF6",
            "gridcolor": "white",
            "gridwidth": 2,
            "linecolor": "white",
            "showbackground": true,
            "ticks": "",
            "zerolinecolor": "white"
           },
           "zaxis": {
            "backgroundcolor": "#E5ECF6",
            "gridcolor": "white",
            "gridwidth": 2,
            "linecolor": "white",
            "showbackground": true,
            "ticks": "",
            "zerolinecolor": "white"
           }
          },
          "shapedefaults": {
           "line": {
            "color": "#2a3f5f"
           }
          },
          "ternary": {
           "aaxis": {
            "gridcolor": "white",
            "linecolor": "white",
            "ticks": ""
           },
           "baxis": {
            "gridcolor": "white",
            "linecolor": "white",
            "ticks": ""
           },
           "bgcolor": "#E5ECF6",
           "caxis": {
            "gridcolor": "white",
            "linecolor": "white",
            "ticks": ""
           }
          },
          "title": {
           "x": 0.05
          },
          "xaxis": {
           "automargin": true,
           "gridcolor": "white",
           "linecolor": "white",
           "ticks": "",
           "title": {
            "standoff": 15
           },
           "zerolinecolor": "white",
           "zerolinewidth": 2
          },
          "yaxis": {
           "automargin": true,
           "gridcolor": "white",
           "linecolor": "white",
           "ticks": "",
           "title": {
            "standoff": 15
           },
           "zerolinecolor": "white",
           "zerolinewidth": 2
          }
         }
        },
        "title": {
         "text": "GPU utilization at different chunk sizes"
        },
        "width": 500,
        "xaxis": {
         "anchor": "y",
         "domain": [
          0,
          0.98
         ],
         "title": {
          "text": "chunk_size"
         },
         "type": "log"
        },
        "xaxis2": {
         "anchor": "y2",
         "domain": [
          0,
          0.98
         ],
         "matches": "x",
         "showticklabels": false,
         "type": "log"
        },
        "xaxis3": {
         "anchor": "y3",
         "domain": [
          0,
          0.98
         ],
         "matches": "x",
         "showticklabels": false,
         "type": "log"
        },
        "xaxis4": {
         "anchor": "y4",
         "domain": [
          0,
          0.98
         ],
         "matches": "x",
         "showticklabels": false,
         "type": "log"
        },
        "xaxis5": {
         "anchor": "y5",
         "domain": [
          0,
          0.98
         ],
         "matches": "x",
         "showticklabels": false,
         "type": "log"
        },
        "xaxis6": {
         "anchor": "y6",
         "domain": [
          0,
          0.98
         ],
         "matches": "x",
         "showticklabels": false,
         "type": "log"
        },
        "xaxis7": {
         "anchor": "y7",
         "domain": [
          0,
          0.98
         ],
         "matches": "x",
         "showticklabels": false,
         "type": "log"
        },
        "xaxis8": {
         "anchor": "y8",
         "domain": [
          0,
          0.98
         ],
         "matches": "x",
         "showticklabels": false,
         "type": "log"
        },
        "xaxis9": {
         "anchor": "y9",
         "domain": [
          0,
          0.98
         ],
         "matches": "x",
         "showticklabels": false,
         "type": "log"
        },
        "yaxis": {
         "anchor": "x",
         "domain": [
          0,
          0.08444444444444445
         ],
         "title": {
          "text": "decompression_utilization"
         }
        },
        "yaxis2": {
         "anchor": "x2",
         "domain": [
          0.11444444444444445,
          0.1988888888888889
         ],
         "matches": "y",
         "title": {
          "text": "decompression_utilization"
         }
        },
        "yaxis3": {
         "anchor": "x3",
         "domain": [
          0.2288888888888889,
          0.31333333333333335
         ],
         "matches": "y",
         "title": {
          "text": "decompression_utilization"
         }
        },
        "yaxis4": {
         "anchor": "x4",
         "domain": [
          0.3433333333333334,
          0.4277777777777778
         ],
         "matches": "y",
         "title": {
          "text": "decompression_utilization"
         }
        },
        "yaxis5": {
         "anchor": "x5",
         "domain": [
          0.4577777777777778,
          0.5422222222222223
         ],
         "matches": "y",
         "title": {
          "text": "decompression_utilization"
         }
        },
        "yaxis6": {
         "anchor": "x6",
         "domain": [
          0.5722222222222222,
          0.6566666666666666
         ],
         "matches": "y",
         "title": {
          "text": "decompression_utilization"
         }
        },
        "yaxis7": {
         "anchor": "x7",
         "domain": [
          0.6866666666666668,
          0.7711111111111112
         ],
         "matches": "y",
         "title": {
          "text": "decompression_utilization"
         }
        },
        "yaxis8": {
         "anchor": "x8",
         "domain": [
          0.8011111111111111,
          0.8855555555555555
         ],
         "matches": "y",
         "title": {
          "text": "decompression_utilization"
         }
        },
        "yaxis9": {
         "anchor": "x9",
         "domain": [
          0.9155555555555556,
          1
         ],
         "matches": "y",
         "title": {
          "text": "decompression_utilization"
         }
        }
       }
      }
     },
     "metadata": {},
     "output_type": "display_data"
    }
   ],
   "source": [
    "fig_utilization_file = px.line(\n",
    "    result_df,\n",
    "    title=f\"GPU utilization at different chunk sizes\", \n",
    "    x=\"chunk_size\",\n",
    "    y=\"decompression_utilization\",\n",
    "    color=\"standard\",\n",
    "    log_x=True,\n",
    "    markers=True,\n",
    "    #log_y=True,\n",
    "    facet_row=\"file\",\n",
    "    # facet_row_spacing=0.05,\n",
    "    height=1200,\n",
    "    width=500,\n",
    ")\n",
    "# fig_utilization_standard.update_xaxes(autorange=\"reversed\")\n",
    "\n",
    "\n",
    "fig_utilization_file.show()"
   ]
  },
  {
   "cell_type": "markdown",
   "metadata": {},
   "source": []
  }
 ],
 "metadata": {
  "kernelspec": {
   "display_name": "Python 3 (ipykernel)",
   "language": "python",
   "name": "python3"
  },
  "language_info": {
   "codemirror_mode": {
    "name": "ipython",
    "version": 3
   },
   "file_extension": ".py",
   "mimetype": "text/x-python",
   "name": "python",
   "nbconvert_exporter": "python",
   "pygments_lexer": "ipython3",
   "version": "3.10.13"
  }
 },
 "nbformat": 4,
 "nbformat_minor": 4
}
