{
 "cells": [
  {
   "cell_type": "code",
   "execution_count": 52,
   "metadata": {},
   "outputs": [],
   "source": [
    "import pandas as pd\n",
    "import plotly.express as px\n",
    "import plotly.graph_objects as go\n",
    "import plotly.io as pio\n",
    "import nsys_reader\n",
    "\n",
    " # Compare results on RTX 3050Ti vs RTX 2080 Ti vs A100\n",
    " \n",
    " \n",
    "A100_path = \"../data/compare/a100/\"\n",
    "RTX2080TI_path = \"../data/compare/rtx2080ti/\"\n",
    "RTX3050TI_path = \"../data/compare/rtx3050ti/\"\n",
    "\n",
    "GPU_A100 = 'A100'\n",
    "GPU_RTX2080TI = 'RTX2080TI'\n",
    "GPU_RTX3050TI = 'RTX3050TI'\n",
    "\n",
    "FILE_SIZE = 524288000\n",
    "\n",
    "\n"
   ]
  },
  {
   "cell_type": "code",
   "execution_count": 53,
   "metadata": {},
   "outputs": [],
   "source": [
    "A100_result_df = nsys_reader.fix_chunks(pd.read_csv(A100_path + '/results.csv'), FILE_SIZE)\n",
    "RTX2080TI_result_df = nsys_reader.fix_chunks(pd.read_csv(RTX2080TI_path + '/results.csv'), FILE_SIZE)\n",
    "RTX3050TI_result_df = nsys_reader.fix_chunks(pd.read_csv(RTX3050TI_path + '/results.csv'), FILE_SIZE)\n",
    "\n",
    "A100_result_df['gpu'] = GPU_A100\n",
    "RTX2080TI_result_df['gpu'] = GPU_RTX2080TI\n",
    "RTX3050TI_result_df['gpu'] = GPU_RTX3050TI\n",
    "\n",
    "\n",
    "all_result_df = pd.concat([A100_result_df, RTX2080TI_result_df, RTX3050TI_result_df])\n",
    "\n",
    "all_result_df = all_result_df.sort_values(['gpu', 'Standard', 'File', 'chunksize_Bytes'])\n",
    "\n",
    "# print(all_result_df)\n"
   ]
  },
  {
   "cell_type": "code",
   "execution_count": 54,
   "metadata": {},
   "outputs": [
    {
     "data": {
      "application/vnd.plotly.v1+json": {
       "config": {
        "plotlyServerURL": "https://plot.ly"
       },
       "data": [
        {
         "hovertemplate": "File=500mb_dickens<br>Standard=bitcomp<br>gpu=A100<br>chunksize_Bytes=%{x}<br>compression_throughput_GBps=%{y}<extra></extra>",
         "legendgroup": "500mb_dickens",
         "line": {
          "color": "#636efa",
          "dash": "solid"
         },
         "marker": {
          "symbol": "circle"
         },
         "mode": "lines+markers",
         "name": "500mb_dickens",
         "orientation": "v",
         "showlegend": true,
         "type": "scatter",
         "x": [
          4000,
          16000,
          64000,
          256000,
          1024000,
          4096000,
          16384000,
          65536000
         ],
         "xaxis": "x16",
         "y": [
          123.9354,
          182.9488,
          144.3853,
          58.4108,
          15.98,
          4.0694,
          1.6387,
          1.6386
         ],
         "yaxis": "y16"
        },
        {
         "hovertemplate": "File=500mb_dickens<br>Standard=bitcomp<br>gpu=RTX2080TI<br>chunksize_Bytes=%{x}<br>compression_throughput_GBps=%{y}<extra></extra>",
         "legendgroup": "500mb_dickens",
         "line": {
          "color": "#636efa",
          "dash": "solid"
         },
         "marker": {
          "symbol": "circle"
         },
         "mode": "lines+markers",
         "name": "500mb_dickens",
         "orientation": "v",
         "showlegend": false,
         "type": "scatter",
         "x": [
          4000,
          16000,
          64000,
          256000,
          1024000,
          4096000,
          16384000,
          65536000
         ],
         "xaxis": "x17",
         "y": [
          77.9525,
          104.9124,
          96.9306,
          50.7349,
          16.4649,
          4.4191,
          1.7808,
          1.7614
         ],
         "yaxis": "y17"
        },
        {
         "hovertemplate": "File=500mb_dickens<br>Standard=bitcomp<br>gpu=RTX3050TI<br>chunksize_Bytes=%{x}<br>compression_throughput_GBps=%{y}<extra></extra>",
         "legendgroup": "500mb_dickens",
         "line": {
          "color": "#636efa",
          "dash": "solid"
         },
         "marker": {
          "symbol": "circle"
         },
         "mode": "lines+markers",
         "name": "500mb_dickens",
         "orientation": "v",
         "showlegend": false,
         "type": "scatter",
         "x": [
          4000,
          16000,
          64000,
          256000,
          1024000,
          4096000,
          16384000,
          65536000
         ],
         "xaxis": "x18",
         "y": [
          29.7927,
          49.7911,
          49.055,
          43.662,
          15.8876,
          4.0363,
          1.6255,
          1.6275
         ],
         "yaxis": "y18"
        },
        {
         "hovertemplate": "File=500mb_dickens<br>Standard=gdeflate<br>gpu=A100<br>chunksize_Bytes=%{x}<br>compression_throughput_GBps=%{y}<extra></extra>",
         "legendgroup": "500mb_dickens",
         "line": {
          "color": "#636efa",
          "dash": "solid"
         },
         "marker": {
          "symbol": "circle"
         },
         "mode": "lines+markers",
         "name": "500mb_dickens",
         "orientation": "v",
         "showlegend": false,
         "type": "scatter",
         "x": [
          4000,
          16000,
          64000
         ],
         "xaxis": "x10",
         "y": [
          4.2155,
          1.8434,
          0.5536
         ],
         "yaxis": "y10"
        },
        {
         "hovertemplate": "File=500mb_dickens<br>Standard=gdeflate<br>gpu=RTX2080TI<br>chunksize_Bytes=%{x}<br>compression_throughput_GBps=%{y}<extra></extra>",
         "legendgroup": "500mb_dickens",
         "line": {
          "color": "#636efa",
          "dash": "solid"
         },
         "marker": {
          "symbol": "circle"
         },
         "mode": "lines+markers",
         "name": "500mb_dickens",
         "orientation": "v",
         "showlegend": false,
         "type": "scatter",
         "x": [
          4000,
          16000,
          64000
         ],
         "xaxis": "x11",
         "y": [
          1.2619,
          1.2584,
          0.4558
         ],
         "yaxis": "y11"
        },
        {
         "hovertemplate": "File=500mb_dickens<br>Standard=gdeflate<br>gpu=RTX3050TI<br>chunksize_Bytes=%{x}<br>compression_throughput_GBps=%{y}<extra></extra>",
         "legendgroup": "500mb_dickens",
         "line": {
          "color": "#636efa",
          "dash": "solid"
         },
         "marker": {
          "symbol": "circle"
         },
         "mode": "lines+markers",
         "name": "500mb_dickens",
         "orientation": "v",
         "showlegend": false,
         "type": "scatter",
         "x": [
          4000,
          16000,
          64000
         ],
         "xaxis": "x12",
         "y": [
          0.7098,
          0.6421,
          0.3717
         ],
         "yaxis": "y12"
        },
        {
         "hovertemplate": "File=500mb_dickens<br>Standard=lz4<br>gpu=A100<br>chunksize_Bytes=%{x}<br>compression_throughput_GBps=%{y}<extra></extra>",
         "legendgroup": "500mb_dickens",
         "line": {
          "color": "#636efa",
          "dash": "solid"
         },
         "marker": {
          "symbol": "circle"
         },
         "mode": "lines+markers",
         "name": "500mb_dickens",
         "orientation": "v",
         "showlegend": false,
         "type": "scatter",
         "x": [
          4000,
          16000,
          64000,
          256000,
          1024000,
          4096000,
          16384000,
          65536000
         ],
         "xaxis": "x7",
         "y": [
          8.4851,
          2.2271,
          0.6154,
          0.1786,
          0.0484,
          0.0122,
          0.0049,
          0.0049
         ],
         "yaxis": "y7"
        },
        {
         "hovertemplate": "File=500mb_dickens<br>Standard=lz4<br>gpu=RTX2080TI<br>chunksize_Bytes=%{x}<br>compression_throughput_GBps=%{y}<extra></extra>",
         "legendgroup": "500mb_dickens",
         "line": {
          "color": "#636efa",
          "dash": "solid"
         },
         "marker": {
          "symbol": "circle"
         },
         "mode": "lines+markers",
         "name": "500mb_dickens",
         "orientation": "v",
         "showlegend": false,
         "type": "scatter",
         "x": [
          4000,
          16000,
          64000,
          256000,
          1024000,
          4096000,
          16384000,
          65536000
         ],
         "xaxis": "x8",
         "y": [
          2.6731,
          1.5794,
          0.4866,
          0.1455,
          0.0503,
          0.0125,
          0.005,
          0.005
         ],
         "yaxis": "y8"
        },
        {
         "hovertemplate": "File=500mb_dickens<br>Standard=lz4<br>gpu=RTX3050TI<br>chunksize_Bytes=%{x}<br>compression_throughput_GBps=%{y}<extra></extra>",
         "legendgroup": "500mb_dickens",
         "line": {
          "color": "#636efa",
          "dash": "solid"
         },
         "marker": {
          "symbol": "circle"
         },
         "mode": "lines+markers",
         "name": "500mb_dickens",
         "orientation": "v",
         "showlegend": false,
         "type": "scatter",
         "x": [
          4000,
          16000,
          64000,
          256000,
          1024000,
          4096000,
          16384000,
          65536000
         ],
         "xaxis": "x9",
         "y": [
          1.2449,
          0.8114,
          0.3976,
          0.1159,
          0.0575,
          0.0145,
          0.0059,
          0.0059
         ],
         "yaxis": "y9"
        },
        {
         "hovertemplate": "File=500mb_dickens<br>Standard=snappy<br>gpu=A100<br>chunksize_Bytes=%{x}<br>compression_throughput_GBps=%{y}<extra></extra>",
         "legendgroup": "500mb_dickens",
         "line": {
          "color": "#636efa",
          "dash": "solid"
         },
         "marker": {
          "symbol": "circle"
         },
         "mode": "lines+markers",
         "name": "500mb_dickens",
         "orientation": "v",
         "showlegend": false,
         "type": "scatter",
         "x": [
          4000,
          16000,
          64000,
          256000,
          1024000,
          4096000,
          16384000,
          65536000
         ],
         "xaxis": "x4",
         "y": [
          6.5454,
          2.7789,
          0.6743,
          0.1719,
          0.053,
          0.0134,
          0.0054,
          0.0054
         ],
         "yaxis": "y4"
        },
        {
         "hovertemplate": "File=500mb_dickens<br>Standard=snappy<br>gpu=RTX2080TI<br>chunksize_Bytes=%{x}<br>compression_throughput_GBps=%{y}<extra></extra>",
         "legendgroup": "500mb_dickens",
         "line": {
          "color": "#636efa",
          "dash": "solid"
         },
         "marker": {
          "symbol": "circle"
         },
         "mode": "lines+markers",
         "name": "500mb_dickens",
         "orientation": "v",
         "showlegend": false,
         "type": "scatter",
         "x": [
          4000,
          16000,
          64000,
          256000,
          1024000,
          4096000,
          16384000,
          65536000
         ],
         "xaxis": "x5",
         "y": [
          3.2003,
          1.7101,
          0.7642,
          0.2102,
          0.0722,
          0.0181,
          0.0073,
          0.0072
         ],
         "yaxis": "y5"
        },
        {
         "hovertemplate": "File=500mb_dickens<br>Standard=snappy<br>gpu=RTX3050TI<br>chunksize_Bytes=%{x}<br>compression_throughput_GBps=%{y}<extra></extra>",
         "legendgroup": "500mb_dickens",
         "line": {
          "color": "#636efa",
          "dash": "solid"
         },
         "marker": {
          "symbol": "circle"
         },
         "mode": "lines+markers",
         "name": "500mb_dickens",
         "orientation": "v",
         "showlegend": false,
         "type": "scatter",
         "x": [
          4000,
          16000,
          64000,
          256000,
          1024000,
          4096000,
          16384000,
          65536000
         ],
         "xaxis": "x6",
         "y": [
          1.1712,
          0.7252,
          0.5739,
          0.1737,
          0.0651,
          0.0163,
          0.0065,
          0.0065
         ],
         "yaxis": "y6"
        },
        {
         "hovertemplate": "File=500mb_dickens<br>Standard=zstd<br>gpu=A100<br>chunksize_Bytes=%{x}<br>compression_throughput_GBps=%{y}<extra></extra>",
         "legendgroup": "500mb_dickens",
         "line": {
          "color": "#636efa",
          "dash": "solid"
         },
         "marker": {
          "symbol": "circle"
         },
         "mode": "lines+markers",
         "name": "500mb_dickens",
         "orientation": "v",
         "showlegend": false,
         "type": "scatter",
         "x": [
          4000,
          16000,
          64000,
          256000,
          1024000,
          4096000,
          16384000,
          65536000
         ],
         "xaxis": "x",
         "y": [
          3.0765,
          1.6902,
          0.469,
          0.1618,
          0.0676,
          0.0189,
          0.007,
          0.007
         ],
         "yaxis": "y"
        },
        {
         "hovertemplate": "File=500mb_dickens<br>Standard=zstd<br>gpu=RTX2080TI<br>chunksize_Bytes=%{x}<br>compression_throughput_GBps=%{y}<extra></extra>",
         "legendgroup": "500mb_dickens",
         "line": {
          "color": "#636efa",
          "dash": "solid"
         },
         "marker": {
          "symbol": "circle"
         },
         "mode": "lines+markers",
         "name": "500mb_dickens",
         "orientation": "v",
         "showlegend": false,
         "type": "scatter",
         "x": [
          4000,
          16000,
          64000,
          256000,
          1024000,
          4096000,
          16384000,
          65536000
         ],
         "xaxis": "x2",
         "y": [
          0.849,
          0.9401,
          0.4942,
          0.1781,
          0.087,
          0.0243,
          0.0089,
          0.0089
         ],
         "yaxis": "y2"
        },
        {
         "hovertemplate": "File=500mb_dickens<br>Standard=zstd<br>gpu=RTX3050TI<br>chunksize_Bytes=%{x}<br>compression_throughput_GBps=%{y}<extra></extra>",
         "legendgroup": "500mb_dickens",
         "line": {
          "color": "#636efa",
          "dash": "solid"
         },
         "marker": {
          "symbol": "circle"
         },
         "mode": "lines+markers",
         "name": "500mb_dickens",
         "orientation": "v",
         "showlegend": false,
         "type": "scatter",
         "x": [
          4000,
          16000,
          64000,
          256000,
          1024000,
          4096000,
          16384000,
          65536000
         ],
         "xaxis": "x3",
         "y": [
          0.5177,
          0.5326,
          0.4392,
          0.1526,
          0.0806,
          0.0229,
          0.0085,
          0.0085
         ],
         "yaxis": "y3"
        },
        {
         "hovertemplate": "File=500mb_lineitem.parquet<br>Standard=bitcomp<br>gpu=A100<br>chunksize_Bytes=%{x}<br>compression_throughput_GBps=%{y}<extra></extra>",
         "legendgroup": "500mb_lineitem.parquet",
         "line": {
          "color": "#EF553B",
          "dash": "solid"
         },
         "marker": {
          "symbol": "circle"
         },
         "mode": "lines+markers",
         "name": "500mb_lineitem.parquet",
         "orientation": "v",
         "showlegend": true,
         "type": "scatter",
         "x": [
          4000,
          16000,
          64000,
          256000,
          1024000,
          4096000,
          16384000,
          65536000
         ],
         "xaxis": "x16",
         "y": [
          193.5827,
          355.6904,
          419.9898,
          436.6542,
          425.4042,
          374.3014,
          205.6346,
          74.172
         ],
         "yaxis": "y16"
        },
        {
         "hovertemplate": "File=500mb_lineitem.parquet<br>Standard=gdeflate<br>gpu=A100<br>chunksize_Bytes=%{x}<br>compression_throughput_GBps=%{y}<extra></extra>",
         "legendgroup": "500mb_lineitem.parquet",
         "line": {
          "color": "#EF553B",
          "dash": "solid"
         },
         "marker": {
          "symbol": "circle"
         },
         "mode": "lines+markers",
         "name": "500mb_lineitem.parquet",
         "orientation": "v",
         "showlegend": false,
         "type": "scatter",
         "x": [
          4000,
          16000,
          64000
         ],
         "xaxis": "x10",
         "y": [
          5.3353,
          5.4579,
          4.9065
         ],
         "yaxis": "y10"
        },
        {
         "hovertemplate": "File=500mb_lineitem.parquet<br>Standard=lz4<br>gpu=A100<br>chunksize_Bytes=%{x}<br>compression_throughput_GBps=%{y}<extra></extra>",
         "legendgroup": "500mb_lineitem.parquet",
         "line": {
          "color": "#EF553B",
          "dash": "solid"
         },
         "marker": {
          "symbol": "circle"
         },
         "mode": "lines+markers",
         "name": "500mb_lineitem.parquet",
         "orientation": "v",
         "showlegend": false,
         "type": "scatter",
         "x": [
          4000,
          16000,
          64000,
          256000,
          1024000,
          4096000,
          16384000
         ],
         "xaxis": "x7",
         "y": [
          21.5565,
          7.6612,
          6.5226,
          5.4741,
          4.7885,
          2.9132,
          1.5502
         ],
         "yaxis": "y7"
        },
        {
         "hovertemplate": "File=500mb_lineitem.parquet<br>Standard=snappy<br>gpu=A100<br>chunksize_Bytes=%{x}<br>compression_throughput_GBps=%{y}<extra></extra>",
         "legendgroup": "500mb_lineitem.parquet",
         "line": {
          "color": "#EF553B",
          "dash": "solid"
         },
         "marker": {
          "symbol": "circle"
         },
         "mode": "lines+markers",
         "name": "500mb_lineitem.parquet",
         "orientation": "v",
         "showlegend": false,
         "type": "scatter",
         "x": [
          4000,
          16000,
          64000,
          256000,
          1024000,
          4096000,
          16384000,
          65536000
         ],
         "xaxis": "x4",
         "y": [
          35.7292,
          32.9842,
          26.651,
          18.8725,
          8.2792,
          4.0238,
          2.1747,
          0.786
         ],
         "yaxis": "y4"
        },
        {
         "hovertemplate": "File=500mb_mozilla<br>Standard=bitcomp<br>gpu=A100<br>chunksize_Bytes=%{x}<br>compression_throughput_GBps=%{y}<extra></extra>",
         "legendgroup": "500mb_mozilla",
         "line": {
          "color": "#00cc96",
          "dash": "solid"
         },
         "marker": {
          "symbol": "circle"
         },
         "mode": "lines+markers",
         "name": "500mb_mozilla",
         "orientation": "v",
         "showlegend": true,
         "type": "scatter",
         "x": [
          4000,
          16000,
          64000,
          256000,
          1024000,
          4096000,
          16384000,
          65536000
         ],
         "xaxis": "x16",
         "y": [
          149.8867,
          268.7441,
          263.5666,
          215.2555,
          80.3453,
          20.9147,
          5.6219,
          2.1181
         ],
         "yaxis": "y16"
        },
        {
         "hovertemplate": "File=500mb_mozilla<br>Standard=bitcomp<br>gpu=RTX2080TI<br>chunksize_Bytes=%{x}<br>compression_throughput_GBps=%{y}<extra></extra>",
         "legendgroup": "500mb_mozilla",
         "line": {
          "color": "#00cc96",
          "dash": "solid"
         },
         "marker": {
          "symbol": "circle"
         },
         "mode": "lines+markers",
         "name": "500mb_mozilla",
         "orientation": "v",
         "showlegend": false,
         "type": "scatter",
         "x": [
          4000,
          16000,
          64000,
          256000,
          1024000,
          4096000,
          16384000,
          65536000
         ],
         "xaxis": "x17",
         "y": [
          91.2878,
          156.6491,
          165.1847,
          156.2362,
          82.9949,
          23.6218,
          6.4557,
          2.3781
         ],
         "yaxis": "y17"
        },
        {
         "hovertemplate": "File=500mb_mozilla<br>Standard=bitcomp<br>gpu=RTX3050TI<br>chunksize_Bytes=%{x}<br>compression_throughput_GBps=%{y}<extra></extra>",
         "legendgroup": "500mb_mozilla",
         "line": {
          "color": "#00cc96",
          "dash": "solid"
         },
         "marker": {
          "symbol": "circle"
         },
         "mode": "lines+markers",
         "name": "500mb_mozilla",
         "orientation": "v",
         "showlegend": false,
         "type": "scatter",
         "x": [
          4000,
          16000,
          64000,
          256000,
          1024000,
          4096000,
          16384000,
          65536000
         ],
         "xaxis": "x18",
         "y": [
          31.2247,
          58.535,
          63.3139,
          59.1909,
          48.5292,
          21.2602,
          5.672,
          1.8752
         ],
         "yaxis": "y18"
        },
        {
         "hovertemplate": "File=500mb_mozilla<br>Standard=cascaded<br>gpu=A100<br>chunksize_Bytes=%{x}<br>compression_throughput_GBps=%{y}<extra></extra>",
         "legendgroup": "500mb_mozilla",
         "line": {
          "color": "#00cc96",
          "dash": "solid"
         },
         "marker": {
          "symbol": "circle"
         },
         "mode": "lines+markers",
         "name": "500mb_mozilla",
         "orientation": "v",
         "showlegend": false,
         "type": "scatter",
         "x": [
          4000,
          16000,
          64000,
          256000,
          1024000,
          4096000,
          16384000,
          65536000
         ],
         "xaxis": "x13",
         "y": [
          64.5341,
          59.9963,
          52.2829,
          21.4865,
          5.7179,
          1.4523,
          0.4368,
          0.1597
         ],
         "yaxis": "y13"
        },
        {
         "hovertemplate": "File=500mb_mozilla<br>Standard=cascaded<br>gpu=RTX2080TI<br>chunksize_Bytes=%{x}<br>compression_throughput_GBps=%{y}<extra></extra>",
         "legendgroup": "500mb_mozilla",
         "line": {
          "color": "#00cc96",
          "dash": "solid"
         },
         "marker": {
          "symbol": "circle"
         },
         "mode": "lines+markers",
         "name": "500mb_mozilla",
         "orientation": "v",
         "showlegend": false,
         "type": "scatter",
         "x": [
          4000,
          16000,
          64000,
          256000,
          1024000,
          4096000,
          16384000,
          65536000
         ],
         "xaxis": "x14",
         "y": [
          27.4845,
          26.5349,
          26.7688,
          20.97,
          6.4641,
          1.6506,
          0.5638,
          0.1991
         ],
         "yaxis": "y14"
        },
        {
         "hovertemplate": "File=500mb_mozilla<br>Standard=cascaded<br>gpu=RTX3050TI<br>chunksize_Bytes=%{x}<br>compression_throughput_GBps=%{y}<extra></extra>",
         "legendgroup": "500mb_mozilla",
         "line": {
          "color": "#00cc96",
          "dash": "solid"
         },
         "marker": {
          "symbol": "circle"
         },
         "mode": "lines+markers",
         "name": "500mb_mozilla",
         "orientation": "v",
         "showlegend": false,
         "type": "scatter",
         "x": [
          4000,
          16000,
          64000,
          256000,
          1024000,
          4096000,
          16384000,
          65536000
         ],
         "xaxis": "x15",
         "y": [
          11.6889,
          11.4412,
          11.4643,
          9.9595,
          5.6949,
          1.5941,
          0.5468,
          0.199
         ],
         "yaxis": "y15"
        },
        {
         "hovertemplate": "File=500mb_mozilla<br>Standard=gdeflate<br>gpu=A100<br>chunksize_Bytes=%{x}<br>compression_throughput_GBps=%{y}<extra></extra>",
         "legendgroup": "500mb_mozilla",
         "line": {
          "color": "#00cc96",
          "dash": "solid"
         },
         "marker": {
          "symbol": "circle"
         },
         "mode": "lines+markers",
         "name": "500mb_mozilla",
         "orientation": "v",
         "showlegend": false,
         "type": "scatter",
         "x": [
          4000,
          16000,
          64000
         ],
         "xaxis": "x10",
         "y": [
          6.788,
          5.6866,
          2.222
         ],
         "yaxis": "y10"
        },
        {
         "hovertemplate": "File=500mb_mozilla<br>Standard=gdeflate<br>gpu=RTX2080TI<br>chunksize_Bytes=%{x}<br>compression_throughput_GBps=%{y}<extra></extra>",
         "legendgroup": "500mb_mozilla",
         "line": {
          "color": "#00cc96",
          "dash": "solid"
         },
         "marker": {
          "symbol": "circle"
         },
         "mode": "lines+markers",
         "name": "500mb_mozilla",
         "orientation": "v",
         "showlegend": false,
         "type": "scatter",
         "x": [
          4000,
          16000,
          64000
         ],
         "xaxis": "x11",
         "y": [
          2.0346,
          2.0355,
          1.8409
         ],
         "yaxis": "y11"
        },
        {
         "hovertemplate": "File=500mb_mozilla<br>Standard=gdeflate<br>gpu=RTX3050TI<br>chunksize_Bytes=%{x}<br>compression_throughput_GBps=%{y}<extra></extra>",
         "legendgroup": "500mb_mozilla",
         "line": {
          "color": "#00cc96",
          "dash": "solid"
         },
         "marker": {
          "symbol": "circle"
         },
         "mode": "lines+markers",
         "name": "500mb_mozilla",
         "orientation": "v",
         "showlegend": false,
         "type": "scatter",
         "x": [
          4000,
          16000,
          64000
         ],
         "xaxis": "x12",
         "y": [
          1.1518,
          1.1385,
          0.8598
         ],
         "yaxis": "y12"
        },
        {
         "hovertemplate": "File=500mb_mozilla<br>Standard=lz4<br>gpu=A100<br>chunksize_Bytes=%{x}<br>compression_throughput_GBps=%{y}<extra></extra>",
         "legendgroup": "500mb_mozilla",
         "line": {
          "color": "#00cc96",
          "dash": "solid"
         },
         "marker": {
          "symbol": "circle"
         },
         "mode": "lines+markers",
         "name": "500mb_mozilla",
         "orientation": "v",
         "showlegend": false,
         "type": "scatter",
         "x": [
          4000,
          16000,
          64000,
          256000,
          1024000,
          4096000,
          16384000
         ],
         "xaxis": "x7",
         "y": [
          13.047,
          7.9516,
          2.8338,
          1.0365,
          0.3497,
          0.0928,
          0.0239
         ],
         "yaxis": "y7"
        },
        {
         "hovertemplate": "File=500mb_mozilla<br>Standard=lz4<br>gpu=RTX2080TI<br>chunksize_Bytes=%{x}<br>compression_throughput_GBps=%{y}<extra></extra>",
         "legendgroup": "500mb_mozilla",
         "line": {
          "color": "#00cc96",
          "dash": "solid"
         },
         "marker": {
          "symbol": "circle"
         },
         "mode": "lines+markers",
         "name": "500mb_mozilla",
         "orientation": "v",
         "showlegend": false,
         "type": "scatter",
         "x": [
          4000,
          16000,
          64000,
          256000,
          1024000,
          4096000,
          16384000
         ],
         "xaxis": "x8",
         "y": [
          4.7897,
          2.8869,
          2.3159,
          0.96,
          0.3814,
          0.1035,
          0.0263
         ],
         "yaxis": "y8"
        },
        {
         "hovertemplate": "File=500mb_mozilla<br>Standard=lz4<br>gpu=RTX3050TI<br>chunksize_Bytes=%{x}<br>compression_throughput_GBps=%{y}<extra></extra>",
         "legendgroup": "500mb_mozilla",
         "line": {
          "color": "#00cc96",
          "dash": "solid"
         },
         "marker": {
          "symbol": "circle"
         },
         "mode": "lines+markers",
         "name": "500mb_mozilla",
         "orientation": "v",
         "showlegend": false,
         "type": "scatter",
         "x": [
          4000,
          16000,
          64000,
          256000,
          1024000,
          4096000,
          16384000
         ],
         "xaxis": "x9",
         "y": [
          1.9147,
          1.5366,
          1.0919,
          0.765,
          0.3173,
          0.1119,
          0.0286
         ],
         "yaxis": "y9"
        },
        {
         "hovertemplate": "File=500mb_mozilla<br>Standard=snappy<br>gpu=A100<br>chunksize_Bytes=%{x}<br>compression_throughput_GBps=%{y}<extra></extra>",
         "legendgroup": "500mb_mozilla",
         "line": {
          "color": "#00cc96",
          "dash": "solid"
         },
         "marker": {
          "symbol": "circle"
         },
         "mode": "lines+markers",
         "name": "500mb_mozilla",
         "orientation": "v",
         "showlegend": false,
         "type": "scatter",
         "x": [
          4000,
          16000,
          64000,
          256000,
          1024000,
          4096000,
          16384000,
          65536000
         ],
         "xaxis": "x4",
         "y": [
          12.0635,
          8.0685,
          3.6607,
          1.2214,
          0.3973,
          0.11,
          0.0286,
          0.0101
         ],
         "yaxis": "y4"
        },
        {
         "hovertemplate": "File=500mb_mozilla<br>Standard=snappy<br>gpu=RTX2080TI<br>chunksize_Bytes=%{x}<br>compression_throughput_GBps=%{y}<extra></extra>",
         "legendgroup": "500mb_mozilla",
         "line": {
          "color": "#00cc96",
          "dash": "solid"
         },
         "marker": {
          "symbol": "circle"
         },
         "mode": "lines+markers",
         "name": "500mb_mozilla",
         "orientation": "v",
         "showlegend": false,
         "type": "scatter",
         "x": [
          4000,
          16000,
          64000,
          256000,
          1024000,
          4096000,
          16384000,
          65536000
         ],
         "xaxis": "x5",
         "y": [
          5.0778,
          3.9621,
          2.8056,
          1.3811,
          0.5526,
          0.1515,
          0.0385,
          0.0135
         ],
         "yaxis": "y5"
        },
        {
         "hovertemplate": "File=500mb_mozilla<br>Standard=snappy<br>gpu=RTX3050TI<br>chunksize_Bytes=%{x}<br>compression_throughput_GBps=%{y}<extra></extra>",
         "legendgroup": "500mb_mozilla",
         "line": {
          "color": "#00cc96",
          "dash": "solid"
         },
         "marker": {
          "symbol": "circle"
         },
         "mode": "lines+markers",
         "name": "500mb_mozilla",
         "orientation": "v",
         "showlegend": false,
         "type": "scatter",
         "x": [
          4000,
          16000,
          64000,
          256000,
          1024000,
          4096000,
          16384000,
          65536000
         ],
         "xaxis": "x6",
         "y": [
          1.7908,
          1.511,
          1.2054,
          1.0548,
          0.4817,
          0.1365,
          0.0347,
          0.0121
         ],
         "yaxis": "y6"
        },
        {
         "hovertemplate": "File=500mb_mozilla<br>Standard=zstd<br>gpu=A100<br>chunksize_Bytes=%{x}<br>compression_throughput_GBps=%{y}<extra></extra>",
         "legendgroup": "500mb_mozilla",
         "line": {
          "color": "#00cc96",
          "dash": "solid"
         },
         "marker": {
          "symbol": "circle"
         },
         "mode": "lines+markers",
         "name": "500mb_mozilla",
         "orientation": "v",
         "showlegend": false,
         "type": "scatter",
         "x": [
          4000,
          16000,
          64000,
          256000,
          1024000,
          4096000,
          16384000
         ],
         "xaxis": "x",
         "y": [
          4.5974,
          4.8714,
          2.191,
          0.7586,
          0.436,
          0.126,
          0.0427
         ],
         "yaxis": "y"
        },
        {
         "hovertemplate": "File=500mb_mozilla<br>Standard=zstd<br>gpu=RTX2080TI<br>chunksize_Bytes=%{x}<br>compression_throughput_GBps=%{y}<extra></extra>",
         "legendgroup": "500mb_mozilla",
         "line": {
          "color": "#00cc96",
          "dash": "solid"
         },
         "marker": {
          "symbol": "circle"
         },
         "mode": "lines+markers",
         "name": "500mb_mozilla",
         "orientation": "v",
         "showlegend": false,
         "type": "scatter",
         "x": [
          4000,
          16000,
          64000,
          256000,
          1024000,
          4096000,
          16384000
         ],
         "xaxis": "x2",
         "y": [
          1.1152,
          1.3169,
          1.2981,
          1.0776,
          0.5849,
          0.1644,
          0.0563
         ],
         "yaxis": "y2"
        },
        {
         "hovertemplate": "File=500mb_mozilla<br>Standard=zstd<br>gpu=RTX3050TI<br>chunksize_Bytes=%{x}<br>compression_throughput_GBps=%{y}<extra></extra>",
         "legendgroup": "500mb_mozilla",
         "line": {
          "color": "#00cc96",
          "dash": "solid"
         },
         "marker": {
          "symbol": "circle"
         },
         "mode": "lines+markers",
         "name": "500mb_mozilla",
         "orientation": "v",
         "showlegend": false,
         "type": "scatter",
         "x": [
          4000,
          16000,
          64000,
          256000,
          1024000,
          4096000,
          16384000
         ],
         "xaxis": "x3",
         "y": [
          0.7345,
          0.8302,
          0.7717,
          0.781,
          0.4698,
          0.1399,
          0.0463
         ],
         "yaxis": "y3"
        },
        {
         "hovertemplate": "File=500mb_mr<br>Standard=bitcomp<br>gpu=A100<br>chunksize_Bytes=%{x}<br>compression_throughput_GBps=%{y}<extra></extra>",
         "legendgroup": "500mb_mr",
         "line": {
          "color": "#ab63fa",
          "dash": "solid"
         },
         "marker": {
          "symbol": "circle"
         },
         "mode": "lines+markers",
         "name": "500mb_mr",
         "orientation": "v",
         "showlegend": true,
         "type": "scatter",
         "x": [
          4000,
          16000,
          64000,
          256000,
          1024000,
          4096000,
          16384000,
          65536000
         ],
         "xaxis": "x16",
         "y": [
          126.5557,
          218.3463,
          159.0506,
          62.142,
          16.9974,
          4.3335,
          1.7906,
          1.7943
         ],
         "yaxis": "y16"
        },
        {
         "hovertemplate": "File=500mb_mr<br>Standard=bitcomp<br>gpu=RTX2080TI<br>chunksize_Bytes=%{x}<br>compression_throughput_GBps=%{y}<extra></extra>",
         "legendgroup": "500mb_mr",
         "line": {
          "color": "#ab63fa",
          "dash": "solid"
         },
         "marker": {
          "symbol": "circle"
         },
         "mode": "lines+markers",
         "name": "500mb_mr",
         "orientation": "v",
         "showlegend": false,
         "type": "scatter",
         "x": [
          4000,
          16000,
          64000,
          256000,
          1024000,
          4096000,
          16384000,
          65536000
         ],
         "xaxis": "x17",
         "y": [
          91.8032,
          147.5285,
          122.4765,
          61.7602,
          18.204,
          4.7657,
          1.9727,
          1.9734
         ],
         "yaxis": "y17"
        },
        {
         "hovertemplate": "File=500mb_mr<br>Standard=bitcomp<br>gpu=RTX3050TI<br>chunksize_Bytes=%{x}<br>compression_throughput_GBps=%{y}<extra></extra>",
         "legendgroup": "500mb_mr",
         "line": {
          "color": "#ab63fa",
          "dash": "solid"
         },
         "marker": {
          "symbol": "circle"
         },
         "mode": "lines+markers",
         "name": "500mb_mr",
         "orientation": "v",
         "showlegend": false,
         "type": "scatter",
         "x": [
          4000,
          16000,
          64000,
          256000,
          1024000,
          4096000,
          16384000,
          65536000
         ],
         "xaxis": "x18",
         "y": [
          30.8007,
          58.4359,
          56.92,
          48.8523,
          16.8476,
          4.3167,
          1.7815,
          1.7801
         ],
         "yaxis": "y18"
        },
        {
         "hovertemplate": "File=500mb_mr<br>Standard=cascaded<br>gpu=A100<br>chunksize_Bytes=%{x}<br>compression_throughput_GBps=%{y}<extra></extra>",
         "legendgroup": "500mb_mr",
         "line": {
          "color": "#ab63fa",
          "dash": "solid"
         },
         "marker": {
          "symbol": "circle"
         },
         "mode": "lines+markers",
         "name": "500mb_mr",
         "orientation": "v",
         "showlegend": false,
         "type": "scatter",
         "x": [
          4000,
          16000,
          64000,
          256000,
          1024000,
          4096000,
          16384000,
          65536000
         ],
         "xaxis": "x13",
         "y": [
          65.4718,
          55.7189,
          21.248,
          5.8086,
          1.4914,
          0.3782,
          0.1606,
          0.1568
         ],
         "yaxis": "y13"
        },
        {
         "hovertemplate": "File=500mb_mr<br>Standard=cascaded<br>gpu=RTX2080TI<br>chunksize_Bytes=%{x}<br>compression_throughput_GBps=%{y}<extra></extra>",
         "legendgroup": "500mb_mr",
         "line": {
          "color": "#ab63fa",
          "dash": "solid"
         },
         "marker": {
          "symbol": "circle"
         },
         "mode": "lines+markers",
         "name": "500mb_mr",
         "orientation": "v",
         "showlegend": false,
         "type": "scatter",
         "x": [
          4000,
          16000,
          64000,
          256000,
          1024000,
          4096000,
          16384000,
          65536000
         ],
         "xaxis": "x14",
         "y": [
          31.2769,
          26.7612,
          20.3116,
          6.1742,
          1.5673,
          0.403,
          0.1671,
          0.1948
         ],
         "yaxis": "y14"
        },
        {
         "hovertemplate": "File=500mb_mr<br>Standard=cascaded<br>gpu=RTX3050TI<br>chunksize_Bytes=%{x}<br>compression_throughput_GBps=%{y}<extra></extra>",
         "legendgroup": "500mb_mr",
         "line": {
          "color": "#ab63fa",
          "dash": "solid"
         },
         "marker": {
          "symbol": "circle"
         },
         "mode": "lines+markers",
         "name": "500mb_mr",
         "orientation": "v",
         "showlegend": false,
         "type": "scatter",
         "x": [
          4000,
          16000,
          64000,
          256000,
          1024000,
          4096000,
          16384000,
          65536000
         ],
         "xaxis": "x15",
         "y": [
          13.291,
          12.7885,
          9.976,
          5.6736,
          1.5111,
          0.3845,
          0.1628,
          0.1591
         ],
         "yaxis": "y15"
        },
        {
         "hovertemplate": "File=500mb_mr<br>Standard=gdeflate<br>gpu=A100<br>chunksize_Bytes=%{x}<br>compression_throughput_GBps=%{y}<extra></extra>",
         "legendgroup": "500mb_mr",
         "line": {
          "color": "#ab63fa",
          "dash": "solid"
         },
         "marker": {
          "symbol": "circle"
         },
         "mode": "lines+markers",
         "name": "500mb_mr",
         "orientation": "v",
         "showlegend": false,
         "type": "scatter",
         "x": [
          4000,
          16000,
          64000
         ],
         "xaxis": "x10",
         "y": [
          4.8306,
          2.057,
          0.618
         ],
         "yaxis": "y10"
        },
        {
         "hovertemplate": "File=500mb_mr<br>Standard=gdeflate<br>gpu=RTX2080TI<br>chunksize_Bytes=%{x}<br>compression_throughput_GBps=%{y}<extra></extra>",
         "legendgroup": "500mb_mr",
         "line": {
          "color": "#ab63fa",
          "dash": "solid"
         },
         "marker": {
          "symbol": "circle"
         },
         "mode": "lines+markers",
         "name": "500mb_mr",
         "orientation": "v",
         "showlegend": false,
         "type": "scatter",
         "x": [
          4000,
          16000,
          64000
         ],
         "xaxis": "x11",
         "y": [
          2.0079,
          1.6443,
          0.6229
         ],
         "yaxis": "y11"
        },
        {
         "hovertemplate": "File=500mb_mr<br>Standard=gdeflate<br>gpu=RTX3050TI<br>chunksize_Bytes=%{x}<br>compression_throughput_GBps=%{y}<extra></extra>",
         "legendgroup": "500mb_mr",
         "line": {
          "color": "#ab63fa",
          "dash": "solid"
         },
         "marker": {
          "symbol": "circle"
         },
         "mode": "lines+markers",
         "name": "500mb_mr",
         "orientation": "v",
         "showlegend": false,
         "type": "scatter",
         "x": [
          4000,
          16000,
          64000
         ],
         "xaxis": "x12",
         "y": [
          0.9839,
          0.8433,
          0.5195
         ],
         "yaxis": "y12"
        },
        {
         "hovertemplate": "File=500mb_mr<br>Standard=lz4<br>gpu=A100<br>chunksize_Bytes=%{x}<br>compression_throughput_GBps=%{y}<extra></extra>",
         "legendgroup": "500mb_mr",
         "line": {
          "color": "#ab63fa",
          "dash": "solid"
         },
         "marker": {
          "symbol": "circle"
         },
         "mode": "lines+markers",
         "name": "500mb_mr",
         "orientation": "v",
         "showlegend": false,
         "type": "scatter",
         "x": [
          4000,
          16000,
          64000,
          256000,
          1024000,
          4096000,
          16384000,
          65536000
         ],
         "xaxis": "x7",
         "y": [
          9.536,
          2.6691,
          0.7664,
          0.2115,
          0.0669,
          0.0177,
          0.0076,
          0.0076
         ],
         "yaxis": "y7"
        },
        {
         "hovertemplate": "File=500mb_mr<br>Standard=lz4<br>gpu=RTX2080TI<br>chunksize_Bytes=%{x}<br>compression_throughput_GBps=%{y}<extra></extra>",
         "legendgroup": "500mb_mr",
         "line": {
          "color": "#ab63fa",
          "dash": "solid"
         },
         "marker": {
          "symbol": "circle"
         },
         "mode": "lines+markers",
         "name": "500mb_mr",
         "orientation": "v",
         "showlegend": false,
         "type": "scatter",
         "x": [
          4000,
          16000,
          64000,
          256000,
          1024000,
          4096000,
          16384000,
          65536000
         ],
         "xaxis": "x8",
         "y": [
          4.9079,
          2.2706,
          0.738,
          0.22,
          0.0734,
          0.0196,
          0.0084,
          0.0083
         ],
         "yaxis": "y8"
        },
        {
         "hovertemplate": "File=500mb_mr<br>Standard=lz4<br>gpu=RTX3050TI<br>chunksize_Bytes=%{x}<br>compression_throughput_GBps=%{y}<extra></extra>",
         "legendgroup": "500mb_mr",
         "line": {
          "color": "#ab63fa",
          "dash": "solid"
         },
         "marker": {
          "symbol": "circle"
         },
         "mode": "lines+markers",
         "name": "500mb_mr",
         "orientation": "v",
         "showlegend": false,
         "type": "scatter",
         "x": [
          4000,
          16000,
          64000,
          256000,
          1024000,
          4096000,
          16384000,
          65536000
         ],
         "xaxis": "x9",
         "y": [
          2.0585,
          1.1552,
          0.6184,
          0.2071,
          0.0695,
          0.0209,
          0.009,
          0.009
         ],
         "yaxis": "y9"
        },
        {
         "hovertemplate": "File=500mb_mr<br>Standard=snappy<br>gpu=A100<br>chunksize_Bytes=%{x}<br>compression_throughput_GBps=%{y}<extra></extra>",
         "legendgroup": "500mb_mr",
         "line": {
          "color": "#ab63fa",
          "dash": "solid"
         },
         "marker": {
          "symbol": "circle"
         },
         "mode": "lines+markers",
         "name": "500mb_mr",
         "orientation": "v",
         "showlegend": false,
         "type": "scatter",
         "x": [
          4000,
          16000,
          64000,
          256000,
          1024000,
          4096000,
          16384000,
          65536000
         ],
         "xaxis": "x4",
         "y": [
          7.5315,
          2.4673,
          0.6543,
          0.1934,
          0.0658,
          0.0176,
          0.0079,
          0.0079
         ],
         "yaxis": "y4"
        },
        {
         "hovertemplate": "File=500mb_mr<br>Standard=snappy<br>gpu=RTX2080TI<br>chunksize_Bytes=%{x}<br>compression_throughput_GBps=%{y}<extra></extra>",
         "legendgroup": "500mb_mr",
         "line": {
          "color": "#ab63fa",
          "dash": "solid"
         },
         "marker": {
          "symbol": "circle"
         },
         "mode": "lines+markers",
         "name": "500mb_mr",
         "orientation": "v",
         "showlegend": false,
         "type": "scatter",
         "x": [
          4000,
          16000,
          64000,
          256000,
          1024000,
          4096000,
          16384000,
          65536000
         ],
         "xaxis": "x5",
         "y": [
          3.8785,
          2.0185,
          0.722,
          0.2246,
          0.0874,
          0.0234,
          0.0104,
          0.0104
         ],
         "yaxis": "y5"
        },
        {
         "hovertemplate": "File=500mb_mr<br>Standard=snappy<br>gpu=RTX3050TI<br>chunksize_Bytes=%{x}<br>compression_throughput_GBps=%{y}<extra></extra>",
         "legendgroup": "500mb_mr",
         "line": {
          "color": "#ab63fa",
          "dash": "solid"
         },
         "marker": {
          "symbol": "circle"
         },
         "mode": "lines+markers",
         "name": "500mb_mr",
         "orientation": "v",
         "showlegend": false,
         "type": "scatter",
         "x": [
          4000,
          16000,
          64000,
          256000,
          1024000,
          4096000,
          16384000,
          65536000
         ],
         "xaxis": "x6",
         "y": [
          1.5123,
          0.9863,
          0.5823,
          0.192,
          0.0786,
          0.021,
          0.0085,
          0.0084
         ],
         "yaxis": "y6"
        },
        {
         "hovertemplate": "File=500mb_mr<br>Standard=zstd<br>gpu=A100<br>chunksize_Bytes=%{x}<br>compression_throughput_GBps=%{y}<extra></extra>",
         "legendgroup": "500mb_mr",
         "line": {
          "color": "#ab63fa",
          "dash": "solid"
         },
         "marker": {
          "symbol": "circle"
         },
         "mode": "lines+markers",
         "name": "500mb_mr",
         "orientation": "v",
         "showlegend": false,
         "type": "scatter",
         "x": [
          4000,
          16000,
          64000,
          256000,
          1024000,
          4096000,
          16384000,
          65536000
         ],
         "xaxis": "x",
         "y": [
          3.821,
          1.8539,
          0.5544,
          0.1803,
          0.0831,
          0.027,
          0.0096,
          0.0096
         ],
         "yaxis": "y"
        },
        {
         "hovertemplate": "File=500mb_mr<br>Standard=zstd<br>gpu=RTX2080TI<br>chunksize_Bytes=%{x}<br>compression_throughput_GBps=%{y}<extra></extra>",
         "legendgroup": "500mb_mr",
         "line": {
          "color": "#ab63fa",
          "dash": "solid"
         },
         "marker": {
          "symbol": "circle"
         },
         "mode": "lines+markers",
         "name": "500mb_mr",
         "orientation": "v",
         "showlegend": false,
         "type": "scatter",
         "x": [
          4000,
          16000,
          64000,
          256000,
          1024000,
          4096000,
          16384000,
          65536000
         ],
         "xaxis": "x2",
         "y": [
          1.1875,
          1.4023,
          0.6015,
          0.2039,
          0.1163,
          0.0345,
          0.0123,
          0.0123
         ],
         "yaxis": "y2"
        },
        {
         "hovertemplate": "File=500mb_mr<br>Standard=zstd<br>gpu=RTX3050TI<br>chunksize_Bytes=%{x}<br>compression_throughput_GBps=%{y}<extra></extra>",
         "legendgroup": "500mb_mr",
         "line": {
          "color": "#ab63fa",
          "dash": "solid"
         },
         "marker": {
          "symbol": "circle"
         },
         "mode": "lines+markers",
         "name": "500mb_mr",
         "orientation": "v",
         "showlegend": false,
         "type": "scatter",
         "x": [
          4000,
          16000,
          64000,
          256000,
          1024000,
          4096000,
          16384000,
          65536000
         ],
         "xaxis": "x3",
         "y": [
          0.7454,
          0.767,
          0.5186,
          0.18,
          0.0879,
          0.0322,
          0.0105,
          0.0105
         ],
         "yaxis": "y3"
        },
        {
         "hovertemplate": "File=500mb_nci<br>Standard=bitcomp<br>gpu=A100<br>chunksize_Bytes=%{x}<br>compression_throughput_GBps=%{y}<extra></extra>",
         "legendgroup": "500mb_nci",
         "line": {
          "color": "#FFA15A",
          "dash": "solid"
         },
         "marker": {
          "symbol": "circle"
         },
         "mode": "lines+markers",
         "name": "500mb_nci",
         "orientation": "v",
         "showlegend": true,
         "type": "scatter",
         "x": [
          4000,
          16000,
          64000,
          256000,
          1024000,
          4096000,
          16384000,
          65536000
         ],
         "xaxis": "x16",
         "y": [
          135.8219,
          253.885,
          248.059,
          144.7667,
          48.8218,
          12.5746,
          3.162,
          1.5462
         ],
         "yaxis": "y16"
        },
        {
         "hovertemplate": "File=500mb_nci<br>Standard=bitcomp<br>gpu=RTX2080TI<br>chunksize_Bytes=%{x}<br>compression_throughput_GBps=%{y}<extra></extra>",
         "legendgroup": "500mb_nci",
         "line": {
          "color": "#FFA15A",
          "dash": "solid"
         },
         "marker": {
          "symbol": "circle"
         },
         "mode": "lines+markers",
         "name": "500mb_nci",
         "orientation": "v",
         "showlegend": false,
         "type": "scatter",
         "x": [
          4000,
          16000,
          64000,
          256000,
          1024000,
          4096000,
          16384000,
          65536000
         ],
         "xaxis": "x17",
         "y": [
          88.6119,
          166.5415,
          158.1278,
          141.7144,
          56.6934,
          14.5775,
          3.697,
          1.8077
         ],
         "yaxis": "y17"
        },
        {
         "hovertemplate": "File=500mb_nci<br>Standard=bitcomp<br>gpu=RTX3050TI<br>chunksize_Bytes=%{x}<br>compression_throughput_GBps=%{y}<extra></extra>",
         "legendgroup": "500mb_nci",
         "line": {
          "color": "#FFA15A",
          "dash": "solid"
         },
         "marker": {
          "symbol": "circle"
         },
         "mode": "lines+markers",
         "name": "500mb_nci",
         "orientation": "v",
         "showlegend": false,
         "type": "scatter",
         "x": [
          4000,
          16000,
          64000,
          256000,
          1024000,
          4096000,
          16384000,
          65536000
         ],
         "xaxis": "x18",
         "y": [
          28.8418,
          57.9147,
          58.0751,
          52.6061,
          40.536,
          13.2759,
          3.3343,
          1.6308
         ],
         "yaxis": "y18"
        },
        {
         "hovertemplate": "File=500mb_nci<br>Standard=gdeflate<br>gpu=A100<br>chunksize_Bytes=%{x}<br>compression_throughput_GBps=%{y}<extra></extra>",
         "legendgroup": "500mb_nci",
         "line": {
          "color": "#FFA15A",
          "dash": "solid"
         },
         "marker": {
          "symbol": "circle"
         },
         "mode": "lines+markers",
         "name": "500mb_nci",
         "orientation": "v",
         "showlegend": false,
         "type": "scatter",
         "x": [
          4000,
          16000,
          64000
         ],
         "xaxis": "x10",
         "y": [
          12.4276,
          10.8663,
          4.1563
         ],
         "yaxis": "y10"
        },
        {
         "hovertemplate": "File=500mb_nci<br>Standard=gdeflate<br>gpu=RTX2080TI<br>chunksize_Bytes=%{x}<br>compression_throughput_GBps=%{y}<extra></extra>",
         "legendgroup": "500mb_nci",
         "line": {
          "color": "#FFA15A",
          "dash": "solid"
         },
         "marker": {
          "symbol": "circle"
         },
         "mode": "lines+markers",
         "name": "500mb_nci",
         "orientation": "v",
         "showlegend": false,
         "type": "scatter",
         "x": [
          4000,
          16000,
          64000
         ],
         "xaxis": "x11",
         "y": [
          4.7537,
          5.4307,
          3.7409
         ],
         "yaxis": "y11"
        },
        {
         "hovertemplate": "File=500mb_nci<br>Standard=gdeflate<br>gpu=RTX3050TI<br>chunksize_Bytes=%{x}<br>compression_throughput_GBps=%{y}<extra></extra>",
         "legendgroup": "500mb_nci",
         "line": {
          "color": "#FFA15A",
          "dash": "solid"
         },
         "marker": {
          "symbol": "circle"
         },
         "mode": "lines+markers",
         "name": "500mb_nci",
         "orientation": "v",
         "showlegend": false,
         "type": "scatter",
         "x": [
          4000,
          16000,
          64000
         ],
         "xaxis": "x12",
         "y": [
          1.9218,
          2.2233,
          1.961
         ],
         "yaxis": "y12"
        },
        {
         "hovertemplate": "File=500mb_nci<br>Standard=lz4<br>gpu=A100<br>chunksize_Bytes=%{x}<br>compression_throughput_GBps=%{y}<extra></extra>",
         "legendgroup": "500mb_nci",
         "line": {
          "color": "#FFA15A",
          "dash": "solid"
         },
         "marker": {
          "symbol": "circle"
         },
         "mode": "lines+markers",
         "name": "500mb_nci",
         "orientation": "v",
         "showlegend": false,
         "type": "scatter",
         "x": [
          4000,
          16000,
          64000,
          256000,
          1024000,
          4096000,
          16384000
         ],
         "xaxis": "x7",
         "y": [
          22.3466,
          14.0388,
          4.644,
          1.3749,
          0.457,
          0.1212,
          0.0323
         ],
         "yaxis": "y7"
        },
        {
         "hovertemplate": "File=500mb_nci<br>Standard=lz4<br>gpu=RTX2080TI<br>chunksize_Bytes=%{x}<br>compression_throughput_GBps=%{y}<extra></extra>",
         "legendgroup": "500mb_nci",
         "line": {
          "color": "#FFA15A",
          "dash": "solid"
         },
         "marker": {
          "symbol": "circle"
         },
         "mode": "lines+markers",
         "name": "500mb_nci",
         "orientation": "v",
         "showlegend": false,
         "type": "scatter",
         "x": [
          4000,
          16000,
          64000,
          256000,
          1024000,
          4096000,
          16384000
         ],
         "xaxis": "x8",
         "y": [
          9.5287,
          7.2381,
          4.4646,
          1.3848,
          0.4145,
          0.1437,
          0.0378
         ],
         "yaxis": "y8"
        },
        {
         "hovertemplate": "File=500mb_nci<br>Standard=lz4<br>gpu=RTX3050TI<br>chunksize_Bytes=%{x}<br>compression_throughput_GBps=%{y}<extra></extra>",
         "legendgroup": "500mb_nci",
         "line": {
          "color": "#FFA15A",
          "dash": "solid"
         },
         "marker": {
          "symbol": "circle"
         },
         "mode": "lines+markers",
         "name": "500mb_nci",
         "orientation": "v",
         "showlegend": false,
         "type": "scatter",
         "x": [
          4000,
          16000,
          64000,
          256000,
          1024000,
          4096000,
          16384000
         ],
         "xaxis": "x9",
         "y": [
          3.295,
          2.8297,
          2.2449,
          1.1672,
          0.4098,
          0.1426,
          0.0378
         ],
         "yaxis": "y9"
        },
        {
         "hovertemplate": "File=500mb_nci<br>Standard=snappy<br>gpu=A100<br>chunksize_Bytes=%{x}<br>compression_throughput_GBps=%{y}<extra></extra>",
         "legendgroup": "500mb_nci",
         "line": {
          "color": "#FFA15A",
          "dash": "solid"
         },
         "marker": {
          "symbol": "circle"
         },
         "mode": "lines+markers",
         "name": "500mb_nci",
         "orientation": "v",
         "showlegend": false,
         "type": "scatter",
         "x": [
          4000,
          16000,
          64000,
          256000,
          1024000,
          4096000,
          16384000,
          65536000
         ],
         "xaxis": "x4",
         "y": [
          18.5043,
          11.6177,
          5.5456,
          1.5329,
          0.4261,
          0.1318,
          0.0345,
          0.0169
         ],
         "yaxis": "y4"
        },
        {
         "hovertemplate": "File=500mb_nci<br>Standard=snappy<br>gpu=RTX2080TI<br>chunksize_Bytes=%{x}<br>compression_throughput_GBps=%{y}<extra></extra>",
         "legendgroup": "500mb_nci",
         "line": {
          "color": "#FFA15A",
          "dash": "solid"
         },
         "marker": {
          "symbol": "circle"
         },
         "mode": "lines+markers",
         "name": "500mb_nci",
         "orientation": "v",
         "showlegend": false,
         "type": "scatter",
         "x": [
          4000,
          16000,
          64000,
          256000,
          1024000,
          4096000,
          16384000,
          65536000
         ],
         "xaxis": "x5",
         "y": [
          7.8626,
          6.457,
          3.9575,
          1.8868,
          0.5947,
          0.1797,
          0.0465,
          0.0228
         ],
         "yaxis": "y5"
        },
        {
         "hovertemplate": "File=500mb_nci<br>Standard=snappy<br>gpu=RTX3050TI<br>chunksize_Bytes=%{x}<br>compression_throughput_GBps=%{y}<extra></extra>",
         "legendgroup": "500mb_nci",
         "line": {
          "color": "#FFA15A",
          "dash": "solid"
         },
         "marker": {
          "symbol": "circle"
         },
         "mode": "lines+markers",
         "name": "500mb_nci",
         "orientation": "v",
         "showlegend": false,
         "type": "scatter",
         "x": [
          4000,
          16000,
          64000,
          256000,
          1024000,
          4096000,
          16384000,
          65536000
         ],
         "xaxis": "x6",
         "y": [
          2.7799,
          2.4394,
          1.979,
          1.4066,
          0.4242,
          0.1572,
          0.0372,
          0.018
         ],
         "yaxis": "y6"
        },
        {
         "hovertemplate": "File=500mb_nci<br>Standard=zstd<br>gpu=A100<br>chunksize_Bytes=%{x}<br>compression_throughput_GBps=%{y}<extra></extra>",
         "legendgroup": "500mb_nci",
         "line": {
          "color": "#FFA15A",
          "dash": "solid"
         },
         "marker": {
          "symbol": "circle"
         },
         "mode": "lines+markers",
         "name": "500mb_nci",
         "orientation": "v",
         "showlegend": false,
         "type": "scatter",
         "x": [
          4000,
          16000,
          64000,
          256000,
          1024000,
          4096000,
          16384000
         ],
         "xaxis": "x",
         "y": [
          7.5399,
          8.2511,
          3.2707,
          1.0346,
          0.5953,
          0.1624,
          0.059
         ],
         "yaxis": "y"
        },
        {
         "hovertemplate": "File=500mb_nci<br>Standard=zstd<br>gpu=RTX2080TI<br>chunksize_Bytes=%{x}<br>compression_throughput_GBps=%{y}<extra></extra>",
         "legendgroup": "500mb_nci",
         "line": {
          "color": "#FFA15A",
          "dash": "solid"
         },
         "marker": {
          "symbol": "circle"
         },
         "mode": "lines+markers",
         "name": "500mb_nci",
         "orientation": "v",
         "showlegend": false,
         "type": "scatter",
         "x": [
          4000,
          16000,
          64000,
          256000,
          1024000,
          4096000,
          16384000
         ],
         "xaxis": "x2",
         "y": [
          2.1871,
          3.603,
          3.5704,
          1.2171,
          0.683,
          0.2206,
          0.0786
         ],
         "yaxis": "y2"
        },
        {
         "hovertemplate": "File=500mb_nci<br>Standard=zstd<br>gpu=RTX3050TI<br>chunksize_Bytes=%{x}<br>compression_throughput_GBps=%{y}<extra></extra>",
         "legendgroup": "500mb_nci",
         "line": {
          "color": "#FFA15A",
          "dash": "solid"
         },
         "marker": {
          "symbol": "circle"
         },
         "mode": "lines+markers",
         "name": "500mb_nci",
         "orientation": "v",
         "showlegend": false,
         "type": "scatter",
         "x": [
          4000,
          16000,
          64000,
          256000,
          1024000,
          4096000,
          16384000
         ],
         "xaxis": "x3",
         "y": [
          1.298,
          1.7908,
          1.6645,
          0.9935,
          0.4939,
          0.1964,
          0.0678
         ],
         "yaxis": "y3"
        },
        {
         "hovertemplate": "File=500mb_samba<br>Standard=bitcomp<br>gpu=A100<br>chunksize_Bytes=%{x}<br>compression_throughput_GBps=%{y}<extra></extra>",
         "legendgroup": "500mb_samba",
         "line": {
          "color": "#19d3f3",
          "dash": "solid"
         },
         "marker": {
          "symbol": "circle"
         },
         "mode": "lines+markers",
         "name": "500mb_samba",
         "orientation": "v",
         "showlegend": true,
         "type": "scatter",
         "x": [
          4000,
          16000,
          64000,
          256000,
          1024000,
          4096000,
          16384000,
          65536000
         ],
         "xaxis": "x16",
         "y": [
          139.7351,
          224.2444,
          182.9315,
          112.7589,
          31.4852,
          8.2388,
          2.0932,
          1.6088
         ],
         "yaxis": "y16"
        },
        {
         "hovertemplate": "File=500mb_samba<br>Standard=bitcomp<br>gpu=RTX2080TI<br>chunksize_Bytes=%{x}<br>compression_throughput_GBps=%{y}<extra></extra>",
         "legendgroup": "500mb_samba",
         "line": {
          "color": "#19d3f3",
          "dash": "solid"
         },
         "marker": {
          "symbol": "circle"
         },
         "mode": "lines+markers",
         "name": "500mb_samba",
         "orientation": "v",
         "showlegend": false,
         "type": "scatter",
         "x": [
          4000,
          16000,
          64000,
          256000,
          1024000,
          4096000,
          16384000,
          65536000
         ],
         "xaxis": "x17",
         "y": [
          81.1343,
          129.3734,
          120.6792,
          85.8815,
          35.8615,
          9.3224,
          2.4147,
          1.8563
         ],
         "yaxis": "y17"
        },
        {
         "hovertemplate": "File=500mb_samba<br>Standard=bitcomp<br>gpu=RTX3050TI<br>chunksize_Bytes=%{x}<br>compression_throughput_GBps=%{y}<extra></extra>",
         "legendgroup": "500mb_samba",
         "line": {
          "color": "#19d3f3",
          "dash": "solid"
         },
         "marker": {
          "symbol": "circle"
         },
         "mode": "lines+markers",
         "name": "500mb_samba",
         "orientation": "v",
         "showlegend": false,
         "type": "scatter",
         "x": [
          4000,
          16000,
          64000,
          256000,
          1024000,
          4096000,
          16384000,
          65536000
         ],
         "xaxis": "x18",
         "y": [
          31.0237,
          54.2155,
          54.6323,
          45.826,
          25.9732,
          8.6455,
          2.1878,
          1.6793
         ],
         "yaxis": "y18"
        },
        {
         "hovertemplate": "File=500mb_samba<br>Standard=cascaded<br>gpu=A100<br>chunksize_Bytes=%{x}<br>compression_throughput_GBps=%{y}<extra></extra>",
         "legendgroup": "500mb_samba",
         "line": {
          "color": "#19d3f3",
          "dash": "solid"
         },
         "marker": {
          "symbol": "circle"
         },
         "mode": "lines+markers",
         "name": "500mb_samba",
         "orientation": "v",
         "showlegend": false,
         "type": "scatter",
         "x": [
          4000,
          16000,
          64000,
          256000,
          1024000,
          4096000,
          16384000,
          65536000
         ],
         "xaxis": "x13",
         "y": [
          62.0189,
          53.4431,
          32.7354,
          9.807,
          2.5011,
          0.6434,
          0.1947,
          0.1469
         ],
         "yaxis": "y13"
        },
        {
         "hovertemplate": "File=500mb_samba<br>Standard=cascaded<br>gpu=RTX2080TI<br>chunksize_Bytes=%{x}<br>compression_throughput_GBps=%{y}<extra></extra>",
         "legendgroup": "500mb_samba",
         "line": {
          "color": "#19d3f3",
          "dash": "solid"
         },
         "marker": {
          "symbol": "circle"
         },
         "mode": "lines+markers",
         "name": "500mb_samba",
         "orientation": "v",
         "showlegend": false,
         "type": "scatter",
         "x": [
          4000,
          16000,
          64000,
          256000,
          1024000,
          4096000,
          16384000,
          65536000
         ],
         "xaxis": "x14",
         "y": [
          27.4015,
          25.9045,
          19.0154,
          10.471,
          2.7694,
          0.6879,
          0.1933,
          0.184
         ],
         "yaxis": "y14"
        },
        {
         "hovertemplate": "File=500mb_samba<br>Standard=cascaded<br>gpu=RTX3050TI<br>chunksize_Bytes=%{x}<br>compression_throughput_GBps=%{y}<extra></extra>",
         "legendgroup": "500mb_samba",
         "line": {
          "color": "#19d3f3",
          "dash": "solid"
         },
         "marker": {
          "symbol": "circle"
         },
         "mode": "lines+markers",
         "name": "500mb_samba",
         "orientation": "v",
         "showlegend": false,
         "type": "scatter",
         "x": [
          4000,
          16000,
          64000,
          256000,
          1024000,
          4096000,
          16384000,
          65536000
         ],
         "xaxis": "x15",
         "y": [
          11.9098,
          11.5441,
          10.7658,
          8.3282,
          2.6539,
          0.6882,
          0.2364,
          0.1663
         ],
         "yaxis": "y15"
        },
        {
         "hovertemplate": "File=500mb_samba<br>Standard=gdeflate<br>gpu=A100<br>chunksize_Bytes=%{x}<br>compression_throughput_GBps=%{y}<extra></extra>",
         "legendgroup": "500mb_samba",
         "line": {
          "color": "#19d3f3",
          "dash": "solid"
         },
         "marker": {
          "symbol": "circle"
         },
         "mode": "lines+markers",
         "name": "500mb_samba",
         "orientation": "v",
         "showlegend": false,
         "type": "scatter",
         "x": [
          4000,
          16000,
          64000
         ],
         "xaxis": "x10",
         "y": [
          6.3435,
          3.648,
          1.1284
         ],
         "yaxis": "y10"
        },
        {
         "hovertemplate": "File=500mb_samba<br>Standard=gdeflate<br>gpu=RTX2080TI<br>chunksize_Bytes=%{x}<br>compression_throughput_GBps=%{y}<extra></extra>",
         "legendgroup": "500mb_samba",
         "line": {
          "color": "#19d3f3",
          "dash": "solid"
         },
         "marker": {
          "symbol": "circle"
         },
         "mode": "lines+markers",
         "name": "500mb_samba",
         "orientation": "v",
         "showlegend": false,
         "type": "scatter",
         "x": [
          4000,
          16000,
          64000
         ],
         "xaxis": "x11",
         "y": [
          2.0762,
          1.9554,
          1.07
         ],
         "yaxis": "y11"
        },
        {
         "hovertemplate": "File=500mb_samba<br>Standard=gdeflate<br>gpu=RTX3050TI<br>chunksize_Bytes=%{x}<br>compression_throughput_GBps=%{y}<extra></extra>",
         "legendgroup": "500mb_samba",
         "line": {
          "color": "#19d3f3",
          "dash": "solid"
         },
         "marker": {
          "symbol": "circle"
         },
         "mode": "lines+markers",
         "name": "500mb_samba",
         "orientation": "v",
         "showlegend": false,
         "type": "scatter",
         "x": [
          4000,
          16000,
          64000
         ],
         "xaxis": "x12",
         "y": [
          1.0997,
          1.0693,
          0.8354
         ],
         "yaxis": "y12"
        },
        {
         "hovertemplate": "File=500mb_samba<br>Standard=lz4<br>gpu=A100<br>chunksize_Bytes=%{x}<br>compression_throughput_GBps=%{y}<extra></extra>",
         "legendgroup": "500mb_samba",
         "line": {
          "color": "#19d3f3",
          "dash": "solid"
         },
         "marker": {
          "symbol": "circle"
         },
         "mode": "lines+markers",
         "name": "500mb_samba",
         "orientation": "v",
         "showlegend": false,
         "type": "scatter",
         "x": [
          4000,
          16000,
          64000,
          256000,
          1024000,
          4096000,
          16384000
         ],
         "xaxis": "x7",
         "y": [
          11.0721,
          4.6902,
          1.4047,
          0.4743,
          0.141,
          0.0424,
          0.0121
         ],
         "yaxis": "y7"
        },
        {
         "hovertemplate": "File=500mb_samba<br>Standard=lz4<br>gpu=RTX2080TI<br>chunksize_Bytes=%{x}<br>compression_throughput_GBps=%{y}<extra></extra>",
         "legendgroup": "500mb_samba",
         "line": {
          "color": "#19d3f3",
          "dash": "solid"
         },
         "marker": {
          "symbol": "circle"
         },
         "mode": "lines+markers",
         "name": "500mb_samba",
         "orientation": "v",
         "showlegend": false,
         "type": "scatter",
         "x": [
          4000,
          16000,
          64000,
          256000,
          1024000,
          4096000,
          16384000
         ],
         "xaxis": "x8",
         "y": [
          4.5916,
          2.5349,
          1.1955,
          0.397,
          0.1534,
          0.046,
          0.0134
         ],
         "yaxis": "y8"
        },
        {
         "hovertemplate": "File=500mb_samba<br>Standard=lz4<br>gpu=RTX3050TI<br>chunksize_Bytes=%{x}<br>compression_throughput_GBps=%{y}<extra></extra>",
         "legendgroup": "500mb_samba",
         "line": {
          "color": "#19d3f3",
          "dash": "solid"
         },
         "marker": {
          "symbol": "circle"
         },
         "mode": "lines+markers",
         "name": "500mb_samba",
         "orientation": "v",
         "showlegend": false,
         "type": "scatter",
         "x": [
          4000,
          16000,
          64000,
          256000,
          1024000,
          4096000,
          16384000
         ],
         "xaxis": "x9",
         "y": [
          1.9793,
          1.3734,
          0.9652,
          0.3337,
          0.1682,
          0.0505,
          0.0144
         ],
         "yaxis": "y9"
        },
        {
         "hovertemplate": "File=500mb_samba<br>Standard=snappy<br>gpu=A100<br>chunksize_Bytes=%{x}<br>compression_throughput_GBps=%{y}<extra></extra>",
         "legendgroup": "500mb_samba",
         "line": {
          "color": "#19d3f3",
          "dash": "solid"
         },
         "marker": {
          "symbol": "circle"
         },
         "mode": "lines+markers",
         "name": "500mb_samba",
         "orientation": "v",
         "showlegend": false,
         "type": "scatter",
         "x": [
          4000,
          16000,
          64000,
          256000,
          1024000,
          4096000,
          16384000,
          65536000
         ],
         "xaxis": "x4",
         "y": [
          10.1697,
          6.2156,
          1.653,
          0.4897,
          0.1579,
          0.0462,
          0.0137,
          0.0103
         ],
         "yaxis": "y4"
        },
        {
         "hovertemplate": "File=500mb_samba<br>Standard=snappy<br>gpu=RTX2080TI<br>chunksize_Bytes=%{x}<br>compression_throughput_GBps=%{y}<extra></extra>",
         "legendgroup": "500mb_samba",
         "line": {
          "color": "#19d3f3",
          "dash": "solid"
         },
         "marker": {
          "symbol": "circle"
         },
         "mode": "lines+markers",
         "name": "500mb_samba",
         "orientation": "v",
         "showlegend": false,
         "type": "scatter",
         "x": [
          4000,
          16000,
          64000,
          256000,
          1024000,
          4096000,
          16384000,
          65536000
         ],
         "xaxis": "x5",
         "y": [
          5.0981,
          3.5301,
          1.8046,
          0.5688,
          0.2008,
          0.0626,
          0.0185,
          0.0139
         ],
         "yaxis": "y5"
        },
        {
         "hovertemplate": "File=500mb_samba<br>Standard=snappy<br>gpu=RTX3050TI<br>chunksize_Bytes=%{x}<br>compression_throughput_GBps=%{y}<extra></extra>",
         "legendgroup": "500mb_samba",
         "line": {
          "color": "#19d3f3",
          "dash": "solid"
         },
         "marker": {
          "symbol": "circle"
         },
         "mode": "lines+markers",
         "name": "500mb_samba",
         "orientation": "v",
         "showlegend": false,
         "type": "scatter",
         "x": [
          4000,
          16000,
          64000,
          256000,
          1024000,
          4096000,
          16384000,
          65536000
         ],
         "xaxis": "x6",
         "y": [
          1.865,
          1.4897,
          1.0364,
          0.4737,
          0.1931,
          0.0559,
          0.0152,
          0.0111
         ],
         "yaxis": "y6"
        },
        {
         "hovertemplate": "File=500mb_samba<br>Standard=zstd<br>gpu=A100<br>chunksize_Bytes=%{x}<br>compression_throughput_GBps=%{y}<extra></extra>",
         "legendgroup": "500mb_samba",
         "line": {
          "color": "#19d3f3",
          "dash": "solid"
         },
         "marker": {
          "symbol": "circle"
         },
         "mode": "lines+markers",
         "name": "500mb_samba",
         "orientation": "v",
         "showlegend": false,
         "type": "scatter",
         "x": [
          4000,
          16000,
          64000,
          256000,
          1024000,
          4096000,
          16384000
         ],
         "xaxis": "x",
         "y": [
          4.1857,
          3.3106,
          0.9981,
          0.4045,
          0.2078,
          0.0679,
          0.0253
         ],
         "yaxis": "y"
        },
        {
         "hovertemplate": "File=500mb_samba<br>Standard=zstd<br>gpu=RTX2080TI<br>chunksize_Bytes=%{x}<br>compression_throughput_GBps=%{y}<extra></extra>",
         "legendgroup": "500mb_samba",
         "line": {
          "color": "#19d3f3",
          "dash": "solid"
         },
         "marker": {
          "symbol": "circle"
         },
         "mode": "lines+markers",
         "name": "500mb_samba",
         "orientation": "v",
         "showlegend": false,
         "type": "scatter",
         "x": [
          4000,
          16000,
          64000,
          256000,
          1024000,
          4096000,
          16384000
         ],
         "xaxis": "x2",
         "y": [
          1.0818,
          1.2494,
          1.1233,
          0.4226,
          0.2012,
          0.0885,
          0.0328
         ],
         "yaxis": "y2"
        },
        {
         "hovertemplate": "File=500mb_samba<br>Standard=zstd<br>gpu=RTX3050TI<br>chunksize_Bytes=%{x}<br>compression_throughput_GBps=%{y}<extra></extra>",
         "legendgroup": "500mb_samba",
         "line": {
          "color": "#19d3f3",
          "dash": "solid"
         },
         "marker": {
          "symbol": "circle"
         },
         "mode": "lines+markers",
         "name": "500mb_samba",
         "orientation": "v",
         "showlegend": false,
         "type": "scatter",
         "x": [
          4000,
          16000,
          64000,
          256000,
          1024000,
          4096000,
          16384000
         ],
         "xaxis": "x3",
         "y": [
          0.7157,
          0.806,
          0.6494,
          0.3588,
          0.2424,
          0.0795,
          0.0281
         ],
         "yaxis": "y3"
        },
        {
         "hovertemplate": "File=500mb_sao<br>Standard=bitcomp<br>gpu=A100<br>chunksize_Bytes=%{x}<br>compression_throughput_GBps=%{y}<extra></extra>",
         "legendgroup": "500mb_sao",
         "line": {
          "color": "#FF6692",
          "dash": "solid"
         },
         "marker": {
          "symbol": "circle"
         },
         "mode": "lines+markers",
         "name": "500mb_sao",
         "orientation": "v",
         "showlegend": true,
         "type": "scatter",
         "x": [
          4000,
          16000,
          64000,
          256000,
          1024000,
          4096000,
          16384000,
          65536000
         ],
         "xaxis": "x16",
         "y": [
          121.3836,
          174.8636,
          131.1477,
          56.4301,
          15.9549,
          4.0937,
          2.3112,
          2.3115
         ],
         "yaxis": "y16"
        },
        {
         "hovertemplate": "File=500mb_sao<br>Standard=bitcomp<br>gpu=RTX2080TI<br>chunksize_Bytes=%{x}<br>compression_throughput_GBps=%{y}<extra></extra>",
         "legendgroup": "500mb_sao",
         "line": {
          "color": "#FF6692",
          "dash": "solid"
         },
         "marker": {
          "symbol": "circle"
         },
         "mode": "lines+markers",
         "name": "500mb_sao",
         "orientation": "v",
         "showlegend": false,
         "type": "scatter",
         "x": [
          4000,
          16000,
          64000,
          256000,
          1024000,
          4096000,
          16384000,
          65536000
         ],
         "xaxis": "x17",
         "y": [
          71.064,
          106.8474,
          112.0234,
          57.3439,
          16.531,
          4.3756,
          2.4105,
          2.4395
         ],
         "yaxis": "y17"
        },
        {
         "hovertemplate": "File=500mb_sao<br>Standard=bitcomp<br>gpu=RTX3050TI<br>chunksize_Bytes=%{x}<br>compression_throughput_GBps=%{y}<extra></extra>",
         "legendgroup": "500mb_sao",
         "line": {
          "color": "#FF6692",
          "dash": "solid"
         },
         "marker": {
          "symbol": "circle"
         },
         "mode": "lines+markers",
         "name": "500mb_sao",
         "orientation": "v",
         "showlegend": false,
         "type": "scatter",
         "x": [
          4000,
          16000,
          64000,
          256000,
          1024000,
          4096000,
          16384000,
          65536000
         ],
         "xaxis": "x18",
         "y": [
          29.8896,
          51.7641,
          56.5286,
          38.9186,
          14.195,
          3.6335,
          2.0586,
          2.0456
         ],
         "yaxis": "y18"
        },
        {
         "hovertemplate": "File=500mb_sao<br>Standard=cascaded<br>gpu=A100<br>chunksize_Bytes=%{x}<br>compression_throughput_GBps=%{y}<extra></extra>",
         "legendgroup": "500mb_sao",
         "line": {
          "color": "#FF6692",
          "dash": "solid"
         },
         "marker": {
          "symbol": "circle"
         },
         "mode": "lines+markers",
         "name": "500mb_sao",
         "orientation": "v",
         "showlegend": false,
         "type": "scatter",
         "x": [
          4000,
          16000,
          64000,
          256000,
          1024000,
          4096000,
          16384000,
          65536000
         ],
         "xaxis": "x13",
         "y": [
          49.7417,
          38.1392,
          13.6644,
          3.6282,
          0.9333,
          0.2346,
          0.1327,
          0.1327
         ],
         "yaxis": "y13"
        },
        {
         "hovertemplate": "File=500mb_sao<br>Standard=cascaded<br>gpu=RTX2080TI<br>chunksize_Bytes=%{x}<br>compression_throughput_GBps=%{y}<extra></extra>",
         "legendgroup": "500mb_sao",
         "line": {
          "color": "#FF6692",
          "dash": "solid"
         },
         "marker": {
          "symbol": "circle"
         },
         "mode": "lines+markers",
         "name": "500mb_sao",
         "orientation": "v",
         "showlegend": false,
         "type": "scatter",
         "x": [
          4000,
          16000,
          64000,
          256000,
          1024000,
          4096000,
          16384000,
          65536000
         ],
         "xaxis": "x14",
         "y": [
          23.2888,
          19.0472,
          12.2878,
          3.6667,
          0.9333,
          0.235,
          0.1325,
          0.1333
         ],
         "yaxis": "y14"
        },
        {
         "hovertemplate": "File=500mb_sao<br>Standard=cascaded<br>gpu=RTX3050TI<br>chunksize_Bytes=%{x}<br>compression_throughput_GBps=%{y}<extra></extra>",
         "legendgroup": "500mb_sao",
         "line": {
          "color": "#FF6692",
          "dash": "solid"
         },
         "marker": {
          "symbol": "circle"
         },
         "mode": "lines+markers",
         "name": "500mb_sao",
         "orientation": "v",
         "showlegend": false,
         "type": "scatter",
         "x": [
          4000,
          16000,
          64000,
          256000,
          1024000,
          4096000,
          16384000,
          65536000
         ],
         "xaxis": "x15",
         "y": [
          10.9639,
          10.1284,
          9.532,
          3.3736,
          0.903,
          0.2273,
          0.1285,
          0.1285
         ],
         "yaxis": "y15"
        },
        {
         "hovertemplate": "File=500mb_sao<br>Standard=gdeflate<br>gpu=A100<br>chunksize_Bytes=%{x}<br>compression_throughput_GBps=%{y}<extra></extra>",
         "legendgroup": "500mb_sao",
         "line": {
          "color": "#FF6692",
          "dash": "solid"
         },
         "marker": {
          "symbol": "circle"
         },
         "mode": "lines+markers",
         "name": "500mb_sao",
         "orientation": "v",
         "showlegend": false,
         "type": "scatter",
         "x": [
          4000,
          16000,
          64000
         ],
         "xaxis": "x10",
         "y": [
          3.3702,
          1.6555,
          0.5084
         ],
         "yaxis": "y10"
        },
        {
         "hovertemplate": "File=500mb_sao<br>Standard=gdeflate<br>gpu=RTX2080TI<br>chunksize_Bytes=%{x}<br>compression_throughput_GBps=%{y}<extra></extra>",
         "legendgroup": "500mb_sao",
         "line": {
          "color": "#FF6692",
          "dash": "solid"
         },
         "marker": {
          "symbol": "circle"
         },
         "mode": "lines+markers",
         "name": "500mb_sao",
         "orientation": "v",
         "showlegend": false,
         "type": "scatter",
         "x": [
          4000,
          16000,
          64000
         ],
         "xaxis": "x11",
         "y": [
          1.0508,
          1.1402,
          0.4575
         ],
         "yaxis": "y11"
        },
        {
         "hovertemplate": "File=500mb_sao<br>Standard=gdeflate<br>gpu=RTX3050TI<br>chunksize_Bytes=%{x}<br>compression_throughput_GBps=%{y}<extra></extra>",
         "legendgroup": "500mb_sao",
         "line": {
          "color": "#FF6692",
          "dash": "solid"
         },
         "marker": {
          "symbol": "circle"
         },
         "mode": "lines+markers",
         "name": "500mb_sao",
         "orientation": "v",
         "showlegend": false,
         "type": "scatter",
         "x": [
          4000,
          16000,
          64000
         ],
         "xaxis": "x12",
         "y": [
          0.6224,
          0.5599,
          0.359
         ],
         "yaxis": "y12"
        },
        {
         "hovertemplate": "File=500mb_sao<br>Standard=lz4<br>gpu=A100<br>chunksize_Bytes=%{x}<br>compression_throughput_GBps=%{y}<extra></extra>",
         "legendgroup": "500mb_sao",
         "line": {
          "color": "#FF6692",
          "dash": "solid"
         },
         "marker": {
          "symbol": "circle"
         },
         "mode": "lines+markers",
         "name": "500mb_sao",
         "orientation": "v",
         "showlegend": false,
         "type": "scatter",
         "x": [
          4000,
          16000,
          64000,
          256000,
          1024000,
          4096000,
          16384000,
          65536000
         ],
         "xaxis": "x7",
         "y": [
          10.6351,
          2.5893,
          0.7262,
          0.1833,
          0.0564,
          0.0144,
          0.0081,
          0.0081
         ],
         "yaxis": "y7"
        },
        {
         "hovertemplate": "File=500mb_sao<br>Standard=lz4<br>gpu=RTX2080TI<br>chunksize_Bytes=%{x}<br>compression_throughput_GBps=%{y}<extra></extra>",
         "legendgroup": "500mb_sao",
         "line": {
          "color": "#FF6692",
          "dash": "solid"
         },
         "marker": {
          "symbol": "circle"
         },
         "mode": "lines+markers",
         "name": "500mb_sao",
         "orientation": "v",
         "showlegend": false,
         "type": "scatter",
         "x": [
          4000,
          16000,
          64000,
          256000,
          1024000,
          4096000,
          16384000,
          65536000
         ],
         "xaxis": "x8",
         "y": [
          2.8765,
          1.7188,
          0.5734,
          0.1688,
          0.0572,
          0.0145,
          0.0082,
          0.0082
         ],
         "yaxis": "y8"
        },
        {
         "hovertemplate": "File=500mb_sao<br>Standard=lz4<br>gpu=RTX3050TI<br>chunksize_Bytes=%{x}<br>compression_throughput_GBps=%{y}<extra></extra>",
         "legendgroup": "500mb_sao",
         "line": {
          "color": "#FF6692",
          "dash": "solid"
         },
         "marker": {
          "symbol": "circle"
         },
         "mode": "lines+markers",
         "name": "500mb_sao",
         "orientation": "v",
         "showlegend": false,
         "type": "scatter",
         "x": [
          4000,
          16000,
          64000,
          256000,
          1024000,
          4096000,
          16384000,
          65536000
         ],
         "xaxis": "x9",
         "y": [
          1.6829,
          0.8289,
          0.4578,
          0.1511,
          0.054,
          0.0166,
          0.0094,
          0.0094
         ],
         "yaxis": "y9"
        },
        {
         "hovertemplate": "File=500mb_sao<br>Standard=snappy<br>gpu=A100<br>chunksize_Bytes=%{x}<br>compression_throughput_GBps=%{y}<extra></extra>",
         "legendgroup": "500mb_sao",
         "line": {
          "color": "#FF6692",
          "dash": "solid"
         },
         "marker": {
          "symbol": "circle"
         },
         "mode": "lines+markers",
         "name": "500mb_sao",
         "orientation": "v",
         "showlegend": false,
         "type": "scatter",
         "x": [
          4000,
          16000,
          64000,
          256000,
          1024000,
          4096000,
          16384000,
          65536000
         ],
         "xaxis": "x4",
         "y": [
          13.4367,
          3.567,
          0.9242,
          0.2293,
          0.0713,
          0.0186,
          0.0105,
          0.0105
         ],
         "yaxis": "y4"
        },
        {
         "hovertemplate": "File=500mb_sao<br>Standard=snappy<br>gpu=RTX2080TI<br>chunksize_Bytes=%{x}<br>compression_throughput_GBps=%{y}<extra></extra>",
         "legendgroup": "500mb_sao",
         "line": {
          "color": "#FF6692",
          "dash": "solid"
         },
         "marker": {
          "symbol": "circle"
         },
         "mode": "lines+markers",
         "name": "500mb_sao",
         "orientation": "v",
         "showlegend": false,
         "type": "scatter",
         "x": [
          4000,
          16000,
          64000,
          256000,
          1024000,
          4096000,
          16384000,
          65536000
         ],
         "xaxis": "x5",
         "y": [
          5.4153,
          3.8816,
          1.0299,
          0.2701,
          0.0857,
          0.0245,
          0.0138,
          0.0138
         ],
         "yaxis": "y5"
        },
        {
         "hovertemplate": "File=500mb_sao<br>Standard=snappy<br>gpu=RTX3050TI<br>chunksize_Bytes=%{x}<br>compression_throughput_GBps=%{y}<extra></extra>",
         "legendgroup": "500mb_sao",
         "line": {
          "color": "#FF6692",
          "dash": "solid"
         },
         "marker": {
          "symbol": "circle"
         },
         "mode": "lines+markers",
         "name": "500mb_sao",
         "orientation": "v",
         "showlegend": false,
         "type": "scatter",
         "x": [
          4000,
          16000,
          64000,
          256000,
          1024000,
          4096000,
          16384000,
          65536000
         ],
         "xaxis": "x6",
         "y": [
          1.9696,
          1.2351,
          0.7978,
          0.2292,
          0.0638,
          0.0217,
          0.0123,
          0.0119
         ],
         "yaxis": "y6"
        },
        {
         "hovertemplate": "File=500mb_sao<br>Standard=zstd<br>gpu=A100<br>chunksize_Bytes=%{x}<br>compression_throughput_GBps=%{y}<extra></extra>",
         "legendgroup": "500mb_sao",
         "line": {
          "color": "#FF6692",
          "dash": "solid"
         },
         "marker": {
          "symbol": "circle"
         },
         "mode": "lines+markers",
         "name": "500mb_sao",
         "orientation": "v",
         "showlegend": false,
         "type": "scatter",
         "x": [
          4000,
          16000,
          64000,
          256000,
          1024000,
          4096000,
          16384000,
          65536000
         ],
         "xaxis": "x",
         "y": [
          2.8376,
          1.5583,
          0.449,
          0.135,
          0.064,
          0.0169,
          0.0093,
          0.0093
         ],
         "yaxis": "y"
        },
        {
         "hovertemplate": "File=500mb_sao<br>Standard=zstd<br>gpu=RTX2080TI<br>chunksize_Bytes=%{x}<br>compression_throughput_GBps=%{y}<extra></extra>",
         "legendgroup": "500mb_sao",
         "line": {
          "color": "#FF6692",
          "dash": "solid"
         },
         "marker": {
          "symbol": "circle"
         },
         "mode": "lines+markers",
         "name": "500mb_sao",
         "orientation": "v",
         "showlegend": false,
         "type": "scatter",
         "x": [
          4000,
          16000,
          64000,
          256000,
          1024000,
          4096000,
          16384000,
          65536000
         ],
         "xaxis": "x2",
         "y": [
          0.7983,
          0.9454,
          0.4909,
          0.1432,
          0.0757,
          0.0213,
          0.0117,
          0.0117
         ],
         "yaxis": "y2"
        },
        {
         "hovertemplate": "File=500mb_sao<br>Standard=zstd<br>gpu=RTX3050TI<br>chunksize_Bytes=%{x}<br>compression_throughput_GBps=%{y}<extra></extra>",
         "legendgroup": "500mb_sao",
         "line": {
          "color": "#FF6692",
          "dash": "solid"
         },
         "marker": {
          "symbol": "circle"
         },
         "mode": "lines+markers",
         "name": "500mb_sao",
         "orientation": "v",
         "showlegend": false,
         "type": "scatter",
         "x": [
          4000,
          16000,
          64000,
          256000,
          1024000,
          4096000,
          16384000,
          65536000
         ],
         "xaxis": "x3",
         "y": [
          0.4849,
          0.4981,
          0.4167,
          0.1267,
          0.0672,
          0.0199,
          0.011,
          0.011
         ],
         "yaxis": "y3"
        },
        {
         "hovertemplate": "File=500mb_xml<br>Standard=bitcomp<br>gpu=A100<br>chunksize_Bytes=%{x}<br>compression_throughput_GBps=%{y}<extra></extra>",
         "legendgroup": "500mb_xml",
         "line": {
          "color": "#B6E880",
          "dash": "solid"
         },
         "marker": {
          "symbol": "circle"
         },
         "mode": "lines+markers",
         "name": "500mb_xml",
         "orientation": "v",
         "showlegend": true,
         "type": "scatter",
         "x": [
          4000,
          16000,
          64000,
          256000,
          1024000,
          4096000,
          16384000,
          65536000
         ],
         "xaxis": "x16",
         "y": [
          110.4032,
          134.4928,
          98.8988,
          30.4207,
          8.2886,
          2.1647,
          1.6538,
          1.6543
         ],
         "yaxis": "y16"
        },
        {
         "hovertemplate": "File=500mb_xml<br>Standard=bitcomp<br>gpu=RTX2080TI<br>chunksize_Bytes=%{x}<br>compression_throughput_GBps=%{y}<extra></extra>",
         "legendgroup": "500mb_xml",
         "line": {
          "color": "#B6E880",
          "dash": "solid"
         },
         "marker": {
          "symbol": "circle"
         },
         "mode": "lines+markers",
         "name": "500mb_xml",
         "orientation": "v",
         "showlegend": false,
         "type": "scatter",
         "x": [
          4000,
          16000,
          64000,
          256000,
          1024000,
          4096000,
          16384000,
          65536000
         ],
         "xaxis": "x17",
         "y": [
          71.4151,
          91.7802,
          70.5405,
          31.8657,
          8.8213,
          2.3544,
          1.7783,
          1.7953
         ],
         "yaxis": "y17"
        },
        {
         "hovertemplate": "File=500mb_xml<br>Standard=cascaded<br>gpu=A100<br>chunksize_Bytes=%{x}<br>compression_throughput_GBps=%{y}<extra></extra>",
         "legendgroup": "500mb_xml",
         "line": {
          "color": "#B6E880",
          "dash": "solid"
         },
         "marker": {
          "symbol": "circle"
         },
         "mode": "lines+markers",
         "name": "500mb_xml",
         "orientation": "v",
         "showlegend": false,
         "type": "scatter",
         "x": [
          4000,
          16000,
          64000,
          256000,
          1024000,
          4096000,
          16384000,
          65536000
         ],
         "xaxis": "x13",
         "y": [
          48.0691,
          31.6844,
          9.8537,
          2.5759,
          0.6788,
          0.1746,
          0.1341,
          0.134
         ],
         "yaxis": "y13"
        },
        {
         "hovertemplate": "File=500mb_xml<br>Standard=cascaded<br>gpu=RTX2080TI<br>chunksize_Bytes=%{x}<br>compression_throughput_GBps=%{y}<extra></extra>",
         "legendgroup": "500mb_xml",
         "line": {
          "color": "#B6E880",
          "dash": "solid"
         },
         "marker": {
          "symbol": "circle"
         },
         "mode": "lines+markers",
         "name": "500mb_xml",
         "orientation": "v",
         "showlegend": false,
         "type": "scatter",
         "x": [
          4000,
          16000,
          64000,
          256000,
          1024000,
          4096000,
          16384000,
          65536000
         ],
         "xaxis": "x14",
         "y": [
          23.2971,
          14.9276,
          9.5752,
          2.64,
          0.6758,
          0.1734,
          0.1341,
          0.1341
         ],
         "yaxis": "y14"
        },
        {
         "hovertemplate": "File=500mb_xml<br>Standard=gdeflate<br>gpu=A100<br>chunksize_Bytes=%{x}<br>compression_throughput_GBps=%{y}<extra></extra>",
         "legendgroup": "500mb_xml",
         "line": {
          "color": "#B6E880",
          "dash": "solid"
         },
         "marker": {
          "symbol": "circle"
         },
         "mode": "lines+markers",
         "name": "500mb_xml",
         "orientation": "v",
         "showlegend": false,
         "type": "scatter",
         "x": [
          4000,
          16000,
          64000
         ],
         "xaxis": "x10",
         "y": [
          4.2947,
          1.5172,
          0.4124
         ],
         "yaxis": "y10"
        },
        {
         "hovertemplate": "File=500mb_xml<br>Standard=gdeflate<br>gpu=RTX2080TI<br>chunksize_Bytes=%{x}<br>compression_throughput_GBps=%{y}<extra></extra>",
         "legendgroup": "500mb_xml",
         "line": {
          "color": "#B6E880",
          "dash": "solid"
         },
         "marker": {
          "symbol": "circle"
         },
         "mode": "lines+markers",
         "name": "500mb_xml",
         "orientation": "v",
         "showlegend": false,
         "type": "scatter",
         "x": [
          4000,
          16000,
          64000
         ],
         "xaxis": "x11",
         "y": [
          2.2328,
          1.3478,
          0.4048
         ],
         "yaxis": "y11"
        },
        {
         "hovertemplate": "File=500mb_xml<br>Standard=gdeflate<br>gpu=RTX3050TI<br>chunksize_Bytes=%{x}<br>compression_throughput_GBps=%{y}<extra></extra>",
         "legendgroup": "500mb_xml",
         "line": {
          "color": "#B6E880",
          "dash": "solid"
         },
         "marker": {
          "symbol": "circle"
         },
         "mode": "lines+markers",
         "name": "500mb_xml",
         "orientation": "v",
         "showlegend": false,
         "type": "scatter",
         "x": [
          4000,
          16000,
          64000
         ],
         "xaxis": "x12",
         "y": [
          1.1801,
          0.9056,
          0.3721
         ],
         "yaxis": "y12"
        },
        {
         "hovertemplate": "File=500mb_xml<br>Standard=lz4<br>gpu=A100<br>chunksize_Bytes=%{x}<br>compression_throughput_GBps=%{y}<extra></extra>",
         "legendgroup": "500mb_xml",
         "line": {
          "color": "#B6E880",
          "dash": "solid"
         },
         "marker": {
          "symbol": "circle"
         },
         "mode": "lines+markers",
         "name": "500mb_xml",
         "orientation": "v",
         "showlegend": false,
         "type": "scatter",
         "x": [
          4000,
          16000,
          64000,
          256000,
          1024000,
          4096000,
          16384000,
          65536000
         ],
         "xaxis": "x7",
         "y": [
          7.244,
          1.8853,
          0.4695,
          0.1216,
          0.0429,
          0.0176,
          0.0116,
          0.0116
         ],
         "yaxis": "y7"
        },
        {
         "hovertemplate": "File=500mb_xml<br>Standard=lz4<br>gpu=RTX2080TI<br>chunksize_Bytes=%{x}<br>compression_throughput_GBps=%{y}<extra></extra>",
         "legendgroup": "500mb_xml",
         "line": {
          "color": "#B6E880",
          "dash": "solid"
         },
         "marker": {
          "symbol": "circle"
         },
         "mode": "lines+markers",
         "name": "500mb_xml",
         "orientation": "v",
         "showlegend": false,
         "type": "scatter",
         "x": [
          4000,
          16000,
          64000,
          256000,
          1024000,
          4096000,
          16384000,
          65536000
         ],
         "xaxis": "x8",
         "y": [
          3.9463,
          1.5956,
          0.441,
          0.1205,
          0.0414,
          0.0198,
          0.0129,
          0.0128
         ],
         "yaxis": "y8"
        },
        {
         "hovertemplate": "File=500mb_xml<br>Standard=snappy<br>gpu=A100<br>chunksize_Bytes=%{x}<br>compression_throughput_GBps=%{y}<extra></extra>",
         "legendgroup": "500mb_xml",
         "line": {
          "color": "#B6E880",
          "dash": "solid"
         },
         "marker": {
          "symbol": "circle"
         },
         "mode": "lines+markers",
         "name": "500mb_xml",
         "orientation": "v",
         "showlegend": false,
         "type": "scatter",
         "x": [
          4000,
          16000,
          64000,
          256000,
          1024000,
          4096000,
          16384000,
          65536000
         ],
         "xaxis": "x4",
         "y": [
          8.0723,
          2.2153,
          0.5405,
          0.1384,
          0.0489,
          0.0172,
          0.012,
          0.012
         ],
         "yaxis": "y4"
        },
        {
         "hovertemplate": "File=500mb_xml<br>Standard=snappy<br>gpu=RTX2080TI<br>chunksize_Bytes=%{x}<br>compression_throughput_GBps=%{y}<extra></extra>",
         "legendgroup": "500mb_xml",
         "line": {
          "color": "#B6E880",
          "dash": "solid"
         },
         "marker": {
          "symbol": "circle"
         },
         "mode": "lines+markers",
         "name": "500mb_xml",
         "orientation": "v",
         "showlegend": false,
         "type": "scatter",
         "x": [
          4000,
          16000,
          64000,
          256000,
          1024000,
          4096000,
          16384000,
          65536000
         ],
         "xaxis": "x5",
         "y": [
          4.2497,
          2.4277,
          0.5955,
          0.1647,
          0.0601,
          0.0227,
          0.0157,
          0.0157
         ],
         "yaxis": "y5"
        },
        {
         "hovertemplate": "File=500mb_xml<br>Standard=snappy<br>gpu=RTX3050TI<br>chunksize_Bytes=%{x}<br>compression_throughput_GBps=%{y}<extra></extra>",
         "legendgroup": "500mb_xml",
         "line": {
          "color": "#B6E880",
          "dash": "solid"
         },
         "marker": {
          "symbol": "circle"
         },
         "mode": "lines+markers",
         "name": "500mb_xml",
         "orientation": "v",
         "showlegend": false,
         "type": "scatter",
         "x": [
          4000,
          16000,
          64000,
          256000,
          1024000,
          4096000,
          16384000,
          65536000
         ],
         "xaxis": "x6",
         "y": [
          1.668,
          1.2355,
          0.5195,
          0.1447,
          0.0459,
          0.0198,
          0.0139,
          0.0139
         ],
         "yaxis": "y6"
        },
        {
         "hovertemplate": "File=500mb_xml<br>Standard=zstd<br>gpu=A100<br>chunksize_Bytes=%{x}<br>compression_throughput_GBps=%{y}<extra></extra>",
         "legendgroup": "500mb_xml",
         "line": {
          "color": "#B6E880",
          "dash": "solid"
         },
         "marker": {
          "symbol": "circle"
         },
         "mode": "lines+markers",
         "name": "500mb_xml",
         "orientation": "v",
         "showlegend": false,
         "type": "scatter",
         "x": [
          4000,
          16000,
          64000,
          256000,
          1024000,
          4096000,
          16384000,
          65536000
         ],
         "xaxis": "x",
         "y": [
          3.0192,
          1.2147,
          0.3307,
          0.1046,
          0.0546,
          0.0305,
          0.0163,
          0.0163
         ],
         "yaxis": "y"
        },
        {
         "hovertemplate": "File=500mb_xml<br>Standard=zstd<br>gpu=RTX2080TI<br>chunksize_Bytes=%{x}<br>compression_throughput_GBps=%{y}<extra></extra>",
         "legendgroup": "500mb_xml",
         "line": {
          "color": "#B6E880",
          "dash": "solid"
         },
         "marker": {
          "symbol": "circle"
         },
         "mode": "lines+markers",
         "name": "500mb_xml",
         "orientation": "v",
         "showlegend": false,
         "type": "scatter",
         "x": [
          4000,
          16000,
          64000,
          256000,
          1024000,
          4096000,
          16384000,
          65536000
         ],
         "xaxis": "x2",
         "y": [
          1.1781,
          1.3054,
          0.3797,
          0.1158,
          0.0607,
          0.0406,
          0.0215,
          0.0214
         ],
         "yaxis": "y2"
        },
        {
         "hovertemplate": "File=500mb_xml<br>Standard=zstd<br>gpu=RTX3050TI<br>chunksize_Bytes=%{x}<br>compression_throughput_GBps=%{y}<extra></extra>",
         "legendgroup": "500mb_xml",
         "line": {
          "color": "#B6E880",
          "dash": "solid"
         },
         "marker": {
          "symbol": "circle"
         },
         "mode": "lines+markers",
         "name": "500mb_xml",
         "orientation": "v",
         "showlegend": false,
         "type": "scatter",
         "x": [
          4000,
          16000,
          64000,
          256000,
          1024000,
          4096000,
          16384000,
          65536000
         ],
         "xaxis": "x3",
         "y": [
          0.7522,
          0.7368,
          0.3338,
          0.102,
          0.0722,
          0.0372,
          0.0198,
          0.0198
         ],
         "yaxis": "y3"
        },
        {
         "hovertemplate": "File=500mb_silesia.zip<br>Standard=bitcomp<br>gpu=RTX2080TI<br>chunksize_Bytes=%{x}<br>compression_throughput_GBps=%{y}<extra></extra>",
         "legendgroup": "500mb_silesia.zip",
         "line": {
          "color": "#FF97FF",
          "dash": "solid"
         },
         "marker": {
          "symbol": "circle"
         },
         "mode": "lines+markers",
         "name": "500mb_silesia.zip",
         "orientation": "v",
         "showlegend": true,
         "type": "scatter",
         "x": [
          4000,
          16000,
          64000,
          256000,
          1024000,
          4096000,
          16384000,
          65536000
         ],
         "xaxis": "x17",
         "y": [
          84.3955,
          146.0689,
          194.7007,
          171.2447,
          142.7249,
          38.9928,
          10.2019,
          2.5911
         ],
         "yaxis": "y17"
        },
        {
         "hovertemplate": "File=500mb_silesia.zip<br>Standard=gdeflate<br>gpu=RTX2080TI<br>chunksize_Bytes=%{x}<br>compression_throughput_GBps=%{y}<extra></extra>",
         "legendgroup": "500mb_silesia.zip",
         "line": {
          "color": "#FF97FF",
          "dash": "solid"
         },
         "marker": {
          "symbol": "circle"
         },
         "mode": "lines+markers",
         "name": "500mb_silesia.zip",
         "orientation": "v",
         "showlegend": false,
         "type": "scatter",
         "x": [
          4000,
          16000,
          64000
         ],
         "xaxis": "x11",
         "y": [
          1.1984,
          1.2078,
          1.0414
         ],
         "yaxis": "y11"
        },
        {
         "hovertemplate": "File=500mb_silesia.zip<br>Standard=lz4<br>gpu=RTX2080TI<br>chunksize_Bytes=%{x}<br>compression_throughput_GBps=%{y}<extra></extra>",
         "legendgroup": "500mb_silesia.zip",
         "line": {
          "color": "#FF97FF",
          "dash": "solid"
         },
         "marker": {
          "symbol": "circle"
         },
         "mode": "lines+markers",
         "name": "500mb_silesia.zip",
         "orientation": "v",
         "showlegend": false,
         "type": "scatter",
         "x": [
          4000,
          16000,
          64000,
          256000,
          1024000,
          4096000,
          16384000
         ],
         "xaxis": "x8",
         "y": [
          2.5584,
          1.4094,
          1.2452,
          1.5927,
          1.0571,
          0.3388,
          0.0847
         ],
         "yaxis": "y8"
        },
        {
         "hovertemplate": "File=500mb_silesia.zip<br>Standard=snappy<br>gpu=RTX2080TI<br>chunksize_Bytes=%{x}<br>compression_throughput_GBps=%{y}<extra></extra>",
         "legendgroup": "500mb_silesia.zip",
         "line": {
          "color": "#FF97FF",
          "dash": "solid"
         },
         "marker": {
          "symbol": "circle"
         },
         "mode": "lines+markers",
         "name": "500mb_silesia.zip",
         "orientation": "v",
         "showlegend": false,
         "type": "scatter",
         "x": [
          4000,
          16000,
          64000,
          256000,
          1024000,
          4096000,
          16384000,
          65536000
         ],
         "xaxis": "x5",
         "y": [
          14.029,
          12.1939,
          8.4638,
          4.8947,
          1.8466,
          0.6751,
          0.174,
          0.0439
         ],
         "yaxis": "y5"
        },
        {
         "hovertemplate": "File=500mb_silesia.zip<br>Standard=zstd<br>gpu=RTX2080TI<br>chunksize_Bytes=%{x}<br>compression_throughput_GBps=%{y}<extra></extra>",
         "legendgroup": "500mb_silesia.zip",
         "line": {
          "color": "#FF97FF",
          "dash": "solid"
         },
         "marker": {
          "symbol": "circle"
         },
         "mode": "lines+markers",
         "name": "500mb_silesia.zip",
         "orientation": "v",
         "showlegend": false,
         "type": "scatter",
         "x": [
          4000,
          16000,
          64000
         ],
         "xaxis": "x2",
         "y": [
          0.9116,
          0.9747,
          0.8963
         ],
         "yaxis": "y2"
        }
       ],
       "layout": {
        "annotations": [
         {
          "font": {},
          "showarrow": false,
          "text": "gpu=A100",
          "x": 0.14666666666666667,
          "xanchor": "center",
          "xref": "paper",
          "y": 1,
          "yanchor": "bottom",
          "yref": "paper"
         },
         {
          "font": {},
          "showarrow": false,
          "text": "gpu=RTX2080TI",
          "x": 0.49,
          "xanchor": "center",
          "xref": "paper",
          "y": 1,
          "yanchor": "bottom",
          "yref": "paper"
         },
         {
          "font": {},
          "showarrow": false,
          "text": "gpu=RTX3050TI",
          "x": 0.8333333333333333,
          "xanchor": "center",
          "xref": "paper",
          "y": 1,
          "yanchor": "bottom",
          "yref": "paper"
         },
         {
          "font": {},
          "showarrow": false,
          "text": "Standard=zstd",
          "textangle": 90,
          "x": 0.98,
          "xanchor": "left",
          "xref": "paper",
          "y": 0.07083333333333333,
          "yanchor": "middle",
          "yref": "paper"
         },
         {
          "font": {},
          "showarrow": false,
          "text": "Standard=snappy",
          "textangle": 90,
          "x": 0.98,
          "xanchor": "left",
          "xref": "paper",
          "y": 0.2425,
          "yanchor": "middle",
          "yref": "paper"
         },
         {
          "font": {},
          "showarrow": false,
          "text": "Standard=lz4",
          "textangle": 90,
          "x": 0.98,
          "xanchor": "left",
          "xref": "paper",
          "y": 0.4141666666666667,
          "yanchor": "middle",
          "yref": "paper"
         },
         {
          "font": {},
          "showarrow": false,
          "text": "Standard=gdeflate",
          "textangle": 90,
          "x": 0.98,
          "xanchor": "left",
          "xref": "paper",
          "y": 0.5858333333333334,
          "yanchor": "middle",
          "yref": "paper"
         },
         {
          "font": {},
          "showarrow": false,
          "text": "Standard=cascaded",
          "textangle": 90,
          "x": 0.98,
          "xanchor": "left",
          "xref": "paper",
          "y": 0.7575000000000001,
          "yanchor": "middle",
          "yref": "paper"
         },
         {
          "font": {},
          "showarrow": false,
          "text": "Standard=bitcomp",
          "textangle": 90,
          "x": 0.98,
          "xanchor": "left",
          "xref": "paper",
          "y": 0.9291666666666667,
          "yanchor": "middle",
          "yref": "paper"
         }
        ],
        "height": 1000,
        "legend": {
         "title": {
          "text": "File"
         },
         "tracegroupgap": 0
        },
        "template": {
         "data": {
          "bar": [
           {
            "error_x": {
             "color": "#2a3f5f"
            },
            "error_y": {
             "color": "#2a3f5f"
            },
            "marker": {
             "line": {
              "color": "#E5ECF6",
              "width": 0.5
             },
             "pattern": {
              "fillmode": "overlay",
              "size": 10,
              "solidity": 0.2
             }
            },
            "type": "bar"
           }
          ],
          "barpolar": [
           {
            "marker": {
             "line": {
              "color": "#E5ECF6",
              "width": 0.5
             },
             "pattern": {
              "fillmode": "overlay",
              "size": 10,
              "solidity": 0.2
             }
            },
            "type": "barpolar"
           }
          ],
          "carpet": [
           {
            "aaxis": {
             "endlinecolor": "#2a3f5f",
             "gridcolor": "white",
             "linecolor": "white",
             "minorgridcolor": "white",
             "startlinecolor": "#2a3f5f"
            },
            "baxis": {
             "endlinecolor": "#2a3f5f",
             "gridcolor": "white",
             "linecolor": "white",
             "minorgridcolor": "white",
             "startlinecolor": "#2a3f5f"
            },
            "type": "carpet"
           }
          ],
          "choropleth": [
           {
            "colorbar": {
             "outlinewidth": 0,
             "ticks": ""
            },
            "type": "choropleth"
           }
          ],
          "contour": [
           {
            "colorbar": {
             "outlinewidth": 0,
             "ticks": ""
            },
            "colorscale": [
             [
              0,
              "#0d0887"
             ],
             [
              0.1111111111111111,
              "#46039f"
             ],
             [
              0.2222222222222222,
              "#7201a8"
             ],
             [
              0.3333333333333333,
              "#9c179e"
             ],
             [
              0.4444444444444444,
              "#bd3786"
             ],
             [
              0.5555555555555556,
              "#d8576b"
             ],
             [
              0.6666666666666666,
              "#ed7953"
             ],
             [
              0.7777777777777778,
              "#fb9f3a"
             ],
             [
              0.8888888888888888,
              "#fdca26"
             ],
             [
              1,
              "#f0f921"
             ]
            ],
            "type": "contour"
           }
          ],
          "contourcarpet": [
           {
            "colorbar": {
             "outlinewidth": 0,
             "ticks": ""
            },
            "type": "contourcarpet"
           }
          ],
          "heatmap": [
           {
            "colorbar": {
             "outlinewidth": 0,
             "ticks": ""
            },
            "colorscale": [
             [
              0,
              "#0d0887"
             ],
             [
              0.1111111111111111,
              "#46039f"
             ],
             [
              0.2222222222222222,
              "#7201a8"
             ],
             [
              0.3333333333333333,
              "#9c179e"
             ],
             [
              0.4444444444444444,
              "#bd3786"
             ],
             [
              0.5555555555555556,
              "#d8576b"
             ],
             [
              0.6666666666666666,
              "#ed7953"
             ],
             [
              0.7777777777777778,
              "#fb9f3a"
             ],
             [
              0.8888888888888888,
              "#fdca26"
             ],
             [
              1,
              "#f0f921"
             ]
            ],
            "type": "heatmap"
           }
          ],
          "heatmapgl": [
           {
            "colorbar": {
             "outlinewidth": 0,
             "ticks": ""
            },
            "colorscale": [
             [
              0,
              "#0d0887"
             ],
             [
              0.1111111111111111,
              "#46039f"
             ],
             [
              0.2222222222222222,
              "#7201a8"
             ],
             [
              0.3333333333333333,
              "#9c179e"
             ],
             [
              0.4444444444444444,
              "#bd3786"
             ],
             [
              0.5555555555555556,
              "#d8576b"
             ],
             [
              0.6666666666666666,
              "#ed7953"
             ],
             [
              0.7777777777777778,
              "#fb9f3a"
             ],
             [
              0.8888888888888888,
              "#fdca26"
             ],
             [
              1,
              "#f0f921"
             ]
            ],
            "type": "heatmapgl"
           }
          ],
          "histogram": [
           {
            "marker": {
             "pattern": {
              "fillmode": "overlay",
              "size": 10,
              "solidity": 0.2
             }
            },
            "type": "histogram"
           }
          ],
          "histogram2d": [
           {
            "colorbar": {
             "outlinewidth": 0,
             "ticks": ""
            },
            "colorscale": [
             [
              0,
              "#0d0887"
             ],
             [
              0.1111111111111111,
              "#46039f"
             ],
             [
              0.2222222222222222,
              "#7201a8"
             ],
             [
              0.3333333333333333,
              "#9c179e"
             ],
             [
              0.4444444444444444,
              "#bd3786"
             ],
             [
              0.5555555555555556,
              "#d8576b"
             ],
             [
              0.6666666666666666,
              "#ed7953"
             ],
             [
              0.7777777777777778,
              "#fb9f3a"
             ],
             [
              0.8888888888888888,
              "#fdca26"
             ],
             [
              1,
              "#f0f921"
             ]
            ],
            "type": "histogram2d"
           }
          ],
          "histogram2dcontour": [
           {
            "colorbar": {
             "outlinewidth": 0,
             "ticks": ""
            },
            "colorscale": [
             [
              0,
              "#0d0887"
             ],
             [
              0.1111111111111111,
              "#46039f"
             ],
             [
              0.2222222222222222,
              "#7201a8"
             ],
             [
              0.3333333333333333,
              "#9c179e"
             ],
             [
              0.4444444444444444,
              "#bd3786"
             ],
             [
              0.5555555555555556,
              "#d8576b"
             ],
             [
              0.6666666666666666,
              "#ed7953"
             ],
             [
              0.7777777777777778,
              "#fb9f3a"
             ],
             [
              0.8888888888888888,
              "#fdca26"
             ],
             [
              1,
              "#f0f921"
             ]
            ],
            "type": "histogram2dcontour"
           }
          ],
          "mesh3d": [
           {
            "colorbar": {
             "outlinewidth": 0,
             "ticks": ""
            },
            "type": "mesh3d"
           }
          ],
          "parcoords": [
           {
            "line": {
             "colorbar": {
              "outlinewidth": 0,
              "ticks": ""
             }
            },
            "type": "parcoords"
           }
          ],
          "pie": [
           {
            "automargin": true,
            "type": "pie"
           }
          ],
          "scatter": [
           {
            "fillpattern": {
             "fillmode": "overlay",
             "size": 10,
             "solidity": 0.2
            },
            "type": "scatter"
           }
          ],
          "scatter3d": [
           {
            "line": {
             "colorbar": {
              "outlinewidth": 0,
              "ticks": ""
             }
            },
            "marker": {
             "colorbar": {
              "outlinewidth": 0,
              "ticks": ""
             }
            },
            "type": "scatter3d"
           }
          ],
          "scattercarpet": [
           {
            "marker": {
             "colorbar": {
              "outlinewidth": 0,
              "ticks": ""
             }
            },
            "type": "scattercarpet"
           }
          ],
          "scattergeo": [
           {
            "marker": {
             "colorbar": {
              "outlinewidth": 0,
              "ticks": ""
             }
            },
            "type": "scattergeo"
           }
          ],
          "scattergl": [
           {
            "marker": {
             "colorbar": {
              "outlinewidth": 0,
              "ticks": ""
             }
            },
            "type": "scattergl"
           }
          ],
          "scattermapbox": [
           {
            "marker": {
             "colorbar": {
              "outlinewidth": 0,
              "ticks": ""
             }
            },
            "type": "scattermapbox"
           }
          ],
          "scatterpolar": [
           {
            "marker": {
             "colorbar": {
              "outlinewidth": 0,
              "ticks": ""
             }
            },
            "type": "scatterpolar"
           }
          ],
          "scatterpolargl": [
           {
            "marker": {
             "colorbar": {
              "outlinewidth": 0,
              "ticks": ""
             }
            },
            "type": "scatterpolargl"
           }
          ],
          "scatterternary": [
           {
            "marker": {
             "colorbar": {
              "outlinewidth": 0,
              "ticks": ""
             }
            },
            "type": "scatterternary"
           }
          ],
          "surface": [
           {
            "colorbar": {
             "outlinewidth": 0,
             "ticks": ""
            },
            "colorscale": [
             [
              0,
              "#0d0887"
             ],
             [
              0.1111111111111111,
              "#46039f"
             ],
             [
              0.2222222222222222,
              "#7201a8"
             ],
             [
              0.3333333333333333,
              "#9c179e"
             ],
             [
              0.4444444444444444,
              "#bd3786"
             ],
             [
              0.5555555555555556,
              "#d8576b"
             ],
             [
              0.6666666666666666,
              "#ed7953"
             ],
             [
              0.7777777777777778,
              "#fb9f3a"
             ],
             [
              0.8888888888888888,
              "#fdca26"
             ],
             [
              1,
              "#f0f921"
             ]
            ],
            "type": "surface"
           }
          ],
          "table": [
           {
            "cells": {
             "fill": {
              "color": "#EBF0F8"
             },
             "line": {
              "color": "white"
             }
            },
            "header": {
             "fill": {
              "color": "#C8D4E3"
             },
             "line": {
              "color": "white"
             }
            },
            "type": "table"
           }
          ]
         },
         "layout": {
          "annotationdefaults": {
           "arrowcolor": "#2a3f5f",
           "arrowhead": 0,
           "arrowwidth": 1
          },
          "autotypenumbers": "strict",
          "coloraxis": {
           "colorbar": {
            "outlinewidth": 0,
            "ticks": ""
           }
          },
          "colorscale": {
           "diverging": [
            [
             0,
             "#8e0152"
            ],
            [
             0.1,
             "#c51b7d"
            ],
            [
             0.2,
             "#de77ae"
            ],
            [
             0.3,
             "#f1b6da"
            ],
            [
             0.4,
             "#fde0ef"
            ],
            [
             0.5,
             "#f7f7f7"
            ],
            [
             0.6,
             "#e6f5d0"
            ],
            [
             0.7,
             "#b8e186"
            ],
            [
             0.8,
             "#7fbc41"
            ],
            [
             0.9,
             "#4d9221"
            ],
            [
             1,
             "#276419"
            ]
           ],
           "sequential": [
            [
             0,
             "#0d0887"
            ],
            [
             0.1111111111111111,
             "#46039f"
            ],
            [
             0.2222222222222222,
             "#7201a8"
            ],
            [
             0.3333333333333333,
             "#9c179e"
            ],
            [
             0.4444444444444444,
             "#bd3786"
            ],
            [
             0.5555555555555556,
             "#d8576b"
            ],
            [
             0.6666666666666666,
             "#ed7953"
            ],
            [
             0.7777777777777778,
             "#fb9f3a"
            ],
            [
             0.8888888888888888,
             "#fdca26"
            ],
            [
             1,
             "#f0f921"
            ]
           ],
           "sequentialminus": [
            [
             0,
             "#0d0887"
            ],
            [
             0.1111111111111111,
             "#46039f"
            ],
            [
             0.2222222222222222,
             "#7201a8"
            ],
            [
             0.3333333333333333,
             "#9c179e"
            ],
            [
             0.4444444444444444,
             "#bd3786"
            ],
            [
             0.5555555555555556,
             "#d8576b"
            ],
            [
             0.6666666666666666,
             "#ed7953"
            ],
            [
             0.7777777777777778,
             "#fb9f3a"
            ],
            [
             0.8888888888888888,
             "#fdca26"
            ],
            [
             1,
             "#f0f921"
            ]
           ]
          },
          "colorway": [
           "#636efa",
           "#EF553B",
           "#00cc96",
           "#ab63fa",
           "#FFA15A",
           "#19d3f3",
           "#FF6692",
           "#B6E880",
           "#FF97FF",
           "#FECB52"
          ],
          "font": {
           "color": "#2a3f5f"
          },
          "geo": {
           "bgcolor": "white",
           "lakecolor": "white",
           "landcolor": "#E5ECF6",
           "showlakes": true,
           "showland": true,
           "subunitcolor": "white"
          },
          "hoverlabel": {
           "align": "left"
          },
          "hovermode": "closest",
          "mapbox": {
           "style": "light"
          },
          "paper_bgcolor": "white",
          "plot_bgcolor": "#E5ECF6",
          "polar": {
           "angularaxis": {
            "gridcolor": "white",
            "linecolor": "white",
            "ticks": ""
           },
           "bgcolor": "#E5ECF6",
           "radialaxis": {
            "gridcolor": "white",
            "linecolor": "white",
            "ticks": ""
           }
          },
          "scene": {
           "xaxis": {
            "backgroundcolor": "#E5ECF6",
            "gridcolor": "white",
            "gridwidth": 2,
            "linecolor": "white",
            "showbackground": true,
            "ticks": "",
            "zerolinecolor": "white"
           },
           "yaxis": {
            "backgroundcolor": "#E5ECF6",
            "gridcolor": "white",
            "gridwidth": 2,
            "linecolor": "white",
            "showbackground": true,
            "ticks": "",
            "zerolinecolor": "white"
           },
           "zaxis": {
            "backgroundcolor": "#E5ECF6",
            "gridcolor": "white",
            "gridwidth": 2,
            "linecolor": "white",
            "showbackground": true,
            "ticks": "",
            "zerolinecolor": "white"
           }
          },
          "shapedefaults": {
           "line": {
            "color": "#2a3f5f"
           }
          },
          "ternary": {
           "aaxis": {
            "gridcolor": "white",
            "linecolor": "white",
            "ticks": ""
           },
           "baxis": {
            "gridcolor": "white",
            "linecolor": "white",
            "ticks": ""
           },
           "bgcolor": "#E5ECF6",
           "caxis": {
            "gridcolor": "white",
            "linecolor": "white",
            "ticks": ""
           }
          },
          "title": {
           "x": 0.05
          },
          "xaxis": {
           "automargin": true,
           "gridcolor": "white",
           "linecolor": "white",
           "ticks": "",
           "title": {
            "standoff": 15
           },
           "zerolinecolor": "white",
           "zerolinewidth": 2
          },
          "yaxis": {
           "automargin": true,
           "gridcolor": "white",
           "linecolor": "white",
           "ticks": "",
           "title": {
            "standoff": 15
           },
           "zerolinecolor": "white",
           "zerolinewidth": 2
          }
         }
        },
        "title": {
         "text": "Compression throughput"
        },
        "width": 1200,
        "xaxis": {
         "anchor": "y",
         "domain": [
          0,
          0.29333333333333333
         ],
         "title": {
          "text": "Chunk size"
         },
         "type": "log"
        },
        "xaxis10": {
         "anchor": "y10",
         "domain": [
          0,
          0.29333333333333333
         ],
         "matches": "x",
         "showticklabels": false,
         "type": "log"
        },
        "xaxis11": {
         "anchor": "y11",
         "domain": [
          0.3433333333333333,
          0.6366666666666667
         ],
         "matches": "x",
         "showticklabels": false,
         "type": "log"
        },
        "xaxis12": {
         "anchor": "y12",
         "domain": [
          0.6866666666666666,
          0.98
         ],
         "matches": "x",
         "showticklabels": false,
         "type": "log"
        },
        "xaxis13": {
         "anchor": "y13",
         "domain": [
          0,
          0.29333333333333333
         ],
         "matches": "x",
         "showticklabels": false,
         "type": "log"
        },
        "xaxis14": {
         "anchor": "y14",
         "domain": [
          0.3433333333333333,
          0.6366666666666667
         ],
         "matches": "x",
         "showticklabels": false,
         "type": "log"
        },
        "xaxis15": {
         "anchor": "y15",
         "domain": [
          0.6866666666666666,
          0.98
         ],
         "matches": "x",
         "showticklabels": false,
         "type": "log"
        },
        "xaxis16": {
         "anchor": "y16",
         "domain": [
          0,
          0.29333333333333333
         ],
         "matches": "x",
         "showticklabels": false,
         "type": "log"
        },
        "xaxis17": {
         "anchor": "y17",
         "domain": [
          0.3433333333333333,
          0.6366666666666667
         ],
         "matches": "x",
         "showticklabels": false,
         "type": "log"
        },
        "xaxis18": {
         "anchor": "y18",
         "domain": [
          0.6866666666666666,
          0.98
         ],
         "matches": "x",
         "showticklabels": false,
         "type": "log"
        },
        "xaxis2": {
         "anchor": "y2",
         "domain": [
          0.3433333333333333,
          0.6366666666666667
         ],
         "matches": "x",
         "title": {
          "text": "Chunk size"
         },
         "type": "log"
        },
        "xaxis3": {
         "anchor": "y3",
         "domain": [
          0.6866666666666666,
          0.98
         ],
         "matches": "x",
         "title": {
          "text": "Chunk size"
         },
         "type": "log"
        },
        "xaxis4": {
         "anchor": "y4",
         "domain": [
          0,
          0.29333333333333333
         ],
         "matches": "x",
         "showticklabels": false,
         "type": "log"
        },
        "xaxis5": {
         "anchor": "y5",
         "domain": [
          0.3433333333333333,
          0.6366666666666667
         ],
         "matches": "x",
         "showticklabels": false,
         "type": "log"
        },
        "xaxis6": {
         "anchor": "y6",
         "domain": [
          0.6866666666666666,
          0.98
         ],
         "matches": "x",
         "showticklabels": false,
         "type": "log"
        },
        "xaxis7": {
         "anchor": "y7",
         "domain": [
          0,
          0.29333333333333333
         ],
         "matches": "x",
         "showticklabels": false,
         "type": "log"
        },
        "xaxis8": {
         "anchor": "y8",
         "domain": [
          0.3433333333333333,
          0.6366666666666667
         ],
         "matches": "x",
         "showticklabels": false,
         "type": "log"
        },
        "xaxis9": {
         "anchor": "y9",
         "domain": [
          0.6866666666666666,
          0.98
         ],
         "matches": "x",
         "showticklabels": false,
         "type": "log"
        },
        "yaxis": {
         "anchor": "x",
         "domain": [
          0,
          0.14166666666666666
         ],
         "title": {
          "text": "a"
         }
        },
        "yaxis10": {
         "anchor": "x10",
         "domain": [
          0.515,
          0.6566666666666667
         ],
         "matches": "y",
         "title": {
          "text": "compression_throughput_GBps"
         }
        },
        "yaxis11": {
         "anchor": "x11",
         "domain": [
          0.515,
          0.6566666666666667
         ],
         "matches": "y",
         "showticklabels": false
        },
        "yaxis12": {
         "anchor": "x12",
         "domain": [
          0.515,
          0.6566666666666667
         ],
         "matches": "y",
         "showticklabels": false
        },
        "yaxis13": {
         "anchor": "x13",
         "domain": [
          0.6866666666666666,
          0.8283333333333334
         ],
         "matches": "y",
         "title": {
          "text": "compression_throughput_GBps"
         }
        },
        "yaxis14": {
         "anchor": "x14",
         "domain": [
          0.6866666666666666,
          0.8283333333333334
         ],
         "matches": "y",
         "showticklabels": false
        },
        "yaxis15": {
         "anchor": "x15",
         "domain": [
          0.6866666666666666,
          0.8283333333333334
         ],
         "matches": "y",
         "showticklabels": false
        },
        "yaxis16": {
         "anchor": "x16",
         "domain": [
          0.8583333333333333,
          1
         ],
         "matches": "y",
         "title": {
          "text": "compression_throughput_GBps"
         }
        },
        "yaxis17": {
         "anchor": "x17",
         "domain": [
          0.8583333333333333,
          1
         ],
         "matches": "y",
         "showticklabels": false
        },
        "yaxis18": {
         "anchor": "x18",
         "domain": [
          0.8583333333333333,
          1
         ],
         "matches": "y",
         "showticklabels": false
        },
        "yaxis2": {
         "anchor": "x2",
         "domain": [
          0,
          0.14166666666666666
         ],
         "matches": "y",
         "showticklabels": false,
         "title": {
          "text": "a"
         }
        },
        "yaxis3": {
         "anchor": "x3",
         "domain": [
          0,
          0.14166666666666666
         ],
         "matches": "y",
         "showticklabels": false
        },
        "yaxis4": {
         "anchor": "x4",
         "domain": [
          0.17166666666666666,
          0.31333333333333335
         ],
         "matches": "y",
         "title": {
          "text": "compression_throughput_GBps"
         }
        },
        "yaxis5": {
         "anchor": "x5",
         "domain": [
          0.17166666666666666,
          0.31333333333333335
         ],
         "matches": "y",
         "showticklabels": false
        },
        "yaxis6": {
         "anchor": "x6",
         "domain": [
          0.17166666666666666,
          0.31333333333333335
         ],
         "matches": "y",
         "showticklabels": false
        },
        "yaxis7": {
         "anchor": "x7",
         "domain": [
          0.3433333333333333,
          0.485
         ],
         "matches": "y",
         "title": {
          "text": "compression_throughput_GBps"
         }
        },
        "yaxis8": {
         "anchor": "x8",
         "domain": [
          0.3433333333333333,
          0.485
         ],
         "matches": "y",
         "showticklabels": false
        },
        "yaxis9": {
         "anchor": "x9",
         "domain": [
          0.3433333333333333,
          0.485
         ],
         "matches": "y",
         "showticklabels": false
        }
       }
      }
     },
     "metadata": {},
     "output_type": "display_data"
    }
   ],
   "source": [
    "fig_gpus_througphut_compression = px.line(\n",
    "    all_result_df,\n",
    "    title=f\"Compression throughput\", \n",
    "    x=\"chunksize_Bytes\",\n",
    "    y=\"compression_throughput_GBps\",\n",
    "    color=\"File\",\n",
    "    log_x=True,\n",
    "    # log_y=True,\n",
    "    markers=True,\n",
    "    facet_row='Standard',\n",
    "    facet_col=\"gpu\",\n",
    "    facet_col_spacing=0.05,\n",
    "    width=1200,\n",
    "    height=1000,\n",
    ")\n",
    "# fig_gpus_througphut_compression.update_xaxes(autorange=\"reversed\")\n",
    "# fig_gpus_througphut_compression.update_xaxes(dict(\n",
    "#         tickmode = 'array',\n",
    "#         tickvals = alldf['chunksize_Bytes'],\n",
    "#         ticktext = alldf['chunksize_Bytes_formatted'],\n",
    "#         tickangle=45,\n",
    "#     )\n",
    "# )\n",
    "fig_gpus_througphut_compression.update_layout(\n",
    "    yaxis_title=\"a\",\n",
    "    yaxis2_title=\"a\",\n",
    "    xaxis_title=\"Chunk size\",\n",
    "    xaxis2_title=\"Chunk size\",\n",
    "    xaxis3_title=\"Chunk size\",\n",
    "    # font_size=16,\n",
    ")\n",
    "\n",
    "fig_gpus_througphut_compression.show()"
   ]
  },
  {
   "cell_type": "code",
   "execution_count": 55,
   "metadata": {},
   "outputs": [
    {
     "data": {
      "application/vnd.plotly.v1+json": {
       "config": {
        "plotlyServerURL": "https://plot.ly"
       },
       "data": [
        {
         "hovertemplate": "File=500mb_dickens<br>Standard=bitcomp<br>gpu=A100<br>chunksize_Bytes=%{x}<br>decompression_throughput_GBps=%{y}<extra></extra>",
         "legendgroup": "500mb_dickens",
         "line": {
          "color": "#636efa",
          "dash": "solid"
         },
         "marker": {
          "symbol": "circle"
         },
         "mode": "lines+markers",
         "name": "500mb_dickens",
         "orientation": "v",
         "showlegend": true,
         "type": "scatter",
         "x": [
          4000,
          16000,
          64000,
          256000,
          1024000,
          4096000,
          16384000,
          65536000
         ],
         "xaxis": "x16",
         "y": [
          66.7744,
          74.7685,
          46.6345,
          16.7542,
          4.709,
          1.2679,
          0.51,
          0.5099
         ],
         "yaxis": "y16"
        },
        {
         "hovertemplate": "File=500mb_dickens<br>Standard=bitcomp<br>gpu=RTX2080TI<br>chunksize_Bytes=%{x}<br>decompression_throughput_GBps=%{y}<extra></extra>",
         "legendgroup": "500mb_dickens",
         "line": {
          "color": "#636efa",
          "dash": "solid"
         },
         "marker": {
          "symbol": "circle"
         },
         "mode": "lines+markers",
         "name": "500mb_dickens",
         "orientation": "v",
         "showlegend": false,
         "type": "scatter",
         "x": [
          4000,
          16000,
          64000,
          256000,
          1024000,
          4096000,
          16384000,
          65536000
         ],
         "xaxis": "x17",
         "y": [
          42.2656,
          52.8303,
          51.5562,
          19.2038,
          5.4636,
          1.4724,
          0.5986,
          0.5927
         ],
         "yaxis": "y17"
        },
        {
         "hovertemplate": "File=500mb_dickens<br>Standard=bitcomp<br>gpu=RTX3050TI<br>chunksize_Bytes=%{x}<br>decompression_throughput_GBps=%{y}<extra></extra>",
         "legendgroup": "500mb_dickens",
         "line": {
          "color": "#636efa",
          "dash": "solid"
         },
         "marker": {
          "symbol": "circle"
         },
         "mode": "lines+markers",
         "name": "500mb_dickens",
         "orientation": "v",
         "showlegend": false,
         "type": "scatter",
         "x": [
          4000,
          16000,
          64000,
          256000,
          1024000,
          4096000,
          16384000,
          65536000
         ],
         "xaxis": "x18",
         "y": [
          26.2389,
          32.0953,
          28.4311,
          17.6619,
          4.9941,
          1.305,
          0.529,
          0.529
         ],
         "yaxis": "y18"
        },
        {
         "hovertemplate": "File=500mb_dickens<br>Standard=gdeflate<br>gpu=A100<br>chunksize_Bytes=%{x}<br>decompression_throughput_GBps=%{y}<extra></extra>",
         "legendgroup": "500mb_dickens",
         "line": {
          "color": "#636efa",
          "dash": "solid"
         },
         "marker": {
          "symbol": "circle"
         },
         "mode": "lines+markers",
         "name": "500mb_dickens",
         "orientation": "v",
         "showlegend": false,
         "type": "scatter",
         "x": [
          4000,
          16000,
          64000
         ],
         "xaxis": "x10",
         "y": [
          30.1995,
          13.3387,
          3.9559
         ],
         "yaxis": "y10"
        },
        {
         "hovertemplate": "File=500mb_dickens<br>Standard=gdeflate<br>gpu=RTX2080TI<br>chunksize_Bytes=%{x}<br>decompression_throughput_GBps=%{y}<extra></extra>",
         "legendgroup": "500mb_dickens",
         "line": {
          "color": "#636efa",
          "dash": "solid"
         },
         "marker": {
          "symbol": "circle"
         },
         "mode": "lines+markers",
         "name": "500mb_dickens",
         "orientation": "v",
         "showlegend": false,
         "type": "scatter",
         "x": [
          4000,
          16000,
          64000
         ],
         "xaxis": "x11",
         "y": [
          17.9434,
          12.4264,
          4.2846
         ],
         "yaxis": "y11"
        },
        {
         "hovertemplate": "File=500mb_dickens<br>Standard=gdeflate<br>gpu=RTX3050TI<br>chunksize_Bytes=%{x}<br>decompression_throughput_GBps=%{y}<extra></extra>",
         "legendgroup": "500mb_dickens",
         "line": {
          "color": "#636efa",
          "dash": "solid"
         },
         "marker": {
          "symbol": "circle"
         },
         "mode": "lines+markers",
         "name": "500mb_dickens",
         "orientation": "v",
         "showlegend": false,
         "type": "scatter",
         "x": [
          4000,
          16000,
          64000
         ],
         "xaxis": "x12",
         "y": [
          6.6387,
          5.9843,
          3.4995
         ],
         "yaxis": "y12"
        },
        {
         "hovertemplate": "File=500mb_dickens<br>Standard=lz4<br>gpu=A100<br>chunksize_Bytes=%{x}<br>decompression_throughput_GBps=%{y}<extra></extra>",
         "legendgroup": "500mb_dickens",
         "line": {
          "color": "#636efa",
          "dash": "solid"
         },
         "marker": {
          "symbol": "circle"
         },
         "mode": "lines+markers",
         "name": "500mb_dickens",
         "orientation": "v",
         "showlegend": false,
         "type": "scatter",
         "x": [
          4000,
          16000,
          64000,
          256000,
          1024000,
          4096000,
          16384000,
          65536000
         ],
         "xaxis": "x7",
         "y": [
          28.898,
          9.0353,
          2.2635,
          0.6829,
          0.1717,
          0.0434,
          0.0176,
          0.0176
         ],
         "yaxis": "y7"
        },
        {
         "hovertemplate": "File=500mb_dickens<br>Standard=lz4<br>gpu=RTX2080TI<br>chunksize_Bytes=%{x}<br>decompression_throughput_GBps=%{y}<extra></extra>",
         "legendgroup": "500mb_dickens",
         "line": {
          "color": "#636efa",
          "dash": "solid"
         },
         "marker": {
          "symbol": "circle"
         },
         "mode": "lines+markers",
         "name": "500mb_dickens",
         "orientation": "v",
         "showlegend": false,
         "type": "scatter",
         "x": [
          4000,
          16000,
          64000,
          256000,
          1024000,
          4096000,
          16384000,
          65536000
         ],
         "xaxis": "x8",
         "y": [
          18.6527,
          9.9219,
          2.5947,
          0.706,
          0.2365,
          0.0596,
          0.024,
          0.024
         ],
         "yaxis": "y8"
        },
        {
         "hovertemplate": "File=500mb_dickens<br>Standard=lz4<br>gpu=RTX3050TI<br>chunksize_Bytes=%{x}<br>decompression_throughput_GBps=%{y}<extra></extra>",
         "legendgroup": "500mb_dickens",
         "line": {
          "color": "#636efa",
          "dash": "solid"
         },
         "marker": {
          "symbol": "circle"
         },
         "mode": "lines+markers",
         "name": "500mb_dickens",
         "orientation": "v",
         "showlegend": false,
         "type": "scatter",
         "x": [
          4000,
          16000,
          64000,
          256000,
          1024000,
          4096000,
          16384000,
          65536000
         ],
         "xaxis": "x9",
         "y": [
          7.1328,
          4.3415,
          2.2067,
          0.6878,
          0.2151,
          0.054,
          0.0221,
          0.0221
         ],
         "yaxis": "y9"
        },
        {
         "hovertemplate": "File=500mb_dickens<br>Standard=snappy<br>gpu=A100<br>chunksize_Bytes=%{x}<br>decompression_throughput_GBps=%{y}<extra></extra>",
         "legendgroup": "500mb_dickens",
         "line": {
          "color": "#636efa",
          "dash": "solid"
         },
         "marker": {
          "symbol": "circle"
         },
         "mode": "lines+markers",
         "name": "500mb_dickens",
         "orientation": "v",
         "showlegend": false,
         "type": "scatter",
         "x": [
          4000,
          16000,
          64000,
          256000,
          1024000,
          4096000,
          16384000,
          65536000
         ],
         "xaxis": "x4",
         "y": [
          19.8204,
          7.5073,
          2.0746,
          0.5456,
          0.1682,
          0.0434,
          0.0174,
          0.0174
         ],
         "yaxis": "y4"
        },
        {
         "hovertemplate": "File=500mb_dickens<br>Standard=snappy<br>gpu=RTX2080TI<br>chunksize_Bytes=%{x}<br>decompression_throughput_GBps=%{y}<extra></extra>",
         "legendgroup": "500mb_dickens",
         "line": {
          "color": "#636efa",
          "dash": "solid"
         },
         "marker": {
          "symbol": "circle"
         },
         "mode": "lines+markers",
         "name": "500mb_dickens",
         "orientation": "v",
         "showlegend": false,
         "type": "scatter",
         "x": [
          4000,
          16000,
          64000,
          256000,
          1024000,
          4096000,
          16384000,
          65536000
         ],
         "xaxis": "x5",
         "y": [
          9.996,
          7.1948,
          2.177,
          0.8002,
          0.2004,
          0.0508,
          0.0206,
          0.0205
         ],
         "yaxis": "y5"
        },
        {
         "hovertemplate": "File=500mb_dickens<br>Standard=snappy<br>gpu=RTX3050TI<br>chunksize_Bytes=%{x}<br>decompression_throughput_GBps=%{y}<extra></extra>",
         "legendgroup": "500mb_dickens",
         "line": {
          "color": "#636efa",
          "dash": "solid"
         },
         "marker": {
          "symbol": "circle"
         },
         "mode": "lines+markers",
         "name": "500mb_dickens",
         "orientation": "v",
         "showlegend": false,
         "type": "scatter",
         "x": [
          4000,
          16000,
          64000,
          256000,
          1024000,
          4096000,
          16384000,
          65536000
         ],
         "xaxis": "x6",
         "y": [
          3.555,
          2.9889,
          1.934,
          0.5574,
          0.1992,
          0.0507,
          0.0204,
          0.0204
         ],
         "yaxis": "y6"
        },
        {
         "hovertemplate": "File=500mb_dickens<br>Standard=zstd<br>gpu=A100<br>chunksize_Bytes=%{x}<br>decompression_throughput_GBps=%{y}<extra></extra>",
         "legendgroup": "500mb_dickens",
         "line": {
          "color": "#636efa",
          "dash": "solid"
         },
         "marker": {
          "symbol": "circle"
         },
         "mode": "lines+markers",
         "name": "500mb_dickens",
         "orientation": "v",
         "showlegend": false,
         "type": "scatter",
         "x": [
          4000,
          16000,
          64000,
          256000,
          1024000,
          4096000,
          16384000,
          65536000
         ],
         "xaxis": "x",
         "y": [
          7.8599,
          3.8141,
          1.1618,
          0.6585,
          0.2287,
          0.0721,
          0.0248,
          0.0248
         ],
         "yaxis": "y"
        },
        {
         "hovertemplate": "File=500mb_dickens<br>Standard=zstd<br>gpu=RTX2080TI<br>chunksize_Bytes=%{x}<br>decompression_throughput_GBps=%{y}<extra></extra>",
         "legendgroup": "500mb_dickens",
         "line": {
          "color": "#636efa",
          "dash": "solid"
         },
         "marker": {
          "symbol": "circle"
         },
         "mode": "lines+markers",
         "name": "500mb_dickens",
         "orientation": "v",
         "showlegend": false,
         "type": "scatter",
         "x": [
          4000,
          16000,
          64000,
          256000,
          1024000,
          4096000,
          16384000,
          65536000
         ],
         "xaxis": "x2",
         "y": [
          4.9661,
          3.1154,
          0.8656,
          0.5167,
          0.2063,
          0.0637,
          0.0218,
          0.0218
         ],
         "yaxis": "y2"
        },
        {
         "hovertemplate": "File=500mb_dickens<br>Standard=zstd<br>gpu=RTX3050TI<br>chunksize_Bytes=%{x}<br>decompression_throughput_GBps=%{y}<extra></extra>",
         "legendgroup": "500mb_dickens",
         "line": {
          "color": "#636efa",
          "dash": "solid"
         },
         "marker": {
          "symbol": "circle"
         },
         "mode": "lines+markers",
         "name": "500mb_dickens",
         "orientation": "v",
         "showlegend": false,
         "type": "scatter",
         "x": [
          4000,
          16000,
          64000,
          256000,
          1024000,
          4096000,
          16384000,
          65536000
         ],
         "xaxis": "x3",
         "y": [
          2.9055,
          2.036,
          1.1929,
          0.8157,
          0.2829,
          0.0886,
          0.0313,
          0.0313
         ],
         "yaxis": "y3"
        },
        {
         "hovertemplate": "File=500mb_lineitem.parquet<br>Standard=bitcomp<br>gpu=A100<br>chunksize_Bytes=%{x}<br>decompression_throughput_GBps=%{y}<extra></extra>",
         "legendgroup": "500mb_lineitem.parquet",
         "line": {
          "color": "#EF553B",
          "dash": "solid"
         },
         "marker": {
          "symbol": "circle"
         },
         "mode": "lines+markers",
         "name": "500mb_lineitem.parquet",
         "orientation": "v",
         "showlegend": true,
         "type": "scatter",
         "x": [
          4000,
          16000,
          64000,
          256000,
          1024000,
          4096000,
          16384000,
          65536000
         ],
         "xaxis": "x16",
         "y": [
          133.7087,
          307.9203,
          469.443,
          492.0999,
          382.7333,
          269.7291,
          96.5776,
          36.8936
         ],
         "yaxis": "y16"
        },
        {
         "hovertemplate": "File=500mb_lineitem.parquet<br>Standard=gdeflate<br>gpu=A100<br>chunksize_Bytes=%{x}<br>decompression_throughput_GBps=%{y}<extra></extra>",
         "legendgroup": "500mb_lineitem.parquet",
         "line": {
          "color": "#EF553B",
          "dash": "solid"
         },
         "marker": {
          "symbol": "circle"
         },
         "mode": "lines+markers",
         "name": "500mb_lineitem.parquet",
         "orientation": "v",
         "showlegend": false,
         "type": "scatter",
         "x": [
          4000,
          16000,
          64000
         ],
         "xaxis": "x10",
         "y": [
          37.5992,
          51.0805,
          50.7498
         ],
         "yaxis": "y10"
        },
        {
         "hovertemplate": "File=500mb_lineitem.parquet<br>Standard=lz4<br>gpu=A100<br>chunksize_Bytes=%{x}<br>decompression_throughput_GBps=%{y}<extra></extra>",
         "legendgroup": "500mb_lineitem.parquet",
         "line": {
          "color": "#EF553B",
          "dash": "solid"
         },
         "marker": {
          "symbol": "circle"
         },
         "mode": "lines+markers",
         "name": "500mb_lineitem.parquet",
         "orientation": "v",
         "showlegend": false,
         "type": "scatter",
         "x": [
          4000,
          16000,
          64000,
          256000,
          1024000,
          4096000,
          16384000
         ],
         "xaxis": "x7",
         "y": [
          226.4905,
          217.1746,
          159.081,
          95.0757,
          36.4797,
          14.5072,
          8.8399
         ],
         "yaxis": "y7"
        },
        {
         "hovertemplate": "File=500mb_lineitem.parquet<br>Standard=snappy<br>gpu=A100<br>chunksize_Bytes=%{x}<br>decompression_throughput_GBps=%{y}<extra></extra>",
         "legendgroup": "500mb_lineitem.parquet",
         "line": {
          "color": "#EF553B",
          "dash": "solid"
         },
         "marker": {
          "symbol": "circle"
         },
         "mode": "lines+markers",
         "name": "500mb_lineitem.parquet",
         "orientation": "v",
         "showlegend": false,
         "type": "scatter",
         "x": [
          4000,
          16000,
          64000,
          256000,
          1024000,
          4096000,
          16384000,
          65536000
         ],
         "xaxis": "x4",
         "y": [
          153.1426,
          172.7508,
          146.6002,
          97.0919,
          42.8263,
          17.5144,
          10.9551,
          4.0551
         ],
         "yaxis": "y4"
        },
        {
         "hovertemplate": "File=500mb_mozilla<br>Standard=bitcomp<br>gpu=A100<br>chunksize_Bytes=%{x}<br>decompression_throughput_GBps=%{y}<extra></extra>",
         "legendgroup": "500mb_mozilla",
         "line": {
          "color": "#00cc96",
          "dash": "solid"
         },
         "marker": {
          "symbol": "circle"
         },
         "mode": "lines+markers",
         "name": "500mb_mozilla",
         "orientation": "v",
         "showlegend": true,
         "type": "scatter",
         "x": [
          4000,
          16000,
          64000,
          256000,
          1024000,
          4096000,
          16384000,
          65536000
         ],
         "xaxis": "x16",
         "y": [
          114.3641,
          165.2529,
          147.7559,
          67.5632,
          23.1963,
          6.2504,
          2.1714,
          0.9274
         ],
         "yaxis": "y16"
        },
        {
         "hovertemplate": "File=500mb_mozilla<br>Standard=bitcomp<br>gpu=RTX2080TI<br>chunksize_Bytes=%{x}<br>decompression_throughput_GBps=%{y}<extra></extra>",
         "legendgroup": "500mb_mozilla",
         "line": {
          "color": "#00cc96",
          "dash": "solid"
         },
         "marker": {
          "symbol": "circle"
         },
         "mode": "lines+markers",
         "name": "500mb_mozilla",
         "orientation": "v",
         "showlegend": false,
         "type": "scatter",
         "x": [
          4000,
          16000,
          64000,
          256000,
          1024000,
          4096000,
          16384000,
          65536000
         ],
         "xaxis": "x17",
         "y": [
          60.0345,
          97.2029,
          106.4751,
          76.3518,
          28.343,
          7.7287,
          2.7474,
          1.1564
         ],
         "yaxis": "y17"
        },
        {
         "hovertemplate": "File=500mb_mozilla<br>Standard=bitcomp<br>gpu=RTX3050TI<br>chunksize_Bytes=%{x}<br>decompression_throughput_GBps=%{y}<extra></extra>",
         "legendgroup": "500mb_mozilla",
         "line": {
          "color": "#00cc96",
          "dash": "solid"
         },
         "marker": {
          "symbol": "circle"
         },
         "mode": "lines+markers",
         "name": "500mb_mozilla",
         "orientation": "v",
         "showlegend": false,
         "type": "scatter",
         "x": [
          4000,
          16000,
          64000,
          256000,
          1024000,
          4096000,
          16384000,
          65536000
         ],
         "xaxis": "x18",
         "y": [
          26.2086,
          47.2235,
          54.8127,
          48.1917,
          24.2048,
          6.8386,
          2.4035,
          1.1521
         ],
         "yaxis": "y18"
        },
        {
         "hovertemplate": "File=500mb_mozilla<br>Standard=cascaded<br>gpu=A100<br>chunksize_Bytes=%{x}<br>decompression_throughput_GBps=%{y}<extra></extra>",
         "legendgroup": "500mb_mozilla",
         "line": {
          "color": "#00cc96",
          "dash": "solid"
         },
         "marker": {
          "symbol": "circle"
         },
         "mode": "lines+markers",
         "name": "500mb_mozilla",
         "orientation": "v",
         "showlegend": false,
         "type": "scatter",
         "x": [
          4000,
          16000,
          64000,
          256000,
          1024000,
          4096000,
          16384000,
          65536000
         ],
         "xaxis": "x13",
         "y": [
          194.3704,
          187.5384,
          118.3205,
          35.7326,
          9.4058,
          2.3534,
          0.735,
          0.2305
         ],
         "yaxis": "y13"
        },
        {
         "hovertemplate": "File=500mb_mozilla<br>Standard=cascaded<br>gpu=RTX2080TI<br>chunksize_Bytes=%{x}<br>decompression_throughput_GBps=%{y}<extra></extra>",
         "legendgroup": "500mb_mozilla",
         "line": {
          "color": "#00cc96",
          "dash": "solid"
         },
         "marker": {
          "symbol": "circle"
         },
         "mode": "lines+markers",
         "name": "500mb_mozilla",
         "orientation": "v",
         "showlegend": false,
         "type": "scatter",
         "x": [
          4000,
          16000,
          64000,
          256000,
          1024000,
          4096000,
          16384000,
          65536000
         ],
         "xaxis": "x14",
         "y": [
          97.2738,
          102.3296,
          74.3515,
          39.1297,
          10.8287,
          2.7571,
          0.9536,
          0.2974
         ],
         "yaxis": "y14"
        },
        {
         "hovertemplate": "File=500mb_mozilla<br>Standard=cascaded<br>gpu=RTX3050TI<br>chunksize_Bytes=%{x}<br>decompression_throughput_GBps=%{y}<extra></extra>",
         "legendgroup": "500mb_mozilla",
         "line": {
          "color": "#00cc96",
          "dash": "solid"
         },
         "marker": {
          "symbol": "circle"
         },
         "mode": "lines+markers",
         "name": "500mb_mozilla",
         "orientation": "v",
         "showlegend": false,
         "type": "scatter",
         "x": [
          4000,
          16000,
          64000,
          256000,
          1024000,
          4096000,
          16384000,
          65536000
         ],
         "xaxis": "x15",
         "y": [
          45.4844,
          50.3441,
          39.7142,
          28.2969,
          9.8846,
          2.5946,
          0.9221,
          0.2891
         ],
         "yaxis": "y15"
        },
        {
         "hovertemplate": "File=500mb_mozilla<br>Standard=gdeflate<br>gpu=A100<br>chunksize_Bytes=%{x}<br>decompression_throughput_GBps=%{y}<extra></extra>",
         "legendgroup": "500mb_mozilla",
         "line": {
          "color": "#00cc96",
          "dash": "solid"
         },
         "marker": {
          "symbol": "circle"
         },
         "mode": "lines+markers",
         "name": "500mb_mozilla",
         "orientation": "v",
         "showlegend": false,
         "type": "scatter",
         "x": [
          4000,
          16000,
          64000
         ],
         "xaxis": "x10",
         "y": [
          37.3266,
          29.0819,
          12.2643
         ],
         "yaxis": "y10"
        },
        {
         "hovertemplate": "File=500mb_mozilla<br>Standard=gdeflate<br>gpu=RTX2080TI<br>chunksize_Bytes=%{x}<br>decompression_throughput_GBps=%{y}<extra></extra>",
         "legendgroup": "500mb_mozilla",
         "line": {
          "color": "#00cc96",
          "dash": "solid"
         },
         "marker": {
          "symbol": "circle"
         },
         "mode": "lines+markers",
         "name": "500mb_mozilla",
         "orientation": "v",
         "showlegend": false,
         "type": "scatter",
         "x": [
          4000,
          16000,
          64000
         ],
         "xaxis": "x11",
         "y": [
          26.9097,
          24.9274,
          15.3158
         ],
         "yaxis": "y11"
        },
        {
         "hovertemplate": "File=500mb_mozilla<br>Standard=gdeflate<br>gpu=RTX3050TI<br>chunksize_Bytes=%{x}<br>decompression_throughput_GBps=%{y}<extra></extra>",
         "legendgroup": "500mb_mozilla",
         "line": {
          "color": "#00cc96",
          "dash": "solid"
         },
         "marker": {
          "symbol": "circle"
         },
         "mode": "lines+markers",
         "name": "500mb_mozilla",
         "orientation": "v",
         "showlegend": false,
         "type": "scatter",
         "x": [
          4000,
          16000,
          64000
         ],
         "xaxis": "x12",
         "y": [
          10.7233,
          10.3704,
          7.5412
         ],
         "yaxis": "y12"
        },
        {
         "hovertemplate": "File=500mb_mozilla<br>Standard=lz4<br>gpu=A100<br>chunksize_Bytes=%{x}<br>decompression_throughput_GBps=%{y}<extra></extra>",
         "legendgroup": "500mb_mozilla",
         "line": {
          "color": "#00cc96",
          "dash": "solid"
         },
         "marker": {
          "symbol": "circle"
         },
         "mode": "lines+markers",
         "name": "500mb_mozilla",
         "orientation": "v",
         "showlegend": false,
         "type": "scatter",
         "x": [
          4000,
          16000,
          64000,
          256000,
          1024000,
          4096000,
          16384000
         ],
         "xaxis": "x7",
         "y": [
          40.5585,
          29.6168,
          10.3154,
          3.2147,
          1.1066,
          0.2857,
          0.0734
         ],
         "yaxis": "y7"
        },
        {
         "hovertemplate": "File=500mb_mozilla<br>Standard=lz4<br>gpu=RTX2080TI<br>chunksize_Bytes=%{x}<br>decompression_throughput_GBps=%{y}<extra></extra>",
         "legendgroup": "500mb_mozilla",
         "line": {
          "color": "#00cc96",
          "dash": "solid"
         },
         "marker": {
          "symbol": "circle"
         },
         "mode": "lines+markers",
         "name": "500mb_mozilla",
         "orientation": "v",
         "showlegend": false,
         "type": "scatter",
         "x": [
          4000,
          16000,
          64000,
          256000,
          1024000,
          4096000,
          16384000
         ],
         "xaxis": "x8",
         "y": [
          29.355,
          22.8291,
          11.9741,
          4.3785,
          1.538,
          0.3963,
          0.1014
         ],
         "yaxis": "y8"
        },
        {
         "hovertemplate": "File=500mb_mozilla<br>Standard=lz4<br>gpu=RTX3050TI<br>chunksize_Bytes=%{x}<br>decompression_throughput_GBps=%{y}<extra></extra>",
         "legendgroup": "500mb_mozilla",
         "line": {
          "color": "#00cc96",
          "dash": "solid"
         },
         "marker": {
          "symbol": "circle"
         },
         "mode": "lines+markers",
         "name": "500mb_mozilla",
         "orientation": "v",
         "showlegend": false,
         "type": "scatter",
         "x": [
          4000,
          16000,
          64000,
          256000,
          1024000,
          4096000,
          16384000
         ],
         "xaxis": "x9",
         "y": [
          8.9568,
          9.3989,
          5.7963,
          3.4975,
          1.3958,
          0.3644,
          0.0928
         ],
         "yaxis": "y9"
        },
        {
         "hovertemplate": "File=500mb_mozilla<br>Standard=snappy<br>gpu=A100<br>chunksize_Bytes=%{x}<br>decompression_throughput_GBps=%{y}<extra></extra>",
         "legendgroup": "500mb_mozilla",
         "line": {
          "color": "#00cc96",
          "dash": "solid"
         },
         "marker": {
          "symbol": "circle"
         },
         "mode": "lines+markers",
         "name": "500mb_mozilla",
         "orientation": "v",
         "showlegend": false,
         "type": "scatter",
         "x": [
          4000,
          16000,
          64000,
          256000,
          1024000,
          4096000,
          16384000,
          65536000
         ],
         "xaxis": "x4",
         "y": [
          34.7504,
          26.4875,
          11.3443,
          3.3337,
          1.0638,
          0.3157,
          0.0828,
          0.0297
         ],
         "yaxis": "y4"
        },
        {
         "hovertemplate": "File=500mb_mozilla<br>Standard=snappy<br>gpu=RTX2080TI<br>chunksize_Bytes=%{x}<br>decompression_throughput_GBps=%{y}<extra></extra>",
         "legendgroup": "500mb_mozilla",
         "line": {
          "color": "#00cc96",
          "dash": "solid"
         },
         "marker": {
          "symbol": "circle"
         },
         "mode": "lines+markers",
         "name": "500mb_mozilla",
         "orientation": "v",
         "showlegend": false,
         "type": "scatter",
         "x": [
          4000,
          16000,
          64000,
          256000,
          1024000,
          4096000,
          16384000,
          65536000
         ],
         "xaxis": "x5",
         "y": [
          17.5601,
          15.6635,
          11.192,
          3.4737,
          1.2863,
          0.3808,
          0.0998,
          0.0356
         ],
         "yaxis": "y5"
        },
        {
         "hovertemplate": "File=500mb_mozilla<br>Standard=snappy<br>gpu=RTX3050TI<br>chunksize_Bytes=%{x}<br>decompression_throughput_GBps=%{y}<extra></extra>",
         "legendgroup": "500mb_mozilla",
         "line": {
          "color": "#00cc96",
          "dash": "solid"
         },
         "marker": {
          "symbol": "circle"
         },
         "mode": "lines+markers",
         "name": "500mb_mozilla",
         "orientation": "v",
         "showlegend": false,
         "type": "scatter",
         "x": [
          4000,
          16000,
          64000,
          256000,
          1024000,
          4096000,
          16384000,
          65536000
         ],
         "xaxis": "x6",
         "y": [
          5.9714,
          5.6436,
          4.7096,
          3.0945,
          1.2716,
          0.376,
          0.0984,
          0.0323
         ],
         "yaxis": "y6"
        },
        {
         "hovertemplate": "File=500mb_mozilla<br>Standard=zstd<br>gpu=A100<br>chunksize_Bytes=%{x}<br>decompression_throughput_GBps=%{y}<extra></extra>",
         "legendgroup": "500mb_mozilla",
         "line": {
          "color": "#00cc96",
          "dash": "solid"
         },
         "marker": {
          "symbol": "circle"
         },
         "mode": "lines+markers",
         "name": "500mb_mozilla",
         "orientation": "v",
         "showlegend": false,
         "type": "scatter",
         "x": [
          4000,
          16000,
          64000,
          256000,
          1024000,
          4096000,
          16384000
         ],
         "xaxis": "x",
         "y": [
          16.6699,
          14.0692,
          7.3762,
          3.0094,
          1.278,
          0.3784,
          0.1002
         ],
         "yaxis": "y"
        },
        {
         "hovertemplate": "File=500mb_mozilla<br>Standard=zstd<br>gpu=RTX2080TI<br>chunksize_Bytes=%{x}<br>decompression_throughput_GBps=%{y}<extra></extra>",
         "legendgroup": "500mb_mozilla",
         "line": {
          "color": "#00cc96",
          "dash": "solid"
         },
         "marker": {
          "symbol": "circle"
         },
         "mode": "lines+markers",
         "name": "500mb_mozilla",
         "orientation": "v",
         "showlegend": false,
         "type": "scatter",
         "x": [
          4000,
          16000,
          64000,
          256000,
          1024000,
          4096000,
          16384000
         ],
         "xaxis": "x2",
         "y": [
          6.6775,
          7.1651,
          4.8763,
          3.5812,
          1.6438,
          0.4897,
          0.1326
         ],
         "yaxis": "y2"
        },
        {
         "hovertemplate": "File=500mb_mozilla<br>Standard=zstd<br>gpu=RTX3050TI<br>chunksize_Bytes=%{x}<br>decompression_throughput_GBps=%{y}<extra></extra>",
         "legendgroup": "500mb_mozilla",
         "line": {
          "color": "#00cc96",
          "dash": "solid"
         },
         "marker": {
          "symbol": "circle"
         },
         "mode": "lines+markers",
         "name": "500mb_mozilla",
         "orientation": "v",
         "showlegend": false,
         "type": "scatter",
         "x": [
          4000,
          16000,
          64000,
          256000,
          1024000,
          4096000,
          16384000
         ],
         "xaxis": "x3",
         "y": [
          4.4291,
          4.8323,
          4.4859,
          3.4913,
          1.4608,
          0.4204,
          0.0993
         ],
         "yaxis": "y3"
        },
        {
         "hovertemplate": "File=500mb_mr<br>Standard=bitcomp<br>gpu=A100<br>chunksize_Bytes=%{x}<br>decompression_throughput_GBps=%{y}<extra></extra>",
         "legendgroup": "500mb_mr",
         "line": {
          "color": "#ab63fa",
          "dash": "solid"
         },
         "marker": {
          "symbol": "circle"
         },
         "mode": "lines+markers",
         "name": "500mb_mr",
         "orientation": "v",
         "showlegend": true,
         "type": "scatter",
         "x": [
          4000,
          16000,
          64000,
          256000,
          1024000,
          4096000,
          16384000,
          65536000
         ],
         "xaxis": "x16",
         "y": [
          69.0559,
          80.4285,
          54.4816,
          23.7503,
          7.3736,
          2.1152,
          0.8552,
          0.8521
         ],
         "yaxis": "y16"
        },
        {
         "hovertemplate": "File=500mb_mr<br>Standard=bitcomp<br>gpu=RTX2080TI<br>chunksize_Bytes=%{x}<br>decompression_throughput_GBps=%{y}<extra></extra>",
         "legendgroup": "500mb_mr",
         "line": {
          "color": "#ab63fa",
          "dash": "solid"
         },
         "marker": {
          "symbol": "circle"
         },
         "mode": "lines+markers",
         "name": "500mb_mr",
         "orientation": "v",
         "showlegend": false,
         "type": "scatter",
         "x": [
          4000,
          16000,
          64000,
          256000,
          1024000,
          4096000,
          16384000,
          65536000
         ],
         "xaxis": "x17",
         "y": [
          51.6631,
          66.9921,
          56.3538,
          26.3026,
          8.4252,
          2.335,
          0.9696,
          0.9699
         ],
         "yaxis": "y17"
        },
        {
         "hovertemplate": "File=500mb_mr<br>Standard=bitcomp<br>gpu=RTX3050TI<br>chunksize_Bytes=%{x}<br>decompression_throughput_GBps=%{y}<extra></extra>",
         "legendgroup": "500mb_mr",
         "line": {
          "color": "#ab63fa",
          "dash": "solid"
         },
         "marker": {
          "symbol": "circle"
         },
         "mode": "lines+markers",
         "name": "500mb_mr",
         "orientation": "v",
         "showlegend": false,
         "type": "scatter",
         "x": [
          4000,
          16000,
          64000,
          256000,
          1024000,
          4096000,
          16384000,
          65536000
         ],
         "xaxis": "x18",
         "y": [
          31.1798,
          41.395,
          37.2793,
          24.2588,
          7.8,
          2.0566,
          0.8523,
          0.8517
         ],
         "yaxis": "y18"
        },
        {
         "hovertemplate": "File=500mb_mr<br>Standard=cascaded<br>gpu=A100<br>chunksize_Bytes=%{x}<br>decompression_throughput_GBps=%{y}<extra></extra>",
         "legendgroup": "500mb_mr",
         "line": {
          "color": "#ab63fa",
          "dash": "solid"
         },
         "marker": {
          "symbol": "circle"
         },
         "mode": "lines+markers",
         "name": "500mb_mr",
         "orientation": "v",
         "showlegend": false,
         "type": "scatter",
         "x": [
          4000,
          16000,
          64000,
          256000,
          1024000,
          4096000,
          16384000,
          65536000
         ],
         "xaxis": "x13",
         "y": [
          83.9612,
          74.8092,
          28.1871,
          7.9715,
          2.1227,
          0.5625,
          0.2732,
          0.2263
         ],
         "yaxis": "y13"
        },
        {
         "hovertemplate": "File=500mb_mr<br>Standard=cascaded<br>gpu=RTX2080TI<br>chunksize_Bytes=%{x}<br>decompression_throughput_GBps=%{y}<extra></extra>",
         "legendgroup": "500mb_mr",
         "line": {
          "color": "#ab63fa",
          "dash": "solid"
         },
         "marker": {
          "symbol": "circle"
         },
         "mode": "lines+markers",
         "name": "500mb_mr",
         "orientation": "v",
         "showlegend": false,
         "type": "scatter",
         "x": [
          4000,
          16000,
          64000,
          256000,
          1024000,
          4096000,
          16384000,
          65536000
         ],
         "xaxis": "x14",
         "y": [
          41.7164,
          37.8407,
          28.4263,
          8.9089,
          2.3197,
          0.5947,
          0.2643,
          0.3357
         ],
         "yaxis": "y14"
        },
        {
         "hovertemplate": "File=500mb_mr<br>Standard=cascaded<br>gpu=RTX3050TI<br>chunksize_Bytes=%{x}<br>decompression_throughput_GBps=%{y}<extra></extra>",
         "legendgroup": "500mb_mr",
         "line": {
          "color": "#ab63fa",
          "dash": "solid"
         },
         "marker": {
          "symbol": "circle"
         },
         "mode": "lines+markers",
         "name": "500mb_mr",
         "orientation": "v",
         "showlegend": false,
         "type": "scatter",
         "x": [
          4000,
          16000,
          64000,
          256000,
          1024000,
          4096000,
          16384000,
          65536000
         ],
         "xaxis": "x15",
         "y": [
          20.1253,
          20.7113,
          14.8527,
          8.294,
          2.2168,
          0.5662,
          0.239,
          0.2338
         ],
         "yaxis": "y15"
        },
        {
         "hovertemplate": "File=500mb_mr<br>Standard=gdeflate<br>gpu=A100<br>chunksize_Bytes=%{x}<br>decompression_throughput_GBps=%{y}<extra></extra>",
         "legendgroup": "500mb_mr",
         "line": {
          "color": "#ab63fa",
          "dash": "solid"
         },
         "marker": {
          "symbol": "circle"
         },
         "mode": "lines+markers",
         "name": "500mb_mr",
         "orientation": "v",
         "showlegend": false,
         "type": "scatter",
         "x": [
          4000,
          16000,
          64000
         ],
         "xaxis": "x10",
         "y": [
          31.28,
          13.38,
          4.0935
         ],
         "yaxis": "y10"
        },
        {
         "hovertemplate": "File=500mb_mr<br>Standard=gdeflate<br>gpu=RTX2080TI<br>chunksize_Bytes=%{x}<br>decompression_throughput_GBps=%{y}<extra></extra>",
         "legendgroup": "500mb_mr",
         "line": {
          "color": "#ab63fa",
          "dash": "solid"
         },
         "marker": {
          "symbol": "circle"
         },
         "mode": "lines+markers",
         "name": "500mb_mr",
         "orientation": "v",
         "showlegend": false,
         "type": "scatter",
         "x": [
          4000,
          16000,
          64000
         ],
         "xaxis": "x11",
         "y": [
          20.5555,
          13.8937,
          4.4585
         ],
         "yaxis": "y11"
        },
        {
         "hovertemplate": "File=500mb_mr<br>Standard=gdeflate<br>gpu=RTX3050TI<br>chunksize_Bytes=%{x}<br>decompression_throughput_GBps=%{y}<extra></extra>",
         "legendgroup": "500mb_mr",
         "line": {
          "color": "#ab63fa",
          "dash": "solid"
         },
         "marker": {
          "symbol": "circle"
         },
         "mode": "lines+markers",
         "name": "500mb_mr",
         "orientation": "v",
         "showlegend": false,
         "type": "scatter",
         "x": [
          4000,
          16000,
          64000
         ],
         "xaxis": "x12",
         "y": [
          7.6702,
          6.6313,
          3.6992
         ],
         "yaxis": "y12"
        },
        {
         "hovertemplate": "File=500mb_mr<br>Standard=lz4<br>gpu=A100<br>chunksize_Bytes=%{x}<br>decompression_throughput_GBps=%{y}<extra></extra>",
         "legendgroup": "500mb_mr",
         "line": {
          "color": "#ab63fa",
          "dash": "solid"
         },
         "marker": {
          "symbol": "circle"
         },
         "mode": "lines+markers",
         "name": "500mb_mr",
         "orientation": "v",
         "showlegend": false,
         "type": "scatter",
         "x": [
          4000,
          16000,
          64000,
          256000,
          1024000,
          4096000,
          16384000,
          65536000
         ],
         "xaxis": "x7",
         "y": [
          21.7341,
          7.7275,
          2.4218,
          0.7082,
          0.2323,
          0.0603,
          0.026,
          0.026
         ],
         "yaxis": "y7"
        },
        {
         "hovertemplate": "File=500mb_mr<br>Standard=lz4<br>gpu=RTX2080TI<br>chunksize_Bytes=%{x}<br>decompression_throughput_GBps=%{y}<extra></extra>",
         "legendgroup": "500mb_mr",
         "line": {
          "color": "#ab63fa",
          "dash": "solid"
         },
         "marker": {
          "symbol": "circle"
         },
         "mode": "lines+markers",
         "name": "500mb_mr",
         "orientation": "v",
         "showlegend": false,
         "type": "scatter",
         "x": [
          4000,
          16000,
          64000,
          256000,
          1024000,
          4096000,
          16384000,
          65536000
         ],
         "xaxis": "x8",
         "y": [
          19.0487,
          8.7068,
          2.7446,
          0.8605,
          0.3177,
          0.082,
          0.0355,
          0.0352
         ],
         "yaxis": "y8"
        },
        {
         "hovertemplate": "File=500mb_mr<br>Standard=lz4<br>gpu=RTX3050TI<br>chunksize_Bytes=%{x}<br>decompression_throughput_GBps=%{y}<extra></extra>",
         "legendgroup": "500mb_mr",
         "line": {
          "color": "#ab63fa",
          "dash": "solid"
         },
         "marker": {
          "symbol": "circle"
         },
         "mode": "lines+markers",
         "name": "500mb_mr",
         "orientation": "v",
         "showlegend": false,
         "type": "scatter",
         "x": [
          4000,
          16000,
          64000,
          256000,
          1024000,
          4096000,
          16384000,
          65536000
         ],
         "xaxis": "x9",
         "y": [
          9.202,
          5.4643,
          2.4777,
          0.7549,
          0.2885,
          0.0747,
          0.0323,
          0.0323
         ],
         "yaxis": "y9"
        },
        {
         "hovertemplate": "File=500mb_mr<br>Standard=snappy<br>gpu=A100<br>chunksize_Bytes=%{x}<br>decompression_throughput_GBps=%{y}<extra></extra>",
         "legendgroup": "500mb_mr",
         "line": {
          "color": "#ab63fa",
          "dash": "solid"
         },
         "marker": {
          "symbol": "circle"
         },
         "mode": "lines+markers",
         "name": "500mb_mr",
         "orientation": "v",
         "showlegend": false,
         "type": "scatter",
         "x": [
          4000,
          16000,
          64000,
          256000,
          1024000,
          4096000,
          16384000,
          65536000
         ],
         "xaxis": "x4",
         "y": [
          29.1769,
          11.7506,
          2.9804,
          0.7661,
          0.2907,
          0.0773,
          0.0325,
          0.0325
         ],
         "yaxis": "y4"
        },
        {
         "hovertemplate": "File=500mb_mr<br>Standard=snappy<br>gpu=RTX2080TI<br>chunksize_Bytes=%{x}<br>decompression_throughput_GBps=%{y}<extra></extra>",
         "legendgroup": "500mb_mr",
         "line": {
          "color": "#ab63fa",
          "dash": "solid"
         },
         "marker": {
          "symbol": "circle"
         },
         "mode": "lines+markers",
         "name": "500mb_mr",
         "orientation": "v",
         "showlegend": false,
         "type": "scatter",
         "x": [
          4000,
          16000,
          64000,
          256000,
          1024000,
          4096000,
          16384000,
          65536000
         ],
         "xaxis": "x5",
         "y": [
          16.9199,
          11.1033,
          2.9687,
          0.7731,
          0.3485,
          0.09,
          0.0385,
          0.0385
         ],
         "yaxis": "y5"
        },
        {
         "hovertemplate": "File=500mb_mr<br>Standard=snappy<br>gpu=RTX3050TI<br>chunksize_Bytes=%{x}<br>decompression_throughput_GBps=%{y}<extra></extra>",
         "legendgroup": "500mb_mr",
         "line": {
          "color": "#ab63fa",
          "dash": "solid"
         },
         "marker": {
          "symbol": "circle"
         },
         "mode": "lines+markers",
         "name": "500mb_mr",
         "orientation": "v",
         "showlegend": false,
         "type": "scatter",
         "x": [
          4000,
          16000,
          64000,
          256000,
          1024000,
          4096000,
          16384000,
          65536000
         ],
         "xaxis": "x6",
         "y": [
          6.6999,
          5.5806,
          2.7942,
          0.7769,
          0.338,
          0.0877,
          0.034,
          0.0337
         ],
         "yaxis": "y6"
        },
        {
         "hovertemplate": "File=500mb_mr<br>Standard=zstd<br>gpu=A100<br>chunksize_Bytes=%{x}<br>decompression_throughput_GBps=%{y}<extra></extra>",
         "legendgroup": "500mb_mr",
         "line": {
          "color": "#ab63fa",
          "dash": "solid"
         },
         "marker": {
          "symbol": "circle"
         },
         "mode": "lines+markers",
         "name": "500mb_mr",
         "orientation": "v",
         "showlegend": false,
         "type": "scatter",
         "x": [
          4000,
          16000,
          64000,
          256000,
          1024000,
          4096000,
          16384000,
          65536000
         ],
         "xaxis": "x",
         "y": [
          7.6155,
          4.5024,
          1.4507,
          0.8657,
          0.3102,
          0.0971,
          0.035,
          0.0352
         ],
         "yaxis": "y"
        },
        {
         "hovertemplate": "File=500mb_mr<br>Standard=zstd<br>gpu=RTX2080TI<br>chunksize_Bytes=%{x}<br>decompression_throughput_GBps=%{y}<extra></extra>",
         "legendgroup": "500mb_mr",
         "line": {
          "color": "#ab63fa",
          "dash": "solid"
         },
         "marker": {
          "symbol": "circle"
         },
         "mode": "lines+markers",
         "name": "500mb_mr",
         "orientation": "v",
         "showlegend": false,
         "type": "scatter",
         "x": [
          4000,
          16000,
          64000,
          256000,
          1024000,
          4096000,
          16384000,
          65536000
         ],
         "xaxis": "x2",
         "y": [
          5.1844,
          3.4682,
          1.0858,
          0.5923,
          0.2954,
          0.0921,
          0.031,
          0.031
         ],
         "yaxis": "y2"
        },
        {
         "hovertemplate": "File=500mb_mr<br>Standard=zstd<br>gpu=RTX3050TI<br>chunksize_Bytes=%{x}<br>decompression_throughput_GBps=%{y}<extra></extra>",
         "legendgroup": "500mb_mr",
         "line": {
          "color": "#ab63fa",
          "dash": "solid"
         },
         "marker": {
          "symbol": "circle"
         },
         "mode": "lines+markers",
         "name": "500mb_mr",
         "orientation": "v",
         "showlegend": false,
         "type": "scatter",
         "x": [
          4000,
          16000,
          64000,
          256000,
          1024000,
          4096000,
          16384000,
          65536000
         ],
         "xaxis": "x3",
         "y": [
          3.0083,
          2.8,
          1.4726,
          0.7323,
          0.3678,
          0.1123,
          0.0401,
          0.0399
         ],
         "yaxis": "y3"
        },
        {
         "hovertemplate": "File=500mb_nci<br>Standard=bitcomp<br>gpu=A100<br>chunksize_Bytes=%{x}<br>decompression_throughput_GBps=%{y}<extra></extra>",
         "legendgroup": "500mb_nci",
         "line": {
          "color": "#FFA15A",
          "dash": "solid"
         },
         "marker": {
          "symbol": "circle"
         },
         "mode": "lines+markers",
         "name": "500mb_nci",
         "orientation": "v",
         "showlegend": true,
         "type": "scatter",
         "x": [
          4000,
          16000,
          64000,
          256000,
          1024000,
          4096000,
          16384000,
          65536000
         ],
         "xaxis": "x16",
         "y": [
          110.1413,
          135.8747,
          132.5594,
          59.1029,
          18.3768,
          4.8756,
          1.2386,
          0.6049
         ],
         "yaxis": "y16"
        },
        {
         "hovertemplate": "File=500mb_nci<br>Standard=bitcomp<br>gpu=RTX2080TI<br>chunksize_Bytes=%{x}<br>decompression_throughput_GBps=%{y}<extra></extra>",
         "legendgroup": "500mb_nci",
         "line": {
          "color": "#FFA15A",
          "dash": "solid"
         },
         "marker": {
          "symbol": "circle"
         },
         "mode": "lines+markers",
         "name": "500mb_nci",
         "orientation": "v",
         "showlegend": false,
         "type": "scatter",
         "x": [
          4000,
          16000,
          64000,
          256000,
          1024000,
          4096000,
          16384000,
          65536000
         ],
         "xaxis": "x17",
         "y": [
          63.8112,
          86.3711,
          81.9688,
          65.6448,
          22.6659,
          5.9814,
          1.5168,
          0.7411
         ],
         "yaxis": "y17"
        },
        {
         "hovertemplate": "File=500mb_nci<br>Standard=bitcomp<br>gpu=RTX3050TI<br>chunksize_Bytes=%{x}<br>decompression_throughput_GBps=%{y}<extra></extra>",
         "legendgroup": "500mb_nci",
         "line": {
          "color": "#FFA15A",
          "dash": "solid"
         },
         "marker": {
          "symbol": "circle"
         },
         "mode": "lines+markers",
         "name": "500mb_nci",
         "orientation": "v",
         "showlegend": false,
         "type": "scatter",
         "x": [
          4000,
          16000,
          64000,
          256000,
          1024000,
          4096000,
          16384000,
          65536000
         ],
         "xaxis": "x18",
         "y": [
          29.3603,
          39.264,
          38.3198,
          31.7433,
          18.8404,
          5.3314,
          1.3479,
          0.755
         ],
         "yaxis": "y18"
        },
        {
         "hovertemplate": "File=500mb_nci<br>Standard=gdeflate<br>gpu=A100<br>chunksize_Bytes=%{x}<br>decompression_throughput_GBps=%{y}<extra></extra>",
         "legendgroup": "500mb_nci",
         "line": {
          "color": "#FFA15A",
          "dash": "solid"
         },
         "marker": {
          "symbol": "circle"
         },
         "mode": "lines+markers",
         "name": "500mb_nci",
         "orientation": "v",
         "showlegend": false,
         "type": "scatter",
         "x": [
          4000,
          16000,
          64000
         ],
         "xaxis": "x10",
         "y": [
          43.6276,
          45.3131,
          17.5336
         ],
         "yaxis": "y10"
        },
        {
         "hovertemplate": "File=500mb_nci<br>Standard=gdeflate<br>gpu=RTX2080TI<br>chunksize_Bytes=%{x}<br>decompression_throughput_GBps=%{y}<extra></extra>",
         "legendgroup": "500mb_nci",
         "line": {
          "color": "#FFA15A",
          "dash": "solid"
         },
         "marker": {
          "symbol": "circle"
         },
         "mode": "lines+markers",
         "name": "500mb_nci",
         "orientation": "v",
         "showlegend": false,
         "type": "scatter",
         "x": [
          4000,
          16000,
          64000
         ],
         "xaxis": "x11",
         "y": [
          30.5672,
          28.5373,
          19.0423
         ],
         "yaxis": "y11"
        },
        {
         "hovertemplate": "File=500mb_nci<br>Standard=gdeflate<br>gpu=RTX3050TI<br>chunksize_Bytes=%{x}<br>decompression_throughput_GBps=%{y}<extra></extra>",
         "legendgroup": "500mb_nci",
         "line": {
          "color": "#FFA15A",
          "dash": "solid"
         },
         "marker": {
          "symbol": "circle"
         },
         "mode": "lines+markers",
         "name": "500mb_nci",
         "orientation": "v",
         "showlegend": false,
         "type": "scatter",
         "x": [
          4000,
          16000,
          64000
         ],
         "xaxis": "x12",
         "y": [
          9.6995,
          11.705,
          9.2254
         ],
         "yaxis": "y12"
        },
        {
         "hovertemplate": "File=500mb_nci<br>Standard=lz4<br>gpu=A100<br>chunksize_Bytes=%{x}<br>decompression_throughput_GBps=%{y}<extra></extra>",
         "legendgroup": "500mb_nci",
         "line": {
          "color": "#FFA15A",
          "dash": "solid"
         },
         "marker": {
          "symbol": "circle"
         },
         "mode": "lines+markers",
         "name": "500mb_nci",
         "orientation": "v",
         "showlegend": false,
         "type": "scatter",
         "x": [
          4000,
          16000,
          64000,
          256000,
          1024000,
          4096000,
          16384000
         ],
         "xaxis": "x7",
         "y": [
          47.7545,
          38.6546,
          12.5181,
          3.533,
          1.1381,
          0.2976,
          0.0782
         ],
         "yaxis": "y7"
        },
        {
         "hovertemplate": "File=500mb_nci<br>Standard=lz4<br>gpu=RTX2080TI<br>chunksize_Bytes=%{x}<br>decompression_throughput_GBps=%{y}<extra></extra>",
         "legendgroup": "500mb_nci",
         "line": {
          "color": "#FFA15A",
          "dash": "solid"
         },
         "marker": {
          "symbol": "circle"
         },
         "mode": "lines+markers",
         "name": "500mb_nci",
         "orientation": "v",
         "showlegend": false,
         "type": "scatter",
         "x": [
          4000,
          16000,
          64000,
          256000,
          1024000,
          4096000,
          16384000
         ],
         "xaxis": "x8",
         "y": [
          34.6833,
          33.0771,
          14.6441,
          4.2393,
          1.5756,
          0.4103,
          0.1064
         ],
         "yaxis": "y8"
        },
        {
         "hovertemplate": "File=500mb_nci<br>Standard=lz4<br>gpu=RTX3050TI<br>chunksize_Bytes=%{x}<br>decompression_throughput_GBps=%{y}<extra></extra>",
         "legendgroup": "500mb_nci",
         "line": {
          "color": "#FFA15A",
          "dash": "solid"
         },
         "marker": {
          "symbol": "circle"
         },
         "mode": "lines+markers",
         "name": "500mb_nci",
         "orientation": "v",
         "showlegend": false,
         "type": "scatter",
         "x": [
          4000,
          16000,
          64000,
          256000,
          1024000,
          4096000,
          16384000
         ],
         "xaxis": "x9",
         "y": [
          10.5545,
          10.6609,
          9.7574,
          3.4332,
          1.4281,
          0.3758,
          0.0967
         ],
         "yaxis": "y9"
        },
        {
         "hovertemplate": "File=500mb_nci<br>Standard=snappy<br>gpu=A100<br>chunksize_Bytes=%{x}<br>decompression_throughput_GBps=%{y}<extra></extra>",
         "legendgroup": "500mb_nci",
         "line": {
          "color": "#FFA15A",
          "dash": "solid"
         },
         "marker": {
          "symbol": "circle"
         },
         "mode": "lines+markers",
         "name": "500mb_nci",
         "orientation": "v",
         "showlegend": false,
         "type": "scatter",
         "x": [
          4000,
          16000,
          64000,
          256000,
          1024000,
          4096000,
          16384000,
          65536000
         ],
         "xaxis": "x4",
         "y": [
          48.2511,
          47.0263,
          20.4886,
          6.4079,
          1.9605,
          0.5635,
          0.1502,
          0.0732
         ],
         "yaxis": "y4"
        },
        {
         "hovertemplate": "File=500mb_nci<br>Standard=snappy<br>gpu=RTX2080TI<br>chunksize_Bytes=%{x}<br>decompression_throughput_GBps=%{y}<extra></extra>",
         "legendgroup": "500mb_nci",
         "line": {
          "color": "#FFA15A",
          "dash": "solid"
         },
         "marker": {
          "symbol": "circle"
         },
         "mode": "lines+markers",
         "name": "500mb_nci",
         "orientation": "v",
         "showlegend": false,
         "type": "scatter",
         "x": [
          4000,
          16000,
          64000,
          256000,
          1024000,
          4096000,
          16384000,
          65536000
         ],
         "xaxis": "x5",
         "y": [
          25.2394,
          28.5365,
          20.8496,
          7.1708,
          2.6445,
          0.7062,
          0.1887,
          0.0921
         ],
         "yaxis": "y5"
        },
        {
         "hovertemplate": "File=500mb_nci<br>Standard=snappy<br>gpu=RTX3050TI<br>chunksize_Bytes=%{x}<br>decompression_throughput_GBps=%{y}<extra></extra>",
         "legendgroup": "500mb_nci",
         "line": {
          "color": "#FFA15A",
          "dash": "solid"
         },
         "marker": {
          "symbol": "circle"
         },
         "mode": "lines+markers",
         "name": "500mb_nci",
         "orientation": "v",
         "showlegend": false,
         "type": "scatter",
         "x": [
          4000,
          16000,
          64000,
          256000,
          1024000,
          4096000,
          16384000,
          65536000
         ],
         "xaxis": "x6",
         "y": [
          8.4719,
          10.3635,
          10.0909,
          6.0943,
          1.8136,
          0.6883,
          0.1679,
          0.0808
         ],
         "yaxis": "y6"
        },
        {
         "hovertemplate": "File=500mb_nci<br>Standard=zstd<br>gpu=A100<br>chunksize_Bytes=%{x}<br>decompression_throughput_GBps=%{y}<extra></extra>",
         "legendgroup": "500mb_nci",
         "line": {
          "color": "#FFA15A",
          "dash": "solid"
         },
         "marker": {
          "symbol": "circle"
         },
         "mode": "lines+markers",
         "name": "500mb_nci",
         "orientation": "v",
         "showlegend": false,
         "type": "scatter",
         "x": [
          4000,
          16000,
          64000,
          256000,
          1024000,
          4096000,
          16384000
         ],
         "xaxis": "x",
         "y": [
          16.298,
          20.0203,
          11.22,
          4.5395,
          1.3747,
          0.3668,
          0.0965
         ],
         "yaxis": "y"
        },
        {
         "hovertemplate": "File=500mb_nci<br>Standard=zstd<br>gpu=RTX2080TI<br>chunksize_Bytes=%{x}<br>decompression_throughput_GBps=%{y}<extra></extra>",
         "legendgroup": "500mb_nci",
         "line": {
          "color": "#FFA15A",
          "dash": "solid"
         },
         "marker": {
          "symbol": "circle"
         },
         "mode": "lines+markers",
         "name": "500mb_nci",
         "orientation": "v",
         "showlegend": false,
         "type": "scatter",
         "x": [
          4000,
          16000,
          64000,
          256000,
          1024000,
          4096000,
          16384000
         ],
         "xaxis": "x2",
         "y": [
          7.2792,
          12.0359,
          8.1936,
          3.9313,
          1.5313,
          0.4737,
          0.1273
         ],
         "yaxis": "y2"
        },
        {
         "hovertemplate": "File=500mb_nci<br>Standard=zstd<br>gpu=RTX3050TI<br>chunksize_Bytes=%{x}<br>decompression_throughput_GBps=%{y}<extra></extra>",
         "legendgroup": "500mb_nci",
         "line": {
          "color": "#FFA15A",
          "dash": "solid"
         },
         "marker": {
          "symbol": "circle"
         },
         "mode": "lines+markers",
         "name": "500mb_nci",
         "orientation": "v",
         "showlegend": false,
         "type": "scatter",
         "x": [
          4000,
          16000,
          64000,
          256000,
          1024000,
          4096000,
          16384000
         ],
         "xaxis": "x3",
         "y": [
          3.7392,
          6.2646,
          6.0559,
          3.8014,
          1.1489,
          0.4321,
          0.1049
         ],
         "yaxis": "y3"
        },
        {
         "hovertemplate": "File=500mb_samba<br>Standard=bitcomp<br>gpu=A100<br>chunksize_Bytes=%{x}<br>decompression_throughput_GBps=%{y}<extra></extra>",
         "legendgroup": "500mb_samba",
         "line": {
          "color": "#19d3f3",
          "dash": "solid"
         },
         "marker": {
          "symbol": "circle"
         },
         "mode": "lines+markers",
         "name": "500mb_samba",
         "orientation": "v",
         "showlegend": true,
         "type": "scatter",
         "x": [
          4000,
          16000,
          64000,
          256000,
          1024000,
          4096000,
          16384000,
          65536000
         ],
         "xaxis": "x16",
         "y": [
          95.045,
          107.7046,
          74.7564,
          26.2305,
          8.1899,
          2.5073,
          0.6941,
          0.5577
         ],
         "yaxis": "y16"
        },
        {
         "hovertemplate": "File=500mb_samba<br>Standard=bitcomp<br>gpu=RTX2080TI<br>chunksize_Bytes=%{x}<br>decompression_throughput_GBps=%{y}<extra></extra>",
         "legendgroup": "500mb_samba",
         "line": {
          "color": "#19d3f3",
          "dash": "solid"
         },
         "marker": {
          "symbol": "circle"
         },
         "mode": "lines+markers",
         "name": "500mb_samba",
         "orientation": "v",
         "showlegend": false,
         "type": "scatter",
         "x": [
          4000,
          16000,
          64000,
          256000,
          1024000,
          4096000,
          16384000,
          65536000
         ],
         "xaxis": "x17",
         "y": [
          51.9385,
          74.9722,
          69.9327,
          31.95,
          10.0396,
          3.0392,
          0.8627,
          0.6945
         ],
         "yaxis": "y17"
        },
        {
         "hovertemplate": "File=500mb_samba<br>Standard=bitcomp<br>gpu=RTX3050TI<br>chunksize_Bytes=%{x}<br>decompression_throughput_GBps=%{y}<extra></extra>",
         "legendgroup": "500mb_samba",
         "line": {
          "color": "#19d3f3",
          "dash": "solid"
         },
         "marker": {
          "symbol": "circle"
         },
         "mode": "lines+markers",
         "name": "500mb_samba",
         "orientation": "v",
         "showlegend": false,
         "type": "scatter",
         "x": [
          4000,
          16000,
          64000,
          256000,
          1024000,
          4096000,
          16384000,
          65536000
         ],
         "xaxis": "x18",
         "y": [
          28.1169,
          39.7832,
          38.5807,
          27.6314,
          9.0345,
          2.7422,
          0.7614,
          0.6113
         ],
         "yaxis": "y18"
        },
        {
         "hovertemplate": "File=500mb_samba<br>Standard=cascaded<br>gpu=A100<br>chunksize_Bytes=%{x}<br>decompression_throughput_GBps=%{y}<extra></extra>",
         "legendgroup": "500mb_samba",
         "line": {
          "color": "#19d3f3",
          "dash": "solid"
         },
         "marker": {
          "symbol": "circle"
         },
         "mode": "lines+markers",
         "name": "500mb_samba",
         "orientation": "v",
         "showlegend": false,
         "type": "scatter",
         "x": [
          4000,
          16000,
          64000,
          256000,
          1024000,
          4096000,
          16384000,
          65536000
         ],
         "xaxis": "x13",
         "y": [
          151.2206,
          126.371,
          54.5837,
          15.4791,
          3.9818,
          1.2023,
          0.9597,
          1.139
         ],
         "yaxis": "y13"
        },
        {
         "hovertemplate": "File=500mb_samba<br>Standard=cascaded<br>gpu=RTX2080TI<br>chunksize_Bytes=%{x}<br>decompression_throughput_GBps=%{y}<extra></extra>",
         "legendgroup": "500mb_samba",
         "line": {
          "color": "#19d3f3",
          "dash": "solid"
         },
         "marker": {
          "symbol": "circle"
         },
         "mode": "lines+markers",
         "name": "500mb_samba",
         "orientation": "v",
         "showlegend": false,
         "type": "scatter",
         "x": [
          4000,
          16000,
          64000,
          256000,
          1024000,
          4096000,
          16384000,
          65536000
         ],
         "xaxis": "x14",
         "y": [
          85.3711,
          82.9688,
          50.0667,
          17.8563,
          4.5521,
          1.1726,
          1.2463,
          1.8921
         ],
         "yaxis": "y14"
        },
        {
         "hovertemplate": "File=500mb_samba<br>Standard=cascaded<br>gpu=RTX3050TI<br>chunksize_Bytes=%{x}<br>decompression_throughput_GBps=%{y}<extra></extra>",
         "legendgroup": "500mb_samba",
         "line": {
          "color": "#19d3f3",
          "dash": "solid"
         },
         "marker": {
          "symbol": "circle"
         },
         "mode": "lines+markers",
         "name": "500mb_samba",
         "orientation": "v",
         "showlegend": false,
         "type": "scatter",
         "x": [
          4000,
          16000,
          64000,
          256000,
          1024000,
          4096000,
          16384000,
          65536000
         ],
         "xaxis": "x15",
         "y": [
          43.108,
          46.2941,
          36.1282,
          16.1643,
          4.3969,
          1.1309,
          1.1942,
          1.5519
         ],
         "yaxis": "y15"
        },
        {
         "hovertemplate": "File=500mb_samba<br>Standard=gdeflate<br>gpu=A100<br>chunksize_Bytes=%{x}<br>decompression_throughput_GBps=%{y}<extra></extra>",
         "legendgroup": "500mb_samba",
         "line": {
          "color": "#19d3f3",
          "dash": "solid"
         },
         "marker": {
          "symbol": "circle"
         },
         "mode": "lines+markers",
         "name": "500mb_samba",
         "orientation": "v",
         "showlegend": false,
         "type": "scatter",
         "x": [
          4000,
          16000,
          64000
         ],
         "xaxis": "x10",
         "y": [
          35.5893,
          21.212,
          6.7469
         ],
         "yaxis": "y10"
        },
        {
         "hovertemplate": "File=500mb_samba<br>Standard=gdeflate<br>gpu=RTX2080TI<br>chunksize_Bytes=%{x}<br>decompression_throughput_GBps=%{y}<extra></extra>",
         "legendgroup": "500mb_samba",
         "line": {
          "color": "#19d3f3",
          "dash": "solid"
         },
         "marker": {
          "symbol": "circle"
         },
         "mode": "lines+markers",
         "name": "500mb_samba",
         "orientation": "v",
         "showlegend": false,
         "type": "scatter",
         "x": [
          4000,
          16000,
          64000
         ],
         "xaxis": "x11",
         "y": [
          26.4732,
          21.91,
          7.6307
         ],
         "yaxis": "y11"
        },
        {
         "hovertemplate": "File=500mb_samba<br>Standard=gdeflate<br>gpu=RTX3050TI<br>chunksize_Bytes=%{x}<br>decompression_throughput_GBps=%{y}<extra></extra>",
         "legendgroup": "500mb_samba",
         "line": {
          "color": "#19d3f3",
          "dash": "solid"
         },
         "marker": {
          "symbol": "circle"
         },
         "mode": "lines+markers",
         "name": "500mb_samba",
         "orientation": "v",
         "showlegend": false,
         "type": "scatter",
         "x": [
          4000,
          16000,
          64000
         ],
         "xaxis": "x12",
         "y": [
          8.1143,
          9.0372,
          6.1152
         ],
         "yaxis": "y12"
        },
        {
         "hovertemplate": "File=500mb_samba<br>Standard=lz4<br>gpu=A100<br>chunksize_Bytes=%{x}<br>decompression_throughput_GBps=%{y}<extra></extra>",
         "legendgroup": "500mb_samba",
         "line": {
          "color": "#19d3f3",
          "dash": "solid"
         },
         "marker": {
          "symbol": "circle"
         },
         "mode": "lines+markers",
         "name": "500mb_samba",
         "orientation": "v",
         "showlegend": false,
         "type": "scatter",
         "x": [
          4000,
          16000,
          64000,
          256000,
          1024000,
          4096000,
          16384000
         ],
         "xaxis": "x7",
         "y": [
          34.151,
          13.395,
          3.8644,
          1.4468,
          0.4621,
          0.1334,
          0.0377
         ],
         "yaxis": "y7"
        },
        {
         "hovertemplate": "File=500mb_samba<br>Standard=lz4<br>gpu=RTX2080TI<br>chunksize_Bytes=%{x}<br>decompression_throughput_GBps=%{y}<extra></extra>",
         "legendgroup": "500mb_samba",
         "line": {
          "color": "#19d3f3",
          "dash": "solid"
         },
         "marker": {
          "symbol": "circle"
         },
         "mode": "lines+markers",
         "name": "500mb_samba",
         "orientation": "v",
         "showlegend": false,
         "type": "scatter",
         "x": [
          4000,
          16000,
          64000,
          256000,
          1024000,
          4096000,
          16384000
         ],
         "xaxis": "x8",
         "y": [
          27.6733,
          15.7038,
          4.624,
          1.4655,
          0.6406,
          0.1825,
          0.0519
         ],
         "yaxis": "y8"
        },
        {
         "hovertemplate": "File=500mb_samba<br>Standard=lz4<br>gpu=RTX3050TI<br>chunksize_Bytes=%{x}<br>decompression_throughput_GBps=%{y}<extra></extra>",
         "legendgroup": "500mb_samba",
         "line": {
          "color": "#19d3f3",
          "dash": "solid"
         },
         "marker": {
          "symbol": "circle"
         },
         "mode": "lines+markers",
         "name": "500mb_samba",
         "orientation": "v",
         "showlegend": false,
         "type": "scatter",
         "x": [
          4000,
          16000,
          64000,
          256000,
          1024000,
          4096000,
          16384000
         ],
         "xaxis": "x9",
         "y": [
          9.1596,
          7.5643,
          3.7026,
          1.2401,
          0.5796,
          0.1669,
          0.0474
         ],
         "yaxis": "y9"
        },
        {
         "hovertemplate": "File=500mb_samba<br>Standard=snappy<br>gpu=A100<br>chunksize_Bytes=%{x}<br>decompression_throughput_GBps=%{y}<extra></extra>",
         "legendgroup": "500mb_samba",
         "line": {
          "color": "#19d3f3",
          "dash": "solid"
         },
         "marker": {
          "symbol": "circle"
         },
         "mode": "lines+markers",
         "name": "500mb_samba",
         "orientation": "v",
         "showlegend": false,
         "type": "scatter",
         "x": [
          4000,
          16000,
          64000,
          256000,
          1024000,
          4096000,
          16384000,
          65536000
         ],
         "xaxis": "x4",
         "y": [
          32.3201,
          17.767,
          5.4258,
          1.5031,
          0.5411,
          0.16,
          0.0502,
          0.0378
         ],
         "yaxis": "y4"
        },
        {
         "hovertemplate": "File=500mb_samba<br>Standard=snappy<br>gpu=RTX2080TI<br>chunksize_Bytes=%{x}<br>decompression_throughput_GBps=%{y}<extra></extra>",
         "legendgroup": "500mb_samba",
         "line": {
          "color": "#19d3f3",
          "dash": "solid"
         },
         "marker": {
          "symbol": "circle"
         },
         "mode": "lines+markers",
         "name": "500mb_samba",
         "orientation": "v",
         "showlegend": false,
         "type": "scatter",
         "x": [
          4000,
          16000,
          64000,
          256000,
          1024000,
          4096000,
          16384000,
          65536000
         ],
         "xaxis": "x5",
         "y": [
          18.5918,
          13.7968,
          5.359,
          1.619,
          0.6512,
          0.194,
          0.0612,
          0.046
         ],
         "yaxis": "y5"
        },
        {
         "hovertemplate": "File=500mb_samba<br>Standard=snappy<br>gpu=RTX3050TI<br>chunksize_Bytes=%{x}<br>decompression_throughput_GBps=%{y}<extra></extra>",
         "legendgroup": "500mb_samba",
         "line": {
          "color": "#19d3f3",
          "dash": "solid"
         },
         "marker": {
          "symbol": "circle"
         },
         "mode": "lines+markers",
         "name": "500mb_samba",
         "orientation": "v",
         "showlegend": false,
         "type": "scatter",
         "x": [
          4000,
          16000,
          64000,
          256000,
          1024000,
          4096000,
          16384000,
          65536000
         ],
         "xaxis": "x6",
         "y": [
          6.4663,
          5.9462,
          4.8027,
          1.523,
          0.6422,
          0.1906,
          0.0543,
          0.0406
         ],
         "yaxis": "y6"
        },
        {
         "hovertemplate": "File=500mb_samba<br>Standard=zstd<br>gpu=A100<br>chunksize_Bytes=%{x}<br>decompression_throughput_GBps=%{y}<extra></extra>",
         "legendgroup": "500mb_samba",
         "line": {
          "color": "#19d3f3",
          "dash": "solid"
         },
         "marker": {
          "symbol": "circle"
         },
         "mode": "lines+markers",
         "name": "500mb_samba",
         "orientation": "v",
         "showlegend": false,
         "type": "scatter",
         "x": [
          4000,
          16000,
          64000,
          256000,
          1024000,
          4096000,
          16384000
         ],
         "xaxis": "x",
         "y": [
          10.4957,
          8.6831,
          3.1949,
          1.7568,
          0.6163,
          0.1849,
          0.0583
         ],
         "yaxis": "y"
        },
        {
         "hovertemplate": "File=500mb_samba<br>Standard=zstd<br>gpu=RTX2080TI<br>chunksize_Bytes=%{x}<br>decompression_throughput_GBps=%{y}<extra></extra>",
         "legendgroup": "500mb_samba",
         "line": {
          "color": "#19d3f3",
          "dash": "solid"
         },
         "marker": {
          "symbol": "circle"
         },
         "mode": "lines+markers",
         "name": "500mb_samba",
         "orientation": "v",
         "showlegend": false,
         "type": "scatter",
         "x": [
          4000,
          16000,
          64000,
          256000,
          1024000,
          4096000,
          16384000
         ],
         "xaxis": "x2",
         "y": [
          5.9034,
          5.5905,
          2.428,
          1.4292,
          0.5674,
          0.2311,
          0.0674
         ],
         "yaxis": "y2"
        },
        {
         "hovertemplate": "File=500mb_samba<br>Standard=zstd<br>gpu=RTX3050TI<br>chunksize_Bytes=%{x}<br>decompression_throughput_GBps=%{y}<extra></extra>",
         "legendgroup": "500mb_samba",
         "line": {
          "color": "#19d3f3",
          "dash": "solid"
         },
         "marker": {
          "symbol": "circle"
         },
         "mode": "lines+markers",
         "name": "500mb_samba",
         "orientation": "v",
         "showlegend": false,
         "type": "scatter",
         "x": [
          4000,
          16000,
          64000,
          256000,
          1024000,
          4096000,
          16384000
         ],
         "xaxis": "x3",
         "y": [
          3.4579,
          3.9739,
          2.9852,
          1.4604,
          0.7015,
          0.2087,
          0.0617
         ],
         "yaxis": "y3"
        },
        {
         "hovertemplate": "File=500mb_sao<br>Standard=bitcomp<br>gpu=A100<br>chunksize_Bytes=%{x}<br>decompression_throughput_GBps=%{y}<extra></extra>",
         "legendgroup": "500mb_sao",
         "line": {
          "color": "#FF6692",
          "dash": "solid"
         },
         "marker": {
          "symbol": "circle"
         },
         "mode": "lines+markers",
         "name": "500mb_sao",
         "orientation": "v",
         "showlegend": true,
         "type": "scatter",
         "x": [
          4000,
          16000,
          64000,
          256000,
          1024000,
          4096000,
          16384000,
          65536000
         ],
         "xaxis": "x16",
         "y": [
          52.0255,
          61.9528,
          61.5155,
          45.461,
          17.7451,
          7.1357,
          3.4688,
          3.2613
         ],
         "yaxis": "y16"
        },
        {
         "hovertemplate": "File=500mb_sao<br>Standard=bitcomp<br>gpu=RTX2080TI<br>chunksize_Bytes=%{x}<br>decompression_throughput_GBps=%{y}<extra></extra>",
         "legendgroup": "500mb_sao",
         "line": {
          "color": "#FF6692",
          "dash": "solid"
         },
         "marker": {
          "symbol": "circle"
         },
         "mode": "lines+markers",
         "name": "500mb_sao",
         "orientation": "v",
         "showlegend": false,
         "type": "scatter",
         "x": [
          4000,
          16000,
          64000,
          256000,
          1024000,
          4096000,
          16384000,
          65536000
         ],
         "xaxis": "x17",
         "y": [
          35.8354,
          44.7961,
          62.9509,
          39.9477,
          15.0072,
          4.4421,
          2.5837,
          2.6038
         ],
         "yaxis": "y17"
        },
        {
         "hovertemplate": "File=500mb_sao<br>Standard=bitcomp<br>gpu=RTX3050TI<br>chunksize_Bytes=%{x}<br>decompression_throughput_GBps=%{y}<extra></extra>",
         "legendgroup": "500mb_sao",
         "line": {
          "color": "#FF6692",
          "dash": "solid"
         },
         "marker": {
          "symbol": "circle"
         },
         "mode": "lines+markers",
         "name": "500mb_sao",
         "orientation": "v",
         "showlegend": false,
         "type": "scatter",
         "x": [
          4000,
          16000,
          64000,
          256000,
          1024000,
          4096000,
          16384000,
          65536000
         ],
         "xaxis": "x18",
         "y": [
          19.4744,
          31.7044,
          39.2829,
          37.9349,
          14.0769,
          3.9535,
          2.2787,
          2.2782
         ],
         "yaxis": "y18"
        },
        {
         "hovertemplate": "File=500mb_sao<br>Standard=cascaded<br>gpu=A100<br>chunksize_Bytes=%{x}<br>decompression_throughput_GBps=%{y}<extra></extra>",
         "legendgroup": "500mb_sao",
         "line": {
          "color": "#FF6692",
          "dash": "solid"
         },
         "marker": {
          "symbol": "circle"
         },
         "mode": "lines+markers",
         "name": "500mb_sao",
         "orientation": "v",
         "showlegend": false,
         "type": "scatter",
         "x": [
          4000,
          16000,
          64000,
          256000,
          1024000,
          4096000,
          16384000,
          65536000
         ],
         "xaxis": "x13",
         "y": [
          142.7998,
          145.0853,
          101.9448,
          42.8157,
          13.2792,
          4.3421,
          1.81,
          1.8328
         ],
         "yaxis": "y13"
        },
        {
         "hovertemplate": "File=500mb_sao<br>Standard=cascaded<br>gpu=RTX2080TI<br>chunksize_Bytes=%{x}<br>decompression_throughput_GBps=%{y}<extra></extra>",
         "legendgroup": "500mb_sao",
         "line": {
          "color": "#FF6692",
          "dash": "solid"
         },
         "marker": {
          "symbol": "circle"
         },
         "mode": "lines+markers",
         "name": "500mb_sao",
         "orientation": "v",
         "showlegend": false,
         "type": "scatter",
         "x": [
          4000,
          16000,
          64000,
          256000,
          1024000,
          4096000,
          16384000,
          65536000
         ],
         "xaxis": "x14",
         "y": [
          92.0858,
          102.7304,
          61.0351,
          34.3994,
          10.0498,
          2.6592,
          1.5276,
          1.5347
         ],
         "yaxis": "y14"
        },
        {
         "hovertemplate": "File=500mb_sao<br>Standard=cascaded<br>gpu=RTX3050TI<br>chunksize_Bytes=%{x}<br>decompression_throughput_GBps=%{y}<extra></extra>",
         "legendgroup": "500mb_sao",
         "line": {
          "color": "#FF6692",
          "dash": "solid"
         },
         "marker": {
          "symbol": "circle"
         },
         "mode": "lines+markers",
         "name": "500mb_sao",
         "orientation": "v",
         "showlegend": false,
         "type": "scatter",
         "x": [
          4000,
          16000,
          64000,
          256000,
          1024000,
          4096000,
          16384000,
          65536000
         ],
         "xaxis": "x15",
         "y": [
          49.709,
          57.0552,
          59.3099,
          29.8621,
          8.66,
          2.2781,
          1.2953,
          1.2953
         ],
         "yaxis": "y15"
        },
        {
         "hovertemplate": "File=500mb_sao<br>Standard=gdeflate<br>gpu=A100<br>chunksize_Bytes=%{x}<br>decompression_throughput_GBps=%{y}<extra></extra>",
         "legendgroup": "500mb_sao",
         "line": {
          "color": "#FF6692",
          "dash": "solid"
         },
         "marker": {
          "symbol": "circle"
         },
         "mode": "lines+markers",
         "name": "500mb_sao",
         "orientation": "v",
         "showlegend": false,
         "type": "scatter",
         "x": [
          4000,
          16000,
          64000
         ],
         "xaxis": "x10",
         "y": [
          21.6037,
          8.2794,
          2.2623
         ],
         "yaxis": "y10"
        },
        {
         "hovertemplate": "File=500mb_sao<br>Standard=gdeflate<br>gpu=RTX2080TI<br>chunksize_Bytes=%{x}<br>decompression_throughput_GBps=%{y}<extra></extra>",
         "legendgroup": "500mb_sao",
         "line": {
          "color": "#FF6692",
          "dash": "solid"
         },
         "marker": {
          "symbol": "circle"
         },
         "mode": "lines+markers",
         "name": "500mb_sao",
         "orientation": "v",
         "showlegend": false,
         "type": "scatter",
         "x": [
          4000,
          16000,
          64000
         ],
         "xaxis": "x11",
         "y": [
          17.9234,
          8.5758,
          2.43
         ],
         "yaxis": "y11"
        },
        {
         "hovertemplate": "File=500mb_sao<br>Standard=gdeflate<br>gpu=RTX3050TI<br>chunksize_Bytes=%{x}<br>decompression_throughput_GBps=%{y}<extra></extra>",
         "legendgroup": "500mb_sao",
         "line": {
          "color": "#FF6692",
          "dash": "solid"
         },
         "marker": {
          "symbol": "circle"
         },
         "mode": "lines+markers",
         "name": "500mb_sao",
         "orientation": "v",
         "showlegend": false,
         "type": "scatter",
         "x": [
          4000,
          16000,
          64000
         ],
         "xaxis": "x12",
         "y": [
          5.8015,
          5.9237,
          2.0131
         ],
         "yaxis": "y12"
        },
        {
         "hovertemplate": "File=500mb_sao<br>Standard=lz4<br>gpu=A100<br>chunksize_Bytes=%{x}<br>decompression_throughput_GBps=%{y}<extra></extra>",
         "legendgroup": "500mb_sao",
         "line": {
          "color": "#FF6692",
          "dash": "solid"
         },
         "marker": {
          "symbol": "circle"
         },
         "mode": "lines+markers",
         "name": "500mb_sao",
         "orientation": "v",
         "showlegend": false,
         "type": "scatter",
         "x": [
          4000,
          16000,
          64000,
          256000,
          1024000,
          4096000,
          16384000,
          65536000
         ],
         "xaxis": "x7",
         "y": [
          29.204,
          9.1119,
          2.3769,
          0.6028,
          0.1844,
          0.047,
          0.0266,
          0.0266
         ],
         "yaxis": "y7"
        },
        {
         "hovertemplate": "File=500mb_sao<br>Standard=lz4<br>gpu=RTX2080TI<br>chunksize_Bytes=%{x}<br>decompression_throughput_GBps=%{y}<extra></extra>",
         "legendgroup": "500mb_sao",
         "line": {
          "color": "#FF6692",
          "dash": "solid"
         },
         "marker": {
          "symbol": "circle"
         },
         "mode": "lines+markers",
         "name": "500mb_sao",
         "orientation": "v",
         "showlegend": false,
         "type": "scatter",
         "x": [
          4000,
          16000,
          64000,
          256000,
          1024000,
          4096000,
          16384000,
          65536000
         ],
         "xaxis": "x8",
         "y": [
          22.2441,
          9.9518,
          2.7031,
          0.7083,
          0.2439,
          0.062,
          0.0351,
          0.0352
         ],
         "yaxis": "y8"
        },
        {
         "hovertemplate": "File=500mb_sao<br>Standard=lz4<br>gpu=RTX3050TI<br>chunksize_Bytes=%{x}<br>decompression_throughput_GBps=%{y}<extra></extra>",
         "legendgroup": "500mb_sao",
         "line": {
          "color": "#FF6692",
          "dash": "solid"
         },
         "marker": {
          "symbol": "circle"
         },
         "mode": "lines+markers",
         "name": "500mb_sao",
         "orientation": "v",
         "showlegend": false,
         "type": "scatter",
         "x": [
          4000,
          16000,
          64000,
          256000,
          1024000,
          4096000,
          16384000,
          65536000
         ],
         "xaxis": "x9",
         "y": [
          8.6038,
          7.1878,
          2.3721,
          0.6323,
          0.2244,
          0.0571,
          0.0324,
          0.0324
         ],
         "yaxis": "y9"
        },
        {
         "hovertemplate": "File=500mb_sao<br>Standard=snappy<br>gpu=A100<br>chunksize_Bytes=%{x}<br>decompression_throughput_GBps=%{y}<extra></extra>",
         "legendgroup": "500mb_sao",
         "line": {
          "color": "#FF6692",
          "dash": "solid"
         },
         "marker": {
          "symbol": "circle"
         },
         "mode": "lines+markers",
         "name": "500mb_sao",
         "orientation": "v",
         "showlegend": false,
         "type": "scatter",
         "x": [
          4000,
          16000,
          64000,
          256000,
          1024000,
          4096000,
          16384000,
          65536000
         ],
         "xaxis": "x4",
         "y": [
          25.2336,
          8.0758,
          2.1302,
          0.5371,
          0.1653,
          0.043,
          0.0241,
          0.0241
         ],
         "yaxis": "y4"
        },
        {
         "hovertemplate": "File=500mb_sao<br>Standard=snappy<br>gpu=RTX2080TI<br>chunksize_Bytes=%{x}<br>decompression_throughput_GBps=%{y}<extra></extra>",
         "legendgroup": "500mb_sao",
         "line": {
          "color": "#FF6692",
          "dash": "solid"
         },
         "marker": {
          "symbol": "circle"
         },
         "mode": "lines+markers",
         "name": "500mb_sao",
         "orientation": "v",
         "showlegend": false,
         "type": "scatter",
         "x": [
          4000,
          16000,
          64000,
          256000,
          1024000,
          4096000,
          16384000,
          65536000
         ],
         "xaxis": "x5",
         "y": [
          14.6777,
          7.7707,
          2.016,
          0.5339,
          0.1815,
          0.0473,
          0.0266,
          0.0266
         ],
         "yaxis": "y5"
        },
        {
         "hovertemplate": "File=500mb_sao<br>Standard=snappy<br>gpu=RTX3050TI<br>chunksize_Bytes=%{x}<br>decompression_throughput_GBps=%{y}<extra></extra>",
         "legendgroup": "500mb_sao",
         "line": {
          "color": "#FF6692",
          "dash": "solid"
         },
         "marker": {
          "symbol": "circle"
         },
         "mode": "lines+markers",
         "name": "500mb_sao",
         "orientation": "v",
         "showlegend": false,
         "type": "scatter",
         "x": [
          4000,
          16000,
          64000,
          256000,
          1024000,
          4096000,
          16384000,
          65536000
         ],
         "xaxis": "x6",
         "y": [
          5.6454,
          3.6779,
          1.9577,
          0.518,
          0.1659,
          0.0465,
          0.0262,
          0.0237
         ],
         "yaxis": "y6"
        },
        {
         "hovertemplate": "File=500mb_sao<br>Standard=zstd<br>gpu=A100<br>chunksize_Bytes=%{x}<br>decompression_throughput_GBps=%{y}<extra></extra>",
         "legendgroup": "500mb_sao",
         "line": {
          "color": "#FF6692",
          "dash": "solid"
         },
         "marker": {
          "symbol": "circle"
         },
         "mode": "lines+markers",
         "name": "500mb_sao",
         "orientation": "v",
         "showlegend": false,
         "type": "scatter",
         "x": [
          4000,
          16000,
          64000,
          256000,
          1024000,
          4096000,
          16384000,
          65536000
         ],
         "xaxis": "x",
         "y": [
          6.2911,
          3.7829,
          1.367,
          0.6628,
          0.2747,
          0.0751,
          0.0398,
          0.0398
         ],
         "yaxis": "y"
        },
        {
         "hovertemplate": "File=500mb_sao<br>Standard=zstd<br>gpu=RTX2080TI<br>chunksize_Bytes=%{x}<br>decompression_throughput_GBps=%{y}<extra></extra>",
         "legendgroup": "500mb_sao",
         "line": {
          "color": "#FF6692",
          "dash": "solid"
         },
         "marker": {
          "symbol": "circle"
         },
         "mode": "lines+markers",
         "name": "500mb_sao",
         "orientation": "v",
         "showlegend": false,
         "type": "scatter",
         "x": [
          4000,
          16000,
          64000,
          256000,
          1024000,
          4096000,
          16384000,
          65536000
         ],
         "xaxis": "x2",
         "y": [
          5.5508,
          3.0866,
          1.0487,
          0.615,
          0.2525,
          0.0684,
          0.0352,
          0.0352
         ],
         "yaxis": "y2"
        },
        {
         "hovertemplate": "File=500mb_sao<br>Standard=zstd<br>gpu=RTX3050TI<br>chunksize_Bytes=%{x}<br>decompression_throughput_GBps=%{y}<extra></extra>",
         "legendgroup": "500mb_sao",
         "line": {
          "color": "#FF6692",
          "dash": "solid"
         },
         "marker": {
          "symbol": "circle"
         },
         "mode": "lines+markers",
         "name": "500mb_sao",
         "orientation": "v",
         "showlegend": false,
         "type": "scatter",
         "x": [
          4000,
          16000,
          64000,
          256000,
          1024000,
          4096000,
          16384000,
          65536000
         ],
         "xaxis": "x3",
         "y": [
          3.2086,
          2.6523,
          1.2921,
          0.6551,
          0.321,
          0.0944,
          0.05,
          0.0476
         ],
         "yaxis": "y3"
        },
        {
         "hovertemplate": "File=500mb_xml<br>Standard=bitcomp<br>gpu=A100<br>chunksize_Bytes=%{x}<br>decompression_throughput_GBps=%{y}<extra></extra>",
         "legendgroup": "500mb_xml",
         "line": {
          "color": "#B6E880",
          "dash": "solid"
         },
         "marker": {
          "symbol": "circle"
         },
         "mode": "lines+markers",
         "name": "500mb_xml",
         "orientation": "v",
         "showlegend": true,
         "type": "scatter",
         "x": [
          4000,
          16000,
          64000,
          256000,
          1024000,
          4096000,
          16384000,
          65536000
         ],
         "xaxis": "x16",
         "y": [
          44.5084,
          43.9463,
          23.4343,
          7.7751,
          2.3902,
          0.6915,
          0.5311,
          0.5311
         ],
         "yaxis": "y16"
        },
        {
         "hovertemplate": "File=500mb_xml<br>Standard=bitcomp<br>gpu=RTX2080TI<br>chunksize_Bytes=%{x}<br>decompression_throughput_GBps=%{y}<extra></extra>",
         "legendgroup": "500mb_xml",
         "line": {
          "color": "#B6E880",
          "dash": "solid"
         },
         "marker": {
          "symbol": "circle"
         },
         "mode": "lines+markers",
         "name": "500mb_xml",
         "orientation": "v",
         "showlegend": false,
         "type": "scatter",
         "x": [
          4000,
          16000,
          64000,
          256000,
          1024000,
          4096000,
          16384000,
          65536000
         ],
         "xaxis": "x17",
         "y": [
          33.9719,
          38.7744,
          25.9621,
          8.7123,
          2.5695,
          0.7545,
          0.5729,
          0.5779
         ],
         "yaxis": "y17"
        },
        {
         "hovertemplate": "File=500mb_xml<br>Standard=cascaded<br>gpu=A100<br>chunksize_Bytes=%{x}<br>decompression_throughput_GBps=%{y}<extra></extra>",
         "legendgroup": "500mb_xml",
         "line": {
          "color": "#B6E880",
          "dash": "solid"
         },
         "marker": {
          "symbol": "circle"
         },
         "mode": "lines+markers",
         "name": "500mb_xml",
         "orientation": "v",
         "showlegend": false,
         "type": "scatter",
         "x": [
          4000,
          16000,
          64000,
          256000,
          1024000,
          4096000,
          16384000,
          65536000
         ],
         "xaxis": "x13",
         "y": [
          86.0587,
          49.3617,
          31.3926,
          4.9697,
          5.1095,
          3.2135,
          2.4801,
          2.4744
         ],
         "yaxis": "y13"
        },
        {
         "hovertemplate": "File=500mb_xml<br>Standard=cascaded<br>gpu=RTX2080TI<br>chunksize_Bytes=%{x}<br>decompression_throughput_GBps=%{y}<extra></extra>",
         "legendgroup": "500mb_xml",
         "line": {
          "color": "#B6E880",
          "dash": "solid"
         },
         "marker": {
          "symbol": "circle"
         },
         "mode": "lines+markers",
         "name": "500mb_xml",
         "orientation": "v",
         "showlegend": false,
         "type": "scatter",
         "x": [
          4000,
          16000,
          64000,
          256000,
          1024000,
          4096000,
          16384000,
          65536000
         ],
         "xaxis": "x14",
         "y": [
          66.9767,
          38.268,
          28.1117,
          5.1638,
          5.1444,
          1.9776,
          1.5325,
          1.5246
         ],
         "yaxis": "y14"
        },
        {
         "hovertemplate": "File=500mb_xml<br>Standard=gdeflate<br>gpu=A100<br>chunksize_Bytes=%{x}<br>decompression_throughput_GBps=%{y}<extra></extra>",
         "legendgroup": "500mb_xml",
         "line": {
          "color": "#B6E880",
          "dash": "solid"
         },
         "marker": {
          "symbol": "circle"
         },
         "mode": "lines+markers",
         "name": "500mb_xml",
         "orientation": "v",
         "showlegend": false,
         "type": "scatter",
         "x": [
          4000,
          16000,
          64000
         ],
         "xaxis": "x10",
         "y": [
          20.4806,
          7.5091,
          2.2693
         ],
         "yaxis": "y10"
        },
        {
         "hovertemplate": "File=500mb_xml<br>Standard=gdeflate<br>gpu=RTX2080TI<br>chunksize_Bytes=%{x}<br>decompression_throughput_GBps=%{y}<extra></extra>",
         "legendgroup": "500mb_xml",
         "line": {
          "color": "#B6E880",
          "dash": "solid"
         },
         "marker": {
          "symbol": "circle"
         },
         "mode": "lines+markers",
         "name": "500mb_xml",
         "orientation": "v",
         "showlegend": false,
         "type": "scatter",
         "x": [
          4000,
          16000,
          64000
         ],
         "xaxis": "x11",
         "y": [
          18.8087,
          8.0692,
          2.5221
         ],
         "yaxis": "y11"
        },
        {
         "hovertemplate": "File=500mb_xml<br>Standard=gdeflate<br>gpu=RTX3050TI<br>chunksize_Bytes=%{x}<br>decompression_throughput_GBps=%{y}<extra></extra>",
         "legendgroup": "500mb_xml",
         "line": {
          "color": "#B6E880",
          "dash": "solid"
         },
         "marker": {
          "symbol": "circle"
         },
         "mode": "lines+markers",
         "name": "500mb_xml",
         "orientation": "v",
         "showlegend": false,
         "type": "scatter",
         "x": [
          4000,
          16000,
          64000
         ],
         "xaxis": "x12",
         "y": [
          7.7885,
          6.8826,
          2.3489
         ],
         "yaxis": "y12"
        },
        {
         "hovertemplate": "File=500mb_xml<br>Standard=lz4<br>gpu=A100<br>chunksize_Bytes=%{x}<br>decompression_throughput_GBps=%{y}<extra></extra>",
         "legendgroup": "500mb_xml",
         "line": {
          "color": "#B6E880",
          "dash": "solid"
         },
         "marker": {
          "symbol": "circle"
         },
         "mode": "lines+markers",
         "name": "500mb_xml",
         "orientation": "v",
         "showlegend": false,
         "type": "scatter",
         "x": [
          4000,
          16000,
          64000,
          256000,
          1024000,
          4096000,
          16384000,
          65536000
         ],
         "xaxis": "x7",
         "y": [
          19.2598,
          5.7306,
          1.5028,
          0.3853,
          0.1286,
          0.0484,
          0.0332,
          0.0332
         ],
         "yaxis": "y7"
        },
        {
         "hovertemplate": "File=500mb_xml<br>Standard=lz4<br>gpu=RTX2080TI<br>chunksize_Bytes=%{x}<br>decompression_throughput_GBps=%{y}<extra></extra>",
         "legendgroup": "500mb_xml",
         "line": {
          "color": "#B6E880",
          "dash": "solid"
         },
         "marker": {
          "symbol": "circle"
         },
         "mode": "lines+markers",
         "name": "500mb_xml",
         "orientation": "v",
         "showlegend": false,
         "type": "scatter",
         "x": [
          4000,
          16000,
          64000,
          256000,
          1024000,
          4096000,
          16384000,
          65536000
         ],
         "xaxis": "x8",
         "y": [
          18.0447,
          6.6021,
          1.7284,
          0.4684,
          0.1577,
          0.0657,
          0.045,
          0.0447
         ],
         "yaxis": "y8"
        },
        {
         "hovertemplate": "File=500mb_xml<br>Standard=snappy<br>gpu=A100<br>chunksize_Bytes=%{x}<br>decompression_throughput_GBps=%{y}<extra></extra>",
         "legendgroup": "500mb_xml",
         "line": {
          "color": "#B6E880",
          "dash": "solid"
         },
         "marker": {
          "symbol": "circle"
         },
         "mode": "lines+markers",
         "name": "500mb_xml",
         "orientation": "v",
         "showlegend": false,
         "type": "scatter",
         "x": [
          4000,
          16000,
          64000,
          256000,
          1024000,
          4096000,
          16384000,
          65536000
         ],
         "xaxis": "x4",
         "y": [
          19.1165,
          5.5377,
          1.623,
          0.4297,
          0.1794,
          0.0719,
          0.0485,
          0.0485
         ],
         "yaxis": "y4"
        },
        {
         "hovertemplate": "File=500mb_xml<br>Standard=snappy<br>gpu=RTX2080TI<br>chunksize_Bytes=%{x}<br>decompression_throughput_GBps=%{y}<extra></extra>",
         "legendgroup": "500mb_xml",
         "line": {
          "color": "#B6E880",
          "dash": "solid"
         },
         "marker": {
          "symbol": "circle"
         },
         "mode": "lines+markers",
         "name": "500mb_xml",
         "orientation": "v",
         "showlegend": false,
         "type": "scatter",
         "x": [
          4000,
          16000,
          64000,
          256000,
          1024000,
          4096000,
          16384000,
          65536000
         ],
         "xaxis": "x5",
         "y": [
          12.399,
          5.4123,
          1.6488,
          0.4446,
          0.2094,
          0.0881,
          0.0579,
          0.0579
         ],
         "yaxis": "y5"
        },
        {
         "hovertemplate": "File=500mb_xml<br>Standard=snappy<br>gpu=RTX3050TI<br>chunksize_Bytes=%{x}<br>decompression_throughput_GBps=%{y}<extra></extra>",
         "legendgroup": "500mb_xml",
         "line": {
          "color": "#B6E880",
          "dash": "solid"
         },
         "marker": {
          "symbol": "circle"
         },
         "mode": "lines+markers",
         "name": "500mb_xml",
         "orientation": "v",
         "showlegend": false,
         "type": "scatter",
         "x": [
          4000,
          16000,
          64000,
          256000,
          1024000,
          4096000,
          16384000,
          65536000
         ],
         "xaxis": "x6",
         "y": [
          5.9517,
          4.6877,
          1.5919,
          0.4315,
          0.205,
          0.0854,
          0.0566,
          0.0566
         ],
         "yaxis": "y6"
        },
        {
         "hovertemplate": "File=500mb_xml<br>Standard=zstd<br>gpu=A100<br>chunksize_Bytes=%{x}<br>decompression_throughput_GBps=%{y}<extra></extra>",
         "legendgroup": "500mb_xml",
         "line": {
          "color": "#B6E880",
          "dash": "solid"
         },
         "marker": {
          "symbol": "circle"
         },
         "mode": "lines+markers",
         "name": "500mb_xml",
         "orientation": "v",
         "showlegend": false,
         "type": "scatter",
         "x": [
          4000,
          16000,
          64000,
          256000,
          1024000,
          4096000,
          16384000,
          65536000
         ],
         "xaxis": "x",
         "y": [
          5.3067,
          3.1653,
          0.9502,
          0.5366,
          0.1876,
          0.0658,
          0.0468,
          0.0468
         ],
         "yaxis": "y"
        },
        {
         "hovertemplate": "File=500mb_xml<br>Standard=zstd<br>gpu=RTX2080TI<br>chunksize_Bytes=%{x}<br>decompression_throughput_GBps=%{y}<extra></extra>",
         "legendgroup": "500mb_xml",
         "line": {
          "color": "#B6E880",
          "dash": "solid"
         },
         "marker": {
          "symbol": "circle"
         },
         "mode": "lines+markers",
         "name": "500mb_xml",
         "orientation": "v",
         "showlegend": false,
         "type": "scatter",
         "x": [
          4000,
          16000,
          64000,
          256000,
          1024000,
          4096000,
          16384000,
          65536000
         ],
         "xaxis": "x2",
         "y": [
          4.8811,
          2.5169,
          0.7319,
          0.4231,
          0.165,
          0.0784,
          0.0557,
          0.0554
         ],
         "yaxis": "y2"
        },
        {
         "hovertemplate": "File=500mb_xml<br>Standard=zstd<br>gpu=RTX3050TI<br>chunksize_Bytes=%{x}<br>decompression_throughput_GBps=%{y}<extra></extra>",
         "legendgroup": "500mb_xml",
         "line": {
          "color": "#B6E880",
          "dash": "solid"
         },
         "marker": {
          "symbol": "circle"
         },
         "mode": "lines+markers",
         "name": "500mb_xml",
         "orientation": "v",
         "showlegend": false,
         "type": "scatter",
         "x": [
          4000,
          16000,
          64000,
          256000,
          1024000,
          4096000,
          16384000,
          65536000
         ],
         "xaxis": "x3",
         "y": [
          2.9604,
          3.0039,
          0.963,
          0.4522,
          0.205,
          0.077,
          0.055,
          0.055
         ],
         "yaxis": "y3"
        },
        {
         "hovertemplate": "File=500mb_silesia.zip<br>Standard=bitcomp<br>gpu=RTX2080TI<br>chunksize_Bytes=%{x}<br>decompression_throughput_GBps=%{y}<extra></extra>",
         "legendgroup": "500mb_silesia.zip",
         "line": {
          "color": "#FF97FF",
          "dash": "solid"
         },
         "marker": {
          "symbol": "circle"
         },
         "mode": "lines+markers",
         "name": "500mb_silesia.zip",
         "orientation": "v",
         "showlegend": true,
         "type": "scatter",
         "x": [
          4000,
          16000,
          64000,
          256000,
          1024000,
          4096000,
          16384000,
          65536000
         ],
         "xaxis": "x17",
         "y": [
          52.488,
          98.6475,
          159.7129,
          162.1297,
          102.3801,
          34.222,
          10.3595,
          2.704
         ],
         "yaxis": "y17"
        },
        {
         "hovertemplate": "File=500mb_silesia.zip<br>Standard=gdeflate<br>gpu=RTX2080TI<br>chunksize_Bytes=%{x}<br>decompression_throughput_GBps=%{y}<extra></extra>",
         "legendgroup": "500mb_silesia.zip",
         "line": {
          "color": "#FF97FF",
          "dash": "solid"
         },
         "marker": {
          "symbol": "circle"
         },
         "mode": "lines+markers",
         "name": "500mb_silesia.zip",
         "orientation": "v",
         "showlegend": false,
         "type": "scatter",
         "x": [
          4000,
          16000,
          64000
         ],
         "xaxis": "x11",
         "y": [
          31.3071,
          32.6559,
          19.8915
         ],
         "yaxis": "y11"
        },
        {
         "hovertemplate": "File=500mb_silesia.zip<br>Standard=lz4<br>gpu=RTX2080TI<br>chunksize_Bytes=%{x}<br>decompression_throughput_GBps=%{y}<extra></extra>",
         "legendgroup": "500mb_silesia.zip",
         "line": {
          "color": "#FF97FF",
          "dash": "solid"
         },
         "marker": {
          "symbol": "circle"
         },
         "mode": "lines+markers",
         "name": "500mb_silesia.zip",
         "orientation": "v",
         "showlegend": false,
         "type": "scatter",
         "x": [
          4000,
          16000,
          64000,
          256000,
          1024000,
          4096000,
          16384000
         ],
         "xaxis": "x8",
         "y": [
          131.1538,
          66.1014,
          35.3189,
          16.8404,
          11.417,
          4.3129,
          1.3884
         ],
         "yaxis": "y8"
        },
        {
         "hovertemplate": "File=500mb_silesia.zip<br>Standard=snappy<br>gpu=RTX2080TI<br>chunksize_Bytes=%{x}<br>decompression_throughput_GBps=%{y}<extra></extra>",
         "legendgroup": "500mb_silesia.zip",
         "line": {
          "color": "#FF97FF",
          "dash": "solid"
         },
         "marker": {
          "symbol": "circle"
         },
         "mode": "lines+markers",
         "name": "500mb_silesia.zip",
         "orientation": "v",
         "showlegend": false,
         "type": "scatter",
         "x": [
          4000,
          16000,
          64000,
          256000,
          1024000,
          4096000,
          16384000,
          65536000
         ],
         "xaxis": "x5",
         "y": [
          80.347,
          46.9124,
          27.3962,
          15.0934,
          8.4862,
          3.665,
          1.1227,
          0.2925
         ],
         "yaxis": "y5"
        },
        {
         "hovertemplate": "File=500mb_silesia.zip<br>Standard=zstd<br>gpu=RTX2080TI<br>chunksize_Bytes=%{x}<br>decompression_throughput_GBps=%{y}<extra></extra>",
         "legendgroup": "500mb_silesia.zip",
         "line": {
          "color": "#FF97FF",
          "dash": "solid"
         },
         "marker": {
          "symbol": "circle"
         },
         "mode": "lines+markers",
         "name": "500mb_silesia.zip",
         "orientation": "v",
         "showlegend": false,
         "type": "scatter",
         "x": [
          4000,
          16000,
          64000
         ],
         "xaxis": "x2",
         "y": [
          47.3668,
          30.0801,
          9.7536
         ],
         "yaxis": "y2"
        }
       ],
       "layout": {
        "annotations": [
         {
          "font": {},
          "showarrow": false,
          "text": "gpu=A100",
          "x": 0.14666666666666667,
          "xanchor": "center",
          "xref": "paper",
          "y": 1,
          "yanchor": "bottom",
          "yref": "paper"
         },
         {
          "font": {},
          "showarrow": false,
          "text": "gpu=RTX2080TI",
          "x": 0.49,
          "xanchor": "center",
          "xref": "paper",
          "y": 1,
          "yanchor": "bottom",
          "yref": "paper"
         },
         {
          "font": {},
          "showarrow": false,
          "text": "gpu=RTX3050TI",
          "x": 0.8333333333333333,
          "xanchor": "center",
          "xref": "paper",
          "y": 1,
          "yanchor": "bottom",
          "yref": "paper"
         },
         {
          "font": {},
          "showarrow": false,
          "text": "Standard=zstd",
          "textangle": 90,
          "x": 0.98,
          "xanchor": "left",
          "xref": "paper",
          "y": 0.07083333333333333,
          "yanchor": "middle",
          "yref": "paper"
         },
         {
          "font": {},
          "showarrow": false,
          "text": "Standard=snappy",
          "textangle": 90,
          "x": 0.98,
          "xanchor": "left",
          "xref": "paper",
          "y": 0.2425,
          "yanchor": "middle",
          "yref": "paper"
         },
         {
          "font": {},
          "showarrow": false,
          "text": "Standard=lz4",
          "textangle": 90,
          "x": 0.98,
          "xanchor": "left",
          "xref": "paper",
          "y": 0.4141666666666667,
          "yanchor": "middle",
          "yref": "paper"
         },
         {
          "font": {},
          "showarrow": false,
          "text": "Standard=gdeflate",
          "textangle": 90,
          "x": 0.98,
          "xanchor": "left",
          "xref": "paper",
          "y": 0.5858333333333334,
          "yanchor": "middle",
          "yref": "paper"
         },
         {
          "font": {},
          "showarrow": false,
          "text": "Standard=cascaded",
          "textangle": 90,
          "x": 0.98,
          "xanchor": "left",
          "xref": "paper",
          "y": 0.7575000000000001,
          "yanchor": "middle",
          "yref": "paper"
         },
         {
          "font": {},
          "showarrow": false,
          "text": "Standard=bitcomp",
          "textangle": 90,
          "x": 0.98,
          "xanchor": "left",
          "xref": "paper",
          "y": 0.9291666666666667,
          "yanchor": "middle",
          "yref": "paper"
         }
        ],
        "height": 1000,
        "legend": {
         "title": {
          "text": "File"
         },
         "tracegroupgap": 0
        },
        "template": {
         "data": {
          "bar": [
           {
            "error_x": {
             "color": "#2a3f5f"
            },
            "error_y": {
             "color": "#2a3f5f"
            },
            "marker": {
             "line": {
              "color": "#E5ECF6",
              "width": 0.5
             },
             "pattern": {
              "fillmode": "overlay",
              "size": 10,
              "solidity": 0.2
             }
            },
            "type": "bar"
           }
          ],
          "barpolar": [
           {
            "marker": {
             "line": {
              "color": "#E5ECF6",
              "width": 0.5
             },
             "pattern": {
              "fillmode": "overlay",
              "size": 10,
              "solidity": 0.2
             }
            },
            "type": "barpolar"
           }
          ],
          "carpet": [
           {
            "aaxis": {
             "endlinecolor": "#2a3f5f",
             "gridcolor": "white",
             "linecolor": "white",
             "minorgridcolor": "white",
             "startlinecolor": "#2a3f5f"
            },
            "baxis": {
             "endlinecolor": "#2a3f5f",
             "gridcolor": "white",
             "linecolor": "white",
             "minorgridcolor": "white",
             "startlinecolor": "#2a3f5f"
            },
            "type": "carpet"
           }
          ],
          "choropleth": [
           {
            "colorbar": {
             "outlinewidth": 0,
             "ticks": ""
            },
            "type": "choropleth"
           }
          ],
          "contour": [
           {
            "colorbar": {
             "outlinewidth": 0,
             "ticks": ""
            },
            "colorscale": [
             [
              0,
              "#0d0887"
             ],
             [
              0.1111111111111111,
              "#46039f"
             ],
             [
              0.2222222222222222,
              "#7201a8"
             ],
             [
              0.3333333333333333,
              "#9c179e"
             ],
             [
              0.4444444444444444,
              "#bd3786"
             ],
             [
              0.5555555555555556,
              "#d8576b"
             ],
             [
              0.6666666666666666,
              "#ed7953"
             ],
             [
              0.7777777777777778,
              "#fb9f3a"
             ],
             [
              0.8888888888888888,
              "#fdca26"
             ],
             [
              1,
              "#f0f921"
             ]
            ],
            "type": "contour"
           }
          ],
          "contourcarpet": [
           {
            "colorbar": {
             "outlinewidth": 0,
             "ticks": ""
            },
            "type": "contourcarpet"
           }
          ],
          "heatmap": [
           {
            "colorbar": {
             "outlinewidth": 0,
             "ticks": ""
            },
            "colorscale": [
             [
              0,
              "#0d0887"
             ],
             [
              0.1111111111111111,
              "#46039f"
             ],
             [
              0.2222222222222222,
              "#7201a8"
             ],
             [
              0.3333333333333333,
              "#9c179e"
             ],
             [
              0.4444444444444444,
              "#bd3786"
             ],
             [
              0.5555555555555556,
              "#d8576b"
             ],
             [
              0.6666666666666666,
              "#ed7953"
             ],
             [
              0.7777777777777778,
              "#fb9f3a"
             ],
             [
              0.8888888888888888,
              "#fdca26"
             ],
             [
              1,
              "#f0f921"
             ]
            ],
            "type": "heatmap"
           }
          ],
          "heatmapgl": [
           {
            "colorbar": {
             "outlinewidth": 0,
             "ticks": ""
            },
            "colorscale": [
             [
              0,
              "#0d0887"
             ],
             [
              0.1111111111111111,
              "#46039f"
             ],
             [
              0.2222222222222222,
              "#7201a8"
             ],
             [
              0.3333333333333333,
              "#9c179e"
             ],
             [
              0.4444444444444444,
              "#bd3786"
             ],
             [
              0.5555555555555556,
              "#d8576b"
             ],
             [
              0.6666666666666666,
              "#ed7953"
             ],
             [
              0.7777777777777778,
              "#fb9f3a"
             ],
             [
              0.8888888888888888,
              "#fdca26"
             ],
             [
              1,
              "#f0f921"
             ]
            ],
            "type": "heatmapgl"
           }
          ],
          "histogram": [
           {
            "marker": {
             "pattern": {
              "fillmode": "overlay",
              "size": 10,
              "solidity": 0.2
             }
            },
            "type": "histogram"
           }
          ],
          "histogram2d": [
           {
            "colorbar": {
             "outlinewidth": 0,
             "ticks": ""
            },
            "colorscale": [
             [
              0,
              "#0d0887"
             ],
             [
              0.1111111111111111,
              "#46039f"
             ],
             [
              0.2222222222222222,
              "#7201a8"
             ],
             [
              0.3333333333333333,
              "#9c179e"
             ],
             [
              0.4444444444444444,
              "#bd3786"
             ],
             [
              0.5555555555555556,
              "#d8576b"
             ],
             [
              0.6666666666666666,
              "#ed7953"
             ],
             [
              0.7777777777777778,
              "#fb9f3a"
             ],
             [
              0.8888888888888888,
              "#fdca26"
             ],
             [
              1,
              "#f0f921"
             ]
            ],
            "type": "histogram2d"
           }
          ],
          "histogram2dcontour": [
           {
            "colorbar": {
             "outlinewidth": 0,
             "ticks": ""
            },
            "colorscale": [
             [
              0,
              "#0d0887"
             ],
             [
              0.1111111111111111,
              "#46039f"
             ],
             [
              0.2222222222222222,
              "#7201a8"
             ],
             [
              0.3333333333333333,
              "#9c179e"
             ],
             [
              0.4444444444444444,
              "#bd3786"
             ],
             [
              0.5555555555555556,
              "#d8576b"
             ],
             [
              0.6666666666666666,
              "#ed7953"
             ],
             [
              0.7777777777777778,
              "#fb9f3a"
             ],
             [
              0.8888888888888888,
              "#fdca26"
             ],
             [
              1,
              "#f0f921"
             ]
            ],
            "type": "histogram2dcontour"
           }
          ],
          "mesh3d": [
           {
            "colorbar": {
             "outlinewidth": 0,
             "ticks": ""
            },
            "type": "mesh3d"
           }
          ],
          "parcoords": [
           {
            "line": {
             "colorbar": {
              "outlinewidth": 0,
              "ticks": ""
             }
            },
            "type": "parcoords"
           }
          ],
          "pie": [
           {
            "automargin": true,
            "type": "pie"
           }
          ],
          "scatter": [
           {
            "fillpattern": {
             "fillmode": "overlay",
             "size": 10,
             "solidity": 0.2
            },
            "type": "scatter"
           }
          ],
          "scatter3d": [
           {
            "line": {
             "colorbar": {
              "outlinewidth": 0,
              "ticks": ""
             }
            },
            "marker": {
             "colorbar": {
              "outlinewidth": 0,
              "ticks": ""
             }
            },
            "type": "scatter3d"
           }
          ],
          "scattercarpet": [
           {
            "marker": {
             "colorbar": {
              "outlinewidth": 0,
              "ticks": ""
             }
            },
            "type": "scattercarpet"
           }
          ],
          "scattergeo": [
           {
            "marker": {
             "colorbar": {
              "outlinewidth": 0,
              "ticks": ""
             }
            },
            "type": "scattergeo"
           }
          ],
          "scattergl": [
           {
            "marker": {
             "colorbar": {
              "outlinewidth": 0,
              "ticks": ""
             }
            },
            "type": "scattergl"
           }
          ],
          "scattermapbox": [
           {
            "marker": {
             "colorbar": {
              "outlinewidth": 0,
              "ticks": ""
             }
            },
            "type": "scattermapbox"
           }
          ],
          "scatterpolar": [
           {
            "marker": {
             "colorbar": {
              "outlinewidth": 0,
              "ticks": ""
             }
            },
            "type": "scatterpolar"
           }
          ],
          "scatterpolargl": [
           {
            "marker": {
             "colorbar": {
              "outlinewidth": 0,
              "ticks": ""
             }
            },
            "type": "scatterpolargl"
           }
          ],
          "scatterternary": [
           {
            "marker": {
             "colorbar": {
              "outlinewidth": 0,
              "ticks": ""
             }
            },
            "type": "scatterternary"
           }
          ],
          "surface": [
           {
            "colorbar": {
             "outlinewidth": 0,
             "ticks": ""
            },
            "colorscale": [
             [
              0,
              "#0d0887"
             ],
             [
              0.1111111111111111,
              "#46039f"
             ],
             [
              0.2222222222222222,
              "#7201a8"
             ],
             [
              0.3333333333333333,
              "#9c179e"
             ],
             [
              0.4444444444444444,
              "#bd3786"
             ],
             [
              0.5555555555555556,
              "#d8576b"
             ],
             [
              0.6666666666666666,
              "#ed7953"
             ],
             [
              0.7777777777777778,
              "#fb9f3a"
             ],
             [
              0.8888888888888888,
              "#fdca26"
             ],
             [
              1,
              "#f0f921"
             ]
            ],
            "type": "surface"
           }
          ],
          "table": [
           {
            "cells": {
             "fill": {
              "color": "#EBF0F8"
             },
             "line": {
              "color": "white"
             }
            },
            "header": {
             "fill": {
              "color": "#C8D4E3"
             },
             "line": {
              "color": "white"
             }
            },
            "type": "table"
           }
          ]
         },
         "layout": {
          "annotationdefaults": {
           "arrowcolor": "#2a3f5f",
           "arrowhead": 0,
           "arrowwidth": 1
          },
          "autotypenumbers": "strict",
          "coloraxis": {
           "colorbar": {
            "outlinewidth": 0,
            "ticks": ""
           }
          },
          "colorscale": {
           "diverging": [
            [
             0,
             "#8e0152"
            ],
            [
             0.1,
             "#c51b7d"
            ],
            [
             0.2,
             "#de77ae"
            ],
            [
             0.3,
             "#f1b6da"
            ],
            [
             0.4,
             "#fde0ef"
            ],
            [
             0.5,
             "#f7f7f7"
            ],
            [
             0.6,
             "#e6f5d0"
            ],
            [
             0.7,
             "#b8e186"
            ],
            [
             0.8,
             "#7fbc41"
            ],
            [
             0.9,
             "#4d9221"
            ],
            [
             1,
             "#276419"
            ]
           ],
           "sequential": [
            [
             0,
             "#0d0887"
            ],
            [
             0.1111111111111111,
             "#46039f"
            ],
            [
             0.2222222222222222,
             "#7201a8"
            ],
            [
             0.3333333333333333,
             "#9c179e"
            ],
            [
             0.4444444444444444,
             "#bd3786"
            ],
            [
             0.5555555555555556,
             "#d8576b"
            ],
            [
             0.6666666666666666,
             "#ed7953"
            ],
            [
             0.7777777777777778,
             "#fb9f3a"
            ],
            [
             0.8888888888888888,
             "#fdca26"
            ],
            [
             1,
             "#f0f921"
            ]
           ],
           "sequentialminus": [
            [
             0,
             "#0d0887"
            ],
            [
             0.1111111111111111,
             "#46039f"
            ],
            [
             0.2222222222222222,
             "#7201a8"
            ],
            [
             0.3333333333333333,
             "#9c179e"
            ],
            [
             0.4444444444444444,
             "#bd3786"
            ],
            [
             0.5555555555555556,
             "#d8576b"
            ],
            [
             0.6666666666666666,
             "#ed7953"
            ],
            [
             0.7777777777777778,
             "#fb9f3a"
            ],
            [
             0.8888888888888888,
             "#fdca26"
            ],
            [
             1,
             "#f0f921"
            ]
           ]
          },
          "colorway": [
           "#636efa",
           "#EF553B",
           "#00cc96",
           "#ab63fa",
           "#FFA15A",
           "#19d3f3",
           "#FF6692",
           "#B6E880",
           "#FF97FF",
           "#FECB52"
          ],
          "font": {
           "color": "#2a3f5f"
          },
          "geo": {
           "bgcolor": "white",
           "lakecolor": "white",
           "landcolor": "#E5ECF6",
           "showlakes": true,
           "showland": true,
           "subunitcolor": "white"
          },
          "hoverlabel": {
           "align": "left"
          },
          "hovermode": "closest",
          "mapbox": {
           "style": "light"
          },
          "paper_bgcolor": "white",
          "plot_bgcolor": "#E5ECF6",
          "polar": {
           "angularaxis": {
            "gridcolor": "white",
            "linecolor": "white",
            "ticks": ""
           },
           "bgcolor": "#E5ECF6",
           "radialaxis": {
            "gridcolor": "white",
            "linecolor": "white",
            "ticks": ""
           }
          },
          "scene": {
           "xaxis": {
            "backgroundcolor": "#E5ECF6",
            "gridcolor": "white",
            "gridwidth": 2,
            "linecolor": "white",
            "showbackground": true,
            "ticks": "",
            "zerolinecolor": "white"
           },
           "yaxis": {
            "backgroundcolor": "#E5ECF6",
            "gridcolor": "white",
            "gridwidth": 2,
            "linecolor": "white",
            "showbackground": true,
            "ticks": "",
            "zerolinecolor": "white"
           },
           "zaxis": {
            "backgroundcolor": "#E5ECF6",
            "gridcolor": "white",
            "gridwidth": 2,
            "linecolor": "white",
            "showbackground": true,
            "ticks": "",
            "zerolinecolor": "white"
           }
          },
          "shapedefaults": {
           "line": {
            "color": "#2a3f5f"
           }
          },
          "ternary": {
           "aaxis": {
            "gridcolor": "white",
            "linecolor": "white",
            "ticks": ""
           },
           "baxis": {
            "gridcolor": "white",
            "linecolor": "white",
            "ticks": ""
           },
           "bgcolor": "#E5ECF6",
           "caxis": {
            "gridcolor": "white",
            "linecolor": "white",
            "ticks": ""
           }
          },
          "title": {
           "x": 0.05
          },
          "xaxis": {
           "automargin": true,
           "gridcolor": "white",
           "linecolor": "white",
           "ticks": "",
           "title": {
            "standoff": 15
           },
           "zerolinecolor": "white",
           "zerolinewidth": 2
          },
          "yaxis": {
           "automargin": true,
           "gridcolor": "white",
           "linecolor": "white",
           "ticks": "",
           "title": {
            "standoff": 15
           },
           "zerolinecolor": "white",
           "zerolinewidth": 2
          }
         }
        },
        "title": {
         "text": "Decompression throughput"
        },
        "width": 1200,
        "xaxis": {
         "anchor": "y",
         "domain": [
          0,
          0.29333333333333333
         ],
         "title": {
          "text": "Chunk size"
         },
         "type": "log"
        },
        "xaxis10": {
         "anchor": "y10",
         "domain": [
          0,
          0.29333333333333333
         ],
         "matches": "x",
         "showticklabels": false,
         "type": "log"
        },
        "xaxis11": {
         "anchor": "y11",
         "domain": [
          0.3433333333333333,
          0.6366666666666667
         ],
         "matches": "x",
         "showticklabels": false,
         "type": "log"
        },
        "xaxis12": {
         "anchor": "y12",
         "domain": [
          0.6866666666666666,
          0.98
         ],
         "matches": "x",
         "showticklabels": false,
         "type": "log"
        },
        "xaxis13": {
         "anchor": "y13",
         "domain": [
          0,
          0.29333333333333333
         ],
         "matches": "x",
         "showticklabels": false,
         "type": "log"
        },
        "xaxis14": {
         "anchor": "y14",
         "domain": [
          0.3433333333333333,
          0.6366666666666667
         ],
         "matches": "x",
         "showticklabels": false,
         "type": "log"
        },
        "xaxis15": {
         "anchor": "y15",
         "domain": [
          0.6866666666666666,
          0.98
         ],
         "matches": "x",
         "showticklabels": false,
         "type": "log"
        },
        "xaxis16": {
         "anchor": "y16",
         "domain": [
          0,
          0.29333333333333333
         ],
         "matches": "x",
         "showticklabels": false,
         "type": "log"
        },
        "xaxis17": {
         "anchor": "y17",
         "domain": [
          0.3433333333333333,
          0.6366666666666667
         ],
         "matches": "x",
         "showticklabels": false,
         "type": "log"
        },
        "xaxis18": {
         "anchor": "y18",
         "domain": [
          0.6866666666666666,
          0.98
         ],
         "matches": "x",
         "showticklabels": false,
         "type": "log"
        },
        "xaxis2": {
         "anchor": "y2",
         "domain": [
          0.3433333333333333,
          0.6366666666666667
         ],
         "matches": "x",
         "title": {
          "text": "Chunk size"
         },
         "type": "log"
        },
        "xaxis3": {
         "anchor": "y3",
         "domain": [
          0.6866666666666666,
          0.98
         ],
         "matches": "x",
         "title": {
          "text": "Chunk size"
         },
         "type": "log"
        },
        "xaxis4": {
         "anchor": "y4",
         "domain": [
          0,
          0.29333333333333333
         ],
         "matches": "x",
         "showticklabels": false,
         "type": "log"
        },
        "xaxis5": {
         "anchor": "y5",
         "domain": [
          0.3433333333333333,
          0.6366666666666667
         ],
         "matches": "x",
         "showticklabels": false,
         "type": "log"
        },
        "xaxis6": {
         "anchor": "y6",
         "domain": [
          0.6866666666666666,
          0.98
         ],
         "matches": "x",
         "showticklabels": false,
         "type": "log"
        },
        "xaxis7": {
         "anchor": "y7",
         "domain": [
          0,
          0.29333333333333333
         ],
         "matches": "x",
         "showticklabels": false,
         "type": "log"
        },
        "xaxis8": {
         "anchor": "y8",
         "domain": [
          0.3433333333333333,
          0.6366666666666667
         ],
         "matches": "x",
         "showticklabels": false,
         "type": "log"
        },
        "xaxis9": {
         "anchor": "y9",
         "domain": [
          0.6866666666666666,
          0.98
         ],
         "matches": "x",
         "showticklabels": false,
         "type": "log"
        },
        "yaxis": {
         "anchor": "x",
         "domain": [
          0,
          0.14166666666666666
         ],
         "title": {
          "text": ""
         }
        },
        "yaxis10": {
         "anchor": "x10",
         "domain": [
          0.515,
          0.6566666666666667
         ],
         "matches": "y",
         "title": {
          "text": "decompression_throughput_GBps"
         }
        },
        "yaxis11": {
         "anchor": "x11",
         "domain": [
          0.515,
          0.6566666666666667
         ],
         "matches": "y",
         "showticklabels": false
        },
        "yaxis12": {
         "anchor": "x12",
         "domain": [
          0.515,
          0.6566666666666667
         ],
         "matches": "y",
         "showticklabels": false
        },
        "yaxis13": {
         "anchor": "x13",
         "domain": [
          0.6866666666666666,
          0.8283333333333334
         ],
         "matches": "y",
         "title": {
          "text": "decompression_throughput_GBps"
         }
        },
        "yaxis14": {
         "anchor": "x14",
         "domain": [
          0.6866666666666666,
          0.8283333333333334
         ],
         "matches": "y",
         "showticklabels": false
        },
        "yaxis15": {
         "anchor": "x15",
         "domain": [
          0.6866666666666666,
          0.8283333333333334
         ],
         "matches": "y",
         "showticklabels": false
        },
        "yaxis16": {
         "anchor": "x16",
         "domain": [
          0.8583333333333333,
          1
         ],
         "matches": "y",
         "title": {
          "text": "decompression_throughput_GBps"
         }
        },
        "yaxis17": {
         "anchor": "x17",
         "domain": [
          0.8583333333333333,
          1
         ],
         "matches": "y",
         "showticklabels": false
        },
        "yaxis18": {
         "anchor": "x18",
         "domain": [
          0.8583333333333333,
          1
         ],
         "matches": "y",
         "showticklabels": false
        },
        "yaxis2": {
         "anchor": "x2",
         "domain": [
          0,
          0.14166666666666666
         ],
         "matches": "y",
         "showticklabels": false,
         "title": {
          "text": ""
         }
        },
        "yaxis3": {
         "anchor": "x3",
         "domain": [
          0,
          0.14166666666666666
         ],
         "matches": "y",
         "showticklabels": false
        },
        "yaxis4": {
         "anchor": "x4",
         "domain": [
          0.17166666666666666,
          0.31333333333333335
         ],
         "matches": "y",
         "title": {
          "text": "decompression_throughput_GBps"
         }
        },
        "yaxis5": {
         "anchor": "x5",
         "domain": [
          0.17166666666666666,
          0.31333333333333335
         ],
         "matches": "y",
         "showticklabels": false
        },
        "yaxis6": {
         "anchor": "x6",
         "domain": [
          0.17166666666666666,
          0.31333333333333335
         ],
         "matches": "y",
         "showticklabels": false
        },
        "yaxis7": {
         "anchor": "x7",
         "domain": [
          0.3433333333333333,
          0.485
         ],
         "matches": "y",
         "title": {
          "text": "decompression_throughput_GBps"
         }
        },
        "yaxis8": {
         "anchor": "x8",
         "domain": [
          0.3433333333333333,
          0.485
         ],
         "matches": "y",
         "showticklabels": false
        },
        "yaxis9": {
         "anchor": "x9",
         "domain": [
          0.3433333333333333,
          0.485
         ],
         "matches": "y",
         "showticklabels": false
        }
       }
      }
     },
     "metadata": {},
     "output_type": "display_data"
    }
   ],
   "source": [
    "fig_gpus_througphut_decompression = px.line(\n",
    "    all_result_df,\n",
    "    title=f\"Decompression throughput\", \n",
    "    x=\"chunksize_Bytes\",\n",
    "    y=\"decompression_throughput_GBps\",\n",
    "    color=\"File\",\n",
    "    log_x=True,\n",
    "    markers=True,\n",
    "    # log_y=True,\n",
    "    facet_col='gpu',\n",
    "    facet_row='Standard',\n",
    "    facet_col_spacing=0.05,\n",
    "    width=1200,\n",
    "    height=1000,\n",
    ")\n",
    "# fig_gpus_througphut_decompression.update_xaxes(autorange=\"reversed\")\n",
    "# fig_gpus_througphut_decompression.update_xaxes(dict(\n",
    "#         tickmode = 'array',\n",
    "#         tickvals = alldf['chunksize_Bytes'],\n",
    "#         ticktext = alldf['chunksize_Bytes_formatted'],\n",
    "#         tickangle=45,\n",
    "#     )\n",
    "# )\n",
    "fig_gpus_througphut_decompression.update_layout(\n",
    "    yaxis_title=\"\",\n",
    "    yaxis2_title=\"\",\n",
    "    xaxis_title=\"Chunk size\",\n",
    "    xaxis2_title=\"Chunk size\",\n",
    "    xaxis3_title=\"Chunk size\",\n",
    "    # font_size=16,\n",
    ")\n",
    "\n",
    "fig_gpus_througphut_decompression.show()"
   ]
  },
  {
   "cell_type": "code",
   "execution_count": 56,
   "metadata": {},
   "outputs": [
    {
     "data": {
      "application/vnd.plotly.v1+json": {
       "config": {
        "plotlyServerURL": "https://plot.ly"
       },
       "data": [
        {
         "hovertemplate": "File=500mb_dickens<br>Standard=bitcomp<br>gpu=A100<br>chunksize_Bytes=%{x}<br>decompression_throughput_GBps=%{y}<extra></extra>",
         "legendgroup": "500mb_dickens",
         "line": {
          "color": "#636efa",
          "dash": "solid"
         },
         "marker": {
          "symbol": "circle"
         },
         "mode": "lines+markers",
         "name": "500mb_dickens",
         "orientation": "v",
         "showlegend": true,
         "type": "scatter",
         "x": [
          4000,
          16000,
          64000,
          256000,
          1024000,
          4096000,
          16384000,
          65536000
         ],
         "xaxis": "x16",
         "y": [
          66.7744,
          74.7685,
          46.6345,
          16.7542,
          4.709,
          1.2679,
          0.51,
          0.5099
         ],
         "yaxis": "y16"
        },
        {
         "hovertemplate": "File=500mb_dickens<br>Standard=bitcomp<br>gpu=RTX2080TI<br>chunksize_Bytes=%{x}<br>decompression_throughput_GBps=%{y}<extra></extra>",
         "legendgroup": "500mb_dickens",
         "line": {
          "color": "#636efa",
          "dash": "solid"
         },
         "marker": {
          "symbol": "circle"
         },
         "mode": "lines+markers",
         "name": "500mb_dickens",
         "orientation": "v",
         "showlegend": false,
         "type": "scatter",
         "x": [
          4000,
          16000,
          64000,
          256000,
          1024000,
          4096000,
          16384000,
          65536000
         ],
         "xaxis": "x17",
         "y": [
          42.2656,
          52.8303,
          51.5562,
          19.2038,
          5.4636,
          1.4724,
          0.5986,
          0.5927
         ],
         "yaxis": "y17"
        },
        {
         "hovertemplate": "File=500mb_dickens<br>Standard=bitcomp<br>gpu=RTX3050TI<br>chunksize_Bytes=%{x}<br>decompression_throughput_GBps=%{y}<extra></extra>",
         "legendgroup": "500mb_dickens",
         "line": {
          "color": "#636efa",
          "dash": "solid"
         },
         "marker": {
          "symbol": "circle"
         },
         "mode": "lines+markers",
         "name": "500mb_dickens",
         "orientation": "v",
         "showlegend": false,
         "type": "scatter",
         "x": [
          4000,
          16000,
          64000,
          256000,
          1024000,
          4096000,
          16384000,
          65536000
         ],
         "xaxis": "x18",
         "y": [
          26.2389,
          32.0953,
          28.4311,
          17.6619,
          4.9941,
          1.305,
          0.529,
          0.529
         ],
         "yaxis": "y18"
        },
        {
         "hovertemplate": "File=500mb_dickens<br>Standard=gdeflate<br>gpu=A100<br>chunksize_Bytes=%{x}<br>decompression_throughput_GBps=%{y}<extra></extra>",
         "legendgroup": "500mb_dickens",
         "line": {
          "color": "#636efa",
          "dash": "solid"
         },
         "marker": {
          "symbol": "circle"
         },
         "mode": "lines+markers",
         "name": "500mb_dickens",
         "orientation": "v",
         "showlegend": false,
         "type": "scatter",
         "x": [
          4000,
          16000,
          64000
         ],
         "xaxis": "x10",
         "y": [
          30.1995,
          13.3387,
          3.9559
         ],
         "yaxis": "y10"
        },
        {
         "hovertemplate": "File=500mb_dickens<br>Standard=gdeflate<br>gpu=RTX2080TI<br>chunksize_Bytes=%{x}<br>decompression_throughput_GBps=%{y}<extra></extra>",
         "legendgroup": "500mb_dickens",
         "line": {
          "color": "#636efa",
          "dash": "solid"
         },
         "marker": {
          "symbol": "circle"
         },
         "mode": "lines+markers",
         "name": "500mb_dickens",
         "orientation": "v",
         "showlegend": false,
         "type": "scatter",
         "x": [
          4000,
          16000,
          64000
         ],
         "xaxis": "x11",
         "y": [
          17.9434,
          12.4264,
          4.2846
         ],
         "yaxis": "y11"
        },
        {
         "hovertemplate": "File=500mb_dickens<br>Standard=gdeflate<br>gpu=RTX3050TI<br>chunksize_Bytes=%{x}<br>decompression_throughput_GBps=%{y}<extra></extra>",
         "legendgroup": "500mb_dickens",
         "line": {
          "color": "#636efa",
          "dash": "solid"
         },
         "marker": {
          "symbol": "circle"
         },
         "mode": "lines+markers",
         "name": "500mb_dickens",
         "orientation": "v",
         "showlegend": false,
         "type": "scatter",
         "x": [
          4000,
          16000,
          64000
         ],
         "xaxis": "x12",
         "y": [
          6.6387,
          5.9843,
          3.4995
         ],
         "yaxis": "y12"
        },
        {
         "hovertemplate": "File=500mb_dickens<br>Standard=lz4<br>gpu=A100<br>chunksize_Bytes=%{x}<br>decompression_throughput_GBps=%{y}<extra></extra>",
         "legendgroup": "500mb_dickens",
         "line": {
          "color": "#636efa",
          "dash": "solid"
         },
         "marker": {
          "symbol": "circle"
         },
         "mode": "lines+markers",
         "name": "500mb_dickens",
         "orientation": "v",
         "showlegend": false,
         "type": "scatter",
         "x": [
          4000,
          16000,
          64000,
          256000,
          1024000,
          4096000,
          16384000,
          65536000
         ],
         "xaxis": "x7",
         "y": [
          28.898,
          9.0353,
          2.2635,
          0.6829,
          0.1717,
          0.0434,
          0.0176,
          0.0176
         ],
         "yaxis": "y7"
        },
        {
         "hovertemplate": "File=500mb_dickens<br>Standard=lz4<br>gpu=RTX2080TI<br>chunksize_Bytes=%{x}<br>decompression_throughput_GBps=%{y}<extra></extra>",
         "legendgroup": "500mb_dickens",
         "line": {
          "color": "#636efa",
          "dash": "solid"
         },
         "marker": {
          "symbol": "circle"
         },
         "mode": "lines+markers",
         "name": "500mb_dickens",
         "orientation": "v",
         "showlegend": false,
         "type": "scatter",
         "x": [
          4000,
          16000,
          64000,
          256000,
          1024000,
          4096000,
          16384000,
          65536000
         ],
         "xaxis": "x8",
         "y": [
          18.6527,
          9.9219,
          2.5947,
          0.706,
          0.2365,
          0.0596,
          0.024,
          0.024
         ],
         "yaxis": "y8"
        },
        {
         "hovertemplate": "File=500mb_dickens<br>Standard=lz4<br>gpu=RTX3050TI<br>chunksize_Bytes=%{x}<br>decompression_throughput_GBps=%{y}<extra></extra>",
         "legendgroup": "500mb_dickens",
         "line": {
          "color": "#636efa",
          "dash": "solid"
         },
         "marker": {
          "symbol": "circle"
         },
         "mode": "lines+markers",
         "name": "500mb_dickens",
         "orientation": "v",
         "showlegend": false,
         "type": "scatter",
         "x": [
          4000,
          16000,
          64000,
          256000,
          1024000,
          4096000,
          16384000,
          65536000
         ],
         "xaxis": "x9",
         "y": [
          7.1328,
          4.3415,
          2.2067,
          0.6878,
          0.2151,
          0.054,
          0.0221,
          0.0221
         ],
         "yaxis": "y9"
        },
        {
         "hovertemplate": "File=500mb_dickens<br>Standard=snappy<br>gpu=A100<br>chunksize_Bytes=%{x}<br>decompression_throughput_GBps=%{y}<extra></extra>",
         "legendgroup": "500mb_dickens",
         "line": {
          "color": "#636efa",
          "dash": "solid"
         },
         "marker": {
          "symbol": "circle"
         },
         "mode": "lines+markers",
         "name": "500mb_dickens",
         "orientation": "v",
         "showlegend": false,
         "type": "scatter",
         "x": [
          4000,
          16000,
          64000,
          256000,
          1024000,
          4096000,
          16384000,
          65536000
         ],
         "xaxis": "x4",
         "y": [
          19.8204,
          7.5073,
          2.0746,
          0.5456,
          0.1682,
          0.0434,
          0.0174,
          0.0174
         ],
         "yaxis": "y4"
        },
        {
         "hovertemplate": "File=500mb_dickens<br>Standard=snappy<br>gpu=RTX2080TI<br>chunksize_Bytes=%{x}<br>decompression_throughput_GBps=%{y}<extra></extra>",
         "legendgroup": "500mb_dickens",
         "line": {
          "color": "#636efa",
          "dash": "solid"
         },
         "marker": {
          "symbol": "circle"
         },
         "mode": "lines+markers",
         "name": "500mb_dickens",
         "orientation": "v",
         "showlegend": false,
         "type": "scatter",
         "x": [
          4000,
          16000,
          64000,
          256000,
          1024000,
          4096000,
          16384000,
          65536000
         ],
         "xaxis": "x5",
         "y": [
          9.996,
          7.1948,
          2.177,
          0.8002,
          0.2004,
          0.0508,
          0.0206,
          0.0205
         ],
         "yaxis": "y5"
        },
        {
         "hovertemplate": "File=500mb_dickens<br>Standard=snappy<br>gpu=RTX3050TI<br>chunksize_Bytes=%{x}<br>decompression_throughput_GBps=%{y}<extra></extra>",
         "legendgroup": "500mb_dickens",
         "line": {
          "color": "#636efa",
          "dash": "solid"
         },
         "marker": {
          "symbol": "circle"
         },
         "mode": "lines+markers",
         "name": "500mb_dickens",
         "orientation": "v",
         "showlegend": false,
         "type": "scatter",
         "x": [
          4000,
          16000,
          64000,
          256000,
          1024000,
          4096000,
          16384000,
          65536000
         ],
         "xaxis": "x6",
         "y": [
          3.555,
          2.9889,
          1.934,
          0.5574,
          0.1992,
          0.0507,
          0.0204,
          0.0204
         ],
         "yaxis": "y6"
        },
        {
         "hovertemplate": "File=500mb_dickens<br>Standard=zstd<br>gpu=A100<br>chunksize_Bytes=%{x}<br>decompression_throughput_GBps=%{y}<extra></extra>",
         "legendgroup": "500mb_dickens",
         "line": {
          "color": "#636efa",
          "dash": "solid"
         },
         "marker": {
          "symbol": "circle"
         },
         "mode": "lines+markers",
         "name": "500mb_dickens",
         "orientation": "v",
         "showlegend": false,
         "type": "scatter",
         "x": [
          4000,
          16000,
          64000,
          256000,
          1024000,
          4096000,
          16384000,
          65536000
         ],
         "xaxis": "x",
         "y": [
          7.8599,
          3.8141,
          1.1618,
          0.6585,
          0.2287,
          0.0721,
          0.0248,
          0.0248
         ],
         "yaxis": "y"
        },
        {
         "hovertemplate": "File=500mb_dickens<br>Standard=zstd<br>gpu=RTX2080TI<br>chunksize_Bytes=%{x}<br>decompression_throughput_GBps=%{y}<extra></extra>",
         "legendgroup": "500mb_dickens",
         "line": {
          "color": "#636efa",
          "dash": "solid"
         },
         "marker": {
          "symbol": "circle"
         },
         "mode": "lines+markers",
         "name": "500mb_dickens",
         "orientation": "v",
         "showlegend": false,
         "type": "scatter",
         "x": [
          4000,
          16000,
          64000,
          256000,
          1024000,
          4096000,
          16384000,
          65536000
         ],
         "xaxis": "x2",
         "y": [
          4.9661,
          3.1154,
          0.8656,
          0.5167,
          0.2063,
          0.0637,
          0.0218,
          0.0218
         ],
         "yaxis": "y2"
        },
        {
         "hovertemplate": "File=500mb_dickens<br>Standard=zstd<br>gpu=RTX3050TI<br>chunksize_Bytes=%{x}<br>decompression_throughput_GBps=%{y}<extra></extra>",
         "legendgroup": "500mb_dickens",
         "line": {
          "color": "#636efa",
          "dash": "solid"
         },
         "marker": {
          "symbol": "circle"
         },
         "mode": "lines+markers",
         "name": "500mb_dickens",
         "orientation": "v",
         "showlegend": false,
         "type": "scatter",
         "x": [
          4000,
          16000,
          64000,
          256000,
          1024000,
          4096000,
          16384000,
          65536000
         ],
         "xaxis": "x3",
         "y": [
          2.9055,
          2.036,
          1.1929,
          0.8157,
          0.2829,
          0.0886,
          0.0313,
          0.0313
         ],
         "yaxis": "y3"
        },
        {
         "hovertemplate": "File=500mb_lineitem.parquet<br>Standard=bitcomp<br>gpu=A100<br>chunksize_Bytes=%{x}<br>decompression_throughput_GBps=%{y}<extra></extra>",
         "legendgroup": "500mb_lineitem.parquet",
         "line": {
          "color": "#EF553B",
          "dash": "solid"
         },
         "marker": {
          "symbol": "circle"
         },
         "mode": "lines+markers",
         "name": "500mb_lineitem.parquet",
         "orientation": "v",
         "showlegend": true,
         "type": "scatter",
         "x": [
          4000,
          16000,
          64000,
          256000,
          1024000,
          4096000,
          16384000,
          65536000
         ],
         "xaxis": "x16",
         "y": [
          133.7087,
          307.9203,
          469.443,
          492.0999,
          382.7333,
          269.7291,
          96.5776,
          36.8936
         ],
         "yaxis": "y16"
        },
        {
         "hovertemplate": "File=500mb_lineitem.parquet<br>Standard=gdeflate<br>gpu=A100<br>chunksize_Bytes=%{x}<br>decompression_throughput_GBps=%{y}<extra></extra>",
         "legendgroup": "500mb_lineitem.parquet",
         "line": {
          "color": "#EF553B",
          "dash": "solid"
         },
         "marker": {
          "symbol": "circle"
         },
         "mode": "lines+markers",
         "name": "500mb_lineitem.parquet",
         "orientation": "v",
         "showlegend": false,
         "type": "scatter",
         "x": [
          4000,
          16000,
          64000
         ],
         "xaxis": "x10",
         "y": [
          37.5992,
          51.0805,
          50.7498
         ],
         "yaxis": "y10"
        },
        {
         "hovertemplate": "File=500mb_lineitem.parquet<br>Standard=lz4<br>gpu=A100<br>chunksize_Bytes=%{x}<br>decompression_throughput_GBps=%{y}<extra></extra>",
         "legendgroup": "500mb_lineitem.parquet",
         "line": {
          "color": "#EF553B",
          "dash": "solid"
         },
         "marker": {
          "symbol": "circle"
         },
         "mode": "lines+markers",
         "name": "500mb_lineitem.parquet",
         "orientation": "v",
         "showlegend": false,
         "type": "scatter",
         "x": [
          4000,
          16000,
          64000,
          256000,
          1024000,
          4096000,
          16384000
         ],
         "xaxis": "x7",
         "y": [
          226.4905,
          217.1746,
          159.081,
          95.0757,
          36.4797,
          14.5072,
          8.8399
         ],
         "yaxis": "y7"
        },
        {
         "hovertemplate": "File=500mb_lineitem.parquet<br>Standard=snappy<br>gpu=A100<br>chunksize_Bytes=%{x}<br>decompression_throughput_GBps=%{y}<extra></extra>",
         "legendgroup": "500mb_lineitem.parquet",
         "line": {
          "color": "#EF553B",
          "dash": "solid"
         },
         "marker": {
          "symbol": "circle"
         },
         "mode": "lines+markers",
         "name": "500mb_lineitem.parquet",
         "orientation": "v",
         "showlegend": false,
         "type": "scatter",
         "x": [
          4000,
          16000,
          64000,
          256000,
          1024000,
          4096000,
          16384000,
          65536000
         ],
         "xaxis": "x4",
         "y": [
          153.1426,
          172.7508,
          146.6002,
          97.0919,
          42.8263,
          17.5144,
          10.9551,
          4.0551
         ],
         "yaxis": "y4"
        },
        {
         "hovertemplate": "File=500mb_mozilla<br>Standard=bitcomp<br>gpu=A100<br>chunksize_Bytes=%{x}<br>decompression_throughput_GBps=%{y}<extra></extra>",
         "legendgroup": "500mb_mozilla",
         "line": {
          "color": "#00cc96",
          "dash": "solid"
         },
         "marker": {
          "symbol": "circle"
         },
         "mode": "lines+markers",
         "name": "500mb_mozilla",
         "orientation": "v",
         "showlegend": true,
         "type": "scatter",
         "x": [
          4000,
          16000,
          64000,
          256000,
          1024000,
          4096000,
          16384000,
          65536000
         ],
         "xaxis": "x16",
         "y": [
          114.3641,
          165.2529,
          147.7559,
          67.5632,
          23.1963,
          6.2504,
          2.1714,
          0.9274
         ],
         "yaxis": "y16"
        },
        {
         "hovertemplate": "File=500mb_mozilla<br>Standard=bitcomp<br>gpu=RTX2080TI<br>chunksize_Bytes=%{x}<br>decompression_throughput_GBps=%{y}<extra></extra>",
         "legendgroup": "500mb_mozilla",
         "line": {
          "color": "#00cc96",
          "dash": "solid"
         },
         "marker": {
          "symbol": "circle"
         },
         "mode": "lines+markers",
         "name": "500mb_mozilla",
         "orientation": "v",
         "showlegend": false,
         "type": "scatter",
         "x": [
          4000,
          16000,
          64000,
          256000,
          1024000,
          4096000,
          16384000,
          65536000
         ],
         "xaxis": "x17",
         "y": [
          60.0345,
          97.2029,
          106.4751,
          76.3518,
          28.343,
          7.7287,
          2.7474,
          1.1564
         ],
         "yaxis": "y17"
        },
        {
         "hovertemplate": "File=500mb_mozilla<br>Standard=bitcomp<br>gpu=RTX3050TI<br>chunksize_Bytes=%{x}<br>decompression_throughput_GBps=%{y}<extra></extra>",
         "legendgroup": "500mb_mozilla",
         "line": {
          "color": "#00cc96",
          "dash": "solid"
         },
         "marker": {
          "symbol": "circle"
         },
         "mode": "lines+markers",
         "name": "500mb_mozilla",
         "orientation": "v",
         "showlegend": false,
         "type": "scatter",
         "x": [
          4000,
          16000,
          64000,
          256000,
          1024000,
          4096000,
          16384000,
          65536000
         ],
         "xaxis": "x18",
         "y": [
          26.2086,
          47.2235,
          54.8127,
          48.1917,
          24.2048,
          6.8386,
          2.4035,
          1.1521
         ],
         "yaxis": "y18"
        },
        {
         "hovertemplate": "File=500mb_mozilla<br>Standard=cascaded<br>gpu=A100<br>chunksize_Bytes=%{x}<br>decompression_throughput_GBps=%{y}<extra></extra>",
         "legendgroup": "500mb_mozilla",
         "line": {
          "color": "#00cc96",
          "dash": "solid"
         },
         "marker": {
          "symbol": "circle"
         },
         "mode": "lines+markers",
         "name": "500mb_mozilla",
         "orientation": "v",
         "showlegend": false,
         "type": "scatter",
         "x": [
          4000,
          16000,
          64000,
          256000,
          1024000,
          4096000,
          16384000,
          65536000
         ],
         "xaxis": "x13",
         "y": [
          194.3704,
          187.5384,
          118.3205,
          35.7326,
          9.4058,
          2.3534,
          0.735,
          0.2305
         ],
         "yaxis": "y13"
        },
        {
         "hovertemplate": "File=500mb_mozilla<br>Standard=cascaded<br>gpu=RTX2080TI<br>chunksize_Bytes=%{x}<br>decompression_throughput_GBps=%{y}<extra></extra>",
         "legendgroup": "500mb_mozilla",
         "line": {
          "color": "#00cc96",
          "dash": "solid"
         },
         "marker": {
          "symbol": "circle"
         },
         "mode": "lines+markers",
         "name": "500mb_mozilla",
         "orientation": "v",
         "showlegend": false,
         "type": "scatter",
         "x": [
          4000,
          16000,
          64000,
          256000,
          1024000,
          4096000,
          16384000,
          65536000
         ],
         "xaxis": "x14",
         "y": [
          97.2738,
          102.3296,
          74.3515,
          39.1297,
          10.8287,
          2.7571,
          0.9536,
          0.2974
         ],
         "yaxis": "y14"
        },
        {
         "hovertemplate": "File=500mb_mozilla<br>Standard=cascaded<br>gpu=RTX3050TI<br>chunksize_Bytes=%{x}<br>decompression_throughput_GBps=%{y}<extra></extra>",
         "legendgroup": "500mb_mozilla",
         "line": {
          "color": "#00cc96",
          "dash": "solid"
         },
         "marker": {
          "symbol": "circle"
         },
         "mode": "lines+markers",
         "name": "500mb_mozilla",
         "orientation": "v",
         "showlegend": false,
         "type": "scatter",
         "x": [
          4000,
          16000,
          64000,
          256000,
          1024000,
          4096000,
          16384000,
          65536000
         ],
         "xaxis": "x15",
         "y": [
          45.4844,
          50.3441,
          39.7142,
          28.2969,
          9.8846,
          2.5946,
          0.9221,
          0.2891
         ],
         "yaxis": "y15"
        },
        {
         "hovertemplate": "File=500mb_mozilla<br>Standard=gdeflate<br>gpu=A100<br>chunksize_Bytes=%{x}<br>decompression_throughput_GBps=%{y}<extra></extra>",
         "legendgroup": "500mb_mozilla",
         "line": {
          "color": "#00cc96",
          "dash": "solid"
         },
         "marker": {
          "symbol": "circle"
         },
         "mode": "lines+markers",
         "name": "500mb_mozilla",
         "orientation": "v",
         "showlegend": false,
         "type": "scatter",
         "x": [
          4000,
          16000,
          64000
         ],
         "xaxis": "x10",
         "y": [
          37.3266,
          29.0819,
          12.2643
         ],
         "yaxis": "y10"
        },
        {
         "hovertemplate": "File=500mb_mozilla<br>Standard=gdeflate<br>gpu=RTX2080TI<br>chunksize_Bytes=%{x}<br>decompression_throughput_GBps=%{y}<extra></extra>",
         "legendgroup": "500mb_mozilla",
         "line": {
          "color": "#00cc96",
          "dash": "solid"
         },
         "marker": {
          "symbol": "circle"
         },
         "mode": "lines+markers",
         "name": "500mb_mozilla",
         "orientation": "v",
         "showlegend": false,
         "type": "scatter",
         "x": [
          4000,
          16000,
          64000
         ],
         "xaxis": "x11",
         "y": [
          26.9097,
          24.9274,
          15.3158
         ],
         "yaxis": "y11"
        },
        {
         "hovertemplate": "File=500mb_mozilla<br>Standard=gdeflate<br>gpu=RTX3050TI<br>chunksize_Bytes=%{x}<br>decompression_throughput_GBps=%{y}<extra></extra>",
         "legendgroup": "500mb_mozilla",
         "line": {
          "color": "#00cc96",
          "dash": "solid"
         },
         "marker": {
          "symbol": "circle"
         },
         "mode": "lines+markers",
         "name": "500mb_mozilla",
         "orientation": "v",
         "showlegend": false,
         "type": "scatter",
         "x": [
          4000,
          16000,
          64000
         ],
         "xaxis": "x12",
         "y": [
          10.7233,
          10.3704,
          7.5412
         ],
         "yaxis": "y12"
        },
        {
         "hovertemplate": "File=500mb_mozilla<br>Standard=lz4<br>gpu=A100<br>chunksize_Bytes=%{x}<br>decompression_throughput_GBps=%{y}<extra></extra>",
         "legendgroup": "500mb_mozilla",
         "line": {
          "color": "#00cc96",
          "dash": "solid"
         },
         "marker": {
          "symbol": "circle"
         },
         "mode": "lines+markers",
         "name": "500mb_mozilla",
         "orientation": "v",
         "showlegend": false,
         "type": "scatter",
         "x": [
          4000,
          16000,
          64000,
          256000,
          1024000,
          4096000,
          16384000
         ],
         "xaxis": "x7",
         "y": [
          40.5585,
          29.6168,
          10.3154,
          3.2147,
          1.1066,
          0.2857,
          0.0734
         ],
         "yaxis": "y7"
        },
        {
         "hovertemplate": "File=500mb_mozilla<br>Standard=lz4<br>gpu=RTX2080TI<br>chunksize_Bytes=%{x}<br>decompression_throughput_GBps=%{y}<extra></extra>",
         "legendgroup": "500mb_mozilla",
         "line": {
          "color": "#00cc96",
          "dash": "solid"
         },
         "marker": {
          "symbol": "circle"
         },
         "mode": "lines+markers",
         "name": "500mb_mozilla",
         "orientation": "v",
         "showlegend": false,
         "type": "scatter",
         "x": [
          4000,
          16000,
          64000,
          256000,
          1024000,
          4096000,
          16384000
         ],
         "xaxis": "x8",
         "y": [
          29.355,
          22.8291,
          11.9741,
          4.3785,
          1.538,
          0.3963,
          0.1014
         ],
         "yaxis": "y8"
        },
        {
         "hovertemplate": "File=500mb_mozilla<br>Standard=lz4<br>gpu=RTX3050TI<br>chunksize_Bytes=%{x}<br>decompression_throughput_GBps=%{y}<extra></extra>",
         "legendgroup": "500mb_mozilla",
         "line": {
          "color": "#00cc96",
          "dash": "solid"
         },
         "marker": {
          "symbol": "circle"
         },
         "mode": "lines+markers",
         "name": "500mb_mozilla",
         "orientation": "v",
         "showlegend": false,
         "type": "scatter",
         "x": [
          4000,
          16000,
          64000,
          256000,
          1024000,
          4096000,
          16384000
         ],
         "xaxis": "x9",
         "y": [
          8.9568,
          9.3989,
          5.7963,
          3.4975,
          1.3958,
          0.3644,
          0.0928
         ],
         "yaxis": "y9"
        },
        {
         "hovertemplate": "File=500mb_mozilla<br>Standard=snappy<br>gpu=A100<br>chunksize_Bytes=%{x}<br>decompression_throughput_GBps=%{y}<extra></extra>",
         "legendgroup": "500mb_mozilla",
         "line": {
          "color": "#00cc96",
          "dash": "solid"
         },
         "marker": {
          "symbol": "circle"
         },
         "mode": "lines+markers",
         "name": "500mb_mozilla",
         "orientation": "v",
         "showlegend": false,
         "type": "scatter",
         "x": [
          4000,
          16000,
          64000,
          256000,
          1024000,
          4096000,
          16384000,
          65536000
         ],
         "xaxis": "x4",
         "y": [
          34.7504,
          26.4875,
          11.3443,
          3.3337,
          1.0638,
          0.3157,
          0.0828,
          0.0297
         ],
         "yaxis": "y4"
        },
        {
         "hovertemplate": "File=500mb_mozilla<br>Standard=snappy<br>gpu=RTX2080TI<br>chunksize_Bytes=%{x}<br>decompression_throughput_GBps=%{y}<extra></extra>",
         "legendgroup": "500mb_mozilla",
         "line": {
          "color": "#00cc96",
          "dash": "solid"
         },
         "marker": {
          "symbol": "circle"
         },
         "mode": "lines+markers",
         "name": "500mb_mozilla",
         "orientation": "v",
         "showlegend": false,
         "type": "scatter",
         "x": [
          4000,
          16000,
          64000,
          256000,
          1024000,
          4096000,
          16384000,
          65536000
         ],
         "xaxis": "x5",
         "y": [
          17.5601,
          15.6635,
          11.192,
          3.4737,
          1.2863,
          0.3808,
          0.0998,
          0.0356
         ],
         "yaxis": "y5"
        },
        {
         "hovertemplate": "File=500mb_mozilla<br>Standard=snappy<br>gpu=RTX3050TI<br>chunksize_Bytes=%{x}<br>decompression_throughput_GBps=%{y}<extra></extra>",
         "legendgroup": "500mb_mozilla",
         "line": {
          "color": "#00cc96",
          "dash": "solid"
         },
         "marker": {
          "symbol": "circle"
         },
         "mode": "lines+markers",
         "name": "500mb_mozilla",
         "orientation": "v",
         "showlegend": false,
         "type": "scatter",
         "x": [
          4000,
          16000,
          64000,
          256000,
          1024000,
          4096000,
          16384000,
          65536000
         ],
         "xaxis": "x6",
         "y": [
          5.9714,
          5.6436,
          4.7096,
          3.0945,
          1.2716,
          0.376,
          0.0984,
          0.0323
         ],
         "yaxis": "y6"
        },
        {
         "hovertemplate": "File=500mb_mozilla<br>Standard=zstd<br>gpu=A100<br>chunksize_Bytes=%{x}<br>decompression_throughput_GBps=%{y}<extra></extra>",
         "legendgroup": "500mb_mozilla",
         "line": {
          "color": "#00cc96",
          "dash": "solid"
         },
         "marker": {
          "symbol": "circle"
         },
         "mode": "lines+markers",
         "name": "500mb_mozilla",
         "orientation": "v",
         "showlegend": false,
         "type": "scatter",
         "x": [
          4000,
          16000,
          64000,
          256000,
          1024000,
          4096000,
          16384000
         ],
         "xaxis": "x",
         "y": [
          16.6699,
          14.0692,
          7.3762,
          3.0094,
          1.278,
          0.3784,
          0.1002
         ],
         "yaxis": "y"
        },
        {
         "hovertemplate": "File=500mb_mozilla<br>Standard=zstd<br>gpu=RTX2080TI<br>chunksize_Bytes=%{x}<br>decompression_throughput_GBps=%{y}<extra></extra>",
         "legendgroup": "500mb_mozilla",
         "line": {
          "color": "#00cc96",
          "dash": "solid"
         },
         "marker": {
          "symbol": "circle"
         },
         "mode": "lines+markers",
         "name": "500mb_mozilla",
         "orientation": "v",
         "showlegend": false,
         "type": "scatter",
         "x": [
          4000,
          16000,
          64000,
          256000,
          1024000,
          4096000,
          16384000
         ],
         "xaxis": "x2",
         "y": [
          6.6775,
          7.1651,
          4.8763,
          3.5812,
          1.6438,
          0.4897,
          0.1326
         ],
         "yaxis": "y2"
        },
        {
         "hovertemplate": "File=500mb_mozilla<br>Standard=zstd<br>gpu=RTX3050TI<br>chunksize_Bytes=%{x}<br>decompression_throughput_GBps=%{y}<extra></extra>",
         "legendgroup": "500mb_mozilla",
         "line": {
          "color": "#00cc96",
          "dash": "solid"
         },
         "marker": {
          "symbol": "circle"
         },
         "mode": "lines+markers",
         "name": "500mb_mozilla",
         "orientation": "v",
         "showlegend": false,
         "type": "scatter",
         "x": [
          4000,
          16000,
          64000,
          256000,
          1024000,
          4096000,
          16384000
         ],
         "xaxis": "x3",
         "y": [
          4.4291,
          4.8323,
          4.4859,
          3.4913,
          1.4608,
          0.4204,
          0.0993
         ],
         "yaxis": "y3"
        },
        {
         "hovertemplate": "File=500mb_mr<br>Standard=bitcomp<br>gpu=A100<br>chunksize_Bytes=%{x}<br>decompression_throughput_GBps=%{y}<extra></extra>",
         "legendgroup": "500mb_mr",
         "line": {
          "color": "#ab63fa",
          "dash": "solid"
         },
         "marker": {
          "symbol": "circle"
         },
         "mode": "lines+markers",
         "name": "500mb_mr",
         "orientation": "v",
         "showlegend": true,
         "type": "scatter",
         "x": [
          4000,
          16000,
          64000,
          256000,
          1024000,
          4096000,
          16384000,
          65536000
         ],
         "xaxis": "x16",
         "y": [
          69.0559,
          80.4285,
          54.4816,
          23.7503,
          7.3736,
          2.1152,
          0.8552,
          0.8521
         ],
         "yaxis": "y16"
        },
        {
         "hovertemplate": "File=500mb_mr<br>Standard=bitcomp<br>gpu=RTX2080TI<br>chunksize_Bytes=%{x}<br>decompression_throughput_GBps=%{y}<extra></extra>",
         "legendgroup": "500mb_mr",
         "line": {
          "color": "#ab63fa",
          "dash": "solid"
         },
         "marker": {
          "symbol": "circle"
         },
         "mode": "lines+markers",
         "name": "500mb_mr",
         "orientation": "v",
         "showlegend": false,
         "type": "scatter",
         "x": [
          4000,
          16000,
          64000,
          256000,
          1024000,
          4096000,
          16384000,
          65536000
         ],
         "xaxis": "x17",
         "y": [
          51.6631,
          66.9921,
          56.3538,
          26.3026,
          8.4252,
          2.335,
          0.9696,
          0.9699
         ],
         "yaxis": "y17"
        },
        {
         "hovertemplate": "File=500mb_mr<br>Standard=bitcomp<br>gpu=RTX3050TI<br>chunksize_Bytes=%{x}<br>decompression_throughput_GBps=%{y}<extra></extra>",
         "legendgroup": "500mb_mr",
         "line": {
          "color": "#ab63fa",
          "dash": "solid"
         },
         "marker": {
          "symbol": "circle"
         },
         "mode": "lines+markers",
         "name": "500mb_mr",
         "orientation": "v",
         "showlegend": false,
         "type": "scatter",
         "x": [
          4000,
          16000,
          64000,
          256000,
          1024000,
          4096000,
          16384000,
          65536000
         ],
         "xaxis": "x18",
         "y": [
          31.1798,
          41.395,
          37.2793,
          24.2588,
          7.8,
          2.0566,
          0.8523,
          0.8517
         ],
         "yaxis": "y18"
        },
        {
         "hovertemplate": "File=500mb_mr<br>Standard=cascaded<br>gpu=A100<br>chunksize_Bytes=%{x}<br>decompression_throughput_GBps=%{y}<extra></extra>",
         "legendgroup": "500mb_mr",
         "line": {
          "color": "#ab63fa",
          "dash": "solid"
         },
         "marker": {
          "symbol": "circle"
         },
         "mode": "lines+markers",
         "name": "500mb_mr",
         "orientation": "v",
         "showlegend": false,
         "type": "scatter",
         "x": [
          4000,
          16000,
          64000,
          256000,
          1024000,
          4096000,
          16384000,
          65536000
         ],
         "xaxis": "x13",
         "y": [
          83.9612,
          74.8092,
          28.1871,
          7.9715,
          2.1227,
          0.5625,
          0.2732,
          0.2263
         ],
         "yaxis": "y13"
        },
        {
         "hovertemplate": "File=500mb_mr<br>Standard=cascaded<br>gpu=RTX2080TI<br>chunksize_Bytes=%{x}<br>decompression_throughput_GBps=%{y}<extra></extra>",
         "legendgroup": "500mb_mr",
         "line": {
          "color": "#ab63fa",
          "dash": "solid"
         },
         "marker": {
          "symbol": "circle"
         },
         "mode": "lines+markers",
         "name": "500mb_mr",
         "orientation": "v",
         "showlegend": false,
         "type": "scatter",
         "x": [
          4000,
          16000,
          64000,
          256000,
          1024000,
          4096000,
          16384000,
          65536000
         ],
         "xaxis": "x14",
         "y": [
          41.7164,
          37.8407,
          28.4263,
          8.9089,
          2.3197,
          0.5947,
          0.2643,
          0.3357
         ],
         "yaxis": "y14"
        },
        {
         "hovertemplate": "File=500mb_mr<br>Standard=cascaded<br>gpu=RTX3050TI<br>chunksize_Bytes=%{x}<br>decompression_throughput_GBps=%{y}<extra></extra>",
         "legendgroup": "500mb_mr",
         "line": {
          "color": "#ab63fa",
          "dash": "solid"
         },
         "marker": {
          "symbol": "circle"
         },
         "mode": "lines+markers",
         "name": "500mb_mr",
         "orientation": "v",
         "showlegend": false,
         "type": "scatter",
         "x": [
          4000,
          16000,
          64000,
          256000,
          1024000,
          4096000,
          16384000,
          65536000
         ],
         "xaxis": "x15",
         "y": [
          20.1253,
          20.7113,
          14.8527,
          8.294,
          2.2168,
          0.5662,
          0.239,
          0.2338
         ],
         "yaxis": "y15"
        },
        {
         "hovertemplate": "File=500mb_mr<br>Standard=gdeflate<br>gpu=A100<br>chunksize_Bytes=%{x}<br>decompression_throughput_GBps=%{y}<extra></extra>",
         "legendgroup": "500mb_mr",
         "line": {
          "color": "#ab63fa",
          "dash": "solid"
         },
         "marker": {
          "symbol": "circle"
         },
         "mode": "lines+markers",
         "name": "500mb_mr",
         "orientation": "v",
         "showlegend": false,
         "type": "scatter",
         "x": [
          4000,
          16000,
          64000
         ],
         "xaxis": "x10",
         "y": [
          31.28,
          13.38,
          4.0935
         ],
         "yaxis": "y10"
        },
        {
         "hovertemplate": "File=500mb_mr<br>Standard=gdeflate<br>gpu=RTX2080TI<br>chunksize_Bytes=%{x}<br>decompression_throughput_GBps=%{y}<extra></extra>",
         "legendgroup": "500mb_mr",
         "line": {
          "color": "#ab63fa",
          "dash": "solid"
         },
         "marker": {
          "symbol": "circle"
         },
         "mode": "lines+markers",
         "name": "500mb_mr",
         "orientation": "v",
         "showlegend": false,
         "type": "scatter",
         "x": [
          4000,
          16000,
          64000
         ],
         "xaxis": "x11",
         "y": [
          20.5555,
          13.8937,
          4.4585
         ],
         "yaxis": "y11"
        },
        {
         "hovertemplate": "File=500mb_mr<br>Standard=gdeflate<br>gpu=RTX3050TI<br>chunksize_Bytes=%{x}<br>decompression_throughput_GBps=%{y}<extra></extra>",
         "legendgroup": "500mb_mr",
         "line": {
          "color": "#ab63fa",
          "dash": "solid"
         },
         "marker": {
          "symbol": "circle"
         },
         "mode": "lines+markers",
         "name": "500mb_mr",
         "orientation": "v",
         "showlegend": false,
         "type": "scatter",
         "x": [
          4000,
          16000,
          64000
         ],
         "xaxis": "x12",
         "y": [
          7.6702,
          6.6313,
          3.6992
         ],
         "yaxis": "y12"
        },
        {
         "hovertemplate": "File=500mb_mr<br>Standard=lz4<br>gpu=A100<br>chunksize_Bytes=%{x}<br>decompression_throughput_GBps=%{y}<extra></extra>",
         "legendgroup": "500mb_mr",
         "line": {
          "color": "#ab63fa",
          "dash": "solid"
         },
         "marker": {
          "symbol": "circle"
         },
         "mode": "lines+markers",
         "name": "500mb_mr",
         "orientation": "v",
         "showlegend": false,
         "type": "scatter",
         "x": [
          4000,
          16000,
          64000,
          256000,
          1024000,
          4096000,
          16384000,
          65536000
         ],
         "xaxis": "x7",
         "y": [
          21.7341,
          7.7275,
          2.4218,
          0.7082,
          0.2323,
          0.0603,
          0.026,
          0.026
         ],
         "yaxis": "y7"
        },
        {
         "hovertemplate": "File=500mb_mr<br>Standard=lz4<br>gpu=RTX2080TI<br>chunksize_Bytes=%{x}<br>decompression_throughput_GBps=%{y}<extra></extra>",
         "legendgroup": "500mb_mr",
         "line": {
          "color": "#ab63fa",
          "dash": "solid"
         },
         "marker": {
          "symbol": "circle"
         },
         "mode": "lines+markers",
         "name": "500mb_mr",
         "orientation": "v",
         "showlegend": false,
         "type": "scatter",
         "x": [
          4000,
          16000,
          64000,
          256000,
          1024000,
          4096000,
          16384000,
          65536000
         ],
         "xaxis": "x8",
         "y": [
          19.0487,
          8.7068,
          2.7446,
          0.8605,
          0.3177,
          0.082,
          0.0355,
          0.0352
         ],
         "yaxis": "y8"
        },
        {
         "hovertemplate": "File=500mb_mr<br>Standard=lz4<br>gpu=RTX3050TI<br>chunksize_Bytes=%{x}<br>decompression_throughput_GBps=%{y}<extra></extra>",
         "legendgroup": "500mb_mr",
         "line": {
          "color": "#ab63fa",
          "dash": "solid"
         },
         "marker": {
          "symbol": "circle"
         },
         "mode": "lines+markers",
         "name": "500mb_mr",
         "orientation": "v",
         "showlegend": false,
         "type": "scatter",
         "x": [
          4000,
          16000,
          64000,
          256000,
          1024000,
          4096000,
          16384000,
          65536000
         ],
         "xaxis": "x9",
         "y": [
          9.202,
          5.4643,
          2.4777,
          0.7549,
          0.2885,
          0.0747,
          0.0323,
          0.0323
         ],
         "yaxis": "y9"
        },
        {
         "hovertemplate": "File=500mb_mr<br>Standard=snappy<br>gpu=A100<br>chunksize_Bytes=%{x}<br>decompression_throughput_GBps=%{y}<extra></extra>",
         "legendgroup": "500mb_mr",
         "line": {
          "color": "#ab63fa",
          "dash": "solid"
         },
         "marker": {
          "symbol": "circle"
         },
         "mode": "lines+markers",
         "name": "500mb_mr",
         "orientation": "v",
         "showlegend": false,
         "type": "scatter",
         "x": [
          4000,
          16000,
          64000,
          256000,
          1024000,
          4096000,
          16384000,
          65536000
         ],
         "xaxis": "x4",
         "y": [
          29.1769,
          11.7506,
          2.9804,
          0.7661,
          0.2907,
          0.0773,
          0.0325,
          0.0325
         ],
         "yaxis": "y4"
        },
        {
         "hovertemplate": "File=500mb_mr<br>Standard=snappy<br>gpu=RTX2080TI<br>chunksize_Bytes=%{x}<br>decompression_throughput_GBps=%{y}<extra></extra>",
         "legendgroup": "500mb_mr",
         "line": {
          "color": "#ab63fa",
          "dash": "solid"
         },
         "marker": {
          "symbol": "circle"
         },
         "mode": "lines+markers",
         "name": "500mb_mr",
         "orientation": "v",
         "showlegend": false,
         "type": "scatter",
         "x": [
          4000,
          16000,
          64000,
          256000,
          1024000,
          4096000,
          16384000,
          65536000
         ],
         "xaxis": "x5",
         "y": [
          16.9199,
          11.1033,
          2.9687,
          0.7731,
          0.3485,
          0.09,
          0.0385,
          0.0385
         ],
         "yaxis": "y5"
        },
        {
         "hovertemplate": "File=500mb_mr<br>Standard=snappy<br>gpu=RTX3050TI<br>chunksize_Bytes=%{x}<br>decompression_throughput_GBps=%{y}<extra></extra>",
         "legendgroup": "500mb_mr",
         "line": {
          "color": "#ab63fa",
          "dash": "solid"
         },
         "marker": {
          "symbol": "circle"
         },
         "mode": "lines+markers",
         "name": "500mb_mr",
         "orientation": "v",
         "showlegend": false,
         "type": "scatter",
         "x": [
          4000,
          16000,
          64000,
          256000,
          1024000,
          4096000,
          16384000,
          65536000
         ],
         "xaxis": "x6",
         "y": [
          6.6999,
          5.5806,
          2.7942,
          0.7769,
          0.338,
          0.0877,
          0.034,
          0.0337
         ],
         "yaxis": "y6"
        },
        {
         "hovertemplate": "File=500mb_mr<br>Standard=zstd<br>gpu=A100<br>chunksize_Bytes=%{x}<br>decompression_throughput_GBps=%{y}<extra></extra>",
         "legendgroup": "500mb_mr",
         "line": {
          "color": "#ab63fa",
          "dash": "solid"
         },
         "marker": {
          "symbol": "circle"
         },
         "mode": "lines+markers",
         "name": "500mb_mr",
         "orientation": "v",
         "showlegend": false,
         "type": "scatter",
         "x": [
          4000,
          16000,
          64000,
          256000,
          1024000,
          4096000,
          16384000,
          65536000
         ],
         "xaxis": "x",
         "y": [
          7.6155,
          4.5024,
          1.4507,
          0.8657,
          0.3102,
          0.0971,
          0.035,
          0.0352
         ],
         "yaxis": "y"
        },
        {
         "hovertemplate": "File=500mb_mr<br>Standard=zstd<br>gpu=RTX2080TI<br>chunksize_Bytes=%{x}<br>decompression_throughput_GBps=%{y}<extra></extra>",
         "legendgroup": "500mb_mr",
         "line": {
          "color": "#ab63fa",
          "dash": "solid"
         },
         "marker": {
          "symbol": "circle"
         },
         "mode": "lines+markers",
         "name": "500mb_mr",
         "orientation": "v",
         "showlegend": false,
         "type": "scatter",
         "x": [
          4000,
          16000,
          64000,
          256000,
          1024000,
          4096000,
          16384000,
          65536000
         ],
         "xaxis": "x2",
         "y": [
          5.1844,
          3.4682,
          1.0858,
          0.5923,
          0.2954,
          0.0921,
          0.031,
          0.031
         ],
         "yaxis": "y2"
        },
        {
         "hovertemplate": "File=500mb_mr<br>Standard=zstd<br>gpu=RTX3050TI<br>chunksize_Bytes=%{x}<br>decompression_throughput_GBps=%{y}<extra></extra>",
         "legendgroup": "500mb_mr",
         "line": {
          "color": "#ab63fa",
          "dash": "solid"
         },
         "marker": {
          "symbol": "circle"
         },
         "mode": "lines+markers",
         "name": "500mb_mr",
         "orientation": "v",
         "showlegend": false,
         "type": "scatter",
         "x": [
          4000,
          16000,
          64000,
          256000,
          1024000,
          4096000,
          16384000,
          65536000
         ],
         "xaxis": "x3",
         "y": [
          3.0083,
          2.8,
          1.4726,
          0.7323,
          0.3678,
          0.1123,
          0.0401,
          0.0399
         ],
         "yaxis": "y3"
        },
        {
         "hovertemplate": "File=500mb_nci<br>Standard=bitcomp<br>gpu=A100<br>chunksize_Bytes=%{x}<br>decompression_throughput_GBps=%{y}<extra></extra>",
         "legendgroup": "500mb_nci",
         "line": {
          "color": "#FFA15A",
          "dash": "solid"
         },
         "marker": {
          "symbol": "circle"
         },
         "mode": "lines+markers",
         "name": "500mb_nci",
         "orientation": "v",
         "showlegend": true,
         "type": "scatter",
         "x": [
          4000,
          16000,
          64000,
          256000,
          1024000,
          4096000,
          16384000,
          65536000
         ],
         "xaxis": "x16",
         "y": [
          110.1413,
          135.8747,
          132.5594,
          59.1029,
          18.3768,
          4.8756,
          1.2386,
          0.6049
         ],
         "yaxis": "y16"
        },
        {
         "hovertemplate": "File=500mb_nci<br>Standard=bitcomp<br>gpu=RTX2080TI<br>chunksize_Bytes=%{x}<br>decompression_throughput_GBps=%{y}<extra></extra>",
         "legendgroup": "500mb_nci",
         "line": {
          "color": "#FFA15A",
          "dash": "solid"
         },
         "marker": {
          "symbol": "circle"
         },
         "mode": "lines+markers",
         "name": "500mb_nci",
         "orientation": "v",
         "showlegend": false,
         "type": "scatter",
         "x": [
          4000,
          16000,
          64000,
          256000,
          1024000,
          4096000,
          16384000,
          65536000
         ],
         "xaxis": "x17",
         "y": [
          63.8112,
          86.3711,
          81.9688,
          65.6448,
          22.6659,
          5.9814,
          1.5168,
          0.7411
         ],
         "yaxis": "y17"
        },
        {
         "hovertemplate": "File=500mb_nci<br>Standard=bitcomp<br>gpu=RTX3050TI<br>chunksize_Bytes=%{x}<br>decompression_throughput_GBps=%{y}<extra></extra>",
         "legendgroup": "500mb_nci",
         "line": {
          "color": "#FFA15A",
          "dash": "solid"
         },
         "marker": {
          "symbol": "circle"
         },
         "mode": "lines+markers",
         "name": "500mb_nci",
         "orientation": "v",
         "showlegend": false,
         "type": "scatter",
         "x": [
          4000,
          16000,
          64000,
          256000,
          1024000,
          4096000,
          16384000,
          65536000
         ],
         "xaxis": "x18",
         "y": [
          29.3603,
          39.264,
          38.3198,
          31.7433,
          18.8404,
          5.3314,
          1.3479,
          0.755
         ],
         "yaxis": "y18"
        },
        {
         "hovertemplate": "File=500mb_nci<br>Standard=gdeflate<br>gpu=A100<br>chunksize_Bytes=%{x}<br>decompression_throughput_GBps=%{y}<extra></extra>",
         "legendgroup": "500mb_nci",
         "line": {
          "color": "#FFA15A",
          "dash": "solid"
         },
         "marker": {
          "symbol": "circle"
         },
         "mode": "lines+markers",
         "name": "500mb_nci",
         "orientation": "v",
         "showlegend": false,
         "type": "scatter",
         "x": [
          4000,
          16000,
          64000
         ],
         "xaxis": "x10",
         "y": [
          43.6276,
          45.3131,
          17.5336
         ],
         "yaxis": "y10"
        },
        {
         "hovertemplate": "File=500mb_nci<br>Standard=gdeflate<br>gpu=RTX2080TI<br>chunksize_Bytes=%{x}<br>decompression_throughput_GBps=%{y}<extra></extra>",
         "legendgroup": "500mb_nci",
         "line": {
          "color": "#FFA15A",
          "dash": "solid"
         },
         "marker": {
          "symbol": "circle"
         },
         "mode": "lines+markers",
         "name": "500mb_nci",
         "orientation": "v",
         "showlegend": false,
         "type": "scatter",
         "x": [
          4000,
          16000,
          64000
         ],
         "xaxis": "x11",
         "y": [
          30.5672,
          28.5373,
          19.0423
         ],
         "yaxis": "y11"
        },
        {
         "hovertemplate": "File=500mb_nci<br>Standard=gdeflate<br>gpu=RTX3050TI<br>chunksize_Bytes=%{x}<br>decompression_throughput_GBps=%{y}<extra></extra>",
         "legendgroup": "500mb_nci",
         "line": {
          "color": "#FFA15A",
          "dash": "solid"
         },
         "marker": {
          "symbol": "circle"
         },
         "mode": "lines+markers",
         "name": "500mb_nci",
         "orientation": "v",
         "showlegend": false,
         "type": "scatter",
         "x": [
          4000,
          16000,
          64000
         ],
         "xaxis": "x12",
         "y": [
          9.6995,
          11.705,
          9.2254
         ],
         "yaxis": "y12"
        },
        {
         "hovertemplate": "File=500mb_nci<br>Standard=lz4<br>gpu=A100<br>chunksize_Bytes=%{x}<br>decompression_throughput_GBps=%{y}<extra></extra>",
         "legendgroup": "500mb_nci",
         "line": {
          "color": "#FFA15A",
          "dash": "solid"
         },
         "marker": {
          "symbol": "circle"
         },
         "mode": "lines+markers",
         "name": "500mb_nci",
         "orientation": "v",
         "showlegend": false,
         "type": "scatter",
         "x": [
          4000,
          16000,
          64000,
          256000,
          1024000,
          4096000,
          16384000
         ],
         "xaxis": "x7",
         "y": [
          47.7545,
          38.6546,
          12.5181,
          3.533,
          1.1381,
          0.2976,
          0.0782
         ],
         "yaxis": "y7"
        },
        {
         "hovertemplate": "File=500mb_nci<br>Standard=lz4<br>gpu=RTX2080TI<br>chunksize_Bytes=%{x}<br>decompression_throughput_GBps=%{y}<extra></extra>",
         "legendgroup": "500mb_nci",
         "line": {
          "color": "#FFA15A",
          "dash": "solid"
         },
         "marker": {
          "symbol": "circle"
         },
         "mode": "lines+markers",
         "name": "500mb_nci",
         "orientation": "v",
         "showlegend": false,
         "type": "scatter",
         "x": [
          4000,
          16000,
          64000,
          256000,
          1024000,
          4096000,
          16384000
         ],
         "xaxis": "x8",
         "y": [
          34.6833,
          33.0771,
          14.6441,
          4.2393,
          1.5756,
          0.4103,
          0.1064
         ],
         "yaxis": "y8"
        },
        {
         "hovertemplate": "File=500mb_nci<br>Standard=lz4<br>gpu=RTX3050TI<br>chunksize_Bytes=%{x}<br>decompression_throughput_GBps=%{y}<extra></extra>",
         "legendgroup": "500mb_nci",
         "line": {
          "color": "#FFA15A",
          "dash": "solid"
         },
         "marker": {
          "symbol": "circle"
         },
         "mode": "lines+markers",
         "name": "500mb_nci",
         "orientation": "v",
         "showlegend": false,
         "type": "scatter",
         "x": [
          4000,
          16000,
          64000,
          256000,
          1024000,
          4096000,
          16384000
         ],
         "xaxis": "x9",
         "y": [
          10.5545,
          10.6609,
          9.7574,
          3.4332,
          1.4281,
          0.3758,
          0.0967
         ],
         "yaxis": "y9"
        },
        {
         "hovertemplate": "File=500mb_nci<br>Standard=snappy<br>gpu=A100<br>chunksize_Bytes=%{x}<br>decompression_throughput_GBps=%{y}<extra></extra>",
         "legendgroup": "500mb_nci",
         "line": {
          "color": "#FFA15A",
          "dash": "solid"
         },
         "marker": {
          "symbol": "circle"
         },
         "mode": "lines+markers",
         "name": "500mb_nci",
         "orientation": "v",
         "showlegend": false,
         "type": "scatter",
         "x": [
          4000,
          16000,
          64000,
          256000,
          1024000,
          4096000,
          16384000,
          65536000
         ],
         "xaxis": "x4",
         "y": [
          48.2511,
          47.0263,
          20.4886,
          6.4079,
          1.9605,
          0.5635,
          0.1502,
          0.0732
         ],
         "yaxis": "y4"
        },
        {
         "hovertemplate": "File=500mb_nci<br>Standard=snappy<br>gpu=RTX2080TI<br>chunksize_Bytes=%{x}<br>decompression_throughput_GBps=%{y}<extra></extra>",
         "legendgroup": "500mb_nci",
         "line": {
          "color": "#FFA15A",
          "dash": "solid"
         },
         "marker": {
          "symbol": "circle"
         },
         "mode": "lines+markers",
         "name": "500mb_nci",
         "orientation": "v",
         "showlegend": false,
         "type": "scatter",
         "x": [
          4000,
          16000,
          64000,
          256000,
          1024000,
          4096000,
          16384000,
          65536000
         ],
         "xaxis": "x5",
         "y": [
          25.2394,
          28.5365,
          20.8496,
          7.1708,
          2.6445,
          0.7062,
          0.1887,
          0.0921
         ],
         "yaxis": "y5"
        },
        {
         "hovertemplate": "File=500mb_nci<br>Standard=snappy<br>gpu=RTX3050TI<br>chunksize_Bytes=%{x}<br>decompression_throughput_GBps=%{y}<extra></extra>",
         "legendgroup": "500mb_nci",
         "line": {
          "color": "#FFA15A",
          "dash": "solid"
         },
         "marker": {
          "symbol": "circle"
         },
         "mode": "lines+markers",
         "name": "500mb_nci",
         "orientation": "v",
         "showlegend": false,
         "type": "scatter",
         "x": [
          4000,
          16000,
          64000,
          256000,
          1024000,
          4096000,
          16384000,
          65536000
         ],
         "xaxis": "x6",
         "y": [
          8.4719,
          10.3635,
          10.0909,
          6.0943,
          1.8136,
          0.6883,
          0.1679,
          0.0808
         ],
         "yaxis": "y6"
        },
        {
         "hovertemplate": "File=500mb_nci<br>Standard=zstd<br>gpu=A100<br>chunksize_Bytes=%{x}<br>decompression_throughput_GBps=%{y}<extra></extra>",
         "legendgroup": "500mb_nci",
         "line": {
          "color": "#FFA15A",
          "dash": "solid"
         },
         "marker": {
          "symbol": "circle"
         },
         "mode": "lines+markers",
         "name": "500mb_nci",
         "orientation": "v",
         "showlegend": false,
         "type": "scatter",
         "x": [
          4000,
          16000,
          64000,
          256000,
          1024000,
          4096000,
          16384000
         ],
         "xaxis": "x",
         "y": [
          16.298,
          20.0203,
          11.22,
          4.5395,
          1.3747,
          0.3668,
          0.0965
         ],
         "yaxis": "y"
        },
        {
         "hovertemplate": "File=500mb_nci<br>Standard=zstd<br>gpu=RTX2080TI<br>chunksize_Bytes=%{x}<br>decompression_throughput_GBps=%{y}<extra></extra>",
         "legendgroup": "500mb_nci",
         "line": {
          "color": "#FFA15A",
          "dash": "solid"
         },
         "marker": {
          "symbol": "circle"
         },
         "mode": "lines+markers",
         "name": "500mb_nci",
         "orientation": "v",
         "showlegend": false,
         "type": "scatter",
         "x": [
          4000,
          16000,
          64000,
          256000,
          1024000,
          4096000,
          16384000
         ],
         "xaxis": "x2",
         "y": [
          7.2792,
          12.0359,
          8.1936,
          3.9313,
          1.5313,
          0.4737,
          0.1273
         ],
         "yaxis": "y2"
        },
        {
         "hovertemplate": "File=500mb_nci<br>Standard=zstd<br>gpu=RTX3050TI<br>chunksize_Bytes=%{x}<br>decompression_throughput_GBps=%{y}<extra></extra>",
         "legendgroup": "500mb_nci",
         "line": {
          "color": "#FFA15A",
          "dash": "solid"
         },
         "marker": {
          "symbol": "circle"
         },
         "mode": "lines+markers",
         "name": "500mb_nci",
         "orientation": "v",
         "showlegend": false,
         "type": "scatter",
         "x": [
          4000,
          16000,
          64000,
          256000,
          1024000,
          4096000,
          16384000
         ],
         "xaxis": "x3",
         "y": [
          3.7392,
          6.2646,
          6.0559,
          3.8014,
          1.1489,
          0.4321,
          0.1049
         ],
         "yaxis": "y3"
        },
        {
         "hovertemplate": "File=500mb_samba<br>Standard=bitcomp<br>gpu=A100<br>chunksize_Bytes=%{x}<br>decompression_throughput_GBps=%{y}<extra></extra>",
         "legendgroup": "500mb_samba",
         "line": {
          "color": "#19d3f3",
          "dash": "solid"
         },
         "marker": {
          "symbol": "circle"
         },
         "mode": "lines+markers",
         "name": "500mb_samba",
         "orientation": "v",
         "showlegend": true,
         "type": "scatter",
         "x": [
          4000,
          16000,
          64000,
          256000,
          1024000,
          4096000,
          16384000,
          65536000
         ],
         "xaxis": "x16",
         "y": [
          95.045,
          107.7046,
          74.7564,
          26.2305,
          8.1899,
          2.5073,
          0.6941,
          0.5577
         ],
         "yaxis": "y16"
        },
        {
         "hovertemplate": "File=500mb_samba<br>Standard=bitcomp<br>gpu=RTX2080TI<br>chunksize_Bytes=%{x}<br>decompression_throughput_GBps=%{y}<extra></extra>",
         "legendgroup": "500mb_samba",
         "line": {
          "color": "#19d3f3",
          "dash": "solid"
         },
         "marker": {
          "symbol": "circle"
         },
         "mode": "lines+markers",
         "name": "500mb_samba",
         "orientation": "v",
         "showlegend": false,
         "type": "scatter",
         "x": [
          4000,
          16000,
          64000,
          256000,
          1024000,
          4096000,
          16384000,
          65536000
         ],
         "xaxis": "x17",
         "y": [
          51.9385,
          74.9722,
          69.9327,
          31.95,
          10.0396,
          3.0392,
          0.8627,
          0.6945
         ],
         "yaxis": "y17"
        },
        {
         "hovertemplate": "File=500mb_samba<br>Standard=bitcomp<br>gpu=RTX3050TI<br>chunksize_Bytes=%{x}<br>decompression_throughput_GBps=%{y}<extra></extra>",
         "legendgroup": "500mb_samba",
         "line": {
          "color": "#19d3f3",
          "dash": "solid"
         },
         "marker": {
          "symbol": "circle"
         },
         "mode": "lines+markers",
         "name": "500mb_samba",
         "orientation": "v",
         "showlegend": false,
         "type": "scatter",
         "x": [
          4000,
          16000,
          64000,
          256000,
          1024000,
          4096000,
          16384000,
          65536000
         ],
         "xaxis": "x18",
         "y": [
          28.1169,
          39.7832,
          38.5807,
          27.6314,
          9.0345,
          2.7422,
          0.7614,
          0.6113
         ],
         "yaxis": "y18"
        },
        {
         "hovertemplate": "File=500mb_samba<br>Standard=cascaded<br>gpu=A100<br>chunksize_Bytes=%{x}<br>decompression_throughput_GBps=%{y}<extra></extra>",
         "legendgroup": "500mb_samba",
         "line": {
          "color": "#19d3f3",
          "dash": "solid"
         },
         "marker": {
          "symbol": "circle"
         },
         "mode": "lines+markers",
         "name": "500mb_samba",
         "orientation": "v",
         "showlegend": false,
         "type": "scatter",
         "x": [
          4000,
          16000,
          64000,
          256000,
          1024000,
          4096000,
          16384000,
          65536000
         ],
         "xaxis": "x13",
         "y": [
          151.2206,
          126.371,
          54.5837,
          15.4791,
          3.9818,
          1.2023,
          0.9597,
          1.139
         ],
         "yaxis": "y13"
        },
        {
         "hovertemplate": "File=500mb_samba<br>Standard=cascaded<br>gpu=RTX2080TI<br>chunksize_Bytes=%{x}<br>decompression_throughput_GBps=%{y}<extra></extra>",
         "legendgroup": "500mb_samba",
         "line": {
          "color": "#19d3f3",
          "dash": "solid"
         },
         "marker": {
          "symbol": "circle"
         },
         "mode": "lines+markers",
         "name": "500mb_samba",
         "orientation": "v",
         "showlegend": false,
         "type": "scatter",
         "x": [
          4000,
          16000,
          64000,
          256000,
          1024000,
          4096000,
          16384000,
          65536000
         ],
         "xaxis": "x14",
         "y": [
          85.3711,
          82.9688,
          50.0667,
          17.8563,
          4.5521,
          1.1726,
          1.2463,
          1.8921
         ],
         "yaxis": "y14"
        },
        {
         "hovertemplate": "File=500mb_samba<br>Standard=cascaded<br>gpu=RTX3050TI<br>chunksize_Bytes=%{x}<br>decompression_throughput_GBps=%{y}<extra></extra>",
         "legendgroup": "500mb_samba",
         "line": {
          "color": "#19d3f3",
          "dash": "solid"
         },
         "marker": {
          "symbol": "circle"
         },
         "mode": "lines+markers",
         "name": "500mb_samba",
         "orientation": "v",
         "showlegend": false,
         "type": "scatter",
         "x": [
          4000,
          16000,
          64000,
          256000,
          1024000,
          4096000,
          16384000,
          65536000
         ],
         "xaxis": "x15",
         "y": [
          43.108,
          46.2941,
          36.1282,
          16.1643,
          4.3969,
          1.1309,
          1.1942,
          1.5519
         ],
         "yaxis": "y15"
        },
        {
         "hovertemplate": "File=500mb_samba<br>Standard=gdeflate<br>gpu=A100<br>chunksize_Bytes=%{x}<br>decompression_throughput_GBps=%{y}<extra></extra>",
         "legendgroup": "500mb_samba",
         "line": {
          "color": "#19d3f3",
          "dash": "solid"
         },
         "marker": {
          "symbol": "circle"
         },
         "mode": "lines+markers",
         "name": "500mb_samba",
         "orientation": "v",
         "showlegend": false,
         "type": "scatter",
         "x": [
          4000,
          16000,
          64000
         ],
         "xaxis": "x10",
         "y": [
          35.5893,
          21.212,
          6.7469
         ],
         "yaxis": "y10"
        },
        {
         "hovertemplate": "File=500mb_samba<br>Standard=gdeflate<br>gpu=RTX2080TI<br>chunksize_Bytes=%{x}<br>decompression_throughput_GBps=%{y}<extra></extra>",
         "legendgroup": "500mb_samba",
         "line": {
          "color": "#19d3f3",
          "dash": "solid"
         },
         "marker": {
          "symbol": "circle"
         },
         "mode": "lines+markers",
         "name": "500mb_samba",
         "orientation": "v",
         "showlegend": false,
         "type": "scatter",
         "x": [
          4000,
          16000,
          64000
         ],
         "xaxis": "x11",
         "y": [
          26.4732,
          21.91,
          7.6307
         ],
         "yaxis": "y11"
        },
        {
         "hovertemplate": "File=500mb_samba<br>Standard=gdeflate<br>gpu=RTX3050TI<br>chunksize_Bytes=%{x}<br>decompression_throughput_GBps=%{y}<extra></extra>",
         "legendgroup": "500mb_samba",
         "line": {
          "color": "#19d3f3",
          "dash": "solid"
         },
         "marker": {
          "symbol": "circle"
         },
         "mode": "lines+markers",
         "name": "500mb_samba",
         "orientation": "v",
         "showlegend": false,
         "type": "scatter",
         "x": [
          4000,
          16000,
          64000
         ],
         "xaxis": "x12",
         "y": [
          8.1143,
          9.0372,
          6.1152
         ],
         "yaxis": "y12"
        },
        {
         "hovertemplate": "File=500mb_samba<br>Standard=lz4<br>gpu=A100<br>chunksize_Bytes=%{x}<br>decompression_throughput_GBps=%{y}<extra></extra>",
         "legendgroup": "500mb_samba",
         "line": {
          "color": "#19d3f3",
          "dash": "solid"
         },
         "marker": {
          "symbol": "circle"
         },
         "mode": "lines+markers",
         "name": "500mb_samba",
         "orientation": "v",
         "showlegend": false,
         "type": "scatter",
         "x": [
          4000,
          16000,
          64000,
          256000,
          1024000,
          4096000,
          16384000
         ],
         "xaxis": "x7",
         "y": [
          34.151,
          13.395,
          3.8644,
          1.4468,
          0.4621,
          0.1334,
          0.0377
         ],
         "yaxis": "y7"
        },
        {
         "hovertemplate": "File=500mb_samba<br>Standard=lz4<br>gpu=RTX2080TI<br>chunksize_Bytes=%{x}<br>decompression_throughput_GBps=%{y}<extra></extra>",
         "legendgroup": "500mb_samba",
         "line": {
          "color": "#19d3f3",
          "dash": "solid"
         },
         "marker": {
          "symbol": "circle"
         },
         "mode": "lines+markers",
         "name": "500mb_samba",
         "orientation": "v",
         "showlegend": false,
         "type": "scatter",
         "x": [
          4000,
          16000,
          64000,
          256000,
          1024000,
          4096000,
          16384000
         ],
         "xaxis": "x8",
         "y": [
          27.6733,
          15.7038,
          4.624,
          1.4655,
          0.6406,
          0.1825,
          0.0519
         ],
         "yaxis": "y8"
        },
        {
         "hovertemplate": "File=500mb_samba<br>Standard=lz4<br>gpu=RTX3050TI<br>chunksize_Bytes=%{x}<br>decompression_throughput_GBps=%{y}<extra></extra>",
         "legendgroup": "500mb_samba",
         "line": {
          "color": "#19d3f3",
          "dash": "solid"
         },
         "marker": {
          "symbol": "circle"
         },
         "mode": "lines+markers",
         "name": "500mb_samba",
         "orientation": "v",
         "showlegend": false,
         "type": "scatter",
         "x": [
          4000,
          16000,
          64000,
          256000,
          1024000,
          4096000,
          16384000
         ],
         "xaxis": "x9",
         "y": [
          9.1596,
          7.5643,
          3.7026,
          1.2401,
          0.5796,
          0.1669,
          0.0474
         ],
         "yaxis": "y9"
        },
        {
         "hovertemplate": "File=500mb_samba<br>Standard=snappy<br>gpu=A100<br>chunksize_Bytes=%{x}<br>decompression_throughput_GBps=%{y}<extra></extra>",
         "legendgroup": "500mb_samba",
         "line": {
          "color": "#19d3f3",
          "dash": "solid"
         },
         "marker": {
          "symbol": "circle"
         },
         "mode": "lines+markers",
         "name": "500mb_samba",
         "orientation": "v",
         "showlegend": false,
         "type": "scatter",
         "x": [
          4000,
          16000,
          64000,
          256000,
          1024000,
          4096000,
          16384000,
          65536000
         ],
         "xaxis": "x4",
         "y": [
          32.3201,
          17.767,
          5.4258,
          1.5031,
          0.5411,
          0.16,
          0.0502,
          0.0378
         ],
         "yaxis": "y4"
        },
        {
         "hovertemplate": "File=500mb_samba<br>Standard=snappy<br>gpu=RTX2080TI<br>chunksize_Bytes=%{x}<br>decompression_throughput_GBps=%{y}<extra></extra>",
         "legendgroup": "500mb_samba",
         "line": {
          "color": "#19d3f3",
          "dash": "solid"
         },
         "marker": {
          "symbol": "circle"
         },
         "mode": "lines+markers",
         "name": "500mb_samba",
         "orientation": "v",
         "showlegend": false,
         "type": "scatter",
         "x": [
          4000,
          16000,
          64000,
          256000,
          1024000,
          4096000,
          16384000,
          65536000
         ],
         "xaxis": "x5",
         "y": [
          18.5918,
          13.7968,
          5.359,
          1.619,
          0.6512,
          0.194,
          0.0612,
          0.046
         ],
         "yaxis": "y5"
        },
        {
         "hovertemplate": "File=500mb_samba<br>Standard=snappy<br>gpu=RTX3050TI<br>chunksize_Bytes=%{x}<br>decompression_throughput_GBps=%{y}<extra></extra>",
         "legendgroup": "500mb_samba",
         "line": {
          "color": "#19d3f3",
          "dash": "solid"
         },
         "marker": {
          "symbol": "circle"
         },
         "mode": "lines+markers",
         "name": "500mb_samba",
         "orientation": "v",
         "showlegend": false,
         "type": "scatter",
         "x": [
          4000,
          16000,
          64000,
          256000,
          1024000,
          4096000,
          16384000,
          65536000
         ],
         "xaxis": "x6",
         "y": [
          6.4663,
          5.9462,
          4.8027,
          1.523,
          0.6422,
          0.1906,
          0.0543,
          0.0406
         ],
         "yaxis": "y6"
        },
        {
         "hovertemplate": "File=500mb_samba<br>Standard=zstd<br>gpu=A100<br>chunksize_Bytes=%{x}<br>decompression_throughput_GBps=%{y}<extra></extra>",
         "legendgroup": "500mb_samba",
         "line": {
          "color": "#19d3f3",
          "dash": "solid"
         },
         "marker": {
          "symbol": "circle"
         },
         "mode": "lines+markers",
         "name": "500mb_samba",
         "orientation": "v",
         "showlegend": false,
         "type": "scatter",
         "x": [
          4000,
          16000,
          64000,
          256000,
          1024000,
          4096000,
          16384000
         ],
         "xaxis": "x",
         "y": [
          10.4957,
          8.6831,
          3.1949,
          1.7568,
          0.6163,
          0.1849,
          0.0583
         ],
         "yaxis": "y"
        },
        {
         "hovertemplate": "File=500mb_samba<br>Standard=zstd<br>gpu=RTX2080TI<br>chunksize_Bytes=%{x}<br>decompression_throughput_GBps=%{y}<extra></extra>",
         "legendgroup": "500mb_samba",
         "line": {
          "color": "#19d3f3",
          "dash": "solid"
         },
         "marker": {
          "symbol": "circle"
         },
         "mode": "lines+markers",
         "name": "500mb_samba",
         "orientation": "v",
         "showlegend": false,
         "type": "scatter",
         "x": [
          4000,
          16000,
          64000,
          256000,
          1024000,
          4096000,
          16384000
         ],
         "xaxis": "x2",
         "y": [
          5.9034,
          5.5905,
          2.428,
          1.4292,
          0.5674,
          0.2311,
          0.0674
         ],
         "yaxis": "y2"
        },
        {
         "hovertemplate": "File=500mb_samba<br>Standard=zstd<br>gpu=RTX3050TI<br>chunksize_Bytes=%{x}<br>decompression_throughput_GBps=%{y}<extra></extra>",
         "legendgroup": "500mb_samba",
         "line": {
          "color": "#19d3f3",
          "dash": "solid"
         },
         "marker": {
          "symbol": "circle"
         },
         "mode": "lines+markers",
         "name": "500mb_samba",
         "orientation": "v",
         "showlegend": false,
         "type": "scatter",
         "x": [
          4000,
          16000,
          64000,
          256000,
          1024000,
          4096000,
          16384000
         ],
         "xaxis": "x3",
         "y": [
          3.4579,
          3.9739,
          2.9852,
          1.4604,
          0.7015,
          0.2087,
          0.0617
         ],
         "yaxis": "y3"
        },
        {
         "hovertemplate": "File=500mb_sao<br>Standard=bitcomp<br>gpu=A100<br>chunksize_Bytes=%{x}<br>decompression_throughput_GBps=%{y}<extra></extra>",
         "legendgroup": "500mb_sao",
         "line": {
          "color": "#FF6692",
          "dash": "solid"
         },
         "marker": {
          "symbol": "circle"
         },
         "mode": "lines+markers",
         "name": "500mb_sao",
         "orientation": "v",
         "showlegend": true,
         "type": "scatter",
         "x": [
          4000,
          16000,
          64000,
          256000,
          1024000,
          4096000,
          16384000,
          65536000
         ],
         "xaxis": "x16",
         "y": [
          52.0255,
          61.9528,
          61.5155,
          45.461,
          17.7451,
          7.1357,
          3.4688,
          3.2613
         ],
         "yaxis": "y16"
        },
        {
         "hovertemplate": "File=500mb_sao<br>Standard=bitcomp<br>gpu=RTX2080TI<br>chunksize_Bytes=%{x}<br>decompression_throughput_GBps=%{y}<extra></extra>",
         "legendgroup": "500mb_sao",
         "line": {
          "color": "#FF6692",
          "dash": "solid"
         },
         "marker": {
          "symbol": "circle"
         },
         "mode": "lines+markers",
         "name": "500mb_sao",
         "orientation": "v",
         "showlegend": false,
         "type": "scatter",
         "x": [
          4000,
          16000,
          64000,
          256000,
          1024000,
          4096000,
          16384000,
          65536000
         ],
         "xaxis": "x17",
         "y": [
          35.8354,
          44.7961,
          62.9509,
          39.9477,
          15.0072,
          4.4421,
          2.5837,
          2.6038
         ],
         "yaxis": "y17"
        },
        {
         "hovertemplate": "File=500mb_sao<br>Standard=bitcomp<br>gpu=RTX3050TI<br>chunksize_Bytes=%{x}<br>decompression_throughput_GBps=%{y}<extra></extra>",
         "legendgroup": "500mb_sao",
         "line": {
          "color": "#FF6692",
          "dash": "solid"
         },
         "marker": {
          "symbol": "circle"
         },
         "mode": "lines+markers",
         "name": "500mb_sao",
         "orientation": "v",
         "showlegend": false,
         "type": "scatter",
         "x": [
          4000,
          16000,
          64000,
          256000,
          1024000,
          4096000,
          16384000,
          65536000
         ],
         "xaxis": "x18",
         "y": [
          19.4744,
          31.7044,
          39.2829,
          37.9349,
          14.0769,
          3.9535,
          2.2787,
          2.2782
         ],
         "yaxis": "y18"
        },
        {
         "hovertemplate": "File=500mb_sao<br>Standard=cascaded<br>gpu=A100<br>chunksize_Bytes=%{x}<br>decompression_throughput_GBps=%{y}<extra></extra>",
         "legendgroup": "500mb_sao",
         "line": {
          "color": "#FF6692",
          "dash": "solid"
         },
         "marker": {
          "symbol": "circle"
         },
         "mode": "lines+markers",
         "name": "500mb_sao",
         "orientation": "v",
         "showlegend": false,
         "type": "scatter",
         "x": [
          4000,
          16000,
          64000,
          256000,
          1024000,
          4096000,
          16384000,
          65536000
         ],
         "xaxis": "x13",
         "y": [
          142.7998,
          145.0853,
          101.9448,
          42.8157,
          13.2792,
          4.3421,
          1.81,
          1.8328
         ],
         "yaxis": "y13"
        },
        {
         "hovertemplate": "File=500mb_sao<br>Standard=cascaded<br>gpu=RTX2080TI<br>chunksize_Bytes=%{x}<br>decompression_throughput_GBps=%{y}<extra></extra>",
         "legendgroup": "500mb_sao",
         "line": {
          "color": "#FF6692",
          "dash": "solid"
         },
         "marker": {
          "symbol": "circle"
         },
         "mode": "lines+markers",
         "name": "500mb_sao",
         "orientation": "v",
         "showlegend": false,
         "type": "scatter",
         "x": [
          4000,
          16000,
          64000,
          256000,
          1024000,
          4096000,
          16384000,
          65536000
         ],
         "xaxis": "x14",
         "y": [
          92.0858,
          102.7304,
          61.0351,
          34.3994,
          10.0498,
          2.6592,
          1.5276,
          1.5347
         ],
         "yaxis": "y14"
        },
        {
         "hovertemplate": "File=500mb_sao<br>Standard=cascaded<br>gpu=RTX3050TI<br>chunksize_Bytes=%{x}<br>decompression_throughput_GBps=%{y}<extra></extra>",
         "legendgroup": "500mb_sao",
         "line": {
          "color": "#FF6692",
          "dash": "solid"
         },
         "marker": {
          "symbol": "circle"
         },
         "mode": "lines+markers",
         "name": "500mb_sao",
         "orientation": "v",
         "showlegend": false,
         "type": "scatter",
         "x": [
          4000,
          16000,
          64000,
          256000,
          1024000,
          4096000,
          16384000,
          65536000
         ],
         "xaxis": "x15",
         "y": [
          49.709,
          57.0552,
          59.3099,
          29.8621,
          8.66,
          2.2781,
          1.2953,
          1.2953
         ],
         "yaxis": "y15"
        },
        {
         "hovertemplate": "File=500mb_sao<br>Standard=gdeflate<br>gpu=A100<br>chunksize_Bytes=%{x}<br>decompression_throughput_GBps=%{y}<extra></extra>",
         "legendgroup": "500mb_sao",
         "line": {
          "color": "#FF6692",
          "dash": "solid"
         },
         "marker": {
          "symbol": "circle"
         },
         "mode": "lines+markers",
         "name": "500mb_sao",
         "orientation": "v",
         "showlegend": false,
         "type": "scatter",
         "x": [
          4000,
          16000,
          64000
         ],
         "xaxis": "x10",
         "y": [
          21.6037,
          8.2794,
          2.2623
         ],
         "yaxis": "y10"
        },
        {
         "hovertemplate": "File=500mb_sao<br>Standard=gdeflate<br>gpu=RTX2080TI<br>chunksize_Bytes=%{x}<br>decompression_throughput_GBps=%{y}<extra></extra>",
         "legendgroup": "500mb_sao",
         "line": {
          "color": "#FF6692",
          "dash": "solid"
         },
         "marker": {
          "symbol": "circle"
         },
         "mode": "lines+markers",
         "name": "500mb_sao",
         "orientation": "v",
         "showlegend": false,
         "type": "scatter",
         "x": [
          4000,
          16000,
          64000
         ],
         "xaxis": "x11",
         "y": [
          17.9234,
          8.5758,
          2.43
         ],
         "yaxis": "y11"
        },
        {
         "hovertemplate": "File=500mb_sao<br>Standard=gdeflate<br>gpu=RTX3050TI<br>chunksize_Bytes=%{x}<br>decompression_throughput_GBps=%{y}<extra></extra>",
         "legendgroup": "500mb_sao",
         "line": {
          "color": "#FF6692",
          "dash": "solid"
         },
         "marker": {
          "symbol": "circle"
         },
         "mode": "lines+markers",
         "name": "500mb_sao",
         "orientation": "v",
         "showlegend": false,
         "type": "scatter",
         "x": [
          4000,
          16000,
          64000
         ],
         "xaxis": "x12",
         "y": [
          5.8015,
          5.9237,
          2.0131
         ],
         "yaxis": "y12"
        },
        {
         "hovertemplate": "File=500mb_sao<br>Standard=lz4<br>gpu=A100<br>chunksize_Bytes=%{x}<br>decompression_throughput_GBps=%{y}<extra></extra>",
         "legendgroup": "500mb_sao",
         "line": {
          "color": "#FF6692",
          "dash": "solid"
         },
         "marker": {
          "symbol": "circle"
         },
         "mode": "lines+markers",
         "name": "500mb_sao",
         "orientation": "v",
         "showlegend": false,
         "type": "scatter",
         "x": [
          4000,
          16000,
          64000,
          256000,
          1024000,
          4096000,
          16384000,
          65536000
         ],
         "xaxis": "x7",
         "y": [
          29.204,
          9.1119,
          2.3769,
          0.6028,
          0.1844,
          0.047,
          0.0266,
          0.0266
         ],
         "yaxis": "y7"
        },
        {
         "hovertemplate": "File=500mb_sao<br>Standard=lz4<br>gpu=RTX2080TI<br>chunksize_Bytes=%{x}<br>decompression_throughput_GBps=%{y}<extra></extra>",
         "legendgroup": "500mb_sao",
         "line": {
          "color": "#FF6692",
          "dash": "solid"
         },
         "marker": {
          "symbol": "circle"
         },
         "mode": "lines+markers",
         "name": "500mb_sao",
         "orientation": "v",
         "showlegend": false,
         "type": "scatter",
         "x": [
          4000,
          16000,
          64000,
          256000,
          1024000,
          4096000,
          16384000,
          65536000
         ],
         "xaxis": "x8",
         "y": [
          22.2441,
          9.9518,
          2.7031,
          0.7083,
          0.2439,
          0.062,
          0.0351,
          0.0352
         ],
         "yaxis": "y8"
        },
        {
         "hovertemplate": "File=500mb_sao<br>Standard=lz4<br>gpu=RTX3050TI<br>chunksize_Bytes=%{x}<br>decompression_throughput_GBps=%{y}<extra></extra>",
         "legendgroup": "500mb_sao",
         "line": {
          "color": "#FF6692",
          "dash": "solid"
         },
         "marker": {
          "symbol": "circle"
         },
         "mode": "lines+markers",
         "name": "500mb_sao",
         "orientation": "v",
         "showlegend": false,
         "type": "scatter",
         "x": [
          4000,
          16000,
          64000,
          256000,
          1024000,
          4096000,
          16384000,
          65536000
         ],
         "xaxis": "x9",
         "y": [
          8.6038,
          7.1878,
          2.3721,
          0.6323,
          0.2244,
          0.0571,
          0.0324,
          0.0324
         ],
         "yaxis": "y9"
        },
        {
         "hovertemplate": "File=500mb_sao<br>Standard=snappy<br>gpu=A100<br>chunksize_Bytes=%{x}<br>decompression_throughput_GBps=%{y}<extra></extra>",
         "legendgroup": "500mb_sao",
         "line": {
          "color": "#FF6692",
          "dash": "solid"
         },
         "marker": {
          "symbol": "circle"
         },
         "mode": "lines+markers",
         "name": "500mb_sao",
         "orientation": "v",
         "showlegend": false,
         "type": "scatter",
         "x": [
          4000,
          16000,
          64000,
          256000,
          1024000,
          4096000,
          16384000,
          65536000
         ],
         "xaxis": "x4",
         "y": [
          25.2336,
          8.0758,
          2.1302,
          0.5371,
          0.1653,
          0.043,
          0.0241,
          0.0241
         ],
         "yaxis": "y4"
        },
        {
         "hovertemplate": "File=500mb_sao<br>Standard=snappy<br>gpu=RTX2080TI<br>chunksize_Bytes=%{x}<br>decompression_throughput_GBps=%{y}<extra></extra>",
         "legendgroup": "500mb_sao",
         "line": {
          "color": "#FF6692",
          "dash": "solid"
         },
         "marker": {
          "symbol": "circle"
         },
         "mode": "lines+markers",
         "name": "500mb_sao",
         "orientation": "v",
         "showlegend": false,
         "type": "scatter",
         "x": [
          4000,
          16000,
          64000,
          256000,
          1024000,
          4096000,
          16384000,
          65536000
         ],
         "xaxis": "x5",
         "y": [
          14.6777,
          7.7707,
          2.016,
          0.5339,
          0.1815,
          0.0473,
          0.0266,
          0.0266
         ],
         "yaxis": "y5"
        },
        {
         "hovertemplate": "File=500mb_sao<br>Standard=snappy<br>gpu=RTX3050TI<br>chunksize_Bytes=%{x}<br>decompression_throughput_GBps=%{y}<extra></extra>",
         "legendgroup": "500mb_sao",
         "line": {
          "color": "#FF6692",
          "dash": "solid"
         },
         "marker": {
          "symbol": "circle"
         },
         "mode": "lines+markers",
         "name": "500mb_sao",
         "orientation": "v",
         "showlegend": false,
         "type": "scatter",
         "x": [
          4000,
          16000,
          64000,
          256000,
          1024000,
          4096000,
          16384000,
          65536000
         ],
         "xaxis": "x6",
         "y": [
          5.6454,
          3.6779,
          1.9577,
          0.518,
          0.1659,
          0.0465,
          0.0262,
          0.0237
         ],
         "yaxis": "y6"
        },
        {
         "hovertemplate": "File=500mb_sao<br>Standard=zstd<br>gpu=A100<br>chunksize_Bytes=%{x}<br>decompression_throughput_GBps=%{y}<extra></extra>",
         "legendgroup": "500mb_sao",
         "line": {
          "color": "#FF6692",
          "dash": "solid"
         },
         "marker": {
          "symbol": "circle"
         },
         "mode": "lines+markers",
         "name": "500mb_sao",
         "orientation": "v",
         "showlegend": false,
         "type": "scatter",
         "x": [
          4000,
          16000,
          64000,
          256000,
          1024000,
          4096000,
          16384000,
          65536000
         ],
         "xaxis": "x",
         "y": [
          6.2911,
          3.7829,
          1.367,
          0.6628,
          0.2747,
          0.0751,
          0.0398,
          0.0398
         ],
         "yaxis": "y"
        },
        {
         "hovertemplate": "File=500mb_sao<br>Standard=zstd<br>gpu=RTX2080TI<br>chunksize_Bytes=%{x}<br>decompression_throughput_GBps=%{y}<extra></extra>",
         "legendgroup": "500mb_sao",
         "line": {
          "color": "#FF6692",
          "dash": "solid"
         },
         "marker": {
          "symbol": "circle"
         },
         "mode": "lines+markers",
         "name": "500mb_sao",
         "orientation": "v",
         "showlegend": false,
         "type": "scatter",
         "x": [
          4000,
          16000,
          64000,
          256000,
          1024000,
          4096000,
          16384000,
          65536000
         ],
         "xaxis": "x2",
         "y": [
          5.5508,
          3.0866,
          1.0487,
          0.615,
          0.2525,
          0.0684,
          0.0352,
          0.0352
         ],
         "yaxis": "y2"
        },
        {
         "hovertemplate": "File=500mb_sao<br>Standard=zstd<br>gpu=RTX3050TI<br>chunksize_Bytes=%{x}<br>decompression_throughput_GBps=%{y}<extra></extra>",
         "legendgroup": "500mb_sao",
         "line": {
          "color": "#FF6692",
          "dash": "solid"
         },
         "marker": {
          "symbol": "circle"
         },
         "mode": "lines+markers",
         "name": "500mb_sao",
         "orientation": "v",
         "showlegend": false,
         "type": "scatter",
         "x": [
          4000,
          16000,
          64000,
          256000,
          1024000,
          4096000,
          16384000,
          65536000
         ],
         "xaxis": "x3",
         "y": [
          3.2086,
          2.6523,
          1.2921,
          0.6551,
          0.321,
          0.0944,
          0.05,
          0.0476
         ],
         "yaxis": "y3"
        },
        {
         "hovertemplate": "File=500mb_xml<br>Standard=bitcomp<br>gpu=A100<br>chunksize_Bytes=%{x}<br>decompression_throughput_GBps=%{y}<extra></extra>",
         "legendgroup": "500mb_xml",
         "line": {
          "color": "#B6E880",
          "dash": "solid"
         },
         "marker": {
          "symbol": "circle"
         },
         "mode": "lines+markers",
         "name": "500mb_xml",
         "orientation": "v",
         "showlegend": true,
         "type": "scatter",
         "x": [
          4000,
          16000,
          64000,
          256000,
          1024000,
          4096000,
          16384000,
          65536000
         ],
         "xaxis": "x16",
         "y": [
          44.5084,
          43.9463,
          23.4343,
          7.7751,
          2.3902,
          0.6915,
          0.5311,
          0.5311
         ],
         "yaxis": "y16"
        },
        {
         "hovertemplate": "File=500mb_xml<br>Standard=bitcomp<br>gpu=RTX2080TI<br>chunksize_Bytes=%{x}<br>decompression_throughput_GBps=%{y}<extra></extra>",
         "legendgroup": "500mb_xml",
         "line": {
          "color": "#B6E880",
          "dash": "solid"
         },
         "marker": {
          "symbol": "circle"
         },
         "mode": "lines+markers",
         "name": "500mb_xml",
         "orientation": "v",
         "showlegend": false,
         "type": "scatter",
         "x": [
          4000,
          16000,
          64000,
          256000,
          1024000,
          4096000,
          16384000,
          65536000
         ],
         "xaxis": "x17",
         "y": [
          33.9719,
          38.7744,
          25.9621,
          8.7123,
          2.5695,
          0.7545,
          0.5729,
          0.5779
         ],
         "yaxis": "y17"
        },
        {
         "hovertemplate": "File=500mb_xml<br>Standard=cascaded<br>gpu=A100<br>chunksize_Bytes=%{x}<br>decompression_throughput_GBps=%{y}<extra></extra>",
         "legendgroup": "500mb_xml",
         "line": {
          "color": "#B6E880",
          "dash": "solid"
         },
         "marker": {
          "symbol": "circle"
         },
         "mode": "lines+markers",
         "name": "500mb_xml",
         "orientation": "v",
         "showlegend": false,
         "type": "scatter",
         "x": [
          4000,
          16000,
          64000,
          256000,
          1024000,
          4096000,
          16384000,
          65536000
         ],
         "xaxis": "x13",
         "y": [
          86.0587,
          49.3617,
          31.3926,
          4.9697,
          5.1095,
          3.2135,
          2.4801,
          2.4744
         ],
         "yaxis": "y13"
        },
        {
         "hovertemplate": "File=500mb_xml<br>Standard=cascaded<br>gpu=RTX2080TI<br>chunksize_Bytes=%{x}<br>decompression_throughput_GBps=%{y}<extra></extra>",
         "legendgroup": "500mb_xml",
         "line": {
          "color": "#B6E880",
          "dash": "solid"
         },
         "marker": {
          "symbol": "circle"
         },
         "mode": "lines+markers",
         "name": "500mb_xml",
         "orientation": "v",
         "showlegend": false,
         "type": "scatter",
         "x": [
          4000,
          16000,
          64000,
          256000,
          1024000,
          4096000,
          16384000,
          65536000
         ],
         "xaxis": "x14",
         "y": [
          66.9767,
          38.268,
          28.1117,
          5.1638,
          5.1444,
          1.9776,
          1.5325,
          1.5246
         ],
         "yaxis": "y14"
        },
        {
         "hovertemplate": "File=500mb_xml<br>Standard=gdeflate<br>gpu=A100<br>chunksize_Bytes=%{x}<br>decompression_throughput_GBps=%{y}<extra></extra>",
         "legendgroup": "500mb_xml",
         "line": {
          "color": "#B6E880",
          "dash": "solid"
         },
         "marker": {
          "symbol": "circle"
         },
         "mode": "lines+markers",
         "name": "500mb_xml",
         "orientation": "v",
         "showlegend": false,
         "type": "scatter",
         "x": [
          4000,
          16000,
          64000
         ],
         "xaxis": "x10",
         "y": [
          20.4806,
          7.5091,
          2.2693
         ],
         "yaxis": "y10"
        },
        {
         "hovertemplate": "File=500mb_xml<br>Standard=gdeflate<br>gpu=RTX2080TI<br>chunksize_Bytes=%{x}<br>decompression_throughput_GBps=%{y}<extra></extra>",
         "legendgroup": "500mb_xml",
         "line": {
          "color": "#B6E880",
          "dash": "solid"
         },
         "marker": {
          "symbol": "circle"
         },
         "mode": "lines+markers",
         "name": "500mb_xml",
         "orientation": "v",
         "showlegend": false,
         "type": "scatter",
         "x": [
          4000,
          16000,
          64000
         ],
         "xaxis": "x11",
         "y": [
          18.8087,
          8.0692,
          2.5221
         ],
         "yaxis": "y11"
        },
        {
         "hovertemplate": "File=500mb_xml<br>Standard=gdeflate<br>gpu=RTX3050TI<br>chunksize_Bytes=%{x}<br>decompression_throughput_GBps=%{y}<extra></extra>",
         "legendgroup": "500mb_xml",
         "line": {
          "color": "#B6E880",
          "dash": "solid"
         },
         "marker": {
          "symbol": "circle"
         },
         "mode": "lines+markers",
         "name": "500mb_xml",
         "orientation": "v",
         "showlegend": false,
         "type": "scatter",
         "x": [
          4000,
          16000,
          64000
         ],
         "xaxis": "x12",
         "y": [
          7.7885,
          6.8826,
          2.3489
         ],
         "yaxis": "y12"
        },
        {
         "hovertemplate": "File=500mb_xml<br>Standard=lz4<br>gpu=A100<br>chunksize_Bytes=%{x}<br>decompression_throughput_GBps=%{y}<extra></extra>",
         "legendgroup": "500mb_xml",
         "line": {
          "color": "#B6E880",
          "dash": "solid"
         },
         "marker": {
          "symbol": "circle"
         },
         "mode": "lines+markers",
         "name": "500mb_xml",
         "orientation": "v",
         "showlegend": false,
         "type": "scatter",
         "x": [
          4000,
          16000,
          64000,
          256000,
          1024000,
          4096000,
          16384000,
          65536000
         ],
         "xaxis": "x7",
         "y": [
          19.2598,
          5.7306,
          1.5028,
          0.3853,
          0.1286,
          0.0484,
          0.0332,
          0.0332
         ],
         "yaxis": "y7"
        },
        {
         "hovertemplate": "File=500mb_xml<br>Standard=lz4<br>gpu=RTX2080TI<br>chunksize_Bytes=%{x}<br>decompression_throughput_GBps=%{y}<extra></extra>",
         "legendgroup": "500mb_xml",
         "line": {
          "color": "#B6E880",
          "dash": "solid"
         },
         "marker": {
          "symbol": "circle"
         },
         "mode": "lines+markers",
         "name": "500mb_xml",
         "orientation": "v",
         "showlegend": false,
         "type": "scatter",
         "x": [
          4000,
          16000,
          64000,
          256000,
          1024000,
          4096000,
          16384000,
          65536000
         ],
         "xaxis": "x8",
         "y": [
          18.0447,
          6.6021,
          1.7284,
          0.4684,
          0.1577,
          0.0657,
          0.045,
          0.0447
         ],
         "yaxis": "y8"
        },
        {
         "hovertemplate": "File=500mb_xml<br>Standard=snappy<br>gpu=A100<br>chunksize_Bytes=%{x}<br>decompression_throughput_GBps=%{y}<extra></extra>",
         "legendgroup": "500mb_xml",
         "line": {
          "color": "#B6E880",
          "dash": "solid"
         },
         "marker": {
          "symbol": "circle"
         },
         "mode": "lines+markers",
         "name": "500mb_xml",
         "orientation": "v",
         "showlegend": false,
         "type": "scatter",
         "x": [
          4000,
          16000,
          64000,
          256000,
          1024000,
          4096000,
          16384000,
          65536000
         ],
         "xaxis": "x4",
         "y": [
          19.1165,
          5.5377,
          1.623,
          0.4297,
          0.1794,
          0.0719,
          0.0485,
          0.0485
         ],
         "yaxis": "y4"
        },
        {
         "hovertemplate": "File=500mb_xml<br>Standard=snappy<br>gpu=RTX2080TI<br>chunksize_Bytes=%{x}<br>decompression_throughput_GBps=%{y}<extra></extra>",
         "legendgroup": "500mb_xml",
         "line": {
          "color": "#B6E880",
          "dash": "solid"
         },
         "marker": {
          "symbol": "circle"
         },
         "mode": "lines+markers",
         "name": "500mb_xml",
         "orientation": "v",
         "showlegend": false,
         "type": "scatter",
         "x": [
          4000,
          16000,
          64000,
          256000,
          1024000,
          4096000,
          16384000,
          65536000
         ],
         "xaxis": "x5",
         "y": [
          12.399,
          5.4123,
          1.6488,
          0.4446,
          0.2094,
          0.0881,
          0.0579,
          0.0579
         ],
         "yaxis": "y5"
        },
        {
         "hovertemplate": "File=500mb_xml<br>Standard=snappy<br>gpu=RTX3050TI<br>chunksize_Bytes=%{x}<br>decompression_throughput_GBps=%{y}<extra></extra>",
         "legendgroup": "500mb_xml",
         "line": {
          "color": "#B6E880",
          "dash": "solid"
         },
         "marker": {
          "symbol": "circle"
         },
         "mode": "lines+markers",
         "name": "500mb_xml",
         "orientation": "v",
         "showlegend": false,
         "type": "scatter",
         "x": [
          4000,
          16000,
          64000,
          256000,
          1024000,
          4096000,
          16384000,
          65536000
         ],
         "xaxis": "x6",
         "y": [
          5.9517,
          4.6877,
          1.5919,
          0.4315,
          0.205,
          0.0854,
          0.0566,
          0.0566
         ],
         "yaxis": "y6"
        },
        {
         "hovertemplate": "File=500mb_xml<br>Standard=zstd<br>gpu=A100<br>chunksize_Bytes=%{x}<br>decompression_throughput_GBps=%{y}<extra></extra>",
         "legendgroup": "500mb_xml",
         "line": {
          "color": "#B6E880",
          "dash": "solid"
         },
         "marker": {
          "symbol": "circle"
         },
         "mode": "lines+markers",
         "name": "500mb_xml",
         "orientation": "v",
         "showlegend": false,
         "type": "scatter",
         "x": [
          4000,
          16000,
          64000,
          256000,
          1024000,
          4096000,
          16384000,
          65536000
         ],
         "xaxis": "x",
         "y": [
          5.3067,
          3.1653,
          0.9502,
          0.5366,
          0.1876,
          0.0658,
          0.0468,
          0.0468
         ],
         "yaxis": "y"
        },
        {
         "hovertemplate": "File=500mb_xml<br>Standard=zstd<br>gpu=RTX2080TI<br>chunksize_Bytes=%{x}<br>decompression_throughput_GBps=%{y}<extra></extra>",
         "legendgroup": "500mb_xml",
         "line": {
          "color": "#B6E880",
          "dash": "solid"
         },
         "marker": {
          "symbol": "circle"
         },
         "mode": "lines+markers",
         "name": "500mb_xml",
         "orientation": "v",
         "showlegend": false,
         "type": "scatter",
         "x": [
          4000,
          16000,
          64000,
          256000,
          1024000,
          4096000,
          16384000,
          65536000
         ],
         "xaxis": "x2",
         "y": [
          4.8811,
          2.5169,
          0.7319,
          0.4231,
          0.165,
          0.0784,
          0.0557,
          0.0554
         ],
         "yaxis": "y2"
        },
        {
         "hovertemplate": "File=500mb_xml<br>Standard=zstd<br>gpu=RTX3050TI<br>chunksize_Bytes=%{x}<br>decompression_throughput_GBps=%{y}<extra></extra>",
         "legendgroup": "500mb_xml",
         "line": {
          "color": "#B6E880",
          "dash": "solid"
         },
         "marker": {
          "symbol": "circle"
         },
         "mode": "lines+markers",
         "name": "500mb_xml",
         "orientation": "v",
         "showlegend": false,
         "type": "scatter",
         "x": [
          4000,
          16000,
          64000,
          256000,
          1024000,
          4096000,
          16384000,
          65536000
         ],
         "xaxis": "x3",
         "y": [
          2.9604,
          3.0039,
          0.963,
          0.4522,
          0.205,
          0.077,
          0.055,
          0.055
         ],
         "yaxis": "y3"
        },
        {
         "hovertemplate": "File=500mb_silesia.zip<br>Standard=bitcomp<br>gpu=RTX2080TI<br>chunksize_Bytes=%{x}<br>decompression_throughput_GBps=%{y}<extra></extra>",
         "legendgroup": "500mb_silesia.zip",
         "line": {
          "color": "#FF97FF",
          "dash": "solid"
         },
         "marker": {
          "symbol": "circle"
         },
         "mode": "lines+markers",
         "name": "500mb_silesia.zip",
         "orientation": "v",
         "showlegend": true,
         "type": "scatter",
         "x": [
          4000,
          16000,
          64000,
          256000,
          1024000,
          4096000,
          16384000,
          65536000
         ],
         "xaxis": "x17",
         "y": [
          52.488,
          98.6475,
          159.7129,
          162.1297,
          102.3801,
          34.222,
          10.3595,
          2.704
         ],
         "yaxis": "y17"
        },
        {
         "hovertemplate": "File=500mb_silesia.zip<br>Standard=gdeflate<br>gpu=RTX2080TI<br>chunksize_Bytes=%{x}<br>decompression_throughput_GBps=%{y}<extra></extra>",
         "legendgroup": "500mb_silesia.zip",
         "line": {
          "color": "#FF97FF",
          "dash": "solid"
         },
         "marker": {
          "symbol": "circle"
         },
         "mode": "lines+markers",
         "name": "500mb_silesia.zip",
         "orientation": "v",
         "showlegend": false,
         "type": "scatter",
         "x": [
          4000,
          16000,
          64000
         ],
         "xaxis": "x11",
         "y": [
          31.3071,
          32.6559,
          19.8915
         ],
         "yaxis": "y11"
        },
        {
         "hovertemplate": "File=500mb_silesia.zip<br>Standard=lz4<br>gpu=RTX2080TI<br>chunksize_Bytes=%{x}<br>decompression_throughput_GBps=%{y}<extra></extra>",
         "legendgroup": "500mb_silesia.zip",
         "line": {
          "color": "#FF97FF",
          "dash": "solid"
         },
         "marker": {
          "symbol": "circle"
         },
         "mode": "lines+markers",
         "name": "500mb_silesia.zip",
         "orientation": "v",
         "showlegend": false,
         "type": "scatter",
         "x": [
          4000,
          16000,
          64000,
          256000,
          1024000,
          4096000,
          16384000
         ],
         "xaxis": "x8",
         "y": [
          131.1538,
          66.1014,
          35.3189,
          16.8404,
          11.417,
          4.3129,
          1.3884
         ],
         "yaxis": "y8"
        },
        {
         "hovertemplate": "File=500mb_silesia.zip<br>Standard=snappy<br>gpu=RTX2080TI<br>chunksize_Bytes=%{x}<br>decompression_throughput_GBps=%{y}<extra></extra>",
         "legendgroup": "500mb_silesia.zip",
         "line": {
          "color": "#FF97FF",
          "dash": "solid"
         },
         "marker": {
          "symbol": "circle"
         },
         "mode": "lines+markers",
         "name": "500mb_silesia.zip",
         "orientation": "v",
         "showlegend": false,
         "type": "scatter",
         "x": [
          4000,
          16000,
          64000,
          256000,
          1024000,
          4096000,
          16384000,
          65536000
         ],
         "xaxis": "x5",
         "y": [
          80.347,
          46.9124,
          27.3962,
          15.0934,
          8.4862,
          3.665,
          1.1227,
          0.2925
         ],
         "yaxis": "y5"
        },
        {
         "hovertemplate": "File=500mb_silesia.zip<br>Standard=zstd<br>gpu=RTX2080TI<br>chunksize_Bytes=%{x}<br>decompression_throughput_GBps=%{y}<extra></extra>",
         "legendgroup": "500mb_silesia.zip",
         "line": {
          "color": "#FF97FF",
          "dash": "solid"
         },
         "marker": {
          "symbol": "circle"
         },
         "mode": "lines+markers",
         "name": "500mb_silesia.zip",
         "orientation": "v",
         "showlegend": false,
         "type": "scatter",
         "x": [
          4000,
          16000,
          64000
         ],
         "xaxis": "x2",
         "y": [
          47.3668,
          30.0801,
          9.7536
         ],
         "yaxis": "y2"
        }
       ],
       "layout": {
        "annotations": [
         {
          "font": {},
          "showarrow": false,
          "text": "gpu=A100",
          "x": 0.14666666666666667,
          "xanchor": "center",
          "xref": "paper",
          "y": 1,
          "yanchor": "bottom",
          "yref": "paper"
         },
         {
          "font": {},
          "showarrow": false,
          "text": "gpu=RTX2080TI",
          "x": 0.49,
          "xanchor": "center",
          "xref": "paper",
          "y": 1,
          "yanchor": "bottom",
          "yref": "paper"
         },
         {
          "font": {},
          "showarrow": false,
          "text": "gpu=RTX3050TI",
          "x": 0.8333333333333333,
          "xanchor": "center",
          "xref": "paper",
          "y": 1,
          "yanchor": "bottom",
          "yref": "paper"
         },
         {
          "font": {},
          "showarrow": false,
          "text": "Standard=zstd",
          "textangle": 90,
          "x": 0.98,
          "xanchor": "left",
          "xref": "paper",
          "y": 0.07083333333333333,
          "yanchor": "middle",
          "yref": "paper"
         },
         {
          "font": {},
          "showarrow": false,
          "text": "Standard=snappy",
          "textangle": 90,
          "x": 0.98,
          "xanchor": "left",
          "xref": "paper",
          "y": 0.2425,
          "yanchor": "middle",
          "yref": "paper"
         },
         {
          "font": {},
          "showarrow": false,
          "text": "Standard=lz4",
          "textangle": 90,
          "x": 0.98,
          "xanchor": "left",
          "xref": "paper",
          "y": 0.4141666666666667,
          "yanchor": "middle",
          "yref": "paper"
         },
         {
          "font": {},
          "showarrow": false,
          "text": "Standard=gdeflate",
          "textangle": 90,
          "x": 0.98,
          "xanchor": "left",
          "xref": "paper",
          "y": 0.5858333333333334,
          "yanchor": "middle",
          "yref": "paper"
         },
         {
          "font": {},
          "showarrow": false,
          "text": "Standard=cascaded",
          "textangle": 90,
          "x": 0.98,
          "xanchor": "left",
          "xref": "paper",
          "y": 0.7575000000000001,
          "yanchor": "middle",
          "yref": "paper"
         },
         {
          "font": {},
          "showarrow": false,
          "text": "Standard=bitcomp",
          "textangle": 90,
          "x": 0.98,
          "xanchor": "left",
          "xref": "paper",
          "y": 0.9291666666666667,
          "yanchor": "middle",
          "yref": "paper"
         }
        ],
        "height": 1000,
        "legend": {
         "title": {
          "text": "File"
         },
         "tracegroupgap": 0
        },
        "template": {
         "data": {
          "bar": [
           {
            "error_x": {
             "color": "#2a3f5f"
            },
            "error_y": {
             "color": "#2a3f5f"
            },
            "marker": {
             "line": {
              "color": "#E5ECF6",
              "width": 0.5
             },
             "pattern": {
              "fillmode": "overlay",
              "size": 10,
              "solidity": 0.2
             }
            },
            "type": "bar"
           }
          ],
          "barpolar": [
           {
            "marker": {
             "line": {
              "color": "#E5ECF6",
              "width": 0.5
             },
             "pattern": {
              "fillmode": "overlay",
              "size": 10,
              "solidity": 0.2
             }
            },
            "type": "barpolar"
           }
          ],
          "carpet": [
           {
            "aaxis": {
             "endlinecolor": "#2a3f5f",
             "gridcolor": "white",
             "linecolor": "white",
             "minorgridcolor": "white",
             "startlinecolor": "#2a3f5f"
            },
            "baxis": {
             "endlinecolor": "#2a3f5f",
             "gridcolor": "white",
             "linecolor": "white",
             "minorgridcolor": "white",
             "startlinecolor": "#2a3f5f"
            },
            "type": "carpet"
           }
          ],
          "choropleth": [
           {
            "colorbar": {
             "outlinewidth": 0,
             "ticks": ""
            },
            "type": "choropleth"
           }
          ],
          "contour": [
           {
            "colorbar": {
             "outlinewidth": 0,
             "ticks": ""
            },
            "colorscale": [
             [
              0,
              "#0d0887"
             ],
             [
              0.1111111111111111,
              "#46039f"
             ],
             [
              0.2222222222222222,
              "#7201a8"
             ],
             [
              0.3333333333333333,
              "#9c179e"
             ],
             [
              0.4444444444444444,
              "#bd3786"
             ],
             [
              0.5555555555555556,
              "#d8576b"
             ],
             [
              0.6666666666666666,
              "#ed7953"
             ],
             [
              0.7777777777777778,
              "#fb9f3a"
             ],
             [
              0.8888888888888888,
              "#fdca26"
             ],
             [
              1,
              "#f0f921"
             ]
            ],
            "type": "contour"
           }
          ],
          "contourcarpet": [
           {
            "colorbar": {
             "outlinewidth": 0,
             "ticks": ""
            },
            "type": "contourcarpet"
           }
          ],
          "heatmap": [
           {
            "colorbar": {
             "outlinewidth": 0,
             "ticks": ""
            },
            "colorscale": [
             [
              0,
              "#0d0887"
             ],
             [
              0.1111111111111111,
              "#46039f"
             ],
             [
              0.2222222222222222,
              "#7201a8"
             ],
             [
              0.3333333333333333,
              "#9c179e"
             ],
             [
              0.4444444444444444,
              "#bd3786"
             ],
             [
              0.5555555555555556,
              "#d8576b"
             ],
             [
              0.6666666666666666,
              "#ed7953"
             ],
             [
              0.7777777777777778,
              "#fb9f3a"
             ],
             [
              0.8888888888888888,
              "#fdca26"
             ],
             [
              1,
              "#f0f921"
             ]
            ],
            "type": "heatmap"
           }
          ],
          "heatmapgl": [
           {
            "colorbar": {
             "outlinewidth": 0,
             "ticks": ""
            },
            "colorscale": [
             [
              0,
              "#0d0887"
             ],
             [
              0.1111111111111111,
              "#46039f"
             ],
             [
              0.2222222222222222,
              "#7201a8"
             ],
             [
              0.3333333333333333,
              "#9c179e"
             ],
             [
              0.4444444444444444,
              "#bd3786"
             ],
             [
              0.5555555555555556,
              "#d8576b"
             ],
             [
              0.6666666666666666,
              "#ed7953"
             ],
             [
              0.7777777777777778,
              "#fb9f3a"
             ],
             [
              0.8888888888888888,
              "#fdca26"
             ],
             [
              1,
              "#f0f921"
             ]
            ],
            "type": "heatmapgl"
           }
          ],
          "histogram": [
           {
            "marker": {
             "pattern": {
              "fillmode": "overlay",
              "size": 10,
              "solidity": 0.2
             }
            },
            "type": "histogram"
           }
          ],
          "histogram2d": [
           {
            "colorbar": {
             "outlinewidth": 0,
             "ticks": ""
            },
            "colorscale": [
             [
              0,
              "#0d0887"
             ],
             [
              0.1111111111111111,
              "#46039f"
             ],
             [
              0.2222222222222222,
              "#7201a8"
             ],
             [
              0.3333333333333333,
              "#9c179e"
             ],
             [
              0.4444444444444444,
              "#bd3786"
             ],
             [
              0.5555555555555556,
              "#d8576b"
             ],
             [
              0.6666666666666666,
              "#ed7953"
             ],
             [
              0.7777777777777778,
              "#fb9f3a"
             ],
             [
              0.8888888888888888,
              "#fdca26"
             ],
             [
              1,
              "#f0f921"
             ]
            ],
            "type": "histogram2d"
           }
          ],
          "histogram2dcontour": [
           {
            "colorbar": {
             "outlinewidth": 0,
             "ticks": ""
            },
            "colorscale": [
             [
              0,
              "#0d0887"
             ],
             [
              0.1111111111111111,
              "#46039f"
             ],
             [
              0.2222222222222222,
              "#7201a8"
             ],
             [
              0.3333333333333333,
              "#9c179e"
             ],
             [
              0.4444444444444444,
              "#bd3786"
             ],
             [
              0.5555555555555556,
              "#d8576b"
             ],
             [
              0.6666666666666666,
              "#ed7953"
             ],
             [
              0.7777777777777778,
              "#fb9f3a"
             ],
             [
              0.8888888888888888,
              "#fdca26"
             ],
             [
              1,
              "#f0f921"
             ]
            ],
            "type": "histogram2dcontour"
           }
          ],
          "mesh3d": [
           {
            "colorbar": {
             "outlinewidth": 0,
             "ticks": ""
            },
            "type": "mesh3d"
           }
          ],
          "parcoords": [
           {
            "line": {
             "colorbar": {
              "outlinewidth": 0,
              "ticks": ""
             }
            },
            "type": "parcoords"
           }
          ],
          "pie": [
           {
            "automargin": true,
            "type": "pie"
           }
          ],
          "scatter": [
           {
            "fillpattern": {
             "fillmode": "overlay",
             "size": 10,
             "solidity": 0.2
            },
            "type": "scatter"
           }
          ],
          "scatter3d": [
           {
            "line": {
             "colorbar": {
              "outlinewidth": 0,
              "ticks": ""
             }
            },
            "marker": {
             "colorbar": {
              "outlinewidth": 0,
              "ticks": ""
             }
            },
            "type": "scatter3d"
           }
          ],
          "scattercarpet": [
           {
            "marker": {
             "colorbar": {
              "outlinewidth": 0,
              "ticks": ""
             }
            },
            "type": "scattercarpet"
           }
          ],
          "scattergeo": [
           {
            "marker": {
             "colorbar": {
              "outlinewidth": 0,
              "ticks": ""
             }
            },
            "type": "scattergeo"
           }
          ],
          "scattergl": [
           {
            "marker": {
             "colorbar": {
              "outlinewidth": 0,
              "ticks": ""
             }
            },
            "type": "scattergl"
           }
          ],
          "scattermapbox": [
           {
            "marker": {
             "colorbar": {
              "outlinewidth": 0,
              "ticks": ""
             }
            },
            "type": "scattermapbox"
           }
          ],
          "scatterpolar": [
           {
            "marker": {
             "colorbar": {
              "outlinewidth": 0,
              "ticks": ""
             }
            },
            "type": "scatterpolar"
           }
          ],
          "scatterpolargl": [
           {
            "marker": {
             "colorbar": {
              "outlinewidth": 0,
              "ticks": ""
             }
            },
            "type": "scatterpolargl"
           }
          ],
          "scatterternary": [
           {
            "marker": {
             "colorbar": {
              "outlinewidth": 0,
              "ticks": ""
             }
            },
            "type": "scatterternary"
           }
          ],
          "surface": [
           {
            "colorbar": {
             "outlinewidth": 0,
             "ticks": ""
            },
            "colorscale": [
             [
              0,
              "#0d0887"
             ],
             [
              0.1111111111111111,
              "#46039f"
             ],
             [
              0.2222222222222222,
              "#7201a8"
             ],
             [
              0.3333333333333333,
              "#9c179e"
             ],
             [
              0.4444444444444444,
              "#bd3786"
             ],
             [
              0.5555555555555556,
              "#d8576b"
             ],
             [
              0.6666666666666666,
              "#ed7953"
             ],
             [
              0.7777777777777778,
              "#fb9f3a"
             ],
             [
              0.8888888888888888,
              "#fdca26"
             ],
             [
              1,
              "#f0f921"
             ]
            ],
            "type": "surface"
           }
          ],
          "table": [
           {
            "cells": {
             "fill": {
              "color": "#EBF0F8"
             },
             "line": {
              "color": "white"
             }
            },
            "header": {
             "fill": {
              "color": "#C8D4E3"
             },
             "line": {
              "color": "white"
             }
            },
            "type": "table"
           }
          ]
         },
         "layout": {
          "annotationdefaults": {
           "arrowcolor": "#2a3f5f",
           "arrowhead": 0,
           "arrowwidth": 1
          },
          "autotypenumbers": "strict",
          "coloraxis": {
           "colorbar": {
            "outlinewidth": 0,
            "ticks": ""
           }
          },
          "colorscale": {
           "diverging": [
            [
             0,
             "#8e0152"
            ],
            [
             0.1,
             "#c51b7d"
            ],
            [
             0.2,
             "#de77ae"
            ],
            [
             0.3,
             "#f1b6da"
            ],
            [
             0.4,
             "#fde0ef"
            ],
            [
             0.5,
             "#f7f7f7"
            ],
            [
             0.6,
             "#e6f5d0"
            ],
            [
             0.7,
             "#b8e186"
            ],
            [
             0.8,
             "#7fbc41"
            ],
            [
             0.9,
             "#4d9221"
            ],
            [
             1,
             "#276419"
            ]
           ],
           "sequential": [
            [
             0,
             "#0d0887"
            ],
            [
             0.1111111111111111,
             "#46039f"
            ],
            [
             0.2222222222222222,
             "#7201a8"
            ],
            [
             0.3333333333333333,
             "#9c179e"
            ],
            [
             0.4444444444444444,
             "#bd3786"
            ],
            [
             0.5555555555555556,
             "#d8576b"
            ],
            [
             0.6666666666666666,
             "#ed7953"
            ],
            [
             0.7777777777777778,
             "#fb9f3a"
            ],
            [
             0.8888888888888888,
             "#fdca26"
            ],
            [
             1,
             "#f0f921"
            ]
           ],
           "sequentialminus": [
            [
             0,
             "#0d0887"
            ],
            [
             0.1111111111111111,
             "#46039f"
            ],
            [
             0.2222222222222222,
             "#7201a8"
            ],
            [
             0.3333333333333333,
             "#9c179e"
            ],
            [
             0.4444444444444444,
             "#bd3786"
            ],
            [
             0.5555555555555556,
             "#d8576b"
            ],
            [
             0.6666666666666666,
             "#ed7953"
            ],
            [
             0.7777777777777778,
             "#fb9f3a"
            ],
            [
             0.8888888888888888,
             "#fdca26"
            ],
            [
             1,
             "#f0f921"
            ]
           ]
          },
          "colorway": [
           "#636efa",
           "#EF553B",
           "#00cc96",
           "#ab63fa",
           "#FFA15A",
           "#19d3f3",
           "#FF6692",
           "#B6E880",
           "#FF97FF",
           "#FECB52"
          ],
          "font": {
           "color": "#2a3f5f"
          },
          "geo": {
           "bgcolor": "white",
           "lakecolor": "white",
           "landcolor": "#E5ECF6",
           "showlakes": true,
           "showland": true,
           "subunitcolor": "white"
          },
          "hoverlabel": {
           "align": "left"
          },
          "hovermode": "closest",
          "mapbox": {
           "style": "light"
          },
          "paper_bgcolor": "white",
          "plot_bgcolor": "#E5ECF6",
          "polar": {
           "angularaxis": {
            "gridcolor": "white",
            "linecolor": "white",
            "ticks": ""
           },
           "bgcolor": "#E5ECF6",
           "radialaxis": {
            "gridcolor": "white",
            "linecolor": "white",
            "ticks": ""
           }
          },
          "scene": {
           "xaxis": {
            "backgroundcolor": "#E5ECF6",
            "gridcolor": "white",
            "gridwidth": 2,
            "linecolor": "white",
            "showbackground": true,
            "ticks": "",
            "zerolinecolor": "white"
           },
           "yaxis": {
            "backgroundcolor": "#E5ECF6",
            "gridcolor": "white",
            "gridwidth": 2,
            "linecolor": "white",
            "showbackground": true,
            "ticks": "",
            "zerolinecolor": "white"
           },
           "zaxis": {
            "backgroundcolor": "#E5ECF6",
            "gridcolor": "white",
            "gridwidth": 2,
            "linecolor": "white",
            "showbackground": true,
            "ticks": "",
            "zerolinecolor": "white"
           }
          },
          "shapedefaults": {
           "line": {
            "color": "#2a3f5f"
           }
          },
          "ternary": {
           "aaxis": {
            "gridcolor": "white",
            "linecolor": "white",
            "ticks": ""
           },
           "baxis": {
            "gridcolor": "white",
            "linecolor": "white",
            "ticks": ""
           },
           "bgcolor": "#E5ECF6",
           "caxis": {
            "gridcolor": "white",
            "linecolor": "white",
            "ticks": ""
           }
          },
          "title": {
           "x": 0.05
          },
          "xaxis": {
           "automargin": true,
           "gridcolor": "white",
           "linecolor": "white",
           "ticks": "",
           "title": {
            "standoff": 15
           },
           "zerolinecolor": "white",
           "zerolinewidth": 2
          },
          "yaxis": {
           "automargin": true,
           "gridcolor": "white",
           "linecolor": "white",
           "ticks": "",
           "title": {
            "standoff": 15
           },
           "zerolinecolor": "white",
           "zerolinewidth": 2
          }
         }
        },
        "title": {
         "text": "Decompression throughput"
        },
        "width": 1200,
        "xaxis": {
         "anchor": "y",
         "domain": [
          0,
          0.29333333333333333
         ],
         "title": {
          "text": "Chunk size"
         },
         "type": "log"
        },
        "xaxis10": {
         "anchor": "y10",
         "domain": [
          0,
          0.29333333333333333
         ],
         "matches": "x",
         "showticklabels": false,
         "type": "log"
        },
        "xaxis11": {
         "anchor": "y11",
         "domain": [
          0.3433333333333333,
          0.6366666666666667
         ],
         "matches": "x",
         "showticklabels": false,
         "type": "log"
        },
        "xaxis12": {
         "anchor": "y12",
         "domain": [
          0.6866666666666666,
          0.98
         ],
         "matches": "x",
         "showticklabels": false,
         "type": "log"
        },
        "xaxis13": {
         "anchor": "y13",
         "domain": [
          0,
          0.29333333333333333
         ],
         "matches": "x",
         "showticklabels": false,
         "type": "log"
        },
        "xaxis14": {
         "anchor": "y14",
         "domain": [
          0.3433333333333333,
          0.6366666666666667
         ],
         "matches": "x",
         "showticklabels": false,
         "type": "log"
        },
        "xaxis15": {
         "anchor": "y15",
         "domain": [
          0.6866666666666666,
          0.98
         ],
         "matches": "x",
         "showticklabels": false,
         "type": "log"
        },
        "xaxis16": {
         "anchor": "y16",
         "domain": [
          0,
          0.29333333333333333
         ],
         "matches": "x",
         "showticklabels": false,
         "type": "log"
        },
        "xaxis17": {
         "anchor": "y17",
         "domain": [
          0.3433333333333333,
          0.6366666666666667
         ],
         "matches": "x",
         "showticklabels": false,
         "type": "log"
        },
        "xaxis18": {
         "anchor": "y18",
         "domain": [
          0.6866666666666666,
          0.98
         ],
         "matches": "x",
         "showticklabels": false,
         "type": "log"
        },
        "xaxis2": {
         "anchor": "y2",
         "domain": [
          0.3433333333333333,
          0.6366666666666667
         ],
         "matches": "x",
         "title": {
          "text": "Chunk size"
         },
         "type": "log"
        },
        "xaxis3": {
         "anchor": "y3",
         "domain": [
          0.6866666666666666,
          0.98
         ],
         "matches": "x",
         "title": {
          "text": "Chunk size"
         },
         "type": "log"
        },
        "xaxis4": {
         "anchor": "y4",
         "domain": [
          0,
          0.29333333333333333
         ],
         "matches": "x",
         "showticklabels": false,
         "type": "log"
        },
        "xaxis5": {
         "anchor": "y5",
         "domain": [
          0.3433333333333333,
          0.6366666666666667
         ],
         "matches": "x",
         "showticklabels": false,
         "type": "log"
        },
        "xaxis6": {
         "anchor": "y6",
         "domain": [
          0.6866666666666666,
          0.98
         ],
         "matches": "x",
         "showticklabels": false,
         "type": "log"
        },
        "xaxis7": {
         "anchor": "y7",
         "domain": [
          0,
          0.29333333333333333
         ],
         "matches": "x",
         "showticklabels": false,
         "type": "log"
        },
        "xaxis8": {
         "anchor": "y8",
         "domain": [
          0.3433333333333333,
          0.6366666666666667
         ],
         "matches": "x",
         "showticklabels": false,
         "type": "log"
        },
        "xaxis9": {
         "anchor": "y9",
         "domain": [
          0.6866666666666666,
          0.98
         ],
         "matches": "x",
         "showticklabels": false,
         "type": "log"
        },
        "yaxis": {
         "anchor": "x",
         "domain": [
          0,
          0.14166666666666666
         ],
         "title": {
          "text": ""
         }
        },
        "yaxis10": {
         "anchor": "x10",
         "domain": [
          0.515,
          0.6566666666666667
         ],
         "matches": "y",
         "title": {
          "text": "decompression_throughput_GBps"
         }
        },
        "yaxis11": {
         "anchor": "x11",
         "domain": [
          0.515,
          0.6566666666666667
         ],
         "matches": "y",
         "showticklabels": false
        },
        "yaxis12": {
         "anchor": "x12",
         "domain": [
          0.515,
          0.6566666666666667
         ],
         "matches": "y",
         "showticklabels": false
        },
        "yaxis13": {
         "anchor": "x13",
         "domain": [
          0.6866666666666666,
          0.8283333333333334
         ],
         "matches": "y",
         "title": {
          "text": "decompression_throughput_GBps"
         }
        },
        "yaxis14": {
         "anchor": "x14",
         "domain": [
          0.6866666666666666,
          0.8283333333333334
         ],
         "matches": "y",
         "showticklabels": false
        },
        "yaxis15": {
         "anchor": "x15",
         "domain": [
          0.6866666666666666,
          0.8283333333333334
         ],
         "matches": "y",
         "showticklabels": false
        },
        "yaxis16": {
         "anchor": "x16",
         "domain": [
          0.8583333333333333,
          1
         ],
         "matches": "y",
         "title": {
          "text": "decompression_throughput_GBps"
         }
        },
        "yaxis17": {
         "anchor": "x17",
         "domain": [
          0.8583333333333333,
          1
         ],
         "matches": "y",
         "showticklabels": false
        },
        "yaxis18": {
         "anchor": "x18",
         "domain": [
          0.8583333333333333,
          1
         ],
         "matches": "y",
         "showticklabels": false
        },
        "yaxis2": {
         "anchor": "x2",
         "domain": [
          0,
          0.14166666666666666
         ],
         "matches": "y",
         "showticklabels": false,
         "title": {
          "text": ""
         }
        },
        "yaxis3": {
         "anchor": "x3",
         "domain": [
          0,
          0.14166666666666666
         ],
         "matches": "y",
         "showticklabels": false
        },
        "yaxis4": {
         "anchor": "x4",
         "domain": [
          0.17166666666666666,
          0.31333333333333335
         ],
         "matches": "y",
         "title": {
          "text": "decompression_throughput_GBps"
         }
        },
        "yaxis5": {
         "anchor": "x5",
         "domain": [
          0.17166666666666666,
          0.31333333333333335
         ],
         "matches": "y",
         "showticklabels": false
        },
        "yaxis6": {
         "anchor": "x6",
         "domain": [
          0.17166666666666666,
          0.31333333333333335
         ],
         "matches": "y",
         "showticklabels": false
        },
        "yaxis7": {
         "anchor": "x7",
         "domain": [
          0.3433333333333333,
          0.485
         ],
         "matches": "y",
         "title": {
          "text": "decompression_throughput_GBps"
         }
        },
        "yaxis8": {
         "anchor": "x8",
         "domain": [
          0.3433333333333333,
          0.485
         ],
         "matches": "y",
         "showticklabels": false
        },
        "yaxis9": {
         "anchor": "x9",
         "domain": [
          0.3433333333333333,
          0.485
         ],
         "matches": "y",
         "showticklabels": false
        }
       }
      }
     },
     "metadata": {},
     "output_type": "display_data"
    }
   ],
   "source": [
    "# Compression ratio\n",
    "\n",
    "fig_gpus_througphut_decompression = px.line(\n",
    "    all_result_df,\n",
    "    title=f\"Decompression throughput\", \n",
    "    x=\"chunksize_Bytes\",\n",
    "    y=\"decompression_throughput_GBps\",\n",
    "    color=\"File\",\n",
    "    log_x=True,\n",
    "    markers=True,\n",
    "    # log_y=True,\n",
    "    facet_col='gpu',\n",
    "    facet_row='Standard',\n",
    "    facet_col_spacing=0.05,\n",
    "    width=1200,\n",
    "    height=1000,\n",
    ")\n",
    "# fig_gpus_througphut_decompression.update_xaxes(autorange=\"reversed\")\n",
    "# fig_gpus_througphut_decompression.update_xaxes(dict(\n",
    "#         tickmode = 'array',\n",
    "#         tickvals = alldf['chunksize_Bytes'],\n",
    "#         ticktext = alldf['chunksize_Bytes_formatted'],\n",
    "#         tickangle=45,\n",
    "#     )\n",
    "# )\n",
    "fig_gpus_througphut_decompression.update_layout(\n",
    "    yaxis_title=\"\",\n",
    "    yaxis2_title=\"\",\n",
    "    xaxis_title=\"Chunk size\",\n",
    "    xaxis2_title=\"Chunk size\",\n",
    "    xaxis3_title=\"Chunk size\",\n",
    "    # font_size=16,\n",
    ")\n",
    "\n",
    "fig_gpus_througphut_decompression.show()"
   ]
  },
  {
   "cell_type": "code",
   "execution_count": 57,
   "metadata": {},
   "outputs": [
    {
     "name": "stdout",
     "output_type": "stream",
     "text": [
      "../data/compare/rtx3050ti/output_snappy_500mb_dickens_8threads.h5\n",
      "../data/compare/rtx3050ti/output_snappy_500mb_dickens_32threads.h5\n",
      "../data/compare/rtx3050ti/output_snappy_500mb_dickens_128threads.h5\n",
      "../data/compare/rtx3050ti/output_snappy_500mb_dickens_512threads.h5\n",
      "../data/compare/rtx3050ti/output_snappy_500mb_dickens_2048threads.h5\n",
      "../data/compare/rtx3050ti/output_snappy_500mb_dickens_8192threads.h5\n",
      "../data/compare/rtx3050ti/output_snappy_500mb_dickens_32768threads.h5\n",
      "../data/compare/rtx3050ti/output_snappy_500mb_dickens_131072threads.h5\n",
      "../data/compare/rtx3050ti/output_zstd_500mb_dickens_8threads.h5\n",
      "../data/compare/rtx3050ti/output_zstd_500mb_dickens_32threads.h5\n",
      "../data/compare/rtx3050ti/output_zstd_500mb_dickens_128threads.h5\n",
      "../data/compare/rtx3050ti/output_zstd_500mb_dickens_512threads.h5\n",
      "../data/compare/rtx3050ti/output_zstd_500mb_dickens_2048threads.h5\n",
      "../data/compare/rtx3050ti/output_zstd_500mb_dickens_8192threads.h5\n",
      "../data/compare/rtx3050ti/output_zstd_500mb_dickens_32768threads.h5\n",
      "../data/compare/rtx3050ti/output_zstd_500mb_dickens_131072threads.h5\n",
      "../data/compare/rtx3050ti/output_gdeflate_500mb_dickens_8threads.h5\n",
      "Failed getting utilization of gdeflate 500mb_dickens 8 threads: \"Unable to synchronously open object (object 'CUPTI_ACTIVITY_KIND_KERNEL' doesn't exist)\"\n",
      "../data/compare/rtx3050ti/output_gdeflate_500mb_dickens_32threads.h5\n",
      "Failed getting utilization of gdeflate 500mb_dickens 32 threads: \"Unable to synchronously open object (object 'CUPTI_ACTIVITY_KIND_KERNEL' doesn't exist)\"\n",
      "../data/compare/rtx3050ti/output_gdeflate_500mb_dickens_128threads.h5\n",
      "Failed getting utilization of gdeflate 500mb_dickens 128 threads: \"Unable to synchronously open object (object 'CUPTI_ACTIVITY_KIND_KERNEL' doesn't exist)\"\n",
      "../data/compare/rtx3050ti/output_gdeflate_500mb_dickens_512threads.h5\n",
      "Failed getting utilization of gdeflate 500mb_dickens 512 threads: \"Unable to synchronously open object (object 'CUPTI_ACTIVITY_KIND_KERNEL' doesn't exist)\"\n",
      "../data/compare/rtx3050ti/output_gdeflate_500mb_dickens_2048threads.h5\n",
      "Failed getting utilization of gdeflate 500mb_dickens 2048 threads: \"Unable to synchronously open object (object 'CUPTI_ACTIVITY_KIND_KERNEL' doesn't exist)\"\n",
      "../data/compare/rtx3050ti/output_gdeflate_500mb_dickens_8192threads.h5\n",
      "../data/compare/rtx3050ti/output_gdeflate_500mb_dickens_32768threads.h5\n",
      "../data/compare/rtx3050ti/output_gdeflate_500mb_dickens_131072threads.h5\n",
      "../data/compare/rtx3050ti/output_lz4_500mb_dickens_8threads.h5\n",
      "../data/compare/rtx3050ti/output_lz4_500mb_dickens_32threads.h5\n",
      "../data/compare/rtx3050ti/output_lz4_500mb_dickens_128threads.h5\n",
      "../data/compare/rtx3050ti/output_lz4_500mb_dickens_512threads.h5\n",
      "../data/compare/rtx3050ti/output_lz4_500mb_dickens_2048threads.h5\n",
      "../data/compare/rtx3050ti/output_lz4_500mb_dickens_8192threads.h5\n",
      "../data/compare/rtx3050ti/output_lz4_500mb_dickens_32768threads.h5\n",
      "../data/compare/rtx3050ti/output_lz4_500mb_dickens_131072threads.h5\n",
      "../data/compare/rtx3050ti/output_cascaded_500mb_dickens_8threads.h5\n",
      "Failed getting utilization of cascaded 500mb_dickens 8 threads: \"Unable to synchronously open object (object 'CUPTI_ACTIVITY_KIND_KERNEL' doesn't exist)\"\n",
      "../data/compare/rtx3050ti/output_cascaded_500mb_dickens_32threads.h5\n",
      "Failed getting utilization of cascaded 500mb_dickens 32 threads: \"Unable to synchronously open object (object 'CUPTI_ACTIVITY_KIND_KERNEL' doesn't exist)\"\n",
      "../data/compare/rtx3050ti/output_cascaded_500mb_dickens_128threads.h5\n",
      "Failed getting utilization of cascaded 500mb_dickens 128 threads: \"Unable to synchronously open object (object 'CUPTI_ACTIVITY_KIND_KERNEL' doesn't exist)\"\n",
      "../data/compare/rtx3050ti/output_cascaded_500mb_dickens_512threads.h5\n",
      "Failed getting utilization of cascaded 500mb_dickens 512 threads: \"Unable to synchronously open object (object 'CUPTI_ACTIVITY_KIND_KERNEL' doesn't exist)\"\n",
      "../data/compare/rtx3050ti/output_cascaded_500mb_dickens_2048threads.h5\n",
      "Failed getting utilization of cascaded 500mb_dickens 2048 threads: \"Unable to synchronously open object (object 'CUPTI_ACTIVITY_KIND_KERNEL' doesn't exist)\"\n",
      "../data/compare/rtx3050ti/output_cascaded_500mb_dickens_8192threads.h5\n",
      "Failed getting utilization of cascaded 500mb_dickens 8192 threads: \"Unable to synchronously open object (object 'CUPTI_ACTIVITY_KIND_KERNEL' doesn't exist)\"\n",
      "../data/compare/rtx3050ti/output_cascaded_500mb_dickens_32768threads.h5\n",
      "Failed getting utilization of cascaded 500mb_dickens 32768 threads: \"Unable to synchronously open object (object 'CUPTI_ACTIVITY_KIND_KERNEL' doesn't exist)\"\n",
      "../data/compare/rtx3050ti/output_cascaded_500mb_dickens_131072threads.h5\n",
      "Failed getting utilization of cascaded 500mb_dickens 131072 threads: \"Unable to synchronously open object (object 'CUPTI_ACTIVITY_KIND_KERNEL' doesn't exist)\"\n",
      "../data/compare/rtx3050ti/output_bitcomp_500mb_dickens_8threads.h5\n",
      "../data/compare/rtx3050ti/output_bitcomp_500mb_dickens_32threads.h5\n",
      "../data/compare/rtx3050ti/output_bitcomp_500mb_dickens_128threads.h5\n",
      "../data/compare/rtx3050ti/output_bitcomp_500mb_dickens_512threads.h5\n",
      "../data/compare/rtx3050ti/output_bitcomp_500mb_dickens_2048threads.h5\n",
      "../data/compare/rtx3050ti/output_bitcomp_500mb_dickens_8192threads.h5\n",
      "../data/compare/rtx3050ti/output_bitcomp_500mb_dickens_32768threads.h5\n",
      "../data/compare/rtx3050ti/output_bitcomp_500mb_dickens_131072threads.h5\n",
      "../data/compare/rtx3050ti/output_snappy_500mb_mozilla_8threads.h5\n",
      "../data/compare/rtx3050ti/output_snappy_500mb_mozilla_32threads.h5\n",
      "../data/compare/rtx3050ti/output_snappy_500mb_mozilla_128threads.h5\n",
      "../data/compare/rtx3050ti/output_snappy_500mb_mozilla_512threads.h5\n",
      "../data/compare/rtx3050ti/output_snappy_500mb_mozilla_2048threads.h5\n",
      "../data/compare/rtx3050ti/output_snappy_500mb_mozilla_8192threads.h5\n",
      "../data/compare/rtx3050ti/output_snappy_500mb_mozilla_32768threads.h5\n",
      "../data/compare/rtx3050ti/output_snappy_500mb_mozilla_131072threads.h5\n",
      "../data/compare/rtx3050ti/output_zstd_500mb_mozilla_8threads.h5\n",
      "Failed getting utilization of zstd 500mb_mozilla 8 threads: \"Unable to synchronously open object (object 'CUPTI_ACTIVITY_KIND_KERNEL' doesn't exist)\"\n",
      "../data/compare/rtx3050ti/output_zstd_500mb_mozilla_32threads.h5\n",
      "../data/compare/rtx3050ti/output_zstd_500mb_mozilla_128threads.h5\n",
      "../data/compare/rtx3050ti/output_zstd_500mb_mozilla_512threads.h5\n",
      "../data/compare/rtx3050ti/output_zstd_500mb_mozilla_2048threads.h5\n",
      "../data/compare/rtx3050ti/output_zstd_500mb_mozilla_8192threads.h5\n",
      "../data/compare/rtx3050ti/output_zstd_500mb_mozilla_32768threads.h5\n",
      "../data/compare/rtx3050ti/output_zstd_500mb_mozilla_131072threads.h5\n",
      "../data/compare/rtx3050ti/output_gdeflate_500mb_mozilla_8threads.h5\n",
      "Failed getting utilization of gdeflate 500mb_mozilla 8 threads: \"Unable to synchronously open object (object 'CUPTI_ACTIVITY_KIND_KERNEL' doesn't exist)\"\n",
      "../data/compare/rtx3050ti/output_gdeflate_500mb_mozilla_32threads.h5\n",
      "Failed getting utilization of gdeflate 500mb_mozilla 32 threads: \"Unable to synchronously open object (object 'CUPTI_ACTIVITY_KIND_KERNEL' doesn't exist)\"\n",
      "../data/compare/rtx3050ti/output_gdeflate_500mb_mozilla_128threads.h5\n",
      "Failed getting utilization of gdeflate 500mb_mozilla 128 threads: \"Unable to synchronously open object (object 'CUPTI_ACTIVITY_KIND_KERNEL' doesn't exist)\"\n",
      "../data/compare/rtx3050ti/output_gdeflate_500mb_mozilla_512threads.h5\n",
      "Failed getting utilization of gdeflate 500mb_mozilla 512 threads: \"Unable to synchronously open object (object 'CUPTI_ACTIVITY_KIND_KERNEL' doesn't exist)\"\n",
      "../data/compare/rtx3050ti/output_gdeflate_500mb_mozilla_2048threads.h5\n",
      "Failed getting utilization of gdeflate 500mb_mozilla 2048 threads: \"Unable to synchronously open object (object 'CUPTI_ACTIVITY_KIND_KERNEL' doesn't exist)\"\n",
      "../data/compare/rtx3050ti/output_gdeflate_500mb_mozilla_8192threads.h5\n",
      "../data/compare/rtx3050ti/output_gdeflate_500mb_mozilla_32768threads.h5\n",
      "../data/compare/rtx3050ti/output_gdeflate_500mb_mozilla_131072threads.h5\n",
      "../data/compare/rtx3050ti/output_lz4_500mb_mozilla_8threads.h5\n",
      "Failed getting utilization of lz4 500mb_mozilla 8 threads: \"Unable to synchronously open object (object 'CUPTI_ACTIVITY_KIND_KERNEL' doesn't exist)\"\n",
      "../data/compare/rtx3050ti/output_lz4_500mb_mozilla_32threads.h5\n",
      "../data/compare/rtx3050ti/output_lz4_500mb_mozilla_128threads.h5\n",
      "../data/compare/rtx3050ti/output_lz4_500mb_mozilla_512threads.h5\n",
      "../data/compare/rtx3050ti/output_lz4_500mb_mozilla_2048threads.h5\n",
      "../data/compare/rtx3050ti/output_lz4_500mb_mozilla_8192threads.h5\n",
      "../data/compare/rtx3050ti/output_lz4_500mb_mozilla_32768threads.h5\n",
      "../data/compare/rtx3050ti/output_lz4_500mb_mozilla_131072threads.h5\n",
      "../data/compare/rtx3050ti/output_cascaded_500mb_mozilla_8threads.h5\n",
      "../data/compare/rtx3050ti/output_cascaded_500mb_mozilla_32threads.h5\n",
      "../data/compare/rtx3050ti/output_cascaded_500mb_mozilla_128threads.h5\n",
      "../data/compare/rtx3050ti/output_cascaded_500mb_mozilla_512threads.h5\n",
      "../data/compare/rtx3050ti/output_cascaded_500mb_mozilla_2048threads.h5\n",
      "../data/compare/rtx3050ti/output_cascaded_500mb_mozilla_8192threads.h5\n",
      "../data/compare/rtx3050ti/output_cascaded_500mb_mozilla_32768threads.h5\n",
      "../data/compare/rtx3050ti/output_cascaded_500mb_mozilla_131072threads.h5\n",
      "../data/compare/rtx3050ti/output_bitcomp_500mb_mozilla_8threads.h5\n",
      "../data/compare/rtx3050ti/output_bitcomp_500mb_mozilla_32threads.h5\n",
      "../data/compare/rtx3050ti/output_bitcomp_500mb_mozilla_128threads.h5\n",
      "../data/compare/rtx3050ti/output_bitcomp_500mb_mozilla_512threads.h5\n",
      "../data/compare/rtx3050ti/output_bitcomp_500mb_mozilla_2048threads.h5\n",
      "../data/compare/rtx3050ti/output_bitcomp_500mb_mozilla_8192threads.h5\n",
      "../data/compare/rtx3050ti/output_bitcomp_500mb_mozilla_32768threads.h5\n",
      "../data/compare/rtx3050ti/output_bitcomp_500mb_mozilla_131072threads.h5\n",
      "../data/compare/rtx3050ti/output_snappy_500mb_mr_8threads.h5\n",
      "../data/compare/rtx3050ti/output_snappy_500mb_mr_32threads.h5\n",
      "../data/compare/rtx3050ti/output_snappy_500mb_mr_128threads.h5\n",
      "../data/compare/rtx3050ti/output_snappy_500mb_mr_512threads.h5\n",
      "../data/compare/rtx3050ti/output_snappy_500mb_mr_2048threads.h5\n",
      "../data/compare/rtx3050ti/output_snappy_500mb_mr_8192threads.h5\n",
      "../data/compare/rtx3050ti/output_snappy_500mb_mr_32768threads.h5\n",
      "../data/compare/rtx3050ti/output_snappy_500mb_mr_131072threads.h5\n",
      "../data/compare/rtx3050ti/output_zstd_500mb_mr_8threads.h5\n",
      "../data/compare/rtx3050ti/output_zstd_500mb_mr_32threads.h5\n",
      "../data/compare/rtx3050ti/output_zstd_500mb_mr_128threads.h5\n",
      "../data/compare/rtx3050ti/output_zstd_500mb_mr_512threads.h5\n",
      "../data/compare/rtx3050ti/output_zstd_500mb_mr_2048threads.h5\n",
      "../data/compare/rtx3050ti/output_zstd_500mb_mr_8192threads.h5\n",
      "../data/compare/rtx3050ti/output_zstd_500mb_mr_32768threads.h5\n",
      "../data/compare/rtx3050ti/output_zstd_500mb_mr_131072threads.h5\n",
      "../data/compare/rtx3050ti/output_gdeflate_500mb_mr_8threads.h5\n",
      "Failed getting utilization of gdeflate 500mb_mr 8 threads: \"Unable to synchronously open object (object 'CUPTI_ACTIVITY_KIND_KERNEL' doesn't exist)\"\n",
      "../data/compare/rtx3050ti/output_gdeflate_500mb_mr_32threads.h5\n",
      "Failed getting utilization of gdeflate 500mb_mr 32 threads: \"Unable to synchronously open object (object 'CUPTI_ACTIVITY_KIND_KERNEL' doesn't exist)\"\n",
      "../data/compare/rtx3050ti/output_gdeflate_500mb_mr_128threads.h5\n",
      "Failed getting utilization of gdeflate 500mb_mr 128 threads: \"Unable to synchronously open object (object 'CUPTI_ACTIVITY_KIND_KERNEL' doesn't exist)\"\n",
      "../data/compare/rtx3050ti/output_gdeflate_500mb_mr_512threads.h5\n",
      "Failed getting utilization of gdeflate 500mb_mr 512 threads: \"Unable to synchronously open object (object 'CUPTI_ACTIVITY_KIND_KERNEL' doesn't exist)\"\n",
      "../data/compare/rtx3050ti/output_gdeflate_500mb_mr_2048threads.h5\n",
      "Failed getting utilization of gdeflate 500mb_mr 2048 threads: \"Unable to synchronously open object (object 'CUPTI_ACTIVITY_KIND_KERNEL' doesn't exist)\"\n",
      "../data/compare/rtx3050ti/output_gdeflate_500mb_mr_8192threads.h5\n",
      "../data/compare/rtx3050ti/output_gdeflate_500mb_mr_32768threads.h5\n",
      "../data/compare/rtx3050ti/output_gdeflate_500mb_mr_131072threads.h5\n",
      "../data/compare/rtx3050ti/output_lz4_500mb_mr_8threads.h5\n",
      "../data/compare/rtx3050ti/output_lz4_500mb_mr_32threads.h5\n",
      "../data/compare/rtx3050ti/output_lz4_500mb_mr_128threads.h5\n",
      "../data/compare/rtx3050ti/output_lz4_500mb_mr_512threads.h5\n",
      "../data/compare/rtx3050ti/output_lz4_500mb_mr_2048threads.h5\n",
      "../data/compare/rtx3050ti/output_lz4_500mb_mr_8192threads.h5\n",
      "../data/compare/rtx3050ti/output_lz4_500mb_mr_32768threads.h5\n",
      "../data/compare/rtx3050ti/output_lz4_500mb_mr_131072threads.h5\n",
      "../data/compare/rtx3050ti/output_cascaded_500mb_mr_8threads.h5\n",
      "../data/compare/rtx3050ti/output_cascaded_500mb_mr_32threads.h5\n",
      "../data/compare/rtx3050ti/output_cascaded_500mb_mr_128threads.h5\n",
      "../data/compare/rtx3050ti/output_cascaded_500mb_mr_512threads.h5\n",
      "../data/compare/rtx3050ti/output_cascaded_500mb_mr_2048threads.h5\n",
      "../data/compare/rtx3050ti/output_cascaded_500mb_mr_8192threads.h5\n",
      "../data/compare/rtx3050ti/output_cascaded_500mb_mr_32768threads.h5\n",
      "../data/compare/rtx3050ti/output_cascaded_500mb_mr_131072threads.h5\n",
      "../data/compare/rtx3050ti/output_bitcomp_500mb_mr_8threads.h5\n",
      "../data/compare/rtx3050ti/output_bitcomp_500mb_mr_32threads.h5\n",
      "../data/compare/rtx3050ti/output_bitcomp_500mb_mr_128threads.h5\n",
      "../data/compare/rtx3050ti/output_bitcomp_500mb_mr_512threads.h5\n",
      "../data/compare/rtx3050ti/output_bitcomp_500mb_mr_2048threads.h5\n",
      "../data/compare/rtx3050ti/output_bitcomp_500mb_mr_8192threads.h5\n",
      "../data/compare/rtx3050ti/output_bitcomp_500mb_mr_32768threads.h5\n",
      "../data/compare/rtx3050ti/output_bitcomp_500mb_mr_131072threads.h5\n",
      "../data/compare/rtx3050ti/output_snappy_500mb_nci_8threads.h5\n",
      "../data/compare/rtx3050ti/output_snappy_500mb_nci_32threads.h5\n",
      "../data/compare/rtx3050ti/output_snappy_500mb_nci_128threads.h5\n",
      "../data/compare/rtx3050ti/output_snappy_500mb_nci_512threads.h5\n",
      "../data/compare/rtx3050ti/output_snappy_500mb_nci_2048threads.h5\n",
      "../data/compare/rtx3050ti/output_snappy_500mb_nci_8192threads.h5\n",
      "../data/compare/rtx3050ti/output_snappy_500mb_nci_32768threads.h5\n",
      "../data/compare/rtx3050ti/output_snappy_500mb_nci_131072threads.h5\n",
      "../data/compare/rtx3050ti/output_zstd_500mb_nci_8threads.h5\n",
      "Failed getting utilization of zstd 500mb_nci 8 threads: \"Unable to synchronously open object (object 'CUPTI_ACTIVITY_KIND_KERNEL' doesn't exist)\"\n",
      "../data/compare/rtx3050ti/output_zstd_500mb_nci_32threads.h5\n",
      "../data/compare/rtx3050ti/output_zstd_500mb_nci_128threads.h5\n",
      "../data/compare/rtx3050ti/output_zstd_500mb_nci_512threads.h5\n",
      "../data/compare/rtx3050ti/output_zstd_500mb_nci_2048threads.h5\n",
      "../data/compare/rtx3050ti/output_zstd_500mb_nci_8192threads.h5\n",
      "../data/compare/rtx3050ti/output_zstd_500mb_nci_32768threads.h5\n",
      "../data/compare/rtx3050ti/output_zstd_500mb_nci_131072threads.h5\n",
      "../data/compare/rtx3050ti/output_gdeflate_500mb_nci_8threads.h5\n",
      "Failed getting utilization of gdeflate 500mb_nci 8 threads: \"Unable to synchronously open object (object 'CUPTI_ACTIVITY_KIND_KERNEL' doesn't exist)\"\n",
      "../data/compare/rtx3050ti/output_gdeflate_500mb_nci_32threads.h5\n",
      "Failed getting utilization of gdeflate 500mb_nci 32 threads: \"Unable to synchronously open object (object 'CUPTI_ACTIVITY_KIND_KERNEL' doesn't exist)\"\n",
      "../data/compare/rtx3050ti/output_gdeflate_500mb_nci_128threads.h5\n",
      "Failed getting utilization of gdeflate 500mb_nci 128 threads: \"Unable to synchronously open object (object 'CUPTI_ACTIVITY_KIND_KERNEL' doesn't exist)\"\n",
      "../data/compare/rtx3050ti/output_gdeflate_500mb_nci_512threads.h5\n",
      "Failed getting utilization of gdeflate 500mb_nci 512 threads: \"Unable to synchronously open object (object 'CUPTI_ACTIVITY_KIND_KERNEL' doesn't exist)\"\n",
      "../data/compare/rtx3050ti/output_gdeflate_500mb_nci_2048threads.h5\n",
      "Failed getting utilization of gdeflate 500mb_nci 2048 threads: \"Unable to synchronously open object (object 'CUPTI_ACTIVITY_KIND_KERNEL' doesn't exist)\"\n",
      "../data/compare/rtx3050ti/output_gdeflate_500mb_nci_8192threads.h5\n",
      "../data/compare/rtx3050ti/output_gdeflate_500mb_nci_32768threads.h5\n",
      "../data/compare/rtx3050ti/output_gdeflate_500mb_nci_131072threads.h5\n",
      "../data/compare/rtx3050ti/output_lz4_500mb_nci_8threads.h5\n",
      "Failed getting utilization of lz4 500mb_nci 8 threads: \"Unable to synchronously open object (object 'CUPTI_ACTIVITY_KIND_KERNEL' doesn't exist)\"\n",
      "../data/compare/rtx3050ti/output_lz4_500mb_nci_32threads.h5\n",
      "../data/compare/rtx3050ti/output_lz4_500mb_nci_128threads.h5\n",
      "../data/compare/rtx3050ti/output_lz4_500mb_nci_512threads.h5\n",
      "../data/compare/rtx3050ti/output_lz4_500mb_nci_2048threads.h5\n",
      "../data/compare/rtx3050ti/output_lz4_500mb_nci_8192threads.h5\n",
      "../data/compare/rtx3050ti/output_lz4_500mb_nci_32768threads.h5\n",
      "../data/compare/rtx3050ti/output_lz4_500mb_nci_131072threads.h5\n",
      "../data/compare/rtx3050ti/output_cascaded_500mb_nci_8threads.h5\n",
      "Failed getting utilization of cascaded 500mb_nci 8 threads: \"Unable to synchronously open object (object 'CUPTI_ACTIVITY_KIND_KERNEL' doesn't exist)\"\n",
      "../data/compare/rtx3050ti/output_cascaded_500mb_nci_32threads.h5\n",
      "Failed getting utilization of cascaded 500mb_nci 32 threads: \"Unable to synchronously open object (object 'CUPTI_ACTIVITY_KIND_KERNEL' doesn't exist)\"\n",
      "../data/compare/rtx3050ti/output_cascaded_500mb_nci_128threads.h5\n",
      "Failed getting utilization of cascaded 500mb_nci 128 threads: \"Unable to synchronously open object (object 'CUPTI_ACTIVITY_KIND_KERNEL' doesn't exist)\"\n",
      "../data/compare/rtx3050ti/output_cascaded_500mb_nci_512threads.h5\n",
      "Failed getting utilization of cascaded 500mb_nci 512 threads: \"Unable to synchronously open object (object 'CUPTI_ACTIVITY_KIND_KERNEL' doesn't exist)\"\n",
      "../data/compare/rtx3050ti/output_cascaded_500mb_nci_2048threads.h5\n",
      "Failed getting utilization of cascaded 500mb_nci 2048 threads: \"Unable to synchronously open object (object 'CUPTI_ACTIVITY_KIND_KERNEL' doesn't exist)\"\n",
      "../data/compare/rtx3050ti/output_cascaded_500mb_nci_8192threads.h5\n",
      "Failed getting utilization of cascaded 500mb_nci 8192 threads: \"Unable to synchronously open object (object 'CUPTI_ACTIVITY_KIND_KERNEL' doesn't exist)\"\n",
      "../data/compare/rtx3050ti/output_cascaded_500mb_nci_32768threads.h5\n",
      "Failed getting utilization of cascaded 500mb_nci 32768 threads: \"Unable to synchronously open object (object 'CUPTI_ACTIVITY_KIND_KERNEL' doesn't exist)\"\n",
      "../data/compare/rtx3050ti/output_cascaded_500mb_nci_131072threads.h5\n",
      "Failed getting utilization of cascaded 500mb_nci 131072 threads: \"Unable to synchronously open object (object 'CUPTI_ACTIVITY_KIND_KERNEL' doesn't exist)\"\n",
      "../data/compare/rtx3050ti/output_bitcomp_500mb_nci_8threads.h5\n",
      "../data/compare/rtx3050ti/output_bitcomp_500mb_nci_32threads.h5\n",
      "../data/compare/rtx3050ti/output_bitcomp_500mb_nci_128threads.h5\n",
      "../data/compare/rtx3050ti/output_bitcomp_500mb_nci_512threads.h5\n",
      "../data/compare/rtx3050ti/output_bitcomp_500mb_nci_2048threads.h5\n",
      "../data/compare/rtx3050ti/output_bitcomp_500mb_nci_8192threads.h5\n",
      "../data/compare/rtx3050ti/output_bitcomp_500mb_nci_32768threads.h5\n",
      "../data/compare/rtx3050ti/output_bitcomp_500mb_nci_131072threads.h5\n",
      "../data/compare/rtx3050ti/output_snappy_500mb_samba_8threads.h5\n",
      "../data/compare/rtx3050ti/output_snappy_500mb_samba_32threads.h5\n",
      "../data/compare/rtx3050ti/output_snappy_500mb_samba_128threads.h5\n",
      "../data/compare/rtx3050ti/output_snappy_500mb_samba_512threads.h5\n",
      "../data/compare/rtx3050ti/output_snappy_500mb_samba_2048threads.h5\n",
      "../data/compare/rtx3050ti/output_snappy_500mb_samba_8192threads.h5\n",
      "../data/compare/rtx3050ti/output_snappy_500mb_samba_32768threads.h5\n",
      "../data/compare/rtx3050ti/output_snappy_500mb_samba_131072threads.h5\n",
      "../data/compare/rtx3050ti/output_zstd_500mb_samba_8threads.h5\n",
      "Failed getting utilization of zstd 500mb_samba 8 threads: \"Unable to synchronously open object (object 'CUPTI_ACTIVITY_KIND_KERNEL' doesn't exist)\"\n",
      "../data/compare/rtx3050ti/output_zstd_500mb_samba_32threads.h5\n",
      "../data/compare/rtx3050ti/output_zstd_500mb_samba_128threads.h5\n",
      "../data/compare/rtx3050ti/output_zstd_500mb_samba_512threads.h5\n",
      "../data/compare/rtx3050ti/output_zstd_500mb_samba_2048threads.h5\n",
      "../data/compare/rtx3050ti/output_zstd_500mb_samba_8192threads.h5\n",
      "../data/compare/rtx3050ti/output_zstd_500mb_samba_32768threads.h5\n",
      "../data/compare/rtx3050ti/output_zstd_500mb_samba_131072threads.h5\n",
      "../data/compare/rtx3050ti/output_gdeflate_500mb_samba_8threads.h5\n",
      "Failed getting utilization of gdeflate 500mb_samba 8 threads: \"Unable to synchronously open object (object 'CUPTI_ACTIVITY_KIND_KERNEL' doesn't exist)\"\n",
      "../data/compare/rtx3050ti/output_gdeflate_500mb_samba_32threads.h5\n",
      "Failed getting utilization of gdeflate 500mb_samba 32 threads: \"Unable to synchronously open object (object 'CUPTI_ACTIVITY_KIND_KERNEL' doesn't exist)\"\n",
      "../data/compare/rtx3050ti/output_gdeflate_500mb_samba_128threads.h5\n",
      "Failed getting utilization of gdeflate 500mb_samba 128 threads: \"Unable to synchronously open object (object 'CUPTI_ACTIVITY_KIND_KERNEL' doesn't exist)\"\n",
      "../data/compare/rtx3050ti/output_gdeflate_500mb_samba_512threads.h5\n",
      "Failed getting utilization of gdeflate 500mb_samba 512 threads: \"Unable to synchronously open object (object 'CUPTI_ACTIVITY_KIND_KERNEL' doesn't exist)\"\n",
      "../data/compare/rtx3050ti/output_gdeflate_500mb_samba_2048threads.h5\n",
      "Failed getting utilization of gdeflate 500mb_samba 2048 threads: \"Unable to synchronously open object (object 'CUPTI_ACTIVITY_KIND_KERNEL' doesn't exist)\"\n",
      "../data/compare/rtx3050ti/output_gdeflate_500mb_samba_8192threads.h5\n",
      "../data/compare/rtx3050ti/output_gdeflate_500mb_samba_32768threads.h5\n",
      "../data/compare/rtx3050ti/output_gdeflate_500mb_samba_131072threads.h5\n",
      "../data/compare/rtx3050ti/output_lz4_500mb_samba_8threads.h5\n",
      "Failed getting utilization of lz4 500mb_samba 8 threads: \"Unable to synchronously open object (object 'CUPTI_ACTIVITY_KIND_KERNEL' doesn't exist)\"\n",
      "../data/compare/rtx3050ti/output_lz4_500mb_samba_32threads.h5\n",
      "../data/compare/rtx3050ti/output_lz4_500mb_samba_128threads.h5\n",
      "../data/compare/rtx3050ti/output_lz4_500mb_samba_512threads.h5\n",
      "../data/compare/rtx3050ti/output_lz4_500mb_samba_2048threads.h5\n",
      "../data/compare/rtx3050ti/output_lz4_500mb_samba_8192threads.h5\n",
      "../data/compare/rtx3050ti/output_lz4_500mb_samba_32768threads.h5\n",
      "../data/compare/rtx3050ti/output_lz4_500mb_samba_131072threads.h5\n",
      "../data/compare/rtx3050ti/output_cascaded_500mb_samba_8threads.h5\n",
      "../data/compare/rtx3050ti/output_cascaded_500mb_samba_32threads.h5\n",
      "../data/compare/rtx3050ti/output_cascaded_500mb_samba_128threads.h5\n",
      "../data/compare/rtx3050ti/output_cascaded_500mb_samba_512threads.h5\n",
      "../data/compare/rtx3050ti/output_cascaded_500mb_samba_2048threads.h5\n",
      "../data/compare/rtx3050ti/output_cascaded_500mb_samba_8192threads.h5\n",
      "../data/compare/rtx3050ti/output_cascaded_500mb_samba_32768threads.h5\n",
      "../data/compare/rtx3050ti/output_cascaded_500mb_samba_131072threads.h5\n",
      "../data/compare/rtx3050ti/output_bitcomp_500mb_samba_8threads.h5\n",
      "../data/compare/rtx3050ti/output_bitcomp_500mb_samba_32threads.h5\n",
      "../data/compare/rtx3050ti/output_bitcomp_500mb_samba_128threads.h5\n",
      "../data/compare/rtx3050ti/output_bitcomp_500mb_samba_512threads.h5\n",
      "../data/compare/rtx3050ti/output_bitcomp_500mb_samba_2048threads.h5\n",
      "../data/compare/rtx3050ti/output_bitcomp_500mb_samba_8192threads.h5\n",
      "../data/compare/rtx3050ti/output_bitcomp_500mb_samba_32768threads.h5\n",
      "../data/compare/rtx3050ti/output_bitcomp_500mb_samba_131072threads.h5\n",
      "../data/compare/rtx3050ti/output_snappy_500mb_sao_8threads.h5\n",
      "../data/compare/rtx3050ti/output_snappy_500mb_sao_32threads.h5\n",
      "../data/compare/rtx3050ti/output_snappy_500mb_sao_128threads.h5\n",
      "../data/compare/rtx3050ti/output_snappy_500mb_sao_512threads.h5\n",
      "../data/compare/rtx3050ti/output_snappy_500mb_sao_2048threads.h5\n",
      "../data/compare/rtx3050ti/output_snappy_500mb_sao_8192threads.h5\n",
      "../data/compare/rtx3050ti/output_snappy_500mb_sao_32768threads.h5\n",
      "../data/compare/rtx3050ti/output_snappy_500mb_sao_131072threads.h5\n",
      "../data/compare/rtx3050ti/output_zstd_500mb_sao_8threads.h5\n",
      "../data/compare/rtx3050ti/output_zstd_500mb_sao_32threads.h5\n",
      "../data/compare/rtx3050ti/output_zstd_500mb_sao_128threads.h5\n",
      "../data/compare/rtx3050ti/output_zstd_500mb_sao_512threads.h5\n",
      "../data/compare/rtx3050ti/output_zstd_500mb_sao_2048threads.h5\n",
      "../data/compare/rtx3050ti/output_zstd_500mb_sao_8192threads.h5\n",
      "../data/compare/rtx3050ti/output_zstd_500mb_sao_32768threads.h5\n",
      "../data/compare/rtx3050ti/output_zstd_500mb_sao_131072threads.h5\n",
      "../data/compare/rtx3050ti/output_gdeflate_500mb_sao_8threads.h5\n",
      "Failed getting utilization of gdeflate 500mb_sao 8 threads: \"Unable to synchronously open object (object 'CUPTI_ACTIVITY_KIND_KERNEL' doesn't exist)\"\n",
      "../data/compare/rtx3050ti/output_gdeflate_500mb_sao_32threads.h5\n",
      "Failed getting utilization of gdeflate 500mb_sao 32 threads: \"Unable to synchronously open object (object 'CUPTI_ACTIVITY_KIND_KERNEL' doesn't exist)\"\n",
      "../data/compare/rtx3050ti/output_gdeflate_500mb_sao_128threads.h5\n",
      "Failed getting utilization of gdeflate 500mb_sao 128 threads: \"Unable to synchronously open object (object 'CUPTI_ACTIVITY_KIND_KERNEL' doesn't exist)\"\n",
      "../data/compare/rtx3050ti/output_gdeflate_500mb_sao_512threads.h5\n",
      "Failed getting utilization of gdeflate 500mb_sao 512 threads: \"Unable to synchronously open object (object 'CUPTI_ACTIVITY_KIND_KERNEL' doesn't exist)\"\n",
      "../data/compare/rtx3050ti/output_gdeflate_500mb_sao_2048threads.h5\n",
      "Failed getting utilization of gdeflate 500mb_sao 2048 threads: \"Unable to synchronously open object (object 'CUPTI_ACTIVITY_KIND_KERNEL' doesn't exist)\"\n",
      "../data/compare/rtx3050ti/output_gdeflate_500mb_sao_8192threads.h5\n",
      "../data/compare/rtx3050ti/output_gdeflate_500mb_sao_32768threads.h5\n",
      "../data/compare/rtx3050ti/output_gdeflate_500mb_sao_131072threads.h5\n",
      "../data/compare/rtx3050ti/output_lz4_500mb_sao_8threads.h5\n",
      "../data/compare/rtx3050ti/output_lz4_500mb_sao_32threads.h5\n",
      "../data/compare/rtx3050ti/output_lz4_500mb_sao_128threads.h5\n",
      "../data/compare/rtx3050ti/output_lz4_500mb_sao_512threads.h5\n",
      "../data/compare/rtx3050ti/output_lz4_500mb_sao_2048threads.h5\n",
      "../data/compare/rtx3050ti/output_lz4_500mb_sao_8192threads.h5\n",
      "../data/compare/rtx3050ti/output_lz4_500mb_sao_32768threads.h5\n",
      "../data/compare/rtx3050ti/output_lz4_500mb_sao_131072threads.h5\n",
      "../data/compare/rtx3050ti/output_cascaded_500mb_sao_8threads.h5\n",
      "../data/compare/rtx3050ti/output_cascaded_500mb_sao_32threads.h5\n",
      "../data/compare/rtx3050ti/output_cascaded_500mb_sao_128threads.h5\n",
      "../data/compare/rtx3050ti/output_cascaded_500mb_sao_512threads.h5\n",
      "../data/compare/rtx3050ti/output_cascaded_500mb_sao_2048threads.h5\n",
      "../data/compare/rtx3050ti/output_cascaded_500mb_sao_8192threads.h5\n",
      "../data/compare/rtx3050ti/output_cascaded_500mb_sao_32768threads.h5\n",
      "../data/compare/rtx3050ti/output_cascaded_500mb_sao_131072threads.h5\n",
      "../data/compare/rtx3050ti/output_bitcomp_500mb_sao_8threads.h5\n",
      "../data/compare/rtx3050ti/output_bitcomp_500mb_sao_32threads.h5\n",
      "../data/compare/rtx3050ti/output_bitcomp_500mb_sao_128threads.h5\n",
      "../data/compare/rtx3050ti/output_bitcomp_500mb_sao_512threads.h5\n",
      "../data/compare/rtx3050ti/output_bitcomp_500mb_sao_2048threads.h5\n",
      "../data/compare/rtx3050ti/output_bitcomp_500mb_sao_8192threads.h5\n",
      "../data/compare/rtx3050ti/output_bitcomp_500mb_sao_32768threads.h5\n",
      "../data/compare/rtx3050ti/output_bitcomp_500mb_sao_131072threads.h5\n",
      "../data/compare/rtx3050ti/output_snappy_500mb_silesia.zip_8threads.h5\n",
      "Failed getting utilization of snappy 500mb_silesia.zip 8 threads: \"Unable to synchronously open object (object 'CUPTI_ACTIVITY_KIND_KERNEL' doesn't exist)\"\n",
      "../data/compare/rtx3050ti/output_snappy_500mb_silesia.zip_32threads.h5\n",
      "Failed getting utilization of snappy 500mb_silesia.zip 32 threads: \"Unable to synchronously open object (object 'CUPTI_ACTIVITY_KIND_KERNEL' doesn't exist)\"\n",
      "../data/compare/rtx3050ti/output_snappy_500mb_silesia.zip_128threads.h5\n",
      "Failed getting utilization of snappy 500mb_silesia.zip 128 threads: \"Unable to synchronously open object (object 'CUPTI_ACTIVITY_KIND_KERNEL' doesn't exist)\"\n",
      "../data/compare/rtx3050ti/output_snappy_500mb_silesia.zip_512threads.h5\n",
      "Failed getting utilization of snappy 500mb_silesia.zip 512 threads: \"Unable to synchronously open object (object 'CUPTI_ACTIVITY_KIND_KERNEL' doesn't exist)\"\n",
      "../data/compare/rtx3050ti/output_snappy_500mb_silesia.zip_2048threads.h5\n",
      "Failed getting utilization of snappy 500mb_silesia.zip 2048 threads: \"Unable to synchronously open object (object 'CUPTI_ACTIVITY_KIND_KERNEL' doesn't exist)\"\n",
      "../data/compare/rtx3050ti/output_snappy_500mb_silesia.zip_8192threads.h5\n",
      "Failed getting utilization of snappy 500mb_silesia.zip 8192 threads: \"Unable to synchronously open object (object 'CUPTI_ACTIVITY_KIND_KERNEL' doesn't exist)\"\n",
      "../data/compare/rtx3050ti/output_snappy_500mb_silesia.zip_32768threads.h5\n",
      "Failed getting utilization of snappy 500mb_silesia.zip 32768 threads: \"Unable to synchronously open object (object 'CUPTI_ACTIVITY_KIND_KERNEL' doesn't exist)\"\n",
      "../data/compare/rtx3050ti/output_snappy_500mb_silesia.zip_131072threads.h5\n",
      "Failed getting utilization of snappy 500mb_silesia.zip 131072 threads: \"Unable to synchronously open object (object 'CUPTI_ACTIVITY_KIND_KERNEL' doesn't exist)\"\n",
      "../data/compare/rtx3050ti/output_zstd_500mb_silesia.zip_8threads.h5\n",
      "Failed getting utilization of zstd 500mb_silesia.zip 8 threads: \"Unable to synchronously open object (object 'CUPTI_ACTIVITY_KIND_KERNEL' doesn't exist)\"\n",
      "../data/compare/rtx3050ti/output_zstd_500mb_silesia.zip_32threads.h5\n",
      "Failed getting utilization of zstd 500mb_silesia.zip 32 threads: \"Unable to synchronously open object (object 'CUPTI_ACTIVITY_KIND_KERNEL' doesn't exist)\"\n",
      "../data/compare/rtx3050ti/output_zstd_500mb_silesia.zip_128threads.h5\n",
      "Failed getting utilization of zstd 500mb_silesia.zip 128 threads: \"Unable to synchronously open object (object 'CUPTI_ACTIVITY_KIND_KERNEL' doesn't exist)\"\n",
      "../data/compare/rtx3050ti/output_zstd_500mb_silesia.zip_512threads.h5\n",
      "Failed getting utilization of zstd 500mb_silesia.zip 512 threads: \"Unable to synchronously open object (object 'CUPTI_ACTIVITY_KIND_KERNEL' doesn't exist)\"\n",
      "../data/compare/rtx3050ti/output_zstd_500mb_silesia.zip_2048threads.h5\n",
      "Failed getting utilization of zstd 500mb_silesia.zip 2048 threads: \"Unable to synchronously open object (object 'CUPTI_ACTIVITY_KIND_KERNEL' doesn't exist)\"\n",
      "../data/compare/rtx3050ti/output_zstd_500mb_silesia.zip_8192threads.h5\n",
      "Failed getting utilization of zstd 500mb_silesia.zip 8192 threads: \"Unable to synchronously open object (object 'CUPTI_ACTIVITY_KIND_KERNEL' doesn't exist)\"\n",
      "../data/compare/rtx3050ti/output_zstd_500mb_silesia.zip_32768threads.h5\n",
      "Failed getting utilization of zstd 500mb_silesia.zip 32768 threads: \"Unable to synchronously open object (object 'CUPTI_ACTIVITY_KIND_KERNEL' doesn't exist)\"\n",
      "../data/compare/rtx3050ti/output_zstd_500mb_silesia.zip_131072threads.h5\n",
      "Failed getting utilization of zstd 500mb_silesia.zip 131072 threads: \"Unable to synchronously open object (object 'CUPTI_ACTIVITY_KIND_KERNEL' doesn't exist)\"\n",
      "../data/compare/rtx3050ti/output_gdeflate_500mb_silesia.zip_8threads.h5\n",
      "Failed getting utilization of gdeflate 500mb_silesia.zip 8 threads: \"Unable to synchronously open object (object 'CUPTI_ACTIVITY_KIND_KERNEL' doesn't exist)\"\n",
      "../data/compare/rtx3050ti/output_gdeflate_500mb_silesia.zip_32threads.h5\n",
      "Failed getting utilization of gdeflate 500mb_silesia.zip 32 threads: \"Unable to synchronously open object (object 'CUPTI_ACTIVITY_KIND_KERNEL' doesn't exist)\"\n",
      "../data/compare/rtx3050ti/output_gdeflate_500mb_silesia.zip_128threads.h5\n",
      "Failed getting utilization of gdeflate 500mb_silesia.zip 128 threads: \"Unable to synchronously open object (object 'CUPTI_ACTIVITY_KIND_KERNEL' doesn't exist)\"\n",
      "../data/compare/rtx3050ti/output_gdeflate_500mb_silesia.zip_512threads.h5\n",
      "Failed getting utilization of gdeflate 500mb_silesia.zip 512 threads: \"Unable to synchronously open object (object 'CUPTI_ACTIVITY_KIND_KERNEL' doesn't exist)\"\n",
      "../data/compare/rtx3050ti/output_gdeflate_500mb_silesia.zip_2048threads.h5\n",
      "Failed getting utilization of gdeflate 500mb_silesia.zip 2048 threads: \"Unable to synchronously open object (object 'CUPTI_ACTIVITY_KIND_KERNEL' doesn't exist)\"\n",
      "../data/compare/rtx3050ti/output_gdeflate_500mb_silesia.zip_8192threads.h5\n",
      "Failed getting utilization of gdeflate 500mb_silesia.zip 8192 threads: \"Unable to synchronously open object (object 'CUPTI_ACTIVITY_KIND_KERNEL' doesn't exist)\"\n",
      "../data/compare/rtx3050ti/output_gdeflate_500mb_silesia.zip_32768threads.h5\n",
      "Failed getting utilization of gdeflate 500mb_silesia.zip 32768 threads: \"Unable to synchronously open object (object 'CUPTI_ACTIVITY_KIND_KERNEL' doesn't exist)\"\n",
      "../data/compare/rtx3050ti/output_gdeflate_500mb_silesia.zip_131072threads.h5\n",
      "Failed getting utilization of gdeflate 500mb_silesia.zip 131072 threads: \"Unable to synchronously open object (object 'CUPTI_ACTIVITY_KIND_KERNEL' doesn't exist)\"\n",
      "../data/compare/rtx3050ti/output_lz4_500mb_silesia.zip_8threads.h5\n",
      "Failed getting utilization of lz4 500mb_silesia.zip 8 threads: \"Unable to synchronously open object (object 'CUPTI_ACTIVITY_KIND_KERNEL' doesn't exist)\"\n",
      "../data/compare/rtx3050ti/output_lz4_500mb_silesia.zip_32threads.h5\n",
      "Failed getting utilization of lz4 500mb_silesia.zip 32 threads: \"Unable to synchronously open object (object 'CUPTI_ACTIVITY_KIND_KERNEL' doesn't exist)\"\n",
      "../data/compare/rtx3050ti/output_lz4_500mb_silesia.zip_128threads.h5\n",
      "Failed getting utilization of lz4 500mb_silesia.zip 128 threads: \"Unable to synchronously open object (object 'CUPTI_ACTIVITY_KIND_KERNEL' doesn't exist)\"\n",
      "../data/compare/rtx3050ti/output_lz4_500mb_silesia.zip_512threads.h5\n",
      "Failed getting utilization of lz4 500mb_silesia.zip 512 threads: \"Unable to synchronously open object (object 'CUPTI_ACTIVITY_KIND_KERNEL' doesn't exist)\"\n",
      "../data/compare/rtx3050ti/output_lz4_500mb_silesia.zip_2048threads.h5\n",
      "Failed getting utilization of lz4 500mb_silesia.zip 2048 threads: \"Unable to synchronously open object (object 'CUPTI_ACTIVITY_KIND_KERNEL' doesn't exist)\"\n",
      "../data/compare/rtx3050ti/output_lz4_500mb_silesia.zip_8192threads.h5\n",
      "Failed getting utilization of lz4 500mb_silesia.zip 8192 threads: \"Unable to synchronously open object (object 'CUPTI_ACTIVITY_KIND_KERNEL' doesn't exist)\"\n",
      "../data/compare/rtx3050ti/output_lz4_500mb_silesia.zip_32768threads.h5\n",
      "Failed getting utilization of lz4 500mb_silesia.zip 32768 threads: \"Unable to synchronously open object (object 'CUPTI_ACTIVITY_KIND_KERNEL' doesn't exist)\"\n",
      "../data/compare/rtx3050ti/output_lz4_500mb_silesia.zip_131072threads.h5\n",
      "Failed getting utilization of lz4 500mb_silesia.zip 131072 threads: \"Unable to synchronously open object (object 'CUPTI_ACTIVITY_KIND_KERNEL' doesn't exist)\"\n",
      "../data/compare/rtx3050ti/output_cascaded_500mb_silesia.zip_8threads.h5\n",
      "Failed getting utilization of cascaded 500mb_silesia.zip 8 threads: \"Unable to synchronously open object (object 'CUPTI_ACTIVITY_KIND_KERNEL' doesn't exist)\"\n",
      "../data/compare/rtx3050ti/output_cascaded_500mb_silesia.zip_32threads.h5\n",
      "Failed getting utilization of cascaded 500mb_silesia.zip 32 threads: \"Unable to synchronously open object (object 'CUPTI_ACTIVITY_KIND_KERNEL' doesn't exist)\"\n",
      "../data/compare/rtx3050ti/output_cascaded_500mb_silesia.zip_128threads.h5\n",
      "Failed getting utilization of cascaded 500mb_silesia.zip 128 threads: \"Unable to synchronously open object (object 'CUPTI_ACTIVITY_KIND_KERNEL' doesn't exist)\"\n",
      "../data/compare/rtx3050ti/output_cascaded_500mb_silesia.zip_512threads.h5\n",
      "Failed getting utilization of cascaded 500mb_silesia.zip 512 threads: \"Unable to synchronously open object (object 'CUPTI_ACTIVITY_KIND_KERNEL' doesn't exist)\"\n",
      "../data/compare/rtx3050ti/output_cascaded_500mb_silesia.zip_2048threads.h5\n",
      "Failed getting utilization of cascaded 500mb_silesia.zip 2048 threads: \"Unable to synchronously open object (object 'CUPTI_ACTIVITY_KIND_KERNEL' doesn't exist)\"\n",
      "../data/compare/rtx3050ti/output_cascaded_500mb_silesia.zip_8192threads.h5\n",
      "Failed getting utilization of cascaded 500mb_silesia.zip 8192 threads: \"Unable to synchronously open object (object 'CUPTI_ACTIVITY_KIND_KERNEL' doesn't exist)\"\n",
      "../data/compare/rtx3050ti/output_cascaded_500mb_silesia.zip_32768threads.h5\n",
      "Failed getting utilization of cascaded 500mb_silesia.zip 32768 threads: \"Unable to synchronously open object (object 'CUPTI_ACTIVITY_KIND_KERNEL' doesn't exist)\"\n",
      "../data/compare/rtx3050ti/output_cascaded_500mb_silesia.zip_131072threads.h5\n",
      "Failed getting utilization of cascaded 500mb_silesia.zip 131072 threads: \"Unable to synchronously open object (object 'CUPTI_ACTIVITY_KIND_KERNEL' doesn't exist)\"\n",
      "../data/compare/rtx3050ti/output_bitcomp_500mb_silesia.zip_8threads.h5\n",
      "Failed getting utilization of bitcomp 500mb_silesia.zip 8 threads: \"Unable to synchronously open object (object 'CUPTI_ACTIVITY_KIND_KERNEL' doesn't exist)\"\n",
      "../data/compare/rtx3050ti/output_bitcomp_500mb_silesia.zip_32threads.h5\n",
      "Failed getting utilization of bitcomp 500mb_silesia.zip 32 threads: \"Unable to synchronously open object (object 'CUPTI_ACTIVITY_KIND_KERNEL' doesn't exist)\"\n",
      "../data/compare/rtx3050ti/output_bitcomp_500mb_silesia.zip_128threads.h5\n",
      "Failed getting utilization of bitcomp 500mb_silesia.zip 128 threads: \"Unable to synchronously open object (object 'CUPTI_ACTIVITY_KIND_KERNEL' doesn't exist)\"\n",
      "../data/compare/rtx3050ti/output_bitcomp_500mb_silesia.zip_512threads.h5\n",
      "Failed getting utilization of bitcomp 500mb_silesia.zip 512 threads: \"Unable to synchronously open object (object 'CUPTI_ACTIVITY_KIND_KERNEL' doesn't exist)\"\n",
      "../data/compare/rtx3050ti/output_bitcomp_500mb_silesia.zip_2048threads.h5\n",
      "Failed getting utilization of bitcomp 500mb_silesia.zip 2048 threads: \"Unable to synchronously open object (object 'CUPTI_ACTIVITY_KIND_KERNEL' doesn't exist)\"\n",
      "../data/compare/rtx3050ti/output_bitcomp_500mb_silesia.zip_8192threads.h5\n",
      "Failed getting utilization of bitcomp 500mb_silesia.zip 8192 threads: \"Unable to synchronously open object (object 'CUPTI_ACTIVITY_KIND_KERNEL' doesn't exist)\"\n",
      "../data/compare/rtx3050ti/output_bitcomp_500mb_silesia.zip_32768threads.h5\n",
      "Failed getting utilization of bitcomp 500mb_silesia.zip 32768 threads: \"Unable to synchronously open object (object 'CUPTI_ACTIVITY_KIND_KERNEL' doesn't exist)\"\n",
      "../data/compare/rtx3050ti/output_bitcomp_500mb_silesia.zip_131072threads.h5\n",
      "Failed getting utilization of bitcomp 500mb_silesia.zip 131072 threads: \"Unable to synchronously open object (object 'CUPTI_ACTIVITY_KIND_KERNEL' doesn't exist)\"\n",
      "../data/compare/rtx3050ti/output_snappy_500mb_xml_8threads.h5\n",
      "../data/compare/rtx3050ti/output_snappy_500mb_xml_32threads.h5\n",
      "../data/compare/rtx3050ti/output_snappy_500mb_xml_128threads.h5\n",
      "../data/compare/rtx3050ti/output_snappy_500mb_xml_512threads.h5\n",
      "../data/compare/rtx3050ti/output_snappy_500mb_xml_2048threads.h5\n",
      "../data/compare/rtx3050ti/output_snappy_500mb_xml_8192threads.h5\n",
      "../data/compare/rtx3050ti/output_snappy_500mb_xml_32768threads.h5\n",
      "../data/compare/rtx3050ti/output_snappy_500mb_xml_131072threads.h5\n",
      "../data/compare/rtx3050ti/output_zstd_500mb_xml_8threads.h5\n",
      "../data/compare/rtx3050ti/output_zstd_500mb_xml_32threads.h5\n",
      "../data/compare/rtx3050ti/output_zstd_500mb_xml_128threads.h5\n",
      "../data/compare/rtx3050ti/output_zstd_500mb_xml_512threads.h5\n",
      "../data/compare/rtx3050ti/output_zstd_500mb_xml_2048threads.h5\n",
      "../data/compare/rtx3050ti/output_zstd_500mb_xml_8192threads.h5\n",
      "../data/compare/rtx3050ti/output_zstd_500mb_xml_32768threads.h5\n",
      "../data/compare/rtx3050ti/output_zstd_500mb_xml_131072threads.h5\n",
      "../data/compare/rtx3050ti/output_gdeflate_500mb_xml_8threads.h5\n",
      "Failed getting utilization of gdeflate 500mb_xml 8 threads: \"Unable to synchronously open object (object 'CUPTI_ACTIVITY_KIND_KERNEL' doesn't exist)\"\n",
      "../data/compare/rtx3050ti/output_gdeflate_500mb_xml_32threads.h5\n",
      "Failed getting utilization of gdeflate 500mb_xml 32 threads: \"Unable to synchronously open object (object 'CUPTI_ACTIVITY_KIND_KERNEL' doesn't exist)\"\n",
      "../data/compare/rtx3050ti/output_gdeflate_500mb_xml_128threads.h5\n",
      "Failed getting utilization of gdeflate 500mb_xml 128 threads: \"Unable to synchronously open object (object 'CUPTI_ACTIVITY_KIND_KERNEL' doesn't exist)\"\n",
      "../data/compare/rtx3050ti/output_gdeflate_500mb_xml_512threads.h5\n",
      "Failed getting utilization of gdeflate 500mb_xml 512 threads: \"Unable to synchronously open object (object 'CUPTI_ACTIVITY_KIND_KERNEL' doesn't exist)\"\n",
      "../data/compare/rtx3050ti/output_gdeflate_500mb_xml_2048threads.h5\n",
      "Failed getting utilization of gdeflate 500mb_xml 2048 threads: \"Unable to synchronously open object (object 'CUPTI_ACTIVITY_KIND_KERNEL' doesn't exist)\"\n",
      "../data/compare/rtx3050ti/output_gdeflate_500mb_xml_8192threads.h5\n",
      "../data/compare/rtx3050ti/output_gdeflate_500mb_xml_32768threads.h5\n",
      "../data/compare/rtx3050ti/output_gdeflate_500mb_xml_131072threads.h5\n",
      "../data/compare/rtx3050ti/output_lz4_500mb_xml_8threads.h5\n",
      "../data/compare/rtx3050ti/output_lz4_500mb_xml_32threads.h5\n",
      "../data/compare/rtx3050ti/output_lz4_500mb_xml_128threads.h5\n",
      "../data/compare/rtx3050ti/output_lz4_500mb_xml_512threads.h5\n",
      "../data/compare/rtx3050ti/output_lz4_500mb_xml_2048threads.h5\n",
      "../data/compare/rtx3050ti/output_lz4_500mb_xml_8192threads.h5\n",
      "../data/compare/rtx3050ti/output_lz4_500mb_xml_32768threads.h5\n",
      "../data/compare/rtx3050ti/output_lz4_500mb_xml_131072threads.h5\n",
      "../data/compare/rtx3050ti/output_cascaded_500mb_xml_8threads.h5\n",
      "../data/compare/rtx3050ti/output_cascaded_500mb_xml_32threads.h5\n",
      "../data/compare/rtx3050ti/output_cascaded_500mb_xml_128threads.h5\n",
      "../data/compare/rtx3050ti/output_cascaded_500mb_xml_512threads.h5\n",
      "../data/compare/rtx3050ti/output_cascaded_500mb_xml_2048threads.h5\n",
      "../data/compare/rtx3050ti/output_cascaded_500mb_xml_8192threads.h5\n",
      "../data/compare/rtx3050ti/output_cascaded_500mb_xml_32768threads.h5\n",
      "../data/compare/rtx3050ti/output_cascaded_500mb_xml_131072threads.h5\n",
      "../data/compare/rtx3050ti/output_bitcomp_500mb_xml_8threads.h5\n",
      "../data/compare/rtx3050ti/output_bitcomp_500mb_xml_32threads.h5\n",
      "../data/compare/rtx3050ti/output_bitcomp_500mb_xml_128threads.h5\n",
      "../data/compare/rtx3050ti/output_bitcomp_500mb_xml_512threads.h5\n",
      "../data/compare/rtx3050ti/output_bitcomp_500mb_xml_2048threads.h5\n",
      "../data/compare/rtx3050ti/output_bitcomp_500mb_xml_8192threads.h5\n",
      "../data/compare/rtx3050ti/output_bitcomp_500mb_xml_32768threads.h5\n",
      "../data/compare/rtx3050ti/output_bitcomp_500mb_xml_131072threads.h5\n",
      "../data/compare/rtx3050ti/output_snappy_500mb_lineitem.parquet_8threads.h5\n",
      "Failed getting utilization of snappy 500mb_lineitem.parquet 8 threads: \"Unable to synchronously open object (object 'CUPTI_ACTIVITY_KIND_KERNEL' doesn't exist)\"\n",
      "../data/compare/rtx3050ti/output_snappy_500mb_lineitem.parquet_32threads.h5\n",
      "Failed getting utilization of snappy 500mb_lineitem.parquet 32 threads: \"Unable to synchronously open object (object 'CUPTI_ACTIVITY_KIND_KERNEL' doesn't exist)\"\n",
      "../data/compare/rtx3050ti/output_snappy_500mb_lineitem.parquet_128threads.h5\n",
      "Failed getting utilization of snappy 500mb_lineitem.parquet 128 threads: \"Unable to synchronously open object (object 'CUPTI_ACTIVITY_KIND_KERNEL' doesn't exist)\"\n",
      "../data/compare/rtx3050ti/output_snappy_500mb_lineitem.parquet_512threads.h5\n",
      "Failed getting utilization of snappy 500mb_lineitem.parquet 512 threads: \"Unable to synchronously open object (object 'CUPTI_ACTIVITY_KIND_KERNEL' doesn't exist)\"\n",
      "../data/compare/rtx3050ti/output_snappy_500mb_lineitem.parquet_2048threads.h5\n",
      "Failed getting utilization of snappy 500mb_lineitem.parquet 2048 threads: \"Unable to synchronously open object (object 'CUPTI_ACTIVITY_KIND_KERNEL' doesn't exist)\"\n",
      "../data/compare/rtx3050ti/output_snappy_500mb_lineitem.parquet_8192threads.h5\n",
      "Failed getting utilization of snappy 500mb_lineitem.parquet 8192 threads: \"Unable to synchronously open object (object 'CUPTI_ACTIVITY_KIND_KERNEL' doesn't exist)\"\n",
      "../data/compare/rtx3050ti/output_snappy_500mb_lineitem.parquet_32768threads.h5\n",
      "Failed getting utilization of snappy 500mb_lineitem.parquet 32768 threads: 'compress'\n",
      "../data/compare/rtx3050ti/output_snappy_500mb_lineitem.parquet_131072threads.h5\n",
      "Failed getting utilization of snappy 500mb_lineitem.parquet 131072 threads: 'compress'\n",
      "../data/compare/rtx3050ti/output_zstd_500mb_lineitem.parquet_8threads.h5\n",
      "Failed getting utilization of zstd 500mb_lineitem.parquet 8 threads: \"Unable to synchronously open object (object 'CUPTI_ACTIVITY_KIND_KERNEL' doesn't exist)\"\n",
      "../data/compare/rtx3050ti/output_zstd_500mb_lineitem.parquet_32threads.h5\n",
      "Failed getting utilization of zstd 500mb_lineitem.parquet 32 threads: \"Unable to synchronously open object (object 'CUPTI_ACTIVITY_KIND_KERNEL' doesn't exist)\"\n",
      "../data/compare/rtx3050ti/output_zstd_500mb_lineitem.parquet_128threads.h5\n",
      "Failed getting utilization of zstd 500mb_lineitem.parquet 128 threads: \"Unable to synchronously open object (object 'CUPTI_ACTIVITY_KIND_KERNEL' doesn't exist)\"\n",
      "../data/compare/rtx3050ti/output_zstd_500mb_lineitem.parquet_512threads.h5\n",
      "Failed getting utilization of zstd 500mb_lineitem.parquet 512 threads: \"Unable to synchronously open object (object 'CUPTI_ACTIVITY_KIND_KERNEL' doesn't exist)\"\n",
      "../data/compare/rtx3050ti/output_zstd_500mb_lineitem.parquet_2048threads.h5\n",
      "Failed getting utilization of zstd 500mb_lineitem.parquet 2048 threads: \"Unable to synchronously open object (object 'CUPTI_ACTIVITY_KIND_KERNEL' doesn't exist)\"\n",
      "../data/compare/rtx3050ti/output_zstd_500mb_lineitem.parquet_8192threads.h5\n",
      "Failed getting utilization of zstd 500mb_lineitem.parquet 8192 threads: \"Unable to synchronously open object (object 'CUPTI_ACTIVITY_KIND_KERNEL' doesn't exist)\"\n",
      "../data/compare/rtx3050ti/output_zstd_500mb_lineitem.parquet_32768threads.h5\n",
      "Failed getting utilization of zstd 500mb_lineitem.parquet 32768 threads: 'compress'\n",
      "../data/compare/rtx3050ti/output_zstd_500mb_lineitem.parquet_131072threads.h5\n",
      "Failed getting utilization of zstd 500mb_lineitem.parquet 131072 threads: 'compress'\n",
      "../data/compare/rtx3050ti/output_gdeflate_500mb_lineitem.parquet_8threads.h5\n",
      "Failed getting utilization of gdeflate 500mb_lineitem.parquet 8 threads: \"Unable to synchronously open object (object 'CUPTI_ACTIVITY_KIND_KERNEL' doesn't exist)\"\n",
      "../data/compare/rtx3050ti/output_gdeflate_500mb_lineitem.parquet_32threads.h5\n",
      "Failed getting utilization of gdeflate 500mb_lineitem.parquet 32 threads: \"Unable to synchronously open object (object 'CUPTI_ACTIVITY_KIND_KERNEL' doesn't exist)\"\n",
      "../data/compare/rtx3050ti/output_gdeflate_500mb_lineitem.parquet_128threads.h5\n",
      "Failed getting utilization of gdeflate 500mb_lineitem.parquet 128 threads: \"Unable to synchronously open object (object 'CUPTI_ACTIVITY_KIND_KERNEL' doesn't exist)\"\n",
      "../data/compare/rtx3050ti/output_gdeflate_500mb_lineitem.parquet_512threads.h5\n",
      "Failed getting utilization of gdeflate 500mb_lineitem.parquet 512 threads: \"Unable to synchronously open object (object 'CUPTI_ACTIVITY_KIND_KERNEL' doesn't exist)\"\n",
      "../data/compare/rtx3050ti/output_gdeflate_500mb_lineitem.parquet_2048threads.h5\n",
      "Failed getting utilization of gdeflate 500mb_lineitem.parquet 2048 threads: \"Unable to synchronously open object (object 'CUPTI_ACTIVITY_KIND_KERNEL' doesn't exist)\"\n",
      "../data/compare/rtx3050ti/output_gdeflate_500mb_lineitem.parquet_8192threads.h5\n",
      "Failed getting utilization of gdeflate 500mb_lineitem.parquet 8192 threads: \"Unable to synchronously open object (object 'CUPTI_ACTIVITY_KIND_KERNEL' doesn't exist)\"\n",
      "../data/compare/rtx3050ti/output_gdeflate_500mb_lineitem.parquet_32768threads.h5\n",
      "Failed getting utilization of gdeflate 500mb_lineitem.parquet 32768 threads: 'compress'\n",
      "../data/compare/rtx3050ti/output_gdeflate_500mb_lineitem.parquet_131072threads.h5\n",
      "Failed getting utilization of gdeflate 500mb_lineitem.parquet 131072 threads: 'compress'\n",
      "../data/compare/rtx3050ti/output_lz4_500mb_lineitem.parquet_8threads.h5\n",
      "Failed getting utilization of lz4 500mb_lineitem.parquet 8 threads: \"Unable to synchronously open object (object 'CUPTI_ACTIVITY_KIND_KERNEL' doesn't exist)\"\n",
      "../data/compare/rtx3050ti/output_lz4_500mb_lineitem.parquet_32threads.h5\n",
      "Failed getting utilization of lz4 500mb_lineitem.parquet 32 threads: \"Unable to synchronously open object (object 'CUPTI_ACTIVITY_KIND_KERNEL' doesn't exist)\"\n",
      "../data/compare/rtx3050ti/output_lz4_500mb_lineitem.parquet_128threads.h5\n",
      "Failed getting utilization of lz4 500mb_lineitem.parquet 128 threads: \"Unable to synchronously open object (object 'CUPTI_ACTIVITY_KIND_KERNEL' doesn't exist)\"\n",
      "../data/compare/rtx3050ti/output_lz4_500mb_lineitem.parquet_512threads.h5\n",
      "Failed getting utilization of lz4 500mb_lineitem.parquet 512 threads: \"Unable to synchronously open object (object 'CUPTI_ACTIVITY_KIND_KERNEL' doesn't exist)\"\n",
      "../data/compare/rtx3050ti/output_lz4_500mb_lineitem.parquet_2048threads.h5\n",
      "Failed getting utilization of lz4 500mb_lineitem.parquet 2048 threads: \"Unable to synchronously open object (object 'CUPTI_ACTIVITY_KIND_KERNEL' doesn't exist)\"\n",
      "../data/compare/rtx3050ti/output_lz4_500mb_lineitem.parquet_8192threads.h5\n",
      "Failed getting utilization of lz4 500mb_lineitem.parquet 8192 threads: \"Unable to synchronously open object (object 'CUPTI_ACTIVITY_KIND_KERNEL' doesn't exist)\"\n",
      "../data/compare/rtx3050ti/output_lz4_500mb_lineitem.parquet_32768threads.h5\n",
      "Failed getting utilization of lz4 500mb_lineitem.parquet 32768 threads: 'compress'\n",
      "../data/compare/rtx3050ti/output_lz4_500mb_lineitem.parquet_131072threads.h5\n",
      "Failed getting utilization of lz4 500mb_lineitem.parquet 131072 threads: 'compress'\n",
      "../data/compare/rtx3050ti/output_cascaded_500mb_lineitem.parquet_8threads.h5\n",
      "Failed getting utilization of cascaded 500mb_lineitem.parquet 8 threads: \"Unable to synchronously open object (object 'CUPTI_ACTIVITY_KIND_KERNEL' doesn't exist)\"\n",
      "../data/compare/rtx3050ti/output_cascaded_500mb_lineitem.parquet_32threads.h5\n",
      "Failed getting utilization of cascaded 500mb_lineitem.parquet 32 threads: \"Unable to synchronously open object (object 'CUPTI_ACTIVITY_KIND_KERNEL' doesn't exist)\"\n",
      "../data/compare/rtx3050ti/output_cascaded_500mb_lineitem.parquet_128threads.h5\n",
      "Failed getting utilization of cascaded 500mb_lineitem.parquet 128 threads: \"Unable to synchronously open object (object 'CUPTI_ACTIVITY_KIND_KERNEL' doesn't exist)\"\n",
      "../data/compare/rtx3050ti/output_cascaded_500mb_lineitem.parquet_512threads.h5\n",
      "Failed getting utilization of cascaded 500mb_lineitem.parquet 512 threads: \"Unable to synchronously open object (object 'CUPTI_ACTIVITY_KIND_KERNEL' doesn't exist)\"\n",
      "../data/compare/rtx3050ti/output_cascaded_500mb_lineitem.parquet_2048threads.h5\n",
      "Failed getting utilization of cascaded 500mb_lineitem.parquet 2048 threads: \"Unable to synchronously open object (object 'CUPTI_ACTIVITY_KIND_KERNEL' doesn't exist)\"\n",
      "../data/compare/rtx3050ti/output_cascaded_500mb_lineitem.parquet_8192threads.h5\n",
      "Failed getting utilization of cascaded 500mb_lineitem.parquet 8192 threads: \"Unable to synchronously open object (object 'CUPTI_ACTIVITY_KIND_KERNEL' doesn't exist)\"\n",
      "../data/compare/rtx3050ti/output_cascaded_500mb_lineitem.parquet_32768threads.h5\n",
      "Failed getting utilization of cascaded 500mb_lineitem.parquet 32768 threads: 'compress'\n",
      "../data/compare/rtx3050ti/output_cascaded_500mb_lineitem.parquet_131072threads.h5\n",
      "Failed getting utilization of cascaded 500mb_lineitem.parquet 131072 threads: 'compress'\n",
      "../data/compare/rtx3050ti/output_bitcomp_500mb_lineitem.parquet_8threads.h5\n",
      "Failed getting utilization of bitcomp 500mb_lineitem.parquet 8 threads: \"Unable to synchronously open object (object 'CUPTI_ACTIVITY_KIND_KERNEL' doesn't exist)\"\n",
      "../data/compare/rtx3050ti/output_bitcomp_500mb_lineitem.parquet_32threads.h5\n",
      "Failed getting utilization of bitcomp 500mb_lineitem.parquet 32 threads: \"Unable to synchronously open object (object 'CUPTI_ACTIVITY_KIND_KERNEL' doesn't exist)\"\n",
      "../data/compare/rtx3050ti/output_bitcomp_500mb_lineitem.parquet_128threads.h5\n",
      "Failed getting utilization of bitcomp 500mb_lineitem.parquet 128 threads: \"Unable to synchronously open object (object 'CUPTI_ACTIVITY_KIND_KERNEL' doesn't exist)\"\n",
      "../data/compare/rtx3050ti/output_bitcomp_500mb_lineitem.parquet_512threads.h5\n",
      "Failed getting utilization of bitcomp 500mb_lineitem.parquet 512 threads: \"Unable to synchronously open object (object 'CUPTI_ACTIVITY_KIND_KERNEL' doesn't exist)\"\n",
      "../data/compare/rtx3050ti/output_bitcomp_500mb_lineitem.parquet_2048threads.h5\n",
      "Failed getting utilization of bitcomp 500mb_lineitem.parquet 2048 threads: \"Unable to synchronously open object (object 'CUPTI_ACTIVITY_KIND_KERNEL' doesn't exist)\"\n",
      "../data/compare/rtx3050ti/output_bitcomp_500mb_lineitem.parquet_8192threads.h5\n",
      "Failed getting utilization of bitcomp 500mb_lineitem.parquet 8192 threads: \"Unable to synchronously open object (object 'CUPTI_ACTIVITY_KIND_KERNEL' doesn't exist)\"\n",
      "../data/compare/rtx3050ti/output_bitcomp_500mb_lineitem.parquet_32768threads.h5\n",
      "Failed getting utilization of bitcomp 500mb_lineitem.parquet 32768 threads: 'compress'\n",
      "../data/compare/rtx3050ti/output_bitcomp_500mb_lineitem.parquet_131072threads.h5\n",
      "Failed getting utilization of bitcomp 500mb_lineitem.parquet 131072 threads: 'compress'\n",
      "../data/compare/rtx2080ti/output_snappy_500mb_dickens_8threads.h5\n",
      "../data/compare/rtx2080ti/output_snappy_500mb_dickens_32threads.h5\n",
      "../data/compare/rtx2080ti/output_snappy_500mb_dickens_128threads.h5\n",
      "../data/compare/rtx2080ti/output_snappy_500mb_dickens_512threads.h5\n",
      "../data/compare/rtx2080ti/output_snappy_500mb_dickens_2048threads.h5\n",
      "../data/compare/rtx2080ti/output_snappy_500mb_dickens_8192threads.h5\n",
      "../data/compare/rtx2080ti/output_snappy_500mb_dickens_32768threads.h5\n",
      "../data/compare/rtx2080ti/output_snappy_500mb_dickens_131072threads.h5\n",
      "../data/compare/rtx2080ti/output_zstd_500mb_dickens_8threads.h5\n",
      "../data/compare/rtx2080ti/output_zstd_500mb_dickens_32threads.h5\n",
      "../data/compare/rtx2080ti/output_zstd_500mb_dickens_128threads.h5\n",
      "../data/compare/rtx2080ti/output_zstd_500mb_dickens_512threads.h5\n",
      "../data/compare/rtx2080ti/output_zstd_500mb_dickens_2048threads.h5\n",
      "../data/compare/rtx2080ti/output_zstd_500mb_dickens_8192threads.h5\n",
      "../data/compare/rtx2080ti/output_zstd_500mb_dickens_32768threads.h5\n",
      "../data/compare/rtx2080ti/output_zstd_500mb_dickens_131072threads.h5\n",
      "../data/compare/rtx2080ti/output_gdeflate_500mb_dickens_8threads.h5\n",
      "Failed getting utilization of gdeflate 500mb_dickens 8 threads: Index(...) must be called with a collection of some kind, 'category' was passed\n",
      "../data/compare/rtx2080ti/output_gdeflate_500mb_dickens_32threads.h5\n",
      "Failed getting utilization of gdeflate 500mb_dickens 32 threads: Index(...) must be called with a collection of some kind, 'category' was passed\n",
      "../data/compare/rtx2080ti/output_gdeflate_500mb_dickens_128threads.h5\n",
      "Failed getting utilization of gdeflate 500mb_dickens 128 threads: Index(...) must be called with a collection of some kind, 'category' was passed\n",
      "../data/compare/rtx2080ti/output_gdeflate_500mb_dickens_512threads.h5\n",
      "Failed getting utilization of gdeflate 500mb_dickens 512 threads: Index(...) must be called with a collection of some kind, 'category' was passed\n",
      "../data/compare/rtx2080ti/output_gdeflate_500mb_dickens_2048threads.h5\n",
      "Failed getting utilization of gdeflate 500mb_dickens 2048 threads: Index(...) must be called with a collection of some kind, 'category' was passed\n",
      "../data/compare/rtx2080ti/output_gdeflate_500mb_dickens_8192threads.h5\n",
      "../data/compare/rtx2080ti/output_gdeflate_500mb_dickens_32768threads.h5\n",
      "../data/compare/rtx2080ti/output_gdeflate_500mb_dickens_131072threads.h5\n",
      "../data/compare/rtx2080ti/output_lz4_500mb_dickens_8threads.h5\n",
      "../data/compare/rtx2080ti/output_lz4_500mb_dickens_32threads.h5\n",
      "../data/compare/rtx2080ti/output_lz4_500mb_dickens_128threads.h5\n",
      "../data/compare/rtx2080ti/output_lz4_500mb_dickens_512threads.h5\n",
      "../data/compare/rtx2080ti/output_lz4_500mb_dickens_2048threads.h5\n",
      "../data/compare/rtx2080ti/output_lz4_500mb_dickens_8192threads.h5\n",
      "../data/compare/rtx2080ti/output_lz4_500mb_dickens_32768threads.h5\n",
      "../data/compare/rtx2080ti/output_lz4_500mb_dickens_131072threads.h5\n",
      "../data/compare/rtx2080ti/output_cascaded_500mb_dickens_8threads.h5\n",
      "Failed getting utilization of cascaded 500mb_dickens 8 threads: Index(...) must be called with a collection of some kind, 'category' was passed\n",
      "../data/compare/rtx2080ti/output_cascaded_500mb_dickens_32threads.h5\n",
      "Failed getting utilization of cascaded 500mb_dickens 32 threads: Index(...) must be called with a collection of some kind, 'category' was passed\n",
      "../data/compare/rtx2080ti/output_cascaded_500mb_dickens_128threads.h5\n",
      "Failed getting utilization of cascaded 500mb_dickens 128 threads: Index(...) must be called with a collection of some kind, 'category' was passed\n",
      "../data/compare/rtx2080ti/output_cascaded_500mb_dickens_512threads.h5\n",
      "Failed getting utilization of cascaded 500mb_dickens 512 threads: Index(...) must be called with a collection of some kind, 'category' was passed\n",
      "../data/compare/rtx2080ti/output_cascaded_500mb_dickens_2048threads.h5\n",
      "Failed getting utilization of cascaded 500mb_dickens 2048 threads: Index(...) must be called with a collection of some kind, 'category' was passed\n",
      "../data/compare/rtx2080ti/output_cascaded_500mb_dickens_8192threads.h5\n",
      "Failed getting utilization of cascaded 500mb_dickens 8192 threads: Index(...) must be called with a collection of some kind, 'category' was passed\n",
      "../data/compare/rtx2080ti/output_cascaded_500mb_dickens_32768threads.h5\n",
      "Failed getting utilization of cascaded 500mb_dickens 32768 threads: Index(...) must be called with a collection of some kind, 'category' was passed\n",
      "../data/compare/rtx2080ti/output_cascaded_500mb_dickens_131072threads.h5\n",
      "Failed getting utilization of cascaded 500mb_dickens 131072 threads: Index(...) must be called with a collection of some kind, 'category' was passed\n",
      "../data/compare/rtx2080ti/output_bitcomp_500mb_dickens_8threads.h5\n",
      "../data/compare/rtx2080ti/output_bitcomp_500mb_dickens_32threads.h5\n",
      "../data/compare/rtx2080ti/output_bitcomp_500mb_dickens_128threads.h5\n",
      "../data/compare/rtx2080ti/output_bitcomp_500mb_dickens_512threads.h5\n",
      "../data/compare/rtx2080ti/output_bitcomp_500mb_dickens_2048threads.h5\n",
      "../data/compare/rtx2080ti/output_bitcomp_500mb_dickens_8192threads.h5\n",
      "../data/compare/rtx2080ti/output_bitcomp_500mb_dickens_32768threads.h5\n",
      "../data/compare/rtx2080ti/output_bitcomp_500mb_dickens_131072threads.h5\n",
      "../data/compare/rtx2080ti/output_snappy_500mb_mozilla_8threads.h5\n",
      "../data/compare/rtx2080ti/output_snappy_500mb_mozilla_32threads.h5\n",
      "../data/compare/rtx2080ti/output_snappy_500mb_mozilla_128threads.h5\n",
      "../data/compare/rtx2080ti/output_snappy_500mb_mozilla_512threads.h5\n",
      "../data/compare/rtx2080ti/output_snappy_500mb_mozilla_2048threads.h5\n",
      "../data/compare/rtx2080ti/output_snappy_500mb_mozilla_8192threads.h5\n",
      "../data/compare/rtx2080ti/output_snappy_500mb_mozilla_32768threads.h5\n",
      "../data/compare/rtx2080ti/output_snappy_500mb_mozilla_131072threads.h5\n",
      "../data/compare/rtx2080ti/output_zstd_500mb_mozilla_8threads.h5\n",
      "Failed getting utilization of zstd 500mb_mozilla 8 threads: Index(...) must be called with a collection of some kind, 'category' was passed\n",
      "../data/compare/rtx2080ti/output_zstd_500mb_mozilla_32threads.h5\n",
      "../data/compare/rtx2080ti/output_zstd_500mb_mozilla_128threads.h5\n",
      "../data/compare/rtx2080ti/output_zstd_500mb_mozilla_512threads.h5\n",
      "../data/compare/rtx2080ti/output_zstd_500mb_mozilla_2048threads.h5\n",
      "../data/compare/rtx2080ti/output_zstd_500mb_mozilla_8192threads.h5\n",
      "../data/compare/rtx2080ti/output_zstd_500mb_mozilla_32768threads.h5\n",
      "../data/compare/rtx2080ti/output_zstd_500mb_mozilla_131072threads.h5\n",
      "../data/compare/rtx2080ti/output_gdeflate_500mb_mozilla_8threads.h5\n",
      "Failed getting utilization of gdeflate 500mb_mozilla 8 threads: Index(...) must be called with a collection of some kind, 'category' was passed\n",
      "../data/compare/rtx2080ti/output_gdeflate_500mb_mozilla_32threads.h5\n",
      "Failed getting utilization of gdeflate 500mb_mozilla 32 threads: Index(...) must be called with a collection of some kind, 'category' was passed\n",
      "../data/compare/rtx2080ti/output_gdeflate_500mb_mozilla_128threads.h5\n",
      "Failed getting utilization of gdeflate 500mb_mozilla 128 threads: Index(...) must be called with a collection of some kind, 'category' was passed\n",
      "../data/compare/rtx2080ti/output_gdeflate_500mb_mozilla_512threads.h5\n",
      "Failed getting utilization of gdeflate 500mb_mozilla 512 threads: Index(...) must be called with a collection of some kind, 'category' was passed\n",
      "../data/compare/rtx2080ti/output_gdeflate_500mb_mozilla_2048threads.h5\n",
      "Failed getting utilization of gdeflate 500mb_mozilla 2048 threads: Index(...) must be called with a collection of some kind, 'category' was passed\n",
      "../data/compare/rtx2080ti/output_gdeflate_500mb_mozilla_8192threads.h5\n",
      "../data/compare/rtx2080ti/output_gdeflate_500mb_mozilla_32768threads.h5\n",
      "../data/compare/rtx2080ti/output_gdeflate_500mb_mozilla_131072threads.h5\n",
      "../data/compare/rtx2080ti/output_lz4_500mb_mozilla_8threads.h5\n",
      "Failed getting utilization of lz4 500mb_mozilla 8 threads: Index(...) must be called with a collection of some kind, 'category' was passed\n",
      "../data/compare/rtx2080ti/output_lz4_500mb_mozilla_32threads.h5\n",
      "../data/compare/rtx2080ti/output_lz4_500mb_mozilla_128threads.h5\n",
      "../data/compare/rtx2080ti/output_lz4_500mb_mozilla_512threads.h5\n",
      "../data/compare/rtx2080ti/output_lz4_500mb_mozilla_2048threads.h5\n",
      "../data/compare/rtx2080ti/output_lz4_500mb_mozilla_8192threads.h5\n",
      "../data/compare/rtx2080ti/output_lz4_500mb_mozilla_32768threads.h5\n",
      "../data/compare/rtx2080ti/output_lz4_500mb_mozilla_131072threads.h5\n",
      "../data/compare/rtx2080ti/output_cascaded_500mb_mozilla_8threads.h5\n",
      "../data/compare/rtx2080ti/output_cascaded_500mb_mozilla_32threads.h5\n",
      "../data/compare/rtx2080ti/output_cascaded_500mb_mozilla_128threads.h5\n",
      "../data/compare/rtx2080ti/output_cascaded_500mb_mozilla_512threads.h5\n",
      "../data/compare/rtx2080ti/output_cascaded_500mb_mozilla_2048threads.h5\n",
      "../data/compare/rtx2080ti/output_cascaded_500mb_mozilla_8192threads.h5\n",
      "../data/compare/rtx2080ti/output_cascaded_500mb_mozilla_32768threads.h5\n",
      "../data/compare/rtx2080ti/output_cascaded_500mb_mozilla_131072threads.h5\n",
      "../data/compare/rtx2080ti/output_bitcomp_500mb_mozilla_8threads.h5\n",
      "../data/compare/rtx2080ti/output_bitcomp_500mb_mozilla_32threads.h5\n",
      "../data/compare/rtx2080ti/output_bitcomp_500mb_mozilla_128threads.h5\n",
      "../data/compare/rtx2080ti/output_bitcomp_500mb_mozilla_512threads.h5\n",
      "../data/compare/rtx2080ti/output_bitcomp_500mb_mozilla_2048threads.h5\n",
      "../data/compare/rtx2080ti/output_bitcomp_500mb_mozilla_8192threads.h5\n",
      "../data/compare/rtx2080ti/output_bitcomp_500mb_mozilla_32768threads.h5\n",
      "../data/compare/rtx2080ti/output_bitcomp_500mb_mozilla_131072threads.h5\n",
      "../data/compare/rtx2080ti/output_snappy_500mb_mr_8threads.h5\n",
      "../data/compare/rtx2080ti/output_snappy_500mb_mr_32threads.h5\n",
      "../data/compare/rtx2080ti/output_snappy_500mb_mr_128threads.h5\n",
      "../data/compare/rtx2080ti/output_snappy_500mb_mr_512threads.h5\n",
      "../data/compare/rtx2080ti/output_snappy_500mb_mr_2048threads.h5\n",
      "../data/compare/rtx2080ti/output_snappy_500mb_mr_8192threads.h5\n",
      "../data/compare/rtx2080ti/output_snappy_500mb_mr_32768threads.h5\n",
      "../data/compare/rtx2080ti/output_snappy_500mb_mr_131072threads.h5\n",
      "../data/compare/rtx2080ti/output_zstd_500mb_mr_8threads.h5\n",
      "../data/compare/rtx2080ti/output_zstd_500mb_mr_32threads.h5\n",
      "../data/compare/rtx2080ti/output_zstd_500mb_mr_128threads.h5\n",
      "../data/compare/rtx2080ti/output_zstd_500mb_mr_512threads.h5\n",
      "../data/compare/rtx2080ti/output_zstd_500mb_mr_2048threads.h5\n",
      "../data/compare/rtx2080ti/output_zstd_500mb_mr_8192threads.h5\n",
      "../data/compare/rtx2080ti/output_zstd_500mb_mr_32768threads.h5\n",
      "../data/compare/rtx2080ti/output_zstd_500mb_mr_131072threads.h5\n",
      "../data/compare/rtx2080ti/output_gdeflate_500mb_mr_8threads.h5\n",
      "Failed getting utilization of gdeflate 500mb_mr 8 threads: Index(...) must be called with a collection of some kind, 'category' was passed\n",
      "../data/compare/rtx2080ti/output_gdeflate_500mb_mr_32threads.h5\n",
      "Failed getting utilization of gdeflate 500mb_mr 32 threads: Index(...) must be called with a collection of some kind, 'category' was passed\n",
      "../data/compare/rtx2080ti/output_gdeflate_500mb_mr_128threads.h5\n",
      "Failed getting utilization of gdeflate 500mb_mr 128 threads: Index(...) must be called with a collection of some kind, 'category' was passed\n",
      "../data/compare/rtx2080ti/output_gdeflate_500mb_mr_512threads.h5\n",
      "Failed getting utilization of gdeflate 500mb_mr 512 threads: Index(...) must be called with a collection of some kind, 'category' was passed\n",
      "../data/compare/rtx2080ti/output_gdeflate_500mb_mr_2048threads.h5\n",
      "Failed getting utilization of gdeflate 500mb_mr 2048 threads: Index(...) must be called with a collection of some kind, 'category' was passed\n",
      "../data/compare/rtx2080ti/output_gdeflate_500mb_mr_8192threads.h5\n",
      "../data/compare/rtx2080ti/output_gdeflate_500mb_mr_32768threads.h5\n",
      "../data/compare/rtx2080ti/output_gdeflate_500mb_mr_131072threads.h5\n",
      "../data/compare/rtx2080ti/output_lz4_500mb_mr_8threads.h5\n",
      "../data/compare/rtx2080ti/output_lz4_500mb_mr_32threads.h5\n",
      "../data/compare/rtx2080ti/output_lz4_500mb_mr_128threads.h5\n",
      "../data/compare/rtx2080ti/output_lz4_500mb_mr_512threads.h5\n",
      "../data/compare/rtx2080ti/output_lz4_500mb_mr_2048threads.h5\n",
      "../data/compare/rtx2080ti/output_lz4_500mb_mr_8192threads.h5\n",
      "../data/compare/rtx2080ti/output_lz4_500mb_mr_32768threads.h5\n",
      "../data/compare/rtx2080ti/output_lz4_500mb_mr_131072threads.h5\n",
      "../data/compare/rtx2080ti/output_cascaded_500mb_mr_8threads.h5\n",
      "../data/compare/rtx2080ti/output_cascaded_500mb_mr_32threads.h5\n",
      "../data/compare/rtx2080ti/output_cascaded_500mb_mr_128threads.h5\n",
      "../data/compare/rtx2080ti/output_cascaded_500mb_mr_512threads.h5\n",
      "../data/compare/rtx2080ti/output_cascaded_500mb_mr_2048threads.h5\n",
      "../data/compare/rtx2080ti/output_cascaded_500mb_mr_8192threads.h5\n",
      "../data/compare/rtx2080ti/output_cascaded_500mb_mr_32768threads.h5\n",
      "../data/compare/rtx2080ti/output_cascaded_500mb_mr_131072threads.h5\n",
      "../data/compare/rtx2080ti/output_bitcomp_500mb_mr_8threads.h5\n",
      "../data/compare/rtx2080ti/output_bitcomp_500mb_mr_32threads.h5\n",
      "../data/compare/rtx2080ti/output_bitcomp_500mb_mr_128threads.h5\n",
      "../data/compare/rtx2080ti/output_bitcomp_500mb_mr_512threads.h5\n",
      "../data/compare/rtx2080ti/output_bitcomp_500mb_mr_2048threads.h5\n",
      "../data/compare/rtx2080ti/output_bitcomp_500mb_mr_8192threads.h5\n",
      "../data/compare/rtx2080ti/output_bitcomp_500mb_mr_32768threads.h5\n",
      "../data/compare/rtx2080ti/output_bitcomp_500mb_mr_131072threads.h5\n",
      "../data/compare/rtx2080ti/output_snappy_500mb_nci_8threads.h5\n",
      "../data/compare/rtx2080ti/output_snappy_500mb_nci_32threads.h5\n",
      "../data/compare/rtx2080ti/output_snappy_500mb_nci_128threads.h5\n",
      "../data/compare/rtx2080ti/output_snappy_500mb_nci_512threads.h5\n",
      "../data/compare/rtx2080ti/output_snappy_500mb_nci_2048threads.h5\n",
      "../data/compare/rtx2080ti/output_snappy_500mb_nci_8192threads.h5\n",
      "../data/compare/rtx2080ti/output_snappy_500mb_nci_32768threads.h5\n",
      "../data/compare/rtx2080ti/output_snappy_500mb_nci_131072threads.h5\n",
      "../data/compare/rtx2080ti/output_zstd_500mb_nci_8threads.h5\n",
      "Failed getting utilization of zstd 500mb_nci 8 threads: Index(...) must be called with a collection of some kind, 'category' was passed\n",
      "../data/compare/rtx2080ti/output_zstd_500mb_nci_32threads.h5\n",
      "../data/compare/rtx2080ti/output_zstd_500mb_nci_128threads.h5\n",
      "../data/compare/rtx2080ti/output_zstd_500mb_nci_512threads.h5\n",
      "../data/compare/rtx2080ti/output_zstd_500mb_nci_2048threads.h5\n",
      "../data/compare/rtx2080ti/output_zstd_500mb_nci_8192threads.h5\n",
      "../data/compare/rtx2080ti/output_zstd_500mb_nci_32768threads.h5\n",
      "../data/compare/rtx2080ti/output_zstd_500mb_nci_131072threads.h5\n",
      "../data/compare/rtx2080ti/output_gdeflate_500mb_nci_8threads.h5\n",
      "Failed getting utilization of gdeflate 500mb_nci 8 threads: Index(...) must be called with a collection of some kind, 'category' was passed\n",
      "../data/compare/rtx2080ti/output_gdeflate_500mb_nci_32threads.h5\n",
      "Failed getting utilization of gdeflate 500mb_nci 32 threads: Index(...) must be called with a collection of some kind, 'category' was passed\n",
      "../data/compare/rtx2080ti/output_gdeflate_500mb_nci_128threads.h5\n",
      "Failed getting utilization of gdeflate 500mb_nci 128 threads: Index(...) must be called with a collection of some kind, 'category' was passed\n",
      "../data/compare/rtx2080ti/output_gdeflate_500mb_nci_512threads.h5\n",
      "Failed getting utilization of gdeflate 500mb_nci 512 threads: Index(...) must be called with a collection of some kind, 'category' was passed\n",
      "../data/compare/rtx2080ti/output_gdeflate_500mb_nci_2048threads.h5\n",
      "Failed getting utilization of gdeflate 500mb_nci 2048 threads: Index(...) must be called with a collection of some kind, 'category' was passed\n",
      "../data/compare/rtx2080ti/output_gdeflate_500mb_nci_8192threads.h5\n",
      "../data/compare/rtx2080ti/output_gdeflate_500mb_nci_32768threads.h5\n",
      "../data/compare/rtx2080ti/output_gdeflate_500mb_nci_131072threads.h5\n",
      "../data/compare/rtx2080ti/output_lz4_500mb_nci_8threads.h5\n",
      "Failed getting utilization of lz4 500mb_nci 8 threads: Index(...) must be called with a collection of some kind, 'category' was passed\n",
      "../data/compare/rtx2080ti/output_lz4_500mb_nci_32threads.h5\n",
      "../data/compare/rtx2080ti/output_lz4_500mb_nci_128threads.h5\n",
      "../data/compare/rtx2080ti/output_lz4_500mb_nci_512threads.h5\n",
      "../data/compare/rtx2080ti/output_lz4_500mb_nci_2048threads.h5\n",
      "../data/compare/rtx2080ti/output_lz4_500mb_nci_8192threads.h5\n",
      "../data/compare/rtx2080ti/output_lz4_500mb_nci_32768threads.h5\n",
      "../data/compare/rtx2080ti/output_lz4_500mb_nci_131072threads.h5\n",
      "../data/compare/rtx2080ti/output_cascaded_500mb_nci_8threads.h5\n",
      "Failed getting utilization of cascaded 500mb_nci 8 threads: Index(...) must be called with a collection of some kind, 'category' was passed\n",
      "../data/compare/rtx2080ti/output_cascaded_500mb_nci_32threads.h5\n",
      "Failed getting utilization of cascaded 500mb_nci 32 threads: Index(...) must be called with a collection of some kind, 'category' was passed\n",
      "../data/compare/rtx2080ti/output_cascaded_500mb_nci_128threads.h5\n",
      "Failed getting utilization of cascaded 500mb_nci 128 threads: Index(...) must be called with a collection of some kind, 'category' was passed\n",
      "../data/compare/rtx2080ti/output_cascaded_500mb_nci_512threads.h5\n",
      "Failed getting utilization of cascaded 500mb_nci 512 threads: Index(...) must be called with a collection of some kind, 'category' was passed\n",
      "../data/compare/rtx2080ti/output_cascaded_500mb_nci_2048threads.h5\n",
      "Failed getting utilization of cascaded 500mb_nci 2048 threads: Index(...) must be called with a collection of some kind, 'category' was passed\n",
      "../data/compare/rtx2080ti/output_cascaded_500mb_nci_8192threads.h5\n",
      "Failed getting utilization of cascaded 500mb_nci 8192 threads: Index(...) must be called with a collection of some kind, 'category' was passed\n",
      "../data/compare/rtx2080ti/output_cascaded_500mb_nci_32768threads.h5\n",
      "Failed getting utilization of cascaded 500mb_nci 32768 threads: Index(...) must be called with a collection of some kind, 'category' was passed\n",
      "../data/compare/rtx2080ti/output_cascaded_500mb_nci_131072threads.h5\n",
      "Failed getting utilization of cascaded 500mb_nci 131072 threads: Index(...) must be called with a collection of some kind, 'category' was passed\n",
      "../data/compare/rtx2080ti/output_bitcomp_500mb_nci_8threads.h5\n",
      "../data/compare/rtx2080ti/output_bitcomp_500mb_nci_32threads.h5\n",
      "../data/compare/rtx2080ti/output_bitcomp_500mb_nci_128threads.h5\n",
      "../data/compare/rtx2080ti/output_bitcomp_500mb_nci_512threads.h5\n",
      "../data/compare/rtx2080ti/output_bitcomp_500mb_nci_2048threads.h5\n",
      "../data/compare/rtx2080ti/output_bitcomp_500mb_nci_8192threads.h5\n",
      "../data/compare/rtx2080ti/output_bitcomp_500mb_nci_32768threads.h5\n",
      "../data/compare/rtx2080ti/output_bitcomp_500mb_nci_131072threads.h5\n",
      "../data/compare/rtx2080ti/output_snappy_500mb_samba_8threads.h5\n",
      "../data/compare/rtx2080ti/output_snappy_500mb_samba_32threads.h5\n",
      "../data/compare/rtx2080ti/output_snappy_500mb_samba_128threads.h5\n",
      "../data/compare/rtx2080ti/output_snappy_500mb_samba_512threads.h5\n",
      "../data/compare/rtx2080ti/output_snappy_500mb_samba_2048threads.h5\n",
      "../data/compare/rtx2080ti/output_snappy_500mb_samba_8192threads.h5\n",
      "../data/compare/rtx2080ti/output_snappy_500mb_samba_32768threads.h5\n",
      "../data/compare/rtx2080ti/output_snappy_500mb_samba_131072threads.h5\n",
      "../data/compare/rtx2080ti/output_zstd_500mb_samba_8threads.h5\n",
      "Failed getting utilization of zstd 500mb_samba 8 threads: Index(...) must be called with a collection of some kind, 'category' was passed\n",
      "../data/compare/rtx2080ti/output_zstd_500mb_samba_32threads.h5\n",
      "../data/compare/rtx2080ti/output_zstd_500mb_samba_128threads.h5\n",
      "../data/compare/rtx2080ti/output_zstd_500mb_samba_512threads.h5\n",
      "../data/compare/rtx2080ti/output_zstd_500mb_samba_2048threads.h5\n",
      "../data/compare/rtx2080ti/output_zstd_500mb_samba_8192threads.h5\n",
      "../data/compare/rtx2080ti/output_zstd_500mb_samba_32768threads.h5\n",
      "../data/compare/rtx2080ti/output_zstd_500mb_samba_131072threads.h5\n",
      "../data/compare/rtx2080ti/output_gdeflate_500mb_samba_8threads.h5\n",
      "Failed getting utilization of gdeflate 500mb_samba 8 threads: Index(...) must be called with a collection of some kind, 'category' was passed\n",
      "../data/compare/rtx2080ti/output_gdeflate_500mb_samba_32threads.h5\n",
      "Failed getting utilization of gdeflate 500mb_samba 32 threads: Index(...) must be called with a collection of some kind, 'category' was passed\n",
      "../data/compare/rtx2080ti/output_gdeflate_500mb_samba_128threads.h5\n",
      "Failed getting utilization of gdeflate 500mb_samba 128 threads: Index(...) must be called with a collection of some kind, 'category' was passed\n",
      "../data/compare/rtx2080ti/output_gdeflate_500mb_samba_512threads.h5\n",
      "Failed getting utilization of gdeflate 500mb_samba 512 threads: Index(...) must be called with a collection of some kind, 'category' was passed\n",
      "../data/compare/rtx2080ti/output_gdeflate_500mb_samba_2048threads.h5\n",
      "Failed getting utilization of gdeflate 500mb_samba 2048 threads: Index(...) must be called with a collection of some kind, 'category' was passed\n",
      "../data/compare/rtx2080ti/output_gdeflate_500mb_samba_8192threads.h5\n",
      "../data/compare/rtx2080ti/output_gdeflate_500mb_samba_32768threads.h5\n",
      "../data/compare/rtx2080ti/output_gdeflate_500mb_samba_131072threads.h5\n",
      "../data/compare/rtx2080ti/output_lz4_500mb_samba_8threads.h5\n",
      "Failed getting utilization of lz4 500mb_samba 8 threads: Index(...) must be called with a collection of some kind, 'category' was passed\n",
      "../data/compare/rtx2080ti/output_lz4_500mb_samba_32threads.h5\n",
      "../data/compare/rtx2080ti/output_lz4_500mb_samba_128threads.h5\n",
      "../data/compare/rtx2080ti/output_lz4_500mb_samba_512threads.h5\n",
      "../data/compare/rtx2080ti/output_lz4_500mb_samba_2048threads.h5\n",
      "../data/compare/rtx2080ti/output_lz4_500mb_samba_8192threads.h5\n",
      "../data/compare/rtx2080ti/output_lz4_500mb_samba_32768threads.h5\n",
      "../data/compare/rtx2080ti/output_lz4_500mb_samba_131072threads.h5\n",
      "../data/compare/rtx2080ti/output_cascaded_500mb_samba_8threads.h5\n",
      "../data/compare/rtx2080ti/output_cascaded_500mb_samba_32threads.h5\n",
      "../data/compare/rtx2080ti/output_cascaded_500mb_samba_128threads.h5\n",
      "../data/compare/rtx2080ti/output_cascaded_500mb_samba_512threads.h5\n",
      "../data/compare/rtx2080ti/output_cascaded_500mb_samba_2048threads.h5\n",
      "../data/compare/rtx2080ti/output_cascaded_500mb_samba_8192threads.h5\n",
      "../data/compare/rtx2080ti/output_cascaded_500mb_samba_32768threads.h5\n",
      "../data/compare/rtx2080ti/output_cascaded_500mb_samba_131072threads.h5\n",
      "../data/compare/rtx2080ti/output_bitcomp_500mb_samba_8threads.h5\n",
      "../data/compare/rtx2080ti/output_bitcomp_500mb_samba_32threads.h5\n",
      "../data/compare/rtx2080ti/output_bitcomp_500mb_samba_128threads.h5\n",
      "../data/compare/rtx2080ti/output_bitcomp_500mb_samba_512threads.h5\n",
      "../data/compare/rtx2080ti/output_bitcomp_500mb_samba_2048threads.h5\n",
      "../data/compare/rtx2080ti/output_bitcomp_500mb_samba_8192threads.h5\n",
      "../data/compare/rtx2080ti/output_bitcomp_500mb_samba_32768threads.h5\n",
      "../data/compare/rtx2080ti/output_bitcomp_500mb_samba_131072threads.h5\n",
      "../data/compare/rtx2080ti/output_snappy_500mb_sao_8threads.h5\n",
      "../data/compare/rtx2080ti/output_snappy_500mb_sao_32threads.h5\n",
      "../data/compare/rtx2080ti/output_snappy_500mb_sao_128threads.h5\n",
      "../data/compare/rtx2080ti/output_snappy_500mb_sao_512threads.h5\n",
      "../data/compare/rtx2080ti/output_snappy_500mb_sao_2048threads.h5\n",
      "../data/compare/rtx2080ti/output_snappy_500mb_sao_8192threads.h5\n",
      "../data/compare/rtx2080ti/output_snappy_500mb_sao_32768threads.h5\n",
      "../data/compare/rtx2080ti/output_snappy_500mb_sao_131072threads.h5\n",
      "../data/compare/rtx2080ti/output_zstd_500mb_sao_8threads.h5\n",
      "../data/compare/rtx2080ti/output_zstd_500mb_sao_32threads.h5\n",
      "../data/compare/rtx2080ti/output_zstd_500mb_sao_128threads.h5\n",
      "../data/compare/rtx2080ti/output_zstd_500mb_sao_512threads.h5\n",
      "../data/compare/rtx2080ti/output_zstd_500mb_sao_2048threads.h5\n",
      "../data/compare/rtx2080ti/output_zstd_500mb_sao_8192threads.h5\n",
      "../data/compare/rtx2080ti/output_zstd_500mb_sao_32768threads.h5\n",
      "../data/compare/rtx2080ti/output_zstd_500mb_sao_131072threads.h5\n",
      "../data/compare/rtx2080ti/output_gdeflate_500mb_sao_8threads.h5\n",
      "Failed getting utilization of gdeflate 500mb_sao 8 threads: Index(...) must be called with a collection of some kind, 'category' was passed\n",
      "../data/compare/rtx2080ti/output_gdeflate_500mb_sao_32threads.h5\n",
      "Failed getting utilization of gdeflate 500mb_sao 32 threads: Index(...) must be called with a collection of some kind, 'category' was passed\n",
      "../data/compare/rtx2080ti/output_gdeflate_500mb_sao_128threads.h5\n",
      "Failed getting utilization of gdeflate 500mb_sao 128 threads: Index(...) must be called with a collection of some kind, 'category' was passed\n",
      "../data/compare/rtx2080ti/output_gdeflate_500mb_sao_512threads.h5\n",
      "Failed getting utilization of gdeflate 500mb_sao 512 threads: Index(...) must be called with a collection of some kind, 'category' was passed\n",
      "../data/compare/rtx2080ti/output_gdeflate_500mb_sao_2048threads.h5\n",
      "Failed getting utilization of gdeflate 500mb_sao 2048 threads: Index(...) must be called with a collection of some kind, 'category' was passed\n",
      "../data/compare/rtx2080ti/output_gdeflate_500mb_sao_8192threads.h5\n",
      "../data/compare/rtx2080ti/output_gdeflate_500mb_sao_32768threads.h5\n",
      "../data/compare/rtx2080ti/output_gdeflate_500mb_sao_131072threads.h5\n",
      "../data/compare/rtx2080ti/output_lz4_500mb_sao_8threads.h5\n",
      "../data/compare/rtx2080ti/output_lz4_500mb_sao_32threads.h5\n",
      "../data/compare/rtx2080ti/output_lz4_500mb_sao_128threads.h5\n",
      "../data/compare/rtx2080ti/output_lz4_500mb_sao_512threads.h5\n",
      "../data/compare/rtx2080ti/output_lz4_500mb_sao_2048threads.h5\n",
      "../data/compare/rtx2080ti/output_lz4_500mb_sao_8192threads.h5\n",
      "../data/compare/rtx2080ti/output_lz4_500mb_sao_32768threads.h5\n",
      "../data/compare/rtx2080ti/output_lz4_500mb_sao_131072threads.h5\n",
      "../data/compare/rtx2080ti/output_cascaded_500mb_sao_8threads.h5\n",
      "../data/compare/rtx2080ti/output_cascaded_500mb_sao_32threads.h5\n",
      "../data/compare/rtx2080ti/output_cascaded_500mb_sao_128threads.h5\n",
      "../data/compare/rtx2080ti/output_cascaded_500mb_sao_512threads.h5\n",
      "../data/compare/rtx2080ti/output_cascaded_500mb_sao_2048threads.h5\n",
      "../data/compare/rtx2080ti/output_cascaded_500mb_sao_8192threads.h5\n",
      "../data/compare/rtx2080ti/output_cascaded_500mb_sao_32768threads.h5\n",
      "../data/compare/rtx2080ti/output_cascaded_500mb_sao_131072threads.h5\n",
      "../data/compare/rtx2080ti/output_bitcomp_500mb_sao_8threads.h5\n",
      "../data/compare/rtx2080ti/output_bitcomp_500mb_sao_32threads.h5\n",
      "../data/compare/rtx2080ti/output_bitcomp_500mb_sao_128threads.h5\n",
      "../data/compare/rtx2080ti/output_bitcomp_500mb_sao_512threads.h5\n",
      "../data/compare/rtx2080ti/output_bitcomp_500mb_sao_2048threads.h5\n",
      "../data/compare/rtx2080ti/output_bitcomp_500mb_sao_8192threads.h5\n",
      "../data/compare/rtx2080ti/output_bitcomp_500mb_sao_32768threads.h5\n",
      "../data/compare/rtx2080ti/output_bitcomp_500mb_sao_131072threads.h5\n",
      "../data/compare/rtx2080ti/output_snappy_500mb_silesia.zip_8threads.h5\n",
      "../data/compare/rtx2080ti/output_snappy_500mb_silesia.zip_32threads.h5\n",
      "../data/compare/rtx2080ti/output_snappy_500mb_silesia.zip_128threads.h5\n",
      "../data/compare/rtx2080ti/output_snappy_500mb_silesia.zip_512threads.h5\n",
      "../data/compare/rtx2080ti/output_snappy_500mb_silesia.zip_2048threads.h5\n",
      "../data/compare/rtx2080ti/output_snappy_500mb_silesia.zip_8192threads.h5\n",
      "../data/compare/rtx2080ti/output_snappy_500mb_silesia.zip_32768threads.h5\n",
      "../data/compare/rtx2080ti/output_snappy_500mb_silesia.zip_131072threads.h5\n",
      "../data/compare/rtx2080ti/output_zstd_500mb_silesia.zip_8threads.h5\n",
      "Failed getting utilization of zstd 500mb_silesia.zip 8 threads: Index(...) must be called with a collection of some kind, 'category' was passed\n",
      "../data/compare/rtx2080ti/output_zstd_500mb_silesia.zip_32threads.h5\n",
      "Failed getting utilization of zstd 500mb_silesia.zip 32 threads: Index(...) must be called with a collection of some kind, 'category' was passed\n",
      "../data/compare/rtx2080ti/output_zstd_500mb_silesia.zip_128threads.h5\n",
      "Failed getting utilization of zstd 500mb_silesia.zip 128 threads: Index(...) must be called with a collection of some kind, 'category' was passed\n",
      "../data/compare/rtx2080ti/output_zstd_500mb_silesia.zip_512threads.h5\n",
      "Failed getting utilization of zstd 500mb_silesia.zip 512 threads: Index(...) must be called with a collection of some kind, 'category' was passed\n",
      "../data/compare/rtx2080ti/output_zstd_500mb_silesia.zip_2048threads.h5\n",
      "Failed getting utilization of zstd 500mb_silesia.zip 2048 threads: Index(...) must be called with a collection of some kind, 'category' was passed\n",
      "../data/compare/rtx2080ti/output_zstd_500mb_silesia.zip_8192threads.h5\n",
      "../data/compare/rtx2080ti/output_zstd_500mb_silesia.zip_32768threads.h5\n",
      "../data/compare/rtx2080ti/output_zstd_500mb_silesia.zip_131072threads.h5\n",
      "../data/compare/rtx2080ti/output_gdeflate_500mb_silesia.zip_8threads.h5\n",
      "Failed getting utilization of gdeflate 500mb_silesia.zip 8 threads: Index(...) must be called with a collection of some kind, 'category' was passed\n",
      "../data/compare/rtx2080ti/output_gdeflate_500mb_silesia.zip_32threads.h5\n",
      "Failed getting utilization of gdeflate 500mb_silesia.zip 32 threads: Index(...) must be called with a collection of some kind, 'category' was passed\n",
      "../data/compare/rtx2080ti/output_gdeflate_500mb_silesia.zip_128threads.h5\n",
      "Failed getting utilization of gdeflate 500mb_silesia.zip 128 threads: Index(...) must be called with a collection of some kind, 'category' was passed\n",
      "../data/compare/rtx2080ti/output_gdeflate_500mb_silesia.zip_512threads.h5\n",
      "Failed getting utilization of gdeflate 500mb_silesia.zip 512 threads: Index(...) must be called with a collection of some kind, 'category' was passed\n",
      "../data/compare/rtx2080ti/output_gdeflate_500mb_silesia.zip_2048threads.h5\n",
      "Failed getting utilization of gdeflate 500mb_silesia.zip 2048 threads: Index(...) must be called with a collection of some kind, 'category' was passed\n",
      "../data/compare/rtx2080ti/output_gdeflate_500mb_silesia.zip_8192threads.h5\n",
      "../data/compare/rtx2080ti/output_gdeflate_500mb_silesia.zip_32768threads.h5\n",
      "../data/compare/rtx2080ti/output_gdeflate_500mb_silesia.zip_131072threads.h5\n",
      "../data/compare/rtx2080ti/output_lz4_500mb_silesia.zip_8threads.h5\n",
      "Failed getting utilization of lz4 500mb_silesia.zip 8 threads: Index(...) must be called with a collection of some kind, 'category' was passed\n",
      "../data/compare/rtx2080ti/output_lz4_500mb_silesia.zip_32threads.h5\n",
      "../data/compare/rtx2080ti/output_lz4_500mb_silesia.zip_128threads.h5\n",
      "../data/compare/rtx2080ti/output_lz4_500mb_silesia.zip_512threads.h5\n",
      "../data/compare/rtx2080ti/output_lz4_500mb_silesia.zip_2048threads.h5\n",
      "../data/compare/rtx2080ti/output_lz4_500mb_silesia.zip_8192threads.h5\n",
      "../data/compare/rtx2080ti/output_lz4_500mb_silesia.zip_32768threads.h5\n",
      "../data/compare/rtx2080ti/output_lz4_500mb_silesia.zip_131072threads.h5\n",
      "../data/compare/rtx2080ti/output_cascaded_500mb_silesia.zip_8threads.h5\n",
      "Failed getting utilization of cascaded 500mb_silesia.zip 8 threads: Index(...) must be called with a collection of some kind, 'category' was passed\n",
      "../data/compare/rtx2080ti/output_cascaded_500mb_silesia.zip_32threads.h5\n",
      "Failed getting utilization of cascaded 500mb_silesia.zip 32 threads: Index(...) must be called with a collection of some kind, 'category' was passed\n",
      "../data/compare/rtx2080ti/output_cascaded_500mb_silesia.zip_128threads.h5\n",
      "Failed getting utilization of cascaded 500mb_silesia.zip 128 threads: Index(...) must be called with a collection of some kind, 'category' was passed\n",
      "../data/compare/rtx2080ti/output_cascaded_500mb_silesia.zip_512threads.h5\n",
      "Failed getting utilization of cascaded 500mb_silesia.zip 512 threads: Index(...) must be called with a collection of some kind, 'category' was passed\n",
      "../data/compare/rtx2080ti/output_cascaded_500mb_silesia.zip_2048threads.h5\n",
      "Failed getting utilization of cascaded 500mb_silesia.zip 2048 threads: Index(...) must be called with a collection of some kind, 'category' was passed\n",
      "../data/compare/rtx2080ti/output_cascaded_500mb_silesia.zip_8192threads.h5\n",
      "Failed getting utilization of cascaded 500mb_silesia.zip 8192 threads: Index(...) must be called with a collection of some kind, 'category' was passed\n",
      "../data/compare/rtx2080ti/output_cascaded_500mb_silesia.zip_32768threads.h5\n",
      "Failed getting utilization of cascaded 500mb_silesia.zip 32768 threads: Index(...) must be called with a collection of some kind, 'category' was passed\n",
      "../data/compare/rtx2080ti/output_cascaded_500mb_silesia.zip_131072threads.h5\n",
      "Failed getting utilization of cascaded 500mb_silesia.zip 131072 threads: Index(...) must be called with a collection of some kind, 'category' was passed\n",
      "../data/compare/rtx2080ti/output_bitcomp_500mb_silesia.zip_8threads.h5\n",
      "../data/compare/rtx2080ti/output_bitcomp_500mb_silesia.zip_32threads.h5\n",
      "../data/compare/rtx2080ti/output_bitcomp_500mb_silesia.zip_128threads.h5\n",
      "../data/compare/rtx2080ti/output_bitcomp_500mb_silesia.zip_512threads.h5\n",
      "../data/compare/rtx2080ti/output_bitcomp_500mb_silesia.zip_2048threads.h5\n",
      "../data/compare/rtx2080ti/output_bitcomp_500mb_silesia.zip_8192threads.h5\n",
      "../data/compare/rtx2080ti/output_bitcomp_500mb_silesia.zip_32768threads.h5\n",
      "../data/compare/rtx2080ti/output_bitcomp_500mb_silesia.zip_131072threads.h5\n",
      "../data/compare/rtx2080ti/output_snappy_500mb_xml_8threads.h5\n",
      "../data/compare/rtx2080ti/output_snappy_500mb_xml_32threads.h5\n",
      "../data/compare/rtx2080ti/output_snappy_500mb_xml_128threads.h5\n",
      "../data/compare/rtx2080ti/output_snappy_500mb_xml_512threads.h5\n",
      "../data/compare/rtx2080ti/output_snappy_500mb_xml_2048threads.h5\n",
      "../data/compare/rtx2080ti/output_snappy_500mb_xml_8192threads.h5\n",
      "../data/compare/rtx2080ti/output_snappy_500mb_xml_32768threads.h5\n",
      "../data/compare/rtx2080ti/output_snappy_500mb_xml_131072threads.h5\n",
      "../data/compare/rtx2080ti/output_zstd_500mb_xml_8threads.h5\n",
      "../data/compare/rtx2080ti/output_zstd_500mb_xml_32threads.h5\n",
      "../data/compare/rtx2080ti/output_zstd_500mb_xml_128threads.h5\n",
      "../data/compare/rtx2080ti/output_zstd_500mb_xml_512threads.h5\n",
      "../data/compare/rtx2080ti/output_zstd_500mb_xml_2048threads.h5\n",
      "../data/compare/rtx2080ti/output_zstd_500mb_xml_8192threads.h5\n",
      "../data/compare/rtx2080ti/output_zstd_500mb_xml_32768threads.h5\n",
      "../data/compare/rtx2080ti/output_zstd_500mb_xml_131072threads.h5\n",
      "../data/compare/rtx2080ti/output_gdeflate_500mb_xml_8threads.h5\n",
      "Failed getting utilization of gdeflate 500mb_xml 8 threads: Index(...) must be called with a collection of some kind, 'category' was passed\n",
      "../data/compare/rtx2080ti/output_gdeflate_500mb_xml_32threads.h5\n",
      "Failed getting utilization of gdeflate 500mb_xml 32 threads: Index(...) must be called with a collection of some kind, 'category' was passed\n",
      "../data/compare/rtx2080ti/output_gdeflate_500mb_xml_128threads.h5\n",
      "Failed getting utilization of gdeflate 500mb_xml 128 threads: Index(...) must be called with a collection of some kind, 'category' was passed\n",
      "../data/compare/rtx2080ti/output_gdeflate_500mb_xml_512threads.h5\n",
      "Failed getting utilization of gdeflate 500mb_xml 512 threads: Index(...) must be called with a collection of some kind, 'category' was passed\n",
      "../data/compare/rtx2080ti/output_gdeflate_500mb_xml_2048threads.h5\n",
      "Failed getting utilization of gdeflate 500mb_xml 2048 threads: Index(...) must be called with a collection of some kind, 'category' was passed\n",
      "../data/compare/rtx2080ti/output_gdeflate_500mb_xml_8192threads.h5\n",
      "../data/compare/rtx2080ti/output_gdeflate_500mb_xml_32768threads.h5\n",
      "../data/compare/rtx2080ti/output_gdeflate_500mb_xml_131072threads.h5\n",
      "../data/compare/rtx2080ti/output_lz4_500mb_xml_8threads.h5\n",
      "../data/compare/rtx2080ti/output_lz4_500mb_xml_32threads.h5\n",
      "../data/compare/rtx2080ti/output_lz4_500mb_xml_128threads.h5\n",
      "../data/compare/rtx2080ti/output_lz4_500mb_xml_512threads.h5\n",
      "../data/compare/rtx2080ti/output_lz4_500mb_xml_2048threads.h5\n",
      "../data/compare/rtx2080ti/output_lz4_500mb_xml_8192threads.h5\n",
      "../data/compare/rtx2080ti/output_lz4_500mb_xml_32768threads.h5\n",
      "../data/compare/rtx2080ti/output_lz4_500mb_xml_131072threads.h5\n",
      "../data/compare/rtx2080ti/output_cascaded_500mb_xml_8threads.h5\n",
      "../data/compare/rtx2080ti/output_cascaded_500mb_xml_32threads.h5\n",
      "../data/compare/rtx2080ti/output_cascaded_500mb_xml_128threads.h5\n",
      "../data/compare/rtx2080ti/output_cascaded_500mb_xml_512threads.h5\n",
      "../data/compare/rtx2080ti/output_cascaded_500mb_xml_2048threads.h5\n",
      "../data/compare/rtx2080ti/output_cascaded_500mb_xml_8192threads.h5\n",
      "../data/compare/rtx2080ti/output_cascaded_500mb_xml_32768threads.h5\n",
      "../data/compare/rtx2080ti/output_cascaded_500mb_xml_131072threads.h5\n",
      "../data/compare/rtx2080ti/output_bitcomp_500mb_xml_8threads.h5\n",
      "../data/compare/rtx2080ti/output_bitcomp_500mb_xml_32threads.h5\n",
      "../data/compare/rtx2080ti/output_bitcomp_500mb_xml_128threads.h5\n",
      "../data/compare/rtx2080ti/output_bitcomp_500mb_xml_512threads.h5\n",
      "../data/compare/rtx2080ti/output_bitcomp_500mb_xml_2048threads.h5\n",
      "../data/compare/rtx2080ti/output_bitcomp_500mb_xml_8192threads.h5\n",
      "../data/compare/rtx2080ti/output_bitcomp_500mb_xml_32768threads.h5\n",
      "../data/compare/rtx2080ti/output_bitcomp_500mb_xml_131072threads.h5\n",
      "../data/compare/rtx2080ti/output_snappy_500mb_lineitem.parquet_8threads.h5\n",
      "Failed getting utilization of snappy 500mb_lineitem.parquet 8 threads: [Errno 2] Unable to synchronously open file (unable to open file: name = '../data/compare/rtx2080ti/output_snappy_500mb_lineitem.parquet_8threads.h5', errno = 2, error message = 'No such file or directory', flags = 0, o_flags = 0)\n",
      "../data/compare/rtx2080ti/output_snappy_500mb_lineitem.parquet_32threads.h5\n",
      "Failed getting utilization of snappy 500mb_lineitem.parquet 32 threads: [Errno 2] Unable to synchronously open file (unable to open file: name = '../data/compare/rtx2080ti/output_snappy_500mb_lineitem.parquet_32threads.h5', errno = 2, error message = 'No such file or directory', flags = 0, o_flags = 0)\n",
      "../data/compare/rtx2080ti/output_snappy_500mb_lineitem.parquet_128threads.h5\n",
      "Failed getting utilization of snappy 500mb_lineitem.parquet 128 threads: [Errno 2] Unable to synchronously open file (unable to open file: name = '../data/compare/rtx2080ti/output_snappy_500mb_lineitem.parquet_128threads.h5', errno = 2, error message = 'No such file or directory', flags = 0, o_flags = 0)\n",
      "../data/compare/rtx2080ti/output_snappy_500mb_lineitem.parquet_512threads.h5\n",
      "Failed getting utilization of snappy 500mb_lineitem.parquet 512 threads: [Errno 2] Unable to synchronously open file (unable to open file: name = '../data/compare/rtx2080ti/output_snappy_500mb_lineitem.parquet_512threads.h5', errno = 2, error message = 'No such file or directory', flags = 0, o_flags = 0)\n",
      "../data/compare/rtx2080ti/output_snappy_500mb_lineitem.parquet_2048threads.h5\n",
      "Failed getting utilization of snappy 500mb_lineitem.parquet 2048 threads: [Errno 2] Unable to synchronously open file (unable to open file: name = '../data/compare/rtx2080ti/output_snappy_500mb_lineitem.parquet_2048threads.h5', errno = 2, error message = 'No such file or directory', flags = 0, o_flags = 0)\n",
      "../data/compare/rtx2080ti/output_snappy_500mb_lineitem.parquet_8192threads.h5\n",
      "Failed getting utilization of snappy 500mb_lineitem.parquet 8192 threads: [Errno 2] Unable to synchronously open file (unable to open file: name = '../data/compare/rtx2080ti/output_snappy_500mb_lineitem.parquet_8192threads.h5', errno = 2, error message = 'No such file or directory', flags = 0, o_flags = 0)\n",
      "../data/compare/rtx2080ti/output_snappy_500mb_lineitem.parquet_32768threads.h5\n",
      "Failed getting utilization of snappy 500mb_lineitem.parquet 32768 threads: [Errno 2] Unable to synchronously open file (unable to open file: name = '../data/compare/rtx2080ti/output_snappy_500mb_lineitem.parquet_32768threads.h5', errno = 2, error message = 'No such file or directory', flags = 0, o_flags = 0)\n",
      "../data/compare/rtx2080ti/output_snappy_500mb_lineitem.parquet_131072threads.h5\n",
      "Failed getting utilization of snappy 500mb_lineitem.parquet 131072 threads: [Errno 2] Unable to synchronously open file (unable to open file: name = '../data/compare/rtx2080ti/output_snappy_500mb_lineitem.parquet_131072threads.h5', errno = 2, error message = 'No such file or directory', flags = 0, o_flags = 0)\n",
      "../data/compare/rtx2080ti/output_zstd_500mb_lineitem.parquet_8threads.h5\n",
      "Failed getting utilization of zstd 500mb_lineitem.parquet 8 threads: [Errno 2] Unable to synchronously open file (unable to open file: name = '../data/compare/rtx2080ti/output_zstd_500mb_lineitem.parquet_8threads.h5', errno = 2, error message = 'No such file or directory', flags = 0, o_flags = 0)\n",
      "../data/compare/rtx2080ti/output_zstd_500mb_lineitem.parquet_32threads.h5\n",
      "Failed getting utilization of zstd 500mb_lineitem.parquet 32 threads: [Errno 2] Unable to synchronously open file (unable to open file: name = '../data/compare/rtx2080ti/output_zstd_500mb_lineitem.parquet_32threads.h5', errno = 2, error message = 'No such file or directory', flags = 0, o_flags = 0)\n",
      "../data/compare/rtx2080ti/output_zstd_500mb_lineitem.parquet_128threads.h5\n",
      "Failed getting utilization of zstd 500mb_lineitem.parquet 128 threads: [Errno 2] Unable to synchronously open file (unable to open file: name = '../data/compare/rtx2080ti/output_zstd_500mb_lineitem.parquet_128threads.h5', errno = 2, error message = 'No such file or directory', flags = 0, o_flags = 0)\n",
      "../data/compare/rtx2080ti/output_zstd_500mb_lineitem.parquet_512threads.h5\n",
      "Failed getting utilization of zstd 500mb_lineitem.parquet 512 threads: [Errno 2] Unable to synchronously open file (unable to open file: name = '../data/compare/rtx2080ti/output_zstd_500mb_lineitem.parquet_512threads.h5', errno = 2, error message = 'No such file or directory', flags = 0, o_flags = 0)\n",
      "../data/compare/rtx2080ti/output_zstd_500mb_lineitem.parquet_2048threads.h5\n",
      "Failed getting utilization of zstd 500mb_lineitem.parquet 2048 threads: [Errno 2] Unable to synchronously open file (unable to open file: name = '../data/compare/rtx2080ti/output_zstd_500mb_lineitem.parquet_2048threads.h5', errno = 2, error message = 'No such file or directory', flags = 0, o_flags = 0)\n",
      "../data/compare/rtx2080ti/output_zstd_500mb_lineitem.parquet_8192threads.h5\n",
      "Failed getting utilization of zstd 500mb_lineitem.parquet 8192 threads: [Errno 2] Unable to synchronously open file (unable to open file: name = '../data/compare/rtx2080ti/output_zstd_500mb_lineitem.parquet_8192threads.h5', errno = 2, error message = 'No such file or directory', flags = 0, o_flags = 0)\n",
      "../data/compare/rtx2080ti/output_zstd_500mb_lineitem.parquet_32768threads.h5\n",
      "Failed getting utilization of zstd 500mb_lineitem.parquet 32768 threads: [Errno 2] Unable to synchronously open file (unable to open file: name = '../data/compare/rtx2080ti/output_zstd_500mb_lineitem.parquet_32768threads.h5', errno = 2, error message = 'No such file or directory', flags = 0, o_flags = 0)\n",
      "../data/compare/rtx2080ti/output_zstd_500mb_lineitem.parquet_131072threads.h5\n",
      "Failed getting utilization of zstd 500mb_lineitem.parquet 131072 threads: [Errno 2] Unable to synchronously open file (unable to open file: name = '../data/compare/rtx2080ti/output_zstd_500mb_lineitem.parquet_131072threads.h5', errno = 2, error message = 'No such file or directory', flags = 0, o_flags = 0)\n",
      "../data/compare/rtx2080ti/output_gdeflate_500mb_lineitem.parquet_8threads.h5\n",
      "Failed getting utilization of gdeflate 500mb_lineitem.parquet 8 threads: Index(...) must be called with a collection of some kind, 'category' was passed\n",
      "../data/compare/rtx2080ti/output_gdeflate_500mb_lineitem.parquet_32threads.h5\n",
      "Failed getting utilization of gdeflate 500mb_lineitem.parquet 32 threads: Index(...) must be called with a collection of some kind, 'category' was passed\n",
      "../data/compare/rtx2080ti/output_gdeflate_500mb_lineitem.parquet_128threads.h5\n",
      "Failed getting utilization of gdeflate 500mb_lineitem.parquet 128 threads: Index(...) must be called with a collection of some kind, 'category' was passed\n",
      "../data/compare/rtx2080ti/output_gdeflate_500mb_lineitem.parquet_512threads.h5\n",
      "Failed getting utilization of gdeflate 500mb_lineitem.parquet 512 threads: Index(...) must be called with a collection of some kind, 'category' was passed\n",
      "../data/compare/rtx2080ti/output_gdeflate_500mb_lineitem.parquet_2048threads.h5\n",
      "Failed getting utilization of gdeflate 500mb_lineitem.parquet 2048 threads: Index(...) must be called with a collection of some kind, 'category' was passed\n",
      "../data/compare/rtx2080ti/output_gdeflate_500mb_lineitem.parquet_8192threads.h5\n",
      "Failed getting utilization of gdeflate 500mb_lineitem.parquet 8192 threads: Index(...) must be called with a collection of some kind, 'category' was passed\n",
      "../data/compare/rtx2080ti/output_gdeflate_500mb_lineitem.parquet_32768threads.h5\n",
      "Failed getting utilization of gdeflate 500mb_lineitem.parquet 32768 threads: 'compress'\n",
      "../data/compare/rtx2080ti/output_gdeflate_500mb_lineitem.parquet_131072threads.h5\n",
      "Failed getting utilization of gdeflate 500mb_lineitem.parquet 131072 threads: 'compress'\n",
      "../data/compare/rtx2080ti/output_lz4_500mb_lineitem.parquet_8threads.h5\n",
      "Failed getting utilization of lz4 500mb_lineitem.parquet 8 threads: [Errno 2] Unable to synchronously open file (unable to open file: name = '../data/compare/rtx2080ti/output_lz4_500mb_lineitem.parquet_8threads.h5', errno = 2, error message = 'No such file or directory', flags = 0, o_flags = 0)\n",
      "../data/compare/rtx2080ti/output_lz4_500mb_lineitem.parquet_32threads.h5\n",
      "Failed getting utilization of lz4 500mb_lineitem.parquet 32 threads: [Errno 2] Unable to synchronously open file (unable to open file: name = '../data/compare/rtx2080ti/output_lz4_500mb_lineitem.parquet_32threads.h5', errno = 2, error message = 'No such file or directory', flags = 0, o_flags = 0)\n",
      "../data/compare/rtx2080ti/output_lz4_500mb_lineitem.parquet_128threads.h5\n",
      "Failed getting utilization of lz4 500mb_lineitem.parquet 128 threads: [Errno 2] Unable to synchronously open file (unable to open file: name = '../data/compare/rtx2080ti/output_lz4_500mb_lineitem.parquet_128threads.h5', errno = 2, error message = 'No such file or directory', flags = 0, o_flags = 0)\n",
      "../data/compare/rtx2080ti/output_lz4_500mb_lineitem.parquet_512threads.h5\n",
      "Failed getting utilization of lz4 500mb_lineitem.parquet 512 threads: [Errno 2] Unable to synchronously open file (unable to open file: name = '../data/compare/rtx2080ti/output_lz4_500mb_lineitem.parquet_512threads.h5', errno = 2, error message = 'No such file or directory', flags = 0, o_flags = 0)\n",
      "../data/compare/rtx2080ti/output_lz4_500mb_lineitem.parquet_2048threads.h5\n",
      "Failed getting utilization of lz4 500mb_lineitem.parquet 2048 threads: [Errno 2] Unable to synchronously open file (unable to open file: name = '../data/compare/rtx2080ti/output_lz4_500mb_lineitem.parquet_2048threads.h5', errno = 2, error message = 'No such file or directory', flags = 0, o_flags = 0)\n",
      "../data/compare/rtx2080ti/output_lz4_500mb_lineitem.parquet_8192threads.h5\n",
      "Failed getting utilization of lz4 500mb_lineitem.parquet 8192 threads: [Errno 2] Unable to synchronously open file (unable to open file: name = '../data/compare/rtx2080ti/output_lz4_500mb_lineitem.parquet_8192threads.h5', errno = 2, error message = 'No such file or directory', flags = 0, o_flags = 0)\n",
      "../data/compare/rtx2080ti/output_lz4_500mb_lineitem.parquet_32768threads.h5\n",
      "Failed getting utilization of lz4 500mb_lineitem.parquet 32768 threads: [Errno 2] Unable to synchronously open file (unable to open file: name = '../data/compare/rtx2080ti/output_lz4_500mb_lineitem.parquet_32768threads.h5', errno = 2, error message = 'No such file or directory', flags = 0, o_flags = 0)\n",
      "../data/compare/rtx2080ti/output_lz4_500mb_lineitem.parquet_131072threads.h5\n",
      "Failed getting utilization of lz4 500mb_lineitem.parquet 131072 threads: [Errno 2] Unable to synchronously open file (unable to open file: name = '../data/compare/rtx2080ti/output_lz4_500mb_lineitem.parquet_131072threads.h5', errno = 2, error message = 'No such file or directory', flags = 0, o_flags = 0)\n",
      "../data/compare/rtx2080ti/output_cascaded_500mb_lineitem.parquet_8threads.h5\n",
      "Failed getting utilization of cascaded 500mb_lineitem.parquet 8 threads: [Errno 2] Unable to synchronously open file (unable to open file: name = '../data/compare/rtx2080ti/output_cascaded_500mb_lineitem.parquet_8threads.h5', errno = 2, error message = 'No such file or directory', flags = 0, o_flags = 0)\n",
      "../data/compare/rtx2080ti/output_cascaded_500mb_lineitem.parquet_32threads.h5\n",
      "Failed getting utilization of cascaded 500mb_lineitem.parquet 32 threads: [Errno 2] Unable to synchronously open file (unable to open file: name = '../data/compare/rtx2080ti/output_cascaded_500mb_lineitem.parquet_32threads.h5', errno = 2, error message = 'No such file or directory', flags = 0, o_flags = 0)\n",
      "../data/compare/rtx2080ti/output_cascaded_500mb_lineitem.parquet_128threads.h5\n",
      "Failed getting utilization of cascaded 500mb_lineitem.parquet 128 threads: [Errno 2] Unable to synchronously open file (unable to open file: name = '../data/compare/rtx2080ti/output_cascaded_500mb_lineitem.parquet_128threads.h5', errno = 2, error message = 'No such file or directory', flags = 0, o_flags = 0)\n",
      "../data/compare/rtx2080ti/output_cascaded_500mb_lineitem.parquet_512threads.h5\n",
      "Failed getting utilization of cascaded 500mb_lineitem.parquet 512 threads: [Errno 2] Unable to synchronously open file (unable to open file: name = '../data/compare/rtx2080ti/output_cascaded_500mb_lineitem.parquet_512threads.h5', errno = 2, error message = 'No such file or directory', flags = 0, o_flags = 0)\n",
      "../data/compare/rtx2080ti/output_cascaded_500mb_lineitem.parquet_2048threads.h5\n",
      "Failed getting utilization of cascaded 500mb_lineitem.parquet 2048 threads: [Errno 2] Unable to synchronously open file (unable to open file: name = '../data/compare/rtx2080ti/output_cascaded_500mb_lineitem.parquet_2048threads.h5', errno = 2, error message = 'No such file or directory', flags = 0, o_flags = 0)\n",
      "../data/compare/rtx2080ti/output_cascaded_500mb_lineitem.parquet_8192threads.h5\n",
      "Failed getting utilization of cascaded 500mb_lineitem.parquet 8192 threads: [Errno 2] Unable to synchronously open file (unable to open file: name = '../data/compare/rtx2080ti/output_cascaded_500mb_lineitem.parquet_8192threads.h5', errno = 2, error message = 'No such file or directory', flags = 0, o_flags = 0)\n",
      "../data/compare/rtx2080ti/output_cascaded_500mb_lineitem.parquet_32768threads.h5\n",
      "Failed getting utilization of cascaded 500mb_lineitem.parquet 32768 threads: [Errno 2] Unable to synchronously open file (unable to open file: name = '../data/compare/rtx2080ti/output_cascaded_500mb_lineitem.parquet_32768threads.h5', errno = 2, error message = 'No such file or directory', flags = 0, o_flags = 0)\n",
      "../data/compare/rtx2080ti/output_cascaded_500mb_lineitem.parquet_131072threads.h5\n",
      "Failed getting utilization of cascaded 500mb_lineitem.parquet 131072 threads: [Errno 2] Unable to synchronously open file (unable to open file: name = '../data/compare/rtx2080ti/output_cascaded_500mb_lineitem.parquet_131072threads.h5', errno = 2, error message = 'No such file or directory', flags = 0, o_flags = 0)\n",
      "../data/compare/rtx2080ti/output_bitcomp_500mb_lineitem.parquet_8threads.h5\n",
      "Failed getting utilization of bitcomp 500mb_lineitem.parquet 8 threads: [Errno 2] Unable to synchronously open file (unable to open file: name = '../data/compare/rtx2080ti/output_bitcomp_500mb_lineitem.parquet_8threads.h5', errno = 2, error message = 'No such file or directory', flags = 0, o_flags = 0)\n",
      "../data/compare/rtx2080ti/output_bitcomp_500mb_lineitem.parquet_32threads.h5\n",
      "Failed getting utilization of bitcomp 500mb_lineitem.parquet 32 threads: [Errno 2] Unable to synchronously open file (unable to open file: name = '../data/compare/rtx2080ti/output_bitcomp_500mb_lineitem.parquet_32threads.h5', errno = 2, error message = 'No such file or directory', flags = 0, o_flags = 0)\n",
      "../data/compare/rtx2080ti/output_bitcomp_500mb_lineitem.parquet_128threads.h5\n",
      "Failed getting utilization of bitcomp 500mb_lineitem.parquet 128 threads: [Errno 2] Unable to synchronously open file (unable to open file: name = '../data/compare/rtx2080ti/output_bitcomp_500mb_lineitem.parquet_128threads.h5', errno = 2, error message = 'No such file or directory', flags = 0, o_flags = 0)\n",
      "../data/compare/rtx2080ti/output_bitcomp_500mb_lineitem.parquet_512threads.h5\n",
      "Failed getting utilization of bitcomp 500mb_lineitem.parquet 512 threads: [Errno 2] Unable to synchronously open file (unable to open file: name = '../data/compare/rtx2080ti/output_bitcomp_500mb_lineitem.parquet_512threads.h5', errno = 2, error message = 'No such file or directory', flags = 0, o_flags = 0)\n",
      "../data/compare/rtx2080ti/output_bitcomp_500mb_lineitem.parquet_2048threads.h5\n",
      "Failed getting utilization of bitcomp 500mb_lineitem.parquet 2048 threads: [Errno 2] Unable to synchronously open file (unable to open file: name = '../data/compare/rtx2080ti/output_bitcomp_500mb_lineitem.parquet_2048threads.h5', errno = 2, error message = 'No such file or directory', flags = 0, o_flags = 0)\n",
      "../data/compare/rtx2080ti/output_bitcomp_500mb_lineitem.parquet_8192threads.h5\n",
      "Failed getting utilization of bitcomp 500mb_lineitem.parquet 8192 threads: [Errno 2] Unable to synchronously open file (unable to open file: name = '../data/compare/rtx2080ti/output_bitcomp_500mb_lineitem.parquet_8192threads.h5', errno = 2, error message = 'No such file or directory', flags = 0, o_flags = 0)\n",
      "../data/compare/rtx2080ti/output_bitcomp_500mb_lineitem.parquet_32768threads.h5\n",
      "Failed getting utilization of bitcomp 500mb_lineitem.parquet 32768 threads: [Errno 2] Unable to synchronously open file (unable to open file: name = '../data/compare/rtx2080ti/output_bitcomp_500mb_lineitem.parquet_32768threads.h5', errno = 2, error message = 'No such file or directory', flags = 0, o_flags = 0)\n",
      "../data/compare/rtx2080ti/output_bitcomp_500mb_lineitem.parquet_131072threads.h5\n",
      "Failed getting utilization of bitcomp 500mb_lineitem.parquet 131072 threads: [Errno 2] Unable to synchronously open file (unable to open file: name = '../data/compare/rtx2080ti/output_bitcomp_500mb_lineitem.parquet_131072threads.h5', errno = 2, error message = 'No such file or directory', flags = 0, o_flags = 0)\n",
      "../data/compare/a100/output_snappy_500mb_dickens_8threads.h5\n",
      "../data/compare/a100/output_snappy_500mb_dickens_32threads.h5\n",
      "../data/compare/a100/output_snappy_500mb_dickens_128threads.h5\n",
      "../data/compare/a100/output_snappy_500mb_dickens_512threads.h5\n",
      "../data/compare/a100/output_snappy_500mb_dickens_2048threads.h5\n",
      "../data/compare/a100/output_snappy_500mb_dickens_8192threads.h5\n",
      "../data/compare/a100/output_snappy_500mb_dickens_32768threads.h5\n",
      "../data/compare/a100/output_snappy_500mb_dickens_131072threads.h5\n",
      "../data/compare/a100/output_zstd_500mb_dickens_8threads.h5\n",
      "../data/compare/a100/output_zstd_500mb_dickens_32threads.h5\n",
      "../data/compare/a100/output_zstd_500mb_dickens_128threads.h5\n",
      "../data/compare/a100/output_zstd_500mb_dickens_512threads.h5\n",
      "../data/compare/a100/output_zstd_500mb_dickens_2048threads.h5\n",
      "../data/compare/a100/output_zstd_500mb_dickens_8192threads.h5\n",
      "../data/compare/a100/output_zstd_500mb_dickens_32768threads.h5\n",
      "../data/compare/a100/output_zstd_500mb_dickens_131072threads.h5\n",
      "../data/compare/a100/output_gdeflate_500mb_dickens_8threads.h5\n",
      "Failed getting utilization of gdeflate 500mb_dickens 8 threads: \"Unable to synchronously open object (object 'CUPTI_ACTIVITY_KIND_KERNEL' doesn't exist)\"\n",
      "../data/compare/a100/output_gdeflate_500mb_dickens_32threads.h5\n",
      "Failed getting utilization of gdeflate 500mb_dickens 32 threads: \"Unable to synchronously open object (object 'CUPTI_ACTIVITY_KIND_KERNEL' doesn't exist)\"\n",
      "../data/compare/a100/output_gdeflate_500mb_dickens_128threads.h5\n",
      "Failed getting utilization of gdeflate 500mb_dickens 128 threads: \"Unable to synchronously open object (object 'CUPTI_ACTIVITY_KIND_KERNEL' doesn't exist)\"\n",
      "../data/compare/a100/output_gdeflate_500mb_dickens_512threads.h5\n",
      "Failed getting utilization of gdeflate 500mb_dickens 512 threads: \"Unable to synchronously open object (object 'CUPTI_ACTIVITY_KIND_KERNEL' doesn't exist)\"\n",
      "../data/compare/a100/output_gdeflate_500mb_dickens_2048threads.h5\n",
      "Failed getting utilization of gdeflate 500mb_dickens 2048 threads: \"Unable to synchronously open object (object 'CUPTI_ACTIVITY_KIND_KERNEL' doesn't exist)\"\n",
      "../data/compare/a100/output_gdeflate_500mb_dickens_8192threads.h5\n",
      "../data/compare/a100/output_gdeflate_500mb_dickens_32768threads.h5\n",
      "../data/compare/a100/output_gdeflate_500mb_dickens_131072threads.h5\n",
      "../data/compare/a100/output_lz4_500mb_dickens_8threads.h5\n",
      "../data/compare/a100/output_lz4_500mb_dickens_32threads.h5\n",
      "../data/compare/a100/output_lz4_500mb_dickens_128threads.h5\n",
      "../data/compare/a100/output_lz4_500mb_dickens_512threads.h5\n",
      "../data/compare/a100/output_lz4_500mb_dickens_2048threads.h5\n",
      "../data/compare/a100/output_lz4_500mb_dickens_8192threads.h5\n",
      "../data/compare/a100/output_lz4_500mb_dickens_32768threads.h5\n",
      "../data/compare/a100/output_lz4_500mb_dickens_131072threads.h5\n",
      "../data/compare/a100/output_cascaded_500mb_dickens_8threads.h5\n",
      "Failed getting utilization of cascaded 500mb_dickens 8 threads: \"Unable to synchronously open object (object 'CUPTI_ACTIVITY_KIND_KERNEL' doesn't exist)\"\n",
      "../data/compare/a100/output_cascaded_500mb_dickens_32threads.h5\n",
      "Failed getting utilization of cascaded 500mb_dickens 32 threads: \"Unable to synchronously open object (object 'CUPTI_ACTIVITY_KIND_KERNEL' doesn't exist)\"\n",
      "../data/compare/a100/output_cascaded_500mb_dickens_128threads.h5\n",
      "Failed getting utilization of cascaded 500mb_dickens 128 threads: \"Unable to synchronously open object (object 'CUPTI_ACTIVITY_KIND_KERNEL' doesn't exist)\"\n",
      "../data/compare/a100/output_cascaded_500mb_dickens_512threads.h5\n",
      "Failed getting utilization of cascaded 500mb_dickens 512 threads: \"Unable to synchronously open object (object 'CUPTI_ACTIVITY_KIND_KERNEL' doesn't exist)\"\n",
      "../data/compare/a100/output_cascaded_500mb_dickens_2048threads.h5\n",
      "Failed getting utilization of cascaded 500mb_dickens 2048 threads: \"Unable to synchronously open object (object 'CUPTI_ACTIVITY_KIND_KERNEL' doesn't exist)\"\n",
      "../data/compare/a100/output_cascaded_500mb_dickens_8192threads.h5\n",
      "Failed getting utilization of cascaded 500mb_dickens 8192 threads: \"Unable to synchronously open object (object 'CUPTI_ACTIVITY_KIND_KERNEL' doesn't exist)\"\n",
      "../data/compare/a100/output_cascaded_500mb_dickens_32768threads.h5\n",
      "Failed getting utilization of cascaded 500mb_dickens 32768 threads: \"Unable to synchronously open object (object 'CUPTI_ACTIVITY_KIND_KERNEL' doesn't exist)\"\n",
      "../data/compare/a100/output_cascaded_500mb_dickens_131072threads.h5\n",
      "Failed getting utilization of cascaded 500mb_dickens 131072 threads: \"Unable to synchronously open object (object 'CUPTI_ACTIVITY_KIND_KERNEL' doesn't exist)\"\n",
      "../data/compare/a100/output_bitcomp_500mb_dickens_8threads.h5\n",
      "../data/compare/a100/output_bitcomp_500mb_dickens_32threads.h5\n",
      "../data/compare/a100/output_bitcomp_500mb_dickens_128threads.h5\n",
      "../data/compare/a100/output_bitcomp_500mb_dickens_512threads.h5\n",
      "../data/compare/a100/output_bitcomp_500mb_dickens_2048threads.h5\n",
      "../data/compare/a100/output_bitcomp_500mb_dickens_8192threads.h5\n",
      "../data/compare/a100/output_bitcomp_500mb_dickens_32768threads.h5\n",
      "../data/compare/a100/output_bitcomp_500mb_dickens_131072threads.h5\n",
      "../data/compare/a100/output_snappy_500mb_mozilla_8threads.h5\n",
      "../data/compare/a100/output_snappy_500mb_mozilla_32threads.h5\n",
      "../data/compare/a100/output_snappy_500mb_mozilla_128threads.h5\n",
      "../data/compare/a100/output_snappy_500mb_mozilla_512threads.h5\n",
      "../data/compare/a100/output_snappy_500mb_mozilla_2048threads.h5\n",
      "../data/compare/a100/output_snappy_500mb_mozilla_8192threads.h5\n",
      "../data/compare/a100/output_snappy_500mb_mozilla_32768threads.h5\n",
      "../data/compare/a100/output_snappy_500mb_mozilla_131072threads.h5\n",
      "../data/compare/a100/output_zstd_500mb_mozilla_8threads.h5\n",
      "Failed getting utilization of zstd 500mb_mozilla 8 threads: \"Unable to synchronously open object (object 'CUPTI_ACTIVITY_KIND_KERNEL' doesn't exist)\"\n",
      "../data/compare/a100/output_zstd_500mb_mozilla_32threads.h5\n",
      "../data/compare/a100/output_zstd_500mb_mozilla_128threads.h5\n",
      "../data/compare/a100/output_zstd_500mb_mozilla_512threads.h5\n",
      "../data/compare/a100/output_zstd_500mb_mozilla_2048threads.h5\n",
      "../data/compare/a100/output_zstd_500mb_mozilla_8192threads.h5\n",
      "../data/compare/a100/output_zstd_500mb_mozilla_32768threads.h5\n",
      "../data/compare/a100/output_zstd_500mb_mozilla_131072threads.h5\n",
      "../data/compare/a100/output_gdeflate_500mb_mozilla_8threads.h5\n",
      "Failed getting utilization of gdeflate 500mb_mozilla 8 threads: \"Unable to synchronously open object (object 'CUPTI_ACTIVITY_KIND_KERNEL' doesn't exist)\"\n",
      "../data/compare/a100/output_gdeflate_500mb_mozilla_32threads.h5\n",
      "Failed getting utilization of gdeflate 500mb_mozilla 32 threads: \"Unable to synchronously open object (object 'CUPTI_ACTIVITY_KIND_KERNEL' doesn't exist)\"\n",
      "../data/compare/a100/output_gdeflate_500mb_mozilla_128threads.h5\n",
      "Failed getting utilization of gdeflate 500mb_mozilla 128 threads: \"Unable to synchronously open object (object 'CUPTI_ACTIVITY_KIND_KERNEL' doesn't exist)\"\n",
      "../data/compare/a100/output_gdeflate_500mb_mozilla_512threads.h5\n",
      "Failed getting utilization of gdeflate 500mb_mozilla 512 threads: \"Unable to synchronously open object (object 'CUPTI_ACTIVITY_KIND_KERNEL' doesn't exist)\"\n",
      "../data/compare/a100/output_gdeflate_500mb_mozilla_2048threads.h5\n",
      "Failed getting utilization of gdeflate 500mb_mozilla 2048 threads: \"Unable to synchronously open object (object 'CUPTI_ACTIVITY_KIND_KERNEL' doesn't exist)\"\n",
      "../data/compare/a100/output_gdeflate_500mb_mozilla_8192threads.h5\n",
      "../data/compare/a100/output_gdeflate_500mb_mozilla_32768threads.h5\n",
      "../data/compare/a100/output_gdeflate_500mb_mozilla_131072threads.h5\n",
      "../data/compare/a100/output_lz4_500mb_mozilla_8threads.h5\n",
      "Failed getting utilization of lz4 500mb_mozilla 8 threads: \"Unable to synchronously open object (object 'CUPTI_ACTIVITY_KIND_KERNEL' doesn't exist)\"\n",
      "../data/compare/a100/output_lz4_500mb_mozilla_32threads.h5\n",
      "../data/compare/a100/output_lz4_500mb_mozilla_128threads.h5\n",
      "../data/compare/a100/output_lz4_500mb_mozilla_512threads.h5\n",
      "../data/compare/a100/output_lz4_500mb_mozilla_2048threads.h5\n",
      "../data/compare/a100/output_lz4_500mb_mozilla_8192threads.h5\n",
      "../data/compare/a100/output_lz4_500mb_mozilla_32768threads.h5\n",
      "../data/compare/a100/output_lz4_500mb_mozilla_131072threads.h5\n",
      "../data/compare/a100/output_cascaded_500mb_mozilla_8threads.h5\n",
      "../data/compare/a100/output_cascaded_500mb_mozilla_32threads.h5\n",
      "../data/compare/a100/output_cascaded_500mb_mozilla_128threads.h5\n",
      "../data/compare/a100/output_cascaded_500mb_mozilla_512threads.h5\n",
      "../data/compare/a100/output_cascaded_500mb_mozilla_2048threads.h5\n",
      "../data/compare/a100/output_cascaded_500mb_mozilla_8192threads.h5\n",
      "../data/compare/a100/output_cascaded_500mb_mozilla_32768threads.h5\n",
      "../data/compare/a100/output_cascaded_500mb_mozilla_131072threads.h5\n",
      "../data/compare/a100/output_bitcomp_500mb_mozilla_8threads.h5\n",
      "../data/compare/a100/output_bitcomp_500mb_mozilla_32threads.h5\n",
      "../data/compare/a100/output_bitcomp_500mb_mozilla_128threads.h5\n",
      "../data/compare/a100/output_bitcomp_500mb_mozilla_512threads.h5\n",
      "../data/compare/a100/output_bitcomp_500mb_mozilla_2048threads.h5\n",
      "../data/compare/a100/output_bitcomp_500mb_mozilla_8192threads.h5\n",
      "../data/compare/a100/output_bitcomp_500mb_mozilla_32768threads.h5\n",
      "../data/compare/a100/output_bitcomp_500mb_mozilla_131072threads.h5\n",
      "../data/compare/a100/output_snappy_500mb_mr_8threads.h5\n",
      "../data/compare/a100/output_snappy_500mb_mr_32threads.h5\n",
      "../data/compare/a100/output_snappy_500mb_mr_128threads.h5\n",
      "../data/compare/a100/output_snappy_500mb_mr_512threads.h5\n",
      "../data/compare/a100/output_snappy_500mb_mr_2048threads.h5\n",
      "../data/compare/a100/output_snappy_500mb_mr_8192threads.h5\n",
      "../data/compare/a100/output_snappy_500mb_mr_32768threads.h5\n",
      "../data/compare/a100/output_snappy_500mb_mr_131072threads.h5\n",
      "../data/compare/a100/output_zstd_500mb_mr_8threads.h5\n",
      "../data/compare/a100/output_zstd_500mb_mr_32threads.h5\n",
      "../data/compare/a100/output_zstd_500mb_mr_128threads.h5\n",
      "../data/compare/a100/output_zstd_500mb_mr_512threads.h5\n",
      "../data/compare/a100/output_zstd_500mb_mr_2048threads.h5\n",
      "../data/compare/a100/output_zstd_500mb_mr_8192threads.h5\n",
      "../data/compare/a100/output_zstd_500mb_mr_32768threads.h5\n",
      "../data/compare/a100/output_zstd_500mb_mr_131072threads.h5\n",
      "../data/compare/a100/output_gdeflate_500mb_mr_8threads.h5\n",
      "Failed getting utilization of gdeflate 500mb_mr 8 threads: \"Unable to synchronously open object (object 'CUPTI_ACTIVITY_KIND_KERNEL' doesn't exist)\"\n",
      "../data/compare/a100/output_gdeflate_500mb_mr_32threads.h5\n",
      "Failed getting utilization of gdeflate 500mb_mr 32 threads: \"Unable to synchronously open object (object 'CUPTI_ACTIVITY_KIND_KERNEL' doesn't exist)\"\n",
      "../data/compare/a100/output_gdeflate_500mb_mr_128threads.h5\n",
      "Failed getting utilization of gdeflate 500mb_mr 128 threads: \"Unable to synchronously open object (object 'CUPTI_ACTIVITY_KIND_KERNEL' doesn't exist)\"\n",
      "../data/compare/a100/output_gdeflate_500mb_mr_512threads.h5\n",
      "Failed getting utilization of gdeflate 500mb_mr 512 threads: \"Unable to synchronously open object (object 'CUPTI_ACTIVITY_KIND_KERNEL' doesn't exist)\"\n",
      "../data/compare/a100/output_gdeflate_500mb_mr_2048threads.h5\n",
      "Failed getting utilization of gdeflate 500mb_mr 2048 threads: \"Unable to synchronously open object (object 'CUPTI_ACTIVITY_KIND_KERNEL' doesn't exist)\"\n",
      "../data/compare/a100/output_gdeflate_500mb_mr_8192threads.h5\n",
      "../data/compare/a100/output_gdeflate_500mb_mr_32768threads.h5\n",
      "../data/compare/a100/output_gdeflate_500mb_mr_131072threads.h5\n",
      "../data/compare/a100/output_lz4_500mb_mr_8threads.h5\n",
      "../data/compare/a100/output_lz4_500mb_mr_32threads.h5\n",
      "../data/compare/a100/output_lz4_500mb_mr_128threads.h5\n",
      "../data/compare/a100/output_lz4_500mb_mr_512threads.h5\n",
      "../data/compare/a100/output_lz4_500mb_mr_2048threads.h5\n",
      "../data/compare/a100/output_lz4_500mb_mr_8192threads.h5\n",
      "../data/compare/a100/output_lz4_500mb_mr_32768threads.h5\n",
      "../data/compare/a100/output_lz4_500mb_mr_131072threads.h5\n",
      "../data/compare/a100/output_cascaded_500mb_mr_8threads.h5\n",
      "../data/compare/a100/output_cascaded_500mb_mr_32threads.h5\n",
      "../data/compare/a100/output_cascaded_500mb_mr_128threads.h5\n",
      "../data/compare/a100/output_cascaded_500mb_mr_512threads.h5\n",
      "../data/compare/a100/output_cascaded_500mb_mr_2048threads.h5\n",
      "../data/compare/a100/output_cascaded_500mb_mr_8192threads.h5\n",
      "../data/compare/a100/output_cascaded_500mb_mr_32768threads.h5\n",
      "../data/compare/a100/output_cascaded_500mb_mr_131072threads.h5\n",
      "../data/compare/a100/output_bitcomp_500mb_mr_8threads.h5\n",
      "../data/compare/a100/output_bitcomp_500mb_mr_32threads.h5\n",
      "../data/compare/a100/output_bitcomp_500mb_mr_128threads.h5\n",
      "../data/compare/a100/output_bitcomp_500mb_mr_512threads.h5\n",
      "../data/compare/a100/output_bitcomp_500mb_mr_2048threads.h5\n",
      "../data/compare/a100/output_bitcomp_500mb_mr_8192threads.h5\n",
      "../data/compare/a100/output_bitcomp_500mb_mr_32768threads.h5\n",
      "../data/compare/a100/output_bitcomp_500mb_mr_131072threads.h5\n",
      "../data/compare/a100/output_snappy_500mb_nci_8threads.h5\n",
      "../data/compare/a100/output_snappy_500mb_nci_32threads.h5\n",
      "../data/compare/a100/output_snappy_500mb_nci_128threads.h5\n",
      "../data/compare/a100/output_snappy_500mb_nci_512threads.h5\n",
      "../data/compare/a100/output_snappy_500mb_nci_2048threads.h5\n",
      "../data/compare/a100/output_snappy_500mb_nci_8192threads.h5\n",
      "../data/compare/a100/output_snappy_500mb_nci_32768threads.h5\n",
      "../data/compare/a100/output_snappy_500mb_nci_131072threads.h5\n",
      "../data/compare/a100/output_zstd_500mb_nci_8threads.h5\n",
      "Failed getting utilization of zstd 500mb_nci 8 threads: \"Unable to synchronously open object (object 'CUPTI_ACTIVITY_KIND_KERNEL' doesn't exist)\"\n",
      "../data/compare/a100/output_zstd_500mb_nci_32threads.h5\n",
      "../data/compare/a100/output_zstd_500mb_nci_128threads.h5\n",
      "../data/compare/a100/output_zstd_500mb_nci_512threads.h5\n",
      "../data/compare/a100/output_zstd_500mb_nci_2048threads.h5\n",
      "../data/compare/a100/output_zstd_500mb_nci_8192threads.h5\n",
      "../data/compare/a100/output_zstd_500mb_nci_32768threads.h5\n",
      "../data/compare/a100/output_zstd_500mb_nci_131072threads.h5\n",
      "../data/compare/a100/output_gdeflate_500mb_nci_8threads.h5\n",
      "Failed getting utilization of gdeflate 500mb_nci 8 threads: \"Unable to synchronously open object (object 'CUPTI_ACTIVITY_KIND_KERNEL' doesn't exist)\"\n",
      "../data/compare/a100/output_gdeflate_500mb_nci_32threads.h5\n",
      "Failed getting utilization of gdeflate 500mb_nci 32 threads: \"Unable to synchronously open object (object 'CUPTI_ACTIVITY_KIND_KERNEL' doesn't exist)\"\n",
      "../data/compare/a100/output_gdeflate_500mb_nci_128threads.h5\n",
      "Failed getting utilization of gdeflate 500mb_nci 128 threads: \"Unable to synchronously open object (object 'CUPTI_ACTIVITY_KIND_KERNEL' doesn't exist)\"\n",
      "../data/compare/a100/output_gdeflate_500mb_nci_512threads.h5\n",
      "Failed getting utilization of gdeflate 500mb_nci 512 threads: \"Unable to synchronously open object (object 'CUPTI_ACTIVITY_KIND_KERNEL' doesn't exist)\"\n",
      "../data/compare/a100/output_gdeflate_500mb_nci_2048threads.h5\n",
      "Failed getting utilization of gdeflate 500mb_nci 2048 threads: \"Unable to synchronously open object (object 'CUPTI_ACTIVITY_KIND_KERNEL' doesn't exist)\"\n",
      "../data/compare/a100/output_gdeflate_500mb_nci_8192threads.h5\n",
      "../data/compare/a100/output_gdeflate_500mb_nci_32768threads.h5\n",
      "../data/compare/a100/output_gdeflate_500mb_nci_131072threads.h5\n",
      "../data/compare/a100/output_lz4_500mb_nci_8threads.h5\n",
      "Failed getting utilization of lz4 500mb_nci 8 threads: \"Unable to synchronously open object (object 'CUPTI_ACTIVITY_KIND_KERNEL' doesn't exist)\"\n",
      "../data/compare/a100/output_lz4_500mb_nci_32threads.h5\n",
      "../data/compare/a100/output_lz4_500mb_nci_128threads.h5\n",
      "../data/compare/a100/output_lz4_500mb_nci_512threads.h5\n",
      "../data/compare/a100/output_lz4_500mb_nci_2048threads.h5\n",
      "../data/compare/a100/output_lz4_500mb_nci_8192threads.h5\n",
      "../data/compare/a100/output_lz4_500mb_nci_32768threads.h5\n",
      "../data/compare/a100/output_lz4_500mb_nci_131072threads.h5\n",
      "../data/compare/a100/output_cascaded_500mb_nci_8threads.h5\n",
      "Failed getting utilization of cascaded 500mb_nci 8 threads: \"Unable to synchronously open object (object 'CUPTI_ACTIVITY_KIND_KERNEL' doesn't exist)\"\n",
      "../data/compare/a100/output_cascaded_500mb_nci_32threads.h5\n",
      "Failed getting utilization of cascaded 500mb_nci 32 threads: \"Unable to synchronously open object (object 'CUPTI_ACTIVITY_KIND_KERNEL' doesn't exist)\"\n",
      "../data/compare/a100/output_cascaded_500mb_nci_128threads.h5\n",
      "Failed getting utilization of cascaded 500mb_nci 128 threads: \"Unable to synchronously open object (object 'CUPTI_ACTIVITY_KIND_KERNEL' doesn't exist)\"\n",
      "../data/compare/a100/output_cascaded_500mb_nci_512threads.h5\n",
      "Failed getting utilization of cascaded 500mb_nci 512 threads: \"Unable to synchronously open object (object 'CUPTI_ACTIVITY_KIND_KERNEL' doesn't exist)\"\n",
      "../data/compare/a100/output_cascaded_500mb_nci_2048threads.h5\n",
      "Failed getting utilization of cascaded 500mb_nci 2048 threads: \"Unable to synchronously open object (object 'CUPTI_ACTIVITY_KIND_KERNEL' doesn't exist)\"\n",
      "../data/compare/a100/output_cascaded_500mb_nci_8192threads.h5\n",
      "Failed getting utilization of cascaded 500mb_nci 8192 threads: \"Unable to synchronously open object (object 'CUPTI_ACTIVITY_KIND_KERNEL' doesn't exist)\"\n",
      "../data/compare/a100/output_cascaded_500mb_nci_32768threads.h5\n",
      "Failed getting utilization of cascaded 500mb_nci 32768 threads: \"Unable to synchronously open object (object 'CUPTI_ACTIVITY_KIND_KERNEL' doesn't exist)\"\n",
      "../data/compare/a100/output_cascaded_500mb_nci_131072threads.h5\n",
      "Failed getting utilization of cascaded 500mb_nci 131072 threads: \"Unable to synchronously open object (object 'CUPTI_ACTIVITY_KIND_KERNEL' doesn't exist)\"\n",
      "../data/compare/a100/output_bitcomp_500mb_nci_8threads.h5\n",
      "../data/compare/a100/output_bitcomp_500mb_nci_32threads.h5\n",
      "../data/compare/a100/output_bitcomp_500mb_nci_128threads.h5\n",
      "../data/compare/a100/output_bitcomp_500mb_nci_512threads.h5\n",
      "../data/compare/a100/output_bitcomp_500mb_nci_2048threads.h5\n",
      "../data/compare/a100/output_bitcomp_500mb_nci_8192threads.h5\n",
      "../data/compare/a100/output_bitcomp_500mb_nci_32768threads.h5\n",
      "../data/compare/a100/output_bitcomp_500mb_nci_131072threads.h5\n",
      "../data/compare/a100/output_snappy_500mb_samba_8threads.h5\n",
      "../data/compare/a100/output_snappy_500mb_samba_32threads.h5\n",
      "../data/compare/a100/output_snappy_500mb_samba_128threads.h5\n",
      "../data/compare/a100/output_snappy_500mb_samba_512threads.h5\n",
      "../data/compare/a100/output_snappy_500mb_samba_2048threads.h5\n",
      "../data/compare/a100/output_snappy_500mb_samba_8192threads.h5\n",
      "../data/compare/a100/output_snappy_500mb_samba_32768threads.h5\n",
      "../data/compare/a100/output_snappy_500mb_samba_131072threads.h5\n",
      "../data/compare/a100/output_zstd_500mb_samba_8threads.h5\n",
      "Failed getting utilization of zstd 500mb_samba 8 threads: \"Unable to synchronously open object (object 'CUPTI_ACTIVITY_KIND_KERNEL' doesn't exist)\"\n",
      "../data/compare/a100/output_zstd_500mb_samba_32threads.h5\n",
      "../data/compare/a100/output_zstd_500mb_samba_128threads.h5\n",
      "../data/compare/a100/output_zstd_500mb_samba_512threads.h5\n",
      "../data/compare/a100/output_zstd_500mb_samba_2048threads.h5\n",
      "../data/compare/a100/output_zstd_500mb_samba_8192threads.h5\n",
      "../data/compare/a100/output_zstd_500mb_samba_32768threads.h5\n",
      "../data/compare/a100/output_zstd_500mb_samba_131072threads.h5\n",
      "../data/compare/a100/output_gdeflate_500mb_samba_8threads.h5\n",
      "Failed getting utilization of gdeflate 500mb_samba 8 threads: \"Unable to synchronously open object (object 'CUPTI_ACTIVITY_KIND_KERNEL' doesn't exist)\"\n",
      "../data/compare/a100/output_gdeflate_500mb_samba_32threads.h5\n",
      "Failed getting utilization of gdeflate 500mb_samba 32 threads: \"Unable to synchronously open object (object 'CUPTI_ACTIVITY_KIND_KERNEL' doesn't exist)\"\n",
      "../data/compare/a100/output_gdeflate_500mb_samba_128threads.h5\n",
      "Failed getting utilization of gdeflate 500mb_samba 128 threads: \"Unable to synchronously open object (object 'CUPTI_ACTIVITY_KIND_KERNEL' doesn't exist)\"\n",
      "../data/compare/a100/output_gdeflate_500mb_samba_512threads.h5\n",
      "Failed getting utilization of gdeflate 500mb_samba 512 threads: \"Unable to synchronously open object (object 'CUPTI_ACTIVITY_KIND_KERNEL' doesn't exist)\"\n",
      "../data/compare/a100/output_gdeflate_500mb_samba_2048threads.h5\n",
      "Failed getting utilization of gdeflate 500mb_samba 2048 threads: \"Unable to synchronously open object (object 'CUPTI_ACTIVITY_KIND_KERNEL' doesn't exist)\"\n",
      "../data/compare/a100/output_gdeflate_500mb_samba_8192threads.h5\n",
      "../data/compare/a100/output_gdeflate_500mb_samba_32768threads.h5\n",
      "../data/compare/a100/output_gdeflate_500mb_samba_131072threads.h5\n",
      "../data/compare/a100/output_lz4_500mb_samba_8threads.h5\n",
      "Failed getting utilization of lz4 500mb_samba 8 threads: \"Unable to synchronously open object (object 'CUPTI_ACTIVITY_KIND_KERNEL' doesn't exist)\"\n",
      "../data/compare/a100/output_lz4_500mb_samba_32threads.h5\n",
      "../data/compare/a100/output_lz4_500mb_samba_128threads.h5\n",
      "../data/compare/a100/output_lz4_500mb_samba_512threads.h5\n",
      "../data/compare/a100/output_lz4_500mb_samba_2048threads.h5\n",
      "../data/compare/a100/output_lz4_500mb_samba_8192threads.h5\n",
      "../data/compare/a100/output_lz4_500mb_samba_32768threads.h5\n",
      "../data/compare/a100/output_lz4_500mb_samba_131072threads.h5\n",
      "../data/compare/a100/output_cascaded_500mb_samba_8threads.h5\n",
      "../data/compare/a100/output_cascaded_500mb_samba_32threads.h5\n",
      "../data/compare/a100/output_cascaded_500mb_samba_128threads.h5\n",
      "../data/compare/a100/output_cascaded_500mb_samba_512threads.h5\n",
      "../data/compare/a100/output_cascaded_500mb_samba_2048threads.h5\n",
      "../data/compare/a100/output_cascaded_500mb_samba_8192threads.h5\n",
      "../data/compare/a100/output_cascaded_500mb_samba_32768threads.h5\n",
      "../data/compare/a100/output_cascaded_500mb_samba_131072threads.h5\n",
      "../data/compare/a100/output_bitcomp_500mb_samba_8threads.h5\n",
      "../data/compare/a100/output_bitcomp_500mb_samba_32threads.h5\n",
      "../data/compare/a100/output_bitcomp_500mb_samba_128threads.h5\n",
      "../data/compare/a100/output_bitcomp_500mb_samba_512threads.h5\n",
      "../data/compare/a100/output_bitcomp_500mb_samba_2048threads.h5\n",
      "../data/compare/a100/output_bitcomp_500mb_samba_8192threads.h5\n",
      "../data/compare/a100/output_bitcomp_500mb_samba_32768threads.h5\n",
      "../data/compare/a100/output_bitcomp_500mb_samba_131072threads.h5\n",
      "../data/compare/a100/output_snappy_500mb_sao_8threads.h5\n",
      "../data/compare/a100/output_snappy_500mb_sao_32threads.h5\n",
      "../data/compare/a100/output_snappy_500mb_sao_128threads.h5\n",
      "../data/compare/a100/output_snappy_500mb_sao_512threads.h5\n",
      "../data/compare/a100/output_snappy_500mb_sao_2048threads.h5\n",
      "../data/compare/a100/output_snappy_500mb_sao_8192threads.h5\n",
      "../data/compare/a100/output_snappy_500mb_sao_32768threads.h5\n",
      "../data/compare/a100/output_snappy_500mb_sao_131072threads.h5\n",
      "../data/compare/a100/output_zstd_500mb_sao_8threads.h5\n",
      "../data/compare/a100/output_zstd_500mb_sao_32threads.h5\n",
      "../data/compare/a100/output_zstd_500mb_sao_128threads.h5\n",
      "../data/compare/a100/output_zstd_500mb_sao_512threads.h5\n",
      "../data/compare/a100/output_zstd_500mb_sao_2048threads.h5\n",
      "../data/compare/a100/output_zstd_500mb_sao_8192threads.h5\n",
      "../data/compare/a100/output_zstd_500mb_sao_32768threads.h5\n",
      "../data/compare/a100/output_zstd_500mb_sao_131072threads.h5\n",
      "../data/compare/a100/output_gdeflate_500mb_sao_8threads.h5\n",
      "Failed getting utilization of gdeflate 500mb_sao 8 threads: \"Unable to synchronously open object (object 'CUPTI_ACTIVITY_KIND_KERNEL' doesn't exist)\"\n",
      "../data/compare/a100/output_gdeflate_500mb_sao_32threads.h5\n",
      "Failed getting utilization of gdeflate 500mb_sao 32 threads: \"Unable to synchronously open object (object 'CUPTI_ACTIVITY_KIND_KERNEL' doesn't exist)\"\n",
      "../data/compare/a100/output_gdeflate_500mb_sao_128threads.h5\n",
      "Failed getting utilization of gdeflate 500mb_sao 128 threads: \"Unable to synchronously open object (object 'CUPTI_ACTIVITY_KIND_KERNEL' doesn't exist)\"\n",
      "../data/compare/a100/output_gdeflate_500mb_sao_512threads.h5\n",
      "Failed getting utilization of gdeflate 500mb_sao 512 threads: \"Unable to synchronously open object (object 'CUPTI_ACTIVITY_KIND_KERNEL' doesn't exist)\"\n",
      "../data/compare/a100/output_gdeflate_500mb_sao_2048threads.h5\n",
      "Failed getting utilization of gdeflate 500mb_sao 2048 threads: \"Unable to synchronously open object (object 'CUPTI_ACTIVITY_KIND_KERNEL' doesn't exist)\"\n",
      "../data/compare/a100/output_gdeflate_500mb_sao_8192threads.h5\n",
      "../data/compare/a100/output_gdeflate_500mb_sao_32768threads.h5\n",
      "../data/compare/a100/output_gdeflate_500mb_sao_131072threads.h5\n",
      "../data/compare/a100/output_lz4_500mb_sao_8threads.h5\n",
      "../data/compare/a100/output_lz4_500mb_sao_32threads.h5\n",
      "../data/compare/a100/output_lz4_500mb_sao_128threads.h5\n",
      "../data/compare/a100/output_lz4_500mb_sao_512threads.h5\n",
      "../data/compare/a100/output_lz4_500mb_sao_2048threads.h5\n",
      "../data/compare/a100/output_lz4_500mb_sao_8192threads.h5\n",
      "../data/compare/a100/output_lz4_500mb_sao_32768threads.h5\n",
      "../data/compare/a100/output_lz4_500mb_sao_131072threads.h5\n",
      "../data/compare/a100/output_cascaded_500mb_sao_8threads.h5\n",
      "../data/compare/a100/output_cascaded_500mb_sao_32threads.h5\n",
      "../data/compare/a100/output_cascaded_500mb_sao_128threads.h5\n",
      "../data/compare/a100/output_cascaded_500mb_sao_512threads.h5\n",
      "../data/compare/a100/output_cascaded_500mb_sao_2048threads.h5\n",
      "../data/compare/a100/output_cascaded_500mb_sao_8192threads.h5\n",
      "../data/compare/a100/output_cascaded_500mb_sao_32768threads.h5\n",
      "../data/compare/a100/output_cascaded_500mb_sao_131072threads.h5\n",
      "../data/compare/a100/output_bitcomp_500mb_sao_8threads.h5\n",
      "../data/compare/a100/output_bitcomp_500mb_sao_32threads.h5\n",
      "../data/compare/a100/output_bitcomp_500mb_sao_128threads.h5\n",
      "../data/compare/a100/output_bitcomp_500mb_sao_512threads.h5\n",
      "../data/compare/a100/output_bitcomp_500mb_sao_2048threads.h5\n",
      "../data/compare/a100/output_bitcomp_500mb_sao_8192threads.h5\n",
      "../data/compare/a100/output_bitcomp_500mb_sao_32768threads.h5\n",
      "../data/compare/a100/output_bitcomp_500mb_sao_131072threads.h5\n",
      "../data/compare/a100/output_snappy_500mb_silesia.zip_8threads.h5\n",
      "Failed getting utilization of snappy 500mb_silesia.zip 8 threads: \"Unable to synchronously open object (object 'CUPTI_ACTIVITY_KIND_KERNEL' doesn't exist)\"\n",
      "../data/compare/a100/output_snappy_500mb_silesia.zip_32threads.h5\n",
      "Failed getting utilization of snappy 500mb_silesia.zip 32 threads: \"Unable to synchronously open object (object 'CUPTI_ACTIVITY_KIND_KERNEL' doesn't exist)\"\n",
      "../data/compare/a100/output_snappy_500mb_silesia.zip_128threads.h5\n",
      "Failed getting utilization of snappy 500mb_silesia.zip 128 threads: \"Unable to synchronously open object (object 'CUPTI_ACTIVITY_KIND_KERNEL' doesn't exist)\"\n",
      "../data/compare/a100/output_snappy_500mb_silesia.zip_512threads.h5\n",
      "Failed getting utilization of snappy 500mb_silesia.zip 512 threads: \"Unable to synchronously open object (object 'CUPTI_ACTIVITY_KIND_KERNEL' doesn't exist)\"\n",
      "../data/compare/a100/output_snappy_500mb_silesia.zip_2048threads.h5\n",
      "Failed getting utilization of snappy 500mb_silesia.zip 2048 threads: \"Unable to synchronously open object (object 'CUPTI_ACTIVITY_KIND_KERNEL' doesn't exist)\"\n",
      "../data/compare/a100/output_snappy_500mb_silesia.zip_8192threads.h5\n",
      "Failed getting utilization of snappy 500mb_silesia.zip 8192 threads: \"Unable to synchronously open object (object 'CUPTI_ACTIVITY_KIND_KERNEL' doesn't exist)\"\n",
      "../data/compare/a100/output_snappy_500mb_silesia.zip_32768threads.h5\n",
      "Failed getting utilization of snappy 500mb_silesia.zip 32768 threads: \"Unable to synchronously open object (object 'CUPTI_ACTIVITY_KIND_KERNEL' doesn't exist)\"\n",
      "../data/compare/a100/output_snappy_500mb_silesia.zip_131072threads.h5\n",
      "Failed getting utilization of snappy 500mb_silesia.zip 131072 threads: \"Unable to synchronously open object (object 'CUPTI_ACTIVITY_KIND_KERNEL' doesn't exist)\"\n",
      "../data/compare/a100/output_zstd_500mb_silesia.zip_8threads.h5\n",
      "Failed getting utilization of zstd 500mb_silesia.zip 8 threads: \"Unable to synchronously open object (object 'CUPTI_ACTIVITY_KIND_KERNEL' doesn't exist)\"\n",
      "../data/compare/a100/output_zstd_500mb_silesia.zip_32threads.h5\n",
      "Failed getting utilization of zstd 500mb_silesia.zip 32 threads: \"Unable to synchronously open object (object 'CUPTI_ACTIVITY_KIND_KERNEL' doesn't exist)\"\n",
      "../data/compare/a100/output_zstd_500mb_silesia.zip_128threads.h5\n",
      "Failed getting utilization of zstd 500mb_silesia.zip 128 threads: \"Unable to synchronously open object (object 'CUPTI_ACTIVITY_KIND_KERNEL' doesn't exist)\"\n",
      "../data/compare/a100/output_zstd_500mb_silesia.zip_512threads.h5\n",
      "Failed getting utilization of zstd 500mb_silesia.zip 512 threads: \"Unable to synchronously open object (object 'CUPTI_ACTIVITY_KIND_KERNEL' doesn't exist)\"\n",
      "../data/compare/a100/output_zstd_500mb_silesia.zip_2048threads.h5\n",
      "Failed getting utilization of zstd 500mb_silesia.zip 2048 threads: \"Unable to synchronously open object (object 'CUPTI_ACTIVITY_KIND_KERNEL' doesn't exist)\"\n",
      "../data/compare/a100/output_zstd_500mb_silesia.zip_8192threads.h5\n",
      "Failed getting utilization of zstd 500mb_silesia.zip 8192 threads: \"Unable to synchronously open object (object 'CUPTI_ACTIVITY_KIND_KERNEL' doesn't exist)\"\n",
      "../data/compare/a100/output_zstd_500mb_silesia.zip_32768threads.h5\n",
      "Failed getting utilization of zstd 500mb_silesia.zip 32768 threads: \"Unable to synchronously open object (object 'CUPTI_ACTIVITY_KIND_KERNEL' doesn't exist)\"\n",
      "../data/compare/a100/output_zstd_500mb_silesia.zip_131072threads.h5\n",
      "Failed getting utilization of zstd 500mb_silesia.zip 131072 threads: \"Unable to synchronously open object (object 'CUPTI_ACTIVITY_KIND_KERNEL' doesn't exist)\"\n",
      "../data/compare/a100/output_gdeflate_500mb_silesia.zip_8threads.h5\n",
      "Failed getting utilization of gdeflate 500mb_silesia.zip 8 threads: \"Unable to synchronously open object (object 'CUPTI_ACTIVITY_KIND_KERNEL' doesn't exist)\"\n",
      "../data/compare/a100/output_gdeflate_500mb_silesia.zip_32threads.h5\n",
      "Failed getting utilization of gdeflate 500mb_silesia.zip 32 threads: \"Unable to synchronously open object (object 'CUPTI_ACTIVITY_KIND_KERNEL' doesn't exist)\"\n",
      "../data/compare/a100/output_gdeflate_500mb_silesia.zip_128threads.h5\n",
      "Failed getting utilization of gdeflate 500mb_silesia.zip 128 threads: \"Unable to synchronously open object (object 'CUPTI_ACTIVITY_KIND_KERNEL' doesn't exist)\"\n",
      "../data/compare/a100/output_gdeflate_500mb_silesia.zip_512threads.h5\n",
      "Failed getting utilization of gdeflate 500mb_silesia.zip 512 threads: \"Unable to synchronously open object (object 'CUPTI_ACTIVITY_KIND_KERNEL' doesn't exist)\"\n",
      "../data/compare/a100/output_gdeflate_500mb_silesia.zip_2048threads.h5\n",
      "Failed getting utilization of gdeflate 500mb_silesia.zip 2048 threads: \"Unable to synchronously open object (object 'CUPTI_ACTIVITY_KIND_KERNEL' doesn't exist)\"\n",
      "../data/compare/a100/output_gdeflate_500mb_silesia.zip_8192threads.h5\n",
      "Failed getting utilization of gdeflate 500mb_silesia.zip 8192 threads: \"Unable to synchronously open object (object 'CUPTI_ACTIVITY_KIND_KERNEL' doesn't exist)\"\n",
      "../data/compare/a100/output_gdeflate_500mb_silesia.zip_32768threads.h5\n",
      "Failed getting utilization of gdeflate 500mb_silesia.zip 32768 threads: \"Unable to synchronously open object (object 'CUPTI_ACTIVITY_KIND_KERNEL' doesn't exist)\"\n",
      "../data/compare/a100/output_gdeflate_500mb_silesia.zip_131072threads.h5\n",
      "Failed getting utilization of gdeflate 500mb_silesia.zip 131072 threads: \"Unable to synchronously open object (object 'CUPTI_ACTIVITY_KIND_KERNEL' doesn't exist)\"\n",
      "../data/compare/a100/output_lz4_500mb_silesia.zip_8threads.h5\n",
      "Failed getting utilization of lz4 500mb_silesia.zip 8 threads: \"Unable to synchronously open object (object 'CUPTI_ACTIVITY_KIND_KERNEL' doesn't exist)\"\n",
      "../data/compare/a100/output_lz4_500mb_silesia.zip_32threads.h5\n",
      "Failed getting utilization of lz4 500mb_silesia.zip 32 threads: \"Unable to synchronously open object (object 'CUPTI_ACTIVITY_KIND_KERNEL' doesn't exist)\"\n",
      "../data/compare/a100/output_lz4_500mb_silesia.zip_128threads.h5\n",
      "Failed getting utilization of lz4 500mb_silesia.zip 128 threads: \"Unable to synchronously open object (object 'CUPTI_ACTIVITY_KIND_KERNEL' doesn't exist)\"\n",
      "../data/compare/a100/output_lz4_500mb_silesia.zip_512threads.h5\n",
      "Failed getting utilization of lz4 500mb_silesia.zip 512 threads: \"Unable to synchronously open object (object 'CUPTI_ACTIVITY_KIND_KERNEL' doesn't exist)\"\n",
      "../data/compare/a100/output_lz4_500mb_silesia.zip_2048threads.h5\n",
      "Failed getting utilization of lz4 500mb_silesia.zip 2048 threads: \"Unable to synchronously open object (object 'CUPTI_ACTIVITY_KIND_KERNEL' doesn't exist)\"\n",
      "../data/compare/a100/output_lz4_500mb_silesia.zip_8192threads.h5\n",
      "Failed getting utilization of lz4 500mb_silesia.zip 8192 threads: \"Unable to synchronously open object (object 'CUPTI_ACTIVITY_KIND_KERNEL' doesn't exist)\"\n",
      "../data/compare/a100/output_lz4_500mb_silesia.zip_32768threads.h5\n",
      "Failed getting utilization of lz4 500mb_silesia.zip 32768 threads: \"Unable to synchronously open object (object 'CUPTI_ACTIVITY_KIND_KERNEL' doesn't exist)\"\n",
      "../data/compare/a100/output_lz4_500mb_silesia.zip_131072threads.h5\n",
      "Failed getting utilization of lz4 500mb_silesia.zip 131072 threads: \"Unable to synchronously open object (object 'CUPTI_ACTIVITY_KIND_KERNEL' doesn't exist)\"\n",
      "../data/compare/a100/output_cascaded_500mb_silesia.zip_8threads.h5\n",
      "Failed getting utilization of cascaded 500mb_silesia.zip 8 threads: \"Unable to synchronously open object (object 'CUPTI_ACTIVITY_KIND_KERNEL' doesn't exist)\"\n",
      "../data/compare/a100/output_cascaded_500mb_silesia.zip_32threads.h5\n",
      "Failed getting utilization of cascaded 500mb_silesia.zip 32 threads: \"Unable to synchronously open object (object 'CUPTI_ACTIVITY_KIND_KERNEL' doesn't exist)\"\n",
      "../data/compare/a100/output_cascaded_500mb_silesia.zip_128threads.h5\n",
      "Failed getting utilization of cascaded 500mb_silesia.zip 128 threads: \"Unable to synchronously open object (object 'CUPTI_ACTIVITY_KIND_KERNEL' doesn't exist)\"\n",
      "../data/compare/a100/output_cascaded_500mb_silesia.zip_512threads.h5\n",
      "Failed getting utilization of cascaded 500mb_silesia.zip 512 threads: \"Unable to synchronously open object (object 'CUPTI_ACTIVITY_KIND_KERNEL' doesn't exist)\"\n",
      "../data/compare/a100/output_cascaded_500mb_silesia.zip_2048threads.h5\n",
      "Failed getting utilization of cascaded 500mb_silesia.zip 2048 threads: \"Unable to synchronously open object (object 'CUPTI_ACTIVITY_KIND_KERNEL' doesn't exist)\"\n",
      "../data/compare/a100/output_cascaded_500mb_silesia.zip_8192threads.h5\n",
      "Failed getting utilization of cascaded 500mb_silesia.zip 8192 threads: \"Unable to synchronously open object (object 'CUPTI_ACTIVITY_KIND_KERNEL' doesn't exist)\"\n",
      "../data/compare/a100/output_cascaded_500mb_silesia.zip_32768threads.h5\n",
      "Failed getting utilization of cascaded 500mb_silesia.zip 32768 threads: \"Unable to synchronously open object (object 'CUPTI_ACTIVITY_KIND_KERNEL' doesn't exist)\"\n",
      "../data/compare/a100/output_cascaded_500mb_silesia.zip_131072threads.h5\n",
      "Failed getting utilization of cascaded 500mb_silesia.zip 131072 threads: \"Unable to synchronously open object (object 'CUPTI_ACTIVITY_KIND_KERNEL' doesn't exist)\"\n",
      "../data/compare/a100/output_bitcomp_500mb_silesia.zip_8threads.h5\n",
      "Failed getting utilization of bitcomp 500mb_silesia.zip 8 threads: \"Unable to synchronously open object (object 'CUPTI_ACTIVITY_KIND_KERNEL' doesn't exist)\"\n",
      "../data/compare/a100/output_bitcomp_500mb_silesia.zip_32threads.h5\n",
      "Failed getting utilization of bitcomp 500mb_silesia.zip 32 threads: \"Unable to synchronously open object (object 'CUPTI_ACTIVITY_KIND_KERNEL' doesn't exist)\"\n",
      "../data/compare/a100/output_bitcomp_500mb_silesia.zip_128threads.h5\n",
      "Failed getting utilization of bitcomp 500mb_silesia.zip 128 threads: \"Unable to synchronously open object (object 'CUPTI_ACTIVITY_KIND_KERNEL' doesn't exist)\"\n",
      "../data/compare/a100/output_bitcomp_500mb_silesia.zip_512threads.h5\n",
      "Failed getting utilization of bitcomp 500mb_silesia.zip 512 threads: \"Unable to synchronously open object (object 'CUPTI_ACTIVITY_KIND_KERNEL' doesn't exist)\"\n",
      "../data/compare/a100/output_bitcomp_500mb_silesia.zip_2048threads.h5\n",
      "Failed getting utilization of bitcomp 500mb_silesia.zip 2048 threads: \"Unable to synchronously open object (object 'CUPTI_ACTIVITY_KIND_KERNEL' doesn't exist)\"\n",
      "../data/compare/a100/output_bitcomp_500mb_silesia.zip_8192threads.h5\n",
      "Failed getting utilization of bitcomp 500mb_silesia.zip 8192 threads: \"Unable to synchronously open object (object 'CUPTI_ACTIVITY_KIND_KERNEL' doesn't exist)\"\n",
      "../data/compare/a100/output_bitcomp_500mb_silesia.zip_32768threads.h5\n",
      "Failed getting utilization of bitcomp 500mb_silesia.zip 32768 threads: \"Unable to synchronously open object (object 'CUPTI_ACTIVITY_KIND_KERNEL' doesn't exist)\"\n",
      "../data/compare/a100/output_bitcomp_500mb_silesia.zip_131072threads.h5\n",
      "Failed getting utilization of bitcomp 500mb_silesia.zip 131072 threads: \"Unable to synchronously open object (object 'CUPTI_ACTIVITY_KIND_KERNEL' doesn't exist)\"\n",
      "../data/compare/a100/output_snappy_500mb_xml_8threads.h5\n",
      "../data/compare/a100/output_snappy_500mb_xml_32threads.h5\n",
      "../data/compare/a100/output_snappy_500mb_xml_128threads.h5\n",
      "../data/compare/a100/output_snappy_500mb_xml_512threads.h5\n",
      "../data/compare/a100/output_snappy_500mb_xml_2048threads.h5\n",
      "../data/compare/a100/output_snappy_500mb_xml_8192threads.h5\n",
      "../data/compare/a100/output_snappy_500mb_xml_32768threads.h5\n",
      "../data/compare/a100/output_snappy_500mb_xml_131072threads.h5\n",
      "../data/compare/a100/output_zstd_500mb_xml_8threads.h5\n",
      "../data/compare/a100/output_zstd_500mb_xml_32threads.h5\n",
      "../data/compare/a100/output_zstd_500mb_xml_128threads.h5\n",
      "../data/compare/a100/output_zstd_500mb_xml_512threads.h5\n",
      "../data/compare/a100/output_zstd_500mb_xml_2048threads.h5\n",
      "../data/compare/a100/output_zstd_500mb_xml_8192threads.h5\n",
      "../data/compare/a100/output_zstd_500mb_xml_32768threads.h5\n",
      "../data/compare/a100/output_zstd_500mb_xml_131072threads.h5\n",
      "../data/compare/a100/output_gdeflate_500mb_xml_8threads.h5\n",
      "Failed getting utilization of gdeflate 500mb_xml 8 threads: \"Unable to synchronously open object (object 'CUPTI_ACTIVITY_KIND_KERNEL' doesn't exist)\"\n",
      "../data/compare/a100/output_gdeflate_500mb_xml_32threads.h5\n",
      "Failed getting utilization of gdeflate 500mb_xml 32 threads: \"Unable to synchronously open object (object 'CUPTI_ACTIVITY_KIND_KERNEL' doesn't exist)\"\n",
      "../data/compare/a100/output_gdeflate_500mb_xml_128threads.h5\n",
      "Failed getting utilization of gdeflate 500mb_xml 128 threads: \"Unable to synchronously open object (object 'CUPTI_ACTIVITY_KIND_KERNEL' doesn't exist)\"\n",
      "../data/compare/a100/output_gdeflate_500mb_xml_512threads.h5\n",
      "Failed getting utilization of gdeflate 500mb_xml 512 threads: \"Unable to synchronously open object (object 'CUPTI_ACTIVITY_KIND_KERNEL' doesn't exist)\"\n",
      "../data/compare/a100/output_gdeflate_500mb_xml_2048threads.h5\n",
      "Failed getting utilization of gdeflate 500mb_xml 2048 threads: \"Unable to synchronously open object (object 'CUPTI_ACTIVITY_KIND_KERNEL' doesn't exist)\"\n",
      "../data/compare/a100/output_gdeflate_500mb_xml_8192threads.h5\n",
      "../data/compare/a100/output_gdeflate_500mb_xml_32768threads.h5\n",
      "../data/compare/a100/output_gdeflate_500mb_xml_131072threads.h5\n",
      "../data/compare/a100/output_lz4_500mb_xml_8threads.h5\n",
      "../data/compare/a100/output_lz4_500mb_xml_32threads.h5\n",
      "../data/compare/a100/output_lz4_500mb_xml_128threads.h5\n",
      "../data/compare/a100/output_lz4_500mb_xml_512threads.h5\n",
      "../data/compare/a100/output_lz4_500mb_xml_2048threads.h5\n",
      "../data/compare/a100/output_lz4_500mb_xml_8192threads.h5\n",
      "../data/compare/a100/output_lz4_500mb_xml_32768threads.h5\n",
      "../data/compare/a100/output_lz4_500mb_xml_131072threads.h5\n",
      "../data/compare/a100/output_cascaded_500mb_xml_8threads.h5\n",
      "../data/compare/a100/output_cascaded_500mb_xml_32threads.h5\n",
      "../data/compare/a100/output_cascaded_500mb_xml_128threads.h5\n",
      "../data/compare/a100/output_cascaded_500mb_xml_512threads.h5\n",
      "../data/compare/a100/output_cascaded_500mb_xml_2048threads.h5\n",
      "../data/compare/a100/output_cascaded_500mb_xml_8192threads.h5\n",
      "../data/compare/a100/output_cascaded_500mb_xml_32768threads.h5\n",
      "../data/compare/a100/output_cascaded_500mb_xml_131072threads.h5\n",
      "../data/compare/a100/output_bitcomp_500mb_xml_8threads.h5\n",
      "../data/compare/a100/output_bitcomp_500mb_xml_32threads.h5\n",
      "../data/compare/a100/output_bitcomp_500mb_xml_128threads.h5\n",
      "../data/compare/a100/output_bitcomp_500mb_xml_512threads.h5\n",
      "../data/compare/a100/output_bitcomp_500mb_xml_2048threads.h5\n",
      "../data/compare/a100/output_bitcomp_500mb_xml_8192threads.h5\n",
      "../data/compare/a100/output_bitcomp_500mb_xml_32768threads.h5\n",
      "../data/compare/a100/output_bitcomp_500mb_xml_131072threads.h5\n",
      "../data/compare/a100/output_snappy_500mb_lineitem.parquet_8threads.h5\n",
      "../data/compare/a100/output_snappy_500mb_lineitem.parquet_32threads.h5\n",
      "../data/compare/a100/output_snappy_500mb_lineitem.parquet_128threads.h5\n",
      "../data/compare/a100/output_snappy_500mb_lineitem.parquet_512threads.h5\n",
      "../data/compare/a100/output_snappy_500mb_lineitem.parquet_2048threads.h5\n",
      "../data/compare/a100/output_snappy_500mb_lineitem.parquet_8192threads.h5\n",
      "../data/compare/a100/output_snappy_500mb_lineitem.parquet_32768threads.h5\n",
      "../data/compare/a100/output_snappy_500mb_lineitem.parquet_131072threads.h5\n",
      "../data/compare/a100/output_zstd_500mb_lineitem.parquet_8threads.h5\n",
      "Failed getting utilization of zstd 500mb_lineitem.parquet 8 threads: \"Unable to synchronously open object (object 'CUPTI_ACTIVITY_KIND_KERNEL' doesn't exist)\"\n",
      "../data/compare/a100/output_zstd_500mb_lineitem.parquet_32threads.h5\n",
      "Failed getting utilization of zstd 500mb_lineitem.parquet 32 threads: \"Unable to synchronously open object (object 'CUPTI_ACTIVITY_KIND_KERNEL' doesn't exist)\"\n",
      "../data/compare/a100/output_zstd_500mb_lineitem.parquet_128threads.h5\n",
      "Failed getting utilization of zstd 500mb_lineitem.parquet 128 threads: \"Unable to synchronously open object (object 'CUPTI_ACTIVITY_KIND_KERNEL' doesn't exist)\"\n",
      "../data/compare/a100/output_zstd_500mb_lineitem.parquet_512threads.h5\n",
      "Failed getting utilization of zstd 500mb_lineitem.parquet 512 threads: \"Unable to synchronously open object (object 'CUPTI_ACTIVITY_KIND_KERNEL' doesn't exist)\"\n",
      "../data/compare/a100/output_zstd_500mb_lineitem.parquet_2048threads.h5\n",
      "Failed getting utilization of zstd 500mb_lineitem.parquet 2048 threads: \"Unable to synchronously open object (object 'CUPTI_ACTIVITY_KIND_KERNEL' doesn't exist)\"\n",
      "../data/compare/a100/output_zstd_500mb_lineitem.parquet_8192threads.h5\n",
      "Failed getting utilization of zstd 500mb_lineitem.parquet 8192 threads: \"Unable to synchronously open object (object 'CUPTI_ACTIVITY_KIND_KERNEL' doesn't exist)\"\n",
      "../data/compare/a100/output_zstd_500mb_lineitem.parquet_32768threads.h5\n",
      "Failed getting utilization of zstd 500mb_lineitem.parquet 32768 threads: 'compress'\n",
      "../data/compare/a100/output_zstd_500mb_lineitem.parquet_131072threads.h5\n",
      "Failed getting utilization of zstd 500mb_lineitem.parquet 131072 threads: 'compress'\n",
      "../data/compare/a100/output_gdeflate_500mb_lineitem.parquet_8threads.h5\n",
      "Failed getting utilization of gdeflate 500mb_lineitem.parquet 8 threads: \"Unable to synchronously open object (object 'CUPTI_ACTIVITY_KIND_KERNEL' doesn't exist)\"\n",
      "../data/compare/a100/output_gdeflate_500mb_lineitem.parquet_32threads.h5\n",
      "Failed getting utilization of gdeflate 500mb_lineitem.parquet 32 threads: \"Unable to synchronously open object (object 'CUPTI_ACTIVITY_KIND_KERNEL' doesn't exist)\"\n",
      "../data/compare/a100/output_gdeflate_500mb_lineitem.parquet_128threads.h5\n",
      "Failed getting utilization of gdeflate 500mb_lineitem.parquet 128 threads: \"Unable to synchronously open object (object 'CUPTI_ACTIVITY_KIND_KERNEL' doesn't exist)\"\n",
      "../data/compare/a100/output_gdeflate_500mb_lineitem.parquet_512threads.h5\n",
      "Failed getting utilization of gdeflate 500mb_lineitem.parquet 512 threads: \"Unable to synchronously open object (object 'CUPTI_ACTIVITY_KIND_KERNEL' doesn't exist)\"\n",
      "../data/compare/a100/output_gdeflate_500mb_lineitem.parquet_2048threads.h5\n",
      "Failed getting utilization of gdeflate 500mb_lineitem.parquet 2048 threads: \"Unable to synchronously open object (object 'CUPTI_ACTIVITY_KIND_KERNEL' doesn't exist)\"\n",
      "../data/compare/a100/output_gdeflate_500mb_lineitem.parquet_8192threads.h5\n",
      "../data/compare/a100/output_gdeflate_500mb_lineitem.parquet_32768threads.h5\n",
      "../data/compare/a100/output_gdeflate_500mb_lineitem.parquet_131072threads.h5\n",
      "../data/compare/a100/output_lz4_500mb_lineitem.parquet_8threads.h5\n",
      "Failed getting utilization of lz4 500mb_lineitem.parquet 8 threads: \"Unable to synchronously open object (object 'CUPTI_ACTIVITY_KIND_KERNEL' doesn't exist)\"\n",
      "../data/compare/a100/output_lz4_500mb_lineitem.parquet_32threads.h5\n",
      "../data/compare/a100/output_lz4_500mb_lineitem.parquet_128threads.h5\n",
      "../data/compare/a100/output_lz4_500mb_lineitem.parquet_512threads.h5\n",
      "../data/compare/a100/output_lz4_500mb_lineitem.parquet_2048threads.h5\n",
      "../data/compare/a100/output_lz4_500mb_lineitem.parquet_8192threads.h5\n",
      "../data/compare/a100/output_lz4_500mb_lineitem.parquet_32768threads.h5\n",
      "../data/compare/a100/output_lz4_500mb_lineitem.parquet_131072threads.h5\n",
      "../data/compare/a100/output_cascaded_500mb_lineitem.parquet_8threads.h5\n",
      "Failed getting utilization of cascaded 500mb_lineitem.parquet 8 threads: \"Unable to synchronously open object (object 'CUPTI_ACTIVITY_KIND_KERNEL' doesn't exist)\"\n",
      "../data/compare/a100/output_cascaded_500mb_lineitem.parquet_32threads.h5\n",
      "Failed getting utilization of cascaded 500mb_lineitem.parquet 32 threads: \"Unable to synchronously open object (object 'CUPTI_ACTIVITY_KIND_KERNEL' doesn't exist)\"\n",
      "../data/compare/a100/output_cascaded_500mb_lineitem.parquet_128threads.h5\n",
      "Failed getting utilization of cascaded 500mb_lineitem.parquet 128 threads: \"Unable to synchronously open object (object 'CUPTI_ACTIVITY_KIND_KERNEL' doesn't exist)\"\n",
      "../data/compare/a100/output_cascaded_500mb_lineitem.parquet_512threads.h5\n",
      "Failed getting utilization of cascaded 500mb_lineitem.parquet 512 threads: \"Unable to synchronously open object (object 'CUPTI_ACTIVITY_KIND_KERNEL' doesn't exist)\"\n",
      "../data/compare/a100/output_cascaded_500mb_lineitem.parquet_2048threads.h5\n",
      "Failed getting utilization of cascaded 500mb_lineitem.parquet 2048 threads: \"Unable to synchronously open object (object 'CUPTI_ACTIVITY_KIND_KERNEL' doesn't exist)\"\n",
      "../data/compare/a100/output_cascaded_500mb_lineitem.parquet_8192threads.h5\n",
      "Failed getting utilization of cascaded 500mb_lineitem.parquet 8192 threads: \"Unable to synchronously open object (object 'CUPTI_ACTIVITY_KIND_KERNEL' doesn't exist)\"\n",
      "../data/compare/a100/output_cascaded_500mb_lineitem.parquet_32768threads.h5\n",
      "Failed getting utilization of cascaded 500mb_lineitem.parquet 32768 threads: \"Unable to synchronously open object (object 'CUPTI_ACTIVITY_KIND_KERNEL' doesn't exist)\"\n",
      "../data/compare/a100/output_cascaded_500mb_lineitem.parquet_131072threads.h5\n",
      "Failed getting utilization of cascaded 500mb_lineitem.parquet 131072 threads: \"Unable to synchronously open object (object 'CUPTI_ACTIVITY_KIND_KERNEL' doesn't exist)\"\n",
      "../data/compare/a100/output_bitcomp_500mb_lineitem.parquet_8threads.h5\n",
      "../data/compare/a100/output_bitcomp_500mb_lineitem.parquet_32threads.h5\n",
      "../data/compare/a100/output_bitcomp_500mb_lineitem.parquet_128threads.h5\n",
      "../data/compare/a100/output_bitcomp_500mb_lineitem.parquet_512threads.h5\n",
      "../data/compare/a100/output_bitcomp_500mb_lineitem.parquet_2048threads.h5\n",
      "../data/compare/a100/output_bitcomp_500mb_lineitem.parquet_8192threads.h5\n",
      "../data/compare/a100/output_bitcomp_500mb_lineitem.parquet_32768threads.h5\n",
      "../data/compare/a100/output_bitcomp_500mb_lineitem.parquet_131072threads.h5\n",
      "    standard  chunk_size           file  compression_utilization  \\\n",
      "34   bitcomp        4000  500mb_dickens                14.619976   \n",
      "33   bitcomp       16000  500mb_dickens                21.855375   \n",
      "32   bitcomp       64000  500mb_dickens                28.671123   \n",
      "31   bitcomp      256000  500mb_dickens                53.929614   \n",
      "30   bitcomp     1024000  500mb_dickens                38.889987   \n",
      "..       ...         ...            ...                      ...   \n",
      "248     zstd      256000      500mb_xml                 0.996027   \n",
      "247     zstd     1024000      500mb_xml                 0.997776   \n",
      "246     zstd     4096000      500mb_xml                 0.999960   \n",
      "245     zstd    16384000      500mb_xml                 0.999971   \n",
      "244     zstd    65536000      500mb_xml                 0.999971   \n",
      "\n",
      "     decompression_utilization        gpu  \n",
      "34                   33.199071       A100  \n",
      "33                   23.767711       A100  \n",
      "32                   27.416810       A100  \n",
      "31                   48.882424       A100  \n",
      "30                   34.568480       A100  \n",
      "..                         ...        ...  \n",
      "248                   0.999858  RTX3050TI  \n",
      "247                   0.999872  RTX3050TI  \n",
      "246                   0.999863  RTX3050TI  \n",
      "245                   0.999994  RTX3050TI  \n",
      "244                   0.999902  RTX3050TI  \n",
      "\n",
      "[892 rows x 6 columns]\n"
     ]
    }
   ],
   "source": [
    "compressors = ['snappy', 'zstd', 'gdeflate', 'lz4', 'cascaded', 'bitcomp']\n",
    "compression_files = ['500mb_dickens', '500mb_mozilla', '500mb_mr', '500mb_nci', '500mb_samba', '500mb_sao', '500mb_silesia.zip', '500mb_xml', '500mb_lineitem.parquet']\n",
    "approx_number_of_threads = [8, 32, 128, 512, 2048, 8192, 32768, 131072]\n",
    "\n",
    "\n",
    "A100_utilisation_df = nsys_reader.NsysScanner(RTX3050TI_path, FILE_SIZE).get_utilisation_df(compression_files, compressors, approx_number_of_threads)\n",
    "RTX2080TI_utilisation_df = nsys_reader.NsysScanner(RTX2080TI_path, FILE_SIZE).get_utilisation_df(compression_files, compressors, approx_number_of_threads)\n",
    "RTX3050TI_utilisation_df = nsys_reader.NsysScanner(A100_path, FILE_SIZE).get_utilisation_df(compression_files, compressors, approx_number_of_threads)\n",
    "\n",
    "A100_utilisation_df['gpu'] = GPU_A100\n",
    "RTX2080TI_utilisation_df['gpu'] = GPU_RTX2080TI\n",
    "RTX3050TI_utilisation_df['gpu'] = GPU_RTX3050TI\n",
    "\n",
    "\n",
    "all_utilization_df = pd.concat([A100_utilisation_df, RTX2080TI_utilisation_df, RTX3050TI_utilisation_df])\n",
    "\n",
    "all_utilization_df = all_utilization_df.sort_values(['gpu', 'standard', 'file', 'chunk_size'])\n",
    "print(all_utilization_df)"
   ]
  },
  {
   "cell_type": "code",
   "execution_count": 58,
   "metadata": {},
   "outputs": [
    {
     "data": {
      "application/vnd.plotly.v1+json": {
       "config": {
        "plotlyServerURL": "https://plot.ly"
       },
       "data": [
        {
         "hovertemplate": "file=500mb_dickens<br>standard=bitcomp<br>gpu=A100<br>chunk_size=%{x}<br>compression_utilization=%{y}<extra></extra>",
         "legendgroup": "500mb_dickens",
         "line": {
          "color": "#636efa",
          "dash": "solid"
         },
         "marker": {
          "symbol": "circle"
         },
         "mode": "lines+markers",
         "name": "500mb_dickens",
         "orientation": "v",
         "showlegend": true,
         "type": "scatter",
         "x": [
          4000,
          16000,
          64000,
          256000,
          1024000,
          4096000,
          16384000,
          65536000
         ],
         "xaxis": "x16",
         "y": [
          14.619975927034574,
          21.855374847167152,
          28.67112257966169,
          53.929613806121225,
          38.88998724502265,
          10.010584680967519,
          3.9830978467608418,
          3.9883316684778762
         ],
         "yaxis": "y16"
        },
        {
         "hovertemplate": "file=500mb_dickens<br>standard=bitcomp<br>gpu=RTX2080TI<br>chunk_size=%{x}<br>compression_utilization=%{y}<extra></extra>",
         "legendgroup": "500mb_dickens",
         "line": {
          "color": "#636efa",
          "dash": "solid"
         },
         "marker": {
          "symbol": "circle"
         },
         "mode": "lines+markers",
         "name": "500mb_dickens",
         "orientation": "v",
         "showlegend": false,
         "type": "scatter",
         "x": [
          4000,
          16000,
          64000,
          256000,
          1024000,
          4096000,
          16384000,
          65536000
         ],
         "xaxis": "x17",
         "y": [
          12.11886306272963,
          6.71910743355137,
          13.308176338922594,
          4.053632656389565,
          0.9882292496386504,
          0.9970387742805682,
          0.9987913652559774,
          0.9987804557261275
         ],
         "yaxis": "y17"
        },
        {
         "hovertemplate": "file=500mb_dickens<br>standard=bitcomp<br>gpu=RTX3050TI<br>chunk_size=%{x}<br>compression_utilization=%{y}<extra></extra>",
         "legendgroup": "500mb_dickens",
         "line": {
          "color": "#636efa",
          "dash": "solid"
         },
         "marker": {
          "symbol": "circle"
         },
         "mode": "lines+markers",
         "name": "500mb_dickens",
         "orientation": "v",
         "showlegend": false,
         "type": "scatter",
         "x": [
          4000,
          16000,
          64000,
          256000,
          1024000,
          4096000,
          16384000,
          65536000
         ],
         "xaxis": "x18",
         "y": [
          7.506413731958221,
          10.093651874539846,
          8.607038665108973,
          3.9423928355190823,
          0.9939994297046235,
          0.9984872731860865,
          0.9993959765239766,
          0.9993670583567598
         ],
         "yaxis": "y18"
        },
        {
         "hovertemplate": "file=500mb_dickens<br>standard=gdeflate<br>gpu=A100<br>chunk_size=%{x}<br>compression_utilization=%{y}<extra></extra>",
         "legendgroup": "500mb_dickens",
         "line": {
          "color": "#636efa",
          "dash": "solid"
         },
         "marker": {
          "symbol": "circle"
         },
         "mode": "lines+markers",
         "name": "500mb_dickens",
         "orientation": "v",
         "showlegend": false,
         "type": "scatter",
         "x": [
          4000,
          16000,
          64000
         ],
         "xaxis": "x10",
         "y": [
          52.17383405226677,
          59.044946076487435,
          81.0281811042068
         ],
         "yaxis": "y10"
        },
        {
         "hovertemplate": "file=500mb_dickens<br>standard=gdeflate<br>gpu=RTX2080TI<br>chunk_size=%{x}<br>compression_utilization=%{y}<extra></extra>",
         "legendgroup": "500mb_dickens",
         "line": {
          "color": "#636efa",
          "dash": "solid"
         },
         "marker": {
          "symbol": "circle"
         },
         "mode": "lines+markers",
         "name": "500mb_dickens",
         "orientation": "v",
         "showlegend": false,
         "type": "scatter",
         "x": [
          4000,
          16000,
          64000
         ],
         "xaxis": "x11",
         "y": [
          30.880254017111262,
          19.20223508297439,
          6.530477241835298
         ],
         "yaxis": "y11"
        },
        {
         "hovertemplate": "file=500mb_dickens<br>standard=gdeflate<br>gpu=RTX3050TI<br>chunk_size=%{x}<br>compression_utilization=%{y}<extra></extra>",
         "legendgroup": "500mb_dickens",
         "line": {
          "color": "#636efa",
          "dash": "solid"
         },
         "marker": {
          "symbol": "circle"
         },
         "mode": "lines+markers",
         "name": "500mb_dickens",
         "orientation": "v",
         "showlegend": false,
         "type": "scatter",
         "x": [
          4000,
          16000,
          64000
         ],
         "xaxis": "x12",
         "y": [
          17.85121420620066,
          7.470341805272614,
          1.8975835392604554
         ],
         "yaxis": "y12"
        },
        {
         "hovertemplate": "file=500mb_dickens<br>standard=lz4<br>gpu=A100<br>chunk_size=%{x}<br>compression_utilization=%{y}<extra></extra>",
         "legendgroup": "500mb_dickens",
         "line": {
          "color": "#636efa",
          "dash": "solid"
         },
         "marker": {
          "symbol": "circle"
         },
         "mode": "lines+markers",
         "name": "500mb_dickens",
         "orientation": "v",
         "showlegend": false,
         "type": "scatter",
         "x": [
          4000,
          16000,
          64000,
          256000,
          1024000,
          4096000,
          16384000,
          65536000
         ],
         "xaxis": "x7",
         "y": [
          45.96153284031452,
          57.45454698345023,
          82.08888897777653,
          94.68683773160615,
          23.863506362398844,
          7.421904240610853,
          4.99918650236899,
          5
         ],
         "yaxis": "y7"
        },
        {
         "hovertemplate": "file=500mb_dickens<br>standard=lz4<br>gpu=RTX2080TI<br>chunk_size=%{x}<br>compression_utilization=%{y}<extra></extra>",
         "legendgroup": "500mb_dickens",
         "line": {
          "color": "#636efa",
          "dash": "solid"
         },
         "marker": {
          "symbol": "circle"
         },
         "mode": "lines+markers",
         "name": "500mb_dickens",
         "orientation": "v",
         "showlegend": false,
         "type": "scatter",
         "x": [
          4000,
          16000,
          64000,
          256000,
          1024000,
          4096000,
          16384000,
          65536000
         ],
         "xaxis": "x8",
         "y": [
          35.10637907071154,
          31.29581423670959,
          9.51470447651344,
          2.771206960993373,
          1,
          1,
          1,
          1
         ],
         "yaxis": "y8"
        },
        {
         "hovertemplate": "file=500mb_dickens<br>standard=lz4<br>gpu=RTX3050TI<br>chunk_size=%{x}<br>compression_utilization=%{y}<extra></extra>",
         "legendgroup": "500mb_dickens",
         "line": {
          "color": "#636efa",
          "dash": "solid"
         },
         "marker": {
          "symbol": "circle"
         },
         "mode": "lines+markers",
         "name": "500mb_dickens",
         "orientation": "v",
         "showlegend": false,
         "type": "scatter",
         "x": [
          4000,
          16000,
          64000,
          256000,
          1024000,
          4096000,
          16384000,
          65536000
         ],
         "xaxis": "x9",
         "y": [
          15.7568842427333,
          7.883989848306996,
          1.9567194009035784,
          1,
          0,
          1,
          1,
          1
         ],
         "yaxis": "y9"
        },
        {
         "hovertemplate": "file=500mb_dickens<br>standard=snappy<br>gpu=A100<br>chunk_size=%{x}<br>compression_utilization=%{y}<extra></extra>",
         "legendgroup": "500mb_dickens",
         "line": {
          "color": "#636efa",
          "dash": "solid"
         },
         "marker": {
          "symbol": "circle"
         },
         "mode": "lines+markers",
         "name": "500mb_dickens",
         "orientation": "v",
         "showlegend": false,
         "type": "scatter",
         "x": [
          4000,
          16000,
          64000,
          256000,
          1024000,
          4096000,
          16384000,
          65536000
         ],
         "xaxis": "x4",
         "y": [
          35.93650084755344,
          39.227277208418926,
          67.09935707194927,
          90.33241866002774,
          46.605675154755794,
          11.913051658312476,
          4.9989477339930595,
          4.999148213997008
         ],
         "yaxis": "y4"
        },
        {
         "hovertemplate": "file=500mb_dickens<br>standard=snappy<br>gpu=RTX2080TI<br>chunk_size=%{x}<br>compression_utilization=%{y}<extra></extra>",
         "legendgroup": "500mb_dickens",
         "line": {
          "color": "#636efa",
          "dash": "solid"
         },
         "marker": {
          "symbol": "circle"
         },
         "mode": "lines+markers",
         "name": "500mb_dickens",
         "orientation": "v",
         "showlegend": false,
         "type": "scatter",
         "x": [
          4000,
          16000,
          64000,
          256000,
          1024000,
          4096000,
          16384000,
          65536000
         ],
         "xaxis": "x5",
         "y": [
          42.962988075823645,
          35.27354650286646,
          11.01350328204337,
          2.896453985879533,
          1,
          1,
          1,
          1
         ],
         "yaxis": "y5"
        },
        {
         "hovertemplate": "file=500mb_dickens<br>standard=snappy<br>gpu=RTX3050TI<br>chunk_size=%{x}<br>compression_utilization=%{y}<extra></extra>",
         "legendgroup": "500mb_dickens",
         "line": {
          "color": "#636efa",
          "dash": "solid"
         },
         "marker": {
          "symbol": "circle"
         },
         "mode": "lines+markers",
         "name": "500mb_dickens",
         "orientation": "v",
         "showlegend": false,
         "type": "scatter",
         "x": [
          4000,
          16000,
          64000,
          256000,
          1024000,
          4096000,
          16384000,
          65536000
         ],
         "xaxis": "x6",
         "y": [
          49.53148608637113,
          15.40027323174332,
          4.592107155622175,
          1,
          1,
          1,
          1,
          1
         ],
         "yaxis": "y6"
        },
        {
         "hovertemplate": "file=500mb_dickens<br>standard=zstd<br>gpu=A100<br>chunk_size=%{x}<br>compression_utilization=%{y}<extra></extra>",
         "legendgroup": "500mb_dickens",
         "line": {
          "color": "#636efa",
          "dash": "solid"
         },
         "marker": {
          "symbol": "circle"
         },
         "mode": "lines+markers",
         "name": "500mb_dickens",
         "orientation": "v",
         "showlegend": false,
         "type": "scatter",
         "x": [
          4000,
          16000,
          64000,
          256000,
          1024000,
          4096000,
          16384000,
          65536000
         ],
         "xaxis": "x",
         "y": [
          65.37402390933248,
          64.0161750474651,
          76.69718872065624,
          85.47364486874973,
          46.56970905246814,
          13.829252714028476,
          4.998515008356818,
          4.998373735965197
         ],
         "yaxis": "y"
        },
        {
         "hovertemplate": "file=500mb_dickens<br>standard=zstd<br>gpu=RTX2080TI<br>chunk_size=%{x}<br>compression_utilization=%{y}<extra></extra>",
         "legendgroup": "500mb_dickens",
         "line": {
          "color": "#636efa",
          "dash": "solid"
         },
         "marker": {
          "symbol": "circle"
         },
         "mode": "lines+markers",
         "name": "500mb_dickens",
         "orientation": "v",
         "showlegend": false,
         "type": "scatter",
         "x": [
          4000,
          16000,
          64000,
          256000,
          1024000,
          4096000,
          16384000,
          65536000
         ],
         "xaxis": "x2",
         "y": [
          21.24142324356418,
          14.457074466765686,
          3.9500494602697924,
          2.630331989967938,
          0.9989471410709987,
          0.9999696251756912,
          0.9999897404926678,
          0.9999900848348572
         ],
         "yaxis": "y2"
        },
        {
         "hovertemplate": "file=500mb_dickens<br>standard=zstd<br>gpu=RTX3050TI<br>chunk_size=%{x}<br>compression_utilization=%{y}<extra></extra>",
         "legendgroup": "500mb_dickens",
         "line": {
          "color": "#636efa",
          "dash": "solid"
         },
         "marker": {
          "symbol": "circle"
         },
         "mode": "lines+markers",
         "name": "500mb_dickens",
         "orientation": "v",
         "showlegend": false,
         "type": "scatter",
         "x": [
          4000,
          16000,
          64000,
          256000,
          1024000,
          4096000,
          16384000,
          65536000
         ],
         "xaxis": "x3",
         "y": [
          24.27227695102149,
          10.10630485457199,
          2.832926654006606,
          1.8021453087466068,
          0.9985239773564485,
          0.9999758329190052,
          0.999992068638917,
          0.9999920661830579
         ],
         "yaxis": "y3"
        },
        {
         "hovertemplate": "file=500mb_mozilla<br>standard=bitcomp<br>gpu=A100<br>chunk_size=%{x}<br>compression_utilization=%{y}<extra></extra>",
         "legendgroup": "500mb_mozilla",
         "line": {
          "color": "#EF553B",
          "dash": "solid"
         },
         "marker": {
          "symbol": "circle"
         },
         "mode": "lines+markers",
         "name": "500mb_mozilla",
         "orientation": "v",
         "showlegend": true,
         "type": "scatter",
         "x": [
          4000,
          16000,
          64000,
          256000,
          1024000,
          4096000,
          16384000,
          65536000
         ],
         "xaxis": "x16",
         "y": [
          18.114568604719643,
          16.264903995511936,
          20.026892591410657,
          26.195314300445567,
          39.80778238221911,
          30.64249606352795,
          10.758353029137208,
          3.994140523284206
         ],
         "yaxis": "y16"
        },
        {
         "hovertemplate": "file=500mb_mozilla<br>standard=bitcomp<br>gpu=RTX2080TI<br>chunk_size=%{x}<br>compression_utilization=%{y}<extra></extra>",
         "legendgroup": "500mb_mozilla",
         "line": {
          "color": "#EF553B",
          "dash": "solid"
         },
         "marker": {
          "symbol": "circle"
         },
         "mode": "lines+markers",
         "name": "500mb_mozilla",
         "orientation": "v",
         "showlegend": false,
         "type": "scatter",
         "x": [
          4000,
          16000,
          64000,
          256000,
          1024000,
          4096000,
          16384000,
          65536000
         ],
         "xaxis": "x17",
         "y": [
          23.688720025961082,
          21.361691024971257,
          13.027577525503695,
          6.968036969727294,
          4.0382468619717535,
          1.4959403780339424,
          0.9988988327408737,
          0.9995623513860008
         ],
         "yaxis": "y17"
        },
        {
         "hovertemplate": "file=500mb_mozilla<br>standard=bitcomp<br>gpu=RTX3050TI<br>chunk_size=%{x}<br>compression_utilization=%{y}<extra></extra>",
         "legendgroup": "500mb_mozilla",
         "line": {
          "color": "#EF553B",
          "dash": "solid"
         },
         "marker": {
          "symbol": "circle"
         },
         "mode": "lines+markers",
         "name": "500mb_mozilla",
         "orientation": "v",
         "showlegend": false,
         "type": "scatter",
         "x": [
          4000,
          16000,
          64000,
          256000,
          1024000,
          4096000,
          16384000,
          65536000
         ],
         "xaxis": "x18",
         "y": [
          35.24091870305685,
          27.433038216018574,
          4.761569302804546,
          7.297415170653457,
          3.263401786952162,
          1.3203583099997132,
          0.9993276281342885,
          0.9997447560746988
         ],
         "yaxis": "y18"
        },
        {
         "hovertemplate": "file=500mb_mozilla<br>standard=cascaded<br>gpu=A100<br>chunk_size=%{x}<br>compression_utilization=%{y}<extra></extra>",
         "legendgroup": "500mb_mozilla",
         "line": {
          "color": "#EF553B",
          "dash": "solid"
         },
         "marker": {
          "symbol": "circle"
         },
         "mode": "lines+markers",
         "name": "500mb_mozilla",
         "orientation": "v",
         "showlegend": false,
         "type": "scatter",
         "x": [
          4000,
          16000,
          64000,
          256000,
          1024000,
          4096000,
          16384000,
          65536000
         ],
         "xaxis": "x13",
         "y": [
          40.0005127385711,
          40.12182268839324,
          43.74358413693283,
          50.912336636581955,
          70.24339837150589,
          37.05688544147838,
          7.048389755060665,
          5.0310304546736315
         ],
         "yaxis": "y13"
        },
        {
         "hovertemplate": "file=500mb_mozilla<br>standard=cascaded<br>gpu=RTX2080TI<br>chunk_size=%{x}<br>compression_utilization=%{y}<extra></extra>",
         "legendgroup": "500mb_mozilla",
         "line": {
          "color": "#EF553B",
          "dash": "solid"
         },
         "marker": {
          "symbol": "circle"
         },
         "mode": "lines+markers",
         "name": "500mb_mozilla",
         "orientation": "v",
         "showlegend": false,
         "type": "scatter",
         "x": [
          4000,
          16000,
          64000,
          256000,
          1024000,
          4096000,
          16384000,
          65536000
         ],
         "xaxis": "x14",
         "y": [
          14.219949544018112,
          16.77063442112498,
          19.016861729944317,
          12.987922567737202,
          3.8898248870391043,
          0.998980138801998,
          0.9997384247049528,
          0.9999005353048875
         ],
         "yaxis": "y14"
        },
        {
         "hovertemplate": "file=500mb_mozilla<br>standard=cascaded<br>gpu=RTX3050TI<br>chunk_size=%{x}<br>compression_utilization=%{y}<extra></extra>",
         "legendgroup": "500mb_mozilla",
         "line": {
          "color": "#EF553B",
          "dash": "solid"
         },
         "marker": {
          "symbol": "circle"
         },
         "mode": "lines+markers",
         "name": "500mb_mozilla",
         "orientation": "v",
         "showlegend": false,
         "type": "scatter",
         "x": [
          4000,
          16000,
          64000,
          256000,
          1024000,
          4096000,
          16384000,
          65536000
         ],
         "xaxis": "x15",
         "y": [
          18.279381951527764,
          16.201245146366297,
          12.988485925473713,
          5.618529881850045,
          2.0188851631451783,
          0.999240257779463,
          0.9997871561792837,
          0.9999377942594894
         ],
         "yaxis": "y15"
        },
        {
         "hovertemplate": "file=500mb_mozilla<br>standard=gdeflate<br>gpu=A100<br>chunk_size=%{x}<br>compression_utilization=%{y}<extra></extra>",
         "legendgroup": "500mb_mozilla",
         "line": {
          "color": "#EF553B",
          "dash": "solid"
         },
         "marker": {
          "symbol": "circle"
         },
         "mode": "lines+markers",
         "name": "500mb_mozilla",
         "orientation": "v",
         "showlegend": false,
         "type": "scatter",
         "x": [
          4000,
          16000,
          64000
         ],
         "xaxis": "x10",
         "y": [
          53.23323472246756,
          53.60955800075044,
          58.643696453170776
         ],
         "yaxis": "y10"
        },
        {
         "hovertemplate": "file=500mb_mozilla<br>standard=gdeflate<br>gpu=RTX2080TI<br>chunk_size=%{x}<br>compression_utilization=%{y}<extra></extra>",
         "legendgroup": "500mb_mozilla",
         "line": {
          "color": "#EF553B",
          "dash": "solid"
         },
         "marker": {
          "symbol": "circle"
         },
         "mode": "lines+markers",
         "name": "500mb_mozilla",
         "orientation": "v",
         "showlegend": false,
         "type": "scatter",
         "x": [
          4000,
          16000,
          64000
         ],
         "xaxis": "x11",
         "y": [
          54.69875921274345,
          39.01265745718298,
          20.400296997747084
         ],
         "yaxis": "y11"
        },
        {
         "hovertemplate": "file=500mb_mozilla<br>standard=gdeflate<br>gpu=RTX3050TI<br>chunk_size=%{x}<br>compression_utilization=%{y}<extra></extra>",
         "legendgroup": "500mb_mozilla",
         "line": {
          "color": "#EF553B",
          "dash": "solid"
         },
         "marker": {
          "symbol": "circle"
         },
         "mode": "lines+markers",
         "name": "500mb_mozilla",
         "orientation": "v",
         "showlegend": false,
         "type": "scatter",
         "x": [
          4000,
          16000,
          64000
         ],
         "xaxis": "x12",
         "y": [
          32.48660420162818,
          21.067107442906114,
          7.228935030180754
         ],
         "yaxis": "y12"
        },
        {
         "hovertemplate": "file=500mb_mozilla<br>standard=lz4<br>gpu=A100<br>chunk_size=%{x}<br>compression_utilization=%{y}<extra></extra>",
         "legendgroup": "500mb_mozilla",
         "line": {
          "color": "#EF553B",
          "dash": "solid"
         },
         "marker": {
          "symbol": "circle"
         },
         "mode": "lines+markers",
         "name": "500mb_mozilla",
         "orientation": "v",
         "showlegend": false,
         "type": "scatter",
         "x": [
          4000,
          16000,
          64000,
          256000,
          1024000,
          4096000,
          16384000
         ],
         "xaxis": "x7",
         "y": [
          46.0357153061081,
          46.61703866130398,
          53.71264441206565,
          75.62313639681255,
          91.54022057579996,
          30.05231321998382,
          9.961747646685762
         ],
         "yaxis": "y7"
        },
        {
         "hovertemplate": "file=500mb_mozilla<br>standard=lz4<br>gpu=RTX2080TI<br>chunk_size=%{x}<br>compression_utilization=%{y}<extra></extra>",
         "legendgroup": "500mb_mozilla",
         "line": {
          "color": "#EF553B",
          "dash": "solid"
         },
         "marker": {
          "symbol": "circle"
         },
         "mode": "lines+markers",
         "name": "500mb_mozilla",
         "orientation": "v",
         "showlegend": false,
         "type": "scatter",
         "x": [
          4000,
          16000,
          64000,
          256000,
          1024000,
          4096000,
          16384000
         ],
         "xaxis": "x8",
         "y": [
          61.90109827551204,
          50.09168563508342,
          27.606827809304818,
          9.202596080147082,
          2.810032307571606,
          1,
          1
         ],
         "yaxis": "y8"
        },
        {
         "hovertemplate": "file=500mb_mozilla<br>standard=lz4<br>gpu=RTX3050TI<br>chunk_size=%{x}<br>compression_utilization=%{y}<extra></extra>",
         "legendgroup": "500mb_mozilla",
         "line": {
          "color": "#EF553B",
          "dash": "solid"
         },
         "marker": {
          "symbol": "circle"
         },
         "mode": "lines+markers",
         "name": "500mb_mozilla",
         "orientation": "v",
         "showlegend": false,
         "type": "scatter",
         "x": [
          4000,
          16000,
          64000,
          256000,
          1024000,
          4096000,
          16384000
         ],
         "xaxis": "x9",
         "y": [
          32.34201691549217,
          24.631625815684473,
          7.519949371345388,
          2.479999486815263,
          1,
          1,
          1
         ],
         "yaxis": "y9"
        },
        {
         "hovertemplate": "file=500mb_mozilla<br>standard=snappy<br>gpu=A100<br>chunk_size=%{x}<br>compression_utilization=%{y}<extra></extra>",
         "legendgroup": "500mb_mozilla",
         "line": {
          "color": "#EF553B",
          "dash": "solid"
         },
         "marker": {
          "symbol": "circle"
         },
         "mode": "lines+markers",
         "name": "500mb_mozilla",
         "orientation": "v",
         "showlegend": false,
         "type": "scatter",
         "x": [
          4000,
          16000,
          64000,
          256000,
          1024000,
          4096000,
          16384000,
          65536000
         ],
         "xaxis": "x4",
         "y": [
          36.20588306573908,
          35.86036322613363,
          41.0776943974636,
          63.97596086510606,
          77.6540571341385,
          51.05878037847065,
          13.234155756138879,
          5.0019336969209505
         ],
         "yaxis": "y4"
        },
        {
         "hovertemplate": "file=500mb_mozilla<br>standard=snappy<br>gpu=RTX2080TI<br>chunk_size=%{x}<br>compression_utilization=%{y}<extra></extra>",
         "legendgroup": "500mb_mozilla",
         "line": {
          "color": "#EF553B",
          "dash": "solid"
         },
         "marker": {
          "symbol": "circle"
         },
         "mode": "lines+markers",
         "name": "500mb_mozilla",
         "orientation": "v",
         "showlegend": false,
         "type": "scatter",
         "x": [
          4000,
          16000,
          64000,
          256000,
          1024000,
          4096000,
          16384000,
          65536000
         ],
         "xaxis": "x5",
         "y": [
          52.14866174266943,
          45.164963329243214,
          33.01613179722545,
          10.480352299266944,
          3.073789244641145,
          1,
          1,
          1
         ],
         "yaxis": "y5"
        },
        {
         "hovertemplate": "file=500mb_mozilla<br>standard=snappy<br>gpu=RTX3050TI<br>chunk_size=%{x}<br>compression_utilization=%{y}<extra></extra>",
         "legendgroup": "500mb_mozilla",
         "line": {
          "color": "#EF553B",
          "dash": "solid"
         },
         "marker": {
          "symbol": "circle"
         },
         "mode": "lines+markers",
         "name": "500mb_mozilla",
         "orientation": "v",
         "showlegend": false,
         "type": "scatter",
         "x": [
          4000,
          16000,
          64000,
          256000,
          1024000,
          4096000,
          16384000,
          65536000
         ],
         "xaxis": "x6",
         "y": [
          72.26791888763209,
          46.58445252234841,
          14.342938826264161,
          3.962944525490785,
          1,
          1,
          1,
          1
         ],
         "yaxis": "y6"
        },
        {
         "hovertemplate": "file=500mb_mozilla<br>standard=zstd<br>gpu=A100<br>chunk_size=%{x}<br>compression_utilization=%{y}<extra></extra>",
         "legendgroup": "500mb_mozilla",
         "line": {
          "color": "#EF553B",
          "dash": "solid"
         },
         "marker": {
          "symbol": "circle"
         },
         "mode": "lines+markers",
         "name": "500mb_mozilla",
         "orientation": "v",
         "showlegend": false,
         "type": "scatter",
         "x": [
          4000,
          16000,
          64000,
          256000,
          1024000,
          4096000,
          16384000
         ],
         "xaxis": "x",
         "y": [
          67.65349448765141,
          63.39721967486812,
          57.75522234663565,
          59.64852712881267,
          79.35429745385204,
          56.08805547141017,
          15.972832591055907
         ],
         "yaxis": "y"
        },
        {
         "hovertemplate": "file=500mb_mozilla<br>standard=zstd<br>gpu=RTX2080TI<br>chunk_size=%{x}<br>compression_utilization=%{y}<extra></extra>",
         "legendgroup": "500mb_mozilla",
         "line": {
          "color": "#EF553B",
          "dash": "solid"
         },
         "marker": {
          "symbol": "circle"
         },
         "mode": "lines+markers",
         "name": "500mb_mozilla",
         "orientation": "v",
         "showlegend": false,
         "type": "scatter",
         "x": [
          4000,
          16000,
          64000,
          256000,
          1024000,
          4096000,
          16384000
         ],
         "xaxis": "x2",
         "y": [
          22.607106603486024,
          22.780615963105575,
          16.941879287443555,
          10.715399452153324,
          4.017232520184566,
          1.0772946811598278,
          0.999987326913543
         ],
         "yaxis": "y2"
        },
        {
         "hovertemplate": "file=500mb_mozilla<br>standard=zstd<br>gpu=RTX3050TI<br>chunk_size=%{x}<br>compression_utilization=%{y}<extra></extra>",
         "legendgroup": "500mb_mozilla",
         "line": {
          "color": "#EF553B",
          "dash": "solid"
         },
         "marker": {
          "symbol": "circle"
         },
         "mode": "lines+markers",
         "name": "500mb_mozilla",
         "orientation": "v",
         "showlegend": false,
         "type": "scatter",
         "x": [
          4000,
          16000,
          64000,
          256000,
          1024000,
          4096000,
          16384000
         ],
         "xaxis": "x3",
         "y": [
          32.33881452153298,
          28.103107709637044,
          10.545469786243121,
          4.603638373427721,
          1.456381428611008,
          0.9999688108942711,
          0.9999916142684904
         ],
         "yaxis": "y3"
        },
        {
         "hovertemplate": "file=500mb_mr<br>standard=bitcomp<br>gpu=A100<br>chunk_size=%{x}<br>compression_utilization=%{y}<extra></extra>",
         "legendgroup": "500mb_mr",
         "line": {
          "color": "#00cc96",
          "dash": "solid"
         },
         "marker": {
          "symbol": "circle"
         },
         "mode": "lines+markers",
         "name": "500mb_mr",
         "orientation": "v",
         "showlegend": true,
         "type": "scatter",
         "x": [
          4000,
          16000,
          64000,
          256000,
          1024000,
          4096000,
          16384000,
          65536000
         ],
         "xaxis": "x16",
         "y": [
          13.199161391068671,
          19.641306622234538,
          35.12266529630594,
          51.77037210242666,
          38.196864071362334,
          9.88423685131178,
          3.9893062917080413,
          3.989668732720153
         ],
         "yaxis": "y16"
        },
        {
         "hovertemplate": "file=500mb_mr<br>standard=bitcomp<br>gpu=RTX2080TI<br>chunk_size=%{x}<br>compression_utilization=%{y}<extra></extra>",
         "legendgroup": "500mb_mr",
         "line": {
          "color": "#00cc96",
          "dash": "solid"
         },
         "marker": {
          "symbol": "circle"
         },
         "mode": "lines+markers",
         "name": "500mb_mr",
         "orientation": "v",
         "showlegend": false,
         "type": "scatter",
         "x": [
          4000,
          16000,
          64000,
          256000,
          1024000,
          4096000,
          16384000,
          65536000
         ],
         "xaxis": "x17",
         "y": [
          19.906401611699614,
          3.3288984693861723,
          1.6717866851413343,
          4.316409996041859,
          1.8466990864330746,
          -1,
          0.9979895153179626,
          0.9983498665431674
         ],
         "yaxis": "y17"
        },
        {
         "hovertemplate": "file=500mb_mr<br>standard=bitcomp<br>gpu=RTX3050TI<br>chunk_size=%{x}<br>compression_utilization=%{y}<extra></extra>",
         "legendgroup": "500mb_mr",
         "line": {
          "color": "#00cc96",
          "dash": "solid"
         },
         "marker": {
          "symbol": "circle"
         },
         "mode": "lines+markers",
         "name": "500mb_mr",
         "orientation": "v",
         "showlegend": false,
         "type": "scatter",
         "x": [
          4000,
          16000,
          64000,
          256000,
          1024000,
          4096000,
          16384000,
          65536000
         ],
         "xaxis": "x18",
         "y": [
          1.4755028365136669,
          3.4149616368286444,
          8.898983199859511,
          2.4429268219751057,
          0.9904720372102207,
          0.9974045032057413,
          0.9989467935945429,
          0.998965780404212
         ],
         "yaxis": "y18"
        },
        {
         "hovertemplate": "file=500mb_mr<br>standard=cascaded<br>gpu=A100<br>chunk_size=%{x}<br>compression_utilization=%{y}<extra></extra>",
         "legendgroup": "500mb_mr",
         "line": {
          "color": "#00cc96",
          "dash": "solid"
         },
         "marker": {
          "symbol": "circle"
         },
         "mode": "lines+markers",
         "name": "500mb_mr",
         "orientation": "v",
         "showlegend": false,
         "type": "scatter",
         "x": [
          4000,
          16000,
          64000,
          256000,
          1024000,
          4096000,
          16384000,
          65536000
         ],
         "xaxis": "x13",
         "y": [
          33.851855412142584,
          44.23974775294252,
          45.56713908995895,
          77.11439572455276,
          42.99950438346981,
          11.103924147480491,
          5.028918747504118,
          5.013134506804124
         ],
         "yaxis": "y13"
        },
        {
         "hovertemplate": "file=500mb_mr<br>standard=cascaded<br>gpu=RTX2080TI<br>chunk_size=%{x}<br>compression_utilization=%{y}<extra></extra>",
         "legendgroup": "500mb_mr",
         "line": {
          "color": "#00cc96",
          "dash": "solid"
         },
         "marker": {
          "symbol": "circle"
         },
         "mode": "lines+markers",
         "name": "500mb_mr",
         "orientation": "v",
         "showlegend": false,
         "type": "scatter",
         "x": [
          4000,
          16000,
          64000,
          256000,
          1024000,
          4096000,
          16384000,
          65536000
         ],
         "xaxis": "x14",
         "y": [
          11.59929381555671,
          3.275089357521421,
          10.895156928551335,
          5.298800180797771,
          0.9955525907717835,
          0.9987817027608561,
          0.9995165998537019,
          0.9994905129513225
         ],
         "yaxis": "y14"
        },
        {
         "hovertemplate": "file=500mb_mr<br>standard=cascaded<br>gpu=RTX3050TI<br>chunk_size=%{x}<br>compression_utilization=%{y}<extra></extra>",
         "legendgroup": "500mb_mr",
         "line": {
          "color": "#00cc96",
          "dash": "solid"
         },
         "marker": {
          "symbol": "circle"
         },
         "mode": "lines+markers",
         "name": "500mb_mr",
         "orientation": "v",
         "showlegend": false,
         "type": "scatter",
         "x": [
          4000,
          16000,
          64000,
          256000,
          1024000,
          4096000,
          16384000,
          65536000
         ],
         "xaxis": "x15",
         "y": [
          9.651684799962016,
          1.74124044386637,
          4.352828403019004,
          1.8148639225953285,
          0.9967716867169683,
          0.9991568599232163,
          0.9996821172601438,
          0.9996679905140509
         ],
         "yaxis": "y15"
        },
        {
         "hovertemplate": "file=500mb_mr<br>standard=gdeflate<br>gpu=A100<br>chunk_size=%{x}<br>compression_utilization=%{y}<extra></extra>",
         "legendgroup": "500mb_mr",
         "line": {
          "color": "#00cc96",
          "dash": "solid"
         },
         "marker": {
          "symbol": "circle"
         },
         "mode": "lines+markers",
         "name": "500mb_mr",
         "orientation": "v",
         "showlegend": false,
         "type": "scatter",
         "x": [
          4000,
          16000,
          64000
         ],
         "xaxis": "x10",
         "y": [
          51.20170921730782,
          50.47407968832141,
          78.93414681734237
         ],
         "yaxis": "y10"
        },
        {
         "hovertemplate": "file=500mb_mr<br>standard=gdeflate<br>gpu=RTX2080TI<br>chunk_size=%{x}<br>compression_utilization=%{y}<extra></extra>",
         "legendgroup": "500mb_mr",
         "line": {
          "color": "#00cc96",
          "dash": "solid"
         },
         "marker": {
          "symbol": "circle"
         },
         "mode": "lines+markers",
         "name": "500mb_mr",
         "orientation": "v",
         "showlegend": false,
         "type": "scatter",
         "x": [
          4000,
          16000,
          64000
         ],
         "xaxis": "x11",
         "y": [
          30.225899578290544,
          20.359457815823305,
          6.291051828320235
         ],
         "yaxis": "y11"
        },
        {
         "hovertemplate": "file=500mb_mr<br>standard=gdeflate<br>gpu=RTX3050TI<br>chunk_size=%{x}<br>compression_utilization=%{y}<extra></extra>",
         "legendgroup": "500mb_mr",
         "line": {
          "color": "#00cc96",
          "dash": "solid"
         },
         "marker": {
          "symbol": "circle"
         },
         "mode": "lines+markers",
         "name": "500mb_mr",
         "orientation": "v",
         "showlegend": false,
         "type": "scatter",
         "x": [
          4000,
          16000,
          64000
         ],
         "xaxis": "x12",
         "y": [
          14.882310632680474,
          6.025008382602281,
          1.839226916077896
         ],
         "yaxis": "y12"
        },
        {
         "hovertemplate": "file=500mb_mr<br>standard=lz4<br>gpu=A100<br>chunk_size=%{x}<br>compression_utilization=%{y}<extra></extra>",
         "legendgroup": "500mb_mr",
         "line": {
          "color": "#00cc96",
          "dash": "solid"
         },
         "marker": {
          "symbol": "circle"
         },
         "mode": "lines+markers",
         "name": "500mb_mr",
         "orientation": "v",
         "showlegend": false,
         "type": "scatter",
         "x": [
          4000,
          16000,
          64000,
          256000,
          1024000,
          4096000,
          16384000,
          65536000
         ],
         "xaxis": "x7",
         "y": [
          43.14996355047384,
          46.24020012346299,
          75.92308795844971,
          89.23664050260165,
          22.200189777232637,
          6.974971910041073,
          4.999352331231317,
          4.999190415987975
         ],
         "yaxis": "y7"
        },
        {
         "hovertemplate": "file=500mb_mr<br>standard=lz4<br>gpu=RTX2080TI<br>chunk_size=%{x}<br>compression_utilization=%{y}<extra></extra>",
         "legendgroup": "500mb_mr",
         "line": {
          "color": "#00cc96",
          "dash": "solid"
         },
         "marker": {
          "symbol": "circle"
         },
         "mode": "lines+markers",
         "name": "500mb_mr",
         "orientation": "v",
         "showlegend": false,
         "type": "scatter",
         "x": [
          4000,
          16000,
          64000,
          256000,
          1024000,
          4096000,
          16384000,
          65536000
         ],
         "xaxis": "x8",
         "y": [
          15.49682950943973,
          16.076522009761625,
          6.518564630221656,
          1.7960499544466253,
          1,
          1,
          1,
          1
         ],
         "yaxis": "y8"
        },
        {
         "hovertemplate": "file=500mb_mr<br>standard=lz4<br>gpu=RTX3050TI<br>chunk_size=%{x}<br>compression_utilization=%{y}<extra></extra>",
         "legendgroup": "500mb_mr",
         "line": {
          "color": "#00cc96",
          "dash": "solid"
         },
         "marker": {
          "symbol": "circle"
         },
         "mode": "lines+markers",
         "name": "500mb_mr",
         "orientation": "v",
         "showlegend": false,
         "type": "scatter",
         "x": [
          4000,
          16000,
          64000,
          256000,
          1024000,
          4096000,
          16384000,
          65536000
         ],
         "xaxis": "x9",
         "y": [
          3.2538520430962725,
          4.266766217169598,
          1.6249940003917138,
          1,
          1,
          1,
          1,
          1
         ],
         "yaxis": "y9"
        },
        {
         "hovertemplate": "file=500mb_mr<br>standard=snappy<br>gpu=A100<br>chunk_size=%{x}<br>compression_utilization=%{y}<extra></extra>",
         "legendgroup": "500mb_mr",
         "line": {
          "color": "#00cc96",
          "dash": "solid"
         },
         "marker": {
          "symbol": "circle"
         },
         "mode": "lines+markers",
         "name": "500mb_mr",
         "orientation": "v",
         "showlegend": false,
         "type": "scatter",
         "x": [
          4000,
          16000,
          64000,
          256000,
          1024000,
          4096000,
          16384000,
          65536000
         ],
         "xaxis": "x4",
         "y": [
          36.285709438806265,
          42.1176479065699,
          70.58824012108171,
          75.14926667499634,
          43.534496409220566,
          11.34721536657528,
          5.000776187143457,
          5.000501028214641
         ],
         "yaxis": "y4"
        },
        {
         "hovertemplate": "file=500mb_mr<br>standard=snappy<br>gpu=RTX2080TI<br>chunk_size=%{x}<br>compression_utilization=%{y}<extra></extra>",
         "legendgroup": "500mb_mr",
         "line": {
          "color": "#00cc96",
          "dash": "solid"
         },
         "marker": {
          "symbol": "circle"
         },
         "mode": "lines+markers",
         "name": "500mb_mr",
         "orientation": "v",
         "showlegend": false,
         "type": "scatter",
         "x": [
          4000,
          16000,
          64000,
          256000,
          1024000,
          4096000,
          16384000,
          65536000
         ],
         "xaxis": "x5",
         "y": [
          35.743536396447546,
          24.31535702423659,
          8.073895109486173,
          2.2194686833952524,
          1,
          1,
          1,
          1
         ],
         "yaxis": "y5"
        },
        {
         "hovertemplate": "file=500mb_mr<br>standard=snappy<br>gpu=RTX3050TI<br>chunk_size=%{x}<br>compression_utilization=%{y}<extra></extra>",
         "legendgroup": "500mb_mr",
         "line": {
          "color": "#00cc96",
          "dash": "solid"
         },
         "marker": {
          "symbol": "circle"
         },
         "mode": "lines+markers",
         "name": "500mb_mr",
         "orientation": "v",
         "showlegend": false,
         "type": "scatter",
         "x": [
          4000,
          16000,
          64000,
          256000,
          1024000,
          4096000,
          16384000,
          65536000
         ],
         "xaxis": "x6",
         "y": [
          5.003049278735964,
          11.533969727272087,
          3.333830921845881,
          1,
          1,
          1,
          1,
          1
         ],
         "yaxis": "y6"
        },
        {
         "hovertemplate": "file=500mb_mr<br>standard=zstd<br>gpu=A100<br>chunk_size=%{x}<br>compression_utilization=%{y}<extra></extra>",
         "legendgroup": "500mb_mr",
         "line": {
          "color": "#00cc96",
          "dash": "solid"
         },
         "marker": {
          "symbol": "circle"
         },
         "mode": "lines+markers",
         "name": "500mb_mr",
         "orientation": "v",
         "showlegend": false,
         "type": "scatter",
         "x": [
          4000,
          16000,
          64000,
          256000,
          1024000,
          4096000,
          16384000,
          65536000
         ],
         "xaxis": "x",
         "y": [
          66.68231801057769,
          63.92013712620026,
          75.14641171304183,
          80.1980472394098,
          42.984328509092336,
          13.020860125456508,
          4.999334342772211,
          4.999139303711161
         ],
         "yaxis": "y"
        },
        {
         "hovertemplate": "file=500mb_mr<br>standard=zstd<br>gpu=RTX2080TI<br>chunk_size=%{x}<br>compression_utilization=%{y}<extra></extra>",
         "legendgroup": "500mb_mr",
         "line": {
          "color": "#00cc96",
          "dash": "solid"
         },
         "marker": {
          "symbol": "circle"
         },
         "mode": "lines+markers",
         "name": "500mb_mr",
         "orientation": "v",
         "showlegend": false,
         "type": "scatter",
         "x": [
          4000,
          16000,
          64000,
          256000,
          1024000,
          4096000,
          16384000,
          65536000
         ],
         "xaxis": "x2",
         "y": [
          19.462786392623393,
          13.445767565725001,
          3.872089991538889,
          2.653434541915371,
          0.9984449978552306,
          0.9999775211246433,
          0.9999853997073123,
          0.9999856204169771
         ],
         "yaxis": "y2"
        },
        {
         "hovertemplate": "file=500mb_mr<br>standard=zstd<br>gpu=RTX3050TI<br>chunk_size=%{x}<br>compression_utilization=%{y}<extra></extra>",
         "legendgroup": "500mb_mr",
         "line": {
          "color": "#00cc96",
          "dash": "solid"
         },
         "marker": {
          "symbol": "circle"
         },
         "mode": "lines+markers",
         "name": "500mb_mr",
         "orientation": "v",
         "showlegend": false,
         "type": "scatter",
         "x": [
          4000,
          16000,
          64000,
          256000,
          1024000,
          4096000,
          16384000,
          65536000
         ],
         "xaxis": "x3",
         "y": [
          19.343935721515408,
          7.643332784365538,
          2.4437319997406717,
          1.6207553806805675,
          0.9998941122767159,
          0.9999663000661922,
          0.9999881429477484,
          0.999987931562468
         ],
         "yaxis": "y3"
        },
        {
         "hovertemplate": "file=500mb_nci<br>standard=bitcomp<br>gpu=A100<br>chunk_size=%{x}<br>compression_utilization=%{y}<extra></extra>",
         "legendgroup": "500mb_nci",
         "line": {
          "color": "#ab63fa",
          "dash": "solid"
         },
         "marker": {
          "symbol": "circle"
         },
         "mode": "lines+markers",
         "name": "500mb_nci",
         "orientation": "v",
         "showlegend": true,
         "type": "scatter",
         "x": [
          4000,
          16000,
          64000,
          256000,
          1024000,
          4096000,
          16384000,
          65536000
         ],
         "xaxis": "x16",
         "y": [
          17.986267264533833,
          16.08847840926095,
          21.859944128275263,
          37.37948067662311,
          67.5478089846991,
          33.250542025307105,
          8.167099488547581,
          4.049357104980218
         ],
         "yaxis": "y16"
        },
        {
         "hovertemplate": "file=500mb_nci<br>standard=bitcomp<br>gpu=RTX2080TI<br>chunk_size=%{x}<br>compression_utilization=%{y}<extra></extra>",
         "legendgroup": "500mb_nci",
         "line": {
          "color": "#ab63fa",
          "dash": "solid"
         },
         "marker": {
          "symbol": "circle"
         },
         "mode": "lines+markers",
         "name": "500mb_nci",
         "orientation": "v",
         "showlegend": false,
         "type": "scatter",
         "x": [
          4000,
          16000,
          64000,
          256000,
          1024000,
          4096000,
          16384000,
          65536000
         ],
         "xaxis": "x17",
         "y": [
          31.426522286315986,
          21.996743398033196,
          16.166864176322946,
          22.86827493460058,
          7.554325987482148,
          1.973361460055422,
          3.0293025858691935,
          0.9996285488496497
         ],
         "yaxis": "y17"
        },
        {
         "hovertemplate": "file=500mb_nci<br>standard=bitcomp<br>gpu=RTX3050TI<br>chunk_size=%{x}<br>compression_utilization=%{y}<extra></extra>",
         "legendgroup": "500mb_nci",
         "line": {
          "color": "#ab63fa",
          "dash": "solid"
         },
         "marker": {
          "symbol": "circle"
         },
         "mode": "lines+markers",
         "name": "500mb_nci",
         "orientation": "v",
         "showlegend": false,
         "type": "scatter",
         "x": [
          4000,
          16000,
          64000,
          256000,
          1024000,
          4096000,
          16384000,
          65536000
         ],
         "xaxis": "x18",
         "y": [
          35.286968672420656,
          26.016332855087374,
          10.721227338347529,
          10.782801552555304,
          3.7471357280560635,
          0.9977303249767355,
          0.999463559387505,
          0.999741041265124
         ],
         "yaxis": "y18"
        },
        {
         "hovertemplate": "file=500mb_nci<br>standard=gdeflate<br>gpu=A100<br>chunk_size=%{x}<br>compression_utilization=%{y}<extra></extra>",
         "legendgroup": "500mb_nci",
         "line": {
          "color": "#ab63fa",
          "dash": "solid"
         },
         "marker": {
          "symbol": "circle"
         },
         "mode": "lines+markers",
         "name": "500mb_nci",
         "orientation": "v",
         "showlegend": false,
         "type": "scatter",
         "x": [
          4000,
          16000,
          64000
         ],
         "xaxis": "x10",
         "y": [
          52.39889146839198,
          54.16023579759852,
          44.207250893630494
         ],
         "yaxis": "y10"
        },
        {
         "hovertemplate": "file=500mb_nci<br>standard=gdeflate<br>gpu=RTX2080TI<br>chunk_size=%{x}<br>compression_utilization=%{y}<extra></extra>",
         "legendgroup": "500mb_nci",
         "line": {
          "color": "#ab63fa",
          "dash": "solid"
         },
         "marker": {
          "symbol": "circle"
         },
         "mode": "lines+markers",
         "name": "500mb_nci",
         "orientation": "v",
         "showlegend": false,
         "type": "scatter",
         "x": [
          4000,
          16000,
          64000
         ],
         "xaxis": "x11",
         "y": [
          45.657747752808646,
          24.110858689415032,
          16.08612632302887
         ],
         "yaxis": "y11"
        },
        {
         "hovertemplate": "file=500mb_nci<br>standard=gdeflate<br>gpu=RTX3050TI<br>chunk_size=%{x}<br>compression_utilization=%{y}<extra></extra>",
         "legendgroup": "500mb_nci",
         "line": {
          "color": "#ab63fa",
          "dash": "solid"
         },
         "marker": {
          "symbol": "circle"
         },
         "mode": "lines+markers",
         "name": "500mb_nci",
         "orientation": "v",
         "showlegend": false,
         "type": "scatter",
         "x": [
          4000,
          16000,
          64000
         ],
         "xaxis": "x12",
         "y": [
          29.597486951287124,
          19.330543329172123,
          5.990633224190717
         ],
         "yaxis": "y12"
        },
        {
         "hovertemplate": "file=500mb_nci<br>standard=lz4<br>gpu=A100<br>chunk_size=%{x}<br>compression_utilization=%{y}<extra></extra>",
         "legendgroup": "500mb_nci",
         "line": {
          "color": "#ab63fa",
          "dash": "solid"
         },
         "marker": {
          "symbol": "circle"
         },
         "mode": "lines+markers",
         "name": "500mb_nci",
         "orientation": "v",
         "showlegend": false,
         "type": "scatter",
         "x": [
          4000,
          16000,
          64000,
          256000,
          1024000,
          4096000,
          16384000
         ],
         "xaxis": "x7",
         "y": [
          45.15592197138649,
          47.16667211118968,
          50.93538258097515,
          81.11538802155484,
          76.02387939888705,
          19.618623924635784,
          5.256860264408555
         ],
         "yaxis": "y7"
        },
        {
         "hovertemplate": "file=500mb_nci<br>standard=lz4<br>gpu=RTX2080TI<br>chunk_size=%{x}<br>compression_utilization=%{y}<extra></extra>",
         "legendgroup": "500mb_nci",
         "line": {
          "color": "#ab63fa",
          "dash": "solid"
         },
         "marker": {
          "symbol": "circle"
         },
         "mode": "lines+markers",
         "name": "500mb_nci",
         "orientation": "v",
         "showlegend": false,
         "type": "scatter",
         "x": [
          4000,
          16000,
          64000,
          256000,
          1024000,
          4096000,
          16384000
         ],
         "xaxis": "x8",
         "y": [
          58.57935950209419,
          49.59372053995525,
          22.627277119172852,
          6.787487043285205,
          1.8717839451149887,
          1,
          1
         ],
         "yaxis": "y8"
        },
        {
         "hovertemplate": "file=500mb_nci<br>standard=lz4<br>gpu=RTX3050TI<br>chunk_size=%{x}<br>compression_utilization=%{y}<extra></extra>",
         "legendgroup": "500mb_nci",
         "line": {
          "color": "#ab63fa",
          "dash": "solid"
         },
         "marker": {
          "symbol": "circle"
         },
         "mode": "lines+markers",
         "name": "500mb_nci",
         "orientation": "v",
         "showlegend": false,
         "type": "scatter",
         "x": [
          4000,
          16000,
          64000,
          256000,
          1024000,
          4096000,
          16384000
         ],
         "xaxis": "x9",
         "y": [
          33.766715408086114,
          20.80915734437344,
          6.025021323007865,
          1.8108116529750382,
          1,
          1,
          1
         ],
         "yaxis": "y9"
        },
        {
         "hovertemplate": "file=500mb_nci<br>standard=snappy<br>gpu=A100<br>chunk_size=%{x}<br>compression_utilization=%{y}<extra></extra>",
         "legendgroup": "500mb_nci",
         "line": {
          "color": "#ab63fa",
          "dash": "solid"
         },
         "marker": {
          "symbol": "circle"
         },
         "mode": "lines+markers",
         "name": "500mb_nci",
         "orientation": "v",
         "showlegend": false,
         "type": "scatter",
         "x": [
          4000,
          16000,
          64000,
          256000,
          1024000,
          4096000,
          16384000,
          65536000
         ],
         "xaxis": "x4",
         "y": [
          36.459508017248496,
          38.290323683658826,
          45.60937574218434,
          69.49999824074888,
          81.96739270320722,
          36.52692692720086,
          10.190576351988398,
          5.004626553582499
         ],
         "yaxis": "y4"
        },
        {
         "hovertemplate": "file=500mb_nci<br>standard=snappy<br>gpu=RTX2080TI<br>chunk_size=%{x}<br>compression_utilization=%{y}<extra></extra>",
         "legendgroup": "500mb_nci",
         "line": {
          "color": "#ab63fa",
          "dash": "solid"
         },
         "marker": {
          "symbol": "circle"
         },
         "mode": "lines+markers",
         "name": "500mb_nci",
         "orientation": "v",
         "showlegend": false,
         "type": "scatter",
         "x": [
          4000,
          16000,
          64000,
          256000,
          1024000,
          4096000,
          16384000,
          65536000
         ],
         "xaxis": "x5",
         "y": [
          51.1791126066814,
          43.560913297209105,
          27.887679930496894,
          9.298388579099385,
          2.6800037996559256,
          1,
          1,
          1
         ],
         "yaxis": "y5"
        },
        {
         "hovertemplate": "file=500mb_nci<br>standard=snappy<br>gpu=RTX3050TI<br>chunk_size=%{x}<br>compression_utilization=%{y}<extra></extra>",
         "legendgroup": "500mb_nci",
         "line": {
          "color": "#ab63fa",
          "dash": "solid"
         },
         "marker": {
          "symbol": "circle"
         },
         "mode": "lines+markers",
         "name": "500mb_nci",
         "orientation": "v",
         "showlegend": false,
         "type": "scatter",
         "x": [
          4000,
          16000,
          64000,
          256000,
          1024000,
          4096000,
          16384000,
          65536000
         ],
         "xaxis": "x6",
         "y": [
          64.90142265354085,
          34.99035088274603,
          11.125040419188494,
          3.357925395055264,
          1,
          1,
          1,
          1
         ],
         "yaxis": "y6"
        },
        {
         "hovertemplate": "file=500mb_nci<br>standard=zstd<br>gpu=A100<br>chunk_size=%{x}<br>compression_utilization=%{y}<extra></extra>",
         "legendgroup": "500mb_nci",
         "line": {
          "color": "#ab63fa",
          "dash": "solid"
         },
         "marker": {
          "symbol": "circle"
         },
         "mode": "lines+markers",
         "name": "500mb_nci",
         "orientation": "v",
         "showlegend": false,
         "type": "scatter",
         "x": [
          4000,
          16000,
          64000,
          256000,
          1024000,
          4096000,
          16384000
         ],
         "xaxis": "x",
         "y": [
          69.8182789336931,
          64.41692253448883,
          63.40379310926218,
          72.46300456009821,
          88.06214822533718,
          38.32055499300546,
          11.183531676290995
         ],
         "yaxis": "y"
        },
        {
         "hovertemplate": "file=500mb_nci<br>standard=zstd<br>gpu=RTX2080TI<br>chunk_size=%{x}<br>compression_utilization=%{y}<extra></extra>",
         "legendgroup": "500mb_nci",
         "line": {
          "color": "#ab63fa",
          "dash": "solid"
         },
         "marker": {
          "symbol": "circle"
         },
         "mode": "lines+markers",
         "name": "500mb_nci",
         "orientation": "v",
         "showlegend": false,
         "type": "scatter",
         "x": [
          4000,
          16000,
          64000,
          256000,
          1024000,
          4096000,
          16384000
         ],
         "xaxis": "x2",
         "y": [
          21.565394958935023,
          24.790152217421106,
          16.002553874838405,
          7.73908324246314,
          2.217538368138006,
          0.9999298203845376,
          0.9999815385828222
         ],
         "yaxis": "y2"
        },
        {
         "hovertemplate": "file=500mb_nci<br>standard=zstd<br>gpu=RTX3050TI<br>chunk_size=%{x}<br>compression_utilization=%{y}<extra></extra>",
         "legendgroup": "500mb_nci",
         "line": {
          "color": "#ab63fa",
          "dash": "solid"
         },
         "marker": {
          "symbol": "circle"
         },
         "mode": "lines+markers",
         "name": "500mb_nci",
         "orientation": "v",
         "showlegend": false,
         "type": "scatter",
         "x": [
          4000,
          16000,
          64000,
          256000,
          1024000,
          4096000,
          16384000
         ],
         "xaxis": "x3",
         "y": [
          26.79558305190026,
          22.673202094076814,
          7.447340348799523,
          3.1851705206855234,
          0.9938495849138532,
          0.9999585674230446,
          0.9999888847246279
         ],
         "yaxis": "y3"
        },
        {
         "hovertemplate": "file=500mb_samba<br>standard=bitcomp<br>gpu=A100<br>chunk_size=%{x}<br>compression_utilization=%{y}<extra></extra>",
         "legendgroup": "500mb_samba",
         "line": {
          "color": "#FFA15A",
          "dash": "solid"
         },
         "marker": {
          "symbol": "circle"
         },
         "mode": "lines+markers",
         "name": "500mb_samba",
         "orientation": "v",
         "showlegend": true,
         "type": "scatter",
         "x": [
          4000,
          16000,
          64000,
          256000,
          1024000,
          4096000,
          16384000,
          65536000
         ],
         "xaxis": "x16",
         "y": [
          17.469929581404262,
          17.02066275107218,
          20.80677175627445,
          33.760596886442265,
          57.281062038911344,
          18.624440200301546,
          4.967108304818266,
          3.990817195611549
         ],
         "yaxis": "y16"
        },
        {
         "hovertemplate": "file=500mb_samba<br>standard=bitcomp<br>gpu=RTX2080TI<br>chunk_size=%{x}<br>compression_utilization=%{y}<extra></extra>",
         "legendgroup": "500mb_samba",
         "line": {
          "color": "#FFA15A",
          "dash": "solid"
         },
         "marker": {
          "symbol": "circle"
         },
         "mode": "lines+markers",
         "name": "500mb_samba",
         "orientation": "v",
         "showlegend": false,
         "type": "scatter",
         "x": [
          4000,
          16000,
          64000,
          256000,
          1024000,
          4096000,
          16384000,
          65536000
         ],
         "xaxis": "x17",
         "y": [
          15.402661707474923,
          6.060358782448291,
          0.9017005813919343,
          5.381078811850626,
          2.248517134655752,
          0.9975575132377834,
          0.9991766386653667,
          0.9993530736009748
         ],
         "yaxis": "y17"
        },
        {
         "hovertemplate": "file=500mb_samba<br>standard=bitcomp<br>gpu=RTX3050TI<br>chunk_size=%{x}<br>compression_utilization=%{y}<extra></extra>",
         "legendgroup": "500mb_samba",
         "line": {
          "color": "#FFA15A",
          "dash": "solid"
         },
         "marker": {
          "symbol": "circle"
         },
         "mode": "lines+markers",
         "name": "500mb_samba",
         "orientation": "v",
         "showlegend": false,
         "type": "scatter",
         "x": [
          4000,
          16000,
          64000,
          256000,
          1024000,
          4096000,
          16384000,
          65536000
         ],
         "xaxis": "x18",
         "y": [
          19.779473559348716,
          1.3140816133407425,
          10.333242118356337,
          3.9429320075347922,
          1.5961157700078776,
          0.9984590149713732,
          -0.00020975162008056864,
          0.9996310262405663
         ],
         "yaxis": "y18"
        },
        {
         "hovertemplate": "file=500mb_samba<br>standard=cascaded<br>gpu=A100<br>chunk_size=%{x}<br>compression_utilization=%{y}<extra></extra>",
         "legendgroup": "500mb_samba",
         "line": {
          "color": "#FFA15A",
          "dash": "solid"
         },
         "marker": {
          "symbol": "circle"
         },
         "mode": "lines+markers",
         "name": "500mb_samba",
         "orientation": "v",
         "showlegend": false,
         "type": "scatter",
         "x": [
          4000,
          16000,
          64000,
          256000,
          1024000,
          4096000,
          16384000,
          65536000
         ],
         "xaxis": "x13",
         "y": [
          36.15381730532183,
          40.82943935617389,
          47.513999708326836,
          52.17676723266465,
          35.69408437340999,
          12.384513901705049,
          7.006419640791156,
          4.991444606799569
         ],
         "yaxis": "y13"
        },
        {
         "hovertemplate": "file=500mb_samba<br>standard=cascaded<br>gpu=RTX2080TI<br>chunk_size=%{x}<br>compression_utilization=%{y}<extra></extra>",
         "legendgroup": "500mb_samba",
         "line": {
          "color": "#FFA15A",
          "dash": "solid"
         },
         "marker": {
          "symbol": "circle"
         },
         "mode": "lines+markers",
         "name": "500mb_samba",
         "orientation": "v",
         "showlegend": false,
         "type": "scatter",
         "x": [
          4000,
          16000,
          64000,
          256000,
          1024000,
          4096000,
          16384000,
          65536000
         ],
         "xaxis": "x14",
         "y": [
          18.75838660335439,
          14.740223985420947,
          7.752960673165521,
          3.5423629299689745,
          -0.002107838000823481,
          0.9989237027013704,
          0.9992234026862814,
          0.9985956766288575
         ],
         "yaxis": "y14"
        },
        {
         "hovertemplate": "file=500mb_samba<br>standard=cascaded<br>gpu=RTX3050TI<br>chunk_size=%{x}<br>compression_utilization=%{y}<extra></extra>",
         "legendgroup": "500mb_samba",
         "line": {
          "color": "#FFA15A",
          "dash": "solid"
         },
         "marker": {
          "symbol": "circle"
         },
         "mode": "lines+markers",
         "name": "500mb_samba",
         "orientation": "v",
         "showlegend": false,
         "type": "scatter",
         "x": [
          4000,
          16000,
          64000,
          256000,
          1024000,
          4096000,
          16384000,
          65536000
         ],
         "xaxis": "x15",
         "y": [
          2.2801159111380733,
          14.587074048201632,
          3.621581494413085,
          1.3339512023348994,
          0.9966833824813275,
          0.9991684718853566,
          0.9993951028933387,
          0.9992840608286088
         ],
         "yaxis": "y15"
        },
        {
         "hovertemplate": "file=500mb_samba<br>standard=gdeflate<br>gpu=A100<br>chunk_size=%{x}<br>compression_utilization=%{y}<extra></extra>",
         "legendgroup": "500mb_samba",
         "line": {
          "color": "#FFA15A",
          "dash": "solid"
         },
         "marker": {
          "symbol": "circle"
         },
         "mode": "lines+markers",
         "name": "500mb_samba",
         "orientation": "v",
         "showlegend": false,
         "type": "scatter",
         "x": [
          4000,
          16000,
          64000
         ],
         "xaxis": "x10",
         "y": [
          53.51295611719987,
          54.387963083478446,
          54.73883902051098
         ],
         "yaxis": "y10"
        },
        {
         "hovertemplate": "file=500mb_samba<br>standard=gdeflate<br>gpu=RTX2080TI<br>chunk_size=%{x}<br>compression_utilization=%{y}<extra></extra>",
         "legendgroup": "500mb_samba",
         "line": {
          "color": "#FFA15A",
          "dash": "solid"
         },
         "marker": {
          "symbol": "circle"
         },
         "mode": "lines+markers",
         "name": "500mb_samba",
         "orientation": "v",
         "showlegend": false,
         "type": "scatter",
         "x": [
          4000,
          16000,
          64000
         ],
         "xaxis": "x11",
         "y": [
          44.16161151853526,
          25.481738051023015,
          9.207378485367325
         ],
         "yaxis": "y11"
        },
        {
         "hovertemplate": "file=500mb_samba<br>standard=gdeflate<br>gpu=RTX3050TI<br>chunk_size=%{x}<br>compression_utilization=%{y}<extra></extra>",
         "legendgroup": "500mb_samba",
         "line": {
          "color": "#FFA15A",
          "dash": "solid"
         },
         "marker": {
          "symbol": "circle"
         },
         "mode": "lines+markers",
         "name": "500mb_samba",
         "orientation": "v",
         "showlegend": false,
         "type": "scatter",
         "x": [
          4000,
          16000,
          64000
         ],
         "xaxis": "x12",
         "y": [
          23.28015036226209,
          9.261137890364797,
          3.2256321547407545
         ],
         "yaxis": "y12"
        },
        {
         "hovertemplate": "file=500mb_samba<br>standard=lz4<br>gpu=A100<br>chunk_size=%{x}<br>compression_utilization=%{y}<extra></extra>",
         "legendgroup": "500mb_samba",
         "line": {
          "color": "#FFA15A",
          "dash": "solid"
         },
         "marker": {
          "symbol": "circle"
         },
         "mode": "lines+markers",
         "name": "500mb_samba",
         "orientation": "v",
         "showlegend": false,
         "type": "scatter",
         "x": [
          4000,
          16000,
          64000,
          256000,
          1024000,
          4096000,
          16384000
         ],
         "xaxis": "x7",
         "y": [
          46.61462375071858,
          51.333340061755806,
          51.67181122256311,
          68.62138749640894,
          45.00010482915647,
          14.044822289926383,
          4.999890303559545
         ],
         "yaxis": "y7"
        },
        {
         "hovertemplate": "file=500mb_samba<br>standard=lz4<br>gpu=RTX2080TI<br>chunk_size=%{x}<br>compression_utilization=%{y}<extra></extra>",
         "legendgroup": "500mb_samba",
         "line": {
          "color": "#FFA15A",
          "dash": "solid"
         },
         "marker": {
          "symbol": "circle"
         },
         "mode": "lines+markers",
         "name": "500mb_samba",
         "orientation": "v",
         "showlegend": false,
         "type": "scatter",
         "x": [
          4000,
          16000,
          64000,
          256000,
          1024000,
          4096000,
          16384000
         ],
         "xaxis": "x8",
         "y": [
          47.94183593590145,
          29.854132563602317,
          10.262676547040154,
          3.42983480740929,
          1,
          1,
          1
         ],
         "yaxis": "y8"
        },
        {
         "hovertemplate": "file=500mb_samba<br>standard=lz4<br>gpu=RTX3050TI<br>chunk_size=%{x}<br>compression_utilization=%{y}<extra></extra>",
         "legendgroup": "500mb_samba",
         "line": {
          "color": "#FFA15A",
          "dash": "solid"
         },
         "marker": {
          "symbol": "circle"
         },
         "mode": "lines+markers",
         "name": "500mb_samba",
         "orientation": "v",
         "showlegend": false,
         "type": "scatter",
         "x": [
          4000,
          16000,
          64000,
          256000,
          1024000,
          4096000,
          16384000
         ],
         "xaxis": "x9",
         "y": [
          18.935123748477658,
          8.081576587704753,
          2.7241068409643905,
          1,
          1,
          1,
          1
         ],
         "yaxis": "y9"
        },
        {
         "hovertemplate": "file=500mb_samba<br>standard=snappy<br>gpu=A100<br>chunk_size=%{x}<br>compression_utilization=%{y}<extra></extra>",
         "legendgroup": "500mb_samba",
         "line": {
          "color": "#FFA15A",
          "dash": "solid"
         },
         "marker": {
          "symbol": "circle"
         },
         "mode": "lines+markers",
         "name": "500mb_samba",
         "orientation": "v",
         "showlegend": false,
         "type": "scatter",
         "x": [
          4000,
          16000,
          64000,
          256000,
          1024000,
          4096000,
          16384000,
          65536000
         ],
         "xaxis": "x4",
         "y": [
          35.84989678589034,
          39.002776432875734,
          46.386365237596756,
          63.25663659942687,
          67.19811109296715,
          20.349381299399532,
          6.6414971956022875,
          5.00236882381403
         ],
         "yaxis": "y4"
        },
        {
         "hovertemplate": "file=500mb_samba<br>standard=snappy<br>gpu=RTX2080TI<br>chunk_size=%{x}<br>compression_utilization=%{y}<extra></extra>",
         "legendgroup": "500mb_samba",
         "line": {
          "color": "#FFA15A",
          "dash": "solid"
         },
         "marker": {
          "symbol": "circle"
         },
         "mode": "lines+markers",
         "name": "500mb_samba",
         "orientation": "v",
         "showlegend": false,
         "type": "scatter",
         "x": [
          4000,
          16000,
          64000,
          256000,
          1024000,
          4096000,
          16384000,
          65536000
         ],
         "xaxis": "x5",
         "y": [
          46.728618173056354,
          32.47396953517445,
          12.980408850146482,
          56.24208760115674,
          1.4467604888749328,
          1,
          1,
          1
         ],
         "yaxis": "y5"
        },
        {
         "hovertemplate": "file=500mb_samba<br>standard=snappy<br>gpu=RTX3050TI<br>chunk_size=%{x}<br>compression_utilization=%{y}<extra></extra>",
         "legendgroup": "500mb_samba",
         "line": {
          "color": "#FFA15A",
          "dash": "solid"
         },
         "marker": {
          "symbol": "circle"
         },
         "mode": "lines+markers",
         "name": "500mb_samba",
         "orientation": "v",
         "showlegend": false,
         "type": "scatter",
         "x": [
          4000,
          16000,
          64000,
          256000,
          1024000,
          4096000,
          16384000,
          65536000
         ],
         "xaxis": "x6",
         "y": [
          46.39265802217203,
          17.953285510703722,
          5.145217339809933,
          1.522123930671996,
          0,
          1,
          0.9998813754027869,
          1
         ],
         "yaxis": "y6"
        },
        {
         "hovertemplate": "file=500mb_samba<br>standard=zstd<br>gpu=A100<br>chunk_size=%{x}<br>compression_utilization=%{y}<extra></extra>",
         "legendgroup": "500mb_samba",
         "line": {
          "color": "#FFA15A",
          "dash": "solid"
         },
         "marker": {
          "symbol": "circle"
         },
         "mode": "lines+markers",
         "name": "500mb_samba",
         "orientation": "v",
         "showlegend": false,
         "type": "scatter",
         "x": [
          4000,
          16000,
          64000,
          256000,
          1024000,
          4096000,
          16384000
         ],
         "xaxis": "x",
         "y": [
          67.64522338291785,
          62.051231219458245,
          61.10908425869536,
          67.0023916948447,
          73.70684358801253,
          22.63960437332543,
          6.933039877470099
         ],
         "yaxis": "y"
        },
        {
         "hovertemplate": "file=500mb_samba<br>standard=zstd<br>gpu=RTX2080TI<br>chunk_size=%{x}<br>compression_utilization=%{y}<extra></extra>",
         "legendgroup": "500mb_samba",
         "line": {
          "color": "#FFA15A",
          "dash": "solid"
         },
         "marker": {
          "symbol": "circle"
         },
         "mode": "lines+markers",
         "name": "500mb_samba",
         "orientation": "v",
         "showlegend": false,
         "type": "scatter",
         "x": [
          4000,
          16000,
          64000,
          256000,
          1024000,
          4096000,
          16384000
         ],
         "xaxis": "x2",
         "y": [
          19.71560006224547,
          18.759566565730687,
          8.029262731919626,
          4.799199519655387,
          1.7897251344348892,
          0.999946318452267,
          0.9999851278886969
         ],
         "yaxis": "y2"
        },
        {
         "hovertemplate": "file=500mb_samba<br>standard=zstd<br>gpu=RTX3050TI<br>chunk_size=%{x}<br>compression_utilization=%{y}<extra></extra>",
         "legendgroup": "500mb_samba",
         "line": {
          "color": "#FFA15A",
          "dash": "solid"
         },
         "marker": {
          "symbol": "circle"
         },
         "mode": "lines+markers",
         "name": "500mb_samba",
         "orientation": "v",
         "showlegend": false,
         "type": "scatter",
         "x": [
          4000,
          16000,
          64000,
          256000,
          1024000,
          4096000,
          16384000
         ],
         "xaxis": "x3",
         "y": [
          24.20372759097004,
          13.05462366943733,
          -0.007794029268088384,
          -0.0019741383706501406,
          0.9979526597241472,
          0.9999659764757325,
          0.9999898068012398
         ],
         "yaxis": "y3"
        },
        {
         "hovertemplate": "file=500mb_sao<br>standard=bitcomp<br>gpu=A100<br>chunk_size=%{x}<br>compression_utilization=%{y}<extra></extra>",
         "legendgroup": "500mb_sao",
         "line": {
          "color": "#19d3f3",
          "dash": "solid"
         },
         "marker": {
          "symbol": "circle"
         },
         "mode": "lines+markers",
         "name": "500mb_sao",
         "orientation": "v",
         "showlegend": true,
         "type": "scatter",
         "x": [
          4000,
          16000,
          64000,
          256000,
          1024000,
          4096000,
          16384000,
          65536000
         ],
         "xaxis": "x16",
         "y": [
          17.04600861143652,
          15.198974017022177,
          19.474510745955975,
          21.92209362209318,
          24.383122875544842,
          6.744942946569175,
          3.9606924223910576,
          3.9282335399900896
         ],
         "yaxis": "y16"
        },
        {
         "hovertemplate": "file=500mb_sao<br>standard=bitcomp<br>gpu=RTX2080TI<br>chunk_size=%{x}<br>compression_utilization=%{y}<extra></extra>",
         "legendgroup": "500mb_sao",
         "line": {
          "color": "#19d3f3",
          "dash": "solid"
         },
         "marker": {
          "symbol": "circle"
         },
         "mode": "lines+markers",
         "name": "500mb_sao",
         "orientation": "v",
         "showlegend": false,
         "type": "scatter",
         "x": [
          4000,
          16000,
          64000,
          256000,
          1024000,
          4096000,
          16384000,
          65536000
         ],
         "xaxis": "x17",
         "y": [
          11.587284920494326,
          2.0621545230467775,
          0.6752949086241673,
          1.3139639472397449,
          0.9500574147239067,
          0.9880597239135669,
          0.9927148977791548,
          0.992733477388991
         ],
         "yaxis": "y17"
        },
        {
         "hovertemplate": "file=500mb_sao<br>standard=bitcomp<br>gpu=RTX3050TI<br>chunk_size=%{x}<br>compression_utilization=%{y}<extra></extra>",
         "legendgroup": "500mb_sao",
         "line": {
          "color": "#19d3f3",
          "dash": "solid"
         },
         "marker": {
          "symbol": "circle"
         },
         "mode": "lines+markers",
         "name": "500mb_sao",
         "orientation": "v",
         "showlegend": false,
         "type": "scatter",
         "x": [
          4000,
          16000,
          64000,
          256000,
          1024000,
          4096000,
          16384000,
          65536000
         ],
         "xaxis": "x18",
         "y": [
          9.147488964055357,
          2.011627906976744,
          -0.9647526894180813,
          0.38109128345916266,
          0.967045463064362,
          0.987804292658491,
          0.9944323344151214,
          0.9944493602067452
         ],
         "yaxis": "y18"
        },
        {
         "hovertemplate": "file=500mb_sao<br>standard=cascaded<br>gpu=A100<br>chunk_size=%{x}<br>compression_utilization=%{y}<extra></extra>",
         "legendgroup": "500mb_sao",
         "line": {
          "color": "#19d3f3",
          "dash": "solid"
         },
         "marker": {
          "symbol": "circle"
         },
         "mode": "lines+markers",
         "name": "500mb_sao",
         "orientation": "v",
         "showlegend": false,
         "type": "scatter",
         "x": [
          4000,
          16000,
          64000,
          256000,
          1024000,
          4096000,
          16384000,
          65536000
         ],
         "xaxis": "x13",
         "y": [
          23.779178645447242,
          10.175332189279377,
          33.84226425588896,
          63.94446738732411,
          30.238433299978208,
          7.9166640917353215,
          4.910615231777082,
          4.971066982123299
         ],
         "yaxis": "y13"
        },
        {
         "hovertemplate": "file=500mb_sao<br>standard=cascaded<br>gpu=RTX2080TI<br>chunk_size=%{x}<br>compression_utilization=%{y}<extra></extra>",
         "legendgroup": "500mb_sao",
         "line": {
          "color": "#19d3f3",
          "dash": "solid"
         },
         "marker": {
          "symbol": "circle"
         },
         "mode": "lines+markers",
         "name": "500mb_sao",
         "orientation": "v",
         "showlegend": false,
         "type": "scatter",
         "x": [
          4000,
          16000,
          64000,
          256000,
          1024000,
          4096000,
          16384000,
          65536000
         ],
         "xaxis": "x14",
         "y": [
          0.39803035934270037,
          -0.2174690956408588,
          -0.134766656286809,
          0.9031038964981388,
          8.268176105883583,
          0.9927218041580435,
          0.9966025685471203,
          0.9958803392672166
         ],
         "yaxis": "y14"
        },
        {
         "hovertemplate": "file=500mb_sao<br>standard=cascaded<br>gpu=RTX3050TI<br>chunk_size=%{x}<br>compression_utilization=%{y}<extra></extra>",
         "legendgroup": "500mb_sao",
         "line": {
          "color": "#19d3f3",
          "dash": "solid"
         },
         "marker": {
          "symbol": "circle"
         },
         "mode": "lines+markers",
         "name": "500mb_sao",
         "orientation": "v",
         "showlegend": false,
         "type": "scatter",
         "x": [
          4000,
          16000,
          64000,
          256000,
          1024000,
          4096000,
          16384000,
          65536000
         ],
         "xaxis": "x15",
         "y": [
          0.4557427423119816,
          -1,
          -1,
          0.8937491533804173,
          0.9714528505109521,
          0.9909362974052036,
          0.9966138618892455,
          0.9966545627004543
         ],
         "yaxis": "y15"
        },
        {
         "hovertemplate": "file=500mb_sao<br>standard=gdeflate<br>gpu=A100<br>chunk_size=%{x}<br>compression_utilization=%{y}<extra></extra>",
         "legendgroup": "500mb_sao",
         "line": {
          "color": "#19d3f3",
          "dash": "solid"
         },
         "marker": {
          "symbol": "circle"
         },
         "mode": "lines+markers",
         "name": "500mb_sao",
         "orientation": "v",
         "showlegend": false,
         "type": "scatter",
         "x": [
          4000,
          16000,
          64000
         ],
         "xaxis": "x10",
         "y": [
          50.97125738976147,
          53.675656090332915,
          84.01951145360735
         ],
         "yaxis": "y10"
        },
        {
         "hovertemplate": "file=500mb_sao<br>standard=gdeflate<br>gpu=RTX2080TI<br>chunk_size=%{x}<br>compression_utilization=%{y}<extra></extra>",
         "legendgroup": "500mb_sao",
         "line": {
          "color": "#19d3f3",
          "dash": "solid"
         },
         "marker": {
          "symbol": "circle"
         },
         "mode": "lines+markers",
         "name": "500mb_sao",
         "orientation": "v",
         "showlegend": false,
         "type": "scatter",
         "x": [
          4000,
          16000,
          64000
         ],
         "xaxis": "x11",
         "y": [
          39.17049689702657,
          19.099527556054305,
          5.053840403512378
         ],
         "yaxis": "y11"
        },
        {
         "hovertemplate": "file=500mb_sao<br>standard=gdeflate<br>gpu=RTX3050TI<br>chunk_size=%{x}<br>compression_utilization=%{y}<extra></extra>",
         "legendgroup": "500mb_sao",
         "line": {
          "color": "#19d3f3",
          "dash": "solid"
         },
         "marker": {
          "symbol": "circle"
         },
         "mode": "lines+markers",
         "name": "500mb_sao",
         "orientation": "v",
         "showlegend": false,
         "type": "scatter",
         "x": [
          4000,
          16000,
          64000
         ],
         "xaxis": "x12",
         "y": [
          10.921321902709114,
          5.9793713517710465,
          1.9369000545396933
         ],
         "yaxis": "y12"
        },
        {
         "hovertemplate": "file=500mb_sao<br>standard=lz4<br>gpu=A100<br>chunk_size=%{x}<br>compression_utilization=%{y}<extra></extra>",
         "legendgroup": "500mb_sao",
         "line": {
          "color": "#19d3f3",
          "dash": "solid"
         },
         "marker": {
          "symbol": "circle"
         },
         "mode": "lines+markers",
         "name": "500mb_sao",
         "orientation": "v",
         "showlegend": false,
         "type": "scatter",
         "x": [
          4000,
          16000,
          64000,
          256000,
          1024000,
          4096000,
          16384000,
          65536000
         ],
         "xaxis": "x7",
         "y": [
          46.5,
          52.05555555555556,
          85.08159666518208,
          67.21657826827445,
          18.706735836444434,
          4.99734659119236,
          4.998093413079756,
          4.998660117808844
         ],
         "yaxis": "y7"
        },
        {
         "hovertemplate": "file=500mb_sao<br>standard=lz4<br>gpu=RTX2080TI<br>chunk_size=%{x}<br>compression_utilization=%{y}<extra></extra>",
         "legendgroup": "500mb_sao",
         "line": {
          "color": "#19d3f3",
          "dash": "solid"
         },
         "marker": {
          "symbol": "circle"
         },
         "mode": "lines+markers",
         "name": "500mb_sao",
         "orientation": "v",
         "showlegend": false,
         "type": "scatter",
         "x": [
          4000,
          16000,
          64000,
          256000,
          1024000,
          4096000,
          16384000,
          65536000
         ],
         "xaxis": "x8",
         "y": [
          10.5,
          22.512911862869736,
          6.561172712783788,
          1.9545459780677636,
          1,
          1,
          1,
          1
         ],
         "yaxis": "y8"
        },
        {
         "hovertemplate": "file=500mb_sao<br>standard=lz4<br>gpu=RTX3050TI<br>chunk_size=%{x}<br>compression_utilization=%{y}<extra></extra>",
         "legendgroup": "500mb_sao",
         "line": {
          "color": "#19d3f3",
          "dash": "solid"
         },
         "marker": {
          "symbol": "circle"
         },
         "mode": "lines+markers",
         "name": "500mb_sao",
         "orientation": "v",
         "showlegend": false,
         "type": "scatter",
         "x": [
          4000,
          16000,
          64000,
          256000,
          1024000,
          4096000,
          16384000,
          65536000
         ],
         "xaxis": "x9",
         "y": [
          9.5,
          6.000223007052464,
          1.9130367137270086,
          1,
          1,
          1,
          1,
          1
         ],
         "yaxis": "y9"
        },
        {
         "hovertemplate": "file=500mb_sao<br>standard=snappy<br>gpu=A100<br>chunk_size=%{x}<br>compression_utilization=%{y}<extra></extra>",
         "legendgroup": "500mb_sao",
         "line": {
          "color": "#19d3f3",
          "dash": "solid"
         },
         "marker": {
          "symbol": "circle"
         },
         "mode": "lines+markers",
         "name": "500mb_sao",
         "orientation": "v",
         "showlegend": false,
         "type": "scatter",
         "x": [
          4000,
          16000,
          64000,
          256000,
          1024000,
          4096000,
          16384000,
          65536000
         ],
         "xaxis": "x4",
         "y": [
          35.791679861067124,
          49.46636803245193,
          75.25000590275647,
          89.44604108561407,
          33.110684847437604,
          8.885368422727126,
          4.998638870220553,
          4.998702023154808
         ],
         "yaxis": "y4"
        },
        {
         "hovertemplate": "file=500mb_sao<br>standard=snappy<br>gpu=RTX2080TI<br>chunk_size=%{x}<br>compression_utilization=%{y}<extra></extra>",
         "legendgroup": "500mb_sao",
         "line": {
          "color": "#19d3f3",
          "dash": "solid"
         },
         "marker": {
          "symbol": "circle"
         },
         "mode": "lines+markers",
         "name": "500mb_sao",
         "orientation": "v",
         "showlegend": false,
         "type": "scatter",
         "x": [
          4000,
          16000,
          64000,
          256000,
          1024000,
          4096000,
          16384000,
          65536000
         ],
         "xaxis": "x5",
         "y": [
          36.09897770280182,
          25.315386619158872,
          7.401203368416967,
          1.9325984462674686,
          1,
          1,
          1,
          1
         ],
         "yaxis": "y5"
        },
        {
         "hovertemplate": "file=500mb_sao<br>standard=snappy<br>gpu=RTX3050TI<br>chunk_size=%{x}<br>compression_utilization=%{y}<extra></extra>",
         "legendgroup": "500mb_sao",
         "line": {
          "color": "#19d3f3",
          "dash": "solid"
         },
         "marker": {
          "symbol": "circle"
         },
         "mode": "lines+markers",
         "name": "500mb_sao",
         "orientation": "v",
         "showlegend": false,
         "type": "scatter",
         "x": [
          4000,
          16000,
          64000,
          256000,
          1024000,
          4096000,
          16384000,
          65536000
         ],
         "xaxis": "x6",
         "y": [
          17.289309474869277,
          10.333840383053015,
          2.807692950961996,
          1,
          1,
          0,
          1,
          1
         ],
         "yaxis": "y6"
        },
        {
         "hovertemplate": "file=500mb_sao<br>standard=zstd<br>gpu=A100<br>chunk_size=%{x}<br>compression_utilization=%{y}<extra></extra>",
         "legendgroup": "500mb_sao",
         "line": {
          "color": "#19d3f3",
          "dash": "solid"
         },
         "marker": {
          "symbol": "circle"
         },
         "mode": "lines+markers",
         "name": "500mb_sao",
         "orientation": "v",
         "showlegend": false,
         "type": "scatter",
         "x": [
          4000,
          16000,
          64000,
          256000,
          1024000,
          4096000,
          16384000,
          65536000
         ],
         "xaxis": "x",
         "y": [
          65.20341138873214,
          65.36766601128824,
          77.88095562002623,
          86.73480199022592,
          34.775018631774984,
          8.91652746270126,
          4.996371542095497,
          4.998036212461393
         ],
         "yaxis": "y"
        },
        {
         "hovertemplate": "file=500mb_sao<br>standard=zstd<br>gpu=RTX2080TI<br>chunk_size=%{x}<br>compression_utilization=%{y}<extra></extra>",
         "legendgroup": "500mb_sao",
         "line": {
          "color": "#19d3f3",
          "dash": "solid"
         },
         "marker": {
          "symbol": "circle"
         },
         "mode": "lines+markers",
         "name": "500mb_sao",
         "orientation": "v",
         "showlegend": false,
         "type": "scatter",
         "x": [
          4000,
          16000,
          64000,
          256000,
          1024000,
          4096000,
          16384000,
          65536000
         ],
         "xaxis": "x2",
         "y": [
          20.3380104200845,
          11.429922312351778,
          3.8142194899918618,
          2.155311414375969,
          0.9998408544154503,
          0.9999533398766383,
          0.9999768716359086,
          0.9999784025889055
         ],
         "yaxis": "y2"
        },
        {
         "hovertemplate": "file=500mb_sao<br>standard=zstd<br>gpu=RTX3050TI<br>chunk_size=%{x}<br>compression_utilization=%{y}<extra></extra>",
         "legendgroup": "500mb_sao",
         "line": {
          "color": "#19d3f3",
          "dash": "solid"
         },
         "marker": {
          "symbol": "circle"
         },
         "mode": "lines+markers",
         "name": "500mb_sao",
         "orientation": "v",
         "showlegend": false,
         "type": "scatter",
         "x": [
          4000,
          16000,
          64000,
          256000,
          1024000,
          4096000,
          16384000,
          65536000
         ],
         "xaxis": "x3",
         "y": [
          18.45159958537282,
          7.293450223596649,
          1.8850470463345292,
          0.9957089630761831,
          0.9998805679057117,
          0.999967153250494,
          0.9999820859842536,
          0.9999821006171818
         ],
         "yaxis": "y3"
        },
        {
         "hovertemplate": "file=500mb_xml<br>standard=bitcomp<br>gpu=A100<br>chunk_size=%{x}<br>compression_utilization=%{y}<extra></extra>",
         "legendgroup": "500mb_xml",
         "line": {
          "color": "#FF6692",
          "dash": "solid"
         },
         "marker": {
          "symbol": "circle"
         },
         "mode": "lines+markers",
         "name": "500mb_xml",
         "orientation": "v",
         "showlegend": true,
         "type": "scatter",
         "x": [
          4000,
          16000,
          64000,
          256000,
          1024000,
          4096000,
          16384000,
          65536000
         ],
         "xaxis": "x16",
         "y": [
          8.598707737339456,
          23.323043187497873,
          18.961314202903115,
          52.29279658337134,
          18.571334822355993,
          5.148390046891484,
          3.9687324944468885,
          3.997846884042306
         ],
         "yaxis": "y16"
        },
        {
         "hovertemplate": "file=500mb_xml<br>standard=bitcomp<br>gpu=RTX2080TI<br>chunk_size=%{x}<br>compression_utilization=%{y}<extra></extra>",
         "legendgroup": "500mb_xml",
         "line": {
          "color": "#FF6692",
          "dash": "solid"
         },
         "marker": {
          "symbol": "circle"
         },
         "mode": "lines+markers",
         "name": "500mb_xml",
         "orientation": "v",
         "showlegend": false,
         "type": "scatter",
         "x": [
          4000,
          16000,
          64000,
          256000,
          1024000,
          4096000,
          16384000,
          65536000
         ],
         "xaxis": "x17",
         "y": [
          2.4637146876700795,
          1.5935468026383495,
          6.012930738373227,
          1.8231761115166996,
          0.9913014878430602,
          0.9971243699324466,
          0.9978144743598196,
          0.9977990125039707
         ],
         "yaxis": "y17"
        },
        {
         "hovertemplate": "file=500mb_xml<br>standard=bitcomp<br>gpu=RTX3050TI<br>chunk_size=%{x}<br>compression_utilization=%{y}<extra></extra>",
         "legendgroup": "500mb_xml",
         "line": {
          "color": "#FF6692",
          "dash": "solid"
         },
         "marker": {
          "symbol": "circle"
         },
         "mode": "lines+markers",
         "name": "500mb_xml",
         "orientation": "v",
         "showlegend": false,
         "type": "scatter",
         "x": [
          4000,
          16000,
          64000,
          256000,
          1024000,
          4096000,
          16384000,
          65536000
         ],
         "xaxis": "x18",
         "y": [
          -1,
          1.2203514372662774,
          2.8458171826239957,
          1.6018594411758766,
          0.9949271431149123,
          0.9985885913529687,
          0.9989437018782537,
          0.9989437410998864
         ],
         "yaxis": "y18"
        },
        {
         "hovertemplate": "file=500mb_xml<br>standard=cascaded<br>gpu=A100<br>chunk_size=%{x}<br>compression_utilization=%{y}<extra></extra>",
         "legendgroup": "500mb_xml",
         "line": {
          "color": "#FF6692",
          "dash": "solid"
         },
         "marker": {
          "symbol": "circle"
         },
         "mode": "lines+markers",
         "name": "500mb_xml",
         "orientation": "v",
         "showlegend": false,
         "type": "scatter",
         "x": [
          4000,
          16000,
          64000,
          256000,
          1024000,
          4096000,
          16384000,
          65536000
         ],
         "xaxis": "x13",
         "y": [
          15.10073706494763,
          15.568052054685898,
          3.2976514171717133,
          12.266996088341994,
          20.267071837781508,
          6.083451193910824,
          4.883834205752439,
          4.902130957709675
         ],
         "yaxis": "y13"
        },
        {
         "hovertemplate": "file=500mb_xml<br>standard=cascaded<br>gpu=RTX2080TI<br>chunk_size=%{x}<br>compression_utilization=%{y}<extra></extra>",
         "legendgroup": "500mb_xml",
         "line": {
          "color": "#FF6692",
          "dash": "solid"
         },
         "marker": {
          "symbol": "circle"
         },
         "mode": "lines+markers",
         "name": "500mb_xml",
         "orientation": "v",
         "showlegend": false,
         "type": "scatter",
         "x": [
          4000,
          16000,
          64000,
          256000,
          1024000,
          4096000,
          16384000,
          65536000
         ],
         "xaxis": "x14",
         "y": [
          -1,
          0.798714053906,
          0.8770998160557548,
          1.228802607112551,
          5.316942750699093,
          -1,
          0.9953583470087402,
          0.9944478904446351
         ],
         "yaxis": "y14"
        },
        {
         "hovertemplate": "file=500mb_xml<br>standard=cascaded<br>gpu=RTX3050TI<br>chunk_size=%{x}<br>compression_utilization=%{y}<extra></extra>",
         "legendgroup": "500mb_xml",
         "line": {
          "color": "#FF6692",
          "dash": "solid"
         },
         "marker": {
          "symbol": "circle"
         },
         "mode": "lines+markers",
         "name": "500mb_xml",
         "orientation": "v",
         "showlegend": false,
         "type": "scatter",
         "x": [
          4000,
          16000,
          64000,
          256000,
          1024000,
          4096000,
          16384000,
          65536000
         ],
         "xaxis": "x15",
         "y": [
          -0.003842907037671567,
          -0.10205220481049565,
          0.8932170979475383,
          0.9853092550415801,
          0.9854373326291044,
          0.9910439116628742,
          0.9944603686261724,
          0.9944645964904675
         ],
         "yaxis": "y15"
        },
        {
         "hovertemplate": "file=500mb_xml<br>standard=gdeflate<br>gpu=A100<br>chunk_size=%{x}<br>compression_utilization=%{y}<extra></extra>",
         "legendgroup": "500mb_xml",
         "line": {
          "color": "#FF6692",
          "dash": "solid"
         },
         "marker": {
          "symbol": "circle"
         },
         "mode": "lines+markers",
         "name": "500mb_xml",
         "orientation": "v",
         "showlegend": false,
         "type": "scatter",
         "x": [
          4000,
          16000,
          64000
         ],
         "xaxis": "x10",
         "y": [
          55.60996313698229,
          62.14128882916804,
          62.869535261286224
         ],
         "yaxis": "y10"
        },
        {
         "hovertemplate": "file=500mb_xml<br>standard=gdeflate<br>gpu=RTX2080TI<br>chunk_size=%{x}<br>compression_utilization=%{y}<extra></extra>",
         "legendgroup": "500mb_xml",
         "line": {
          "color": "#FF6692",
          "dash": "solid"
         },
         "marker": {
          "symbol": "circle"
         },
         "mode": "lines+markers",
         "name": "500mb_xml",
         "orientation": "v",
         "showlegend": false,
         "type": "scatter",
         "x": [
          4000,
          16000,
          64000
         ],
         "xaxis": "x11",
         "y": [
          13.325536470350329,
          6.922235220071511,
          -1
         ],
         "yaxis": "y11"
        },
        {
         "hovertemplate": "file=500mb_xml<br>standard=gdeflate<br>gpu=RTX3050TI<br>chunk_size=%{x}<br>compression_utilization=%{y}<extra></extra>",
         "legendgroup": "500mb_xml",
         "line": {
          "color": "#FF6692",
          "dash": "solid"
         },
         "marker": {
          "symbol": "circle"
         },
         "mode": "lines+markers",
         "name": "500mb_xml",
         "orientation": "v",
         "showlegend": false,
         "type": "scatter",
         "x": [
          4000,
          16000,
          64000
         ],
         "xaxis": "x12",
         "y": [
          1.4743589684654532,
          2.3909052596258684,
          0.9983603073310995
         ],
         "yaxis": "y12"
        },
        {
         "hovertemplate": "file=500mb_xml<br>standard=lz4<br>gpu=A100<br>chunk_size=%{x}<br>compression_utilization=%{y}<extra></extra>",
         "legendgroup": "500mb_xml",
         "line": {
          "color": "#FF6692",
          "dash": "solid"
         },
         "marker": {
          "symbol": "circle"
         },
         "mode": "lines+markers",
         "name": "500mb_xml",
         "orientation": "v",
         "showlegend": false,
         "type": "scatter",
         "x": [
          4000,
          16000,
          64000,
          256000,
          1024000,
          4096000,
          16384000,
          65536000
         ],
         "xaxis": "x7",
         "y": [
          51.00001416661944,
          69.61110796297345,
          77.26915997545532,
          38.957515390523525,
          11.760814351338919,
          4.995531906780495,
          4.997731883723608,
          4.998887007958524
         ],
         "yaxis": "y7"
        },
        {
         "hovertemplate": "file=500mb_xml<br>standard=lz4<br>gpu=RTX2080TI<br>chunk_size=%{x}<br>compression_utilization=%{y}<extra></extra>",
         "legendgroup": "500mb_xml",
         "line": {
          "color": "#FF6692",
          "dash": "solid"
         },
         "marker": {
          "symbol": "circle"
         },
         "mode": "lines+markers",
         "name": "500mb_xml",
         "orientation": "v",
         "showlegend": false,
         "type": "scatter",
         "x": [
          4000,
          16000,
          64000,
          256000,
          1024000,
          4096000,
          16384000,
          65536000
         ],
         "xaxis": "x8",
         "y": [
          13.5,
          10.600079014141691,
          3.4235517738652876,
          11.470261889757296,
          1,
          1,
          1,
          1
         ],
         "yaxis": "y8"
        },
        {
         "hovertemplate": "file=500mb_xml<br>standard=lz4<br>gpu=RTX3050TI<br>chunk_size=%{x}<br>compression_utilization=%{y}<extra></extra>",
         "legendgroup": "500mb_xml",
         "line": {
          "color": "#FF6692",
          "dash": "solid"
         },
         "marker": {
          "symbol": "circle"
         },
         "mode": "lines+markers",
         "name": "500mb_xml",
         "orientation": "v",
         "showlegend": false,
         "type": "scatter",
         "x": [
          4000,
          16000,
          64000,
          256000,
          1024000,
          4096000,
          16384000,
          65536000
         ],
         "xaxis": "x9",
         "y": [
          3,
          2.6666584663011523,
          1,
          1,
          1,
          1,
          1,
          1
         ],
         "yaxis": "y9"
        },
        {
         "hovertemplate": "file=500mb_xml<br>standard=snappy<br>gpu=A100<br>chunk_size=%{x}<br>compression_utilization=%{y}<extra></extra>",
         "legendgroup": "500mb_xml",
         "line": {
          "color": "#FF6692",
          "dash": "solid"
         },
         "marker": {
          "symbol": "circle"
         },
         "mode": "lines+markers",
         "name": "500mb_xml",
         "orientation": "v",
         "showlegend": false,
         "type": "scatter",
         "x": [
          4000,
          16000,
          64000,
          256000,
          1024000,
          4096000,
          16384000,
          65536000
         ],
         "xaxis": "x4",
         "y": [
          38.874997499992574,
          54.563660015744375,
          69.742422410465,
          49.26016131997909,
          17.417127061063443,
          7.537600012160019,
          4.997012715714477,
          5.001005665449749
         ],
         "yaxis": "y4"
        },
        {
         "hovertemplate": "file=500mb_xml<br>standard=snappy<br>gpu=RTX2080TI<br>chunk_size=%{x}<br>compression_utilization=%{y}<extra></extra>",
         "legendgroup": "500mb_xml",
         "line": {
          "color": "#FF6692",
          "dash": "solid"
         },
         "marker": {
          "symbol": "circle"
         },
         "mode": "lines+markers",
         "name": "500mb_xml",
         "orientation": "v",
         "showlegend": false,
         "type": "scatter",
         "x": [
          4000,
          16000,
          64000,
          256000,
          1024000,
          4096000,
          16384000,
          65536000
         ],
         "xaxis": "x5",
         "y": [
          13.593853855538182,
          8.714293109584421,
          3.1892889328637724,
          1.2980760506412827,
          1,
          1,
          1,
          1
         ],
         "yaxis": "y5"
        },
        {
         "hovertemplate": "file=500mb_xml<br>standard=snappy<br>gpu=RTX3050TI<br>chunk_size=%{x}<br>compression_utilization=%{y}<extra></extra>",
         "legendgroup": "500mb_xml",
         "line": {
          "color": "#FF6692",
          "dash": "solid"
         },
         "marker": {
          "symbol": "circle"
         },
         "mode": "lines+markers",
         "name": "500mb_xml",
         "orientation": "v",
         "showlegend": false,
         "type": "scatter",
         "x": [
          4000,
          16000,
          64000,
          256000,
          1024000,
          4096000,
          16384000,
          65536000
         ],
         "xaxis": "x6",
         "y": [
          1,
          3.511926730936275,
          1.3138496091279692,
          1,
          1,
          1,
          1,
          1
         ],
         "yaxis": "y6"
        },
        {
         "hovertemplate": "file=500mb_xml<br>standard=zstd<br>gpu=A100<br>chunk_size=%{x}<br>compression_utilization=%{y}<extra></extra>",
         "legendgroup": "500mb_xml",
         "line": {
          "color": "#FF6692",
          "dash": "solid"
         },
         "marker": {
          "symbol": "circle"
         },
         "mode": "lines+markers",
         "name": "500mb_xml",
         "orientation": "v",
         "showlegend": false,
         "type": "scatter",
         "x": [
          4000,
          16000,
          64000,
          256000,
          1024000,
          4096000,
          16384000,
          65536000
         ],
         "xaxis": "x",
         "y": [
          65.05028730882287,
          65.32837394302037,
          74.88251128603088,
          65.1213649584455,
          21.532600637327103,
          6.919095680241324,
          4.99700452690193,
          4.994184223155086
         ],
         "yaxis": "y"
        },
        {
         "hovertemplate": "file=500mb_xml<br>standard=zstd<br>gpu=RTX2080TI<br>chunk_size=%{x}<br>compression_utilization=%{y}<extra></extra>",
         "legendgroup": "500mb_xml",
         "line": {
          "color": "#FF6692",
          "dash": "solid"
         },
         "marker": {
          "symbol": "circle"
         },
         "mode": "lines+markers",
         "name": "500mb_xml",
         "orientation": "v",
         "showlegend": false,
         "type": "scatter",
         "x": [
          4000,
          16000,
          64000,
          256000,
          1024000,
          4096000,
          16384000,
          65536000
         ],
         "xaxis": "x2",
         "y": [
          17.346474471710387,
          7.185494440125384,
          2.1547011658118493,
          1.4274984648114153,
          0.9998217365387,
          0.9999281914051188,
          0.9999509024272952,
          0.9999519372740409
         ],
         "yaxis": "y2"
        },
        {
         "hovertemplate": "file=500mb_xml<br>standard=zstd<br>gpu=RTX3050TI<br>chunk_size=%{x}<br>compression_utilization=%{y}<extra></extra>",
         "legendgroup": "500mb_xml",
         "line": {
          "color": "#FF6692",
          "dash": "solid"
         },
         "marker": {
          "symbol": "circle"
         },
         "mode": "lines+markers",
         "name": "500mb_xml",
         "orientation": "v",
         "showlegend": false,
         "type": "scatter",
         "x": [
          4000,
          16000,
          64000,
          256000,
          1024000,
          4096000,
          16384000,
          65536000
         ],
         "xaxis": "x3",
         "y": [
          11.589409900976992,
          3.5262203989872534,
          -0.007650436762812345,
          0.9960269163559682,
          0.9977757682308293,
          0.9999602332305721,
          0.9999714855346542,
          0.9999714776219573
         ],
         "yaxis": "y3"
        },
        {
         "hovertemplate": "file=500mb_silesia.zip<br>standard=bitcomp<br>gpu=RTX2080TI<br>chunk_size=%{x}<br>compression_utilization=%{y}<extra></extra>",
         "legendgroup": "500mb_silesia.zip",
         "line": {
          "color": "#B6E880",
          "dash": "solid"
         },
         "marker": {
          "symbol": "circle"
         },
         "mode": "lines+markers",
         "name": "500mb_silesia.zip",
         "orientation": "v",
         "showlegend": true,
         "type": "scatter",
         "x": [
          4000,
          16000,
          64000,
          256000,
          1024000,
          4096000,
          16384000,
          65536000
         ],
         "xaxis": "x17",
         "y": [
          18.017818512626057,
          10.884893168556886,
          7.659384213295667,
          3.8311169518086343,
          2.432123306964259,
          0.9903261524430388,
          0.99675717538279,
          0.9993105616510906
         ],
         "yaxis": "y17"
        },
        {
         "hovertemplate": "file=500mb_silesia.zip<br>standard=gdeflate<br>gpu=RTX2080TI<br>chunk_size=%{x}<br>compression_utilization=%{y}<extra></extra>",
         "legendgroup": "500mb_silesia.zip",
         "line": {
          "color": "#B6E880",
          "dash": "solid"
         },
         "marker": {
          "symbol": "circle"
         },
         "mode": "lines+markers",
         "name": "500mb_silesia.zip",
         "orientation": "v",
         "showlegend": false,
         "type": "scatter",
         "x": [
          4000,
          16000,
          64000
         ],
         "xaxis": "x11",
         "y": [
          65.41237565648069,
          58.13645770450182,
          43.31760039958763
         ],
         "yaxis": "y11"
        },
        {
         "hovertemplate": "file=500mb_silesia.zip<br>standard=lz4<br>gpu=RTX2080TI<br>chunk_size=%{x}<br>compression_utilization=%{y}<extra></extra>",
         "legendgroup": "500mb_silesia.zip",
         "line": {
          "color": "#B6E880",
          "dash": "solid"
         },
         "marker": {
          "symbol": "circle"
         },
         "mode": "lines+markers",
         "name": "500mb_silesia.zip",
         "orientation": "v",
         "showlegend": false,
         "type": "scatter",
         "x": [
          4000,
          16000,
          64000,
          256000,
          1024000,
          4096000,
          16384000
         ],
         "xaxis": "x8",
         "y": [
          14.686266440510503,
          4.815332804859326,
          2.6878332164515353,
          1.8235203493013847,
          1.0081957949766434,
          1,
          1
         ],
         "yaxis": "y8"
        },
        {
         "hovertemplate": "file=500mb_silesia.zip<br>standard=snappy<br>gpu=RTX2080TI<br>chunk_size=%{x}<br>compression_utilization=%{y}<extra></extra>",
         "legendgroup": "500mb_silesia.zip",
         "line": {
          "color": "#B6E880",
          "dash": "solid"
         },
         "marker": {
          "symbol": "circle"
         },
         "mode": "lines+markers",
         "name": "500mb_silesia.zip",
         "orientation": "v",
         "showlegend": false,
         "type": "scatter",
         "x": [
          4000,
          16000,
          64000,
          256000,
          1024000,
          4096000,
          16384000,
          65536000
         ],
         "xaxis": "x5",
         "y": [
          25.658981464501764,
          12.005479587220865,
          6.28939662250111,
          3.914817112426009,
          2.565218934694376,
          1,
          1,
          1
         ],
         "yaxis": "y5"
        },
        {
         "hovertemplate": "file=500mb_silesia.zip<br>standard=zstd<br>gpu=RTX2080TI<br>chunk_size=%{x}<br>compression_utilization=%{y}<extra></extra>",
         "legendgroup": "500mb_silesia.zip",
         "line": {
          "color": "#B6E880",
          "dash": "solid"
         },
         "marker": {
          "symbol": "circle"
         },
         "mode": "lines+markers",
         "name": "500mb_silesia.zip",
         "orientation": "v",
         "showlegend": false,
         "type": "scatter",
         "x": [
          4000,
          16000,
          64000
         ],
         "xaxis": "x2",
         "y": [
          8.21787268319446,
          10.095915019379095,
          4.481744791606007
         ],
         "yaxis": "y2"
        },
        {
         "hovertemplate": "file=500mb_lineitem.parquet<br>standard=bitcomp<br>gpu=RTX3050TI<br>chunk_size=%{x}<br>compression_utilization=%{y}<extra></extra>",
         "legendgroup": "500mb_lineitem.parquet",
         "line": {
          "color": "#FF97FF",
          "dash": "solid"
         },
         "marker": {
          "symbol": "circle"
         },
         "mode": "lines+markers",
         "name": "500mb_lineitem.parquet",
         "orientation": "v",
         "showlegend": true,
         "type": "scatter",
         "x": [
          4000,
          16000,
          64000,
          256000,
          1024000,
          4096000,
          16384000,
          65536000
         ],
         "xaxis": "x18",
         "y": [
          73.43380847213018,
          74.01917962686943,
          72.64828361694745,
          65.55056772766588,
          49.04643606860796,
          31.258768345003652,
          9.649027314128357,
          3.7515391145119623
         ],
         "yaxis": "y18"
        },
        {
         "hovertemplate": "file=500mb_lineitem.parquet<br>standard=gdeflate<br>gpu=RTX3050TI<br>chunk_size=%{x}<br>compression_utilization=%{y}<extra></extra>",
         "legendgroup": "500mb_lineitem.parquet",
         "line": {
          "color": "#FF97FF",
          "dash": "solid"
         },
         "marker": {
          "symbol": "circle"
         },
         "mode": "lines+markers",
         "name": "500mb_lineitem.parquet",
         "orientation": "v",
         "showlegend": false,
         "type": "scatter",
         "x": [
          4000,
          16000,
          64000
         ],
         "xaxis": "x12",
         "y": [
          42.85098992564784,
          42.55623650002254,
          41.14346569101348
         ],
         "yaxis": "y12"
        },
        {
         "hovertemplate": "file=500mb_lineitem.parquet<br>standard=lz4<br>gpu=RTX3050TI<br>chunk_size=%{x}<br>compression_utilization=%{y}<extra></extra>",
         "legendgroup": "500mb_lineitem.parquet",
         "line": {
          "color": "#FF97FF",
          "dash": "solid"
         },
         "marker": {
          "symbol": "circle"
         },
         "mode": "lines+markers",
         "name": "500mb_lineitem.parquet",
         "orientation": "v",
         "showlegend": false,
         "type": "scatter",
         "x": [
          4000,
          16000,
          64000,
          256000,
          1024000,
          4096000,
          16384000
         ],
         "xaxis": "x9",
         "y": [
          44.21888208424699,
          42.359008728311096,
          35.43871611814626,
          21.044971540106502,
          6.551059205071852,
          2.393602100790872,
          1.4411120544078189
         ],
         "yaxis": "y9"
        },
        {
         "hovertemplate": "file=500mb_lineitem.parquet<br>standard=snappy<br>gpu=RTX3050TI<br>chunk_size=%{x}<br>compression_utilization=%{y}<extra></extra>",
         "legendgroup": "500mb_lineitem.parquet",
         "line": {
          "color": "#FF97FF",
          "dash": "solid"
         },
         "marker": {
          "symbol": "circle"
         },
         "mode": "lines+markers",
         "name": "500mb_lineitem.parquet",
         "orientation": "v",
         "showlegend": false,
         "type": "scatter",
         "x": [
          4000,
          16000,
          64000,
          256000,
          1024000,
          4096000,
          16384000,
          65536000
         ],
         "xaxis": "x6",
         "y": [
          74.19711948023831,
          75.4434349722583,
          69.10374312075021,
          50.032356832717056,
          14.842983623896647,
          4.480037587033177,
          2.6353771665019163,
          1
         ],
         "yaxis": "y6"
        }
       ],
       "layout": {
        "annotations": [
         {
          "font": {},
          "showarrow": false,
          "text": "gpu=A100",
          "x": 0.14666666666666667,
          "xanchor": "center",
          "xref": "paper",
          "y": 1,
          "yanchor": "bottom",
          "yref": "paper"
         },
         {
          "font": {},
          "showarrow": false,
          "text": "gpu=RTX2080TI",
          "x": 0.49,
          "xanchor": "center",
          "xref": "paper",
          "y": 1,
          "yanchor": "bottom",
          "yref": "paper"
         },
         {
          "font": {},
          "showarrow": false,
          "text": "gpu=RTX3050TI",
          "x": 0.8333333333333333,
          "xanchor": "center",
          "xref": "paper",
          "y": 1,
          "yanchor": "bottom",
          "yref": "paper"
         },
         {
          "font": {},
          "showarrow": false,
          "text": "standard=zstd",
          "textangle": 90,
          "x": 0.98,
          "xanchor": "left",
          "xref": "paper",
          "y": 0.07083333333333333,
          "yanchor": "middle",
          "yref": "paper"
         },
         {
          "font": {},
          "showarrow": false,
          "text": "standard=snappy",
          "textangle": 90,
          "x": 0.98,
          "xanchor": "left",
          "xref": "paper",
          "y": 0.2425,
          "yanchor": "middle",
          "yref": "paper"
         },
         {
          "font": {},
          "showarrow": false,
          "text": "standard=lz4",
          "textangle": 90,
          "x": 0.98,
          "xanchor": "left",
          "xref": "paper",
          "y": 0.4141666666666667,
          "yanchor": "middle",
          "yref": "paper"
         },
         {
          "font": {},
          "showarrow": false,
          "text": "standard=gdeflate",
          "textangle": 90,
          "x": 0.98,
          "xanchor": "left",
          "xref": "paper",
          "y": 0.5858333333333334,
          "yanchor": "middle",
          "yref": "paper"
         },
         {
          "font": {},
          "showarrow": false,
          "text": "standard=cascaded",
          "textangle": 90,
          "x": 0.98,
          "xanchor": "left",
          "xref": "paper",
          "y": 0.7575000000000001,
          "yanchor": "middle",
          "yref": "paper"
         },
         {
          "font": {},
          "showarrow": false,
          "text": "standard=bitcomp",
          "textangle": 90,
          "x": 0.98,
          "xanchor": "left",
          "xref": "paper",
          "y": 0.9291666666666667,
          "yanchor": "middle",
          "yref": "paper"
         }
        ],
        "height": 1000,
        "legend": {
         "title": {
          "text": "file"
         },
         "tracegroupgap": 0
        },
        "template": {
         "data": {
          "bar": [
           {
            "error_x": {
             "color": "#2a3f5f"
            },
            "error_y": {
             "color": "#2a3f5f"
            },
            "marker": {
             "line": {
              "color": "#E5ECF6",
              "width": 0.5
             },
             "pattern": {
              "fillmode": "overlay",
              "size": 10,
              "solidity": 0.2
             }
            },
            "type": "bar"
           }
          ],
          "barpolar": [
           {
            "marker": {
             "line": {
              "color": "#E5ECF6",
              "width": 0.5
             },
             "pattern": {
              "fillmode": "overlay",
              "size": 10,
              "solidity": 0.2
             }
            },
            "type": "barpolar"
           }
          ],
          "carpet": [
           {
            "aaxis": {
             "endlinecolor": "#2a3f5f",
             "gridcolor": "white",
             "linecolor": "white",
             "minorgridcolor": "white",
             "startlinecolor": "#2a3f5f"
            },
            "baxis": {
             "endlinecolor": "#2a3f5f",
             "gridcolor": "white",
             "linecolor": "white",
             "minorgridcolor": "white",
             "startlinecolor": "#2a3f5f"
            },
            "type": "carpet"
           }
          ],
          "choropleth": [
           {
            "colorbar": {
             "outlinewidth": 0,
             "ticks": ""
            },
            "type": "choropleth"
           }
          ],
          "contour": [
           {
            "colorbar": {
             "outlinewidth": 0,
             "ticks": ""
            },
            "colorscale": [
             [
              0,
              "#0d0887"
             ],
             [
              0.1111111111111111,
              "#46039f"
             ],
             [
              0.2222222222222222,
              "#7201a8"
             ],
             [
              0.3333333333333333,
              "#9c179e"
             ],
             [
              0.4444444444444444,
              "#bd3786"
             ],
             [
              0.5555555555555556,
              "#d8576b"
             ],
             [
              0.6666666666666666,
              "#ed7953"
             ],
             [
              0.7777777777777778,
              "#fb9f3a"
             ],
             [
              0.8888888888888888,
              "#fdca26"
             ],
             [
              1,
              "#f0f921"
             ]
            ],
            "type": "contour"
           }
          ],
          "contourcarpet": [
           {
            "colorbar": {
             "outlinewidth": 0,
             "ticks": ""
            },
            "type": "contourcarpet"
           }
          ],
          "heatmap": [
           {
            "colorbar": {
             "outlinewidth": 0,
             "ticks": ""
            },
            "colorscale": [
             [
              0,
              "#0d0887"
             ],
             [
              0.1111111111111111,
              "#46039f"
             ],
             [
              0.2222222222222222,
              "#7201a8"
             ],
             [
              0.3333333333333333,
              "#9c179e"
             ],
             [
              0.4444444444444444,
              "#bd3786"
             ],
             [
              0.5555555555555556,
              "#d8576b"
             ],
             [
              0.6666666666666666,
              "#ed7953"
             ],
             [
              0.7777777777777778,
              "#fb9f3a"
             ],
             [
              0.8888888888888888,
              "#fdca26"
             ],
             [
              1,
              "#f0f921"
             ]
            ],
            "type": "heatmap"
           }
          ],
          "heatmapgl": [
           {
            "colorbar": {
             "outlinewidth": 0,
             "ticks": ""
            },
            "colorscale": [
             [
              0,
              "#0d0887"
             ],
             [
              0.1111111111111111,
              "#46039f"
             ],
             [
              0.2222222222222222,
              "#7201a8"
             ],
             [
              0.3333333333333333,
              "#9c179e"
             ],
             [
              0.4444444444444444,
              "#bd3786"
             ],
             [
              0.5555555555555556,
              "#d8576b"
             ],
             [
              0.6666666666666666,
              "#ed7953"
             ],
             [
              0.7777777777777778,
              "#fb9f3a"
             ],
             [
              0.8888888888888888,
              "#fdca26"
             ],
             [
              1,
              "#f0f921"
             ]
            ],
            "type": "heatmapgl"
           }
          ],
          "histogram": [
           {
            "marker": {
             "pattern": {
              "fillmode": "overlay",
              "size": 10,
              "solidity": 0.2
             }
            },
            "type": "histogram"
           }
          ],
          "histogram2d": [
           {
            "colorbar": {
             "outlinewidth": 0,
             "ticks": ""
            },
            "colorscale": [
             [
              0,
              "#0d0887"
             ],
             [
              0.1111111111111111,
              "#46039f"
             ],
             [
              0.2222222222222222,
              "#7201a8"
             ],
             [
              0.3333333333333333,
              "#9c179e"
             ],
             [
              0.4444444444444444,
              "#bd3786"
             ],
             [
              0.5555555555555556,
              "#d8576b"
             ],
             [
              0.6666666666666666,
              "#ed7953"
             ],
             [
              0.7777777777777778,
              "#fb9f3a"
             ],
             [
              0.8888888888888888,
              "#fdca26"
             ],
             [
              1,
              "#f0f921"
             ]
            ],
            "type": "histogram2d"
           }
          ],
          "histogram2dcontour": [
           {
            "colorbar": {
             "outlinewidth": 0,
             "ticks": ""
            },
            "colorscale": [
             [
              0,
              "#0d0887"
             ],
             [
              0.1111111111111111,
              "#46039f"
             ],
             [
              0.2222222222222222,
              "#7201a8"
             ],
             [
              0.3333333333333333,
              "#9c179e"
             ],
             [
              0.4444444444444444,
              "#bd3786"
             ],
             [
              0.5555555555555556,
              "#d8576b"
             ],
             [
              0.6666666666666666,
              "#ed7953"
             ],
             [
              0.7777777777777778,
              "#fb9f3a"
             ],
             [
              0.8888888888888888,
              "#fdca26"
             ],
             [
              1,
              "#f0f921"
             ]
            ],
            "type": "histogram2dcontour"
           }
          ],
          "mesh3d": [
           {
            "colorbar": {
             "outlinewidth": 0,
             "ticks": ""
            },
            "type": "mesh3d"
           }
          ],
          "parcoords": [
           {
            "line": {
             "colorbar": {
              "outlinewidth": 0,
              "ticks": ""
             }
            },
            "type": "parcoords"
           }
          ],
          "pie": [
           {
            "automargin": true,
            "type": "pie"
           }
          ],
          "scatter": [
           {
            "fillpattern": {
             "fillmode": "overlay",
             "size": 10,
             "solidity": 0.2
            },
            "type": "scatter"
           }
          ],
          "scatter3d": [
           {
            "line": {
             "colorbar": {
              "outlinewidth": 0,
              "ticks": ""
             }
            },
            "marker": {
             "colorbar": {
              "outlinewidth": 0,
              "ticks": ""
             }
            },
            "type": "scatter3d"
           }
          ],
          "scattercarpet": [
           {
            "marker": {
             "colorbar": {
              "outlinewidth": 0,
              "ticks": ""
             }
            },
            "type": "scattercarpet"
           }
          ],
          "scattergeo": [
           {
            "marker": {
             "colorbar": {
              "outlinewidth": 0,
              "ticks": ""
             }
            },
            "type": "scattergeo"
           }
          ],
          "scattergl": [
           {
            "marker": {
             "colorbar": {
              "outlinewidth": 0,
              "ticks": ""
             }
            },
            "type": "scattergl"
           }
          ],
          "scattermapbox": [
           {
            "marker": {
             "colorbar": {
              "outlinewidth": 0,
              "ticks": ""
             }
            },
            "type": "scattermapbox"
           }
          ],
          "scatterpolar": [
           {
            "marker": {
             "colorbar": {
              "outlinewidth": 0,
              "ticks": ""
             }
            },
            "type": "scatterpolar"
           }
          ],
          "scatterpolargl": [
           {
            "marker": {
             "colorbar": {
              "outlinewidth": 0,
              "ticks": ""
             }
            },
            "type": "scatterpolargl"
           }
          ],
          "scatterternary": [
           {
            "marker": {
             "colorbar": {
              "outlinewidth": 0,
              "ticks": ""
             }
            },
            "type": "scatterternary"
           }
          ],
          "surface": [
           {
            "colorbar": {
             "outlinewidth": 0,
             "ticks": ""
            },
            "colorscale": [
             [
              0,
              "#0d0887"
             ],
             [
              0.1111111111111111,
              "#46039f"
             ],
             [
              0.2222222222222222,
              "#7201a8"
             ],
             [
              0.3333333333333333,
              "#9c179e"
             ],
             [
              0.4444444444444444,
              "#bd3786"
             ],
             [
              0.5555555555555556,
              "#d8576b"
             ],
             [
              0.6666666666666666,
              "#ed7953"
             ],
             [
              0.7777777777777778,
              "#fb9f3a"
             ],
             [
              0.8888888888888888,
              "#fdca26"
             ],
             [
              1,
              "#f0f921"
             ]
            ],
            "type": "surface"
           }
          ],
          "table": [
           {
            "cells": {
             "fill": {
              "color": "#EBF0F8"
             },
             "line": {
              "color": "white"
             }
            },
            "header": {
             "fill": {
              "color": "#C8D4E3"
             },
             "line": {
              "color": "white"
             }
            },
            "type": "table"
           }
          ]
         },
         "layout": {
          "annotationdefaults": {
           "arrowcolor": "#2a3f5f",
           "arrowhead": 0,
           "arrowwidth": 1
          },
          "autotypenumbers": "strict",
          "coloraxis": {
           "colorbar": {
            "outlinewidth": 0,
            "ticks": ""
           }
          },
          "colorscale": {
           "diverging": [
            [
             0,
             "#8e0152"
            ],
            [
             0.1,
             "#c51b7d"
            ],
            [
             0.2,
             "#de77ae"
            ],
            [
             0.3,
             "#f1b6da"
            ],
            [
             0.4,
             "#fde0ef"
            ],
            [
             0.5,
             "#f7f7f7"
            ],
            [
             0.6,
             "#e6f5d0"
            ],
            [
             0.7,
             "#b8e186"
            ],
            [
             0.8,
             "#7fbc41"
            ],
            [
             0.9,
             "#4d9221"
            ],
            [
             1,
             "#276419"
            ]
           ],
           "sequential": [
            [
             0,
             "#0d0887"
            ],
            [
             0.1111111111111111,
             "#46039f"
            ],
            [
             0.2222222222222222,
             "#7201a8"
            ],
            [
             0.3333333333333333,
             "#9c179e"
            ],
            [
             0.4444444444444444,
             "#bd3786"
            ],
            [
             0.5555555555555556,
             "#d8576b"
            ],
            [
             0.6666666666666666,
             "#ed7953"
            ],
            [
             0.7777777777777778,
             "#fb9f3a"
            ],
            [
             0.8888888888888888,
             "#fdca26"
            ],
            [
             1,
             "#f0f921"
            ]
           ],
           "sequentialminus": [
            [
             0,
             "#0d0887"
            ],
            [
             0.1111111111111111,
             "#46039f"
            ],
            [
             0.2222222222222222,
             "#7201a8"
            ],
            [
             0.3333333333333333,
             "#9c179e"
            ],
            [
             0.4444444444444444,
             "#bd3786"
            ],
            [
             0.5555555555555556,
             "#d8576b"
            ],
            [
             0.6666666666666666,
             "#ed7953"
            ],
            [
             0.7777777777777778,
             "#fb9f3a"
            ],
            [
             0.8888888888888888,
             "#fdca26"
            ],
            [
             1,
             "#f0f921"
            ]
           ]
          },
          "colorway": [
           "#636efa",
           "#EF553B",
           "#00cc96",
           "#ab63fa",
           "#FFA15A",
           "#19d3f3",
           "#FF6692",
           "#B6E880",
           "#FF97FF",
           "#FECB52"
          ],
          "font": {
           "color": "#2a3f5f"
          },
          "geo": {
           "bgcolor": "white",
           "lakecolor": "white",
           "landcolor": "#E5ECF6",
           "showlakes": true,
           "showland": true,
           "subunitcolor": "white"
          },
          "hoverlabel": {
           "align": "left"
          },
          "hovermode": "closest",
          "mapbox": {
           "style": "light"
          },
          "paper_bgcolor": "white",
          "plot_bgcolor": "#E5ECF6",
          "polar": {
           "angularaxis": {
            "gridcolor": "white",
            "linecolor": "white",
            "ticks": ""
           },
           "bgcolor": "#E5ECF6",
           "radialaxis": {
            "gridcolor": "white",
            "linecolor": "white",
            "ticks": ""
           }
          },
          "scene": {
           "xaxis": {
            "backgroundcolor": "#E5ECF6",
            "gridcolor": "white",
            "gridwidth": 2,
            "linecolor": "white",
            "showbackground": true,
            "ticks": "",
            "zerolinecolor": "white"
           },
           "yaxis": {
            "backgroundcolor": "#E5ECF6",
            "gridcolor": "white",
            "gridwidth": 2,
            "linecolor": "white",
            "showbackground": true,
            "ticks": "",
            "zerolinecolor": "white"
           },
           "zaxis": {
            "backgroundcolor": "#E5ECF6",
            "gridcolor": "white",
            "gridwidth": 2,
            "linecolor": "white",
            "showbackground": true,
            "ticks": "",
            "zerolinecolor": "white"
           }
          },
          "shapedefaults": {
           "line": {
            "color": "#2a3f5f"
           }
          },
          "ternary": {
           "aaxis": {
            "gridcolor": "white",
            "linecolor": "white",
            "ticks": ""
           },
           "baxis": {
            "gridcolor": "white",
            "linecolor": "white",
            "ticks": ""
           },
           "bgcolor": "#E5ECF6",
           "caxis": {
            "gridcolor": "white",
            "linecolor": "white",
            "ticks": ""
           }
          },
          "title": {
           "x": 0.05
          },
          "xaxis": {
           "automargin": true,
           "gridcolor": "white",
           "linecolor": "white",
           "ticks": "",
           "title": {
            "standoff": 15
           },
           "zerolinecolor": "white",
           "zerolinewidth": 2
          },
          "yaxis": {
           "automargin": true,
           "gridcolor": "white",
           "linecolor": "white",
           "ticks": "",
           "title": {
            "standoff": 15
           },
           "zerolinecolor": "white",
           "zerolinewidth": 2
          }
         }
        },
        "title": {
         "text": "GPU utilization compression"
        },
        "width": 1200,
        "xaxis": {
         "anchor": "y",
         "domain": [
          0,
          0.29333333333333333
         ],
         "title": {
          "text": "chunk_size"
         },
         "type": "log"
        },
        "xaxis10": {
         "anchor": "y10",
         "domain": [
          0,
          0.29333333333333333
         ],
         "matches": "x",
         "showticklabels": false,
         "type": "log"
        },
        "xaxis11": {
         "anchor": "y11",
         "domain": [
          0.3433333333333333,
          0.6366666666666667
         ],
         "matches": "x",
         "showticklabels": false,
         "type": "log"
        },
        "xaxis12": {
         "anchor": "y12",
         "domain": [
          0.6866666666666666,
          0.98
         ],
         "matches": "x",
         "showticklabels": false,
         "type": "log"
        },
        "xaxis13": {
         "anchor": "y13",
         "domain": [
          0,
          0.29333333333333333
         ],
         "matches": "x",
         "showticklabels": false,
         "type": "log"
        },
        "xaxis14": {
         "anchor": "y14",
         "domain": [
          0.3433333333333333,
          0.6366666666666667
         ],
         "matches": "x",
         "showticklabels": false,
         "type": "log"
        },
        "xaxis15": {
         "anchor": "y15",
         "domain": [
          0.6866666666666666,
          0.98
         ],
         "matches": "x",
         "showticklabels": false,
         "type": "log"
        },
        "xaxis16": {
         "anchor": "y16",
         "domain": [
          0,
          0.29333333333333333
         ],
         "matches": "x",
         "showticklabels": false,
         "type": "log"
        },
        "xaxis17": {
         "anchor": "y17",
         "domain": [
          0.3433333333333333,
          0.6366666666666667
         ],
         "matches": "x",
         "showticklabels": false,
         "type": "log"
        },
        "xaxis18": {
         "anchor": "y18",
         "domain": [
          0.6866666666666666,
          0.98
         ],
         "matches": "x",
         "showticklabels": false,
         "type": "log"
        },
        "xaxis2": {
         "anchor": "y2",
         "domain": [
          0.3433333333333333,
          0.6366666666666667
         ],
         "matches": "x",
         "title": {
          "text": "chunk_size"
         },
         "type": "log"
        },
        "xaxis3": {
         "anchor": "y3",
         "domain": [
          0.6866666666666666,
          0.98
         ],
         "matches": "x",
         "title": {
          "text": "chunk_size"
         },
         "type": "log"
        },
        "xaxis4": {
         "anchor": "y4",
         "domain": [
          0,
          0.29333333333333333
         ],
         "matches": "x",
         "showticklabels": false,
         "type": "log"
        },
        "xaxis5": {
         "anchor": "y5",
         "domain": [
          0.3433333333333333,
          0.6366666666666667
         ],
         "matches": "x",
         "showticklabels": false,
         "type": "log"
        },
        "xaxis6": {
         "anchor": "y6",
         "domain": [
          0.6866666666666666,
          0.98
         ],
         "matches": "x",
         "showticklabels": false,
         "type": "log"
        },
        "xaxis7": {
         "anchor": "y7",
         "domain": [
          0,
          0.29333333333333333
         ],
         "matches": "x",
         "showticklabels": false,
         "type": "log"
        },
        "xaxis8": {
         "anchor": "y8",
         "domain": [
          0.3433333333333333,
          0.6366666666666667
         ],
         "matches": "x",
         "showticklabels": false,
         "type": "log"
        },
        "xaxis9": {
         "anchor": "y9",
         "domain": [
          0.6866666666666666,
          0.98
         ],
         "matches": "x",
         "showticklabels": false,
         "type": "log"
        },
        "yaxis": {
         "anchor": "x",
         "domain": [
          0,
          0.14166666666666666
         ],
         "title": {
          "text": "compression_utilization"
         }
        },
        "yaxis10": {
         "anchor": "x10",
         "domain": [
          0.515,
          0.6566666666666667
         ],
         "matches": "y",
         "title": {
          "text": "compression_utilization"
         }
        },
        "yaxis11": {
         "anchor": "x11",
         "domain": [
          0.515,
          0.6566666666666667
         ],
         "matches": "y",
         "showticklabels": false
        },
        "yaxis12": {
         "anchor": "x12",
         "domain": [
          0.515,
          0.6566666666666667
         ],
         "matches": "y",
         "showticklabels": false
        },
        "yaxis13": {
         "anchor": "x13",
         "domain": [
          0.6866666666666666,
          0.8283333333333334
         ],
         "matches": "y",
         "title": {
          "text": "compression_utilization"
         }
        },
        "yaxis14": {
         "anchor": "x14",
         "domain": [
          0.6866666666666666,
          0.8283333333333334
         ],
         "matches": "y",
         "showticklabels": false
        },
        "yaxis15": {
         "anchor": "x15",
         "domain": [
          0.6866666666666666,
          0.8283333333333334
         ],
         "matches": "y",
         "showticklabels": false
        },
        "yaxis16": {
         "anchor": "x16",
         "domain": [
          0.8583333333333333,
          1
         ],
         "matches": "y",
         "title": {
          "text": "compression_utilization"
         }
        },
        "yaxis17": {
         "anchor": "x17",
         "domain": [
          0.8583333333333333,
          1
         ],
         "matches": "y",
         "showticklabels": false
        },
        "yaxis18": {
         "anchor": "x18",
         "domain": [
          0.8583333333333333,
          1
         ],
         "matches": "y",
         "showticklabels": false
        },
        "yaxis2": {
         "anchor": "x2",
         "domain": [
          0,
          0.14166666666666666
         ],
         "matches": "y",
         "showticklabels": false
        },
        "yaxis3": {
         "anchor": "x3",
         "domain": [
          0,
          0.14166666666666666
         ],
         "matches": "y",
         "showticklabels": false
        },
        "yaxis4": {
         "anchor": "x4",
         "domain": [
          0.17166666666666666,
          0.31333333333333335
         ],
         "matches": "y",
         "title": {
          "text": "compression_utilization"
         }
        },
        "yaxis5": {
         "anchor": "x5",
         "domain": [
          0.17166666666666666,
          0.31333333333333335
         ],
         "matches": "y",
         "showticklabels": false
        },
        "yaxis6": {
         "anchor": "x6",
         "domain": [
          0.17166666666666666,
          0.31333333333333335
         ],
         "matches": "y",
         "showticklabels": false
        },
        "yaxis7": {
         "anchor": "x7",
         "domain": [
          0.3433333333333333,
          0.485
         ],
         "matches": "y",
         "title": {
          "text": "compression_utilization"
         }
        },
        "yaxis8": {
         "anchor": "x8",
         "domain": [
          0.3433333333333333,
          0.485
         ],
         "matches": "y",
         "showticklabels": false
        },
        "yaxis9": {
         "anchor": "x9",
         "domain": [
          0.3433333333333333,
          0.485
         ],
         "matches": "y",
         "showticklabels": false
        }
       }
      }
     },
     "metadata": {},
     "output_type": "display_data"
    }
   ],
   "source": [
    "fig_gpus_utilization_compression = px.line(\n",
    "    all_utilization_df,\n",
    "    title=f\"GPU utilization compression\", \n",
    "    x=\"chunk_size\",\n",
    "    y=\"compression_utilization\",\n",
    "    color=\"file\",\n",
    "    log_x=True,\n",
    "    markers=True,\n",
    "    # log_y=True,\n",
    "    facet_col='gpu',\n",
    "    facet_row='standard',\n",
    "    facet_col_spacing=0.05,\n",
    "    width=1200,\n",
    "    height=1000,\n",
    ")\n",
    "# fig_gpus_utilization_compression.update_xaxes(autorange=\"reversed\")\n",
    "# fig_gpus_utilization_compression.update_xaxes(dict(\n",
    "#         tickmode = 'array',\n",
    "#         tickvals = alldf['chunksize_Bytes'],\n",
    "#         ticktext = alldf['chunksize_Bytes_formatted'],\n",
    "#         tickangle=45,\n",
    "#     )\n",
    "# )\n",
    "# fig_gpus_utilization_compression.update_layout(\n",
    "#     yaxis_title=\"Compression ratio\",\n",
    "#     xaxis_title=\"Chunk size\",\n",
    "#     xaxis2_title=\"Chunk size\",\n",
    "#     font_size=16,\n",
    "# )\n",
    "# print(all_utilization_df.to_string())\n",
    "fig_gpus_utilization_compression.show()"
   ]
  },
  {
   "cell_type": "code",
   "execution_count": 59,
   "metadata": {},
   "outputs": [
    {
     "data": {
      "application/vnd.plotly.v1+json": {
       "config": {
        "plotlyServerURL": "https://plot.ly"
       },
       "data": [
        {
         "hovertemplate": "file=500mb_dickens<br>standard=bitcomp<br>gpu=A100<br>chunk_size=%{x}<br>decompression_utilization=%{y}<extra></extra>",
         "legendgroup": "500mb_dickens",
         "line": {
          "color": "#636efa",
          "dash": "solid"
         },
         "marker": {
          "symbol": "circle"
         },
         "mode": "lines+markers",
         "name": "500mb_dickens",
         "orientation": "v",
         "showlegend": true,
         "type": "scatter",
         "x": [
          4000,
          16000,
          64000,
          256000,
          1024000,
          4096000,
          16384000,
          65536000
         ],
         "xaxis": "x16",
         "y": [
          33.19907069851475,
          23.767711116289405,
          27.416809757830542,
          48.88242393157236,
          34.568480223628924,
          9.951926661776156,
          4.017261684266549,
          3.9927433699740225
         ],
         "yaxis": "y16"
        },
        {
         "hovertemplate": "file=500mb_dickens<br>standard=bitcomp<br>gpu=RTX2080TI<br>chunk_size=%{x}<br>decompression_utilization=%{y}<extra></extra>",
         "legendgroup": "500mb_dickens",
         "line": {
          "color": "#636efa",
          "dash": "solid"
         },
         "marker": {
          "symbol": "circle"
         },
         "mode": "lines+markers",
         "name": "500mb_dickens",
         "orientation": "v",
         "showlegend": false,
         "type": "scatter",
         "x": [
          4000,
          16000,
          64000,
          256000,
          1024000,
          4096000,
          16384000,
          65536000
         ],
         "xaxis": "x17",
         "y": [
          22.041048709076392,
          8.462081156709022,
          8.217844124933574,
          8.569208010134139,
          3.1768647586749994,
          0.9813207751147635,
          1,
          0.9934565980707196
         ],
         "yaxis": "y17"
        },
        {
         "hovertemplate": "file=500mb_dickens<br>standard=bitcomp<br>gpu=RTX3050TI<br>chunk_size=%{x}<br>decompression_utilization=%{y}<extra></extra>",
         "legendgroup": "500mb_dickens",
         "line": {
          "color": "#636efa",
          "dash": "solid"
         },
         "marker": {
          "symbol": "circle"
         },
         "mode": "lines+markers",
         "name": "500mb_dickens",
         "orientation": "v",
         "showlegend": false,
         "type": "scatter",
         "x": [
          4000,
          16000,
          64000,
          256000,
          1024000,
          4096000,
          16384000,
          65536000
         ],
         "xaxis": "x18",
         "y": [
          4,
          1.977892940458111,
          5.094138586528798,
          1.386101432858577,
          0.9680157453352439,
          0.990209380058358,
          0.99669691604073,
          0.9967024765133312
         ],
         "yaxis": "y18"
        },
        {
         "hovertemplate": "file=500mb_dickens<br>standard=gdeflate<br>gpu=A100<br>chunk_size=%{x}<br>decompression_utilization=%{y}<extra></extra>",
         "legendgroup": "500mb_dickens",
         "line": {
          "color": "#636efa",
          "dash": "solid"
         },
         "marker": {
          "symbol": "circle"
         },
         "mode": "lines+markers",
         "name": "500mb_dickens",
         "orientation": "v",
         "showlegend": false,
         "type": "scatter",
         "x": [
          4000,
          16000,
          64000
         ],
         "xaxis": "x10",
         "y": [
          70.83046426760103,
          69.75311417916681,
          81.85569661991532
         ],
         "yaxis": "y10"
        },
        {
         "hovertemplate": "file=500mb_dickens<br>standard=gdeflate<br>gpu=RTX2080TI<br>chunk_size=%{x}<br>decompression_utilization=%{y}<extra></extra>",
         "legendgroup": "500mb_dickens",
         "line": {
          "color": "#636efa",
          "dash": "solid"
         },
         "marker": {
          "symbol": "circle"
         },
         "mode": "lines+markers",
         "name": "500mb_dickens",
         "orientation": "v",
         "showlegend": false,
         "type": "scatter",
         "x": [
          4000,
          16000,
          64000
         ],
         "xaxis": "x11",
         "y": [
          11.704362491503364,
          12.538516536023467,
          4.861731558609221
         ],
         "yaxis": "y11"
        },
        {
         "hovertemplate": "file=500mb_dickens<br>standard=gdeflate<br>gpu=RTX3050TI<br>chunk_size=%{x}<br>decompression_utilization=%{y}<extra></extra>",
         "legendgroup": "500mb_dickens",
         "line": {
          "color": "#636efa",
          "dash": "solid"
         },
         "marker": {
          "symbol": "circle"
         },
         "mode": "lines+markers",
         "name": "500mb_dickens",
         "orientation": "v",
         "showlegend": false,
         "type": "scatter",
         "x": [
          4000,
          16000,
          64000
         ],
         "xaxis": "x12",
         "y": [
          27.70520607553413,
          8.258229215550884,
          1.94371492002935
         ],
         "yaxis": "y12"
        },
        {
         "hovertemplate": "file=500mb_dickens<br>standard=lz4<br>gpu=A100<br>chunk_size=%{x}<br>decompression_utilization=%{y}<extra></extra>",
         "legendgroup": "500mb_dickens",
         "line": {
          "color": "#636efa",
          "dash": "solid"
         },
         "marker": {
          "symbol": "circle"
         },
         "mode": "lines+markers",
         "name": "500mb_dickens",
         "orientation": "v",
         "showlegend": false,
         "type": "scatter",
         "x": [
          4000,
          16000,
          64000,
          256000,
          1024000,
          4096000,
          16384000,
          65536000
         ],
         "xaxis": "x7",
         "y": [
          66.81363452058996,
          66.77731296755826,
          82.04459929229527,
          94.34168569212412,
          48.48055993117902,
          12.50780310620251,
          4.999786268175342,
          4.999920401057983
         ],
         "yaxis": "y7"
        },
        {
         "hovertemplate": "file=500mb_dickens<br>standard=lz4<br>gpu=RTX2080TI<br>chunk_size=%{x}<br>decompression_utilization=%{y}<extra></extra>",
         "legendgroup": "500mb_dickens",
         "line": {
          "color": "#636efa",
          "dash": "solid"
         },
         "marker": {
          "symbol": "circle"
         },
         "mode": "lines+markers",
         "name": "500mb_dickens",
         "orientation": "v",
         "showlegend": false,
         "type": "scatter",
         "x": [
          4000,
          16000,
          64000,
          256000,
          1024000,
          4096000,
          16384000,
          65536000
         ],
         "xaxis": "x8",
         "y": [
          17.692391491257148,
          13.839695131936482,
          4.837523065263726,
          1.1901393923836223,
          0.9998689080260171,
          1.000058391707557,
          0.9999868795421365,
          0.9999868601068009
         ],
         "yaxis": "y8"
        },
        {
         "hovertemplate": "file=500mb_dickens<br>standard=lz4<br>gpu=RTX3050TI<br>chunk_size=%{x}<br>decompression_utilization=%{y}<extra></extra>",
         "legendgroup": "500mb_dickens",
         "line": {
          "color": "#636efa",
          "dash": "solid"
         },
         "marker": {
          "symbol": "circle"
         },
         "mode": "lines+markers",
         "name": "500mb_dickens",
         "orientation": "v",
         "showlegend": false,
         "type": "scatter",
         "x": [
          4000,
          16000,
          64000,
          256000,
          1024000,
          4096000,
          16384000,
          65536000
         ],
         "xaxis": "x9",
         "y": [
          29.940143411690904,
          8.2960258766621,
          1.9465647720528378,
          0.9996321137319057,
          0,
          0.9999758283225729,
          1.000004044153493,
          1.0000122057448468
         ],
         "yaxis": "y9"
        },
        {
         "hovertemplate": "file=500mb_dickens<br>standard=snappy<br>gpu=A100<br>chunk_size=%{x}<br>decompression_utilization=%{y}<extra></extra>",
         "legendgroup": "500mb_dickens",
         "line": {
          "color": "#636efa",
          "dash": "solid"
         },
         "marker": {
          "symbol": "circle"
         },
         "mode": "lines+markers",
         "name": "500mb_dickens",
         "orientation": "v",
         "showlegend": false,
         "type": "scatter",
         "x": [
          4000,
          16000,
          64000,
          256000,
          1024000,
          4096000,
          16384000,
          65536000
         ],
         "xaxis": "x4",
         "y": [
          57.99165697850207,
          59.92761198076396,
          66.81210773361155,
          89.85070554635082,
          47.321908796049144,
          12.044099088157102,
          4.99974140628704,
          4.999618826551184
         ],
         "yaxis": "y4"
        },
        {
         "hovertemplate": "file=500mb_dickens<br>standard=snappy<br>gpu=RTX2080TI<br>chunk_size=%{x}<br>decompression_utilization=%{y}<extra></extra>",
         "legendgroup": "500mb_dickens",
         "line": {
          "color": "#636efa",
          "dash": "solid"
         },
         "marker": {
          "symbol": "circle"
         },
         "mode": "lines+markers",
         "name": "500mb_dickens",
         "orientation": "v",
         "showlegend": false,
         "type": "scatter",
         "x": [
          4000,
          16000,
          64000,
          256000,
          1024000,
          4096000,
          16384000,
          65536000
         ],
         "xaxis": "x5",
         "y": [
          21.55270531786839,
          14.466168257916976,
          6.957921968627737,
          1.9466678216560793,
          1,
          1.0002253461404051,
          0.9999783214878664,
          0.9999782944074445
         ],
         "yaxis": "y5"
        },
        {
         "hovertemplate": "file=500mb_dickens<br>standard=snappy<br>gpu=RTX3050TI<br>chunk_size=%{x}<br>decompression_utilization=%{y}<extra></extra>",
         "legendgroup": "500mb_dickens",
         "line": {
          "color": "#636efa",
          "dash": "solid"
         },
         "marker": {
          "symbol": "circle"
         },
         "mode": "lines+markers",
         "name": "500mb_dickens",
         "orientation": "v",
         "showlegend": false,
         "type": "scatter",
         "x": [
          4000,
          16000,
          64000,
          256000,
          1024000,
          4096000,
          16384000,
          65536000
         ],
         "xaxis": "x6",
         "y": [
          30.456447855424397,
          16.38942332670019,
          4.660104350320699,
          0.9995985540323626,
          0.9998981580343311,
          0.9999699490851868,
          0.99998984523583,
          0.9999898621648874
         ],
         "yaxis": "y6"
        },
        {
         "hovertemplate": "file=500mb_dickens<br>standard=zstd<br>gpu=A100<br>chunk_size=%{x}<br>decompression_utilization=%{y}<extra></extra>",
         "legendgroup": "500mb_dickens",
         "line": {
          "color": "#636efa",
          "dash": "solid"
         },
         "marker": {
          "symbol": "circle"
         },
         "mode": "lines+markers",
         "name": "500mb_dickens",
         "orientation": "v",
         "showlegend": false,
         "type": "scatter",
         "x": [
          4000,
          16000,
          64000,
          256000,
          1024000,
          4096000,
          16384000,
          65536000
         ],
         "xaxis": "x",
         "y": [
          67.48522997396495,
          66.94648914248909,
          80.94497678024558,
          53.07453879326415,
          92.14821983509285,
          25.604207290610155,
          9.616478195107408,
          9.621120685369398
         ],
         "yaxis": "y"
        },
        {
         "hovertemplate": "file=500mb_dickens<br>standard=zstd<br>gpu=RTX2080TI<br>chunk_size=%{x}<br>decompression_utilization=%{y}<extra></extra>",
         "legendgroup": "500mb_dickens",
         "line": {
          "color": "#636efa",
          "dash": "solid"
         },
         "marker": {
          "symbol": "circle"
         },
         "mode": "lines+markers",
         "name": "500mb_dickens",
         "orientation": "v",
         "showlegend": false,
         "type": "scatter",
         "x": [
          4000,
          16000,
          64000,
          256000,
          1024000,
          4096000,
          16384000,
          65536000
         ],
         "xaxis": "x2",
         "y": [
          13.16686689404069,
          15.476654440572066,
          8.634662207922634,
          2.940660548342281,
          0.9999133608531059,
          0.9999556802878112,
          0.9999685894005707,
          0.9999978688309941
         ],
         "yaxis": "y2"
        },
        {
         "hovertemplate": "file=500mb_dickens<br>standard=zstd<br>gpu=RTX3050TI<br>chunk_size=%{x}<br>decompression_utilization=%{y}<extra></extra>",
         "legendgroup": "500mb_dickens",
         "line": {
          "color": "#636efa",
          "dash": "solid"
         },
         "marker": {
          "symbol": "circle"
         },
         "mode": "lines+markers",
         "name": "500mb_dickens",
         "orientation": "v",
         "showlegend": false,
         "type": "scatter",
         "x": [
          4000,
          16000,
          64000,
          256000,
          1024000,
          4096000,
          16384000,
          65536000
         ],
         "xaxis": "x3",
         "y": [
          26.831776814488247,
          7.981332503494909,
          1.956758141039657,
          0.9998750248338928,
          0.9999186947109855,
          0.9999608183726257,
          0.999998687185812,
          0.9999985991308262
         ],
         "yaxis": "y3"
        },
        {
         "hovertemplate": "file=500mb_mozilla<br>standard=bitcomp<br>gpu=A100<br>chunk_size=%{x}<br>decompression_utilization=%{y}<extra></extra>",
         "legendgroup": "500mb_mozilla",
         "line": {
          "color": "#EF553B",
          "dash": "solid"
         },
         "marker": {
          "symbol": "circle"
         },
         "mode": "lines+markers",
         "name": "500mb_mozilla",
         "orientation": "v",
         "showlegend": true,
         "type": "scatter",
         "x": [
          4000,
          16000,
          64000,
          256000,
          1024000,
          4096000,
          16384000,
          65536000
         ],
         "xaxis": "x16",
         "y": [
          44.92731987922482,
          45.30478364647225,
          42.67144915241276,
          41.933032554136,
          43.25352857326127,
          43.076259621150086,
          13.14387444201546,
          4.113552672805764
         ],
         "yaxis": "y16"
        },
        {
         "hovertemplate": "file=500mb_mozilla<br>standard=bitcomp<br>gpu=RTX2080TI<br>chunk_size=%{x}<br>decompression_utilization=%{y}<extra></extra>",
         "legendgroup": "500mb_mozilla",
         "line": {
          "color": "#EF553B",
          "dash": "solid"
         },
         "marker": {
          "symbol": "circle"
         },
         "mode": "lines+markers",
         "name": "500mb_mozilla",
         "orientation": "v",
         "showlegend": false,
         "type": "scatter",
         "x": [
          4000,
          16000,
          64000,
          256000,
          1024000,
          4096000,
          16384000,
          65536000
         ],
         "xaxis": "x17",
         "y": [
          39.5869541310863,
          29.853275962911006,
          23.17404737441511,
          18.51736274643673,
          15.859076892403246,
          5.069658391815632,
          1.474476239098803,
          1.131445569795771
         ],
         "yaxis": "y17"
        },
        {
         "hovertemplate": "file=500mb_mozilla<br>standard=bitcomp<br>gpu=RTX3050TI<br>chunk_size=%{x}<br>decompression_utilization=%{y}<extra></extra>",
         "legendgroup": "500mb_mozilla",
         "line": {
          "color": "#EF553B",
          "dash": "solid"
         },
         "marker": {
          "symbol": "circle"
         },
         "mode": "lines+markers",
         "name": "500mb_mozilla",
         "orientation": "v",
         "showlegend": false,
         "type": "scatter",
         "x": [
          4000,
          16000,
          64000,
          256000,
          1024000,
          4096000,
          16384000,
          65536000
         ],
         "xaxis": "x18",
         "y": [
          22.753383536578074,
          7.907787363021683,
          15.611415563003503,
          5.045341161017394,
          3.901080220866361,
          1.6058193096752018,
          1.2208111679481208,
          1.040457703158508
         ],
         "yaxis": "y18"
        },
        {
         "hovertemplate": "file=500mb_mozilla<br>standard=cascaded<br>gpu=A100<br>chunk_size=%{x}<br>decompression_utilization=%{y}<extra></extra>",
         "legendgroup": "500mb_mozilla",
         "line": {
          "color": "#EF553B",
          "dash": "solid"
         },
         "marker": {
          "symbol": "circle"
         },
         "mode": "lines+markers",
         "name": "500mb_mozilla",
         "orientation": "v",
         "showlegend": false,
         "type": "scatter",
         "x": [
          4000,
          16000,
          64000,
          256000,
          1024000,
          4096000,
          16384000,
          65536000
         ],
         "xaxis": "x13",
         "y": [
          48.744865497881506,
          48.06895708292787,
          48.44945054046916,
          52.635070686752805,
          72.64904152738129,
          52.878893454598284,
          13.767665734215637,
          5.006033948060869
         ],
         "yaxis": "y13"
        },
        {
         "hovertemplate": "file=500mb_mozilla<br>standard=cascaded<br>gpu=RTX2080TI<br>chunk_size=%{x}<br>decompression_utilization=%{y}<extra></extra>",
         "legendgroup": "500mb_mozilla",
         "line": {
          "color": "#EF553B",
          "dash": "solid"
         },
         "marker": {
          "symbol": "circle"
         },
         "mode": "lines+markers",
         "name": "500mb_mozilla",
         "orientation": "v",
         "showlegend": false,
         "type": "scatter",
         "x": [
          4000,
          16000,
          64000,
          256000,
          1024000,
          4096000,
          16384000,
          65536000
         ],
         "xaxis": "x14",
         "y": [
          36.09991903145935,
          33.66917494386821,
          32.10826985140606,
          26.48821461004374,
          8.157665535921138,
          1.9508197708559676,
          1.0259727934020748,
          1.000481513868099
         ],
         "yaxis": "y14"
        },
        {
         "hovertemplate": "file=500mb_mozilla<br>standard=cascaded<br>gpu=RTX3050TI<br>chunk_size=%{x}<br>decompression_utilization=%{y}<extra></extra>",
         "legendgroup": "500mb_mozilla",
         "line": {
          "color": "#EF553B",
          "dash": "solid"
         },
         "marker": {
          "symbol": "circle"
         },
         "mode": "lines+markers",
         "name": "500mb_mozilla",
         "orientation": "v",
         "showlegend": false,
         "type": "scatter",
         "x": [
          4000,
          16000,
          64000,
          256000,
          1024000,
          4096000,
          16384000,
          65536000
         ],
         "xaxis": "x15",
         "y": [
          40.42605175700396,
          36.07365361859915,
          28.91371392593158,
          10.034577274965887,
          2.763775457146061,
          1.0138162367538655,
          1.0070239051746892,
          1.0004771388147564
         ],
         "yaxis": "y15"
        },
        {
         "hovertemplate": "file=500mb_mozilla<br>standard=gdeflate<br>gpu=A100<br>chunk_size=%{x}<br>decompression_utilization=%{y}<extra></extra>",
         "legendgroup": "500mb_mozilla",
         "line": {
          "color": "#EF553B",
          "dash": "solid"
         },
         "marker": {
          "symbol": "circle"
         },
         "mode": "lines+markers",
         "name": "500mb_mozilla",
         "orientation": "v",
         "showlegend": false,
         "type": "scatter",
         "x": [
          4000,
          16000,
          64000
         ],
         "xaxis": "x10",
         "y": [
          71.98909369472956,
          70.47823932785089,
          70.06845241894104
         ],
         "yaxis": "y10"
        },
        {
         "hovertemplate": "file=500mb_mozilla<br>standard=gdeflate<br>gpu=RTX2080TI<br>chunk_size=%{x}<br>decompression_utilization=%{y}<extra></extra>",
         "legendgroup": "500mb_mozilla",
         "line": {
          "color": "#EF553B",
          "dash": "solid"
         },
         "marker": {
          "symbol": "circle"
         },
         "mode": "lines+markers",
         "name": "500mb_mozilla",
         "orientation": "v",
         "showlegend": false,
         "type": "scatter",
         "x": [
          4000,
          16000,
          64000
         ],
         "xaxis": "x11",
         "y": [
          16.01484231183499,
          13.938123917067248,
          11.984971343782085
         ],
         "yaxis": "y11"
        },
        {
         "hovertemplate": "file=500mb_mozilla<br>standard=gdeflate<br>gpu=RTX3050TI<br>chunk_size=%{x}<br>decompression_utilization=%{y}<extra></extra>",
         "legendgroup": "500mb_mozilla",
         "line": {
          "color": "#EF553B",
          "dash": "solid"
         },
         "marker": {
          "symbol": "circle"
         },
         "mode": "lines+markers",
         "name": "500mb_mozilla",
         "orientation": "v",
         "showlegend": false,
         "type": "scatter",
         "x": [
          4000,
          16000,
          64000
         ],
         "xaxis": "x12",
         "y": [
          35.00260381193998,
          27.418644162446338,
          8.02129479644434
         ],
         "yaxis": "y12"
        },
        {
         "hovertemplate": "file=500mb_mozilla<br>standard=lz4<br>gpu=A100<br>chunk_size=%{x}<br>decompression_utilization=%{y}<extra></extra>",
         "legendgroup": "500mb_mozilla",
         "line": {
          "color": "#EF553B",
          "dash": "solid"
         },
         "marker": {
          "symbol": "circle"
         },
         "mode": "lines+markers",
         "name": "500mb_mozilla",
         "orientation": "v",
         "showlegend": false,
         "type": "scatter",
         "x": [
          4000,
          16000,
          64000,
          256000,
          1024000,
          4096000,
          16384000
         ],
         "xaxis": "x7",
         "y": [
          67.14473569055833,
          66.57926928086498,
          68.30127660001597,
          76.7216630002822,
          88.10754365999162,
          56.374529006626815,
          14.667580660935085
         ],
         "yaxis": "y7"
        },
        {
         "hovertemplate": "file=500mb_mozilla<br>standard=lz4<br>gpu=RTX2080TI<br>chunk_size=%{x}<br>decompression_utilization=%{y}<extra></extra>",
         "legendgroup": "500mb_mozilla",
         "line": {
          "color": "#EF553B",
          "dash": "solid"
         },
         "marker": {
          "symbol": "circle"
         },
         "mode": "lines+markers",
         "name": "500mb_mozilla",
         "orientation": "v",
         "showlegend": false,
         "type": "scatter",
         "x": [
          4000,
          16000,
          64000,
          256000,
          1024000,
          4096000,
          16384000
         ],
         "xaxis": "x8",
         "y": [
          23.96193764829802,
          16.1681518621226,
          13.597185909837862,
          5.1213967003574385,
          1.809530405617899,
          1.0014342375345968,
          1.0004876652934107
         ],
         "yaxis": "y8"
        },
        {
         "hovertemplate": "file=500mb_mozilla<br>standard=lz4<br>gpu=RTX3050TI<br>chunk_size=%{x}<br>decompression_utilization=%{y}<extra></extra>",
         "legendgroup": "500mb_mozilla",
         "line": {
          "color": "#EF553B",
          "dash": "solid"
         },
         "marker": {
          "symbol": "circle"
         },
         "mode": "lines+markers",
         "name": "500mb_mozilla",
         "orientation": "v",
         "showlegend": false,
         "type": "scatter",
         "x": [
          4000,
          16000,
          64000,
          256000,
          1024000,
          4096000,
          16384000
         ],
         "xaxis": "x9",
         "y": [
          40.304375466995666,
          31.73020360726347,
          8.373558071997053,
          2.503816455578181,
          0.999465393396413,
          0.9998556347067389,
          1.0005240922544925
         ],
         "yaxis": "y9"
        },
        {
         "hovertemplate": "file=500mb_mozilla<br>standard=snappy<br>gpu=A100<br>chunk_size=%{x}<br>decompression_utilization=%{y}<extra></extra>",
         "legendgroup": "500mb_mozilla",
         "line": {
          "color": "#EF553B",
          "dash": "solid"
         },
         "marker": {
          "symbol": "circle"
         },
         "mode": "lines+markers",
         "name": "500mb_mozilla",
         "orientation": "v",
         "showlegend": false,
         "type": "scatter",
         "x": [
          4000,
          16000,
          64000,
          256000,
          1024000,
          4096000,
          16384000,
          65536000
         ],
         "xaxis": "x4",
         "y": [
          57.784074404064825,
          58.004224441339595,
          58.797500908346684,
          61.182754359695394,
          82.60763506693334,
          53.951575478828715,
          13.515537087486074,
          5.00073926124773
         ],
         "yaxis": "y4"
        },
        {
         "hovertemplate": "file=500mb_mozilla<br>standard=snappy<br>gpu=RTX2080TI<br>chunk_size=%{x}<br>decompression_utilization=%{y}<extra></extra>",
         "legendgroup": "500mb_mozilla",
         "line": {
          "color": "#EF553B",
          "dash": "solid"
         },
         "marker": {
          "symbol": "circle"
         },
         "mode": "lines+markers",
         "name": "500mb_mozilla",
         "orientation": "v",
         "showlegend": false,
         "type": "scatter",
         "x": [
          4000,
          16000,
          64000,
          256000,
          1024000,
          4096000,
          16384000,
          65536000
         ],
         "xaxis": "x5",
         "y": [
          24.275877330675584,
          20.11158028881399,
          14.575889981016031,
          7.308797492535268,
          2.159367187134353,
          1.00197532657348,
          1.0022028124465794,
          1.000076120724014
         ],
         "yaxis": "y5"
        },
        {
         "hovertemplate": "file=500mb_mozilla<br>standard=snappy<br>gpu=RTX3050TI<br>chunk_size=%{x}<br>decompression_utilization=%{y}<extra></extra>",
         "legendgroup": "500mb_mozilla",
         "line": {
          "color": "#EF553B",
          "dash": "solid"
         },
         "marker": {
          "symbol": "circle"
         },
         "mode": "lines+markers",
         "name": "500mb_mozilla",
         "orientation": "v",
         "showlegend": false,
         "type": "scatter",
         "x": [
          4000,
          16000,
          64000,
          256000,
          1024000,
          4096000,
          16384000,
          65536000
         ],
         "xaxis": "x6",
         "y": [
          46.06102081919859,
          33.56491094580154,
          14.303939028110705,
          4.463810768147484,
          1.0066645597819508,
          1.000396329058515,
          1.000537182341284,
          1.0002104765462336
         ],
         "yaxis": "y6"
        },
        {
         "hovertemplate": "file=500mb_mozilla<br>standard=zstd<br>gpu=A100<br>chunk_size=%{x}<br>decompression_utilization=%{y}<extra></extra>",
         "legendgroup": "500mb_mozilla",
         "line": {
          "color": "#EF553B",
          "dash": "solid"
         },
         "marker": {
          "symbol": "circle"
         },
         "mode": "lines+markers",
         "name": "500mb_mozilla",
         "orientation": "v",
         "showlegend": false,
         "type": "scatter",
         "x": [
          4000,
          16000,
          64000,
          256000,
          1024000,
          4096000,
          16384000
         ],
         "xaxis": "x",
         "y": [
          68.46023031133464,
          67.69144360237954,
          68.36432672246508,
          73.29039087318958,
          80.59560391042132,
          83.59627783037469,
          35.705187611755036
         ],
         "yaxis": "y"
        },
        {
         "hovertemplate": "file=500mb_mozilla<br>standard=zstd<br>gpu=RTX2080TI<br>chunk_size=%{x}<br>decompression_utilization=%{y}<extra></extra>",
         "legendgroup": "500mb_mozilla",
         "line": {
          "color": "#EF553B",
          "dash": "solid"
         },
         "marker": {
          "symbol": "circle"
         },
         "mode": "lines+markers",
         "name": "500mb_mozilla",
         "orientation": "v",
         "showlegend": false,
         "type": "scatter",
         "x": [
          4000,
          16000,
          64000,
          256000,
          1024000,
          4096000,
          16384000
         ],
         "xaxis": "x2",
         "y": [
          12.871813367060014,
          13.085846836960208,
          13.56481210406827,
          9.497864132743402,
          4.5904762983578316,
          1.5277275395485728,
          0.9999382754329491
         ],
         "yaxis": "y2"
        },
        {
         "hovertemplate": "file=500mb_mozilla<br>standard=zstd<br>gpu=RTX3050TI<br>chunk_size=%{x}<br>decompression_utilization=%{y}<extra></extra>",
         "legendgroup": "500mb_mozilla",
         "line": {
          "color": "#EF553B",
          "dash": "solid"
         },
         "marker": {
          "symbol": "circle"
         },
         "mode": "lines+markers",
         "name": "500mb_mozilla",
         "orientation": "v",
         "showlegend": false,
         "type": "scatter",
         "x": [
          4000,
          16000,
          64000,
          256000,
          1024000,
          4096000,
          16384000
         ],
         "xaxis": "x3",
         "y": [
          37.81764945867545,
          29.06627598784578,
          7.486602533864689,
          2.6270224770205015,
          0.999854241430901,
          0.9999949597883725,
          0.9999984003041409
         ],
         "yaxis": "y3"
        },
        {
         "hovertemplate": "file=500mb_mr<br>standard=bitcomp<br>gpu=A100<br>chunk_size=%{x}<br>decompression_utilization=%{y}<extra></extra>",
         "legendgroup": "500mb_mr",
         "line": {
          "color": "#00cc96",
          "dash": "solid"
         },
         "marker": {
          "symbol": "circle"
         },
         "mode": "lines+markers",
         "name": "500mb_mr",
         "orientation": "v",
         "showlegend": true,
         "type": "scatter",
         "x": [
          4000,
          16000,
          64000,
          256000,
          1024000,
          4096000,
          16384000,
          65536000
         ],
         "xaxis": "x16",
         "y": [
          34.81089252353627,
          12.082009810606905,
          36.94874543196312,
          26.849719459846916,
          35.86647926578323,
          9.75330300972313,
          4.098291867975714,
          4.065911907320155
         ],
         "yaxis": "y16"
        },
        {
         "hovertemplate": "file=500mb_mr<br>standard=bitcomp<br>gpu=RTX2080TI<br>chunk_size=%{x}<br>decompression_utilization=%{y}<extra></extra>",
         "legendgroup": "500mb_mr",
         "line": {
          "color": "#00cc96",
          "dash": "solid"
         },
         "marker": {
          "symbol": "circle"
         },
         "mode": "lines+markers",
         "name": "500mb_mr",
         "orientation": "v",
         "showlegend": false,
         "type": "scatter",
         "x": [
          4000,
          16000,
          64000,
          256000,
          1024000,
          4096000,
          16384000,
          65536000
         ],
         "xaxis": "x17",
         "y": [
          9.40090470302915,
          0,
          1.157515218749126,
          7.400705608114493,
          3.3260709682700993,
          0,
          0.9929296732388575,
          1.0424292830511521
         ],
         "yaxis": "y17"
        },
        {
         "hovertemplate": "file=500mb_mr<br>standard=bitcomp<br>gpu=RTX3050TI<br>chunk_size=%{x}<br>decompression_utilization=%{y}<extra></extra>",
         "legendgroup": "500mb_mr",
         "line": {
          "color": "#00cc96",
          "dash": "solid"
         },
         "marker": {
          "symbol": "circle"
         },
         "mode": "lines+markers",
         "name": "500mb_mr",
         "orientation": "v",
         "showlegend": false,
         "type": "scatter",
         "x": [
          4000,
          16000,
          64000,
          256000,
          1024000,
          4096000,
          16384000,
          65536000
         ],
         "xaxis": "x18",
         "y": [
          3.261277626400242,
          1.3779757156784542,
          2.624890829694323,
          1.8796502976190477,
          0.9655079061093119,
          0.9894845658194844,
          0.9963861557498754,
          0.9963847587983203
         ],
         "yaxis": "y18"
        },
        {
         "hovertemplate": "file=500mb_mr<br>standard=cascaded<br>gpu=A100<br>chunk_size=%{x}<br>decompression_utilization=%{y}<extra></extra>",
         "legendgroup": "500mb_mr",
         "line": {
          "color": "#00cc96",
          "dash": "solid"
         },
         "marker": {
          "symbol": "circle"
         },
         "mode": "lines+markers",
         "name": "500mb_mr",
         "orientation": "v",
         "showlegend": false,
         "type": "scatter",
         "x": [
          4000,
          16000,
          64000,
          256000,
          1024000,
          4096000,
          16384000,
          65536000
         ],
         "xaxis": "x13",
         "y": [
          43.28110366638536,
          46.228905119209976,
          51.86240549240447,
          76.46573266764462,
          43.151547136137935,
          11.078299509665378,
          4.998126313786523,
          4.9979124759876985
         ],
         "yaxis": "y13"
        },
        {
         "hovertemplate": "file=500mb_mr<br>standard=cascaded<br>gpu=RTX2080TI<br>chunk_size=%{x}<br>decompression_utilization=%{y}<extra></extra>",
         "legendgroup": "500mb_mr",
         "line": {
          "color": "#00cc96",
          "dash": "solid"
         },
         "marker": {
          "symbol": "circle"
         },
         "mode": "lines+markers",
         "name": "500mb_mr",
         "orientation": "v",
         "showlegend": false,
         "type": "scatter",
         "x": [
          4000,
          16000,
          64000,
          256000,
          1024000,
          4096000,
          16384000,
          65536000
         ],
         "xaxis": "x14",
         "y": [
          26.151025123975526,
          22.533102268296687,
          16.498564022273985,
          6.1904754626771865,
          1.9449823526729169,
          1.0008783467367892,
          0.9993992140948653,
          1.003157748292582
         ],
         "yaxis": "y14"
        },
        {
         "hovertemplate": "file=500mb_mr<br>standard=cascaded<br>gpu=RTX3050TI<br>chunk_size=%{x}<br>decompression_utilization=%{y}<extra></extra>",
         "legendgroup": "500mb_mr",
         "line": {
          "color": "#00cc96",
          "dash": "solid"
         },
         "marker": {
          "symbol": "circle"
         },
         "mode": "lines+markers",
         "name": "500mb_mr",
         "orientation": "v",
         "showlegend": false,
         "type": "scatter",
         "x": [
          4000,
          16000,
          64000,
          256000,
          1024000,
          4096000,
          16384000,
          65536000
         ],
         "xaxis": "x15",
         "y": [
          8.309477188173096,
          10.262609280430397,
          6.496043311706881,
          1.9057785699181302,
          0.996875530467833,
          0.999067116791913,
          0.9996738264414328,
          0.9996778883187956
         ],
         "yaxis": "y15"
        },
        {
         "hovertemplate": "file=500mb_mr<br>standard=gdeflate<br>gpu=A100<br>chunk_size=%{x}<br>decompression_utilization=%{y}<extra></extra>",
         "legendgroup": "500mb_mr",
         "line": {
          "color": "#00cc96",
          "dash": "solid"
         },
         "marker": {
          "symbol": "circle"
         },
         "mode": "lines+markers",
         "name": "500mb_mr",
         "orientation": "v",
         "showlegend": false,
         "type": "scatter",
         "x": [
          4000,
          16000,
          64000
         ],
         "xaxis": "x10",
         "y": [
          72.31734426678253,
          71.11045370151658,
          81.18072992821087
         ],
         "yaxis": "y10"
        },
        {
         "hovertemplate": "file=500mb_mr<br>standard=gdeflate<br>gpu=RTX2080TI<br>chunk_size=%{x}<br>decompression_utilization=%{y}<extra></extra>",
         "legendgroup": "500mb_mr",
         "line": {
          "color": "#00cc96",
          "dash": "solid"
         },
         "marker": {
          "symbol": "circle"
         },
         "mode": "lines+markers",
         "name": "500mb_mr",
         "orientation": "v",
         "showlegend": false,
         "type": "scatter",
         "x": [
          4000,
          16000,
          64000
         ],
         "xaxis": "x11",
         "y": [
          14.791832689121856,
          11.510536680443078,
          4.392007196902432
         ],
         "yaxis": "y11"
        },
        {
         "hovertemplate": "file=500mb_mr<br>standard=gdeflate<br>gpu=RTX3050TI<br>chunk_size=%{x}<br>decompression_utilization=%{y}<extra></extra>",
         "legendgroup": "500mb_mr",
         "line": {
          "color": "#00cc96",
          "dash": "solid"
         },
         "marker": {
          "symbol": "circle"
         },
         "mode": "lines+markers",
         "name": "500mb_mr",
         "orientation": "v",
         "showlegend": false,
         "type": "scatter",
         "x": [
          4000,
          16000,
          64000
         ],
         "xaxis": "x12",
         "y": [
          18.302743349060158,
          5.987532238537973,
          1.6871518405018615
         ],
         "yaxis": "y12"
        },
        {
         "hovertemplate": "file=500mb_mr<br>standard=lz4<br>gpu=A100<br>chunk_size=%{x}<br>decompression_utilization=%{y}<extra></extra>",
         "legendgroup": "500mb_mr",
         "line": {
          "color": "#00cc96",
          "dash": "solid"
         },
         "marker": {
          "symbol": "circle"
         },
         "mode": "lines+markers",
         "name": "500mb_mr",
         "orientation": "v",
         "showlegend": false,
         "type": "scatter",
         "x": [
          4000,
          16000,
          64000,
          256000,
          1024000,
          4096000,
          16384000,
          65536000
         ],
         "xaxis": "x7",
         "y": [
          67.80850870531995,
          67.3990780736057,
          81.74621052306446,
          90.70739332447681,
          44.19578346110458,
          11.856497354238883,
          4.999581078821559,
          4.999750690823862
         ],
         "yaxis": "y7"
        },
        {
         "hovertemplate": "file=500mb_mr<br>standard=lz4<br>gpu=RTX2080TI<br>chunk_size=%{x}<br>decompression_utilization=%{y}<extra></extra>",
         "legendgroup": "500mb_mr",
         "line": {
          "color": "#00cc96",
          "dash": "solid"
         },
         "marker": {
          "symbol": "circle"
         },
         "mode": "lines+markers",
         "name": "500mb_mr",
         "orientation": "v",
         "showlegend": false,
         "type": "scatter",
         "x": [
          4000,
          16000,
          64000,
          256000,
          1024000,
          4096000,
          16384000,
          65536000
         ],
         "xaxis": "x8",
         "y": [
          20.57881466410982,
          12.696981668499998,
          4.746054987547339,
          1.7742981998394909,
          1,
          1.0000313446754325,
          1.000022011682638,
          1.0000767865798814
         ],
         "yaxis": "y8"
        },
        {
         "hovertemplate": "file=500mb_mr<br>standard=lz4<br>gpu=RTX3050TI<br>chunk_size=%{x}<br>decompression_utilization=%{y}<extra></extra>",
         "legendgroup": "500mb_mr",
         "line": {
          "color": "#00cc96",
          "dash": "solid"
         },
         "marker": {
          "symbol": "circle"
         },
         "mode": "lines+markers",
         "name": "500mb_mr",
         "orientation": "v",
         "showlegend": false,
         "type": "scatter",
         "x": [
          4000,
          16000,
          64000,
          256000,
          1024000,
          4096000,
          16384000,
          65536000
         ],
         "xaxis": "x9",
         "y": [
          16.289461826227125,
          5.892848863910192,
          1.707309914615094,
          0.9995635024490512,
          0.9998591185292058,
          0.9999643320486875,
          1,
          0.9999874450804229
         ],
         "yaxis": "y9"
        },
        {
         "hovertemplate": "file=500mb_mr<br>standard=snappy<br>gpu=A100<br>chunk_size=%{x}<br>decompression_utilization=%{y}<extra></extra>",
         "legendgroup": "500mb_mr",
         "line": {
          "color": "#00cc96",
          "dash": "solid"
         },
         "marker": {
          "symbol": "circle"
         },
         "mode": "lines+markers",
         "name": "500mb_mr",
         "orientation": "v",
         "showlegend": false,
         "type": "scatter",
         "x": [
          4000,
          16000,
          64000,
          256000,
          1024000,
          4096000,
          16384000,
          65536000
         ],
         "xaxis": "x4",
         "y": [
          57.69844361502278,
          60.580026867394906,
          67.64302966112447,
          75.04711272221476,
          40.00471871300283,
          11.049437273729092,
          5.0001930755061075,
          5.000017259718289
         ],
         "yaxis": "y4"
        },
        {
         "hovertemplate": "file=500mb_mr<br>standard=snappy<br>gpu=RTX2080TI<br>chunk_size=%{x}<br>decompression_utilization=%{y}<extra></extra>",
         "legendgroup": "500mb_mr",
         "line": {
          "color": "#00cc96",
          "dash": "solid"
         },
         "marker": {
          "symbol": "circle"
         },
         "mode": "lines+markers",
         "name": "500mb_mr",
         "orientation": "v",
         "showlegend": false,
         "type": "scatter",
         "x": [
          4000,
          16000,
          64000,
          256000,
          1024000,
          4096000,
          16384000,
          65536000
         ],
         "xaxis": "x5",
         "y": [
          18.761636125784445,
          12.034976851361222,
          4.983350691305546,
          1.6597507035618917,
          0.9997315248979032,
          0.9999147338362422,
          0.9999685127076917,
          0.9999684774013635
         ],
         "yaxis": "y5"
        },
        {
         "hovertemplate": "file=500mb_mr<br>standard=snappy<br>gpu=RTX3050TI<br>chunk_size=%{x}<br>decompression_utilization=%{y}<extra></extra>",
         "legendgroup": "500mb_mr",
         "line": {
          "color": "#00cc96",
          "dash": "solid"
         },
         "marker": {
          "symbol": "circle"
         },
         "mode": "lines+markers",
         "name": "500mb_mr",
         "orientation": "v",
         "showlegend": false,
         "type": "scatter",
         "x": [
          4000,
          16000,
          64000,
          256000,
          1024000,
          4096000,
          16384000,
          65536000
         ],
         "xaxis": "x6",
         "y": [
          22.549972344628728,
          9.985405289218372,
          3.1005793082586752,
          0.9995520804788635,
          0.9998703957245048,
          0.9999598049266949,
          0.9999850851225167,
          0.9999851327924432
         ],
         "yaxis": "y6"
        },
        {
         "hovertemplate": "file=500mb_mr<br>standard=zstd<br>gpu=A100<br>chunk_size=%{x}<br>decompression_utilization=%{y}<extra></extra>",
         "legendgroup": "500mb_mr",
         "line": {
          "color": "#00cc96",
          "dash": "solid"
         },
         "marker": {
          "symbol": "circle"
         },
         "mode": "lines+markers",
         "name": "500mb_mr",
         "orientation": "v",
         "showlegend": false,
         "type": "scatter",
         "x": [
          4000,
          16000,
          64000,
          256000,
          1024000,
          4096000,
          16384000,
          65536000
         ],
         "xaxis": "x",
         "y": [
          68.56376280197671,
          67.56347464549077,
          74.93178792222741,
          55.72548926046183,
          87.42386867713938,
          25.84797953319716,
          9.443233961059702,
          9.44842873480965
         ],
         "yaxis": "y"
        },
        {
         "hovertemplate": "file=500mb_mr<br>standard=zstd<br>gpu=RTX2080TI<br>chunk_size=%{x}<br>decompression_utilization=%{y}<extra></extra>",
         "legendgroup": "500mb_mr",
         "line": {
          "color": "#00cc96",
          "dash": "solid"
         },
         "marker": {
          "symbol": "circle"
         },
         "mode": "lines+markers",
         "name": "500mb_mr",
         "orientation": "v",
         "showlegend": false,
         "type": "scatter",
         "x": [
          4000,
          16000,
          64000,
          256000,
          1024000,
          4096000,
          16384000,
          65536000
         ],
         "xaxis": "x2",
         "y": [
          13.842317377359745,
          15.487462219665732,
          7.255161387241679,
          2.7960457083800945,
          0.9998898006234033,
          0.9999916849886786,
          0.9999593158849873,
          0.9999563240607066
         ],
         "yaxis": "y2"
        },
        {
         "hovertemplate": "file=500mb_mr<br>standard=zstd<br>gpu=RTX3050TI<br>chunk_size=%{x}<br>decompression_utilization=%{y}<extra></extra>",
         "legendgroup": "500mb_mr",
         "line": {
          "color": "#00cc96",
          "dash": "solid"
         },
         "marker": {
          "symbol": "circle"
         },
         "mode": "lines+markers",
         "name": "500mb_mr",
         "orientation": "v",
         "showlegend": false,
         "type": "scatter",
         "x": [
          4000,
          16000,
          64000,
          256000,
          1024000,
          4096000,
          16384000,
          65536000
         ],
         "xaxis": "x3",
         "y": [
          21.4952770320414,
          6.044939473169997,
          1.7563674689597883,
          0.9998356029431197,
          0.9998855125974547,
          0.9999266121513184,
          0.9999980938380416,
          0.9999979973352697
         ],
         "yaxis": "y3"
        },
        {
         "hovertemplate": "file=500mb_nci<br>standard=bitcomp<br>gpu=A100<br>chunk_size=%{x}<br>decompression_utilization=%{y}<extra></extra>",
         "legendgroup": "500mb_nci",
         "line": {
          "color": "#ab63fa",
          "dash": "solid"
         },
         "marker": {
          "symbol": "circle"
         },
         "mode": "lines+markers",
         "name": "500mb_nci",
         "orientation": "v",
         "showlegend": true,
         "type": "scatter",
         "x": [
          4000,
          16000,
          64000,
          256000,
          1024000,
          4096000,
          16384000,
          65536000
         ],
         "xaxis": "x16",
         "y": [
          46.02452757263967,
          38.59687060519998,
          42.17495382279845,
          41.57596949195823,
          54.05294250374876,
          32.30356652015284,
          8.611001256427759,
          4.127199700748465
         ],
         "yaxis": "y16"
        },
        {
         "hovertemplate": "file=500mb_nci<br>standard=bitcomp<br>gpu=RTX2080TI<br>chunk_size=%{x}<br>decompression_utilization=%{y}<extra></extra>",
         "legendgroup": "500mb_nci",
         "line": {
          "color": "#ab63fa",
          "dash": "solid"
         },
         "marker": {
          "symbol": "circle"
         },
         "mode": "lines+markers",
         "name": "500mb_nci",
         "orientation": "v",
         "showlegend": false,
         "type": "scatter",
         "x": [
          4000,
          16000,
          64000,
          256000,
          1024000,
          4096000,
          16384000,
          65536000
         ],
         "xaxis": "x17",
         "y": [
          33.05053505974696,
          14.443637479875777,
          23.505998013594464,
          23.963655882813956,
          11.21433176668892,
          3.9509119245987776,
          3.3142605479529754,
          1.0121611413927463
         ],
         "yaxis": "y17"
        },
        {
         "hovertemplate": "file=500mb_nci<br>standard=bitcomp<br>gpu=RTX3050TI<br>chunk_size=%{x}<br>decompression_utilization=%{y}<extra></extra>",
         "legendgroup": "500mb_nci",
         "line": {
          "color": "#ab63fa",
          "dash": "solid"
         },
         "marker": {
          "symbol": "circle"
         },
         "mode": "lines+markers",
         "name": "500mb_nci",
         "orientation": "v",
         "showlegend": false,
         "type": "scatter",
         "x": [
          4000,
          16000,
          64000,
          256000,
          1024000,
          4096000,
          16384000,
          65536000
         ],
         "xaxis": "x18",
         "y": [
          24.5,
          15.321863051790059,
          14.49172716528786,
          3.8698092698288424,
          3.565527550153437,
          0.9748565109595781,
          1.0807777507692289,
          0.9971090460651992
         ],
         "yaxis": "y18"
        },
        {
         "hovertemplate": "file=500mb_nci<br>standard=gdeflate<br>gpu=A100<br>chunk_size=%{x}<br>decompression_utilization=%{y}<extra></extra>",
         "legendgroup": "500mb_nci",
         "line": {
          "color": "#ab63fa",
          "dash": "solid"
         },
         "marker": {
          "symbol": "circle"
         },
         "mode": "lines+markers",
         "name": "500mb_nci",
         "orientation": "v",
         "showlegend": false,
         "type": "scatter",
         "x": [
          4000,
          16000,
          64000
         ],
         "xaxis": "x10",
         "y": [
          71.9188262200206,
          70.37314561446769,
          72.43765474601442
         ],
         "yaxis": "y10"
        },
        {
         "hovertemplate": "file=500mb_nci<br>standard=gdeflate<br>gpu=RTX2080TI<br>chunk_size=%{x}<br>decompression_utilization=%{y}<extra></extra>",
         "legendgroup": "500mb_nci",
         "line": {
          "color": "#ab63fa",
          "dash": "solid"
         },
         "marker": {
          "symbol": "circle"
         },
         "mode": "lines+markers",
         "name": "500mb_nci",
         "orientation": "v",
         "showlegend": false,
         "type": "scatter",
         "x": [
          4000,
          16000,
          64000
         ],
         "xaxis": "x11",
         "y": [
          22.675531542099506,
          19.67718356584747,
          12.363172788511317
         ],
         "yaxis": "y11"
        },
        {
         "hovertemplate": "file=500mb_nci<br>standard=gdeflate<br>gpu=RTX3050TI<br>chunk_size=%{x}<br>decompression_utilization=%{y}<extra></extra>",
         "legendgroup": "500mb_nci",
         "line": {
          "color": "#ab63fa",
          "dash": "solid"
         },
         "marker": {
          "symbol": "circle"
         },
         "mode": "lines+markers",
         "name": "500mb_nci",
         "orientation": "v",
         "showlegend": false,
         "type": "scatter",
         "x": [
          4000,
          16000,
          64000
         ],
         "xaxis": "x12",
         "y": [
          32.44927664558077,
          20.071469520013693,
          6.051262246278654
         ],
         "yaxis": "y12"
        },
        {
         "hovertemplate": "file=500mb_nci<br>standard=lz4<br>gpu=A100<br>chunk_size=%{x}<br>decompression_utilization=%{y}<extra></extra>",
         "legendgroup": "500mb_nci",
         "line": {
          "color": "#ab63fa",
          "dash": "solid"
         },
         "marker": {
          "symbol": "circle"
         },
         "mode": "lines+markers",
         "name": "500mb_nci",
         "orientation": "v",
         "showlegend": false,
         "type": "scatter",
         "x": [
          4000,
          16000,
          64000,
          256000,
          1024000,
          4096000,
          16384000
         ],
         "xaxis": "x7",
         "y": [
          66.89133807799129,
          66.88794834695501,
          71.54082746216909,
          82.35343859461769,
          86.62703786387371,
          37.71924666612341,
          10.208372688200303
         ],
         "yaxis": "y7"
        },
        {
         "hovertemplate": "file=500mb_nci<br>standard=lz4<br>gpu=RTX2080TI<br>chunk_size=%{x}<br>decompression_utilization=%{y}<extra></extra>",
         "legendgroup": "500mb_nci",
         "line": {
          "color": "#ab63fa",
          "dash": "solid"
         },
         "marker": {
          "symbol": "circle"
         },
         "mode": "lines+markers",
         "name": "500mb_nci",
         "orientation": "v",
         "showlegend": false,
         "type": "scatter",
         "x": [
          4000,
          16000,
          64000,
          256000,
          1024000,
          4096000,
          16384000
         ],
         "xaxis": "x8",
         "y": [
          31.175594836211992,
          23.050513762948068,
          13.868405154377129,
          4.307146347751969,
          1.018317570368156,
          1.0065427374918543,
          1.0024929467433985
         ],
         "yaxis": "y8"
        },
        {
         "hovertemplate": "file=500mb_nci<br>standard=lz4<br>gpu=RTX3050TI<br>chunk_size=%{x}<br>decompression_utilization=%{y}<extra></extra>",
         "legendgroup": "500mb_nci",
         "line": {
          "color": "#ab63fa",
          "dash": "solid"
         },
         "marker": {
          "symbol": "circle"
         },
         "mode": "lines+markers",
         "name": "500mb_nci",
         "orientation": "v",
         "showlegend": false,
         "type": "scatter",
         "x": [
          4000,
          16000,
          64000,
          256000,
          1024000,
          4096000,
          16384000
         ],
         "xaxis": "x9",
         "y": [
          36.59927686255427,
          22.778475824828153,
          6.079562437602917,
          1.764863144171608,
          1.0013953886020894,
          1.0008081094890984,
          1.0000710309156196
         ],
         "yaxis": "y9"
        },
        {
         "hovertemplate": "file=500mb_nci<br>standard=snappy<br>gpu=A100<br>chunk_size=%{x}<br>decompression_utilization=%{y}<extra></extra>",
         "legendgroup": "500mb_nci",
         "line": {
          "color": "#ab63fa",
          "dash": "solid"
         },
         "marker": {
          "symbol": "circle"
         },
         "mode": "lines+markers",
         "name": "500mb_nci",
         "orientation": "v",
         "showlegend": false,
         "type": "scatter",
         "x": [
          4000,
          16000,
          64000,
          256000,
          1024000,
          4096000,
          16384000,
          65536000
         ],
         "xaxis": "x4",
         "y": [
          57.63450944988311,
          57.856569000816734,
          61.77731556319007,
          70.64927405461813,
          85.89946531969588,
          37.59292947213242,
          10.19648606142141,
          5.001288566340795
         ],
         "yaxis": "y4"
        },
        {
         "hovertemplate": "file=500mb_nci<br>standard=snappy<br>gpu=RTX2080TI<br>chunk_size=%{x}<br>decompression_utilization=%{y}<extra></extra>",
         "legendgroup": "500mb_nci",
         "line": {
          "color": "#ab63fa",
          "dash": "solid"
         },
         "marker": {
          "symbol": "circle"
         },
         "mode": "lines+markers",
         "name": "500mb_nci",
         "orientation": "v",
         "showlegend": false,
         "type": "scatter",
         "x": [
          4000,
          16000,
          64000,
          256000,
          1024000,
          4096000,
          16384000,
          65536000
         ],
         "xaxis": "x5",
         "y": [
          23.59728189021402,
          19.18291159212457,
          11.738805951570239,
          5.536736295185213,
          1.9240722097464358,
          1.0070160197176135,
          1.0023952939820946,
          1.0005198020475778
         ],
         "yaxis": "y5"
        },
        {
         "hovertemplate": "file=500mb_nci<br>standard=snappy<br>gpu=RTX3050TI<br>chunk_size=%{x}<br>decompression_utilization=%{y}<extra></extra>",
         "legendgroup": "500mb_nci",
         "line": {
          "color": "#ab63fa",
          "dash": "solid"
         },
         "marker": {
          "symbol": "circle"
         },
         "mode": "lines+markers",
         "name": "500mb_nci",
         "orientation": "v",
         "showlegend": false,
         "type": "scatter",
         "x": [
          4000,
          16000,
          64000,
          256000,
          1024000,
          4096000,
          16384000,
          65536000
         ],
         "xaxis": "x6",
         "y": [
          43.918438718165774,
          27.846805633999097,
          12.435461218763901,
          3.4459600086641515,
          0.999095373625817,
          1.0003814332122878,
          1.0012777897865983,
          1.0003126758929906
         ],
         "yaxis": "y6"
        },
        {
         "hovertemplate": "file=500mb_nci<br>standard=zstd<br>gpu=A100<br>chunk_size=%{x}<br>decompression_utilization=%{y}<extra></extra>",
         "legendgroup": "500mb_nci",
         "line": {
          "color": "#ab63fa",
          "dash": "solid"
         },
         "marker": {
          "symbol": "circle"
         },
         "mode": "lines+markers",
         "name": "500mb_nci",
         "orientation": "v",
         "showlegend": false,
         "type": "scatter",
         "x": [
          4000,
          16000,
          64000,
          256000,
          1024000,
          4096000,
          16384000
         ],
         "xaxis": "x",
         "y": [
          68.20298645609668,
          68.04533230127996,
          71.11200566741775,
          80.612971518778,
          88.10549025989748,
          78.19374906684001,
          27.411685837592653
         ],
         "yaxis": "y"
        },
        {
         "hovertemplate": "file=500mb_nci<br>standard=zstd<br>gpu=RTX2080TI<br>chunk_size=%{x}<br>decompression_utilization=%{y}<extra></extra>",
         "legendgroup": "500mb_nci",
         "line": {
          "color": "#ab63fa",
          "dash": "solid"
         },
         "marker": {
          "symbol": "circle"
         },
         "mode": "lines+markers",
         "name": "500mb_nci",
         "orientation": "v",
         "showlegend": false,
         "type": "scatter",
         "x": [
          4000,
          16000,
          64000,
          256000,
          1024000,
          4096000,
          16384000
         ],
         "xaxis": "x2",
         "y": [
          19.49227539268192,
          24.550683583321266,
          22.089407595118708,
          7.2219841040979516,
          3.4324264654984207,
          0.9998653030050398,
          0.9998696533570028
         ],
         "yaxis": "y2"
        },
        {
         "hovertemplate": "file=500mb_nci<br>standard=zstd<br>gpu=RTX3050TI<br>chunk_size=%{x}<br>decompression_utilization=%{y}<extra></extra>",
         "legendgroup": "500mb_nci",
         "line": {
          "color": "#ab63fa",
          "dash": "solid"
         },
         "marker": {
          "symbol": "circle"
         },
         "mode": "lines+markers",
         "name": "500mb_nci",
         "orientation": "v",
         "showlegend": false,
         "type": "scatter",
         "x": [
          4000,
          16000,
          64000,
          256000,
          1024000,
          4096000,
          16384000
         ],
         "xaxis": "x3",
         "y": [
          35.35280218085396,
          22.4605692027422,
          6.431861139998399,
          1.9854430002890255,
          0.9997171415069013,
          0.9998571560876065,
          0.999996512290819
         ],
         "yaxis": "y3"
        },
        {
         "hovertemplate": "file=500mb_samba<br>standard=bitcomp<br>gpu=A100<br>chunk_size=%{x}<br>decompression_utilization=%{y}<extra></extra>",
         "legendgroup": "500mb_samba",
         "line": {
          "color": "#FFA15A",
          "dash": "solid"
         },
         "marker": {
          "symbol": "circle"
         },
         "mode": "lines+markers",
         "name": "500mb_samba",
         "orientation": "v",
         "showlegend": true,
         "type": "scatter",
         "x": [
          4000,
          16000,
          64000,
          256000,
          1024000,
          4096000,
          16384000,
          65536000
         ],
         "xaxis": "x16",
         "y": [
          40.28950873522624,
          32.967704135585464,
          36.21195469451253,
          45.68769626544171,
          51.92960693798746,
          21.250179224005763,
          5.185313001123442,
          4.052844693909313
         ],
         "yaxis": "y16"
        },
        {
         "hovertemplate": "file=500mb_samba<br>standard=bitcomp<br>gpu=RTX2080TI<br>chunk_size=%{x}<br>decompression_utilization=%{y}<extra></extra>",
         "legendgroup": "500mb_samba",
         "line": {
          "color": "#FFA15A",
          "dash": "solid"
         },
         "marker": {
          "symbol": "circle"
         },
         "mode": "lines+markers",
         "name": "500mb_samba",
         "orientation": "v",
         "showlegend": false,
         "type": "scatter",
         "x": [
          4000,
          16000,
          64000,
          256000,
          1024000,
          4096000,
          16384000,
          65536000
         ],
         "xaxis": "x17",
         "y": [
          37.5,
          10.66260843098463,
          4.2857134145101945,
          0.7538129213850887,
          7.8349250422782415,
          2.0391330937656162,
          1.067273570931731,
          0.9936555072825407
         ],
         "yaxis": "y17"
        },
        {
         "hovertemplate": "file=500mb_samba<br>standard=bitcomp<br>gpu=RTX3050TI<br>chunk_size=%{x}<br>decompression_utilization=%{y}<extra></extra>",
         "legendgroup": "500mb_samba",
         "line": {
          "color": "#FFA15A",
          "dash": "solid"
         },
         "marker": {
          "symbol": "circle"
         },
         "mode": "lines+markers",
         "name": "500mb_samba",
         "orientation": "v",
         "showlegend": false,
         "type": "scatter",
         "x": [
          4000,
          16000,
          64000,
          256000,
          1024000,
          4096000,
          16384000,
          65536000
         ],
         "xaxis": "x18",
         "y": [
          14.773828292962591,
          2,
          3,
          4.233684810487318,
          1.6929069248381656,
          1.1227939503886755,
          -0.0029555537472975755,
          0.9969263322606894
         ],
         "yaxis": "y18"
        },
        {
         "hovertemplate": "file=500mb_samba<br>standard=cascaded<br>gpu=A100<br>chunk_size=%{x}<br>decompression_utilization=%{y}<extra></extra>",
         "legendgroup": "500mb_samba",
         "line": {
          "color": "#FFA15A",
          "dash": "solid"
         },
         "marker": {
          "symbol": "circle"
         },
         "mode": "lines+markers",
         "name": "500mb_samba",
         "orientation": "v",
         "showlegend": false,
         "type": "scatter",
         "x": [
          4000,
          16000,
          64000,
          256000,
          1024000,
          4096000,
          16384000,
          65536000
         ],
         "xaxis": "x13",
         "y": [
          47.113557139503826,
          45.93417498630251,
          49.97415895380597,
          58.0256684689187,
          83.66237994772592,
          22.933038064614852,
          6.242466730412222,
          5.0112983202754835
         ],
         "yaxis": "y13"
        },
        {
         "hovertemplate": "file=500mb_samba<br>standard=cascaded<br>gpu=RTX2080TI<br>chunk_size=%{x}<br>decompression_utilization=%{y}<extra></extra>",
         "legendgroup": "500mb_samba",
         "line": {
          "color": "#FFA15A",
          "dash": "solid"
         },
         "marker": {
          "symbol": "circle"
         },
         "mode": "lines+markers",
         "name": "500mb_samba",
         "orientation": "v",
         "showlegend": false,
         "type": "scatter",
         "x": [
          4000,
          16000,
          64000,
          256000,
          1024000,
          4096000,
          16384000,
          65536000
         ],
         "xaxis": "x14",
         "y": [
          35.79993202307371,
          31.456346582861194,
          20.279844314643626,
          13.314236392779346,
          1.3181835572330736,
          1,
          1.0162726902451888,
          0.9995410372118112
         ],
         "yaxis": "y14"
        },
        {
         "hovertemplate": "file=500mb_samba<br>standard=cascaded<br>gpu=RTX3050TI<br>chunk_size=%{x}<br>decompression_utilization=%{y}<extra></extra>",
         "legendgroup": "500mb_samba",
         "line": {
          "color": "#FFA15A",
          "dash": "solid"
         },
         "marker": {
          "symbol": "circle"
         },
         "mode": "lines+markers",
         "name": "500mb_samba",
         "orientation": "v",
         "showlegend": false,
         "type": "scatter",
         "x": [
          4000,
          16000,
          64000,
          256000,
          1024000,
          4096000,
          16384000,
          65536000
         ],
         "xaxis": "x15",
         "y": [
          28.281689953059,
          28.438475066346253,
          13.32684020325631,
          4.435409314443123,
          1.0099333361085452,
          1.0083329634791502,
          1.0004480057877503,
          0.9997711684246686
         ],
         "yaxis": "y15"
        },
        {
         "hovertemplate": "file=500mb_samba<br>standard=gdeflate<br>gpu=A100<br>chunk_size=%{x}<br>decompression_utilization=%{y}<extra></extra>",
         "legendgroup": "500mb_samba",
         "line": {
          "color": "#FFA15A",
          "dash": "solid"
         },
         "marker": {
          "symbol": "circle"
         },
         "mode": "lines+markers",
         "name": "500mb_samba",
         "orientation": "v",
         "showlegend": false,
         "type": "scatter",
         "x": [
          4000,
          16000,
          64000
         ],
         "xaxis": "x10",
         "y": [
          71.19561036409712,
          70.09730065736332,
          70.88551316454434
         ],
         "yaxis": "y10"
        },
        {
         "hovertemplate": "file=500mb_samba<br>standard=gdeflate<br>gpu=RTX2080TI<br>chunk_size=%{x}<br>decompression_utilization=%{y}<extra></extra>",
         "legendgroup": "500mb_samba",
         "line": {
          "color": "#FFA15A",
          "dash": "solid"
         },
         "marker": {
          "symbol": "circle"
         },
         "mode": "lines+markers",
         "name": "500mb_samba",
         "orientation": "v",
         "showlegend": false,
         "type": "scatter",
         "x": [
          4000,
          16000,
          64000
         ],
         "xaxis": "x11",
         "y": [
          13.620712511487431,
          11.409873555471961,
          5.9746842803649765
         ],
         "yaxis": "y11"
        },
        {
         "hovertemplate": "file=500mb_samba<br>standard=gdeflate<br>gpu=RTX3050TI<br>chunk_size=%{x}<br>decompression_utilization=%{y}<extra></extra>",
         "legendgroup": "500mb_samba",
         "line": {
          "color": "#FFA15A",
          "dash": "solid"
         },
         "marker": {
          "symbol": "circle"
         },
         "mode": "lines+markers",
         "name": "500mb_samba",
         "orientation": "v",
         "showlegend": false,
         "type": "scatter",
         "x": [
          4000,
          16000,
          64000
         ],
         "xaxis": "x12",
         "y": [
          28.594785993349014,
          11.473523349013746,
          2.9001960143565606
         ],
         "yaxis": "y12"
        },
        {
         "hovertemplate": "file=500mb_samba<br>standard=lz4<br>gpu=A100<br>chunk_size=%{x}<br>decompression_utilization=%{y}<extra></extra>",
         "legendgroup": "500mb_samba",
         "line": {
          "color": "#FFA15A",
          "dash": "solid"
         },
         "marker": {
          "symbol": "circle"
         },
         "mode": "lines+markers",
         "name": "500mb_samba",
         "orientation": "v",
         "showlegend": false,
         "type": "scatter",
         "x": [
          4000,
          16000,
          64000,
          256000,
          1024000,
          4096000,
          16384000
         ],
         "xaxis": "x7",
         "y": [
          66.54166489196808,
          67.14792590330939,
          70.1088979236619,
          76.56450594840348,
          73.78084343619423,
          22.951581327668308,
          6.731484669744411
         ],
         "yaxis": "y7"
        },
        {
         "hovertemplate": "file=500mb_samba<br>standard=lz4<br>gpu=RTX2080TI<br>chunk_size=%{x}<br>decompression_utilization=%{y}<extra></extra>",
         "legendgroup": "500mb_samba",
         "line": {
          "color": "#FFA15A",
          "dash": "solid"
         },
         "marker": {
          "symbol": "circle"
         },
         "mode": "lines+markers",
         "name": "500mb_samba",
         "orientation": "v",
         "showlegend": false,
         "type": "scatter",
         "x": [
          4000,
          16000,
          64000,
          256000,
          1024000,
          4096000,
          16384000
         ],
         "xaxis": "x8",
         "y": [
          20.362503877152925,
          12.807601278973396,
          6.429467789064882,
          2.1992241348655854,
          0.9996008717488567,
          1.0003236679687153,
          1.0006222489707226
         ],
         "yaxis": "y8"
        },
        {
         "hovertemplate": "file=500mb_samba<br>standard=lz4<br>gpu=RTX3050TI<br>chunk_size=%{x}<br>decompression_utilization=%{y}<extra></extra>",
         "legendgroup": "500mb_samba",
         "line": {
          "color": "#FFA15A",
          "dash": "solid"
         },
         "marker": {
          "symbol": "circle"
         },
         "mode": "lines+markers",
         "name": "500mb_samba",
         "orientation": "v",
         "showlegend": false,
         "type": "scatter",
         "x": [
          4000,
          16000,
          64000,
          256000,
          1024000,
          4096000,
          16384000
         ],
         "xaxis": "x9",
         "y": [
          28.386349273382848,
          12.379577924360959,
          3.069942259565653,
          1,
          1.0012693628831544,
          1.0003733843018083,
          0.9999719842966572
         ],
         "yaxis": "y9"
        },
        {
         "hovertemplate": "file=500mb_samba<br>standard=snappy<br>gpu=A100<br>chunk_size=%{x}<br>decompression_utilization=%{y}<extra></extra>",
         "legendgroup": "500mb_samba",
         "line": {
          "color": "#FFA15A",
          "dash": "solid"
         },
         "marker": {
          "symbol": "circle"
         },
         "mode": "lines+markers",
         "name": "500mb_samba",
         "orientation": "v",
         "showlegend": false,
         "type": "scatter",
         "x": [
          4000,
          16000,
          64000,
          256000,
          1024000,
          4096000,
          16384000,
          65536000
         ],
         "xaxis": "x4",
         "y": [
          57.578902523535625,
          57.22675363417135,
          60.16044014057348,
          71.39691732270742,
          70.78281984574005,
          22.009633017378935,
          6.735569948125196,
          5.000883702597433
         ],
         "yaxis": "y4"
        },
        {
         "hovertemplate": "file=500mb_samba<br>standard=snappy<br>gpu=RTX2080TI<br>chunk_size=%{x}<br>decompression_utilization=%{y}<extra></extra>",
         "legendgroup": "500mb_samba",
         "line": {
          "color": "#FFA15A",
          "dash": "solid"
         },
         "marker": {
          "symbol": "circle"
         },
         "mode": "lines+markers",
         "name": "500mb_samba",
         "orientation": "v",
         "showlegend": false,
         "type": "scatter",
         "x": [
          4000,
          16000,
          64000,
          256000,
          1024000,
          4096000,
          16384000,
          65536000
         ],
         "xaxis": "x5",
         "y": [
          21.852286931745507,
          16.488268402175926,
          8.919600090326036,
          65.90423049487403,
          1.0048577092154876,
          1.0007187706282874,
          1.0009989680498554,
          0.9999599601384022
         ],
         "yaxis": "y5"
        },
        {
         "hovertemplate": "file=500mb_samba<br>standard=snappy<br>gpu=RTX3050TI<br>chunk_size=%{x}<br>decompression_utilization=%{y}<extra></extra>",
         "legendgroup": "500mb_samba",
         "line": {
          "color": "#FFA15A",
          "dash": "solid"
         },
         "marker": {
          "symbol": "circle"
         },
         "mode": "lines+markers",
         "name": "500mb_samba",
         "orientation": "v",
         "showlegend": false,
         "type": "scatter",
         "x": [
          4000,
          16000,
          64000,
          256000,
          1024000,
          4096000,
          16384000,
          65536000
         ],
         "xaxis": "x6",
         "y": [
          35.199096956760044,
          22.3171479998707,
          6.001777755525578,
          1.6533342885860405,
          -0.00014775290436665504,
          0.9999061469742105,
          0.9999634174654337,
          0.9999815012538843
         ],
         "yaxis": "y6"
        },
        {
         "hovertemplate": "file=500mb_samba<br>standard=zstd<br>gpu=A100<br>chunk_size=%{x}<br>decompression_utilization=%{y}<extra></extra>",
         "legendgroup": "500mb_samba",
         "line": {
          "color": "#FFA15A",
          "dash": "solid"
         },
         "marker": {
          "symbol": "circle"
         },
         "mode": "lines+markers",
         "name": "500mb_samba",
         "orientation": "v",
         "showlegend": false,
         "type": "scatter",
         "x": [
          4000,
          16000,
          64000,
          256000,
          1024000,
          4096000,
          16384000
         ],
         "xaxis": "x",
         "y": [
          67.74169307771157,
          67.29054602031607,
          64.48179457170956,
          76.8608541317936,
          76.80480442573699,
          49.52896798591142,
          18.461864778578416
         ],
         "yaxis": "y"
        },
        {
         "hovertemplate": "file=500mb_samba<br>standard=zstd<br>gpu=RTX2080TI<br>chunk_size=%{x}<br>decompression_utilization=%{y}<extra></extra>",
         "legendgroup": "500mb_samba",
         "line": {
          "color": "#FFA15A",
          "dash": "solid"
         },
         "marker": {
          "symbol": "circle"
         },
         "mode": "lines+markers",
         "name": "500mb_samba",
         "orientation": "v",
         "showlegend": false,
         "type": "scatter",
         "x": [
          4000,
          16000,
          64000,
          256000,
          1024000,
          4096000,
          16384000
         ],
         "xaxis": "x2",
         "y": [
          12.386497692097501,
          12.091466535469063,
          10.682968161372095,
          3.9414878630710914,
          2.0402701701192463,
          0.9999211132461363,
          0.9999167633061041
         ],
         "yaxis": "y2"
        },
        {
         "hovertemplate": "file=500mb_samba<br>standard=zstd<br>gpu=RTX3050TI<br>chunk_size=%{x}<br>decompression_utilization=%{y}<extra></extra>",
         "legendgroup": "500mb_samba",
         "line": {
          "color": "#FFA15A",
          "dash": "solid"
         },
         "marker": {
          "symbol": "circle"
         },
         "mode": "lines+markers",
         "name": "500mb_samba",
         "orientation": "v",
         "showlegend": false,
         "type": "scatter",
         "x": [
          4000,
          16000,
          64000,
          256000,
          1024000,
          4096000,
          16384000
         ],
         "xaxis": "x3",
         "y": [
          31.93170550697696,
          11.078536464621344,
          -0.00030138199921745377,
          -0.00009291213241567368,
          0.9998315810410593,
          0.999910647885466,
          0.9999035143218495
         ],
         "yaxis": "y3"
        },
        {
         "hovertemplate": "file=500mb_sao<br>standard=bitcomp<br>gpu=A100<br>chunk_size=%{x}<br>decompression_utilization=%{y}<extra></extra>",
         "legendgroup": "500mb_sao",
         "line": {
          "color": "#19d3f3",
          "dash": "solid"
         },
         "marker": {
          "symbol": "circle"
         },
         "mode": "lines+markers",
         "name": "500mb_sao",
         "orientation": "v",
         "showlegend": true,
         "type": "scatter",
         "x": [
          4000,
          16000,
          64000,
          256000,
          1024000,
          4096000,
          16384000,
          65536000
         ],
         "xaxis": "x16",
         "y": [
          24.15943333054323,
          14.77074263886631,
          23.52999334594135,
          14.99419886173316,
          22.089768727594446,
          6.678618775899247,
          4.107806386974753,
          4.041148524268177
         ],
         "yaxis": "y16"
        },
        {
         "hovertemplate": "file=500mb_sao<br>standard=bitcomp<br>gpu=RTX2080TI<br>chunk_size=%{x}<br>decompression_utilization=%{y}<extra></extra>",
         "legendgroup": "500mb_sao",
         "line": {
          "color": "#19d3f3",
          "dash": "solid"
         },
         "marker": {
          "symbol": "circle"
         },
         "mode": "lines+markers",
         "name": "500mb_sao",
         "orientation": "v",
         "showlegend": false,
         "type": "scatter",
         "x": [
          4000,
          16000,
          64000,
          256000,
          1024000,
          4096000,
          16384000,
          65536000
         ],
         "xaxis": "x17",
         "y": [
          17.32713484313318,
          0,
          0,
          2.8010923269854104,
          2.3045758103441623,
          0.9814833593607399,
          0.9908144268193076,
          0.9910098696795632
         ],
         "yaxis": "y17"
        },
        {
         "hovertemplate": "file=500mb_sao<br>standard=bitcomp<br>gpu=RTX3050TI<br>chunk_size=%{x}<br>decompression_utilization=%{y}<extra></extra>",
         "legendgroup": "500mb_sao",
         "line": {
          "color": "#19d3f3",
          "dash": "solid"
         },
         "marker": {
          "symbol": "circle"
         },
         "mode": "lines+markers",
         "name": "500mb_sao",
         "orientation": "v",
         "showlegend": false,
         "type": "scatter",
         "x": [
          4000,
          16000,
          64000,
          256000,
          1024000,
          4096000,
          16384000,
          65536000
         ],
         "xaxis": "x18",
         "y": [
          2.484708998045274,
          -1,
          -1,
          1.3217857142857143,
          0.9630860064019462,
          0.9905008421956907,
          0.9951430499698828,
          0.9951537735152705
         ],
         "yaxis": "y18"
        },
        {
         "hovertemplate": "file=500mb_sao<br>standard=cascaded<br>gpu=A100<br>chunk_size=%{x}<br>decompression_utilization=%{y}<extra></extra>",
         "legendgroup": "500mb_sao",
         "line": {
          "color": "#19d3f3",
          "dash": "solid"
         },
         "marker": {
          "symbol": "circle"
         },
         "mode": "lines+markers",
         "name": "500mb_sao",
         "orientation": "v",
         "showlegend": false,
         "type": "scatter",
         "x": [
          4000,
          16000,
          64000,
          256000,
          1024000,
          4096000,
          16384000,
          65536000
         ],
         "xaxis": "x13",
         "y": [
          41.73905691222162,
          44.322460027692564,
          44.49071979403092,
          81.99612274075818,
          31.88423730407129,
          8.071948988938434,
          4.993332684387612,
          5.004703440898805
         ],
         "yaxis": "y13"
        },
        {
         "hovertemplate": "file=500mb_sao<br>standard=cascaded<br>gpu=RTX2080TI<br>chunk_size=%{x}<br>decompression_utilization=%{y}<extra></extra>",
         "legendgroup": "500mb_sao",
         "line": {
          "color": "#19d3f3",
          "dash": "solid"
         },
         "marker": {
          "symbol": "circle"
         },
         "mode": "lines+markers",
         "name": "500mb_sao",
         "orientation": "v",
         "showlegend": false,
         "type": "scatter",
         "x": [
          4000,
          16000,
          64000,
          256000,
          1024000,
          4096000,
          16384000,
          65536000
         ],
         "xaxis": "x14",
         "y": [
          22.104806824855746,
          18.04602143404059,
          12.424301645218744,
          4.356533954191042,
          9.941611251978788,
          0.9990291842382722,
          1.0007610193558882,
          1.0002554920313111
         ],
         "yaxis": "y14"
        },
        {
         "hovertemplate": "file=500mb_sao<br>standard=cascaded<br>gpu=RTX3050TI<br>chunk_size=%{x}<br>decompression_utilization=%{y}<extra></extra>",
         "legendgroup": "500mb_sao",
         "line": {
          "color": "#19d3f3",
          "dash": "solid"
         },
         "marker": {
          "symbol": "circle"
         },
         "mode": "lines+markers",
         "name": "500mb_sao",
         "orientation": "v",
         "showlegend": false,
         "type": "scatter",
         "x": [
          4000,
          16000,
          64000,
          256000,
          1024000,
          4096000,
          16384000,
          65536000
         ],
         "xaxis": "x15",
         "y": [
          10.899428873262686,
          9.422374033625008,
          4.914625777419495,
          1.9219801543048438,
          0.9978237927789979,
          0.9994536236561296,
          1.000139332494899,
          0.9997207752438277
         ],
         "yaxis": "y15"
        },
        {
         "hovertemplate": "file=500mb_sao<br>standard=gdeflate<br>gpu=A100<br>chunk_size=%{x}<br>decompression_utilization=%{y}<extra></extra>",
         "legendgroup": "500mb_sao",
         "line": {
          "color": "#19d3f3",
          "dash": "solid"
         },
         "marker": {
          "symbol": "circle"
         },
         "mode": "lines+markers",
         "name": "500mb_sao",
         "orientation": "v",
         "showlegend": false,
         "type": "scatter",
         "x": [
          4000,
          16000,
          64000
         ],
         "xaxis": "x10",
         "y": [
          71.76367844508746,
          75.56624784447845,
          86.16617439411853
         ],
         "yaxis": "y10"
        },
        {
         "hovertemplate": "file=500mb_sao<br>standard=gdeflate<br>gpu=RTX2080TI<br>chunk_size=%{x}<br>decompression_utilization=%{y}<extra></extra>",
         "legendgroup": "500mb_sao",
         "line": {
          "color": "#19d3f3",
          "dash": "solid"
         },
         "marker": {
          "symbol": "circle"
         },
         "mode": "lines+markers",
         "name": "500mb_sao",
         "orientation": "v",
         "showlegend": false,
         "type": "scatter",
         "x": [
          4000,
          16000,
          64000
         ],
         "xaxis": "x11",
         "y": [
          8.806432293284018,
          8.403767919841254,
          3.24983427352241
         ],
         "yaxis": "y11"
        },
        {
         "hovertemplate": "file=500mb_sao<br>standard=gdeflate<br>gpu=RTX3050TI<br>chunk_size=%{x}<br>decompression_utilization=%{y}<extra></extra>",
         "legendgroup": "500mb_sao",
         "line": {
          "color": "#19d3f3",
          "dash": "solid"
         },
         "marker": {
          "symbol": "circle"
         },
         "mode": "lines+markers",
         "name": "500mb_sao",
         "orientation": "v",
         "showlegend": false,
         "type": "scatter",
         "x": [
          4000,
          16000,
          64000
         ],
         "xaxis": "x12",
         "y": [
          16.995435509655195,
          6.039584514853795,
          1.8968631716961668
         ],
         "yaxis": "y12"
        },
        {
         "hovertemplate": "file=500mb_sao<br>standard=lz4<br>gpu=A100<br>chunk_size=%{x}<br>decompression_utilization=%{y}<extra></extra>",
         "legendgroup": "500mb_sao",
         "line": {
          "color": "#19d3f3",
          "dash": "solid"
         },
         "marker": {
          "symbol": "circle"
         },
         "mode": "lines+markers",
         "name": "500mb_sao",
         "orientation": "v",
         "showlegend": false,
         "type": "scatter",
         "x": [
          4000,
          16000,
          64000,
          256000,
          1024000,
          4096000,
          16384000,
          65536000
         ],
         "xaxis": "x7",
         "y": [
          66.52381010770947,
          72.72688634291777,
          86.47611306562416,
          85.76716852749064,
          33.75964626659396,
          8.940991787209285,
          4.999864680648129,
          4.999466585465812
         ],
         "yaxis": "y7"
        },
        {
         "hovertemplate": "file=500mb_sao<br>standard=lz4<br>gpu=RTX2080TI<br>chunk_size=%{x}<br>decompression_utilization=%{y}<extra></extra>",
         "legendgroup": "500mb_sao",
         "line": {
          "color": "#19d3f3",
          "dash": "solid"
         },
         "marker": {
          "symbol": "circle"
         },
         "mode": "lines+markers",
         "name": "500mb_sao",
         "orientation": "v",
         "showlegend": false,
         "type": "scatter",
         "x": [
          4000,
          16000,
          64000,
          256000,
          1024000,
          4096000,
          16384000,
          65536000
         ],
         "xaxis": "x8",
         "y": [
          11.095594550131526,
          9.28475699732251,
          3.25612694849562,
          0.9993589791758497,
          0.9998272765838314,
          0.9999565513004549,
          0.99997793357844,
          0.9999777563503022
         ],
         "yaxis": "y8"
        },
        {
         "hovertemplate": "file=500mb_sao<br>standard=lz4<br>gpu=RTX3050TI<br>chunk_size=%{x}<br>decompression_utilization=%{y}<extra></extra>",
         "legendgroup": "500mb_sao",
         "line": {
          "color": "#19d3f3",
          "dash": "solid"
         },
         "marker": {
          "symbol": "circle"
         },
         "mode": "lines+markers",
         "name": "500mb_sao",
         "orientation": "v",
         "showlegend": false,
         "type": "scatter",
         "x": [
          4000,
          16000,
          64000,
          256000,
          1024000,
          4096000,
          16384000,
          65536000
         ],
         "xaxis": "x9",
         "y": [
          17.828547904724708,
          6.072635141087719,
          1.9108255918405779,
          1.0003939634704553,
          0.9998928115085871,
          0.9999725964956008,
          0.9999861233127736,
          0.9999861287756673
         ],
         "yaxis": "y9"
        },
        {
         "hovertemplate": "file=500mb_sao<br>standard=snappy<br>gpu=A100<br>chunk_size=%{x}<br>decompression_utilization=%{y}<extra></extra>",
         "legendgroup": "500mb_sao",
         "line": {
          "color": "#19d3f3",
          "dash": "solid"
         },
         "marker": {
          "symbol": "circle"
         },
         "mode": "lines+markers",
         "name": "500mb_sao",
         "orientation": "v",
         "showlegend": false,
         "type": "scatter",
         "x": [
          4000,
          16000,
          64000,
          256000,
          1024000,
          4096000,
          16384000,
          65536000
         ],
         "xaxis": "x4",
         "y": [
          56.282155485670046,
          61.73190314567305,
          73.95079972589568,
          86.59696196711874,
          32.71412905125621,
          8.902986367808667,
          4.999895404109582,
          4.999961859738298
         ],
         "yaxis": "y4"
        },
        {
         "hovertemplate": "file=500mb_sao<br>standard=snappy<br>gpu=RTX2080TI<br>chunk_size=%{x}<br>decompression_utilization=%{y}<extra></extra>",
         "legendgroup": "500mb_sao",
         "line": {
          "color": "#19d3f3",
          "dash": "solid"
         },
         "marker": {
          "symbol": "circle"
         },
         "mode": "lines+markers",
         "name": "500mb_sao",
         "orientation": "v",
         "showlegend": false,
         "type": "scatter",
         "x": [
          4000,
          16000,
          64000,
          256000,
          1024000,
          4096000,
          16384000,
          65536000
         ],
         "xaxis": "x5",
         "y": [
          19.965001773427453,
          17.183191587497348,
          5.45399639778653,
          1.2689787860225312,
          0.9995928656635651,
          0.9999144119205954,
          0.9999568746918549,
          0.999956872002586
         ],
         "yaxis": "y5"
        },
        {
         "hovertemplate": "file=500mb_sao<br>standard=snappy<br>gpu=RTX3050TI<br>chunk_size=%{x}<br>decompression_utilization=%{y}<extra></extra>",
         "legendgroup": "500mb_sao",
         "line": {
          "color": "#19d3f3",
          "dash": "solid"
         },
         "marker": {
          "symbol": "circle"
         },
         "mode": "lines+markers",
         "name": "500mb_sao",
         "orientation": "v",
         "showlegend": false,
         "type": "scatter",
         "x": [
          4000,
          16000,
          64000,
          256000,
          1024000,
          4096000,
          16384000,
          65536000
         ],
         "xaxis": "x6",
         "y": [
          31.406971436085005,
          11.215410529372528,
          2.8006260696573215,
          0.9994396122096261,
          0.9998458804927066,
          -0.00002024283222495572,
          0.9999794247658894,
          0.9999794282420914
         ],
         "yaxis": "y6"
        },
        {
         "hovertemplate": "file=500mb_sao<br>standard=zstd<br>gpu=A100<br>chunk_size=%{x}<br>decompression_utilization=%{y}<extra></extra>",
         "legendgroup": "500mb_sao",
         "line": {
          "color": "#19d3f3",
          "dash": "solid"
         },
         "marker": {
          "symbol": "circle"
         },
         "mode": "lines+markers",
         "name": "500mb_sao",
         "orientation": "v",
         "showlegend": false,
         "type": "scatter",
         "x": [
          4000,
          16000,
          64000,
          256000,
          1024000,
          4096000,
          16384000,
          65536000
         ],
         "xaxis": "x",
         "y": [
          68.70975497928535,
          70.64648934860514,
          77.08596177668359,
          58.20420472490232,
          66.50895683777892,
          17.393129956929805,
          9.473369190929109,
          9.472780388888122
         ],
         "yaxis": "y"
        },
        {
         "hovertemplate": "file=500mb_sao<br>standard=zstd<br>gpu=RTX2080TI<br>chunk_size=%{x}<br>decompression_utilization=%{y}<extra></extra>",
         "legendgroup": "500mb_sao",
         "line": {
          "color": "#19d3f3",
          "dash": "solid"
         },
         "marker": {
          "symbol": "circle"
         },
         "mode": "lines+markers",
         "name": "500mb_sao",
         "orientation": "v",
         "showlegend": false,
         "type": "scatter",
         "x": [
          4000,
          16000,
          64000,
          256000,
          1024000,
          4096000,
          16384000,
          65536000
         ],
         "xaxis": "x2",
         "y": [
          10.265427081912023,
          11.43636916482237,
          6.179349041320737,
          2.0058196710820444,
          0.9998704115005206,
          0.9999462421721631,
          0.9999557086122237,
          0.9998890840786648
         ],
         "yaxis": "y2"
        },
        {
         "hovertemplate": "file=500mb_sao<br>standard=zstd<br>gpu=RTX3050TI<br>chunk_size=%{x}<br>decompression_utilization=%{y}<extra></extra>",
         "legendgroup": "500mb_sao",
         "line": {
          "color": "#19d3f3",
          "dash": "solid"
         },
         "marker": {
          "symbol": "circle"
         },
         "mode": "lines+markers",
         "name": "500mb_sao",
         "orientation": "v",
         "showlegend": false,
         "type": "scatter",
         "x": [
          4000,
          16000,
          64000,
          256000,
          1024000,
          4096000,
          16384000,
          65536000
         ],
         "xaxis": "x3",
         "y": [
          19.542296868565323,
          6.196839162017241,
          1.9114454663519815,
          0.9998450515864613,
          0.9998770584386756,
          0.9999480469818336,
          0.9999480900697656,
          0.999947439964848
         ],
         "yaxis": "y3"
        },
        {
         "hovertemplate": "file=500mb_xml<br>standard=bitcomp<br>gpu=A100<br>chunk_size=%{x}<br>decompression_utilization=%{y}<extra></extra>",
         "legendgroup": "500mb_xml",
         "line": {
          "color": "#FF6692",
          "dash": "solid"
         },
         "marker": {
          "symbol": "circle"
         },
         "mode": "lines+markers",
         "name": "500mb_xml",
         "orientation": "v",
         "showlegend": true,
         "type": "scatter",
         "x": [
          4000,
          16000,
          64000,
          256000,
          1024000,
          4096000,
          16384000,
          65536000
         ],
         "xaxis": "x16",
         "y": [
          35.14004977704034,
          21.492124549181295,
          18.698036788213585,
          6.58054013866556,
          16.862182926870705,
          4.938946688370795,
          4.0291746104345725,
          3.899059128563912
         ],
         "yaxis": "y16"
        },
        {
         "hovertemplate": "file=500mb_xml<br>standard=bitcomp<br>gpu=RTX2080TI<br>chunk_size=%{x}<br>decompression_utilization=%{y}<extra></extra>",
         "legendgroup": "500mb_xml",
         "line": {
          "color": "#FF6692",
          "dash": "solid"
         },
         "marker": {
          "symbol": "circle"
         },
         "mode": "lines+markers",
         "name": "500mb_xml",
         "orientation": "v",
         "showlegend": false,
         "type": "scatter",
         "x": [
          4000,
          16000,
          64000,
          256000,
          1024000,
          4096000,
          16384000,
          65536000
         ],
         "xaxis": "x17",
         "y": [
          2,
          1,
          -1,
          2.697940090502762,
          1.696566232303391,
          0.9608988779500154,
          0.9929685568523845,
          0.9931026415294184
         ],
         "yaxis": "y17"
        },
        {
         "hovertemplate": "file=500mb_xml<br>standard=bitcomp<br>gpu=RTX3050TI<br>chunk_size=%{x}<br>decompression_utilization=%{y}<extra></extra>",
         "legendgroup": "500mb_xml",
         "line": {
          "color": "#FF6692",
          "dash": "solid"
         },
         "marker": {
          "symbol": "circle"
         },
         "mode": "lines+markers",
         "name": "500mb_xml",
         "orientation": "v",
         "showlegend": false,
         "type": "scatter",
         "x": [
          4000,
          16000,
          64000,
          256000,
          1024000,
          4096000,
          16384000,
          65536000
         ],
         "xaxis": "x18",
         "y": [
          2.44656283566058,
          -1,
          0.18013468013468015,
          1.8967567567567567,
          1,
          0.9931780648235261,
          1,
          0.9963376047873445
         ],
         "yaxis": "y18"
        },
        {
         "hovertemplate": "file=500mb_xml<br>standard=cascaded<br>gpu=A100<br>chunk_size=%{x}<br>decompression_utilization=%{y}<extra></extra>",
         "legendgroup": "500mb_xml",
         "line": {
          "color": "#FF6692",
          "dash": "solid"
         },
         "marker": {
          "symbol": "circle"
         },
         "mode": "lines+markers",
         "name": "500mb_xml",
         "orientation": "v",
         "showlegend": false,
         "type": "scatter",
         "x": [
          4000,
          16000,
          64000,
          256000,
          1024000,
          4096000,
          16384000,
          65536000
         ],
         "xaxis": "x13",
         "y": [
          43.61800027166592,
          45.60061395735481,
          52.60615867119694,
          82.1613982324255,
          22.885922172891526,
          6.174457731852141,
          4.999575550724812,
          4.980970513463506
         ],
         "yaxis": "y13"
        },
        {
         "hovertemplate": "file=500mb_xml<br>standard=cascaded<br>gpu=RTX2080TI<br>chunk_size=%{x}<br>decompression_utilization=%{y}<extra></extra>",
         "legendgroup": "500mb_xml",
         "line": {
          "color": "#FF6692",
          "dash": "solid"
         },
         "marker": {
          "symbol": "circle"
         },
         "mode": "lines+markers",
         "name": "500mb_xml",
         "orientation": "v",
         "showlegend": false,
         "type": "scatter",
         "x": [
          4000,
          16000,
          64000,
          256000,
          1024000,
          4096000,
          16384000,
          65536000
         ],
         "xaxis": "x14",
         "y": [
          4.4148126681846405,
          10.010066540367617,
          9.55728350618165,
          27.531168970382492,
          7.20398739339025,
          0,
          0.999486474079277,
          0.999486283369665
         ],
         "yaxis": "y14"
        },
        {
         "hovertemplate": "file=500mb_xml<br>standard=cascaded<br>gpu=RTX3050TI<br>chunk_size=%{x}<br>decompression_utilization=%{y}<extra></extra>",
         "legendgroup": "500mb_xml",
         "line": {
          "color": "#FF6692",
          "dash": "solid"
         },
         "marker": {
          "symbol": "circle"
         },
         "mode": "lines+markers",
         "name": "500mb_xml",
         "orientation": "v",
         "showlegend": false,
         "type": "scatter",
         "x": [
          4000,
          16000,
          64000,
          256000,
          1024000,
          4096000,
          16384000,
          65536000
         ],
         "xaxis": "x15",
         "y": [
          6.7403121518121125,
          6.327264239028945,
          3.698348054104275,
          0.9942877268886781,
          1,
          0.9994470788875167,
          0.9997038749497618,
          0.9997047220056476
         ],
         "yaxis": "y15"
        },
        {
         "hovertemplate": "file=500mb_xml<br>standard=gdeflate<br>gpu=A100<br>chunk_size=%{x}<br>decompression_utilization=%{y}<extra></extra>",
         "legendgroup": "500mb_xml",
         "line": {
          "color": "#FF6692",
          "dash": "solid"
         },
         "marker": {
          "symbol": "circle"
         },
         "mode": "lines+markers",
         "name": "500mb_xml",
         "orientation": "v",
         "showlegend": false,
         "type": "scatter",
         "x": [
          4000,
          16000,
          64000
         ],
         "xaxis": "x10",
         "y": [
          71.38726172950834,
          67.76170476892904,
          83.74229711886835
         ],
         "yaxis": "y10"
        },
        {
         "hovertemplate": "file=500mb_xml<br>standard=gdeflate<br>gpu=RTX2080TI<br>chunk_size=%{x}<br>decompression_utilization=%{y}<extra></extra>",
         "legendgroup": "500mb_xml",
         "line": {
          "color": "#FF6692",
          "dash": "solid"
         },
         "marker": {
          "symbol": "circle"
         },
         "mode": "lines+markers",
         "name": "500mb_xml",
         "orientation": "v",
         "showlegend": false,
         "type": "scatter",
         "x": [
          4000,
          16000,
          64000
         ],
         "xaxis": "x11",
         "y": [
          13.45835051496164,
          6.113156733294102,
          -1
         ],
         "yaxis": "y11"
        },
        {
         "hovertemplate": "file=500mb_xml<br>standard=gdeflate<br>gpu=RTX3050TI<br>chunk_size=%{x}<br>decompression_utilization=%{y}<extra></extra>",
         "legendgroup": "500mb_xml",
         "line": {
          "color": "#FF6692",
          "dash": "solid"
         },
         "marker": {
          "symbol": "circle"
         },
         "mode": "lines+markers",
         "name": "500mb_xml",
         "orientation": "v",
         "showlegend": false,
         "type": "scatter",
         "x": [
          4000,
          16000,
          64000
         ],
         "xaxis": "x12",
         "y": [
          9.873183505449308,
          2.7190349620721204,
          0.9996267238584122
         ],
         "yaxis": "y12"
        },
        {
         "hovertemplate": "file=500mb_xml<br>standard=lz4<br>gpu=A100<br>chunk_size=%{x}<br>decompression_utilization=%{y}<extra></extra>",
         "legendgroup": "500mb_xml",
         "line": {
          "color": "#FF6692",
          "dash": "solid"
         },
         "marker": {
          "symbol": "circle"
         },
         "mode": "lines+markers",
         "name": "500mb_xml",
         "orientation": "v",
         "showlegend": false,
         "type": "scatter",
         "x": [
          4000,
          16000,
          64000,
          256000,
          1024000,
          4096000,
          16384000,
          65536000
         ],
         "xaxis": "x7",
         "y": [
          66.30768470416834,
          65.31211456300508,
          84.66317269865151,
          62.5907131652242,
          17.870843581081033,
          7.642385288063114,
          4.998833160044319,
          4.999156998363354
         ],
         "yaxis": "y7"
        },
        {
         "hovertemplate": "file=500mb_xml<br>standard=lz4<br>gpu=RTX2080TI<br>chunk_size=%{x}<br>decompression_utilization=%{y}<extra></extra>",
         "legendgroup": "500mb_xml",
         "line": {
          "color": "#FF6692",
          "dash": "solid"
         },
         "marker": {
          "symbol": "circle"
         },
         "mode": "lines+markers",
         "name": "500mb_xml",
         "orientation": "v",
         "showlegend": false,
         "type": "scatter",
         "x": [
          4000,
          16000,
          64000,
          256000,
          1024000,
          4096000,
          16384000,
          65536000
         ],
         "xaxis": "x8",
         "y": [
          15.199893401370053,
          6.678548125219345,
          2.140407142546859,
          18.634999680778925,
          0.9998500117722282,
          0.9999186312702459,
          0.9999638001347315,
          1
         ],
         "yaxis": "y8"
        },
        {
         "hovertemplate": "file=500mb_xml<br>standard=lz4<br>gpu=RTX3050TI<br>chunk_size=%{x}<br>decompression_utilization=%{y}<extra></extra>",
         "legendgroup": "500mb_xml",
         "line": {
          "color": "#FF6692",
          "dash": "solid"
         },
         "marker": {
          "symbol": "circle"
         },
         "mode": "lines+markers",
         "name": "500mb_xml",
         "orientation": "v",
         "showlegend": false,
         "type": "scatter",
         "x": [
          4000,
          16000,
          64000,
          256000,
          1024000,
          4096000,
          16384000,
          65536000
         ],
         "xaxis": "x9",
         "y": [
          9.175675600910228,
          2.95237756010009,
          1,
          0.9997291401263886,
          0.9999132075769938,
          0.9999544092497996,
          0.9999789623475742,
          0.9999789584210736
         ],
         "yaxis": "y9"
        },
        {
         "hovertemplate": "file=500mb_xml<br>standard=snappy<br>gpu=A100<br>chunk_size=%{x}<br>decompression_utilization=%{y}<extra></extra>",
         "legendgroup": "500mb_xml",
         "line": {
          "color": "#FF6692",
          "dash": "solid"
         },
         "marker": {
          "symbol": "circle"
         },
         "mode": "lines+markers",
         "name": "500mb_xml",
         "orientation": "v",
         "showlegend": false,
         "type": "scatter",
         "x": [
          4000,
          16000,
          64000,
          256000,
          1024000,
          4096000,
          16384000,
          65536000
         ],
         "xaxis": "x4",
         "y": [
          57.88412537462596,
          64.69918111391661,
          77.64991522198059,
          66.13877445397151,
          20.21785355660914,
          7.281584100080028,
          4.999213532520935,
          4.998758862049485
         ],
         "yaxis": "y4"
        },
        {
         "hovertemplate": "file=500mb_xml<br>standard=snappy<br>gpu=RTX2080TI<br>chunk_size=%{x}<br>decompression_utilization=%{y}<extra></extra>",
         "legendgroup": "500mb_xml",
         "line": {
          "color": "#FF6692",
          "dash": "solid"
         },
         "marker": {
          "symbol": "circle"
         },
         "mode": "lines+markers",
         "name": "500mb_xml",
         "orientation": "v",
         "showlegend": false,
         "type": "scatter",
         "x": [
          4000,
          16000,
          64000,
          256000,
          1024000,
          4096000,
          16384000,
          65536000
         ],
         "xaxis": "x5",
         "y": [
          17.40823824295624,
          9.722745062745895,
          2.5011168357924567,
          1.001089467794328,
          0.9997006161033859,
          1.0000529728668326,
          1.0000501912842013,
          0.9999497820139889
         ],
         "yaxis": "y5"
        },
        {
         "hovertemplate": "file=500mb_xml<br>standard=snappy<br>gpu=RTX3050TI<br>chunk_size=%{x}<br>decompression_utilization=%{y}<extra></extra>",
         "legendgroup": "500mb_xml",
         "line": {
          "color": "#FF6692",
          "dash": "solid"
         },
         "marker": {
          "symbol": "circle"
         },
         "mode": "lines+markers",
         "name": "500mb_xml",
         "orientation": "v",
         "showlegend": false,
         "type": "scatter",
         "x": [
          4000,
          16000,
          64000,
          256000,
          1024000,
          4096000,
          16384000,
          65536000
         ],
         "xaxis": "x6",
         "y": [
          16.56642590045533,
          6.199236659657663,
          1.5080262679780119,
          1,
          0.9998620177853692,
          0.9999490905085178,
          1.0000122293674438,
          1
         ],
         "yaxis": "y6"
        },
        {
         "hovertemplate": "file=500mb_xml<br>standard=zstd<br>gpu=A100<br>chunk_size=%{x}<br>decompression_utilization=%{y}<extra></extra>",
         "legendgroup": "500mb_xml",
         "line": {
          "color": "#FF6692",
          "dash": "solid"
         },
         "marker": {
          "symbol": "circle"
         },
         "mode": "lines+markers",
         "name": "500mb_xml",
         "orientation": "v",
         "showlegend": false,
         "type": "scatter",
         "x": [
          4000,
          16000,
          64000,
          256000,
          1024000,
          4096000,
          16384000,
          65536000
         ],
         "xaxis": "x",
         "y": [
          67.98491325731337,
          65.07916046356345,
          65.50133199911811,
          42.120505626834,
          37.33807045488379,
          17.808080227222884,
          9.644773933210415,
          9.664705242757343
         ],
         "yaxis": "y"
        },
        {
         "hovertemplate": "file=500mb_xml<br>standard=zstd<br>gpu=RTX2080TI<br>chunk_size=%{x}<br>decompression_utilization=%{y}<extra></extra>",
         "legendgroup": "500mb_xml",
         "line": {
          "color": "#FF6692",
          "dash": "solid"
         },
         "marker": {
          "symbol": "circle"
         },
         "mode": "lines+markers",
         "name": "500mb_xml",
         "orientation": "v",
         "showlegend": false,
         "type": "scatter",
         "x": [
          4000,
          16000,
          64000,
          256000,
          1024000,
          4096000,
          16384000,
          65536000
         ],
         "xaxis": "x2",
         "y": [
          12.32344742716577,
          10.903490872801555,
          2.9310796650542175,
          1.068532505552367,
          0.9998683563132909,
          0.9998632078178251,
          0.9999137342265019,
          0.9999132029452867
         ],
         "yaxis": "y2"
        },
        {
         "hovertemplate": "file=500mb_xml<br>standard=zstd<br>gpu=RTX3050TI<br>chunk_size=%{x}<br>decompression_utilization=%{y}<extra></extra>",
         "legendgroup": "500mb_xml",
         "line": {
          "color": "#FF6692",
          "dash": "solid"
         },
         "marker": {
          "symbol": "circle"
         },
         "mode": "lines+markers",
         "name": "500mb_xml",
         "orientation": "v",
         "showlegend": false,
         "type": "scatter",
         "x": [
          4000,
          16000,
          64000,
          256000,
          1024000,
          4096000,
          16384000,
          65536000
         ],
         "xaxis": "x3",
         "y": [
          10.448295657559921,
          3.0463155257655457,
          -0.00028461669697920863,
          0.9998583168313806,
          0.9998718027921422,
          0.9998628542581425,
          0.9999940597646622,
          0.9999015708721074
         ],
         "yaxis": "y3"
        },
        {
         "hovertemplate": "file=500mb_silesia.zip<br>standard=bitcomp<br>gpu=RTX2080TI<br>chunk_size=%{x}<br>decompression_utilization=%{y}<extra></extra>",
         "legendgroup": "500mb_silesia.zip",
         "line": {
          "color": "#B6E880",
          "dash": "solid"
         },
         "marker": {
          "symbol": "circle"
         },
         "mode": "lines+markers",
         "name": "500mb_silesia.zip",
         "orientation": "v",
         "showlegend": true,
         "type": "scatter",
         "x": [
          4000,
          16000,
          64000,
          256000,
          1024000,
          4096000,
          16384000,
          65536000
         ],
         "xaxis": "x17",
         "y": [
          37.99994146103208,
          26.742867278894174,
          24.384571058598887,
          19.72530569923819,
          18.868535026037545,
          6.211851564555802,
          2.678519106393051,
          1.2839186157857905
         ],
         "yaxis": "y17"
        },
        {
         "hovertemplate": "file=500mb_silesia.zip<br>standard=gdeflate<br>gpu=RTX2080TI<br>chunk_size=%{x}<br>decompression_utilization=%{y}<extra></extra>",
         "legendgroup": "500mb_silesia.zip",
         "line": {
          "color": "#B6E880",
          "dash": "solid"
         },
         "marker": {
          "symbol": "circle"
         },
         "mode": "lines+markers",
         "name": "500mb_silesia.zip",
         "orientation": "v",
         "showlegend": false,
         "type": "scatter",
         "x": [
          4000,
          16000,
          64000
         ],
         "xaxis": "x11",
         "y": [
          5.001921994863471,
          3.3422554575888785,
          2.868335978365031
         ],
         "yaxis": "y11"
        },
        {
         "hovertemplate": "file=500mb_silesia.zip<br>standard=lz4<br>gpu=RTX2080TI<br>chunk_size=%{x}<br>decompression_utilization=%{y}<extra></extra>",
         "legendgroup": "500mb_silesia.zip",
         "line": {
          "color": "#B6E880",
          "dash": "solid"
         },
         "marker": {
          "symbol": "circle"
         },
         "mode": "lines+markers",
         "name": "500mb_silesia.zip",
         "orientation": "v",
         "showlegend": false,
         "type": "scatter",
         "x": [
          4000,
          16000,
          64000,
          256000,
          1024000,
          4096000,
          16384000
         ],
         "xaxis": "x8",
         "y": [
          3.857762111148526,
          2.091333958675583,
          1.9621887864884646,
          2.132709340477925,
          1.0192330850134876,
          1,
          1.0046557786229107
         ],
         "yaxis": "y8"
        },
        {
         "hovertemplate": "file=500mb_silesia.zip<br>standard=snappy<br>gpu=RTX2080TI<br>chunk_size=%{x}<br>decompression_utilization=%{y}<extra></extra>",
         "legendgroup": "500mb_silesia.zip",
         "line": {
          "color": "#B6E880",
          "dash": "solid"
         },
         "marker": {
          "symbol": "circle"
         },
         "mode": "lines+markers",
         "name": "500mb_silesia.zip",
         "orientation": "v",
         "showlegend": false,
         "type": "scatter",
         "x": [
          4000,
          16000,
          64000,
          256000,
          1024000,
          4096000,
          16384000,
          65536000
         ],
         "xaxis": "x5",
         "y": [
          14.748320637887762,
          12.554860178571703,
          8.605687651092929,
          5.153079567640252,
          1.9232162096797814,
          1.0227492718963398,
          1.0098965297134037,
          1.0046573512907429
         ],
         "yaxis": "y5"
        },
        {
         "hovertemplate": "file=500mb_silesia.zip<br>standard=zstd<br>gpu=RTX2080TI<br>chunk_size=%{x}<br>decompression_utilization=%{y}<extra></extra>",
         "legendgroup": "500mb_silesia.zip",
         "line": {
          "color": "#B6E880",
          "dash": "solid"
         },
         "marker": {
          "symbol": "circle"
         },
         "mode": "lines+markers",
         "name": "500mb_silesia.zip",
         "orientation": "v",
         "showlegend": false,
         "type": "scatter",
         "x": [
          4000,
          16000,
          64000
         ],
         "xaxis": "x2",
         "y": [
          5.314668609205949,
          4.1467259719207075,
          3.295516693649498
         ],
         "yaxis": "y2"
        },
        {
         "hovertemplate": "file=500mb_lineitem.parquet<br>standard=bitcomp<br>gpu=RTX3050TI<br>chunk_size=%{x}<br>decompression_utilization=%{y}<extra></extra>",
         "legendgroup": "500mb_lineitem.parquet",
         "line": {
          "color": "#FF97FF",
          "dash": "solid"
         },
         "marker": {
          "symbol": "circle"
         },
         "mode": "lines+markers",
         "name": "500mb_lineitem.parquet",
         "orientation": "v",
         "showlegend": true,
         "type": "scatter",
         "x": [
          4000,
          16000,
          64000,
          256000,
          1024000,
          4096000,
          16384000,
          65536000
         ],
         "xaxis": "x18",
         "y": [
          35.747592302308306,
          36.45545627965306,
          36.31920209831266,
          35.94125681459877,
          35.03684970794808,
          29.84761457505939,
          14.530377888385106,
          5.725618725424563
         ],
         "yaxis": "y18"
        },
        {
         "hovertemplate": "file=500mb_lineitem.parquet<br>standard=gdeflate<br>gpu=RTX3050TI<br>chunk_size=%{x}<br>decompression_utilization=%{y}<extra></extra>",
         "legendgroup": "500mb_lineitem.parquet",
         "line": {
          "color": "#FF97FF",
          "dash": "solid"
         },
         "marker": {
          "symbol": "circle"
         },
         "mode": "lines+markers",
         "name": "500mb_lineitem.parquet",
         "orientation": "v",
         "showlegend": false,
         "type": "scatter",
         "x": [
          4000,
          16000,
          64000
         ],
         "xaxis": "x12",
         "y": [
          42.35835024571277,
          43.39688228598558,
          42.936691990055394
         ],
         "yaxis": "y12"
        },
        {
         "hovertemplate": "file=500mb_lineitem.parquet<br>standard=lz4<br>gpu=RTX3050TI<br>chunk_size=%{x}<br>decompression_utilization=%{y}<extra></extra>",
         "legendgroup": "500mb_lineitem.parquet",
         "line": {
          "color": "#FF97FF",
          "dash": "solid"
         },
         "marker": {
          "symbol": "circle"
         },
         "mode": "lines+markers",
         "name": "500mb_lineitem.parquet",
         "orientation": "v",
         "showlegend": false,
         "type": "scatter",
         "x": [
          4000,
          16000,
          64000,
          256000,
          1024000,
          4096000,
          16384000
         ],
         "xaxis": "x9",
         "y": [
          49.819546950807975,
          49.51414292393037,
          47.94963756978497,
          41.92419251467426,
          19.665133292349463,
          4.4786851967582395,
          1.652237628697355
         ],
         "yaxis": "y9"
        },
        {
         "hovertemplate": "file=500mb_lineitem.parquet<br>standard=snappy<br>gpu=RTX3050TI<br>chunk_size=%{x}<br>decompression_utilization=%{y}<extra></extra>",
         "legendgroup": "500mb_lineitem.parquet",
         "line": {
          "color": "#FF97FF",
          "dash": "solid"
         },
         "marker": {
          "symbol": "circle"
         },
         "mode": "lines+markers",
         "name": "500mb_lineitem.parquet",
         "orientation": "v",
         "showlegend": false,
         "type": "scatter",
         "x": [
          4000,
          16000,
          64000,
          256000,
          1024000,
          4096000,
          16384000,
          65536000
         ],
         "xaxis": "x6",
         "y": [
          52.737597407718226,
          51.257390774892556,
          46.45839649495371,
          33.88785695289859,
          15.326256008254006,
          5.54796593496547,
          2.874173805665341,
          1.0267774204017615
         ],
         "yaxis": "y6"
        }
       ],
       "layout": {
        "annotations": [
         {
          "font": {},
          "showarrow": false,
          "text": "gpu=A100",
          "x": 0.14666666666666667,
          "xanchor": "center",
          "xref": "paper",
          "y": 1,
          "yanchor": "bottom",
          "yref": "paper"
         },
         {
          "font": {},
          "showarrow": false,
          "text": "gpu=RTX2080TI",
          "x": 0.49,
          "xanchor": "center",
          "xref": "paper",
          "y": 1,
          "yanchor": "bottom",
          "yref": "paper"
         },
         {
          "font": {},
          "showarrow": false,
          "text": "gpu=RTX3050TI",
          "x": 0.8333333333333333,
          "xanchor": "center",
          "xref": "paper",
          "y": 1,
          "yanchor": "bottom",
          "yref": "paper"
         },
         {
          "font": {},
          "showarrow": false,
          "text": "standard=zstd",
          "textangle": 90,
          "x": 0.98,
          "xanchor": "left",
          "xref": "paper",
          "y": 0.07083333333333333,
          "yanchor": "middle",
          "yref": "paper"
         },
         {
          "font": {},
          "showarrow": false,
          "text": "standard=snappy",
          "textangle": 90,
          "x": 0.98,
          "xanchor": "left",
          "xref": "paper",
          "y": 0.2425,
          "yanchor": "middle",
          "yref": "paper"
         },
         {
          "font": {},
          "showarrow": false,
          "text": "standard=lz4",
          "textangle": 90,
          "x": 0.98,
          "xanchor": "left",
          "xref": "paper",
          "y": 0.4141666666666667,
          "yanchor": "middle",
          "yref": "paper"
         },
         {
          "font": {},
          "showarrow": false,
          "text": "standard=gdeflate",
          "textangle": 90,
          "x": 0.98,
          "xanchor": "left",
          "xref": "paper",
          "y": 0.5858333333333334,
          "yanchor": "middle",
          "yref": "paper"
         },
         {
          "font": {},
          "showarrow": false,
          "text": "standard=cascaded",
          "textangle": 90,
          "x": 0.98,
          "xanchor": "left",
          "xref": "paper",
          "y": 0.7575000000000001,
          "yanchor": "middle",
          "yref": "paper"
         },
         {
          "font": {},
          "showarrow": false,
          "text": "standard=bitcomp",
          "textangle": 90,
          "x": 0.98,
          "xanchor": "left",
          "xref": "paper",
          "y": 0.9291666666666667,
          "yanchor": "middle",
          "yref": "paper"
         }
        ],
        "height": 1000,
        "legend": {
         "title": {
          "text": "file"
         },
         "tracegroupgap": 0
        },
        "template": {
         "data": {
          "bar": [
           {
            "error_x": {
             "color": "#2a3f5f"
            },
            "error_y": {
             "color": "#2a3f5f"
            },
            "marker": {
             "line": {
              "color": "#E5ECF6",
              "width": 0.5
             },
             "pattern": {
              "fillmode": "overlay",
              "size": 10,
              "solidity": 0.2
             }
            },
            "type": "bar"
           }
          ],
          "barpolar": [
           {
            "marker": {
             "line": {
              "color": "#E5ECF6",
              "width": 0.5
             },
             "pattern": {
              "fillmode": "overlay",
              "size": 10,
              "solidity": 0.2
             }
            },
            "type": "barpolar"
           }
          ],
          "carpet": [
           {
            "aaxis": {
             "endlinecolor": "#2a3f5f",
             "gridcolor": "white",
             "linecolor": "white",
             "minorgridcolor": "white",
             "startlinecolor": "#2a3f5f"
            },
            "baxis": {
             "endlinecolor": "#2a3f5f",
             "gridcolor": "white",
             "linecolor": "white",
             "minorgridcolor": "white",
             "startlinecolor": "#2a3f5f"
            },
            "type": "carpet"
           }
          ],
          "choropleth": [
           {
            "colorbar": {
             "outlinewidth": 0,
             "ticks": ""
            },
            "type": "choropleth"
           }
          ],
          "contour": [
           {
            "colorbar": {
             "outlinewidth": 0,
             "ticks": ""
            },
            "colorscale": [
             [
              0,
              "#0d0887"
             ],
             [
              0.1111111111111111,
              "#46039f"
             ],
             [
              0.2222222222222222,
              "#7201a8"
             ],
             [
              0.3333333333333333,
              "#9c179e"
             ],
             [
              0.4444444444444444,
              "#bd3786"
             ],
             [
              0.5555555555555556,
              "#d8576b"
             ],
             [
              0.6666666666666666,
              "#ed7953"
             ],
             [
              0.7777777777777778,
              "#fb9f3a"
             ],
             [
              0.8888888888888888,
              "#fdca26"
             ],
             [
              1,
              "#f0f921"
             ]
            ],
            "type": "contour"
           }
          ],
          "contourcarpet": [
           {
            "colorbar": {
             "outlinewidth": 0,
             "ticks": ""
            },
            "type": "contourcarpet"
           }
          ],
          "heatmap": [
           {
            "colorbar": {
             "outlinewidth": 0,
             "ticks": ""
            },
            "colorscale": [
             [
              0,
              "#0d0887"
             ],
             [
              0.1111111111111111,
              "#46039f"
             ],
             [
              0.2222222222222222,
              "#7201a8"
             ],
             [
              0.3333333333333333,
              "#9c179e"
             ],
             [
              0.4444444444444444,
              "#bd3786"
             ],
             [
              0.5555555555555556,
              "#d8576b"
             ],
             [
              0.6666666666666666,
              "#ed7953"
             ],
             [
              0.7777777777777778,
              "#fb9f3a"
             ],
             [
              0.8888888888888888,
              "#fdca26"
             ],
             [
              1,
              "#f0f921"
             ]
            ],
            "type": "heatmap"
           }
          ],
          "heatmapgl": [
           {
            "colorbar": {
             "outlinewidth": 0,
             "ticks": ""
            },
            "colorscale": [
             [
              0,
              "#0d0887"
             ],
             [
              0.1111111111111111,
              "#46039f"
             ],
             [
              0.2222222222222222,
              "#7201a8"
             ],
             [
              0.3333333333333333,
              "#9c179e"
             ],
             [
              0.4444444444444444,
              "#bd3786"
             ],
             [
              0.5555555555555556,
              "#d8576b"
             ],
             [
              0.6666666666666666,
              "#ed7953"
             ],
             [
              0.7777777777777778,
              "#fb9f3a"
             ],
             [
              0.8888888888888888,
              "#fdca26"
             ],
             [
              1,
              "#f0f921"
             ]
            ],
            "type": "heatmapgl"
           }
          ],
          "histogram": [
           {
            "marker": {
             "pattern": {
              "fillmode": "overlay",
              "size": 10,
              "solidity": 0.2
             }
            },
            "type": "histogram"
           }
          ],
          "histogram2d": [
           {
            "colorbar": {
             "outlinewidth": 0,
             "ticks": ""
            },
            "colorscale": [
             [
              0,
              "#0d0887"
             ],
             [
              0.1111111111111111,
              "#46039f"
             ],
             [
              0.2222222222222222,
              "#7201a8"
             ],
             [
              0.3333333333333333,
              "#9c179e"
             ],
             [
              0.4444444444444444,
              "#bd3786"
             ],
             [
              0.5555555555555556,
              "#d8576b"
             ],
             [
              0.6666666666666666,
              "#ed7953"
             ],
             [
              0.7777777777777778,
              "#fb9f3a"
             ],
             [
              0.8888888888888888,
              "#fdca26"
             ],
             [
              1,
              "#f0f921"
             ]
            ],
            "type": "histogram2d"
           }
          ],
          "histogram2dcontour": [
           {
            "colorbar": {
             "outlinewidth": 0,
             "ticks": ""
            },
            "colorscale": [
             [
              0,
              "#0d0887"
             ],
             [
              0.1111111111111111,
              "#46039f"
             ],
             [
              0.2222222222222222,
              "#7201a8"
             ],
             [
              0.3333333333333333,
              "#9c179e"
             ],
             [
              0.4444444444444444,
              "#bd3786"
             ],
             [
              0.5555555555555556,
              "#d8576b"
             ],
             [
              0.6666666666666666,
              "#ed7953"
             ],
             [
              0.7777777777777778,
              "#fb9f3a"
             ],
             [
              0.8888888888888888,
              "#fdca26"
             ],
             [
              1,
              "#f0f921"
             ]
            ],
            "type": "histogram2dcontour"
           }
          ],
          "mesh3d": [
           {
            "colorbar": {
             "outlinewidth": 0,
             "ticks": ""
            },
            "type": "mesh3d"
           }
          ],
          "parcoords": [
           {
            "line": {
             "colorbar": {
              "outlinewidth": 0,
              "ticks": ""
             }
            },
            "type": "parcoords"
           }
          ],
          "pie": [
           {
            "automargin": true,
            "type": "pie"
           }
          ],
          "scatter": [
           {
            "fillpattern": {
             "fillmode": "overlay",
             "size": 10,
             "solidity": 0.2
            },
            "type": "scatter"
           }
          ],
          "scatter3d": [
           {
            "line": {
             "colorbar": {
              "outlinewidth": 0,
              "ticks": ""
             }
            },
            "marker": {
             "colorbar": {
              "outlinewidth": 0,
              "ticks": ""
             }
            },
            "type": "scatter3d"
           }
          ],
          "scattercarpet": [
           {
            "marker": {
             "colorbar": {
              "outlinewidth": 0,
              "ticks": ""
             }
            },
            "type": "scattercarpet"
           }
          ],
          "scattergeo": [
           {
            "marker": {
             "colorbar": {
              "outlinewidth": 0,
              "ticks": ""
             }
            },
            "type": "scattergeo"
           }
          ],
          "scattergl": [
           {
            "marker": {
             "colorbar": {
              "outlinewidth": 0,
              "ticks": ""
             }
            },
            "type": "scattergl"
           }
          ],
          "scattermapbox": [
           {
            "marker": {
             "colorbar": {
              "outlinewidth": 0,
              "ticks": ""
             }
            },
            "type": "scattermapbox"
           }
          ],
          "scatterpolar": [
           {
            "marker": {
             "colorbar": {
              "outlinewidth": 0,
              "ticks": ""
             }
            },
            "type": "scatterpolar"
           }
          ],
          "scatterpolargl": [
           {
            "marker": {
             "colorbar": {
              "outlinewidth": 0,
              "ticks": ""
             }
            },
            "type": "scatterpolargl"
           }
          ],
          "scatterternary": [
           {
            "marker": {
             "colorbar": {
              "outlinewidth": 0,
              "ticks": ""
             }
            },
            "type": "scatterternary"
           }
          ],
          "surface": [
           {
            "colorbar": {
             "outlinewidth": 0,
             "ticks": ""
            },
            "colorscale": [
             [
              0,
              "#0d0887"
             ],
             [
              0.1111111111111111,
              "#46039f"
             ],
             [
              0.2222222222222222,
              "#7201a8"
             ],
             [
              0.3333333333333333,
              "#9c179e"
             ],
             [
              0.4444444444444444,
              "#bd3786"
             ],
             [
              0.5555555555555556,
              "#d8576b"
             ],
             [
              0.6666666666666666,
              "#ed7953"
             ],
             [
              0.7777777777777778,
              "#fb9f3a"
             ],
             [
              0.8888888888888888,
              "#fdca26"
             ],
             [
              1,
              "#f0f921"
             ]
            ],
            "type": "surface"
           }
          ],
          "table": [
           {
            "cells": {
             "fill": {
              "color": "#EBF0F8"
             },
             "line": {
              "color": "white"
             }
            },
            "header": {
             "fill": {
              "color": "#C8D4E3"
             },
             "line": {
              "color": "white"
             }
            },
            "type": "table"
           }
          ]
         },
         "layout": {
          "annotationdefaults": {
           "arrowcolor": "#2a3f5f",
           "arrowhead": 0,
           "arrowwidth": 1
          },
          "autotypenumbers": "strict",
          "coloraxis": {
           "colorbar": {
            "outlinewidth": 0,
            "ticks": ""
           }
          },
          "colorscale": {
           "diverging": [
            [
             0,
             "#8e0152"
            ],
            [
             0.1,
             "#c51b7d"
            ],
            [
             0.2,
             "#de77ae"
            ],
            [
             0.3,
             "#f1b6da"
            ],
            [
             0.4,
             "#fde0ef"
            ],
            [
             0.5,
             "#f7f7f7"
            ],
            [
             0.6,
             "#e6f5d0"
            ],
            [
             0.7,
             "#b8e186"
            ],
            [
             0.8,
             "#7fbc41"
            ],
            [
             0.9,
             "#4d9221"
            ],
            [
             1,
             "#276419"
            ]
           ],
           "sequential": [
            [
             0,
             "#0d0887"
            ],
            [
             0.1111111111111111,
             "#46039f"
            ],
            [
             0.2222222222222222,
             "#7201a8"
            ],
            [
             0.3333333333333333,
             "#9c179e"
            ],
            [
             0.4444444444444444,
             "#bd3786"
            ],
            [
             0.5555555555555556,
             "#d8576b"
            ],
            [
             0.6666666666666666,
             "#ed7953"
            ],
            [
             0.7777777777777778,
             "#fb9f3a"
            ],
            [
             0.8888888888888888,
             "#fdca26"
            ],
            [
             1,
             "#f0f921"
            ]
           ],
           "sequentialminus": [
            [
             0,
             "#0d0887"
            ],
            [
             0.1111111111111111,
             "#46039f"
            ],
            [
             0.2222222222222222,
             "#7201a8"
            ],
            [
             0.3333333333333333,
             "#9c179e"
            ],
            [
             0.4444444444444444,
             "#bd3786"
            ],
            [
             0.5555555555555556,
             "#d8576b"
            ],
            [
             0.6666666666666666,
             "#ed7953"
            ],
            [
             0.7777777777777778,
             "#fb9f3a"
            ],
            [
             0.8888888888888888,
             "#fdca26"
            ],
            [
             1,
             "#f0f921"
            ]
           ]
          },
          "colorway": [
           "#636efa",
           "#EF553B",
           "#00cc96",
           "#ab63fa",
           "#FFA15A",
           "#19d3f3",
           "#FF6692",
           "#B6E880",
           "#FF97FF",
           "#FECB52"
          ],
          "font": {
           "color": "#2a3f5f"
          },
          "geo": {
           "bgcolor": "white",
           "lakecolor": "white",
           "landcolor": "#E5ECF6",
           "showlakes": true,
           "showland": true,
           "subunitcolor": "white"
          },
          "hoverlabel": {
           "align": "left"
          },
          "hovermode": "closest",
          "mapbox": {
           "style": "light"
          },
          "paper_bgcolor": "white",
          "plot_bgcolor": "#E5ECF6",
          "polar": {
           "angularaxis": {
            "gridcolor": "white",
            "linecolor": "white",
            "ticks": ""
           },
           "bgcolor": "#E5ECF6",
           "radialaxis": {
            "gridcolor": "white",
            "linecolor": "white",
            "ticks": ""
           }
          },
          "scene": {
           "xaxis": {
            "backgroundcolor": "#E5ECF6",
            "gridcolor": "white",
            "gridwidth": 2,
            "linecolor": "white",
            "showbackground": true,
            "ticks": "",
            "zerolinecolor": "white"
           },
           "yaxis": {
            "backgroundcolor": "#E5ECF6",
            "gridcolor": "white",
            "gridwidth": 2,
            "linecolor": "white",
            "showbackground": true,
            "ticks": "",
            "zerolinecolor": "white"
           },
           "zaxis": {
            "backgroundcolor": "#E5ECF6",
            "gridcolor": "white",
            "gridwidth": 2,
            "linecolor": "white",
            "showbackground": true,
            "ticks": "",
            "zerolinecolor": "white"
           }
          },
          "shapedefaults": {
           "line": {
            "color": "#2a3f5f"
           }
          },
          "ternary": {
           "aaxis": {
            "gridcolor": "white",
            "linecolor": "white",
            "ticks": ""
           },
           "baxis": {
            "gridcolor": "white",
            "linecolor": "white",
            "ticks": ""
           },
           "bgcolor": "#E5ECF6",
           "caxis": {
            "gridcolor": "white",
            "linecolor": "white",
            "ticks": ""
           }
          },
          "title": {
           "x": 0.05
          },
          "xaxis": {
           "automargin": true,
           "gridcolor": "white",
           "linecolor": "white",
           "ticks": "",
           "title": {
            "standoff": 15
           },
           "zerolinecolor": "white",
           "zerolinewidth": 2
          },
          "yaxis": {
           "automargin": true,
           "gridcolor": "white",
           "linecolor": "white",
           "ticks": "",
           "title": {
            "standoff": 15
           },
           "zerolinecolor": "white",
           "zerolinewidth": 2
          }
         }
        },
        "title": {
         "text": "GPU utilization decompression"
        },
        "width": 1200,
        "xaxis": {
         "anchor": "y",
         "domain": [
          0,
          0.29333333333333333
         ],
         "title": {
          "text": "chunk_size"
         },
         "type": "log"
        },
        "xaxis10": {
         "anchor": "y10",
         "domain": [
          0,
          0.29333333333333333
         ],
         "matches": "x",
         "showticklabels": false,
         "type": "log"
        },
        "xaxis11": {
         "anchor": "y11",
         "domain": [
          0.3433333333333333,
          0.6366666666666667
         ],
         "matches": "x",
         "showticklabels": false,
         "type": "log"
        },
        "xaxis12": {
         "anchor": "y12",
         "domain": [
          0.6866666666666666,
          0.98
         ],
         "matches": "x",
         "showticklabels": false,
         "type": "log"
        },
        "xaxis13": {
         "anchor": "y13",
         "domain": [
          0,
          0.29333333333333333
         ],
         "matches": "x",
         "showticklabels": false,
         "type": "log"
        },
        "xaxis14": {
         "anchor": "y14",
         "domain": [
          0.3433333333333333,
          0.6366666666666667
         ],
         "matches": "x",
         "showticklabels": false,
         "type": "log"
        },
        "xaxis15": {
         "anchor": "y15",
         "domain": [
          0.6866666666666666,
          0.98
         ],
         "matches": "x",
         "showticklabels": false,
         "type": "log"
        },
        "xaxis16": {
         "anchor": "y16",
         "domain": [
          0,
          0.29333333333333333
         ],
         "matches": "x",
         "showticklabels": false,
         "type": "log"
        },
        "xaxis17": {
         "anchor": "y17",
         "domain": [
          0.3433333333333333,
          0.6366666666666667
         ],
         "matches": "x",
         "showticklabels": false,
         "type": "log"
        },
        "xaxis18": {
         "anchor": "y18",
         "domain": [
          0.6866666666666666,
          0.98
         ],
         "matches": "x",
         "showticklabels": false,
         "type": "log"
        },
        "xaxis2": {
         "anchor": "y2",
         "domain": [
          0.3433333333333333,
          0.6366666666666667
         ],
         "matches": "x",
         "title": {
          "text": "chunk_size"
         },
         "type": "log"
        },
        "xaxis3": {
         "anchor": "y3",
         "domain": [
          0.6866666666666666,
          0.98
         ],
         "matches": "x",
         "title": {
          "text": "chunk_size"
         },
         "type": "log"
        },
        "xaxis4": {
         "anchor": "y4",
         "domain": [
          0,
          0.29333333333333333
         ],
         "matches": "x",
         "showticklabels": false,
         "type": "log"
        },
        "xaxis5": {
         "anchor": "y5",
         "domain": [
          0.3433333333333333,
          0.6366666666666667
         ],
         "matches": "x",
         "showticklabels": false,
         "type": "log"
        },
        "xaxis6": {
         "anchor": "y6",
         "domain": [
          0.6866666666666666,
          0.98
         ],
         "matches": "x",
         "showticklabels": false,
         "type": "log"
        },
        "xaxis7": {
         "anchor": "y7",
         "domain": [
          0,
          0.29333333333333333
         ],
         "matches": "x",
         "showticklabels": false,
         "type": "log"
        },
        "xaxis8": {
         "anchor": "y8",
         "domain": [
          0.3433333333333333,
          0.6366666666666667
         ],
         "matches": "x",
         "showticklabels": false,
         "type": "log"
        },
        "xaxis9": {
         "anchor": "y9",
         "domain": [
          0.6866666666666666,
          0.98
         ],
         "matches": "x",
         "showticklabels": false,
         "type": "log"
        },
        "yaxis": {
         "anchor": "x",
         "domain": [
          0,
          0.14166666666666666
         ],
         "title": {
          "text": "decompression_utilization"
         }
        },
        "yaxis10": {
         "anchor": "x10",
         "domain": [
          0.515,
          0.6566666666666667
         ],
         "matches": "y",
         "title": {
          "text": "decompression_utilization"
         }
        },
        "yaxis11": {
         "anchor": "x11",
         "domain": [
          0.515,
          0.6566666666666667
         ],
         "matches": "y",
         "showticklabels": false
        },
        "yaxis12": {
         "anchor": "x12",
         "domain": [
          0.515,
          0.6566666666666667
         ],
         "matches": "y",
         "showticklabels": false
        },
        "yaxis13": {
         "anchor": "x13",
         "domain": [
          0.6866666666666666,
          0.8283333333333334
         ],
         "matches": "y",
         "title": {
          "text": "decompression_utilization"
         }
        },
        "yaxis14": {
         "anchor": "x14",
         "domain": [
          0.6866666666666666,
          0.8283333333333334
         ],
         "matches": "y",
         "showticklabels": false
        },
        "yaxis15": {
         "anchor": "x15",
         "domain": [
          0.6866666666666666,
          0.8283333333333334
         ],
         "matches": "y",
         "showticklabels": false
        },
        "yaxis16": {
         "anchor": "x16",
         "domain": [
          0.8583333333333333,
          1
         ],
         "matches": "y",
         "title": {
          "text": "decompression_utilization"
         }
        },
        "yaxis17": {
         "anchor": "x17",
         "domain": [
          0.8583333333333333,
          1
         ],
         "matches": "y",
         "showticklabels": false
        },
        "yaxis18": {
         "anchor": "x18",
         "domain": [
          0.8583333333333333,
          1
         ],
         "matches": "y",
         "showticklabels": false
        },
        "yaxis2": {
         "anchor": "x2",
         "domain": [
          0,
          0.14166666666666666
         ],
         "matches": "y",
         "showticklabels": false
        },
        "yaxis3": {
         "anchor": "x3",
         "domain": [
          0,
          0.14166666666666666
         ],
         "matches": "y",
         "showticklabels": false
        },
        "yaxis4": {
         "anchor": "x4",
         "domain": [
          0.17166666666666666,
          0.31333333333333335
         ],
         "matches": "y",
         "title": {
          "text": "decompression_utilization"
         }
        },
        "yaxis5": {
         "anchor": "x5",
         "domain": [
          0.17166666666666666,
          0.31333333333333335
         ],
         "matches": "y",
         "showticklabels": false
        },
        "yaxis6": {
         "anchor": "x6",
         "domain": [
          0.17166666666666666,
          0.31333333333333335
         ],
         "matches": "y",
         "showticklabels": false
        },
        "yaxis7": {
         "anchor": "x7",
         "domain": [
          0.3433333333333333,
          0.485
         ],
         "matches": "y",
         "title": {
          "text": "decompression_utilization"
         }
        },
        "yaxis8": {
         "anchor": "x8",
         "domain": [
          0.3433333333333333,
          0.485
         ],
         "matches": "y",
         "showticklabels": false
        },
        "yaxis9": {
         "anchor": "x9",
         "domain": [
          0.3433333333333333,
          0.485
         ],
         "matches": "y",
         "showticklabels": false
        }
       }
      }
     },
     "metadata": {},
     "output_type": "display_data"
    }
   ],
   "source": [
    "fig_gpus_utilization_decompression = px.line(\n",
    "    all_utilization_df,\n",
    "    title=f\"GPU utilization decompression\", \n",
    "    x=\"chunk_size\",\n",
    "    y=\"decompression_utilization\",\n",
    "    color=\"file\",\n",
    "    log_x=True,\n",
    "    markers=True,\n",
    "    # log_y=True,\n",
    "    facet_col='gpu',\n",
    "    facet_row='standard',\n",
    "    facet_col_spacing=0.05,\n",
    "    width=1200,\n",
    "    height=1000,\n",
    ")\n",
    "# fig_gpus_utilization_decompression.update_xaxes(autorange=\"reversed\")\n",
    "# fig_gpus_utilization_decompression.update_xaxes(dict(\n",
    "#         tickmode = 'array',\n",
    "#         tickvals = alldf['chunksize_Bytes'],\n",
    "#         ticktext = alldf['chunksize_Bytes_formatted'],\n",
    "#         tickangle=45,\n",
    "#     )\n",
    "# )\n",
    "# fig_gpus_utilization_decompression.update_layout(\n",
    "#     yaxis_title=\"Compression ratio\",\n",
    "#     xaxis_title=\"Chunk size\",\n",
    "#     xaxis2_title=\"Chunk size\",\n",
    "#     font_size=16,\n",
    "# )\n",
    "\n",
    "fig_gpus_utilization_decompression.show()"
   ]
  }
 ],
 "metadata": {
  "kernelspec": {
   "display_name": "base",
   "language": "python",
   "name": "python3"
  },
  "language_info": {
   "codemirror_mode": {
    "name": "ipython",
    "version": 3
   },
   "file_extension": ".py",
   "mimetype": "text/x-python",
   "name": "python",
   "nbconvert_exporter": "python",
   "pygments_lexer": "ipython3",
   "version": "3.10.13"
  }
 },
 "nbformat": 4,
 "nbformat_minor": 2
}
