{
 "cells": [
  {
   "cell_type": "code",
   "execution_count": 3,
   "metadata": {},
   "outputs": [],
   "source": [
    "import pandas as pd\n",
    "import plotly.express as px\n",
    "import plotly.graph_objects as go\n",
    "import plotly.io as pio\n",
    "import nsys_reader\n",
    "\n",
    " # Compare results on RTX 3050Ti vs RTX 2080 Ti vs A100\n",
    " \n",
    " \n",
    "A100_path = \"../../../data/decompression/compare/a100/\"\n",
    "RTX2080TI_path = \"../../../data/decompression/compare/RTX2080ti/\"\n",
    "RTX3050TI_path = \"../../../data/decompression/compare/RTX3050ti/\"\n",
    "\n",
    "GPU_A100 = 'A100'\n",
    "GPU_RTX2080TI = 'RTX2080TI'\n",
    "GPU_RTX3050TI = 'RTX3050TI'\n",
    "\n",
    "FILE_SIZE = 524288000\n",
    "\n",
    "\n"
   ]
  },
  {
   "cell_type": "code",
   "execution_count": 4,
   "metadata": {},
   "outputs": [
    {
     "name": "stdout",
     "output_type": "stream",
     "text": [
      "    Standard           File  chunks  decompression_throughput_GBps  \\\n",
      "8     snappy  500mb_dickens  131072                        19.8204   \n",
      "9     snappy  500mb_dickens   32768                         7.5073   \n",
      "10    snappy  500mb_dickens    8192                         2.0746   \n",
      "11    snappy  500mb_dickens    2048                         0.5456   \n",
      "12    snappy  500mb_dickens     512                         0.1682   \n",
      "..       ...            ...     ...                            ...   \n",
      "104     zstd      500mb_xml    2048                         0.4522   \n",
      "105     zstd      500mb_xml     512                         0.2050   \n",
      "106     zstd      500mb_xml     128                         0.0770   \n",
      "107     zstd      500mb_xml      32                         0.0550   \n",
      "108     zstd      500mb_xml       8                         0.0550   \n",
      "\n",
      "     compression_throughput_GBps   ratio  chunksize_Bytes  \\\n",
      "8                         6.5454  1.3365           4000.0   \n",
      "9                         2.7789  1.4236          16000.0   \n",
      "10                        0.6743  1.4777          64000.0   \n",
      "11                        0.1719  1.4931         256000.0   \n",
      "12                        0.0530  1.4970        1024000.0   \n",
      "..                           ...     ...              ...   \n",
      "104                       0.1020  6.5364         256000.0   \n",
      "105                       0.0722  6.7145        1024000.0   \n",
      "106                       0.0372  6.9958        4096000.0   \n",
      "107                       0.0198  6.8314       16384000.0   \n",
      "108                       0.0198  6.8314       65536000.0   \n",
      "\n",
      "    chunksize_Bytes_formatted chunks_formatted   chunks_combined_formatted  \\\n",
      "8                   3.90625kB            128kB  128kB chunks of 3.90625kBB   \n",
      "9                    15.625kB             32kB    32kB chunks of 15.625kBB   \n",
      "10                     62.5kB              8kB       8kB chunks of 62.5kBB   \n",
      "11                      250kB              2kB        2kB chunks of 250kBB   \n",
      "12                     1000kB             512B      512B chunks of 1000kBB   \n",
      "..                        ...              ...                         ...   \n",
      "104                     250kB              2kB        2kB chunks of 250kBB   \n",
      "105                    1000kB             512B      512B chunks of 1000kBB   \n",
      "106                 3.90625MB             128B   128B chunks of 3.90625MBB   \n",
      "107                  15.625MB              32B     32B chunks of 15.625MBB   \n",
      "108                    62.5MB               8B        8B chunks of 62.5MBB   \n",
      "\n",
      "           gpu  \n",
      "8         A100  \n",
      "9         A100  \n",
      "10        A100  \n",
      "11        A100  \n",
      "12        A100  \n",
      "..         ...  \n",
      "104  RTX3050TI  \n",
      "105  RTX3050TI  \n",
      "106  RTX3050TI  \n",
      "107  RTX3050TI  \n",
      "108  RTX3050TI  \n",
      "\n",
      "[346 rows x 11 columns]\n"
     ]
    }
   ],
   "source": [
    "A100_result_df = nsys_reader.fix_chunks(pd.read_csv(A100_path + '/results.csv'), FILE_SIZE)\n",
    "RTX2080TI_result_df = nsys_reader.fix_chunks(pd.read_csv(RTX2080TI_path + '/results.csv'), FILE_SIZE)\n",
    "RTX3050TI_result_df = nsys_reader.fix_chunks(pd.read_csv(RTX3050TI_path + '/results.csv'), FILE_SIZE)\n",
    "\n",
    "A100_result_df['gpu'] = GPU_A100\n",
    "RTX2080TI_result_df['gpu'] = GPU_RTX2080TI\n",
    "RTX3050TI_result_df['gpu'] = GPU_RTX3050TI\n",
    "\n",
    "\n",
    "all_result_df = pd.concat([A100_result_df, RTX2080TI_result_df, RTX3050TI_result_df])\n",
    "\n",
    "all_result_df = all_result_df.sort_values(['gpu', 'Standard', 'File', 'chunksize_Bytes'])\n",
    "\n",
    "print(all_result_df)\n"
   ]
  },
  {
   "cell_type": "code",
   "execution_count": 11,
   "metadata": {},
   "outputs": [
    {
     "data": {
      "application/vnd.plotly.v1+json": {
       "config": {
        "plotlyServerURL": "https://plot.ly"
       },
       "data": [
        {
         "hovertemplate": "File=500mb_dickens<br>Standard=snappy<br>gpu=A100<br>chunksize_Bytes=%{x}<br>compression_throughput_GBps=%{y}<extra></extra>",
         "legendgroup": "500mb_dickens",
         "line": {
          "color": "#636efa",
          "dash": "solid"
         },
         "marker": {
          "symbol": "circle"
         },
         "mode": "lines+markers",
         "name": "500mb_dickens",
         "orientation": "v",
         "showlegend": true,
         "type": "scatter",
         "x": [
          4000,
          16000,
          64000,
          256000,
          1024000,
          4096000,
          16384000,
          65536000
         ],
         "xaxis": "x4",
         "y": [
          6.5454,
          2.7789,
          0.6743,
          0.1719,
          0.053,
          0.0134,
          0.0054,
          0.0054
         ],
         "yaxis": "y4"
        },
        {
         "hovertemplate": "File=500mb_dickens<br>Standard=snappy<br>gpu=RTX2080TI<br>chunksize_Bytes=%{x}<br>compression_throughput_GBps=%{y}<extra></extra>",
         "legendgroup": "500mb_dickens",
         "line": {
          "color": "#636efa",
          "dash": "solid"
         },
         "marker": {
          "symbol": "circle"
         },
         "mode": "lines+markers",
         "name": "500mb_dickens",
         "orientation": "v",
         "showlegend": false,
         "type": "scatter",
         "x": [
          4000,
          16000,
          64000,
          256000,
          1024000,
          4096000,
          16384000,
          65536000
         ],
         "xaxis": "x5",
         "y": [
          3.2003,
          1.7101,
          0.7642,
          0.2102,
          0.0722,
          0.0181,
          0.0073,
          0.0072
         ],
         "yaxis": "y5"
        },
        {
         "hovertemplate": "File=500mb_dickens<br>Standard=snappy<br>gpu=RTX3050TI<br>chunksize_Bytes=%{x}<br>compression_throughput_GBps=%{y}<extra></extra>",
         "legendgroup": "500mb_dickens",
         "line": {
          "color": "#636efa",
          "dash": "solid"
         },
         "marker": {
          "symbol": "circle"
         },
         "mode": "lines+markers",
         "name": "500mb_dickens",
         "orientation": "v",
         "showlegend": false,
         "type": "scatter",
         "x": [
          4000,
          16000,
          64000,
          256000,
          1024000,
          4096000,
          16384000,
          65536000
         ],
         "xaxis": "x6",
         "y": [
          1.1712,
          0.7252,
          0.5739,
          0.1737,
          0.0651,
          0.0163,
          0.0065,
          0.0065
         ],
         "yaxis": "y6"
        },
        {
         "hovertemplate": "File=500mb_dickens<br>Standard=zstd<br>gpu=A100<br>chunksize_Bytes=%{x}<br>compression_throughput_GBps=%{y}<extra></extra>",
         "legendgroup": "500mb_dickens",
         "line": {
          "color": "#636efa",
          "dash": "solid"
         },
         "marker": {
          "symbol": "circle"
         },
         "mode": "lines+markers",
         "name": "500mb_dickens",
         "orientation": "v",
         "showlegend": false,
         "type": "scatter",
         "x": [
          4000,
          16000,
          64000,
          256000,
          1024000,
          4096000,
          16384000,
          65536000
         ],
         "xaxis": "x",
         "y": [
          3.0765,
          1.6902,
          0.469,
          0.1618,
          0.0676,
          0.0189,
          0.007,
          0.007
         ],
         "yaxis": "y"
        },
        {
         "hovertemplate": "File=500mb_dickens<br>Standard=zstd<br>gpu=RTX2080TI<br>chunksize_Bytes=%{x}<br>compression_throughput_GBps=%{y}<extra></extra>",
         "legendgroup": "500mb_dickens",
         "line": {
          "color": "#636efa",
          "dash": "solid"
         },
         "marker": {
          "symbol": "circle"
         },
         "mode": "lines+markers",
         "name": "500mb_dickens",
         "orientation": "v",
         "showlegend": false,
         "type": "scatter",
         "x": [
          4000,
          16000,
          64000,
          256000,
          1024000,
          4096000,
          16384000,
          65536000
         ],
         "xaxis": "x2",
         "y": [
          0.849,
          0.9401,
          0.4942,
          0.1781,
          0.087,
          0.0243,
          0.0089,
          0.0089
         ],
         "yaxis": "y2"
        },
        {
         "hovertemplate": "File=500mb_dickens<br>Standard=zstd<br>gpu=RTX3050TI<br>chunksize_Bytes=%{x}<br>compression_throughput_GBps=%{y}<extra></extra>",
         "legendgroup": "500mb_dickens",
         "line": {
          "color": "#636efa",
          "dash": "solid"
         },
         "marker": {
          "symbol": "circle"
         },
         "mode": "lines+markers",
         "name": "500mb_dickens",
         "orientation": "v",
         "showlegend": false,
         "type": "scatter",
         "x": [
          4000,
          16000,
          64000,
          256000,
          1024000,
          4096000,
          16384000,
          65536000
         ],
         "xaxis": "x3",
         "y": [
          0.5177,
          0.5326,
          0.4392,
          0.1526,
          0.0806,
          0.0229,
          0.0085,
          0.0085
         ],
         "yaxis": "y3"
        },
        {
         "hovertemplate": "File=500mb_lineitem.parquet<br>Standard=snappy<br>gpu=A100<br>chunksize_Bytes=%{x}<br>compression_throughput_GBps=%{y}<extra></extra>",
         "legendgroup": "500mb_lineitem.parquet",
         "line": {
          "color": "#EF553B",
          "dash": "solid"
         },
         "marker": {
          "symbol": "circle"
         },
         "mode": "lines+markers",
         "name": "500mb_lineitem.parquet",
         "orientation": "v",
         "showlegend": true,
         "type": "scatter",
         "x": [
          4000,
          16000,
          64000,
          256000,
          1024000,
          4096000,
          16384000,
          65536000
         ],
         "xaxis": "x4",
         "y": [
          35.7292,
          32.9842,
          26.651,
          18.8725,
          8.2792,
          4.0238,
          2.1747,
          0.786
         ],
         "yaxis": "y4"
        },
        {
         "hovertemplate": "File=500mb_mozilla<br>Standard=snappy<br>gpu=A100<br>chunksize_Bytes=%{x}<br>compression_throughput_GBps=%{y}<extra></extra>",
         "legendgroup": "500mb_mozilla",
         "line": {
          "color": "#00cc96",
          "dash": "solid"
         },
         "marker": {
          "symbol": "circle"
         },
         "mode": "lines+markers",
         "name": "500mb_mozilla",
         "orientation": "v",
         "showlegend": true,
         "type": "scatter",
         "x": [
          4000,
          16000,
          64000,
          256000,
          1024000,
          4096000,
          16384000,
          65536000
         ],
         "xaxis": "x4",
         "y": [
          12.0635,
          8.0685,
          3.6607,
          1.2214,
          0.3973,
          0.11,
          0.0286,
          0.0101
         ],
         "yaxis": "y4"
        },
        {
         "hovertemplate": "File=500mb_mozilla<br>Standard=snappy<br>gpu=RTX2080TI<br>chunksize_Bytes=%{x}<br>compression_throughput_GBps=%{y}<extra></extra>",
         "legendgroup": "500mb_mozilla",
         "line": {
          "color": "#00cc96",
          "dash": "solid"
         },
         "marker": {
          "symbol": "circle"
         },
         "mode": "lines+markers",
         "name": "500mb_mozilla",
         "orientation": "v",
         "showlegend": false,
         "type": "scatter",
         "x": [
          4000,
          16000,
          64000,
          256000,
          1024000,
          4096000,
          16384000,
          65536000
         ],
         "xaxis": "x5",
         "y": [
          5.0778,
          3.9621,
          2.8056,
          1.3811,
          0.5526,
          0.1515,
          0.0385,
          0.0135
         ],
         "yaxis": "y5"
        },
        {
         "hovertemplate": "File=500mb_mozilla<br>Standard=snappy<br>gpu=RTX3050TI<br>chunksize_Bytes=%{x}<br>compression_throughput_GBps=%{y}<extra></extra>",
         "legendgroup": "500mb_mozilla",
         "line": {
          "color": "#00cc96",
          "dash": "solid"
         },
         "marker": {
          "symbol": "circle"
         },
         "mode": "lines+markers",
         "name": "500mb_mozilla",
         "orientation": "v",
         "showlegend": false,
         "type": "scatter",
         "x": [
          4000,
          16000,
          64000,
          256000,
          1024000,
          4096000,
          16384000,
          65536000
         ],
         "xaxis": "x6",
         "y": [
          1.7908,
          1.511,
          1.2054,
          1.0548,
          0.4817,
          0.1365,
          0.0347,
          0.0121
         ],
         "yaxis": "y6"
        },
        {
         "hovertemplate": "File=500mb_mozilla<br>Standard=zstd<br>gpu=A100<br>chunksize_Bytes=%{x}<br>compression_throughput_GBps=%{y}<extra></extra>",
         "legendgroup": "500mb_mozilla",
         "line": {
          "color": "#00cc96",
          "dash": "solid"
         },
         "marker": {
          "symbol": "circle"
         },
         "mode": "lines+markers",
         "name": "500mb_mozilla",
         "orientation": "v",
         "showlegend": false,
         "type": "scatter",
         "x": [
          4000,
          16000,
          64000,
          256000,
          1024000,
          4096000,
          16384000
         ],
         "xaxis": "x",
         "y": [
          4.5974,
          4.8714,
          2.191,
          0.7586,
          0.436,
          0.126,
          0.0427
         ],
         "yaxis": "y"
        },
        {
         "hovertemplate": "File=500mb_mozilla<br>Standard=zstd<br>gpu=RTX2080TI<br>chunksize_Bytes=%{x}<br>compression_throughput_GBps=%{y}<extra></extra>",
         "legendgroup": "500mb_mozilla",
         "line": {
          "color": "#00cc96",
          "dash": "solid"
         },
         "marker": {
          "symbol": "circle"
         },
         "mode": "lines+markers",
         "name": "500mb_mozilla",
         "orientation": "v",
         "showlegend": false,
         "type": "scatter",
         "x": [
          4000,
          16000,
          64000,
          256000,
          1024000,
          4096000,
          16384000
         ],
         "xaxis": "x2",
         "y": [
          1.1152,
          1.3169,
          1.2981,
          1.0776,
          0.5849,
          0.1644,
          0.0563
         ],
         "yaxis": "y2"
        },
        {
         "hovertemplate": "File=500mb_mozilla<br>Standard=zstd<br>gpu=RTX3050TI<br>chunksize_Bytes=%{x}<br>compression_throughput_GBps=%{y}<extra></extra>",
         "legendgroup": "500mb_mozilla",
         "line": {
          "color": "#00cc96",
          "dash": "solid"
         },
         "marker": {
          "symbol": "circle"
         },
         "mode": "lines+markers",
         "name": "500mb_mozilla",
         "orientation": "v",
         "showlegend": false,
         "type": "scatter",
         "x": [
          4000,
          16000,
          64000,
          256000,
          1024000,
          4096000,
          16384000
         ],
         "xaxis": "x3",
         "y": [
          0.7345,
          0.8302,
          0.7717,
          0.781,
          0.4698,
          0.1399,
          0.0463
         ],
         "yaxis": "y3"
        },
        {
         "hovertemplate": "File=500mb_mr<br>Standard=snappy<br>gpu=A100<br>chunksize_Bytes=%{x}<br>compression_throughput_GBps=%{y}<extra></extra>",
         "legendgroup": "500mb_mr",
         "line": {
          "color": "#ab63fa",
          "dash": "solid"
         },
         "marker": {
          "symbol": "circle"
         },
         "mode": "lines+markers",
         "name": "500mb_mr",
         "orientation": "v",
         "showlegend": true,
         "type": "scatter",
         "x": [
          4000,
          16000,
          64000,
          256000,
          1024000,
          4096000,
          16384000,
          65536000
         ],
         "xaxis": "x4",
         "y": [
          7.5315,
          2.4673,
          0.6543,
          0.1934,
          0.0658,
          0.0176,
          0.0079,
          0.0079
         ],
         "yaxis": "y4"
        },
        {
         "hovertemplate": "File=500mb_mr<br>Standard=snappy<br>gpu=RTX2080TI<br>chunksize_Bytes=%{x}<br>compression_throughput_GBps=%{y}<extra></extra>",
         "legendgroup": "500mb_mr",
         "line": {
          "color": "#ab63fa",
          "dash": "solid"
         },
         "marker": {
          "symbol": "circle"
         },
         "mode": "lines+markers",
         "name": "500mb_mr",
         "orientation": "v",
         "showlegend": false,
         "type": "scatter",
         "x": [
          4000,
          16000,
          64000,
          256000,
          1024000,
          4096000,
          16384000,
          65536000
         ],
         "xaxis": "x5",
         "y": [
          3.8785,
          2.0185,
          0.722,
          0.2246,
          0.0874,
          0.0234,
          0.0104,
          0.0104
         ],
         "yaxis": "y5"
        },
        {
         "hovertemplate": "File=500mb_mr<br>Standard=snappy<br>gpu=RTX3050TI<br>chunksize_Bytes=%{x}<br>compression_throughput_GBps=%{y}<extra></extra>",
         "legendgroup": "500mb_mr",
         "line": {
          "color": "#ab63fa",
          "dash": "solid"
         },
         "marker": {
          "symbol": "circle"
         },
         "mode": "lines+markers",
         "name": "500mb_mr",
         "orientation": "v",
         "showlegend": false,
         "type": "scatter",
         "x": [
          4000,
          16000,
          64000,
          256000,
          1024000,
          4096000,
          16384000,
          65536000
         ],
         "xaxis": "x6",
         "y": [
          1.5123,
          0.9863,
          0.5823,
          0.192,
          0.0786,
          0.021,
          0.0085,
          0.0084
         ],
         "yaxis": "y6"
        },
        {
         "hovertemplate": "File=500mb_mr<br>Standard=zstd<br>gpu=A100<br>chunksize_Bytes=%{x}<br>compression_throughput_GBps=%{y}<extra></extra>",
         "legendgroup": "500mb_mr",
         "line": {
          "color": "#ab63fa",
          "dash": "solid"
         },
         "marker": {
          "symbol": "circle"
         },
         "mode": "lines+markers",
         "name": "500mb_mr",
         "orientation": "v",
         "showlegend": false,
         "type": "scatter",
         "x": [
          4000,
          16000,
          64000,
          256000,
          1024000,
          4096000,
          16384000,
          65536000
         ],
         "xaxis": "x",
         "y": [
          3.821,
          1.8539,
          0.5544,
          0.1803,
          0.0831,
          0.027,
          0.0096,
          0.0096
         ],
         "yaxis": "y"
        },
        {
         "hovertemplate": "File=500mb_mr<br>Standard=zstd<br>gpu=RTX2080TI<br>chunksize_Bytes=%{x}<br>compression_throughput_GBps=%{y}<extra></extra>",
         "legendgroup": "500mb_mr",
         "line": {
          "color": "#ab63fa",
          "dash": "solid"
         },
         "marker": {
          "symbol": "circle"
         },
         "mode": "lines+markers",
         "name": "500mb_mr",
         "orientation": "v",
         "showlegend": false,
         "type": "scatter",
         "x": [
          4000,
          16000,
          64000,
          256000,
          1024000,
          4096000,
          16384000,
          65536000
         ],
         "xaxis": "x2",
         "y": [
          1.1875,
          1.4023,
          0.6015,
          0.2039,
          0.1163,
          0.0345,
          0.0123,
          0.0123
         ],
         "yaxis": "y2"
        },
        {
         "hovertemplate": "File=500mb_mr<br>Standard=zstd<br>gpu=RTX3050TI<br>chunksize_Bytes=%{x}<br>compression_throughput_GBps=%{y}<extra></extra>",
         "legendgroup": "500mb_mr",
         "line": {
          "color": "#ab63fa",
          "dash": "solid"
         },
         "marker": {
          "symbol": "circle"
         },
         "mode": "lines+markers",
         "name": "500mb_mr",
         "orientation": "v",
         "showlegend": false,
         "type": "scatter",
         "x": [
          4000,
          16000,
          64000,
          256000,
          1024000,
          4096000,
          16384000,
          65536000
         ],
         "xaxis": "x3",
         "y": [
          0.7454,
          0.767,
          0.5186,
          0.18,
          0.0879,
          0.0322,
          0.0105,
          0.0105
         ],
         "yaxis": "y3"
        },
        {
         "hovertemplate": "File=500mb_nci<br>Standard=snappy<br>gpu=A100<br>chunksize_Bytes=%{x}<br>compression_throughput_GBps=%{y}<extra></extra>",
         "legendgroup": "500mb_nci",
         "line": {
          "color": "#FFA15A",
          "dash": "solid"
         },
         "marker": {
          "symbol": "circle"
         },
         "mode": "lines+markers",
         "name": "500mb_nci",
         "orientation": "v",
         "showlegend": true,
         "type": "scatter",
         "x": [
          4000,
          16000,
          64000,
          256000,
          1024000,
          4096000,
          16384000,
          65536000
         ],
         "xaxis": "x4",
         "y": [
          18.5043,
          11.6177,
          5.5456,
          1.5329,
          0.4261,
          0.1318,
          0.0345,
          0.0169
         ],
         "yaxis": "y4"
        },
        {
         "hovertemplate": "File=500mb_nci<br>Standard=snappy<br>gpu=RTX2080TI<br>chunksize_Bytes=%{x}<br>compression_throughput_GBps=%{y}<extra></extra>",
         "legendgroup": "500mb_nci",
         "line": {
          "color": "#FFA15A",
          "dash": "solid"
         },
         "marker": {
          "symbol": "circle"
         },
         "mode": "lines+markers",
         "name": "500mb_nci",
         "orientation": "v",
         "showlegend": false,
         "type": "scatter",
         "x": [
          4000,
          16000,
          64000,
          256000,
          1024000,
          4096000,
          16384000,
          65536000
         ],
         "xaxis": "x5",
         "y": [
          7.8626,
          6.457,
          3.9575,
          1.8868,
          0.5947,
          0.1797,
          0.0465,
          0.0228
         ],
         "yaxis": "y5"
        },
        {
         "hovertemplate": "File=500mb_nci<br>Standard=snappy<br>gpu=RTX3050TI<br>chunksize_Bytes=%{x}<br>compression_throughput_GBps=%{y}<extra></extra>",
         "legendgroup": "500mb_nci",
         "line": {
          "color": "#FFA15A",
          "dash": "solid"
         },
         "marker": {
          "symbol": "circle"
         },
         "mode": "lines+markers",
         "name": "500mb_nci",
         "orientation": "v",
         "showlegend": false,
         "type": "scatter",
         "x": [
          4000,
          16000,
          64000,
          256000,
          1024000,
          4096000,
          16384000,
          65536000
         ],
         "xaxis": "x6",
         "y": [
          2.7799,
          2.4394,
          1.979,
          1.4066,
          0.4242,
          0.1572,
          0.0372,
          0.018
         ],
         "yaxis": "y6"
        },
        {
         "hovertemplate": "File=500mb_nci<br>Standard=zstd<br>gpu=A100<br>chunksize_Bytes=%{x}<br>compression_throughput_GBps=%{y}<extra></extra>",
         "legendgroup": "500mb_nci",
         "line": {
          "color": "#FFA15A",
          "dash": "solid"
         },
         "marker": {
          "symbol": "circle"
         },
         "mode": "lines+markers",
         "name": "500mb_nci",
         "orientation": "v",
         "showlegend": false,
         "type": "scatter",
         "x": [
          4000,
          16000,
          64000,
          256000,
          1024000,
          4096000,
          16384000
         ],
         "xaxis": "x",
         "y": [
          7.5399,
          8.2511,
          3.2707,
          1.0346,
          0.5953,
          0.1624,
          0.059
         ],
         "yaxis": "y"
        },
        {
         "hovertemplate": "File=500mb_nci<br>Standard=zstd<br>gpu=RTX2080TI<br>chunksize_Bytes=%{x}<br>compression_throughput_GBps=%{y}<extra></extra>",
         "legendgroup": "500mb_nci",
         "line": {
          "color": "#FFA15A",
          "dash": "solid"
         },
         "marker": {
          "symbol": "circle"
         },
         "mode": "lines+markers",
         "name": "500mb_nci",
         "orientation": "v",
         "showlegend": false,
         "type": "scatter",
         "x": [
          4000,
          16000,
          64000,
          256000,
          1024000,
          4096000,
          16384000
         ],
         "xaxis": "x2",
         "y": [
          2.1871,
          3.603,
          3.5704,
          1.2171,
          0.683,
          0.2206,
          0.0786
         ],
         "yaxis": "y2"
        },
        {
         "hovertemplate": "File=500mb_nci<br>Standard=zstd<br>gpu=RTX3050TI<br>chunksize_Bytes=%{x}<br>compression_throughput_GBps=%{y}<extra></extra>",
         "legendgroup": "500mb_nci",
         "line": {
          "color": "#FFA15A",
          "dash": "solid"
         },
         "marker": {
          "symbol": "circle"
         },
         "mode": "lines+markers",
         "name": "500mb_nci",
         "orientation": "v",
         "showlegend": false,
         "type": "scatter",
         "x": [
          4000,
          16000,
          64000,
          256000,
          1024000,
          4096000,
          16384000
         ],
         "xaxis": "x3",
         "y": [
          1.298,
          1.7908,
          1.6645,
          0.9935,
          0.4939,
          0.1964,
          0.0678
         ],
         "yaxis": "y3"
        },
        {
         "hovertemplate": "File=500mb_samba<br>Standard=snappy<br>gpu=A100<br>chunksize_Bytes=%{x}<br>compression_throughput_GBps=%{y}<extra></extra>",
         "legendgroup": "500mb_samba",
         "line": {
          "color": "#19d3f3",
          "dash": "solid"
         },
         "marker": {
          "symbol": "circle"
         },
         "mode": "lines+markers",
         "name": "500mb_samba",
         "orientation": "v",
         "showlegend": true,
         "type": "scatter",
         "x": [
          4000,
          16000,
          64000,
          256000,
          1024000,
          4096000,
          16384000,
          65536000
         ],
         "xaxis": "x4",
         "y": [
          10.1697,
          6.2156,
          1.653,
          0.4897,
          0.1579,
          0.0462,
          0.0137,
          0.0103
         ],
         "yaxis": "y4"
        },
        {
         "hovertemplate": "File=500mb_samba<br>Standard=snappy<br>gpu=RTX2080TI<br>chunksize_Bytes=%{x}<br>compression_throughput_GBps=%{y}<extra></extra>",
         "legendgroup": "500mb_samba",
         "line": {
          "color": "#19d3f3",
          "dash": "solid"
         },
         "marker": {
          "symbol": "circle"
         },
         "mode": "lines+markers",
         "name": "500mb_samba",
         "orientation": "v",
         "showlegend": false,
         "type": "scatter",
         "x": [
          4000,
          16000,
          64000,
          256000,
          1024000,
          4096000,
          16384000,
          65536000
         ],
         "xaxis": "x5",
         "y": [
          5.0981,
          3.5301,
          1.8046,
          0.5688,
          0.2008,
          0.0626,
          0.0185,
          0.0139
         ],
         "yaxis": "y5"
        },
        {
         "hovertemplate": "File=500mb_samba<br>Standard=snappy<br>gpu=RTX3050TI<br>chunksize_Bytes=%{x}<br>compression_throughput_GBps=%{y}<extra></extra>",
         "legendgroup": "500mb_samba",
         "line": {
          "color": "#19d3f3",
          "dash": "solid"
         },
         "marker": {
          "symbol": "circle"
         },
         "mode": "lines+markers",
         "name": "500mb_samba",
         "orientation": "v",
         "showlegend": false,
         "type": "scatter",
         "x": [
          4000,
          16000,
          64000,
          256000,
          1024000,
          4096000,
          16384000,
          65536000
         ],
         "xaxis": "x6",
         "y": [
          1.865,
          1.4897,
          1.0364,
          0.4737,
          0.1931,
          0.0559,
          0.0152,
          0.0111
         ],
         "yaxis": "y6"
        },
        {
         "hovertemplate": "File=500mb_samba<br>Standard=zstd<br>gpu=A100<br>chunksize_Bytes=%{x}<br>compression_throughput_GBps=%{y}<extra></extra>",
         "legendgroup": "500mb_samba",
         "line": {
          "color": "#19d3f3",
          "dash": "solid"
         },
         "marker": {
          "symbol": "circle"
         },
         "mode": "lines+markers",
         "name": "500mb_samba",
         "orientation": "v",
         "showlegend": false,
         "type": "scatter",
         "x": [
          4000,
          16000,
          64000,
          256000,
          1024000,
          4096000,
          16384000
         ],
         "xaxis": "x",
         "y": [
          4.1857,
          3.3106,
          0.9981,
          0.4045,
          0.2078,
          0.0679,
          0.0253
         ],
         "yaxis": "y"
        },
        {
         "hovertemplate": "File=500mb_samba<br>Standard=zstd<br>gpu=RTX2080TI<br>chunksize_Bytes=%{x}<br>compression_throughput_GBps=%{y}<extra></extra>",
         "legendgroup": "500mb_samba",
         "line": {
          "color": "#19d3f3",
          "dash": "solid"
         },
         "marker": {
          "symbol": "circle"
         },
         "mode": "lines+markers",
         "name": "500mb_samba",
         "orientation": "v",
         "showlegend": false,
         "type": "scatter",
         "x": [
          4000,
          16000,
          64000,
          256000,
          1024000,
          4096000,
          16384000
         ],
         "xaxis": "x2",
         "y": [
          1.0818,
          1.2494,
          1.1233,
          0.4226,
          0.2012,
          0.0885,
          0.0328
         ],
         "yaxis": "y2"
        },
        {
         "hovertemplate": "File=500mb_samba<br>Standard=zstd<br>gpu=RTX3050TI<br>chunksize_Bytes=%{x}<br>compression_throughput_GBps=%{y}<extra></extra>",
         "legendgroup": "500mb_samba",
         "line": {
          "color": "#19d3f3",
          "dash": "solid"
         },
         "marker": {
          "symbol": "circle"
         },
         "mode": "lines+markers",
         "name": "500mb_samba",
         "orientation": "v",
         "showlegend": false,
         "type": "scatter",
         "x": [
          4000,
          16000,
          64000,
          256000,
          1024000,
          4096000,
          16384000
         ],
         "xaxis": "x3",
         "y": [
          0.7157,
          0.806,
          0.6494,
          0.3588,
          0.2424,
          0.0795,
          0.0281
         ],
         "yaxis": "y3"
        },
        {
         "hovertemplate": "File=500mb_sao<br>Standard=snappy<br>gpu=A100<br>chunksize_Bytes=%{x}<br>compression_throughput_GBps=%{y}<extra></extra>",
         "legendgroup": "500mb_sao",
         "line": {
          "color": "#FF6692",
          "dash": "solid"
         },
         "marker": {
          "symbol": "circle"
         },
         "mode": "lines+markers",
         "name": "500mb_sao",
         "orientation": "v",
         "showlegend": true,
         "type": "scatter",
         "x": [
          4000,
          16000,
          64000,
          256000,
          1024000,
          4096000,
          16384000,
          65536000
         ],
         "xaxis": "x4",
         "y": [
          13.4367,
          3.567,
          0.9242,
          0.2293,
          0.0713,
          0.0186,
          0.0105,
          0.0105
         ],
         "yaxis": "y4"
        },
        {
         "hovertemplate": "File=500mb_sao<br>Standard=snappy<br>gpu=RTX2080TI<br>chunksize_Bytes=%{x}<br>compression_throughput_GBps=%{y}<extra></extra>",
         "legendgroup": "500mb_sao",
         "line": {
          "color": "#FF6692",
          "dash": "solid"
         },
         "marker": {
          "symbol": "circle"
         },
         "mode": "lines+markers",
         "name": "500mb_sao",
         "orientation": "v",
         "showlegend": false,
         "type": "scatter",
         "x": [
          4000,
          16000,
          64000,
          256000,
          1024000,
          4096000,
          16384000,
          65536000
         ],
         "xaxis": "x5",
         "y": [
          5.4153,
          3.8816,
          1.0299,
          0.2701,
          0.0857,
          0.0245,
          0.0138,
          0.0138
         ],
         "yaxis": "y5"
        },
        {
         "hovertemplate": "File=500mb_sao<br>Standard=snappy<br>gpu=RTX3050TI<br>chunksize_Bytes=%{x}<br>compression_throughput_GBps=%{y}<extra></extra>",
         "legendgroup": "500mb_sao",
         "line": {
          "color": "#FF6692",
          "dash": "solid"
         },
         "marker": {
          "symbol": "circle"
         },
         "mode": "lines+markers",
         "name": "500mb_sao",
         "orientation": "v",
         "showlegend": false,
         "type": "scatter",
         "x": [
          4000,
          16000,
          64000,
          256000,
          1024000,
          4096000,
          16384000,
          65536000
         ],
         "xaxis": "x6",
         "y": [
          1.9696,
          1.2351,
          0.7978,
          0.2292,
          0.0638,
          0.0217,
          0.0123,
          0.0119
         ],
         "yaxis": "y6"
        },
        {
         "hovertemplate": "File=500mb_sao<br>Standard=zstd<br>gpu=A100<br>chunksize_Bytes=%{x}<br>compression_throughput_GBps=%{y}<extra></extra>",
         "legendgroup": "500mb_sao",
         "line": {
          "color": "#FF6692",
          "dash": "solid"
         },
         "marker": {
          "symbol": "circle"
         },
         "mode": "lines+markers",
         "name": "500mb_sao",
         "orientation": "v",
         "showlegend": false,
         "type": "scatter",
         "x": [
          4000,
          16000,
          64000,
          256000,
          1024000,
          4096000,
          16384000,
          65536000
         ],
         "xaxis": "x",
         "y": [
          2.8376,
          1.5583,
          0.449,
          0.135,
          0.064,
          0.0169,
          0.0093,
          0.0093
         ],
         "yaxis": "y"
        },
        {
         "hovertemplate": "File=500mb_sao<br>Standard=zstd<br>gpu=RTX2080TI<br>chunksize_Bytes=%{x}<br>compression_throughput_GBps=%{y}<extra></extra>",
         "legendgroup": "500mb_sao",
         "line": {
          "color": "#FF6692",
          "dash": "solid"
         },
         "marker": {
          "symbol": "circle"
         },
         "mode": "lines+markers",
         "name": "500mb_sao",
         "orientation": "v",
         "showlegend": false,
         "type": "scatter",
         "x": [
          4000,
          16000,
          64000,
          256000,
          1024000,
          4096000,
          16384000,
          65536000
         ],
         "xaxis": "x2",
         "y": [
          0.7983,
          0.9454,
          0.4909,
          0.1432,
          0.0757,
          0.0213,
          0.0117,
          0.0117
         ],
         "yaxis": "y2"
        },
        {
         "hovertemplate": "File=500mb_sao<br>Standard=zstd<br>gpu=RTX3050TI<br>chunksize_Bytes=%{x}<br>compression_throughput_GBps=%{y}<extra></extra>",
         "legendgroup": "500mb_sao",
         "line": {
          "color": "#FF6692",
          "dash": "solid"
         },
         "marker": {
          "symbol": "circle"
         },
         "mode": "lines+markers",
         "name": "500mb_sao",
         "orientation": "v",
         "showlegend": false,
         "type": "scatter",
         "x": [
          4000,
          16000,
          64000,
          256000,
          1024000,
          4096000,
          16384000,
          65536000
         ],
         "xaxis": "x3",
         "y": [
          0.4849,
          0.4981,
          0.4167,
          0.1267,
          0.0672,
          0.0199,
          0.011,
          0.011
         ],
         "yaxis": "y3"
        },
        {
         "hovertemplate": "File=500mb_xml<br>Standard=snappy<br>gpu=A100<br>chunksize_Bytes=%{x}<br>compression_throughput_GBps=%{y}<extra></extra>",
         "legendgroup": "500mb_xml",
         "line": {
          "color": "#B6E880",
          "dash": "solid"
         },
         "marker": {
          "symbol": "circle"
         },
         "mode": "lines+markers",
         "name": "500mb_xml",
         "orientation": "v",
         "showlegend": true,
         "type": "scatter",
         "x": [
          4000,
          16000,
          64000,
          256000,
          1024000,
          4096000,
          16384000,
          65536000
         ],
         "xaxis": "x4",
         "y": [
          8.0723,
          2.2153,
          0.5405,
          0.1384,
          0.0489,
          0.0172,
          0.012,
          0.012
         ],
         "yaxis": "y4"
        },
        {
         "hovertemplate": "File=500mb_xml<br>Standard=snappy<br>gpu=RTX2080TI<br>chunksize_Bytes=%{x}<br>compression_throughput_GBps=%{y}<extra></extra>",
         "legendgroup": "500mb_xml",
         "line": {
          "color": "#B6E880",
          "dash": "solid"
         },
         "marker": {
          "symbol": "circle"
         },
         "mode": "lines+markers",
         "name": "500mb_xml",
         "orientation": "v",
         "showlegend": false,
         "type": "scatter",
         "x": [
          4000,
          16000,
          64000,
          256000,
          1024000,
          4096000,
          16384000,
          65536000
         ],
         "xaxis": "x5",
         "y": [
          4.2497,
          2.4277,
          0.5955,
          0.1647,
          0.0601,
          0.0227,
          0.0157,
          0.0157
         ],
         "yaxis": "y5"
        },
        {
         "hovertemplate": "File=500mb_xml<br>Standard=snappy<br>gpu=RTX3050TI<br>chunksize_Bytes=%{x}<br>compression_throughput_GBps=%{y}<extra></extra>",
         "legendgroup": "500mb_xml",
         "line": {
          "color": "#B6E880",
          "dash": "solid"
         },
         "marker": {
          "symbol": "circle"
         },
         "mode": "lines+markers",
         "name": "500mb_xml",
         "orientation": "v",
         "showlegend": false,
         "type": "scatter",
         "x": [
          4000,
          16000,
          64000,
          256000,
          1024000,
          4096000,
          16384000,
          65536000
         ],
         "xaxis": "x6",
         "y": [
          1.668,
          1.2355,
          0.5195,
          0.1447,
          0.0459,
          0.0198,
          0.0139,
          0.0139
         ],
         "yaxis": "y6"
        },
        {
         "hovertemplate": "File=500mb_xml<br>Standard=zstd<br>gpu=A100<br>chunksize_Bytes=%{x}<br>compression_throughput_GBps=%{y}<extra></extra>",
         "legendgroup": "500mb_xml",
         "line": {
          "color": "#B6E880",
          "dash": "solid"
         },
         "marker": {
          "symbol": "circle"
         },
         "mode": "lines+markers",
         "name": "500mb_xml",
         "orientation": "v",
         "showlegend": false,
         "type": "scatter",
         "x": [
          4000,
          16000,
          64000,
          256000,
          1024000,
          4096000,
          16384000,
          65536000
         ],
         "xaxis": "x",
         "y": [
          3.0192,
          1.2147,
          0.3307,
          0.1046,
          0.0546,
          0.0305,
          0.0163,
          0.0163
         ],
         "yaxis": "y"
        },
        {
         "hovertemplate": "File=500mb_xml<br>Standard=zstd<br>gpu=RTX2080TI<br>chunksize_Bytes=%{x}<br>compression_throughput_GBps=%{y}<extra></extra>",
         "legendgroup": "500mb_xml",
         "line": {
          "color": "#B6E880",
          "dash": "solid"
         },
         "marker": {
          "symbol": "circle"
         },
         "mode": "lines+markers",
         "name": "500mb_xml",
         "orientation": "v",
         "showlegend": false,
         "type": "scatter",
         "x": [
          4000,
          16000,
          64000,
          256000,
          1024000,
          4096000,
          16384000,
          65536000
         ],
         "xaxis": "x2",
         "y": [
          1.1781,
          1.3054,
          0.3797,
          0.1158,
          0.0607,
          0.0406,
          0.0215,
          0.0214
         ],
         "yaxis": "y2"
        },
        {
         "hovertemplate": "File=500mb_xml<br>Standard=zstd<br>gpu=RTX3050TI<br>chunksize_Bytes=%{x}<br>compression_throughput_GBps=%{y}<extra></extra>",
         "legendgroup": "500mb_xml",
         "line": {
          "color": "#B6E880",
          "dash": "solid"
         },
         "marker": {
          "symbol": "circle"
         },
         "mode": "lines+markers",
         "name": "500mb_xml",
         "orientation": "v",
         "showlegend": false,
         "type": "scatter",
         "x": [
          4000,
          16000,
          64000,
          256000,
          1024000,
          4096000,
          16384000,
          65536000
         ],
         "xaxis": "x3",
         "y": [
          0.7522,
          0.7368,
          0.3338,
          0.102,
          0.0722,
          0.0372,
          0.0198,
          0.0198
         ],
         "yaxis": "y3"
        },
        {
         "hovertemplate": "File=500mb_silesia.zip<br>Standard=snappy<br>gpu=RTX2080TI<br>chunksize_Bytes=%{x}<br>compression_throughput_GBps=%{y}<extra></extra>",
         "legendgroup": "500mb_silesia.zip",
         "line": {
          "color": "#FF97FF",
          "dash": "solid"
         },
         "marker": {
          "symbol": "circle"
         },
         "mode": "lines+markers",
         "name": "500mb_silesia.zip",
         "orientation": "v",
         "showlegend": true,
         "type": "scatter",
         "x": [
          4000,
          16000,
          64000,
          256000,
          1024000,
          4096000,
          16384000,
          65536000
         ],
         "xaxis": "x5",
         "y": [
          14.029,
          12.1939,
          8.4638,
          4.8947,
          1.8466,
          0.6751,
          0.174,
          0.0439
         ],
         "yaxis": "y5"
        },
        {
         "hovertemplate": "File=500mb_silesia.zip<br>Standard=zstd<br>gpu=RTX2080TI<br>chunksize_Bytes=%{x}<br>compression_throughput_GBps=%{y}<extra></extra>",
         "legendgroup": "500mb_silesia.zip",
         "line": {
          "color": "#FF97FF",
          "dash": "solid"
         },
         "marker": {
          "symbol": "circle"
         },
         "mode": "lines+markers",
         "name": "500mb_silesia.zip",
         "orientation": "v",
         "showlegend": false,
         "type": "scatter",
         "x": [
          4000,
          16000,
          64000
         ],
         "xaxis": "x2",
         "y": [
          0.9116,
          0.9747,
          0.8963
         ],
         "yaxis": "y2"
        }
       ],
       "layout": {
        "annotations": [
         {
          "font": {},
          "showarrow": false,
          "text": "gpu=A100",
          "x": 0.14666666666666667,
          "xanchor": "center",
          "xref": "paper",
          "y": 1,
          "yanchor": "bottom",
          "yref": "paper"
         },
         {
          "font": {},
          "showarrow": false,
          "text": "gpu=RTX2080TI",
          "x": 0.49,
          "xanchor": "center",
          "xref": "paper",
          "y": 1,
          "yanchor": "bottom",
          "yref": "paper"
         },
         {
          "font": {},
          "showarrow": false,
          "text": "gpu=RTX3050TI",
          "x": 0.8333333333333333,
          "xanchor": "center",
          "xref": "paper",
          "y": 1,
          "yanchor": "bottom",
          "yref": "paper"
         },
         {
          "font": {},
          "showarrow": false,
          "text": "Standard=zstd",
          "textangle": 90,
          "x": 0.98,
          "xanchor": "left",
          "xref": "paper",
          "y": 0.2425,
          "yanchor": "middle",
          "yref": "paper"
         },
         {
          "font": {},
          "showarrow": false,
          "text": "Standard=snappy",
          "textangle": 90,
          "x": 0.98,
          "xanchor": "left",
          "xref": "paper",
          "y": 0.7575000000000001,
          "yanchor": "middle",
          "yref": "paper"
         }
        ],
        "legend": {
         "title": {
          "text": "File"
         },
         "tracegroupgap": 0
        },
        "template": {
         "data": {
          "bar": [
           {
            "error_x": {
             "color": "#2a3f5f"
            },
            "error_y": {
             "color": "#2a3f5f"
            },
            "marker": {
             "line": {
              "color": "#E5ECF6",
              "width": 0.5
             },
             "pattern": {
              "fillmode": "overlay",
              "size": 10,
              "solidity": 0.2
             }
            },
            "type": "bar"
           }
          ],
          "barpolar": [
           {
            "marker": {
             "line": {
              "color": "#E5ECF6",
              "width": 0.5
             },
             "pattern": {
              "fillmode": "overlay",
              "size": 10,
              "solidity": 0.2
             }
            },
            "type": "barpolar"
           }
          ],
          "carpet": [
           {
            "aaxis": {
             "endlinecolor": "#2a3f5f",
             "gridcolor": "white",
             "linecolor": "white",
             "minorgridcolor": "white",
             "startlinecolor": "#2a3f5f"
            },
            "baxis": {
             "endlinecolor": "#2a3f5f",
             "gridcolor": "white",
             "linecolor": "white",
             "minorgridcolor": "white",
             "startlinecolor": "#2a3f5f"
            },
            "type": "carpet"
           }
          ],
          "choropleth": [
           {
            "colorbar": {
             "outlinewidth": 0,
             "ticks": ""
            },
            "type": "choropleth"
           }
          ],
          "contour": [
           {
            "colorbar": {
             "outlinewidth": 0,
             "ticks": ""
            },
            "colorscale": [
             [
              0,
              "#0d0887"
             ],
             [
              0.1111111111111111,
              "#46039f"
             ],
             [
              0.2222222222222222,
              "#7201a8"
             ],
             [
              0.3333333333333333,
              "#9c179e"
             ],
             [
              0.4444444444444444,
              "#bd3786"
             ],
             [
              0.5555555555555556,
              "#d8576b"
             ],
             [
              0.6666666666666666,
              "#ed7953"
             ],
             [
              0.7777777777777778,
              "#fb9f3a"
             ],
             [
              0.8888888888888888,
              "#fdca26"
             ],
             [
              1,
              "#f0f921"
             ]
            ],
            "type": "contour"
           }
          ],
          "contourcarpet": [
           {
            "colorbar": {
             "outlinewidth": 0,
             "ticks": ""
            },
            "type": "contourcarpet"
           }
          ],
          "heatmap": [
           {
            "colorbar": {
             "outlinewidth": 0,
             "ticks": ""
            },
            "colorscale": [
             [
              0,
              "#0d0887"
             ],
             [
              0.1111111111111111,
              "#46039f"
             ],
             [
              0.2222222222222222,
              "#7201a8"
             ],
             [
              0.3333333333333333,
              "#9c179e"
             ],
             [
              0.4444444444444444,
              "#bd3786"
             ],
             [
              0.5555555555555556,
              "#d8576b"
             ],
             [
              0.6666666666666666,
              "#ed7953"
             ],
             [
              0.7777777777777778,
              "#fb9f3a"
             ],
             [
              0.8888888888888888,
              "#fdca26"
             ],
             [
              1,
              "#f0f921"
             ]
            ],
            "type": "heatmap"
           }
          ],
          "heatmapgl": [
           {
            "colorbar": {
             "outlinewidth": 0,
             "ticks": ""
            },
            "colorscale": [
             [
              0,
              "#0d0887"
             ],
             [
              0.1111111111111111,
              "#46039f"
             ],
             [
              0.2222222222222222,
              "#7201a8"
             ],
             [
              0.3333333333333333,
              "#9c179e"
             ],
             [
              0.4444444444444444,
              "#bd3786"
             ],
             [
              0.5555555555555556,
              "#d8576b"
             ],
             [
              0.6666666666666666,
              "#ed7953"
             ],
             [
              0.7777777777777778,
              "#fb9f3a"
             ],
             [
              0.8888888888888888,
              "#fdca26"
             ],
             [
              1,
              "#f0f921"
             ]
            ],
            "type": "heatmapgl"
           }
          ],
          "histogram": [
           {
            "marker": {
             "pattern": {
              "fillmode": "overlay",
              "size": 10,
              "solidity": 0.2
             }
            },
            "type": "histogram"
           }
          ],
          "histogram2d": [
           {
            "colorbar": {
             "outlinewidth": 0,
             "ticks": ""
            },
            "colorscale": [
             [
              0,
              "#0d0887"
             ],
             [
              0.1111111111111111,
              "#46039f"
             ],
             [
              0.2222222222222222,
              "#7201a8"
             ],
             [
              0.3333333333333333,
              "#9c179e"
             ],
             [
              0.4444444444444444,
              "#bd3786"
             ],
             [
              0.5555555555555556,
              "#d8576b"
             ],
             [
              0.6666666666666666,
              "#ed7953"
             ],
             [
              0.7777777777777778,
              "#fb9f3a"
             ],
             [
              0.8888888888888888,
              "#fdca26"
             ],
             [
              1,
              "#f0f921"
             ]
            ],
            "type": "histogram2d"
           }
          ],
          "histogram2dcontour": [
           {
            "colorbar": {
             "outlinewidth": 0,
             "ticks": ""
            },
            "colorscale": [
             [
              0,
              "#0d0887"
             ],
             [
              0.1111111111111111,
              "#46039f"
             ],
             [
              0.2222222222222222,
              "#7201a8"
             ],
             [
              0.3333333333333333,
              "#9c179e"
             ],
             [
              0.4444444444444444,
              "#bd3786"
             ],
             [
              0.5555555555555556,
              "#d8576b"
             ],
             [
              0.6666666666666666,
              "#ed7953"
             ],
             [
              0.7777777777777778,
              "#fb9f3a"
             ],
             [
              0.8888888888888888,
              "#fdca26"
             ],
             [
              1,
              "#f0f921"
             ]
            ],
            "type": "histogram2dcontour"
           }
          ],
          "mesh3d": [
           {
            "colorbar": {
             "outlinewidth": 0,
             "ticks": ""
            },
            "type": "mesh3d"
           }
          ],
          "parcoords": [
           {
            "line": {
             "colorbar": {
              "outlinewidth": 0,
              "ticks": ""
             }
            },
            "type": "parcoords"
           }
          ],
          "pie": [
           {
            "automargin": true,
            "type": "pie"
           }
          ],
          "scatter": [
           {
            "fillpattern": {
             "fillmode": "overlay",
             "size": 10,
             "solidity": 0.2
            },
            "type": "scatter"
           }
          ],
          "scatter3d": [
           {
            "line": {
             "colorbar": {
              "outlinewidth": 0,
              "ticks": ""
             }
            },
            "marker": {
             "colorbar": {
              "outlinewidth": 0,
              "ticks": ""
             }
            },
            "type": "scatter3d"
           }
          ],
          "scattercarpet": [
           {
            "marker": {
             "colorbar": {
              "outlinewidth": 0,
              "ticks": ""
             }
            },
            "type": "scattercarpet"
           }
          ],
          "scattergeo": [
           {
            "marker": {
             "colorbar": {
              "outlinewidth": 0,
              "ticks": ""
             }
            },
            "type": "scattergeo"
           }
          ],
          "scattergl": [
           {
            "marker": {
             "colorbar": {
              "outlinewidth": 0,
              "ticks": ""
             }
            },
            "type": "scattergl"
           }
          ],
          "scattermapbox": [
           {
            "marker": {
             "colorbar": {
              "outlinewidth": 0,
              "ticks": ""
             }
            },
            "type": "scattermapbox"
           }
          ],
          "scatterpolar": [
           {
            "marker": {
             "colorbar": {
              "outlinewidth": 0,
              "ticks": ""
             }
            },
            "type": "scatterpolar"
           }
          ],
          "scatterpolargl": [
           {
            "marker": {
             "colorbar": {
              "outlinewidth": 0,
              "ticks": ""
             }
            },
            "type": "scatterpolargl"
           }
          ],
          "scatterternary": [
           {
            "marker": {
             "colorbar": {
              "outlinewidth": 0,
              "ticks": ""
             }
            },
            "type": "scatterternary"
           }
          ],
          "surface": [
           {
            "colorbar": {
             "outlinewidth": 0,
             "ticks": ""
            },
            "colorscale": [
             [
              0,
              "#0d0887"
             ],
             [
              0.1111111111111111,
              "#46039f"
             ],
             [
              0.2222222222222222,
              "#7201a8"
             ],
             [
              0.3333333333333333,
              "#9c179e"
             ],
             [
              0.4444444444444444,
              "#bd3786"
             ],
             [
              0.5555555555555556,
              "#d8576b"
             ],
             [
              0.6666666666666666,
              "#ed7953"
             ],
             [
              0.7777777777777778,
              "#fb9f3a"
             ],
             [
              0.8888888888888888,
              "#fdca26"
             ],
             [
              1,
              "#f0f921"
             ]
            ],
            "type": "surface"
           }
          ],
          "table": [
           {
            "cells": {
             "fill": {
              "color": "#EBF0F8"
             },
             "line": {
              "color": "white"
             }
            },
            "header": {
             "fill": {
              "color": "#C8D4E3"
             },
             "line": {
              "color": "white"
             }
            },
            "type": "table"
           }
          ]
         },
         "layout": {
          "annotationdefaults": {
           "arrowcolor": "#2a3f5f",
           "arrowhead": 0,
           "arrowwidth": 1
          },
          "autotypenumbers": "strict",
          "coloraxis": {
           "colorbar": {
            "outlinewidth": 0,
            "ticks": ""
           }
          },
          "colorscale": {
           "diverging": [
            [
             0,
             "#8e0152"
            ],
            [
             0.1,
             "#c51b7d"
            ],
            [
             0.2,
             "#de77ae"
            ],
            [
             0.3,
             "#f1b6da"
            ],
            [
             0.4,
             "#fde0ef"
            ],
            [
             0.5,
             "#f7f7f7"
            ],
            [
             0.6,
             "#e6f5d0"
            ],
            [
             0.7,
             "#b8e186"
            ],
            [
             0.8,
             "#7fbc41"
            ],
            [
             0.9,
             "#4d9221"
            ],
            [
             1,
             "#276419"
            ]
           ],
           "sequential": [
            [
             0,
             "#0d0887"
            ],
            [
             0.1111111111111111,
             "#46039f"
            ],
            [
             0.2222222222222222,
             "#7201a8"
            ],
            [
             0.3333333333333333,
             "#9c179e"
            ],
            [
             0.4444444444444444,
             "#bd3786"
            ],
            [
             0.5555555555555556,
             "#d8576b"
            ],
            [
             0.6666666666666666,
             "#ed7953"
            ],
            [
             0.7777777777777778,
             "#fb9f3a"
            ],
            [
             0.8888888888888888,
             "#fdca26"
            ],
            [
             1,
             "#f0f921"
            ]
           ],
           "sequentialminus": [
            [
             0,
             "#0d0887"
            ],
            [
             0.1111111111111111,
             "#46039f"
            ],
            [
             0.2222222222222222,
             "#7201a8"
            ],
            [
             0.3333333333333333,
             "#9c179e"
            ],
            [
             0.4444444444444444,
             "#bd3786"
            ],
            [
             0.5555555555555556,
             "#d8576b"
            ],
            [
             0.6666666666666666,
             "#ed7953"
            ],
            [
             0.7777777777777778,
             "#fb9f3a"
            ],
            [
             0.8888888888888888,
             "#fdca26"
            ],
            [
             1,
             "#f0f921"
            ]
           ]
          },
          "colorway": [
           "#636efa",
           "#EF553B",
           "#00cc96",
           "#ab63fa",
           "#FFA15A",
           "#19d3f3",
           "#FF6692",
           "#B6E880",
           "#FF97FF",
           "#FECB52"
          ],
          "font": {
           "color": "#2a3f5f"
          },
          "geo": {
           "bgcolor": "white",
           "lakecolor": "white",
           "landcolor": "#E5ECF6",
           "showlakes": true,
           "showland": true,
           "subunitcolor": "white"
          },
          "hoverlabel": {
           "align": "left"
          },
          "hovermode": "closest",
          "mapbox": {
           "style": "light"
          },
          "paper_bgcolor": "white",
          "plot_bgcolor": "#E5ECF6",
          "polar": {
           "angularaxis": {
            "gridcolor": "white",
            "linecolor": "white",
            "ticks": ""
           },
           "bgcolor": "#E5ECF6",
           "radialaxis": {
            "gridcolor": "white",
            "linecolor": "white",
            "ticks": ""
           }
          },
          "scene": {
           "xaxis": {
            "backgroundcolor": "#E5ECF6",
            "gridcolor": "white",
            "gridwidth": 2,
            "linecolor": "white",
            "showbackground": true,
            "ticks": "",
            "zerolinecolor": "white"
           },
           "yaxis": {
            "backgroundcolor": "#E5ECF6",
            "gridcolor": "white",
            "gridwidth": 2,
            "linecolor": "white",
            "showbackground": true,
            "ticks": "",
            "zerolinecolor": "white"
           },
           "zaxis": {
            "backgroundcolor": "#E5ECF6",
            "gridcolor": "white",
            "gridwidth": 2,
            "linecolor": "white",
            "showbackground": true,
            "ticks": "",
            "zerolinecolor": "white"
           }
          },
          "shapedefaults": {
           "line": {
            "color": "#2a3f5f"
           }
          },
          "ternary": {
           "aaxis": {
            "gridcolor": "white",
            "linecolor": "white",
            "ticks": ""
           },
           "baxis": {
            "gridcolor": "white",
            "linecolor": "white",
            "ticks": ""
           },
           "bgcolor": "#E5ECF6",
           "caxis": {
            "gridcolor": "white",
            "linecolor": "white",
            "ticks": ""
           }
          },
          "title": {
           "x": 0.05
          },
          "xaxis": {
           "automargin": true,
           "gridcolor": "white",
           "linecolor": "white",
           "ticks": "",
           "title": {
            "standoff": 15
           },
           "zerolinecolor": "white",
           "zerolinewidth": 2
          },
          "yaxis": {
           "automargin": true,
           "gridcolor": "white",
           "linecolor": "white",
           "ticks": "",
           "title": {
            "standoff": 15
           },
           "zerolinecolor": "white",
           "zerolinewidth": 2
          }
         }
        },
        "title": {
         "text": "Compression throughput"
        },
        "width": 1200,
        "xaxis": {
         "anchor": "y",
         "domain": [
          0,
          0.29333333333333333
         ],
         "title": {
          "text": "Chunk size"
         },
         "type": "log"
        },
        "xaxis2": {
         "anchor": "y2",
         "domain": [
          0.3433333333333333,
          0.6366666666666667
         ],
         "matches": "x",
         "title": {
          "text": "Chunk size"
         },
         "type": "log"
        },
        "xaxis3": {
         "anchor": "y3",
         "domain": [
          0.6866666666666666,
          0.98
         ],
         "matches": "x",
         "title": {
          "text": "Chunk size"
         },
         "type": "log"
        },
        "xaxis4": {
         "anchor": "y4",
         "domain": [
          0,
          0.29333333333333333
         ],
         "matches": "x",
         "showticklabels": false,
         "type": "log"
        },
        "xaxis5": {
         "anchor": "y5",
         "domain": [
          0.3433333333333333,
          0.6366666666666667
         ],
         "matches": "x",
         "showticklabels": false,
         "type": "log"
        },
        "xaxis6": {
         "anchor": "y6",
         "domain": [
          0.6866666666666666,
          0.98
         ],
         "matches": "x",
         "showticklabels": false,
         "type": "log"
        },
        "yaxis": {
         "anchor": "x",
         "domain": [
          0,
          0.485
         ],
         "title": {
          "text": "a"
         }
        },
        "yaxis2": {
         "anchor": "x2",
         "domain": [
          0,
          0.485
         ],
         "matches": "y",
         "showticklabels": false,
         "title": {
          "text": "a"
         }
        },
        "yaxis3": {
         "anchor": "x3",
         "domain": [
          0,
          0.485
         ],
         "matches": "y",
         "showticklabels": false
        },
        "yaxis4": {
         "anchor": "x4",
         "domain": [
          0.515,
          1
         ],
         "matches": "y",
         "title": {
          "text": "compression_throughput_GBps"
         }
        },
        "yaxis5": {
         "anchor": "x5",
         "domain": [
          0.515,
          1
         ],
         "matches": "y",
         "showticklabels": false
        },
        "yaxis6": {
         "anchor": "x6",
         "domain": [
          0.515,
          1
         ],
         "matches": "y",
         "showticklabels": false
        }
       }
      }
     },
     "metadata": {},
     "output_type": "display_data"
    }
   ],
   "source": [
    "fig_gpus_througphut = px.line(\n",
    "    all_result_df,\n",
    "    title=f\"Compression throughput\", \n",
    "    x=\"chunksize_Bytes\",\n",
    "    y=\"compression_throughput_GBps\",\n",
    "    color=\"File\",\n",
    "    log_x=True,\n",
    "    # log_y=True,\n",
    "    markers=True,\n",
    "    facet_row='Standard',\n",
    "    facet_col=\"gpu\",\n",
    "    facet_col_spacing=0.05,\n",
    "    width=1200,\n",
    ")\n",
    "# fig_gpus_througphut.update_xaxes(autorange=\"reversed\")\n",
    "# fig_gpus_througphut.update_xaxes(dict(\n",
    "#         tickmode = 'array',\n",
    "#         tickvals = alldf['chunksize_Bytes'],\n",
    "#         ticktext = alldf['chunksize_Bytes_formatted'],\n",
    "#         tickangle=45,\n",
    "#     )\n",
    "# )\n",
    "fig_gpus_througphut.update_layout(\n",
    "    yaxis_title=\"a\",\n",
    "    yaxis2_title=\"a\",\n",
    "    xaxis_title=\"Chunk size\",\n",
    "    xaxis2_title=\"Chunk size\",\n",
    "    xaxis3_title=\"Chunk size\",\n",
    "    # font_size=16,\n",
    ")\n",
    "\n",
    "fig_gpus_througphut.show()"
   ]
  },
  {
   "cell_type": "code",
   "execution_count": 12,
   "metadata": {},
   "outputs": [
    {
     "data": {
      "application/vnd.plotly.v1+json": {
       "config": {
        "plotlyServerURL": "https://plot.ly"
       },
       "data": [
        {
         "hovertemplate": "File=500mb_dickens<br>Standard=snappy<br>gpu=A100<br>chunksize_Bytes=%{x}<br>decompression_throughput_GBps=%{y}<extra></extra>",
         "legendgroup": "500mb_dickens",
         "line": {
          "color": "#636efa",
          "dash": "solid"
         },
         "marker": {
          "symbol": "circle"
         },
         "mode": "lines+markers",
         "name": "500mb_dickens",
         "orientation": "v",
         "showlegend": true,
         "type": "scatter",
         "x": [
          4000,
          16000,
          64000,
          256000,
          1024000,
          4096000,
          16384000,
          65536000
         ],
         "xaxis": "x4",
         "y": [
          19.8204,
          7.5073,
          2.0746,
          0.5456,
          0.1682,
          0.0434,
          0.0174,
          0.0174
         ],
         "yaxis": "y4"
        },
        {
         "hovertemplate": "File=500mb_dickens<br>Standard=snappy<br>gpu=RTX2080TI<br>chunksize_Bytes=%{x}<br>decompression_throughput_GBps=%{y}<extra></extra>",
         "legendgroup": "500mb_dickens",
         "line": {
          "color": "#636efa",
          "dash": "solid"
         },
         "marker": {
          "symbol": "circle"
         },
         "mode": "lines+markers",
         "name": "500mb_dickens",
         "orientation": "v",
         "showlegend": false,
         "type": "scatter",
         "x": [
          4000,
          16000,
          64000,
          256000,
          1024000,
          4096000,
          16384000,
          65536000
         ],
         "xaxis": "x5",
         "y": [
          9.996,
          7.1948,
          2.177,
          0.8002,
          0.2004,
          0.0508,
          0.0206,
          0.0205
         ],
         "yaxis": "y5"
        },
        {
         "hovertemplate": "File=500mb_dickens<br>Standard=snappy<br>gpu=RTX3050TI<br>chunksize_Bytes=%{x}<br>decompression_throughput_GBps=%{y}<extra></extra>",
         "legendgroup": "500mb_dickens",
         "line": {
          "color": "#636efa",
          "dash": "solid"
         },
         "marker": {
          "symbol": "circle"
         },
         "mode": "lines+markers",
         "name": "500mb_dickens",
         "orientation": "v",
         "showlegend": false,
         "type": "scatter",
         "x": [
          4000,
          16000,
          64000,
          256000,
          1024000,
          4096000,
          16384000,
          65536000
         ],
         "xaxis": "x6",
         "y": [
          3.555,
          2.9889,
          1.934,
          0.5574,
          0.1992,
          0.0507,
          0.0204,
          0.0204
         ],
         "yaxis": "y6"
        },
        {
         "hovertemplate": "File=500mb_dickens<br>Standard=zstd<br>gpu=A100<br>chunksize_Bytes=%{x}<br>decompression_throughput_GBps=%{y}<extra></extra>",
         "legendgroup": "500mb_dickens",
         "line": {
          "color": "#636efa",
          "dash": "solid"
         },
         "marker": {
          "symbol": "circle"
         },
         "mode": "lines+markers",
         "name": "500mb_dickens",
         "orientation": "v",
         "showlegend": false,
         "type": "scatter",
         "x": [
          4000,
          16000,
          64000,
          256000,
          1024000,
          4096000,
          16384000,
          65536000
         ],
         "xaxis": "x",
         "y": [
          7.8599,
          3.8141,
          1.1618,
          0.6585,
          0.2287,
          0.0721,
          0.0248,
          0.0248
         ],
         "yaxis": "y"
        },
        {
         "hovertemplate": "File=500mb_dickens<br>Standard=zstd<br>gpu=RTX2080TI<br>chunksize_Bytes=%{x}<br>decompression_throughput_GBps=%{y}<extra></extra>",
         "legendgroup": "500mb_dickens",
         "line": {
          "color": "#636efa",
          "dash": "solid"
         },
         "marker": {
          "symbol": "circle"
         },
         "mode": "lines+markers",
         "name": "500mb_dickens",
         "orientation": "v",
         "showlegend": false,
         "type": "scatter",
         "x": [
          4000,
          16000,
          64000,
          256000,
          1024000,
          4096000,
          16384000,
          65536000
         ],
         "xaxis": "x2",
         "y": [
          4.9661,
          3.1154,
          0.8656,
          0.5167,
          0.2063,
          0.0637,
          0.0218,
          0.0218
         ],
         "yaxis": "y2"
        },
        {
         "hovertemplate": "File=500mb_dickens<br>Standard=zstd<br>gpu=RTX3050TI<br>chunksize_Bytes=%{x}<br>decompression_throughput_GBps=%{y}<extra></extra>",
         "legendgroup": "500mb_dickens",
         "line": {
          "color": "#636efa",
          "dash": "solid"
         },
         "marker": {
          "symbol": "circle"
         },
         "mode": "lines+markers",
         "name": "500mb_dickens",
         "orientation": "v",
         "showlegend": false,
         "type": "scatter",
         "x": [
          4000,
          16000,
          64000,
          256000,
          1024000,
          4096000,
          16384000,
          65536000
         ],
         "xaxis": "x3",
         "y": [
          2.9055,
          2.036,
          1.1929,
          0.8157,
          0.2829,
          0.0886,
          0.0313,
          0.0313
         ],
         "yaxis": "y3"
        },
        {
         "hovertemplate": "File=500mb_lineitem.parquet<br>Standard=snappy<br>gpu=A100<br>chunksize_Bytes=%{x}<br>decompression_throughput_GBps=%{y}<extra></extra>",
         "legendgroup": "500mb_lineitem.parquet",
         "line": {
          "color": "#EF553B",
          "dash": "solid"
         },
         "marker": {
          "symbol": "circle"
         },
         "mode": "lines+markers",
         "name": "500mb_lineitem.parquet",
         "orientation": "v",
         "showlegend": true,
         "type": "scatter",
         "x": [
          4000,
          16000,
          64000,
          256000,
          1024000,
          4096000,
          16384000,
          65536000
         ],
         "xaxis": "x4",
         "y": [
          153.1426,
          172.7508,
          146.6002,
          97.0919,
          42.8263,
          17.5144,
          10.9551,
          4.0551
         ],
         "yaxis": "y4"
        },
        {
         "hovertemplate": "File=500mb_mozilla<br>Standard=snappy<br>gpu=A100<br>chunksize_Bytes=%{x}<br>decompression_throughput_GBps=%{y}<extra></extra>",
         "legendgroup": "500mb_mozilla",
         "line": {
          "color": "#00cc96",
          "dash": "solid"
         },
         "marker": {
          "symbol": "circle"
         },
         "mode": "lines+markers",
         "name": "500mb_mozilla",
         "orientation": "v",
         "showlegend": true,
         "type": "scatter",
         "x": [
          4000,
          16000,
          64000,
          256000,
          1024000,
          4096000,
          16384000,
          65536000
         ],
         "xaxis": "x4",
         "y": [
          34.7504,
          26.4875,
          11.3443,
          3.3337,
          1.0638,
          0.3157,
          0.0828,
          0.0297
         ],
         "yaxis": "y4"
        },
        {
         "hovertemplate": "File=500mb_mozilla<br>Standard=snappy<br>gpu=RTX2080TI<br>chunksize_Bytes=%{x}<br>decompression_throughput_GBps=%{y}<extra></extra>",
         "legendgroup": "500mb_mozilla",
         "line": {
          "color": "#00cc96",
          "dash": "solid"
         },
         "marker": {
          "symbol": "circle"
         },
         "mode": "lines+markers",
         "name": "500mb_mozilla",
         "orientation": "v",
         "showlegend": false,
         "type": "scatter",
         "x": [
          4000,
          16000,
          64000,
          256000,
          1024000,
          4096000,
          16384000,
          65536000
         ],
         "xaxis": "x5",
         "y": [
          17.5601,
          15.6635,
          11.192,
          3.4737,
          1.2863,
          0.3808,
          0.0998,
          0.0356
         ],
         "yaxis": "y5"
        },
        {
         "hovertemplate": "File=500mb_mozilla<br>Standard=snappy<br>gpu=RTX3050TI<br>chunksize_Bytes=%{x}<br>decompression_throughput_GBps=%{y}<extra></extra>",
         "legendgroup": "500mb_mozilla",
         "line": {
          "color": "#00cc96",
          "dash": "solid"
         },
         "marker": {
          "symbol": "circle"
         },
         "mode": "lines+markers",
         "name": "500mb_mozilla",
         "orientation": "v",
         "showlegend": false,
         "type": "scatter",
         "x": [
          4000,
          16000,
          64000,
          256000,
          1024000,
          4096000,
          16384000,
          65536000
         ],
         "xaxis": "x6",
         "y": [
          5.9714,
          5.6436,
          4.7096,
          3.0945,
          1.2716,
          0.376,
          0.0984,
          0.0323
         ],
         "yaxis": "y6"
        },
        {
         "hovertemplate": "File=500mb_mozilla<br>Standard=zstd<br>gpu=A100<br>chunksize_Bytes=%{x}<br>decompression_throughput_GBps=%{y}<extra></extra>",
         "legendgroup": "500mb_mozilla",
         "line": {
          "color": "#00cc96",
          "dash": "solid"
         },
         "marker": {
          "symbol": "circle"
         },
         "mode": "lines+markers",
         "name": "500mb_mozilla",
         "orientation": "v",
         "showlegend": false,
         "type": "scatter",
         "x": [
          4000,
          16000,
          64000,
          256000,
          1024000,
          4096000,
          16384000
         ],
         "xaxis": "x",
         "y": [
          16.6699,
          14.0692,
          7.3762,
          3.0094,
          1.278,
          0.3784,
          0.1002
         ],
         "yaxis": "y"
        },
        {
         "hovertemplate": "File=500mb_mozilla<br>Standard=zstd<br>gpu=RTX2080TI<br>chunksize_Bytes=%{x}<br>decompression_throughput_GBps=%{y}<extra></extra>",
         "legendgroup": "500mb_mozilla",
         "line": {
          "color": "#00cc96",
          "dash": "solid"
         },
         "marker": {
          "symbol": "circle"
         },
         "mode": "lines+markers",
         "name": "500mb_mozilla",
         "orientation": "v",
         "showlegend": false,
         "type": "scatter",
         "x": [
          4000,
          16000,
          64000,
          256000,
          1024000,
          4096000,
          16384000
         ],
         "xaxis": "x2",
         "y": [
          6.6775,
          7.1651,
          4.8763,
          3.5812,
          1.6438,
          0.4897,
          0.1326
         ],
         "yaxis": "y2"
        },
        {
         "hovertemplate": "File=500mb_mozilla<br>Standard=zstd<br>gpu=RTX3050TI<br>chunksize_Bytes=%{x}<br>decompression_throughput_GBps=%{y}<extra></extra>",
         "legendgroup": "500mb_mozilla",
         "line": {
          "color": "#00cc96",
          "dash": "solid"
         },
         "marker": {
          "symbol": "circle"
         },
         "mode": "lines+markers",
         "name": "500mb_mozilla",
         "orientation": "v",
         "showlegend": false,
         "type": "scatter",
         "x": [
          4000,
          16000,
          64000,
          256000,
          1024000,
          4096000,
          16384000
         ],
         "xaxis": "x3",
         "y": [
          4.4291,
          4.8323,
          4.4859,
          3.4913,
          1.4608,
          0.4204,
          0.0993
         ],
         "yaxis": "y3"
        },
        {
         "hovertemplate": "File=500mb_mr<br>Standard=snappy<br>gpu=A100<br>chunksize_Bytes=%{x}<br>decompression_throughput_GBps=%{y}<extra></extra>",
         "legendgroup": "500mb_mr",
         "line": {
          "color": "#ab63fa",
          "dash": "solid"
         },
         "marker": {
          "symbol": "circle"
         },
         "mode": "lines+markers",
         "name": "500mb_mr",
         "orientation": "v",
         "showlegend": true,
         "type": "scatter",
         "x": [
          4000,
          16000,
          64000,
          256000,
          1024000,
          4096000,
          16384000,
          65536000
         ],
         "xaxis": "x4",
         "y": [
          29.1769,
          11.7506,
          2.9804,
          0.7661,
          0.2907,
          0.0773,
          0.0325,
          0.0325
         ],
         "yaxis": "y4"
        },
        {
         "hovertemplate": "File=500mb_mr<br>Standard=snappy<br>gpu=RTX2080TI<br>chunksize_Bytes=%{x}<br>decompression_throughput_GBps=%{y}<extra></extra>",
         "legendgroup": "500mb_mr",
         "line": {
          "color": "#ab63fa",
          "dash": "solid"
         },
         "marker": {
          "symbol": "circle"
         },
         "mode": "lines+markers",
         "name": "500mb_mr",
         "orientation": "v",
         "showlegend": false,
         "type": "scatter",
         "x": [
          4000,
          16000,
          64000,
          256000,
          1024000,
          4096000,
          16384000,
          65536000
         ],
         "xaxis": "x5",
         "y": [
          16.9199,
          11.1033,
          2.9687,
          0.7731,
          0.3485,
          0.09,
          0.0385,
          0.0385
         ],
         "yaxis": "y5"
        },
        {
         "hovertemplate": "File=500mb_mr<br>Standard=snappy<br>gpu=RTX3050TI<br>chunksize_Bytes=%{x}<br>decompression_throughput_GBps=%{y}<extra></extra>",
         "legendgroup": "500mb_mr",
         "line": {
          "color": "#ab63fa",
          "dash": "solid"
         },
         "marker": {
          "symbol": "circle"
         },
         "mode": "lines+markers",
         "name": "500mb_mr",
         "orientation": "v",
         "showlegend": false,
         "type": "scatter",
         "x": [
          4000,
          16000,
          64000,
          256000,
          1024000,
          4096000,
          16384000,
          65536000
         ],
         "xaxis": "x6",
         "y": [
          6.6999,
          5.5806,
          2.7942,
          0.7769,
          0.338,
          0.0877,
          0.034,
          0.0337
         ],
         "yaxis": "y6"
        },
        {
         "hovertemplate": "File=500mb_mr<br>Standard=zstd<br>gpu=A100<br>chunksize_Bytes=%{x}<br>decompression_throughput_GBps=%{y}<extra></extra>",
         "legendgroup": "500mb_mr",
         "line": {
          "color": "#ab63fa",
          "dash": "solid"
         },
         "marker": {
          "symbol": "circle"
         },
         "mode": "lines+markers",
         "name": "500mb_mr",
         "orientation": "v",
         "showlegend": false,
         "type": "scatter",
         "x": [
          4000,
          16000,
          64000,
          256000,
          1024000,
          4096000,
          16384000,
          65536000
         ],
         "xaxis": "x",
         "y": [
          7.6155,
          4.5024,
          1.4507,
          0.8657,
          0.3102,
          0.0971,
          0.035,
          0.0352
         ],
         "yaxis": "y"
        },
        {
         "hovertemplate": "File=500mb_mr<br>Standard=zstd<br>gpu=RTX2080TI<br>chunksize_Bytes=%{x}<br>decompression_throughput_GBps=%{y}<extra></extra>",
         "legendgroup": "500mb_mr",
         "line": {
          "color": "#ab63fa",
          "dash": "solid"
         },
         "marker": {
          "symbol": "circle"
         },
         "mode": "lines+markers",
         "name": "500mb_mr",
         "orientation": "v",
         "showlegend": false,
         "type": "scatter",
         "x": [
          4000,
          16000,
          64000,
          256000,
          1024000,
          4096000,
          16384000,
          65536000
         ],
         "xaxis": "x2",
         "y": [
          5.1844,
          3.4682,
          1.0858,
          0.5923,
          0.2954,
          0.0921,
          0.031,
          0.031
         ],
         "yaxis": "y2"
        },
        {
         "hovertemplate": "File=500mb_mr<br>Standard=zstd<br>gpu=RTX3050TI<br>chunksize_Bytes=%{x}<br>decompression_throughput_GBps=%{y}<extra></extra>",
         "legendgroup": "500mb_mr",
         "line": {
          "color": "#ab63fa",
          "dash": "solid"
         },
         "marker": {
          "symbol": "circle"
         },
         "mode": "lines+markers",
         "name": "500mb_mr",
         "orientation": "v",
         "showlegend": false,
         "type": "scatter",
         "x": [
          4000,
          16000,
          64000,
          256000,
          1024000,
          4096000,
          16384000,
          65536000
         ],
         "xaxis": "x3",
         "y": [
          3.0083,
          2.8,
          1.4726,
          0.7323,
          0.3678,
          0.1123,
          0.0401,
          0.0399
         ],
         "yaxis": "y3"
        },
        {
         "hovertemplate": "File=500mb_nci<br>Standard=snappy<br>gpu=A100<br>chunksize_Bytes=%{x}<br>decompression_throughput_GBps=%{y}<extra></extra>",
         "legendgroup": "500mb_nci",
         "line": {
          "color": "#FFA15A",
          "dash": "solid"
         },
         "marker": {
          "symbol": "circle"
         },
         "mode": "lines+markers",
         "name": "500mb_nci",
         "orientation": "v",
         "showlegend": true,
         "type": "scatter",
         "x": [
          4000,
          16000,
          64000,
          256000,
          1024000,
          4096000,
          16384000,
          65536000
         ],
         "xaxis": "x4",
         "y": [
          48.2511,
          47.0263,
          20.4886,
          6.4079,
          1.9605,
          0.5635,
          0.1502,
          0.0732
         ],
         "yaxis": "y4"
        },
        {
         "hovertemplate": "File=500mb_nci<br>Standard=snappy<br>gpu=RTX2080TI<br>chunksize_Bytes=%{x}<br>decompression_throughput_GBps=%{y}<extra></extra>",
         "legendgroup": "500mb_nci",
         "line": {
          "color": "#FFA15A",
          "dash": "solid"
         },
         "marker": {
          "symbol": "circle"
         },
         "mode": "lines+markers",
         "name": "500mb_nci",
         "orientation": "v",
         "showlegend": false,
         "type": "scatter",
         "x": [
          4000,
          16000,
          64000,
          256000,
          1024000,
          4096000,
          16384000,
          65536000
         ],
         "xaxis": "x5",
         "y": [
          25.2394,
          28.5365,
          20.8496,
          7.1708,
          2.6445,
          0.7062,
          0.1887,
          0.0921
         ],
         "yaxis": "y5"
        },
        {
         "hovertemplate": "File=500mb_nci<br>Standard=snappy<br>gpu=RTX3050TI<br>chunksize_Bytes=%{x}<br>decompression_throughput_GBps=%{y}<extra></extra>",
         "legendgroup": "500mb_nci",
         "line": {
          "color": "#FFA15A",
          "dash": "solid"
         },
         "marker": {
          "symbol": "circle"
         },
         "mode": "lines+markers",
         "name": "500mb_nci",
         "orientation": "v",
         "showlegend": false,
         "type": "scatter",
         "x": [
          4000,
          16000,
          64000,
          256000,
          1024000,
          4096000,
          16384000,
          65536000
         ],
         "xaxis": "x6",
         "y": [
          8.4719,
          10.3635,
          10.0909,
          6.0943,
          1.8136,
          0.6883,
          0.1679,
          0.0808
         ],
         "yaxis": "y6"
        },
        {
         "hovertemplate": "File=500mb_nci<br>Standard=zstd<br>gpu=A100<br>chunksize_Bytes=%{x}<br>decompression_throughput_GBps=%{y}<extra></extra>",
         "legendgroup": "500mb_nci",
         "line": {
          "color": "#FFA15A",
          "dash": "solid"
         },
         "marker": {
          "symbol": "circle"
         },
         "mode": "lines+markers",
         "name": "500mb_nci",
         "orientation": "v",
         "showlegend": false,
         "type": "scatter",
         "x": [
          4000,
          16000,
          64000,
          256000,
          1024000,
          4096000,
          16384000
         ],
         "xaxis": "x",
         "y": [
          16.298,
          20.0203,
          11.22,
          4.5395,
          1.3747,
          0.3668,
          0.0965
         ],
         "yaxis": "y"
        },
        {
         "hovertemplate": "File=500mb_nci<br>Standard=zstd<br>gpu=RTX2080TI<br>chunksize_Bytes=%{x}<br>decompression_throughput_GBps=%{y}<extra></extra>",
         "legendgroup": "500mb_nci",
         "line": {
          "color": "#FFA15A",
          "dash": "solid"
         },
         "marker": {
          "symbol": "circle"
         },
         "mode": "lines+markers",
         "name": "500mb_nci",
         "orientation": "v",
         "showlegend": false,
         "type": "scatter",
         "x": [
          4000,
          16000,
          64000,
          256000,
          1024000,
          4096000,
          16384000
         ],
         "xaxis": "x2",
         "y": [
          7.2792,
          12.0359,
          8.1936,
          3.9313,
          1.5313,
          0.4737,
          0.1273
         ],
         "yaxis": "y2"
        },
        {
         "hovertemplate": "File=500mb_nci<br>Standard=zstd<br>gpu=RTX3050TI<br>chunksize_Bytes=%{x}<br>decompression_throughput_GBps=%{y}<extra></extra>",
         "legendgroup": "500mb_nci",
         "line": {
          "color": "#FFA15A",
          "dash": "solid"
         },
         "marker": {
          "symbol": "circle"
         },
         "mode": "lines+markers",
         "name": "500mb_nci",
         "orientation": "v",
         "showlegend": false,
         "type": "scatter",
         "x": [
          4000,
          16000,
          64000,
          256000,
          1024000,
          4096000,
          16384000
         ],
         "xaxis": "x3",
         "y": [
          3.7392,
          6.2646,
          6.0559,
          3.8014,
          1.1489,
          0.4321,
          0.1049
         ],
         "yaxis": "y3"
        },
        {
         "hovertemplate": "File=500mb_samba<br>Standard=snappy<br>gpu=A100<br>chunksize_Bytes=%{x}<br>decompression_throughput_GBps=%{y}<extra></extra>",
         "legendgroup": "500mb_samba",
         "line": {
          "color": "#19d3f3",
          "dash": "solid"
         },
         "marker": {
          "symbol": "circle"
         },
         "mode": "lines+markers",
         "name": "500mb_samba",
         "orientation": "v",
         "showlegend": true,
         "type": "scatter",
         "x": [
          4000,
          16000,
          64000,
          256000,
          1024000,
          4096000,
          16384000,
          65536000
         ],
         "xaxis": "x4",
         "y": [
          32.3201,
          17.767,
          5.4258,
          1.5031,
          0.5411,
          0.16,
          0.0502,
          0.0378
         ],
         "yaxis": "y4"
        },
        {
         "hovertemplate": "File=500mb_samba<br>Standard=snappy<br>gpu=RTX2080TI<br>chunksize_Bytes=%{x}<br>decompression_throughput_GBps=%{y}<extra></extra>",
         "legendgroup": "500mb_samba",
         "line": {
          "color": "#19d3f3",
          "dash": "solid"
         },
         "marker": {
          "symbol": "circle"
         },
         "mode": "lines+markers",
         "name": "500mb_samba",
         "orientation": "v",
         "showlegend": false,
         "type": "scatter",
         "x": [
          4000,
          16000,
          64000,
          256000,
          1024000,
          4096000,
          16384000,
          65536000
         ],
         "xaxis": "x5",
         "y": [
          18.5918,
          13.7968,
          5.359,
          1.619,
          0.6512,
          0.194,
          0.0612,
          0.046
         ],
         "yaxis": "y5"
        },
        {
         "hovertemplate": "File=500mb_samba<br>Standard=snappy<br>gpu=RTX3050TI<br>chunksize_Bytes=%{x}<br>decompression_throughput_GBps=%{y}<extra></extra>",
         "legendgroup": "500mb_samba",
         "line": {
          "color": "#19d3f3",
          "dash": "solid"
         },
         "marker": {
          "symbol": "circle"
         },
         "mode": "lines+markers",
         "name": "500mb_samba",
         "orientation": "v",
         "showlegend": false,
         "type": "scatter",
         "x": [
          4000,
          16000,
          64000,
          256000,
          1024000,
          4096000,
          16384000,
          65536000
         ],
         "xaxis": "x6",
         "y": [
          6.4663,
          5.9462,
          4.8027,
          1.523,
          0.6422,
          0.1906,
          0.0543,
          0.0406
         ],
         "yaxis": "y6"
        },
        {
         "hovertemplate": "File=500mb_samba<br>Standard=zstd<br>gpu=A100<br>chunksize_Bytes=%{x}<br>decompression_throughput_GBps=%{y}<extra></extra>",
         "legendgroup": "500mb_samba",
         "line": {
          "color": "#19d3f3",
          "dash": "solid"
         },
         "marker": {
          "symbol": "circle"
         },
         "mode": "lines+markers",
         "name": "500mb_samba",
         "orientation": "v",
         "showlegend": false,
         "type": "scatter",
         "x": [
          4000,
          16000,
          64000,
          256000,
          1024000,
          4096000,
          16384000
         ],
         "xaxis": "x",
         "y": [
          10.4957,
          8.6831,
          3.1949,
          1.7568,
          0.6163,
          0.1849,
          0.0583
         ],
         "yaxis": "y"
        },
        {
         "hovertemplate": "File=500mb_samba<br>Standard=zstd<br>gpu=RTX2080TI<br>chunksize_Bytes=%{x}<br>decompression_throughput_GBps=%{y}<extra></extra>",
         "legendgroup": "500mb_samba",
         "line": {
          "color": "#19d3f3",
          "dash": "solid"
         },
         "marker": {
          "symbol": "circle"
         },
         "mode": "lines+markers",
         "name": "500mb_samba",
         "orientation": "v",
         "showlegend": false,
         "type": "scatter",
         "x": [
          4000,
          16000,
          64000,
          256000,
          1024000,
          4096000,
          16384000
         ],
         "xaxis": "x2",
         "y": [
          5.9034,
          5.5905,
          2.428,
          1.4292,
          0.5674,
          0.2311,
          0.0674
         ],
         "yaxis": "y2"
        },
        {
         "hovertemplate": "File=500mb_samba<br>Standard=zstd<br>gpu=RTX3050TI<br>chunksize_Bytes=%{x}<br>decompression_throughput_GBps=%{y}<extra></extra>",
         "legendgroup": "500mb_samba",
         "line": {
          "color": "#19d3f3",
          "dash": "solid"
         },
         "marker": {
          "symbol": "circle"
         },
         "mode": "lines+markers",
         "name": "500mb_samba",
         "orientation": "v",
         "showlegend": false,
         "type": "scatter",
         "x": [
          4000,
          16000,
          64000,
          256000,
          1024000,
          4096000,
          16384000
         ],
         "xaxis": "x3",
         "y": [
          3.4579,
          3.9739,
          2.9852,
          1.4604,
          0.7015,
          0.2087,
          0.0617
         ],
         "yaxis": "y3"
        },
        {
         "hovertemplate": "File=500mb_sao<br>Standard=snappy<br>gpu=A100<br>chunksize_Bytes=%{x}<br>decompression_throughput_GBps=%{y}<extra></extra>",
         "legendgroup": "500mb_sao",
         "line": {
          "color": "#FF6692",
          "dash": "solid"
         },
         "marker": {
          "symbol": "circle"
         },
         "mode": "lines+markers",
         "name": "500mb_sao",
         "orientation": "v",
         "showlegend": true,
         "type": "scatter",
         "x": [
          4000,
          16000,
          64000,
          256000,
          1024000,
          4096000,
          16384000,
          65536000
         ],
         "xaxis": "x4",
         "y": [
          25.2336,
          8.0758,
          2.1302,
          0.5371,
          0.1653,
          0.043,
          0.0241,
          0.0241
         ],
         "yaxis": "y4"
        },
        {
         "hovertemplate": "File=500mb_sao<br>Standard=snappy<br>gpu=RTX2080TI<br>chunksize_Bytes=%{x}<br>decompression_throughput_GBps=%{y}<extra></extra>",
         "legendgroup": "500mb_sao",
         "line": {
          "color": "#FF6692",
          "dash": "solid"
         },
         "marker": {
          "symbol": "circle"
         },
         "mode": "lines+markers",
         "name": "500mb_sao",
         "orientation": "v",
         "showlegend": false,
         "type": "scatter",
         "x": [
          4000,
          16000,
          64000,
          256000,
          1024000,
          4096000,
          16384000,
          65536000
         ],
         "xaxis": "x5",
         "y": [
          14.6777,
          7.7707,
          2.016,
          0.5339,
          0.1815,
          0.0473,
          0.0266,
          0.0266
         ],
         "yaxis": "y5"
        },
        {
         "hovertemplate": "File=500mb_sao<br>Standard=snappy<br>gpu=RTX3050TI<br>chunksize_Bytes=%{x}<br>decompression_throughput_GBps=%{y}<extra></extra>",
         "legendgroup": "500mb_sao",
         "line": {
          "color": "#FF6692",
          "dash": "solid"
         },
         "marker": {
          "symbol": "circle"
         },
         "mode": "lines+markers",
         "name": "500mb_sao",
         "orientation": "v",
         "showlegend": false,
         "type": "scatter",
         "x": [
          4000,
          16000,
          64000,
          256000,
          1024000,
          4096000,
          16384000,
          65536000
         ],
         "xaxis": "x6",
         "y": [
          5.6454,
          3.6779,
          1.9577,
          0.518,
          0.1659,
          0.0465,
          0.0262,
          0.0237
         ],
         "yaxis": "y6"
        },
        {
         "hovertemplate": "File=500mb_sao<br>Standard=zstd<br>gpu=A100<br>chunksize_Bytes=%{x}<br>decompression_throughput_GBps=%{y}<extra></extra>",
         "legendgroup": "500mb_sao",
         "line": {
          "color": "#FF6692",
          "dash": "solid"
         },
         "marker": {
          "symbol": "circle"
         },
         "mode": "lines+markers",
         "name": "500mb_sao",
         "orientation": "v",
         "showlegend": false,
         "type": "scatter",
         "x": [
          4000,
          16000,
          64000,
          256000,
          1024000,
          4096000,
          16384000,
          65536000
         ],
         "xaxis": "x",
         "y": [
          6.2911,
          3.7829,
          1.367,
          0.6628,
          0.2747,
          0.0751,
          0.0398,
          0.0398
         ],
         "yaxis": "y"
        },
        {
         "hovertemplate": "File=500mb_sao<br>Standard=zstd<br>gpu=RTX2080TI<br>chunksize_Bytes=%{x}<br>decompression_throughput_GBps=%{y}<extra></extra>",
         "legendgroup": "500mb_sao",
         "line": {
          "color": "#FF6692",
          "dash": "solid"
         },
         "marker": {
          "symbol": "circle"
         },
         "mode": "lines+markers",
         "name": "500mb_sao",
         "orientation": "v",
         "showlegend": false,
         "type": "scatter",
         "x": [
          4000,
          16000,
          64000,
          256000,
          1024000,
          4096000,
          16384000,
          65536000
         ],
         "xaxis": "x2",
         "y": [
          5.5508,
          3.0866,
          1.0487,
          0.615,
          0.2525,
          0.0684,
          0.0352,
          0.0352
         ],
         "yaxis": "y2"
        },
        {
         "hovertemplate": "File=500mb_sao<br>Standard=zstd<br>gpu=RTX3050TI<br>chunksize_Bytes=%{x}<br>decompression_throughput_GBps=%{y}<extra></extra>",
         "legendgroup": "500mb_sao",
         "line": {
          "color": "#FF6692",
          "dash": "solid"
         },
         "marker": {
          "symbol": "circle"
         },
         "mode": "lines+markers",
         "name": "500mb_sao",
         "orientation": "v",
         "showlegend": false,
         "type": "scatter",
         "x": [
          4000,
          16000,
          64000,
          256000,
          1024000,
          4096000,
          16384000,
          65536000
         ],
         "xaxis": "x3",
         "y": [
          3.2086,
          2.6523,
          1.2921,
          0.6551,
          0.321,
          0.0944,
          0.05,
          0.0476
         ],
         "yaxis": "y3"
        },
        {
         "hovertemplate": "File=500mb_xml<br>Standard=snappy<br>gpu=A100<br>chunksize_Bytes=%{x}<br>decompression_throughput_GBps=%{y}<extra></extra>",
         "legendgroup": "500mb_xml",
         "line": {
          "color": "#B6E880",
          "dash": "solid"
         },
         "marker": {
          "symbol": "circle"
         },
         "mode": "lines+markers",
         "name": "500mb_xml",
         "orientation": "v",
         "showlegend": true,
         "type": "scatter",
         "x": [
          4000,
          16000,
          64000,
          256000,
          1024000,
          4096000,
          16384000,
          65536000
         ],
         "xaxis": "x4",
         "y": [
          19.1165,
          5.5377,
          1.623,
          0.4297,
          0.1794,
          0.0719,
          0.0485,
          0.0485
         ],
         "yaxis": "y4"
        },
        {
         "hovertemplate": "File=500mb_xml<br>Standard=snappy<br>gpu=RTX2080TI<br>chunksize_Bytes=%{x}<br>decompression_throughput_GBps=%{y}<extra></extra>",
         "legendgroup": "500mb_xml",
         "line": {
          "color": "#B6E880",
          "dash": "solid"
         },
         "marker": {
          "symbol": "circle"
         },
         "mode": "lines+markers",
         "name": "500mb_xml",
         "orientation": "v",
         "showlegend": false,
         "type": "scatter",
         "x": [
          4000,
          16000,
          64000,
          256000,
          1024000,
          4096000,
          16384000,
          65536000
         ],
         "xaxis": "x5",
         "y": [
          12.399,
          5.4123,
          1.6488,
          0.4446,
          0.2094,
          0.0881,
          0.0579,
          0.0579
         ],
         "yaxis": "y5"
        },
        {
         "hovertemplate": "File=500mb_xml<br>Standard=snappy<br>gpu=RTX3050TI<br>chunksize_Bytes=%{x}<br>decompression_throughput_GBps=%{y}<extra></extra>",
         "legendgroup": "500mb_xml",
         "line": {
          "color": "#B6E880",
          "dash": "solid"
         },
         "marker": {
          "symbol": "circle"
         },
         "mode": "lines+markers",
         "name": "500mb_xml",
         "orientation": "v",
         "showlegend": false,
         "type": "scatter",
         "x": [
          4000,
          16000,
          64000,
          256000,
          1024000,
          4096000,
          16384000,
          65536000
         ],
         "xaxis": "x6",
         "y": [
          5.9517,
          4.6877,
          1.5919,
          0.4315,
          0.205,
          0.0854,
          0.0566,
          0.0566
         ],
         "yaxis": "y6"
        },
        {
         "hovertemplate": "File=500mb_xml<br>Standard=zstd<br>gpu=A100<br>chunksize_Bytes=%{x}<br>decompression_throughput_GBps=%{y}<extra></extra>",
         "legendgroup": "500mb_xml",
         "line": {
          "color": "#B6E880",
          "dash": "solid"
         },
         "marker": {
          "symbol": "circle"
         },
         "mode": "lines+markers",
         "name": "500mb_xml",
         "orientation": "v",
         "showlegend": false,
         "type": "scatter",
         "x": [
          4000,
          16000,
          64000,
          256000,
          1024000,
          4096000,
          16384000,
          65536000
         ],
         "xaxis": "x",
         "y": [
          5.3067,
          3.1653,
          0.9502,
          0.5366,
          0.1876,
          0.0658,
          0.0468,
          0.0468
         ],
         "yaxis": "y"
        },
        {
         "hovertemplate": "File=500mb_xml<br>Standard=zstd<br>gpu=RTX2080TI<br>chunksize_Bytes=%{x}<br>decompression_throughput_GBps=%{y}<extra></extra>",
         "legendgroup": "500mb_xml",
         "line": {
          "color": "#B6E880",
          "dash": "solid"
         },
         "marker": {
          "symbol": "circle"
         },
         "mode": "lines+markers",
         "name": "500mb_xml",
         "orientation": "v",
         "showlegend": false,
         "type": "scatter",
         "x": [
          4000,
          16000,
          64000,
          256000,
          1024000,
          4096000,
          16384000,
          65536000
         ],
         "xaxis": "x2",
         "y": [
          4.8811,
          2.5169,
          0.7319,
          0.4231,
          0.165,
          0.0784,
          0.0557,
          0.0554
         ],
         "yaxis": "y2"
        },
        {
         "hovertemplate": "File=500mb_xml<br>Standard=zstd<br>gpu=RTX3050TI<br>chunksize_Bytes=%{x}<br>decompression_throughput_GBps=%{y}<extra></extra>",
         "legendgroup": "500mb_xml",
         "line": {
          "color": "#B6E880",
          "dash": "solid"
         },
         "marker": {
          "symbol": "circle"
         },
         "mode": "lines+markers",
         "name": "500mb_xml",
         "orientation": "v",
         "showlegend": false,
         "type": "scatter",
         "x": [
          4000,
          16000,
          64000,
          256000,
          1024000,
          4096000,
          16384000,
          65536000
         ],
         "xaxis": "x3",
         "y": [
          2.9604,
          3.0039,
          0.963,
          0.4522,
          0.205,
          0.077,
          0.055,
          0.055
         ],
         "yaxis": "y3"
        },
        {
         "hovertemplate": "File=500mb_silesia.zip<br>Standard=snappy<br>gpu=RTX2080TI<br>chunksize_Bytes=%{x}<br>decompression_throughput_GBps=%{y}<extra></extra>",
         "legendgroup": "500mb_silesia.zip",
         "line": {
          "color": "#FF97FF",
          "dash": "solid"
         },
         "marker": {
          "symbol": "circle"
         },
         "mode": "lines+markers",
         "name": "500mb_silesia.zip",
         "orientation": "v",
         "showlegend": true,
         "type": "scatter",
         "x": [
          4000,
          16000,
          64000,
          256000,
          1024000,
          4096000,
          16384000,
          65536000
         ],
         "xaxis": "x5",
         "y": [
          80.347,
          46.9124,
          27.3962,
          15.0934,
          8.4862,
          3.665,
          1.1227,
          0.2925
         ],
         "yaxis": "y5"
        },
        {
         "hovertemplate": "File=500mb_silesia.zip<br>Standard=zstd<br>gpu=RTX2080TI<br>chunksize_Bytes=%{x}<br>decompression_throughput_GBps=%{y}<extra></extra>",
         "legendgroup": "500mb_silesia.zip",
         "line": {
          "color": "#FF97FF",
          "dash": "solid"
         },
         "marker": {
          "symbol": "circle"
         },
         "mode": "lines+markers",
         "name": "500mb_silesia.zip",
         "orientation": "v",
         "showlegend": false,
         "type": "scatter",
         "x": [
          4000,
          16000,
          64000
         ],
         "xaxis": "x2",
         "y": [
          47.3668,
          30.0801,
          9.7536
         ],
         "yaxis": "y2"
        }
       ],
       "layout": {
        "annotations": [
         {
          "font": {},
          "showarrow": false,
          "text": "gpu=A100",
          "x": 0.14666666666666667,
          "xanchor": "center",
          "xref": "paper",
          "y": 1,
          "yanchor": "bottom",
          "yref": "paper"
         },
         {
          "font": {},
          "showarrow": false,
          "text": "gpu=RTX2080TI",
          "x": 0.49,
          "xanchor": "center",
          "xref": "paper",
          "y": 1,
          "yanchor": "bottom",
          "yref": "paper"
         },
         {
          "font": {},
          "showarrow": false,
          "text": "gpu=RTX3050TI",
          "x": 0.8333333333333333,
          "xanchor": "center",
          "xref": "paper",
          "y": 1,
          "yanchor": "bottom",
          "yref": "paper"
         },
         {
          "font": {},
          "showarrow": false,
          "text": "Standard=zstd",
          "textangle": 90,
          "x": 0.98,
          "xanchor": "left",
          "xref": "paper",
          "y": 0.2425,
          "yanchor": "middle",
          "yref": "paper"
         },
         {
          "font": {},
          "showarrow": false,
          "text": "Standard=snappy",
          "textangle": 90,
          "x": 0.98,
          "xanchor": "left",
          "xref": "paper",
          "y": 0.7575000000000001,
          "yanchor": "middle",
          "yref": "paper"
         }
        ],
        "legend": {
         "title": {
          "text": "File"
         },
         "tracegroupgap": 0
        },
        "template": {
         "data": {
          "bar": [
           {
            "error_x": {
             "color": "#2a3f5f"
            },
            "error_y": {
             "color": "#2a3f5f"
            },
            "marker": {
             "line": {
              "color": "#E5ECF6",
              "width": 0.5
             },
             "pattern": {
              "fillmode": "overlay",
              "size": 10,
              "solidity": 0.2
             }
            },
            "type": "bar"
           }
          ],
          "barpolar": [
           {
            "marker": {
             "line": {
              "color": "#E5ECF6",
              "width": 0.5
             },
             "pattern": {
              "fillmode": "overlay",
              "size": 10,
              "solidity": 0.2
             }
            },
            "type": "barpolar"
           }
          ],
          "carpet": [
           {
            "aaxis": {
             "endlinecolor": "#2a3f5f",
             "gridcolor": "white",
             "linecolor": "white",
             "minorgridcolor": "white",
             "startlinecolor": "#2a3f5f"
            },
            "baxis": {
             "endlinecolor": "#2a3f5f",
             "gridcolor": "white",
             "linecolor": "white",
             "minorgridcolor": "white",
             "startlinecolor": "#2a3f5f"
            },
            "type": "carpet"
           }
          ],
          "choropleth": [
           {
            "colorbar": {
             "outlinewidth": 0,
             "ticks": ""
            },
            "type": "choropleth"
           }
          ],
          "contour": [
           {
            "colorbar": {
             "outlinewidth": 0,
             "ticks": ""
            },
            "colorscale": [
             [
              0,
              "#0d0887"
             ],
             [
              0.1111111111111111,
              "#46039f"
             ],
             [
              0.2222222222222222,
              "#7201a8"
             ],
             [
              0.3333333333333333,
              "#9c179e"
             ],
             [
              0.4444444444444444,
              "#bd3786"
             ],
             [
              0.5555555555555556,
              "#d8576b"
             ],
             [
              0.6666666666666666,
              "#ed7953"
             ],
             [
              0.7777777777777778,
              "#fb9f3a"
             ],
             [
              0.8888888888888888,
              "#fdca26"
             ],
             [
              1,
              "#f0f921"
             ]
            ],
            "type": "contour"
           }
          ],
          "contourcarpet": [
           {
            "colorbar": {
             "outlinewidth": 0,
             "ticks": ""
            },
            "type": "contourcarpet"
           }
          ],
          "heatmap": [
           {
            "colorbar": {
             "outlinewidth": 0,
             "ticks": ""
            },
            "colorscale": [
             [
              0,
              "#0d0887"
             ],
             [
              0.1111111111111111,
              "#46039f"
             ],
             [
              0.2222222222222222,
              "#7201a8"
             ],
             [
              0.3333333333333333,
              "#9c179e"
             ],
             [
              0.4444444444444444,
              "#bd3786"
             ],
             [
              0.5555555555555556,
              "#d8576b"
             ],
             [
              0.6666666666666666,
              "#ed7953"
             ],
             [
              0.7777777777777778,
              "#fb9f3a"
             ],
             [
              0.8888888888888888,
              "#fdca26"
             ],
             [
              1,
              "#f0f921"
             ]
            ],
            "type": "heatmap"
           }
          ],
          "heatmapgl": [
           {
            "colorbar": {
             "outlinewidth": 0,
             "ticks": ""
            },
            "colorscale": [
             [
              0,
              "#0d0887"
             ],
             [
              0.1111111111111111,
              "#46039f"
             ],
             [
              0.2222222222222222,
              "#7201a8"
             ],
             [
              0.3333333333333333,
              "#9c179e"
             ],
             [
              0.4444444444444444,
              "#bd3786"
             ],
             [
              0.5555555555555556,
              "#d8576b"
             ],
             [
              0.6666666666666666,
              "#ed7953"
             ],
             [
              0.7777777777777778,
              "#fb9f3a"
             ],
             [
              0.8888888888888888,
              "#fdca26"
             ],
             [
              1,
              "#f0f921"
             ]
            ],
            "type": "heatmapgl"
           }
          ],
          "histogram": [
           {
            "marker": {
             "pattern": {
              "fillmode": "overlay",
              "size": 10,
              "solidity": 0.2
             }
            },
            "type": "histogram"
           }
          ],
          "histogram2d": [
           {
            "colorbar": {
             "outlinewidth": 0,
             "ticks": ""
            },
            "colorscale": [
             [
              0,
              "#0d0887"
             ],
             [
              0.1111111111111111,
              "#46039f"
             ],
             [
              0.2222222222222222,
              "#7201a8"
             ],
             [
              0.3333333333333333,
              "#9c179e"
             ],
             [
              0.4444444444444444,
              "#bd3786"
             ],
             [
              0.5555555555555556,
              "#d8576b"
             ],
             [
              0.6666666666666666,
              "#ed7953"
             ],
             [
              0.7777777777777778,
              "#fb9f3a"
             ],
             [
              0.8888888888888888,
              "#fdca26"
             ],
             [
              1,
              "#f0f921"
             ]
            ],
            "type": "histogram2d"
           }
          ],
          "histogram2dcontour": [
           {
            "colorbar": {
             "outlinewidth": 0,
             "ticks": ""
            },
            "colorscale": [
             [
              0,
              "#0d0887"
             ],
             [
              0.1111111111111111,
              "#46039f"
             ],
             [
              0.2222222222222222,
              "#7201a8"
             ],
             [
              0.3333333333333333,
              "#9c179e"
             ],
             [
              0.4444444444444444,
              "#bd3786"
             ],
             [
              0.5555555555555556,
              "#d8576b"
             ],
             [
              0.6666666666666666,
              "#ed7953"
             ],
             [
              0.7777777777777778,
              "#fb9f3a"
             ],
             [
              0.8888888888888888,
              "#fdca26"
             ],
             [
              1,
              "#f0f921"
             ]
            ],
            "type": "histogram2dcontour"
           }
          ],
          "mesh3d": [
           {
            "colorbar": {
             "outlinewidth": 0,
             "ticks": ""
            },
            "type": "mesh3d"
           }
          ],
          "parcoords": [
           {
            "line": {
             "colorbar": {
              "outlinewidth": 0,
              "ticks": ""
             }
            },
            "type": "parcoords"
           }
          ],
          "pie": [
           {
            "automargin": true,
            "type": "pie"
           }
          ],
          "scatter": [
           {
            "fillpattern": {
             "fillmode": "overlay",
             "size": 10,
             "solidity": 0.2
            },
            "type": "scatter"
           }
          ],
          "scatter3d": [
           {
            "line": {
             "colorbar": {
              "outlinewidth": 0,
              "ticks": ""
             }
            },
            "marker": {
             "colorbar": {
              "outlinewidth": 0,
              "ticks": ""
             }
            },
            "type": "scatter3d"
           }
          ],
          "scattercarpet": [
           {
            "marker": {
             "colorbar": {
              "outlinewidth": 0,
              "ticks": ""
             }
            },
            "type": "scattercarpet"
           }
          ],
          "scattergeo": [
           {
            "marker": {
             "colorbar": {
              "outlinewidth": 0,
              "ticks": ""
             }
            },
            "type": "scattergeo"
           }
          ],
          "scattergl": [
           {
            "marker": {
             "colorbar": {
              "outlinewidth": 0,
              "ticks": ""
             }
            },
            "type": "scattergl"
           }
          ],
          "scattermapbox": [
           {
            "marker": {
             "colorbar": {
              "outlinewidth": 0,
              "ticks": ""
             }
            },
            "type": "scattermapbox"
           }
          ],
          "scatterpolar": [
           {
            "marker": {
             "colorbar": {
              "outlinewidth": 0,
              "ticks": ""
             }
            },
            "type": "scatterpolar"
           }
          ],
          "scatterpolargl": [
           {
            "marker": {
             "colorbar": {
              "outlinewidth": 0,
              "ticks": ""
             }
            },
            "type": "scatterpolargl"
           }
          ],
          "scatterternary": [
           {
            "marker": {
             "colorbar": {
              "outlinewidth": 0,
              "ticks": ""
             }
            },
            "type": "scatterternary"
           }
          ],
          "surface": [
           {
            "colorbar": {
             "outlinewidth": 0,
             "ticks": ""
            },
            "colorscale": [
             [
              0,
              "#0d0887"
             ],
             [
              0.1111111111111111,
              "#46039f"
             ],
             [
              0.2222222222222222,
              "#7201a8"
             ],
             [
              0.3333333333333333,
              "#9c179e"
             ],
             [
              0.4444444444444444,
              "#bd3786"
             ],
             [
              0.5555555555555556,
              "#d8576b"
             ],
             [
              0.6666666666666666,
              "#ed7953"
             ],
             [
              0.7777777777777778,
              "#fb9f3a"
             ],
             [
              0.8888888888888888,
              "#fdca26"
             ],
             [
              1,
              "#f0f921"
             ]
            ],
            "type": "surface"
           }
          ],
          "table": [
           {
            "cells": {
             "fill": {
              "color": "#EBF0F8"
             },
             "line": {
              "color": "white"
             }
            },
            "header": {
             "fill": {
              "color": "#C8D4E3"
             },
             "line": {
              "color": "white"
             }
            },
            "type": "table"
           }
          ]
         },
         "layout": {
          "annotationdefaults": {
           "arrowcolor": "#2a3f5f",
           "arrowhead": 0,
           "arrowwidth": 1
          },
          "autotypenumbers": "strict",
          "coloraxis": {
           "colorbar": {
            "outlinewidth": 0,
            "ticks": ""
           }
          },
          "colorscale": {
           "diverging": [
            [
             0,
             "#8e0152"
            ],
            [
             0.1,
             "#c51b7d"
            ],
            [
             0.2,
             "#de77ae"
            ],
            [
             0.3,
             "#f1b6da"
            ],
            [
             0.4,
             "#fde0ef"
            ],
            [
             0.5,
             "#f7f7f7"
            ],
            [
             0.6,
             "#e6f5d0"
            ],
            [
             0.7,
             "#b8e186"
            ],
            [
             0.8,
             "#7fbc41"
            ],
            [
             0.9,
             "#4d9221"
            ],
            [
             1,
             "#276419"
            ]
           ],
           "sequential": [
            [
             0,
             "#0d0887"
            ],
            [
             0.1111111111111111,
             "#46039f"
            ],
            [
             0.2222222222222222,
             "#7201a8"
            ],
            [
             0.3333333333333333,
             "#9c179e"
            ],
            [
             0.4444444444444444,
             "#bd3786"
            ],
            [
             0.5555555555555556,
             "#d8576b"
            ],
            [
             0.6666666666666666,
             "#ed7953"
            ],
            [
             0.7777777777777778,
             "#fb9f3a"
            ],
            [
             0.8888888888888888,
             "#fdca26"
            ],
            [
             1,
             "#f0f921"
            ]
           ],
           "sequentialminus": [
            [
             0,
             "#0d0887"
            ],
            [
             0.1111111111111111,
             "#46039f"
            ],
            [
             0.2222222222222222,
             "#7201a8"
            ],
            [
             0.3333333333333333,
             "#9c179e"
            ],
            [
             0.4444444444444444,
             "#bd3786"
            ],
            [
             0.5555555555555556,
             "#d8576b"
            ],
            [
             0.6666666666666666,
             "#ed7953"
            ],
            [
             0.7777777777777778,
             "#fb9f3a"
            ],
            [
             0.8888888888888888,
             "#fdca26"
            ],
            [
             1,
             "#f0f921"
            ]
           ]
          },
          "colorway": [
           "#636efa",
           "#EF553B",
           "#00cc96",
           "#ab63fa",
           "#FFA15A",
           "#19d3f3",
           "#FF6692",
           "#B6E880",
           "#FF97FF",
           "#FECB52"
          ],
          "font": {
           "color": "#2a3f5f"
          },
          "geo": {
           "bgcolor": "white",
           "lakecolor": "white",
           "landcolor": "#E5ECF6",
           "showlakes": true,
           "showland": true,
           "subunitcolor": "white"
          },
          "hoverlabel": {
           "align": "left"
          },
          "hovermode": "closest",
          "mapbox": {
           "style": "light"
          },
          "paper_bgcolor": "white",
          "plot_bgcolor": "#E5ECF6",
          "polar": {
           "angularaxis": {
            "gridcolor": "white",
            "linecolor": "white",
            "ticks": ""
           },
           "bgcolor": "#E5ECF6",
           "radialaxis": {
            "gridcolor": "white",
            "linecolor": "white",
            "ticks": ""
           }
          },
          "scene": {
           "xaxis": {
            "backgroundcolor": "#E5ECF6",
            "gridcolor": "white",
            "gridwidth": 2,
            "linecolor": "white",
            "showbackground": true,
            "ticks": "",
            "zerolinecolor": "white"
           },
           "yaxis": {
            "backgroundcolor": "#E5ECF6",
            "gridcolor": "white",
            "gridwidth": 2,
            "linecolor": "white",
            "showbackground": true,
            "ticks": "",
            "zerolinecolor": "white"
           },
           "zaxis": {
            "backgroundcolor": "#E5ECF6",
            "gridcolor": "white",
            "gridwidth": 2,
            "linecolor": "white",
            "showbackground": true,
            "ticks": "",
            "zerolinecolor": "white"
           }
          },
          "shapedefaults": {
           "line": {
            "color": "#2a3f5f"
           }
          },
          "ternary": {
           "aaxis": {
            "gridcolor": "white",
            "linecolor": "white",
            "ticks": ""
           },
           "baxis": {
            "gridcolor": "white",
            "linecolor": "white",
            "ticks": ""
           },
           "bgcolor": "#E5ECF6",
           "caxis": {
            "gridcolor": "white",
            "linecolor": "white",
            "ticks": ""
           }
          },
          "title": {
           "x": 0.05
          },
          "xaxis": {
           "automargin": true,
           "gridcolor": "white",
           "linecolor": "white",
           "ticks": "",
           "title": {
            "standoff": 15
           },
           "zerolinecolor": "white",
           "zerolinewidth": 2
          },
          "yaxis": {
           "automargin": true,
           "gridcolor": "white",
           "linecolor": "white",
           "ticks": "",
           "title": {
            "standoff": 15
           },
           "zerolinecolor": "white",
           "zerolinewidth": 2
          }
         }
        },
        "title": {
         "text": "Decompression throughput"
        },
        "width": 1200,
        "xaxis": {
         "anchor": "y",
         "domain": [
          0,
          0.29333333333333333
         ],
         "title": {
          "text": "Chunk size"
         },
         "type": "log"
        },
        "xaxis2": {
         "anchor": "y2",
         "domain": [
          0.3433333333333333,
          0.6366666666666667
         ],
         "matches": "x",
         "title": {
          "text": "Chunk size"
         },
         "type": "log"
        },
        "xaxis3": {
         "anchor": "y3",
         "domain": [
          0.6866666666666666,
          0.98
         ],
         "matches": "x",
         "title": {
          "text": "chunksize_Bytes"
         },
         "type": "log"
        },
        "xaxis4": {
         "anchor": "y4",
         "domain": [
          0,
          0.29333333333333333
         ],
         "matches": "x",
         "showticklabels": false,
         "type": "log"
        },
        "xaxis5": {
         "anchor": "y5",
         "domain": [
          0.3433333333333333,
          0.6366666666666667
         ],
         "matches": "x",
         "showticklabels": false,
         "type": "log"
        },
        "xaxis6": {
         "anchor": "y6",
         "domain": [
          0.6866666666666666,
          0.98
         ],
         "matches": "x",
         "showticklabels": false,
         "type": "log"
        },
        "yaxis": {
         "anchor": "x",
         "domain": [
          0,
          0.485
         ],
         "title": {
          "text": "Decompression throughput"
         }
        },
        "yaxis2": {
         "anchor": "x2",
         "domain": [
          0,
          0.485
         ],
         "matches": "y",
         "showticklabels": false
        },
        "yaxis3": {
         "anchor": "x3",
         "domain": [
          0,
          0.485
         ],
         "matches": "y",
         "showticklabels": false
        },
        "yaxis4": {
         "anchor": "x4",
         "domain": [
          0.515,
          1
         ],
         "matches": "y",
         "title": {
          "text": "decompression_throughput_GBps"
         }
        },
        "yaxis5": {
         "anchor": "x5",
         "domain": [
          0.515,
          1
         ],
         "matches": "y",
         "showticklabels": false
        },
        "yaxis6": {
         "anchor": "x6",
         "domain": [
          0.515,
          1
         ],
         "matches": "y",
         "showticklabels": false
        }
       }
      }
     },
     "metadata": {},
     "output_type": "display_data"
    }
   ],
   "source": [
    "fig_gpus_througphut = px.line(\n",
    "    all_result_df,\n",
    "    title=f\"Decompression throughput\", \n",
    "    x=\"chunksize_Bytes\",\n",
    "    y=\"decompression_throughput_GBps\",\n",
    "    color=\"File\",\n",
    "    log_x=True,\n",
    "    markers=True,\n",
    "    # log_y=True,\n",
    "    facet_col='gpu',\n",
    "    facet_row='Standard',\n",
    "    facet_col_spacing=0.05,\n",
    "    width=1200,\n",
    ")\n",
    "# fig_gpus_througphut.update_xaxes(autorange=\"reversed\")\n",
    "# fig_gpus_througphut.update_xaxes(dict(\n",
    "#         tickmode = 'array',\n",
    "#         tickvals = alldf['chunksize_Bytes'],\n",
    "#         ticktext = alldf['chunksize_Bytes_formatted'],\n",
    "#         tickangle=45,\n",
    "#     )\n",
    "# )\n",
    "fig_gpus_througphut.update_layout(\n",
    "    yaxis_title=\"Decompression throughput\",\n",
    "    xaxis_title=\"Chunk size\",\n",
    "    xaxis2_title=\"Chunk size\",\n",
    "    # font_size=16,\n",
    ")\n",
    "\n",
    "fig_gpus_througphut.show()"
   ]
  },
  {
   "cell_type": "code",
   "execution_count": 7,
   "metadata": {},
   "outputs": [
    {
     "name": "stdout",
     "output_type": "stream",
     "text": [
      "../../../data/decompression/compare/RTX3050ti/output_snappy_500mb_dickens_8threads.h5\n",
      "../../../data/decompression/compare/RTX3050ti/output_snappy_500mb_dickens_32threads.h5\n",
      "../../../data/decompression/compare/RTX3050ti/output_snappy_500mb_dickens_128threads.h5\n",
      "../../../data/decompression/compare/RTX3050ti/output_snappy_500mb_dickens_512threads.h5\n",
      "../../../data/decompression/compare/RTX3050ti/output_snappy_500mb_dickens_2048threads.h5\n",
      "../../../data/decompression/compare/RTX3050ti/output_snappy_500mb_dickens_8192threads.h5\n",
      "../../../data/decompression/compare/RTX3050ti/output_snappy_500mb_dickens_32768threads.h5\n",
      "../../../data/decompression/compare/RTX3050ti/output_snappy_500mb_dickens_131072threads.h5\n",
      "../../../data/decompression/compare/RTX3050ti/output_zstd_500mb_dickens_8threads.h5\n",
      "../../../data/decompression/compare/RTX3050ti/output_zstd_500mb_dickens_32threads.h5\n",
      "../../../data/decompression/compare/RTX3050ti/output_zstd_500mb_dickens_128threads.h5\n",
      "../../../data/decompression/compare/RTX3050ti/output_zstd_500mb_dickens_512threads.h5\n",
      "../../../data/decompression/compare/RTX3050ti/output_zstd_500mb_dickens_2048threads.h5\n",
      "../../../data/decompression/compare/RTX3050ti/output_zstd_500mb_dickens_8192threads.h5\n",
      "../../../data/decompression/compare/RTX3050ti/output_zstd_500mb_dickens_32768threads.h5\n",
      "../../../data/decompression/compare/RTX3050ti/output_zstd_500mb_dickens_131072threads.h5\n",
      "../../../data/decompression/compare/RTX3050ti/output_snappy_500mb_mozilla_8threads.h5\n",
      "../../../data/decompression/compare/RTX3050ti/output_snappy_500mb_mozilla_32threads.h5\n",
      "../../../data/decompression/compare/RTX3050ti/output_snappy_500mb_mozilla_128threads.h5\n",
      "../../../data/decompression/compare/RTX3050ti/output_snappy_500mb_mozilla_512threads.h5\n",
      "../../../data/decompression/compare/RTX3050ti/output_snappy_500mb_mozilla_2048threads.h5\n",
      "../../../data/decompression/compare/RTX3050ti/output_snappy_500mb_mozilla_8192threads.h5\n",
      "../../../data/decompression/compare/RTX3050ti/output_snappy_500mb_mozilla_32768threads.h5\n",
      "../../../data/decompression/compare/RTX3050ti/output_snappy_500mb_mozilla_131072threads.h5\n",
      "../../../data/decompression/compare/RTX3050ti/output_zstd_500mb_mozilla_8threads.h5\n",
      "Failed getting utilization of zstd 500mb_mozilla 8 threads: \"Unable to synchronously open object (object 'CUPTI_ACTIVITY_KIND_KERNEL' doesn't exist)\"\n",
      "../../../data/decompression/compare/RTX3050ti/output_zstd_500mb_mozilla_32threads.h5\n",
      "../../../data/decompression/compare/RTX3050ti/output_zstd_500mb_mozilla_128threads.h5\n",
      "../../../data/decompression/compare/RTX3050ti/output_zstd_500mb_mozilla_512threads.h5\n",
      "../../../data/decompression/compare/RTX3050ti/output_zstd_500mb_mozilla_2048threads.h5\n",
      "../../../data/decompression/compare/RTX3050ti/output_zstd_500mb_mozilla_8192threads.h5\n",
      "../../../data/decompression/compare/RTX3050ti/output_zstd_500mb_mozilla_32768threads.h5\n",
      "../../../data/decompression/compare/RTX3050ti/output_zstd_500mb_mozilla_131072threads.h5\n",
      "../../../data/decompression/compare/RTX3050ti/output_snappy_500mb_mr_8threads.h5\n",
      "../../../data/decompression/compare/RTX3050ti/output_snappy_500mb_mr_32threads.h5\n",
      "../../../data/decompression/compare/RTX3050ti/output_snappy_500mb_mr_128threads.h5\n",
      "../../../data/decompression/compare/RTX3050ti/output_snappy_500mb_mr_512threads.h5\n",
      "../../../data/decompression/compare/RTX3050ti/output_snappy_500mb_mr_2048threads.h5\n",
      "../../../data/decompression/compare/RTX3050ti/output_snappy_500mb_mr_8192threads.h5\n",
      "../../../data/decompression/compare/RTX3050ti/output_snappy_500mb_mr_32768threads.h5\n",
      "../../../data/decompression/compare/RTX3050ti/output_snappy_500mb_mr_131072threads.h5\n",
      "../../../data/decompression/compare/RTX3050ti/output_zstd_500mb_mr_8threads.h5\n",
      "../../../data/decompression/compare/RTX3050ti/output_zstd_500mb_mr_32threads.h5\n",
      "../../../data/decompression/compare/RTX3050ti/output_zstd_500mb_mr_128threads.h5\n",
      "../../../data/decompression/compare/RTX3050ti/output_zstd_500mb_mr_512threads.h5\n",
      "../../../data/decompression/compare/RTX3050ti/output_zstd_500mb_mr_2048threads.h5\n",
      "../../../data/decompression/compare/RTX3050ti/output_zstd_500mb_mr_8192threads.h5\n",
      "../../../data/decompression/compare/RTX3050ti/output_zstd_500mb_mr_32768threads.h5\n",
      "../../../data/decompression/compare/RTX3050ti/output_zstd_500mb_mr_131072threads.h5\n",
      "../../../data/decompression/compare/RTX3050ti/output_snappy_500mb_nci_8threads.h5\n",
      "../../../data/decompression/compare/RTX3050ti/output_snappy_500mb_nci_32threads.h5\n",
      "../../../data/decompression/compare/RTX3050ti/output_snappy_500mb_nci_128threads.h5\n",
      "../../../data/decompression/compare/RTX3050ti/output_snappy_500mb_nci_512threads.h5\n",
      "../../../data/decompression/compare/RTX3050ti/output_snappy_500mb_nci_2048threads.h5\n",
      "../../../data/decompression/compare/RTX3050ti/output_snappy_500mb_nci_8192threads.h5\n",
      "../../../data/decompression/compare/RTX3050ti/output_snappy_500mb_nci_32768threads.h5\n",
      "../../../data/decompression/compare/RTX3050ti/output_snappy_500mb_nci_131072threads.h5\n",
      "../../../data/decompression/compare/RTX3050ti/output_zstd_500mb_nci_8threads.h5\n",
      "Failed getting utilization of zstd 500mb_nci 8 threads: \"Unable to synchronously open object (object 'CUPTI_ACTIVITY_KIND_KERNEL' doesn't exist)\"\n",
      "../../../data/decompression/compare/RTX3050ti/output_zstd_500mb_nci_32threads.h5\n",
      "../../../data/decompression/compare/RTX3050ti/output_zstd_500mb_nci_128threads.h5\n",
      "../../../data/decompression/compare/RTX3050ti/output_zstd_500mb_nci_512threads.h5\n",
      "../../../data/decompression/compare/RTX3050ti/output_zstd_500mb_nci_2048threads.h5\n",
      "../../../data/decompression/compare/RTX3050ti/output_zstd_500mb_nci_8192threads.h5\n",
      "../../../data/decompression/compare/RTX3050ti/output_zstd_500mb_nci_32768threads.h5\n",
      "../../../data/decompression/compare/RTX3050ti/output_zstd_500mb_nci_131072threads.h5\n",
      "../../../data/decompression/compare/RTX3050ti/output_snappy_500mb_samba_8threads.h5\n",
      "../../../data/decompression/compare/RTX3050ti/output_snappy_500mb_samba_32threads.h5\n",
      "../../../data/decompression/compare/RTX3050ti/output_snappy_500mb_samba_128threads.h5\n",
      "../../../data/decompression/compare/RTX3050ti/output_snappy_500mb_samba_512threads.h5\n",
      "../../../data/decompression/compare/RTX3050ti/output_snappy_500mb_samba_2048threads.h5\n",
      "../../../data/decompression/compare/RTX3050ti/output_snappy_500mb_samba_8192threads.h5\n",
      "../../../data/decompression/compare/RTX3050ti/output_snappy_500mb_samba_32768threads.h5\n",
      "../../../data/decompression/compare/RTX3050ti/output_snappy_500mb_samba_131072threads.h5\n",
      "../../../data/decompression/compare/RTX3050ti/output_zstd_500mb_samba_8threads.h5\n",
      "Failed getting utilization of zstd 500mb_samba 8 threads: \"Unable to synchronously open object (object 'CUPTI_ACTIVITY_KIND_KERNEL' doesn't exist)\"\n",
      "../../../data/decompression/compare/RTX3050ti/output_zstd_500mb_samba_32threads.h5\n",
      "../../../data/decompression/compare/RTX3050ti/output_zstd_500mb_samba_128threads.h5\n",
      "../../../data/decompression/compare/RTX3050ti/output_zstd_500mb_samba_512threads.h5\n",
      "../../../data/decompression/compare/RTX3050ti/output_zstd_500mb_samba_2048threads.h5\n",
      "../../../data/decompression/compare/RTX3050ti/output_zstd_500mb_samba_8192threads.h5\n",
      "../../../data/decompression/compare/RTX3050ti/output_zstd_500mb_samba_32768threads.h5\n",
      "../../../data/decompression/compare/RTX3050ti/output_zstd_500mb_samba_131072threads.h5\n",
      "../../../data/decompression/compare/RTX3050ti/output_snappy_500mb_sao_8threads.h5\n",
      "../../../data/decompression/compare/RTX3050ti/output_snappy_500mb_sao_32threads.h5\n",
      "../../../data/decompression/compare/RTX3050ti/output_snappy_500mb_sao_128threads.h5\n",
      "../../../data/decompression/compare/RTX3050ti/output_snappy_500mb_sao_512threads.h5\n",
      "../../../data/decompression/compare/RTX3050ti/output_snappy_500mb_sao_2048threads.h5\n",
      "../../../data/decompression/compare/RTX3050ti/output_snappy_500mb_sao_8192threads.h5\n",
      "../../../data/decompression/compare/RTX3050ti/output_snappy_500mb_sao_32768threads.h5\n",
      "../../../data/decompression/compare/RTX3050ti/output_snappy_500mb_sao_131072threads.h5\n",
      "../../../data/decompression/compare/RTX3050ti/output_zstd_500mb_sao_8threads.h5\n",
      "../../../data/decompression/compare/RTX3050ti/output_zstd_500mb_sao_32threads.h5\n",
      "../../../data/decompression/compare/RTX3050ti/output_zstd_500mb_sao_128threads.h5\n",
      "../../../data/decompression/compare/RTX3050ti/output_zstd_500mb_sao_512threads.h5\n",
      "../../../data/decompression/compare/RTX3050ti/output_zstd_500mb_sao_2048threads.h5\n",
      "../../../data/decompression/compare/RTX3050ti/output_zstd_500mb_sao_8192threads.h5\n",
      "../../../data/decompression/compare/RTX3050ti/output_zstd_500mb_sao_32768threads.h5\n",
      "../../../data/decompression/compare/RTX3050ti/output_zstd_500mb_sao_131072threads.h5\n",
      "../../../data/decompression/compare/RTX3050ti/output_snappy_500mb_silesia.zip_8threads.h5\n",
      "Failed getting utilization of snappy 500mb_silesia.zip 8 threads: \"Unable to synchronously open object (object 'CUPTI_ACTIVITY_KIND_KERNEL' doesn't exist)\"\n",
      "../../../data/decompression/compare/RTX3050ti/output_snappy_500mb_silesia.zip_32threads.h5\n",
      "Failed getting utilization of snappy 500mb_silesia.zip 32 threads: \"Unable to synchronously open object (object 'CUPTI_ACTIVITY_KIND_KERNEL' doesn't exist)\"\n",
      "../../../data/decompression/compare/RTX3050ti/output_snappy_500mb_silesia.zip_128threads.h5\n",
      "Failed getting utilization of snappy 500mb_silesia.zip 128 threads: \"Unable to synchronously open object (object 'CUPTI_ACTIVITY_KIND_KERNEL' doesn't exist)\"\n",
      "../../../data/decompression/compare/RTX3050ti/output_snappy_500mb_silesia.zip_512threads.h5\n",
      "Failed getting utilization of snappy 500mb_silesia.zip 512 threads: \"Unable to synchronously open object (object 'CUPTI_ACTIVITY_KIND_KERNEL' doesn't exist)\"\n",
      "../../../data/decompression/compare/RTX3050ti/output_snappy_500mb_silesia.zip_2048threads.h5\n",
      "Failed getting utilization of snappy 500mb_silesia.zip 2048 threads: \"Unable to synchronously open object (object 'CUPTI_ACTIVITY_KIND_KERNEL' doesn't exist)\"\n",
      "../../../data/decompression/compare/RTX3050ti/output_snappy_500mb_silesia.zip_8192threads.h5\n",
      "Failed getting utilization of snappy 500mb_silesia.zip 8192 threads: \"Unable to synchronously open object (object 'CUPTI_ACTIVITY_KIND_KERNEL' doesn't exist)\"\n",
      "../../../data/decompression/compare/RTX3050ti/output_snappy_500mb_silesia.zip_32768threads.h5\n",
      "Failed getting utilization of snappy 500mb_silesia.zip 32768 threads: \"Unable to synchronously open object (object 'CUPTI_ACTIVITY_KIND_KERNEL' doesn't exist)\"\n",
      "../../../data/decompression/compare/RTX3050ti/output_snappy_500mb_silesia.zip_131072threads.h5\n",
      "Failed getting utilization of snappy 500mb_silesia.zip 131072 threads: \"Unable to synchronously open object (object 'CUPTI_ACTIVITY_KIND_KERNEL' doesn't exist)\"\n",
      "../../../data/decompression/compare/RTX3050ti/output_zstd_500mb_silesia.zip_8threads.h5\n",
      "Failed getting utilization of zstd 500mb_silesia.zip 8 threads: \"Unable to synchronously open object (object 'CUPTI_ACTIVITY_KIND_KERNEL' doesn't exist)\"\n",
      "../../../data/decompression/compare/RTX3050ti/output_zstd_500mb_silesia.zip_32threads.h5\n",
      "Failed getting utilization of zstd 500mb_silesia.zip 32 threads: \"Unable to synchronously open object (object 'CUPTI_ACTIVITY_KIND_KERNEL' doesn't exist)\"\n",
      "../../../data/decompression/compare/RTX3050ti/output_zstd_500mb_silesia.zip_128threads.h5\n",
      "Failed getting utilization of zstd 500mb_silesia.zip 128 threads: \"Unable to synchronously open object (object 'CUPTI_ACTIVITY_KIND_KERNEL' doesn't exist)\"\n",
      "../../../data/decompression/compare/RTX3050ti/output_zstd_500mb_silesia.zip_512threads.h5\n",
      "Failed getting utilization of zstd 500mb_silesia.zip 512 threads: \"Unable to synchronously open object (object 'CUPTI_ACTIVITY_KIND_KERNEL' doesn't exist)\"\n",
      "../../../data/decompression/compare/RTX3050ti/output_zstd_500mb_silesia.zip_2048threads.h5\n",
      "Failed getting utilization of zstd 500mb_silesia.zip 2048 threads: \"Unable to synchronously open object (object 'CUPTI_ACTIVITY_KIND_KERNEL' doesn't exist)\"\n",
      "../../../data/decompression/compare/RTX3050ti/output_zstd_500mb_silesia.zip_8192threads.h5\n",
      "Failed getting utilization of zstd 500mb_silesia.zip 8192 threads: \"Unable to synchronously open object (object 'CUPTI_ACTIVITY_KIND_KERNEL' doesn't exist)\"\n",
      "../../../data/decompression/compare/RTX3050ti/output_zstd_500mb_silesia.zip_32768threads.h5\n",
      "Failed getting utilization of zstd 500mb_silesia.zip 32768 threads: \"Unable to synchronously open object (object 'CUPTI_ACTIVITY_KIND_KERNEL' doesn't exist)\"\n",
      "../../../data/decompression/compare/RTX3050ti/output_zstd_500mb_silesia.zip_131072threads.h5\n",
      "Failed getting utilization of zstd 500mb_silesia.zip 131072 threads: \"Unable to synchronously open object (object 'CUPTI_ACTIVITY_KIND_KERNEL' doesn't exist)\"\n",
      "../../../data/decompression/compare/RTX3050ti/output_snappy_500mb_xml_8threads.h5\n",
      "../../../data/decompression/compare/RTX3050ti/output_snappy_500mb_xml_32threads.h5\n",
      "../../../data/decompression/compare/RTX3050ti/output_snappy_500mb_xml_128threads.h5\n",
      "../../../data/decompression/compare/RTX3050ti/output_snappy_500mb_xml_512threads.h5\n",
      "../../../data/decompression/compare/RTX3050ti/output_snappy_500mb_xml_2048threads.h5\n",
      "../../../data/decompression/compare/RTX3050ti/output_snappy_500mb_xml_8192threads.h5\n",
      "../../../data/decompression/compare/RTX3050ti/output_snappy_500mb_xml_32768threads.h5\n",
      "../../../data/decompression/compare/RTX3050ti/output_snappy_500mb_xml_131072threads.h5\n",
      "../../../data/decompression/compare/RTX3050ti/output_zstd_500mb_xml_8threads.h5\n",
      "../../../data/decompression/compare/RTX3050ti/output_zstd_500mb_xml_32threads.h5\n",
      "../../../data/decompression/compare/RTX3050ti/output_zstd_500mb_xml_128threads.h5\n",
      "../../../data/decompression/compare/RTX3050ti/output_zstd_500mb_xml_512threads.h5\n",
      "../../../data/decompression/compare/RTX3050ti/output_zstd_500mb_xml_2048threads.h5\n",
      "../../../data/decompression/compare/RTX3050ti/output_zstd_500mb_xml_8192threads.h5\n",
      "../../../data/decompression/compare/RTX3050ti/output_zstd_500mb_xml_32768threads.h5\n",
      "../../../data/decompression/compare/RTX3050ti/output_zstd_500mb_xml_131072threads.h5\n",
      "../../../data/decompression/compare/RTX3050ti/output_snappy_500mb_lineitem.parquet_8threads.h5\n",
      "Failed getting utilization of snappy 500mb_lineitem.parquet 8 threads: \"Unable to synchronously open object (object 'CUPTI_ACTIVITY_KIND_KERNEL' doesn't exist)\"\n",
      "../../../data/decompression/compare/RTX3050ti/output_snappy_500mb_lineitem.parquet_32threads.h5\n",
      "Failed getting utilization of snappy 500mb_lineitem.parquet 32 threads: \"Unable to synchronously open object (object 'CUPTI_ACTIVITY_KIND_KERNEL' doesn't exist)\"\n",
      "../../../data/decompression/compare/RTX3050ti/output_snappy_500mb_lineitem.parquet_128threads.h5\n",
      "Failed getting utilization of snappy 500mb_lineitem.parquet 128 threads: \"Unable to synchronously open object (object 'CUPTI_ACTIVITY_KIND_KERNEL' doesn't exist)\"\n",
      "../../../data/decompression/compare/RTX3050ti/output_snappy_500mb_lineitem.parquet_512threads.h5\n",
      "Failed getting utilization of snappy 500mb_lineitem.parquet 512 threads: \"Unable to synchronously open object (object 'CUPTI_ACTIVITY_KIND_KERNEL' doesn't exist)\"\n",
      "../../../data/decompression/compare/RTX3050ti/output_snappy_500mb_lineitem.parquet_2048threads.h5\n",
      "Failed getting utilization of snappy 500mb_lineitem.parquet 2048 threads: \"Unable to synchronously open object (object 'CUPTI_ACTIVITY_KIND_KERNEL' doesn't exist)\"\n",
      "../../../data/decompression/compare/RTX3050ti/output_snappy_500mb_lineitem.parquet_8192threads.h5\n",
      "Failed getting utilization of snappy 500mb_lineitem.parquet 8192 threads: \"Unable to synchronously open object (object 'CUPTI_ACTIVITY_KIND_KERNEL' doesn't exist)\"\n",
      "../../../data/decompression/compare/RTX3050ti/output_snappy_500mb_lineitem.parquet_32768threads.h5\n",
      "Failed getting utilization of snappy 500mb_lineitem.parquet 32768 threads: 'compress'\n",
      "../../../data/decompression/compare/RTX3050ti/output_snappy_500mb_lineitem.parquet_131072threads.h5\n",
      "Failed getting utilization of snappy 500mb_lineitem.parquet 131072 threads: 'compress'\n",
      "../../../data/decompression/compare/RTX3050ti/output_zstd_500mb_lineitem.parquet_8threads.h5\n",
      "Failed getting utilization of zstd 500mb_lineitem.parquet 8 threads: \"Unable to synchronously open object (object 'CUPTI_ACTIVITY_KIND_KERNEL' doesn't exist)\"\n",
      "../../../data/decompression/compare/RTX3050ti/output_zstd_500mb_lineitem.parquet_32threads.h5\n",
      "Failed getting utilization of zstd 500mb_lineitem.parquet 32 threads: \"Unable to synchronously open object (object 'CUPTI_ACTIVITY_KIND_KERNEL' doesn't exist)\"\n",
      "../../../data/decompression/compare/RTX3050ti/output_zstd_500mb_lineitem.parquet_128threads.h5\n",
      "Failed getting utilization of zstd 500mb_lineitem.parquet 128 threads: \"Unable to synchronously open object (object 'CUPTI_ACTIVITY_KIND_KERNEL' doesn't exist)\"\n",
      "../../../data/decompression/compare/RTX3050ti/output_zstd_500mb_lineitem.parquet_512threads.h5\n",
      "Failed getting utilization of zstd 500mb_lineitem.parquet 512 threads: \"Unable to synchronously open object (object 'CUPTI_ACTIVITY_KIND_KERNEL' doesn't exist)\"\n",
      "../../../data/decompression/compare/RTX3050ti/output_zstd_500mb_lineitem.parquet_2048threads.h5\n",
      "Failed getting utilization of zstd 500mb_lineitem.parquet 2048 threads: \"Unable to synchronously open object (object 'CUPTI_ACTIVITY_KIND_KERNEL' doesn't exist)\"\n",
      "../../../data/decompression/compare/RTX3050ti/output_zstd_500mb_lineitem.parquet_8192threads.h5\n",
      "Failed getting utilization of zstd 500mb_lineitem.parquet 8192 threads: \"Unable to synchronously open object (object 'CUPTI_ACTIVITY_KIND_KERNEL' doesn't exist)\"\n",
      "../../../data/decompression/compare/RTX3050ti/output_zstd_500mb_lineitem.parquet_32768threads.h5\n",
      "Failed getting utilization of zstd 500mb_lineitem.parquet 32768 threads: 'compress'\n",
      "../../../data/decompression/compare/RTX3050ti/output_zstd_500mb_lineitem.parquet_131072threads.h5\n",
      "Failed getting utilization of zstd 500mb_lineitem.parquet 131072 threads: 'compress'\n",
      "../../../data/decompression/compare/RTX2080ti/output_snappy_500mb_dickens_8threads.h5\n",
      "../../../data/decompression/compare/RTX2080ti/output_snappy_500mb_dickens_32threads.h5\n",
      "../../../data/decompression/compare/RTX2080ti/output_snappy_500mb_dickens_128threads.h5\n",
      "../../../data/decompression/compare/RTX2080ti/output_snappy_500mb_dickens_512threads.h5\n",
      "../../../data/decompression/compare/RTX2080ti/output_snappy_500mb_dickens_2048threads.h5\n",
      "../../../data/decompression/compare/RTX2080ti/output_snappy_500mb_dickens_8192threads.h5\n",
      "../../../data/decompression/compare/RTX2080ti/output_snappy_500mb_dickens_32768threads.h5\n",
      "../../../data/decompression/compare/RTX2080ti/output_snappy_500mb_dickens_131072threads.h5\n",
      "../../../data/decompression/compare/RTX2080ti/output_zstd_500mb_dickens_8threads.h5\n",
      "../../../data/decompression/compare/RTX2080ti/output_zstd_500mb_dickens_32threads.h5\n",
      "../../../data/decompression/compare/RTX2080ti/output_zstd_500mb_dickens_128threads.h5\n",
      "../../../data/decompression/compare/RTX2080ti/output_zstd_500mb_dickens_512threads.h5\n",
      "../../../data/decompression/compare/RTX2080ti/output_zstd_500mb_dickens_2048threads.h5\n",
      "../../../data/decompression/compare/RTX2080ti/output_zstd_500mb_dickens_8192threads.h5\n",
      "../../../data/decompression/compare/RTX2080ti/output_zstd_500mb_dickens_32768threads.h5\n",
      "../../../data/decompression/compare/RTX2080ti/output_zstd_500mb_dickens_131072threads.h5\n",
      "../../../data/decompression/compare/RTX2080ti/output_snappy_500mb_mozilla_8threads.h5\n",
      "../../../data/decompression/compare/RTX2080ti/output_snappy_500mb_mozilla_32threads.h5\n",
      "../../../data/decompression/compare/RTX2080ti/output_snappy_500mb_mozilla_128threads.h5\n",
      "../../../data/decompression/compare/RTX2080ti/output_snappy_500mb_mozilla_512threads.h5\n",
      "../../../data/decompression/compare/RTX2080ti/output_snappy_500mb_mozilla_2048threads.h5\n",
      "../../../data/decompression/compare/RTX2080ti/output_snappy_500mb_mozilla_8192threads.h5\n",
      "../../../data/decompression/compare/RTX2080ti/output_snappy_500mb_mozilla_32768threads.h5\n",
      "../../../data/decompression/compare/RTX2080ti/output_snappy_500mb_mozilla_131072threads.h5\n",
      "../../../data/decompression/compare/RTX2080ti/output_zstd_500mb_mozilla_8threads.h5\n",
      "Failed getting utilization of zstd 500mb_mozilla 8 threads: \"Unable to synchronously open object (object 'CUPTI_ACTIVITY_KIND_KERNEL' doesn't exist)\"\n",
      "../../../data/decompression/compare/RTX2080ti/output_zstd_500mb_mozilla_32threads.h5\n",
      "../../../data/decompression/compare/RTX2080ti/output_zstd_500mb_mozilla_128threads.h5\n",
      "../../../data/decompression/compare/RTX2080ti/output_zstd_500mb_mozilla_512threads.h5\n",
      "../../../data/decompression/compare/RTX2080ti/output_zstd_500mb_mozilla_2048threads.h5\n",
      "../../../data/decompression/compare/RTX2080ti/output_zstd_500mb_mozilla_8192threads.h5\n",
      "../../../data/decompression/compare/RTX2080ti/output_zstd_500mb_mozilla_32768threads.h5\n",
      "../../../data/decompression/compare/RTX2080ti/output_zstd_500mb_mozilla_131072threads.h5\n",
      "../../../data/decompression/compare/RTX2080ti/output_snappy_500mb_mr_8threads.h5\n",
      "../../../data/decompression/compare/RTX2080ti/output_snappy_500mb_mr_32threads.h5\n",
      "../../../data/decompression/compare/RTX2080ti/output_snappy_500mb_mr_128threads.h5\n",
      "../../../data/decompression/compare/RTX2080ti/output_snappy_500mb_mr_512threads.h5\n",
      "../../../data/decompression/compare/RTX2080ti/output_snappy_500mb_mr_2048threads.h5\n",
      "../../../data/decompression/compare/RTX2080ti/output_snappy_500mb_mr_8192threads.h5\n",
      "../../../data/decompression/compare/RTX2080ti/output_snappy_500mb_mr_32768threads.h5\n",
      "../../../data/decompression/compare/RTX2080ti/output_snappy_500mb_mr_131072threads.h5\n",
      "../../../data/decompression/compare/RTX2080ti/output_zstd_500mb_mr_8threads.h5\n",
      "../../../data/decompression/compare/RTX2080ti/output_zstd_500mb_mr_32threads.h5\n",
      "../../../data/decompression/compare/RTX2080ti/output_zstd_500mb_mr_128threads.h5\n",
      "../../../data/decompression/compare/RTX2080ti/output_zstd_500mb_mr_512threads.h5\n",
      "../../../data/decompression/compare/RTX2080ti/output_zstd_500mb_mr_2048threads.h5\n",
      "../../../data/decompression/compare/RTX2080ti/output_zstd_500mb_mr_8192threads.h5\n",
      "../../../data/decompression/compare/RTX2080ti/output_zstd_500mb_mr_32768threads.h5\n",
      "../../../data/decompression/compare/RTX2080ti/output_zstd_500mb_mr_131072threads.h5\n",
      "../../../data/decompression/compare/RTX2080ti/output_snappy_500mb_nci_8threads.h5\n",
      "../../../data/decompression/compare/RTX2080ti/output_snappy_500mb_nci_32threads.h5\n",
      "../../../data/decompression/compare/RTX2080ti/output_snappy_500mb_nci_128threads.h5\n",
      "../../../data/decompression/compare/RTX2080ti/output_snappy_500mb_nci_512threads.h5\n",
      "../../../data/decompression/compare/RTX2080ti/output_snappy_500mb_nci_2048threads.h5\n",
      "../../../data/decompression/compare/RTX2080ti/output_snappy_500mb_nci_8192threads.h5\n",
      "../../../data/decompression/compare/RTX2080ti/output_snappy_500mb_nci_32768threads.h5\n",
      "../../../data/decompression/compare/RTX2080ti/output_snappy_500mb_nci_131072threads.h5\n",
      "../../../data/decompression/compare/RTX2080ti/output_zstd_500mb_nci_8threads.h5\n",
      "Failed getting utilization of zstd 500mb_nci 8 threads: \"Unable to synchronously open object (object 'CUPTI_ACTIVITY_KIND_KERNEL' doesn't exist)\"\n",
      "../../../data/decompression/compare/RTX2080ti/output_zstd_500mb_nci_32threads.h5\n",
      "../../../data/decompression/compare/RTX2080ti/output_zstd_500mb_nci_128threads.h5\n",
      "../../../data/decompression/compare/RTX2080ti/output_zstd_500mb_nci_512threads.h5\n",
      "../../../data/decompression/compare/RTX2080ti/output_zstd_500mb_nci_2048threads.h5\n",
      "../../../data/decompression/compare/RTX2080ti/output_zstd_500mb_nci_8192threads.h5\n",
      "../../../data/decompression/compare/RTX2080ti/output_zstd_500mb_nci_32768threads.h5\n",
      "../../../data/decompression/compare/RTX2080ti/output_zstd_500mb_nci_131072threads.h5\n",
      "../../../data/decompression/compare/RTX2080ti/output_snappy_500mb_samba_8threads.h5\n",
      "../../../data/decompression/compare/RTX2080ti/output_snappy_500mb_samba_32threads.h5\n",
      "../../../data/decompression/compare/RTX2080ti/output_snappy_500mb_samba_128threads.h5\n",
      "../../../data/decompression/compare/RTX2080ti/output_snappy_500mb_samba_512threads.h5\n",
      "../../../data/decompression/compare/RTX2080ti/output_snappy_500mb_samba_2048threads.h5\n",
      "../../../data/decompression/compare/RTX2080ti/output_snappy_500mb_samba_8192threads.h5\n",
      "../../../data/decompression/compare/RTX2080ti/output_snappy_500mb_samba_32768threads.h5\n",
      "../../../data/decompression/compare/RTX2080ti/output_snappy_500mb_samba_131072threads.h5\n",
      "../../../data/decompression/compare/RTX2080ti/output_zstd_500mb_samba_8threads.h5\n",
      "Failed getting utilization of zstd 500mb_samba 8 threads: \"Unable to synchronously open object (object 'CUPTI_ACTIVITY_KIND_KERNEL' doesn't exist)\"\n",
      "../../../data/decompression/compare/RTX2080ti/output_zstd_500mb_samba_32threads.h5\n",
      "../../../data/decompression/compare/RTX2080ti/output_zstd_500mb_samba_128threads.h5\n",
      "../../../data/decompression/compare/RTX2080ti/output_zstd_500mb_samba_512threads.h5\n",
      "../../../data/decompression/compare/RTX2080ti/output_zstd_500mb_samba_2048threads.h5\n",
      "../../../data/decompression/compare/RTX2080ti/output_zstd_500mb_samba_8192threads.h5\n",
      "../../../data/decompression/compare/RTX2080ti/output_zstd_500mb_samba_32768threads.h5\n",
      "../../../data/decompression/compare/RTX2080ti/output_zstd_500mb_samba_131072threads.h5\n",
      "../../../data/decompression/compare/RTX2080ti/output_snappy_500mb_sao_8threads.h5\n",
      "../../../data/decompression/compare/RTX2080ti/output_snappy_500mb_sao_32threads.h5\n",
      "../../../data/decompression/compare/RTX2080ti/output_snappy_500mb_sao_128threads.h5\n",
      "../../../data/decompression/compare/RTX2080ti/output_snappy_500mb_sao_512threads.h5\n",
      "../../../data/decompression/compare/RTX2080ti/output_snappy_500mb_sao_2048threads.h5\n",
      "../../../data/decompression/compare/RTX2080ti/output_snappy_500mb_sao_8192threads.h5\n",
      "../../../data/decompression/compare/RTX2080ti/output_snappy_500mb_sao_32768threads.h5\n",
      "../../../data/decompression/compare/RTX2080ti/output_snappy_500mb_sao_131072threads.h5\n",
      "../../../data/decompression/compare/RTX2080ti/output_zstd_500mb_sao_8threads.h5\n",
      "../../../data/decompression/compare/RTX2080ti/output_zstd_500mb_sao_32threads.h5\n",
      "../../../data/decompression/compare/RTX2080ti/output_zstd_500mb_sao_128threads.h5\n",
      "../../../data/decompression/compare/RTX2080ti/output_zstd_500mb_sao_512threads.h5\n",
      "../../../data/decompression/compare/RTX2080ti/output_zstd_500mb_sao_2048threads.h5\n",
      "../../../data/decompression/compare/RTX2080ti/output_zstd_500mb_sao_8192threads.h5\n",
      "../../../data/decompression/compare/RTX2080ti/output_zstd_500mb_sao_32768threads.h5\n",
      "../../../data/decompression/compare/RTX2080ti/output_zstd_500mb_sao_131072threads.h5\n",
      "../../../data/decompression/compare/RTX2080ti/output_snappy_500mb_silesia.zip_8threads.h5\n",
      "../../../data/decompression/compare/RTX2080ti/output_snappy_500mb_silesia.zip_32threads.h5\n",
      "../../../data/decompression/compare/RTX2080ti/output_snappy_500mb_silesia.zip_128threads.h5\n",
      "../../../data/decompression/compare/RTX2080ti/output_snappy_500mb_silesia.zip_512threads.h5\n",
      "../../../data/decompression/compare/RTX2080ti/output_snappy_500mb_silesia.zip_2048threads.h5\n",
      "../../../data/decompression/compare/RTX2080ti/output_snappy_500mb_silesia.zip_8192threads.h5\n",
      "../../../data/decompression/compare/RTX2080ti/output_snappy_500mb_silesia.zip_32768threads.h5\n",
      "../../../data/decompression/compare/RTX2080ti/output_snappy_500mb_silesia.zip_131072threads.h5\n",
      "../../../data/decompression/compare/RTX2080ti/output_zstd_500mb_silesia.zip_8threads.h5\n",
      "Failed getting utilization of zstd 500mb_silesia.zip 8 threads: \"Unable to synchronously open object (object 'CUPTI_ACTIVITY_KIND_KERNEL' doesn't exist)\"\n",
      "../../../data/decompression/compare/RTX2080ti/output_zstd_500mb_silesia.zip_32threads.h5\n",
      "Failed getting utilization of zstd 500mb_silesia.zip 32 threads: \"Unable to synchronously open object (object 'CUPTI_ACTIVITY_KIND_KERNEL' doesn't exist)\"\n",
      "../../../data/decompression/compare/RTX2080ti/output_zstd_500mb_silesia.zip_128threads.h5\n",
      "Failed getting utilization of zstd 500mb_silesia.zip 128 threads: \"Unable to synchronously open object (object 'CUPTI_ACTIVITY_KIND_KERNEL' doesn't exist)\"\n",
      "../../../data/decompression/compare/RTX2080ti/output_zstd_500mb_silesia.zip_512threads.h5\n",
      "Failed getting utilization of zstd 500mb_silesia.zip 512 threads: \"Unable to synchronously open object (object 'CUPTI_ACTIVITY_KIND_KERNEL' doesn't exist)\"\n",
      "../../../data/decompression/compare/RTX2080ti/output_zstd_500mb_silesia.zip_2048threads.h5\n",
      "Failed getting utilization of zstd 500mb_silesia.zip 2048 threads: \"Unable to synchronously open object (object 'CUPTI_ACTIVITY_KIND_KERNEL' doesn't exist)\"\n",
      "../../../data/decompression/compare/RTX2080ti/output_zstd_500mb_silesia.zip_8192threads.h5\n",
      "../../../data/decompression/compare/RTX2080ti/output_zstd_500mb_silesia.zip_32768threads.h5\n",
      "../../../data/decompression/compare/RTX2080ti/output_zstd_500mb_silesia.zip_131072threads.h5\n",
      "../../../data/decompression/compare/RTX2080ti/output_snappy_500mb_xml_8threads.h5\n",
      "../../../data/decompression/compare/RTX2080ti/output_snappy_500mb_xml_32threads.h5\n",
      "../../../data/decompression/compare/RTX2080ti/output_snappy_500mb_xml_128threads.h5\n",
      "../../../data/decompression/compare/RTX2080ti/output_snappy_500mb_xml_512threads.h5\n",
      "../../../data/decompression/compare/RTX2080ti/output_snappy_500mb_xml_2048threads.h5\n",
      "../../../data/decompression/compare/RTX2080ti/output_snappy_500mb_xml_8192threads.h5\n",
      "../../../data/decompression/compare/RTX2080ti/output_snappy_500mb_xml_32768threads.h5\n",
      "../../../data/decompression/compare/RTX2080ti/output_snappy_500mb_xml_131072threads.h5\n",
      "../../../data/decompression/compare/RTX2080ti/output_zstd_500mb_xml_8threads.h5\n",
      "../../../data/decompression/compare/RTX2080ti/output_zstd_500mb_xml_32threads.h5\n",
      "../../../data/decompression/compare/RTX2080ti/output_zstd_500mb_xml_128threads.h5\n",
      "../../../data/decompression/compare/RTX2080ti/output_zstd_500mb_xml_512threads.h5\n",
      "../../../data/decompression/compare/RTX2080ti/output_zstd_500mb_xml_2048threads.h5\n",
      "../../../data/decompression/compare/RTX2080ti/output_zstd_500mb_xml_8192threads.h5\n",
      "../../../data/decompression/compare/RTX2080ti/output_zstd_500mb_xml_32768threads.h5\n",
      "../../../data/decompression/compare/RTX2080ti/output_zstd_500mb_xml_131072threads.h5\n",
      "../../../data/decompression/compare/RTX2080ti/output_snappy_500mb_lineitem.parquet_8threads.h5\n",
      "Failed getting utilization of snappy 500mb_lineitem.parquet 8 threads: [Errno 2] Unable to synchronously open file (unable to open file: name = '../../../data/decompression/compare/RTX2080ti/output_snappy_500mb_lineitem.parquet_8threads.h5', errno = 2, error message = 'No such file or directory', flags = 0, o_flags = 0)\n",
      "../../../data/decompression/compare/RTX2080ti/output_snappy_500mb_lineitem.parquet_32threads.h5\n",
      "Failed getting utilization of snappy 500mb_lineitem.parquet 32 threads: [Errno 2] Unable to synchronously open file (unable to open file: name = '../../../data/decompression/compare/RTX2080ti/output_snappy_500mb_lineitem.parquet_32threads.h5', errno = 2, error message = 'No such file or directory', flags = 0, o_flags = 0)\n",
      "../../../data/decompression/compare/RTX2080ti/output_snappy_500mb_lineitem.parquet_128threads.h5\n",
      "Failed getting utilization of snappy 500mb_lineitem.parquet 128 threads: [Errno 2] Unable to synchronously open file (unable to open file: name = '../../../data/decompression/compare/RTX2080ti/output_snappy_500mb_lineitem.parquet_128threads.h5', errno = 2, error message = 'No such file or directory', flags = 0, o_flags = 0)\n",
      "../../../data/decompression/compare/RTX2080ti/output_snappy_500mb_lineitem.parquet_512threads.h5\n",
      "Failed getting utilization of snappy 500mb_lineitem.parquet 512 threads: [Errno 2] Unable to synchronously open file (unable to open file: name = '../../../data/decompression/compare/RTX2080ti/output_snappy_500mb_lineitem.parquet_512threads.h5', errno = 2, error message = 'No such file or directory', flags = 0, o_flags = 0)\n",
      "../../../data/decompression/compare/RTX2080ti/output_snappy_500mb_lineitem.parquet_2048threads.h5\n",
      "Failed getting utilization of snappy 500mb_lineitem.parquet 2048 threads: [Errno 2] Unable to synchronously open file (unable to open file: name = '../../../data/decompression/compare/RTX2080ti/output_snappy_500mb_lineitem.parquet_2048threads.h5', errno = 2, error message = 'No such file or directory', flags = 0, o_flags = 0)\n",
      "../../../data/decompression/compare/RTX2080ti/output_snappy_500mb_lineitem.parquet_8192threads.h5\n",
      "Failed getting utilization of snappy 500mb_lineitem.parquet 8192 threads: [Errno 2] Unable to synchronously open file (unable to open file: name = '../../../data/decompression/compare/RTX2080ti/output_snappy_500mb_lineitem.parquet_8192threads.h5', errno = 2, error message = 'No such file or directory', flags = 0, o_flags = 0)\n",
      "../../../data/decompression/compare/RTX2080ti/output_snappy_500mb_lineitem.parquet_32768threads.h5\n",
      "Failed getting utilization of snappy 500mb_lineitem.parquet 32768 threads: [Errno 2] Unable to synchronously open file (unable to open file: name = '../../../data/decompression/compare/RTX2080ti/output_snappy_500mb_lineitem.parquet_32768threads.h5', errno = 2, error message = 'No such file or directory', flags = 0, o_flags = 0)\n",
      "../../../data/decompression/compare/RTX2080ti/output_snappy_500mb_lineitem.parquet_131072threads.h5\n",
      "Failed getting utilization of snappy 500mb_lineitem.parquet 131072 threads: [Errno 2] Unable to synchronously open file (unable to open file: name = '../../../data/decompression/compare/RTX2080ti/output_snappy_500mb_lineitem.parquet_131072threads.h5', errno = 2, error message = 'No such file or directory', flags = 0, o_flags = 0)\n",
      "../../../data/decompression/compare/RTX2080ti/output_zstd_500mb_lineitem.parquet_8threads.h5\n",
      "Failed getting utilization of zstd 500mb_lineitem.parquet 8 threads: [Errno 2] Unable to synchronously open file (unable to open file: name = '../../../data/decompression/compare/RTX2080ti/output_zstd_500mb_lineitem.parquet_8threads.h5', errno = 2, error message = 'No such file or directory', flags = 0, o_flags = 0)\n",
      "../../../data/decompression/compare/RTX2080ti/output_zstd_500mb_lineitem.parquet_32threads.h5\n",
      "Failed getting utilization of zstd 500mb_lineitem.parquet 32 threads: [Errno 2] Unable to synchronously open file (unable to open file: name = '../../../data/decompression/compare/RTX2080ti/output_zstd_500mb_lineitem.parquet_32threads.h5', errno = 2, error message = 'No such file or directory', flags = 0, o_flags = 0)\n",
      "../../../data/decompression/compare/RTX2080ti/output_zstd_500mb_lineitem.parquet_128threads.h5\n",
      "Failed getting utilization of zstd 500mb_lineitem.parquet 128 threads: [Errno 2] Unable to synchronously open file (unable to open file: name = '../../../data/decompression/compare/RTX2080ti/output_zstd_500mb_lineitem.parquet_128threads.h5', errno = 2, error message = 'No such file or directory', flags = 0, o_flags = 0)\n",
      "../../../data/decompression/compare/RTX2080ti/output_zstd_500mb_lineitem.parquet_512threads.h5\n",
      "Failed getting utilization of zstd 500mb_lineitem.parquet 512 threads: [Errno 2] Unable to synchronously open file (unable to open file: name = '../../../data/decompression/compare/RTX2080ti/output_zstd_500mb_lineitem.parquet_512threads.h5', errno = 2, error message = 'No such file or directory', flags = 0, o_flags = 0)\n",
      "../../../data/decompression/compare/RTX2080ti/output_zstd_500mb_lineitem.parquet_2048threads.h5\n",
      "Failed getting utilization of zstd 500mb_lineitem.parquet 2048 threads: [Errno 2] Unable to synchronously open file (unable to open file: name = '../../../data/decompression/compare/RTX2080ti/output_zstd_500mb_lineitem.parquet_2048threads.h5', errno = 2, error message = 'No such file or directory', flags = 0, o_flags = 0)\n",
      "../../../data/decompression/compare/RTX2080ti/output_zstd_500mb_lineitem.parquet_8192threads.h5\n",
      "Failed getting utilization of zstd 500mb_lineitem.parquet 8192 threads: [Errno 2] Unable to synchronously open file (unable to open file: name = '../../../data/decompression/compare/RTX2080ti/output_zstd_500mb_lineitem.parquet_8192threads.h5', errno = 2, error message = 'No such file or directory', flags = 0, o_flags = 0)\n",
      "../../../data/decompression/compare/RTX2080ti/output_zstd_500mb_lineitem.parquet_32768threads.h5\n",
      "Failed getting utilization of zstd 500mb_lineitem.parquet 32768 threads: [Errno 2] Unable to synchronously open file (unable to open file: name = '../../../data/decompression/compare/RTX2080ti/output_zstd_500mb_lineitem.parquet_32768threads.h5', errno = 2, error message = 'No such file or directory', flags = 0, o_flags = 0)\n",
      "../../../data/decompression/compare/RTX2080ti/output_zstd_500mb_lineitem.parquet_131072threads.h5\n",
      "Failed getting utilization of zstd 500mb_lineitem.parquet 131072 threads: [Errno 2] Unable to synchronously open file (unable to open file: name = '../../../data/decompression/compare/RTX2080ti/output_zstd_500mb_lineitem.parquet_131072threads.h5', errno = 2, error message = 'No such file or directory', flags = 0, o_flags = 0)\n",
      "../../../data/decompression/compare/a100/output_snappy_500mb_dickens_8threads.h5\n",
      "../../../data/decompression/compare/a100/output_snappy_500mb_dickens_32threads.h5\n",
      "../../../data/decompression/compare/a100/output_snappy_500mb_dickens_128threads.h5\n",
      "../../../data/decompression/compare/a100/output_snappy_500mb_dickens_512threads.h5\n",
      "../../../data/decompression/compare/a100/output_snappy_500mb_dickens_2048threads.h5\n",
      "../../../data/decompression/compare/a100/output_snappy_500mb_dickens_8192threads.h5\n",
      "../../../data/decompression/compare/a100/output_snappy_500mb_dickens_32768threads.h5\n",
      "../../../data/decompression/compare/a100/output_snappy_500mb_dickens_131072threads.h5\n",
      "../../../data/decompression/compare/a100/output_zstd_500mb_dickens_8threads.h5\n",
      "../../../data/decompression/compare/a100/output_zstd_500mb_dickens_32threads.h5\n",
      "../../../data/decompression/compare/a100/output_zstd_500mb_dickens_128threads.h5\n",
      "../../../data/decompression/compare/a100/output_zstd_500mb_dickens_512threads.h5\n",
      "../../../data/decompression/compare/a100/output_zstd_500mb_dickens_2048threads.h5\n",
      "../../../data/decompression/compare/a100/output_zstd_500mb_dickens_8192threads.h5\n",
      "../../../data/decompression/compare/a100/output_zstd_500mb_dickens_32768threads.h5\n",
      "../../../data/decompression/compare/a100/output_zstd_500mb_dickens_131072threads.h5\n",
      "../../../data/decompression/compare/a100/output_snappy_500mb_mozilla_8threads.h5\n",
      "../../../data/decompression/compare/a100/output_snappy_500mb_mozilla_32threads.h5\n",
      "../../../data/decompression/compare/a100/output_snappy_500mb_mozilla_128threads.h5\n",
      "../../../data/decompression/compare/a100/output_snappy_500mb_mozilla_512threads.h5\n",
      "../../../data/decompression/compare/a100/output_snappy_500mb_mozilla_2048threads.h5\n",
      "../../../data/decompression/compare/a100/output_snappy_500mb_mozilla_8192threads.h5\n",
      "../../../data/decompression/compare/a100/output_snappy_500mb_mozilla_32768threads.h5\n",
      "../../../data/decompression/compare/a100/output_snappy_500mb_mozilla_131072threads.h5\n",
      "../../../data/decompression/compare/a100/output_zstd_500mb_mozilla_8threads.h5\n",
      "Failed getting utilization of zstd 500mb_mozilla 8 threads: \"Unable to synchronously open object (object 'CUPTI_ACTIVITY_KIND_KERNEL' doesn't exist)\"\n",
      "../../../data/decompression/compare/a100/output_zstd_500mb_mozilla_32threads.h5\n",
      "../../../data/decompression/compare/a100/output_zstd_500mb_mozilla_128threads.h5\n",
      "../../../data/decompression/compare/a100/output_zstd_500mb_mozilla_512threads.h5\n",
      "../../../data/decompression/compare/a100/output_zstd_500mb_mozilla_2048threads.h5\n",
      "../../../data/decompression/compare/a100/output_zstd_500mb_mozilla_8192threads.h5\n",
      "../../../data/decompression/compare/a100/output_zstd_500mb_mozilla_32768threads.h5\n",
      "../../../data/decompression/compare/a100/output_zstd_500mb_mozilla_131072threads.h5\n",
      "../../../data/decompression/compare/a100/output_snappy_500mb_mr_8threads.h5\n",
      "../../../data/decompression/compare/a100/output_snappy_500mb_mr_32threads.h5\n",
      "../../../data/decompression/compare/a100/output_snappy_500mb_mr_128threads.h5\n",
      "../../../data/decompression/compare/a100/output_snappy_500mb_mr_512threads.h5\n",
      "../../../data/decompression/compare/a100/output_snappy_500mb_mr_2048threads.h5\n",
      "../../../data/decompression/compare/a100/output_snappy_500mb_mr_8192threads.h5\n",
      "../../../data/decompression/compare/a100/output_snappy_500mb_mr_32768threads.h5\n",
      "../../../data/decompression/compare/a100/output_snappy_500mb_mr_131072threads.h5\n",
      "../../../data/decompression/compare/a100/output_zstd_500mb_mr_8threads.h5\n",
      "../../../data/decompression/compare/a100/output_zstd_500mb_mr_32threads.h5\n",
      "../../../data/decompression/compare/a100/output_zstd_500mb_mr_128threads.h5\n",
      "../../../data/decompression/compare/a100/output_zstd_500mb_mr_512threads.h5\n",
      "../../../data/decompression/compare/a100/output_zstd_500mb_mr_2048threads.h5\n",
      "../../../data/decompression/compare/a100/output_zstd_500mb_mr_8192threads.h5\n",
      "../../../data/decompression/compare/a100/output_zstd_500mb_mr_32768threads.h5\n",
      "../../../data/decompression/compare/a100/output_zstd_500mb_mr_131072threads.h5\n",
      "../../../data/decompression/compare/a100/output_snappy_500mb_nci_8threads.h5\n",
      "../../../data/decompression/compare/a100/output_snappy_500mb_nci_32threads.h5\n",
      "../../../data/decompression/compare/a100/output_snappy_500mb_nci_128threads.h5\n",
      "../../../data/decompression/compare/a100/output_snappy_500mb_nci_512threads.h5\n",
      "../../../data/decompression/compare/a100/output_snappy_500mb_nci_2048threads.h5\n",
      "../../../data/decompression/compare/a100/output_snappy_500mb_nci_8192threads.h5\n",
      "../../../data/decompression/compare/a100/output_snappy_500mb_nci_32768threads.h5\n",
      "../../../data/decompression/compare/a100/output_snappy_500mb_nci_131072threads.h5\n",
      "../../../data/decompression/compare/a100/output_zstd_500mb_nci_8threads.h5\n",
      "Failed getting utilization of zstd 500mb_nci 8 threads: \"Unable to synchronously open object (object 'CUPTI_ACTIVITY_KIND_KERNEL' doesn't exist)\"\n",
      "../../../data/decompression/compare/a100/output_zstd_500mb_nci_32threads.h5\n",
      "../../../data/decompression/compare/a100/output_zstd_500mb_nci_128threads.h5\n",
      "../../../data/decompression/compare/a100/output_zstd_500mb_nci_512threads.h5\n",
      "../../../data/decompression/compare/a100/output_zstd_500mb_nci_2048threads.h5\n",
      "../../../data/decompression/compare/a100/output_zstd_500mb_nci_8192threads.h5\n",
      "../../../data/decompression/compare/a100/output_zstd_500mb_nci_32768threads.h5\n",
      "../../../data/decompression/compare/a100/output_zstd_500mb_nci_131072threads.h5\n",
      "../../../data/decompression/compare/a100/output_snappy_500mb_samba_8threads.h5\n",
      "../../../data/decompression/compare/a100/output_snappy_500mb_samba_32threads.h5\n",
      "../../../data/decompression/compare/a100/output_snappy_500mb_samba_128threads.h5\n",
      "../../../data/decompression/compare/a100/output_snappy_500mb_samba_512threads.h5\n",
      "../../../data/decompression/compare/a100/output_snappy_500mb_samba_2048threads.h5\n",
      "../../../data/decompression/compare/a100/output_snappy_500mb_samba_8192threads.h5\n",
      "../../../data/decompression/compare/a100/output_snappy_500mb_samba_32768threads.h5\n",
      "../../../data/decompression/compare/a100/output_snappy_500mb_samba_131072threads.h5\n",
      "../../../data/decompression/compare/a100/output_zstd_500mb_samba_8threads.h5\n",
      "Failed getting utilization of zstd 500mb_samba 8 threads: \"Unable to synchronously open object (object 'CUPTI_ACTIVITY_KIND_KERNEL' doesn't exist)\"\n",
      "../../../data/decompression/compare/a100/output_zstd_500mb_samba_32threads.h5\n",
      "../../../data/decompression/compare/a100/output_zstd_500mb_samba_128threads.h5\n",
      "../../../data/decompression/compare/a100/output_zstd_500mb_samba_512threads.h5\n",
      "../../../data/decompression/compare/a100/output_zstd_500mb_samba_2048threads.h5\n",
      "../../../data/decompression/compare/a100/output_zstd_500mb_samba_8192threads.h5\n",
      "../../../data/decompression/compare/a100/output_zstd_500mb_samba_32768threads.h5\n",
      "../../../data/decompression/compare/a100/output_zstd_500mb_samba_131072threads.h5\n",
      "../../../data/decompression/compare/a100/output_snappy_500mb_sao_8threads.h5\n",
      "../../../data/decompression/compare/a100/output_snappy_500mb_sao_32threads.h5\n",
      "../../../data/decompression/compare/a100/output_snappy_500mb_sao_128threads.h5\n",
      "../../../data/decompression/compare/a100/output_snappy_500mb_sao_512threads.h5\n",
      "../../../data/decompression/compare/a100/output_snappy_500mb_sao_2048threads.h5\n",
      "../../../data/decompression/compare/a100/output_snappy_500mb_sao_8192threads.h5\n",
      "../../../data/decompression/compare/a100/output_snappy_500mb_sao_32768threads.h5\n",
      "../../../data/decompression/compare/a100/output_snappy_500mb_sao_131072threads.h5\n",
      "../../../data/decompression/compare/a100/output_zstd_500mb_sao_8threads.h5\n",
      "../../../data/decompression/compare/a100/output_zstd_500mb_sao_32threads.h5\n",
      "../../../data/decompression/compare/a100/output_zstd_500mb_sao_128threads.h5\n",
      "../../../data/decompression/compare/a100/output_zstd_500mb_sao_512threads.h5\n",
      "../../../data/decompression/compare/a100/output_zstd_500mb_sao_2048threads.h5\n",
      "../../../data/decompression/compare/a100/output_zstd_500mb_sao_8192threads.h5\n",
      "../../../data/decompression/compare/a100/output_zstd_500mb_sao_32768threads.h5\n",
      "../../../data/decompression/compare/a100/output_zstd_500mb_sao_131072threads.h5\n",
      "../../../data/decompression/compare/a100/output_snappy_500mb_silesia.zip_8threads.h5\n",
      "Failed getting utilization of snappy 500mb_silesia.zip 8 threads: \"Unable to synchronously open object (object 'CUPTI_ACTIVITY_KIND_KERNEL' doesn't exist)\"\n",
      "../../../data/decompression/compare/a100/output_snappy_500mb_silesia.zip_32threads.h5\n",
      "Failed getting utilization of snappy 500mb_silesia.zip 32 threads: \"Unable to synchronously open object (object 'CUPTI_ACTIVITY_KIND_KERNEL' doesn't exist)\"\n",
      "../../../data/decompression/compare/a100/output_snappy_500mb_silesia.zip_128threads.h5\n",
      "Failed getting utilization of snappy 500mb_silesia.zip 128 threads: \"Unable to synchronously open object (object 'CUPTI_ACTIVITY_KIND_KERNEL' doesn't exist)\"\n",
      "../../../data/decompression/compare/a100/output_snappy_500mb_silesia.zip_512threads.h5\n",
      "Failed getting utilization of snappy 500mb_silesia.zip 512 threads: \"Unable to synchronously open object (object 'CUPTI_ACTIVITY_KIND_KERNEL' doesn't exist)\"\n",
      "../../../data/decompression/compare/a100/output_snappy_500mb_silesia.zip_2048threads.h5\n",
      "Failed getting utilization of snappy 500mb_silesia.zip 2048 threads: \"Unable to synchronously open object (object 'CUPTI_ACTIVITY_KIND_KERNEL' doesn't exist)\"\n",
      "../../../data/decompression/compare/a100/output_snappy_500mb_silesia.zip_8192threads.h5\n",
      "Failed getting utilization of snappy 500mb_silesia.zip 8192 threads: \"Unable to synchronously open object (object 'CUPTI_ACTIVITY_KIND_KERNEL' doesn't exist)\"\n",
      "../../../data/decompression/compare/a100/output_snappy_500mb_silesia.zip_32768threads.h5\n",
      "Failed getting utilization of snappy 500mb_silesia.zip 32768 threads: \"Unable to synchronously open object (object 'CUPTI_ACTIVITY_KIND_KERNEL' doesn't exist)\"\n",
      "../../../data/decompression/compare/a100/output_snappy_500mb_silesia.zip_131072threads.h5\n",
      "Failed getting utilization of snappy 500mb_silesia.zip 131072 threads: \"Unable to synchronously open object (object 'CUPTI_ACTIVITY_KIND_KERNEL' doesn't exist)\"\n",
      "../../../data/decompression/compare/a100/output_zstd_500mb_silesia.zip_8threads.h5\n",
      "Failed getting utilization of zstd 500mb_silesia.zip 8 threads: \"Unable to synchronously open object (object 'CUPTI_ACTIVITY_KIND_KERNEL' doesn't exist)\"\n",
      "../../../data/decompression/compare/a100/output_zstd_500mb_silesia.zip_32threads.h5\n",
      "Failed getting utilization of zstd 500mb_silesia.zip 32 threads: \"Unable to synchronously open object (object 'CUPTI_ACTIVITY_KIND_KERNEL' doesn't exist)\"\n",
      "../../../data/decompression/compare/a100/output_zstd_500mb_silesia.zip_128threads.h5\n",
      "Failed getting utilization of zstd 500mb_silesia.zip 128 threads: \"Unable to synchronously open object (object 'CUPTI_ACTIVITY_KIND_KERNEL' doesn't exist)\"\n",
      "../../../data/decompression/compare/a100/output_zstd_500mb_silesia.zip_512threads.h5\n",
      "Failed getting utilization of zstd 500mb_silesia.zip 512 threads: \"Unable to synchronously open object (object 'CUPTI_ACTIVITY_KIND_KERNEL' doesn't exist)\"\n",
      "../../../data/decompression/compare/a100/output_zstd_500mb_silesia.zip_2048threads.h5\n",
      "Failed getting utilization of zstd 500mb_silesia.zip 2048 threads: \"Unable to synchronously open object (object 'CUPTI_ACTIVITY_KIND_KERNEL' doesn't exist)\"\n",
      "../../../data/decompression/compare/a100/output_zstd_500mb_silesia.zip_8192threads.h5\n",
      "Failed getting utilization of zstd 500mb_silesia.zip 8192 threads: \"Unable to synchronously open object (object 'CUPTI_ACTIVITY_KIND_KERNEL' doesn't exist)\"\n",
      "../../../data/decompression/compare/a100/output_zstd_500mb_silesia.zip_32768threads.h5\n",
      "Failed getting utilization of zstd 500mb_silesia.zip 32768 threads: \"Unable to synchronously open object (object 'CUPTI_ACTIVITY_KIND_KERNEL' doesn't exist)\"\n",
      "../../../data/decompression/compare/a100/output_zstd_500mb_silesia.zip_131072threads.h5\n",
      "Failed getting utilization of zstd 500mb_silesia.zip 131072 threads: \"Unable to synchronously open object (object 'CUPTI_ACTIVITY_KIND_KERNEL' doesn't exist)\"\n",
      "../../../data/decompression/compare/a100/output_snappy_500mb_xml_8threads.h5\n",
      "../../../data/decompression/compare/a100/output_snappy_500mb_xml_32threads.h5\n",
      "../../../data/decompression/compare/a100/output_snappy_500mb_xml_128threads.h5\n",
      "../../../data/decompression/compare/a100/output_snappy_500mb_xml_512threads.h5\n",
      "../../../data/decompression/compare/a100/output_snappy_500mb_xml_2048threads.h5\n",
      "../../../data/decompression/compare/a100/output_snappy_500mb_xml_8192threads.h5\n",
      "../../../data/decompression/compare/a100/output_snappy_500mb_xml_32768threads.h5\n",
      "../../../data/decompression/compare/a100/output_snappy_500mb_xml_131072threads.h5\n",
      "../../../data/decompression/compare/a100/output_zstd_500mb_xml_8threads.h5\n",
      "../../../data/decompression/compare/a100/output_zstd_500mb_xml_32threads.h5\n",
      "../../../data/decompression/compare/a100/output_zstd_500mb_xml_128threads.h5\n",
      "../../../data/decompression/compare/a100/output_zstd_500mb_xml_512threads.h5\n",
      "../../../data/decompression/compare/a100/output_zstd_500mb_xml_2048threads.h5\n",
      "../../../data/decompression/compare/a100/output_zstd_500mb_xml_8192threads.h5\n",
      "../../../data/decompression/compare/a100/output_zstd_500mb_xml_32768threads.h5\n",
      "../../../data/decompression/compare/a100/output_zstd_500mb_xml_131072threads.h5\n",
      "../../../data/decompression/compare/a100/output_snappy_500mb_lineitem.parquet_8threads.h5\n",
      "../../../data/decompression/compare/a100/output_snappy_500mb_lineitem.parquet_32threads.h5\n",
      "../../../data/decompression/compare/a100/output_snappy_500mb_lineitem.parquet_128threads.h5\n",
      "../../../data/decompression/compare/a100/output_snappy_500mb_lineitem.parquet_512threads.h5\n",
      "../../../data/decompression/compare/a100/output_snappy_500mb_lineitem.parquet_2048threads.h5\n",
      "../../../data/decompression/compare/a100/output_snappy_500mb_lineitem.parquet_8192threads.h5\n",
      "../../../data/decompression/compare/a100/output_snappy_500mb_lineitem.parquet_32768threads.h5\n",
      "../../../data/decompression/compare/a100/output_snappy_500mb_lineitem.parquet_131072threads.h5\n",
      "../../../data/decompression/compare/a100/output_zstd_500mb_lineitem.parquet_8threads.h5\n",
      "Failed getting utilization of zstd 500mb_lineitem.parquet 8 threads: \"Unable to synchronously open object (object 'CUPTI_ACTIVITY_KIND_KERNEL' doesn't exist)\"\n",
      "../../../data/decompression/compare/a100/output_zstd_500mb_lineitem.parquet_32threads.h5\n",
      "Failed getting utilization of zstd 500mb_lineitem.parquet 32 threads: \"Unable to synchronously open object (object 'CUPTI_ACTIVITY_KIND_KERNEL' doesn't exist)\"\n",
      "../../../data/decompression/compare/a100/output_zstd_500mb_lineitem.parquet_128threads.h5\n",
      "Failed getting utilization of zstd 500mb_lineitem.parquet 128 threads: \"Unable to synchronously open object (object 'CUPTI_ACTIVITY_KIND_KERNEL' doesn't exist)\"\n",
      "../../../data/decompression/compare/a100/output_zstd_500mb_lineitem.parquet_512threads.h5\n",
      "Failed getting utilization of zstd 500mb_lineitem.parquet 512 threads: \"Unable to synchronously open object (object 'CUPTI_ACTIVITY_KIND_KERNEL' doesn't exist)\"\n",
      "../../../data/decompression/compare/a100/output_zstd_500mb_lineitem.parquet_2048threads.h5\n",
      "Failed getting utilization of zstd 500mb_lineitem.parquet 2048 threads: \"Unable to synchronously open object (object 'CUPTI_ACTIVITY_KIND_KERNEL' doesn't exist)\"\n",
      "../../../data/decompression/compare/a100/output_zstd_500mb_lineitem.parquet_8192threads.h5\n",
      "Failed getting utilization of zstd 500mb_lineitem.parquet 8192 threads: \"Unable to synchronously open object (object 'CUPTI_ACTIVITY_KIND_KERNEL' doesn't exist)\"\n",
      "../../../data/decompression/compare/a100/output_zstd_500mb_lineitem.parquet_32768threads.h5\n",
      "Failed getting utilization of zstd 500mb_lineitem.parquet 32768 threads: 'compress'\n",
      "../../../data/decompression/compare/a100/output_zstd_500mb_lineitem.parquet_131072threads.h5\n",
      "Failed getting utilization of zstd 500mb_lineitem.parquet 131072 threads: 'compress'\n",
      "    standard  chunk_size           file  compression_utilization  \\\n",
      "7     snappy        4000  500mb_dickens                35.936501   \n",
      "6     snappy       16000  500mb_dickens                39.227277   \n",
      "5     snappy       64000  500mb_dickens                67.099357   \n",
      "4     snappy      256000  500mb_dickens                90.332419   \n",
      "3     snappy     1024000  500mb_dickens                46.605675   \n",
      "..       ...         ...            ...                      ...   \n",
      "105     zstd      256000      500mb_xml                 0.996027   \n",
      "104     zstd     1024000      500mb_xml                 0.997776   \n",
      "103     zstd     4096000      500mb_xml                 0.999960   \n",
      "102     zstd    16384000      500mb_xml                 0.999971   \n",
      "101     zstd    65536000      500mb_xml                 0.999971   \n",
      "\n",
      "     decompression_utilization        gpu  \n",
      "7                    57.991657       A100  \n",
      "6                    59.927612       A100  \n",
      "5                    66.812108       A100  \n",
      "4                    89.850706       A100  \n",
      "3                    47.321909       A100  \n",
      "..                         ...        ...  \n",
      "105                   0.999858  RTX3050TI  \n",
      "104                   0.999872  RTX3050TI  \n",
      "103                   0.999863  RTX3050TI  \n",
      "102                   0.999994  RTX3050TI  \n",
      "101                   0.999902  RTX3050TI  \n",
      "\n",
      "[346 rows x 6 columns]\n"
     ]
    }
   ],
   "source": [
    "compressors = ['snappy', 'zstd']\n",
    "compression_files = ['500mb_dickens', '500mb_mozilla', '500mb_mr', '500mb_nci', '500mb_samba', '500mb_sao', '500mb_silesia.zip', '500mb_xml', '500mb_lineitem.parquet']\n",
    "approx_number_of_threads = [8, 32, 128, 512, 2048, 8192, 32768, 131072]\n",
    "\n",
    "\n",
    "A100_utilisation_df = nsys_reader.NsysScanner(RTX3050TI_path, FILE_SIZE).get_utilisation_df(compression_files, compressors, approx_number_of_threads)\n",
    "RTX2080TI_utilisation_df = nsys_reader.NsysScanner(RTX2080TI_path, FILE_SIZE).get_utilisation_df(compression_files, compressors, approx_number_of_threads)\n",
    "RTX3050TI_utilisation_df = nsys_reader.NsysScanner(A100_path, FILE_SIZE).get_utilisation_df(compression_files, compressors, approx_number_of_threads)\n",
    "\n",
    "A100_utilisation_df['gpu'] = GPU_A100\n",
    "RTX2080TI_utilisation_df['gpu'] = GPU_RTX2080TI\n",
    "RTX3050TI_utilisation_df['gpu'] = GPU_RTX3050TI\n",
    "\n",
    "\n",
    "all_utilization_df = pd.concat([A100_utilisation_df, RTX2080TI_utilisation_df, RTX3050TI_utilisation_df])\n",
    "\n",
    "all_utilization_df = all_utilization_df.sort_values(['gpu', 'standard', 'file', 'chunk_size'])\n",
    "print(all_utilization_df)"
   ]
  },
  {
   "cell_type": "code",
   "execution_count": 8,
   "metadata": {},
   "outputs": [
    {
     "name": "stdout",
     "output_type": "stream",
     "text": [
      "    standard  chunk_size                    file  compression_utilization  decompression_utilization        gpu\n",
      "7     snappy        4000           500mb_dickens                35.936501                  57.991657       A100\n",
      "6     snappy       16000           500mb_dickens                39.227277                  59.927612       A100\n",
      "5     snappy       64000           500mb_dickens                67.099357                  66.812108       A100\n",
      "4     snappy      256000           500mb_dickens                90.332419                  89.850706       A100\n",
      "3     snappy     1024000           500mb_dickens                46.605675                  47.321909       A100\n",
      "2     snappy     4096000           500mb_dickens                11.913052                  12.044099       A100\n",
      "1     snappy    16384000           500mb_dickens                 4.998948                   4.999741       A100\n",
      "0     snappy    65536000           500mb_dickens                 4.999148                   4.999619       A100\n",
      "23    snappy        4000           500mb_mozilla                36.205883                  57.784074       A100\n",
      "22    snappy       16000           500mb_mozilla                35.860363                  58.004224       A100\n",
      "21    snappy       64000           500mb_mozilla                41.077694                  58.797501       A100\n",
      "20    snappy      256000           500mb_mozilla                63.975961                  61.182754       A100\n",
      "19    snappy     1024000           500mb_mozilla                77.654057                  82.607635       A100\n",
      "18    snappy     4096000           500mb_mozilla                51.058780                  53.951575       A100\n",
      "17    snappy    16384000           500mb_mozilla                13.234156                  13.515537       A100\n",
      "16    snappy    65536000           500mb_mozilla                 5.001934                   5.000739       A100\n",
      "38    snappy        4000                500mb_mr                36.285709                  57.698444       A100\n",
      "37    snappy       16000                500mb_mr                42.117648                  60.580027       A100\n",
      "36    snappy       64000                500mb_mr                70.588240                  67.643030       A100\n",
      "35    snappy      256000                500mb_mr                75.149267                  75.047113       A100\n",
      "34    snappy     1024000                500mb_mr                43.534496                  40.004719       A100\n",
      "33    snappy     4096000                500mb_mr                11.347215                  11.049437       A100\n",
      "32    snappy    16384000                500mb_mr                 5.000776                   5.000193       A100\n",
      "31    snappy    65536000                500mb_mr                 5.000501                   5.000017       A100\n",
      "54    snappy        4000               500mb_nci                36.459508                  57.634509       A100\n",
      "53    snappy       16000               500mb_nci                38.290324                  57.856569       A100\n",
      "52    snappy       64000               500mb_nci                45.609376                  61.777316       A100\n",
      "51    snappy      256000               500mb_nci                69.499998                  70.649274       A100\n",
      "50    snappy     1024000               500mb_nci                81.967393                  85.899465       A100\n",
      "49    snappy     4096000               500mb_nci                36.526927                  37.592929       A100\n",
      "48    snappy    16384000               500mb_nci                10.190576                  10.196486       A100\n",
      "47    snappy    65536000               500mb_nci                 5.004627                   5.001289       A100\n",
      "69    snappy        4000             500mb_samba                35.849897                  57.578903       A100\n",
      "68    snappy       16000             500mb_samba                39.002776                  57.226754       A100\n",
      "67    snappy       64000             500mb_samba                46.386365                  60.160440       A100\n",
      "66    snappy      256000             500mb_samba                63.256637                  71.396917       A100\n",
      "65    snappy     1024000             500mb_samba                67.198111                  70.782820       A100\n",
      "64    snappy     4096000             500mb_samba                20.349381                  22.009633       A100\n",
      "63    snappy    16384000             500mb_samba                 6.641497                   6.735570       A100\n",
      "62    snappy    65536000             500mb_samba                 5.002369                   5.000884       A100\n",
      "84    snappy        4000               500mb_sao                35.791680                  56.282155       A100\n",
      "83    snappy       16000               500mb_sao                49.466368                  61.731903       A100\n",
      "82    snappy       64000               500mb_sao                75.250006                  73.950800       A100\n",
      "81    snappy      256000               500mb_sao                89.446041                  86.596962       A100\n",
      "80    snappy     1024000               500mb_sao                33.110685                  32.714129       A100\n",
      "79    snappy     4096000               500mb_sao                 8.885368                   8.902986       A100\n",
      "78    snappy    16384000               500mb_sao                 4.998639                   4.999895       A100\n",
      "77    snappy    65536000               500mb_sao                 4.998702                   4.999962       A100\n",
      "100   snappy        4000               500mb_xml                38.874997                  57.884125       A100\n",
      "99    snappy       16000               500mb_xml                54.563660                  64.699181       A100\n",
      "98    snappy       64000               500mb_xml                69.742422                  77.649915       A100\n",
      "97    snappy      256000               500mb_xml                49.260161                  66.138774       A100\n",
      "96    snappy     1024000               500mb_xml                17.417127                  20.217854       A100\n",
      "95    snappy     4096000               500mb_xml                 7.537600                   7.281584       A100\n",
      "94    snappy    16384000               500mb_xml                 4.997013                   4.999214       A100\n",
      "93    snappy    65536000               500mb_xml                 5.001006                   4.998759       A100\n",
      "15      zstd        4000           500mb_dickens                65.374024                  67.485230       A100\n",
      "14      zstd       16000           500mb_dickens                64.016175                  66.946489       A100\n",
      "13      zstd       64000           500mb_dickens                76.697189                  80.944977       A100\n",
      "12      zstd      256000           500mb_dickens                85.473645                  53.074539       A100\n",
      "11      zstd     1024000           500mb_dickens                46.569709                  92.148220       A100\n",
      "10      zstd     4096000           500mb_dickens                13.829253                  25.604207       A100\n",
      "9       zstd    16384000           500mb_dickens                 4.998515                   9.616478       A100\n",
      "8       zstd    65536000           500mb_dickens                 4.998374                   9.621121       A100\n",
      "30      zstd        4000           500mb_mozilla                67.653494                  68.460230       A100\n",
      "29      zstd       16000           500mb_mozilla                63.397220                  67.691444       A100\n",
      "28      zstd       64000           500mb_mozilla                57.755222                  68.364327       A100\n",
      "27      zstd      256000           500mb_mozilla                59.648527                  73.290391       A100\n",
      "26      zstd     1024000           500mb_mozilla                79.354297                  80.595604       A100\n",
      "25      zstd     4096000           500mb_mozilla                56.088055                  83.596278       A100\n",
      "24      zstd    16384000           500mb_mozilla                15.972833                  35.705188       A100\n",
      "46      zstd        4000                500mb_mr                66.682318                  68.563763       A100\n",
      "45      zstd       16000                500mb_mr                63.920137                  67.563475       A100\n",
      "44      zstd       64000                500mb_mr                75.146412                  74.931788       A100\n",
      "43      zstd      256000                500mb_mr                80.198047                  55.725489       A100\n",
      "42      zstd     1024000                500mb_mr                42.984329                  87.423869       A100\n",
      "41      zstd     4096000                500mb_mr                13.020860                  25.847980       A100\n",
      "40      zstd    16384000                500mb_mr                 4.999334                   9.443234       A100\n",
      "39      zstd    65536000                500mb_mr                 4.999139                   9.448429       A100\n",
      "61      zstd        4000               500mb_nci                69.818279                  68.202986       A100\n",
      "60      zstd       16000               500mb_nci                64.416923                  68.045332       A100\n",
      "59      zstd       64000               500mb_nci                63.403793                  71.112006       A100\n",
      "58      zstd      256000               500mb_nci                72.463005                  80.612972       A100\n",
      "57      zstd     1024000               500mb_nci                88.062148                  88.105490       A100\n",
      "56      zstd     4096000               500mb_nci                38.320555                  78.193749       A100\n",
      "55      zstd    16384000               500mb_nci                11.183532                  27.411686       A100\n",
      "76      zstd        4000             500mb_samba                67.645223                  67.741693       A100\n",
      "75      zstd       16000             500mb_samba                62.051231                  67.290546       A100\n",
      "74      zstd       64000             500mb_samba                61.109084                  64.481795       A100\n",
      "73      zstd      256000             500mb_samba                67.002392                  76.860854       A100\n",
      "72      zstd     1024000             500mb_samba                73.706844                  76.804804       A100\n",
      "71      zstd     4096000             500mb_samba                22.639604                  49.528968       A100\n",
      "70      zstd    16384000             500mb_samba                 6.933040                  18.461865       A100\n",
      "92      zstd        4000               500mb_sao                65.203411                  68.709755       A100\n",
      "91      zstd       16000               500mb_sao                65.367666                  70.646489       A100\n",
      "90      zstd       64000               500mb_sao                77.880956                  77.085962       A100\n",
      "89      zstd      256000               500mb_sao                86.734802                  58.204205       A100\n",
      "88      zstd     1024000               500mb_sao                34.775019                  66.508957       A100\n",
      "87      zstd     4096000               500mb_sao                 8.916527                  17.393130       A100\n",
      "86      zstd    16384000               500mb_sao                 4.996372                   9.473369       A100\n",
      "85      zstd    65536000               500mb_sao                 4.998036                   9.472780       A100\n",
      "108     zstd        4000               500mb_xml                65.050287                  67.984913       A100\n",
      "107     zstd       16000               500mb_xml                65.328374                  65.079160       A100\n",
      "106     zstd       64000               500mb_xml                74.882511                  65.501332       A100\n",
      "105     zstd      256000               500mb_xml                65.121365                  42.120506       A100\n",
      "104     zstd     1024000               500mb_xml                21.532601                  37.338070       A100\n",
      "103     zstd     4096000               500mb_xml                 6.919096                  17.808080       A100\n",
      "102     zstd    16384000               500mb_xml                 4.997005                   9.644774       A100\n",
      "101     zstd    65536000               500mb_xml                 4.994184                   9.664705       A100\n",
      "7     snappy        4000           500mb_dickens                42.962988                  21.552705  RTX2080TI\n",
      "6     snappy       16000           500mb_dickens                35.273547                  14.466168  RTX2080TI\n",
      "5     snappy       64000           500mb_dickens                11.013503                   6.957922  RTX2080TI\n",
      "4     snappy      256000           500mb_dickens                 2.896454                   1.946668  RTX2080TI\n",
      "3     snappy     1024000           500mb_dickens                 1.000000                   1.000000  RTX2080TI\n",
      "2     snappy     4096000           500mb_dickens                 1.000000                   1.000225  RTX2080TI\n",
      "1     snappy    16384000           500mb_dickens                 1.000000                   0.999978  RTX2080TI\n",
      "0     snappy    65536000           500mb_dickens                 1.000000                   0.999978  RTX2080TI\n",
      "23    snappy        4000           500mb_mozilla                52.148662                  24.275877  RTX2080TI\n",
      "22    snappy       16000           500mb_mozilla                45.164963                  20.111580  RTX2080TI\n",
      "21    snappy       64000           500mb_mozilla                33.016132                  14.575890  RTX2080TI\n",
      "20    snappy      256000           500mb_mozilla                10.480352                   7.308797  RTX2080TI\n",
      "19    snappy     1024000           500mb_mozilla                 3.073789                   2.159367  RTX2080TI\n",
      "18    snappy     4096000           500mb_mozilla                 1.000000                   1.001975  RTX2080TI\n",
      "17    snappy    16384000           500mb_mozilla                 1.000000                   1.002203  RTX2080TI\n",
      "16    snappy    65536000           500mb_mozilla                 1.000000                   1.000076  RTX2080TI\n",
      "38    snappy        4000                500mb_mr                35.743536                  18.761636  RTX2080TI\n",
      "37    snappy       16000                500mb_mr                24.315357                  12.034977  RTX2080TI\n",
      "36    snappy       64000                500mb_mr                 8.073895                   4.983351  RTX2080TI\n",
      "35    snappy      256000                500mb_mr                 2.219469                   1.659751  RTX2080TI\n",
      "34    snappy     1024000                500mb_mr                 1.000000                   0.999732  RTX2080TI\n",
      "33    snappy     4096000                500mb_mr                 1.000000                   0.999915  RTX2080TI\n",
      "32    snappy    16384000                500mb_mr                 1.000000                   0.999969  RTX2080TI\n",
      "31    snappy    65536000                500mb_mr                 1.000000                   0.999968  RTX2080TI\n",
      "54    snappy        4000               500mb_nci                51.179113                  23.597282  RTX2080TI\n",
      "53    snappy       16000               500mb_nci                43.560913                  19.182912  RTX2080TI\n",
      "52    snappy       64000               500mb_nci                27.887680                  11.738806  RTX2080TI\n",
      "51    snappy      256000               500mb_nci                 9.298389                   5.536736  RTX2080TI\n",
      "50    snappy     1024000               500mb_nci                 2.680004                   1.924072  RTX2080TI\n",
      "49    snappy     4096000               500mb_nci                 1.000000                   1.007016  RTX2080TI\n",
      "48    snappy    16384000               500mb_nci                 1.000000                   1.002395  RTX2080TI\n",
      "47    snappy    65536000               500mb_nci                 1.000000                   1.000520  RTX2080TI\n",
      "69    snappy        4000             500mb_samba                46.728618                  21.852287  RTX2080TI\n",
      "68    snappy       16000             500mb_samba                32.473970                  16.488268  RTX2080TI\n",
      "67    snappy       64000             500mb_samba                12.980409                   8.919600  RTX2080TI\n",
      "66    snappy      256000             500mb_samba                56.242088                  65.904230  RTX2080TI\n",
      "65    snappy     1024000             500mb_samba                 1.446760                   1.004858  RTX2080TI\n",
      "64    snappy     4096000             500mb_samba                 1.000000                   1.000719  RTX2080TI\n",
      "63    snappy    16384000             500mb_samba                 1.000000                   1.000999  RTX2080TI\n",
      "62    snappy    65536000             500mb_samba                 1.000000                   0.999960  RTX2080TI\n",
      "84    snappy        4000               500mb_sao                36.098978                  19.965002  RTX2080TI\n",
      "83    snappy       16000               500mb_sao                25.315387                  17.183192  RTX2080TI\n",
      "82    snappy       64000               500mb_sao                 7.401203                   5.453996  RTX2080TI\n",
      "81    snappy      256000               500mb_sao                 1.932598                   1.268979  RTX2080TI\n",
      "80    snappy     1024000               500mb_sao                 1.000000                   0.999593  RTX2080TI\n",
      "79    snappy     4096000               500mb_sao                 1.000000                   0.999914  RTX2080TI\n",
      "78    snappy    16384000               500mb_sao                 1.000000                   0.999957  RTX2080TI\n",
      "77    snappy    65536000               500mb_sao                 1.000000                   0.999957  RTX2080TI\n",
      "100   snappy        4000       500mb_silesia.zip                25.658981                  14.748321  RTX2080TI\n",
      "99    snappy       16000       500mb_silesia.zip                12.005480                  12.554860  RTX2080TI\n",
      "98    snappy       64000       500mb_silesia.zip                 6.289397                   8.605688  RTX2080TI\n",
      "97    snappy      256000       500mb_silesia.zip                 3.914817                   5.153080  RTX2080TI\n",
      "96    snappy     1024000       500mb_silesia.zip                 2.565219                   1.923216  RTX2080TI\n",
      "95    snappy     4096000       500mb_silesia.zip                 1.000000                   1.022749  RTX2080TI\n",
      "94    snappy    16384000       500mb_silesia.zip                 1.000000                   1.009897  RTX2080TI\n",
      "93    snappy    65536000       500mb_silesia.zip                 1.000000                   1.004657  RTX2080TI\n",
      "111   snappy        4000               500mb_xml                13.593854                  17.408238  RTX2080TI\n",
      "110   snappy       16000               500mb_xml                 8.714293                   9.722745  RTX2080TI\n",
      "109   snappy       64000               500mb_xml                 3.189289                   2.501117  RTX2080TI\n",
      "108   snappy      256000               500mb_xml                 1.298076                   1.001089  RTX2080TI\n",
      "107   snappy     1024000               500mb_xml                 1.000000                   0.999701  RTX2080TI\n",
      "106   snappy     4096000               500mb_xml                 1.000000                   1.000053  RTX2080TI\n",
      "105   snappy    16384000               500mb_xml                 1.000000                   1.000050  RTX2080TI\n",
      "104   snappy    65536000               500mb_xml                 1.000000                   0.999950  RTX2080TI\n",
      "15      zstd        4000           500mb_dickens                21.241423                  13.166867  RTX2080TI\n",
      "14      zstd       16000           500mb_dickens                14.457074                  15.476654  RTX2080TI\n",
      "13      zstd       64000           500mb_dickens                 3.950049                   8.634662  RTX2080TI\n",
      "12      zstd      256000           500mb_dickens                 2.630332                   2.940661  RTX2080TI\n",
      "11      zstd     1024000           500mb_dickens                 0.998947                   0.999913  RTX2080TI\n",
      "10      zstd     4096000           500mb_dickens                 0.999970                   0.999956  RTX2080TI\n",
      "9       zstd    16384000           500mb_dickens                 0.999990                   0.999969  RTX2080TI\n",
      "8       zstd    65536000           500mb_dickens                 0.999990                   0.999998  RTX2080TI\n",
      "30      zstd        4000           500mb_mozilla                22.607107                  12.871813  RTX2080TI\n",
      "29      zstd       16000           500mb_mozilla                22.780616                  13.085847  RTX2080TI\n",
      "28      zstd       64000           500mb_mozilla                16.941879                  13.564812  RTX2080TI\n",
      "27      zstd      256000           500mb_mozilla                10.715399                   9.497864  RTX2080TI\n",
      "26      zstd     1024000           500mb_mozilla                 4.017233                   4.590476  RTX2080TI\n",
      "25      zstd     4096000           500mb_mozilla                 1.077295                   1.527728  RTX2080TI\n",
      "24      zstd    16384000           500mb_mozilla                 0.999987                   0.999938  RTX2080TI\n",
      "46      zstd        4000                500mb_mr                19.462786                  13.842317  RTX2080TI\n",
      "45      zstd       16000                500mb_mr                13.445768                  15.487462  RTX2080TI\n",
      "44      zstd       64000                500mb_mr                 3.872090                   7.255161  RTX2080TI\n",
      "43      zstd      256000                500mb_mr                 2.653435                   2.796046  RTX2080TI\n",
      "42      zstd     1024000                500mb_mr                 0.998445                   0.999890  RTX2080TI\n",
      "41      zstd     4096000                500mb_mr                 0.999978                   0.999992  RTX2080TI\n",
      "40      zstd    16384000                500mb_mr                 0.999985                   0.999959  RTX2080TI\n",
      "39      zstd    65536000                500mb_mr                 0.999986                   0.999956  RTX2080TI\n",
      "61      zstd        4000               500mb_nci                21.565395                  19.492275  RTX2080TI\n",
      "60      zstd       16000               500mb_nci                24.790152                  24.550684  RTX2080TI\n",
      "59      zstd       64000               500mb_nci                16.002554                  22.089408  RTX2080TI\n",
      "58      zstd      256000               500mb_nci                 7.739083                   7.221984  RTX2080TI\n",
      "57      zstd     1024000               500mb_nci                 2.217538                   3.432426  RTX2080TI\n",
      "56      zstd     4096000               500mb_nci                 0.999930                   0.999865  RTX2080TI\n",
      "55      zstd    16384000               500mb_nci                 0.999982                   0.999870  RTX2080TI\n",
      "76      zstd        4000             500mb_samba                19.715600                  12.386498  RTX2080TI\n",
      "75      zstd       16000             500mb_samba                18.759567                  12.091467  RTX2080TI\n",
      "74      zstd       64000             500mb_samba                 8.029263                  10.682968  RTX2080TI\n",
      "73      zstd      256000             500mb_samba                 4.799200                   3.941488  RTX2080TI\n",
      "72      zstd     1024000             500mb_samba                 1.789725                   2.040270  RTX2080TI\n",
      "71      zstd     4096000             500mb_samba                 0.999946                   0.999921  RTX2080TI\n",
      "70      zstd    16384000             500mb_samba                 0.999985                   0.999917  RTX2080TI\n",
      "92      zstd        4000               500mb_sao                20.338010                  10.265427  RTX2080TI\n",
      "91      zstd       16000               500mb_sao                11.429922                  11.436369  RTX2080TI\n",
      "90      zstd       64000               500mb_sao                 3.814219                   6.179349  RTX2080TI\n",
      "89      zstd      256000               500mb_sao                 2.155311                   2.005820  RTX2080TI\n",
      "88      zstd     1024000               500mb_sao                 0.999841                   0.999870  RTX2080TI\n",
      "87      zstd     4096000               500mb_sao                 0.999953                   0.999946  RTX2080TI\n",
      "86      zstd    16384000               500mb_sao                 0.999977                   0.999956  RTX2080TI\n",
      "85      zstd    65536000               500mb_sao                 0.999978                   0.999889  RTX2080TI\n",
      "103     zstd        4000       500mb_silesia.zip                 8.217873                   5.314669  RTX2080TI\n",
      "102     zstd       16000       500mb_silesia.zip                10.095915                   4.146726  RTX2080TI\n",
      "101     zstd       64000       500mb_silesia.zip                 4.481745                   3.295517  RTX2080TI\n",
      "119     zstd        4000               500mb_xml                17.346474                  12.323447  RTX2080TI\n",
      "118     zstd       16000               500mb_xml                 7.185494                  10.903491  RTX2080TI\n",
      "117     zstd       64000               500mb_xml                 2.154701                   2.931080  RTX2080TI\n",
      "116     zstd      256000               500mb_xml                 1.427498                   1.068533  RTX2080TI\n",
      "115     zstd     1024000               500mb_xml                 0.999822                   0.999868  RTX2080TI\n",
      "114     zstd     4096000               500mb_xml                 0.999928                   0.999863  RTX2080TI\n",
      "113     zstd    16384000               500mb_xml                 0.999951                   0.999914  RTX2080TI\n",
      "112     zstd    65536000               500mb_xml                 0.999952                   0.999913  RTX2080TI\n",
      "7     snappy        4000           500mb_dickens                49.531486                  30.456448  RTX3050TI\n",
      "6     snappy       16000           500mb_dickens                15.400273                  16.389423  RTX3050TI\n",
      "5     snappy       64000           500mb_dickens                 4.592107                   4.660104  RTX3050TI\n",
      "4     snappy      256000           500mb_dickens                 1.000000                   0.999599  RTX3050TI\n",
      "3     snappy     1024000           500mb_dickens                 1.000000                   0.999898  RTX3050TI\n",
      "2     snappy     4096000           500mb_dickens                 1.000000                   0.999970  RTX3050TI\n",
      "1     snappy    16384000           500mb_dickens                 1.000000                   0.999990  RTX3050TI\n",
      "0     snappy    65536000           500mb_dickens                 1.000000                   0.999990  RTX3050TI\n",
      "116   snappy        4000  500mb_lineitem.parquet                74.197119                  52.737597  RTX3050TI\n",
      "115   snappy       16000  500mb_lineitem.parquet                75.443435                  51.257391  RTX3050TI\n",
      "114   snappy       64000  500mb_lineitem.parquet                69.103743                  46.458396  RTX3050TI\n",
      "113   snappy      256000  500mb_lineitem.parquet                50.032357                  33.887857  RTX3050TI\n",
      "112   snappy     1024000  500mb_lineitem.parquet                14.842984                  15.326256  RTX3050TI\n",
      "111   snappy     4096000  500mb_lineitem.parquet                 4.480038                   5.547966  RTX3050TI\n",
      "110   snappy    16384000  500mb_lineitem.parquet                 2.635377                   2.874174  RTX3050TI\n",
      "109   snappy    65536000  500mb_lineitem.parquet                 1.000000                   1.026777  RTX3050TI\n",
      "23    snappy        4000           500mb_mozilla                72.267919                  46.061021  RTX3050TI\n",
      "22    snappy       16000           500mb_mozilla                46.584453                  33.564911  RTX3050TI\n",
      "21    snappy       64000           500mb_mozilla                14.342939                  14.303939  RTX3050TI\n",
      "20    snappy      256000           500mb_mozilla                 3.962945                   4.463811  RTX3050TI\n",
      "19    snappy     1024000           500mb_mozilla                 1.000000                   1.006665  RTX3050TI\n",
      "18    snappy     4096000           500mb_mozilla                 1.000000                   1.000396  RTX3050TI\n",
      "17    snappy    16384000           500mb_mozilla                 1.000000                   1.000537  RTX3050TI\n",
      "16    snappy    65536000           500mb_mozilla                 1.000000                   1.000210  RTX3050TI\n",
      "38    snappy        4000                500mb_mr                 5.003049                  22.549972  RTX3050TI\n",
      "37    snappy       16000                500mb_mr                11.533970                   9.985405  RTX3050TI\n",
      "36    snappy       64000                500mb_mr                 3.333831                   3.100579  RTX3050TI\n",
      "35    snappy      256000                500mb_mr                 1.000000                   0.999552  RTX3050TI\n",
      "34    snappy     1024000                500mb_mr                 1.000000                   0.999870  RTX3050TI\n",
      "33    snappy     4096000                500mb_mr                 1.000000                   0.999960  RTX3050TI\n",
      "32    snappy    16384000                500mb_mr                 1.000000                   0.999985  RTX3050TI\n",
      "31    snappy    65536000                500mb_mr                 1.000000                   0.999985  RTX3050TI\n",
      "54    snappy        4000               500mb_nci                64.901423                  43.918439  RTX3050TI\n",
      "53    snappy       16000               500mb_nci                34.990351                  27.846806  RTX3050TI\n",
      "52    snappy       64000               500mb_nci                11.125040                  12.435461  RTX3050TI\n",
      "51    snappy      256000               500mb_nci                 3.357925                   3.445960  RTX3050TI\n",
      "50    snappy     1024000               500mb_nci                 1.000000                   0.999095  RTX3050TI\n",
      "49    snappy     4096000               500mb_nci                 1.000000                   1.000381  RTX3050TI\n",
      "48    snappy    16384000               500mb_nci                 1.000000                   1.001278  RTX3050TI\n",
      "47    snappy    65536000               500mb_nci                 1.000000                   1.000313  RTX3050TI\n",
      "69    snappy        4000             500mb_samba                46.392658                  35.199097  RTX3050TI\n",
      "68    snappy       16000             500mb_samba                17.953286                  22.317148  RTX3050TI\n",
      "67    snappy       64000             500mb_samba                 5.145217                   6.001778  RTX3050TI\n",
      "66    snappy      256000             500mb_samba                 1.522124                   1.653334  RTX3050TI\n",
      "65    snappy     1024000             500mb_samba                 0.000000                  -0.000148  RTX3050TI\n",
      "64    snappy     4096000             500mb_samba                 1.000000                   0.999906  RTX3050TI\n",
      "63    snappy    16384000             500mb_samba                 0.999881                   0.999963  RTX3050TI\n",
      "62    snappy    65536000             500mb_samba                 1.000000                   0.999982  RTX3050TI\n",
      "84    snappy        4000               500mb_sao                17.289309                  31.406971  RTX3050TI\n",
      "83    snappy       16000               500mb_sao                10.333840                  11.215411  RTX3050TI\n",
      "82    snappy       64000               500mb_sao                 2.807693                   2.800626  RTX3050TI\n",
      "81    snappy      256000               500mb_sao                 1.000000                   0.999440  RTX3050TI\n",
      "80    snappy     1024000               500mb_sao                 1.000000                   0.999846  RTX3050TI\n",
      "79    snappy     4096000               500mb_sao                 0.000000                  -0.000020  RTX3050TI\n",
      "78    snappy    16384000               500mb_sao                 1.000000                   0.999979  RTX3050TI\n",
      "77    snappy    65536000               500mb_sao                 1.000000                   0.999979  RTX3050TI\n",
      "100   snappy        4000               500mb_xml                 1.000000                  16.566426  RTX3050TI\n",
      "99    snappy       16000               500mb_xml                 3.511927                   6.199237  RTX3050TI\n",
      "98    snappy       64000               500mb_xml                 1.313850                   1.508026  RTX3050TI\n",
      "97    snappy      256000               500mb_xml                 1.000000                   1.000000  RTX3050TI\n",
      "96    snappy     1024000               500mb_xml                 1.000000                   0.999862  RTX3050TI\n",
      "95    snappy     4096000               500mb_xml                 1.000000                   0.999949  RTX3050TI\n",
      "94    snappy    16384000               500mb_xml                 1.000000                   1.000012  RTX3050TI\n",
      "93    snappy    65536000               500mb_xml                 1.000000                   1.000000  RTX3050TI\n",
      "15      zstd        4000           500mb_dickens                24.272277                  26.831777  RTX3050TI\n",
      "14      zstd       16000           500mb_dickens                10.106305                   7.981333  RTX3050TI\n",
      "13      zstd       64000           500mb_dickens                 2.832927                   1.956758  RTX3050TI\n",
      "12      zstd      256000           500mb_dickens                 1.802145                   0.999875  RTX3050TI\n",
      "11      zstd     1024000           500mb_dickens                 0.998524                   0.999919  RTX3050TI\n",
      "10      zstd     4096000           500mb_dickens                 0.999976                   0.999961  RTX3050TI\n",
      "9       zstd    16384000           500mb_dickens                 0.999992                   0.999999  RTX3050TI\n",
      "8       zstd    65536000           500mb_dickens                 0.999992                   0.999999  RTX3050TI\n",
      "30      zstd        4000           500mb_mozilla                32.338815                  37.817649  RTX3050TI\n",
      "29      zstd       16000           500mb_mozilla                28.103108                  29.066276  RTX3050TI\n",
      "28      zstd       64000           500mb_mozilla                10.545470                   7.486603  RTX3050TI\n",
      "27      zstd      256000           500mb_mozilla                 4.603638                   2.627022  RTX3050TI\n",
      "26      zstd     1024000           500mb_mozilla                 1.456381                   0.999854  RTX3050TI\n",
      "25      zstd     4096000           500mb_mozilla                 0.999969                   0.999995  RTX3050TI\n",
      "24      zstd    16384000           500mb_mozilla                 0.999992                   0.999998  RTX3050TI\n",
      "46      zstd        4000                500mb_mr                19.343936                  21.495277  RTX3050TI\n",
      "45      zstd       16000                500mb_mr                 7.643333                   6.044939  RTX3050TI\n",
      "44      zstd       64000                500mb_mr                 2.443732                   1.756367  RTX3050TI\n",
      "43      zstd      256000                500mb_mr                 1.620755                   0.999836  RTX3050TI\n",
      "42      zstd     1024000                500mb_mr                 0.999894                   0.999886  RTX3050TI\n",
      "41      zstd     4096000                500mb_mr                 0.999966                   0.999927  RTX3050TI\n",
      "40      zstd    16384000                500mb_mr                 0.999988                   0.999998  RTX3050TI\n",
      "39      zstd    65536000                500mb_mr                 0.999988                   0.999998  RTX3050TI\n",
      "61      zstd        4000               500mb_nci                26.795583                  35.352802  RTX3050TI\n",
      "60      zstd       16000               500mb_nci                22.673202                  22.460569  RTX3050TI\n",
      "59      zstd       64000               500mb_nci                 7.447340                   6.431861  RTX3050TI\n",
      "58      zstd      256000               500mb_nci                 3.185171                   1.985443  RTX3050TI\n",
      "57      zstd     1024000               500mb_nci                 0.993850                   0.999717  RTX3050TI\n",
      "56      zstd     4096000               500mb_nci                 0.999959                   0.999857  RTX3050TI\n",
      "55      zstd    16384000               500mb_nci                 0.999989                   0.999997  RTX3050TI\n",
      "76      zstd        4000             500mb_samba                24.203728                  31.931706  RTX3050TI\n",
      "75      zstd       16000             500mb_samba                13.054624                  11.078536  RTX3050TI\n",
      "74      zstd       64000             500mb_samba                -0.007794                  -0.000301  RTX3050TI\n",
      "73      zstd      256000             500mb_samba                -0.001974                  -0.000093  RTX3050TI\n",
      "72      zstd     1024000             500mb_samba                 0.997953                   0.999832  RTX3050TI\n",
      "71      zstd     4096000             500mb_samba                 0.999966                   0.999911  RTX3050TI\n",
      "70      zstd    16384000             500mb_samba                 0.999990                   0.999904  RTX3050TI\n",
      "92      zstd        4000               500mb_sao                18.451600                  19.542297  RTX3050TI\n",
      "91      zstd       16000               500mb_sao                 7.293450                   6.196839  RTX3050TI\n",
      "90      zstd       64000               500mb_sao                 1.885047                   1.911445  RTX3050TI\n",
      "89      zstd      256000               500mb_sao                 0.995709                   0.999845  RTX3050TI\n",
      "88      zstd     1024000               500mb_sao                 0.999881                   0.999877  RTX3050TI\n",
      "87      zstd     4096000               500mb_sao                 0.999967                   0.999948  RTX3050TI\n",
      "86      zstd    16384000               500mb_sao                 0.999982                   0.999948  RTX3050TI\n",
      "85      zstd    65536000               500mb_sao                 0.999982                   0.999947  RTX3050TI\n",
      "108     zstd        4000               500mb_xml                11.589410                  10.448296  RTX3050TI\n",
      "107     zstd       16000               500mb_xml                 3.526220                   3.046316  RTX3050TI\n",
      "106     zstd       64000               500mb_xml                -0.007650                  -0.000285  RTX3050TI\n",
      "105     zstd      256000               500mb_xml                 0.996027                   0.999858  RTX3050TI\n",
      "104     zstd     1024000               500mb_xml                 0.997776                   0.999872  RTX3050TI\n",
      "103     zstd     4096000               500mb_xml                 0.999960                   0.999863  RTX3050TI\n",
      "102     zstd    16384000               500mb_xml                 0.999971                   0.999994  RTX3050TI\n",
      "101     zstd    65536000               500mb_xml                 0.999971                   0.999902  RTX3050TI\n"
     ]
    },
    {
     "data": {
      "application/vnd.plotly.v1+json": {
       "config": {
        "plotlyServerURL": "https://plot.ly"
       },
       "data": [
        {
         "hovertemplate": "file=500mb_dickens<br>standard=snappy<br>gpu=A100<br>chunk_size=%{x}<br>compression_utilization=%{y}<extra></extra>",
         "legendgroup": "500mb_dickens",
         "line": {
          "color": "#636efa",
          "dash": "solid"
         },
         "marker": {
          "symbol": "circle"
         },
         "mode": "lines+markers",
         "name": "500mb_dickens",
         "orientation": "v",
         "showlegend": true,
         "type": "scatter",
         "x": [
          4000,
          16000,
          64000,
          256000,
          1024000,
          4096000,
          16384000,
          65536000
         ],
         "xaxis": "x4",
         "y": [
          35.93650084755344,
          39.227277208418926,
          67.09935707194927,
          90.33241866002774,
          46.605675154755794,
          11.913051658312476,
          4.9989477339930595,
          4.999148213997008
         ],
         "yaxis": "y4"
        },
        {
         "hovertemplate": "file=500mb_dickens<br>standard=snappy<br>gpu=RTX2080TI<br>chunk_size=%{x}<br>compression_utilization=%{y}<extra></extra>",
         "legendgroup": "500mb_dickens",
         "line": {
          "color": "#636efa",
          "dash": "solid"
         },
         "marker": {
          "symbol": "circle"
         },
         "mode": "lines+markers",
         "name": "500mb_dickens",
         "orientation": "v",
         "showlegend": false,
         "type": "scatter",
         "x": [
          4000,
          16000,
          64000,
          256000,
          1024000,
          4096000,
          16384000,
          65536000
         ],
         "xaxis": "x5",
         "y": [
          42.962988075823645,
          35.27354650286646,
          11.01350328204337,
          2.896453985879533,
          1,
          1,
          1,
          1
         ],
         "yaxis": "y5"
        },
        {
         "hovertemplate": "file=500mb_dickens<br>standard=snappy<br>gpu=RTX3050TI<br>chunk_size=%{x}<br>compression_utilization=%{y}<extra></extra>",
         "legendgroup": "500mb_dickens",
         "line": {
          "color": "#636efa",
          "dash": "solid"
         },
         "marker": {
          "symbol": "circle"
         },
         "mode": "lines+markers",
         "name": "500mb_dickens",
         "orientation": "v",
         "showlegend": false,
         "type": "scatter",
         "x": [
          4000,
          16000,
          64000,
          256000,
          1024000,
          4096000,
          16384000,
          65536000
         ],
         "xaxis": "x6",
         "y": [
          49.53148608637113,
          15.40027323174332,
          4.592107155622175,
          1,
          1,
          1,
          1,
          1
         ],
         "yaxis": "y6"
        },
        {
         "hovertemplate": "file=500mb_dickens<br>standard=zstd<br>gpu=A100<br>chunk_size=%{x}<br>compression_utilization=%{y}<extra></extra>",
         "legendgroup": "500mb_dickens",
         "line": {
          "color": "#636efa",
          "dash": "solid"
         },
         "marker": {
          "symbol": "circle"
         },
         "mode": "lines+markers",
         "name": "500mb_dickens",
         "orientation": "v",
         "showlegend": false,
         "type": "scatter",
         "x": [
          4000,
          16000,
          64000,
          256000,
          1024000,
          4096000,
          16384000,
          65536000
         ],
         "xaxis": "x",
         "y": [
          65.37402390933248,
          64.0161750474651,
          76.69718872065624,
          85.47364486874973,
          46.56970905246814,
          13.829252714028476,
          4.998515008356818,
          4.998373735965197
         ],
         "yaxis": "y"
        },
        {
         "hovertemplate": "file=500mb_dickens<br>standard=zstd<br>gpu=RTX2080TI<br>chunk_size=%{x}<br>compression_utilization=%{y}<extra></extra>",
         "legendgroup": "500mb_dickens",
         "line": {
          "color": "#636efa",
          "dash": "solid"
         },
         "marker": {
          "symbol": "circle"
         },
         "mode": "lines+markers",
         "name": "500mb_dickens",
         "orientation": "v",
         "showlegend": false,
         "type": "scatter",
         "x": [
          4000,
          16000,
          64000,
          256000,
          1024000,
          4096000,
          16384000,
          65536000
         ],
         "xaxis": "x2",
         "y": [
          21.24142324356418,
          14.457074466765686,
          3.9500494602697924,
          2.630331989967938,
          0.9989471410709987,
          0.9999696251756912,
          0.9999897404926678,
          0.9999900848348572
         ],
         "yaxis": "y2"
        },
        {
         "hovertemplate": "file=500mb_dickens<br>standard=zstd<br>gpu=RTX3050TI<br>chunk_size=%{x}<br>compression_utilization=%{y}<extra></extra>",
         "legendgroup": "500mb_dickens",
         "line": {
          "color": "#636efa",
          "dash": "solid"
         },
         "marker": {
          "symbol": "circle"
         },
         "mode": "lines+markers",
         "name": "500mb_dickens",
         "orientation": "v",
         "showlegend": false,
         "type": "scatter",
         "x": [
          4000,
          16000,
          64000,
          256000,
          1024000,
          4096000,
          16384000,
          65536000
         ],
         "xaxis": "x3",
         "y": [
          24.27227695102149,
          10.10630485457199,
          2.832926654006606,
          1.8021453087466068,
          0.9985239773564485,
          0.9999758329190052,
          0.999992068638917,
          0.9999920661830579
         ],
         "yaxis": "y3"
        },
        {
         "hovertemplate": "file=500mb_mozilla<br>standard=snappy<br>gpu=A100<br>chunk_size=%{x}<br>compression_utilization=%{y}<extra></extra>",
         "legendgroup": "500mb_mozilla",
         "line": {
          "color": "#EF553B",
          "dash": "solid"
         },
         "marker": {
          "symbol": "circle"
         },
         "mode": "lines+markers",
         "name": "500mb_mozilla",
         "orientation": "v",
         "showlegend": true,
         "type": "scatter",
         "x": [
          4000,
          16000,
          64000,
          256000,
          1024000,
          4096000,
          16384000,
          65536000
         ],
         "xaxis": "x4",
         "y": [
          36.20588306573908,
          35.86036322613363,
          41.0776943974636,
          63.97596086510606,
          77.6540571341385,
          51.05878037847065,
          13.234155756138879,
          5.0019336969209505
         ],
         "yaxis": "y4"
        },
        {
         "hovertemplate": "file=500mb_mozilla<br>standard=snappy<br>gpu=RTX2080TI<br>chunk_size=%{x}<br>compression_utilization=%{y}<extra></extra>",
         "legendgroup": "500mb_mozilla",
         "line": {
          "color": "#EF553B",
          "dash": "solid"
         },
         "marker": {
          "symbol": "circle"
         },
         "mode": "lines+markers",
         "name": "500mb_mozilla",
         "orientation": "v",
         "showlegend": false,
         "type": "scatter",
         "x": [
          4000,
          16000,
          64000,
          256000,
          1024000,
          4096000,
          16384000,
          65536000
         ],
         "xaxis": "x5",
         "y": [
          52.14866174266943,
          45.164963329243214,
          33.01613179722545,
          10.480352299266944,
          3.073789244641145,
          1,
          1,
          1
         ],
         "yaxis": "y5"
        },
        {
         "hovertemplate": "file=500mb_mozilla<br>standard=snappy<br>gpu=RTX3050TI<br>chunk_size=%{x}<br>compression_utilization=%{y}<extra></extra>",
         "legendgroup": "500mb_mozilla",
         "line": {
          "color": "#EF553B",
          "dash": "solid"
         },
         "marker": {
          "symbol": "circle"
         },
         "mode": "lines+markers",
         "name": "500mb_mozilla",
         "orientation": "v",
         "showlegend": false,
         "type": "scatter",
         "x": [
          4000,
          16000,
          64000,
          256000,
          1024000,
          4096000,
          16384000,
          65536000
         ],
         "xaxis": "x6",
         "y": [
          72.26791888763209,
          46.58445252234841,
          14.342938826264161,
          3.962944525490785,
          1,
          1,
          1,
          1
         ],
         "yaxis": "y6"
        },
        {
         "hovertemplate": "file=500mb_mozilla<br>standard=zstd<br>gpu=A100<br>chunk_size=%{x}<br>compression_utilization=%{y}<extra></extra>",
         "legendgroup": "500mb_mozilla",
         "line": {
          "color": "#EF553B",
          "dash": "solid"
         },
         "marker": {
          "symbol": "circle"
         },
         "mode": "lines+markers",
         "name": "500mb_mozilla",
         "orientation": "v",
         "showlegend": false,
         "type": "scatter",
         "x": [
          4000,
          16000,
          64000,
          256000,
          1024000,
          4096000,
          16384000
         ],
         "xaxis": "x",
         "y": [
          67.65349448765141,
          63.39721967486812,
          57.75522234663565,
          59.64852712881267,
          79.35429745385204,
          56.08805547141017,
          15.972832591055907
         ],
         "yaxis": "y"
        },
        {
         "hovertemplate": "file=500mb_mozilla<br>standard=zstd<br>gpu=RTX2080TI<br>chunk_size=%{x}<br>compression_utilization=%{y}<extra></extra>",
         "legendgroup": "500mb_mozilla",
         "line": {
          "color": "#EF553B",
          "dash": "solid"
         },
         "marker": {
          "symbol": "circle"
         },
         "mode": "lines+markers",
         "name": "500mb_mozilla",
         "orientation": "v",
         "showlegend": false,
         "type": "scatter",
         "x": [
          4000,
          16000,
          64000,
          256000,
          1024000,
          4096000,
          16384000
         ],
         "xaxis": "x2",
         "y": [
          22.607106603486024,
          22.780615963105575,
          16.941879287443555,
          10.715399452153324,
          4.017232520184566,
          1.0772946811598278,
          0.999987326913543
         ],
         "yaxis": "y2"
        },
        {
         "hovertemplate": "file=500mb_mozilla<br>standard=zstd<br>gpu=RTX3050TI<br>chunk_size=%{x}<br>compression_utilization=%{y}<extra></extra>",
         "legendgroup": "500mb_mozilla",
         "line": {
          "color": "#EF553B",
          "dash": "solid"
         },
         "marker": {
          "symbol": "circle"
         },
         "mode": "lines+markers",
         "name": "500mb_mozilla",
         "orientation": "v",
         "showlegend": false,
         "type": "scatter",
         "x": [
          4000,
          16000,
          64000,
          256000,
          1024000,
          4096000,
          16384000
         ],
         "xaxis": "x3",
         "y": [
          32.33881452153298,
          28.103107709637044,
          10.545469786243121,
          4.603638373427721,
          1.456381428611008,
          0.9999688108942711,
          0.9999916142684904
         ],
         "yaxis": "y3"
        },
        {
         "hovertemplate": "file=500mb_mr<br>standard=snappy<br>gpu=A100<br>chunk_size=%{x}<br>compression_utilization=%{y}<extra></extra>",
         "legendgroup": "500mb_mr",
         "line": {
          "color": "#00cc96",
          "dash": "solid"
         },
         "marker": {
          "symbol": "circle"
         },
         "mode": "lines+markers",
         "name": "500mb_mr",
         "orientation": "v",
         "showlegend": true,
         "type": "scatter",
         "x": [
          4000,
          16000,
          64000,
          256000,
          1024000,
          4096000,
          16384000,
          65536000
         ],
         "xaxis": "x4",
         "y": [
          36.285709438806265,
          42.1176479065699,
          70.58824012108171,
          75.14926667499634,
          43.534496409220566,
          11.34721536657528,
          5.000776187143457,
          5.000501028214641
         ],
         "yaxis": "y4"
        },
        {
         "hovertemplate": "file=500mb_mr<br>standard=snappy<br>gpu=RTX2080TI<br>chunk_size=%{x}<br>compression_utilization=%{y}<extra></extra>",
         "legendgroup": "500mb_mr",
         "line": {
          "color": "#00cc96",
          "dash": "solid"
         },
         "marker": {
          "symbol": "circle"
         },
         "mode": "lines+markers",
         "name": "500mb_mr",
         "orientation": "v",
         "showlegend": false,
         "type": "scatter",
         "x": [
          4000,
          16000,
          64000,
          256000,
          1024000,
          4096000,
          16384000,
          65536000
         ],
         "xaxis": "x5",
         "y": [
          35.743536396447546,
          24.31535702423659,
          8.073895109486173,
          2.2194686833952524,
          1,
          1,
          1,
          1
         ],
         "yaxis": "y5"
        },
        {
         "hovertemplate": "file=500mb_mr<br>standard=snappy<br>gpu=RTX3050TI<br>chunk_size=%{x}<br>compression_utilization=%{y}<extra></extra>",
         "legendgroup": "500mb_mr",
         "line": {
          "color": "#00cc96",
          "dash": "solid"
         },
         "marker": {
          "symbol": "circle"
         },
         "mode": "lines+markers",
         "name": "500mb_mr",
         "orientation": "v",
         "showlegend": false,
         "type": "scatter",
         "x": [
          4000,
          16000,
          64000,
          256000,
          1024000,
          4096000,
          16384000,
          65536000
         ],
         "xaxis": "x6",
         "y": [
          5.003049278735964,
          11.533969727272087,
          3.333830921845881,
          1,
          1,
          1,
          1,
          1
         ],
         "yaxis": "y6"
        },
        {
         "hovertemplate": "file=500mb_mr<br>standard=zstd<br>gpu=A100<br>chunk_size=%{x}<br>compression_utilization=%{y}<extra></extra>",
         "legendgroup": "500mb_mr",
         "line": {
          "color": "#00cc96",
          "dash": "solid"
         },
         "marker": {
          "symbol": "circle"
         },
         "mode": "lines+markers",
         "name": "500mb_mr",
         "orientation": "v",
         "showlegend": false,
         "type": "scatter",
         "x": [
          4000,
          16000,
          64000,
          256000,
          1024000,
          4096000,
          16384000,
          65536000
         ],
         "xaxis": "x",
         "y": [
          66.68231801057769,
          63.92013712620026,
          75.14641171304183,
          80.1980472394098,
          42.984328509092336,
          13.020860125456508,
          4.999334342772211,
          4.999139303711161
         ],
         "yaxis": "y"
        },
        {
         "hovertemplate": "file=500mb_mr<br>standard=zstd<br>gpu=RTX2080TI<br>chunk_size=%{x}<br>compression_utilization=%{y}<extra></extra>",
         "legendgroup": "500mb_mr",
         "line": {
          "color": "#00cc96",
          "dash": "solid"
         },
         "marker": {
          "symbol": "circle"
         },
         "mode": "lines+markers",
         "name": "500mb_mr",
         "orientation": "v",
         "showlegend": false,
         "type": "scatter",
         "x": [
          4000,
          16000,
          64000,
          256000,
          1024000,
          4096000,
          16384000,
          65536000
         ],
         "xaxis": "x2",
         "y": [
          19.462786392623393,
          13.445767565725001,
          3.872089991538889,
          2.653434541915371,
          0.9984449978552306,
          0.9999775211246433,
          0.9999853997073123,
          0.9999856204169771
         ],
         "yaxis": "y2"
        },
        {
         "hovertemplate": "file=500mb_mr<br>standard=zstd<br>gpu=RTX3050TI<br>chunk_size=%{x}<br>compression_utilization=%{y}<extra></extra>",
         "legendgroup": "500mb_mr",
         "line": {
          "color": "#00cc96",
          "dash": "solid"
         },
         "marker": {
          "symbol": "circle"
         },
         "mode": "lines+markers",
         "name": "500mb_mr",
         "orientation": "v",
         "showlegend": false,
         "type": "scatter",
         "x": [
          4000,
          16000,
          64000,
          256000,
          1024000,
          4096000,
          16384000,
          65536000
         ],
         "xaxis": "x3",
         "y": [
          19.343935721515408,
          7.643332784365538,
          2.4437319997406717,
          1.6207553806805675,
          0.9998941122767159,
          0.9999663000661922,
          0.9999881429477484,
          0.999987931562468
         ],
         "yaxis": "y3"
        },
        {
         "hovertemplate": "file=500mb_nci<br>standard=snappy<br>gpu=A100<br>chunk_size=%{x}<br>compression_utilization=%{y}<extra></extra>",
         "legendgroup": "500mb_nci",
         "line": {
          "color": "#ab63fa",
          "dash": "solid"
         },
         "marker": {
          "symbol": "circle"
         },
         "mode": "lines+markers",
         "name": "500mb_nci",
         "orientation": "v",
         "showlegend": true,
         "type": "scatter",
         "x": [
          4000,
          16000,
          64000,
          256000,
          1024000,
          4096000,
          16384000,
          65536000
         ],
         "xaxis": "x4",
         "y": [
          36.459508017248496,
          38.290323683658826,
          45.60937574218434,
          69.49999824074888,
          81.96739270320722,
          36.52692692720086,
          10.190576351988398,
          5.004626553582499
         ],
         "yaxis": "y4"
        },
        {
         "hovertemplate": "file=500mb_nci<br>standard=snappy<br>gpu=RTX2080TI<br>chunk_size=%{x}<br>compression_utilization=%{y}<extra></extra>",
         "legendgroup": "500mb_nci",
         "line": {
          "color": "#ab63fa",
          "dash": "solid"
         },
         "marker": {
          "symbol": "circle"
         },
         "mode": "lines+markers",
         "name": "500mb_nci",
         "orientation": "v",
         "showlegend": false,
         "type": "scatter",
         "x": [
          4000,
          16000,
          64000,
          256000,
          1024000,
          4096000,
          16384000,
          65536000
         ],
         "xaxis": "x5",
         "y": [
          51.1791126066814,
          43.560913297209105,
          27.887679930496894,
          9.298388579099385,
          2.6800037996559256,
          1,
          1,
          1
         ],
         "yaxis": "y5"
        },
        {
         "hovertemplate": "file=500mb_nci<br>standard=snappy<br>gpu=RTX3050TI<br>chunk_size=%{x}<br>compression_utilization=%{y}<extra></extra>",
         "legendgroup": "500mb_nci",
         "line": {
          "color": "#ab63fa",
          "dash": "solid"
         },
         "marker": {
          "symbol": "circle"
         },
         "mode": "lines+markers",
         "name": "500mb_nci",
         "orientation": "v",
         "showlegend": false,
         "type": "scatter",
         "x": [
          4000,
          16000,
          64000,
          256000,
          1024000,
          4096000,
          16384000,
          65536000
         ],
         "xaxis": "x6",
         "y": [
          64.90142265354085,
          34.99035088274603,
          11.125040419188494,
          3.357925395055264,
          1,
          1,
          1,
          1
         ],
         "yaxis": "y6"
        },
        {
         "hovertemplate": "file=500mb_nci<br>standard=zstd<br>gpu=A100<br>chunk_size=%{x}<br>compression_utilization=%{y}<extra></extra>",
         "legendgroup": "500mb_nci",
         "line": {
          "color": "#ab63fa",
          "dash": "solid"
         },
         "marker": {
          "symbol": "circle"
         },
         "mode": "lines+markers",
         "name": "500mb_nci",
         "orientation": "v",
         "showlegend": false,
         "type": "scatter",
         "x": [
          4000,
          16000,
          64000,
          256000,
          1024000,
          4096000,
          16384000
         ],
         "xaxis": "x",
         "y": [
          69.8182789336931,
          64.41692253448883,
          63.40379310926218,
          72.46300456009821,
          88.06214822533718,
          38.32055499300546,
          11.183531676290995
         ],
         "yaxis": "y"
        },
        {
         "hovertemplate": "file=500mb_nci<br>standard=zstd<br>gpu=RTX2080TI<br>chunk_size=%{x}<br>compression_utilization=%{y}<extra></extra>",
         "legendgroup": "500mb_nci",
         "line": {
          "color": "#ab63fa",
          "dash": "solid"
         },
         "marker": {
          "symbol": "circle"
         },
         "mode": "lines+markers",
         "name": "500mb_nci",
         "orientation": "v",
         "showlegend": false,
         "type": "scatter",
         "x": [
          4000,
          16000,
          64000,
          256000,
          1024000,
          4096000,
          16384000
         ],
         "xaxis": "x2",
         "y": [
          21.565394958935023,
          24.790152217421106,
          16.002553874838405,
          7.73908324246314,
          2.217538368138006,
          0.9999298203845376,
          0.9999815385828222
         ],
         "yaxis": "y2"
        },
        {
         "hovertemplate": "file=500mb_nci<br>standard=zstd<br>gpu=RTX3050TI<br>chunk_size=%{x}<br>compression_utilization=%{y}<extra></extra>",
         "legendgroup": "500mb_nci",
         "line": {
          "color": "#ab63fa",
          "dash": "solid"
         },
         "marker": {
          "symbol": "circle"
         },
         "mode": "lines+markers",
         "name": "500mb_nci",
         "orientation": "v",
         "showlegend": false,
         "type": "scatter",
         "x": [
          4000,
          16000,
          64000,
          256000,
          1024000,
          4096000,
          16384000
         ],
         "xaxis": "x3",
         "y": [
          26.79558305190026,
          22.673202094076814,
          7.447340348799523,
          3.1851705206855234,
          0.9938495849138532,
          0.9999585674230446,
          0.9999888847246279
         ],
         "yaxis": "y3"
        },
        {
         "hovertemplate": "file=500mb_samba<br>standard=snappy<br>gpu=A100<br>chunk_size=%{x}<br>compression_utilization=%{y}<extra></extra>",
         "legendgroup": "500mb_samba",
         "line": {
          "color": "#FFA15A",
          "dash": "solid"
         },
         "marker": {
          "symbol": "circle"
         },
         "mode": "lines+markers",
         "name": "500mb_samba",
         "orientation": "v",
         "showlegend": true,
         "type": "scatter",
         "x": [
          4000,
          16000,
          64000,
          256000,
          1024000,
          4096000,
          16384000,
          65536000
         ],
         "xaxis": "x4",
         "y": [
          35.84989678589034,
          39.002776432875734,
          46.386365237596756,
          63.25663659942687,
          67.19811109296715,
          20.349381299399532,
          6.6414971956022875,
          5.00236882381403
         ],
         "yaxis": "y4"
        },
        {
         "hovertemplate": "file=500mb_samba<br>standard=snappy<br>gpu=RTX2080TI<br>chunk_size=%{x}<br>compression_utilization=%{y}<extra></extra>",
         "legendgroup": "500mb_samba",
         "line": {
          "color": "#FFA15A",
          "dash": "solid"
         },
         "marker": {
          "symbol": "circle"
         },
         "mode": "lines+markers",
         "name": "500mb_samba",
         "orientation": "v",
         "showlegend": false,
         "type": "scatter",
         "x": [
          4000,
          16000,
          64000,
          256000,
          1024000,
          4096000,
          16384000,
          65536000
         ],
         "xaxis": "x5",
         "y": [
          46.728618173056354,
          32.47396953517445,
          12.980408850146482,
          56.24208760115674,
          1.4467604888749328,
          1,
          1,
          1
         ],
         "yaxis": "y5"
        },
        {
         "hovertemplate": "file=500mb_samba<br>standard=snappy<br>gpu=RTX3050TI<br>chunk_size=%{x}<br>compression_utilization=%{y}<extra></extra>",
         "legendgroup": "500mb_samba",
         "line": {
          "color": "#FFA15A",
          "dash": "solid"
         },
         "marker": {
          "symbol": "circle"
         },
         "mode": "lines+markers",
         "name": "500mb_samba",
         "orientation": "v",
         "showlegend": false,
         "type": "scatter",
         "x": [
          4000,
          16000,
          64000,
          256000,
          1024000,
          4096000,
          16384000,
          65536000
         ],
         "xaxis": "x6",
         "y": [
          46.39265802217203,
          17.953285510703722,
          5.145217339809933,
          1.522123930671996,
          0,
          1,
          0.9998813754027869,
          1
         ],
         "yaxis": "y6"
        },
        {
         "hovertemplate": "file=500mb_samba<br>standard=zstd<br>gpu=A100<br>chunk_size=%{x}<br>compression_utilization=%{y}<extra></extra>",
         "legendgroup": "500mb_samba",
         "line": {
          "color": "#FFA15A",
          "dash": "solid"
         },
         "marker": {
          "symbol": "circle"
         },
         "mode": "lines+markers",
         "name": "500mb_samba",
         "orientation": "v",
         "showlegend": false,
         "type": "scatter",
         "x": [
          4000,
          16000,
          64000,
          256000,
          1024000,
          4096000,
          16384000
         ],
         "xaxis": "x",
         "y": [
          67.64522338291785,
          62.051231219458245,
          61.10908425869536,
          67.0023916948447,
          73.70684358801253,
          22.63960437332543,
          6.933039877470099
         ],
         "yaxis": "y"
        },
        {
         "hovertemplate": "file=500mb_samba<br>standard=zstd<br>gpu=RTX2080TI<br>chunk_size=%{x}<br>compression_utilization=%{y}<extra></extra>",
         "legendgroup": "500mb_samba",
         "line": {
          "color": "#FFA15A",
          "dash": "solid"
         },
         "marker": {
          "symbol": "circle"
         },
         "mode": "lines+markers",
         "name": "500mb_samba",
         "orientation": "v",
         "showlegend": false,
         "type": "scatter",
         "x": [
          4000,
          16000,
          64000,
          256000,
          1024000,
          4096000,
          16384000
         ],
         "xaxis": "x2",
         "y": [
          19.71560006224547,
          18.759566565730687,
          8.029262731919626,
          4.799199519655387,
          1.7897251344348892,
          0.999946318452267,
          0.9999851278886969
         ],
         "yaxis": "y2"
        },
        {
         "hovertemplate": "file=500mb_samba<br>standard=zstd<br>gpu=RTX3050TI<br>chunk_size=%{x}<br>compression_utilization=%{y}<extra></extra>",
         "legendgroup": "500mb_samba",
         "line": {
          "color": "#FFA15A",
          "dash": "solid"
         },
         "marker": {
          "symbol": "circle"
         },
         "mode": "lines+markers",
         "name": "500mb_samba",
         "orientation": "v",
         "showlegend": false,
         "type": "scatter",
         "x": [
          4000,
          16000,
          64000,
          256000,
          1024000,
          4096000,
          16384000
         ],
         "xaxis": "x3",
         "y": [
          24.20372759097004,
          13.05462366943733,
          -0.007794029268088384,
          -0.0019741383706501406,
          0.9979526597241472,
          0.9999659764757325,
          0.9999898068012398
         ],
         "yaxis": "y3"
        },
        {
         "hovertemplate": "file=500mb_sao<br>standard=snappy<br>gpu=A100<br>chunk_size=%{x}<br>compression_utilization=%{y}<extra></extra>",
         "legendgroup": "500mb_sao",
         "line": {
          "color": "#19d3f3",
          "dash": "solid"
         },
         "marker": {
          "symbol": "circle"
         },
         "mode": "lines+markers",
         "name": "500mb_sao",
         "orientation": "v",
         "showlegend": true,
         "type": "scatter",
         "x": [
          4000,
          16000,
          64000,
          256000,
          1024000,
          4096000,
          16384000,
          65536000
         ],
         "xaxis": "x4",
         "y": [
          35.791679861067124,
          49.46636803245193,
          75.25000590275647,
          89.44604108561407,
          33.110684847437604,
          8.885368422727126,
          4.998638870220553,
          4.998702023154808
         ],
         "yaxis": "y4"
        },
        {
         "hovertemplate": "file=500mb_sao<br>standard=snappy<br>gpu=RTX2080TI<br>chunk_size=%{x}<br>compression_utilization=%{y}<extra></extra>",
         "legendgroup": "500mb_sao",
         "line": {
          "color": "#19d3f3",
          "dash": "solid"
         },
         "marker": {
          "symbol": "circle"
         },
         "mode": "lines+markers",
         "name": "500mb_sao",
         "orientation": "v",
         "showlegend": false,
         "type": "scatter",
         "x": [
          4000,
          16000,
          64000,
          256000,
          1024000,
          4096000,
          16384000,
          65536000
         ],
         "xaxis": "x5",
         "y": [
          36.09897770280182,
          25.315386619158872,
          7.401203368416967,
          1.9325984462674686,
          1,
          1,
          1,
          1
         ],
         "yaxis": "y5"
        },
        {
         "hovertemplate": "file=500mb_sao<br>standard=snappy<br>gpu=RTX3050TI<br>chunk_size=%{x}<br>compression_utilization=%{y}<extra></extra>",
         "legendgroup": "500mb_sao",
         "line": {
          "color": "#19d3f3",
          "dash": "solid"
         },
         "marker": {
          "symbol": "circle"
         },
         "mode": "lines+markers",
         "name": "500mb_sao",
         "orientation": "v",
         "showlegend": false,
         "type": "scatter",
         "x": [
          4000,
          16000,
          64000,
          256000,
          1024000,
          4096000,
          16384000,
          65536000
         ],
         "xaxis": "x6",
         "y": [
          17.289309474869277,
          10.333840383053015,
          2.807692950961996,
          1,
          1,
          0,
          1,
          1
         ],
         "yaxis": "y6"
        },
        {
         "hovertemplate": "file=500mb_sao<br>standard=zstd<br>gpu=A100<br>chunk_size=%{x}<br>compression_utilization=%{y}<extra></extra>",
         "legendgroup": "500mb_sao",
         "line": {
          "color": "#19d3f3",
          "dash": "solid"
         },
         "marker": {
          "symbol": "circle"
         },
         "mode": "lines+markers",
         "name": "500mb_sao",
         "orientation": "v",
         "showlegend": false,
         "type": "scatter",
         "x": [
          4000,
          16000,
          64000,
          256000,
          1024000,
          4096000,
          16384000,
          65536000
         ],
         "xaxis": "x",
         "y": [
          65.20341138873214,
          65.36766601128824,
          77.88095562002623,
          86.73480199022592,
          34.775018631774984,
          8.91652746270126,
          4.996371542095497,
          4.998036212461393
         ],
         "yaxis": "y"
        },
        {
         "hovertemplate": "file=500mb_sao<br>standard=zstd<br>gpu=RTX2080TI<br>chunk_size=%{x}<br>compression_utilization=%{y}<extra></extra>",
         "legendgroup": "500mb_sao",
         "line": {
          "color": "#19d3f3",
          "dash": "solid"
         },
         "marker": {
          "symbol": "circle"
         },
         "mode": "lines+markers",
         "name": "500mb_sao",
         "orientation": "v",
         "showlegend": false,
         "type": "scatter",
         "x": [
          4000,
          16000,
          64000,
          256000,
          1024000,
          4096000,
          16384000,
          65536000
         ],
         "xaxis": "x2",
         "y": [
          20.3380104200845,
          11.429922312351778,
          3.8142194899918618,
          2.155311414375969,
          0.9998408544154503,
          0.9999533398766383,
          0.9999768716359086,
          0.9999784025889055
         ],
         "yaxis": "y2"
        },
        {
         "hovertemplate": "file=500mb_sao<br>standard=zstd<br>gpu=RTX3050TI<br>chunk_size=%{x}<br>compression_utilization=%{y}<extra></extra>",
         "legendgroup": "500mb_sao",
         "line": {
          "color": "#19d3f3",
          "dash": "solid"
         },
         "marker": {
          "symbol": "circle"
         },
         "mode": "lines+markers",
         "name": "500mb_sao",
         "orientation": "v",
         "showlegend": false,
         "type": "scatter",
         "x": [
          4000,
          16000,
          64000,
          256000,
          1024000,
          4096000,
          16384000,
          65536000
         ],
         "xaxis": "x3",
         "y": [
          18.45159958537282,
          7.293450223596649,
          1.8850470463345292,
          0.9957089630761831,
          0.9998805679057117,
          0.999967153250494,
          0.9999820859842536,
          0.9999821006171818
         ],
         "yaxis": "y3"
        },
        {
         "hovertemplate": "file=500mb_xml<br>standard=snappy<br>gpu=A100<br>chunk_size=%{x}<br>compression_utilization=%{y}<extra></extra>",
         "legendgroup": "500mb_xml",
         "line": {
          "color": "#FF6692",
          "dash": "solid"
         },
         "marker": {
          "symbol": "circle"
         },
         "mode": "lines+markers",
         "name": "500mb_xml",
         "orientation": "v",
         "showlegend": true,
         "type": "scatter",
         "x": [
          4000,
          16000,
          64000,
          256000,
          1024000,
          4096000,
          16384000,
          65536000
         ],
         "xaxis": "x4",
         "y": [
          38.874997499992574,
          54.563660015744375,
          69.742422410465,
          49.26016131997909,
          17.417127061063443,
          7.537600012160019,
          4.997012715714477,
          5.001005665449749
         ],
         "yaxis": "y4"
        },
        {
         "hovertemplate": "file=500mb_xml<br>standard=snappy<br>gpu=RTX2080TI<br>chunk_size=%{x}<br>compression_utilization=%{y}<extra></extra>",
         "legendgroup": "500mb_xml",
         "line": {
          "color": "#FF6692",
          "dash": "solid"
         },
         "marker": {
          "symbol": "circle"
         },
         "mode": "lines+markers",
         "name": "500mb_xml",
         "orientation": "v",
         "showlegend": false,
         "type": "scatter",
         "x": [
          4000,
          16000,
          64000,
          256000,
          1024000,
          4096000,
          16384000,
          65536000
         ],
         "xaxis": "x5",
         "y": [
          13.593853855538182,
          8.714293109584421,
          3.1892889328637724,
          1.2980760506412827,
          1,
          1,
          1,
          1
         ],
         "yaxis": "y5"
        },
        {
         "hovertemplate": "file=500mb_xml<br>standard=snappy<br>gpu=RTX3050TI<br>chunk_size=%{x}<br>compression_utilization=%{y}<extra></extra>",
         "legendgroup": "500mb_xml",
         "line": {
          "color": "#FF6692",
          "dash": "solid"
         },
         "marker": {
          "symbol": "circle"
         },
         "mode": "lines+markers",
         "name": "500mb_xml",
         "orientation": "v",
         "showlegend": false,
         "type": "scatter",
         "x": [
          4000,
          16000,
          64000,
          256000,
          1024000,
          4096000,
          16384000,
          65536000
         ],
         "xaxis": "x6",
         "y": [
          1,
          3.511926730936275,
          1.3138496091279692,
          1,
          1,
          1,
          1,
          1
         ],
         "yaxis": "y6"
        },
        {
         "hovertemplate": "file=500mb_xml<br>standard=zstd<br>gpu=A100<br>chunk_size=%{x}<br>compression_utilization=%{y}<extra></extra>",
         "legendgroup": "500mb_xml",
         "line": {
          "color": "#FF6692",
          "dash": "solid"
         },
         "marker": {
          "symbol": "circle"
         },
         "mode": "lines+markers",
         "name": "500mb_xml",
         "orientation": "v",
         "showlegend": false,
         "type": "scatter",
         "x": [
          4000,
          16000,
          64000,
          256000,
          1024000,
          4096000,
          16384000,
          65536000
         ],
         "xaxis": "x",
         "y": [
          65.05028730882287,
          65.32837394302037,
          74.88251128603088,
          65.1213649584455,
          21.532600637327103,
          6.919095680241324,
          4.99700452690193,
          4.994184223155086
         ],
         "yaxis": "y"
        },
        {
         "hovertemplate": "file=500mb_xml<br>standard=zstd<br>gpu=RTX2080TI<br>chunk_size=%{x}<br>compression_utilization=%{y}<extra></extra>",
         "legendgroup": "500mb_xml",
         "line": {
          "color": "#FF6692",
          "dash": "solid"
         },
         "marker": {
          "symbol": "circle"
         },
         "mode": "lines+markers",
         "name": "500mb_xml",
         "orientation": "v",
         "showlegend": false,
         "type": "scatter",
         "x": [
          4000,
          16000,
          64000,
          256000,
          1024000,
          4096000,
          16384000,
          65536000
         ],
         "xaxis": "x2",
         "y": [
          17.346474471710387,
          7.185494440125384,
          2.1547011658118493,
          1.4274984648114153,
          0.9998217365387,
          0.9999281914051188,
          0.9999509024272952,
          0.9999519372740409
         ],
         "yaxis": "y2"
        },
        {
         "hovertemplate": "file=500mb_xml<br>standard=zstd<br>gpu=RTX3050TI<br>chunk_size=%{x}<br>compression_utilization=%{y}<extra></extra>",
         "legendgroup": "500mb_xml",
         "line": {
          "color": "#FF6692",
          "dash": "solid"
         },
         "marker": {
          "symbol": "circle"
         },
         "mode": "lines+markers",
         "name": "500mb_xml",
         "orientation": "v",
         "showlegend": false,
         "type": "scatter",
         "x": [
          4000,
          16000,
          64000,
          256000,
          1024000,
          4096000,
          16384000,
          65536000
         ],
         "xaxis": "x3",
         "y": [
          11.589409900976992,
          3.5262203989872534,
          -0.007650436762812345,
          0.9960269163559682,
          0.9977757682308293,
          0.9999602332305721,
          0.9999714855346542,
          0.9999714776219573
         ],
         "yaxis": "y3"
        },
        {
         "hovertemplate": "file=500mb_silesia.zip<br>standard=snappy<br>gpu=RTX2080TI<br>chunk_size=%{x}<br>compression_utilization=%{y}<extra></extra>",
         "legendgroup": "500mb_silesia.zip",
         "line": {
          "color": "#B6E880",
          "dash": "solid"
         },
         "marker": {
          "symbol": "circle"
         },
         "mode": "lines+markers",
         "name": "500mb_silesia.zip",
         "orientation": "v",
         "showlegend": true,
         "type": "scatter",
         "x": [
          4000,
          16000,
          64000,
          256000,
          1024000,
          4096000,
          16384000,
          65536000
         ],
         "xaxis": "x5",
         "y": [
          25.658981464501764,
          12.005479587220865,
          6.28939662250111,
          3.914817112426009,
          2.565218934694376,
          1,
          1,
          1
         ],
         "yaxis": "y5"
        },
        {
         "hovertemplate": "file=500mb_silesia.zip<br>standard=zstd<br>gpu=RTX2080TI<br>chunk_size=%{x}<br>compression_utilization=%{y}<extra></extra>",
         "legendgroup": "500mb_silesia.zip",
         "line": {
          "color": "#B6E880",
          "dash": "solid"
         },
         "marker": {
          "symbol": "circle"
         },
         "mode": "lines+markers",
         "name": "500mb_silesia.zip",
         "orientation": "v",
         "showlegend": false,
         "type": "scatter",
         "x": [
          4000,
          16000,
          64000
         ],
         "xaxis": "x2",
         "y": [
          8.21787268319446,
          10.095915019379095,
          4.481744791606007
         ],
         "yaxis": "y2"
        },
        {
         "hovertemplate": "file=500mb_lineitem.parquet<br>standard=snappy<br>gpu=RTX3050TI<br>chunk_size=%{x}<br>compression_utilization=%{y}<extra></extra>",
         "legendgroup": "500mb_lineitem.parquet",
         "line": {
          "color": "#FF97FF",
          "dash": "solid"
         },
         "marker": {
          "symbol": "circle"
         },
         "mode": "lines+markers",
         "name": "500mb_lineitem.parquet",
         "orientation": "v",
         "showlegend": true,
         "type": "scatter",
         "x": [
          4000,
          16000,
          64000,
          256000,
          1024000,
          4096000,
          16384000,
          65536000
         ],
         "xaxis": "x6",
         "y": [
          74.19711948023831,
          75.4434349722583,
          69.10374312075021,
          50.032356832717056,
          14.842983623896647,
          4.480037587033177,
          2.6353771665019163,
          1
         ],
         "yaxis": "y6"
        }
       ],
       "layout": {
        "annotations": [
         {
          "font": {},
          "showarrow": false,
          "text": "gpu=A100",
          "x": 0.14666666666666667,
          "xanchor": "center",
          "xref": "paper",
          "y": 1,
          "yanchor": "bottom",
          "yref": "paper"
         },
         {
          "font": {},
          "showarrow": false,
          "text": "gpu=RTX2080TI",
          "x": 0.49,
          "xanchor": "center",
          "xref": "paper",
          "y": 1,
          "yanchor": "bottom",
          "yref": "paper"
         },
         {
          "font": {},
          "showarrow": false,
          "text": "gpu=RTX3050TI",
          "x": 0.8333333333333333,
          "xanchor": "center",
          "xref": "paper",
          "y": 1,
          "yanchor": "bottom",
          "yref": "paper"
         },
         {
          "font": {},
          "showarrow": false,
          "text": "standard=zstd",
          "textangle": 90,
          "x": 0.98,
          "xanchor": "left",
          "xref": "paper",
          "y": 0.2425,
          "yanchor": "middle",
          "yref": "paper"
         },
         {
          "font": {},
          "showarrow": false,
          "text": "standard=snappy",
          "textangle": 90,
          "x": 0.98,
          "xanchor": "left",
          "xref": "paper",
          "y": 0.7575000000000001,
          "yanchor": "middle",
          "yref": "paper"
         }
        ],
        "legend": {
         "title": {
          "text": "file"
         },
         "tracegroupgap": 0
        },
        "template": {
         "data": {
          "bar": [
           {
            "error_x": {
             "color": "#2a3f5f"
            },
            "error_y": {
             "color": "#2a3f5f"
            },
            "marker": {
             "line": {
              "color": "#E5ECF6",
              "width": 0.5
             },
             "pattern": {
              "fillmode": "overlay",
              "size": 10,
              "solidity": 0.2
             }
            },
            "type": "bar"
           }
          ],
          "barpolar": [
           {
            "marker": {
             "line": {
              "color": "#E5ECF6",
              "width": 0.5
             },
             "pattern": {
              "fillmode": "overlay",
              "size": 10,
              "solidity": 0.2
             }
            },
            "type": "barpolar"
           }
          ],
          "carpet": [
           {
            "aaxis": {
             "endlinecolor": "#2a3f5f",
             "gridcolor": "white",
             "linecolor": "white",
             "minorgridcolor": "white",
             "startlinecolor": "#2a3f5f"
            },
            "baxis": {
             "endlinecolor": "#2a3f5f",
             "gridcolor": "white",
             "linecolor": "white",
             "minorgridcolor": "white",
             "startlinecolor": "#2a3f5f"
            },
            "type": "carpet"
           }
          ],
          "choropleth": [
           {
            "colorbar": {
             "outlinewidth": 0,
             "ticks": ""
            },
            "type": "choropleth"
           }
          ],
          "contour": [
           {
            "colorbar": {
             "outlinewidth": 0,
             "ticks": ""
            },
            "colorscale": [
             [
              0,
              "#0d0887"
             ],
             [
              0.1111111111111111,
              "#46039f"
             ],
             [
              0.2222222222222222,
              "#7201a8"
             ],
             [
              0.3333333333333333,
              "#9c179e"
             ],
             [
              0.4444444444444444,
              "#bd3786"
             ],
             [
              0.5555555555555556,
              "#d8576b"
             ],
             [
              0.6666666666666666,
              "#ed7953"
             ],
             [
              0.7777777777777778,
              "#fb9f3a"
             ],
             [
              0.8888888888888888,
              "#fdca26"
             ],
             [
              1,
              "#f0f921"
             ]
            ],
            "type": "contour"
           }
          ],
          "contourcarpet": [
           {
            "colorbar": {
             "outlinewidth": 0,
             "ticks": ""
            },
            "type": "contourcarpet"
           }
          ],
          "heatmap": [
           {
            "colorbar": {
             "outlinewidth": 0,
             "ticks": ""
            },
            "colorscale": [
             [
              0,
              "#0d0887"
             ],
             [
              0.1111111111111111,
              "#46039f"
             ],
             [
              0.2222222222222222,
              "#7201a8"
             ],
             [
              0.3333333333333333,
              "#9c179e"
             ],
             [
              0.4444444444444444,
              "#bd3786"
             ],
             [
              0.5555555555555556,
              "#d8576b"
             ],
             [
              0.6666666666666666,
              "#ed7953"
             ],
             [
              0.7777777777777778,
              "#fb9f3a"
             ],
             [
              0.8888888888888888,
              "#fdca26"
             ],
             [
              1,
              "#f0f921"
             ]
            ],
            "type": "heatmap"
           }
          ],
          "heatmapgl": [
           {
            "colorbar": {
             "outlinewidth": 0,
             "ticks": ""
            },
            "colorscale": [
             [
              0,
              "#0d0887"
             ],
             [
              0.1111111111111111,
              "#46039f"
             ],
             [
              0.2222222222222222,
              "#7201a8"
             ],
             [
              0.3333333333333333,
              "#9c179e"
             ],
             [
              0.4444444444444444,
              "#bd3786"
             ],
             [
              0.5555555555555556,
              "#d8576b"
             ],
             [
              0.6666666666666666,
              "#ed7953"
             ],
             [
              0.7777777777777778,
              "#fb9f3a"
             ],
             [
              0.8888888888888888,
              "#fdca26"
             ],
             [
              1,
              "#f0f921"
             ]
            ],
            "type": "heatmapgl"
           }
          ],
          "histogram": [
           {
            "marker": {
             "pattern": {
              "fillmode": "overlay",
              "size": 10,
              "solidity": 0.2
             }
            },
            "type": "histogram"
           }
          ],
          "histogram2d": [
           {
            "colorbar": {
             "outlinewidth": 0,
             "ticks": ""
            },
            "colorscale": [
             [
              0,
              "#0d0887"
             ],
             [
              0.1111111111111111,
              "#46039f"
             ],
             [
              0.2222222222222222,
              "#7201a8"
             ],
             [
              0.3333333333333333,
              "#9c179e"
             ],
             [
              0.4444444444444444,
              "#bd3786"
             ],
             [
              0.5555555555555556,
              "#d8576b"
             ],
             [
              0.6666666666666666,
              "#ed7953"
             ],
             [
              0.7777777777777778,
              "#fb9f3a"
             ],
             [
              0.8888888888888888,
              "#fdca26"
             ],
             [
              1,
              "#f0f921"
             ]
            ],
            "type": "histogram2d"
           }
          ],
          "histogram2dcontour": [
           {
            "colorbar": {
             "outlinewidth": 0,
             "ticks": ""
            },
            "colorscale": [
             [
              0,
              "#0d0887"
             ],
             [
              0.1111111111111111,
              "#46039f"
             ],
             [
              0.2222222222222222,
              "#7201a8"
             ],
             [
              0.3333333333333333,
              "#9c179e"
             ],
             [
              0.4444444444444444,
              "#bd3786"
             ],
             [
              0.5555555555555556,
              "#d8576b"
             ],
             [
              0.6666666666666666,
              "#ed7953"
             ],
             [
              0.7777777777777778,
              "#fb9f3a"
             ],
             [
              0.8888888888888888,
              "#fdca26"
             ],
             [
              1,
              "#f0f921"
             ]
            ],
            "type": "histogram2dcontour"
           }
          ],
          "mesh3d": [
           {
            "colorbar": {
             "outlinewidth": 0,
             "ticks": ""
            },
            "type": "mesh3d"
           }
          ],
          "parcoords": [
           {
            "line": {
             "colorbar": {
              "outlinewidth": 0,
              "ticks": ""
             }
            },
            "type": "parcoords"
           }
          ],
          "pie": [
           {
            "automargin": true,
            "type": "pie"
           }
          ],
          "scatter": [
           {
            "fillpattern": {
             "fillmode": "overlay",
             "size": 10,
             "solidity": 0.2
            },
            "type": "scatter"
           }
          ],
          "scatter3d": [
           {
            "line": {
             "colorbar": {
              "outlinewidth": 0,
              "ticks": ""
             }
            },
            "marker": {
             "colorbar": {
              "outlinewidth": 0,
              "ticks": ""
             }
            },
            "type": "scatter3d"
           }
          ],
          "scattercarpet": [
           {
            "marker": {
             "colorbar": {
              "outlinewidth": 0,
              "ticks": ""
             }
            },
            "type": "scattercarpet"
           }
          ],
          "scattergeo": [
           {
            "marker": {
             "colorbar": {
              "outlinewidth": 0,
              "ticks": ""
             }
            },
            "type": "scattergeo"
           }
          ],
          "scattergl": [
           {
            "marker": {
             "colorbar": {
              "outlinewidth": 0,
              "ticks": ""
             }
            },
            "type": "scattergl"
           }
          ],
          "scattermapbox": [
           {
            "marker": {
             "colorbar": {
              "outlinewidth": 0,
              "ticks": ""
             }
            },
            "type": "scattermapbox"
           }
          ],
          "scatterpolar": [
           {
            "marker": {
             "colorbar": {
              "outlinewidth": 0,
              "ticks": ""
             }
            },
            "type": "scatterpolar"
           }
          ],
          "scatterpolargl": [
           {
            "marker": {
             "colorbar": {
              "outlinewidth": 0,
              "ticks": ""
             }
            },
            "type": "scatterpolargl"
           }
          ],
          "scatterternary": [
           {
            "marker": {
             "colorbar": {
              "outlinewidth": 0,
              "ticks": ""
             }
            },
            "type": "scatterternary"
           }
          ],
          "surface": [
           {
            "colorbar": {
             "outlinewidth": 0,
             "ticks": ""
            },
            "colorscale": [
             [
              0,
              "#0d0887"
             ],
             [
              0.1111111111111111,
              "#46039f"
             ],
             [
              0.2222222222222222,
              "#7201a8"
             ],
             [
              0.3333333333333333,
              "#9c179e"
             ],
             [
              0.4444444444444444,
              "#bd3786"
             ],
             [
              0.5555555555555556,
              "#d8576b"
             ],
             [
              0.6666666666666666,
              "#ed7953"
             ],
             [
              0.7777777777777778,
              "#fb9f3a"
             ],
             [
              0.8888888888888888,
              "#fdca26"
             ],
             [
              1,
              "#f0f921"
             ]
            ],
            "type": "surface"
           }
          ],
          "table": [
           {
            "cells": {
             "fill": {
              "color": "#EBF0F8"
             },
             "line": {
              "color": "white"
             }
            },
            "header": {
             "fill": {
              "color": "#C8D4E3"
             },
             "line": {
              "color": "white"
             }
            },
            "type": "table"
           }
          ]
         },
         "layout": {
          "annotationdefaults": {
           "arrowcolor": "#2a3f5f",
           "arrowhead": 0,
           "arrowwidth": 1
          },
          "autotypenumbers": "strict",
          "coloraxis": {
           "colorbar": {
            "outlinewidth": 0,
            "ticks": ""
           }
          },
          "colorscale": {
           "diverging": [
            [
             0,
             "#8e0152"
            ],
            [
             0.1,
             "#c51b7d"
            ],
            [
             0.2,
             "#de77ae"
            ],
            [
             0.3,
             "#f1b6da"
            ],
            [
             0.4,
             "#fde0ef"
            ],
            [
             0.5,
             "#f7f7f7"
            ],
            [
             0.6,
             "#e6f5d0"
            ],
            [
             0.7,
             "#b8e186"
            ],
            [
             0.8,
             "#7fbc41"
            ],
            [
             0.9,
             "#4d9221"
            ],
            [
             1,
             "#276419"
            ]
           ],
           "sequential": [
            [
             0,
             "#0d0887"
            ],
            [
             0.1111111111111111,
             "#46039f"
            ],
            [
             0.2222222222222222,
             "#7201a8"
            ],
            [
             0.3333333333333333,
             "#9c179e"
            ],
            [
             0.4444444444444444,
             "#bd3786"
            ],
            [
             0.5555555555555556,
             "#d8576b"
            ],
            [
             0.6666666666666666,
             "#ed7953"
            ],
            [
             0.7777777777777778,
             "#fb9f3a"
            ],
            [
             0.8888888888888888,
             "#fdca26"
            ],
            [
             1,
             "#f0f921"
            ]
           ],
           "sequentialminus": [
            [
             0,
             "#0d0887"
            ],
            [
             0.1111111111111111,
             "#46039f"
            ],
            [
             0.2222222222222222,
             "#7201a8"
            ],
            [
             0.3333333333333333,
             "#9c179e"
            ],
            [
             0.4444444444444444,
             "#bd3786"
            ],
            [
             0.5555555555555556,
             "#d8576b"
            ],
            [
             0.6666666666666666,
             "#ed7953"
            ],
            [
             0.7777777777777778,
             "#fb9f3a"
            ],
            [
             0.8888888888888888,
             "#fdca26"
            ],
            [
             1,
             "#f0f921"
            ]
           ]
          },
          "colorway": [
           "#636efa",
           "#EF553B",
           "#00cc96",
           "#ab63fa",
           "#FFA15A",
           "#19d3f3",
           "#FF6692",
           "#B6E880",
           "#FF97FF",
           "#FECB52"
          ],
          "font": {
           "color": "#2a3f5f"
          },
          "geo": {
           "bgcolor": "white",
           "lakecolor": "white",
           "landcolor": "#E5ECF6",
           "showlakes": true,
           "showland": true,
           "subunitcolor": "white"
          },
          "hoverlabel": {
           "align": "left"
          },
          "hovermode": "closest",
          "mapbox": {
           "style": "light"
          },
          "paper_bgcolor": "white",
          "plot_bgcolor": "#E5ECF6",
          "polar": {
           "angularaxis": {
            "gridcolor": "white",
            "linecolor": "white",
            "ticks": ""
           },
           "bgcolor": "#E5ECF6",
           "radialaxis": {
            "gridcolor": "white",
            "linecolor": "white",
            "ticks": ""
           }
          },
          "scene": {
           "xaxis": {
            "backgroundcolor": "#E5ECF6",
            "gridcolor": "white",
            "gridwidth": 2,
            "linecolor": "white",
            "showbackground": true,
            "ticks": "",
            "zerolinecolor": "white"
           },
           "yaxis": {
            "backgroundcolor": "#E5ECF6",
            "gridcolor": "white",
            "gridwidth": 2,
            "linecolor": "white",
            "showbackground": true,
            "ticks": "",
            "zerolinecolor": "white"
           },
           "zaxis": {
            "backgroundcolor": "#E5ECF6",
            "gridcolor": "white",
            "gridwidth": 2,
            "linecolor": "white",
            "showbackground": true,
            "ticks": "",
            "zerolinecolor": "white"
           }
          },
          "shapedefaults": {
           "line": {
            "color": "#2a3f5f"
           }
          },
          "ternary": {
           "aaxis": {
            "gridcolor": "white",
            "linecolor": "white",
            "ticks": ""
           },
           "baxis": {
            "gridcolor": "white",
            "linecolor": "white",
            "ticks": ""
           },
           "bgcolor": "#E5ECF6",
           "caxis": {
            "gridcolor": "white",
            "linecolor": "white",
            "ticks": ""
           }
          },
          "title": {
           "x": 0.05
          },
          "xaxis": {
           "automargin": true,
           "gridcolor": "white",
           "linecolor": "white",
           "ticks": "",
           "title": {
            "standoff": 15
           },
           "zerolinecolor": "white",
           "zerolinewidth": 2
          },
          "yaxis": {
           "automargin": true,
           "gridcolor": "white",
           "linecolor": "white",
           "ticks": "",
           "title": {
            "standoff": 15
           },
           "zerolinecolor": "white",
           "zerolinewidth": 2
          }
         }
        },
        "title": {
         "text": "GPU utilization compression"
        },
        "width": 1200,
        "xaxis": {
         "anchor": "y",
         "domain": [
          0,
          0.29333333333333333
         ],
         "title": {
          "text": "chunk_size"
         },
         "type": "log"
        },
        "xaxis2": {
         "anchor": "y2",
         "domain": [
          0.3433333333333333,
          0.6366666666666667
         ],
         "matches": "x",
         "title": {
          "text": "chunk_size"
         },
         "type": "log"
        },
        "xaxis3": {
         "anchor": "y3",
         "domain": [
          0.6866666666666666,
          0.98
         ],
         "matches": "x",
         "title": {
          "text": "chunk_size"
         },
         "type": "log"
        },
        "xaxis4": {
         "anchor": "y4",
         "domain": [
          0,
          0.29333333333333333
         ],
         "matches": "x",
         "showticklabels": false,
         "type": "log"
        },
        "xaxis5": {
         "anchor": "y5",
         "domain": [
          0.3433333333333333,
          0.6366666666666667
         ],
         "matches": "x",
         "showticklabels": false,
         "type": "log"
        },
        "xaxis6": {
         "anchor": "y6",
         "domain": [
          0.6866666666666666,
          0.98
         ],
         "matches": "x",
         "showticklabels": false,
         "type": "log"
        },
        "yaxis": {
         "anchor": "x",
         "domain": [
          0,
          0.485
         ],
         "title": {
          "text": "compression_utilization"
         },
         "type": "log"
        },
        "yaxis2": {
         "anchor": "x2",
         "domain": [
          0,
          0.485
         ],
         "matches": "y",
         "showticklabels": false,
         "type": "log"
        },
        "yaxis3": {
         "anchor": "x3",
         "domain": [
          0,
          0.485
         ],
         "matches": "y",
         "showticklabels": false,
         "type": "log"
        },
        "yaxis4": {
         "anchor": "x4",
         "domain": [
          0.515,
          1
         ],
         "matches": "y",
         "title": {
          "text": "compression_utilization"
         },
         "type": "log"
        },
        "yaxis5": {
         "anchor": "x5",
         "domain": [
          0.515,
          1
         ],
         "matches": "y",
         "showticklabels": false,
         "type": "log"
        },
        "yaxis6": {
         "anchor": "x6",
         "domain": [
          0.515,
          1
         ],
         "matches": "y",
         "showticklabels": false,
         "type": "log"
        }
       }
      }
     },
     "metadata": {},
     "output_type": "display_data"
    }
   ],
   "source": [
    "fig_gpus_utilization_compression = px.line(\n",
    "    all_utilization_df,\n",
    "    title=f\"GPU utilization compression\", \n",
    "    x=\"chunk_size\",\n",
    "    y=\"compression_utilization\",\n",
    "    color=\"file\",\n",
    "    log_x=True,\n",
    "    markers=True,\n",
    "    log_y=True,\n",
    "    facet_col='gpu',\n",
    "    facet_row='standard',\n",
    "    facet_col_spacing=0.05,\n",
    "    width=1200,\n",
    ")\n",
    "# fig_gpus_utilization_compression.update_xaxes(autorange=\"reversed\")\n",
    "# fig_gpus_utilization_compression.update_xaxes(dict(\n",
    "#         tickmode = 'array',\n",
    "#         tickvals = alldf['chunksize_Bytes'],\n",
    "#         ticktext = alldf['chunksize_Bytes_formatted'],\n",
    "#         tickangle=45,\n",
    "#     )\n",
    "# )\n",
    "# fig_gpus_utilization_compression.update_layout(\n",
    "#     yaxis_title=\"Compression ratio\",\n",
    "#     xaxis_title=\"Chunk size\",\n",
    "#     xaxis2_title=\"Chunk size\",\n",
    "#     font_size=16,\n",
    "# )\n",
    "print(all_utilization_df.to_string())\n",
    "fig_gpus_utilization_compression.show()"
   ]
  },
  {
   "cell_type": "code",
   "execution_count": 9,
   "metadata": {},
   "outputs": [
    {
     "data": {
      "application/vnd.plotly.v1+json": {
       "config": {
        "plotlyServerURL": "https://plot.ly"
       },
       "data": [
        {
         "hovertemplate": "file=500mb_dickens<br>standard=snappy<br>gpu=A100<br>chunk_size=%{x}<br>decompression_utilization=%{y}<extra></extra>",
         "legendgroup": "500mb_dickens",
         "line": {
          "color": "#636efa",
          "dash": "solid"
         },
         "marker": {
          "symbol": "circle"
         },
         "mode": "lines+markers",
         "name": "500mb_dickens",
         "orientation": "v",
         "showlegend": true,
         "type": "scatter",
         "x": [
          4000,
          16000,
          64000,
          256000,
          1024000,
          4096000,
          16384000,
          65536000
         ],
         "xaxis": "x4",
         "y": [
          57.99165697850207,
          59.92761198076396,
          66.81210773361155,
          89.85070554635082,
          47.321908796049144,
          12.044099088157102,
          4.99974140628704,
          4.999618826551184
         ],
         "yaxis": "y4"
        },
        {
         "hovertemplate": "file=500mb_dickens<br>standard=snappy<br>gpu=RTX2080TI<br>chunk_size=%{x}<br>decompression_utilization=%{y}<extra></extra>",
         "legendgroup": "500mb_dickens",
         "line": {
          "color": "#636efa",
          "dash": "solid"
         },
         "marker": {
          "symbol": "circle"
         },
         "mode": "lines+markers",
         "name": "500mb_dickens",
         "orientation": "v",
         "showlegend": false,
         "type": "scatter",
         "x": [
          4000,
          16000,
          64000,
          256000,
          1024000,
          4096000,
          16384000,
          65536000
         ],
         "xaxis": "x5",
         "y": [
          21.55270531786839,
          14.466168257916976,
          6.957921968627737,
          1.9466678216560793,
          1,
          1.0002253461404051,
          0.9999783214878664,
          0.9999782944074445
         ],
         "yaxis": "y5"
        },
        {
         "hovertemplate": "file=500mb_dickens<br>standard=snappy<br>gpu=RTX3050TI<br>chunk_size=%{x}<br>decompression_utilization=%{y}<extra></extra>",
         "legendgroup": "500mb_dickens",
         "line": {
          "color": "#636efa",
          "dash": "solid"
         },
         "marker": {
          "symbol": "circle"
         },
         "mode": "lines+markers",
         "name": "500mb_dickens",
         "orientation": "v",
         "showlegend": false,
         "type": "scatter",
         "x": [
          4000,
          16000,
          64000,
          256000,
          1024000,
          4096000,
          16384000,
          65536000
         ],
         "xaxis": "x6",
         "y": [
          30.456447855424397,
          16.38942332670019,
          4.660104350320699,
          0.9995985540323626,
          0.9998981580343311,
          0.9999699490851868,
          0.99998984523583,
          0.9999898621648874
         ],
         "yaxis": "y6"
        },
        {
         "hovertemplate": "file=500mb_dickens<br>standard=zstd<br>gpu=A100<br>chunk_size=%{x}<br>decompression_utilization=%{y}<extra></extra>",
         "legendgroup": "500mb_dickens",
         "line": {
          "color": "#636efa",
          "dash": "solid"
         },
         "marker": {
          "symbol": "circle"
         },
         "mode": "lines+markers",
         "name": "500mb_dickens",
         "orientation": "v",
         "showlegend": false,
         "type": "scatter",
         "x": [
          4000,
          16000,
          64000,
          256000,
          1024000,
          4096000,
          16384000,
          65536000
         ],
         "xaxis": "x",
         "y": [
          67.48522997396495,
          66.94648914248909,
          80.94497678024558,
          53.07453879326415,
          92.14821983509285,
          25.604207290610155,
          9.616478195107408,
          9.621120685369398
         ],
         "yaxis": "y"
        },
        {
         "hovertemplate": "file=500mb_dickens<br>standard=zstd<br>gpu=RTX2080TI<br>chunk_size=%{x}<br>decompression_utilization=%{y}<extra></extra>",
         "legendgroup": "500mb_dickens",
         "line": {
          "color": "#636efa",
          "dash": "solid"
         },
         "marker": {
          "symbol": "circle"
         },
         "mode": "lines+markers",
         "name": "500mb_dickens",
         "orientation": "v",
         "showlegend": false,
         "type": "scatter",
         "x": [
          4000,
          16000,
          64000,
          256000,
          1024000,
          4096000,
          16384000,
          65536000
         ],
         "xaxis": "x2",
         "y": [
          13.16686689404069,
          15.476654440572066,
          8.634662207922634,
          2.940660548342281,
          0.9999133608531059,
          0.9999556802878112,
          0.9999685894005707,
          0.9999978688309941
         ],
         "yaxis": "y2"
        },
        {
         "hovertemplate": "file=500mb_dickens<br>standard=zstd<br>gpu=RTX3050TI<br>chunk_size=%{x}<br>decompression_utilization=%{y}<extra></extra>",
         "legendgroup": "500mb_dickens",
         "line": {
          "color": "#636efa",
          "dash": "solid"
         },
         "marker": {
          "symbol": "circle"
         },
         "mode": "lines+markers",
         "name": "500mb_dickens",
         "orientation": "v",
         "showlegend": false,
         "type": "scatter",
         "x": [
          4000,
          16000,
          64000,
          256000,
          1024000,
          4096000,
          16384000,
          65536000
         ],
         "xaxis": "x3",
         "y": [
          26.831776814488247,
          7.981332503494909,
          1.956758141039657,
          0.9998750248338928,
          0.9999186947109855,
          0.9999608183726257,
          0.999998687185812,
          0.9999985991308262
         ],
         "yaxis": "y3"
        },
        {
         "hovertemplate": "file=500mb_mozilla<br>standard=snappy<br>gpu=A100<br>chunk_size=%{x}<br>decompression_utilization=%{y}<extra></extra>",
         "legendgroup": "500mb_mozilla",
         "line": {
          "color": "#EF553B",
          "dash": "solid"
         },
         "marker": {
          "symbol": "circle"
         },
         "mode": "lines+markers",
         "name": "500mb_mozilla",
         "orientation": "v",
         "showlegend": true,
         "type": "scatter",
         "x": [
          4000,
          16000,
          64000,
          256000,
          1024000,
          4096000,
          16384000,
          65536000
         ],
         "xaxis": "x4",
         "y": [
          57.784074404064825,
          58.004224441339595,
          58.797500908346684,
          61.182754359695394,
          82.60763506693334,
          53.951575478828715,
          13.515537087486074,
          5.00073926124773
         ],
         "yaxis": "y4"
        },
        {
         "hovertemplate": "file=500mb_mozilla<br>standard=snappy<br>gpu=RTX2080TI<br>chunk_size=%{x}<br>decompression_utilization=%{y}<extra></extra>",
         "legendgroup": "500mb_mozilla",
         "line": {
          "color": "#EF553B",
          "dash": "solid"
         },
         "marker": {
          "symbol": "circle"
         },
         "mode": "lines+markers",
         "name": "500mb_mozilla",
         "orientation": "v",
         "showlegend": false,
         "type": "scatter",
         "x": [
          4000,
          16000,
          64000,
          256000,
          1024000,
          4096000,
          16384000,
          65536000
         ],
         "xaxis": "x5",
         "y": [
          24.275877330675584,
          20.11158028881399,
          14.575889981016031,
          7.308797492535268,
          2.159367187134353,
          1.00197532657348,
          1.0022028124465794,
          1.000076120724014
         ],
         "yaxis": "y5"
        },
        {
         "hovertemplate": "file=500mb_mozilla<br>standard=snappy<br>gpu=RTX3050TI<br>chunk_size=%{x}<br>decompression_utilization=%{y}<extra></extra>",
         "legendgroup": "500mb_mozilla",
         "line": {
          "color": "#EF553B",
          "dash": "solid"
         },
         "marker": {
          "symbol": "circle"
         },
         "mode": "lines+markers",
         "name": "500mb_mozilla",
         "orientation": "v",
         "showlegend": false,
         "type": "scatter",
         "x": [
          4000,
          16000,
          64000,
          256000,
          1024000,
          4096000,
          16384000,
          65536000
         ],
         "xaxis": "x6",
         "y": [
          46.06102081919859,
          33.56491094580154,
          14.303939028110705,
          4.463810768147484,
          1.0066645597819508,
          1.000396329058515,
          1.000537182341284,
          1.0002104765462336
         ],
         "yaxis": "y6"
        },
        {
         "hovertemplate": "file=500mb_mozilla<br>standard=zstd<br>gpu=A100<br>chunk_size=%{x}<br>decompression_utilization=%{y}<extra></extra>",
         "legendgroup": "500mb_mozilla",
         "line": {
          "color": "#EF553B",
          "dash": "solid"
         },
         "marker": {
          "symbol": "circle"
         },
         "mode": "lines+markers",
         "name": "500mb_mozilla",
         "orientation": "v",
         "showlegend": false,
         "type": "scatter",
         "x": [
          4000,
          16000,
          64000,
          256000,
          1024000,
          4096000,
          16384000
         ],
         "xaxis": "x",
         "y": [
          68.46023031133464,
          67.69144360237954,
          68.36432672246508,
          73.29039087318958,
          80.59560391042132,
          83.59627783037469,
          35.705187611755036
         ],
         "yaxis": "y"
        },
        {
         "hovertemplate": "file=500mb_mozilla<br>standard=zstd<br>gpu=RTX2080TI<br>chunk_size=%{x}<br>decompression_utilization=%{y}<extra></extra>",
         "legendgroup": "500mb_mozilla",
         "line": {
          "color": "#EF553B",
          "dash": "solid"
         },
         "marker": {
          "symbol": "circle"
         },
         "mode": "lines+markers",
         "name": "500mb_mozilla",
         "orientation": "v",
         "showlegend": false,
         "type": "scatter",
         "x": [
          4000,
          16000,
          64000,
          256000,
          1024000,
          4096000,
          16384000
         ],
         "xaxis": "x2",
         "y": [
          12.871813367060014,
          13.085846836960208,
          13.56481210406827,
          9.497864132743402,
          4.5904762983578316,
          1.5277275395485728,
          0.9999382754329491
         ],
         "yaxis": "y2"
        },
        {
         "hovertemplate": "file=500mb_mozilla<br>standard=zstd<br>gpu=RTX3050TI<br>chunk_size=%{x}<br>decompression_utilization=%{y}<extra></extra>",
         "legendgroup": "500mb_mozilla",
         "line": {
          "color": "#EF553B",
          "dash": "solid"
         },
         "marker": {
          "symbol": "circle"
         },
         "mode": "lines+markers",
         "name": "500mb_mozilla",
         "orientation": "v",
         "showlegend": false,
         "type": "scatter",
         "x": [
          4000,
          16000,
          64000,
          256000,
          1024000,
          4096000,
          16384000
         ],
         "xaxis": "x3",
         "y": [
          37.81764945867545,
          29.06627598784578,
          7.486602533864689,
          2.6270224770205015,
          0.999854241430901,
          0.9999949597883725,
          0.9999984003041409
         ],
         "yaxis": "y3"
        },
        {
         "hovertemplate": "file=500mb_mr<br>standard=snappy<br>gpu=A100<br>chunk_size=%{x}<br>decompression_utilization=%{y}<extra></extra>",
         "legendgroup": "500mb_mr",
         "line": {
          "color": "#00cc96",
          "dash": "solid"
         },
         "marker": {
          "symbol": "circle"
         },
         "mode": "lines+markers",
         "name": "500mb_mr",
         "orientation": "v",
         "showlegend": true,
         "type": "scatter",
         "x": [
          4000,
          16000,
          64000,
          256000,
          1024000,
          4096000,
          16384000,
          65536000
         ],
         "xaxis": "x4",
         "y": [
          57.69844361502278,
          60.580026867394906,
          67.64302966112447,
          75.04711272221476,
          40.00471871300283,
          11.049437273729092,
          5.0001930755061075,
          5.000017259718289
         ],
         "yaxis": "y4"
        },
        {
         "hovertemplate": "file=500mb_mr<br>standard=snappy<br>gpu=RTX2080TI<br>chunk_size=%{x}<br>decompression_utilization=%{y}<extra></extra>",
         "legendgroup": "500mb_mr",
         "line": {
          "color": "#00cc96",
          "dash": "solid"
         },
         "marker": {
          "symbol": "circle"
         },
         "mode": "lines+markers",
         "name": "500mb_mr",
         "orientation": "v",
         "showlegend": false,
         "type": "scatter",
         "x": [
          4000,
          16000,
          64000,
          256000,
          1024000,
          4096000,
          16384000,
          65536000
         ],
         "xaxis": "x5",
         "y": [
          18.761636125784445,
          12.034976851361222,
          4.983350691305546,
          1.6597507035618917,
          0.9997315248979032,
          0.9999147338362422,
          0.9999685127076917,
          0.9999684774013635
         ],
         "yaxis": "y5"
        },
        {
         "hovertemplate": "file=500mb_mr<br>standard=snappy<br>gpu=RTX3050TI<br>chunk_size=%{x}<br>decompression_utilization=%{y}<extra></extra>",
         "legendgroup": "500mb_mr",
         "line": {
          "color": "#00cc96",
          "dash": "solid"
         },
         "marker": {
          "symbol": "circle"
         },
         "mode": "lines+markers",
         "name": "500mb_mr",
         "orientation": "v",
         "showlegend": false,
         "type": "scatter",
         "x": [
          4000,
          16000,
          64000,
          256000,
          1024000,
          4096000,
          16384000,
          65536000
         ],
         "xaxis": "x6",
         "y": [
          22.549972344628728,
          9.985405289218372,
          3.1005793082586752,
          0.9995520804788635,
          0.9998703957245048,
          0.9999598049266949,
          0.9999850851225167,
          0.9999851327924432
         ],
         "yaxis": "y6"
        },
        {
         "hovertemplate": "file=500mb_mr<br>standard=zstd<br>gpu=A100<br>chunk_size=%{x}<br>decompression_utilization=%{y}<extra></extra>",
         "legendgroup": "500mb_mr",
         "line": {
          "color": "#00cc96",
          "dash": "solid"
         },
         "marker": {
          "symbol": "circle"
         },
         "mode": "lines+markers",
         "name": "500mb_mr",
         "orientation": "v",
         "showlegend": false,
         "type": "scatter",
         "x": [
          4000,
          16000,
          64000,
          256000,
          1024000,
          4096000,
          16384000,
          65536000
         ],
         "xaxis": "x",
         "y": [
          68.56376280197671,
          67.56347464549077,
          74.93178792222741,
          55.72548926046183,
          87.42386867713938,
          25.84797953319716,
          9.443233961059702,
          9.44842873480965
         ],
         "yaxis": "y"
        },
        {
         "hovertemplate": "file=500mb_mr<br>standard=zstd<br>gpu=RTX2080TI<br>chunk_size=%{x}<br>decompression_utilization=%{y}<extra></extra>",
         "legendgroup": "500mb_mr",
         "line": {
          "color": "#00cc96",
          "dash": "solid"
         },
         "marker": {
          "symbol": "circle"
         },
         "mode": "lines+markers",
         "name": "500mb_mr",
         "orientation": "v",
         "showlegend": false,
         "type": "scatter",
         "x": [
          4000,
          16000,
          64000,
          256000,
          1024000,
          4096000,
          16384000,
          65536000
         ],
         "xaxis": "x2",
         "y": [
          13.842317377359745,
          15.487462219665732,
          7.255161387241679,
          2.7960457083800945,
          0.9998898006234033,
          0.9999916849886786,
          0.9999593158849873,
          0.9999563240607066
         ],
         "yaxis": "y2"
        },
        {
         "hovertemplate": "file=500mb_mr<br>standard=zstd<br>gpu=RTX3050TI<br>chunk_size=%{x}<br>decompression_utilization=%{y}<extra></extra>",
         "legendgroup": "500mb_mr",
         "line": {
          "color": "#00cc96",
          "dash": "solid"
         },
         "marker": {
          "symbol": "circle"
         },
         "mode": "lines+markers",
         "name": "500mb_mr",
         "orientation": "v",
         "showlegend": false,
         "type": "scatter",
         "x": [
          4000,
          16000,
          64000,
          256000,
          1024000,
          4096000,
          16384000,
          65536000
         ],
         "xaxis": "x3",
         "y": [
          21.4952770320414,
          6.044939473169997,
          1.7563674689597883,
          0.9998356029431197,
          0.9998855125974547,
          0.9999266121513184,
          0.9999980938380416,
          0.9999979973352697
         ],
         "yaxis": "y3"
        },
        {
         "hovertemplate": "file=500mb_nci<br>standard=snappy<br>gpu=A100<br>chunk_size=%{x}<br>decompression_utilization=%{y}<extra></extra>",
         "legendgroup": "500mb_nci",
         "line": {
          "color": "#ab63fa",
          "dash": "solid"
         },
         "marker": {
          "symbol": "circle"
         },
         "mode": "lines+markers",
         "name": "500mb_nci",
         "orientation": "v",
         "showlegend": true,
         "type": "scatter",
         "x": [
          4000,
          16000,
          64000,
          256000,
          1024000,
          4096000,
          16384000,
          65536000
         ],
         "xaxis": "x4",
         "y": [
          57.63450944988311,
          57.856569000816734,
          61.77731556319007,
          70.64927405461813,
          85.89946531969588,
          37.59292947213242,
          10.19648606142141,
          5.001288566340795
         ],
         "yaxis": "y4"
        },
        {
         "hovertemplate": "file=500mb_nci<br>standard=snappy<br>gpu=RTX2080TI<br>chunk_size=%{x}<br>decompression_utilization=%{y}<extra></extra>",
         "legendgroup": "500mb_nci",
         "line": {
          "color": "#ab63fa",
          "dash": "solid"
         },
         "marker": {
          "symbol": "circle"
         },
         "mode": "lines+markers",
         "name": "500mb_nci",
         "orientation": "v",
         "showlegend": false,
         "type": "scatter",
         "x": [
          4000,
          16000,
          64000,
          256000,
          1024000,
          4096000,
          16384000,
          65536000
         ],
         "xaxis": "x5",
         "y": [
          23.59728189021402,
          19.18291159212457,
          11.738805951570239,
          5.536736295185213,
          1.9240722097464358,
          1.0070160197176135,
          1.0023952939820946,
          1.0005198020475778
         ],
         "yaxis": "y5"
        },
        {
         "hovertemplate": "file=500mb_nci<br>standard=snappy<br>gpu=RTX3050TI<br>chunk_size=%{x}<br>decompression_utilization=%{y}<extra></extra>",
         "legendgroup": "500mb_nci",
         "line": {
          "color": "#ab63fa",
          "dash": "solid"
         },
         "marker": {
          "symbol": "circle"
         },
         "mode": "lines+markers",
         "name": "500mb_nci",
         "orientation": "v",
         "showlegend": false,
         "type": "scatter",
         "x": [
          4000,
          16000,
          64000,
          256000,
          1024000,
          4096000,
          16384000,
          65536000
         ],
         "xaxis": "x6",
         "y": [
          43.918438718165774,
          27.846805633999097,
          12.435461218763901,
          3.4459600086641515,
          0.999095373625817,
          1.0003814332122878,
          1.0012777897865983,
          1.0003126758929906
         ],
         "yaxis": "y6"
        },
        {
         "hovertemplate": "file=500mb_nci<br>standard=zstd<br>gpu=A100<br>chunk_size=%{x}<br>decompression_utilization=%{y}<extra></extra>",
         "legendgroup": "500mb_nci",
         "line": {
          "color": "#ab63fa",
          "dash": "solid"
         },
         "marker": {
          "symbol": "circle"
         },
         "mode": "lines+markers",
         "name": "500mb_nci",
         "orientation": "v",
         "showlegend": false,
         "type": "scatter",
         "x": [
          4000,
          16000,
          64000,
          256000,
          1024000,
          4096000,
          16384000
         ],
         "xaxis": "x",
         "y": [
          68.20298645609668,
          68.04533230127996,
          71.11200566741775,
          80.612971518778,
          88.10549025989748,
          78.19374906684001,
          27.411685837592653
         ],
         "yaxis": "y"
        },
        {
         "hovertemplate": "file=500mb_nci<br>standard=zstd<br>gpu=RTX2080TI<br>chunk_size=%{x}<br>decompression_utilization=%{y}<extra></extra>",
         "legendgroup": "500mb_nci",
         "line": {
          "color": "#ab63fa",
          "dash": "solid"
         },
         "marker": {
          "symbol": "circle"
         },
         "mode": "lines+markers",
         "name": "500mb_nci",
         "orientation": "v",
         "showlegend": false,
         "type": "scatter",
         "x": [
          4000,
          16000,
          64000,
          256000,
          1024000,
          4096000,
          16384000
         ],
         "xaxis": "x2",
         "y": [
          19.49227539268192,
          24.550683583321266,
          22.089407595118708,
          7.2219841040979516,
          3.4324264654984207,
          0.9998653030050398,
          0.9998696533570028
         ],
         "yaxis": "y2"
        },
        {
         "hovertemplate": "file=500mb_nci<br>standard=zstd<br>gpu=RTX3050TI<br>chunk_size=%{x}<br>decompression_utilization=%{y}<extra></extra>",
         "legendgroup": "500mb_nci",
         "line": {
          "color": "#ab63fa",
          "dash": "solid"
         },
         "marker": {
          "symbol": "circle"
         },
         "mode": "lines+markers",
         "name": "500mb_nci",
         "orientation": "v",
         "showlegend": false,
         "type": "scatter",
         "x": [
          4000,
          16000,
          64000,
          256000,
          1024000,
          4096000,
          16384000
         ],
         "xaxis": "x3",
         "y": [
          35.35280218085396,
          22.4605692027422,
          6.431861139998399,
          1.9854430002890255,
          0.9997171415069013,
          0.9998571560876065,
          0.999996512290819
         ],
         "yaxis": "y3"
        },
        {
         "hovertemplate": "file=500mb_samba<br>standard=snappy<br>gpu=A100<br>chunk_size=%{x}<br>decompression_utilization=%{y}<extra></extra>",
         "legendgroup": "500mb_samba",
         "line": {
          "color": "#FFA15A",
          "dash": "solid"
         },
         "marker": {
          "symbol": "circle"
         },
         "mode": "lines+markers",
         "name": "500mb_samba",
         "orientation": "v",
         "showlegend": true,
         "type": "scatter",
         "x": [
          4000,
          16000,
          64000,
          256000,
          1024000,
          4096000,
          16384000,
          65536000
         ],
         "xaxis": "x4",
         "y": [
          57.578902523535625,
          57.22675363417135,
          60.16044014057348,
          71.39691732270742,
          70.78281984574005,
          22.009633017378935,
          6.735569948125196,
          5.000883702597433
         ],
         "yaxis": "y4"
        },
        {
         "hovertemplate": "file=500mb_samba<br>standard=snappy<br>gpu=RTX2080TI<br>chunk_size=%{x}<br>decompression_utilization=%{y}<extra></extra>",
         "legendgroup": "500mb_samba",
         "line": {
          "color": "#FFA15A",
          "dash": "solid"
         },
         "marker": {
          "symbol": "circle"
         },
         "mode": "lines+markers",
         "name": "500mb_samba",
         "orientation": "v",
         "showlegend": false,
         "type": "scatter",
         "x": [
          4000,
          16000,
          64000,
          256000,
          1024000,
          4096000,
          16384000,
          65536000
         ],
         "xaxis": "x5",
         "y": [
          21.852286931745507,
          16.488268402175926,
          8.919600090326036,
          65.90423049487403,
          1.0048577092154876,
          1.0007187706282874,
          1.0009989680498554,
          0.9999599601384022
         ],
         "yaxis": "y5"
        },
        {
         "hovertemplate": "file=500mb_samba<br>standard=snappy<br>gpu=RTX3050TI<br>chunk_size=%{x}<br>decompression_utilization=%{y}<extra></extra>",
         "legendgroup": "500mb_samba",
         "line": {
          "color": "#FFA15A",
          "dash": "solid"
         },
         "marker": {
          "symbol": "circle"
         },
         "mode": "lines+markers",
         "name": "500mb_samba",
         "orientation": "v",
         "showlegend": false,
         "type": "scatter",
         "x": [
          4000,
          16000,
          64000,
          256000,
          1024000,
          4096000,
          16384000,
          65536000
         ],
         "xaxis": "x6",
         "y": [
          35.199096956760044,
          22.3171479998707,
          6.001777755525578,
          1.6533342885860405,
          -0.00014775290436665504,
          0.9999061469742105,
          0.9999634174654337,
          0.9999815012538843
         ],
         "yaxis": "y6"
        },
        {
         "hovertemplate": "file=500mb_samba<br>standard=zstd<br>gpu=A100<br>chunk_size=%{x}<br>decompression_utilization=%{y}<extra></extra>",
         "legendgroup": "500mb_samba",
         "line": {
          "color": "#FFA15A",
          "dash": "solid"
         },
         "marker": {
          "symbol": "circle"
         },
         "mode": "lines+markers",
         "name": "500mb_samba",
         "orientation": "v",
         "showlegend": false,
         "type": "scatter",
         "x": [
          4000,
          16000,
          64000,
          256000,
          1024000,
          4096000,
          16384000
         ],
         "xaxis": "x",
         "y": [
          67.74169307771157,
          67.29054602031607,
          64.48179457170956,
          76.8608541317936,
          76.80480442573699,
          49.52896798591142,
          18.461864778578416
         ],
         "yaxis": "y"
        },
        {
         "hovertemplate": "file=500mb_samba<br>standard=zstd<br>gpu=RTX2080TI<br>chunk_size=%{x}<br>decompression_utilization=%{y}<extra></extra>",
         "legendgroup": "500mb_samba",
         "line": {
          "color": "#FFA15A",
          "dash": "solid"
         },
         "marker": {
          "symbol": "circle"
         },
         "mode": "lines+markers",
         "name": "500mb_samba",
         "orientation": "v",
         "showlegend": false,
         "type": "scatter",
         "x": [
          4000,
          16000,
          64000,
          256000,
          1024000,
          4096000,
          16384000
         ],
         "xaxis": "x2",
         "y": [
          12.386497692097501,
          12.091466535469063,
          10.682968161372095,
          3.9414878630710914,
          2.0402701701192463,
          0.9999211132461363,
          0.9999167633061041
         ],
         "yaxis": "y2"
        },
        {
         "hovertemplate": "file=500mb_samba<br>standard=zstd<br>gpu=RTX3050TI<br>chunk_size=%{x}<br>decompression_utilization=%{y}<extra></extra>",
         "legendgroup": "500mb_samba",
         "line": {
          "color": "#FFA15A",
          "dash": "solid"
         },
         "marker": {
          "symbol": "circle"
         },
         "mode": "lines+markers",
         "name": "500mb_samba",
         "orientation": "v",
         "showlegend": false,
         "type": "scatter",
         "x": [
          4000,
          16000,
          64000,
          256000,
          1024000,
          4096000,
          16384000
         ],
         "xaxis": "x3",
         "y": [
          31.93170550697696,
          11.078536464621344,
          -0.00030138199921745377,
          -0.00009291213241567368,
          0.9998315810410593,
          0.999910647885466,
          0.9999035143218495
         ],
         "yaxis": "y3"
        },
        {
         "hovertemplate": "file=500mb_sao<br>standard=snappy<br>gpu=A100<br>chunk_size=%{x}<br>decompression_utilization=%{y}<extra></extra>",
         "legendgroup": "500mb_sao",
         "line": {
          "color": "#19d3f3",
          "dash": "solid"
         },
         "marker": {
          "symbol": "circle"
         },
         "mode": "lines+markers",
         "name": "500mb_sao",
         "orientation": "v",
         "showlegend": true,
         "type": "scatter",
         "x": [
          4000,
          16000,
          64000,
          256000,
          1024000,
          4096000,
          16384000,
          65536000
         ],
         "xaxis": "x4",
         "y": [
          56.282155485670046,
          61.73190314567305,
          73.95079972589568,
          86.59696196711874,
          32.71412905125621,
          8.902986367808667,
          4.999895404109582,
          4.999961859738298
         ],
         "yaxis": "y4"
        },
        {
         "hovertemplate": "file=500mb_sao<br>standard=snappy<br>gpu=RTX2080TI<br>chunk_size=%{x}<br>decompression_utilization=%{y}<extra></extra>",
         "legendgroup": "500mb_sao",
         "line": {
          "color": "#19d3f3",
          "dash": "solid"
         },
         "marker": {
          "symbol": "circle"
         },
         "mode": "lines+markers",
         "name": "500mb_sao",
         "orientation": "v",
         "showlegend": false,
         "type": "scatter",
         "x": [
          4000,
          16000,
          64000,
          256000,
          1024000,
          4096000,
          16384000,
          65536000
         ],
         "xaxis": "x5",
         "y": [
          19.965001773427453,
          17.183191587497348,
          5.45399639778653,
          1.2689787860225312,
          0.9995928656635651,
          0.9999144119205954,
          0.9999568746918549,
          0.999956872002586
         ],
         "yaxis": "y5"
        },
        {
         "hovertemplate": "file=500mb_sao<br>standard=snappy<br>gpu=RTX3050TI<br>chunk_size=%{x}<br>decompression_utilization=%{y}<extra></extra>",
         "legendgroup": "500mb_sao",
         "line": {
          "color": "#19d3f3",
          "dash": "solid"
         },
         "marker": {
          "symbol": "circle"
         },
         "mode": "lines+markers",
         "name": "500mb_sao",
         "orientation": "v",
         "showlegend": false,
         "type": "scatter",
         "x": [
          4000,
          16000,
          64000,
          256000,
          1024000,
          4096000,
          16384000,
          65536000
         ],
         "xaxis": "x6",
         "y": [
          31.406971436085005,
          11.215410529372528,
          2.8006260696573215,
          0.9994396122096261,
          0.9998458804927066,
          -0.00002024283222495572,
          0.9999794247658894,
          0.9999794282420914
         ],
         "yaxis": "y6"
        },
        {
         "hovertemplate": "file=500mb_sao<br>standard=zstd<br>gpu=A100<br>chunk_size=%{x}<br>decompression_utilization=%{y}<extra></extra>",
         "legendgroup": "500mb_sao",
         "line": {
          "color": "#19d3f3",
          "dash": "solid"
         },
         "marker": {
          "symbol": "circle"
         },
         "mode": "lines+markers",
         "name": "500mb_sao",
         "orientation": "v",
         "showlegend": false,
         "type": "scatter",
         "x": [
          4000,
          16000,
          64000,
          256000,
          1024000,
          4096000,
          16384000,
          65536000
         ],
         "xaxis": "x",
         "y": [
          68.70975497928535,
          70.64648934860514,
          77.08596177668359,
          58.20420472490232,
          66.50895683777892,
          17.393129956929805,
          9.473369190929109,
          9.472780388888122
         ],
         "yaxis": "y"
        },
        {
         "hovertemplate": "file=500mb_sao<br>standard=zstd<br>gpu=RTX2080TI<br>chunk_size=%{x}<br>decompression_utilization=%{y}<extra></extra>",
         "legendgroup": "500mb_sao",
         "line": {
          "color": "#19d3f3",
          "dash": "solid"
         },
         "marker": {
          "symbol": "circle"
         },
         "mode": "lines+markers",
         "name": "500mb_sao",
         "orientation": "v",
         "showlegend": false,
         "type": "scatter",
         "x": [
          4000,
          16000,
          64000,
          256000,
          1024000,
          4096000,
          16384000,
          65536000
         ],
         "xaxis": "x2",
         "y": [
          10.265427081912023,
          11.43636916482237,
          6.179349041320737,
          2.0058196710820444,
          0.9998704115005206,
          0.9999462421721631,
          0.9999557086122237,
          0.9998890840786648
         ],
         "yaxis": "y2"
        },
        {
         "hovertemplate": "file=500mb_sao<br>standard=zstd<br>gpu=RTX3050TI<br>chunk_size=%{x}<br>decompression_utilization=%{y}<extra></extra>",
         "legendgroup": "500mb_sao",
         "line": {
          "color": "#19d3f3",
          "dash": "solid"
         },
         "marker": {
          "symbol": "circle"
         },
         "mode": "lines+markers",
         "name": "500mb_sao",
         "orientation": "v",
         "showlegend": false,
         "type": "scatter",
         "x": [
          4000,
          16000,
          64000,
          256000,
          1024000,
          4096000,
          16384000,
          65536000
         ],
         "xaxis": "x3",
         "y": [
          19.542296868565323,
          6.196839162017241,
          1.9114454663519815,
          0.9998450515864613,
          0.9998770584386756,
          0.9999480469818336,
          0.9999480900697656,
          0.999947439964848
         ],
         "yaxis": "y3"
        },
        {
         "hovertemplate": "file=500mb_xml<br>standard=snappy<br>gpu=A100<br>chunk_size=%{x}<br>decompression_utilization=%{y}<extra></extra>",
         "legendgroup": "500mb_xml",
         "line": {
          "color": "#FF6692",
          "dash": "solid"
         },
         "marker": {
          "symbol": "circle"
         },
         "mode": "lines+markers",
         "name": "500mb_xml",
         "orientation": "v",
         "showlegend": true,
         "type": "scatter",
         "x": [
          4000,
          16000,
          64000,
          256000,
          1024000,
          4096000,
          16384000,
          65536000
         ],
         "xaxis": "x4",
         "y": [
          57.88412537462596,
          64.69918111391661,
          77.64991522198059,
          66.13877445397151,
          20.21785355660914,
          7.281584100080028,
          4.999213532520935,
          4.998758862049485
         ],
         "yaxis": "y4"
        },
        {
         "hovertemplate": "file=500mb_xml<br>standard=snappy<br>gpu=RTX2080TI<br>chunk_size=%{x}<br>decompression_utilization=%{y}<extra></extra>",
         "legendgroup": "500mb_xml",
         "line": {
          "color": "#FF6692",
          "dash": "solid"
         },
         "marker": {
          "symbol": "circle"
         },
         "mode": "lines+markers",
         "name": "500mb_xml",
         "orientation": "v",
         "showlegend": false,
         "type": "scatter",
         "x": [
          4000,
          16000,
          64000,
          256000,
          1024000,
          4096000,
          16384000,
          65536000
         ],
         "xaxis": "x5",
         "y": [
          17.40823824295624,
          9.722745062745895,
          2.5011168357924567,
          1.001089467794328,
          0.9997006161033859,
          1.0000529728668326,
          1.0000501912842013,
          0.9999497820139889
         ],
         "yaxis": "y5"
        },
        {
         "hovertemplate": "file=500mb_xml<br>standard=snappy<br>gpu=RTX3050TI<br>chunk_size=%{x}<br>decompression_utilization=%{y}<extra></extra>",
         "legendgroup": "500mb_xml",
         "line": {
          "color": "#FF6692",
          "dash": "solid"
         },
         "marker": {
          "symbol": "circle"
         },
         "mode": "lines+markers",
         "name": "500mb_xml",
         "orientation": "v",
         "showlegend": false,
         "type": "scatter",
         "x": [
          4000,
          16000,
          64000,
          256000,
          1024000,
          4096000,
          16384000,
          65536000
         ],
         "xaxis": "x6",
         "y": [
          16.56642590045533,
          6.199236659657663,
          1.5080262679780119,
          1,
          0.9998620177853692,
          0.9999490905085178,
          1.0000122293674438,
          1
         ],
         "yaxis": "y6"
        },
        {
         "hovertemplate": "file=500mb_xml<br>standard=zstd<br>gpu=A100<br>chunk_size=%{x}<br>decompression_utilization=%{y}<extra></extra>",
         "legendgroup": "500mb_xml",
         "line": {
          "color": "#FF6692",
          "dash": "solid"
         },
         "marker": {
          "symbol": "circle"
         },
         "mode": "lines+markers",
         "name": "500mb_xml",
         "orientation": "v",
         "showlegend": false,
         "type": "scatter",
         "x": [
          4000,
          16000,
          64000,
          256000,
          1024000,
          4096000,
          16384000,
          65536000
         ],
         "xaxis": "x",
         "y": [
          67.98491325731337,
          65.07916046356345,
          65.50133199911811,
          42.120505626834,
          37.33807045488379,
          17.808080227222884,
          9.644773933210415,
          9.664705242757343
         ],
         "yaxis": "y"
        },
        {
         "hovertemplate": "file=500mb_xml<br>standard=zstd<br>gpu=RTX2080TI<br>chunk_size=%{x}<br>decompression_utilization=%{y}<extra></extra>",
         "legendgroup": "500mb_xml",
         "line": {
          "color": "#FF6692",
          "dash": "solid"
         },
         "marker": {
          "symbol": "circle"
         },
         "mode": "lines+markers",
         "name": "500mb_xml",
         "orientation": "v",
         "showlegend": false,
         "type": "scatter",
         "x": [
          4000,
          16000,
          64000,
          256000,
          1024000,
          4096000,
          16384000,
          65536000
         ],
         "xaxis": "x2",
         "y": [
          12.32344742716577,
          10.903490872801555,
          2.9310796650542175,
          1.068532505552367,
          0.9998683563132909,
          0.9998632078178251,
          0.9999137342265019,
          0.9999132029452867
         ],
         "yaxis": "y2"
        },
        {
         "hovertemplate": "file=500mb_xml<br>standard=zstd<br>gpu=RTX3050TI<br>chunk_size=%{x}<br>decompression_utilization=%{y}<extra></extra>",
         "legendgroup": "500mb_xml",
         "line": {
          "color": "#FF6692",
          "dash": "solid"
         },
         "marker": {
          "symbol": "circle"
         },
         "mode": "lines+markers",
         "name": "500mb_xml",
         "orientation": "v",
         "showlegend": false,
         "type": "scatter",
         "x": [
          4000,
          16000,
          64000,
          256000,
          1024000,
          4096000,
          16384000,
          65536000
         ],
         "xaxis": "x3",
         "y": [
          10.448295657559921,
          3.0463155257655457,
          -0.00028461669697920863,
          0.9998583168313806,
          0.9998718027921422,
          0.9998628542581425,
          0.9999940597646622,
          0.9999015708721074
         ],
         "yaxis": "y3"
        },
        {
         "hovertemplate": "file=500mb_silesia.zip<br>standard=snappy<br>gpu=RTX2080TI<br>chunk_size=%{x}<br>decompression_utilization=%{y}<extra></extra>",
         "legendgroup": "500mb_silesia.zip",
         "line": {
          "color": "#B6E880",
          "dash": "solid"
         },
         "marker": {
          "symbol": "circle"
         },
         "mode": "lines+markers",
         "name": "500mb_silesia.zip",
         "orientation": "v",
         "showlegend": true,
         "type": "scatter",
         "x": [
          4000,
          16000,
          64000,
          256000,
          1024000,
          4096000,
          16384000,
          65536000
         ],
         "xaxis": "x5",
         "y": [
          14.748320637887762,
          12.554860178571703,
          8.605687651092929,
          5.153079567640252,
          1.9232162096797814,
          1.0227492718963398,
          1.0098965297134037,
          1.0046573512907429
         ],
         "yaxis": "y5"
        },
        {
         "hovertemplate": "file=500mb_silesia.zip<br>standard=zstd<br>gpu=RTX2080TI<br>chunk_size=%{x}<br>decompression_utilization=%{y}<extra></extra>",
         "legendgroup": "500mb_silesia.zip",
         "line": {
          "color": "#B6E880",
          "dash": "solid"
         },
         "marker": {
          "symbol": "circle"
         },
         "mode": "lines+markers",
         "name": "500mb_silesia.zip",
         "orientation": "v",
         "showlegend": false,
         "type": "scatter",
         "x": [
          4000,
          16000,
          64000
         ],
         "xaxis": "x2",
         "y": [
          5.314668609205949,
          4.1467259719207075,
          3.295516693649498
         ],
         "yaxis": "y2"
        },
        {
         "hovertemplate": "file=500mb_lineitem.parquet<br>standard=snappy<br>gpu=RTX3050TI<br>chunk_size=%{x}<br>decompression_utilization=%{y}<extra></extra>",
         "legendgroup": "500mb_lineitem.parquet",
         "line": {
          "color": "#FF97FF",
          "dash": "solid"
         },
         "marker": {
          "symbol": "circle"
         },
         "mode": "lines+markers",
         "name": "500mb_lineitem.parquet",
         "orientation": "v",
         "showlegend": true,
         "type": "scatter",
         "x": [
          4000,
          16000,
          64000,
          256000,
          1024000,
          4096000,
          16384000,
          65536000
         ],
         "xaxis": "x6",
         "y": [
          52.737597407718226,
          51.257390774892556,
          46.45839649495371,
          33.88785695289859,
          15.326256008254006,
          5.54796593496547,
          2.874173805665341,
          1.0267774204017615
         ],
         "yaxis": "y6"
        }
       ],
       "layout": {
        "annotations": [
         {
          "font": {},
          "showarrow": false,
          "text": "gpu=A100",
          "x": 0.14666666666666667,
          "xanchor": "center",
          "xref": "paper",
          "y": 1,
          "yanchor": "bottom",
          "yref": "paper"
         },
         {
          "font": {},
          "showarrow": false,
          "text": "gpu=RTX2080TI",
          "x": 0.49,
          "xanchor": "center",
          "xref": "paper",
          "y": 1,
          "yanchor": "bottom",
          "yref": "paper"
         },
         {
          "font": {},
          "showarrow": false,
          "text": "gpu=RTX3050TI",
          "x": 0.8333333333333333,
          "xanchor": "center",
          "xref": "paper",
          "y": 1,
          "yanchor": "bottom",
          "yref": "paper"
         },
         {
          "font": {},
          "showarrow": false,
          "text": "standard=zstd",
          "textangle": 90,
          "x": 0.98,
          "xanchor": "left",
          "xref": "paper",
          "y": 0.2425,
          "yanchor": "middle",
          "yref": "paper"
         },
         {
          "font": {},
          "showarrow": false,
          "text": "standard=snappy",
          "textangle": 90,
          "x": 0.98,
          "xanchor": "left",
          "xref": "paper",
          "y": 0.7575000000000001,
          "yanchor": "middle",
          "yref": "paper"
         }
        ],
        "legend": {
         "title": {
          "text": "file"
         },
         "tracegroupgap": 0
        },
        "template": {
         "data": {
          "bar": [
           {
            "error_x": {
             "color": "#2a3f5f"
            },
            "error_y": {
             "color": "#2a3f5f"
            },
            "marker": {
             "line": {
              "color": "#E5ECF6",
              "width": 0.5
             },
             "pattern": {
              "fillmode": "overlay",
              "size": 10,
              "solidity": 0.2
             }
            },
            "type": "bar"
           }
          ],
          "barpolar": [
           {
            "marker": {
             "line": {
              "color": "#E5ECF6",
              "width": 0.5
             },
             "pattern": {
              "fillmode": "overlay",
              "size": 10,
              "solidity": 0.2
             }
            },
            "type": "barpolar"
           }
          ],
          "carpet": [
           {
            "aaxis": {
             "endlinecolor": "#2a3f5f",
             "gridcolor": "white",
             "linecolor": "white",
             "minorgridcolor": "white",
             "startlinecolor": "#2a3f5f"
            },
            "baxis": {
             "endlinecolor": "#2a3f5f",
             "gridcolor": "white",
             "linecolor": "white",
             "minorgridcolor": "white",
             "startlinecolor": "#2a3f5f"
            },
            "type": "carpet"
           }
          ],
          "choropleth": [
           {
            "colorbar": {
             "outlinewidth": 0,
             "ticks": ""
            },
            "type": "choropleth"
           }
          ],
          "contour": [
           {
            "colorbar": {
             "outlinewidth": 0,
             "ticks": ""
            },
            "colorscale": [
             [
              0,
              "#0d0887"
             ],
             [
              0.1111111111111111,
              "#46039f"
             ],
             [
              0.2222222222222222,
              "#7201a8"
             ],
             [
              0.3333333333333333,
              "#9c179e"
             ],
             [
              0.4444444444444444,
              "#bd3786"
             ],
             [
              0.5555555555555556,
              "#d8576b"
             ],
             [
              0.6666666666666666,
              "#ed7953"
             ],
             [
              0.7777777777777778,
              "#fb9f3a"
             ],
             [
              0.8888888888888888,
              "#fdca26"
             ],
             [
              1,
              "#f0f921"
             ]
            ],
            "type": "contour"
           }
          ],
          "contourcarpet": [
           {
            "colorbar": {
             "outlinewidth": 0,
             "ticks": ""
            },
            "type": "contourcarpet"
           }
          ],
          "heatmap": [
           {
            "colorbar": {
             "outlinewidth": 0,
             "ticks": ""
            },
            "colorscale": [
             [
              0,
              "#0d0887"
             ],
             [
              0.1111111111111111,
              "#46039f"
             ],
             [
              0.2222222222222222,
              "#7201a8"
             ],
             [
              0.3333333333333333,
              "#9c179e"
             ],
             [
              0.4444444444444444,
              "#bd3786"
             ],
             [
              0.5555555555555556,
              "#d8576b"
             ],
             [
              0.6666666666666666,
              "#ed7953"
             ],
             [
              0.7777777777777778,
              "#fb9f3a"
             ],
             [
              0.8888888888888888,
              "#fdca26"
             ],
             [
              1,
              "#f0f921"
             ]
            ],
            "type": "heatmap"
           }
          ],
          "heatmapgl": [
           {
            "colorbar": {
             "outlinewidth": 0,
             "ticks": ""
            },
            "colorscale": [
             [
              0,
              "#0d0887"
             ],
             [
              0.1111111111111111,
              "#46039f"
             ],
             [
              0.2222222222222222,
              "#7201a8"
             ],
             [
              0.3333333333333333,
              "#9c179e"
             ],
             [
              0.4444444444444444,
              "#bd3786"
             ],
             [
              0.5555555555555556,
              "#d8576b"
             ],
             [
              0.6666666666666666,
              "#ed7953"
             ],
             [
              0.7777777777777778,
              "#fb9f3a"
             ],
             [
              0.8888888888888888,
              "#fdca26"
             ],
             [
              1,
              "#f0f921"
             ]
            ],
            "type": "heatmapgl"
           }
          ],
          "histogram": [
           {
            "marker": {
             "pattern": {
              "fillmode": "overlay",
              "size": 10,
              "solidity": 0.2
             }
            },
            "type": "histogram"
           }
          ],
          "histogram2d": [
           {
            "colorbar": {
             "outlinewidth": 0,
             "ticks": ""
            },
            "colorscale": [
             [
              0,
              "#0d0887"
             ],
             [
              0.1111111111111111,
              "#46039f"
             ],
             [
              0.2222222222222222,
              "#7201a8"
             ],
             [
              0.3333333333333333,
              "#9c179e"
             ],
             [
              0.4444444444444444,
              "#bd3786"
             ],
             [
              0.5555555555555556,
              "#d8576b"
             ],
             [
              0.6666666666666666,
              "#ed7953"
             ],
             [
              0.7777777777777778,
              "#fb9f3a"
             ],
             [
              0.8888888888888888,
              "#fdca26"
             ],
             [
              1,
              "#f0f921"
             ]
            ],
            "type": "histogram2d"
           }
          ],
          "histogram2dcontour": [
           {
            "colorbar": {
             "outlinewidth": 0,
             "ticks": ""
            },
            "colorscale": [
             [
              0,
              "#0d0887"
             ],
             [
              0.1111111111111111,
              "#46039f"
             ],
             [
              0.2222222222222222,
              "#7201a8"
             ],
             [
              0.3333333333333333,
              "#9c179e"
             ],
             [
              0.4444444444444444,
              "#bd3786"
             ],
             [
              0.5555555555555556,
              "#d8576b"
             ],
             [
              0.6666666666666666,
              "#ed7953"
             ],
             [
              0.7777777777777778,
              "#fb9f3a"
             ],
             [
              0.8888888888888888,
              "#fdca26"
             ],
             [
              1,
              "#f0f921"
             ]
            ],
            "type": "histogram2dcontour"
           }
          ],
          "mesh3d": [
           {
            "colorbar": {
             "outlinewidth": 0,
             "ticks": ""
            },
            "type": "mesh3d"
           }
          ],
          "parcoords": [
           {
            "line": {
             "colorbar": {
              "outlinewidth": 0,
              "ticks": ""
             }
            },
            "type": "parcoords"
           }
          ],
          "pie": [
           {
            "automargin": true,
            "type": "pie"
           }
          ],
          "scatter": [
           {
            "fillpattern": {
             "fillmode": "overlay",
             "size": 10,
             "solidity": 0.2
            },
            "type": "scatter"
           }
          ],
          "scatter3d": [
           {
            "line": {
             "colorbar": {
              "outlinewidth": 0,
              "ticks": ""
             }
            },
            "marker": {
             "colorbar": {
              "outlinewidth": 0,
              "ticks": ""
             }
            },
            "type": "scatter3d"
           }
          ],
          "scattercarpet": [
           {
            "marker": {
             "colorbar": {
              "outlinewidth": 0,
              "ticks": ""
             }
            },
            "type": "scattercarpet"
           }
          ],
          "scattergeo": [
           {
            "marker": {
             "colorbar": {
              "outlinewidth": 0,
              "ticks": ""
             }
            },
            "type": "scattergeo"
           }
          ],
          "scattergl": [
           {
            "marker": {
             "colorbar": {
              "outlinewidth": 0,
              "ticks": ""
             }
            },
            "type": "scattergl"
           }
          ],
          "scattermapbox": [
           {
            "marker": {
             "colorbar": {
              "outlinewidth": 0,
              "ticks": ""
             }
            },
            "type": "scattermapbox"
           }
          ],
          "scatterpolar": [
           {
            "marker": {
             "colorbar": {
              "outlinewidth": 0,
              "ticks": ""
             }
            },
            "type": "scatterpolar"
           }
          ],
          "scatterpolargl": [
           {
            "marker": {
             "colorbar": {
              "outlinewidth": 0,
              "ticks": ""
             }
            },
            "type": "scatterpolargl"
           }
          ],
          "scatterternary": [
           {
            "marker": {
             "colorbar": {
              "outlinewidth": 0,
              "ticks": ""
             }
            },
            "type": "scatterternary"
           }
          ],
          "surface": [
           {
            "colorbar": {
             "outlinewidth": 0,
             "ticks": ""
            },
            "colorscale": [
             [
              0,
              "#0d0887"
             ],
             [
              0.1111111111111111,
              "#46039f"
             ],
             [
              0.2222222222222222,
              "#7201a8"
             ],
             [
              0.3333333333333333,
              "#9c179e"
             ],
             [
              0.4444444444444444,
              "#bd3786"
             ],
             [
              0.5555555555555556,
              "#d8576b"
             ],
             [
              0.6666666666666666,
              "#ed7953"
             ],
             [
              0.7777777777777778,
              "#fb9f3a"
             ],
             [
              0.8888888888888888,
              "#fdca26"
             ],
             [
              1,
              "#f0f921"
             ]
            ],
            "type": "surface"
           }
          ],
          "table": [
           {
            "cells": {
             "fill": {
              "color": "#EBF0F8"
             },
             "line": {
              "color": "white"
             }
            },
            "header": {
             "fill": {
              "color": "#C8D4E3"
             },
             "line": {
              "color": "white"
             }
            },
            "type": "table"
           }
          ]
         },
         "layout": {
          "annotationdefaults": {
           "arrowcolor": "#2a3f5f",
           "arrowhead": 0,
           "arrowwidth": 1
          },
          "autotypenumbers": "strict",
          "coloraxis": {
           "colorbar": {
            "outlinewidth": 0,
            "ticks": ""
           }
          },
          "colorscale": {
           "diverging": [
            [
             0,
             "#8e0152"
            ],
            [
             0.1,
             "#c51b7d"
            ],
            [
             0.2,
             "#de77ae"
            ],
            [
             0.3,
             "#f1b6da"
            ],
            [
             0.4,
             "#fde0ef"
            ],
            [
             0.5,
             "#f7f7f7"
            ],
            [
             0.6,
             "#e6f5d0"
            ],
            [
             0.7,
             "#b8e186"
            ],
            [
             0.8,
             "#7fbc41"
            ],
            [
             0.9,
             "#4d9221"
            ],
            [
             1,
             "#276419"
            ]
           ],
           "sequential": [
            [
             0,
             "#0d0887"
            ],
            [
             0.1111111111111111,
             "#46039f"
            ],
            [
             0.2222222222222222,
             "#7201a8"
            ],
            [
             0.3333333333333333,
             "#9c179e"
            ],
            [
             0.4444444444444444,
             "#bd3786"
            ],
            [
             0.5555555555555556,
             "#d8576b"
            ],
            [
             0.6666666666666666,
             "#ed7953"
            ],
            [
             0.7777777777777778,
             "#fb9f3a"
            ],
            [
             0.8888888888888888,
             "#fdca26"
            ],
            [
             1,
             "#f0f921"
            ]
           ],
           "sequentialminus": [
            [
             0,
             "#0d0887"
            ],
            [
             0.1111111111111111,
             "#46039f"
            ],
            [
             0.2222222222222222,
             "#7201a8"
            ],
            [
             0.3333333333333333,
             "#9c179e"
            ],
            [
             0.4444444444444444,
             "#bd3786"
            ],
            [
             0.5555555555555556,
             "#d8576b"
            ],
            [
             0.6666666666666666,
             "#ed7953"
            ],
            [
             0.7777777777777778,
             "#fb9f3a"
            ],
            [
             0.8888888888888888,
             "#fdca26"
            ],
            [
             1,
             "#f0f921"
            ]
           ]
          },
          "colorway": [
           "#636efa",
           "#EF553B",
           "#00cc96",
           "#ab63fa",
           "#FFA15A",
           "#19d3f3",
           "#FF6692",
           "#B6E880",
           "#FF97FF",
           "#FECB52"
          ],
          "font": {
           "color": "#2a3f5f"
          },
          "geo": {
           "bgcolor": "white",
           "lakecolor": "white",
           "landcolor": "#E5ECF6",
           "showlakes": true,
           "showland": true,
           "subunitcolor": "white"
          },
          "hoverlabel": {
           "align": "left"
          },
          "hovermode": "closest",
          "mapbox": {
           "style": "light"
          },
          "paper_bgcolor": "white",
          "plot_bgcolor": "#E5ECF6",
          "polar": {
           "angularaxis": {
            "gridcolor": "white",
            "linecolor": "white",
            "ticks": ""
           },
           "bgcolor": "#E5ECF6",
           "radialaxis": {
            "gridcolor": "white",
            "linecolor": "white",
            "ticks": ""
           }
          },
          "scene": {
           "xaxis": {
            "backgroundcolor": "#E5ECF6",
            "gridcolor": "white",
            "gridwidth": 2,
            "linecolor": "white",
            "showbackground": true,
            "ticks": "",
            "zerolinecolor": "white"
           },
           "yaxis": {
            "backgroundcolor": "#E5ECF6",
            "gridcolor": "white",
            "gridwidth": 2,
            "linecolor": "white",
            "showbackground": true,
            "ticks": "",
            "zerolinecolor": "white"
           },
           "zaxis": {
            "backgroundcolor": "#E5ECF6",
            "gridcolor": "white",
            "gridwidth": 2,
            "linecolor": "white",
            "showbackground": true,
            "ticks": "",
            "zerolinecolor": "white"
           }
          },
          "shapedefaults": {
           "line": {
            "color": "#2a3f5f"
           }
          },
          "ternary": {
           "aaxis": {
            "gridcolor": "white",
            "linecolor": "white",
            "ticks": ""
           },
           "baxis": {
            "gridcolor": "white",
            "linecolor": "white",
            "ticks": ""
           },
           "bgcolor": "#E5ECF6",
           "caxis": {
            "gridcolor": "white",
            "linecolor": "white",
            "ticks": ""
           }
          },
          "title": {
           "x": 0.05
          },
          "xaxis": {
           "automargin": true,
           "gridcolor": "white",
           "linecolor": "white",
           "ticks": "",
           "title": {
            "standoff": 15
           },
           "zerolinecolor": "white",
           "zerolinewidth": 2
          },
          "yaxis": {
           "automargin": true,
           "gridcolor": "white",
           "linecolor": "white",
           "ticks": "",
           "title": {
            "standoff": 15
           },
           "zerolinecolor": "white",
           "zerolinewidth": 2
          }
         }
        },
        "title": {
         "text": "GPU utilization decompression"
        },
        "width": 1200,
        "xaxis": {
         "anchor": "y",
         "domain": [
          0,
          0.29333333333333333
         ],
         "title": {
          "text": "chunk_size"
         },
         "type": "log"
        },
        "xaxis2": {
         "anchor": "y2",
         "domain": [
          0.3433333333333333,
          0.6366666666666667
         ],
         "matches": "x",
         "title": {
          "text": "chunk_size"
         },
         "type": "log"
        },
        "xaxis3": {
         "anchor": "y3",
         "domain": [
          0.6866666666666666,
          0.98
         ],
         "matches": "x",
         "title": {
          "text": "chunk_size"
         },
         "type": "log"
        },
        "xaxis4": {
         "anchor": "y4",
         "domain": [
          0,
          0.29333333333333333
         ],
         "matches": "x",
         "showticklabels": false,
         "type": "log"
        },
        "xaxis5": {
         "anchor": "y5",
         "domain": [
          0.3433333333333333,
          0.6366666666666667
         ],
         "matches": "x",
         "showticklabels": false,
         "type": "log"
        },
        "xaxis6": {
         "anchor": "y6",
         "domain": [
          0.6866666666666666,
          0.98
         ],
         "matches": "x",
         "showticklabels": false,
         "type": "log"
        },
        "yaxis": {
         "anchor": "x",
         "domain": [
          0,
          0.485
         ],
         "title": {
          "text": "decompression_utilization"
         },
         "type": "log"
        },
        "yaxis2": {
         "anchor": "x2",
         "domain": [
          0,
          0.485
         ],
         "matches": "y",
         "showticklabels": false,
         "type": "log"
        },
        "yaxis3": {
         "anchor": "x3",
         "domain": [
          0,
          0.485
         ],
         "matches": "y",
         "showticklabels": false,
         "type": "log"
        },
        "yaxis4": {
         "anchor": "x4",
         "domain": [
          0.515,
          1
         ],
         "matches": "y",
         "title": {
          "text": "decompression_utilization"
         },
         "type": "log"
        },
        "yaxis5": {
         "anchor": "x5",
         "domain": [
          0.515,
          1
         ],
         "matches": "y",
         "showticklabels": false,
         "type": "log"
        },
        "yaxis6": {
         "anchor": "x6",
         "domain": [
          0.515,
          1
         ],
         "matches": "y",
         "showticklabels": false,
         "type": "log"
        }
       }
      }
     },
     "metadata": {},
     "output_type": "display_data"
    }
   ],
   "source": [
    "fig_gpus_utilization_decompression = px.line(\n",
    "    all_utilization_df,\n",
    "    title=f\"GPU utilization decompression\", \n",
    "    x=\"chunk_size\",\n",
    "    y=\"decompression_utilization\",\n",
    "    color=\"file\",\n",
    "    log_x=True,\n",
    "    markers=True,\n",
    "    log_y=True,\n",
    "    facet_col='gpu',\n",
    "    facet_row='standard',\n",
    "    facet_col_spacing=0.05,\n",
    "    width=1200,\n",
    ")\n",
    "# fig_gpus_utilization_decompression.update_xaxes(autorange=\"reversed\")\n",
    "# fig_gpus_utilization_decompression.update_xaxes(dict(\n",
    "#         tickmode = 'array',\n",
    "#         tickvals = alldf['chunksize_Bytes'],\n",
    "#         ticktext = alldf['chunksize_Bytes_formatted'],\n",
    "#         tickangle=45,\n",
    "#     )\n",
    "# )\n",
    "# fig_gpus_utilization_decompression.update_layout(\n",
    "#     yaxis_title=\"Compression ratio\",\n",
    "#     xaxis_title=\"Chunk size\",\n",
    "#     xaxis2_title=\"Chunk size\",\n",
    "#     font_size=16,\n",
    "# )\n",
    "\n",
    "fig_gpus_utilization_decompression.show()"
   ]
  }
 ],
 "metadata": {
  "kernelspec": {
   "display_name": "base",
   "language": "python",
   "name": "python3"
  },
  "language_info": {
   "codemirror_mode": {
    "name": "ipython",
    "version": 3
   },
   "file_extension": ".py",
   "mimetype": "text/x-python",
   "name": "python",
   "nbconvert_exporter": "python",
   "pygments_lexer": "ipython3",
   "version": "3.10.13"
  }
 },
 "nbformat": 4,
 "nbformat_minor": 2
}
