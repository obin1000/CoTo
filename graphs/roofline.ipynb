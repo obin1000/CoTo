{
 "cells": [
  {
   "cell_type": "code",
   "execution_count": 3,
   "id": "initial_id",
   "metadata": {
    "ExecuteTime": {
     "end_time": "2024-02-15T16:00:18.456295304Z",
     "start_time": "2024-02-15T16:00:18.254452156Z"
    },
    "collapsed": true
   },
   "outputs": [
    {
     "name": "stderr",
     "output_type": "stream",
     "text": [
      "/var/folders/5z/1fjczghs4x101sqrk1z655tc0000gn/T/ipykernel_82599/1782465218.py:19: RuntimeWarning:\n",
      "\n",
      "invalid value encountered in divide\n",
      "\n"
     ]
    },
    {
     "data": {
      "application/vnd.plotly.v1+json": {
       "config": {
        "plotlyServerURL": "https://plot.ly"
       },
       "data": [
        {
         "line": {
          "color": "blue"
         },
         "mode": "lines",
         "name": "Performance Roof",
         "type": "scatter",
         "x": [
          0,
          0.5050505050505051,
          1.0101010101010102,
          1.5151515151515151,
          2.0202020202020203,
          2.5252525252525255,
          3.0303030303030303,
          3.5353535353535355,
          4.040404040404041,
          4.545454545454546,
          5.050505050505051,
          5.555555555555556,
          6.0606060606060606,
          6.565656565656566,
          7.070707070707071,
          7.575757575757576,
          8.080808080808081,
          8.585858585858587,
          9.090909090909092,
          9.595959595959597,
          10.101010101010102,
          10.606060606060607,
          11.111111111111112,
          11.616161616161618,
          12.121212121212121,
          12.626262626262626,
          13.131313131313131,
          13.636363636363637,
          14.141414141414142,
          14.646464646464647,
          15.151515151515152,
          15.656565656565657,
          16.161616161616163,
          16.666666666666668,
          17.171717171717173,
          17.67676767676768,
          18.181818181818183,
          18.68686868686869,
          19.191919191919194,
          19.6969696969697,
          20.202020202020204,
          20.70707070707071,
          21.212121212121215,
          21.71717171717172,
          22.222222222222225,
          22.72727272727273,
          23.232323232323235,
          23.73737373737374,
          24.242424242424242,
          24.747474747474747,
          25.252525252525253,
          25.757575757575758,
          26.262626262626263,
          26.767676767676768,
          27.272727272727273,
          27.77777777777778,
          28.282828282828284,
          28.78787878787879,
          29.292929292929294,
          29.7979797979798,
          30.303030303030305,
          30.80808080808081,
          31.313131313131315,
          31.81818181818182,
          32.323232323232325,
          32.82828282828283,
          33.333333333333336,
          33.83838383838384,
          34.343434343434346,
          34.84848484848485,
          35.35353535353536,
          35.85858585858586,
          36.36363636363637,
          36.86868686868687,
          37.37373737373738,
          37.87878787878788,
          38.38383838383839,
          38.88888888888889,
          39.3939393939394,
          39.8989898989899,
          40.40404040404041,
          40.909090909090914,
          41.41414141414142,
          41.919191919191924,
          42.42424242424243,
          42.929292929292934,
          43.43434343434344,
          43.939393939393945,
          44.44444444444445,
          44.949494949494955,
          45.45454545454546,
          45.959595959595966,
          46.46464646464647,
          46.969696969696976,
          47.47474747474748,
          47.979797979797986,
          48.484848484848484,
          48.98989898989899,
          49.494949494949495,
          50
         ],
         "y": [
          0,
          25.252525252525253,
          50.505050505050505,
          75.75757575757575,
          100,
          100,
          100,
          100,
          100,
          100,
          100,
          100,
          100,
          100,
          100,
          100,
          100,
          100,
          100,
          100,
          100,
          100,
          100,
          100,
          100,
          100,
          100,
          100,
          100,
          100,
          100,
          100,
          100,
          100,
          100,
          100,
          100,
          100,
          100,
          100,
          100,
          100,
          100,
          100,
          100,
          100,
          100,
          100,
          100,
          100,
          100,
          100,
          100,
          100,
          100,
          100,
          100,
          100,
          100,
          100,
          100,
          100,
          100,
          100,
          100,
          100,
          100,
          100,
          100,
          100,
          100,
          100,
          100,
          100,
          100,
          100,
          100,
          100,
          100,
          100,
          100,
          100,
          100,
          100,
          100,
          100,
          100,
          100,
          100,
          100,
          100,
          100,
          100,
          100,
          100,
          100,
          100,
          100,
          100,
          100
         ]
        },
        {
         "line": {
          "color": "red"
         },
         "mode": "lines",
         "name": "Bandwidth Roof",
         "type": "scatter",
         "x": [
          0,
          0.5050505050505051,
          1.0101010101010102,
          1.5151515151515151,
          2.0202020202020203,
          2.5252525252525255,
          3.0303030303030303,
          3.5353535353535355,
          4.040404040404041,
          4.545454545454546,
          5.050505050505051,
          5.555555555555556,
          6.0606060606060606,
          6.565656565656566,
          7.070707070707071,
          7.575757575757576,
          8.080808080808081,
          8.585858585858587,
          9.090909090909092,
          9.595959595959597,
          10.101010101010102,
          10.606060606060607,
          11.111111111111112,
          11.616161616161618,
          12.121212121212121,
          12.626262626262626,
          13.131313131313131,
          13.636363636363637,
          14.141414141414142,
          14.646464646464647,
          15.151515151515152,
          15.656565656565657,
          16.161616161616163,
          16.666666666666668,
          17.171717171717173,
          17.67676767676768,
          18.181818181818183,
          18.68686868686869,
          19.191919191919194,
          19.6969696969697,
          20.202020202020204,
          20.70707070707071,
          21.212121212121215,
          21.71717171717172,
          22.222222222222225,
          22.72727272727273,
          23.232323232323235,
          23.73737373737374,
          24.242424242424242,
          24.747474747474747,
          25.252525252525253,
          25.757575757575758,
          26.262626262626263,
          26.767676767676768,
          27.272727272727273,
          27.77777777777778,
          28.282828282828284,
          28.78787878787879,
          29.292929292929294,
          29.7979797979798,
          30.303030303030305,
          30.80808080808081,
          31.313131313131315,
          31.81818181818182,
          32.323232323232325,
          32.82828282828283,
          33.333333333333336,
          33.83838383838384,
          34.343434343434346,
          34.84848484848485,
          35.35353535353536,
          35.85858585858586,
          36.36363636363637,
          36.86868686868687,
          37.37373737373738,
          37.87878787878788,
          38.38383838383839,
          38.88888888888889,
          39.3939393939394,
          39.8989898989899,
          40.40404040404041,
          40.909090909090914,
          41.41414141414142,
          41.919191919191924,
          42.42424242424243,
          42.929292929292934,
          43.43434343434344,
          43.939393939393945,
          44.44444444444445,
          44.949494949494955,
          45.45454545454546,
          45.959595959595966,
          46.46464646464647,
          46.969696969696976,
          47.47474747474748,
          47.979797979797986,
          48.484848484848484,
          48.98989898989899,
          49.494949494949495,
          50
         ],
         "y": [
          null,
          50,
          50,
          49.99999999999999,
          49.5,
          39.599999999999994,
          33,
          28.285714285714285,
          24.75,
          21.999999999999996,
          19.799999999999997,
          17.999999999999996,
          16.5,
          15.23076923076923,
          14.142857142857142,
          13.2,
          12.375,
          11.647058823529411,
          10.999999999999998,
          10.421052631578947,
          9.899999999999999,
          9.428571428571427,
          8.999999999999998,
          8.608695652173912,
          8.25,
          7.92,
          7.615384615384615,
          7.333333333333333,
          7.071428571428571,
          6.827586206896552,
          6.6,
          6.387096774193548,
          6.1875,
          6,
          5.823529411764706,
          5.657142857142857,
          5.499999999999999,
          5.351351351351351,
          5.2105263157894735,
          5.076923076923077,
          4.949999999999999,
          4.829268292682927,
          4.7142857142857135,
          4.604651162790697,
          4.499999999999999,
          4.3999999999999995,
          4.304347826086956,
          4.212765957446808,
          4.125,
          4.040816326530612,
          3.96,
          3.8823529411764706,
          3.8076923076923075,
          3.7358490566037736,
          3.6666666666666665,
          3.6,
          3.5357142857142856,
          3.4736842105263155,
          3.413793103448276,
          3.3559322033898304,
          3.3,
          3.245901639344262,
          3.193548387096774,
          3.142857142857143,
          3.09375,
          3.046153846153846,
          3,
          2.9552238805970146,
          2.911764705882353,
          2.869565217391304,
          2.8285714285714283,
          2.788732394366197,
          2.7499999999999996,
          2.7123287671232874,
          2.6756756756756754,
          2.6399999999999997,
          2.6052631578947367,
          2.571428571428571,
          2.5384615384615383,
          2.5063291139240502,
          2.4749999999999996,
          2.444444444444444,
          2.4146341463414633,
          2.3855421686746987,
          2.3571428571428568,
          2.329411764705882,
          2.3023255813953485,
          2.275862068965517,
          2.2499999999999996,
          2.224719101123595,
          2.1999999999999997,
          2.1758241758241756,
          2.152173913043478,
          2.129032258064516,
          2.106382978723404,
          2.0842105263157893,
          2.0625,
          2.0412371134020617,
          2.020408163265306,
          2
         ]
        }
       ],
       "layout": {
        "template": {
         "data": {
          "bar": [
           {
            "error_x": {
             "color": "#2a3f5f"
            },
            "error_y": {
             "color": "#2a3f5f"
            },
            "marker": {
             "line": {
              "color": "#E5ECF6",
              "width": 0.5
             },
             "pattern": {
              "fillmode": "overlay",
              "size": 10,
              "solidity": 0.2
             }
            },
            "type": "bar"
           }
          ],
          "barpolar": [
           {
            "marker": {
             "line": {
              "color": "#E5ECF6",
              "width": 0.5
             },
             "pattern": {
              "fillmode": "overlay",
              "size": 10,
              "solidity": 0.2
             }
            },
            "type": "barpolar"
           }
          ],
          "carpet": [
           {
            "aaxis": {
             "endlinecolor": "#2a3f5f",
             "gridcolor": "white",
             "linecolor": "white",
             "minorgridcolor": "white",
             "startlinecolor": "#2a3f5f"
            },
            "baxis": {
             "endlinecolor": "#2a3f5f",
             "gridcolor": "white",
             "linecolor": "white",
             "minorgridcolor": "white",
             "startlinecolor": "#2a3f5f"
            },
            "type": "carpet"
           }
          ],
          "choropleth": [
           {
            "colorbar": {
             "outlinewidth": 0,
             "ticks": ""
            },
            "type": "choropleth"
           }
          ],
          "contour": [
           {
            "colorbar": {
             "outlinewidth": 0,
             "ticks": ""
            },
            "colorscale": [
             [
              0,
              "#0d0887"
             ],
             [
              0.1111111111111111,
              "#46039f"
             ],
             [
              0.2222222222222222,
              "#7201a8"
             ],
             [
              0.3333333333333333,
              "#9c179e"
             ],
             [
              0.4444444444444444,
              "#bd3786"
             ],
             [
              0.5555555555555556,
              "#d8576b"
             ],
             [
              0.6666666666666666,
              "#ed7953"
             ],
             [
              0.7777777777777778,
              "#fb9f3a"
             ],
             [
              0.8888888888888888,
              "#fdca26"
             ],
             [
              1,
              "#f0f921"
             ]
            ],
            "type": "contour"
           }
          ],
          "contourcarpet": [
           {
            "colorbar": {
             "outlinewidth": 0,
             "ticks": ""
            },
            "type": "contourcarpet"
           }
          ],
          "heatmap": [
           {
            "colorbar": {
             "outlinewidth": 0,
             "ticks": ""
            },
            "colorscale": [
             [
              0,
              "#0d0887"
             ],
             [
              0.1111111111111111,
              "#46039f"
             ],
             [
              0.2222222222222222,
              "#7201a8"
             ],
             [
              0.3333333333333333,
              "#9c179e"
             ],
             [
              0.4444444444444444,
              "#bd3786"
             ],
             [
              0.5555555555555556,
              "#d8576b"
             ],
             [
              0.6666666666666666,
              "#ed7953"
             ],
             [
              0.7777777777777778,
              "#fb9f3a"
             ],
             [
              0.8888888888888888,
              "#fdca26"
             ],
             [
              1,
              "#f0f921"
             ]
            ],
            "type": "heatmap"
           }
          ],
          "heatmapgl": [
           {
            "colorbar": {
             "outlinewidth": 0,
             "ticks": ""
            },
            "colorscale": [
             [
              0,
              "#0d0887"
             ],
             [
              0.1111111111111111,
              "#46039f"
             ],
             [
              0.2222222222222222,
              "#7201a8"
             ],
             [
              0.3333333333333333,
              "#9c179e"
             ],
             [
              0.4444444444444444,
              "#bd3786"
             ],
             [
              0.5555555555555556,
              "#d8576b"
             ],
             [
              0.6666666666666666,
              "#ed7953"
             ],
             [
              0.7777777777777778,
              "#fb9f3a"
             ],
             [
              0.8888888888888888,
              "#fdca26"
             ],
             [
              1,
              "#f0f921"
             ]
            ],
            "type": "heatmapgl"
           }
          ],
          "histogram": [
           {
            "marker": {
             "pattern": {
              "fillmode": "overlay",
              "size": 10,
              "solidity": 0.2
             }
            },
            "type": "histogram"
           }
          ],
          "histogram2d": [
           {
            "colorbar": {
             "outlinewidth": 0,
             "ticks": ""
            },
            "colorscale": [
             [
              0,
              "#0d0887"
             ],
             [
              0.1111111111111111,
              "#46039f"
             ],
             [
              0.2222222222222222,
              "#7201a8"
             ],
             [
              0.3333333333333333,
              "#9c179e"
             ],
             [
              0.4444444444444444,
              "#bd3786"
             ],
             [
              0.5555555555555556,
              "#d8576b"
             ],
             [
              0.6666666666666666,
              "#ed7953"
             ],
             [
              0.7777777777777778,
              "#fb9f3a"
             ],
             [
              0.8888888888888888,
              "#fdca26"
             ],
             [
              1,
              "#f0f921"
             ]
            ],
            "type": "histogram2d"
           }
          ],
          "histogram2dcontour": [
           {
            "colorbar": {
             "outlinewidth": 0,
             "ticks": ""
            },
            "colorscale": [
             [
              0,
              "#0d0887"
             ],
             [
              0.1111111111111111,
              "#46039f"
             ],
             [
              0.2222222222222222,
              "#7201a8"
             ],
             [
              0.3333333333333333,
              "#9c179e"
             ],
             [
              0.4444444444444444,
              "#bd3786"
             ],
             [
              0.5555555555555556,
              "#d8576b"
             ],
             [
              0.6666666666666666,
              "#ed7953"
             ],
             [
              0.7777777777777778,
              "#fb9f3a"
             ],
             [
              0.8888888888888888,
              "#fdca26"
             ],
             [
              1,
              "#f0f921"
             ]
            ],
            "type": "histogram2dcontour"
           }
          ],
          "mesh3d": [
           {
            "colorbar": {
             "outlinewidth": 0,
             "ticks": ""
            },
            "type": "mesh3d"
           }
          ],
          "parcoords": [
           {
            "line": {
             "colorbar": {
              "outlinewidth": 0,
              "ticks": ""
             }
            },
            "type": "parcoords"
           }
          ],
          "pie": [
           {
            "automargin": true,
            "type": "pie"
           }
          ],
          "scatter": [
           {
            "fillpattern": {
             "fillmode": "overlay",
             "size": 10,
             "solidity": 0.2
            },
            "type": "scatter"
           }
          ],
          "scatter3d": [
           {
            "line": {
             "colorbar": {
              "outlinewidth": 0,
              "ticks": ""
             }
            },
            "marker": {
             "colorbar": {
              "outlinewidth": 0,
              "ticks": ""
             }
            },
            "type": "scatter3d"
           }
          ],
          "scattercarpet": [
           {
            "marker": {
             "colorbar": {
              "outlinewidth": 0,
              "ticks": ""
             }
            },
            "type": "scattercarpet"
           }
          ],
          "scattergeo": [
           {
            "marker": {
             "colorbar": {
              "outlinewidth": 0,
              "ticks": ""
             }
            },
            "type": "scattergeo"
           }
          ],
          "scattergl": [
           {
            "marker": {
             "colorbar": {
              "outlinewidth": 0,
              "ticks": ""
             }
            },
            "type": "scattergl"
           }
          ],
          "scattermapbox": [
           {
            "marker": {
             "colorbar": {
              "outlinewidth": 0,
              "ticks": ""
             }
            },
            "type": "scattermapbox"
           }
          ],
          "scatterpolar": [
           {
            "marker": {
             "colorbar": {
              "outlinewidth": 0,
              "ticks": ""
             }
            },
            "type": "scatterpolar"
           }
          ],
          "scatterpolargl": [
           {
            "marker": {
             "colorbar": {
              "outlinewidth": 0,
              "ticks": ""
             }
            },
            "type": "scatterpolargl"
           }
          ],
          "scatterternary": [
           {
            "marker": {
             "colorbar": {
              "outlinewidth": 0,
              "ticks": ""
             }
            },
            "type": "scatterternary"
           }
          ],
          "surface": [
           {
            "colorbar": {
             "outlinewidth": 0,
             "ticks": ""
            },
            "colorscale": [
             [
              0,
              "#0d0887"
             ],
             [
              0.1111111111111111,
              "#46039f"
             ],
             [
              0.2222222222222222,
              "#7201a8"
             ],
             [
              0.3333333333333333,
              "#9c179e"
             ],
             [
              0.4444444444444444,
              "#bd3786"
             ],
             [
              0.5555555555555556,
              "#d8576b"
             ],
             [
              0.6666666666666666,
              "#ed7953"
             ],
             [
              0.7777777777777778,
              "#fb9f3a"
             ],
             [
              0.8888888888888888,
              "#fdca26"
             ],
             [
              1,
              "#f0f921"
             ]
            ],
            "type": "surface"
           }
          ],
          "table": [
           {
            "cells": {
             "fill": {
              "color": "#EBF0F8"
             },
             "line": {
              "color": "white"
             }
            },
            "header": {
             "fill": {
              "color": "#C8D4E3"
             },
             "line": {
              "color": "white"
             }
            },
            "type": "table"
           }
          ]
         },
         "layout": {
          "annotationdefaults": {
           "arrowcolor": "#2a3f5f",
           "arrowhead": 0,
           "arrowwidth": 1
          },
          "autotypenumbers": "strict",
          "coloraxis": {
           "colorbar": {
            "outlinewidth": 0,
            "ticks": ""
           }
          },
          "colorscale": {
           "diverging": [
            [
             0,
             "#8e0152"
            ],
            [
             0.1,
             "#c51b7d"
            ],
            [
             0.2,
             "#de77ae"
            ],
            [
             0.3,
             "#f1b6da"
            ],
            [
             0.4,
             "#fde0ef"
            ],
            [
             0.5,
             "#f7f7f7"
            ],
            [
             0.6,
             "#e6f5d0"
            ],
            [
             0.7,
             "#b8e186"
            ],
            [
             0.8,
             "#7fbc41"
            ],
            [
             0.9,
             "#4d9221"
            ],
            [
             1,
             "#276419"
            ]
           ],
           "sequential": [
            [
             0,
             "#0d0887"
            ],
            [
             0.1111111111111111,
             "#46039f"
            ],
            [
             0.2222222222222222,
             "#7201a8"
            ],
            [
             0.3333333333333333,
             "#9c179e"
            ],
            [
             0.4444444444444444,
             "#bd3786"
            ],
            [
             0.5555555555555556,
             "#d8576b"
            ],
            [
             0.6666666666666666,
             "#ed7953"
            ],
            [
             0.7777777777777778,
             "#fb9f3a"
            ],
            [
             0.8888888888888888,
             "#fdca26"
            ],
            [
             1,
             "#f0f921"
            ]
           ],
           "sequentialminus": [
            [
             0,
             "#0d0887"
            ],
            [
             0.1111111111111111,
             "#46039f"
            ],
            [
             0.2222222222222222,
             "#7201a8"
            ],
            [
             0.3333333333333333,
             "#9c179e"
            ],
            [
             0.4444444444444444,
             "#bd3786"
            ],
            [
             0.5555555555555556,
             "#d8576b"
            ],
            [
             0.6666666666666666,
             "#ed7953"
            ],
            [
             0.7777777777777778,
             "#fb9f3a"
            ],
            [
             0.8888888888888888,
             "#fdca26"
            ],
            [
             1,
             "#f0f921"
            ]
           ]
          },
          "colorway": [
           "#636efa",
           "#EF553B",
           "#00cc96",
           "#ab63fa",
           "#FFA15A",
           "#19d3f3",
           "#FF6692",
           "#B6E880",
           "#FF97FF",
           "#FECB52"
          ],
          "font": {
           "color": "#2a3f5f"
          },
          "geo": {
           "bgcolor": "white",
           "lakecolor": "white",
           "landcolor": "#E5ECF6",
           "showlakes": true,
           "showland": true,
           "subunitcolor": "white"
          },
          "hoverlabel": {
           "align": "left"
          },
          "hovermode": "closest",
          "mapbox": {
           "style": "light"
          },
          "paper_bgcolor": "white",
          "plot_bgcolor": "#E5ECF6",
          "polar": {
           "angularaxis": {
            "gridcolor": "white",
            "linecolor": "white",
            "ticks": ""
           },
           "bgcolor": "#E5ECF6",
           "radialaxis": {
            "gridcolor": "white",
            "linecolor": "white",
            "ticks": ""
           }
          },
          "scene": {
           "xaxis": {
            "backgroundcolor": "#E5ECF6",
            "gridcolor": "white",
            "gridwidth": 2,
            "linecolor": "white",
            "showbackground": true,
            "ticks": "",
            "zerolinecolor": "white"
           },
           "yaxis": {
            "backgroundcolor": "#E5ECF6",
            "gridcolor": "white",
            "gridwidth": 2,
            "linecolor": "white",
            "showbackground": true,
            "ticks": "",
            "zerolinecolor": "white"
           },
           "zaxis": {
            "backgroundcolor": "#E5ECF6",
            "gridcolor": "white",
            "gridwidth": 2,
            "linecolor": "white",
            "showbackground": true,
            "ticks": "",
            "zerolinecolor": "white"
           }
          },
          "shapedefaults": {
           "line": {
            "color": "#2a3f5f"
           }
          },
          "ternary": {
           "aaxis": {
            "gridcolor": "white",
            "linecolor": "white",
            "ticks": ""
           },
           "baxis": {
            "gridcolor": "white",
            "linecolor": "white",
            "ticks": ""
           },
           "bgcolor": "#E5ECF6",
           "caxis": {
            "gridcolor": "white",
            "linecolor": "white",
            "ticks": ""
           }
          },
          "title": {
           "x": 0.05
          },
          "xaxis": {
           "automargin": true,
           "gridcolor": "white",
           "linecolor": "white",
           "ticks": "",
           "title": {
            "standoff": 15
           },
           "zerolinecolor": "white",
           "zerolinewidth": 2
          },
          "yaxis": {
           "automargin": true,
           "gridcolor": "white",
           "linecolor": "white",
           "ticks": "",
           "title": {
            "standoff": 15
           },
           "zerolinecolor": "white",
           "zerolinewidth": 2
          }
         }
        },
        "title": {
         "text": "Roofline Model"
        },
        "xaxis": {
         "title": {
          "text": "Operational Intensity (FLOPs/Byte)"
         }
        },
        "yaxis": {
         "title": {
          "text": "Performance (GFLOPs)"
         }
        }
       }
      }
     },
     "metadata": {},
     "output_type": "display_data"
    }
   ],
   "source": [
    "import numpy as np\n",
    "import pandas as pd\n",
    "import plotly.graph_objs as go\n",
    "\n",
    "import numpy as np\n",
    "import plotly.graph_objs as go\n",
    "\n",
    "# Define parameters\n",
    "peak_performance = 100  # Peak performance of the system (in GFLOPs, for example)\n",
    "peak_bandwidth = 50     # Peak memory bandwidth (in GB/s, for example)\n",
    "intensity_points = 100  # Number of intensity points to plot\n",
    "max_intensity = 50      # Maximum operational intensity\n",
    "\n",
    "# Generate operational intensity points\n",
    "intensity = np.linspace(0, max_intensity, intensity_points)\n",
    "\n",
    "# Calculate performance and bandwidth roofs\n",
    "performance_roof = np.minimum(peak_performance, intensity * peak_bandwidth)\n",
    "bandwidth_roof = np.minimum(peak_bandwidth, performance_roof / intensity)\n",
    "\n",
    "# Create traces\n",
    "performance_trace = go.Scatter(x=intensity, y=performance_roof, mode='lines', name='Performance Roof', line=dict(color='blue'))\n",
    "bandwidth_trace = go.Scatter(x=intensity, y=bandwidth_roof, mode='lines', name='Bandwidth Roof', line=dict(color='red'))\n",
    "\n",
    "# Create layout\n",
    "layout = go.Layout(title='Roofline Model',\n",
    "                   xaxis=dict(title='Operational Intensity (FLOPs/Byte)'),\n",
    "                   yaxis=dict(title='Performance (GFLOPs)'),\n",
    "                   )\n",
    "\n",
    "# Plot\n",
    "fig = go.Figure(data=[performance_trace, bandwidth_trace], layout=layout)\n",
    "fig.show()\n"
   ]
  }
 ],
 "metadata": {
  "kernelspec": {
   "display_name": "Python 3",
   "language": "python",
   "name": "python3"
  },
  "language_info": {
   "codemirror_mode": {
    "name": "ipython",
    "version": 3
   },
   "file_extension": ".py",
   "mimetype": "text/x-python",
   "name": "python",
   "nbconvert_exporter": "python",
   "pygments_lexer": "ipython3",
   "version": "3.10.13"
  }
 },
 "nbformat": 4,
 "nbformat_minor": 5
}
