{
 "cells": [
  {
   "cell_type": "code",
   "execution_count": 6,
   "id": "initial_id",
   "metadata": {
    "ExecuteTime": {
     "end_time": "2024-03-14T10:23:48.011059Z",
     "start_time": "2024-03-14T10:23:48.007425Z"
    },
    "collapsed": true
   },
   "outputs": [],
   "source": [
    "import matplotlib as mpl\n",
    "import matplotlib.pyplot as plt\n",
    "import numpy as np\n",
    "import pandas as pd\n",
    "import plotly.express as px\n",
    "import glob\n",
    "import re\n",
    "\n",
    "\n",
    "multi_file = True\n",
    "\n",
    "if multi_file:\n",
    "    # interesting_files = glob.glob(\"../data/cuda01/silesia/*.csv\")\n",
    "    interesting_files = glob.glob(\"../data/gohan/lzbench/profile/*.csv\")\n",
    "    illegal_file = \".*_all.csv\"\n",
    "    interesting_files.sort()\n",
    "else:\n",
    "    input_file = \"../data/gohan/lzbench/cuda_all.csv\"\n",
    "\n",
    "\n",
    "name = \"tab20\"\n",
    "cmap = mpl.colormaps[name]\n",
    "colors = cmap.colors\n",
    "\n",
    "for sus_file in interesting_files:\n",
    "    if re.match(illegal_file, sus_file):\n",
    "        interesting_files.remove(sus_file)\n",
    " \n",
    "def fix_chunk_value(chunk_data):\n",
    "    \"\"\" Convert the parameter to bitshifted chunk size \"\"\"\n",
    "    return (1 << int(abs(chunk_data)+6))\n",
    "\n",
    "def fix_compression_ratio(data):\n",
    "    \"\"\" Convert compression percentage to compression ratio \"\"\"\n",
    "    return 100/data\n",
    "\n",
    "def get_chunk_size_from_name(name):\n",
    "    \"\"\" nvcomp_zstd 3.0.5 -10: return 10 \"\"\"\n",
    "    return int(re.findall(r'\\d+', name)[-1])\n",
    "\n",
    "def make_groupable_name(name):\n",
    "    \"\"\" Make name constant per compressor \"\"\"\n",
    "    return name.split()[0].replace('_', ' ')\n",
    "\n",
    "def fix_chunk_sizes(df: pd.DataFrame):\n",
    "    \"\"\" Chunk sizes list for plot\"\"\"\n",
    "    if not ('Chunk size' in df.columns):\n",
    "        df['Chunk size'] = df['Compressor name'].apply(get_chunk_size_from_name)\n",
    "    df['Chunk size'] = df['Chunk size'].apply(fix_chunk_value)\n",
    "    return df"
   ]
  },
  {
   "cell_type": "code",
   "execution_count": 7,
   "id": "2c04c87f",
   "metadata": {},
   "outputs": [
    {
     "data": {
      "text/html": [
       "<div>\n",
       "<style scoped>\n",
       "    .dataframe tbody tr th:only-of-type {\n",
       "        vertical-align: middle;\n",
       "    }\n",
       "\n",
       "    .dataframe tbody tr th {\n",
       "        vertical-align: top;\n",
       "    }\n",
       "\n",
       "    .dataframe thead th {\n",
       "        text-align: right;\n",
       "    }\n",
       "</style>\n",
       "<table border=\"1\" class=\"dataframe\">\n",
       "  <thead>\n",
       "    <tr style=\"text-align: right;\">\n",
       "      <th></th>\n",
       "      <th>Compressor name</th>\n",
       "      <th>Compression speed</th>\n",
       "      <th>Decompression speed</th>\n",
       "      <th>Original size</th>\n",
       "      <th>Compressed size</th>\n",
       "      <th>Ratio</th>\n",
       "      <th>Filename</th>\n",
       "      <th>Chunk size</th>\n",
       "      <th>Compressor parsed name</th>\n",
       "      <th>ratio parsed</th>\n",
       "    </tr>\n",
       "  </thead>\n",
       "  <tbody>\n",
       "    <tr>\n",
       "      <th>1</th>\n",
       "      <td>nvcomp_ans 3.0.5 -5</td>\n",
       "      <td>4810.19</td>\n",
       "      <td>4792.34</td>\n",
       "      <td>211957760</td>\n",
       "      <td>184551816</td>\n",
       "      <td>87.07</td>\n",
       "      <td>/home/robin/dataset/silesia.tar</td>\n",
       "      <td>2048</td>\n",
       "      <td>nvcomp ans</td>\n",
       "      <td>1.148501</td>\n",
       "    </tr>\n",
       "    <tr>\n",
       "      <th>2</th>\n",
       "      <td>nvcomp_ans 3.0.5 -6</td>\n",
       "      <td>5326.15</td>\n",
       "      <td>5248.82</td>\n",
       "      <td>211957760</td>\n",
       "      <td>161362632</td>\n",
       "      <td>76.13</td>\n",
       "      <td>/home/robin/dataset/silesia.tar</td>\n",
       "      <td>4096</td>\n",
       "      <td>nvcomp ans</td>\n",
       "      <td>1.313543</td>\n",
       "    </tr>\n",
       "    <tr>\n",
       "      <th>3</th>\n",
       "      <td>nvcomp_ans 3.0.5 -7</td>\n",
       "      <td>5610.25</td>\n",
       "      <td>5498.29</td>\n",
       "      <td>211957760</td>\n",
       "      <td>149984936</td>\n",
       "      <td>70.76</td>\n",
       "      <td>/home/robin/dataset/silesia.tar</td>\n",
       "      <td>8192</td>\n",
       "      <td>nvcomp ans</td>\n",
       "      <td>1.413228</td>\n",
       "    </tr>\n",
       "    <tr>\n",
       "      <th>4</th>\n",
       "      <td>nvcomp_ans 3.0.5 -8</td>\n",
       "      <td>5839.57</td>\n",
       "      <td>5692.96</td>\n",
       "      <td>211957760</td>\n",
       "      <td>139864144</td>\n",
       "      <td>65.99</td>\n",
       "      <td>/home/robin/dataset/silesia.tar</td>\n",
       "      <td>16384</td>\n",
       "      <td>nvcomp ans</td>\n",
       "      <td>1.515381</td>\n",
       "    </tr>\n",
       "    <tr>\n",
       "      <th>5</th>\n",
       "      <td>nvcomp_ans 3.0.5 -9</td>\n",
       "      <td>5953.35</td>\n",
       "      <td>5800.60</td>\n",
       "      <td>211957760</td>\n",
       "      <td>135283908</td>\n",
       "      <td>63.83</td>\n",
       "      <td>/home/robin/dataset/silesia.tar</td>\n",
       "      <td>32768</td>\n",
       "      <td>nvcomp ans</td>\n",
       "      <td>1.566661</td>\n",
       "    </tr>\n",
       "    <tr>\n",
       "      <th>...</th>\n",
       "      <td>...</td>\n",
       "      <td>...</td>\n",
       "      <td>...</td>\n",
       "      <td>...</td>\n",
       "      <td>...</td>\n",
       "      <td>...</td>\n",
       "      <td>...</td>\n",
       "      <td>...</td>\n",
       "      <td>...</td>\n",
       "      <td>...</td>\n",
       "    </tr>\n",
       "    <tr>\n",
       "      <th>12</th>\n",
       "      <td>nvcomp_zstd 3.0.5 -14</td>\n",
       "      <td>1210.46</td>\n",
       "      <td>2749.08</td>\n",
       "      <td>211957760</td>\n",
       "      <td>70561872</td>\n",
       "      <td>33.29</td>\n",
       "      <td>/home/robin/dataset/silesia.tar</td>\n",
       "      <td>1048576</td>\n",
       "      <td>nvcomp zstd</td>\n",
       "      <td>3.003905</td>\n",
       "    </tr>\n",
       "    <tr>\n",
       "      <th>13</th>\n",
       "      <td>nvcomp_zstd 3.0.5 -15</td>\n",
       "      <td>765.55</td>\n",
       "      <td>1784.87</td>\n",
       "      <td>211957760</td>\n",
       "      <td>70487688</td>\n",
       "      <td>33.26</td>\n",
       "      <td>/home/robin/dataset/silesia.tar</td>\n",
       "      <td>2097152</td>\n",
       "      <td>nvcomp zstd</td>\n",
       "      <td>3.006615</td>\n",
       "    </tr>\n",
       "    <tr>\n",
       "      <th>14</th>\n",
       "      <td>nvcomp_zstd 3.0.5 -16</td>\n",
       "      <td>449.70</td>\n",
       "      <td>1073.83</td>\n",
       "      <td>211957760</td>\n",
       "      <td>70403190</td>\n",
       "      <td>33.22</td>\n",
       "      <td>/home/robin/dataset/silesia.tar</td>\n",
       "      <td>4194304</td>\n",
       "      <td>nvcomp zstd</td>\n",
       "      <td>3.010235</td>\n",
       "    </tr>\n",
       "    <tr>\n",
       "      <th>15</th>\n",
       "      <td>nvcomp_zstd 3.0.5 -17</td>\n",
       "      <td>254.61</td>\n",
       "      <td>702.72</td>\n",
       "      <td>211957760</td>\n",
       "      <td>70363095</td>\n",
       "      <td>33.20</td>\n",
       "      <td>/home/robin/dataset/silesia.tar</td>\n",
       "      <td>8388608</td>\n",
       "      <td>nvcomp zstd</td>\n",
       "      <td>3.012048</td>\n",
       "    </tr>\n",
       "    <tr>\n",
       "      <th>16</th>\n",
       "      <td>nvcomp_zstd 3.0.5 -18</td>\n",
       "      <td>135.61</td>\n",
       "      <td>380.34</td>\n",
       "      <td>211957760</td>\n",
       "      <td>70345515</td>\n",
       "      <td>33.19</td>\n",
       "      <td>/home/robin/dataset/silesia.tar</td>\n",
       "      <td>16777216</td>\n",
       "      <td>nvcomp zstd</td>\n",
       "      <td>3.012956</td>\n",
       "    </tr>\n",
       "  </tbody>\n",
       "</table>\n",
       "<p>120 rows × 10 columns</p>\n",
       "</div>"
      ],
      "text/plain": [
       "          Compressor name  Compression speed  Decompression speed  \\\n",
       "1     nvcomp_ans 3.0.5 -5            4810.19              4792.34   \n",
       "2     nvcomp_ans 3.0.5 -6            5326.15              5248.82   \n",
       "3     nvcomp_ans 3.0.5 -7            5610.25              5498.29   \n",
       "4     nvcomp_ans 3.0.5 -8            5839.57              5692.96   \n",
       "5     nvcomp_ans 3.0.5 -9            5953.35              5800.60   \n",
       "..                    ...                ...                  ...   \n",
       "12  nvcomp_zstd 3.0.5 -14            1210.46              2749.08   \n",
       "13  nvcomp_zstd 3.0.5 -15             765.55              1784.87   \n",
       "14  nvcomp_zstd 3.0.5 -16             449.70              1073.83   \n",
       "15  nvcomp_zstd 3.0.5 -17             254.61               702.72   \n",
       "16  nvcomp_zstd 3.0.5 -18             135.61               380.34   \n",
       "\n",
       "    Original size  Compressed size  Ratio                         Filename  \\\n",
       "1       211957760        184551816  87.07  /home/robin/dataset/silesia.tar   \n",
       "2       211957760        161362632  76.13  /home/robin/dataset/silesia.tar   \n",
       "3       211957760        149984936  70.76  /home/robin/dataset/silesia.tar   \n",
       "4       211957760        139864144  65.99  /home/robin/dataset/silesia.tar   \n",
       "5       211957760        135283908  63.83  /home/robin/dataset/silesia.tar   \n",
       "..            ...              ...    ...                              ...   \n",
       "12      211957760         70561872  33.29  /home/robin/dataset/silesia.tar   \n",
       "13      211957760         70487688  33.26  /home/robin/dataset/silesia.tar   \n",
       "14      211957760         70403190  33.22  /home/robin/dataset/silesia.tar   \n",
       "15      211957760         70363095  33.20  /home/robin/dataset/silesia.tar   \n",
       "16      211957760         70345515  33.19  /home/robin/dataset/silesia.tar   \n",
       "\n",
       "    Chunk size Compressor parsed name  ratio parsed  \n",
       "1         2048             nvcomp ans      1.148501  \n",
       "2         4096             nvcomp ans      1.313543  \n",
       "3         8192             nvcomp ans      1.413228  \n",
       "4        16384             nvcomp ans      1.515381  \n",
       "5        32768             nvcomp ans      1.566661  \n",
       "..         ...                    ...           ...  \n",
       "12     1048576            nvcomp zstd      3.003905  \n",
       "13     2097152            nvcomp zstd      3.006615  \n",
       "14     4194304            nvcomp zstd      3.010235  \n",
       "15     8388608            nvcomp zstd      3.012048  \n",
       "16    16777216            nvcomp zstd      3.012956  \n",
       "\n",
       "[120 rows x 10 columns]"
      ]
     },
     "execution_count": 7,
     "metadata": {},
     "output_type": "execute_result"
    }
   ],
   "source": [
    "# Read files\n",
    "\n",
    "all_df = pd.DataFrame()\n",
    "\n",
    "if multi_file:\n",
    "    for in_file in interesting_files:\n",
    "        tmp_df = pd.read_csv(in_file)\n",
    "        all_df = pd.concat([all_df, tmp_df])\n",
    "else:\n",
    "    all_df = pd.read_csv(input_file)\n",
    "\n",
    "\n",
    "mask = all_df['Compressor name'].str.contains('emcpy')\n",
    "all_df = all_df[~mask]\n",
    "all_df = fix_chunk_sizes(all_df)\n",
    "\n",
    "all_df['Compressor parsed name'] = all_df['Compressor name'].apply(make_groupable_name)\n",
    "all_df['ratio parsed'] = fix_compression_ratio(all_df['Ratio'])\n",
    "\n",
    "all_df"
   ]
  },
  {
   "cell_type": "code",
   "execution_count": 8,
   "id": "84195c500a944a1",
   "metadata": {
    "ExecuteTime": {
     "end_time": "2024-03-14T10:23:49.431451Z",
     "start_time": "2024-03-14T10:23:48.030852Z"
    },
    "collapsed": false
   },
   "outputs": [
    {
     "data": {
      "application/vnd.plotly.v1+json": {
       "config": {
        "plotlyServerURL": "https://plot.ly"
       },
       "data": [
        {
         "hovertemplate": "Compressor parsed name=nvcomp ans<br>Chunk size=%{x}<br>Decompression speed=%{y}<extra></extra>",
         "legendgroup": "nvcomp ans",
         "line": {
          "color": "#636efa",
          "dash": "solid"
         },
         "marker": {
          "symbol": "circle"
         },
         "mode": "lines+markers",
         "name": "nvcomp ans",
         "orientation": "v",
         "showlegend": true,
         "type": "scatter",
         "x": [
          2048,
          4096,
          8192,
          16384,
          32768,
          65536,
          131072,
          262144,
          524288,
          1048576,
          2097152,
          4194304,
          8388608,
          16777216
         ],
         "xaxis": "x",
         "y": [
          4792.34,
          5248.82,
          5498.29,
          5692.96,
          5800.6,
          5843.9,
          5839.86,
          5822.18,
          5817.08,
          5791.65,
          5767.16,
          5705.09,
          5539.71,
          5217.01
         ],
         "yaxis": "y"
        },
        {
         "hovertemplate": "Compressor parsed name=nvcomp bitcomp default<br>Chunk size=%{x}<br>Decompression speed=%{y}<extra></extra>",
         "legendgroup": "nvcomp bitcomp default",
         "line": {
          "color": "#EF553B",
          "dash": "solid"
         },
         "marker": {
          "symbol": "circle"
         },
         "mode": "lines+markers",
         "name": "nvcomp bitcomp default",
         "orientation": "v",
         "showlegend": true,
         "type": "scatter",
         "x": [
          1024,
          2048,
          4096,
          8192,
          16384,
          32768,
          65536,
          131072,
          262144,
          524288,
          1048576,
          2097152,
          4194304,
          8388608,
          16777216
         ],
         "xaxis": "x",
         "y": [
          4634.98,
          4961.48,
          5103.1,
          5202.48,
          5210.36,
          5209.09,
          5211.46,
          5207.44,
          5190.62,
          5146.02,
          5013.26,
          4777.32,
          4346.28,
          3767.17,
          3045.59
         ],
         "yaxis": "y"
        },
        {
         "hovertemplate": "Compressor parsed name=nvcomp bitcomp sparse<br>Chunk size=%{x}<br>Decompression speed=%{y}<extra></extra>",
         "legendgroup": "nvcomp bitcomp sparse",
         "line": {
          "color": "#00cc96",
          "dash": "solid"
         },
         "marker": {
          "symbol": "circle"
         },
         "mode": "lines+markers",
         "name": "nvcomp bitcomp sparse",
         "orientation": "v",
         "showlegend": true,
         "type": "scatter",
         "x": [
          1024,
          2048,
          4096,
          8192,
          16384,
          32768,
          65536,
          131072,
          262144,
          524288,
          1048576,
          2097152,
          4194304,
          8388608,
          16777216
         ],
         "xaxis": "x",
         "y": [
          4454.51,
          4718.96,
          4940.48,
          5072.75,
          5085.06,
          5092.55,
          5092.71,
          5087.01,
          5069.87,
          5065.18,
          5032.61,
          4982.39,
          4841.71,
          4580.57,
          4149.8
         ],
         "yaxis": "y"
        },
        {
         "hovertemplate": "Compressor parsed name=nvcomp cascaded<br>Chunk size=%{x}<br>Decompression speed=%{y}<extra></extra>",
         "legendgroup": "nvcomp cascaded",
         "line": {
          "color": "#ab63fa",
          "dash": "solid"
         },
         "marker": {
          "symbol": "circle"
         },
         "mode": "lines+markers",
         "name": "nvcomp cascaded",
         "orientation": "v",
         "showlegend": true,
         "type": "scatter",
         "x": [
          64,
          128,
          256,
          512
         ],
         "xaxis": "x",
         "y": [
          4886.79,
          4717.41,
          4694,
          4663.77
         ],
         "yaxis": "y"
        },
        {
         "hovertemplate": "Compressor parsed name=nvcomp deflate compression<br>Chunk size=%{x}<br>Decompression speed=%{y}<extra></extra>",
         "legendgroup": "nvcomp deflate compression",
         "line": {
          "color": "#FFA15A",
          "dash": "solid"
         },
         "marker": {
          "symbol": "circle"
         },
         "mode": "lines+markers",
         "name": "nvcomp deflate compression",
         "orientation": "v",
         "showlegend": true,
         "type": "scatter",
         "x": [
          8192,
          16384,
          32768,
          65536
         ],
         "xaxis": "x",
         "y": [
          5162.69,
          5319,
          5289.03,
          5047.44
         ],
         "yaxis": "y"
        },
        {
         "hovertemplate": "Compressor parsed name=nvcomp deflate throughput<br>Chunk size=%{x}<br>Decompression speed=%{y}<extra></extra>",
         "legendgroup": "nvcomp deflate throughput",
         "line": {
          "color": "#19d3f3",
          "dash": "solid"
         },
         "marker": {
          "symbol": "circle"
         },
         "mode": "lines+markers",
         "name": "nvcomp deflate throughput",
         "orientation": "v",
         "showlegend": true,
         "type": "scatter",
         "x": [
          8192,
          16384,
          32768,
          65536
         ],
         "xaxis": "x",
         "y": [
          4815.65,
          4891.7,
          4823.08,
          4546.58
         ],
         "yaxis": "y"
        },
        {
         "hovertemplate": "Compressor parsed name=nvcomp gdeflate compression<br>Chunk size=%{x}<br>Decompression speed=%{y}<extra></extra>",
         "legendgroup": "nvcomp gdeflate compression",
         "line": {
          "color": "#FF6692",
          "dash": "solid"
         },
         "marker": {
          "symbol": "circle"
         },
         "mode": "lines+markers",
         "name": "nvcomp gdeflate compression",
         "orientation": "v",
         "showlegend": true,
         "type": "scatter",
         "x": [
          8192,
          16384,
          32768,
          65536
         ],
         "xaxis": "x",
         "y": [
          5967.75,
          6074.84,
          6054.77,
          5893.42
         ],
         "yaxis": "y"
        },
        {
         "hovertemplate": "Compressor parsed name=nvcomp gdeflate entropy<br>Chunk size=%{x}<br>Decompression speed=%{y}<extra></extra>",
         "legendgroup": "nvcomp gdeflate entropy",
         "line": {
          "color": "#B6E880",
          "dash": "solid"
         },
         "marker": {
          "symbol": "circle"
         },
         "mode": "lines+markers",
         "name": "nvcomp gdeflate entropy",
         "orientation": "v",
         "showlegend": true,
         "type": "scatter",
         "x": [
          8192,
          16384,
          32768,
          65536
         ],
         "xaxis": "x",
         "y": [
          5241.51,
          5270.42,
          5241.29,
          5097.3
         ],
         "yaxis": "y"
        },
        {
         "hovertemplate": "Compressor parsed name=nvcomp gdeflate throughput<br>Chunk size=%{x}<br>Decompression speed=%{y}<extra></extra>",
         "legendgroup": "nvcomp gdeflate throughput",
         "line": {
          "color": "#FF97FF",
          "dash": "solid"
         },
         "marker": {
          "symbol": "circle"
         },
         "mode": "lines+markers",
         "name": "nvcomp gdeflate throughput",
         "orientation": "v",
         "showlegend": true,
         "type": "scatter",
         "x": [
          8192,
          16384,
          32768,
          65536
         ],
         "xaxis": "x",
         "y": [
          5765.87,
          5815.87,
          5787.94,
          5716.44
         ],
         "yaxis": "y"
        },
        {
         "hovertemplate": "Compressor parsed name=nvcomp lz4<br>Chunk size=%{x}<br>Decompression speed=%{y}<extra></extra>",
         "legendgroup": "nvcomp lz4",
         "line": {
          "color": "#FECB52",
          "dash": "solid"
         },
         "marker": {
          "symbol": "circle"
         },
         "mode": "lines+markers",
         "name": "nvcomp lz4",
         "orientation": "v",
         "showlegend": true,
         "type": "scatter",
         "x": [
          128,
          256,
          512,
          1024,
          2048,
          4096,
          8192,
          16384,
          32768,
          65536,
          131072,
          262144,
          524288,
          1048576,
          2097152,
          4194304,
          8388608,
          16777216
         ],
         "xaxis": "x",
         "y": [
          4334.68,
          4718.23,
          5005.65,
          5178.57,
          5295.38,
          5400.22,
          5461.81,
          5500.39,
          5516.84,
          5390.87,
          4934.37,
          4210.42,
          3234.21,
          2244.6,
          1360.37,
          766.14,
          410.17,
          247.07
         ],
         "yaxis": "y"
        },
        {
         "hovertemplate": "Compressor parsed name=nvcomp snappy<br>Chunk size=%{x}<br>Decompression speed=%{y}<extra></extra>",
         "legendgroup": "nvcomp snappy",
         "line": {
          "color": "#636efa",
          "dash": "solid"
         },
         "marker": {
          "symbol": "circle"
         },
         "mode": "lines+markers",
         "name": "nvcomp snappy",
         "orientation": "v",
         "showlegend": true,
         "type": "scatter",
         "x": [
          128,
          256,
          512,
          1024,
          2048,
          4096,
          8192,
          16384,
          32768,
          65536,
          131072,
          262144,
          524288,
          1048576,
          2097152,
          4194304,
          8388608,
          16777216
         ],
         "xaxis": "x",
         "y": [
          4200.22,
          4601.55,
          4880.9,
          5100.8,
          5251.4,
          5350.94,
          5464.45,
          5515.25,
          5473.01,
          5434.36,
          4994.85,
          4210.25,
          3223.45,
          2197.72,
          1345.73,
          753.66,
          404.53,
          269.01
         ],
         "yaxis": "y"
        },
        {
         "hovertemplate": "Compressor parsed name=nvcomp zstd<br>Chunk size=%{x}<br>Decompression speed=%{y}<extra></extra>",
         "legendgroup": "nvcomp zstd",
         "line": {
          "color": "#EF553B",
          "dash": "solid"
         },
         "marker": {
          "symbol": "circle"
         },
         "mode": "lines+markers",
         "name": "nvcomp zstd",
         "orientation": "v",
         "showlegend": true,
         "type": "scatter",
         "x": [
          512,
          1024,
          2048,
          4096,
          8192,
          16384,
          32768,
          65536,
          131072,
          262144,
          524288,
          1048576,
          2097152,
          4194304,
          8388608,
          16777216
         ],
         "xaxis": "x",
         "y": [
          3041.39,
          3796.51,
          4678.07,
          5286.89,
          5569.29,
          5662,
          5645.65,
          5394.08,
          5078.48,
          4535.56,
          3727.61,
          2749.08,
          1784.87,
          1073.83,
          702.72,
          380.34
         ],
         "yaxis": "y"
        }
       ],
       "layout": {
        "legend": {
         "title": {
          "text": "Compressor parsed name"
         },
         "tracegroupgap": 0
        },
        "template": {
         "data": {
          "bar": [
           {
            "error_x": {
             "color": "#2a3f5f"
            },
            "error_y": {
             "color": "#2a3f5f"
            },
            "marker": {
             "line": {
              "color": "#E5ECF6",
              "width": 0.5
             },
             "pattern": {
              "fillmode": "overlay",
              "size": 10,
              "solidity": 0.2
             }
            },
            "type": "bar"
           }
          ],
          "barpolar": [
           {
            "marker": {
             "line": {
              "color": "#E5ECF6",
              "width": 0.5
             },
             "pattern": {
              "fillmode": "overlay",
              "size": 10,
              "solidity": 0.2
             }
            },
            "type": "barpolar"
           }
          ],
          "carpet": [
           {
            "aaxis": {
             "endlinecolor": "#2a3f5f",
             "gridcolor": "white",
             "linecolor": "white",
             "minorgridcolor": "white",
             "startlinecolor": "#2a3f5f"
            },
            "baxis": {
             "endlinecolor": "#2a3f5f",
             "gridcolor": "white",
             "linecolor": "white",
             "minorgridcolor": "white",
             "startlinecolor": "#2a3f5f"
            },
            "type": "carpet"
           }
          ],
          "choropleth": [
           {
            "colorbar": {
             "outlinewidth": 0,
             "ticks": ""
            },
            "type": "choropleth"
           }
          ],
          "contour": [
           {
            "colorbar": {
             "outlinewidth": 0,
             "ticks": ""
            },
            "colorscale": [
             [
              0,
              "#0d0887"
             ],
             [
              0.1111111111111111,
              "#46039f"
             ],
             [
              0.2222222222222222,
              "#7201a8"
             ],
             [
              0.3333333333333333,
              "#9c179e"
             ],
             [
              0.4444444444444444,
              "#bd3786"
             ],
             [
              0.5555555555555556,
              "#d8576b"
             ],
             [
              0.6666666666666666,
              "#ed7953"
             ],
             [
              0.7777777777777778,
              "#fb9f3a"
             ],
             [
              0.8888888888888888,
              "#fdca26"
             ],
             [
              1,
              "#f0f921"
             ]
            ],
            "type": "contour"
           }
          ],
          "contourcarpet": [
           {
            "colorbar": {
             "outlinewidth": 0,
             "ticks": ""
            },
            "type": "contourcarpet"
           }
          ],
          "heatmap": [
           {
            "colorbar": {
             "outlinewidth": 0,
             "ticks": ""
            },
            "colorscale": [
             [
              0,
              "#0d0887"
             ],
             [
              0.1111111111111111,
              "#46039f"
             ],
             [
              0.2222222222222222,
              "#7201a8"
             ],
             [
              0.3333333333333333,
              "#9c179e"
             ],
             [
              0.4444444444444444,
              "#bd3786"
             ],
             [
              0.5555555555555556,
              "#d8576b"
             ],
             [
              0.6666666666666666,
              "#ed7953"
             ],
             [
              0.7777777777777778,
              "#fb9f3a"
             ],
             [
              0.8888888888888888,
              "#fdca26"
             ],
             [
              1,
              "#f0f921"
             ]
            ],
            "type": "heatmap"
           }
          ],
          "heatmapgl": [
           {
            "colorbar": {
             "outlinewidth": 0,
             "ticks": ""
            },
            "colorscale": [
             [
              0,
              "#0d0887"
             ],
             [
              0.1111111111111111,
              "#46039f"
             ],
             [
              0.2222222222222222,
              "#7201a8"
             ],
             [
              0.3333333333333333,
              "#9c179e"
             ],
             [
              0.4444444444444444,
              "#bd3786"
             ],
             [
              0.5555555555555556,
              "#d8576b"
             ],
             [
              0.6666666666666666,
              "#ed7953"
             ],
             [
              0.7777777777777778,
              "#fb9f3a"
             ],
             [
              0.8888888888888888,
              "#fdca26"
             ],
             [
              1,
              "#f0f921"
             ]
            ],
            "type": "heatmapgl"
           }
          ],
          "histogram": [
           {
            "marker": {
             "pattern": {
              "fillmode": "overlay",
              "size": 10,
              "solidity": 0.2
             }
            },
            "type": "histogram"
           }
          ],
          "histogram2d": [
           {
            "colorbar": {
             "outlinewidth": 0,
             "ticks": ""
            },
            "colorscale": [
             [
              0,
              "#0d0887"
             ],
             [
              0.1111111111111111,
              "#46039f"
             ],
             [
              0.2222222222222222,
              "#7201a8"
             ],
             [
              0.3333333333333333,
              "#9c179e"
             ],
             [
              0.4444444444444444,
              "#bd3786"
             ],
             [
              0.5555555555555556,
              "#d8576b"
             ],
             [
              0.6666666666666666,
              "#ed7953"
             ],
             [
              0.7777777777777778,
              "#fb9f3a"
             ],
             [
              0.8888888888888888,
              "#fdca26"
             ],
             [
              1,
              "#f0f921"
             ]
            ],
            "type": "histogram2d"
           }
          ],
          "histogram2dcontour": [
           {
            "colorbar": {
             "outlinewidth": 0,
             "ticks": ""
            },
            "colorscale": [
             [
              0,
              "#0d0887"
             ],
             [
              0.1111111111111111,
              "#46039f"
             ],
             [
              0.2222222222222222,
              "#7201a8"
             ],
             [
              0.3333333333333333,
              "#9c179e"
             ],
             [
              0.4444444444444444,
              "#bd3786"
             ],
             [
              0.5555555555555556,
              "#d8576b"
             ],
             [
              0.6666666666666666,
              "#ed7953"
             ],
             [
              0.7777777777777778,
              "#fb9f3a"
             ],
             [
              0.8888888888888888,
              "#fdca26"
             ],
             [
              1,
              "#f0f921"
             ]
            ],
            "type": "histogram2dcontour"
           }
          ],
          "mesh3d": [
           {
            "colorbar": {
             "outlinewidth": 0,
             "ticks": ""
            },
            "type": "mesh3d"
           }
          ],
          "parcoords": [
           {
            "line": {
             "colorbar": {
              "outlinewidth": 0,
              "ticks": ""
             }
            },
            "type": "parcoords"
           }
          ],
          "pie": [
           {
            "automargin": true,
            "type": "pie"
           }
          ],
          "scatter": [
           {
            "fillpattern": {
             "fillmode": "overlay",
             "size": 10,
             "solidity": 0.2
            },
            "type": "scatter"
           }
          ],
          "scatter3d": [
           {
            "line": {
             "colorbar": {
              "outlinewidth": 0,
              "ticks": ""
             }
            },
            "marker": {
             "colorbar": {
              "outlinewidth": 0,
              "ticks": ""
             }
            },
            "type": "scatter3d"
           }
          ],
          "scattercarpet": [
           {
            "marker": {
             "colorbar": {
              "outlinewidth": 0,
              "ticks": ""
             }
            },
            "type": "scattercarpet"
           }
          ],
          "scattergeo": [
           {
            "marker": {
             "colorbar": {
              "outlinewidth": 0,
              "ticks": ""
             }
            },
            "type": "scattergeo"
           }
          ],
          "scattergl": [
           {
            "marker": {
             "colorbar": {
              "outlinewidth": 0,
              "ticks": ""
             }
            },
            "type": "scattergl"
           }
          ],
          "scattermapbox": [
           {
            "marker": {
             "colorbar": {
              "outlinewidth": 0,
              "ticks": ""
             }
            },
            "type": "scattermapbox"
           }
          ],
          "scatterpolar": [
           {
            "marker": {
             "colorbar": {
              "outlinewidth": 0,
              "ticks": ""
             }
            },
            "type": "scatterpolar"
           }
          ],
          "scatterpolargl": [
           {
            "marker": {
             "colorbar": {
              "outlinewidth": 0,
              "ticks": ""
             }
            },
            "type": "scatterpolargl"
           }
          ],
          "scatterternary": [
           {
            "marker": {
             "colorbar": {
              "outlinewidth": 0,
              "ticks": ""
             }
            },
            "type": "scatterternary"
           }
          ],
          "surface": [
           {
            "colorbar": {
             "outlinewidth": 0,
             "ticks": ""
            },
            "colorscale": [
             [
              0,
              "#0d0887"
             ],
             [
              0.1111111111111111,
              "#46039f"
             ],
             [
              0.2222222222222222,
              "#7201a8"
             ],
             [
              0.3333333333333333,
              "#9c179e"
             ],
             [
              0.4444444444444444,
              "#bd3786"
             ],
             [
              0.5555555555555556,
              "#d8576b"
             ],
             [
              0.6666666666666666,
              "#ed7953"
             ],
             [
              0.7777777777777778,
              "#fb9f3a"
             ],
             [
              0.8888888888888888,
              "#fdca26"
             ],
             [
              1,
              "#f0f921"
             ]
            ],
            "type": "surface"
           }
          ],
          "table": [
           {
            "cells": {
             "fill": {
              "color": "#EBF0F8"
             },
             "line": {
              "color": "white"
             }
            },
            "header": {
             "fill": {
              "color": "#C8D4E3"
             },
             "line": {
              "color": "white"
             }
            },
            "type": "table"
           }
          ]
         },
         "layout": {
          "annotationdefaults": {
           "arrowcolor": "#2a3f5f",
           "arrowhead": 0,
           "arrowwidth": 1
          },
          "autotypenumbers": "strict",
          "coloraxis": {
           "colorbar": {
            "outlinewidth": 0,
            "ticks": ""
           }
          },
          "colorscale": {
           "diverging": [
            [
             0,
             "#8e0152"
            ],
            [
             0.1,
             "#c51b7d"
            ],
            [
             0.2,
             "#de77ae"
            ],
            [
             0.3,
             "#f1b6da"
            ],
            [
             0.4,
             "#fde0ef"
            ],
            [
             0.5,
             "#f7f7f7"
            ],
            [
             0.6,
             "#e6f5d0"
            ],
            [
             0.7,
             "#b8e186"
            ],
            [
             0.8,
             "#7fbc41"
            ],
            [
             0.9,
             "#4d9221"
            ],
            [
             1,
             "#276419"
            ]
           ],
           "sequential": [
            [
             0,
             "#0d0887"
            ],
            [
             0.1111111111111111,
             "#46039f"
            ],
            [
             0.2222222222222222,
             "#7201a8"
            ],
            [
             0.3333333333333333,
             "#9c179e"
            ],
            [
             0.4444444444444444,
             "#bd3786"
            ],
            [
             0.5555555555555556,
             "#d8576b"
            ],
            [
             0.6666666666666666,
             "#ed7953"
            ],
            [
             0.7777777777777778,
             "#fb9f3a"
            ],
            [
             0.8888888888888888,
             "#fdca26"
            ],
            [
             1,
             "#f0f921"
            ]
           ],
           "sequentialminus": [
            [
             0,
             "#0d0887"
            ],
            [
             0.1111111111111111,
             "#46039f"
            ],
            [
             0.2222222222222222,
             "#7201a8"
            ],
            [
             0.3333333333333333,
             "#9c179e"
            ],
            [
             0.4444444444444444,
             "#bd3786"
            ],
            [
             0.5555555555555556,
             "#d8576b"
            ],
            [
             0.6666666666666666,
             "#ed7953"
            ],
            [
             0.7777777777777778,
             "#fb9f3a"
            ],
            [
             0.8888888888888888,
             "#fdca26"
            ],
            [
             1,
             "#f0f921"
            ]
           ]
          },
          "colorway": [
           "#636efa",
           "#EF553B",
           "#00cc96",
           "#ab63fa",
           "#FFA15A",
           "#19d3f3",
           "#FF6692",
           "#B6E880",
           "#FF97FF",
           "#FECB52"
          ],
          "font": {
           "color": "#2a3f5f"
          },
          "geo": {
           "bgcolor": "white",
           "lakecolor": "white",
           "landcolor": "#E5ECF6",
           "showlakes": true,
           "showland": true,
           "subunitcolor": "white"
          },
          "hoverlabel": {
           "align": "left"
          },
          "hovermode": "closest",
          "mapbox": {
           "style": "light"
          },
          "paper_bgcolor": "white",
          "plot_bgcolor": "#E5ECF6",
          "polar": {
           "angularaxis": {
            "gridcolor": "white",
            "linecolor": "white",
            "ticks": ""
           },
           "bgcolor": "#E5ECF6",
           "radialaxis": {
            "gridcolor": "white",
            "linecolor": "white",
            "ticks": ""
           }
          },
          "scene": {
           "xaxis": {
            "backgroundcolor": "#E5ECF6",
            "gridcolor": "white",
            "gridwidth": 2,
            "linecolor": "white",
            "showbackground": true,
            "ticks": "",
            "zerolinecolor": "white"
           },
           "yaxis": {
            "backgroundcolor": "#E5ECF6",
            "gridcolor": "white",
            "gridwidth": 2,
            "linecolor": "white",
            "showbackground": true,
            "ticks": "",
            "zerolinecolor": "white"
           },
           "zaxis": {
            "backgroundcolor": "#E5ECF6",
            "gridcolor": "white",
            "gridwidth": 2,
            "linecolor": "white",
            "showbackground": true,
            "ticks": "",
            "zerolinecolor": "white"
           }
          },
          "shapedefaults": {
           "line": {
            "color": "#2a3f5f"
           }
          },
          "ternary": {
           "aaxis": {
            "gridcolor": "white",
            "linecolor": "white",
            "ticks": ""
           },
           "baxis": {
            "gridcolor": "white",
            "linecolor": "white",
            "ticks": ""
           },
           "bgcolor": "#E5ECF6",
           "caxis": {
            "gridcolor": "white",
            "linecolor": "white",
            "ticks": ""
           }
          },
          "title": {
           "x": 0.05
          },
          "xaxis": {
           "automargin": true,
           "gridcolor": "white",
           "linecolor": "white",
           "ticks": "",
           "title": {
            "standoff": 15
           },
           "zerolinecolor": "white",
           "zerolinewidth": 2
          },
          "yaxis": {
           "automargin": true,
           "gridcolor": "white",
           "linecolor": "white",
           "ticks": "",
           "title": {
            "standoff": 15
           },
           "zerolinecolor": "white",
           "zerolinewidth": 2
          }
         }
        },
        "title": {
         "text": "nvCOMP compression ratio per chunk size"
        },
        "xaxis": {
         "anchor": "y",
         "domain": [
          0,
          1
         ],
         "title": {
          "text": "Chunk size (Bytes)"
         },
         "type": "log"
        },
        "yaxis": {
         "anchor": "x",
         "domain": [
          0,
          1
         ],
         "title": {
          "text": "Decompression throughput (MB/s)"
         }
        }
       }
      }
     },
     "metadata": {},
     "output_type": "display_data"
    }
   ],
   "source": [
    "fig_compression_ratio = px.line(\n",
    "    all_df,\n",
    "    title=f\"nvCOMP compression ratio per chunk size\", \n",
    "    x=\"Chunk size\",\n",
    "    y=\"Decompression speed\",\n",
    "    color='Compressor parsed name',\n",
    "    log_x=True,\n",
    "    markers=True,\n",
    "    # width=800,\n",
    "    # height=650,\n",
    ")\n",
    "fig_compression_ratio.update_layout(\n",
    "    yaxis_title=\"Decompression throughput (MB/s)\",\n",
    "    xaxis_title=\"Chunk size (Bytes)\",\n",
    ")\n",
    "\n",
    "fig_compression_ratio.show()\n",
    "\n",
    "\n",
    "\n",
    "\n",
    "\n"
   ]
  },
  {
   "cell_type": "code",
   "execution_count": 9,
   "id": "159c7f33",
   "metadata": {},
   "outputs": [
    {
     "data": {
      "application/vnd.plotly.v1+json": {
       "config": {
        "plotlyServerURL": "https://plot.ly"
       },
       "data": [
        {
         "hovertemplate": "Compressor parsed name=nvcomp ans<br>Chunk size=%{x}<br>ratio parsed=%{y}<extra></extra>",
         "legendgroup": "nvcomp ans",
         "line": {
          "color": "#636efa",
          "dash": "solid"
         },
         "marker": {
          "symbol": "circle"
         },
         "mode": "lines+markers",
         "name": "nvcomp ans",
         "orientation": "v",
         "showlegend": true,
         "type": "scatter",
         "x": [
          2048,
          4096,
          8192,
          16384,
          32768,
          65536,
          131072,
          262144,
          524288,
          1048576,
          2097152,
          4194304,
          8388608,
          16777216
         ],
         "xaxis": "x",
         "y": [
          1.1485012059262663,
          1.3135426244581638,
          1.4132278123233464,
          1.5153811183512655,
          1.5666614444618518,
          1.5873015873015872,
          1.5827793605571383,
          1.5757957768673179,
          1.5649452269170578,
          1.5513496742165687,
          1.546551190844417,
          1.521838380763963,
          1.4806040864672785,
          1.4405070584845865
         ],
         "yaxis": "y"
        },
        {
         "hovertemplate": "Compressor parsed name=nvcomp bitcomp default<br>Chunk size=%{x}<br>ratio parsed=%{y}<extra></extra>",
         "legendgroup": "nvcomp bitcomp default",
         "line": {
          "color": "#EF553B",
          "dash": "solid"
         },
         "marker": {
          "symbol": "circle"
         },
         "mode": "lines+markers",
         "name": "nvcomp bitcomp default",
         "orientation": "v",
         "showlegend": true,
         "type": "scatter",
         "x": [
          1024,
          2048,
          4096,
          8192,
          16384,
          32768,
          65536,
          131072,
          262144,
          524288,
          1048576,
          2097152,
          4194304,
          8388608,
          16777216
         ],
         "xaxis": "x",
         "y": [
          1.0993843447669307,
          1.1534025374855825,
          1.182452406290647,
          1.201634222542658,
          1.20598166907863,
          1.208313194780087,
          1.2093360744951023,
          1.2099213551119177,
          1.210214207914801,
          1.2103606874848705,
          1.2103606874848705,
          1.210507202517855,
          1.210507202517855,
          1.210507202517855,
          1.210507202517855
         ],
         "yaxis": "y"
        },
        {
         "hovertemplate": "Compressor parsed name=nvcomp bitcomp sparse<br>Chunk size=%{x}<br>ratio parsed=%{y}<extra></extra>",
         "legendgroup": "nvcomp bitcomp sparse",
         "line": {
          "color": "#00cc96",
          "dash": "solid"
         },
         "marker": {
          "symbol": "circle"
         },
         "mode": "lines+markers",
         "name": "nvcomp bitcomp sparse",
         "orientation": "v",
         "showlegend": true,
         "type": "scatter",
         "x": [
          1024,
          2048,
          4096,
          8192,
          16384,
          32768,
          65536,
          131072,
          262144,
          524288,
          1048576,
          2097152,
          4194304,
          8388608,
          16777216
         ],
         "xaxis": "x",
         "y": [
          1.01667344448963,
          1.0657572205051689,
          1.083658430862592,
          1.12145340361108,
          1.1252391133115787,
          1.127141568981064,
          1.128158844765343,
          1.1285407967498025,
          1.1287955751213454,
          1.1289230074508918,
          1.1290504685559446,
          1.1290504685559446,
          1.1290504685559446,
          1.1290504685559446,
          1.1290504685559446
         ],
         "yaxis": "y"
        },
        {
         "hovertemplate": "Compressor parsed name=nvcomp cascaded<br>Chunk size=%{x}<br>ratio parsed=%{y}<extra></extra>",
         "legendgroup": "nvcomp cascaded",
         "line": {
          "color": "#ab63fa",
          "dash": "solid"
         },
         "marker": {
          "symbol": "circle"
         },
         "mode": "lines+markers",
         "name": "nvcomp cascaded",
         "orientation": "v",
         "showlegend": true,
         "type": "scatter",
         "x": [
          64,
          128,
          256,
          512
         ],
         "xaxis": "x",
         "y": [
          1.0772379618657761,
          1.039176971838304,
          1.0239606799098915,
          1.0094891984655765
         ],
         "yaxis": "y"
        },
        {
         "hovertemplate": "Compressor parsed name=nvcomp deflate compression<br>Chunk size=%{x}<br>ratio parsed=%{y}<extra></extra>",
         "legendgroup": "nvcomp deflate compression",
         "line": {
          "color": "#FFA15A",
          "dash": "solid"
         },
         "marker": {
          "symbol": "circle"
         },
         "mode": "lines+markers",
         "name": "nvcomp deflate compression",
         "orientation": "v",
         "showlegend": true,
         "type": "scatter",
         "x": [
          8192,
          16384,
          32768,
          65536
         ],
         "xaxis": "x",
         "y": [
          2.6048450117218027,
          2.7785495971103082,
          2.9299736302373276,
          3.0395136778115504
         ],
         "yaxis": "y"
        },
        {
         "hovertemplate": "Compressor parsed name=nvcomp deflate throughput<br>Chunk size=%{x}<br>ratio parsed=%{y}<extra></extra>",
         "legendgroup": "nvcomp deflate throughput",
         "line": {
          "color": "#19d3f3",
          "dash": "solid"
         },
         "marker": {
          "symbol": "circle"
         },
         "mode": "lines+markers",
         "name": "nvcomp deflate throughput",
         "orientation": "v",
         "showlegend": true,
         "type": "scatter",
         "x": [
          8192,
          16384,
          32768,
          65536
         ],
         "xaxis": "x",
         "y": [
          2.262443438914027,
          2.3320895522388057,
          2.369106846718787,
          2.3866348448687353
         ],
         "yaxis": "y"
        },
        {
         "hovertemplate": "Compressor parsed name=nvcomp gdeflate compression<br>Chunk size=%{x}<br>ratio parsed=%{y}<extra></extra>",
         "legendgroup": "nvcomp gdeflate compression",
         "line": {
          "color": "#FF6692",
          "dash": "solid"
         },
         "marker": {
          "symbol": "circle"
         },
         "mode": "lines+markers",
         "name": "nvcomp gdeflate compression",
         "orientation": "v",
         "showlegend": true,
         "type": "scatter",
         "x": [
          8192,
          16384,
          32768,
          65536
         ],
         "xaxis": "x",
         "y": [
          2.4557956777996073,
          2.6896180742334588,
          2.8785261945883707,
          3.009328919650918
         ],
         "yaxis": "y"
        },
        {
         "hovertemplate": "Compressor parsed name=nvcomp gdeflate entropy<br>Chunk size=%{x}<br>ratio parsed=%{y}<extra></extra>",
         "legendgroup": "nvcomp gdeflate entropy",
         "line": {
          "color": "#B6E880",
          "dash": "solid"
         },
         "marker": {
          "symbol": "circle"
         },
         "mode": "lines+markers",
         "name": "nvcomp gdeflate entropy",
         "orientation": "v",
         "showlegend": true,
         "type": "scatter",
         "x": [
          8192,
          16384,
          32768,
          65536
         ],
         "xaxis": "x",
         "y": [
          1.5698587127158554,
          1.6020506247997437,
          1.6129032258064515,
          1.6116035455278002
         ],
         "yaxis": "y"
        },
        {
         "hovertemplate": "Compressor parsed name=nvcomp gdeflate throughput<br>Chunk size=%{x}<br>ratio parsed=%{y}<extra></extra>",
         "legendgroup": "nvcomp gdeflate throughput",
         "line": {
          "color": "#FF97FF",
          "dash": "solid"
         },
         "marker": {
          "symbol": "circle"
         },
         "mode": "lines+markers",
         "name": "nvcomp gdeflate throughput",
         "orientation": "v",
         "showlegend": true,
         "type": "scatter",
         "x": [
          8192,
          16384,
          32768,
          65536
         ],
         "xaxis": "x",
         "y": [
          2.1496130696474633,
          2.2696323195642303,
          2.335357309668379,
          2.3685457129322596
         ],
         "yaxis": "y"
        },
        {
         "hovertemplate": "Compressor parsed name=nvcomp lz4<br>Chunk size=%{x}<br>ratio parsed=%{y}<extra></extra>",
         "legendgroup": "nvcomp lz4",
         "line": {
          "color": "#FECB52",
          "dash": "solid"
         },
         "marker": {
          "symbol": "circle"
         },
         "mode": "lines+markers",
         "name": "nvcomp lz4",
         "orientation": "v",
         "showlegend": true,
         "type": "scatter",
         "x": [
          128,
          256,
          512,
          1024,
          2048,
          4096,
          8192,
          16384,
          32768,
          65536,
          131072,
          262144,
          524288,
          1048576,
          2097152,
          4194304,
          8388608,
          16777216
         ],
         "xaxis": "x",
         "y": [
          1.0118385105737124,
          1.1851149561507466,
          1.3351134846461947,
          1.4598540145985401,
          1.5637216575449568,
          1.6600265604249667,
          1.7534630896019638,
          1.8429782528566163,
          1.9131432944327529,
          1.9688915140775745,
          1.9876764062810575,
          1.9996000799840032,
          2.0056157240272765,
          2.008435428800964,
          2.010454362685967,
          2.0108586366378445,
          2.011263073209976,
          2.011667672500503
         ],
         "yaxis": "y"
        },
        {
         "hovertemplate": "Compressor parsed name=nvcomp snappy<br>Chunk size=%{x}<br>ratio parsed=%{y}<extra></extra>",
         "legendgroup": "nvcomp snappy",
         "line": {
          "color": "#636efa",
          "dash": "solid"
         },
         "marker": {
          "symbol": "circle"
         },
         "mode": "lines+markers",
         "name": "nvcomp snappy",
         "orientation": "v",
         "showlegend": true,
         "type": "scatter",
         "x": [
          128,
          256,
          512,
          1024,
          2048,
          4096,
          8192,
          16384,
          32768,
          65536,
          131072,
          262144,
          524288,
          1048576,
          2097152,
          4194304,
          8388608,
          16777216
         ],
         "xaxis": "x",
         "y": [
          1.0359473738734073,
          1.2224938875305624,
          1.3833171946327292,
          1.5220700152207,
          1.6425755584756898,
          1.7406440382941688,
          1.823819077147547,
          1.8957345971563981,
          1.9535065442469233,
          1.9853087155052611,
          2.0008003201280515,
          2.008435428800964,
          2.0124773596297043,
          2.0145044319097503,
          2.0153164046755343,
          2.0161290322580645,
          2.0161290322580645,
          2.016535591853196
         ],
         "yaxis": "y"
        },
        {
         "hovertemplate": "Compressor parsed name=nvcomp zstd<br>Chunk size=%{x}<br>ratio parsed=%{y}<extra></extra>",
         "legendgroup": "nvcomp zstd",
         "line": {
          "color": "#EF553B",
          "dash": "solid"
         },
         "marker": {
          "symbol": "circle"
         },
         "mode": "lines+markers",
         "name": "nvcomp zstd",
         "orientation": "v",
         "showlegend": true,
         "type": "scatter",
         "x": [
          512,
          1024,
          2048,
          4096,
          8192,
          16384,
          32768,
          65536,
          131072,
          262144,
          524288,
          1048576,
          2097152,
          4194304,
          8388608,
          16777216
         ],
         "xaxis": "x",
         "y": [
          1.5822784810126582,
          1.8832391713747645,
          2.1308331557639035,
          2.334812047630166,
          2.512562814070352,
          2.6616981634282673,
          2.7816411682892905,
          2.8686173264486516,
          2.9316915860451482,
          2.973535533749628,
          3.0012004801920766,
          3.0039050765995796,
          3.006614552014432,
          3.0102347983142685,
          3.012048192771084,
          3.0129557095510697
         ],
         "yaxis": "y"
        }
       ],
       "layout": {
        "legend": {
         "title": {
          "text": "Compressor parsed name"
         },
         "tracegroupgap": 0
        },
        "template": {
         "data": {
          "bar": [
           {
            "error_x": {
             "color": "#2a3f5f"
            },
            "error_y": {
             "color": "#2a3f5f"
            },
            "marker": {
             "line": {
              "color": "#E5ECF6",
              "width": 0.5
             },
             "pattern": {
              "fillmode": "overlay",
              "size": 10,
              "solidity": 0.2
             }
            },
            "type": "bar"
           }
          ],
          "barpolar": [
           {
            "marker": {
             "line": {
              "color": "#E5ECF6",
              "width": 0.5
             },
             "pattern": {
              "fillmode": "overlay",
              "size": 10,
              "solidity": 0.2
             }
            },
            "type": "barpolar"
           }
          ],
          "carpet": [
           {
            "aaxis": {
             "endlinecolor": "#2a3f5f",
             "gridcolor": "white",
             "linecolor": "white",
             "minorgridcolor": "white",
             "startlinecolor": "#2a3f5f"
            },
            "baxis": {
             "endlinecolor": "#2a3f5f",
             "gridcolor": "white",
             "linecolor": "white",
             "minorgridcolor": "white",
             "startlinecolor": "#2a3f5f"
            },
            "type": "carpet"
           }
          ],
          "choropleth": [
           {
            "colorbar": {
             "outlinewidth": 0,
             "ticks": ""
            },
            "type": "choropleth"
           }
          ],
          "contour": [
           {
            "colorbar": {
             "outlinewidth": 0,
             "ticks": ""
            },
            "colorscale": [
             [
              0,
              "#0d0887"
             ],
             [
              0.1111111111111111,
              "#46039f"
             ],
             [
              0.2222222222222222,
              "#7201a8"
             ],
             [
              0.3333333333333333,
              "#9c179e"
             ],
             [
              0.4444444444444444,
              "#bd3786"
             ],
             [
              0.5555555555555556,
              "#d8576b"
             ],
             [
              0.6666666666666666,
              "#ed7953"
             ],
             [
              0.7777777777777778,
              "#fb9f3a"
             ],
             [
              0.8888888888888888,
              "#fdca26"
             ],
             [
              1,
              "#f0f921"
             ]
            ],
            "type": "contour"
           }
          ],
          "contourcarpet": [
           {
            "colorbar": {
             "outlinewidth": 0,
             "ticks": ""
            },
            "type": "contourcarpet"
           }
          ],
          "heatmap": [
           {
            "colorbar": {
             "outlinewidth": 0,
             "ticks": ""
            },
            "colorscale": [
             [
              0,
              "#0d0887"
             ],
             [
              0.1111111111111111,
              "#46039f"
             ],
             [
              0.2222222222222222,
              "#7201a8"
             ],
             [
              0.3333333333333333,
              "#9c179e"
             ],
             [
              0.4444444444444444,
              "#bd3786"
             ],
             [
              0.5555555555555556,
              "#d8576b"
             ],
             [
              0.6666666666666666,
              "#ed7953"
             ],
             [
              0.7777777777777778,
              "#fb9f3a"
             ],
             [
              0.8888888888888888,
              "#fdca26"
             ],
             [
              1,
              "#f0f921"
             ]
            ],
            "type": "heatmap"
           }
          ],
          "heatmapgl": [
           {
            "colorbar": {
             "outlinewidth": 0,
             "ticks": ""
            },
            "colorscale": [
             [
              0,
              "#0d0887"
             ],
             [
              0.1111111111111111,
              "#46039f"
             ],
             [
              0.2222222222222222,
              "#7201a8"
             ],
             [
              0.3333333333333333,
              "#9c179e"
             ],
             [
              0.4444444444444444,
              "#bd3786"
             ],
             [
              0.5555555555555556,
              "#d8576b"
             ],
             [
              0.6666666666666666,
              "#ed7953"
             ],
             [
              0.7777777777777778,
              "#fb9f3a"
             ],
             [
              0.8888888888888888,
              "#fdca26"
             ],
             [
              1,
              "#f0f921"
             ]
            ],
            "type": "heatmapgl"
           }
          ],
          "histogram": [
           {
            "marker": {
             "pattern": {
              "fillmode": "overlay",
              "size": 10,
              "solidity": 0.2
             }
            },
            "type": "histogram"
           }
          ],
          "histogram2d": [
           {
            "colorbar": {
             "outlinewidth": 0,
             "ticks": ""
            },
            "colorscale": [
             [
              0,
              "#0d0887"
             ],
             [
              0.1111111111111111,
              "#46039f"
             ],
             [
              0.2222222222222222,
              "#7201a8"
             ],
             [
              0.3333333333333333,
              "#9c179e"
             ],
             [
              0.4444444444444444,
              "#bd3786"
             ],
             [
              0.5555555555555556,
              "#d8576b"
             ],
             [
              0.6666666666666666,
              "#ed7953"
             ],
             [
              0.7777777777777778,
              "#fb9f3a"
             ],
             [
              0.8888888888888888,
              "#fdca26"
             ],
             [
              1,
              "#f0f921"
             ]
            ],
            "type": "histogram2d"
           }
          ],
          "histogram2dcontour": [
           {
            "colorbar": {
             "outlinewidth": 0,
             "ticks": ""
            },
            "colorscale": [
             [
              0,
              "#0d0887"
             ],
             [
              0.1111111111111111,
              "#46039f"
             ],
             [
              0.2222222222222222,
              "#7201a8"
             ],
             [
              0.3333333333333333,
              "#9c179e"
             ],
             [
              0.4444444444444444,
              "#bd3786"
             ],
             [
              0.5555555555555556,
              "#d8576b"
             ],
             [
              0.6666666666666666,
              "#ed7953"
             ],
             [
              0.7777777777777778,
              "#fb9f3a"
             ],
             [
              0.8888888888888888,
              "#fdca26"
             ],
             [
              1,
              "#f0f921"
             ]
            ],
            "type": "histogram2dcontour"
           }
          ],
          "mesh3d": [
           {
            "colorbar": {
             "outlinewidth": 0,
             "ticks": ""
            },
            "type": "mesh3d"
           }
          ],
          "parcoords": [
           {
            "line": {
             "colorbar": {
              "outlinewidth": 0,
              "ticks": ""
             }
            },
            "type": "parcoords"
           }
          ],
          "pie": [
           {
            "automargin": true,
            "type": "pie"
           }
          ],
          "scatter": [
           {
            "fillpattern": {
             "fillmode": "overlay",
             "size": 10,
             "solidity": 0.2
            },
            "type": "scatter"
           }
          ],
          "scatter3d": [
           {
            "line": {
             "colorbar": {
              "outlinewidth": 0,
              "ticks": ""
             }
            },
            "marker": {
             "colorbar": {
              "outlinewidth": 0,
              "ticks": ""
             }
            },
            "type": "scatter3d"
           }
          ],
          "scattercarpet": [
           {
            "marker": {
             "colorbar": {
              "outlinewidth": 0,
              "ticks": ""
             }
            },
            "type": "scattercarpet"
           }
          ],
          "scattergeo": [
           {
            "marker": {
             "colorbar": {
              "outlinewidth": 0,
              "ticks": ""
             }
            },
            "type": "scattergeo"
           }
          ],
          "scattergl": [
           {
            "marker": {
             "colorbar": {
              "outlinewidth": 0,
              "ticks": ""
             }
            },
            "type": "scattergl"
           }
          ],
          "scattermapbox": [
           {
            "marker": {
             "colorbar": {
              "outlinewidth": 0,
              "ticks": ""
             }
            },
            "type": "scattermapbox"
           }
          ],
          "scatterpolar": [
           {
            "marker": {
             "colorbar": {
              "outlinewidth": 0,
              "ticks": ""
             }
            },
            "type": "scatterpolar"
           }
          ],
          "scatterpolargl": [
           {
            "marker": {
             "colorbar": {
              "outlinewidth": 0,
              "ticks": ""
             }
            },
            "type": "scatterpolargl"
           }
          ],
          "scatterternary": [
           {
            "marker": {
             "colorbar": {
              "outlinewidth": 0,
              "ticks": ""
             }
            },
            "type": "scatterternary"
           }
          ],
          "surface": [
           {
            "colorbar": {
             "outlinewidth": 0,
             "ticks": ""
            },
            "colorscale": [
             [
              0,
              "#0d0887"
             ],
             [
              0.1111111111111111,
              "#46039f"
             ],
             [
              0.2222222222222222,
              "#7201a8"
             ],
             [
              0.3333333333333333,
              "#9c179e"
             ],
             [
              0.4444444444444444,
              "#bd3786"
             ],
             [
              0.5555555555555556,
              "#d8576b"
             ],
             [
              0.6666666666666666,
              "#ed7953"
             ],
             [
              0.7777777777777778,
              "#fb9f3a"
             ],
             [
              0.8888888888888888,
              "#fdca26"
             ],
             [
              1,
              "#f0f921"
             ]
            ],
            "type": "surface"
           }
          ],
          "table": [
           {
            "cells": {
             "fill": {
              "color": "#EBF0F8"
             },
             "line": {
              "color": "white"
             }
            },
            "header": {
             "fill": {
              "color": "#C8D4E3"
             },
             "line": {
              "color": "white"
             }
            },
            "type": "table"
           }
          ]
         },
         "layout": {
          "annotationdefaults": {
           "arrowcolor": "#2a3f5f",
           "arrowhead": 0,
           "arrowwidth": 1
          },
          "autotypenumbers": "strict",
          "coloraxis": {
           "colorbar": {
            "outlinewidth": 0,
            "ticks": ""
           }
          },
          "colorscale": {
           "diverging": [
            [
             0,
             "#8e0152"
            ],
            [
             0.1,
             "#c51b7d"
            ],
            [
             0.2,
             "#de77ae"
            ],
            [
             0.3,
             "#f1b6da"
            ],
            [
             0.4,
             "#fde0ef"
            ],
            [
             0.5,
             "#f7f7f7"
            ],
            [
             0.6,
             "#e6f5d0"
            ],
            [
             0.7,
             "#b8e186"
            ],
            [
             0.8,
             "#7fbc41"
            ],
            [
             0.9,
             "#4d9221"
            ],
            [
             1,
             "#276419"
            ]
           ],
           "sequential": [
            [
             0,
             "#0d0887"
            ],
            [
             0.1111111111111111,
             "#46039f"
            ],
            [
             0.2222222222222222,
             "#7201a8"
            ],
            [
             0.3333333333333333,
             "#9c179e"
            ],
            [
             0.4444444444444444,
             "#bd3786"
            ],
            [
             0.5555555555555556,
             "#d8576b"
            ],
            [
             0.6666666666666666,
             "#ed7953"
            ],
            [
             0.7777777777777778,
             "#fb9f3a"
            ],
            [
             0.8888888888888888,
             "#fdca26"
            ],
            [
             1,
             "#f0f921"
            ]
           ],
           "sequentialminus": [
            [
             0,
             "#0d0887"
            ],
            [
             0.1111111111111111,
             "#46039f"
            ],
            [
             0.2222222222222222,
             "#7201a8"
            ],
            [
             0.3333333333333333,
             "#9c179e"
            ],
            [
             0.4444444444444444,
             "#bd3786"
            ],
            [
             0.5555555555555556,
             "#d8576b"
            ],
            [
             0.6666666666666666,
             "#ed7953"
            ],
            [
             0.7777777777777778,
             "#fb9f3a"
            ],
            [
             0.8888888888888888,
             "#fdca26"
            ],
            [
             1,
             "#f0f921"
            ]
           ]
          },
          "colorway": [
           "#636efa",
           "#EF553B",
           "#00cc96",
           "#ab63fa",
           "#FFA15A",
           "#19d3f3",
           "#FF6692",
           "#B6E880",
           "#FF97FF",
           "#FECB52"
          ],
          "font": {
           "color": "#2a3f5f"
          },
          "geo": {
           "bgcolor": "white",
           "lakecolor": "white",
           "landcolor": "#E5ECF6",
           "showlakes": true,
           "showland": true,
           "subunitcolor": "white"
          },
          "hoverlabel": {
           "align": "left"
          },
          "hovermode": "closest",
          "mapbox": {
           "style": "light"
          },
          "paper_bgcolor": "white",
          "plot_bgcolor": "#E5ECF6",
          "polar": {
           "angularaxis": {
            "gridcolor": "white",
            "linecolor": "white",
            "ticks": ""
           },
           "bgcolor": "#E5ECF6",
           "radialaxis": {
            "gridcolor": "white",
            "linecolor": "white",
            "ticks": ""
           }
          },
          "scene": {
           "xaxis": {
            "backgroundcolor": "#E5ECF6",
            "gridcolor": "white",
            "gridwidth": 2,
            "linecolor": "white",
            "showbackground": true,
            "ticks": "",
            "zerolinecolor": "white"
           },
           "yaxis": {
            "backgroundcolor": "#E5ECF6",
            "gridcolor": "white",
            "gridwidth": 2,
            "linecolor": "white",
            "showbackground": true,
            "ticks": "",
            "zerolinecolor": "white"
           },
           "zaxis": {
            "backgroundcolor": "#E5ECF6",
            "gridcolor": "white",
            "gridwidth": 2,
            "linecolor": "white",
            "showbackground": true,
            "ticks": "",
            "zerolinecolor": "white"
           }
          },
          "shapedefaults": {
           "line": {
            "color": "#2a3f5f"
           }
          },
          "ternary": {
           "aaxis": {
            "gridcolor": "white",
            "linecolor": "white",
            "ticks": ""
           },
           "baxis": {
            "gridcolor": "white",
            "linecolor": "white",
            "ticks": ""
           },
           "bgcolor": "#E5ECF6",
           "caxis": {
            "gridcolor": "white",
            "linecolor": "white",
            "ticks": ""
           }
          },
          "title": {
           "x": 0.05
          },
          "xaxis": {
           "automargin": true,
           "gridcolor": "white",
           "linecolor": "white",
           "ticks": "",
           "title": {
            "standoff": 15
           },
           "zerolinecolor": "white",
           "zerolinewidth": 2
          },
          "yaxis": {
           "automargin": true,
           "gridcolor": "white",
           "linecolor": "white",
           "ticks": "",
           "title": {
            "standoff": 15
           },
           "zerolinecolor": "white",
           "zerolinewidth": 2
          }
         }
        },
        "title": {
         "text": "nvCOMP decompression throughput per chunk size"
        },
        "xaxis": {
         "anchor": "y",
         "domain": [
          0,
          1
         ],
         "title": {
          "text": "Chunk size (Bytes)"
         },
         "type": "log"
        },
        "yaxis": {
         "anchor": "x",
         "domain": [
          0,
          1
         ],
         "title": {
          "text": "Compression ratio"
         }
        }
       }
      }
     },
     "metadata": {},
     "output_type": "display_data"
    }
   ],
   "source": [
    "fig_decompression_throughput = px.line(\n",
    "    all_df,\n",
    "    title=f\"nvCOMP decompression throughput per chunk size\", \n",
    "    x=\"Chunk size\",\n",
    "    y=\"ratio parsed\",\n",
    "    color='Compressor parsed name',\n",
    "    log_x=True,\n",
    "    markers=True,\n",
    "    # width=800,\n",
    "    # height=650,\n",
    ")\n",
    "fig_decompression_throughput.update_layout(\n",
    "    yaxis_title=\"Compression ratio\",\n",
    "    xaxis_title=\"Chunk size (Bytes)\",\n",
    ")\n",
    "fig_decompression_throughput.show()"
   ]
  },
  {
   "cell_type": "code",
   "execution_count": 10,
   "id": "283932ec",
   "metadata": {},
   "outputs": [
    {
     "data": {
      "application/vnd.plotly.v1+json": {
       "config": {
        "plotlyServerURL": "https://plot.ly"
       },
       "data": [
        {
         "hovertemplate": "Compressor parsed name=nvcomp ans<br>ratio parsed=%{x}<br>Decompression speed=%{y}<extra></extra>",
         "legendgroup": "nvcomp ans",
         "line": {
          "color": "#636efa",
          "dash": "solid"
         },
         "marker": {
          "symbol": "circle"
         },
         "mode": "lines+markers",
         "name": "nvcomp ans",
         "orientation": "v",
         "showlegend": true,
         "type": "scatter",
         "x": [
          1.1485012059262663,
          1.3135426244581638,
          1.4132278123233464,
          1.5153811183512655,
          1.5666614444618518,
          1.5873015873015872,
          1.5827793605571383,
          1.5757957768673179,
          1.5649452269170578,
          1.5513496742165687,
          1.546551190844417,
          1.521838380763963,
          1.4806040864672785,
          1.4405070584845865
         ],
         "xaxis": "x",
         "y": [
          4792.34,
          5248.82,
          5498.29,
          5692.96,
          5800.6,
          5843.9,
          5839.86,
          5822.18,
          5817.08,
          5791.65,
          5767.16,
          5705.09,
          5539.71,
          5217.01
         ],
         "yaxis": "y"
        },
        {
         "hovertemplate": "Compressor parsed name=nvcomp bitcomp default<br>ratio parsed=%{x}<br>Decompression speed=%{y}<extra></extra>",
         "legendgroup": "nvcomp bitcomp default",
         "line": {
          "color": "#EF553B",
          "dash": "solid"
         },
         "marker": {
          "symbol": "circle"
         },
         "mode": "lines+markers",
         "name": "nvcomp bitcomp default",
         "orientation": "v",
         "showlegend": true,
         "type": "scatter",
         "x": [
          1.0993843447669307,
          1.1534025374855825,
          1.182452406290647,
          1.201634222542658,
          1.20598166907863,
          1.208313194780087,
          1.2093360744951023,
          1.2099213551119177,
          1.210214207914801,
          1.2103606874848705,
          1.2103606874848705,
          1.210507202517855,
          1.210507202517855,
          1.210507202517855,
          1.210507202517855
         ],
         "xaxis": "x",
         "y": [
          4634.98,
          4961.48,
          5103.1,
          5202.48,
          5210.36,
          5209.09,
          5211.46,
          5207.44,
          5190.62,
          5146.02,
          5013.26,
          4777.32,
          4346.28,
          3767.17,
          3045.59
         ],
         "yaxis": "y"
        },
        {
         "hovertemplate": "Compressor parsed name=nvcomp bitcomp sparse<br>ratio parsed=%{x}<br>Decompression speed=%{y}<extra></extra>",
         "legendgroup": "nvcomp bitcomp sparse",
         "line": {
          "color": "#00cc96",
          "dash": "solid"
         },
         "marker": {
          "symbol": "circle"
         },
         "mode": "lines+markers",
         "name": "nvcomp bitcomp sparse",
         "orientation": "v",
         "showlegend": true,
         "type": "scatter",
         "x": [
          1.01667344448963,
          1.0657572205051689,
          1.083658430862592,
          1.12145340361108,
          1.1252391133115787,
          1.127141568981064,
          1.128158844765343,
          1.1285407967498025,
          1.1287955751213454,
          1.1289230074508918,
          1.1290504685559446,
          1.1290504685559446,
          1.1290504685559446,
          1.1290504685559446,
          1.1290504685559446
         ],
         "xaxis": "x",
         "y": [
          4454.51,
          4718.96,
          4940.48,
          5072.75,
          5085.06,
          5092.55,
          5092.71,
          5087.01,
          5069.87,
          5065.18,
          5032.61,
          4982.39,
          4841.71,
          4580.57,
          4149.8
         ],
         "yaxis": "y"
        },
        {
         "hovertemplate": "Compressor parsed name=nvcomp cascaded<br>ratio parsed=%{x}<br>Decompression speed=%{y}<extra></extra>",
         "legendgroup": "nvcomp cascaded",
         "line": {
          "color": "#ab63fa",
          "dash": "solid"
         },
         "marker": {
          "symbol": "circle"
         },
         "mode": "lines+markers",
         "name": "nvcomp cascaded",
         "orientation": "v",
         "showlegend": true,
         "type": "scatter",
         "x": [
          1.0772379618657761,
          1.039176971838304,
          1.0239606799098915,
          1.0094891984655765
         ],
         "xaxis": "x",
         "y": [
          4886.79,
          4717.41,
          4694,
          4663.77
         ],
         "yaxis": "y"
        },
        {
         "hovertemplate": "Compressor parsed name=nvcomp deflate compression<br>ratio parsed=%{x}<br>Decompression speed=%{y}<extra></extra>",
         "legendgroup": "nvcomp deflate compression",
         "line": {
          "color": "#FFA15A",
          "dash": "solid"
         },
         "marker": {
          "symbol": "circle"
         },
         "mode": "lines+markers",
         "name": "nvcomp deflate compression",
         "orientation": "v",
         "showlegend": true,
         "type": "scatter",
         "x": [
          2.6048450117218027,
          2.7785495971103082,
          2.9299736302373276,
          3.0395136778115504
         ],
         "xaxis": "x",
         "y": [
          5162.69,
          5319,
          5289.03,
          5047.44
         ],
         "yaxis": "y"
        },
        {
         "hovertemplate": "Compressor parsed name=nvcomp deflate throughput<br>ratio parsed=%{x}<br>Decompression speed=%{y}<extra></extra>",
         "legendgroup": "nvcomp deflate throughput",
         "line": {
          "color": "#19d3f3",
          "dash": "solid"
         },
         "marker": {
          "symbol": "circle"
         },
         "mode": "lines+markers",
         "name": "nvcomp deflate throughput",
         "orientation": "v",
         "showlegend": true,
         "type": "scatter",
         "x": [
          2.262443438914027,
          2.3320895522388057,
          2.369106846718787,
          2.3866348448687353
         ],
         "xaxis": "x",
         "y": [
          4815.65,
          4891.7,
          4823.08,
          4546.58
         ],
         "yaxis": "y"
        },
        {
         "hovertemplate": "Compressor parsed name=nvcomp gdeflate compression<br>ratio parsed=%{x}<br>Decompression speed=%{y}<extra></extra>",
         "legendgroup": "nvcomp gdeflate compression",
         "line": {
          "color": "#FF6692",
          "dash": "solid"
         },
         "marker": {
          "symbol": "circle"
         },
         "mode": "lines+markers",
         "name": "nvcomp gdeflate compression",
         "orientation": "v",
         "showlegend": true,
         "type": "scatter",
         "x": [
          2.4557956777996073,
          2.6896180742334588,
          2.8785261945883707,
          3.009328919650918
         ],
         "xaxis": "x",
         "y": [
          5967.75,
          6074.84,
          6054.77,
          5893.42
         ],
         "yaxis": "y"
        },
        {
         "hovertemplate": "Compressor parsed name=nvcomp gdeflate entropy<br>ratio parsed=%{x}<br>Decompression speed=%{y}<extra></extra>",
         "legendgroup": "nvcomp gdeflate entropy",
         "line": {
          "color": "#B6E880",
          "dash": "solid"
         },
         "marker": {
          "symbol": "circle"
         },
         "mode": "lines+markers",
         "name": "nvcomp gdeflate entropy",
         "orientation": "v",
         "showlegend": true,
         "type": "scatter",
         "x": [
          1.5698587127158554,
          1.6020506247997437,
          1.6129032258064515,
          1.6116035455278002
         ],
         "xaxis": "x",
         "y": [
          5241.51,
          5270.42,
          5241.29,
          5097.3
         ],
         "yaxis": "y"
        },
        {
         "hovertemplate": "Compressor parsed name=nvcomp gdeflate throughput<br>ratio parsed=%{x}<br>Decompression speed=%{y}<extra></extra>",
         "legendgroup": "nvcomp gdeflate throughput",
         "line": {
          "color": "#FF97FF",
          "dash": "solid"
         },
         "marker": {
          "symbol": "circle"
         },
         "mode": "lines+markers",
         "name": "nvcomp gdeflate throughput",
         "orientation": "v",
         "showlegend": true,
         "type": "scatter",
         "x": [
          2.1496130696474633,
          2.2696323195642303,
          2.335357309668379,
          2.3685457129322596
         ],
         "xaxis": "x",
         "y": [
          5765.87,
          5815.87,
          5787.94,
          5716.44
         ],
         "yaxis": "y"
        },
        {
         "hovertemplate": "Compressor parsed name=nvcomp lz4<br>ratio parsed=%{x}<br>Decompression speed=%{y}<extra></extra>",
         "legendgroup": "nvcomp lz4",
         "line": {
          "color": "#FECB52",
          "dash": "solid"
         },
         "marker": {
          "symbol": "circle"
         },
         "mode": "lines+markers",
         "name": "nvcomp lz4",
         "orientation": "v",
         "showlegend": true,
         "type": "scatter",
         "x": [
          1.0118385105737124,
          1.1851149561507466,
          1.3351134846461947,
          1.4598540145985401,
          1.5637216575449568,
          1.6600265604249667,
          1.7534630896019638,
          1.8429782528566163,
          1.9131432944327529,
          1.9688915140775745,
          1.9876764062810575,
          1.9996000799840032,
          2.0056157240272765,
          2.008435428800964,
          2.010454362685967,
          2.0108586366378445,
          2.011263073209976,
          2.011667672500503
         ],
         "xaxis": "x",
         "y": [
          4334.68,
          4718.23,
          5005.65,
          5178.57,
          5295.38,
          5400.22,
          5461.81,
          5500.39,
          5516.84,
          5390.87,
          4934.37,
          4210.42,
          3234.21,
          2244.6,
          1360.37,
          766.14,
          410.17,
          247.07
         ],
         "yaxis": "y"
        },
        {
         "hovertemplate": "Compressor parsed name=nvcomp snappy<br>ratio parsed=%{x}<br>Decompression speed=%{y}<extra></extra>",
         "legendgroup": "nvcomp snappy",
         "line": {
          "color": "#636efa",
          "dash": "solid"
         },
         "marker": {
          "symbol": "circle"
         },
         "mode": "lines+markers",
         "name": "nvcomp snappy",
         "orientation": "v",
         "showlegend": true,
         "type": "scatter",
         "x": [
          1.0359473738734073,
          1.2224938875305624,
          1.3833171946327292,
          1.5220700152207,
          1.6425755584756898,
          1.7406440382941688,
          1.823819077147547,
          1.8957345971563981,
          1.9535065442469233,
          1.9853087155052611,
          2.0008003201280515,
          2.008435428800964,
          2.0124773596297043,
          2.0145044319097503,
          2.0153164046755343,
          2.0161290322580645,
          2.0161290322580645,
          2.016535591853196
         ],
         "xaxis": "x",
         "y": [
          4200.22,
          4601.55,
          4880.9,
          5100.8,
          5251.4,
          5350.94,
          5464.45,
          5515.25,
          5473.01,
          5434.36,
          4994.85,
          4210.25,
          3223.45,
          2197.72,
          1345.73,
          753.66,
          404.53,
          269.01
         ],
         "yaxis": "y"
        },
        {
         "hovertemplate": "Compressor parsed name=nvcomp zstd<br>ratio parsed=%{x}<br>Decompression speed=%{y}<extra></extra>",
         "legendgroup": "nvcomp zstd",
         "line": {
          "color": "#EF553B",
          "dash": "solid"
         },
         "marker": {
          "symbol": "circle"
         },
         "mode": "lines+markers",
         "name": "nvcomp zstd",
         "orientation": "v",
         "showlegend": true,
         "type": "scatter",
         "x": [
          1.5822784810126582,
          1.8832391713747645,
          2.1308331557639035,
          2.334812047630166,
          2.512562814070352,
          2.6616981634282673,
          2.7816411682892905,
          2.8686173264486516,
          2.9316915860451482,
          2.973535533749628,
          3.0012004801920766,
          3.0039050765995796,
          3.006614552014432,
          3.0102347983142685,
          3.012048192771084,
          3.0129557095510697
         ],
         "xaxis": "x",
         "y": [
          3041.39,
          3796.51,
          4678.07,
          5286.89,
          5569.29,
          5662,
          5645.65,
          5394.08,
          5078.48,
          4535.56,
          3727.61,
          2749.08,
          1784.87,
          1073.83,
          702.72,
          380.34
         ],
         "yaxis": "y"
        }
       ],
       "layout": {
        "legend": {
         "title": {
          "text": "Compressor parsed name"
         },
         "tracegroupgap": 0
        },
        "template": {
         "data": {
          "bar": [
           {
            "error_x": {
             "color": "#2a3f5f"
            },
            "error_y": {
             "color": "#2a3f5f"
            },
            "marker": {
             "line": {
              "color": "#E5ECF6",
              "width": 0.5
             },
             "pattern": {
              "fillmode": "overlay",
              "size": 10,
              "solidity": 0.2
             }
            },
            "type": "bar"
           }
          ],
          "barpolar": [
           {
            "marker": {
             "line": {
              "color": "#E5ECF6",
              "width": 0.5
             },
             "pattern": {
              "fillmode": "overlay",
              "size": 10,
              "solidity": 0.2
             }
            },
            "type": "barpolar"
           }
          ],
          "carpet": [
           {
            "aaxis": {
             "endlinecolor": "#2a3f5f",
             "gridcolor": "white",
             "linecolor": "white",
             "minorgridcolor": "white",
             "startlinecolor": "#2a3f5f"
            },
            "baxis": {
             "endlinecolor": "#2a3f5f",
             "gridcolor": "white",
             "linecolor": "white",
             "minorgridcolor": "white",
             "startlinecolor": "#2a3f5f"
            },
            "type": "carpet"
           }
          ],
          "choropleth": [
           {
            "colorbar": {
             "outlinewidth": 0,
             "ticks": ""
            },
            "type": "choropleth"
           }
          ],
          "contour": [
           {
            "colorbar": {
             "outlinewidth": 0,
             "ticks": ""
            },
            "colorscale": [
             [
              0,
              "#0d0887"
             ],
             [
              0.1111111111111111,
              "#46039f"
             ],
             [
              0.2222222222222222,
              "#7201a8"
             ],
             [
              0.3333333333333333,
              "#9c179e"
             ],
             [
              0.4444444444444444,
              "#bd3786"
             ],
             [
              0.5555555555555556,
              "#d8576b"
             ],
             [
              0.6666666666666666,
              "#ed7953"
             ],
             [
              0.7777777777777778,
              "#fb9f3a"
             ],
             [
              0.8888888888888888,
              "#fdca26"
             ],
             [
              1,
              "#f0f921"
             ]
            ],
            "type": "contour"
           }
          ],
          "contourcarpet": [
           {
            "colorbar": {
             "outlinewidth": 0,
             "ticks": ""
            },
            "type": "contourcarpet"
           }
          ],
          "heatmap": [
           {
            "colorbar": {
             "outlinewidth": 0,
             "ticks": ""
            },
            "colorscale": [
             [
              0,
              "#0d0887"
             ],
             [
              0.1111111111111111,
              "#46039f"
             ],
             [
              0.2222222222222222,
              "#7201a8"
             ],
             [
              0.3333333333333333,
              "#9c179e"
             ],
             [
              0.4444444444444444,
              "#bd3786"
             ],
             [
              0.5555555555555556,
              "#d8576b"
             ],
             [
              0.6666666666666666,
              "#ed7953"
             ],
             [
              0.7777777777777778,
              "#fb9f3a"
             ],
             [
              0.8888888888888888,
              "#fdca26"
             ],
             [
              1,
              "#f0f921"
             ]
            ],
            "type": "heatmap"
           }
          ],
          "heatmapgl": [
           {
            "colorbar": {
             "outlinewidth": 0,
             "ticks": ""
            },
            "colorscale": [
             [
              0,
              "#0d0887"
             ],
             [
              0.1111111111111111,
              "#46039f"
             ],
             [
              0.2222222222222222,
              "#7201a8"
             ],
             [
              0.3333333333333333,
              "#9c179e"
             ],
             [
              0.4444444444444444,
              "#bd3786"
             ],
             [
              0.5555555555555556,
              "#d8576b"
             ],
             [
              0.6666666666666666,
              "#ed7953"
             ],
             [
              0.7777777777777778,
              "#fb9f3a"
             ],
             [
              0.8888888888888888,
              "#fdca26"
             ],
             [
              1,
              "#f0f921"
             ]
            ],
            "type": "heatmapgl"
           }
          ],
          "histogram": [
           {
            "marker": {
             "pattern": {
              "fillmode": "overlay",
              "size": 10,
              "solidity": 0.2
             }
            },
            "type": "histogram"
           }
          ],
          "histogram2d": [
           {
            "colorbar": {
             "outlinewidth": 0,
             "ticks": ""
            },
            "colorscale": [
             [
              0,
              "#0d0887"
             ],
             [
              0.1111111111111111,
              "#46039f"
             ],
             [
              0.2222222222222222,
              "#7201a8"
             ],
             [
              0.3333333333333333,
              "#9c179e"
             ],
             [
              0.4444444444444444,
              "#bd3786"
             ],
             [
              0.5555555555555556,
              "#d8576b"
             ],
             [
              0.6666666666666666,
              "#ed7953"
             ],
             [
              0.7777777777777778,
              "#fb9f3a"
             ],
             [
              0.8888888888888888,
              "#fdca26"
             ],
             [
              1,
              "#f0f921"
             ]
            ],
            "type": "histogram2d"
           }
          ],
          "histogram2dcontour": [
           {
            "colorbar": {
             "outlinewidth": 0,
             "ticks": ""
            },
            "colorscale": [
             [
              0,
              "#0d0887"
             ],
             [
              0.1111111111111111,
              "#46039f"
             ],
             [
              0.2222222222222222,
              "#7201a8"
             ],
             [
              0.3333333333333333,
              "#9c179e"
             ],
             [
              0.4444444444444444,
              "#bd3786"
             ],
             [
              0.5555555555555556,
              "#d8576b"
             ],
             [
              0.6666666666666666,
              "#ed7953"
             ],
             [
              0.7777777777777778,
              "#fb9f3a"
             ],
             [
              0.8888888888888888,
              "#fdca26"
             ],
             [
              1,
              "#f0f921"
             ]
            ],
            "type": "histogram2dcontour"
           }
          ],
          "mesh3d": [
           {
            "colorbar": {
             "outlinewidth": 0,
             "ticks": ""
            },
            "type": "mesh3d"
           }
          ],
          "parcoords": [
           {
            "line": {
             "colorbar": {
              "outlinewidth": 0,
              "ticks": ""
             }
            },
            "type": "parcoords"
           }
          ],
          "pie": [
           {
            "automargin": true,
            "type": "pie"
           }
          ],
          "scatter": [
           {
            "fillpattern": {
             "fillmode": "overlay",
             "size": 10,
             "solidity": 0.2
            },
            "type": "scatter"
           }
          ],
          "scatter3d": [
           {
            "line": {
             "colorbar": {
              "outlinewidth": 0,
              "ticks": ""
             }
            },
            "marker": {
             "colorbar": {
              "outlinewidth": 0,
              "ticks": ""
             }
            },
            "type": "scatter3d"
           }
          ],
          "scattercarpet": [
           {
            "marker": {
             "colorbar": {
              "outlinewidth": 0,
              "ticks": ""
             }
            },
            "type": "scattercarpet"
           }
          ],
          "scattergeo": [
           {
            "marker": {
             "colorbar": {
              "outlinewidth": 0,
              "ticks": ""
             }
            },
            "type": "scattergeo"
           }
          ],
          "scattergl": [
           {
            "marker": {
             "colorbar": {
              "outlinewidth": 0,
              "ticks": ""
             }
            },
            "type": "scattergl"
           }
          ],
          "scattermapbox": [
           {
            "marker": {
             "colorbar": {
              "outlinewidth": 0,
              "ticks": ""
             }
            },
            "type": "scattermapbox"
           }
          ],
          "scatterpolar": [
           {
            "marker": {
             "colorbar": {
              "outlinewidth": 0,
              "ticks": ""
             }
            },
            "type": "scatterpolar"
           }
          ],
          "scatterpolargl": [
           {
            "marker": {
             "colorbar": {
              "outlinewidth": 0,
              "ticks": ""
             }
            },
            "type": "scatterpolargl"
           }
          ],
          "scatterternary": [
           {
            "marker": {
             "colorbar": {
              "outlinewidth": 0,
              "ticks": ""
             }
            },
            "type": "scatterternary"
           }
          ],
          "surface": [
           {
            "colorbar": {
             "outlinewidth": 0,
             "ticks": ""
            },
            "colorscale": [
             [
              0,
              "#0d0887"
             ],
             [
              0.1111111111111111,
              "#46039f"
             ],
             [
              0.2222222222222222,
              "#7201a8"
             ],
             [
              0.3333333333333333,
              "#9c179e"
             ],
             [
              0.4444444444444444,
              "#bd3786"
             ],
             [
              0.5555555555555556,
              "#d8576b"
             ],
             [
              0.6666666666666666,
              "#ed7953"
             ],
             [
              0.7777777777777778,
              "#fb9f3a"
             ],
             [
              0.8888888888888888,
              "#fdca26"
             ],
             [
              1,
              "#f0f921"
             ]
            ],
            "type": "surface"
           }
          ],
          "table": [
           {
            "cells": {
             "fill": {
              "color": "#EBF0F8"
             },
             "line": {
              "color": "white"
             }
            },
            "header": {
             "fill": {
              "color": "#C8D4E3"
             },
             "line": {
              "color": "white"
             }
            },
            "type": "table"
           }
          ]
         },
         "layout": {
          "annotationdefaults": {
           "arrowcolor": "#2a3f5f",
           "arrowhead": 0,
           "arrowwidth": 1
          },
          "autotypenumbers": "strict",
          "coloraxis": {
           "colorbar": {
            "outlinewidth": 0,
            "ticks": ""
           }
          },
          "colorscale": {
           "diverging": [
            [
             0,
             "#8e0152"
            ],
            [
             0.1,
             "#c51b7d"
            ],
            [
             0.2,
             "#de77ae"
            ],
            [
             0.3,
             "#f1b6da"
            ],
            [
             0.4,
             "#fde0ef"
            ],
            [
             0.5,
             "#f7f7f7"
            ],
            [
             0.6,
             "#e6f5d0"
            ],
            [
             0.7,
             "#b8e186"
            ],
            [
             0.8,
             "#7fbc41"
            ],
            [
             0.9,
             "#4d9221"
            ],
            [
             1,
             "#276419"
            ]
           ],
           "sequential": [
            [
             0,
             "#0d0887"
            ],
            [
             0.1111111111111111,
             "#46039f"
            ],
            [
             0.2222222222222222,
             "#7201a8"
            ],
            [
             0.3333333333333333,
             "#9c179e"
            ],
            [
             0.4444444444444444,
             "#bd3786"
            ],
            [
             0.5555555555555556,
             "#d8576b"
            ],
            [
             0.6666666666666666,
             "#ed7953"
            ],
            [
             0.7777777777777778,
             "#fb9f3a"
            ],
            [
             0.8888888888888888,
             "#fdca26"
            ],
            [
             1,
             "#f0f921"
            ]
           ],
           "sequentialminus": [
            [
             0,
             "#0d0887"
            ],
            [
             0.1111111111111111,
             "#46039f"
            ],
            [
             0.2222222222222222,
             "#7201a8"
            ],
            [
             0.3333333333333333,
             "#9c179e"
            ],
            [
             0.4444444444444444,
             "#bd3786"
            ],
            [
             0.5555555555555556,
             "#d8576b"
            ],
            [
             0.6666666666666666,
             "#ed7953"
            ],
            [
             0.7777777777777778,
             "#fb9f3a"
            ],
            [
             0.8888888888888888,
             "#fdca26"
            ],
            [
             1,
             "#f0f921"
            ]
           ]
          },
          "colorway": [
           "#636efa",
           "#EF553B",
           "#00cc96",
           "#ab63fa",
           "#FFA15A",
           "#19d3f3",
           "#FF6692",
           "#B6E880",
           "#FF97FF",
           "#FECB52"
          ],
          "font": {
           "color": "#2a3f5f"
          },
          "geo": {
           "bgcolor": "white",
           "lakecolor": "white",
           "landcolor": "#E5ECF6",
           "showlakes": true,
           "showland": true,
           "subunitcolor": "white"
          },
          "hoverlabel": {
           "align": "left"
          },
          "hovermode": "closest",
          "mapbox": {
           "style": "light"
          },
          "paper_bgcolor": "white",
          "plot_bgcolor": "#E5ECF6",
          "polar": {
           "angularaxis": {
            "gridcolor": "white",
            "linecolor": "white",
            "ticks": ""
           },
           "bgcolor": "#E5ECF6",
           "radialaxis": {
            "gridcolor": "white",
            "linecolor": "white",
            "ticks": ""
           }
          },
          "scene": {
           "xaxis": {
            "backgroundcolor": "#E5ECF6",
            "gridcolor": "white",
            "gridwidth": 2,
            "linecolor": "white",
            "showbackground": true,
            "ticks": "",
            "zerolinecolor": "white"
           },
           "yaxis": {
            "backgroundcolor": "#E5ECF6",
            "gridcolor": "white",
            "gridwidth": 2,
            "linecolor": "white",
            "showbackground": true,
            "ticks": "",
            "zerolinecolor": "white"
           },
           "zaxis": {
            "backgroundcolor": "#E5ECF6",
            "gridcolor": "white",
            "gridwidth": 2,
            "linecolor": "white",
            "showbackground": true,
            "ticks": "",
            "zerolinecolor": "white"
           }
          },
          "shapedefaults": {
           "line": {
            "color": "#2a3f5f"
           }
          },
          "ternary": {
           "aaxis": {
            "gridcolor": "white",
            "linecolor": "white",
            "ticks": ""
           },
           "baxis": {
            "gridcolor": "white",
            "linecolor": "white",
            "ticks": ""
           },
           "bgcolor": "#E5ECF6",
           "caxis": {
            "gridcolor": "white",
            "linecolor": "white",
            "ticks": ""
           }
          },
          "title": {
           "x": 0.05
          },
          "xaxis": {
           "automargin": true,
           "gridcolor": "white",
           "linecolor": "white",
           "ticks": "",
           "title": {
            "standoff": 15
           },
           "zerolinecolor": "white",
           "zerolinewidth": 2
          },
          "yaxis": {
           "automargin": true,
           "gridcolor": "white",
           "linecolor": "white",
           "ticks": "",
           "title": {
            "standoff": 15
           },
           "zerolinecolor": "white",
           "zerolinewidth": 2
          }
         }
        },
        "title": {
         "text": "nvCOMP decompression throughput per compression ratio"
        },
        "xaxis": {
         "anchor": "y",
         "domain": [
          0,
          1
         ],
         "title": {
          "text": "Compression ratio"
         }
        },
        "yaxis": {
         "anchor": "x",
         "domain": [
          0,
          1
         ],
         "title": {
          "text": "Decompression throughput (MB/s)"
         }
        }
       }
      }
     },
     "metadata": {},
     "output_type": "display_data"
    }
   ],
   "source": [
    "fig_throughput_ratio = px.line(\n",
    "    all_df,\n",
    "    title=f\"nvCOMP decompression throughput per compression ratio\", \n",
    "    x=\"ratio parsed\",\n",
    "    y=\"Decompression speed\",\n",
    "    color='Compressor parsed name',\n",
    "    # log_x=True,\n",
    "    markers=True,\n",
    "    # width=800,\n",
    "    # height=650,\n",
    ")\n",
    "fig_throughput_ratio.update_layout(\n",
    "    yaxis_title=\"Decompression throughput (MB/s)\",\n",
    "    xaxis_title=\"Compression ratio\",\n",
    ")\n",
    "fig_throughput_ratio.show()"
   ]
  }
 ],
 "metadata": {
  "kernelspec": {
   "display_name": "Python 3",
   "language": "python",
   "name": "python3"
  },
  "language_info": {
   "codemirror_mode": {
    "name": "ipython",
    "version": 3
   },
   "file_extension": ".py",
   "mimetype": "text/x-python",
   "name": "python",
   "nbconvert_exporter": "python",
   "pygments_lexer": "ipython3",
   "version": "3.10.13"
  }
 },
 "nbformat": 4,
 "nbformat_minor": 5
}
